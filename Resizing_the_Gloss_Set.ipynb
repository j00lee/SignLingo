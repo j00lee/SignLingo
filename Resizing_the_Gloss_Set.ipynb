{
  "nbformat": 4,
  "nbformat_minor": 0,
  "metadata": {
    "colab": {
      "provenance": [],
      "include_colab_link": true
    },
    "kernelspec": {
      "name": "python3",
      "display_name": "Python 3"
    },
    "language_info": {
      "name": "python"
    }
  },
  "cells": [
    {
      "cell_type": "markdown",
      "metadata": {
        "id": "view-in-github",
        "colab_type": "text"
      },
      "source": [
        "<a href=\"https://colab.research.google.com/github/j00lee/SignLingo/blob/main/Resizing_the_Gloss_Set.ipynb\" target=\"_parent\"><img src=\"https://colab.research.google.com/assets/colab-badge.svg\" alt=\"Open In Colab\"/></a>"
      ]
    },
    {
      "cell_type": "markdown",
      "source": [
        "# Resizing the Gloss Vocab Size"
      ],
      "metadata": {
        "id": "-AL37t9W1bWY"
      }
    },
    {
      "cell_type": "code",
      "execution_count": null,
      "metadata": {
        "colab": {
          "base_uri": "https://localhost:8080/"
        },
        "id": "yEpTUJiQ1VS6",
        "outputId": "124a8bb8-9757-438d-954b-af3a580b6da8"
      },
      "outputs": [
        {
          "output_type": "stream",
          "name": "stdout",
          "text": [
            "Drive already mounted at /content/drive; to attempt to forcibly remount, call drive.mount(\"/content/drive\", force_remount=True).\n",
            "📁 Scanning train folder...\n",
            "📁 Scanning val folder...\n",
            "📁 Scanning test folder...\n",
            "\n",
            "🔢 Top 20 glosses by total image count:\n",
            "SHAVE: 68 images\n",
            "ENVELOPE: 63 images\n",
            "STRAWBERRY: 60 images\n",
            "BANANA: 60 images\n",
            "HANDSOME: 59 images\n",
            "ERASE: 59 images\n",
            "NECKLACE: 58 images\n",
            "FORK: 57 images\n",
            "SANDWICH: 55 images\n",
            "COOL: 55 images\n",
            "FOLLOW: 55 images\n",
            "GLOVES: 51 images\n",
            "SHOULDER: 50 images\n",
            "POP: 50 images\n",
            "SCARF: 49 images\n",
            "DOG: 48 images\n",
            "CRY: 48 images\n",
            "STAND: 45 images\n",
            "PATIENT: 42 images\n",
            "TOY: 42 images\n",
            "\n",
            "✅ Saved gloss image counts to: /content/drive/MyDrive/ASL Project/gloss_freq_exploration/total_gloss_image_counts.csv\n"
          ]
        }
      ],
      "source": [
        "import os\n",
        "import re\n",
        "from collections import defaultdict\n",
        "\n",
        "# === Step 1: Mount Google Drive\n",
        "from google.colab import drive\n",
        "drive.mount('/content/drive')\n",
        "\n",
        "# === Step 2: Set up paths\n",
        "base_path = '/content/drive/MyDrive/ASL Project/final_dataset'\n",
        "splits = ['train', 'val', 'test']\n",
        "split_dirs = {split: os.path.join(base_path, split) for split in splits}\n",
        "\n",
        "# === Step 3: Gloss extraction function\n",
        "def extract_cleaned_gloss(filename):\n",
        "    try:\n",
        "        basename = filename.replace('.jpg', '')  # remove extension\n",
        "        gloss_raw = basename.split('-')[1]       # e.g. 'GLASS 3'\n",
        "        gloss_clean = re.sub(r'\\s*\\d+$', '', gloss_raw)  # 'GLASS 3' -> 'GLASS'\n",
        "        return gloss_clean.strip().upper()\n",
        "    except IndexError:\n",
        "        print(f\"⚠️ Could not parse gloss from: {filename}\")\n",
        "        return None\n",
        "\n",
        "# === Step 4: Count images per gloss across splits\n",
        "gloss_counts = defaultdict(int)\n",
        "\n",
        "for split, path in split_dirs.items():\n",
        "    print(f\"📁 Scanning {split} folder...\")\n",
        "    for fname in os.listdir(path):\n",
        "        fpath = os.path.join(path, fname)\n",
        "        if not os.path.isfile(fpath):\n",
        "            continue\n",
        "        gloss = extract_cleaned_gloss(fname)\n",
        "        if gloss:\n",
        "            gloss_counts[gloss] += 1\n",
        "\n",
        "# === Step 5: Convert to sorted list\n",
        "sorted_counts = sorted(gloss_counts.items(), key=lambda x: x[1], reverse=True)\n",
        "\n",
        "# === Step 6: Show sample\n",
        "print(\"\\n🔢 Top 20 glosses by total image count:\")\n",
        "for gloss, count in sorted_counts[:20]:\n",
        "    print(f\"{gloss}: {count} images\")\n",
        "\n",
        "# === Step 7: Save to file\n",
        "import pandas as pd\n",
        "\n",
        "df = pd.DataFrame(sorted_counts, columns=['Gloss', 'ImageCount'])\n",
        "output_path = '/content/drive/MyDrive/ASL Project/gloss_freq_exploration/total_gloss_image_counts.csv'\n",
        "df.to_csv(output_path, index=False)\n",
        "print(f\"\\n✅ Saved gloss image counts to: {output_path}\")\n"
      ]
    },
    {
      "cell_type": "markdown",
      "source": [
        "# Moving the \"clean\" and \"dirty\" images back to one folder"
      ],
      "metadata": {
        "id": "86B7nTx66Xkp"
      }
    },
    {
      "cell_type": "code",
      "source": [
        "import os\n",
        "import shutil\n",
        "from tqdm import tqdm\n",
        "\n",
        "# === Step 1: Mount Google Drive\n",
        "from google.colab import drive\n",
        "drive.mount('/content/drive')\n",
        "\n",
        "# === Step 2: Define paths\n",
        "base_path = '/content/drive/MyDrive/ASL Project/'\n",
        "final_clean_dir = os.path.join(base_path, 'final_dataset')\n",
        "dirty_dir = os.path.join(base_path, 'best_frames')\n",
        "output_base = os.path.join(base_path, 'best_frames')  # merged folders live here\n",
        "\n",
        "# === Step 3: Create merged folders and copy from both sources\n",
        "splits = ['train', 'val', 'test']\n",
        "image_counts = {}\n",
        "\n",
        "for split in splits:\n",
        "    clean_path = os.path.join(final_clean_dir, split)\n",
        "    dirty_path = os.path.join(dirty_dir, f'dirty_{split}')\n",
        "    merged_path = os.path.join(output_base, f'total_{split}')\n",
        "    os.makedirs(merged_path, exist_ok=True)\n",
        "\n",
        "    count = 0\n",
        "    print(f\"\\n📂 Combining clean + dirty into: total_{split}/\")\n",
        "\n",
        "    # Copy clean images\n",
        "    for fname in tqdm(os.listdir(clean_path), desc=f'Copying from final_dataset/{split}'):\n",
        "        src = os.path.join(clean_path, fname)\n",
        "        dst = os.path.join(merged_path, fname)\n",
        "        if os.path.isfile(src):\n",
        "            shutil.copy2(src, dst)\n",
        "            count += 1\n",
        "\n",
        "    # Copy dirty images\n",
        "    for fname in tqdm(os.listdir(dirty_path), desc=f'Copying from dirty_{split}'):\n",
        "        src = os.path.join(dirty_path, fname)\n",
        "        dst = os.path.join(merged_path, fname)\n",
        "        if os.path.isfile(src):\n",
        "            shutil.copy2(src, dst)\n",
        "            count += 1\n",
        "\n",
        "    image_counts[split] = count\n",
        "    print(f\"✅ total_{split}: {count} images\")\n",
        "\n",
        "# === Step 4: Summary\n",
        "print(\"\\n📊 Combined image counts:\")\n",
        "for split in splits:\n",
        "    print(f\"total_{split}: {image_counts[split]} images\")\n"
      ],
      "metadata": {
        "colab": {
          "base_uri": "https://localhost:8080/",
          "height": 456
        },
        "id": "7ZE-eo3g20rq",
        "outputId": "d2ca5df7-9046-4508-f15d-e4508e9255da"
      },
      "execution_count": null,
      "outputs": [
        {
          "output_type": "stream",
          "name": "stdout",
          "text": [
            "Drive already mounted at /content/drive; to attempt to forcibly remount, call drive.mount(\"/content/drive\", force_remount=True).\n",
            "\n",
            "📂 Combining clean + dirty into: total_train/\n"
          ]
        },
        {
          "output_type": "stream",
          "name": "stderr",
          "text": [
            "Copying from final_dataset/train:   1%|          | 121/12149 [01:19<2:11:42,  1.52it/s]\n"
          ]
        },
        {
          "output_type": "error",
          "ename": "KeyboardInterrupt",
          "evalue": "",
          "traceback": [
            "\u001b[0;31m---------------------------------------------------------------------------\u001b[0m",
            "\u001b[0;31mKeyboardInterrupt\u001b[0m                         Traceback (most recent call last)",
            "\u001b[0;32m<ipython-input-3-e8f534403212>\u001b[0m in \u001b[0;36m<cell line: 0>\u001b[0;34m()\u001b[0m\n\u001b[1;32m     31\u001b[0m         \u001b[0mdst\u001b[0m \u001b[0;34m=\u001b[0m \u001b[0mos\u001b[0m\u001b[0;34m.\u001b[0m\u001b[0mpath\u001b[0m\u001b[0;34m.\u001b[0m\u001b[0mjoin\u001b[0m\u001b[0;34m(\u001b[0m\u001b[0mmerged_path\u001b[0m\u001b[0;34m,\u001b[0m \u001b[0mfname\u001b[0m\u001b[0;34m)\u001b[0m\u001b[0;34m\u001b[0m\u001b[0;34m\u001b[0m\u001b[0m\n\u001b[1;32m     32\u001b[0m         \u001b[0;32mif\u001b[0m \u001b[0mos\u001b[0m\u001b[0;34m.\u001b[0m\u001b[0mpath\u001b[0m\u001b[0;34m.\u001b[0m\u001b[0misfile\u001b[0m\u001b[0;34m(\u001b[0m\u001b[0msrc\u001b[0m\u001b[0;34m)\u001b[0m\u001b[0;34m:\u001b[0m\u001b[0;34m\u001b[0m\u001b[0;34m\u001b[0m\u001b[0m\n\u001b[0;32m---> 33\u001b[0;31m             \u001b[0mshutil\u001b[0m\u001b[0;34m.\u001b[0m\u001b[0mcopy2\u001b[0m\u001b[0;34m(\u001b[0m\u001b[0msrc\u001b[0m\u001b[0;34m,\u001b[0m \u001b[0mdst\u001b[0m\u001b[0;34m)\u001b[0m\u001b[0;34m\u001b[0m\u001b[0;34m\u001b[0m\u001b[0m\n\u001b[0m\u001b[1;32m     34\u001b[0m             \u001b[0mcount\u001b[0m \u001b[0;34m+=\u001b[0m \u001b[0;36m1\u001b[0m\u001b[0;34m\u001b[0m\u001b[0;34m\u001b[0m\u001b[0m\n\u001b[1;32m     35\u001b[0m \u001b[0;34m\u001b[0m\u001b[0m\n",
            "\u001b[0;32m/usr/lib/python3.11/shutil.py\u001b[0m in \u001b[0;36mcopy2\u001b[0;34m(src, dst, follow_symlinks)\u001b[0m\n\u001b[1;32m    447\u001b[0m         \u001b[0mdst\u001b[0m \u001b[0;34m=\u001b[0m \u001b[0mos\u001b[0m\u001b[0;34m.\u001b[0m\u001b[0mpath\u001b[0m\u001b[0;34m.\u001b[0m\u001b[0mjoin\u001b[0m\u001b[0;34m(\u001b[0m\u001b[0mdst\u001b[0m\u001b[0;34m,\u001b[0m \u001b[0mos\u001b[0m\u001b[0;34m.\u001b[0m\u001b[0mpath\u001b[0m\u001b[0;34m.\u001b[0m\u001b[0mbasename\u001b[0m\u001b[0;34m(\u001b[0m\u001b[0msrc\u001b[0m\u001b[0;34m)\u001b[0m\u001b[0;34m)\u001b[0m\u001b[0;34m\u001b[0m\u001b[0;34m\u001b[0m\u001b[0m\n\u001b[1;32m    448\u001b[0m     \u001b[0mcopyfile\u001b[0m\u001b[0;34m(\u001b[0m\u001b[0msrc\u001b[0m\u001b[0;34m,\u001b[0m \u001b[0mdst\u001b[0m\u001b[0;34m,\u001b[0m \u001b[0mfollow_symlinks\u001b[0m\u001b[0;34m=\u001b[0m\u001b[0mfollow_symlinks\u001b[0m\u001b[0;34m)\u001b[0m\u001b[0;34m\u001b[0m\u001b[0;34m\u001b[0m\u001b[0m\n\u001b[0;32m--> 449\u001b[0;31m     \u001b[0mcopystat\u001b[0m\u001b[0;34m(\u001b[0m\u001b[0msrc\u001b[0m\u001b[0;34m,\u001b[0m \u001b[0mdst\u001b[0m\u001b[0;34m,\u001b[0m \u001b[0mfollow_symlinks\u001b[0m\u001b[0;34m=\u001b[0m\u001b[0mfollow_symlinks\u001b[0m\u001b[0;34m)\u001b[0m\u001b[0;34m\u001b[0m\u001b[0;34m\u001b[0m\u001b[0m\n\u001b[0m\u001b[1;32m    450\u001b[0m     \u001b[0;32mreturn\u001b[0m \u001b[0mdst\u001b[0m\u001b[0;34m\u001b[0m\u001b[0;34m\u001b[0m\u001b[0m\n\u001b[1;32m    451\u001b[0m \u001b[0;34m\u001b[0m\u001b[0m\n",
            "\u001b[0;32m/usr/lib/python3.11/shutil.py\u001b[0m in \u001b[0;36mcopystat\u001b[0;34m(src, dst, follow_symlinks)\u001b[0m\n\u001b[1;32m    392\u001b[0m                 \u001b[0mos\u001b[0m\u001b[0;34m.\u001b[0m\u001b[0mchmod\u001b[0m\u001b[0;34m(\u001b[0m\u001b[0;34m*\u001b[0m\u001b[0margs\u001b[0m\u001b[0;34m)\u001b[0m\u001b[0;34m\u001b[0m\u001b[0;34m\u001b[0m\u001b[0m\n\u001b[1;32m    393\u001b[0m     \u001b[0;32mtry\u001b[0m\u001b[0;34m:\u001b[0m\u001b[0;34m\u001b[0m\u001b[0;34m\u001b[0m\u001b[0m\n\u001b[0;32m--> 394\u001b[0;31m         \u001b[0m_chmod\u001b[0m\u001b[0;34m(\u001b[0m\u001b[0mdst\u001b[0m\u001b[0;34m,\u001b[0m \u001b[0mmode\u001b[0m\u001b[0;34m,\u001b[0m \u001b[0mfollow_symlinks\u001b[0m\u001b[0;34m=\u001b[0m\u001b[0mfollow\u001b[0m\u001b[0;34m)\u001b[0m\u001b[0;34m\u001b[0m\u001b[0;34m\u001b[0m\u001b[0m\n\u001b[0m\u001b[1;32m    395\u001b[0m     \u001b[0;32mexcept\u001b[0m \u001b[0mNotImplementedError\u001b[0m\u001b[0;34m:\u001b[0m\u001b[0;34m\u001b[0m\u001b[0;34m\u001b[0m\u001b[0m\n\u001b[1;32m    396\u001b[0m         \u001b[0;31m# if we got a NotImplementedError, it's because\u001b[0m\u001b[0;34m\u001b[0m\u001b[0;34m\u001b[0m\u001b[0m\n",
            "\u001b[0;31mKeyboardInterrupt\u001b[0m: "
          ]
        }
      ]
    }
  ]
}