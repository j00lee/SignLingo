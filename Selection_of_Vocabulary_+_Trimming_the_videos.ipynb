{
  "nbformat": 4,
  "nbformat_minor": 0,
  "metadata": {
    "colab": {
      "provenance": [],
      "include_colab_link": true
    },
    "kernelspec": {
      "name": "python3",
      "display_name": "Python 3"
    },
    "language_info": {
      "name": "python"
    }
  },
  "cells": [
    {
      "cell_type": "markdown",
      "metadata": {
        "id": "view-in-github",
        "colab_type": "text"
      },
      "source": [
        "<a href=\"https://colab.research.google.com/github/j00lee/SignLingo/blob/main/Selection_of_Vocabulary_%2B_Trimming_the_videos.ipynb\" target=\"_parent\"><img src=\"https://colab.research.google.com/assets/colab-badge.svg\" alt=\"Open In Colab\"/></a>"
      ]
    },
    {
      "cell_type": "markdown",
      "source": [
        "# Step One: Verify that the selected words list contains enough words to create full sentences"
      ],
      "metadata": {
        "id": "yoX-t2_AD4uC"
      }
    },
    {
      "cell_type": "code",
      "execution_count": null,
      "metadata": {
        "colab": {
          "base_uri": "https://localhost:8080/"
        },
        "id": "urlFGIpHD0Wp",
        "outputId": "43819917-c4dd-4349-eccc-7d2acd3536c8"
      },
      "outputs": [
        {
          "output_type": "stream",
          "name": "stdout",
          "text": [
            "Drive already mounted at /content/drive; to attempt to forcibly remount, call drive.mount(\"/content/drive\", force_remount=True).\n",
            "Valid gloss inputs: 78 out of 7135\n",
            "Percentage: 1.09%\n",
            "\n",
            "Missing glosses from inputs with ≤ 2 missing glosses (excluding punctuation):\n",
            "I: 311\n",
            "WHERE: 74\n",
            "NAME: 57\n",
            "SHE: 55\n",
            "DEAF: 47\n",
            "SIGN: 42\n",
            "FINISH: 42\n",
            "BOOK: 32\n",
            "LIVE: 28\n",
            "HOW-MANY: 28\n",
            "SISTER: 27\n",
            "OLD: 27\n",
            "YESTERDAY: 25\n",
            "HEAR: 25\n",
            "EAT: 23\n",
            "COLOR: 23\n",
            "FAMILY: 22\n",
            "HERE: 22\n",
            "FEEL: 21\n",
            "MAN: 21\n",
            "FAVORITE: 20\n",
            "HOME: 20\n",
            "PLEASE: 18\n",
            "TEACH+AM: 17\n",
            "HOUSE: 17\n",
            "IT: 17\n",
            "WHAT-KIND: 16\n",
            "TEACHER: 16\n",
            "ESCAPE: 15\n",
            "MOVIE: 15\n",
            "BREAK: 15\n",
            "SCHOOL: 15\n",
            "NEED: 15\n",
            "TOMORROW: 15\n",
            "LOVE: 15\n",
            "LEARN: 14\n",
            "PLAY: 14\n",
            "HAPPY: 13\n",
            "MONEY: 13\n",
            "YES: 13\n",
            "WOMAN: 13\n",
            "BIRTHDAY: 13\n",
            "CHILDREN: 13\n",
            "MUST: 13\n",
            "TODAY: 13\n",
            "BEFORE: 13\n",
            "ASL: 12\n",
            "FOOD: 12\n",
            "PAPER: 12\n",
            "HER: 12\n",
            "FATHER: 11\n",
            "NONE: 11\n",
            "THIS: 11\n",
            "LOSE: 11\n",
            "HORSE: 10\n",
            "TABLE: 10\n",
            "WIFE: 10\n",
            "UNDERSTAND: 10\n",
            "NOTHING: 10\n",
            "BOY: 10\n",
            "NICE: 10\n",
            "DO: 10\n",
            "T-V: 10\n",
            "AUNT: 10\n",
            "SICK: 10\n",
            "DAD: 10\n",
            "PRETTY: 9\n",
            "EXERCISE: 9\n",
            "WHY: 9\n",
            "WEATHER: 9\n",
            "LEARN+AM: 9\n",
            "DOCTOR: 9\n",
            "WRITE: 9\n",
            "NOT-YET: 8\n",
            "MEET: 8\n",
            "TIRED: 8\n",
            "GO-TO: 8\n",
            "CHASE: 8\n",
            "T-T-Y: 8\n",
            "AGAIN: 8\n",
            "MOTHER: 8\n",
            "J-O-H-N: 8\n",
            "MOM: 8\n",
            "PARENTS: 8\n",
            "P-A-T: 8\n",
            "HARD-OF-HEAR: 8\n",
            "APPOINTMENT: 8\n",
            "MORNING: 8\n",
            "RAIN: 8\n",
            "MARRY: 8\n",
            "LIBRARY: 7\n",
            "TASTE: 7\n",
            "NIGHT: 7\n",
            "ENJOY: 7\n",
            "SHORT: 7\n",
            "NEVER: 7\n",
            "MAJOR: 7\n",
            "EASY: 7\n",
            "COLD: 7\n",
            "VISIT: 7\n",
            "DRINK: 7\n",
            "MEAN: 7\n",
            "DON'T-LIKE: 7\n",
            "RIGHT: 7\n",
            "DO-DO: 7\n",
            "STUDY: 7\n",
            "TELL: 7\n",
            "WALK: 7\n",
            "DO-WHAT: 7\n",
            "SHOW-UP: 6\n",
            "COOKIE: 6\n",
            "AIRPLANE: 6\n",
            "COLLEGE: 6\n",
            "TRAIN: 6\n",
            "COFFEE: 6\n",
            "STATE: 6\n",
            "DON'T: 6\n",
            "LONG: 6\n",
            "BOYFRIEND: 6\n",
            "HUNGRY: 6\n",
            "STUDENT: 6\n",
            "START: 6\n",
            "DRIVE: 6\n",
            "PIE: 6\n",
            "DON'T-KNOW: 6\n",
            "CANDY: 6\n",
            "UNCLE: 6\n",
            "GRANDFATHER: 6\n",
            "CAN'T: 6\n",
            "SATISFIED: 6\n",
            "MILK: 6\n",
            "SKILL: 6\n",
            "NEXT-WEEK: 6\n",
            "MYSELF: 6\n",
            "LATE: 6\n",
            "ALWAYS: 6\n",
            "SIT: 5\n",
            "PAST: 5\n",
            "TEA: 5\n",
            "HEAR-AID: 5\n",
            "FISH: 5\n",
            "CLOTHES: 5\n",
            "YOURSELF: 5\n",
            "WRONG: 5\n",
            "EXACT: 5\n",
            "IMPORTANT: 5\n",
            "SHOES: 5\n",
            "SHIRT: 5\n",
            "TICKET: 5\n",
            "GRANDMOTHER: 5\n",
            "SHOULD: 5\n",
            "HOT: 5\n",
            "WATCH: 5\n",
            "HUSBAND: 5\n",
            "BATHROOM: 5\n",
            "PICTURE: 5\n",
            "TEST: 5\n",
            "EVERY-DAY: 5\n",
            "I-GIVE-YOU: 5\n",
            "MAYBE: 5\n",
            "TEACH: 5\n",
            "INTERESTING: 5\n",
            "GOOD-FRIEND: 5\n",
            "PREFER: 5\n",
            "FINE: 5\n",
            "BAD: 5\n",
            "SINCE: 5\n",
            "EXPENSIVE: 5\n",
            "SNOW: 5\n",
            "THAT-ONE: 5\n",
            "BLUE: 5\n",
            "PRACTICE: 4\n",
            "SOUP: 4\n",
            "SANDWICH: 4\n",
            "HI: 4\n",
            "HOW-MUCH: 4\n",
            "DON'T-WANT: 4\n",
            "BASEBALL: 4\n",
            "WAIT: 4\n",
            "DIVORCED: 4\n",
            "GRANDPA: 4\n",
            "AWFUL: 4\n",
            "IDEA: 4\n",
            "SHOWER: 4\n",
            "I-MEET-YOU: 4\n",
            "FULL: 4\n",
            "NIECE: 4\n",
            "SAME: 4\n",
            "STRONG: 4\n",
            "FRIENDLY: 4\n",
            "TWO-OF-THEY: 4\n",
            "CALLED: 4\n",
            "STOP: 4\n",
            "GRADUATE: 4\n",
            "RED: 4\n",
            "BICYCLE: 4\n",
            "BABY: 4\n",
            "QUIT: 4\n",
            "PHONE: 4\n",
            "READ: 4\n",
            "PET: 4\n",
            "BORN: 4\n",
            "JOIN: 4\n",
            "YOU-ASK-I: 4\n",
            "OFTEN: 4\n",
            "SELL: 4\n",
            "MAD: 4\n",
            "RESTAURANT: 4\n",
            "SPORTS: 4\n",
            "M-A-R-K: 4\n",
            "GIRL: 4\n",
            "DELICIOUS: 4\n",
            "AGE: 4\n",
            "BEAUTIFUL: 4\n",
            "ALL-RIGHT: 4\n",
            "UP-TILL-NOW: 4\n",
            "BUSY: 4\n",
            "LEAVE: 4\n",
            "SO-SO: 4\n",
            "CHURCH: 4\n",
            "SHY: 4\n",
            "TONIGHT: 4\n",
            "SILLY: 4\n",
            "MEETING: 4\n",
            "MUSIC: 4\n",
            "SINGLE: 4\n",
            "LARGE: 4\n",
            "MEANING: 4\n",
            "MACHINE: 4\n",
            "HAPPEN: 4\n",
            "DRESS: 4\n",
            "PIZZA: 4\n",
            "SOCKS: 4\n",
            "GO-WITH: 4\n",
            "HALLOWEEN: 4\n",
            "COUNTRY: 4\n",
            "SMART: 4\n",
            "TAKE-UP: 4\n",
            "APPEARANCE: 3\n",
            "STUCK: 3\n",
            "WHAT-DO: 3\n",
            "COME-ON: 3\n",
            "SECRET: 3\n",
            "WEEKEND: 3\n",
            "CUTE: 3\n",
            "BELT: 3\n",
            "TOMATO: 3\n",
            "EGG: 3\n",
            "STEAL: 3\n",
            "AGAINST: 3\n",
            "HAMBURGER: 3\n",
            "THANK: 3\n",
            "MARRIED: 3\n",
            "HOSPITAL: 3\n",
            "EVERY-NIGHT: 3\n",
            "TRUE: 3\n",
            "WHAT-TO-DO: 3\n",
            "INTRODUCE: 3\n",
            "SATURDAY: 3\n",
            "CALIFORNIA: 3\n",
            "S-A-R-A-H: 3\n",
            "SPELL: 3\n",
            "LOOK: 3\n",
            "LOOK-LIKE: 3\n",
            "STUBBORN: 3\n",
            "LOUSY: 3\n",
            "YOU-MEET: 3\n",
            "SKI: 3\n",
            "CHAT: 3\n",
            "KIND: 3\n",
            "GIRLFRIEND: 3\n",
            "WASHING-MACHINE: 3\n",
            "HE-MEET-I: 3\n",
            "EXPLAIN: 3\n",
            "HATE: 3\n",
            "HERSELF: 3\n",
            "LIPREAD: 3\n",
            "BIRTH: 3\n",
            "NEWSPAPER: 3\n",
            "HISTORY: 3\n",
            "EMAIL: 3\n",
            "OK: 3\n",
            "S-D: 3\n",
            "SHE-MEET-I: 3\n",
            "SURPRISED: 3\n",
            "C-H-E-S-S: 3\n",
            "P-A-U-L: 3\n",
            "GREEN: 3\n",
            "DIE: 3\n",
            "FLOWER: 3\n",
            "COKE: 3\n",
            "SAY: 3\n",
            "SWIM: 3\n",
            "YOU-SHOW-I: 3\n",
            "DON'T-CARE: 3\n",
            "GROW: 3\n",
            "PREGNANT: 3\n",
            "PRESIDENT: 3\n",
            "ADDRESS: 3\n",
            "ALONE: 3\n",
            "BASKETBALL: 3\n",
            "O-K: 3\n",
            "YOUNG: 3\n",
            "PERSON: 3\n",
            "LONG-AGO: 3\n",
            "OUTSIDE: 3\n",
            "WON'T: 3\n",
            "EIGHT: 3\n",
            "HEAVY: 3\n",
            "CEREAL: 3\n",
            "COMPLAIN: 3\n",
            "GO-THERE: 3\n",
            "WHAT-FOR: 3\n",
            "SEVEN: 3\n",
            "EVERY: 3\n",
            "SMALL: 3\n",
            "SUITCASE: 3\n",
            "COLLECT: 3\n",
            "SPOTS: 3\n",
            "THING: 3\n",
            "PASS: 3\n",
            "FUTURE: 3\n",
            "TALL: 3\n",
            "FAR: 3\n",
            "HOW-LONG: 3\n",
            "BIG: 3\n",
            "YOU-GIVE-I: 3\n",
            "MOVE-HERE: 3\n",
            "SOON: 3\n",
            "BOOKS: 3\n",
            "DETEST: 3\n",
            "ICE-CREAM: 3\n",
            "VACATION: 3\n",
            "GAS: 3\n",
            "FALL: 3\n",
            "TRAVEL: 3\n",
            "HELP: 3\n",
            "WHAT'S-UP: 3\n",
            "P-A-U-L-A: 3\n",
            "OH-I-SEE: 3\n",
            "SUNDAY: 3\n",
            "PANTS: 3\n",
            "BEDROOM: 3\n",
            "SEW: 3\n",
            "COAT: 3\n",
            "COUSIN: 3\n",
            "ONLY: 3\n",
            "UGLY: 3\n",
            "AFRAID: 3\n",
            "THANK-YOU: 3\n",
            "PAY: 3\n",
            "NEAR: 3\n",
            "INDIANA: 3\n",
            "HAIRCUT: 3\n",
            "FIVE: 3\n",
            "HELLO: 3\n",
            "BECOME: 3\n",
            "AFTERNOON: 3\n",
            "ENTHUSIASTIC: 3\n",
            "VOLLEYBALL: 3\n",
            "J-U-L-I-E: 2\n",
            "SAD: 2\n",
            "EVERY-SATURDAY: 2\n",
            "RETIRE: 2\n",
            "STRANGE: 2\n",
            "FEED: 2\n",
            "KANSAS: 2\n",
            "COST: 2\n",
            "BEACH: 2\n",
            "BRIDGE: 2\n",
            "GAME: 2\n",
            "YOU-BORROW-I: 2\n",
            "WROTE: 2\n",
            "TYPE: 2\n",
            "PLAN: 2\n",
            "I-GIVE-HE: 2\n",
            "CHOCOLATE: 2\n",
            "LUNCH: 2\n",
            "FUNNY: 2\n",
            "GET-IN: 2\n",
            "S-I-N-K: 2\n",
            "MEAT: 2\n",
            "LONELY: 2\n",
            "FARMER: 2\n",
            "SLOW: 2\n",
            "OFFICE: 2\n",
            "UMBRELLA: 2\n",
            "QUESTION: 2\n",
            "HABIT: 2\n",
            "VIDEO: 2\n",
            "PENCILS: 2\n",
            "PLAY-FIELD: 2\n",
            "FIVE-OF-THEY: 2\n",
            "WELD: 2\n",
            "SOMEONE: 2\n",
            "TV: 2\n",
            "AMBULANCE: 2\n",
            "QUERY: 2\n",
            "BOSS: 2\n",
            "FLUNK: 2\n",
            "KNOW-THAT: 2\n",
            "HE-SHE: 2\n",
            "COME-HERE: 2\n",
            "S-V-E-N: 2\n",
            "NOTHING-TO-IT: 2\n",
            "O-H-I-O: 2\n",
            "SON: 2\n",
            "NUMBER: 2\n",
            "BATHE: 2\n",
            "HURT: 2\n",
            "TWO-HOUR: 2\n",
            "WHAT'S: 2\n",
            "RECENTLY: 2\n",
            "SCHOOL-FOR-DEAF: 2\n",
            "DUMB: 2\n",
            "ANGRY: 2\n",
            "FINALLY: 2\n",
            "RECOVER: 2\n",
            "PAINT: 2\n",
            "SYMPATHIZE-WITH: 2\n",
            "DISAPPOINT: 2\n",
            "J-O-E: 2\n",
            "LECTURE: 2\n",
            "FRUSTRATE-REPEATEDLY: 2\n",
            "BLOOD-PRESSURE: 2\n",
            "PROGRAM: 2\n",
            "OPPOSITE: 2\n",
            "MEASURE+AM: 2\n",
            "DIVORCE: 2\n",
            "MOM-DAD: 2\n",
            "DISCUSS: 2\n",
            "WAIT-CONTINUALLY: 2\n",
            "HIGH: 2\n",
            "SUCCEED: 2\n",
            "AGREE: 2\n",
            "GET-OFF-SNOWMOBILE: 2\n",
            "BABIES: 2\n",
            "TOOTH: 2\n",
            "G-A-I-L: 2\n",
            "LOOK-AT-I: 2\n",
            "MISS: 2\n",
            "DEGREE: 2\n",
            "LIFE: 2\n",
            "FARM: 2\n",
            "MOTOR: 2\n",
            "DORM: 2\n",
            "PERFORMANCE: 2\n",
            "DESK: 2\n",
            "CLOSE-BOOK: 2\n",
            "BALLS: 2\n",
            "STORE: 2\n",
            "TREES: 2\n",
            "MAGAZINE: 2\n",
            "GLASSES: 2\n",
            "ORDER: 2\n",
            "SEEM: 2\n",
            "GALLAUDET: 2\n",
            "SAME-AS-I: 2\n",
            "SCIENCE: 2\n",
            "SIX: 2\n",
            "EXCITED: 2\n",
            "PUSH: 2\n",
            "T-I-N-A: 2\n",
            "HEIGHT: 2\n",
            "CAREFUL: 2\n",
            "INVOLVED: 2\n",
            "TRAVEL-AROUND: 2\n",
            "SPORT: 2\n",
            "SNOW-BOARD: 2\n",
            "HURRY: 2\n",
            "RIVER: 2\n",
            "L-E-E: 2\n",
            "JOB: 2\n",
            "DON'T-MIND: 2\n",
            "TOOTHBRUSH: 2\n",
            "DINNER: 2\n",
            "REFRIGERATOR: 2\n",
            "CARPENTRY: 2\n",
            "MORE: 2\n",
            "INTERESTED: 2\n",
            "A-P-T: 2\n",
            "SMOOTH: 2\n",
            "FUN: 2\n",
            "REMEMBER: 2\n",
            "OREGON: 2\n",
            "SUGAR: 2\n",
            "COOKIES: 2\n",
            "BREAD: 2\n",
            "SWEET: 2\n",
            "SHE-HELP-YOU: 2\n",
            "WRIST-WATCH: 2\n",
            "ALL-NIGHT: 2\n",
            "FISHING: 2\n",
            "NEIGHBOR: 2\n",
            "CHRISTMAS: 2\n",
            "LEFT: 2\n",
            "EVERYDAY: 2\n",
            "DRAWING: 2\n",
            "WASH-DISHES: 2\n",
            "WINDOW: 2\n",
            "C-A-R-L: 2\n",
            "WONDERFUL: 2\n",
            "YOUNGER: 2\n",
            "HOTDOG: 2\n",
            "KEY: 2\n",
            "PIANO: 2\n",
            "I-PAY-YOU: 2\n",
            "BECOME-ANGRY: 2\n",
            "SURGERY: 2\n",
            "BETTER: 2\n",
            "MEDICINE: 2\n",
            "GOVERNMENT: 2\n",
            "CAPTION: 2\n",
            "CARS: 2\n",
            "WRISTWATCH: 2\n",
            "UPSET: 2\n",
            "DIRTY: 2\n",
            "RECENT: 2\n",
            "MOTORCYCLES: 2\n",
            "FACE: 2\n",
            "F-I-X: 2\n",
            "SIZE: 2\n",
            "CLOSE-DOOR: 2\n",
            "MANY: 2\n",
            "INTERPRET+AM: 2\n",
            "MISCHIEVOUS: 2\n",
            "WOW: 2\n",
            "SOMETIMES: 2\n",
            "TELEPHONES: 2\n",
            "EARLY: 2\n",
            "FOUR-OF-WE: 2\n",
            "MEXICO: 2\n",
            "PICNIC: 2\n",
            "COCHLEAR-IMPLANT: 2\n",
            "LETTER: 2\n",
            "RUN: 2\n",
            "FOLLOW: 2\n",
            "C-F: 2\n",
            "PM: 2\n",
            "SNOWMAN: 2\n",
            "LOUD: 2\n",
            "AIRPLANES: 2\n",
            "SAME-AS-YOU: 2\n",
            "HARD: 2\n",
            "J-A-C-K: 2\n",
            "PAIN: 2\n",
            "MOVE++: 2\n",
            "EQUAL: 2\n",
            "FIRED: 2\n",
            "SELF: 2\n",
            "HEY: 2\n",
            "O-L-G-A: 2\n",
            "SLEEPY: 2\n",
            "TROUBLE: 2\n",
            "GOOD-MORNING: 2\n",
            "GRANDMA: 2\n",
            "REST: 2\n",
            "ICE: 2\n",
            "ORANGES: 2\n",
            "VERY-SOUR: 2\n",
            "WASH-DISH: 2\n",
            "TOILET: 2\n",
            "CHEAP: 2\n",
            "GEOGRAPHY: 2\n",
            "POP: 2\n",
            "EXCUSE: 2\n",
            "TEMPERATURE: 2\n",
            "HAT: 2\n",
            "MOTORCYCLE: 2\n",
            "INTERPRETER: 2\n",
            "HE-HELP-I: 2\n",
            "GARBAGE: 2\n",
            "THROW-OUT: 2\n",
            "MOVE: 2\n",
            "TROPHY: 2\n",
            "BICYCLES: 2\n",
            "COMB: 2\n",
            "CHANGE: 2\n",
            "SICK-CONTINUALLY: 2\n",
            "AUTHOR: 2\n",
            "L-A: 2\n",
            "TYPING: 2\n",
            "DATE: 2\n",
            "S-A-N-D-Y: 2\n",
            "BITE: 2\n",
            "YOU-SUMMON-I: 2\n",
            "SMOKE-CIGARETTE: 2\n",
            "TWO-YEARS-AGO: 2\n",
            "FINGERSPELL: 2\n",
            "BODY: 2\n",
            "IMPROVE: 2\n",
            "MONDAY: 2\n",
            "C-A-B-L-E: 2\n",
            "MUSTACHE: 2\n",
            "VERY-HOT: 2\n",
            "SMOKE: 1\n",
            "S-P-I-L-L: 1\n",
            "LICENSE: 1\n",
            "YOU-LOOK-AT-IT: 1\n",
            "MADE: 1\n",
            "RABBIT: 1\n",
            "STARVING: 1\n",
            "LOOK-AT-CONTINUALLY: 1\n",
            "ONE-HOUR: 1\n",
            "TOOTHPASTE: 1\n",
            "N-I-K-K-I: 1\n",
            "ARRIVE-AT: 1\n",
            "VEGETABLE: 1\n",
            "SMOKE-CONTINUALLY: 1\n",
            "D-V-D: 1\n",
            "BOX: 1\n",
            "IDAHO: 1\n",
            "THUMB-UP: 1\n",
            "NOW-SUMMER: 1\n",
            "RING: 1\n",
            "FRUSTRATE: 1\n",
            "WASHINGTON: 1\n",
            "WRENCH: 1\n",
            "TAKE-CARE: 1\n",
            "K-I-M: 1\n",
            "WAITER: 1\n",
            "CONSTITUTION: 1\n",
            "NOON: 1\n",
            "PICKLE: 1\n",
            "CLEAR: 1\n",
            "MINNESOTA: 1\n",
            "MISSOURI: 1\n",
            "YOU-ASK-SHE: 1\n",
            "LAWYER: 1\n",
            "EARN: 1\n",
            "LAST-MONTH: 1\n",
            "DRILL: 1\n",
            "EXPERIENCE: 1\n",
            "IMPRESSED: 1\n",
            "HIMSELF: 1\n",
            "SHE-BAWL-OUT-I: 1\n",
            "REPEATEDLY: 1\n",
            "WASH: 1\n",
            "PSU: 1\n",
            "A-S-P-I-R-I-N: 1\n",
            "WASH-LAUNDRY: 1\n",
            "SENTENCE: 1\n",
            "COUCH: 1\n",
            "GET-ALONG: 1\n",
            "VERY-LAZY: 1\n",
            "DIFFERENT: 1\n",
            "CAKE: 1\n",
            "VERY-LOUD: 1\n",
            "E-D-W-A-R-D: 1\n",
            "BLOND: 1\n",
            "SAILBOAT: 1\n",
            "YOU-TAKE-HE: 1\n",
            "Z-O-O: 1\n",
            "J-O-S-E-'-S: 1\n",
            "AVAILABLE: 1\n",
            "TOGETHER-STEADY: 1\n",
            "SUPPOSE: 1\n",
            "LEARN++: 1\n",
            "FRENCH: 1\n",
            "I-ASK-HE-REPEATEDLY: 1\n",
            "SITDOWN: 1\n",
            "TENNESSEE: 1\n",
            "UTAH: 1\n",
            "VERY-GOOD: 1\n",
            "ARROGANT: 1\n",
            "BEST: 1\n",
            "GO-AHEAD: 1\n",
            "HANDSHAKE: 1\n",
            "DOGS: 1\n",
            "I-TELL-HE-REPEATEDLY: 1\n",
            "HIT: 1\n",
            "DEPART: 1\n",
            "PLUS: 1\n",
            "I-N-D: 1\n",
            "OPEN-THE-WINDOW: 1\n",
            "MANIPULATE: 1\n",
            "FRUSTRATED: 1\n",
            "OLD-FIFTEEN: 1\n",
            "SORRY: 1\n",
            "PSYCHOLOGY: 1\n",
            "B-O-B-B-Y: 1\n",
            "SELL-AM: 1\n",
            "HE-INFLUENCE-I: 1\n",
            "A-U-G: 1\n",
            "MONDAYS: 1\n",
            "THANKSGIVING++: 1\n",
            "PAY-ATTENTION: 1\n",
            "HIGH-SCHOOL: 1\n",
            "I-CHOOSE-HE: 1\n",
            "VERY-STRANGE: 1\n",
            "PENCIL: 1\n",
            "TOOTHACHE: 1\n",
            "I-BAWL-OUT-HE: 1\n",
            "REMOTE-CONTORL: 1\n",
            "PANT: 1\n",
            "MAILMAN: 1\n",
            "GEORGIA: 1\n",
            "KENTUCKY: 1\n",
            "DISAGREE: 1\n",
            "WHAT'S-WRONG: 1\n",
            "YOU-LOAN-ME: 1\n",
            "MIND-YOU: 1\n",
            "EVERY-TUESDAY: 1\n",
            "ALL-DAY: 1\n",
            "HEADACHE-CONTINUALLY: 1\n",
            "I-ACCOMPANY-YOU: 1\n",
            "INFORM: 1\n",
            "BEEN: 1\n",
            "SEE-LATER: 1\n",
            "INCREASE: 1\n",
            "STAY: 1\n",
            "UNIVERSAL: 1\n",
            "MLK: 1\n",
            "SUN: 1\n",
            "NINE: 1\n",
            "WEEK: 1\n",
            "TELEPHONE-REPEATEDLY: 1\n",
            "L-I-N-D-A: 1\n",
            "TIE: 1\n",
            "B-U-S-Y: 1\n",
            "TWO-WE: 1\n",
            "DRIVE-THERE: 1\n",
            "CHICKEN: 1\n",
            "SWEET,: 1\n",
            "K-A-T-H-Y: 1\n",
            "PROUD: 1\n",
            "J-O-S-E: 1\n",
            "QUIET: 1\n",
            "WASH-FACE: 1\n",
            "GIVE-UP: 1\n",
            "RAISED: 1\n",
            "LANGUAGE: 1\n",
            "SKINNY: 1\n",
            "K-R-I-S: 1\n",
            "LAUGH: 1\n",
            "SEPARATED: 1\n",
            "VERY-CLEAR: 1\n",
            "LOOK-FOR: 1\n",
            "LONG-TIME-AGO: 1\n",
            "NORMAL: 1\n",
            "BUSY-BUSY: 1\n",
            "BOTH++: 1\n",
            "H-E-A-R-I-N-G: 1\n",
            "T-U-B: 1\n",
            "PLAY-AROUND: 1\n",
            "X-R-A-Y: 1\n",
            "MUST-NEED: 1\n",
            "I-LOOK-AT-HIM: 1\n",
            "CARELESS-REPEATEDLY: 1\n",
            "FRESHMAN: 1\n",
            "SOPHOMORE: 1\n",
            "W-A-S-H: 1\n",
            "TROPHIES: 1\n",
            "RESPONSIBILITY: 1\n",
            "REFUSE: 1\n",
            "MEASURE: 1\n",
            "OCEAN: 1\n",
            "POLITICS: 1\n",
            "CLOSER: 1\n",
            "WASH-CLOTHES: 1\n",
            "ROCKET: 1\n",
            "C-O-U-N-T-Y: 1\n",
            "J-E-N-N-I-F-E-R: 1\n",
            "OLD-TWENTY-FIVE: 1\n",
            "ALRIGHT: 1\n",
            "VERY-NICE: 1\n",
            "FIFTEEN-DOLLAR: 1\n",
            "B-A-R: 1\n",
            "DECORATED: 1\n",
            "ROTTEN: 1\n",
            "WORRY: 1\n",
            "OLD-BEFORE: 1\n",
            "KISS: 1\n",
            "ANIMAL: 1\n",
            "TWENTY-TWO: 1\n",
            "HAIR-DRYER: 1\n",
            "THEY-INFORM-EACH-OTHER: 1\n",
            "TWO-HOURS: 1\n",
            "DANCE+AM: 1\n",
            "FAIR: 1\n",
            "HAMMER: 1\n",
            "FAT: 1\n",
            "WATER-FOUNTAIN: 1\n",
            "DALLAS: 1\n",
            "PLACE: 1\n",
            "NINTH: 1\n",
            "IS: 1\n",
            "NEXT: 1\n",
            "FIX: 1\n",
            "SMELLS: 1\n",
            "LAPTOP: 1\n",
            "MEET-HE: 1\n",
            "THEY-LOOK-EACH-OTHER: 1\n",
            "COLUMBUS: 1\n",
            "WHITE: 1\n",
            "YOU-BORROW-EACH-OF-WE-STOP-IT: 1\n",
            "HAPPEN++: 1\n",
            "I-KNOW-YOU: 1\n",
            "PLENTY: 1\n",
            "WHY-NOT: 1\n",
            "HOCKEY: 1\n",
            "TWO-WEEK-AGO: 1\n",
            "SHOCKED: 1\n",
            "++: 1\n",
            "OPEN-BOOK: 1\n",
            "V-E-T-E-R-A-N-S: 1\n",
            "PARADE: 1\n",
            "B-A-N-K: 1\n",
            "FRUSTRATE-CONTINUALLY: 1\n",
            "BILL: 1\n",
            "JUMPSTART: 1\n",
            "TAKEOFF: 1\n",
            "PEAR: 1\n",
            "MEET-REPEATEDLY: 1\n",
            "LAZY-EST: 1\n",
            "SQUIRRELS: 1\n",
            "HE-GIVE-SHE: 1\n",
            "WE-THREE: 1\n",
            "NEXT-TUESDAY: 1\n",
            "YOU-ASK-IT: 1\n",
            "MOSQUITO: 1\n",
            "H-Y-B-R-I-D: 1\n",
            "T-R-U-C-K: 1\n",
            "T-E-N-N: 1\n",
            "BIKE: 1\n",
            "ALGEBRA: 1\n",
            "GARAGE: 1\n",
            "OLD-SIXTY-TWO: 1\n",
            "PEACH: 1\n",
            "WEBCAM: 1\n",
            "OLD-TWENTY-NINE: 1\n",
            "RESTROOM: 1\n",
            "I-SHOW-YOU-TWO: 1\n",
            "LUCKY: 1\n",
            "S-C-I-E-N-T-I-S-T: 1\n",
            "GOOD-ENOUGH: 1\n",
            "FIVE-MINUTE: 1\n",
            "MISTAKE-REPEATEDLY: 1\n",
            "YOU-TELL-I: 1\n",
            "SERVICE: 1\n",
            "G-E-O-R-G-E: 1\n",
            "PUT-GAS-IN-REPEATEDLY: 1\n",
            "PROJECT: 1\n",
            "DRIVE-TO: 1\n",
            "DEODORANT: 1\n",
            "FROM-THEN-ON: 1\n",
            "SKILLS: 1\n",
            "A-C-T-O-R: 1\n",
            "I-SHOW-YOU: 1\n",
            "DUCK: 1\n",
            "BLOW-NOSE: 1\n",
            "TAKE-TURN: 1\n",
            "SCARF: 1\n",
            "TATTLE: 1\n",
            "FIREFIGHTER: 1\n",
            "BRAVE: 1\n",
            "TOPIC: 1\n",
            "LIBRARIAN: 1\n",
            "BE-PATIENT: 1\n",
            "SCISSORS: 1\n",
            "YOU-LEND-I: 1\n",
            "EACH-OTHER: 1\n",
            "ALABAMA: 1\n",
            "ARKANSAS: 1\n",
            "T-H-R-O-U-G-H: 1\n",
            "YOU-TAKE-I: 1\n",
            "CAFETERIA: 1\n",
            "THINK-GONE: 1\n",
            "DO+++: 1\n",
            "WHERE?: 1\n",
            "SIX-FIFTEEN: 1\n",
            "LIGHT-WEIGHT: 1\n",
            "SMELL: 1\n",
            "SENATE+AM: 1\n",
            "END: 1\n",
            "T-H-A-N-K-S: 1\n",
            "SUSPEND: 1\n",
            "INFORM-YOU: 1\n",
            "TOSS-TURN: 1\n",
            "MISCHIEVOUS-REPEATEDLY: 1\n",
            "RESIDENTIAL-SCHOOL: 1\n",
            "GOVERNMENT+AM: 1\n",
            "I-INVITE-EACH-OF-THEY: 1\n",
            "WEDDING: 1\n",
            "D-O-N: 1\n",
            "TEN-CENT: 1\n",
            "MANAGE: 1\n",
            "GIVE-YOU: 1\n",
            "TWO-DAYS: 1\n",
            "ZEBRA: 1\n",
            "BEER: 1\n",
            "VARIOUS: 1\n",
            "NEPHEW: 1\n",
            "BUZZ-CUT: 1\n",
            "HOUSTON: 1\n",
            "GOAL: 1\n",
            "SET: 1\n",
            "MEMORIZE: 1\n",
            "RELIEVED: 1\n",
            "MISTAKE: 1\n",
            "LIGHTS-OFF: 1\n",
            "DONE: 1\n",
            "TIGER: 1\n",
            "INDEPENDENT: 1\n",
            "I-FLY-TO: 1\n",
            "LOS-ANGELES: 1\n",
            "CAMP: 1\n",
            "GIRAFFE: 1\n",
            "A-LITTLE: 1\n",
            "VOTE: 1\n",
            "WIN: 1\n",
            "T-H-E-Y: 1\n",
            "CAREFUL-CONTINUALLY: 1\n",
            "ACCOMPANY: 1\n",
            "DRAMA: 1\n",
            "JOIN-I: 1\n",
            "OWL: 1\n",
            "TIME-THREE: 1\n",
            "TRASH: 1\n",
            "PUT-IN: 1\n",
            "VERY-ANGRY: 1\n",
            "EXPECT: 1\n",
            "I-BORROW: 1\n",
            "TWO-OF-WE: 1\n",
            "RAPID: 1\n",
            "CRACK: 1\n",
            "HE-LOOK-AT-I: 1\n",
            "REGULAR: 1\n",
            "YOU-CALL: 1\n",
            "WATER: 1\n",
            "PUMPKIN: 1\n",
            "TWENTY: 1\n",
            "DOLLAR: 1\n",
            "H-E-N-R-Y: 1\n",
            "NEXT-MONTH: 1\n",
            "C-H-A-D: 1\n",
            "CABINET: 1\n",
            "SHUT-DOWN: 1\n",
            "MUSTARD: 1\n",
            "THIRTY-FOUR: 1\n",
            "OH-GEE: 1\n",
            "BROKE: 1\n",
            "GOING: 1\n",
            "QUERY-I: 1\n",
            "CONGRESS-WOMAN: 1\n",
            "NICKEL: 1\n",
            "YOU-MEET-I: 1\n",
            "DECISION: 1\n",
            "SURE: 1\n",
            "NECKLACE: 1\n",
            "GOLD: 1\n",
            "M-I-K-E: 1\n",
            "PARTY: 1\n",
            "SOFTBALL: 1\n",
            "THOSE-TWO: 1\n",
            "BROTHERS: 1\n",
            "IHE: 1\n",
            "AMERICAN: 1\n",
            "OLDEST: 1\n",
            "TELL-YOU: 1\n",
            "MASSACHUSETTS: 1\n",
            "NEBRASKA: 1\n",
            "WISCONSIN: 1\n",
            "VIRGINIA: 1\n",
            "I-INFORM-YOU: 1\n",
            "FOR-FOR: 1\n",
            "VERY-EXPENSIVE: 1\n",
            "KID: 1\n",
            "FEELING: 1\n",
            "TIME-FIVE: 1\n",
            "SHIFT: 1\n",
            "USED-UP: 1\n",
            "S-W: 1\n",
            "ROOM: 1\n",
            "YOU-PAGE-SHE: 1\n",
            "B-A-R-B: 1\n",
            "EACH-OF-THEM-GIVES-I: 1\n",
            "COMPLAIN-REPEATEDLY: 1\n",
            "BLUE-REPEATEDLY: 1\n",
            "ELEVEN: 1\n",
            "I-GET-UP: 1\n",
            "IOWA: 1\n",
            "LOUISIANA: 1\n",
            "HE-SHOW-YOU: 1\n",
            "I-ASK-YOU-TWO: 1\n",
            "WARM: 1\n",
            "THINK-OF: 1\n",
            "R-I-G-H-T: 1\n",
            "SPEAK: 1\n",
            "STUDY-FOR-LONG-TIME: 1\n",
            "ONE-HALF: 1\n",
            "M-A-C: 1\n",
            "P-C: 1\n",
            "R-E-F: 1\n",
            "STRIPES-VERTICAL: 1\n",
            "SEVENTY-THREE: 1\n",
            "IN-FIVE-WEEKS: 1\n",
            "ORGANIZATION: 1\n",
            "MEMBER: 1\n",
            "UP-TO-NOW: 1\n",
            "F-E-V-E-R: 1\n",
            "SHOE: 1\n",
            "TWENTY-FOUR: 1\n",
            "CLOSE-CAPTIONED: 1\n",
            "THEIRS: 1\n",
            "SAY-OKAY: 1\n",
            "I-GIVE-EACH-OF-THEY: 1\n",
            "GO-OUT: 1\n",
            "WORSE: 1\n",
            "BRUSH-HAIR: 1\n",
            "MAD-REPEATEDLY: 1\n",
            "WEAR-OUT: 1\n",
            "HE-ASK-YOU: 1\n",
            "MISCHIEVOUS-CONTINUALLY: 1\n",
            "WHISKEY: 1\n",
            "PLAY-CONTINUALLY: 1\n",
            "JAPAN: 1\n",
            "HEADACHE: 1\n",
            "LEAVE-THERE: 1\n",
            "TAKE-EASY: 1\n",
            "WRENCH+AM: 1\n",
            "HE-PAY-I: 1\n",
            "PULL-OUT-BY-CHEEK: 1\n",
            "THIRSTY: 1\n",
            "I-MEET: 1\n",
            "AFRAID-CONTINUALLY: 1\n",
            "TYPEWRITER: 1\n",
            "SOMEDAY: 1\n",
            "SHE-KNOW-I: 1\n",
            "BYE: 1\n",
            "SOCIAL: 1\n",
            "DRINKING: 1\n",
            "JOT: 1\n",
            "DOWN: 1\n",
            "READ-LIPS: 1\n",
            "F-R-A-N-C-I-S: 1\n",
            "TILL: 1\n",
            "L-E-F-T: 1\n",
            "A-L-L: 1\n",
            "A-N-A: 1\n",
            "DRAW-BLOOD: 1\n",
            "BUTTER: 1\n",
            "SLACKS: 1\n",
            "CONFLICT: 1\n",
            "PROFESSION: 1\n",
            "B-U-S: 1\n",
            "SEE-FINISH: 1\n",
            "DOWNLOAD: 1\n",
            "SEEN: 1\n",
            "ACCOMPANY-I: 1\n",
            "NO-PROBLEM: 1\n",
            "T-E-D: 1\n",
            "MEASLES: 1\n",
            "I-TELL-ALL-OF-THEY: 1\n",
            "FINGERSPELLING: 1\n",
            "TIME-NINE: 1\n",
            "FIVE-DOLLAR: 1\n",
            "I-GIVE-TWO-THEY: 1\n",
            "BROKE-DOWN: 1\n",
            "THEIR: 1\n",
            "DUTIES: 1\n",
            "MEMORIAL-DAY: 1\n",
            "SQUIRREL: 1\n",
            "BROTHER-SISTER: 1\n",
            "FRISBEE: 1\n",
            "METAL: 1\n",
            "B-O-B: 1\n",
            "BUTTON++: 1\n",
            "PUT-ON-HEAR-AID: 1\n",
            "PROCEED: 1\n",
            "EARS: 1\n",
            "MINUS: 1\n",
            "SURPRISE: 1\n",
            "AIRPORT: 1\n",
            "ROLLER-BLADE: 1\n",
            "VERY-SELFISH: 1\n",
            "TOSS: 1\n",
            "YET: 1\n",
            "YOU-T-T-Y-I: 1\n",
            "COCKTAIL: 1\n",
            "BROTHER-IN-LAW: 1\n",
            "V-L-A-D-I-M-I-R: 1\n",
            "SANDWHICH: 1\n",
            "OPEN-DRAWER: 1\n",
            "M-A-H-E-S-H: 1\n",
            "VALENTINE'S: 1\n",
            "SANDWICHES: 1\n",
            "SHE-BRING-HERE: 1\n",
            "MOTHER'S: 1\n",
            "QMW: 1\n",
            "SHEEP: 1\n",
            "TOUCH-FINISH: 1\n",
            "INSIDE: 1\n",
            "CAME-UP-TO-I: 1\n",
            "STRAW: 1\n",
            "CRASH: 1\n",
            "MISSIONARY: 1\n",
            "CAMPING: 1\n",
            "L-I-S-A: 1\n",
            "A-S-L: 1\n",
            "SUPERVISOR: 1\n",
            "SHUTDOWN: 1\n",
            "BREAK-DOWN: 1\n",
            "N-O-V: 1\n",
            "SERVE: 1\n",
            "FASCINATED: 1\n",
            "I-SAME: 1\n",
            "BREAKFAST: 1\n",
            "MARRIAGE: 1\n",
            "CHILD: 1\n",
            "AFRAID-REPEATEDLY: 1\n",
            "DISGUSTED: 1\n",
            "PULL: 1\n",
            "ORAL-THERMOMETER: 1\n",
            "DOORS: 1\n",
            "SEARCH: 1\n",
            "SPIDER: 1\n",
            "NAP: 1\n",
            "THREE-FIFTEEN: 1\n",
            "YOU-TAKE-ADVANTAGE-SHE: 1\n",
            "CREAM: 1\n",
            "GOSSIP: 1\n",
            "LAID-OFF: 1\n",
            "MISS-OUT: 1\n",
            "APPLES: 1\n",
            "I-HELP-SHE: 1\n",
            "LIONS: 1\n",
            "DIDN'T-KNOW: 1\n",
            "TALK-CONTINUALLY: 1\n",
            "THREE-HOUR: 1\n",
            "TWO-THEY: 1\n",
            "HEAD: 1\n",
            "HE-HELP-SHE: 1\n",
            "HONOR: 1\n",
            "THIRTY: 1\n",
            "SHE-GIVE-HE: 1\n",
            "LESSON: 1\n",
            "NEXT-CLASS: 1\n",
            "FRUIT: 1\n",
            "WASH-HANDS: 1\n",
            "J-A-C-K-I-E: 1\n",
            "BACKPACKING: 1\n",
            "DIFFICULT: 1\n",
            "I-LOAN-YOU: 1\n",
            "FIFTY-DOLLAR: 1\n",
            "MOMENT: 1\n",
            "POPCORN: 1\n",
            "BOWL: 1\n",
            "EIGHTY-SEVEN: 1\n",
            "WORM: 1\n",
            "REDSKINS: 1\n",
            "FAVOR: 1\n",
            "SHOP: 1\n",
            "STEPFATHER: 1\n",
            "GRAPES: 1\n",
            "BANANAS: 1\n",
            "STAY-HERE: 1\n",
            "MINOR: 1\n",
            "INTERNET: 1\n",
            "EVERY-THREE-MONTHS: 1\n",
            "D-S: 1\n",
            "HE-BLAME-I: 1\n",
            "FOG: 1\n",
            "DOTS: 1\n",
            "TURN-ON-LIGHT: 1\n",
            "FOUR-DAY: 1\n",
            "SALT: 1\n",
            "EMBARRASSED-REPEATEDLY: 1\n",
            "PUT-ON: 1\n",
            "RETIRED: 1\n",
            "YOU-HELP-I: 1\n",
            "R-O-C-K-E-T: 1\n",
            "CRY-CONTINUALLY: 1\n",
            "SIX-THREE: 1\n",
            "I-SHOW-HER: 1\n",
            "SKATING-ROLLER: 1\n",
            "B-C: 1\n",
            "DURING: 1\n",
            "EIGHT-TO-TEN: 1\n",
            "ANSWER: 1\n",
            "LAST-NIGHT: 1\n",
            "THEY-PITY-EACH-OTHER: 1\n",
            "BLACK: 1\n",
            "HUNGER: 1\n",
            "VOCABULARY: 1\n",
            "A-B-D-U-L: 1\n",
            "FALL-IN-LOVE: 1\n",
            "CUP: 1\n",
            "L-O-I-S: 1\n",
            "MEDICATION: 1\n",
            "E-L-E-N-A: 1\n",
            "MISSISSIPPI: 1\n",
            "HAMPSHIRE: 1\n",
            "EASTER: 1\n",
            "HIDE: 1\n",
            "PEPPER: 1\n",
            "RUNNY-NOSE: 1\n",
            "I-PITY-SHE: 1\n",
            "BATH: 1\n",
            "FOX: 1\n",
            "FLY: 1\n",
            "THANKSGIVING: 1\n",
            "RULE: 1\n",
            "TRAIN-GONE: 1\n",
            "WALK-TO: 1\n",
            "DISCOURAGED: 1\n",
            "NEVADA: 1\n",
            "OHIO: 1\n",
            "CLUB: 1\n",
            "B-L-O-G: 1\n",
            "CONNECT: 1\n",
            "I-JOIN-YOU: 1\n",
            "SEVERAL: 1\n",
            "STRICT: 1\n",
            "W-A-I-T: 1\n",
            "HOLIDAY: 1\n",
            "FIND: 1\n",
            "WIND: 1\n",
            "HE-PICK-ON-I: 1\n",
            "INSURANCE: 1\n",
            "HAWAII: 1\n",
            "FLORIDA: 1\n",
            "A-N-G-E-L-A: 1\n",
            "PETITION: 1\n",
            "HOW-TALL: 1\n",
            "SIX-ONE: 1\n",
            "TOUCH: 1\n",
            "I-SEND-HE: 1\n",
            "SHARE: 1\n",
            "YOU-KNOW-I: 1\n",
            "YOU-PAY-I: 1\n",
            "B-A-C-K: 1\n",
            "OUTLINE-RECTANGLE: 1\n",
            "ROCK: 1\n",
            "GLASS++: 1\n",
            "BAPTIZE: 1\n",
            "HERS: 1\n",
            "LAW+AM: 1\n",
            "RUDE: 1\n",
            "YOU-TAKE-ADVANTAGE-I: 1\n",
            "IRISH: 1\n",
            "CHEW-GUM: 1\n",
            "ALLOW: 1\n",
            "I-ASK-HE: 1\n",
            "SATELLITE-DISH: 1\n",
            "VERY-HUNGRY: 1\n",
            "TRUST: 1\n",
            "HE-PRESENT-SHE: 1\n",
            "FEEL++: 1\n",
            "PILL: 1\n",
            "DIVORICE: 1\n",
            "ENOUGH: 1\n",
            "TIME++: 1\n",
            "THREE-OF-WE: 1\n",
            "COOK+AM: 1\n",
            "FAMILY-ROOM: 1\n",
            "LEAVE-TO: 1\n",
            "BORE: 1\n",
            "TICKETS: 1\n",
            "HEAD-COLD: 1\n",
            "HE-SEND-I: 1\n",
            "FROGS: 1\n",
            "CHRIST+AM: 1\n",
            "SHOULDER: 1\n",
            "BROTHTER: 1\n",
            "HE-VISIT-I: 1\n",
            "A-N-D-Y: 1\n",
            "PEA-BRAIN: 1\n",
            "NERVOUS: 1\n",
            "BETER: 1\n",
            "OPINION: 1\n",
            "RIDE-ON: 1\n",
            "SOFT-DRINK++: 1\n",
            "CORNER: 1\n",
            "ONE-WEEK-PAST: 1\n",
            "NEW-YORK: 1\n",
            "SOAP: 1\n",
            "TELL-STORY: 1\n",
            "U-S: 1\n",
            "BOWLING: 1\n",
            "OURSELVES: 1\n",
            "CLEAN-UP: 1\n",
            "MAD-CONTINUALLY: 1\n",
            "DENTIST: 1\n",
            "DRIVE-HERE: 1\n",
            "APPLAUD-REPEATEDLY: 1\n",
            "FLASH-LIGHTS: 1\n",
            "TRICK: 1\n",
            "WET-WIPES: 1\n",
            "KEEP: 1\n",
            "DINING: 1\n",
            "HANDSOME: 1\n",
            "GONE: 1\n",
            "TAKE-CARE-OF: 1\n",
            "PLANT: 1\n",
            "FLAT-TIRE: 1\n",
            "QUERY-I++: 1\n",
            "RIDE-BICYCLE: 1\n",
            "GO-ON: 1\n",
            "NOSE: 1\n",
            "SATISFY: 1\n",
            "GAIN-WEIGHT: 1\n",
            "BATTERY: 1\n",
            "WONDER: 1\n",
            "FAINT: 1\n",
            "M-I-A: 1\n",
            "SEE-NONE: 1\n",
            "SUBWAY: 1\n",
            "YOU-OWE-I: 1\n",
            "I-CHOOSE-SHE: 1\n",
            "DIME: 1\n",
            "SHRUG: 1\n",
            "SHOULDERS: 1\n",
            "TERRIBLE: 1\n",
            "LESS-THAN: 1\n",
            "HE-PRESENT-EACH-OF-THEY: 1\n",
            "FREEZE: 1\n",
            "SHOCK: 1\n",
            "ABSURD: 1\n",
            "PUT-GAS-IN: 1\n",
            "TIMES: 1\n",
            "OLD-FOURTEEN: 1\n",
            "MICH: 1\n",
            "REPLACE: 1\n",
            "WOOD: 1\n",
            "JUDGE+AM: 1\n",
            "HAIR: 1\n",
            "M-I-N-N: 1\n",
            "THREE-OF-YOU: 1\n",
            "NATIONAL: 1\n",
            "ANTHEM: 1\n",
            "WINDY: 1\n",
            "FIRE: 1\n",
            "SHE-HELP-I: 1\n",
            "SHE-BAWL-OUT-HE: 1\n",
            "HAIRBALL: 1\n",
            "CHOKE: 1\n",
            "BUTTERFLY: 1\n",
            "BUILD: 1\n",
            "JERSEY: 1\n",
            "BROWN: 1\n",
            "DEMOCRAT: 1\n",
            "SUNNY: 1\n",
            "HOMEWORK: 1\n",
            "FIRE++: 1\n",
            "SISTERS: 1\n",
            "SPAGHETTI: 1\n",
            "M-A-R-C: 1\n",
            "DEAF.: 1\n",
            "FOOL: 1\n",
            "I-ASK-YOU: 1\n",
            "FRENCH-TOAST: 1\n",
            "FREQUENT: 1\n",
            "M-A-Y-O: 1\n",
            "SWELL: 1\n",
            "STARTS: 1\n",
            "BORING: 1\n",
            "HOW-OLD: 1\n",
            "A-L-I: 1\n",
            "P-T-A: 1\n",
            "HAPPENED: 1\n",
            "HOBBY: 1\n",
            "WORTH: 1\n",
            "D-O: 1\n",
            "W-E: 1\n",
            "NOT-GOOD-AT: 1\n",
            "IN-FIVE-MINUTE: 1\n",
            "MOBILE-PHONE: 1\n",
            "CHOOSE: 1\n",
            "LAUNDRY: 1\n",
            "MOUNTAIN: 1\n",
            "TURN-ON: 1\n",
            "\"C-O-M-A\": 1\n",
            "D-E-B-O-R-A-H: 1\n",
            "SANTA: 1\n",
            "CLAUS: 1\n",
            "PROHIBIT: 1\n",
            "OPEN-BOX: 1\n",
            "S-T-E-V-E: 1\n",
            "PUT-IN-GAS: 1\n",
            "SLEEP-IN: 1\n",
            "COW: 1\n",
            "HOW-MAKE: 1\n",
            "MINE: 1\n",
            "CALCULATOR: 1\n",
            "BABYSITTER: 1\n",
            "A: 1\n",
            "SNAKE: 1\n",
            "SEE-YOU: 1\n",
            "LATER: 1\n",
            "GO-AWAY: 1\n",
            "I-C-E: 1\n",
            "RIP: 1\n",
            "SCIENTIST: 1\n",
            "QUARTER: 1\n",
            "WRONG-CONTINUALLY: 1\n",
            "THRILL: 1\n",
            "MEET-YOU: 1\n",
            "SOMETHING: 1\n",
            "TO-IT: 1\n",
            "PLUMBING: 1\n",
            "INCOMPETENT: 1\n",
            "D-R-A-C-U-L-A: 1\n",
            "BOAT: 1\n",
            "WRESTLING: 1\n",
            "SORE-THROAT: 1\n",
            "WALL: 1\n",
            "CLIMB: 1\n",
            "FOUR: 1\n",
            "OWE: 1\n",
            "TITLE: 1\n",
            "HE-ASK-THEY: 1\n",
            "REALIZE: 1\n",
            "FRIDGE: 1\n",
            "EMBARRASS: 1\n",
            "TWO-MONTH: 1\n",
            "YOU-GIVE-SHE: 1\n",
            "PLAY-CARDS: 1\n",
            "DUTY: 1\n",
            "FOUR-FOUR-FIVE: 1\n",
            "TOGETHER: 1\n",
            "TRANSFER: 1\n",
            "SERVE+AM: 1\n",
            "IMPRESS: 1\n",
            "TRUCK: 1\n",
            "MAINE: 1\n",
            "MICHIGAN: 1\n",
            "CRAZY-ABOUT: 1\n",
            "WEAK: 1\n",
            "TURN: 1\n",
            "SEND-HE: 1\n",
            "THIN: 1\n",
            "HEART: 1\n",
            "B-U-T-T-O-N: 1\n",
            "TENNIS: 1\n",
            "STOP-IT: 1\n",
            "YOU-SHOW-ME: 1\n",
            "OPEN-MOUTH-WIDE: 1\n",
            "VERY-STRICT: 1\n",
            "WELCOME: 1\n",
            "AIDE: 1\n",
            "WALK-HERE: 1\n",
            "TAKE-PILL+++: 1\n",
            "CRAZY: 1\n",
            "MOVIES: 1\n",
            "CARELESS: 1\n",
            "SHUT-UP: 1\n",
            "NEAR-FUTURE: 1\n",
            "F-L-U: 1\n",
            "NOW-MONTH: 1\n",
            "SET-UP: 1\n",
            "CUDDLE: 1\n",
            "ELEVATOR: 1\n",
            "FLY-BACK: 1\n",
            "WORK+AM: 1\n",
            "ILLINOIS: 1\n",
            "P-O: 1\n",
            "DINOSAUR: 1\n",
            "DEAD: 1\n",
            "REPUBLICAN: 1\n",
            "OPEN-DOOR: 1\n",
            "SUMMER: 1\n",
            "LAST: 1\n",
            "FARM+AM: 1\n",
            "YOU-FLY: 1\n",
            "SPAIN: 1\n",
            "S-S: 1\n",
            "PENSION: 1\n",
            "PRINT: 1\n",
            "BREAKDOWN: 1\n",
            "FRIDAY: 1\n",
            "LIST: 1\n",
            "BEARD: 1\n",
            "SCARY: 1\n",
            "UPSTAIRS: 1\n",
            "CONTINUE: 1\n",
            "SUPPORT: 1\n",
            "M-O-L-A-R: 1\n",
            "S-E-A-N: 1\n",
            "STUDENTS: 1\n",
            "DISBELIEVE: 1\n",
            "I-KNOW-SHE: 1\n",
            "SIGN-FLUENT: 1\n",
            "ZIP: 1\n",
            "WASTE: 1\n",
            "ADVERTISEMENT: 1\n",
            "YOU-SEND-I: 1\n",
            "HE-GIVE-TWO-THEY: 1\n",
            "RELAX: 1\n",
            "EMOTION: 1\n",
            "THREE-THIRTY: 1\n",
            "US-TWO: 1\n",
            "P-A-R-K: 1\n",
            "CANOE++: 1\n",
            "ROLLERSKATE: 1\n",
            "ELEVEN-THIRTY: 1\n",
            "ROLLER-SKATE: 1\n",
            "AWKWARD: 1\n",
            "BLOOD: 1\n",
            "BALD: 1\n",
            "ASK-QUESTION: 1\n",
            "BROAD-SHOULDERS: 1\n",
            "MISSING: 1\n",
            "TERRIFIED: 1\n",
            "ANXIOUS: 1\n",
            "I-BOTHER-YOU: 1\n",
            "C-S-U-S: 1\n",
            "STOMACHACHE: 1\n",
            "DIFFERENT-THINGS: 1\n",
            "DRUNK: 1\n",
            "B-O-T-T-O-M: 1\n",
            "MATH: 1\n",
            "J-U-D-Y: 1\n",
            "BOOK++: 1\n",
            "SECOND-A-MOTION: 1\n",
            "F-I-N-E: 1\n",
            "OLD-FORTY: 1\n",
            "APPROXIMATELY: 1\n",
            "L-O-U-I-E: 1\n",
            "APARTMENT: 1\n",
            "ALLIGATOR: 1\n",
            "EAT-CONTINUALLY: 1\n",
            "STRAIGHT: 1\n",
            "YORK: 1\n",
            "PRICE: 1\n",
            "TOTAL: 1\n",
            "SICK-REPEATEDLY: 1\n",
            "COME-TO: 1\n",
            "JOKE: 1\n",
            "FATHER-MOTHER: 1\n",
            "GO-BY-TRAIN: 1\n",
            "VERMONT: 1\n",
            "WYOMING: 1\n",
            "I-GIVE-SHE: 1\n",
            "ENGLISH: 1\n",
            "L-U-I-S: 1\n",
            "FLY-HERE: 1\n",
            "EXCUSE-I: 1\n",
            "GRAB: 1\n",
            "GREW: 1\n",
            "N-E-V: 1\n",
            "I-HELP-YOU: 1\n",
            "HAIR-YELLOW: 1\n",
            "DESSERT: 1\n",
            "EGGS: 1\n",
            "CHEESE: 1\n",
            "POETRY: 1\n",
            "WORRY-REPEATEDLY: 1\n",
            "PAY-CHECK: 1\n",
            "PATIENT: 1\n",
            "TWO-THIRTY: 1\n",
            "OFF: 1\n",
            "SHUT-OFF: 1\n",
            "SHAVE: 1\n",
            "ALSO: 1\n",
            "RACE: 1\n"
          ]
        }
      ],
      "source": [
        "# Mount Google Drive first\n",
        "from google.colab import drive\n",
        "drive.mount('/content/drive')\n",
        "\n",
        "import pandas as pd\n",
        "from collections import defaultdict\n",
        "import string\n",
        "\n",
        "# Paths to your files\n",
        "words_file = '/content/drive/MyDrive/ASL Project/gloss_freq_exploration/words_list.txt'\n",
        "csv_file = '/content/drive/MyDrive/ASL Project/gloss_freq_exploration/slt_data_clean.csv'\n",
        "\n",
        "# Load the word list (normalize to uppercase, exclude non-word lines)\n",
        "with open(words_file, 'r') as f:\n",
        "    allowed_words = set(\n",
        "        line.strip().upper() for line in f if line.strip().isalpha()\n",
        "    )\n",
        "\n",
        "# Load the SLT data CSV\n",
        "df = pd.read_csv(csv_file)\n",
        "\n",
        "# Define punctuation set\n",
        "punctuation_set = set(string.punctuation)\n",
        "\n",
        "# Dictionary to store missing gloss counts (for rows with <= 2 missing)\n",
        "missing_gloss_counts = defaultdict(int)\n",
        "\n",
        "# Function to check gloss validity and track missing\n",
        "def check_gloss(gloss):\n",
        "    tokens = gloss.strip().split()\n",
        "    missing = [\n",
        "        tok.upper() for tok in tokens\n",
        "        if tok not in punctuation_set and tok.upper() not in allowed_words\n",
        "    ]\n",
        "\n",
        "    if len(missing) <= 2:\n",
        "        for gloss in missing:\n",
        "            missing_gloss_counts[gloss] += 1\n",
        "\n",
        "    return len(missing) == 0\n",
        "\n",
        "# Apply the function and track valid inputs\n",
        "df['valid'] = df['input'].apply(check_gloss)\n",
        "\n",
        "# Summary\n",
        "num_valid = df['valid'].sum()\n",
        "total = len(df)\n",
        "\n",
        "print(f\"Valid gloss inputs: {num_valid} out of {total}\")\n",
        "print(f\"Percentage: {num_valid / total * 100:.2f}%\\n\")\n",
        "\n",
        "# Print missing gloss summary (for inputs with ≤ 2 missing glosses)\n",
        "print(\"Missing glosses from inputs with ≤ 2 missing glosses (excluding punctuation):\")\n",
        "for gloss, count in sorted(missing_gloss_counts.items(), key=lambda x: -x[1]):\n",
        "    print(f\"{gloss}: {count}\")\n"
      ]
    },
    {
      "cell_type": "markdown",
      "source": [
        "## See if the top 20 gloss in the global dictionary is present in the video dataset"
      ],
      "metadata": {
        "id": "u-hhbvIcOkGY"
      }
    },
    {
      "cell_type": "code",
      "source": [
        "# Define the list of glosses to check\n",
        "glosses_to_check = [\n",
        "    \"I\", \"WHERE\", \"NAME\", \"SHE\", \"DEAF\", \"SIGN\", \"FINISH\", \"BOOK\", \"LIVE\", \"HOW-MANY\",\n",
        "    \"SISTER\", \"OLD\", \"YESTERDAY\", \"HEAR\", \"EAT\", \"COLOR\", \"FAMILY\", \"HERE\", \"FEEL\", \"MAN\"\n",
        "]\n",
        "\n",
        "# Path to the common_glosses.txt file\n",
        "common_glosses_path = \"drive/MyDrive/ASL Project/gloss_freq_exploration/common_glosses.txt\"\n",
        "\n",
        "# Load common glosses from file\n",
        "with open(common_glosses_path, \"r\") as f:\n",
        "    common_glosses = set(line.strip().upper() for line in f if line.strip())\n",
        "\n",
        "\n",
        "# Print only the glosses that are found, one per line\n",
        "for gloss in glosses_to_check:\n",
        "    if gloss in common_glosses:\n",
        "        print(gloss)\n"
      ],
      "metadata": {
        "colab": {
          "base_uri": "https://localhost:8080/"
        },
        "id": "O0IeGPWkOjcL",
        "outputId": "63f61f28-7abb-44f9-f400-e0e8a3705e23"
      },
      "execution_count": null,
      "outputs": [
        {
          "output_type": "stream",
          "name": "stdout",
          "text": [
            "WHERE\n",
            "NAME\n",
            "DEAF\n",
            "SIGN\n",
            "FINISH\n",
            "BOOK\n",
            "LIVE\n",
            "SISTER\n",
            "OLD\n",
            "YESTERDAY\n",
            "HEAR\n",
            "EAT\n",
            "COLOR\n",
            "FAMILY\n",
            "HERE\n",
            "FEEL\n",
            "MAN\n"
          ]
        }
      ]
    },
    {
      "cell_type": "markdown",
      "source": [
        "## See how many inputs in Achraf's dataset consist of gloss from our gloss list"
      ],
      "metadata": {
        "id": "Yl-GztU7QHOh"
      }
    },
    {
      "cell_type": "code",
      "source": [
        "# Mount Google Drive first\n",
        "from google.colab import drive\n",
        "drive.mount('/content/drive')\n",
        "\n",
        "import pandas as pd\n",
        "import string\n",
        "\n",
        "# Paths to your files\n",
        "words_file = '/content/drive/MyDrive/ASL Project/gloss_freq_exploration/words_list.txt'\n",
        "csv_file = '/content/drive/MyDrive/ASL Project/gloss_freq_exploration/slt_data_clean.csv'\n",
        "\n",
        "# Load the word list (normalize to uppercase, exclude non-word lines like section headers)\n",
        "with open(words_file, 'r') as f:\n",
        "    allowed_words = set(\n",
        "        line.strip().upper() for line in f if line.strip().isalpha()\n",
        "    )\n",
        "\n",
        "# Load the SLT data CSV\n",
        "df = pd.read_csv(csv_file)\n",
        "\n",
        "# Define a function to check if all gloss tokens are allowed (ignoring punctuation)\n",
        "def is_valid_gloss(gloss):\n",
        "    tokens = gloss.strip().split()\n",
        "    return all(\n",
        "        token.upper() in allowed_words or all(c in string.punctuation for c in token)\n",
        "        for token in tokens\n",
        "    )\n",
        "\n",
        "# Apply the function to each row\n",
        "df['valid'] = df['input'].apply(is_valid_gloss)\n",
        "\n",
        "# Count valid and total examples\n",
        "num_valid = df['valid'].sum()\n",
        "total = len(df)\n",
        "\n",
        "# Print the results\n",
        "print(f\"Valid gloss inputs: {num_valid} out of {total}\")\n",
        "print(f\"Percentage: {num_valid / total * 100:.2f}%\")\n"
      ],
      "metadata": {
        "colab": {
          "base_uri": "https://localhost:8080/"
        },
        "id": "V_PhRrkQQG2l",
        "outputId": "e8559533-c6dd-4be3-da78-5579de58ed94"
      },
      "execution_count": null,
      "outputs": [
        {
          "output_type": "stream",
          "name": "stdout",
          "text": [
            "Drive already mounted at /content/drive; to attempt to forcibly remount, call drive.mount(\"/content/drive\", force_remount=True).\n",
            "Valid gloss inputs: 79 out of 7135\n",
            "Percentage: 1.11%\n"
          ]
        }
      ]
    },
    {
      "cell_type": "markdown",
      "source": [
        "# Ok finally, we filter the BIG dataset for only the videos of these 128 gloss"
      ],
      "metadata": {
        "id": "ck8GzzFrQk3X"
      }
    },
    {
      "cell_type": "code",
      "source": [
        "import pandas as pd\n",
        "import re\n",
        "\n",
        "# Path to gloss list\n",
        "gloss_list_path = '/content/drive/MyDrive/ASL Project/gloss_freq_exploration/words_list.txt'\n",
        "\n",
        "# Path to original splits\n",
        "split_folder = '/content/drive/MyDrive/ASL Project/splits'\n",
        "\n",
        "# Output filenames\n",
        "splits = ['train', 'val', 'test']\n",
        "\n",
        "# Load allowed glosses (uppercase)\n",
        "with open(gloss_list_path, 'r') as f:\n",
        "    allowed_glosses = set(line.strip().upper() for line in f if line.strip().isalpha())\n",
        "\n",
        "# Function to clean gloss for comparison (but not for saving)\n",
        "def clean_gloss(gloss):\n",
        "    gloss = gloss.strip().upper()\n",
        "    return re.sub(r'\\s*\\d+$', '', gloss)\n",
        "\n",
        "# Process each split\n",
        "for split in splits:\n",
        "    input_csv = f'{split_folder}/{split}.csv'\n",
        "    output_csv = f'{split_folder}/{split}_filtered.csv'\n",
        "\n",
        "    # Read CSV\n",
        "    df = pd.read_csv(input_csv)\n",
        "\n",
        "    # Keep a cleaned version only for filtering\n",
        "    df['Gloss_clean'] = df['Gloss'].apply(clean_gloss)\n",
        "\n",
        "    # Filter using the cleaned gloss\n",
        "    df_filtered = df[df['Gloss_clean'].isin(allowed_glosses)]\n",
        "\n",
        "    # Drop helper column and save\n",
        "    df_filtered.drop(columns=['Gloss_clean'], inplace=True)\n",
        "    df_filtered.to_csv(output_csv, index=False)\n",
        "\n",
        "    print(f\"{split}: {len(df_filtered)} rows retained out of {len(df)}\")\n"
      ],
      "metadata": {
        "colab": {
          "base_uri": "https://localhost:8080/"
        },
        "id": "vqPx0tlMQsDy",
        "outputId": "013b8a16-c7d3-4241-fe89-3765fd67dc69"
      },
      "execution_count": null,
      "outputs": [
        {
          "output_type": "stream",
          "name": "stderr",
          "text": [
            "<ipython-input-12-91fb276d4fe7>:37: SettingWithCopyWarning: \n",
            "A value is trying to be set on a copy of a slice from a DataFrame\n",
            "\n",
            "See the caveats in the documentation: https://pandas.pydata.org/pandas-docs/stable/user_guide/indexing.html#returning-a-view-versus-a-copy\n",
            "  df_filtered.drop(columns=['Gloss_clean'], inplace=True)\n"
          ]
        },
        {
          "output_type": "stream",
          "name": "stdout",
          "text": [
            "train: 2031 rows retained out of 40154\n"
          ]
        },
        {
          "output_type": "stream",
          "name": "stderr",
          "text": [
            "<ipython-input-12-91fb276d4fe7>:37: SettingWithCopyWarning: \n",
            "A value is trying to be set on a copy of a slice from a DataFrame\n",
            "\n",
            "See the caveats in the documentation: https://pandas.pydata.org/pandas-docs/stable/user_guide/indexing.html#returning-a-view-versus-a-copy\n",
            "  df_filtered.drop(columns=['Gloss_clean'], inplace=True)\n"
          ]
        },
        {
          "output_type": "stream",
          "name": "stdout",
          "text": [
            "val: 504 rows retained out of 10304\n",
            "test: 1692 rows retained out of 32941\n"
          ]
        },
        {
          "output_type": "stream",
          "name": "stderr",
          "text": [
            "<ipython-input-12-91fb276d4fe7>:37: SettingWithCopyWarning: \n",
            "A value is trying to be set on a copy of a slice from a DataFrame\n",
            "\n",
            "See the caveats in the documentation: https://pandas.pydata.org/pandas-docs/stable/user_guide/indexing.html#returning-a-view-versus-a-copy\n",
            "  df_filtered.drop(columns=['Gloss_clean'], inplace=True)\n"
          ]
        }
      ]
    },
    {
      "cell_type": "markdown",
      "source": [
        "## Further trim the test set (to 500 videos)"
      ],
      "metadata": {
        "id": "PvkdoC8OV110"
      }
    },
    {
      "cell_type": "code",
      "source": [
        "import pandas as pd\n",
        "import random\n",
        "from collections import defaultdict, Counter\n",
        "\n",
        "# Set random seed for reproducibility\n",
        "random.seed(42)\n",
        "\n",
        "# Paths\n",
        "base_path = '/content/drive/MyDrive/ASL Project/splits'\n",
        "words_list_path = '/content/drive/MyDrive/ASL Project/gloss_freq_exploration/words_list.txt'\n",
        "train_csv_path = f'{base_path}/train_filtered.csv'\n",
        "test_csv_path = f'{base_path}/test_filtered.csv'\n",
        "output_csv_path = f'{base_path}/test_final.csv'\n",
        "\n",
        "# Load gloss list\n",
        "with open(words_list_path, 'r') as f:\n",
        "    allowed_glosses = set(line.strip().upper() for line in f if line.strip().isalpha())\n",
        "\n",
        "# Load filtered CSVs\n",
        "df_train = pd.read_csv(train_csv_path)\n",
        "df_test = pd.read_csv(test_csv_path)\n",
        "\n",
        "# STEP 1: Create gloss → [videos] dictionary from test set\n",
        "test_videos_by_gloss = defaultdict(list)\n",
        "for _, row in df_test.iterrows():\n",
        "    gloss = row['Gloss'].strip().upper()\n",
        "    if gloss in allowed_glosses:\n",
        "        test_videos_by_gloss[gloss].append(row)\n",
        "\n",
        "# STEP 2: Get frequency distribution from train set\n",
        "train_gloss_counts = Counter(\n",
        "    row['Gloss'].strip().upper()\n",
        "    for _, row in df_train.iterrows()\n",
        "    if row['Gloss'].strip().upper() in allowed_glosses\n",
        ")\n",
        "\n",
        "total_train = sum(train_gloss_counts.values())\n",
        "\n",
        "# STEP 3: Compute number of videos per gloss (proportional to train dist, sum to 500)\n",
        "desired_total = 500\n",
        "target_count_per_gloss = {\n",
        "    gloss: round((count / total_train) * desired_total)\n",
        "    for gloss, count in train_gloss_counts.items()\n",
        "}\n",
        "\n",
        "# STEP 4: Select randomly from test videos per gloss\n",
        "final_test_rows = []\n",
        "for gloss, target_count in target_count_per_gloss.items():\n",
        "    available = test_videos_by_gloss.get(gloss, [])\n",
        "    selected = random.sample(available, min(target_count, len(available)))\n",
        "    final_test_rows.extend(selected)\n",
        "\n",
        "# Trim or pad to exactly 500 if necessary\n",
        "if len(final_test_rows) > 500:\n",
        "    final_test_rows = random.sample(final_test_rows, 500)\n",
        "elif len(final_test_rows) < 500:\n",
        "    needed = 500 - len(final_test_rows)\n",
        "    # Gather more random test videos from glosses that still have unused entries\n",
        "    extras = []\n",
        "    for gloss in allowed_glosses:\n",
        "        remaining = [row for row in test_videos_by_gloss.get(gloss, []) if row not in final_test_rows]\n",
        "        extras.extend(remaining)\n",
        "    final_test_rows.extend(random.sample(extras, min(needed, len(extras))))\n",
        "\n",
        "# Save final test set\n",
        "df_final = pd.DataFrame(final_test_rows)\n",
        "df_final.to_csv(output_csv_path, index=False)\n",
        "\n",
        "print(f\"Saved test_final.csv with {len(df_final)} videos.\")\n"
      ],
      "metadata": {
        "colab": {
          "base_uri": "https://localhost:8080/"
        },
        "id": "84Mlv2e9V1ab",
        "outputId": "8045a47d-1d9b-4c07-a7a9-948d3019089c"
      },
      "execution_count": null,
      "outputs": [
        {
          "output_type": "stream",
          "name": "stdout",
          "text": [
            "Saved test_final.csv with 500 videos.\n"
          ]
        }
      ]
    },
    {
      "cell_type": "markdown",
      "source": [
        "# WE TRIM THE VIDEOS AND UPLOAD TO DROPBOX"
      ],
      "metadata": {
        "id": "AV0xfrOaXFHg"
      }
    },
    {
      "cell_type": "code",
      "source": [
        "# STEP 1: Mount Google Drive to access your filtered CSVs and raw videos\n",
        "from google.colab import drive\n",
        "drive.mount('/content/drive')"
      ],
      "metadata": {
        "colab": {
          "base_uri": "https://localhost:8080/"
        },
        "id": "F4JwCBtbajrn",
        "outputId": "7d55d67f-6abd-4e10-df5a-43a457bdb8ad"
      },
      "execution_count": null,
      "outputs": [
        {
          "output_type": "stream",
          "name": "stdout",
          "text": [
            "Drive already mounted at /content/drive; to attempt to forcibly remount, call drive.mount(\"/content/drive\", force_remount=True).\n"
          ]
        }
      ]
    },
    {
      "cell_type": "code",
      "source": [
        "# STEP 2: Install Dropbox SDK\n",
        "!pip install dropbox"
      ],
      "metadata": {
        "colab": {
          "base_uri": "https://localhost:8080/"
        },
        "id": "MIqG6BKlam9q",
        "outputId": "c27becc4-b016-4da8-a0c1-a3b7182001eb"
      },
      "execution_count": null,
      "outputs": [
        {
          "output_type": "stream",
          "name": "stdout",
          "text": [
            "Collecting dropbox\n",
            "  Downloading dropbox-12.0.2-py3-none-any.whl.metadata (4.3 kB)\n",
            "Requirement already satisfied: requests>=2.16.2 in /usr/local/lib/python3.11/dist-packages (from dropbox) (2.32.3)\n",
            "Requirement already satisfied: six>=1.12.0 in /usr/local/lib/python3.11/dist-packages (from dropbox) (1.17.0)\n",
            "Collecting stone<3.3.3,>=2 (from dropbox)\n",
            "  Downloading stone-3.3.1-py3-none-any.whl.metadata (8.0 kB)\n",
            "Requirement already satisfied: charset-normalizer<4,>=2 in /usr/local/lib/python3.11/dist-packages (from requests>=2.16.2->dropbox) (3.4.1)\n",
            "Requirement already satisfied: idna<4,>=2.5 in /usr/local/lib/python3.11/dist-packages (from requests>=2.16.2->dropbox) (3.10)\n",
            "Requirement already satisfied: urllib3<3,>=1.21.1 in /usr/local/lib/python3.11/dist-packages (from requests>=2.16.2->dropbox) (2.4.0)\n",
            "Requirement already satisfied: certifi>=2017.4.17 in /usr/local/lib/python3.11/dist-packages (from requests>=2.16.2->dropbox) (2025.4.26)\n",
            "Requirement already satisfied: ply>=3.4 in /usr/local/lib/python3.11/dist-packages (from stone<3.3.3,>=2->dropbox) (3.11)\n",
            "Downloading dropbox-12.0.2-py3-none-any.whl (572 kB)\n",
            "\u001b[2K   \u001b[90m━━━━━━━━━━━━━━━━━━━━━━━━━━━━━━━━━━━━━━━━\u001b[0m \u001b[32m572.1/572.1 kB\u001b[0m \u001b[31m15.5 MB/s\u001b[0m eta \u001b[36m0:00:00\u001b[0m\n",
            "\u001b[?25hDownloading stone-3.3.1-py3-none-any.whl (162 kB)\n",
            "\u001b[2K   \u001b[90m━━━━━━━━━━━━━━━━━━━━━━━━━━━━━━━━━━━━━━━━\u001b[0m \u001b[32m162.3/162.3 kB\u001b[0m \u001b[31m12.8 MB/s\u001b[0m eta \u001b[36m0:00:00\u001b[0m\n",
            "\u001b[?25hInstalling collected packages: stone, dropbox\n",
            "Successfully installed dropbox-12.0.2 stone-3.3.1\n"
          ]
        }
      ]
    },
    {
      "cell_type": "code",
      "source": [
        "!pip install numpy==2.0.0 --force-reinstall\n",
        "!pip install mediapipe --no-deps"
      ],
      "metadata": {
        "colab": {
          "base_uri": "https://localhost:8080/"
        },
        "id": "BI5CkZ7Taxxn",
        "outputId": "235b0cfd-2669-461b-9e26-cf8f32d97ecc"
      },
      "execution_count": null,
      "outputs": [
        {
          "output_type": "stream",
          "name": "stdout",
          "text": [
            "Collecting numpy==2.0.0\n",
            "  Using cached numpy-2.0.0-cp311-cp311-manylinux_2_17_x86_64.manylinux2014_x86_64.whl.metadata (60 kB)\n",
            "Using cached numpy-2.0.0-cp311-cp311-manylinux_2_17_x86_64.manylinux2014_x86_64.whl (19.3 MB)\n",
            "Installing collected packages: numpy\n",
            "  Attempting uninstall: numpy\n",
            "    Found existing installation: numpy 2.0.0\n",
            "    Uninstalling numpy-2.0.0:\n",
            "      Successfully uninstalled numpy-2.0.0\n",
            "\u001b[31mERROR: pip's dependency resolver does not currently take into account all the packages that are installed. This behaviour is the source of the following dependency conflicts.\n",
            "mediapipe 0.10.21 requires sounddevice>=0.4.4, which is not installed.\n",
            "mediapipe 0.10.21 requires numpy<2, but you have numpy 2.0.0 which is incompatible.\n",
            "mediapipe 0.10.21 requires protobuf<5,>=4.25.3, but you have protobuf 5.29.4 which is incompatible.\u001b[0m\u001b[31m\n",
            "\u001b[0mSuccessfully installed numpy-2.0.0\n",
            "Requirement already satisfied: mediapipe in /usr/local/lib/python3.11/dist-packages (0.10.21)\n"
          ]
        }
      ]
    },
    {
      "cell_type": "code",
      "source": [
        "# STEP 3: Set up MediaPipe + Dropbox + Paths\n",
        "import os\n",
        "import cv2\n",
        "import dropbox\n",
        "import pandas as pd\n",
        "import mediapipe as mp\n",
        "from tqdm import tqdm\n",
        "from pathlib import Path\n",
        "\n",
        "# Initialize MediaPipe\n",
        "mp_hands = mp.solutions.hands\n",
        "hands = mp_hands.Hands(static_image_mode=False, max_num_hands=2, min_detection_confidence=0.5)\n",
        "\n",
        "# Set paths\n",
        "SPLIT_DIR = '/content/drive/MyDrive/ASL Project/splits'\n",
        "VIDEO_DIR = '/content/drive/MyDrive/videos'\n",
        "TEMP_OUTPUT = '/tmp/trimmed_videos'\n",
        "SPLITS = ['train', 'val', 'test']\n",
        "Path(TEMP_OUTPUT).mkdir(exist_ok=True)\n",
        "\n",
        "# Set up Dropbox connection\n",
        "DROPBOX_ACCESS_TOKEN = \"sl.u.AFu-aIMez3sMU3YziUtieeopVKfJ5c1_4TTZkq8wlu8CSFatc6QEf5tmV5thi63b7qONXfcCKfE51k6vi1y88IaEwbOpFRtOAmR7soByVQw9_-L7MePI4332GOEF0nAT6a2R1oYnKBp78PsjwBoy9hhTPDnuQNPEH2Paud4PrddNuax8h8dJJ6ONre3TE1g3mIqyFn-iIwvzg9DSUS6IgwPRpsJDo0BoaE-Ej5Q6Syj0Gkh1N8EVxVYlKkaHYHSwl3kQtqZb_klD25NwmZSJotudn5BDcE5ouo9qs-Sl4-jSXBaW_dG0ursZ83DdmsA9tLxCMS9d_4sYJ7moS0WDEDHzOkgOkB0fxOfeusiMv2l9MaMmyaT_TOzbs8XSK8Jdrkqd6NEo4Tr24DiAK06MSUwmclBxXNygmCBVffz5rTPurkLWVpDyYBVm_oc5I1FdNc4md-RR463ysPjVxWwpmGe7lhDxPuCEJT-UjGpfQi8zdXO6z4YL1iQwpOsH52khcFQnGKDTHbLHM0LNDUIOZjd9IPYyiC4YuGyM7TKYO5TxIrVpKJdxz9WD-MYOF7K_q8jp3-W7V3xy22iOLgLbBSgJ0g6APRYURktK_p2Z-YJsM-yFGPE11_P-nnvmmo8Xxmvp0VoRy3_npv4Qn-b4DIyQJ6UeUddEZqeZdR4hh5FQeT6DoxSJRo4o-xDV4Q20hAzh7ex1In50v6dZDbM6jY0GV8DMIfrL4xZfO94GA_8fLCJHZObnar-WZQTlp-HZWsQDyp1rvL0FGFbHDc9Ru78yGWArLsfXBCVWKqunfdrmfg0UNGOsVaHYuDa6Nd_s-JlQ9VBAPwIHzVkOJ_jzvw6Q-UG-9w7DV-F5ks8xYk9-pgCsr5N1x8lB2ZxEaEFmD_4SXEVdNSe8Hf13fC6Q8CSqL7xuBXEfpxa-Vw9vDALJROKRgaKvDUdNSY-JgaxnHM0NcgzjNIzHUh4YI42zAbg0YAbDk2NB2JkpngbIg7ShsNcBOWxJPFwzD5mKFdaKLfnpT4LhF9YQhNIEGwdvjZubh6aAWyPFB06jMVhB29TyqscVrcgcSIK0ro05mUMMxbSlFfSDP5xXykNTwE2JNP2wL0uCJo-rYlBKBFQYqaddk1p95fJfZtvmzBzFb9xR9sKV_oz4qPbqgoZhFkK8wCyHWlght4BgWM6qGRWhbyTit7trjcLdlJ0x18rnLGxHyg2YdwgxeIzu2sYqY_4QscUNqoJh3IYHRBY5X0Aq-n1A3EkblTou8H9UZQUQERjG_gM5hbYQrOFlvSrSSD4hJ7FsKtScgraH1Q88T3opxRO0AYVQrKkohtmG-bDaDYRHUVIJpwBpAg_pe4ZLyZbZ1jAiCd8W2zgOC_Qzv5KZntB0h54JQPxBOwmDlJt3XWuxHfeDe3xolRMGL4K4C3BB5MI4JrEqorNxv4TzODa5RN2k1g\"\n",
        "dbx = dropbox.Dropbox(DROPBOX_ACCESS_TOKEN)\n",
        "dbx.users_get_current_account()  # Check connection\n"
      ],
      "metadata": {
        "colab": {
          "base_uri": "https://localhost:8080/"
        },
        "id": "kjkmrtVxZpNm",
        "outputId": "2e1e3a03-ca4d-4433-a8f6-093bf6679d47"
      },
      "execution_count": null,
      "outputs": [
        {
          "output_type": "execute_result",
          "data": {
            "text/plain": [
              "FullAccount(account_id='dbid:AADBKJnEX5sKMQHomLV8zHHYAisHwN-IlcY', account_type=AccountType('basic', None), country='US', disabled=False, email='bruhhletmecompute@gmail.com', email_verified=True, is_paired=False, locale='en', name=Name(abbreviated_name='JL', display_name='Joohye Lee', familiar_name='Joohye', given_name='Joohye', surname='Lee'), profile_photo_url=NOT_SET, referral_link='https://www.dropbox.com/referrals/AADUYicEqNhK6gVldDgtTo64DMGQZC6RhGM?src=app9-4391555', root_info=UserRootInfo(home_namespace_id='12351690675', root_namespace_id='12351690675'), team=NOT_SET, team_member_id=NOT_SET)"
            ]
          },
          "metadata": {},
          "execution_count": 23
        }
      ]
    },
    {
      "cell_type": "code",
      "source": [
        "# STEP 4: Define helper functions\n",
        "def is_active(frame):\n",
        "    frame_rgb = cv2.cvtColor(frame, cv2.COLOR_BGR2RGB)\n",
        "    result = hands.process(frame_rgb)\n",
        "    return result.multi_hand_landmarks is not None\n",
        "\n",
        "def trim_video(video_path, output_path):\n",
        "    cap = cv2.VideoCapture(video_path)\n",
        "    frames = []\n",
        "    active_flags = []\n",
        "\n",
        "    while True:\n",
        "        ret, frame = cap.read()\n",
        "        if not ret:\n",
        "            break\n",
        "        frames.append(frame)\n",
        "        active_flags.append(is_active(frame))\n",
        "\n",
        "    cap.release()\n",
        "\n",
        "    active_indices = [i for i, active in enumerate(active_flags) if active]\n",
        "    if not active_indices:\n",
        "        print(f\"No signing detected in: {video_path}\")\n",
        "        return False\n",
        "\n",
        "    start = max(min(active_indices) - 5, 0)\n",
        "    end = min(max(active_indices) + 5, len(frames) - 1)\n",
        "\n",
        "    height, width, _ = frames[0].shape\n",
        "    out = cv2.VideoWriter(output_path, cv2.VideoWriter_fourcc(*'mp4v'), 30.0, (width, height))\n",
        "    for i in range(start, end + 1):\n",
        "        out.write(frames[i])\n",
        "    out.release()\n",
        "    return True\n",
        "\n",
        "def upload_to_dropbox(local_path, dropbox_path):\n",
        "    with open(local_path, \"rb\") as f:\n",
        "        dbx.files_upload(f.read(), dropbox_path, mode=dropbox.files.WriteMode.overwrite)\n",
        "\n",
        "def file_exists_in_dropbox(path):\n",
        "    try:\n",
        "        dbx.files_get_metadata(path)\n",
        "        return True\n",
        "    except dropbox.exceptions.ApiError as e:\n",
        "        if isinstance(e.error, dropbox.files.GetMetadataError) and e.error.is_path() and e.error.get_path().is_not_found():\n",
        "            return False\n",
        "        else:\n",
        "            raise e\n"
      ],
      "metadata": {
        "id": "TQ1j4WDBaSFO"
      },
      "execution_count": null,
      "outputs": []
    },
    {
      "cell_type": "markdown",
      "source": [
        "## Test the trimming on 10 videos first"
      ],
      "metadata": {
        "id": "qnqbWGINc_1l"
      }
    },
    {
      "cell_type": "code",
      "source": [
        "# STEP 5: Process and upload each split, tracking missing videos\n",
        "for split in SPLITS:\n",
        "    print(f\"\\nProcessing {split} split...\")\n",
        "    csv_path = os.path.join(SPLIT_DIR, f\"{split}_filtered.csv\")\n",
        "    df = pd.read_csv(csv_path).sample(n=10, random_state=42)  # Random sample of 10 videos\n",
        "\n",
        "    missing_count = 0\n",
        "    skipped_empty_count = 0\n",
        "    success_count = 0\n",
        "\n",
        "    for _, row in tqdm(df.iterrows(), total=len(df)):\n",
        "        video_filename = row['Video file']\n",
        "        input_path = os.path.join(VIDEO_DIR, video_filename)\n",
        "        local_output_path = os.path.join(TEMP_OUTPUT, video_filename)\n",
        "        dropbox_output_path = f\"/ASL_trimmed/{split}/{video_filename}\"\n",
        "\n",
        "        if os.path.exists(input_path):\n",
        "            success = trim_video(input_path, local_output_path)\n",
        "            if success:\n",
        "                upload_to_dropbox(local_output_path, dropbox_output_path)\n",
        "                success_count += 1\n",
        "            else:\n",
        "                skipped_empty_count += 1\n",
        "        else:\n",
        "            missing_count += 1\n",
        "\n",
        "    print(f\"\\nSplit: {split}\")\n",
        "    print(f\"  ✅ Trimmed and uploaded: {success_count}\")\n",
        "    print(f\"  ⚠️ Skipped (no active signing): {skipped_empty_count}\")\n",
        "    print(f\"  ❌ Missing videos: {missing_count}\")\n"
      ],
      "metadata": {
        "colab": {
          "base_uri": "https://localhost:8080/"
        },
        "id": "KsHXF2Htc-rn",
        "outputId": "533b3909-71ef-4baf-aaa4-0616d2ade214"
      },
      "execution_count": null,
      "outputs": [
        {
          "output_type": "stream",
          "name": "stdout",
          "text": [
            "\n",
            "Processing train split...\n"
          ]
        },
        {
          "output_type": "stream",
          "name": "stderr",
          "text": [
            "100%|██████████| 10/10 [01:13<00:00,  7.32s/it]\n"
          ]
        },
        {
          "output_type": "stream",
          "name": "stdout",
          "text": [
            "\n",
            "Split: train\n",
            "  ✅ Trimmed and uploaded: 10\n",
            "  ⚠️ Skipped (no active signing): 0\n",
            "  ❌ Missing videos: 0\n",
            "\n",
            "Processing val split...\n"
          ]
        },
        {
          "output_type": "stream",
          "name": "stderr",
          "text": [
            "100%|██████████| 10/10 [00:47<00:00,  4.73s/it]\n"
          ]
        },
        {
          "output_type": "stream",
          "name": "stdout",
          "text": [
            "\n",
            "Split: val\n",
            "  ✅ Trimmed and uploaded: 10\n",
            "  ⚠️ Skipped (no active signing): 0\n",
            "  ❌ Missing videos: 0\n",
            "\n",
            "Processing test split...\n"
          ]
        },
        {
          "output_type": "stream",
          "name": "stderr",
          "text": [
            "100%|██████████| 10/10 [00:52<00:00,  5.21s/it]"
          ]
        },
        {
          "output_type": "stream",
          "name": "stdout",
          "text": [
            "\n",
            "Split: test\n",
            "  ✅ Trimmed and uploaded: 10\n",
            "  ⚠️ Skipped (no active signing): 0\n",
            "  ❌ Missing videos: 0\n"
          ]
        },
        {
          "output_type": "stream",
          "name": "stderr",
          "text": [
            "\n"
          ]
        }
      ]
    },
    {
      "cell_type": "markdown",
      "source": [
        "## Trimming the full train, val, and test sets"
      ],
      "metadata": {
        "id": "lBn0y2IJg31M"
      }
    },
    {
      "cell_type": "code",
      "source": [
        "# STEP 5: Process and upload each split, tracking missing videos\n",
        "for split in SPLITS:\n",
        "    print(f\"\\nProcessing {split} split...\")\n",
        "    csv_path = os.path.join(SPLIT_DIR, f\"{split}_filtered.csv\")\n",
        "    df = pd.read_csv(csv_path)\n",
        "\n",
        "    missing_count = 0\n",
        "    skipped_empty_count = 0\n",
        "    success_count = 0\n",
        "\n",
        "    for _, row in tqdm(df.iterrows(), total=len(df)):\n",
        "        video_filename = row['Video file']\n",
        "        input_path = os.path.join(VIDEO_DIR, video_filename)\n",
        "        local_output_path = os.path.join(TEMP_OUTPUT, video_filename)\n",
        "        dropbox_output_path = f\"/ASL_trimmed/{split}/{video_filename}\"\n",
        "\n",
        "        if os.path.exists(input_path):\n",
        "            success = trim_video(input_path, local_output_path)\n",
        "            if success:\n",
        "                upload_to_dropbox(local_output_path, dropbox_output_path)\n",
        "                success_count += 1\n",
        "            else:\n",
        "                skipped_empty_count += 1\n",
        "        else:\n",
        "            missing_count += 1\n",
        "\n",
        "    print(f\"\\nSplit: {split}\")\n",
        "    print(f\"  ✅ Trimmed and uploaded: {success_count}\")\n",
        "    print(f\"  ⚠️ Skipped (no active signing): {skipped_empty_count}\")\n",
        "    print(f\"  ❌ Missing videos: {missing_count}\")\n",
        "\n"
      ],
      "metadata": {
        "colab": {
          "base_uri": "https://localhost:8080/",
          "height": 778
        },
        "id": "9Xt6zfiHbCya",
        "outputId": "58440ac6-a938-4aba-efab-cd3f68443a5c"
      },
      "execution_count": null,
      "outputs": [
        {
          "output_type": "stream",
          "name": "stdout",
          "text": [
            "\n",
            "Processing train split...\n"
          ]
        },
        {
          "output_type": "stream",
          "name": "stderr",
          "text": [
            " 40%|███▉      | 806/2031 [1:05:31<1:17:43,  3.81s/it]"
          ]
        },
        {
          "output_type": "stream",
          "name": "stdout",
          "text": [
            "No signing detected in: /content/drive/MyDrive/videos/12041907153156517-DOG 3.mp4\n"
          ]
        },
        {
          "output_type": "stream",
          "name": "stderr",
          "text": [
            " 41%|████      | 825/2031 [1:06:51<1:12:58,  3.63s/it]"
          ]
        },
        {
          "output_type": "stream",
          "name": "stdout",
          "text": [
            "No signing detected in: /content/drive/MyDrive/videos/22877680820569246-AND.mp4\n"
          ]
        },
        {
          "output_type": "stream",
          "name": "stderr",
          "text": [
            "100%|██████████| 2031/2031 [2:55:27<00:00,  5.18s/it]\n"
          ]
        },
        {
          "output_type": "stream",
          "name": "stdout",
          "text": [
            "\n",
            "Split: train\n",
            "  ✅ Trimmed and uploaded: 2029\n",
            "  ⚠️ Skipped (no active signing): 2\n",
            "  ❌ Missing videos: 0\n",
            "\n",
            "Processing val split...\n"
          ]
        },
        {
          "output_type": "stream",
          "name": "stderr",
          "text": [
            "100%|██████████| 504/504 [43:51<00:00,  5.22s/it]\n"
          ]
        },
        {
          "output_type": "stream",
          "name": "stdout",
          "text": [
            "\n",
            "Split: val\n",
            "  ✅ Trimmed and uploaded: 504\n",
            "  ⚠️ Skipped (no active signing): 0\n",
            "  ❌ Missing videos: 0\n",
            "\n",
            "Processing test split...\n"
          ]
        },
        {
          "output_type": "stream",
          "name": "stderr",
          "text": [
            "  2%|▏         | 9/500 [00:38<33:23,  4.08s/it]WARNING:dropbox:Unable to refresh access token without                 refresh token and app key\n",
            "  2%|▏         | 9/500 [00:42<38:12,  4.67s/it]\n"
          ]
        },
        {
          "output_type": "error",
          "ename": "AuthError",
          "evalue": "AuthError('6a04e147d35f4de68449b68ad950a757', AuthError('expired_access_token', None))",
          "traceback": [
            "\u001b[0;31m---------------------------------------------------------------------------\u001b[0m",
            "\u001b[0;31mAuthError\u001b[0m                                 Traceback (most recent call last)",
            "\u001b[0;32m<ipython-input-16-fc133f620ddb>\u001b[0m in \u001b[0;36m<cell line: 0>\u001b[0;34m()\u001b[0m\n\u001b[1;32m     18\u001b[0m             \u001b[0msuccess\u001b[0m \u001b[0;34m=\u001b[0m \u001b[0mtrim_video\u001b[0m\u001b[0;34m(\u001b[0m\u001b[0minput_path\u001b[0m\u001b[0;34m,\u001b[0m \u001b[0mlocal_output_path\u001b[0m\u001b[0;34m)\u001b[0m\u001b[0;34m\u001b[0m\u001b[0;34m\u001b[0m\u001b[0m\n\u001b[1;32m     19\u001b[0m             \u001b[0;32mif\u001b[0m \u001b[0msuccess\u001b[0m\u001b[0;34m:\u001b[0m\u001b[0;34m\u001b[0m\u001b[0;34m\u001b[0m\u001b[0m\n\u001b[0;32m---> 20\u001b[0;31m                 \u001b[0mupload_to_dropbox\u001b[0m\u001b[0;34m(\u001b[0m\u001b[0mlocal_output_path\u001b[0m\u001b[0;34m,\u001b[0m \u001b[0mdropbox_output_path\u001b[0m\u001b[0;34m)\u001b[0m\u001b[0;34m\u001b[0m\u001b[0;34m\u001b[0m\u001b[0m\n\u001b[0m\u001b[1;32m     21\u001b[0m                 \u001b[0msuccess_count\u001b[0m \u001b[0;34m+=\u001b[0m \u001b[0;36m1\u001b[0m\u001b[0;34m\u001b[0m\u001b[0;34m\u001b[0m\u001b[0m\n\u001b[1;32m     22\u001b[0m             \u001b[0;32melse\u001b[0m\u001b[0;34m:\u001b[0m\u001b[0;34m\u001b[0m\u001b[0;34m\u001b[0m\u001b[0m\n",
            "\u001b[0;32m<ipython-input-15-37011a14f96c>\u001b[0m in \u001b[0;36mupload_to_dropbox\u001b[0;34m(local_path, dropbox_path)\u001b[0m\n\u001b[1;32m     36\u001b[0m \u001b[0;32mdef\u001b[0m \u001b[0mupload_to_dropbox\u001b[0m\u001b[0;34m(\u001b[0m\u001b[0mlocal_path\u001b[0m\u001b[0;34m,\u001b[0m \u001b[0mdropbox_path\u001b[0m\u001b[0;34m)\u001b[0m\u001b[0;34m:\u001b[0m\u001b[0;34m\u001b[0m\u001b[0;34m\u001b[0m\u001b[0m\n\u001b[1;32m     37\u001b[0m     \u001b[0;32mwith\u001b[0m \u001b[0mopen\u001b[0m\u001b[0;34m(\u001b[0m\u001b[0mlocal_path\u001b[0m\u001b[0;34m,\u001b[0m \u001b[0;34m\"rb\"\u001b[0m\u001b[0;34m)\u001b[0m \u001b[0;32mas\u001b[0m \u001b[0mf\u001b[0m\u001b[0;34m:\u001b[0m\u001b[0;34m\u001b[0m\u001b[0;34m\u001b[0m\u001b[0m\n\u001b[0;32m---> 38\u001b[0;31m         \u001b[0mdbx\u001b[0m\u001b[0;34m.\u001b[0m\u001b[0mfiles_upload\u001b[0m\u001b[0;34m(\u001b[0m\u001b[0mf\u001b[0m\u001b[0;34m.\u001b[0m\u001b[0mread\u001b[0m\u001b[0;34m(\u001b[0m\u001b[0;34m)\u001b[0m\u001b[0;34m,\u001b[0m \u001b[0mdropbox_path\u001b[0m\u001b[0;34m,\u001b[0m \u001b[0mmode\u001b[0m\u001b[0;34m=\u001b[0m\u001b[0mdropbox\u001b[0m\u001b[0;34m.\u001b[0m\u001b[0mfiles\u001b[0m\u001b[0;34m.\u001b[0m\u001b[0mWriteMode\u001b[0m\u001b[0;34m.\u001b[0m\u001b[0moverwrite\u001b[0m\u001b[0;34m)\u001b[0m\u001b[0;34m\u001b[0m\u001b[0;34m\u001b[0m\u001b[0m\n\u001b[0m",
            "\u001b[0;32m/usr/local/lib/python3.11/dist-packages/dropbox/base.py\u001b[0m in \u001b[0;36mfiles_upload\u001b[0;34m(self, f, path, mode, autorename, client_modified, mute, property_groups, strict_conflict, content_hash)\u001b[0m\n\u001b[1;32m   3212\u001b[0m                               \u001b[0mstrict_conflict\u001b[0m\u001b[0;34m,\u001b[0m\u001b[0;34m\u001b[0m\u001b[0;34m\u001b[0m\u001b[0m\n\u001b[1;32m   3213\u001b[0m                               content_hash)\n\u001b[0;32m-> 3214\u001b[0;31m         r = self.request(\n\u001b[0m\u001b[1;32m   3215\u001b[0m             \u001b[0mfiles\u001b[0m\u001b[0;34m.\u001b[0m\u001b[0mupload\u001b[0m\u001b[0;34m,\u001b[0m\u001b[0;34m\u001b[0m\u001b[0;34m\u001b[0m\u001b[0m\n\u001b[1;32m   3216\u001b[0m             \u001b[0;34m'files'\u001b[0m\u001b[0;34m,\u001b[0m\u001b[0;34m\u001b[0m\u001b[0;34m\u001b[0m\u001b[0m\n",
            "\u001b[0;32m/usr/local/lib/python3.11/dist-packages/dropbox/dropbox_client.py\u001b[0m in \u001b[0;36mrequest\u001b[0;34m(self, route, namespace, request_arg, request_binary, timeout)\u001b[0m\n\u001b[1;32m    324\u001b[0m             \u001b[0mtimeout\u001b[0m \u001b[0;34m=\u001b[0m \u001b[0mrequest_arg\u001b[0m\u001b[0;34m.\u001b[0m\u001b[0mtimeout\u001b[0m \u001b[0;34m+\u001b[0m \u001b[0;36m90\u001b[0m\u001b[0;34m\u001b[0m\u001b[0;34m\u001b[0m\u001b[0m\n\u001b[1;32m    325\u001b[0m \u001b[0;34m\u001b[0m\u001b[0m\n\u001b[0;32m--> 326\u001b[0;31m         res = self.request_json_string_with_retry(host,\n\u001b[0m\u001b[1;32m    327\u001b[0m                                                   \u001b[0mroute_name\u001b[0m\u001b[0;34m,\u001b[0m\u001b[0;34m\u001b[0m\u001b[0;34m\u001b[0m\u001b[0m\n\u001b[1;32m    328\u001b[0m                                                   \u001b[0mroute_style\u001b[0m\u001b[0;34m,\u001b[0m\u001b[0;34m\u001b[0m\u001b[0;34m\u001b[0m\u001b[0m\n",
            "\u001b[0;32m/usr/local/lib/python3.11/dist-packages/dropbox/dropbox_client.py\u001b[0m in \u001b[0;36mrequest_json_string_with_retry\u001b[0;34m(self, host, route_name, route_style, request_json_arg, auth_type, request_binary, timeout)\u001b[0m\n\u001b[1;32m    474\u001b[0m             \u001b[0mself\u001b[0m\u001b[0;34m.\u001b[0m\u001b[0m_logger\u001b[0m\u001b[0;34m.\u001b[0m\u001b[0minfo\u001b[0m\u001b[0;34m(\u001b[0m\u001b[0;34m'Request to %s'\u001b[0m\u001b[0;34m,\u001b[0m \u001b[0mroute_name\u001b[0m\u001b[0;34m)\u001b[0m\u001b[0;34m\u001b[0m\u001b[0;34m\u001b[0m\u001b[0m\n\u001b[1;32m    475\u001b[0m             \u001b[0;32mtry\u001b[0m\u001b[0;34m:\u001b[0m\u001b[0;34m\u001b[0m\u001b[0;34m\u001b[0m\u001b[0m\n\u001b[0;32m--> 476\u001b[0;31m                 return self.request_json_string(host,\n\u001b[0m\u001b[1;32m    477\u001b[0m                                                 \u001b[0mroute_name\u001b[0m\u001b[0;34m,\u001b[0m\u001b[0;34m\u001b[0m\u001b[0;34m\u001b[0m\u001b[0m\n\u001b[1;32m    478\u001b[0m                                                 \u001b[0mroute_style\u001b[0m\u001b[0;34m,\u001b[0m\u001b[0;34m\u001b[0m\u001b[0;34m\u001b[0m\u001b[0m\n",
            "\u001b[0;32m/usr/local/lib/python3.11/dist-packages/dropbox/dropbox_client.py\u001b[0m in \u001b[0;36mrequest_json_string\u001b[0;34m(self, host, func_name, route_style, request_json_arg, auth_type, request_binary, timeout)\u001b[0m\n\u001b[1;32m    593\u001b[0m                                \u001b[0mtimeout\u001b[0m\u001b[0;34m=\u001b[0m\u001b[0mtimeout\u001b[0m\u001b[0;34m,\u001b[0m\u001b[0;34m\u001b[0m\u001b[0;34m\u001b[0m\u001b[0m\n\u001b[1;32m    594\u001b[0m                                )\n\u001b[0;32m--> 595\u001b[0;31m         \u001b[0mself\u001b[0m\u001b[0;34m.\u001b[0m\u001b[0mraise_dropbox_error_for_resp\u001b[0m\u001b[0;34m(\u001b[0m\u001b[0mr\u001b[0m\u001b[0;34m)\u001b[0m\u001b[0;34m\u001b[0m\u001b[0;34m\u001b[0m\u001b[0m\n\u001b[0m\u001b[1;32m    596\u001b[0m         \u001b[0mrequest_id\u001b[0m \u001b[0;34m=\u001b[0m \u001b[0mr\u001b[0m\u001b[0;34m.\u001b[0m\u001b[0mheaders\u001b[0m\u001b[0;34m.\u001b[0m\u001b[0mget\u001b[0m\u001b[0;34m(\u001b[0m\u001b[0;34m'x-dropbox-request-id'\u001b[0m\u001b[0;34m)\u001b[0m\u001b[0;34m\u001b[0m\u001b[0;34m\u001b[0m\u001b[0m\n\u001b[1;32m    597\u001b[0m         \u001b[0;32mif\u001b[0m \u001b[0mr\u001b[0m\u001b[0;34m.\u001b[0m\u001b[0mstatus_code\u001b[0m \u001b[0;32min\u001b[0m \u001b[0;34m(\u001b[0m\u001b[0;36m403\u001b[0m\u001b[0;34m,\u001b[0m \u001b[0;36m404\u001b[0m\u001b[0;34m,\u001b[0m \u001b[0;36m409\u001b[0m\u001b[0;34m)\u001b[0m\u001b[0;34m:\u001b[0m\u001b[0;34m\u001b[0m\u001b[0;34m\u001b[0m\u001b[0m\n",
            "\u001b[0;32m/usr/local/lib/python3.11/dist-packages/dropbox/dropbox_client.py\u001b[0m in \u001b[0;36mraise_dropbox_error_for_resp\u001b[0;34m(self, res)\u001b[0m\n\u001b[1;32m    636\u001b[0m             err = stone_serializers.json_compat_obj_decode(\n\u001b[1;32m    637\u001b[0m                 AuthError_validator, res.json()['error'])\n\u001b[0;32m--> 638\u001b[0;31m             \u001b[0;32mraise\u001b[0m \u001b[0mAuthError\u001b[0m\u001b[0;34m(\u001b[0m\u001b[0mrequest_id\u001b[0m\u001b[0;34m,\u001b[0m \u001b[0merr\u001b[0m\u001b[0;34m)\u001b[0m\u001b[0;34m\u001b[0m\u001b[0;34m\u001b[0m\u001b[0m\n\u001b[0m\u001b[1;32m    639\u001b[0m         \u001b[0;32melif\u001b[0m \u001b[0mres\u001b[0m\u001b[0;34m.\u001b[0m\u001b[0mstatus_code\u001b[0m \u001b[0;34m==\u001b[0m \u001b[0mHTTP_STATUS_INVALID_PATH_ROOT\u001b[0m\u001b[0;34m:\u001b[0m\u001b[0;34m\u001b[0m\u001b[0;34m\u001b[0m\u001b[0m\n\u001b[1;32m    640\u001b[0m             err = stone_serializers.json_compat_obj_decode(\n",
            "\u001b[0;31mAuthError\u001b[0m: AuthError('6a04e147d35f4de68449b68ad950a757', AuthError('expired_access_token', None))"
          ]
        }
      ]
    },
    {
      "cell_type": "code",
      "source": [
        "for split in ['test']:\n",
        "    print(f\"\\nProcessing {split} split...\")\n",
        "    csv_path = os.path.join(SPLIT_DIR, f\"{split}_filtered.csv\")\n",
        "    df = pd.read_csv(csv_path)  # remove `.sample()` for full test set\n",
        "\n",
        "    missing_count = 0\n",
        "    skipped_empty_count = 0\n",
        "    success_count = 0\n",
        "\n",
        "    for _, row in tqdm(df.iterrows(), total=len(df)):\n",
        "        video_filename = row['Video file']\n",
        "        input_path = os.path.join(VIDEO_DIR, video_filename)\n",
        "        local_output_path = os.path.join(TEMP_OUTPUT, video_filename)\n",
        "        dropbox_output_path = f\"/ASL_trimmed/{split}/{video_filename}\"\n",
        "\n",
        "        if os.path.exists(input_path):\n",
        "            if file_exists_in_dropbox(dropbox_output_path):\n",
        "                print(f\"✔️ Already uploaded: {dropbox_output_path}\")\n",
        "                success_count += 1\n",
        "                continue\n",
        "\n",
        "            success = trim_video(input_path, local_output_path)\n",
        "            if success:\n",
        "                upload_to_dropbox(local_output_path, dropbox_output_path)\n",
        "                success_count += 1\n",
        "            else:\n",
        "                skipped_empty_count += 1\n",
        "        else:\n",
        "            missing_count += 1\n",
        "\n",
        "    print(f\"\\nSplit: {split}\")\n",
        "    print(f\"  ✅ Trimmed and uploaded: {success_count}\")\n",
        "    print(f\"  ⚠️ Skipped (no active signing): {skipped_empty_count}\")\n",
        "    print(f\"  ❌ Missing videos: {missing_count}\")\n"
      ],
      "metadata": {
        "colab": {
          "base_uri": "https://localhost:8080/"
        },
        "id": "bltibX5J7gdf",
        "outputId": "d98d2604-40df-4f7e-fce1-50ed1535a1c8"
      },
      "execution_count": null,
      "outputs": [
        {
          "output_type": "stream",
          "name": "stdout",
          "text": [
            "\n",
            "Processing test split...\n"
          ]
        },
        {
          "output_type": "stream",
          "name": "stderr",
          "text": [
            "  0%|          | 1/500 [00:00<03:24,  2.44it/s]"
          ]
        },
        {
          "output_type": "stream",
          "name": "stdout",
          "text": [
            "✔️ Already uploaded: /ASL_trimmed/test/8126542305240905-PEOPLE.mp4\n"
          ]
        },
        {
          "output_type": "stream",
          "name": "stderr",
          "text": [
            "\r  0%|          | 2/500 [00:00<02:41,  3.09it/s]"
          ]
        },
        {
          "output_type": "stream",
          "name": "stdout",
          "text": [
            "✔️ Already uploaded: /ASL_trimmed/test/3129942110486452-THEN.mp4\n"
          ]
        },
        {
          "output_type": "stream",
          "name": "stderr",
          "text": [
            "\r  1%|          | 3/500 [00:01<03:04,  2.69it/s]"
          ]
        },
        {
          "output_type": "stream",
          "name": "stdout",
          "text": [
            "✔️ Already uploaded: /ASL_trimmed/test/8893172628755586-APPLE.mp4\n"
          ]
        },
        {
          "output_type": "stream",
          "name": "stderr",
          "text": [
            "\r  1%|          | 4/500 [00:01<02:42,  3.06it/s]"
          ]
        },
        {
          "output_type": "stream",
          "name": "stdout",
          "text": [
            "✔️ Already uploaded: /ASL_trimmed/test/5356379452910163-TO.mp4\n"
          ]
        },
        {
          "output_type": "stream",
          "name": "stderr",
          "text": [
            "\r  1%|          | 5/500 [00:01<02:32,  3.24it/s]"
          ]
        },
        {
          "output_type": "stream",
          "name": "stdout",
          "text": [
            "✔️ Already uploaded: /ASL_trimmed/test/41547235567113083-BRING.mp4\n"
          ]
        },
        {
          "output_type": "stream",
          "name": "stderr",
          "text": [
            "\r  1%|          | 6/500 [00:01<02:28,  3.33it/s]"
          ]
        },
        {
          "output_type": "stream",
          "name": "stdout",
          "text": [
            "✔️ Already uploaded: /ASL_trimmed/test/44840054365929793-USE.mp4\n"
          ]
        },
        {
          "output_type": "stream",
          "name": "stderr",
          "text": [
            "\r  1%|▏         | 7/500 [00:02<02:22,  3.46it/s]"
          ]
        },
        {
          "output_type": "stream",
          "name": "stdout",
          "text": [
            "✔️ Already uploaded: /ASL_trimmed/test/22962898136957977-FROM.mp4\n"
          ]
        },
        {
          "output_type": "stream",
          "name": "stderr",
          "text": [
            "\r  2%|▏         | 8/500 [00:02<02:21,  3.49it/s]"
          ]
        },
        {
          "output_type": "stream",
          "name": "stdout",
          "text": [
            "✔️ Already uploaded: /ASL_trimmed/test/15106441828646178-WHEN.mp4\n"
          ]
        },
        {
          "output_type": "stream",
          "name": "stderr",
          "text": [
            "\r  2%|▏         | 9/500 [00:02<02:23,  3.43it/s]"
          ]
        },
        {
          "output_type": "stream",
          "name": "stdout",
          "text": [
            "✔️ Already uploaded: /ASL_trimmed/test/9506704114850111-AND.mp4\n"
          ]
        },
        {
          "output_type": "stream",
          "name": "stderr",
          "text": [
            "\r  2%|▏         | 10/500 [00:03<02:33,  3.19it/s]"
          ]
        },
        {
          "output_type": "stream",
          "name": "stdout",
          "text": [
            "✔️ Already uploaded: /ASL_trimmed/test/5736244660261602-DAY.mp4\n"
          ]
        },
        {
          "output_type": "stream",
          "name": "stderr",
          "text": [
            "\r  2%|▏         | 11/500 [00:03<02:31,  3.23it/s]"
          ]
        },
        {
          "output_type": "stream",
          "name": "stdout",
          "text": [
            "✔️ Already uploaded: /ASL_trimmed/test/6099192272966338-ASK.mp4\n"
          ]
        },
        {
          "output_type": "stream",
          "name": "stderr",
          "text": [
            "\r  2%|▏         | 12/500 [00:03<02:26,  3.33it/s]"
          ]
        },
        {
          "output_type": "stream",
          "name": "stdout",
          "text": [
            "✔️ Already uploaded: /ASL_trimmed/test/7933932035972608-SEE.mp4\n"
          ]
        },
        {
          "output_type": "stream",
          "name": "stderr",
          "text": [
            "\r  3%|▎         | 13/500 [00:03<02:21,  3.44it/s]"
          ]
        },
        {
          "output_type": "stream",
          "name": "stdout",
          "text": [
            "✔️ Already uploaded: /ASL_trimmed/test/9804615772904894-ACCEPT.mp4\n"
          ]
        },
        {
          "output_type": "stream",
          "name": "stderr",
          "text": [
            "\r  3%|▎         | 14/500 [00:04<02:21,  3.43it/s]"
          ]
        },
        {
          "output_type": "stream",
          "name": "stdout",
          "text": [
            "✔️ Already uploaded: /ASL_trimmed/test/2995032434827616-IN.mp4\n"
          ]
        },
        {
          "output_type": "stream",
          "name": "stderr",
          "text": [
            "\r  3%|▎         | 15/500 [00:04<02:29,  3.24it/s]"
          ]
        },
        {
          "output_type": "stream",
          "name": "stdout",
          "text": [
            "✔️ Already uploaded: /ASL_trimmed/test/22369668985632774-YOUR.mp4\n"
          ]
        },
        {
          "output_type": "stream",
          "name": "stderr",
          "text": [
            "\r  3%|▎         | 16/500 [00:04<02:25,  3.33it/s]"
          ]
        },
        {
          "output_type": "stream",
          "name": "stdout",
          "text": [
            "✔️ Already uploaded: /ASL_trimmed/test/23514977958102468-GET.mp4\n"
          ]
        },
        {
          "output_type": "stream",
          "name": "stderr",
          "text": [
            "\r  3%|▎         | 17/500 [00:05<03:04,  2.62it/s]"
          ]
        },
        {
          "output_type": "stream",
          "name": "stdout",
          "text": [
            "✔️ Already uploaded: /ASL_trimmed/test/6636078192055421-USE.mp4\n"
          ]
        },
        {
          "output_type": "stream",
          "name": "stderr",
          "text": [
            "\r  4%|▎         | 18/500 [00:05<02:46,  2.89it/s]"
          ]
        },
        {
          "output_type": "stream",
          "name": "stdout",
          "text": [
            "✔️ Already uploaded: /ASL_trimmed/test/11428282499097397-WORK.mp4\n"
          ]
        },
        {
          "output_type": "stream",
          "name": "stderr",
          "text": [
            "\r  4%|▍         | 19/500 [00:06<02:43,  2.93it/s]"
          ]
        },
        {
          "output_type": "stream",
          "name": "stdout",
          "text": [
            "✔️ Already uploaded: /ASL_trimmed/test/5763756523961849-NOT.mp4\n"
          ]
        },
        {
          "output_type": "stream",
          "name": "stderr",
          "text": [
            "\r  4%|▍         | 20/500 [00:06<02:37,  3.05it/s]"
          ]
        },
        {
          "output_type": "stream",
          "name": "stdout",
          "text": [
            "✔️ Already uploaded: /ASL_trimmed/test/8479700648926225-THERE.mp4\n"
          ]
        },
        {
          "output_type": "stream",
          "name": "stderr",
          "text": [
            "\r  4%|▍         | 21/500 [00:06<02:30,  3.18it/s]"
          ]
        },
        {
          "output_type": "stream",
          "name": "stdout",
          "text": [
            "✔️ Already uploaded: /ASL_trimmed/test/01207267097409459-BIRD.mp4\n"
          ]
        },
        {
          "output_type": "stream",
          "name": "stderr",
          "text": [
            "\r  4%|▍         | 22/500 [00:06<02:31,  3.16it/s]"
          ]
        },
        {
          "output_type": "stream",
          "name": "stdout",
          "text": [
            "✔️ Already uploaded: /ASL_trimmed/test/5813412743225945-THERE.mp4\n"
          ]
        },
        {
          "output_type": "stream",
          "name": "stderr",
          "text": [
            "\r  5%|▍         | 23/500 [00:07<02:25,  3.27it/s]"
          ]
        },
        {
          "output_type": "stream",
          "name": "stdout",
          "text": [
            "✔️ Already uploaded: /ASL_trimmed/test/9396478601534008-OTHER.mp4\n"
          ]
        },
        {
          "output_type": "stream",
          "name": "stderr",
          "text": [
            "\r  5%|▍         | 24/500 [00:07<02:26,  3.25it/s]"
          ]
        },
        {
          "output_type": "stream",
          "name": "stdout",
          "text": [
            "✔️ Already uploaded: /ASL_trimmed/test/1477387265248813-IF.mp4\n"
          ]
        },
        {
          "output_type": "stream",
          "name": "stderr",
          "text": [
            "\r  5%|▌         | 25/500 [00:07<02:20,  3.37it/s]"
          ]
        },
        {
          "output_type": "stream",
          "name": "stdout",
          "text": [
            "✔️ Already uploaded: /ASL_trimmed/test/46445591302051503-MAKE.mp4\n"
          ]
        },
        {
          "output_type": "stream",
          "name": "stderr",
          "text": [
            "\r  5%|▌         | 26/500 [00:08<02:27,  3.21it/s]"
          ]
        },
        {
          "output_type": "stream",
          "name": "stdout",
          "text": [
            "✔️ Already uploaded: /ASL_trimmed/test/9528073095391749-BUT.mp4\n"
          ]
        },
        {
          "output_type": "stream",
          "name": "stderr",
          "text": [
            "\r  5%|▌         | 27/500 [00:08<02:19,  3.40it/s]"
          ]
        },
        {
          "output_type": "stream",
          "name": "stdout",
          "text": [
            "✔️ Already uploaded: /ASL_trimmed/test/5095791824151905-BRING.mp4\n"
          ]
        },
        {
          "output_type": "stream",
          "name": "stderr",
          "text": [
            "\r  6%|▌         | 28/500 [00:08<02:54,  2.70it/s]"
          ]
        },
        {
          "output_type": "stream",
          "name": "stdout",
          "text": [
            "✔️ Already uploaded: /ASL_trimmed/test/4770356774327982-WORK.mp4\n"
          ]
        },
        {
          "output_type": "stream",
          "name": "stderr",
          "text": [
            "\r  6%|▌         | 29/500 [00:09<02:41,  2.91it/s]"
          ]
        },
        {
          "output_type": "stream",
          "name": "stdout",
          "text": [
            "✔️ Already uploaded: /ASL_trimmed/test/13169238580393783-MAKE.mp4\n"
          ]
        },
        {
          "output_type": "stream",
          "name": "stderr",
          "text": [
            "\r  6%|▌         | 30/500 [00:09<02:34,  3.05it/s]"
          ]
        },
        {
          "output_type": "stream",
          "name": "stdout",
          "text": [
            "✔️ Already uploaded: /ASL_trimmed/test/0444306344409926-DREAM.mp4\n"
          ]
        },
        {
          "output_type": "stream",
          "name": "stderr",
          "text": [
            "\r  6%|▌         | 31/500 [00:09<02:34,  3.04it/s]"
          ]
        },
        {
          "output_type": "stream",
          "name": "stdout",
          "text": [
            "✔️ Already uploaded: /ASL_trimmed/test/22413626372355933-GOOD.mp4\n"
          ]
        },
        {
          "output_type": "stream",
          "name": "stderr",
          "text": [
            "\r  6%|▋         | 32/500 [00:10<02:27,  3.18it/s]"
          ]
        },
        {
          "output_type": "stream",
          "name": "stdout",
          "text": [
            "✔️ Already uploaded: /ASL_trimmed/test/8178850636707293-THINK.mp4\n"
          ]
        },
        {
          "output_type": "stream",
          "name": "stderr",
          "text": [
            "\r  7%|▋         | 33/500 [00:10<02:27,  3.17it/s]"
          ]
        },
        {
          "output_type": "stream",
          "name": "stdout",
          "text": [
            "✔️ Already uploaded: /ASL_trimmed/test/7413357040462987-BUT.mp4\n"
          ]
        },
        {
          "output_type": "stream",
          "name": "stderr",
          "text": [
            "\r  7%|▋         | 34/500 [00:11<03:05,  2.51it/s]"
          ]
        },
        {
          "output_type": "stream",
          "name": "stdout",
          "text": [
            "✔️ Already uploaded: /ASL_trimmed/test/9512664792021017-OUT.mp4\n"
          ]
        },
        {
          "output_type": "stream",
          "name": "stderr",
          "text": [
            "\r  7%|▋         | 35/500 [00:12<06:36,  1.17it/s]"
          ]
        },
        {
          "output_type": "stream",
          "name": "stdout",
          "text": [
            "✔️ Already uploaded: /ASL_trimmed/test/6339230507709075-WHO.mp4\n"
          ]
        },
        {
          "output_type": "stream",
          "name": "stderr",
          "text": [
            "\r  7%|▋         | 36/500 [00:13<05:16,  1.47it/s]"
          ]
        },
        {
          "output_type": "stream",
          "name": "stdout",
          "text": [
            "✔️ Already uploaded: /ASL_trimmed/test/6124066604162841-US.mp4\n"
          ]
        },
        {
          "output_type": "stream",
          "name": "stderr",
          "text": [
            "\r  7%|▋         | 37/500 [00:13<04:39,  1.66it/s]"
          ]
        },
        {
          "output_type": "stream",
          "name": "stdout",
          "text": [
            "✔️ Already uploaded: /ASL_trimmed/test/3320164361122848-GET.mp4\n"
          ]
        },
        {
          "output_type": "stream",
          "name": "stderr",
          "text": [
            "\r  8%|▊         | 38/500 [00:14<04:01,  1.92it/s]"
          ]
        },
        {
          "output_type": "stream",
          "name": "stdout",
          "text": [
            "✔️ Already uploaded: /ASL_trimmed/test/15631750362649433-AT.mp4\n"
          ]
        },
        {
          "output_type": "stream",
          "name": "stderr",
          "text": [
            "\r  8%|▊         | 39/500 [00:14<03:25,  2.24it/s]"
          ]
        },
        {
          "output_type": "stream",
          "name": "stdout",
          "text": [
            "✔️ Already uploaded: /ASL_trimmed/test/8738315692667191-CARRY.mp4\n"
          ]
        },
        {
          "output_type": "stream",
          "name": "stderr",
          "text": [
            "\r  8%|▊         | 40/500 [00:14<03:48,  2.01it/s]"
          ]
        },
        {
          "output_type": "stream",
          "name": "stdout",
          "text": [
            "✔️ Already uploaded: /ASL_trimmed/test/7900211756909432-YOU.mp4\n"
          ]
        },
        {
          "output_type": "stream",
          "name": "stderr",
          "text": [
            "\r  8%|▊         | 41/500 [00:15<03:22,  2.26it/s]"
          ]
        },
        {
          "output_type": "stream",
          "name": "stdout",
          "text": [
            "✔️ Already uploaded: /ASL_trimmed/test/6626824329420462-ARRIVE.mp4\n"
          ]
        },
        {
          "output_type": "stream",
          "name": "stderr",
          "text": [
            "\r  8%|▊         | 42/500 [00:15<03:00,  2.54it/s]"
          ]
        },
        {
          "output_type": "stream",
          "name": "stdout",
          "text": [
            "✔️ Already uploaded: /ASL_trimmed/test/618705132779968-LIKE.mp4\n"
          ]
        },
        {
          "output_type": "stream",
          "name": "stderr",
          "text": [
            "\r  9%|▊         | 43/500 [00:15<02:44,  2.78it/s]"
          ]
        },
        {
          "output_type": "stream",
          "name": "stdout",
          "text": [
            "✔️ Already uploaded: /ASL_trimmed/test/6254864635409909-NOW.mp4\n"
          ]
        },
        {
          "output_type": "stream",
          "name": "stderr",
          "text": [
            "\r  9%|▉         | 44/500 [00:16<02:34,  2.95it/s]"
          ]
        },
        {
          "output_type": "stream",
          "name": "stdout",
          "text": [
            "✔️ Already uploaded: /ASL_trimmed/test/5278795760893484-NO.mp4\n"
          ]
        },
        {
          "output_type": "stream",
          "name": "stderr",
          "text": [
            "\r  9%|▉         | 45/500 [00:16<02:27,  3.09it/s]"
          ]
        },
        {
          "output_type": "stream",
          "name": "stdout",
          "text": [
            "✔️ Already uploaded: /ASL_trimmed/test/8834363279772663-GO.mp4\n"
          ]
        },
        {
          "output_type": "stream",
          "name": "stderr",
          "text": [
            "\r  9%|▉         | 46/500 [00:16<02:28,  3.06it/s]"
          ]
        },
        {
          "output_type": "stream",
          "name": "stdout",
          "text": [
            "✔️ Already uploaded: /ASL_trimmed/test/598205906686955-NOT.mp4\n"
          ]
        },
        {
          "output_type": "stream",
          "name": "stderr",
          "text": [
            "\r  9%|▉         | 47/500 [00:16<02:17,  3.29it/s]"
          ]
        },
        {
          "output_type": "stream",
          "name": "stdout",
          "text": [
            "✔️ Already uploaded: /ASL_trimmed/test/041933377714813425-DAY.mp4\n"
          ]
        },
        {
          "output_type": "stream",
          "name": "stderr",
          "text": [
            "\r 10%|▉         | 48/500 [00:17<02:13,  3.39it/s]"
          ]
        },
        {
          "output_type": "stream",
          "name": "stdout",
          "text": [
            "✔️ Already uploaded: /ASL_trimmed/test/44048256055488677-OUR.mp4\n"
          ]
        },
        {
          "output_type": "stream",
          "name": "stderr",
          "text": [
            "\r 10%|▉         | 49/500 [00:17<02:11,  3.42it/s]"
          ]
        },
        {
          "output_type": "stream",
          "name": "stdout",
          "text": [
            "✔️ Already uploaded: /ASL_trimmed/test/24180821046509338-TWO.mp4\n"
          ]
        },
        {
          "output_type": "stream",
          "name": "stderr",
          "text": [
            "\r 10%|█         | 50/500 [00:17<02:10,  3.44it/s]"
          ]
        },
        {
          "output_type": "stream",
          "name": "stdout",
          "text": [
            "✔️ Already uploaded: /ASL_trimmed/test/4796062850106333-CAR.mp4\n"
          ]
        },
        {
          "output_type": "stream",
          "name": "stderr",
          "text": [
            "\r 10%|█         | 51/500 [00:18<02:07,  3.51it/s]"
          ]
        },
        {
          "output_type": "stream",
          "name": "stdout",
          "text": [
            "✔️ Already uploaded: /ASL_trimmed/test/5270362215385997-UP.mp4\n"
          ]
        },
        {
          "output_type": "stream",
          "name": "stderr",
          "text": [
            "\r 10%|█         | 52/500 [00:18<02:04,  3.59it/s]"
          ]
        },
        {
          "output_type": "stream",
          "name": "stdout",
          "text": [
            "✔️ Already uploaded: /ASL_trimmed/test/8754454943280736-COOK.mp4\n"
          ]
        },
        {
          "output_type": "stream",
          "name": "stderr",
          "text": [
            "\r 11%|█         | 53/500 [00:18<02:01,  3.68it/s]"
          ]
        },
        {
          "output_type": "stream",
          "name": "stdout",
          "text": [
            "✔️ Already uploaded: /ASL_trimmed/test/36496515310971245-DREAM.mp4\n"
          ]
        },
        {
          "output_type": "stream",
          "name": "stderr",
          "text": [
            "\r 11%|█         | 54/500 [00:18<02:07,  3.50it/s]"
          ]
        },
        {
          "output_type": "stream",
          "name": "stdout",
          "text": [
            "✔️ Already uploaded: /ASL_trimmed/test/9372621222256978-BASEMENT.mp4\n"
          ]
        },
        {
          "output_type": "stream",
          "name": "stderr",
          "text": [
            "\r 11%|█         | 55/500 [00:19<02:07,  3.48it/s]"
          ]
        },
        {
          "output_type": "stream",
          "name": "stdout",
          "text": [
            "✔️ Already uploaded: /ASL_trimmed/test/45293414021296297-ARRIVE.mp4\n"
          ]
        },
        {
          "output_type": "stream",
          "name": "stderr",
          "text": [
            "\r 11%|█         | 56/500 [00:19<02:05,  3.54it/s]"
          ]
        },
        {
          "output_type": "stream",
          "name": "stdout",
          "text": [
            "✔️ Already uploaded: /ASL_trimmed/test/9294205798192716-YEAR.mp4\n"
          ]
        },
        {
          "output_type": "stream",
          "name": "stderr",
          "text": [
            "\r 11%|█▏        | 57/500 [00:19<02:04,  3.57it/s]"
          ]
        },
        {
          "output_type": "stream",
          "name": "stdout",
          "text": [
            "✔️ Already uploaded: /ASL_trimmed/test/17873651180777506-NEW.mp4\n"
          ]
        },
        {
          "output_type": "stream",
          "name": "stderr",
          "text": [
            "\r 12%|█▏        | 58/500 [00:20<02:04,  3.56it/s]"
          ]
        },
        {
          "output_type": "stream",
          "name": "stdout",
          "text": [
            "✔️ Already uploaded: /ASL_trimmed/test/7990752827994236-TAKE.mp4\n"
          ]
        },
        {
          "output_type": "stream",
          "name": "stderr",
          "text": [
            "\r 12%|█▏        | 59/500 [00:20<02:02,  3.59it/s]"
          ]
        },
        {
          "output_type": "stream",
          "name": "stdout",
          "text": [
            "✔️ Already uploaded: /ASL_trimmed/test/6280101414720403-DOOR.mp4\n"
          ]
        },
        {
          "output_type": "stream",
          "name": "stderr",
          "text": [
            "\r 12%|█▏        | 60/500 [00:20<02:04,  3.54it/s]"
          ]
        },
        {
          "output_type": "stream",
          "name": "stdout",
          "text": [
            "✔️ Already uploaded: /ASL_trimmed/test/7612298222361966-HIS.mp4\n"
          ]
        },
        {
          "output_type": "stream",
          "name": "stderr",
          "text": [
            "\r 12%|█▏        | 61/500 [00:20<02:08,  3.41it/s]"
          ]
        },
        {
          "output_type": "stream",
          "name": "stdout",
          "text": [
            "✔️ Already uploaded: /ASL_trimmed/test/45589680055019044-US.mp4\n"
          ]
        },
        {
          "output_type": "stream",
          "name": "stderr",
          "text": [
            "\r 12%|█▏        | 62/500 [00:21<02:24,  3.03it/s]"
          ]
        },
        {
          "output_type": "stream",
          "name": "stdout",
          "text": [
            "✔️ Already uploaded: /ASL_trimmed/test/6230415830085574-BIRD.mp4\n"
          ]
        },
        {
          "output_type": "stream",
          "name": "stderr",
          "text": [
            "\r 13%|█▎        | 63/500 [00:21<02:15,  3.24it/s]"
          ]
        },
        {
          "output_type": "stream",
          "name": "stdout",
          "text": [
            "✔️ Already uploaded: /ASL_trimmed/test/7589052265859373-ONE.mp4\n"
          ]
        },
        {
          "output_type": "stream",
          "name": "stderr",
          "text": [
            "\r 13%|█▎        | 64/500 [00:21<02:10,  3.35it/s]"
          ]
        },
        {
          "output_type": "stream",
          "name": "stdout",
          "text": [
            "✔️ Already uploaded: /ASL_trimmed/test/5055945545044311-KNOW.mp4\n"
          ]
        },
        {
          "output_type": "stream",
          "name": "stderr",
          "text": [
            "\r 13%|█▎        | 65/500 [00:22<02:05,  3.45it/s]"
          ]
        },
        {
          "output_type": "stream",
          "name": "stdout",
          "text": [
            "✔️ Already uploaded: /ASL_trimmed/test/10506892472594931-APPLE.mp4\n"
          ]
        },
        {
          "output_type": "stream",
          "name": "stderr",
          "text": [
            "\r 13%|█▎        | 66/500 [00:22<02:09,  3.36it/s]"
          ]
        },
        {
          "output_type": "stream",
          "name": "stdout",
          "text": [
            "✔️ Already uploaded: /ASL_trimmed/test/5924998494813887-CHAIR.mp4\n"
          ]
        },
        {
          "output_type": "stream",
          "name": "stderr",
          "text": [
            "\r 13%|█▎        | 67/500 [00:22<02:03,  3.51it/s]"
          ]
        },
        {
          "output_type": "stream",
          "name": "stdout",
          "text": [
            "✔️ Already uploaded: /ASL_trimmed/test/7192979454263522-THAT.mp4\n"
          ]
        },
        {
          "output_type": "stream",
          "name": "stderr",
          "text": [
            "\r 14%|█▎        | 68/500 [00:23<02:26,  2.94it/s]"
          ]
        },
        {
          "output_type": "stream",
          "name": "stdout",
          "text": [
            "✔️ Already uploaded: /ASL_trimmed/test/5333588864893795-CUT 1.mp4\n"
          ]
        },
        {
          "output_type": "stream",
          "name": "stderr",
          "text": [
            "\r 14%|█▍        | 69/500 [00:23<02:17,  3.14it/s]"
          ]
        },
        {
          "output_type": "stream",
          "name": "stdout",
          "text": [
            "✔️ Already uploaded: /ASL_trimmed/test/08842611261089162-THAT.mp4\n"
          ]
        },
        {
          "output_type": "stream",
          "name": "stderr",
          "text": [
            "\r 14%|█▍        | 70/500 [00:23<02:12,  3.25it/s]"
          ]
        },
        {
          "output_type": "stream",
          "name": "stdout",
          "text": [
            "✔️ Already uploaded: /ASL_trimmed/test/8841748293271439-CLASS.mp4\n"
          ]
        },
        {
          "output_type": "stream",
          "name": "stderr",
          "text": [
            "\r 14%|█▍        | 71/500 [00:24<02:10,  3.28it/s]"
          ]
        },
        {
          "output_type": "stream",
          "name": "stdout",
          "text": [
            "✔️ Already uploaded: /ASL_trimmed/test/32465299263225966-USE.mp4\n"
          ]
        },
        {
          "output_type": "stream",
          "name": "stderr",
          "text": [
            "\r 14%|█▍        | 72/500 [00:24<02:09,  3.32it/s]"
          ]
        },
        {
          "output_type": "stream",
          "name": "stdout",
          "text": [
            "✔️ Already uploaded: /ASL_trimmed/test/8764686741870171-WITH.mp4\n"
          ]
        },
        {
          "output_type": "stream",
          "name": "stderr",
          "text": [
            "\r 15%|█▍        | 73/500 [00:24<02:08,  3.31it/s]"
          ]
        },
        {
          "output_type": "stream",
          "name": "stdout",
          "text": [
            "✔️ Already uploaded: /ASL_trimmed/test/6198968659630029-YOU.mp4\n"
          ]
        },
        {
          "output_type": "stream",
          "name": "stderr",
          "text": [
            "\r 15%|█▍        | 74/500 [00:24<02:03,  3.45it/s]"
          ]
        },
        {
          "output_type": "stream",
          "name": "stdout",
          "text": [
            "✔️ Already uploaded: /ASL_trimmed/test/9985170878370957-HE.mp4\n"
          ]
        },
        {
          "output_type": "stream",
          "name": "stderr",
          "text": [
            "\r 15%|█▌        | 75/500 [00:25<02:49,  2.51it/s]"
          ]
        },
        {
          "output_type": "stream",
          "name": "stdout",
          "text": [
            "✔️ Already uploaded: /ASL_trimmed/test/16430646158155082-WORK.mp4\n"
          ]
        },
        {
          "output_type": "stream",
          "name": "stderr",
          "text": [
            "\r 15%|█▌        | 76/500 [00:25<02:30,  2.81it/s]"
          ]
        },
        {
          "output_type": "stream",
          "name": "stdout",
          "text": [
            "✔️ Already uploaded: /ASL_trimmed/test/10656902207222507-ACCEPT.mp4\n"
          ]
        },
        {
          "output_type": "stream",
          "name": "stderr",
          "text": [
            "\r 15%|█▌        | 77/500 [00:26<02:20,  3.01it/s]"
          ]
        },
        {
          "output_type": "stream",
          "name": "stdout",
          "text": [
            "✔️ Already uploaded: /ASL_trimmed/test/23400385185193318-FRIEND.mp4\n"
          ]
        },
        {
          "output_type": "stream",
          "name": "stderr",
          "text": [
            "\r 16%|█▌        | 78/500 [00:26<02:10,  3.24it/s]"
          ]
        },
        {
          "output_type": "stream",
          "name": "stdout",
          "text": [
            "✔️ Already uploaded: /ASL_trimmed/test/9655102042458683-DANCE.mp4\n"
          ]
        },
        {
          "output_type": "stream",
          "name": "stderr",
          "text": [
            "\r 16%|█▌        | 79/500 [00:26<02:05,  3.37it/s]"
          ]
        },
        {
          "output_type": "stream",
          "name": "stdout",
          "text": [
            "✔️ Already uploaded: /ASL_trimmed/test/032373382598848366-GO.mp4\n"
          ]
        },
        {
          "output_type": "stream",
          "name": "stderr",
          "text": [
            "\r 16%|█▌        | 80/500 [00:26<02:04,  3.37it/s]"
          ]
        },
        {
          "output_type": "stream",
          "name": "stdout",
          "text": [
            "✔️ Already uploaded: /ASL_trimmed/test/9491255438374664-ON.mp4\n"
          ]
        },
        {
          "output_type": "stream",
          "name": "stderr",
          "text": [
            "\r 16%|█▌        | 81/500 [00:27<02:01,  3.45it/s]"
          ]
        },
        {
          "output_type": "stream",
          "name": "stdout",
          "text": [
            "✔️ Already uploaded: /ASL_trimmed/test/7071284751005626-OR.mp4\n"
          ]
        },
        {
          "output_type": "stream",
          "name": "stderr",
          "text": [
            "\r 16%|█▋        | 82/500 [00:27<02:04,  3.37it/s]"
          ]
        },
        {
          "output_type": "stream",
          "name": "stdout",
          "text": [
            "✔️ Already uploaded: /ASL_trimmed/test/9511818432669337-WILL.mp4\n"
          ]
        },
        {
          "output_type": "stream",
          "name": "stderr",
          "text": [
            "\r 17%|█▋        | 83/500 [00:27<01:58,  3.53it/s]"
          ]
        },
        {
          "output_type": "stream",
          "name": "stdout",
          "text": [
            "✔️ Already uploaded: /ASL_trimmed/test/01653635897919692-YOU.mp4\n"
          ]
        },
        {
          "output_type": "stream",
          "name": "stderr",
          "text": [
            "\r 17%|█▋        | 84/500 [00:27<01:54,  3.63it/s]"
          ]
        },
        {
          "output_type": "stream",
          "name": "stdout",
          "text": [
            "✔️ Already uploaded: /ASL_trimmed/test/5590831587159921-THEN.mp4\n"
          ]
        },
        {
          "output_type": "stream",
          "name": "stderr",
          "text": [
            "\r 17%|█▋        | 85/500 [00:28<01:56,  3.56it/s]"
          ]
        },
        {
          "output_type": "stream",
          "name": "stdout",
          "text": [
            "✔️ Already uploaded: /ASL_trimmed/test/9341508817580932-GET.mp4\n"
          ]
        },
        {
          "output_type": "stream",
          "name": "stderr",
          "text": [
            "\r 17%|█▋        | 86/500 [00:28<01:54,  3.62it/s]"
          ]
        },
        {
          "output_type": "stream",
          "name": "stdout",
          "text": [
            "✔️ Already uploaded: /ASL_trimmed/test/27515506457252026-BROTHER.mp4\n"
          ]
        },
        {
          "output_type": "stream",
          "name": "stderr",
          "text": [
            "\r 17%|█▋        | 87/500 [00:28<02:00,  3.42it/s]"
          ]
        },
        {
          "output_type": "stream",
          "name": "stdout",
          "text": [
            "✔️ Already uploaded: /ASL_trimmed/test/15241731352423615-DANCE.mp4\n"
          ]
        },
        {
          "output_type": "stream",
          "name": "stderr",
          "text": [
            "\r 18%|█▊        | 88/500 [00:29<01:55,  3.56it/s]"
          ]
        },
        {
          "output_type": "stream",
          "name": "stdout",
          "text": [
            "✔️ Already uploaded: /ASL_trimmed/test/3001038121654285-FOR.mp4\n"
          ]
        },
        {
          "output_type": "stream",
          "name": "stderr",
          "text": [
            "\r 18%|█▊        | 89/500 [00:29<02:30,  2.74it/s]"
          ]
        },
        {
          "output_type": "stream",
          "name": "stdout",
          "text": [
            "✔️ Already uploaded: /ASL_trimmed/test/20882210382410937-AT.mp4\n"
          ]
        },
        {
          "output_type": "stream",
          "name": "stderr",
          "text": [
            "\r 18%|█▊        | 90/500 [00:29<02:16,  3.01it/s]"
          ]
        },
        {
          "output_type": "stream",
          "name": "stdout",
          "text": [
            "✔️ Already uploaded: /ASL_trimmed/test/803567742919048-WHO.mp4\n"
          ]
        },
        {
          "output_type": "stream",
          "name": "stderr",
          "text": [
            "\r 18%|█▊        | 91/500 [00:30<02:25,  2.81it/s]"
          ]
        },
        {
          "output_type": "stream",
          "name": "stdout",
          "text": [
            "✔️ Already uploaded: /ASL_trimmed/test/217732808571379-YOUR.mp4\n"
          ]
        },
        {
          "output_type": "stream",
          "name": "stderr",
          "text": [
            "\r 18%|█▊        | 92/500 [00:30<02:15,  3.02it/s]"
          ]
        },
        {
          "output_type": "stream",
          "name": "stdout",
          "text": [
            "✔️ Already uploaded: /ASL_trimmed/test/16550862659826127-DAY.mp4\n"
          ]
        },
        {
          "output_type": "stream",
          "name": "stderr",
          "text": [
            "\r 19%|█▊        | 93/500 [00:30<02:12,  3.08it/s]"
          ]
        },
        {
          "output_type": "stream",
          "name": "stdout",
          "text": [
            "✔️ Already uploaded: /ASL_trimmed/test/7701956517148509-YEAR.mp4\n"
          ]
        },
        {
          "output_type": "stream",
          "name": "stderr",
          "text": [
            "\r 19%|█▉        | 94/500 [00:31<03:08,  2.15it/s]"
          ]
        },
        {
          "output_type": "stream",
          "name": "stdout",
          "text": [
            "✔️ Already uploaded: /ASL_trimmed/test/05881386674154254-BECAUSE.mp4\n"
          ]
        },
        {
          "output_type": "stream",
          "name": "stderr",
          "text": [
            "\r 19%|█▉        | 95/500 [00:31<02:45,  2.45it/s]"
          ]
        },
        {
          "output_type": "stream",
          "name": "stdout",
          "text": [
            "✔️ Already uploaded: /ASL_trimmed/test/14380460768690306-CLASS.mp4\n"
          ]
        },
        {
          "output_type": "stream",
          "name": "stderr",
          "text": [
            "\r 19%|█▉        | 96/500 [00:32<02:29,  2.70it/s]"
          ]
        },
        {
          "output_type": "stream",
          "name": "stdout",
          "text": [
            "✔️ Already uploaded: /ASL_trimmed/test/04798308833670406-CLEAN.mp4\n"
          ]
        },
        {
          "output_type": "stream",
          "name": "stderr",
          "text": [
            "\r 19%|█▉        | 97/500 [00:32<02:20,  2.87it/s]"
          ]
        },
        {
          "output_type": "stream",
          "name": "stdout",
          "text": [
            "✔️ Already uploaded: /ASL_trimmed/test/24023101240023603-IN.mp4\n"
          ]
        },
        {
          "output_type": "stream",
          "name": "stderr",
          "text": [
            "\r 20%|█▉        | 98/500 [00:32<02:15,  2.97it/s]"
          ]
        },
        {
          "output_type": "stream",
          "name": "stdout",
          "text": [
            "✔️ Already uploaded: /ASL_trimmed/test/7947646516473061-OVER.mp4\n"
          ]
        },
        {
          "output_type": "stream",
          "name": "stderr",
          "text": [
            "\r 20%|█▉        | 99/500 [00:33<02:08,  3.12it/s]"
          ]
        },
        {
          "output_type": "stream",
          "name": "stdout",
          "text": [
            "✔️ Already uploaded: /ASL_trimmed/test/8870406706459968-WHICH.mp4\n"
          ]
        },
        {
          "output_type": "stream",
          "name": "stderr",
          "text": [
            "\r 20%|██        | 100/500 [00:33<02:05,  3.20it/s]"
          ]
        },
        {
          "output_type": "stream",
          "name": "stdout",
          "text": [
            "✔️ Already uploaded: /ASL_trimmed/test/8697053445839198-ADD.mp4\n"
          ]
        },
        {
          "output_type": "stream",
          "name": "stderr",
          "text": [
            "\r 20%|██        | 101/500 [00:33<02:00,  3.32it/s]"
          ]
        },
        {
          "output_type": "stream",
          "name": "stdout",
          "text": [
            "✔️ Already uploaded: /ASL_trimmed/test/07918650930286386-IN.mp4\n"
          ]
        },
        {
          "output_type": "stream",
          "name": "stderr",
          "text": [
            "\r 20%|██        | 102/500 [00:34<01:59,  3.32it/s]"
          ]
        },
        {
          "output_type": "stream",
          "name": "stdout",
          "text": [
            "✔️ Already uploaded: /ASL_trimmed/test/926861907005698-ALL.mp4\n"
          ]
        },
        {
          "output_type": "stream",
          "name": "stderr",
          "text": [
            "\r 21%|██        | 103/500 [00:34<02:00,  3.29it/s]"
          ]
        },
        {
          "output_type": "stream",
          "name": "stdout",
          "text": [
            "✔️ Already uploaded: /ASL_trimmed/test/4879051480059866-THAN.mp4\n"
          ]
        },
        {
          "output_type": "stream",
          "name": "stderr",
          "text": [
            "\r 21%|██        | 104/500 [00:34<01:54,  3.45it/s]"
          ]
        },
        {
          "output_type": "stream",
          "name": "stdout",
          "text": [
            "✔️ Already uploaded: /ASL_trimmed/test/6413893522655711-GO.mp4\n"
          ]
        },
        {
          "output_type": "stream",
          "name": "stderr",
          "text": [
            "\r 21%|██        | 105/500 [00:34<02:01,  3.24it/s]"
          ]
        },
        {
          "output_type": "stream",
          "name": "stdout",
          "text": [
            "✔️ Already uploaded: /ASL_trimmed/test/36657817307864926-HAVE.mp4\n"
          ]
        },
        {
          "output_type": "stream",
          "name": "stderr",
          "text": [
            "\r 21%|██        | 106/500 [00:35<01:59,  3.29it/s]"
          ]
        },
        {
          "output_type": "stream",
          "name": "stdout",
          "text": [
            "✔️ Already uploaded: /ASL_trimmed/test/052757066467205904-BACK.mp4\n"
          ]
        },
        {
          "output_type": "stream",
          "name": "stderr",
          "text": [
            "\r 21%|██▏       | 107/500 [00:35<02:24,  2.72it/s]"
          ]
        },
        {
          "output_type": "stream",
          "name": "stdout",
          "text": [
            "✔️ Already uploaded: /ASL_trimmed/test/47940759774229513-TWO.mp4\n"
          ]
        },
        {
          "output_type": "stream",
          "name": "stderr",
          "text": [
            "\r 22%|██▏       | 108/500 [00:36<02:20,  2.78it/s]"
          ]
        },
        {
          "output_type": "stream",
          "name": "stdout",
          "text": [
            "✔️ Already uploaded: /ASL_trimmed/test/33343477219844675-BROTHER.mp4\n"
          ]
        },
        {
          "output_type": "stream",
          "name": "stderr",
          "text": [
            "\r 22%|██▏       | 109/500 [00:36<02:17,  2.84it/s]"
          ]
        },
        {
          "output_type": "stream",
          "name": "stdout",
          "text": [
            "✔️ Already uploaded: /ASL_trimmed/test/028965678104742487-SOME.mp4\n"
          ]
        },
        {
          "output_type": "stream",
          "name": "stderr",
          "text": [
            "\r 22%|██▏       | 110/500 [00:36<02:06,  3.08it/s]"
          ]
        },
        {
          "output_type": "stream",
          "name": "stdout",
          "text": [
            "✔️ Already uploaded: /ASL_trimmed/test/4744000898907763-DREAM.mp4\n"
          ]
        },
        {
          "output_type": "stream",
          "name": "stderr",
          "text": [
            "\r 22%|██▏       | 111/500 [00:36<02:01,  3.21it/s]"
          ]
        },
        {
          "output_type": "stream",
          "name": "stdout",
          "text": [
            "✔️ Already uploaded: /ASL_trimmed/test/3667496042411382-US.mp4\n"
          ]
        },
        {
          "output_type": "stream",
          "name": "stderr",
          "text": [
            "\r 22%|██▏       | 112/500 [00:37<01:55,  3.37it/s]"
          ]
        },
        {
          "output_type": "stream",
          "name": "stdout",
          "text": [
            "✔️ Already uploaded: /ASL_trimmed/test/6127036021444041-BACK.mp4\n"
          ]
        },
        {
          "output_type": "stream",
          "name": "stderr",
          "text": [
            "\r 23%|██▎       | 113/500 [00:37<01:53,  3.40it/s]"
          ]
        },
        {
          "output_type": "stream",
          "name": "stdout",
          "text": [
            "✔️ Already uploaded: /ASL_trimmed/test/4395266319587732-IN.mp4\n"
          ]
        },
        {
          "output_type": "stream",
          "name": "stderr",
          "text": [
            "\r 23%|██▎       | 114/500 [00:37<01:53,  3.42it/s]"
          ]
        },
        {
          "output_type": "stream",
          "name": "stdout",
          "text": [
            "✔️ Already uploaded: /ASL_trimmed/test/8205526989642873-CAR.mp4\n"
          ]
        },
        {
          "output_type": "stream",
          "name": "stderr",
          "text": [
            "\r 23%|██▎       | 115/500 [00:38<01:51,  3.45it/s]"
          ]
        },
        {
          "output_type": "stream",
          "name": "stdout",
          "text": [
            "✔️ Already uploaded: /ASL_trimmed/test/07866629616489296-TIME.mp4\n"
          ]
        },
        {
          "output_type": "stream",
          "name": "stderr",
          "text": [
            "\r 23%|██▎       | 116/500 [00:38<01:52,  3.43it/s]"
          ]
        },
        {
          "output_type": "stream",
          "name": "stdout",
          "text": [
            "✔️ Already uploaded: /ASL_trimmed/test/3601867964446075-CLEAN.mp4\n"
          ]
        },
        {
          "output_type": "stream",
          "name": "stderr",
          "text": [
            "\r 23%|██▎       | 117/500 [00:38<01:48,  3.54it/s]"
          ]
        },
        {
          "output_type": "stream",
          "name": "stdout",
          "text": [
            "✔️ Already uploaded: /ASL_trimmed/test/33234398445914914-CHAIR.mp4\n"
          ]
        },
        {
          "output_type": "stream",
          "name": "stderr",
          "text": [
            "\r 24%|██▎       | 118/500 [00:38<01:45,  3.63it/s]"
          ]
        },
        {
          "output_type": "stream",
          "name": "stdout",
          "text": [
            "✔️ Already uploaded: /ASL_trimmed/test/057653915534681355-BACK.mp4\n"
          ]
        },
        {
          "output_type": "stream",
          "name": "stderr",
          "text": [
            "\r 24%|██▍       | 119/500 [00:39<01:49,  3.47it/s]"
          ]
        },
        {
          "output_type": "stream",
          "name": "stdout",
          "text": [
            "✔️ Already uploaded: /ASL_trimmed/test/057053409811736344-COMPUTER.mp4\n"
          ]
        },
        {
          "output_type": "stream",
          "name": "stderr",
          "text": [
            "\r 24%|██▍       | 120/500 [00:39<01:49,  3.46it/s]"
          ]
        },
        {
          "output_type": "stream",
          "name": "stdout",
          "text": [
            "✔️ Already uploaded: /ASL_trimmed/test/8596007602362212-SEE.mp4\n"
          ]
        },
        {
          "output_type": "stream",
          "name": "stderr",
          "text": [
            "\r 24%|██▍       | 121/500 [00:39<01:51,  3.41it/s]"
          ]
        },
        {
          "output_type": "stream",
          "name": "stdout",
          "text": [
            "✔️ Already uploaded: /ASL_trimmed/test/513873968197524-AFTER.mp4\n"
          ]
        },
        {
          "output_type": "stream",
          "name": "stderr",
          "text": [
            "\r 24%|██▍       | 122/500 [00:40<01:50,  3.43it/s]"
          ]
        },
        {
          "output_type": "stream",
          "name": "stdout",
          "text": [
            "✔️ Already uploaded: /ASL_trimmed/test/6754123313977809-CAR.mp4\n"
          ]
        },
        {
          "output_type": "stream",
          "name": "stderr",
          "text": [
            "\r 25%|██▍       | 123/500 [00:40<01:46,  3.53it/s]"
          ]
        },
        {
          "output_type": "stream",
          "name": "stdout",
          "text": [
            "✔️ Already uploaded: /ASL_trimmed/test/434706059335489-WILL.mp4\n"
          ]
        },
        {
          "output_type": "stream",
          "name": "stderr",
          "text": [
            "\r 25%|██▍       | 124/500 [00:40<01:42,  3.67it/s]"
          ]
        },
        {
          "output_type": "stream",
          "name": "stdout",
          "text": [
            "✔️ Already uploaded: /ASL_trimmed/test/8940965995167087-LIKE.mp4\n"
          ]
        },
        {
          "output_type": "stream",
          "name": "stderr",
          "text": [
            "\r 25%|██▌       | 125/500 [00:40<01:42,  3.66it/s]"
          ]
        },
        {
          "output_type": "stream",
          "name": "stdout",
          "text": [
            "✔️ Already uploaded: /ASL_trimmed/test/7157636239343801-CARRY.mp4\n"
          ]
        },
        {
          "output_type": "stream",
          "name": "stderr",
          "text": [
            "\r 25%|██▌       | 126/500 [00:41<02:41,  2.31it/s]"
          ]
        },
        {
          "output_type": "stream",
          "name": "stdout",
          "text": [
            "No signing detected in: /content/drive/MyDrive/videos/3500609473112364-HE.mp4\n"
          ]
        },
        {
          "output_type": "stream",
          "name": "stderr",
          "text": [
            "\r 25%|██▌       | 127/500 [00:42<02:26,  2.55it/s]"
          ]
        },
        {
          "output_type": "stream",
          "name": "stdout",
          "text": [
            "✔️ Already uploaded: /ASL_trimmed/test/14003138099067614-KNOW.mp4\n"
          ]
        },
        {
          "output_type": "stream",
          "name": "stderr",
          "text": [
            "\r 26%|██▌       | 128/500 [00:42<02:12,  2.82it/s]"
          ]
        },
        {
          "output_type": "stream",
          "name": "stdout",
          "text": [
            "✔️ Already uploaded: /ASL_trimmed/test/6352986390309805-OVER.mp4\n"
          ]
        },
        {
          "output_type": "stream",
          "name": "stderr",
          "text": [
            "\r 26%|██▌       | 129/500 [00:42<02:01,  3.05it/s]"
          ]
        },
        {
          "output_type": "stream",
          "name": "stdout",
          "text": [
            "✔️ Already uploaded: /ASL_trimmed/test/7198559443004575-TIME.mp4\n"
          ]
        },
        {
          "output_type": "stream",
          "name": "stderr",
          "text": [
            "\r 26%|██▌       | 130/500 [00:42<01:57,  3.16it/s]"
          ]
        },
        {
          "output_type": "stream",
          "name": "stdout",
          "text": [
            "✔️ Already uploaded: /ASL_trimmed/test/23930496479405083-YOUR.mp4\n"
          ]
        },
        {
          "output_type": "stream",
          "name": "stderr",
          "text": [
            "\r 26%|██▌       | 131/500 [00:43<01:49,  3.38it/s]"
          ]
        },
        {
          "output_type": "stream",
          "name": "stdout",
          "text": [
            "✔️ Already uploaded: /ASL_trimmed/test/022877853336619403-DRAW.mp4\n"
          ]
        },
        {
          "output_type": "stream",
          "name": "stderr",
          "text": [
            "\r 26%|██▋       | 132/500 [00:43<01:49,  3.36it/s]"
          ]
        },
        {
          "output_type": "stream",
          "name": "stdout",
          "text": [
            "✔️ Already uploaded: /ASL_trimmed/test/41757448692819166-OR.mp4\n"
          ]
        },
        {
          "output_type": "stream",
          "name": "stderr",
          "text": [
            "\r 27%|██▋       | 133/500 [00:43<02:02,  2.98it/s]"
          ]
        },
        {
          "output_type": "stream",
          "name": "stdout",
          "text": [
            "✔️ Already uploaded: /ASL_trimmed/test/27761977379762914-ADOPT.mp4\n"
          ]
        },
        {
          "output_type": "stream",
          "name": "stderr",
          "text": [
            "\r 27%|██▋       | 134/500 [00:44<02:06,  2.90it/s]"
          ]
        },
        {
          "output_type": "stream",
          "name": "stdout",
          "text": [
            "✔️ Already uploaded: /ASL_trimmed/test/06170286063004182-THINK.mp4\n"
          ]
        },
        {
          "output_type": "stream",
          "name": "stderr",
          "text": [
            "\r 27%|██▋       | 135/500 [00:44<01:55,  3.16it/s]"
          ]
        },
        {
          "output_type": "stream",
          "name": "stdout",
          "text": [
            "✔️ Already uploaded: /ASL_trimmed/test/6502757806438941-AFTER.mp4\n"
          ]
        },
        {
          "output_type": "stream",
          "name": "stderr",
          "text": [
            "\r 27%|██▋       | 136/500 [00:44<01:50,  3.31it/s]"
          ]
        },
        {
          "output_type": "stream",
          "name": "stdout",
          "text": [
            "✔️ Already uploaded: /ASL_trimmed/test/8911716236979184-YOUR.mp4\n"
          ]
        },
        {
          "output_type": "stream",
          "name": "stderr",
          "text": [
            "\r 27%|██▋       | 137/500 [00:44<01:45,  3.45it/s]"
          ]
        },
        {
          "output_type": "stream",
          "name": "stdout",
          "text": [
            "✔️ Already uploaded: /ASL_trimmed/test/4686373844836935-OTHER.mp4\n"
          ]
        },
        {
          "output_type": "stream",
          "name": "stderr",
          "text": [
            "\r 28%|██▊       | 138/500 [00:45<01:45,  3.43it/s]"
          ]
        },
        {
          "output_type": "stream",
          "name": "stdout",
          "text": [
            "✔️ Already uploaded: /ASL_trimmed/test/5607168055348148-DRAW.mp4\n"
          ]
        },
        {
          "output_type": "stream",
          "name": "stderr",
          "text": [
            "\r 28%|██▊       | 139/500 [00:45<01:51,  3.24it/s]"
          ]
        },
        {
          "output_type": "stream",
          "name": "stdout",
          "text": [
            "✔️ Already uploaded: /ASL_trimmed/test/6952984170007184-WELL.mp4\n"
          ]
        },
        {
          "output_type": "stream",
          "name": "stderr",
          "text": [
            "\r 28%|██▊       | 140/500 [00:45<01:50,  3.26it/s]"
          ]
        },
        {
          "output_type": "stream",
          "name": "stdout",
          "text": [
            "✔️ Already uploaded: /ASL_trimmed/test/17186680366854157-CLASS.mp4\n"
          ]
        },
        {
          "output_type": "stream",
          "name": "stderr",
          "text": [
            "\r 28%|██▊       | 141/500 [00:46<01:44,  3.42it/s]"
          ]
        },
        {
          "output_type": "stream",
          "name": "stdout",
          "text": [
            "✔️ Already uploaded: /ASL_trimmed/test/8802771685004676-HIS.mp4\n"
          ]
        },
        {
          "output_type": "stream",
          "name": "stderr",
          "text": [
            "\r 28%|██▊       | 142/500 [00:46<01:42,  3.48it/s]"
          ]
        },
        {
          "output_type": "stream",
          "name": "stdout",
          "text": [
            "✔️ Already uploaded: /ASL_trimmed/test/7315914339159093-AND.mp4\n"
          ]
        },
        {
          "output_type": "stream",
          "name": "stderr",
          "text": [
            "\r 29%|██▊       | 143/500 [00:46<01:50,  3.23it/s]"
          ]
        },
        {
          "output_type": "stream",
          "name": "stdout",
          "text": [
            "✔️ Already uploaded: /ASL_trimmed/test/9612585462446885-THEN.mp4\n"
          ]
        },
        {
          "output_type": "stream",
          "name": "stderr",
          "text": [
            "\r 29%|██▉       | 144/500 [00:47<02:08,  2.77it/s]"
          ]
        },
        {
          "output_type": "stream",
          "name": "stdout",
          "text": [
            "✔️ Already uploaded: /ASL_trimmed/test/6913451457780051-WE.mp4\n"
          ]
        },
        {
          "output_type": "stream",
          "name": "stderr",
          "text": [
            "\r 29%|██▉       | 145/500 [00:47<01:56,  3.04it/s]"
          ]
        },
        {
          "output_type": "stream",
          "name": "stdout",
          "text": [
            "✔️ Already uploaded: /ASL_trimmed/test/8104387879288819-OR.mp4\n"
          ]
        },
        {
          "output_type": "stream",
          "name": "stderr",
          "text": [
            "\r 29%|██▉       | 146/500 [00:47<02:08,  2.76it/s]"
          ]
        },
        {
          "output_type": "stream",
          "name": "stdout",
          "text": [
            "✔️ Already uploaded: /ASL_trimmed/test/4733713256209504-TAKE.mp4\n"
          ]
        },
        {
          "output_type": "stream",
          "name": "stderr",
          "text": [
            "\r 29%|██▉       | 147/500 [00:48<02:01,  2.90it/s]"
          ]
        },
        {
          "output_type": "stream",
          "name": "stdout",
          "text": [
            "✔️ Already uploaded: /ASL_trimmed/test/8036214492121836-NOT.mp4\n"
          ]
        },
        {
          "output_type": "stream",
          "name": "stderr",
          "text": [
            "\r 30%|██▉       | 148/500 [00:48<02:00,  2.91it/s]"
          ]
        },
        {
          "output_type": "stream",
          "name": "stdout",
          "text": [
            "✔️ Already uploaded: /ASL_trimmed/test/011716531366529281-APPLE.mp4\n"
          ]
        },
        {
          "output_type": "stream",
          "name": "stderr",
          "text": [
            "\r 30%|██▉       | 149/500 [00:49<02:11,  2.68it/s]"
          ]
        },
        {
          "output_type": "stream",
          "name": "stdout",
          "text": [
            "✔️ Already uploaded: /ASL_trimmed/test/7634160961141707-COME.mp4\n"
          ]
        },
        {
          "output_type": "stream",
          "name": "stderr",
          "text": [
            "\r 30%|███       | 150/500 [00:49<02:11,  2.66it/s]"
          ]
        },
        {
          "output_type": "stream",
          "name": "stdout",
          "text": [
            "✔️ Already uploaded: /ASL_trimmed/test/4202312257362306-DAUGHTER.mp4\n"
          ]
        },
        {
          "output_type": "stream",
          "name": "stderr",
          "text": [
            "\r 30%|███       | 151/500 [00:50<02:31,  2.30it/s]"
          ]
        },
        {
          "output_type": "stream",
          "name": "stdout",
          "text": [
            "✔️ Already uploaded: /ASL_trimmed/test/45243241024032677-TIME.mp4\n"
          ]
        },
        {
          "output_type": "stream",
          "name": "stderr",
          "text": [
            "\r 30%|███       | 152/500 [00:50<02:13,  2.60it/s]"
          ]
        },
        {
          "output_type": "stream",
          "name": "stdout",
          "text": [
            "✔️ Already uploaded: /ASL_trimmed/test/8608367067400609-COOK.mp4\n"
          ]
        },
        {
          "output_type": "stream",
          "name": "stderr",
          "text": [
            "\r 31%|███       | 153/500 [00:50<02:01,  2.86it/s]"
          ]
        },
        {
          "output_type": "stream",
          "name": "stdout",
          "text": [
            "✔️ Already uploaded: /ASL_trimmed/test/3739496799982378-AFTER.mp4\n"
          ]
        },
        {
          "output_type": "stream",
          "name": "stderr",
          "text": [
            "\r 31%|███       | 154/500 [00:50<01:50,  3.12it/s]"
          ]
        },
        {
          "output_type": "stream",
          "name": "stdout",
          "text": [
            "✔️ Already uploaded: /ASL_trimmed/test/4455924286659587-PEOPLE.mp4\n"
          ]
        },
        {
          "output_type": "stream",
          "name": "stderr",
          "text": [
            "\r 31%|███       | 155/500 [00:51<01:50,  3.12it/s]"
          ]
        },
        {
          "output_type": "stream",
          "name": "stdout",
          "text": [
            "✔️ Already uploaded: /ASL_trimmed/test/5760183838475188-DAY.mp4\n"
          ]
        },
        {
          "output_type": "stream",
          "name": "stderr",
          "text": [
            "\r 31%|███       | 156/500 [00:51<01:44,  3.29it/s]"
          ]
        },
        {
          "output_type": "stream",
          "name": "stdout",
          "text": [
            "✔️ Already uploaded: /ASL_trimmed/test/566703299946792-OUR.mp4\n"
          ]
        },
        {
          "output_type": "stream",
          "name": "stderr",
          "text": [
            "\r 31%|███▏      | 157/500 [00:51<01:40,  3.40it/s]"
          ]
        },
        {
          "output_type": "stream",
          "name": "stdout",
          "text": [
            "✔️ Already uploaded: /ASL_trimmed/test/5488097899715654-SOME.mp4\n"
          ]
        },
        {
          "output_type": "stream",
          "name": "stderr",
          "text": [
            "\r 32%|███▏      | 158/500 [00:51<01:39,  3.42it/s]"
          ]
        },
        {
          "output_type": "stream",
          "name": "stdout",
          "text": [
            "✔️ Already uploaded: /ASL_trimmed/test/12680005272334216-FIRST.mp4\n"
          ]
        },
        {
          "output_type": "stream",
          "name": "stderr",
          "text": [
            "\r 32%|███▏      | 159/500 [00:52<01:38,  3.47it/s]"
          ]
        },
        {
          "output_type": "stream",
          "name": "stdout",
          "text": [
            "✔️ Already uploaded: /ASL_trimmed/test/042301515237099796-WHO.mp4\n"
          ]
        },
        {
          "output_type": "stream",
          "name": "stderr",
          "text": [
            "\r 32%|███▏      | 160/500 [00:52<01:36,  3.52it/s]"
          ]
        },
        {
          "output_type": "stream",
          "name": "stdout",
          "text": [
            "✔️ Already uploaded: /ASL_trimmed/test/6554499134521157-FROM.mp4\n"
          ]
        },
        {
          "output_type": "stream",
          "name": "stderr",
          "text": [
            "\r 32%|███▏      | 161/500 [00:52<01:33,  3.61it/s]"
          ]
        },
        {
          "output_type": "stream",
          "name": "stdout",
          "text": [
            "✔️ Already uploaded: /ASL_trimmed/test/4713233321835424-THAT.mp4\n"
          ]
        },
        {
          "output_type": "stream",
          "name": "stderr",
          "text": [
            "\r 32%|███▏      | 162/500 [00:53<01:47,  3.16it/s]"
          ]
        },
        {
          "output_type": "stream",
          "name": "stdout",
          "text": [
            "✔️ Already uploaded: /ASL_trimmed/test/5533098415698983-NOW.mp4\n"
          ]
        },
        {
          "output_type": "stream",
          "name": "stderr",
          "text": [
            "\r 33%|███▎      | 163/500 [00:53<01:48,  3.09it/s]"
          ]
        },
        {
          "output_type": "stream",
          "name": "stdout",
          "text": [
            "✔️ Already uploaded: /ASL_trimmed/test/8443975795179439-KNOW.mp4\n"
          ]
        },
        {
          "output_type": "stream",
          "name": "stderr",
          "text": [
            "\r 33%|███▎      | 164/500 [00:53<01:42,  3.27it/s]"
          ]
        },
        {
          "output_type": "stream",
          "name": "stdout",
          "text": [
            "✔️ Already uploaded: /ASL_trimmed/test/5965960580596394-THINK.mp4\n"
          ]
        },
        {
          "output_type": "stream",
          "name": "stderr",
          "text": [
            "\r 33%|███▎      | 165/500 [00:54<01:39,  3.36it/s]"
          ]
        },
        {
          "output_type": "stream",
          "name": "stdout",
          "text": [
            "✔️ Already uploaded: /ASL_trimmed/test/8953127798632388-ADOPT.mp4\n"
          ]
        },
        {
          "output_type": "stream",
          "name": "stderr",
          "text": [
            "\r 33%|███▎      | 166/500 [00:54<01:36,  3.44it/s]"
          ]
        },
        {
          "output_type": "stream",
          "name": "stdout",
          "text": [
            "✔️ Already uploaded: /ASL_trimmed/test/37391715248250623-IF.mp4\n"
          ]
        },
        {
          "output_type": "stream",
          "name": "stderr",
          "text": [
            "\r 33%|███▎      | 167/500 [00:54<01:40,  3.30it/s]"
          ]
        },
        {
          "output_type": "stream",
          "name": "stdout",
          "text": [
            "✔️ Already uploaded: /ASL_trimmed/test/11957797408271786-ACCEPT.mp4\n"
          ]
        },
        {
          "output_type": "stream",
          "name": "stderr",
          "text": [
            "\r 34%|███▎      | 168/500 [00:54<01:39,  3.32it/s]"
          ]
        },
        {
          "output_type": "stream",
          "name": "stdout",
          "text": [
            "✔️ Already uploaded: /ASL_trimmed/test/7299808660660163-ON.mp4\n"
          ]
        },
        {
          "output_type": "stream",
          "name": "stderr",
          "text": [
            "\r 34%|███▍      | 169/500 [00:55<01:57,  2.81it/s]"
          ]
        },
        {
          "output_type": "stream",
          "name": "stdout",
          "text": [
            "✔️ Already uploaded: /ASL_trimmed/test/008087702450223277-GOOD.mp4\n"
          ]
        },
        {
          "output_type": "stream",
          "name": "stderr",
          "text": [
            "\r 34%|███▍      | 170/500 [00:55<01:48,  3.05it/s]"
          ]
        },
        {
          "output_type": "stream",
          "name": "stdout",
          "text": [
            "✔️ Already uploaded: /ASL_trimmed/test/18684179703791104-AFTER.mp4\n"
          ]
        },
        {
          "output_type": "stream",
          "name": "stderr",
          "text": [
            "\r 34%|███▍      | 171/500 [00:55<01:43,  3.17it/s]"
          ]
        },
        {
          "output_type": "stream",
          "name": "stdout",
          "text": [
            "✔️ Already uploaded: /ASL_trimmed/test/8807506945426973-NOW.mp4\n"
          ]
        },
        {
          "output_type": "stream",
          "name": "stderr",
          "text": [
            "\r 34%|███▍      | 172/500 [00:56<01:40,  3.27it/s]"
          ]
        },
        {
          "output_type": "stream",
          "name": "stdout",
          "text": [
            "✔️ Already uploaded: /ASL_trimmed/test/7005126744250538-HIS.mp4\n"
          ]
        },
        {
          "output_type": "stream",
          "name": "stderr",
          "text": [
            "\r 35%|███▍      | 173/500 [00:56<01:39,  3.29it/s]"
          ]
        },
        {
          "output_type": "stream",
          "name": "stdout",
          "text": [
            "✔️ Already uploaded: /ASL_trimmed/test/4271305571395134-FOR.mp4\n"
          ]
        },
        {
          "output_type": "stream",
          "name": "stderr",
          "text": [
            "\r 35%|███▍      | 174/500 [00:57<01:56,  2.80it/s]"
          ]
        },
        {
          "output_type": "stream",
          "name": "stdout",
          "text": [
            "✔️ Already uploaded: /ASL_trimmed/test/9224805555930542-DANCE.mp4\n"
          ]
        },
        {
          "output_type": "stream",
          "name": "stderr",
          "text": [
            "\r 35%|███▌      | 175/500 [00:57<01:47,  3.01it/s]"
          ]
        },
        {
          "output_type": "stream",
          "name": "stdout",
          "text": [
            "✔️ Already uploaded: /ASL_trimmed/test/6455677348837485-ASK.mp4\n"
          ]
        },
        {
          "output_type": "stream",
          "name": "stderr",
          "text": [
            "\r 35%|███▌      | 176/500 [00:57<01:45,  3.06it/s]"
          ]
        },
        {
          "output_type": "stream",
          "name": "stdout",
          "text": [
            "✔️ Already uploaded: /ASL_trimmed/test/40405734671318805-BUT.mp4\n"
          ]
        },
        {
          "output_type": "stream",
          "name": "stderr",
          "text": [
            "\r 35%|███▌      | 177/500 [00:57<01:41,  3.20it/s]"
          ]
        },
        {
          "output_type": "stream",
          "name": "stdout",
          "text": [
            "✔️ Already uploaded: /ASL_trimmed/test/530148565178197-CLASS.mp4\n"
          ]
        },
        {
          "output_type": "stream",
          "name": "stderr",
          "text": [
            "\r 36%|███▌      | 178/500 [00:58<01:36,  3.34it/s]"
          ]
        },
        {
          "output_type": "stream",
          "name": "stdout",
          "text": [
            "✔️ Already uploaded: /ASL_trimmed/test/8884268934153841-WILL.mp4\n"
          ]
        },
        {
          "output_type": "stream",
          "name": "stderr",
          "text": [
            "\r 36%|███▌      | 179/500 [00:58<01:34,  3.39it/s]"
          ]
        },
        {
          "output_type": "stream",
          "name": "stdout",
          "text": [
            "✔️ Already uploaded: /ASL_trimmed/test/548267458734303-ACCEPT.mp4\n"
          ]
        },
        {
          "output_type": "stream",
          "name": "stderr",
          "text": [
            "\r 36%|███▌      | 180/500 [00:58<01:33,  3.43it/s]"
          ]
        },
        {
          "output_type": "stream",
          "name": "stdout",
          "text": [
            "✔️ Already uploaded: /ASL_trimmed/test/04392044164812714-WITH.mp4\n"
          ]
        },
        {
          "output_type": "stream",
          "name": "stderr",
          "text": [
            "\r 36%|███▌      | 181/500 [00:59<01:31,  3.50it/s]"
          ]
        },
        {
          "output_type": "stream",
          "name": "stdout",
          "text": [
            "✔️ Already uploaded: /ASL_trimmed/test/08778480448428794-THEN.mp4\n"
          ]
        },
        {
          "output_type": "stream",
          "name": "stderr",
          "text": [
            "\r 36%|███▋      | 182/500 [00:59<01:34,  3.38it/s]"
          ]
        },
        {
          "output_type": "stream",
          "name": "stdout",
          "text": [
            "✔️ Already uploaded: /ASL_trimmed/test/40507215869597446-ALL.mp4\n"
          ]
        },
        {
          "output_type": "stream",
          "name": "stderr",
          "text": [
            "\r 37%|███▋      | 183/500 [00:59<01:52,  2.81it/s]"
          ]
        },
        {
          "output_type": "stream",
          "name": "stdout",
          "text": [
            "✔️ Already uploaded: /ASL_trimmed/test/774306565496373-NEW.mp4\n"
          ]
        },
        {
          "output_type": "stream",
          "name": "stderr",
          "text": [
            "\r 37%|███▋      | 184/500 [01:00<01:43,  3.06it/s]"
          ]
        },
        {
          "output_type": "stream",
          "name": "stdout",
          "text": [
            "✔️ Already uploaded: /ASL_trimmed/test/8224527695408073-SEE.mp4\n"
          ]
        },
        {
          "output_type": "stream",
          "name": "stderr",
          "text": [
            "\r 37%|███▋      | 185/500 [01:00<01:38,  3.20it/s]"
          ]
        },
        {
          "output_type": "stream",
          "name": "stdout",
          "text": [
            "✔️ Already uploaded: /ASL_trimmed/test/6254864848028587-USE.mp4\n"
          ]
        },
        {
          "output_type": "stream",
          "name": "stderr",
          "text": [
            "\r 37%|███▋      | 186/500 [01:00<01:32,  3.39it/s]"
          ]
        },
        {
          "output_type": "stream",
          "name": "stdout",
          "text": [
            "✔️ Already uploaded: /ASL_trimmed/test/4372377651702166-UP.mp4\n"
          ]
        },
        {
          "output_type": "stream",
          "name": "stderr",
          "text": [
            "\r 37%|███▋      | 187/500 [01:00<01:30,  3.45it/s]"
          ]
        },
        {
          "output_type": "stream",
          "name": "stdout",
          "text": [
            "✔️ Already uploaded: /ASL_trimmed/test/29036286084366125-DREAM.mp4\n"
          ]
        },
        {
          "output_type": "stream",
          "name": "stderr",
          "text": [
            "\r 38%|███▊      | 188/500 [01:01<01:35,  3.28it/s]"
          ]
        },
        {
          "output_type": "stream",
          "name": "stdout",
          "text": [
            "✔️ Already uploaded: /ASL_trimmed/test/33472809842582607-ANY.mp4\n"
          ]
        },
        {
          "output_type": "stream",
          "name": "stderr",
          "text": [
            "\r 38%|███▊      | 189/500 [01:01<01:34,  3.30it/s]"
          ]
        },
        {
          "output_type": "stream",
          "name": "stdout",
          "text": [
            "✔️ Already uploaded: /ASL_trimmed/test/5153056222481602-OR.mp4\n"
          ]
        },
        {
          "output_type": "stream",
          "name": "stderr",
          "text": [
            "\r 38%|███▊      | 190/500 [01:01<01:39,  3.13it/s]"
          ]
        },
        {
          "output_type": "stream",
          "name": "stdout",
          "text": [
            "✔️ Already uploaded: /ASL_trimmed/test/2944283140098787-BACK.mp4\n"
          ]
        },
        {
          "output_type": "stream",
          "name": "stderr",
          "text": [
            "\r 38%|███▊      | 191/500 [01:02<01:33,  3.30it/s]"
          ]
        },
        {
          "output_type": "stream",
          "name": "stdout",
          "text": [
            "✔️ Already uploaded: /ASL_trimmed/test/374515997545366-TWO.mp4\n"
          ]
        },
        {
          "output_type": "stream",
          "name": "stderr",
          "text": [
            "\r 38%|███▊      | 192/500 [01:02<01:29,  3.44it/s]"
          ]
        },
        {
          "output_type": "stream",
          "name": "stdout",
          "text": [
            "✔️ Already uploaded: /ASL_trimmed/test/8187982746646938-GO.mp4\n"
          ]
        },
        {
          "output_type": "stream",
          "name": "stderr",
          "text": [
            "\r 39%|███▊      | 193/500 [01:02<01:25,  3.59it/s]"
          ]
        },
        {
          "output_type": "stream",
          "name": "stdout",
          "text": [
            "✔️ Already uploaded: /ASL_trimmed/test/13588424203367055-WHICH.mp4\n"
          ]
        },
        {
          "output_type": "stream",
          "name": "stderr",
          "text": [
            "\r 39%|███▉      | 194/500 [01:02<01:27,  3.51it/s]"
          ]
        },
        {
          "output_type": "stream",
          "name": "stdout",
          "text": [
            "✔️ Already uploaded: /ASL_trimmed/test/8823370528734136-ACCEPT.mp4\n"
          ]
        },
        {
          "output_type": "stream",
          "name": "stderr",
          "text": [
            "\r 39%|███▉      | 195/500 [01:03<01:25,  3.58it/s]"
          ]
        },
        {
          "output_type": "stream",
          "name": "stdout",
          "text": [
            "✔️ Already uploaded: /ASL_trimmed/test/08935802292404782-WE.mp4\n"
          ]
        },
        {
          "output_type": "stream",
          "name": "stderr",
          "text": [
            "\r 39%|███▉      | 196/500 [01:03<01:22,  3.67it/s]"
          ]
        },
        {
          "output_type": "stream",
          "name": "stdout",
          "text": [
            "✔️ Already uploaded: /ASL_trimmed/test/4741936871844836-ONE.mp4\n"
          ]
        },
        {
          "output_type": "stream",
          "name": "stderr",
          "text": [
            "\r 39%|███▉      | 197/500 [01:03<01:22,  3.67it/s]"
          ]
        },
        {
          "output_type": "stream",
          "name": "stdout",
          "text": [
            "✔️ Already uploaded: /ASL_trimmed/test/04442046013887868-FRIEND.mp4\n"
          ]
        },
        {
          "output_type": "stream",
          "name": "stderr",
          "text": [
            "\r 40%|███▉      | 198/500 [01:04<01:21,  3.71it/s]"
          ]
        },
        {
          "output_type": "stream",
          "name": "stdout",
          "text": [
            "✔️ Already uploaded: /ASL_trimmed/test/5556821084355537-COME.mp4\n"
          ]
        },
        {
          "output_type": "stream",
          "name": "stderr",
          "text": [
            "\r 40%|███▉      | 199/500 [01:04<01:21,  3.69it/s]"
          ]
        },
        {
          "output_type": "stream",
          "name": "stdout",
          "text": [
            "✔️ Already uploaded: /ASL_trimmed/test/4437069818202324-CARRY.mp4\n"
          ]
        },
        {
          "output_type": "stream",
          "name": "stderr",
          "text": [
            "\r 40%|████      | 200/500 [01:04<01:25,  3.50it/s]"
          ]
        },
        {
          "output_type": "stream",
          "name": "stdout",
          "text": [
            "✔️ Already uploaded: /ASL_trimmed/test/6399195676241944-DRAW.mp4\n"
          ]
        },
        {
          "output_type": "stream",
          "name": "stderr",
          "text": [
            "\r 40%|████      | 201/500 [01:04<01:24,  3.55it/s]"
          ]
        },
        {
          "output_type": "stream",
          "name": "stdout",
          "text": [
            "✔️ Already uploaded: /ASL_trimmed/test/9542027365188674-NO.mp4\n"
          ]
        },
        {
          "output_type": "stream",
          "name": "stderr",
          "text": [
            "\r 40%|████      | 202/500 [01:05<01:26,  3.43it/s]"
          ]
        },
        {
          "output_type": "stream",
          "name": "stdout",
          "text": [
            "✔️ Already uploaded: /ASL_trimmed/test/8699210337284036-NOW.mp4\n"
          ]
        },
        {
          "output_type": "stream",
          "name": "stderr",
          "text": [
            "\r 41%|████      | 203/500 [01:05<01:25,  3.46it/s]"
          ]
        },
        {
          "output_type": "stream",
          "name": "stdout",
          "text": [
            "✔️ Already uploaded: /ASL_trimmed/test/6328147846440941-WHEN.mp4\n"
          ]
        },
        {
          "output_type": "stream",
          "name": "stderr",
          "text": [
            "\r 41%|████      | 204/500 [01:06<03:09,  1.56it/s]"
          ]
        },
        {
          "output_type": "stream",
          "name": "stdout",
          "text": [
            "✔️ Already uploaded: /ASL_trimmed/test/29171740777134736-WELL.mp4\n"
          ]
        },
        {
          "output_type": "stream",
          "name": "stderr",
          "text": [
            "\r 41%|████      | 205/500 [01:07<02:38,  1.86it/s]"
          ]
        },
        {
          "output_type": "stream",
          "name": "stdout",
          "text": [
            "✔️ Already uploaded: /ASL_trimmed/test/5968816675394137-ME.mp4\n"
          ]
        },
        {
          "output_type": "stream",
          "name": "stderr",
          "text": [
            "\r 41%|████      | 206/500 [01:07<02:13,  2.20it/s]"
          ]
        },
        {
          "output_type": "stream",
          "name": "stdout",
          "text": [
            "✔️ Already uploaded: /ASL_trimmed/test/021349059949451465-OTHER.mp4\n"
          ]
        },
        {
          "output_type": "stream",
          "name": "stderr",
          "text": [
            "\r 41%|████▏     | 207/500 [01:07<02:06,  2.32it/s]"
          ]
        },
        {
          "output_type": "stream",
          "name": "stdout",
          "text": [
            "✔️ Already uploaded: /ASL_trimmed/test/23802180376526483-THAN.mp4\n"
          ]
        },
        {
          "output_type": "stream",
          "name": "stderr",
          "text": [
            "\r 42%|████▏     | 208/500 [01:08<01:52,  2.60it/s]"
          ]
        },
        {
          "output_type": "stream",
          "name": "stdout",
          "text": [
            "✔️ Already uploaded: /ASL_trimmed/test/3510355166470642-ON.mp4\n"
          ]
        },
        {
          "output_type": "stream",
          "name": "stderr",
          "text": [
            "\r 42%|████▏     | 209/500 [01:08<01:41,  2.86it/s]"
          ]
        },
        {
          "output_type": "stream",
          "name": "stdout",
          "text": [
            "✔️ Already uploaded: /ASL_trimmed/test/8941049731507169-ME.mp4\n"
          ]
        },
        {
          "output_type": "stream",
          "name": "stderr",
          "text": [
            "\r 42%|████▏     | 210/500 [01:08<01:32,  3.13it/s]"
          ]
        },
        {
          "output_type": "stream",
          "name": "stdout",
          "text": [
            "✔️ Already uploaded: /ASL_trimmed/test/13503420643182062-CUT 1.mp4\n"
          ]
        },
        {
          "output_type": "stream",
          "name": "stderr",
          "text": [
            "\r 42%|████▏     | 211/500 [01:09<01:39,  2.90it/s]"
          ]
        },
        {
          "output_type": "stream",
          "name": "stdout",
          "text": [
            "✔️ Already uploaded: /ASL_trimmed/test/8702889283080875-ASK.mp4\n"
          ]
        },
        {
          "output_type": "stream",
          "name": "stderr",
          "text": [
            "\r 42%|████▏     | 212/500 [01:09<01:34,  3.06it/s]"
          ]
        },
        {
          "output_type": "stream",
          "name": "stdout",
          "text": [
            "✔️ Already uploaded: /ASL_trimmed/test/3691575208171871-USE.mp4\n"
          ]
        },
        {
          "output_type": "stream",
          "name": "stderr",
          "text": [
            "\r 43%|████▎     | 213/500 [01:09<01:28,  3.23it/s]"
          ]
        },
        {
          "output_type": "stream",
          "name": "stdout",
          "text": [
            "✔️ Already uploaded: /ASL_trimmed/test/013886274329008907-YEAR.mp4\n"
          ]
        },
        {
          "output_type": "stream",
          "name": "stderr",
          "text": [
            "\r 43%|████▎     | 214/500 [01:09<01:27,  3.26it/s]"
          ]
        },
        {
          "output_type": "stream",
          "name": "stdout",
          "text": [
            "✔️ Already uploaded: /ASL_trimmed/test/057126086628274564-ALL.mp4\n"
          ]
        },
        {
          "output_type": "stream",
          "name": "stderr",
          "text": [
            "\r 43%|████▎     | 215/500 [01:10<01:24,  3.39it/s]"
          ]
        },
        {
          "output_type": "stream",
          "name": "stdout",
          "text": [
            "✔️ Already uploaded: /ASL_trimmed/test/35350442250763336-GIVE.mp4\n"
          ]
        },
        {
          "output_type": "stream",
          "name": "stderr",
          "text": [
            "\r 43%|████▎     | 216/500 [01:10<01:21,  3.47it/s]"
          ]
        },
        {
          "output_type": "stream",
          "name": "stdout",
          "text": [
            "✔️ Already uploaded: /ASL_trimmed/test/8206148221855314-IF.mp4\n"
          ]
        },
        {
          "output_type": "stream",
          "name": "stderr",
          "text": [
            "\r 43%|████▎     | 217/500 [01:11<01:52,  2.51it/s]"
          ]
        },
        {
          "output_type": "stream",
          "name": "stdout",
          "text": [
            "✔️ Already uploaded: /ASL_trimmed/test/569500596203147-BASEMENT.mp4\n"
          ]
        },
        {
          "output_type": "stream",
          "name": "stderr",
          "text": [
            "\r 44%|████▎     | 218/500 [01:11<01:44,  2.71it/s]"
          ]
        },
        {
          "output_type": "stream",
          "name": "stdout",
          "text": [
            "✔️ Already uploaded: /ASL_trimmed/test/4812217253961326-OVER.mp4\n"
          ]
        },
        {
          "output_type": "stream",
          "name": "stderr",
          "text": [
            "\r 44%|████▍     | 219/500 [01:11<01:34,  2.98it/s]"
          ]
        },
        {
          "output_type": "stream",
          "name": "stdout",
          "text": [
            "✔️ Already uploaded: /ASL_trimmed/test/832453541819161-AT.mp4\n"
          ]
        },
        {
          "output_type": "stream",
          "name": "stderr",
          "text": [
            "\r 44%|████▍     | 220/500 [01:11<01:27,  3.22it/s]"
          ]
        },
        {
          "output_type": "stream",
          "name": "stdout",
          "text": [
            "✔️ Already uploaded: /ASL_trimmed/test/5682389973688482-CUT 1.mp4\n"
          ]
        },
        {
          "output_type": "stream",
          "name": "stderr",
          "text": [
            "\r 44%|████▍     | 221/500 [01:12<01:29,  3.12it/s]"
          ]
        },
        {
          "output_type": "stream",
          "name": "stdout",
          "text": [
            "✔️ Already uploaded: /ASL_trimmed/test/9401487196258995-HAVE.mp4\n"
          ]
        },
        {
          "output_type": "stream",
          "name": "stderr",
          "text": [
            "\r 44%|████▍     | 222/500 [01:12<01:23,  3.34it/s]"
          ]
        },
        {
          "output_type": "stream",
          "name": "stdout",
          "text": [
            "✔️ Already uploaded: /ASL_trimmed/test/13438000900536107-OUT.mp4\n"
          ]
        },
        {
          "output_type": "stream",
          "name": "stderr",
          "text": [
            "\r 45%|████▍     | 223/500 [01:12<01:23,  3.31it/s]"
          ]
        },
        {
          "output_type": "stream",
          "name": "stdout",
          "text": [
            "✔️ Already uploaded: /ASL_trimmed/test/17698818900198532-GIVE.mp4\n"
          ]
        },
        {
          "output_type": "stream",
          "name": "stderr",
          "text": [
            "\r 45%|████▍     | 224/500 [01:13<01:30,  3.06it/s]"
          ]
        },
        {
          "output_type": "stream",
          "name": "stdout",
          "text": [
            "✔️ Already uploaded: /ASL_trimmed/test/5231664394702622-HIS.mp4\n"
          ]
        },
        {
          "output_type": "stream",
          "name": "stderr",
          "text": [
            "\r 45%|████▌     | 225/500 [01:13<01:30,  3.03it/s]"
          ]
        },
        {
          "output_type": "stream",
          "name": "stdout",
          "text": [
            "✔️ Already uploaded: /ASL_trimmed/test/08798637884196503-BIRD.mp4\n"
          ]
        },
        {
          "output_type": "stream",
          "name": "stderr",
          "text": [
            "\r 45%|████▌     | 226/500 [01:14<01:42,  2.67it/s]"
          ]
        },
        {
          "output_type": "stream",
          "name": "stdout",
          "text": [
            "✔️ Already uploaded: /ASL_trimmed/test/5191392251383085-CAR.mp4\n"
          ]
        },
        {
          "output_type": "stream",
          "name": "stderr",
          "text": [
            "\r 45%|████▌     | 227/500 [01:14<01:34,  2.89it/s]"
          ]
        },
        {
          "output_type": "stream",
          "name": "stdout",
          "text": [
            "✔️ Already uploaded: /ASL_trimmed/test/6224825679560193-HE.mp4\n"
          ]
        },
        {
          "output_type": "stream",
          "name": "stderr",
          "text": [
            "\r 46%|████▌     | 228/500 [01:14<01:28,  3.06it/s]"
          ]
        },
        {
          "output_type": "stream",
          "name": "stdout",
          "text": [
            "✔️ Already uploaded: /ASL_trimmed/test/9740340262840792-MOST.mp4\n"
          ]
        },
        {
          "output_type": "stream",
          "name": "stderr",
          "text": [
            "\r 46%|████▌     | 229/500 [01:14<01:22,  3.27it/s]"
          ]
        },
        {
          "output_type": "stream",
          "name": "stdout",
          "text": [
            "✔️ Already uploaded: /ASL_trimmed/test/4370636527220899-TO.mp4\n"
          ]
        },
        {
          "output_type": "stream",
          "name": "stderr",
          "text": [
            "\r 46%|████▌     | 230/500 [01:15<01:24,  3.18it/s]"
          ]
        },
        {
          "output_type": "stream",
          "name": "stdout",
          "text": [
            "✔️ Already uploaded: /ASL_trimmed/test/5232769399213089-ON.mp4\n"
          ]
        },
        {
          "output_type": "stream",
          "name": "stderr",
          "text": [
            "\r 46%|████▌     | 231/500 [01:15<01:30,  2.97it/s]"
          ]
        },
        {
          "output_type": "stream",
          "name": "stdout",
          "text": [
            "✔️ Already uploaded: /ASL_trimmed/test/7931075492698656-NO.mp4\n"
          ]
        },
        {
          "output_type": "stream",
          "name": "stderr",
          "text": [
            "\r 46%|████▋     | 232/500 [01:15<01:26,  3.09it/s]"
          ]
        },
        {
          "output_type": "stream",
          "name": "stdout",
          "text": [
            "✔️ Already uploaded: /ASL_trimmed/test/5602506471677693-COME.mp4\n"
          ]
        },
        {
          "output_type": "stream",
          "name": "stderr",
          "text": [
            "\r 47%|████▋     | 233/500 [01:16<01:23,  3.19it/s]"
          ]
        },
        {
          "output_type": "stream",
          "name": "stdout",
          "text": [
            "✔️ Already uploaded: /ASL_trimmed/test/6421905891904218-AFTER.mp4\n"
          ]
        },
        {
          "output_type": "stream",
          "name": "stderr",
          "text": [
            "\r 47%|████▋     | 234/500 [01:16<01:18,  3.39it/s]"
          ]
        },
        {
          "output_type": "stream",
          "name": "stdout",
          "text": [
            "✔️ Already uploaded: /ASL_trimmed/test/8839827251547725-HAVE.mp4\n"
          ]
        },
        {
          "output_type": "stream",
          "name": "stderr",
          "text": [
            "\r 47%|████▋     | 235/500 [01:16<01:16,  3.48it/s]"
          ]
        },
        {
          "output_type": "stream",
          "name": "stdout",
          "text": [
            "✔️ Already uploaded: /ASL_trimmed/test/7744826220635872-GIVE.mp4\n"
          ]
        },
        {
          "output_type": "stream",
          "name": "stderr",
          "text": [
            "\r 47%|████▋     | 236/500 [01:16<01:14,  3.55it/s]"
          ]
        },
        {
          "output_type": "stream",
          "name": "stdout",
          "text": [
            "✔️ Already uploaded: /ASL_trimmed/test/04475390430518056-FOR.mp4\n"
          ]
        },
        {
          "output_type": "stream",
          "name": "stderr",
          "text": [
            "\r 47%|████▋     | 237/500 [01:17<01:11,  3.65it/s]"
          ]
        },
        {
          "output_type": "stream",
          "name": "stdout",
          "text": [
            "✔️ Already uploaded: /ASL_trimmed/test/9570620773523597-BECAUSE.mp4\n"
          ]
        },
        {
          "output_type": "stream",
          "name": "stderr",
          "text": [
            "\r 48%|████▊     | 238/500 [01:17<01:11,  3.68it/s]"
          ]
        },
        {
          "output_type": "stream",
          "name": "stdout",
          "text": [
            "✔️ Already uploaded: /ASL_trimmed/test/4478704526203494-THINK.mp4\n"
          ]
        },
        {
          "output_type": "stream",
          "name": "stderr",
          "text": [
            "\r 48%|████▊     | 239/500 [01:17<01:17,  3.37it/s]"
          ]
        },
        {
          "output_type": "stream",
          "name": "stdout",
          "text": [
            "✔️ Already uploaded: /ASL_trimmed/test/6062829066450051-WE.mp4\n"
          ]
        },
        {
          "output_type": "stream",
          "name": "stderr",
          "text": [
            "\r 48%|████▊     | 240/500 [01:18<01:14,  3.47it/s]"
          ]
        },
        {
          "output_type": "stream",
          "name": "stdout",
          "text": [
            "✔️ Already uploaded: /ASL_trimmed/test/6813680247909-GOOD.mp4\n"
          ]
        },
        {
          "output_type": "stream",
          "name": "stderr",
          "text": [
            "\r 48%|████▊     | 241/500 [01:18<01:12,  3.56it/s]"
          ]
        },
        {
          "output_type": "stream",
          "name": "stdout",
          "text": [
            "✔️ Already uploaded: /ASL_trimmed/test/9577843681094382-SOME.mp4\n"
          ]
        },
        {
          "output_type": "stream",
          "name": "stderr",
          "text": [
            "\r 48%|████▊     | 242/500 [01:18<01:12,  3.55it/s]"
          ]
        },
        {
          "output_type": "stream",
          "name": "stdout",
          "text": [
            "✔️ Already uploaded: /ASL_trimmed/test/8264157328008421-OUR.mp4\n"
          ]
        },
        {
          "output_type": "stream",
          "name": "stderr",
          "text": [
            "\r 49%|████▊     | 243/500 [01:18<01:10,  3.63it/s]"
          ]
        },
        {
          "output_type": "stream",
          "name": "stdout",
          "text": [
            "✔️ Already uploaded: /ASL_trimmed/test/9282858815950668-FROM.mp4\n"
          ]
        },
        {
          "output_type": "stream",
          "name": "stderr",
          "text": [
            "\r 49%|████▉     | 244/500 [01:19<01:08,  3.72it/s]"
          ]
        },
        {
          "output_type": "stream",
          "name": "stdout",
          "text": [
            "✔️ Already uploaded: /ASL_trimmed/test/012039608740382457-BUY.mp4\n"
          ]
        },
        {
          "output_type": "stream",
          "name": "stderr",
          "text": [
            "\r 49%|████▉     | 245/500 [01:19<01:12,  3.52it/s]"
          ]
        },
        {
          "output_type": "stream",
          "name": "stdout",
          "text": [
            "✔️ Already uploaded: /ASL_trimmed/test/7814778334494417-UP.mp4\n"
          ]
        },
        {
          "output_type": "stream",
          "name": "stderr",
          "text": [
            "\r 49%|████▉     | 246/500 [01:19<01:21,  3.11it/s]"
          ]
        },
        {
          "output_type": "stream",
          "name": "stdout",
          "text": [
            "✔️ Already uploaded: /ASL_trimmed/test/2584206156199014-TIME.mp4\n"
          ]
        },
        {
          "output_type": "stream",
          "name": "stderr",
          "text": [
            "\r 49%|████▉     | 247/500 [01:20<01:18,  3.23it/s]"
          ]
        },
        {
          "output_type": "stream",
          "name": "stdout",
          "text": [
            "✔️ Already uploaded: /ASL_trimmed/test/05213941696644975-FROM.mp4\n"
          ]
        },
        {
          "output_type": "stream",
          "name": "stderr",
          "text": [
            "\r 50%|████▉     | 248/500 [01:20<01:14,  3.40it/s]"
          ]
        },
        {
          "output_type": "stream",
          "name": "stdout",
          "text": [
            "✔️ Already uploaded: /ASL_trimmed/test/5095688074960942-OUR.mp4\n"
          ]
        },
        {
          "output_type": "stream",
          "name": "stderr",
          "text": [
            "\r 50%|████▉     | 249/500 [01:20<01:13,  3.40it/s]"
          ]
        },
        {
          "output_type": "stream",
          "name": "stdout",
          "text": [
            "✔️ Already uploaded: /ASL_trimmed/test/6679508760345139-BACK.mp4\n"
          ]
        },
        {
          "output_type": "stream",
          "name": "stderr",
          "text": [
            "\r 50%|█████     | 250/500 [01:21<01:11,  3.51it/s]"
          ]
        },
        {
          "output_type": "stream",
          "name": "stdout",
          "text": [
            "✔️ Already uploaded: /ASL_trimmed/test/4890142675557214-SOME.mp4\n"
          ]
        },
        {
          "output_type": "stream",
          "name": "stderr",
          "text": [
            "\r 50%|█████     | 251/500 [01:21<01:21,  3.04it/s]"
          ]
        },
        {
          "output_type": "stream",
          "name": "stdout",
          "text": [
            "✔️ Already uploaded: /ASL_trimmed/test/19472589297371545-US.mp4\n"
          ]
        },
        {
          "output_type": "stream",
          "name": "stderr",
          "text": [
            "\r 50%|█████     | 252/500 [01:21<01:16,  3.23it/s]"
          ]
        },
        {
          "output_type": "stream",
          "name": "stdout",
          "text": [
            "✔️ Already uploaded: /ASL_trimmed/test/8700496241255762-BASEMENT.mp4\n"
          ]
        },
        {
          "output_type": "stream",
          "name": "stderr",
          "text": [
            "\r 51%|█████     | 253/500 [01:22<01:15,  3.25it/s]"
          ]
        },
        {
          "output_type": "stream",
          "name": "stdout",
          "text": [
            "✔️ Already uploaded: /ASL_trimmed/test/8977294850718607-COOK.mp4\n"
          ]
        },
        {
          "output_type": "stream",
          "name": "stderr",
          "text": [
            "\r 51%|█████     | 254/500 [01:22<01:30,  2.72it/s]"
          ]
        },
        {
          "output_type": "stream",
          "name": "stdout",
          "text": [
            "✔️ Already uploaded: /ASL_trimmed/test/5178237631667904-GIVE.mp4\n"
          ]
        },
        {
          "output_type": "stream",
          "name": "stderr",
          "text": [
            "\r 51%|█████     | 255/500 [01:22<01:25,  2.87it/s]"
          ]
        },
        {
          "output_type": "stream",
          "name": "stdout",
          "text": [
            "✔️ Already uploaded: /ASL_trimmed/test/6679554348761698-DAUGHTER.mp4\n"
          ]
        },
        {
          "output_type": "stream",
          "name": "stderr",
          "text": [
            "\r 51%|█████     | 256/500 [01:23<01:18,  3.09it/s]"
          ]
        },
        {
          "output_type": "stream",
          "name": "stdout",
          "text": [
            "✔️ Already uploaded: /ASL_trimmed/test/25815457791308316-ANY.mp4\n"
          ]
        },
        {
          "output_type": "stream",
          "name": "stderr",
          "text": [
            "\r 51%|█████▏    | 257/500 [01:23<01:16,  3.16it/s]"
          ]
        },
        {
          "output_type": "stream",
          "name": "stdout",
          "text": [
            "✔️ Already uploaded: /ASL_trimmed/test/4201900473696285-OVER.mp4\n"
          ]
        },
        {
          "output_type": "stream",
          "name": "stderr",
          "text": [
            "\r 52%|█████▏    | 258/500 [01:23<01:17,  3.14it/s]"
          ]
        },
        {
          "output_type": "stream",
          "name": "stdout",
          "text": [
            "✔️ Already uploaded: /ASL_trimmed/test/6262111256491878-ANY.mp4\n"
          ]
        },
        {
          "output_type": "stream",
          "name": "stderr",
          "text": [
            "\r 52%|█████▏    | 259/500 [01:23<01:13,  3.30it/s]"
          ]
        },
        {
          "output_type": "stream",
          "name": "stdout",
          "text": [
            "✔️ Already uploaded: /ASL_trimmed/test/14393806954072708-ANY.mp4\n"
          ]
        },
        {
          "output_type": "stream",
          "name": "stderr",
          "text": [
            "\r 52%|█████▏    | 260/500 [01:24<01:25,  2.82it/s]"
          ]
        },
        {
          "output_type": "stream",
          "name": "stdout",
          "text": [
            "✔️ Already uploaded: /ASL_trimmed/test/9124605309904161-BIRD.mp4\n"
          ]
        },
        {
          "output_type": "stream",
          "name": "stderr",
          "text": [
            "\r 52%|█████▏    | 261/500 [01:24<01:18,  3.03it/s]"
          ]
        },
        {
          "output_type": "stream",
          "name": "stdout",
          "text": [
            "✔️ Already uploaded: /ASL_trimmed/test/20003215375757932-MAKE.mp4\n"
          ]
        },
        {
          "output_type": "stream",
          "name": "stderr",
          "text": [
            "\r 52%|█████▏    | 262/500 [01:24<01:14,  3.19it/s]"
          ]
        },
        {
          "output_type": "stream",
          "name": "stdout",
          "text": [
            "✔️ Already uploaded: /ASL_trimmed/test/2732741727030885-NO.mp4\n"
          ]
        },
        {
          "output_type": "stream",
          "name": "stderr",
          "text": [
            "\r 53%|█████▎    | 263/500 [01:25<01:11,  3.32it/s]"
          ]
        },
        {
          "output_type": "stream",
          "name": "stdout",
          "text": [
            "✔️ Already uploaded: /ASL_trimmed/test/17006505782748738-WILL.mp4\n"
          ]
        },
        {
          "output_type": "stream",
          "name": "stderr",
          "text": [
            "\r 53%|█████▎    | 264/500 [01:25<01:08,  3.45it/s]"
          ]
        },
        {
          "output_type": "stream",
          "name": "stdout",
          "text": [
            "✔️ Already uploaded: /ASL_trimmed/test/9471965009322212-OUR.mp4\n"
          ]
        },
        {
          "output_type": "stream",
          "name": "stderr",
          "text": [
            "\r 53%|█████▎    | 265/500 [01:25<01:06,  3.53it/s]"
          ]
        },
        {
          "output_type": "stream",
          "name": "stdout",
          "text": [
            "✔️ Already uploaded: /ASL_trimmed/test/3405120400576982-CHAIR.mp4\n"
          ]
        },
        {
          "output_type": "stream",
          "name": "stderr",
          "text": [
            "\r 53%|█████▎    | 266/500 [01:26<01:05,  3.56it/s]"
          ]
        },
        {
          "output_type": "stream",
          "name": "stdout",
          "text": [
            "✔️ Already uploaded: /ASL_trimmed/test/20191933238587412-SOME.mp4\n"
          ]
        },
        {
          "output_type": "stream",
          "name": "stderr",
          "text": [
            "\r 53%|█████▎    | 267/500 [01:26<01:24,  2.74it/s]"
          ]
        },
        {
          "output_type": "stream",
          "name": "stdout",
          "text": [
            "✔️ Already uploaded: /ASL_trimmed/test/19969195726692268-PEOPLE.mp4\n"
          ]
        },
        {
          "output_type": "stream",
          "name": "stderr",
          "text": [
            "\r 54%|█████▎    | 268/500 [01:26<01:20,  2.87it/s]"
          ]
        },
        {
          "output_type": "stream",
          "name": "stdout",
          "text": [
            "✔️ Already uploaded: /ASL_trimmed/test/11091344459201657-ME.mp4\n"
          ]
        },
        {
          "output_type": "stream",
          "name": "stderr",
          "text": [
            "\r 54%|█████▍    | 269/500 [01:27<01:20,  2.86it/s]"
          ]
        },
        {
          "output_type": "stream",
          "name": "stdout",
          "text": [
            "✔️ Already uploaded: /ASL_trimmed/test/21749297295764602-MY.mp4\n"
          ]
        },
        {
          "output_type": "stream",
          "name": "stderr",
          "text": [
            "\r 54%|█████▍    | 270/500 [01:27<01:14,  3.07it/s]"
          ]
        },
        {
          "output_type": "stream",
          "name": "stdout",
          "text": [
            "✔️ Already uploaded: /ASL_trimmed/test/6101010190720713-TO.mp4\n"
          ]
        },
        {
          "output_type": "stream",
          "name": "stderr",
          "text": [
            "\r 54%|█████▍    | 271/500 [01:27<01:10,  3.25it/s]"
          ]
        },
        {
          "output_type": "stream",
          "name": "stdout",
          "text": [
            "✔️ Already uploaded: /ASL_trimmed/test/30753411760017113-OUT.mp4\n"
          ]
        },
        {
          "output_type": "stream",
          "name": "stderr",
          "text": [
            "\r 54%|█████▍    | 272/500 [01:28<01:58,  1.93it/s]"
          ]
        },
        {
          "output_type": "stream",
          "name": "stdout",
          "text": [
            "No signing detected in: /content/drive/MyDrive/videos/5141931754382849-ARRIVE.mp4\n"
          ]
        },
        {
          "output_type": "stream",
          "name": "stderr",
          "text": [
            "\r 55%|█████▍    | 273/500 [01:29<01:40,  2.26it/s]"
          ]
        },
        {
          "output_type": "stream",
          "name": "stdout",
          "text": [
            "✔️ Already uploaded: /ASL_trimmed/test/38480378502997437-MY.mp4\n"
          ]
        },
        {
          "output_type": "stream",
          "name": "stderr",
          "text": [
            "\r 55%|█████▍    | 274/500 [01:29<01:38,  2.30it/s]"
          ]
        },
        {
          "output_type": "stream",
          "name": "stdout",
          "text": [
            "✔️ Already uploaded: /ASL_trimmed/test/6356514187581743-WE.mp4\n"
          ]
        },
        {
          "output_type": "stream",
          "name": "stderr",
          "text": [
            "\r 55%|█████▌    | 275/500 [01:29<01:31,  2.45it/s]"
          ]
        },
        {
          "output_type": "stream",
          "name": "stdout",
          "text": [
            "✔️ Already uploaded: /ASL_trimmed/test/4207853041856162-FOR.mp4\n"
          ]
        },
        {
          "output_type": "stream",
          "name": "stderr",
          "text": [
            "\r 55%|█████▌    | 276/500 [01:30<01:21,  2.74it/s]"
          ]
        },
        {
          "output_type": "stream",
          "name": "stdout",
          "text": [
            "✔️ Already uploaded: /ASL_trimmed/test/47800562772404587-ADD.mp4\n"
          ]
        },
        {
          "output_type": "stream",
          "name": "stderr",
          "text": [
            "\r 55%|█████▌    | 277/500 [01:30<01:17,  2.89it/s]"
          ]
        },
        {
          "output_type": "stream",
          "name": "stdout",
          "text": [
            "✔️ Already uploaded: /ASL_trimmed/test/2972660911161502-DANCE.mp4\n"
          ]
        },
        {
          "output_type": "stream",
          "name": "stderr",
          "text": [
            "\r 56%|█████▌    | 278/500 [01:30<01:10,  3.13it/s]"
          ]
        },
        {
          "output_type": "stream",
          "name": "stdout",
          "text": [
            "✔️ Already uploaded: /ASL_trimmed/test/9413429134500428-BUT.mp4\n"
          ]
        },
        {
          "output_type": "stream",
          "name": "stderr",
          "text": [
            "\r 56%|█████▌    | 279/500 [01:32<02:18,  1.60it/s]"
          ]
        },
        {
          "output_type": "stream",
          "name": "stdout",
          "text": [
            "✔️ Already uploaded: /ASL_trimmed/test/716491678863769-PEOPLE.mp4\n"
          ]
        },
        {
          "output_type": "stream",
          "name": "stderr",
          "text": [
            "\r 56%|█████▌    | 280/500 [01:32<01:55,  1.91it/s]"
          ]
        },
        {
          "output_type": "stream",
          "name": "stdout",
          "text": [
            "✔️ Already uploaded: /ASL_trimmed/test/639566277780208-MY.mp4\n"
          ]
        },
        {
          "output_type": "stream",
          "name": "stderr",
          "text": [
            "\r 56%|█████▌    | 281/500 [01:32<01:55,  1.89it/s]"
          ]
        },
        {
          "output_type": "stream",
          "name": "stdout",
          "text": [
            "✔️ Already uploaded: /ASL_trimmed/test/5409396391126184-BECAUSE.mp4\n"
          ]
        },
        {
          "output_type": "stream",
          "name": "stderr",
          "text": [
            "\r 56%|█████▋    | 282/500 [01:33<01:37,  2.23it/s]"
          ]
        },
        {
          "output_type": "stream",
          "name": "stdout",
          "text": [
            "✔️ Already uploaded: /ASL_trimmed/test/6518105091553832-HE.mp4\n"
          ]
        },
        {
          "output_type": "stream",
          "name": "stderr",
          "text": [
            "\r 57%|█████▋    | 283/500 [01:33<01:32,  2.34it/s]"
          ]
        },
        {
          "output_type": "stream",
          "name": "stdout",
          "text": [
            "✔️ Already uploaded: /ASL_trimmed/test/4226759664753206-WILL.mp4\n"
          ]
        },
        {
          "output_type": "stream",
          "name": "stderr",
          "text": [
            "\r 57%|█████▋    | 284/500 [01:33<01:23,  2.60it/s]"
          ]
        },
        {
          "output_type": "stream",
          "name": "stdout",
          "text": [
            "✔️ Already uploaded: /ASL_trimmed/test/23398321171366265-IF.mp4\n"
          ]
        },
        {
          "output_type": "stream",
          "name": "stderr",
          "text": [
            "\r 57%|█████▋    | 285/500 [01:34<01:16,  2.81it/s]"
          ]
        },
        {
          "output_type": "stream",
          "name": "stdout",
          "text": [
            "✔️ Already uploaded: /ASL_trimmed/test/9382586244868159-ONE.mp4\n"
          ]
        },
        {
          "output_type": "stream",
          "name": "stderr",
          "text": [
            "\r 57%|█████▋    | 286/500 [01:34<01:14,  2.86it/s]"
          ]
        },
        {
          "output_type": "stream",
          "name": "stdout",
          "text": [
            "✔️ Already uploaded: /ASL_trimmed/test/5133585833090564-OTHER.mp4\n"
          ]
        },
        {
          "output_type": "stream",
          "name": "stderr",
          "text": [
            "\r 57%|█████▋    | 287/500 [01:34<01:10,  3.03it/s]"
          ]
        },
        {
          "output_type": "stream",
          "name": "stdout",
          "text": [
            "✔️ Already uploaded: /ASL_trimmed/test/4920505456783295-FOR.mp4\n"
          ]
        },
        {
          "output_type": "stream",
          "name": "stderr",
          "text": [
            "\r 58%|█████▊    | 288/500 [01:35<01:12,  2.94it/s]"
          ]
        },
        {
          "output_type": "stream",
          "name": "stdout",
          "text": [
            "✔️ Already uploaded: /ASL_trimmed/test/3431354898076535-WHICH.mp4\n"
          ]
        },
        {
          "output_type": "stream",
          "name": "stderr",
          "text": [
            "\r 58%|█████▊    | 289/500 [01:35<01:08,  3.08it/s]"
          ]
        },
        {
          "output_type": "stream",
          "name": "stdout",
          "text": [
            "✔️ Already uploaded: /ASL_trimmed/test/9687874710872124-GOOD.mp4\n"
          ]
        },
        {
          "output_type": "stream",
          "name": "stderr",
          "text": [
            "\r 58%|█████▊    | 290/500 [01:35<01:19,  2.64it/s]"
          ]
        },
        {
          "output_type": "stream",
          "name": "stdout",
          "text": [
            "✔️ Already uploaded: /ASL_trimmed/test/3793299879371843-THAN.mp4\n"
          ]
        },
        {
          "output_type": "stream",
          "name": "stderr",
          "text": [
            "\r 58%|█████▊    | 291/500 [01:36<01:13,  2.84it/s]"
          ]
        },
        {
          "output_type": "stream",
          "name": "stdout",
          "text": [
            "✔️ Already uploaded: /ASL_trimmed/test/3058784544642419-WHEN.mp4\n"
          ]
        },
        {
          "output_type": "stream",
          "name": "stderr",
          "text": [
            "\r 58%|█████▊    | 292/500 [01:36<01:16,  2.71it/s]"
          ]
        },
        {
          "output_type": "stream",
          "name": "stdout",
          "text": [
            "✔️ Already uploaded: /ASL_trimmed/test/4899434914757508-MOST.mp4\n"
          ]
        },
        {
          "output_type": "stream",
          "name": "stderr",
          "text": [
            "\r 59%|█████▊    | 293/500 [01:37<01:25,  2.42it/s]"
          ]
        },
        {
          "output_type": "stream",
          "name": "stdout",
          "text": [
            "✔️ Already uploaded: /ASL_trimmed/test/22662741538770148-AFTER.mp4\n"
          ]
        },
        {
          "output_type": "stream",
          "name": "stderr",
          "text": [
            "\r 59%|█████▉    | 294/500 [01:37<01:16,  2.71it/s]"
          ]
        },
        {
          "output_type": "stream",
          "name": "stdout",
          "text": [
            "✔️ Already uploaded: /ASL_trimmed/test/30641143837140294-THAN.mp4\n"
          ]
        },
        {
          "output_type": "stream",
          "name": "stderr",
          "text": [
            "\r 59%|█████▉    | 295/500 [01:37<01:22,  2.49it/s]"
          ]
        },
        {
          "output_type": "stream",
          "name": "stdout",
          "text": [
            "✔️ Already uploaded: /ASL_trimmed/test/4351609189565593-BUY.mp4\n"
          ]
        },
        {
          "output_type": "stream",
          "name": "stderr",
          "text": [
            "\r 59%|█████▉    | 296/500 [01:38<01:16,  2.68it/s]"
          ]
        },
        {
          "output_type": "stream",
          "name": "stdout",
          "text": [
            "✔️ Already uploaded: /ASL_trimmed/test/883180093407538-WELL.mp4\n"
          ]
        },
        {
          "output_type": "stream",
          "name": "stderr",
          "text": [
            "\r 59%|█████▉    | 297/500 [01:38<01:08,  2.96it/s]"
          ]
        },
        {
          "output_type": "stream",
          "name": "stdout",
          "text": [
            "✔️ Already uploaded: /ASL_trimmed/test/1301124921650192-ADD.mp4\n"
          ]
        },
        {
          "output_type": "stream",
          "name": "stderr",
          "text": [
            "\r 60%|█████▉    | 298/500 [01:38<01:06,  3.03it/s]"
          ]
        },
        {
          "output_type": "stream",
          "name": "stdout",
          "text": [
            "✔️ Already uploaded: /ASL_trimmed/test/8191521390530057-CLASS.mp4\n"
          ]
        },
        {
          "output_type": "stream",
          "name": "stderr",
          "text": [
            "\r 60%|█████▉    | 299/500 [01:38<01:01,  3.27it/s]"
          ]
        },
        {
          "output_type": "stream",
          "name": "stdout",
          "text": [
            "✔️ Already uploaded: /ASL_trimmed/test/5817237493367622-GOOD.mp4\n"
          ]
        },
        {
          "output_type": "stream",
          "name": "stderr",
          "text": [
            "\r 60%|██████    | 300/500 [01:39<00:59,  3.35it/s]"
          ]
        },
        {
          "output_type": "stream",
          "name": "stdout",
          "text": [
            "✔️ Already uploaded: /ASL_trimmed/test/31713120541185313-DOOR.mp4\n"
          ]
        },
        {
          "output_type": "stream",
          "name": "stderr",
          "text": [
            "\r 60%|██████    | 301/500 [01:39<00:58,  3.39it/s]"
          ]
        },
        {
          "output_type": "stream",
          "name": "stdout",
          "text": [
            "✔️ Already uploaded: /ASL_trimmed/test/7399984921358038-COME.mp4\n"
          ]
        },
        {
          "output_type": "stream",
          "name": "stderr",
          "text": [
            "\r 60%|██████    | 302/500 [01:39<00:57,  3.43it/s]"
          ]
        },
        {
          "output_type": "stream",
          "name": "stdout",
          "text": [
            "✔️ Already uploaded: /ASL_trimmed/test/15068983223123644-US.mp4\n"
          ]
        },
        {
          "output_type": "stream",
          "name": "stderr",
          "text": [
            "\r 61%|██████    | 303/500 [01:40<00:56,  3.50it/s]"
          ]
        },
        {
          "output_type": "stream",
          "name": "stdout",
          "text": [
            "✔️ Already uploaded: /ASL_trimmed/test/27829246360194815-SEE.mp4\n"
          ]
        },
        {
          "output_type": "stream",
          "name": "stderr",
          "text": [
            "\r 61%|██████    | 304/500 [01:40<00:56,  3.47it/s]"
          ]
        },
        {
          "output_type": "stream",
          "name": "stdout",
          "text": [
            "✔️ Already uploaded: /ASL_trimmed/test/2560397355723505-BUY.mp4\n"
          ]
        },
        {
          "output_type": "stream",
          "name": "stderr",
          "text": [
            "\r 61%|██████    | 305/500 [01:40<00:54,  3.55it/s]"
          ]
        },
        {
          "output_type": "stream",
          "name": "stdout",
          "text": [
            "✔️ Already uploaded: /ASL_trimmed/test/2330293199408191-YEAR.mp4\n"
          ]
        },
        {
          "output_type": "stream",
          "name": "stderr",
          "text": [
            "\r 61%|██████    | 306/500 [01:40<00:56,  3.42it/s]"
          ]
        },
        {
          "output_type": "stream",
          "name": "stdout",
          "text": [
            "✔️ Already uploaded: /ASL_trimmed/test/6023129308188109-FOR.mp4\n"
          ]
        },
        {
          "output_type": "stream",
          "name": "stderr",
          "text": [
            "\r 61%|██████▏   | 307/500 [01:41<00:55,  3.48it/s]"
          ]
        },
        {
          "output_type": "stream",
          "name": "stdout",
          "text": [
            "✔️ Already uploaded: /ASL_trimmed/test/4087545522469531-APPLE.mp4\n"
          ]
        },
        {
          "output_type": "stream",
          "name": "stderr",
          "text": [
            "\r 62%|██████▏   | 308/500 [01:41<01:19,  2.41it/s]"
          ]
        },
        {
          "output_type": "stream",
          "name": "stdout",
          "text": [
            "✔️ Already uploaded: /ASL_trimmed/test/5400816124395869-ME.mp4\n"
          ]
        },
        {
          "output_type": "stream",
          "name": "stderr",
          "text": [
            "\r 62%|██████▏   | 309/500 [01:42<01:09,  2.73it/s]"
          ]
        },
        {
          "output_type": "stream",
          "name": "stdout",
          "text": [
            "✔️ Already uploaded: /ASL_trimmed/test/6367257639878541-THAN.mp4\n"
          ]
        },
        {
          "output_type": "stream",
          "name": "stderr",
          "text": [
            "\r 62%|██████▏   | 310/500 [01:42<01:10,  2.69it/s]"
          ]
        },
        {
          "output_type": "stream",
          "name": "stdout",
          "text": [
            "✔️ Already uploaded: /ASL_trimmed/test/8253582088574718-CUT 1.mp4\n"
          ]
        },
        {
          "output_type": "stream",
          "name": "stderr",
          "text": [
            "\r 62%|██████▏   | 311/500 [01:42<01:05,  2.89it/s]"
          ]
        },
        {
          "output_type": "stream",
          "name": "stdout",
          "text": [
            "✔️ Already uploaded: /ASL_trimmed/test/19560981345346362-WELL.mp4\n"
          ]
        },
        {
          "output_type": "stream",
          "name": "stderr",
          "text": [
            "\r 62%|██████▏   | 312/500 [01:43<01:01,  3.05it/s]"
          ]
        },
        {
          "output_type": "stream",
          "name": "stdout",
          "text": [
            "✔️ Already uploaded: /ASL_trimmed/test/10796108558809725-THAN.mp4\n"
          ]
        },
        {
          "output_type": "stream",
          "name": "stderr",
          "text": [
            "\r 63%|██████▎   | 313/500 [01:43<01:11,  2.61it/s]"
          ]
        },
        {
          "output_type": "stream",
          "name": "stdout",
          "text": [
            "✔️ Already uploaded: /ASL_trimmed/test/3735745139653246-NEW.mp4\n"
          ]
        },
        {
          "output_type": "stream",
          "name": "stderr",
          "text": [
            "\r 63%|██████▎   | 314/500 [01:43<01:04,  2.87it/s]"
          ]
        },
        {
          "output_type": "stream",
          "name": "stdout",
          "text": [
            "✔️ Already uploaded: /ASL_trimmed/test/27192113557186715-BROTHER.mp4\n"
          ]
        },
        {
          "output_type": "stream",
          "name": "stderr",
          "text": [
            "\r 63%|██████▎   | 315/500 [01:44<01:15,  2.46it/s]"
          ]
        },
        {
          "output_type": "stream",
          "name": "stdout",
          "text": [
            "✔️ Already uploaded: /ASL_trimmed/test/3413515011784971-YEAR.mp4\n"
          ]
        },
        {
          "output_type": "stream",
          "name": "stderr",
          "text": [
            "\r 63%|██████▎   | 316/500 [01:44<01:06,  2.75it/s]"
          ]
        },
        {
          "output_type": "stream",
          "name": "stdout",
          "text": [
            "✔️ Already uploaded: /ASL_trimmed/test/34257905351245066-DAUGHTER.mp4\n"
          ]
        },
        {
          "output_type": "stream",
          "name": "stderr",
          "text": [
            "\r 63%|██████▎   | 317/500 [01:44<01:01,  2.97it/s]"
          ]
        },
        {
          "output_type": "stream",
          "name": "stdout",
          "text": [
            "✔️ Already uploaded: /ASL_trimmed/test/23257939932610427-WITH.mp4\n"
          ]
        },
        {
          "output_type": "stream",
          "name": "stderr",
          "text": [
            "\r 64%|██████▎   | 318/500 [01:45<00:57,  3.18it/s]"
          ]
        },
        {
          "output_type": "stream",
          "name": "stdout",
          "text": [
            "✔️ Already uploaded: /ASL_trimmed/test/5973403798857408-PEOPLE.mp4\n"
          ]
        },
        {
          "output_type": "stream",
          "name": "stderr",
          "text": [
            "\r 64%|██████▍   | 319/500 [01:45<00:54,  3.35it/s]"
          ]
        },
        {
          "output_type": "stream",
          "name": "stdout",
          "text": [
            "✔️ Already uploaded: /ASL_trimmed/test/4541594924072119-WHEN.mp4\n"
          ]
        },
        {
          "output_type": "stream",
          "name": "stderr",
          "text": [
            "\r 64%|██████▍   | 320/500 [01:45<00:53,  3.36it/s]"
          ]
        },
        {
          "output_type": "stream",
          "name": "stdout",
          "text": [
            "✔️ Already uploaded: /ASL_trimmed/test/5032194947341728-ALL.mp4\n"
          ]
        },
        {
          "output_type": "stream",
          "name": "stderr",
          "text": [
            "\r 64%|██████▍   | 321/500 [01:46<00:52,  3.40it/s]"
          ]
        },
        {
          "output_type": "stream",
          "name": "stdout",
          "text": [
            "✔️ Already uploaded: /ASL_trimmed/test/12497065151974662-IF.mp4\n"
          ]
        },
        {
          "output_type": "stream",
          "name": "stderr",
          "text": [
            "\r 64%|██████▍   | 322/500 [01:46<00:51,  3.44it/s]"
          ]
        },
        {
          "output_type": "stream",
          "name": "stdout",
          "text": [
            "✔️ Already uploaded: /ASL_trimmed/test/8624394077662434-THAT.mp4\n"
          ]
        },
        {
          "output_type": "stream",
          "name": "stderr",
          "text": [
            "\r 65%|██████▍   | 323/500 [01:46<01:02,  2.85it/s]"
          ]
        },
        {
          "output_type": "stream",
          "name": "stdout",
          "text": [
            "✔️ Already uploaded: /ASL_trimmed/test/3452490724744435-ADD.mp4\n"
          ]
        },
        {
          "output_type": "stream",
          "name": "stderr",
          "text": [
            "\r 65%|██████▍   | 324/500 [01:47<00:57,  3.06it/s]"
          ]
        },
        {
          "output_type": "stream",
          "name": "stdout",
          "text": [
            "✔️ Already uploaded: /ASL_trimmed/test/1408851244927558-COMPUTER.mp4\n"
          ]
        },
        {
          "output_type": "stream",
          "name": "stderr",
          "text": [
            "\r 65%|██████▌   | 325/500 [01:47<00:53,  3.26it/s]"
          ]
        },
        {
          "output_type": "stream",
          "name": "stdout",
          "text": [
            "✔️ Already uploaded: /ASL_trimmed/test/7982624362084811-FROM.mp4\n"
          ]
        },
        {
          "output_type": "stream",
          "name": "stderr",
          "text": [
            "\r 65%|██████▌   | 326/500 [01:47<00:51,  3.39it/s]"
          ]
        },
        {
          "output_type": "stream",
          "name": "stdout",
          "text": [
            "✔️ Already uploaded: /ASL_trimmed/test/1860113350839654-DOOR.mp4\n"
          ]
        },
        {
          "output_type": "stream",
          "name": "stderr",
          "text": [
            "\r 65%|██████▌   | 327/500 [01:47<00:50,  3.42it/s]"
          ]
        },
        {
          "output_type": "stream",
          "name": "stdout",
          "text": [
            "✔️ Already uploaded: /ASL_trimmed/test/08976032716643778-CARRY.mp4\n"
          ]
        },
        {
          "output_type": "stream",
          "name": "stderr",
          "text": [
            "\r 66%|██████▌   | 328/500 [01:48<00:48,  3.57it/s]"
          ]
        },
        {
          "output_type": "stream",
          "name": "stdout",
          "text": [
            "✔️ Already uploaded: /ASL_trimmed/test/913200910487086-HAVE.mp4\n"
          ]
        },
        {
          "output_type": "stream",
          "name": "stderr",
          "text": [
            "\r 66%|██████▌   | 329/500 [01:48<00:48,  3.56it/s]"
          ]
        },
        {
          "output_type": "stream",
          "name": "stdout",
          "text": [
            "✔️ Already uploaded: /ASL_trimmed/test/11864475877230674-GIVE.mp4\n"
          ]
        },
        {
          "output_type": "stream",
          "name": "stderr",
          "text": [
            "\r 66%|██████▌   | 330/500 [01:48<00:49,  3.41it/s]"
          ]
        },
        {
          "output_type": "stream",
          "name": "stdout",
          "text": [
            "✔️ Already uploaded: /ASL_trimmed/test/5795543609282536-AND.mp4\n"
          ]
        },
        {
          "output_type": "stream",
          "name": "stderr",
          "text": [
            "\r 66%|██████▌   | 331/500 [01:49<00:48,  3.52it/s]"
          ]
        },
        {
          "output_type": "stream",
          "name": "stdout",
          "text": [
            "✔️ Already uploaded: /ASL_trimmed/test/534769467430571-CUT 1.mp4\n"
          ]
        },
        {
          "output_type": "stream",
          "name": "stderr",
          "text": [
            "\r 66%|██████▋   | 332/500 [01:49<00:46,  3.64it/s]"
          ]
        },
        {
          "output_type": "stream",
          "name": "stdout",
          "text": [
            "✔️ Already uploaded: /ASL_trimmed/test/26267697651487465-DRAW.mp4\n"
          ]
        },
        {
          "output_type": "stream",
          "name": "stderr",
          "text": [
            "\r 67%|██████▋   | 333/500 [01:49<00:52,  3.19it/s]"
          ]
        },
        {
          "output_type": "stream",
          "name": "stdout",
          "text": [
            "✔️ Already uploaded: /ASL_trimmed/test/9755172511367458-MOST.mp4\n"
          ]
        },
        {
          "output_type": "stream",
          "name": "stderr",
          "text": [
            "\r 67%|██████▋   | 334/500 [01:50<01:00,  2.73it/s]"
          ]
        },
        {
          "output_type": "stream",
          "name": "stdout",
          "text": [
            "✔️ Already uploaded: /ASL_trimmed/test/6066139458985846-OVER.mp4\n"
          ]
        },
        {
          "output_type": "stream",
          "name": "stderr",
          "text": [
            "\r 67%|██████▋   | 335/500 [01:50<01:00,  2.71it/s]"
          ]
        },
        {
          "output_type": "stream",
          "name": "stdout",
          "text": [
            "✔️ Already uploaded: /ASL_trimmed/test/7815332110154865-THINK.mp4\n"
          ]
        },
        {
          "output_type": "stream",
          "name": "stderr",
          "text": [
            "\r 67%|██████▋   | 336/500 [01:50<00:56,  2.91it/s]"
          ]
        },
        {
          "output_type": "stream",
          "name": "stdout",
          "text": [
            "✔️ Already uploaded: /ASL_trimmed/test/21472948622013677-BACK.mp4\n"
          ]
        },
        {
          "output_type": "stream",
          "name": "stderr",
          "text": [
            "\r 67%|██████▋   | 337/500 [01:51<00:52,  3.10it/s]"
          ]
        },
        {
          "output_type": "stream",
          "name": "stdout",
          "text": [
            "✔️ Already uploaded: /ASL_trimmed/test/3050685466508465-COMPUTER.mp4\n"
          ]
        },
        {
          "output_type": "stream",
          "name": "stderr",
          "text": [
            "\r 68%|██████▊   | 338/500 [01:51<00:49,  3.27it/s]"
          ]
        },
        {
          "output_type": "stream",
          "name": "stdout",
          "text": [
            "✔️ Already uploaded: /ASL_trimmed/test/9414634753752724-COMPUTER.mp4\n"
          ]
        },
        {
          "output_type": "stream",
          "name": "stderr",
          "text": [
            "\r 68%|██████▊   | 339/500 [01:51<00:47,  3.36it/s]"
          ]
        },
        {
          "output_type": "stream",
          "name": "stdout",
          "text": [
            "✔️ Already uploaded: /ASL_trimmed/test/3547931377550366-THEN.mp4\n"
          ]
        },
        {
          "output_type": "stream",
          "name": "stderr",
          "text": [
            "\r 68%|██████▊   | 340/500 [01:51<00:45,  3.48it/s]"
          ]
        },
        {
          "output_type": "stream",
          "name": "stdout",
          "text": [
            "✔️ Already uploaded: /ASL_trimmed/test/5132632309683569-US.mp4\n"
          ]
        },
        {
          "output_type": "stream",
          "name": "stderr",
          "text": [
            "\r 68%|██████▊   | 341/500 [01:52<00:44,  3.53it/s]"
          ]
        },
        {
          "output_type": "stream",
          "name": "stdout",
          "text": [
            "✔️ Already uploaded: /ASL_trimmed/test/9562392038387719-IN.mp4\n"
          ]
        },
        {
          "output_type": "stream",
          "name": "stderr",
          "text": [
            "\r 68%|██████▊   | 342/500 [01:52<00:48,  3.23it/s]"
          ]
        },
        {
          "output_type": "stream",
          "name": "stdout",
          "text": [
            "✔️ Already uploaded: /ASL_trimmed/test/9792757680263495-DAUGHTER.mp4\n"
          ]
        },
        {
          "output_type": "stream",
          "name": "stderr",
          "text": [
            "\r 69%|██████▊   | 343/500 [01:52<00:47,  3.33it/s]"
          ]
        },
        {
          "output_type": "stream",
          "name": "stdout",
          "text": [
            "✔️ Already uploaded: /ASL_trimmed/test/3384107181443896-ALL.mp4\n"
          ]
        },
        {
          "output_type": "stream",
          "name": "stderr",
          "text": [
            "\r 69%|██████▉   | 344/500 [01:53<00:46,  3.37it/s]"
          ]
        },
        {
          "output_type": "stream",
          "name": "stdout",
          "text": [
            "✔️ Already uploaded: /ASL_trimmed/test/27994001464475615-COMPUTER.mp4\n"
          ]
        },
        {
          "output_type": "stream",
          "name": "stderr",
          "text": [
            "\r 69%|██████▉   | 345/500 [01:53<00:47,  3.29it/s]"
          ]
        },
        {
          "output_type": "stream",
          "name": "stdout",
          "text": [
            "✔️ Already uploaded: /ASL_trimmed/test/754822541664977-LIKE.mp4\n"
          ]
        },
        {
          "output_type": "stream",
          "name": "stderr",
          "text": [
            "\r 69%|██████▉   | 346/500 [01:53<00:45,  3.41it/s]"
          ]
        },
        {
          "output_type": "stream",
          "name": "stdout",
          "text": [
            "✔️ Already uploaded: /ASL_trimmed/test/8984122870078688-COMPUTER.mp4\n"
          ]
        },
        {
          "output_type": "stream",
          "name": "stderr",
          "text": [
            "\r 69%|██████▉   | 347/500 [01:54<00:45,  3.39it/s]"
          ]
        },
        {
          "output_type": "stream",
          "name": "stdout",
          "text": [
            "✔️ Already uploaded: /ASL_trimmed/test/17501981980725656-MAKE.mp4\n"
          ]
        },
        {
          "output_type": "stream",
          "name": "stderr",
          "text": [
            "\r 70%|██████▉   | 348/500 [01:54<00:43,  3.48it/s]"
          ]
        },
        {
          "output_type": "stream",
          "name": "stdout",
          "text": [
            "✔️ Already uploaded: /ASL_trimmed/test/5230550388567756-WHICH.mp4\n"
          ]
        },
        {
          "output_type": "stream",
          "name": "stderr",
          "text": [
            "\r 70%|██████▉   | 349/500 [01:54<00:43,  3.45it/s]"
          ]
        },
        {
          "output_type": "stream",
          "name": "stdout",
          "text": [
            "✔️ Already uploaded: /ASL_trimmed/test/22900875159484668-NEW.mp4\n"
          ]
        },
        {
          "output_type": "stream",
          "name": "stderr",
          "text": [
            "\r 70%|███████   | 350/500 [01:54<00:42,  3.55it/s]"
          ]
        },
        {
          "output_type": "stream",
          "name": "stdout",
          "text": [
            "✔️ Already uploaded: /ASL_trimmed/test/41481957165869066-WITH.mp4\n"
          ]
        },
        {
          "output_type": "stream",
          "name": "stderr",
          "text": [
            "\r 70%|███████   | 351/500 [01:55<00:42,  3.50it/s]"
          ]
        },
        {
          "output_type": "stream",
          "name": "stdout",
          "text": [
            "✔️ Already uploaded: /ASL_trimmed/test/3286397233675007-BUT.mp4\n"
          ]
        },
        {
          "output_type": "stream",
          "name": "stderr",
          "text": [
            "\r 70%|███████   | 352/500 [01:55<00:43,  3.44it/s]"
          ]
        },
        {
          "output_type": "stream",
          "name": "stdout",
          "text": [
            "✔️ Already uploaded: /ASL_trimmed/test/2613759988970443-WHICH.mp4\n"
          ]
        },
        {
          "output_type": "stream",
          "name": "stderr",
          "text": [
            "\r 71%|███████   | 353/500 [01:55<00:42,  3.48it/s]"
          ]
        },
        {
          "output_type": "stream",
          "name": "stdout",
          "text": [
            "✔️ Already uploaded: /ASL_trimmed/test/5457313626444984-NEW.mp4\n"
          ]
        },
        {
          "output_type": "stream",
          "name": "stderr",
          "text": [
            "\r 71%|███████   | 354/500 [01:56<00:41,  3.51it/s]"
          ]
        },
        {
          "output_type": "stream",
          "name": "stdout",
          "text": [
            "✔️ Already uploaded: /ASL_trimmed/test/8790279150116067-ALL.mp4\n"
          ]
        },
        {
          "output_type": "stream",
          "name": "stderr",
          "text": [
            "\r 71%|███████   | 355/500 [01:56<00:40,  3.57it/s]"
          ]
        },
        {
          "output_type": "stream",
          "name": "stdout",
          "text": [
            "✔️ Already uploaded: /ASL_trimmed/test/8474094462242705-OTHER.mp4\n"
          ]
        },
        {
          "output_type": "stream",
          "name": "stderr",
          "text": [
            "\r 71%|███████   | 356/500 [01:56<00:39,  3.62it/s]"
          ]
        },
        {
          "output_type": "stream",
          "name": "stdout",
          "text": [
            "✔️ Already uploaded: /ASL_trimmed/test/8121303614043198-ONE.mp4\n"
          ]
        },
        {
          "output_type": "stream",
          "name": "stderr",
          "text": [
            "\r 71%|███████▏  | 357/500 [01:56<00:39,  3.65it/s]"
          ]
        },
        {
          "output_type": "stream",
          "name": "stdout",
          "text": [
            "✔️ Already uploaded: /ASL_trimmed/test/16945345648483068-WE.mp4\n"
          ]
        },
        {
          "output_type": "stream",
          "name": "stderr",
          "text": [
            "\r 72%|███████▏  | 358/500 [01:57<00:48,  2.91it/s]"
          ]
        },
        {
          "output_type": "stream",
          "name": "stdout",
          "text": [
            "✔️ Already uploaded: /ASL_trimmed/test/6031185500353369-DANCE.mp4\n"
          ]
        },
        {
          "output_type": "stream",
          "name": "stderr",
          "text": [
            "\r 72%|███████▏  | 359/500 [01:57<00:47,  2.96it/s]"
          ]
        },
        {
          "output_type": "stream",
          "name": "stdout",
          "text": [
            "✔️ Already uploaded: /ASL_trimmed/test/11150191533219411-BUY.mp4\n"
          ]
        },
        {
          "output_type": "stream",
          "name": "stderr",
          "text": [
            "\r 72%|███████▏  | 360/500 [01:57<00:44,  3.17it/s]"
          ]
        },
        {
          "output_type": "stream",
          "name": "stdout",
          "text": [
            "✔️ Already uploaded: /ASL_trimmed/test/9359906689689883-LIKE.mp4\n"
          ]
        },
        {
          "output_type": "stream",
          "name": "stderr",
          "text": [
            "\r 72%|███████▏  | 361/500 [01:58<00:42,  3.23it/s]"
          ]
        },
        {
          "output_type": "stream",
          "name": "stdout",
          "text": [
            "✔️ Already uploaded: /ASL_trimmed/test/2590814753491968-WHO.mp4\n"
          ]
        },
        {
          "output_type": "stream",
          "name": "stderr",
          "text": [
            "\r 72%|███████▏  | 362/500 [01:58<00:41,  3.35it/s]"
          ]
        },
        {
          "output_type": "stream",
          "name": "stdout",
          "text": [
            "✔️ Already uploaded: /ASL_trimmed/test/5053058607957088-HIS.mp4\n"
          ]
        },
        {
          "output_type": "stream",
          "name": "stderr",
          "text": [
            "\r 73%|███████▎  | 363/500 [01:58<00:40,  3.35it/s]"
          ]
        },
        {
          "output_type": "stream",
          "name": "stdout",
          "text": [
            "✔️ Already uploaded: /ASL_trimmed/test/509981993401708-FIRST.mp4\n"
          ]
        },
        {
          "output_type": "stream",
          "name": "stderr",
          "text": [
            "\r 73%|███████▎  | 364/500 [01:59<00:41,  3.30it/s]"
          ]
        },
        {
          "output_type": "stream",
          "name": "stdout",
          "text": [
            "✔️ Already uploaded: /ASL_trimmed/test/11683709483275173-AT.mp4\n"
          ]
        },
        {
          "output_type": "stream",
          "name": "stderr",
          "text": [
            "\r 73%|███████▎  | 365/500 [01:59<00:40,  3.34it/s]"
          ]
        },
        {
          "output_type": "stream",
          "name": "stdout",
          "text": [
            "✔️ Already uploaded: /ASL_trimmed/test/0591162629579427-AT.mp4\n"
          ]
        },
        {
          "output_type": "stream",
          "name": "stderr",
          "text": [
            "\r 73%|███████▎  | 366/500 [01:59<00:45,  2.96it/s]"
          ]
        },
        {
          "output_type": "stream",
          "name": "stdout",
          "text": [
            "✔️ Already uploaded: /ASL_trimmed/test/16927688445154376-WHO.mp4\n"
          ]
        },
        {
          "output_type": "stream",
          "name": "stderr",
          "text": [
            "\r 73%|███████▎  | 367/500 [02:00<00:41,  3.17it/s]"
          ]
        },
        {
          "output_type": "stream",
          "name": "stdout",
          "text": [
            "✔️ Already uploaded: /ASL_trimmed/test/9091428301322557-AND.mp4\n"
          ]
        },
        {
          "output_type": "stream",
          "name": "stderr",
          "text": [
            " 75%|███████▌  | 375/500 [02:35<06:50,  3.28s/it]"
          ]
        },
        {
          "output_type": "stream",
          "name": "stdout",
          "text": [
            "✔️ Already uploaded: /ASL_trimmed/test/8237538118192598-NOW.mp4\n"
          ]
        },
        {
          "output_type": "stream",
          "name": "stderr",
          "text": [
            " 76%|███████▌  | 378/500 [02:47<06:27,  3.18s/it]"
          ]
        },
        {
          "output_type": "stream",
          "name": "stdout",
          "text": [
            "✔️ Already uploaded: /ASL_trimmed/test/7525332129995586-NO.mp4\n"
          ]
        },
        {
          "output_type": "stream",
          "name": "stderr",
          "text": [
            " 79%|███████▉  | 395/500 [03:51<05:03,  2.89s/it]"
          ]
        },
        {
          "output_type": "stream",
          "name": "stdout",
          "text": [
            "✔️ Already uploaded: /ASL_trimmed/test/14992936899376108-LIKE.mp4\n"
          ]
        },
        {
          "output_type": "stream",
          "name": "stderr",
          "text": [
            " 90%|█████████ | 451/500 [08:31<03:17,  4.04s/it]"
          ]
        },
        {
          "output_type": "stream",
          "name": "stdout",
          "text": [
            "✔️ Already uploaded: /ASL_trimmed/test/39734251970462897-YOU.mp4\n"
          ]
        },
        {
          "output_type": "stream",
          "name": "stderr",
          "text": [
            "100%|██████████| 500/500 [12:47<00:00,  1.53s/it]"
          ]
        },
        {
          "output_type": "stream",
          "name": "stdout",
          "text": [
            "\n",
            "Split: test\n",
            "  ✅ Trimmed and uploaded: 498\n",
            "  ⚠️ Skipped (no active signing): 2\n",
            "  ❌ Missing videos: 0\n"
          ]
        },
        {
          "output_type": "stream",
          "name": "stderr",
          "text": [
            "\n"
          ]
        }
      ]
    },
    {
      "cell_type": "markdown",
      "source": [
        "# Checking the Consistency of the trimmed videos\n",
        "By length across each class"
      ],
      "metadata": {
        "id": "1eVTeaTU4ObU"
      }
    },
    {
      "cell_type": "code",
      "source": [
        "# STEP 2: Install Dropbox SDK\n",
        "!pip install dropbox"
      ],
      "metadata": {
        "colab": {
          "base_uri": "https://localhost:8080/"
        },
        "id": "_s2-XWhI5K0_",
        "outputId": "398d0339-5099-43c4-e553-bf7e0bd477e7"
      },
      "execution_count": null,
      "outputs": [
        {
          "output_type": "stream",
          "name": "stdout",
          "text": [
            "Requirement already satisfied: dropbox in /usr/local/lib/python3.11/dist-packages (12.0.2)\n",
            "Requirement already satisfied: requests>=2.16.2 in /usr/local/lib/python3.11/dist-packages (from dropbox) (2.32.3)\n",
            "Requirement already satisfied: six>=1.12.0 in /usr/local/lib/python3.11/dist-packages (from dropbox) (1.17.0)\n",
            "Requirement already satisfied: stone<3.3.3,>=2 in /usr/local/lib/python3.11/dist-packages (from dropbox) (3.3.1)\n",
            "Requirement already satisfied: charset-normalizer<4,>=2 in /usr/local/lib/python3.11/dist-packages (from requests>=2.16.2->dropbox) (3.4.1)\n",
            "Requirement already satisfied: idna<4,>=2.5 in /usr/local/lib/python3.11/dist-packages (from requests>=2.16.2->dropbox) (3.10)\n",
            "Requirement already satisfied: urllib3<3,>=1.21.1 in /usr/local/lib/python3.11/dist-packages (from requests>=2.16.2->dropbox) (2.4.0)\n",
            "Requirement already satisfied: certifi>=2017.4.17 in /usr/local/lib/python3.11/dist-packages (from requests>=2.16.2->dropbox) (2025.4.26)\n",
            "Requirement already satisfied: ply>=3.4 in /usr/local/lib/python3.11/dist-packages (from stone<3.3.3,>=2->dropbox) (3.11)\n"
          ]
        }
      ]
    },
    {
      "cell_type": "code",
      "source": [
        "import os\n",
        "import cv2\n",
        "import pandas as pd\n",
        "from tqdm import tqdm\n",
        "import dropbox\n",
        "from tempfile import NamedTemporaryFile\n",
        "\n",
        "# Mount Google Drive\n",
        "from google.colab import drive\n",
        "drive.mount('/content/drive')\n",
        "\n",
        "# Dropbox configuration\n",
        "DROPBOX_ACCESS_TOKEN = \"sl.u.AFvPOA9BsaxGz8na17DzNOq-BOmm6cJjus70Ktx5Mph2CDZMJY_ehy0pzRapWt8UHdofn3Dg1SIhfRNbHcggKGYOPIBWWAB2b_8c-yRGCUEIVKJTJoQyy_NdKTJ_PXCgg7ruGaYC2YpzGmUWZ27RB_sny5YYHwTR1i2o4RIIlP3xNU2c0P3H8Z3bDl5xlDuTZJ5O6Q8ZT3dtJFNPlkUZxlO8p-fR5euXGyaA_iNwJfS8eD6K1tFu9yEZzDzti6XukTnHQLu9iV_MztYicbGr9r1GiAYuL7nAGi9FTb02I_V6IV8GrPC4f85QJ_u87ltKOITprGUheztqPP-leIv3ZHaunVQYz5tcCrFD08RJ9-Gtu7e8xgcTBDw6bbH3d27XyDqPgjrcdG96iOFGLCx7rLkrT5NQsQQDfbCal-QAcRQdccuAQ3Wk3ALnaEHVJP0Mb3R0DcemXWDyvp4NhtoGvh-IyBHgWkHJAN3gaMWfPyUtn29rARYkbVXHpXl8xAHVnO2zfCIjlA0Uyv4NrpJ_40VPHErR24hlN1VK9d6eVELOXDTU-usEqpF1YTJPi_iSUuXfnRPal3DTx9FfsoTvKfo69s0LlDOWcTvD7JZzY60pKLcvmmZkCmwYrAHl_mwMbLGKt-xM5rnGUQTsfEfdpWgeKoIvMbUz797QBR2RZVhyqFNCGdq-dz2c4ahkkrSvDR46yfky6yYDX6-zQCcAdwa0Owv7G8s2Aj2sgfuuYF5POilXvVZah7645aGyN65mLir1rJSgY2ChDaD9O8uBRFsqIHFHO189O8X6xWrgMLklcQxYY7yS36mVpwmHQ4wLCFANHdVexgkJC3OC4okMn2kq3QYnNBOrieDQaK88vc2zY0LPoNsPJPxuqKA0IYtq9wCbBwNDYf8xj0uRm-EHdIK4LZlracE7ObTMvF67fL4eruLKykO8u3NINEgoAHUpfxQXyHiOczFKDjyrCdBfCjqymzbymuSASae04XqiDlfs-xbgnd_sKCT3SXRblP8jcRRqqtJxcfYRz-jpau0S570TpSbhlDL-y6DA6nOsuMzcNHdOxkCr6emjoDYbXULDXd2xIb9TR2FPzlPzmv9oHEwltOL9BQv5R9BZdLEacDYn0EJ_jVOLF_hp9fRfhGWZKt9wxvZm5tXEWTo4GAsduiLShAtG1AriqEAl_CFswR34YjDWuALlqA1ZELXIXJT0CKkgtZk6ZP2uIzsoC-RrISDfHVj3n8UsKLZJ5CIQ8MXpoDHN-KzWSIOcXRzoIgyx0jVYoI4pY1yEUvFx08k-F9U8QepkyD9uXpeKZL452SChxCPRUP3VfZghT0RMSzBbT9M3QzhCJE2oixWrM1FzNSqw_NL7v_ub6Q5pIMcRhPTx3wyvzYRLMVjderir5CsIgqea0SFVWuO1jcHJ6FcooeyUEnhABWWRrv0YvqcPXieXxQ\"\n",
        "dbx = dropbox.Dropbox(DROPBOX_ACCESS_TOKEN)\n",
        "dbx.users_get_current_account()\n",
        "\n",
        "# Paths and splits\n",
        "split_names = ['train', 'val', 'test']\n",
        "split_dir = '/content/drive/MyDrive/ASL Project/splits'\n",
        "dropbox_root = '/ASL_trimmed'\n",
        "\n",
        "# Store all outliers\n",
        "all_outliers = []\n",
        "\n",
        "def get_video_frame_count_from_dropbox(dropbox_path):\n",
        "    try:\n",
        "        with NamedTemporaryFile(delete=False, suffix=\".mp4\") as tmp:\n",
        "            metadata, res = dbx.files_download(dropbox_path)\n",
        "            tmp.write(res.content)\n",
        "            tmp_path = tmp.name\n",
        "\n",
        "        cap = cv2.VideoCapture(tmp_path)\n",
        "        frames = int(cap.get(cv2.CAP_PROP_FRAME_COUNT))\n",
        "        cap.release()\n",
        "        os.remove(tmp_path)  # clean up\n",
        "        return frames\n",
        "\n",
        "    except Exception as e:\n",
        "        print(f\"❌ Error downloading or processing {dropbox_path}: {e}\")\n",
        "        return None\n",
        "\n",
        "# Process each split\n",
        "for split in split_names:\n",
        "    print(f\"\\n🔍 Processing split: {split}\")\n",
        "    csv_path = os.path.join(split_dir, f\"{split}_filtered.csv\")\n",
        "    if not os.path.exists(csv_path):\n",
        "        print(f\"❌ CSV not found: {csv_path}\")\n",
        "        continue\n",
        "\n",
        "    df = pd.read_csv(csv_path)\n",
        "    frame_data = []\n",
        "\n",
        "    for _, row in tqdm(df.iterrows(), total=len(df)):\n",
        "        video_file = row['Video file']\n",
        "        gloss = row['Gloss'].strip().upper()\n",
        "        dropbox_path = f\"{dropbox_root}/{split}/{video_file}\"\n",
        "\n",
        "        frame_count = get_video_frame_count_from_dropbox(dropbox_path)\n",
        "        if frame_count is not None:\n",
        "            frame_data.append((split, gloss, video_file, frame_count))\n",
        "\n",
        "    df_lengths = pd.DataFrame(frame_data, columns=['Split', 'Gloss', 'Video file', 'Frames'])\n",
        "    gloss_stats = df_lengths.groupby('Gloss')['Frames'].agg(['mean', 'std']).reset_index()\n",
        "    merged = pd.merge(df_lengths, gloss_stats, on='Gloss')\n",
        "    merged['Z-Score'] = (merged['Frames'] - merged['mean']) / merged['std']\n",
        "    merged['Outlier'] = merged['Z-Score'].abs() > 2\n",
        "\n",
        "    all_outliers.append(merged[merged['Outlier']])\n",
        "\n",
        "# Combine and display\n",
        "outlier_df = pd.concat(all_outliers, ignore_index=True)\n",
        "print(f\"\\n🚨 Found {len(outlier_df)} outlier videos across all splits\")\n",
        "from IPython.display import display\n",
        "display(outlier_df[['Split', 'Gloss', 'Video file', 'Frames', 'Z-Score']])\n"
      ],
      "metadata": {
        "colab": {
          "base_uri": "https://localhost:8080/",
          "height": 3463
        },
        "id": "hvc-rsdl4OMM",
        "outputId": "2fe7d87b-077a-49df-ceb0-fb072432a5d4"
      },
      "execution_count": null,
      "outputs": [
        {
          "output_type": "stream",
          "name": "stdout",
          "text": [
            "Drive already mounted at /content/drive; to attempt to forcibly remount, call drive.mount(\"/content/drive\", force_remount=True).\n",
            "\n",
            "🔍 Processing split: train\n"
          ]
        },
        {
          "output_type": "stream",
          "name": "stderr",
          "text": [
            " 40%|███▉      | 806/2031 [12:05<14:44,  1.38it/s]"
          ]
        },
        {
          "output_type": "stream",
          "name": "stdout",
          "text": [
            "❌ Error downloading or processing /ASL_trimmed/train/12041907153156517-DOG 3.mp4: ApiError('258fb7bd3edc4dcc9f25b31313fb2959', DownloadError('path', LookupError('not_found', None)))\n"
          ]
        },
        {
          "output_type": "stream",
          "name": "stderr",
          "text": [
            " 41%|████      | 825/2031 [12:21<14:40,  1.37it/s]"
          ]
        },
        {
          "output_type": "stream",
          "name": "stdout",
          "text": [
            "❌ Error downloading or processing /ASL_trimmed/train/22877680820569246-AND.mp4: ApiError('4dca4d1cad2546cf9bc0fd284e2b5147', DownloadError('path', LookupError('not_found', None)))\n"
          ]
        },
        {
          "output_type": "stream",
          "name": "stderr",
          "text": [
            "100%|██████████| 2031/2031 [30:29<00:00,  1.11it/s]\n"
          ]
        },
        {
          "output_type": "stream",
          "name": "stdout",
          "text": [
            "\n",
            "🔍 Processing split: val\n"
          ]
        },
        {
          "output_type": "stream",
          "name": "stderr",
          "text": [
            "100%|██████████| 504/504 [07:46<00:00,  1.08it/s]\n"
          ]
        },
        {
          "output_type": "stream",
          "name": "stdout",
          "text": [
            "\n",
            "🔍 Processing split: test\n"
          ]
        },
        {
          "output_type": "stream",
          "name": "stderr",
          "text": [
            " 25%|██▌       | 126/500 [01:45<04:20,  1.44it/s]"
          ]
        },
        {
          "output_type": "stream",
          "name": "stdout",
          "text": [
            "❌ Error downloading or processing /ASL_trimmed/test/3500609473112364-HE.mp4: ApiError('8b48416d0a9b4e6b9d3f464bcb1400e3', DownloadError('path', LookupError('not_found', None)))\n"
          ]
        },
        {
          "output_type": "stream",
          "name": "stderr",
          "text": [
            " 54%|█████▍    | 272/500 [03:46<02:30,  1.51it/s]"
          ]
        },
        {
          "output_type": "stream",
          "name": "stdout",
          "text": [
            "❌ Error downloading or processing /ASL_trimmed/test/5141931754382849-ARRIVE.mp4: ApiError('e70a8054cf064db991c2b9b3adb37abd', DownloadError('path', LookupError('not_found', None)))\n"
          ]
        },
        {
          "output_type": "stream",
          "name": "stderr",
          "text": [
            "100%|██████████| 500/500 [06:56<00:00,  1.20it/s]"
          ]
        },
        {
          "output_type": "stream",
          "name": "stdout",
          "text": [
            "\n",
            "🚨 Found 117 outlier videos across all splits\n"
          ]
        },
        {
          "output_type": "stream",
          "name": "stderr",
          "text": [
            "\n"
          ]
        },
        {
          "output_type": "display_data",
          "data": {
            "text/plain": [
              "     Split   Gloss                      Video file  Frames   Z-Score\n",
              "0    train   APPLE       654679171689897-APPLE.mp4      91  3.022628\n",
              "1    train      WE         5346957049353451-WE.mp4     121  2.969900\n",
              "2    train  FRIEND     3845231217942484-FRIEND.mp4      79  2.128195\n",
              "3    train     CAR       27759670594914465-CAR.mp4     104  2.178233\n",
              "4    train     BUT        8335625687320589-BUT.mp4      86  2.259766\n",
              "..     ...     ...                             ...     ...       ...\n",
              "112  train    BACK  07598746238490839-seedBACK.mp4     102  3.220616\n",
              "113  train      AT     6279791767383083-seedAT.mp4      95  2.559841\n",
              "114  train    TAKE   8143899247512181-seedTAKE.mp4      77  2.500858\n",
              "115   test     AND        3956799216747606-AND.mp4     122  2.016416\n",
              "116   test     BUY        3257547670297929-BUY.mp4     117  2.002675\n",
              "\n",
              "[117 rows x 5 columns]"
            ],
            "text/html": [
              "\n",
              "  <div id=\"df-d58ed04d-7fd9-4506-9d63-f38aa6e71201\" class=\"colab-df-container\">\n",
              "    <div>\n",
              "<style scoped>\n",
              "    .dataframe tbody tr th:only-of-type {\n",
              "        vertical-align: middle;\n",
              "    }\n",
              "\n",
              "    .dataframe tbody tr th {\n",
              "        vertical-align: top;\n",
              "    }\n",
              "\n",
              "    .dataframe thead th {\n",
              "        text-align: right;\n",
              "    }\n",
              "</style>\n",
              "<table border=\"1\" class=\"dataframe\">\n",
              "  <thead>\n",
              "    <tr style=\"text-align: right;\">\n",
              "      <th></th>\n",
              "      <th>Split</th>\n",
              "      <th>Gloss</th>\n",
              "      <th>Video file</th>\n",
              "      <th>Frames</th>\n",
              "      <th>Z-Score</th>\n",
              "    </tr>\n",
              "  </thead>\n",
              "  <tbody>\n",
              "    <tr>\n",
              "      <th>0</th>\n",
              "      <td>train</td>\n",
              "      <td>APPLE</td>\n",
              "      <td>654679171689897-APPLE.mp4</td>\n",
              "      <td>91</td>\n",
              "      <td>3.022628</td>\n",
              "    </tr>\n",
              "    <tr>\n",
              "      <th>1</th>\n",
              "      <td>train</td>\n",
              "      <td>WE</td>\n",
              "      <td>5346957049353451-WE.mp4</td>\n",
              "      <td>121</td>\n",
              "      <td>2.969900</td>\n",
              "    </tr>\n",
              "    <tr>\n",
              "      <th>2</th>\n",
              "      <td>train</td>\n",
              "      <td>FRIEND</td>\n",
              "      <td>3845231217942484-FRIEND.mp4</td>\n",
              "      <td>79</td>\n",
              "      <td>2.128195</td>\n",
              "    </tr>\n",
              "    <tr>\n",
              "      <th>3</th>\n",
              "      <td>train</td>\n",
              "      <td>CAR</td>\n",
              "      <td>27759670594914465-CAR.mp4</td>\n",
              "      <td>104</td>\n",
              "      <td>2.178233</td>\n",
              "    </tr>\n",
              "    <tr>\n",
              "      <th>4</th>\n",
              "      <td>train</td>\n",
              "      <td>BUT</td>\n",
              "      <td>8335625687320589-BUT.mp4</td>\n",
              "      <td>86</td>\n",
              "      <td>2.259766</td>\n",
              "    </tr>\n",
              "    <tr>\n",
              "      <th>...</th>\n",
              "      <td>...</td>\n",
              "      <td>...</td>\n",
              "      <td>...</td>\n",
              "      <td>...</td>\n",
              "      <td>...</td>\n",
              "    </tr>\n",
              "    <tr>\n",
              "      <th>112</th>\n",
              "      <td>train</td>\n",
              "      <td>BACK</td>\n",
              "      <td>07598746238490839-seedBACK.mp4</td>\n",
              "      <td>102</td>\n",
              "      <td>3.220616</td>\n",
              "    </tr>\n",
              "    <tr>\n",
              "      <th>113</th>\n",
              "      <td>train</td>\n",
              "      <td>AT</td>\n",
              "      <td>6279791767383083-seedAT.mp4</td>\n",
              "      <td>95</td>\n",
              "      <td>2.559841</td>\n",
              "    </tr>\n",
              "    <tr>\n",
              "      <th>114</th>\n",
              "      <td>train</td>\n",
              "      <td>TAKE</td>\n",
              "      <td>8143899247512181-seedTAKE.mp4</td>\n",
              "      <td>77</td>\n",
              "      <td>2.500858</td>\n",
              "    </tr>\n",
              "    <tr>\n",
              "      <th>115</th>\n",
              "      <td>test</td>\n",
              "      <td>AND</td>\n",
              "      <td>3956799216747606-AND.mp4</td>\n",
              "      <td>122</td>\n",
              "      <td>2.016416</td>\n",
              "    </tr>\n",
              "    <tr>\n",
              "      <th>116</th>\n",
              "      <td>test</td>\n",
              "      <td>BUY</td>\n",
              "      <td>3257547670297929-BUY.mp4</td>\n",
              "      <td>117</td>\n",
              "      <td>2.002675</td>\n",
              "    </tr>\n",
              "  </tbody>\n",
              "</table>\n",
              "<p>117 rows × 5 columns</p>\n",
              "</div>\n",
              "    <div class=\"colab-df-buttons\">\n",
              "\n",
              "  <div class=\"colab-df-container\">\n",
              "    <button class=\"colab-df-convert\" onclick=\"convertToInteractive('df-d58ed04d-7fd9-4506-9d63-f38aa6e71201')\"\n",
              "            title=\"Convert this dataframe to an interactive table.\"\n",
              "            style=\"display:none;\">\n",
              "\n",
              "  <svg xmlns=\"http://www.w3.org/2000/svg\" height=\"24px\" viewBox=\"0 -960 960 960\">\n",
              "    <path d=\"M120-120v-720h720v720H120Zm60-500h600v-160H180v160Zm220 220h160v-160H400v160Zm0 220h160v-160H400v160ZM180-400h160v-160H180v160Zm440 0h160v-160H620v160ZM180-180h160v-160H180v160Zm440 0h160v-160H620v160Z\"/>\n",
              "  </svg>\n",
              "    </button>\n",
              "\n",
              "  <style>\n",
              "    .colab-df-container {\n",
              "      display:flex;\n",
              "      gap: 12px;\n",
              "    }\n",
              "\n",
              "    .colab-df-convert {\n",
              "      background-color: #E8F0FE;\n",
              "      border: none;\n",
              "      border-radius: 50%;\n",
              "      cursor: pointer;\n",
              "      display: none;\n",
              "      fill: #1967D2;\n",
              "      height: 32px;\n",
              "      padding: 0 0 0 0;\n",
              "      width: 32px;\n",
              "    }\n",
              "\n",
              "    .colab-df-convert:hover {\n",
              "      background-color: #E2EBFA;\n",
              "      box-shadow: 0px 1px 2px rgba(60, 64, 67, 0.3), 0px 1px 3px 1px rgba(60, 64, 67, 0.15);\n",
              "      fill: #174EA6;\n",
              "    }\n",
              "\n",
              "    .colab-df-buttons div {\n",
              "      margin-bottom: 4px;\n",
              "    }\n",
              "\n",
              "    [theme=dark] .colab-df-convert {\n",
              "      background-color: #3B4455;\n",
              "      fill: #D2E3FC;\n",
              "    }\n",
              "\n",
              "    [theme=dark] .colab-df-convert:hover {\n",
              "      background-color: #434B5C;\n",
              "      box-shadow: 0px 1px 3px 1px rgba(0, 0, 0, 0.15);\n",
              "      filter: drop-shadow(0px 1px 2px rgba(0, 0, 0, 0.3));\n",
              "      fill: #FFFFFF;\n",
              "    }\n",
              "  </style>\n",
              "\n",
              "    <script>\n",
              "      const buttonEl =\n",
              "        document.querySelector('#df-d58ed04d-7fd9-4506-9d63-f38aa6e71201 button.colab-df-convert');\n",
              "      buttonEl.style.display =\n",
              "        google.colab.kernel.accessAllowed ? 'block' : 'none';\n",
              "\n",
              "      async function convertToInteractive(key) {\n",
              "        const element = document.querySelector('#df-d58ed04d-7fd9-4506-9d63-f38aa6e71201');\n",
              "        const dataTable =\n",
              "          await google.colab.kernel.invokeFunction('convertToInteractive',\n",
              "                                                    [key], {});\n",
              "        if (!dataTable) return;\n",
              "\n",
              "        const docLinkHtml = 'Like what you see? Visit the ' +\n",
              "          '<a target=\"_blank\" href=https://colab.research.google.com/notebooks/data_table.ipynb>data table notebook</a>'\n",
              "          + ' to learn more about interactive tables.';\n",
              "        element.innerHTML = '';\n",
              "        dataTable['output_type'] = 'display_data';\n",
              "        await google.colab.output.renderOutput(dataTable, element);\n",
              "        const docLink = document.createElement('div');\n",
              "        docLink.innerHTML = docLinkHtml;\n",
              "        element.appendChild(docLink);\n",
              "      }\n",
              "    </script>\n",
              "  </div>\n",
              "\n",
              "\n",
              "    <div id=\"df-e31b6561-3bdb-4323-a466-8f5179cf1b4e\">\n",
              "      <button class=\"colab-df-quickchart\" onclick=\"quickchart('df-e31b6561-3bdb-4323-a466-8f5179cf1b4e')\"\n",
              "                title=\"Suggest charts\"\n",
              "                style=\"display:none;\">\n",
              "\n",
              "<svg xmlns=\"http://www.w3.org/2000/svg\" height=\"24px\"viewBox=\"0 0 24 24\"\n",
              "     width=\"24px\">\n",
              "    <g>\n",
              "        <path d=\"M19 3H5c-1.1 0-2 .9-2 2v14c0 1.1.9 2 2 2h14c1.1 0 2-.9 2-2V5c0-1.1-.9-2-2-2zM9 17H7v-7h2v7zm4 0h-2V7h2v10zm4 0h-2v-4h2v4z\"/>\n",
              "    </g>\n",
              "</svg>\n",
              "      </button>\n",
              "\n",
              "<style>\n",
              "  .colab-df-quickchart {\n",
              "      --bg-color: #E8F0FE;\n",
              "      --fill-color: #1967D2;\n",
              "      --hover-bg-color: #E2EBFA;\n",
              "      --hover-fill-color: #174EA6;\n",
              "      --disabled-fill-color: #AAA;\n",
              "      --disabled-bg-color: #DDD;\n",
              "  }\n",
              "\n",
              "  [theme=dark] .colab-df-quickchart {\n",
              "      --bg-color: #3B4455;\n",
              "      --fill-color: #D2E3FC;\n",
              "      --hover-bg-color: #434B5C;\n",
              "      --hover-fill-color: #FFFFFF;\n",
              "      --disabled-bg-color: #3B4455;\n",
              "      --disabled-fill-color: #666;\n",
              "  }\n",
              "\n",
              "  .colab-df-quickchart {\n",
              "    background-color: var(--bg-color);\n",
              "    border: none;\n",
              "    border-radius: 50%;\n",
              "    cursor: pointer;\n",
              "    display: none;\n",
              "    fill: var(--fill-color);\n",
              "    height: 32px;\n",
              "    padding: 0;\n",
              "    width: 32px;\n",
              "  }\n",
              "\n",
              "  .colab-df-quickchart:hover {\n",
              "    background-color: var(--hover-bg-color);\n",
              "    box-shadow: 0 1px 2px rgba(60, 64, 67, 0.3), 0 1px 3px 1px rgba(60, 64, 67, 0.15);\n",
              "    fill: var(--button-hover-fill-color);\n",
              "  }\n",
              "\n",
              "  .colab-df-quickchart-complete:disabled,\n",
              "  .colab-df-quickchart-complete:disabled:hover {\n",
              "    background-color: var(--disabled-bg-color);\n",
              "    fill: var(--disabled-fill-color);\n",
              "    box-shadow: none;\n",
              "  }\n",
              "\n",
              "  .colab-df-spinner {\n",
              "    border: 2px solid var(--fill-color);\n",
              "    border-color: transparent;\n",
              "    border-bottom-color: var(--fill-color);\n",
              "    animation:\n",
              "      spin 1s steps(1) infinite;\n",
              "  }\n",
              "\n",
              "  @keyframes spin {\n",
              "    0% {\n",
              "      border-color: transparent;\n",
              "      border-bottom-color: var(--fill-color);\n",
              "      border-left-color: var(--fill-color);\n",
              "    }\n",
              "    20% {\n",
              "      border-color: transparent;\n",
              "      border-left-color: var(--fill-color);\n",
              "      border-top-color: var(--fill-color);\n",
              "    }\n",
              "    30% {\n",
              "      border-color: transparent;\n",
              "      border-left-color: var(--fill-color);\n",
              "      border-top-color: var(--fill-color);\n",
              "      border-right-color: var(--fill-color);\n",
              "    }\n",
              "    40% {\n",
              "      border-color: transparent;\n",
              "      border-right-color: var(--fill-color);\n",
              "      border-top-color: var(--fill-color);\n",
              "    }\n",
              "    60% {\n",
              "      border-color: transparent;\n",
              "      border-right-color: var(--fill-color);\n",
              "    }\n",
              "    80% {\n",
              "      border-color: transparent;\n",
              "      border-right-color: var(--fill-color);\n",
              "      border-bottom-color: var(--fill-color);\n",
              "    }\n",
              "    90% {\n",
              "      border-color: transparent;\n",
              "      border-bottom-color: var(--fill-color);\n",
              "    }\n",
              "  }\n",
              "</style>\n",
              "\n",
              "      <script>\n",
              "        async function quickchart(key) {\n",
              "          const quickchartButtonEl =\n",
              "            document.querySelector('#' + key + ' button');\n",
              "          quickchartButtonEl.disabled = true;  // To prevent multiple clicks.\n",
              "          quickchartButtonEl.classList.add('colab-df-spinner');\n",
              "          try {\n",
              "            const charts = await google.colab.kernel.invokeFunction(\n",
              "                'suggestCharts', [key], {});\n",
              "          } catch (error) {\n",
              "            console.error('Error during call to suggestCharts:', error);\n",
              "          }\n",
              "          quickchartButtonEl.classList.remove('colab-df-spinner');\n",
              "          quickchartButtonEl.classList.add('colab-df-quickchart-complete');\n",
              "        }\n",
              "        (() => {\n",
              "          let quickchartButtonEl =\n",
              "            document.querySelector('#df-e31b6561-3bdb-4323-a466-8f5179cf1b4e button');\n",
              "          quickchartButtonEl.style.display =\n",
              "            google.colab.kernel.accessAllowed ? 'block' : 'none';\n",
              "        })();\n",
              "      </script>\n",
              "    </div>\n",
              "\n",
              "    </div>\n",
              "  </div>\n"
            ],
            "application/vnd.google.colaboratory.intrinsic+json": {
              "type": "dataframe",
              "summary": "{\n  \"name\": \"display(outlier_df[['Split', 'Gloss', 'Video file', 'Frames', 'Z-Score']])\",\n  \"rows\": 117,\n  \"fields\": [\n    {\n      \"column\": \"Split\",\n      \"properties\": {\n        \"dtype\": \"category\",\n        \"num_unique_values\": 2,\n        \"samples\": [\n          \"test\",\n          \"train\"\n        ],\n        \"semantic_type\": \"\",\n        \"description\": \"\"\n      }\n    },\n    {\n      \"column\": \"Gloss\",\n      \"properties\": {\n        \"dtype\": \"string\",\n        \"num_unique_values\": 112,\n        \"samples\": [\n          \"CRY4\",\n          \"US\"\n        ],\n        \"semantic_type\": \"\",\n        \"description\": \"\"\n      }\n    },\n    {\n      \"column\": \"Video file\",\n      \"properties\": {\n        \"dtype\": \"string\",\n        \"num_unique_values\": 117,\n        \"samples\": [\n          \"055732368427704904-COME.mp4\",\n          \"8335625687320589-BUT.mp4\"\n        ],\n        \"semantic_type\": \"\",\n        \"description\": \"\"\n      }\n    },\n    {\n      \"column\": \"Frames\",\n      \"properties\": {\n        \"dtype\": \"number\",\n        \"std\": 54,\n        \"min\": 12,\n        \"max\": 387,\n        \"num_unique_values\": 78,\n        \"samples\": [\n          107,\n          91\n        ],\n        \"semantic_type\": \"\",\n        \"description\": \"\"\n      }\n    },\n    {\n      \"column\": \"Z-Score\",\n      \"properties\": {\n        \"dtype\": \"number\",\n        \"std\": 0.7932917121683296,\n        \"min\": -2.3442662126174416,\n        \"max\": 4.424850207979624,\n        \"num_unique_values\": 117,\n        \"samples\": [\n          3.4234325873321074,\n          2.2597658217023424\n        ],\n        \"semantic_type\": \"\",\n        \"description\": \"\"\n      }\n    }\n  ]\n}"
            }
          },
          "metadata": {}
        },
        {
          "output_type": "display_data",
          "data": {
            "text/plain": [
              "<google.colab._quickchart_helpers.SectionTitle at 0x7aa5e4764a10>"
            ],
            "text/html": [
              "<h4 class=\"colab-quickchart-section-title\">Distributions</h4>\n",
              "<style>\n",
              "  .colab-quickchart-section-title {\n",
              "      clear: both;\n",
              "  }\n",
              "</style>"
            ]
          },
          "metadata": {}
        },
        {
          "output_type": "display_data",
          "data": {
            "text/plain": [
              "from matplotlib import pyplot as plt\n",
              "_df_0['Frames'].plot(kind='hist', bins=20, title='Frames')\n",
              "plt.gca().spines[['top', 'right',]].set_visible(False)"
            ],
            "text/html": [
              "      <div class=\"colab-quickchart-chart-with-code\" id=\"chart-c40a22d3-4416-40e8-976b-0367d08c8da8\">\n",
              "        <img style=\"width: 180px;\" src=\"data:image/png;base64,iVBORw0KGgoAAAANSUhEUgAAAioAAAGrCAYAAADuNLxTAAAAOnRFWHRTb2Z0d2FyZQBNYXRwbG90\n",
              "bGliIHZlcnNpb24zLjEwLjAsIGh0dHBzOi8vbWF0cGxvdGxpYi5vcmcvlHJYcgAAAAlwSFlzAAAP\n",
              "YQAAD2EBqD+naQAAH2ZJREFUeJzt3XtQ1XX+x/HXEfQYBVIgyIpAilC7KkdZWaK8VGOlVrCZ02xT\n",
              "apeBahvX1Z3UbbvYltiuY7m746RNsaPOuNRq7o5sbXZld3NDvFE2XlglqFDKEtTgJMfP7w/HM55E\n",
              "fx48X86Hw/Mxc2bge875nvdHOM5zvudwvi5jjBEAAICFeoV7AAAAgLMhVAAAgLUIFQAAYC1CBQAA\n",
              "WItQAQAA1iJUAACAtQgVAABgLUIFAABYi1ABAADWIlQAAIC1CBUAQRs/frz69OmjSy65xH8ZO3Zs\n",
              "uMcCEIEIFQCd8sgjj+jo0aP+S2VlZcD1xhi1t7eHaToAkYJQARASdXV1crlceumll5STk6OYmBhV\n",
              "V1frvffeU0FBgRISEnTppZfquuuu0/bt2/33e++99+RyuVReXq6srCzFxMTolltu0eHDh/XYY48p\n",
              "JSVFiYmJeuKJJwIeb9euXbr55puVnJysgQMH6qGHHtKxY8cknYykxx9/XKmpqYqNjVVqaqp+/etf\n",
              "d+U/B4AQIVQAhNTLL7+sDRs26OjRoxo5cqR69+6txYsXq7GxUfX19crMzFRhYaG+++67gPtVVFRo\n",
              "y5Ytqqur0+7du/WTn/xEycnJamho0IYNG/TMM89o06ZNkqSvvvpKY8aM0fXXX6/6+nrt2LFDe/bs\n",
              "0axZsyRJb731ll5++WV98MEHOnLkiGpqanTLLbd09T8FgBAgVAB0yuLFixUfH++/rFq1SpL0+OOP\n",
              "a9CgQYqKipLb7dbVV1+tgoIC9enTR7GxsXr22WdVX1+v3bt3B+zvmWeeUWxsrJKSkjR58mRJ0sMP\n",
              "P6zo6Gjl5+fryiuvVFVVlSRp5cqVyszM1C9/+Uu53W4lJiZqwYIFWrlypXw+n/r06aO2tjbt3LlT\n",
              "ra2tuuyyy3TVVVd17T8QgJAgVAB0yq9+9SsdPnzYf7n77rslSZdffnnA7U4dzRg4cKDi4uL81zc1\n",
              "NQXcLiUlxf/1xRdfHPD9qW1HjhyRJO3du1dbtmwJCKVJkybJ5XLpwIEDGjdunH73u99p0aJFSk5O\n",
              "1tixY7Vx48aQ/xsAcB6hAiCkevUK/G9l6tSpGjJkiD7++GO1tLRo//79kk6+j6SzBgwYoGuuuSYg\n",
              "lJqbm9XW1qaBAwdKku699169//77+vLLL1VUVKRbbrnFHzoAug9CBYCjmpubFRcXp379+unrr7/W\n",
              "nDlzLnif99xzj7Zt26Zly5bp22+/lTFGDQ0NWr9+vSSpqqpKlZWVam1t9b/k5HK5FBUVdcGPDaBr\n",
              "ESoAHPXyyy/r1VdfVWxsrPLz8zVx4sQL3mdaWpo2bdqkjRs3asiQIYqPj9eNN96ojz76SJJ09OhR\n",
              "zZ49W0lJSYqPj9eKFSv02muvKSYm5oIfG0DXcpkLOf4KAADgII6oAAAAaxEqAADAWoQKAACwFqEC\n",
              "AACsRagAAABrESoAAMBahAoAALBWtwyVpUuXhnsEAADQBbplqHz66afhHgEAAHSBbhkqAACgZyBU\n",
              "AACAtQgVAABgLUIFAABYi1ABAADWIlQAAIC1CBUAAGAtQgUAAFiLUAEAANYiVAAAgLUIFQAAYC1C\n",
              "BQAAWMvRULnhhhs0YsQIeTwejRkzRtu2bZMk7d27VwUFBcrKytLo0aO1c+dOJ8cAAADdlKOh8sor\n",
              "r6impkbbt2/X7NmzNWPGDElSSUmJiouLtWfPHs2dO9e/HQAA4HSOhkp8fLz/6+bmZrlcLjU1Nam6\n",
              "ulp33XWXJGnKlClqaGhQbW1th/vwer1qaWkJuPh8PifHBgAAloh2+gGmTZumd999V5L0j3/8Qw0N\n",
              "DUpJSVF09MmHdrlcSktLU319vTIzM8+4f2lpqRYsWBCwLT8/3+mxISljXoVj+65bNNmxfQMAIofj\n",
              "b6ZduXKlGhoa9PTTT2vu3LlB33/+/Plqbm4OuOTl5TkwKQAAsI3jR1ROmT59uh544AGlpqaqsbFR\n",
              "7e3tio6OljFG9fX1SktL6/B+brdbbrc7YFtUVFRXjAwAAMLMsSMqhw8f1hdffOH/fv369UpISFBS\n",
              "UpJGjRql1atXS5LWrl2r1NTUDl/2AQAAPZtjR1Sam5s1depUtba2qlevXurfv782bNggl8ul5cuX\n",
              "a8aMGVq4cKHi4uJUVlbm1BgAAKAbcyxU0tPTVVVV1eF12dnZ2rRpk1MPDQAAIgSfTAsAAKxFqAAA\n",
              "AGsRKgAAwFqECgAAsBahAgAArEWoAAAAaxEqAADAWoQKAACwFqECAACsRagAAABrESoAAMBahAoA\n",
              "ALAWoQIAAKxFqAAAAGsRKgAAwFqECgAAsBahAgAArEWoAAAAaxEqAADAWoQKAACwFqECAACsRagA\n",
              "AABrESoAAMBahAoAALAWoQIAAKxFqAAAAGsRKgAAwFqECgAAsBahAgAArEWoAAAAaxEqAADAWoQK\n",
              "AACwFqECAACsRagAAABrESoAAMBahAoAALAWoQIAAKxFqAAAAGsRKgAAwFqECgAAsBahAgAArEWo\n",
              "AAAAaxEqAADAWoQKAACwFqECAACsRagAAABrESoAAMBahAoAALAWoQIAAKxFqAAAAGs5FiptbW0q\n",
              "KipSVlaWcnJyNGHCBNXW1kqSxo8fr8svv1wej0cej0fPPfecU2MAAIBuLNrJnRcXF2vixIlyuVz6\n",
              "05/+pPvvv1/vvfeeJOm5555TUVGRkw8PAAC6OceOqPTt21eTJk2Sy+WSJOXn56uuri7o/Xi9XrW0\n",
              "tARcfD5fiKcFAAA26rL3qCxdulSFhYX+7+fNm6fhw4frjjvu0L59+856v9LSUvXr1y/gUlVV1RUj\n",
              "AwCAMOuSUFm4cKFqa2tVWloqSVq1apV27dqlmpoajRkzRjfffPNZ7zt//nw1NzcHXPLy8rpibAAA\n",
              "EGaOh8rixYu1bt06vf7664qJiZEkDRo0SJLkcrn08MMPa9++fTp06FCH93e73YqLiwu4REVFOT02\n",
              "AACwgKOhsmTJEq1Zs0YbN25UfHy8JKm9vV0HDx7032bt2rVKTk5WQkKCk6MAAIBuyLG/+vnss880\n",
              "Z84cDR48WNdee62kk0dH3nnnHU2ePFler1e9evVSYmKi/v73vzs1BgAA6MYcC5XU1FQZYzq8rrq6\n",
              "2qmHBQAAEYRPpgUAANYiVAAAgLUIFQAAYC1CBQAAWItQAQAA1iJUAACAtRw9ezJwNhnzKhzbd92i\n",
              "yY7tGwDQtTiiAgAArEWoAAAAaxEqAADAWoQKAACwFqECAACsRagAAABrESoAAMBahAoAALAWoQIA\n",
              "AKxFqAAAAGsRKgAAwFqECgAAsBahAgAArEWoAAAAaxEqAADAWoQKAACwFqECAACsRagAAABrESoA\n",
              "AMBahAoAALAWoQIAAKxFqAAAAGsRKgAAwFqECgAAsBahAgAArEWoAAAAaxEqAADAWoQKAACwFqEC\n",
              "AACsRagAAABrESoAAMBahAoAALAWoQIAAKxFqAAAAGsRKgAAwFqECgAAsBahAgAArEWoAAAAaxEq\n",
              "AADAWoQKAACwFqECAACsRagAAABrORYqbW1tKioqUlZWlnJycjRhwgTV1tZKkpqamnTTTTdp6NCh\n",
              "GjZsmCorK50aAwAAdGOOHlEpLi7W7t27tWPHDhUWFur++++XJM2bN0/5+fnau3evysrKdOedd+r4\n",
              "8eNOjgIAALohx0Klb9++mjRpklwulyQpPz9fdXV1kqRXXnlFDzzwgCRp9OjR+sEPfqD333/fqVEA\n",
              "AEA3Fd1VD7R06VIVFhbq0KFDOn78uAYMGOC/LiMjQ/X19R3ez+v1yuv1Bmzz+XyOzgoAAOzQJaGy\n",
              "cOFC1dbW6u2331Zra2tQ9y0tLdWCBQsCtuXn54dyPESYjHkVjuy3btFkR/YLADg7x//qZ/HixVq3\n",
              "bp1ef/11xcTEKCEhQdHR0Tpw4ID/NnV1dUpLS+vw/vPnz1dzc3PAJS8vz+mxAQCABRwNlSVLlmjN\n",
              "mjXauHGj4uPj/dunTp2qF154QZK0efNmff755xo3blyH+3C73YqLiwu4REVFOTk2AACwhGMv/Xz2\n",
              "2WeaM2eOBg8erGuvvVbSyej48MMP9eyzz+ruu+/W0KFD1adPH61evVq9e/d2ahQAANBNORYqqamp\n",
              "MsZ0eF1ycrLefPNNpx4aAABECD6ZFgAAWItQAQAA1iJUAACAtQgVAABgLUIFAABYi1ABAADWIlQA\n",
              "AIC1CBUAAGAtQgUAAFiLUAEAANYiVAAAgLUIFQAAYC1CBQAAWItQAQAA1iJUAACAtQgVAABgLUIF\n",
              "AABYi1ABAADWIlQAAIC1gg6Vf/7zn07MAQAAcIagQ+Wpp55Sdna2li5dqpaWFidmAgAAkNSJUPnP\n",
              "f/6jv/zlL/r444+VlZWlhx56SJ988okTswEAgB6uU+9RGTlypF588UW98cYb2rBhg0aMGKEJEybo\n",
              "o48+CvV8AACgB+tUqLz11lsqLCzUbbfdpp///Oc6cOCASkpK9NOf/jTU8wEAgB4sOtg7XHnllUpM\n",
              "TNTMmTN12223KSoqSpJ0++2366WXXgr5gAAAoOcKOlRWr16t3NzcDq97/fXXL3ggAACAU4J+6WfL\n",
              "li36+uuv/d8fOnRIL774YkiHAgAAkDoRKsuWLdNll13m/z4hIUHLli0L6VAAAABSJ0LFGHPGNp/P\n",
              "F5JhAAAAThd0qKSkpOiVV17xf19eXq6UlJSQDgUAACB14s20zz//vAoLC/XII49IkmJiYvS3v/0t\n",
              "5IMBAAAEHSpXXHGFPvnkE+3evVuSlJ2d7f8TZQAAgFAKOlQkyeVyKT4+Xu3t7fr8888lSWlpaSEd\n",
              "DAAAIOhQ+fOf/6yZM2eqd+/e6tXr5FtcXC6XmpqaQj4cAADo2YIOld/+9rfavHmzsrOznZgHAADA\n",
              "L+i/+klMTCRSAABAlwg6VIqKivT888+rqalJLS0t/gsAAECoBf3Sz6OPPipJmj17tlwul4wxcrlc\n",
              "fOgbAAAIuaBD5cSJE07MAQAAcIagX/qRTp6YcNWqVZKkw4cPq7GxMaRDAQAASJ08KeG9996rJ598\n",
              "UtLJsyffeeedoZ4LAAAg+FBZsWKF/vvf/youLk6SNGTIEH355ZchHwwAACDoUHG73brooosCtkVH\n",
              "d+oDbgEAAM4p6FDp37+/9uzZI5fLJenkJ9Xy8fkAAMAJnTp78s9+9jPt2rVLgwYNUlxcnDZs2ODE\n",
              "bAAAoIcLOlQyMzP14Ycfavfu3TLGcPZkAADgmKBDpb6+XpJ08cUXSxJnTwYAAI4JOlRyc3P9n0jb\n",
              "1tamb7/9VgkJCZw9GQAAhFzQofL9P0Vet26dduzYEbKBAAAATunUJ9Oe7rbbblNFRUUoZgEAAAgQ\n",
              "dKicfsbkb775Rm+88cZZz548c+ZMZWRkyOVyafv27f7tGRkZys7OlsfjkcfjUXl5eacXAAAAIlfQ\n",
              "L/3Ex8f736MSFRWloUOH6g9/+EOHt7399tv1yCOP6JprrjnjuvLycnk8nqAHBgAAPYejZ08eO3Zs\n",
              "sLs/g9frldfrDdjm8/kueL8AAMB+F/welc6aNm2ahg8frvvuu++c5woqLS1Vv379Ai5VVVVdOCkA\n",
              "AAiXoEOlV69eioqKOuNyavv5qKysVE1NjbZu3arExERNnz79rLedP3++mpubAy55eXnBjg0AALqh\n",
              "oF/6eeqpp9Ta2qoHH3xQkvTCCy/ooosu0qxZs857H6c+HK53796aNWuWsrKyznpbt9stt9sdsI1P\n",
              "wgUAoGcIOlRee+01bdmyxf/9008/rdzcXD366KPndf9jx47p+PHjio+PlyStWbNGI0eODHYMAADQ\n",
              "AwQdKkeOHFFTU5OSkpIkSU1NTTpy5EiHty0pKVFFRYUOHDigG2+8UbGxsXrzzTc1ZcoU+Xw+GWM0\n",
              "ePBgrVy58sJWAQAAIlLQoTJnzhzl5ORo0qRJkqQ33nhDTz75ZIe3Xb58eYfbt23bFuzDAgCAHijo\n",
              "UCkpKdHVV1+td999V5I0e/Zs/ehHPwr5YAAAAEGHiiQlJCRo+PDhGj9+vNrb2/Xdd9+pT58+oZ4N\n",
              "AAD0cEH/efJf//pX5efn65577pEk7dy5U0VFRaGeCwAAIPhQKS0t1datW/1/tZOTk6NPP/001HMB\n",
              "AAAEHypRUVFKSEgI2MbLPgAAwAlBh0psbKwOHjwol8slSXr77bd12WWXhXwwAACAoN9M++yzz2ri\n",
              "xInat2+frrnmGu3fv18VFRVOzAYAAHq4oELlxIkT8vl8evfdd/XBBx/IGKOCggL/+1UAAABCKahQ\n",
              "6dWrl4qLi7Vjxw5NnDjRqZkAAAAkdeI9KkOHDlVtba0TswAAAAQI+j0qX3/9tTwejwoKCnTJJZf4\n",
              "t69bty6kgwEAAJx3qBQXF2vFihWaPn26br31Vl166aVOzgUAAHD+oVJdXS1Jmj59ukaNGqWtW7c6\n",
              "NhQAAIDUifeoSJIxJtRzAAAAnOG8j6i0trbqo48+kjFGbW1t/q9PGTFihCMDAgCAniuoULn11lv9\n",
              "35/+tcvl0r59+0I7GQAA6PHOO1Tq6uocHAMAAOBMnXqPCgAAQFcgVAAAgLUIFQAAYC1CBQAAWItQ\n",
              "AQAA1iJUAACAtQgVAABgLUIFAABYi1ABAADWIlQAAIC1CBUAAGAtQgUAAFjrvE9KCHtlzKsI9wgA\n",
              "ADiCIyoAAMBahAoAALAWoQIAAKxFqAAAAGsRKgAAwFqECgAAsBahAgAArEWoAAAAaxEqAADAWoQK\n",
              "AACwFqECAACsxbl+AAs4db6mukWTHdkvAHQVjqgAAABrESoAAMBahAoAALAWoQIAAKxFqAAAAGsR\n",
              "KgAAwFqECgAAsBahAgAArOVoqMycOVMZGRlyuVzavn27f/vevXtVUFCgrKwsjR49Wjt37nRyDAAA\n",
              "0E05Giq33367/v3vfys9PT1ge0lJiYqLi7Vnzx7NnTtXM2bMcHIMAADQTTkaKmPHjlVqamrAtqam\n",
              "JlVXV+uuu+6SJE2ZMkUNDQ2qra3tcB9er1ctLS0BF5/P5+TYAADAEl3+HpWGhgalpKQoOvrkaYZc\n",
              "LpfS0tJUX1/f4e1LS0vVr1+/gEtVVVVXjgwAAMLE+jfTzp8/X83NzQGXvLy8cI8FAAC6QJefPXnQ\n",
              "oEFqbGxUe3u7oqOjZYxRfX290tLSOry92+2W2+0O2BYVFdUVowIAgDDr8iMqSUlJGjVqlFavXi1J\n",
              "Wrt2rVJTU5WZmdnVowAAAMs5GiolJSVKTU3VZ599phtvvNEfI8uXL9fy5cuVlZWlRYsWqayszMkx\n",
              "AABAN+XoSz/Lly/vcHt2drY2bdrk5EMDAIAIYP2baQEAQM9FqAAAAGsRKgAAwFqECgAAsBahAgAA\n",
              "rEWoAAAAa3X5J9MC3VXGvIpwjwAAPQ5HVAAAgLUIFQAAYC1CBQAAWItQAQAA1iJUAACAtQgVAABg\n",
              "LUIFAABYi1ABAADWIlQAAIC1CBUAAGAtQgUAAFiLUAEAANYiVAAAgLUIFQAAYC1CBQAAWItQAQAA\n",
              "1iJUAACAtQgVAABgLUIFAABYi1ABAADWIlQAAIC1CBUAAGAtQgUAAFiLUAEAANYiVAAAgLUIFQAA\n",
              "YC1CBQAAWItQAQAA1iJUAACAtQgVAABgLUIFAABYi1ABAADWIlQAAIC1CBUAAGAtQgUAAFiLUAEA\n",
              "ANYiVAAAgLUIFQAAYC1CBQAAWItQAQAA1iJUAACAtQgVAABgrbCFSkZGhrKzs+XxeOTxeFReXh6u\n",
              "UQAAgKWiw/ng5eXl8ng84RwBAABYjJd+AACAtcJ6RGXatGkyxigvL0+LFi1S//79z7iN1+uV1+sN\n",
              "2Obz+bpqRAAAEEZhO6JSWVmpmpoabd26VYmJiZo+fXqHtystLVW/fv0CLlVVVV08LQAACIewhUpa\n",
              "WpokqXfv3po1a5b+9a9/dXi7+fPnq7m5OeCSl5fXlaMCAIAwCctLP8eOHdPx48cVHx8vSVqzZo1G\n",
              "jhzZ4W3dbrfcbnfAtqioKKdHBAAAFghLqBw8eFBTpkyRz+eTMUaDBw/WypUrwzEKAACwWFhCZfDg\n",
              "wdq2bVs4HhoAAHQj/HkyAACwFqECAACsRagAAABrESoAAMBahAoAALAWoQIAAKxFqAAAAGsRKgAA\n",
              "wFqECgAAsBahAgAArEWoAAAAaxEqAADAWoQKAACwFqECAACsRagAAABrESoAAMBahAoAALAWoQIA\n",
              "AKwVHe4BADgnY16FY/uuWzTZsX0DwCkcUQEAANYiVAAAgLUIFQAAYC1CBQAAWItQAQAA1iJUAACA\n",
              "tQgVAABgLUIFAABYi1ABAADWIlQAAIC1CBUAAGAtzvXzPU6dG4XzogAAEDyOqAAAAGsRKgAAwFqE\n",
              "CgAAsBahAgAArEWoAAAAaxEqAADAWoQKAACwFqECAACsRagAAABrESoAAMBahAoAALAW5/oB0ClO\n",
              "nRerO+JcXt0fv8+BbPqd5ogKAACwFqECAACsRagAAABrESoAAMBahAoAALAWoQIAAKxFqAAAAGuF\n",
              "LVT27t2rgoICZWVlafTo0dq5c2e4RgEAAJYKW6iUlJSouLhYe/bs0dy5czVjxoxwjQIAACwVllBp\n",
              "ampSdXW17rrrLknSlClT1NDQoNra2jNu6/V61dLSEnDx+XxdPTIAAAgDlzHGdPWDbtmyRXfeead2\n",
              "797t35aXl6dFixbpuuuuC7jtk08+qQULFgRsu+KKKzRx4sQO9+3z+VRVVaW8vDxFRUWFfnjL9LT1\n",
              "Sj1vzaw3srHeyMZ6A6Wnp+sXv/hFUPu0PlS8Xq+8Xm/ANrfbLbfb3eG+W1pa1K9fPzU3NysuLi70\n",
              "w1ump61X6nlrZr2RjfVGNtZ74cJyUsJBgwapsbFR7e3tio6OljFG9fX1SktLO+O254oSAAAQ2cLy\n",
              "HpWkpCSNGjVKq1evliStXbtWqampyszMDMc4AADAUmE5oiJJy5cv14wZM7Rw4ULFxcWprKwsXKMA\n",
              "AABLhS1UsrOztWnTppDv1+1264knnugxLxf1tPVKPW/NrDeysd7IxnovXFjeTAsAAHA++Ah9AABg\n",
              "LUIFAABYi1ABAADWIlQAAIC1Ii5UIv2szBkZGcrOzpbH45HH41F5ebmkyFn3zJkzlZGRIZfLpe3b\n",
              "t/u3n2t93XntZ1vv2X7OUvdeb1tbm4qKipSVlaWcnBxNmDDBf46vpqYm3XTTTRo6dKiGDRumyspK\n",
              "//3OdZ3NzrXe8ePH6/LLL/f/jJ977jn//brreiXphhtu0IgRI+TxeDRmzBht27ZNUuQ+h6WzrzlS\n",
              "n8eSVFZWJpfLpfXr10ty+PlrIsy1115rysrKjDHGvPrqq+bHP/5xeAcKsfT0dLNt27YztkfKut9/\n",
              "/33T0NBwxjrPtb7uvPazrfdsP2djuvd6W1tbTUVFhTlx4oQxxpg//vGPZty4ccYYY+655x7zxBNP\n",
              "GGOMqaqqMgMHDjTffffd/3udzc613nHjxpnXXnutw/t11/UaY8w333zj/3rdunVmxIgRxpjIfQ4b\n",
              "c/Y1R+rzeP/+/eaqq64y+fn5/t9hJ5+/ERUqBw8eNLGxseb48ePGGGNOnDhhkpOTzd69e8M8Weh0\n",
              "9Isfies+fZ3nWl+krP18QyVS1nvK5s2bTXp6ujHGmIsvvtg0Njb6rxs9erTZuHHj/3tdd3L6es8V\n",
              "KpGy3rKyMpOTk9MjnsOnnFqzMZH5PPb5fOb666831dXVAb/DTj5/I+qln4aGBqWkpCg6+uTn2Llc\n",
              "LqWlpam+vj7Mk4XWtGnTNHz4cN1333368ssvI37d51pfJK/9+z9nKfJ+x5cuXarCwkIdOnRIx48f\n",
              "14ABA/zXZWRkqL6+/pzXdTen1nvKvHnzNHz4cN1xxx3at2+fJEXEeqdNm6ZBgwbpscce06pVq3rE\n",
              "c/j7az59eyQ9j5csWaKrr75aubm5/m1OP38jKlR6gsrKStXU1Gjr1q1KTEzU9OnTwz0SHNATfs4L\n",
              "Fy5UbW2tSktLwz1Kl/j+eletWqVdu3appqZGY8aM0c033xzmCUNn5cqVamho0NNPP625c+eGe5wu\n",
              "0dGaI+15/PHHH2vt2rX6zW9+07UPHJqDQXbozofTOuOLL74wl1xySUSuu6e/9HO6Uz9nYyLnd/z3\n",
              "v/+9yc3NDXhtPyYm5qyHh891XXfQ0Xq/z+12m6+++soY0/3Xe7q+ffuaAwcORPxz+HR9+/b1/yxP\n",
              "iYTn8bJly8yAAQNMenq6SU9PN2632/Tv398sW7bM0edvRB1RifSzMh87dkyHDx/2f79mzRqNHDky\n",
              "4td9rvVF4trP9nOWIuN3fMmSJVqzZo02btyo+Ph4//apU6fqhRdekCRt3rxZn3/+ucaNG/f/Xme7\n",
              "jtbb3t6ugwcP+m+zdu1aJScnKyEhQVL3Xe/hw4f1xRdf+L9fv369EhISIvo5fLY19+3bN+Kexw8+\n",
              "+KAaGxtVV1enuro65efna8WKFXrwwQedff6GrrXssGvXLpOfn2+GDh1qcnNzTU1NTbhHCpn//e9/\n",
              "xuPxmOHDh5thw4aZW2+91ezfv98YEznrLi4uNgMHDjRRUVEmKSnJDBkyxBhz7vV157V3tN5z/ZyN\n",
              "6d7rbWhoMJLM4MGDTU5OjsnJyTF5eXnGGGMOHDhgJkyYYDIzM80Pf/hD88477/jvd67rbHa29R49\n",
              "etTk5uaaYcOGmREjRpjrrrvObN++3X+/7rreuro6M3r0aP+6rr/+ev+Rwkh9Dp9tzZH8PD7l9DfT\n",
              "Ovn85aSEAADAWhH10g8AAIgshAoAALAWoQIAAKxFqAAAAGsRKgAAwFqECgAAsBahAgAArEWoAAAA\n",
              "axEqAADAWoQKAACw1v8Bj8mJvxeVN5oAAAAASUVORK5CYII=\n",
              "\">\n",
              "      </div>\n",
              "      <script type=\"text/javascript\">\n",
              "        (() => {\n",
              "          const chartElement = document.getElementById(\"chart-c40a22d3-4416-40e8-976b-0367d08c8da8\");\n",
              "          async function getCodeForChartHandler(event) {\n",
              "            const chartCodeResponse =  await google.colab.kernel.invokeFunction(\n",
              "                'getCodeForChart', [\"chart-c40a22d3-4416-40e8-976b-0367d08c8da8\"], {});\n",
              "            const responseJson = chartCodeResponse.data['application/json'];\n",
              "            await google.colab.notebook.addCell(responseJson.code, 'code');\n",
              "          }\n",
              "          chartElement.onclick = getCodeForChartHandler;\n",
              "        })();\n",
              "      </script>\n",
              "      <style>\n",
              "        .colab-quickchart-chart-with-code  {\n",
              "            display: block;\n",
              "            float: left;\n",
              "            border: 1px solid transparent;\n",
              "        }\n",
              "\n",
              "        .colab-quickchart-chart-with-code:hover {\n",
              "            cursor: pointer;\n",
              "            border: 1px solid #aaa;\n",
              "        }\n",
              "      </style>"
            ]
          },
          "metadata": {}
        },
        {
          "output_type": "display_data",
          "data": {
            "text/plain": [
              "from matplotlib import pyplot as plt\n",
              "_df_1['Z-Score'].plot(kind='hist', bins=20, title='Z-Score')\n",
              "plt.gca().spines[['top', 'right',]].set_visible(False)"
            ],
            "text/html": [
              "      <div class=\"colab-quickchart-chart-with-code\" id=\"chart-d08242be-7581-4565-bec6-f68d1e697229\">\n",
              "        <img style=\"width: 180px;\" src=\"data:image/png;base64,iVBORw0KGgoAAAANSUhEUgAAAicAAAGrCAYAAAAbyjfjAAAAOnRFWHRTb2Z0d2FyZQBNYXRwbG90\n",
              "bGliIHZlcnNpb24zLjEwLjAsIGh0dHBzOi8vbWF0cGxvdGxpYi5vcmcvlHJYcgAAAAlwSFlzAAAP\n",
              "YQAAD2EBqD+naQAAHsBJREFUeJzt3XuMV/Wd//HXF7AjWC4V8LLhpnJpvTFqpKy3ajfUeomwXuLW\n",
              "NUK3FDTbKNFsgXRN1TaAqVWxjRFNy1bdsLqFdY1YV7FatboKipe1lYs4ghVKgwXUxakM398fpGNn\n",
              "xV8dOt/5fnAej+SbMOd7vue85yRtnz3fM+dUqtVqNQAAhehW7wEAAP6UOAEAiiJOAICiiBMAoCji\n",
              "BAAoijgBAIoiTgCAoogTAKAo4gQAKIo4AQCKIk6Aj+3xxx/Ppz/96Q+9evbsmUqlkjvuuGOXn3v0\n",
              "0UdzyimnpH///undu3cOOeSQTJ48uZOnB/YUPeo9ALDnOPHEE/POO++0WdbS0pIzzzwzb731Vs49\n",
              "99wPfaapqSmnnXZabrrppjzwwAPp0aNHXnvttSxZsqRmc77//vvZa6+9arZ9oLacOQH+Ipdddll+\n",
              "/etf5957703Pnj0/9P6zzz6bT33qU/n617+ehoaGdO/ePcOHD8/FF1/cZr2f/OQnaWxsTN++fbP/\n",
              "/vvnsssua33vqaeeyoknnpjPfOYzOeiggzJjxow0Nze3vj9s2LB8+9vfzpe//OX07t073//+95Mk\n",
              "t99+e0aPHp2+ffvmsMMOy7/927/V6CgAHaoKsJvmzp1b7dOnT/Wll176yHWampqq++yzT/W8886r\n",
              "/vu//3t1zZo1H1rntttuqw4YMKD60EMPVd9///3q1q1bq48++mi1Wq1WX3/99WqvXr2qN9xwQ7W5\n",
              "ubm6cuXK6qGHHlq97LLLWj8/dOjQ6v7771998sknqzt27Ki+++671fnz51cHDx5cXbp0abWlpaX6\n",
              "+OOPV3v37l19/PHHO/w4AB1LnAC7ZfHixdWGhobqAw888GfXffnll6tTp06tjho1qtqtW7fq0KFD\n",
              "qz/60Y9a3z/ssMOq3/ve93b52VmzZlUbGxvbLFu0aFG1Z8+e1R07dlSr1Z1xMmPGjDbrHHHEEdVb\n",
              "brmlzbLJkydXv/a1r32s3w+oH1/rAO324osv5u/+7u9y44035tRTT21d/q//+q9tLpRdu3ZtkuTQ\n",
              "Qw/NLbfckldeeSWbNm3KJZdckq997Wt59NFHkySvvfZaRo0atct9rVu3LoccckibZcOHD8+2bdvy\n",
              "u9/9rnXZQQcd1GadVatW5Yorrki/fv1aXwsWLMibb77ZEYcAqCFxArTLhg0bcuaZZ+brX//6h64b\n",
              "+fu///u88847ra8hQ4Z86PP9+vXL9OnTs+++++a5555LsvOakZUrV+5yf4MHD86aNWvaLHv11VfT\n",
              "s2fPDBw4sHVZt25t/+vsgAMOyM0335zNmze3vt55553cf//9u/V7A51HnAAf27Zt23LWWWfl6KOP\n",
              "zve+972P9ZnHH388N954Y5qamrJjx45s27YtP/zhD7N58+Ycf/zxSXZeVHvttdfm5z//eVpaWvL2\n",
              "22/nF7/4RZLkggsuyIoVK/KDH/wgf/jDH/Lqq6/myiuvzOTJk1OpVD5yv9OmTct3vvOdLF26NDt2\n",
              "7Ehzc3OWLl2aZ5999i8/EEBN+VNi4GP76U9/mqVLl2bvvfdOnz59PvT+hRdemFtuuaXNsn333TdP\n",
              "PPFEvv/97+f3v/99Ghoa8rnPfS4LFy7M5z//+STJlClT0r1790ybNi1NTU3p1atXvvKVr+QLX/hC\n",
              "hg4dmgcffDDTp0/PlVdemb59++b888/PNddc8/+d9bLLLsuAAQNy8cUX59VXX02PHj1y+OGH/9nP\n",
              "AfVXqVar1XoPAQDwR77WAQCKIk4AgKKIEwCgKOIEACiKOAEAiiJOAICiiBMAoCh7ZJzMnTu33iMA\n",
              "ADWyR8bJ66+/Xu8RAIAa2SPjBAD45BInAEBRxAkAUBRxAgAURZwAAEURJwBAUcQJAFAUcQIAFEWc\n",
              "AABFEScAQFHECQBQFHECABRFnAAARREnAEBRxAkAUJQe9R4AgI82bMbimmy3ac4ZNdkudARnTgCA\n",
              "oogTAKAo4gQAKIo4AQCKIk4AgKKIEwCgKOIEACiKOAEAiiJOAICiiBMAoCjiBAAoijgBAIoiTgCA\n",
              "oogTAKAo4gQAKIo4AQCKIk4AgKKIEwCgKOIEACiKOAEAiiJOAICiiBMAoCjiBAAoijgBAIoiTgCA\n",
              "oogTAKAo4gQAKIo4AQCKUtM4+dKXvpQjjzwyjY2NOfHEE7N8+fIkyapVq3Lcccdl5MiROfbYY/Py\n",
              "yy/XcgwAYA9S0zi5++678+KLL+b555/P5ZdfnkmTJiVJpk6dmilTpmTlypWZPn1663IAgJrGSb9+\n",
              "/Vr/vWXLllQqlWzcuDHLli3LhRdemCQ555xzsm7duqxevXqX22hubs7WrVvbvFpaWmo5NgBQRz1q\n",
              "vYOLLroojzzySJLk/vvvz7p163LggQemR4+du65UKhkyZEjWrl2b4cOHf+jzs2fPztVXX91m2dix\n",
              "Y2s9NgBQJzW/IPb222/PunXr8t3vfjfTp09v9+dnzpyZLVu2tHmNGTOmBpMCACWo+ZmTP5o4cWIu\n",
              "vvjiDBo0KOvXr8/27dvTo0ePVKvVrF27NkOGDNnl5xoaGtLQ0NBmWffu3TtjZACgDmp25mTz5s15\n",
              "8803W3++55570r9//+y33345+uijc+eddyZJFi5cmEGDBu3yKx0AoOup2ZmTLVu25Lzzzsu2bdvS\n",
              "rVu3DBw4MPfdd18qlUrmzZuXSZMmZdasWenTp0/mz59fqzEAgD1MzeJk6NCheeaZZ3b53qhRo/LU\n",
              "U0/VatcAwB7MHWIBgKKIEwCgKOIEACiKOAEAiiJOAICiiBMAoCjiBAAoijgBAIoiTgCAoogTAKAo\n",
              "4gQAKIo4AQCKIk4AgKKIEwCgKOIEACiKOAEAitKj3gMA0PmGzVhcs203zTmjZtuma3DmBAAoijgB\n",
              "AIoiTgCAoogTAKAo4gQAKIo4AQCKIk4AgKKIEwCgKOIEACiKOAEAiiJOAICiiBMAoCjiBAAoijgB\n",
              "AIoiTgCAoogTAKAo4gQAKIo4AQCKIk4AgKKIEwCgKOIEACiKOAEAiiJOAICiiBMAoCjiBAAoijgB\n",
              "AIoiTgCAotQsTt57771MmDAhI0eOzOjRozNu3LisXr06SXLyySfnoIMOSmNjYxobG3PDDTfUagwA\n",
              "YA/To5YbnzJlSk477bRUKpX88Ic/zOTJk/Poo48mSW644YZMmDChlrsHAPZANTtzsvfee+f0009P\n",
              "pVJJkowdOzZNTU212h0A8AnRadeczJ07N+PHj2/9ecaMGTniiCNy/vnnZ82aNR/5uebm5mzdurXN\n",
              "q6WlpTNGBgDqoFPiZNasWVm9enVmz56dJLnjjjvyyiuv5MUXX8yJJ56YM8888yM/O3v27PTt27fN\n",
              "65lnnumMsQGAOqh5nFx33XVZtGhRfvazn6VXr15JksGDBydJKpVKvvGNb2TNmjXZtGnTLj8/c+bM\n",
              "bNmypc1rzJgxtR4bAKiTml4Qe/3112fBggVZsmRJ+vXrlyTZvn17Nm3alP333z9JsnDhwuy///7p\n",
              "37//LrfR0NCQhoaGNsu6d+9ey7EBgDqqWZy88cYbueKKK3LwwQfnlFNOSbIzNH7+85/njDPOSHNz\n",
              "c7p165YBAwbk3nvvrdUYAMAepmZxMmjQoFSr1V2+t2zZslrtFgDYw7lDLABQFHECABRFnAAARREn\n",
              "AEBRxAkAUBRxAgAURZwAAEURJwBAUcQJAFAUcQIAFEWcAABFEScAQFHECQBQFHECABRFnAAARREn\n",
              "AEBRxAkAUBRxAgAURZwAAEURJwBAUcQJAFAUcQIAFEWcAABFEScAQFHECQBQFHECABRFnAAARelR\n",
              "7wEA+GQZNmNxzbbdNOeMmm2bcjhzAgAURZwAAEURJwBAUcQJAFAUcQIAFEWcAABFEScAQFHECQBQ\n",
              "FHECABRFnAAARREnAEBRxAkAUBRxAgAURZwAAEURJwBAUcQJAFAUcQIAFKVmcfLee+9lwoQJGTly\n",
              "ZEaPHp1x48Zl9erVSZKNGzfmy1/+ckaMGJHDDz88jz32WK3GAAD2MDU9czJlypSsWLEiL7zwQsaP\n",
              "H5/JkycnSWbMmJGxY8dm1apVmT9/fi644IK8//77tRwFANhD1CxO9t5775x++umpVCpJkrFjx6ap\n",
              "qSlJcvfdd+fiiy9Okhx77LH5q7/6q/ziF7/Y5Xaam5uzdevWNq+WlpZajQ0A1FmPztrR3LlzM378\n",
              "+GzatCnvv/9+DjjggNb3hg0blrVr1+7yc7Nnz87VV1/dZtnYsWNrOisAZRo2Y3FNtts054yabJfd\n",
              "0ykXxM6aNSurV6/O7Nmz2/3ZmTNnZsuWLW1eY8aMqcGUAEAJan7m5LrrrsuiRYuyZMmS9OrVK716\n",
              "9UqPHj2yYcOG1rMnTU1NGTJkyC4/39DQkIaGhjbLunfvXuuxAYA6afeZk//6r//62Otef/31WbBg\n",
              "QR566KH069evdfl5552XW265JUmydOnS/OY3v8kXvvCF9o4CAHwCtTtOrrnmmowaNSpz587N1q1b\n",
              "P3K9N954I1dccUU2b96cU045JY2Njfn85z+fJLn22mvz5JNPZsSIEZk0aVLuvPPO7LXXXrv/WwAA\n",
              "nxjt/lrnl7/8ZZYvX56bb745I0eOzNlnn51vfOMbOfTQQ9usN2jQoFSr1V1uY//998+DDz64exMD\n",
              "AJ9ou3VB7FFHHZXbbrstDzzwQO67774ceeSRGTduXF566aWOng8A6GJ2K06WLFmS8ePH5+yzz84/\n",
              "/uM/ZsOGDZk6dWr+9m//tqPnAwC6mHZ/rfO5z30uAwYMyKWXXpqzzz679S9nzj333PzoRz/q8AEB\n",
              "gK6l3XFy55135phjjtnlez/72c/+4oEAgK6t3V/rPPvss3nrrbdaf960aVNuu+22Dh0KAOi62h0n\n",
              "N998c/bdd9/Wn/v375+bb765Q4cCALqudsfJrv482IP4AICO0u44OfDAA3P33Xe3/nzXXXflwAMP\n",
              "7NChAICuq90XxN54440ZP358vvnNbyZJevXqlf/8z//s8MEAgK6p3XHy2c9+Nr/61a+yYsWKJMmo\n",
              "UaM8iA8A6DC79VTiSqWSfv36Zfv27fnNb36TJB/5VGEAgPZod5z8y7/8Sy699NLstdde6dZt5yUr\n",
              "lUolGzdu7PDhAICup91x8p3vfCdLly7NqFGjajEPANDFtfuvdQYMGCBMAICaaXecTJgwITfeeGM2\n",
              "btyYrVu3tr4AADpCu7/W+da3vpUkufzyy1OpVFKtVlOpVNyIDQDoEO2Okx07dtRiDgCAJLvxtU6y\n",
              "8+F/d9xxR5Jk8+bNWb9+fYcOBQB0Xbv14L9/+Id/yFVXXZVk51OJL7jggo6eCwDootodJ7feemv+\n",
              "+7//O3369EmSHHLIIfnd737X4YMBAF1Tu+OkoaEhPXv2bLOsR4/dutEsAMCHtDtOBg4cmJUrV6ZS\n",
              "qSTZecdYt64HADrKbj2V+Ctf+UpeeeWVDB48OH369Ml9991Xi9kAgC6o3XEyfPjwPP3001mxYkWq\n",
              "1aqnEgMAHardcbJ27dokyT777JMknkoMAHSodsfJMccc03pn2Pfeey//+7//m/79+3sqMQDQIdod\n",
              "J//3z4YXLVqUF154ocMGAgC6tt26Q+yfOvvss7N48eKOmAUAoP1nTv70CcQtLS15+umnPZUYAOgw\n",
              "7Y6Tfv36tV5z0r1794wYMSI33XRTLWYDALogTyUGAIryF19zAgDQkdp95qRbt26tt67/U9VqNZVK\n",
              "JS0tLR0yGADQNbU7Tq655pps27Ytl1xySZLklltuSc+ePTNt2rSOng0A6ILaHSf/8R//kWeffbb1\n",
              "5+9+97s55phj8q1vfatDBwMAuqZ2X3Py9ttvt7kb7MaNG/P222936FAAQNfV7jMnV1xxRUaPHp3T\n",
              "Tz89SfLAAw/kqquu6ui5AIAuqt1xMnXq1Bx//PF55JFHkiSXX355DjvssA4fDADomtodJ0nSv3//\n",
              "HHHEETn55JOzffv2/OEPf8inPvWpjp4NAOiC2n3NyU9/+tOMHTs2X/3qV5MkL7/8ciZMmNDRcwEA\n",
              "XVS742T27Nl57rnn0q9fvyTJ6NGj8/rrr3f0XABAF9XuOOnevXv69+/fZpmvdACAjtLuOOndu3d+\n",
              "+9vftt4l9uGHH86+++7b4YMBAF1Tuy+Ivfbaa3PaaadlzZo1OeGEE/Laa69l8eLFtZgNAOiC2hUn\n",
              "O3bsSEtLSx555JE8+eSTqVarOe6441qvP/m/Lr300tx77715/fXXs3z58jQ2NiZJhg0bloaGhvTs\n",
              "2TNJMnPmzJx//vl/0S8CAHwytCtOunXrlilTpuSFF17Iaaed9mfXP/fcc/PNb34zJ5xwwofeu+uu\n",
              "u1pjBQDgj9r9tc6IESOyevXqDB8+/M+ue9JJJ+3WUH+qubk5zc3NbZZ58jEAfHK1O07eeuutNDY2\n",
              "5rjjjsunP/3p1uWLFi1q13YuuuiiVKvVjBkzJnPmzMnAgQN3ud7s2bNz9dVXt1k2duzY9o4NAOwh\n",
              "PnacTJkyJbfeemsmTpyYs846K5/5zGd2e6ePPfZYhgwZkvfffz///M//nIkTJ+b+++/f5bozZ87M\n",
              "5Zdf3mbZlVdeudv7BgDK9rHjZNmyZUmSiRMn5uijj85zzz232zsdMmRIkmSvvfbKtGnTMnLkyI9c\n",
              "t6GhIQ0NDW2Wde/efbf3DQCUrd33OUmSarW62zt89913s3nz5tafFyxYkKOOOmq3twcAfLJ87DMn\n",
              "27Zty0svvZRqtZr33nuv9d9/dOSRR37oM1OnTs3ixYuzYcOGnHrqqendu3cefPDBnHPOOWlpaUm1\n",
              "Ws3BBx+c22+/vWN+GwBgj9euODnrrLNaf/7Tf1cqlaxZs+ZDn5k3b94ut7V8+fL2zAgAdCEfO06a\n",
              "mppqOAYAwE67dc0JAECtiBMAoCjiBAAoijgBAIoiTgCAoogTAKAo4gQAKIo4AQCKIk4AgKKIEwCg\n",
              "KOIEACiKOAEAiiJOAICiiBMAoCjiBAAoijgBAIoiTgCAoogTAKAo4gQAKIo4AQCKIk4AgKKIEwCg\n",
              "KOIEACiKOAEAiiJOAICiiBMAoCjiBAAoijgBAIoiTgCAoogTAKAo4gQAKIo4AQCKIk4AgKKIEwCg\n",
              "KOIEACiKOAEAiiJOAICiiBMAoCjiBAAoijgBAIoiTgCAoogTAKAo4gQAKEpN4+TSSy/NsGHDUqlU\n",
              "8vzzz7cuX7VqVY477riMHDkyxx57bF5++eVajgEA7EFqGifnnntunnjiiQwdOrTN8qlTp2bKlClZ\n",
              "uXJlpk+fnkmTJtVyDABgD1LTODnppJMyaNCgNss2btyYZcuW5cILL0ySnHPOOVm3bl1Wr15dy1EA\n",
              "gD1Ej87e4bp163LggQemR4+du65UKhkyZEjWrl2b4cOHf2j95ubmNDc3t1nW0tLSKbMCAJ2v+Ati\n",
              "Z8+enb59+7Z5PfPMM/UeCwCokU6Pk8GDB2f9+vXZvn17kqRarWbt2rUZMmTILtefOXNmtmzZ0uY1\n",
              "ZsyYzhwZAOhEnR4n++23X44++ujceeedSZKFCxdm0KBBu/xKJ0kaGhrSp0+fNq/u3bt35sgAQCeq\n",
              "aZxMnTo1gwYNyhtvvJFTTz21NUDmzZuXefPmZeTIkZkzZ07mz59fyzEAgD1ITS+InTdv3i6Xjxo1\n",
              "Kk899VQtdw0A7KGKvyAWAOhaxAkAUBRxAgAURZwAAEURJwBAUcQJAFAUcQIAFEWcAABFEScAQFHE\n",
              "CQBQFHECABRFnAAARREnAEBRxAkAUBRxAgAURZwAAEURJwBAUcQJAFAUcQIAFEWcAABFEScAQFHE\n",
              "CQBQFHECABRFnAAARREnAEBRxAkAUBRxAgAURZwAAEURJwBAUcQJAFAUcQIAFEWcAABFEScAQFHE\n",
              "CQBQFHECABRFnAAARREnAEBRetR7AACot2EzFtds201zzqjZtj+pnDkBAIoiTgCAoogTAKAo4gQA\n",
              "KIo4AQCKIk4AgKKIEwCgKHWLk2HDhmXUqFFpbGxMY2Nj7rrrrnqNAgAUpK43YbvrrrvS2NhYzxEA\n",
              "gMIUf4fY5ubmNDc3t1nW0tJSp2kAgFqra5xcdNFFqVarGTNmTObMmZOBAwd+aJ3Zs2fn6quvbrNs\n",
              "7NixnTUiwJ9Vy1ufQ1dUt2tOHnvssbz44ot57rnnMmDAgEycOHGX682cOTNbtmxp8xozZkwnTwsA\n",
              "dJa6nTkZMmRIkmSvvfbKtGnTMnLkyF2u19DQkIaGhjbLunfvXvP5AID6qMuZk3fffTebN29u/XnB\n",
              "ggU56qij6jEKAFCYupw5+e1vf5tzzjknLS0tqVarOfjgg3P77bfXYxQAoDB1iZODDz44y5cvr8eu\n",
              "AYDCuUMsAFAUcQIAFEWcAABFEScAQFHECQBQFHECABRFnAAARREnAEBRxAkAUBRxAgAURZwAAEUR\n",
              "JwBAUcQJAFAUcQIAFEWcAABFEScAQFHECQBQFHECABRFnAAARREnAEBRxAkAUBRxAgAURZwAAEUR\n",
              "JwBAUcQJAFAUcQIAFKVHvQcozbAZi2uy3aY5Z9RkuwDwSePMCQBQFHECABRFnAAARREnAEBRxAkA\n",
              "UBRxAgAURZwAAEURJwBAUcQJAFAUcQIAFMXt6wFgD1Srx60k9X/kijMnAEBRxAkAUBRxAgAURZwA\n",
              "AEURJwBAUcQJAFCUusXJqlWrctxxx2XkyJE59thj8/LLL9drFACgIHWLk6lTp2bKlClZuXJlpk+f\n",
              "nkmTJtVrFACgIHWJk40bN2bZsmW58MILkyTnnHNO1q1bl9WrV39o3ebm5mzdurXNq6WlpbNHBgA6\n",
              "SaVarVY7e6fPPvtsLrjggqxYsaJ12ZgxYzJnzpx88YtfbLPuVVddlauvvrrNss9+9rM57bTTOmXW\n",
              "jtLS0pJnnnkmY8aMSffu3es9Tt04Dh9wLD7gWOzkOHzAsdjpk3Ychg4dmssuu+zPrld8nDQ3N6e5\n",
              "ubnNsoaGhjQ0NHTKrB1l69at6du3b7Zs2ZI+ffrUe5y6cRw+4Fh8wLHYyXH4gGOxU1c9DnV5ts7g\n",
              "wYOzfv36bN++PT169Ei1Ws3atWszZMiQD627J4YIALD76nLNyX777Zejjz46d955Z5Jk4cKFGTRo\n",
              "UIYPH16PcQCAgtTtqcTz5s3LpEmTMmvWrPTp0yfz58+v1ygAQEHqFiejRo3KU089Va/dd7qGhoZ8\n",
              "+9vf7vJfUTkOH3AsPuBY7OQ4fMCx2KmrHoe6XBALAPBR3L4eACiKOAEAiiJOAICiiBMAoCjipJPd\n",
              "dNNNOfzww3PEEUfkyCOPbL3XS1ezePHiHHPMMWloaMi0adPqPU6n81TunS699NIMGzYslUolzz//\n",
              "fL3HqZv33nsvEyZMyMiRIzN69OiMGzdul88a6yq+9KUv5cgjj0xjY2NOPPHELF++vN4j1dX8+fNT\n",
              "qVRyzz331HuUTiNOOtlhhx2WX/7yl3nppZeyePHiTJs2La+++mq9x+p0I0aMyI9//OP80z/9U71H\n",
              "qQtP5d7p3HPPzRNPPJGhQ4fWe5S6mzJlSlasWJEXXngh48ePz+TJk+s9Ut3cfffdefHFF/P888/n\n",
              "8ssv77L/+UiSpqam3HbbbRk7dmy9R+lU4qST/c3f/E369u2bZOdt/A844ICsW7euzlN1vj/+P8Qe\n",
              "Pep2q526ac9TuT/pTjrppAwaNKjeY9Td3nvvndNPPz2VSiVJMnbs2DQ1NdV3qDrq169f67+3bNnS\n",
              "ely6mh07dmTy5Mn5wQ9+0OXuc9L1/pehIEuWLMnvf//7HHvssfUehU60bt26HHjgga1hVqlUMmTI\n",
              "kKxdu9YjHEiSzJ07N+PHj6/3GHV10UUX5ZFHHkmS3H///XWepj6uv/76HH/88TnmmGPqPUqnEycd\n",
              "7K//+q+zatWqXb63fPnyDB48OEny0ksv5atf/Wruuuuu7LPPPp05Yqf4uMcBaGvWrFlZvXp1Hn74\n",
              "4XqPUle33357kuQnP/lJpk+f3uUC5X/+53+ycOHCPPbYY/UepS7ESQf7OLfk/9WvfpUzzzwzP/7x\n",
              "j3PCCSd0wlSdrys9mqC92vNUbrqW6667LosWLcqSJUvSq1eveo9ThIkTJ+biiy/Opk2b0r9//3qP\n",
              "02kef/zxNDU1ZcSIEUmSDRs2ZMqUKVm/fn0uueSSOk9Xe6456WS//vWvc/rpp+fWW2/NuHHj6j0O\n",
              "deCp3OzK9ddfnwULFuShhx5qc81FV7N58+a8+eabrT/fc8896d+/f/bdd986TtX5Lrnkkqxfvz5N\n",
              "TU1pamrK2LFjc+utt3aJMEk8W6fTjRs3LsuWLWvz1wnXXnttTj311DpO1fkefvjhTJw4MVu3bk21\n",
              "Wk3fvn1z880356yzzqr3aJ1ixYoVmTRpUjZt2tT6VO4jjjii3mN1uqlTp2bx4sXZsGFD+vfvn969\n",
              "e3fJC4PfeOONDB48OAcffHB69+6dZOcD355++uk6T9b5Xn/99Zx33nnZtm1bunXrloEDB+a6665L\n",
              "Y2NjvUerq5NPPjnTpk3LhAkT6j1KpxAnAEBRfK0DABRFnAAARREnAEBRxAkAUBRxAgAURZwAAEUR\n",
              "JwBAUcQJAFAUcQIAFEWcAABF+X/DQ0ipUFOoEgAAAABJRU5ErkJggg==\n",
              "\">\n",
              "      </div>\n",
              "      <script type=\"text/javascript\">\n",
              "        (() => {\n",
              "          const chartElement = document.getElementById(\"chart-d08242be-7581-4565-bec6-f68d1e697229\");\n",
              "          async function getCodeForChartHandler(event) {\n",
              "            const chartCodeResponse =  await google.colab.kernel.invokeFunction(\n",
              "                'getCodeForChart', [\"chart-d08242be-7581-4565-bec6-f68d1e697229\"], {});\n",
              "            const responseJson = chartCodeResponse.data['application/json'];\n",
              "            await google.colab.notebook.addCell(responseJson.code, 'code');\n",
              "          }\n",
              "          chartElement.onclick = getCodeForChartHandler;\n",
              "        })();\n",
              "      </script>\n",
              "      <style>\n",
              "        .colab-quickchart-chart-with-code  {\n",
              "            display: block;\n",
              "            float: left;\n",
              "            border: 1px solid transparent;\n",
              "        }\n",
              "\n",
              "        .colab-quickchart-chart-with-code:hover {\n",
              "            cursor: pointer;\n",
              "            border: 1px solid #aaa;\n",
              "        }\n",
              "      </style>"
            ]
          },
          "metadata": {}
        },
        {
          "output_type": "display_data",
          "data": {
            "text/plain": [
              "<google.colab._quickchart_helpers.SectionTitle at 0x7aa60f1cf010>"
            ],
            "text/html": [
              "<h4 class=\"colab-quickchart-section-title\">Categorical distributions</h4>\n",
              "<style>\n",
              "  .colab-quickchart-section-title {\n",
              "      clear: both;\n",
              "  }\n",
              "</style>"
            ]
          },
          "metadata": {}
        },
        {
          "output_type": "display_data",
          "data": {
            "text/plain": [
              "from matplotlib import pyplot as plt\n",
              "import seaborn as sns\n",
              "_df_2.groupby('Split').size().plot(kind='barh', color=sns.palettes.mpl_palette('Dark2'))\n",
              "plt.gca().spines[['top', 'right',]].set_visible(False)"
            ],
            "text/html": [
              "      <div class=\"colab-quickchart-chart-with-code\" id=\"chart-3122c3b0-3cb3-4992-94fe-b9cf664419c3\">\n",
              "        <img style=\"width: 180px;\" src=\"data:image/png;base64,iVBORw0KGgoAAAANSUhEUgAAAjoAAAGZCAYAAACAKJsdAAAAOnRFWHRTb2Z0d2FyZQBNYXRwbG90\n",
              "bGliIHZlcnNpb24zLjEwLjAsIGh0dHBzOi8vbWF0cGxvdGxpYi5vcmcvlHJYcgAAAAlwSFlzAAAP\n",
              "YQAAD2EBqD+naQAAE6lJREFUeJzt3X+s1XX9wPHXgfvdRfPeEIxIiR/FvZQRXBWIlMtNhTJd4lzO\n",
              "74arrGS6OeubW5ttTdwc/pi7pdWmtoUuxZlpjg1ZmhVZ4MAGMlsuIUCUX2XsogEXLry/f7juJILu\n",
              "hXPv4b54PLa7XT7nnntfvPc59/Pc53zOPZVSSgkAgIQG1XoAAIC+InQAgLSEDgCQltABANISOgBA\n",
              "WkIHAEhL6AAAaQkdACAtoQMApHVShM69995b6xEAgBo4KUJn06ZNtR4BAKiBkyJ0AICTk9ABANIS\n",
              "OgBAWkIHAEhL6AAAaQkdACAtoQMApCV0AIC0hA4AkJbQAQDSEjoAQFpCBwBIS+gAAGkJHQAgLaED\n",
              "AKQldACAtIQOAJCW0AEA0hI6AEBaQgcASEvoAABpCR0AIC2hAwCkJXQAgLSEDgCQltABANISOgBA\n",
              "WkIHAEhL6AAAaQkdACAtoQMApCV0AIC0hA4AkJbQAQDSEjoAQFpCBwBIS+gAAGkJHQAgLaEDAKQl\n",
              "dACAtIQOAJCW0AEA0hI6AEBaQgcASKtSSim1HqKvXfuJStwyVdMBQLU1P3Sg1iMclaM/AJCW0AEA\n",
              "0hI6AEBaQgcASEvoAABpCR0AIC2hAwCkJXQAgLSEDgCQltABANISOgBAWkIHAEhL6AAAaQkdACAt\n",
              "oQMApCV0AIC0hA4AkJbQAQDSEjoAQFpCBwBIS+gAAGkJHQAgLaEDAKQldACAtIQOAJCW0AEA0hI6\n",
              "AEBaQgcASEvoAABpCR0AIC2hAwCkJXQAgLSEDgCQltABANISOgBAWkIHAEhL6AAAaQkdACAtoQMA\n",
              "pCV0AIC0hA4AkFafhs78+fNj7969vb7fli1borW1tQ8mAgBOJpVSSumzb16pxM6dO2Po0KGHbO/q\n",
              "6oq6urq++rGHufYTlbhlqpNXAFBtzQ8dqPUIR9VnR//rr78+IiJaW1ujpaUlLr300vjqV78aM2fO\n",
              "jIkTJ0ZExNy5c2PKlCkxadKkuOyyy2Lbtm0REbFx48ZD4qhSqcSCBQti2rRpMW7cuFi4cGFfjQ0A\n",
              "JNJnoXP//fdHRMQLL7wQa9asiREjRsQf//jHWLJkSbz66qsREfH9738/XnrppVi7dm20trbG/Pnz\n",
              "j/j96uvrY+XKlbF06dK46aaboqur6z9+XWdnZ+zateuQjwMHq/7fAwAGgP57/igirrrqqmhoaOj+\n",
              "96JFi+KnP/1p7N27N/bu3RtnnHHGEe87d+7ciIj42Mc+FnV1dbFt27YYNWrUYV93xx13xG233XbI\n",
              "tslH/rYAQGL9euHKaaed1v3573//+7jvvvvimWeeiVdeeSXa29uPeuHykCFDuj8fPHjwEc/o3HLL\n",
              "LdHR0XHIxyShAwAnpT49o9PQ0BAdHR2HXYwcEbFz585oaGiI4cOHx759++KBBx6oys+sr6+P+vr6\n",
              "Q7YNdh0yAJyU+jQBbr755pg9e3a0tLTEjh07DrntkksuiQkTJsSECRO6L1gGAKimPn15+YnCy8sB\n",
              "oG+ctC8vBwCoNaEDAKQldACAtIQOAJCW0AEA0hI6AEBaQgcASEvoAABpCR0AIC2hAwCkJXQAgLSE\n",
              "DgCQltABANISOgBAWkIHAEhL6AAAaQkdACAtoQMApCV0AIC0hA4AkJbQAQDSEjoAQFpCBwBIS+gA\n",
              "AGkJHQAgLaEDAKQldACAtIQOAJCW0AEA0hI6AEBaQgcASEvoAABpCR0AIC2hAwCkJXQAgLSEDgCQ\n",
              "ltABANISOgBAWkIHAEhL6AAAaQkdACCtuloP0B9O/9z/RXN7e63HAAD6mTM6AEBaQgcASEvoAABp\n",
              "CR0AIC2hAwCkJXQAgLSEDgCQltABANISOgBAWkIHAEhL6AAAaQkdACAtoQMApCV0AIC0hA4AkJbQ\n",
              "AQDSEjoAQFpCBwBIS+gAAGkJHQAgLaEDAKQldACAtIQOAJCW0AEA0hI6AEBaQgcASEvoAABpCR0A\n",
              "IC2hAwCkJXQAgLSEDgCQltABANISOgBAWkIHAEhL6AAAafU6dH7yk5/0aBsAQK31OnR++MMfHrbt\n",
              "Rz/6UVWGAQCoprqefuHKlStjxYoV8be//S3uu+++7u0dHR3R2dnZJ8MBAByPHofO1q1bY82aNbF7\n",
              "9+5YvXp19/bGxsZ46KGH+mI2AIDj0uPQmTNnTsyZMyeWLl0an//85/tyJgCAquhx6Cxbtiza2tpi\n",
              "//79sXjx4sNuv/zyy6s6GADA8epx6DzyyCPR1tYW3/ve9w67rVKpCB0A4ITT49D58Y9/HBERv/nN\n",
              "b/psGACAaupx6Kxdu/aot0+aNOm4hwEAqKZeXYx8JJVKJf76179WZSAAgGrpcehs2LChL+cAAKi6\n",
              "HofOe7344ovxq1/9KiqVSsyaNSs+9alPVXsuAIDj1uu3gLjnnnvi6quvjrfeeiv+/ve/x9VXXx3t\n",
              "7e19MRsAwHGplFJKb+7Q3NwcK1asiOHDh0dExD/+8Y+YPn16/OUvf+mTAavhW9/6lhgDgJNQr8/o\n",
              "NDY2dkdORMSwYcOisbGxqkMBAFRDr6/Rueiii+IrX/lKfO1rX4uIiIceeihmzZrV/fJzLzMHAE4U\n",
              "vQ6dJ554IiLefUuISqUS/3rm6/HHH/cycwDghNLr0PnXy8zXr18fixcvjvHjx8cXvvCFqg8GAHC8\n",
              "enyNzqxZs2LNmjUREbFly5aYOnVqPPvss/Htb3877rrrrr6aDwDgmPU4dN58881oaWmJiIhFixZF\n",
              "W1tbLF26NJYvXx6PPvpoX80HAHDMehw6p5xySvfny5cvj0svvTQiIk4//fSoqzumvzsIANCnehw6\n",
              "gwYNijfeeCPeeeedWLZsWbS1tXXftnv37j4ZDgDgePT4VMx3vvOdOOecc6Kuri4uvPDCaG5ujoh3\n",
              "z+6MHTu2r+YDADhmPQ6dK6+8Ms4///zYvn37IX8rZ+zYsfHggw/2yXAAAMejVxfXjBw5MkaOHHnI\n",
              "tjPPPLOqAwEAVEuv3wICAGCgEDoAQFpCBwBIS+gAAGkJHQAgLaEDAKQldACAtIQOAJCW0AEA0hI6\n",
              "AEBaQgcASEvoAABpCR0AIC2hAwCkJXQAgLSEDgCQltABANISOgBAWkIHAEhL6AAAaQkdACAtoQMA\n",
              "pCV0AIC0hA4AkJbQAQDSEjoAQFpCBwBIS+gAAGkJHQAgLaEDAKQldACAtIQOAJBWpZRSaj1EXzvt\n",
              "c1Nj6P9efMTb37j2zn6cBgDoL87oAABpCR0AIC2hAwCkJXQAgLSEDgCQltABANISOgBAWkIHAEhL\n",
              "6AAAaQkdACAtoQMApCV0AIC0hA4AkJbQAQDSEjoAQFpCBwBIS+gAAGkJHQAgLaEDAKQldACAtIQO\n",
              "AJCW0AEA0hI6AEBaQgcASEvoAABpCR0AIC2hAwCkJXQAgLSEDgCQltABANISOgBAWkIHAEhL6AAA\n",
              "aQkdACAtoQMApCV0AIC0hA4AkJbQAQDSEjoAQFpCBwBIS+gAAGn1a+jMnz8/9u7dW7P7AwAnl0op\n",
              "pfTbD6tUYufOnTF06NB+vf9pn5saQ//34iPe/sa1dx7TPADAia3fzuhcf/31ERHR2toaLS0tsWnT\n",
              "prjuuuti2rRpMWnSpJg3b17s27cvIiJuv/32+PjHPx4tLS3dX/vv99+xY0d/jQ4ADFA1O6Mzb968\n",
              "mDFjRnzpS1+KUkpcd911MWHChPj6178e48aNi61bt8Ypp5wSu3fvjkGDBsWQIUN6dEans7MzOjs7\n",
              "D9l25pUXxdC5s454H2d0ACCnulr94KeffjpWrFgR7e3tERGxZ8+eGDx4cDQ2NkZTU1Ncc8018dnP\n",
              "fjYuu+yyGDVqVI+/7x133BG33XbbIdv+5yNnVnV2AGBgqNkZnQ984APxhz/8IZqbmw/7ugMHDsTy\n",
              "5cvjt7/9bTzwwAPx2GOPRWtrqzM6AECv9OurrhoaGqKjoyMiIq644oq46667oqurKyIidu7cGevW\n",
              "rYu33347tm/fHq2trfHd7343ZsyYEatXrz7s/kdSX18fjY2Nh3zE4Erf/scAgBNSvz51dfPNN8fs\n",
              "2bPj1FNPjcWLF8fdd98dLS0tMWjQoKirq4u77747hgwZEl/84hfjn//8Z1QqlWhqaoovf/nLh93/\n",
              "2WefjREjRvTn+ADAANOvT13VipeXA8DJyV9GBgDSEjoAQFpCBwBIS+gAAGkJHQAgLaEDAKQldACA\n",
              "tIQOAJCW0AEA0hI6AEBaQgcASEvoAABpCR0AIC2hAwCkJXQAgLSEDgCQltABANISOgBAWkIHAEhL\n",
              "6AAAaQkdACAtoQMApCV0AIC0hA4AkJbQAQDSEjoAQFpCBwBIS+gAAGkJHQAgLaEDAKQldACAtIQO\n",
              "AJCW0AEA0hI6AEBaQgcASEvoAABpCR0AIC2hAwCkJXQAgLSEDgCQltABANKqq/UA/WHeJ1qj/do7\n",
              "az0GANDPnNEBANISOgBAWkIHAEhL6AAAaQkdACAtoQMApCV0AIC0hA4AkJbQAQDSEjoAQFpCBwBI\n",
              "S+gAAGkJHQAgLaEDAKQldACAtIQOAJCW0AEA0hI6AEBaQgcASEvoAABpCR0AIC2hAwCkJXQAgLSE\n",
              "DgCQltABANISOgBAWkIHAEhL6AAAaQkdACAtoQMApCV0AIC0hA4AkJbQAQDSEjoAQFpCBwBIS+gA\n",
              "AGkJHQAgLaEDAKQldACAtIQOAJCW0AEA0hI6AEBaQgcASEvoAABpCR0AIK26Wg/Q1zo7O2Pp0qVx\n",
              "4MCBGDx4cK3HGbAOHDgQK1eujGnTplnH42Qtq8M6Vod1rA7rWB3/vo5jxoyJb3zjG8f1PSullFKl\n",
              "+U5Iu3btive///3R0dERjY2NtR5nwLKO1WMtq8M6Vod1rA7rWB19sY6eugIA0hI6AEBaQgcASCt9\n",
              "6NTX18ett94a9fX1tR5lQLOO1WMtq8M6Vod1rA7rWB19sY7pL0YGAE5e6c/oAAAnL6EDAKQldACA\n",
              "tFKHzmuvvRbnn39+NDc3x9SpU+NPf/pTrUcaEPbu3RtXXHFFNDc3x+TJk2P27Nmxbt26iIjYsWNH\n",
              "XHLJJdHU1BQTJ06M3/3udzWedmBYuHBhVCqVePrppyPCOvZWZ2dn3HjjjdHU1BSf/OQn45prrokI\n",
              "j/Fj8cwzz8S5554bLS0tMXHixHj44Ycjwj7539x0000xduzYqFQqsWbNmu7tR9sH7Z+H+0/reLRj\n",
              "TkQV9s2S2IUXXlgWLlxYSinliSeeKFOmTKntQAPEnj17ypIlS8rBgwdLKaX84Ac/KG1tbaWUUq69\n",
              "9tpy6623llJKWblyZTnrrLPKvn37ajTpwLBhw4by6U9/ukyfPr384he/KKVYx9765je/WW688cbu\n",
              "fXLr1q2lFI/x3jp48GA5/fTTy8svv1xKeXffrK+vL7t27bJP/hfLli0rmzdvLmPGjCmrV6/u3n60\n",
              "fdD+ebj/tI5HO+aUcvy/L9OGzvbt20tDQ0PZv39/KeXdB/gHP/jB8tprr9V4soFn1apVZcyYMaWU\n",
              "Ut73vvd1H2RKKWXq1Knlueeeq9FkJ74DBw6Uiy++uLz00kulra2tO3SsY8+98847paGhoXR0dByy\n",
              "3WO89w4ePFiGDRtWli1bVkop5eWXXy5nnnlm6ezstE/20HsP0EfbB+2fR/fvwfhe7z3mlHL8vy/T\n",
              "PnW1efPm+NCHPhR1de++b2mlUonRo0fH66+/XuPJBp5777035syZE2+99Vbs378/Ro4c2X3b2LFj\n",
              "relRtLe3xwUXXBDnnXde9zbr2Dvr16+PYcOGxYIFC2LKlCnR2toazz//vMf4MahUKvH444/HlVde\n",
              "GWPGjIkZM2bEww8/HG+//bZ98hgcbR+0fx67fx1zIqrz+zL9u5dzfBYsWBDr1q2L559/Pvbs2VPr\n",
              "cQaUV155JZ588knXOhynrq6u2LRpU5x99tlx5513xurVq2P27NmxZMmSWo824HR1dcXtt98eTz31\n",
              "VMycOTNWrVoVl19++SHXnEAtvfeYUy1pz+h8+MMfjq1bt0ZXV1dERJRS4vXXX4/Ro0fXeLKB4557\n",
              "7omnnnoqli5dGqeeemoMHz486urqYtu2bd1fs3HjRmt6BC+88EJs3LgxmpqaYuzYsfHiiy/GvHnz\n",
              "4mc/+5l17IXRo0fHoEGDYu7cuRERcc4558S4ceNi06ZNHuO9tGbNmtiyZUvMnDkzIiKmTp0ao0aN\n",
              "irVr19onj8HRjjOOQb3378eciKjKcSdt6IwYMSLOPffceOSRRyIi4sknn4xRo0bF+PHjazzZwNDe\n",
              "3h6PPfZYPPfcczF06NDu7VdddVXcf//9ERGxatWqePPNN6Otra1GU57Ybrjhhti6dWts3LgxNm7c\n",
              "GNOnT48HH3wwbrjhBuvYC2eccUZcfPHF8ctf/jIiIjZs2BAbNmyICy64wGO8l/518P3zn/8cERHr\n",
              "1q2L9evXx4QJE+yTx+BoxxnHoN450jEnogrHnWO5iGigePXVV8v06dNLU1NTOe+888ratWtrPdKA\n",
              "sHnz5hIR5SMf+UiZPHlymTx5cpk2bVoppZRt27aV2bNnl/Hjx5ezzz67/PrXv67xtAPHey9Gto69\n",
              "s379+vKZz3ymTJw4sUyaNKn8/Oc/L6V4jB+LRYsWda/jxIkTy6OPPlpKsU/+N/PmzStnnXVWGTx4\n",
              "cBkxYkT56Ec/Wko5+j5o/zzcf1rHox1zSjn+fdN7XQEAaaV96goAQOgAAGkJHQAgLaEDAKQldACA\n",
              "tIQOAJCW0AEA0hI6AEBaQgcASEvoAABpCR0AIK3/B1ANvT8I9yepAAAAAElFTkSuQmCC\n",
              "\">\n",
              "      </div>\n",
              "      <script type=\"text/javascript\">\n",
              "        (() => {\n",
              "          const chartElement = document.getElementById(\"chart-3122c3b0-3cb3-4992-94fe-b9cf664419c3\");\n",
              "          async function getCodeForChartHandler(event) {\n",
              "            const chartCodeResponse =  await google.colab.kernel.invokeFunction(\n",
              "                'getCodeForChart', [\"chart-3122c3b0-3cb3-4992-94fe-b9cf664419c3\"], {});\n",
              "            const responseJson = chartCodeResponse.data['application/json'];\n",
              "            await google.colab.notebook.addCell(responseJson.code, 'code');\n",
              "          }\n",
              "          chartElement.onclick = getCodeForChartHandler;\n",
              "        })();\n",
              "      </script>\n",
              "      <style>\n",
              "        .colab-quickchart-chart-with-code  {\n",
              "            display: block;\n",
              "            float: left;\n",
              "            border: 1px solid transparent;\n",
              "        }\n",
              "\n",
              "        .colab-quickchart-chart-with-code:hover {\n",
              "            cursor: pointer;\n",
              "            border: 1px solid #aaa;\n",
              "        }\n",
              "      </style>"
            ]
          },
          "metadata": {}
        },
        {
          "output_type": "display_data",
          "data": {
            "text/plain": [
              "<google.colab._quickchart_helpers.SectionTitle at 0x7aa5e473efd0>"
            ],
            "text/html": [
              "<h4 class=\"colab-quickchart-section-title\">2-d distributions</h4>\n",
              "<style>\n",
              "  .colab-quickchart-section-title {\n",
              "      clear: both;\n",
              "  }\n",
              "</style>"
            ]
          },
          "metadata": {}
        },
        {
          "output_type": "display_data",
          "data": {
            "text/plain": [
              "from matplotlib import pyplot as plt\n",
              "_df_3.plot(kind='scatter', x='Frames', y='Z-Score', s=32, alpha=.8)\n",
              "plt.gca().spines[['top', 'right',]].set_visible(False)"
            ],
            "text/html": [
              "      <div class=\"colab-quickchart-chart-with-code\" id=\"chart-0a7b75f9-b2de-4f42-85e3-2ab4fff3a66b\">\n",
              "        <img style=\"width: 180px;\" src=\"data:image/png;base64,iVBORw0KGgoAAAANSUhEUgAAAi0AAAGkCAYAAAD9vhX/AAAAOnRFWHRTb2Z0d2FyZQBNYXRwbG90\n",
              "bGliIHZlcnNpb24zLjEwLjAsIGh0dHBzOi8vbWF0cGxvdGxpYi5vcmcvlHJYcgAAAAlwSFlzAAAP\n",
              "YQAAD2EBqD+naQAARGFJREFUeJzt3XuUXGWd//vPvtSlu6u7yT1ASKK5MCMJBEJiElBUDkjQEX8i\n",
              "4vEXFda4UEaHcTGzhuEMHpYzDlmzxgk/BS8wjmEwyDj8UOAI+huYMV4gJIDBGFSgIVdy63SSvlR3\n",
              "7aq993P+qEu6uqs71Ul3V+3O+7VWQ7qquup5klTtT57L97GMMUYAAAB1zq51AwAAAKpBaAEAAJFA\n",
              "aAEAAJFAaAEAAJFAaAEAAJFAaAEAAJFAaAEAAJFAaAEAAJEQ+dDyta99rdZNAAAA4yDyoWXXrl21\n",
              "bgIAABgHkQ8tAADg9EBoAQAAkUBoAQAAkUBoAQAAkUBoAQAAkUBoAQAAkUBoAQAAkUBoAQAAkUBo\n",
              "AQAAkUBoAQAAkUBoAQCgDmVygQ73eMrkglo3pW64tW4AAAA4rr3b04bnd+qn2w+qLxeoIeZo9aKZ\n",
              "WrNyjqamErVuXk0x0gIAQJ1o7/b05w9v1UObdyvt+XJtS2nP14bNu/SF72/V4R6v1k2sKUILAAB1\n",
              "YsPzO9V2qFvTUglNaoqrKeFqUlNc01IJtR3q1oZNu2rdxJoitAAAUAcyuUA/3X5QSdeR65Rfnl3H\n",
              "VsJ19JNXDpzWa1wILQAA1IEez1dfLlDcrXxpTri2+rKBejx/nFtWPwgtAADUgVTCVUPMUdYPK97v\n",
              "+aEa4o5SidN3Dw2hBQCAOpCMObpq0Qxl/EB+UB5c/CCU5wdafd5MJWNOjVpYe6dvXAMAoM58cuVc\n",
              "bd5xVG2HupVwHSVcW56fDywLpjdrzco5tW5iTTHSAgBAnZiaSujeT1yoNe+co1TSlR8apZKu1rxz\n",
              "ju75xIWnfZ0WRloAAKgjU1MJffGKhfrce+apx/OVSrin9ZRQf4QWAADqUDLmEFYGYHoIAABEAqEF\n",
              "AABEAqEFAABEAqEFAABEAqEFAABEAqEFAABEAqEFAABEAqEFAABEAqEFAABEAqEFAABEAqEFAABE\n",
              "Qt2ElvXr18uyLD322GO1bgoAAKhDdRFadu7cqX/5l3/RihUrat0UAABQp2oeWsIw1Gc+8xndc889\n",
              "SiQSwz7W8zx1dXWVfQVBME4tBQAAtVTz0LJu3TpdcsklWrp06Qkfu3btWrW2tpZ9bdmyZRxaCQAA\n",
              "aq2moWX79u169NFHdccdd1T1+Ntvv12dnZ1lX8uXLx/jVgIAgHrg1vLFf/nLX2rnzp1asGCBJOnA\n",
              "gQO66aabtH//ft18882DHp9IJAZNITmOMy5tBQAAtVXTkZabb75Z+/fv186dO7Vz506tWLFC999/\n",
              "f8XAAgAATm81X9MCAABQjZpODw20cePGWjcBAADUKUZaAABAJBBaAABAJBBaAABAJBBaAABAJBBa\n",
              "AABAJBBaAABAJBBaAABAJBBaAABAJBBaAABAJBBaAABAJBBaAABAJBBaAABAJBBaAABAJBBaAABA\n",
              "JBBagDqXyQU63OMpkwtq3RQAp5F6/Oxxa90AAJW1d3va8PxO/XT7QfXlAjXEHK1eNFNrVs7R1FSi\n",
              "7LGZXKAez1cq4SoZc2rUYgATwUg+e8YboQWoQ+3dnv784a1qO9StpOso7tpKe742bN6l53cc0b2f\n",
              "uFBTU4m6/nABED3VfvbUCtNDQB3a8PxOtR3q1rRUQpOa4mpKuJrUFNe0VEJth7q1YdOu0ofLQ5t3\n",
              "K+35cm2r9OHyhe9v1eEer9bdAE5b9Ti1Uo1qPntqiZEWoM5kcoF+uv2gkq4j1yn/d4Xr2Eq4jn7y\n",
              "ygHlgrD04VJ8XFNC8gu3b9i0S1+8YmEtulCV8ZrSYuoM4ynKo5/VfvZ87j3zavZeIrQAdabH89WX\n",
              "CxR3j39ohMYoNEa2ZSnh2ur1fP2fVw7U9YfLUMbrQz3KFw9EU71PrZxIpc+e/hKurb5s/h8Btfpc\n",
              "YXoIqDOphKuGmKOsH8oPQh3syqjtUI/eOJRW26Eetfd4cmxLnh9W9eFST8ZrSoupM9RCvU+tnEj/\n",
              "z55KPD9UQ9xRKlG78Q5CCyIjqnPE1Sr2T5KuWjRDvblAuzrSOpLOKjRGsqQgDNWT8ZX1QyVcu64/\n",
              "XCoZrw/1qF88ED3VTq3U8+dXMuboqkUzlPED+UH5Z4sfhPL8QKvPm1nT0dv6+kQDKpjow/yV+nfZ\n",
              "wqmKu5aOpkM5tiVLlowxMrLUELeVyQU6Z1KD3jicVtYPZNuWbCv/Vfxwue68WXU1NTRe8+VRmJfH\n",
              "xBOFqZVqfHLlXG3ecVRth7qVcB0lXFuen/9MWTC9WWtWzqlp+wgtqGtRmyMe6aLPofr36K/fUjrr\n",
              "qzHuyA+NjJFsy9KkxpimNMXVlfF1oNtTwrXVdigtSbLt/L+UYo6tc2fU/sNloPH6UJ8oFw9ES3Fq\n",
              "Je35aqrwkeT5oVJJt+5GPweamkro3k9cqA2bduknrxxQXzZQKunquvNm1cU/FOv7dw+nvf7D/PWw\n",
              "Q2aoUFJptOSKd0zXh5acrdmTG4e8OA7Vv4acr6O9WbUkY5o7tUFhaEqjKZLk2JYOdGbUEHfUGHeU\n",
              "8QOFRurN+prZ0qAvX3Ne2YdLPeygGa8P9Yly8UC0FKdWHtq8W34Qlo3y1evo51CmphL64hUL9bn3\n",
              "zKv558ZAvGtRt+ppmH+4KSpjVDZa4tiW9nX26Vsb39S//HKHZk1q0J+cf9agf6UM17+468i2rNJC\n",
              "2oH3H0l78gOjGc0JxV0nv7sozO8w6khn9dS2/Vp4RXNdTa2N14f6SF6nHsIcJo56n1oZqWTMqbv3\n",
              "BaEFdatehvlPNEW1+OyW0miJJO0+0ivPD2VZRn5gdKjLqzidNVz/bMtSKuGqK5NTNhcoGT/+Vs36\n",
              "gfpygRoTruKuU3q87ViF35d8mPvoxbP0V49sq6uptfH6UD/R66xefKbufvrVughzmDjqfWplIiC0\n",
              "oG7VyzD/cFNUrx/s0usHu9UQy4+WHOzKyPNDubYly7Llh6GyQaizzkgOms46Uf8a4o48P9SR3qyS\n",
              "ubB04e3L+nJtW5Ob4hXbWwxz//ZcfU2tSeP3oT7c66xefKbufOKVugpzmDjqeWplIiC0oGZONDRf\n",
              "7TC/JB3u8Ub9wyGTC9SR9vST7UMXcYs5jjrSnloaXIXGqLMvJ8uSrMLak/yuHxWKwpVPZ52of7kg\n",
              "1CdXzFZj3C278P6PJWfpp68cUCY39HbnxoSjn716SDHblm1bg9pdyx004/WhPtTr3P30q3UX5jDx\n",
              "1OPUykRAaMG4G8k6i+GG+edMblI66+uae58d1SH+/u3r8Xwd6s4olXDV3ODKtcuDSzKW/z6TC5WM\n",
              "5Xf5FAOLJBnlq9jatlVxOutE0xg3XTZPU1OJQRdex7Eqhp2sHyjt5TQtFdMr+7tljHSkN6vWhvyu\n",
              "o+Jj62EHzXh9qPd/nXpaJwVg5Cguh3E10kqlxWH+Ne+co1TSlR+awmjD2ZIl/WjrW6Na8XRg+2JO\n",
              "fqSksy+n3R298sPy0Y1cYNScdJX1Q4WhkWVJxhhJ+f+HRmptiMm2rIoF34bq35p3ztE9/aYpkjFH\n",
              "U1OJsrAzf3qz2ns8HUln1dmX047DPXr9UI86+3z99q2uwlbp44tzdx/pLRWMqtfic2NtJOukANSf\n",
              "0+sTCzV3MluYKw3zf2tjm3Z1pEd9iL9S+yY1+jqSzuWni3qymtGSlHR8iuqjF83Stre61HaoW/HC\n",
              "uUA5E8pISrq2pjTFh90dU6l/Uv4Cm8kFFf/F33/Nxv+3bZ/2Hu2THxg5tqWgEJ4sIwVGci1LjiVl\n",
              "/FAd6aymNMUjtf1yNNXLOikAJ4d3JsbNqQ7NF4f5x2qIf6jnnZpKqDeb37FzJJ1VU9xRNjBlUziS\n",
              "tGHTLv142z7t8UP5YajGmKvJhUJw1eyOScYcdWd8fWtjW1VTZ8WwkwtCPfzCHk1pimn3kT7Jllzb\n",
              "VmiMsn5+IbBbWNdyJJ1VEIZaOKOlrC2ny9bfiVRLAzgdEVow5ooXRC8XjMoW5tHcCt3/Yj3U87qO\n",
              "rdmTG7W/M6N01lc2MBV3vBRHS3Yf6dUTW9/S0384NKLdMSdT/TeTC/TM7w+pMebIte38mhrlA4pt\n",
              "WXIdS2FhIbAx+RGYay+aVVorU091XMbLRKulAZxOCC0YMwMviInCRTju2mqqMPxe7dD8aAzxV2rb\n",
              "uxZMkWNLWT8c9Lyuk2/ztJaEHrhhmab0W1/SXzLmaOGMZv3VVX+kL1y+oKrRi2JweuDZN0c8ddY/\n",
              "aNm2JctS/nDFQnCxLEuOpLlTm9TVl1Nz0tWtV56rZMyJ3BEJo4VaGkB0EVowJipdEPuygXqzvroy\n",
              "RqmEo2Ts+F+/kQzNn+oQf/+2xWxbfTlfPV6gN9p78qMTtqWGmF1W0K30vEtn6exJjVX9Hpxod0z/\n",
              "4NSb9XWw21PCGTx6NNyUV3mAc9WSdHWkN1cYVcmPrtj51cHKBaGuXnRm6efr7YiE8UQtDSCa2D2E\n",
              "MdH/gjipKa6mhKtJTXHNOqNBxkhvHcvoSDqrtOfrSDqr9h5vREPzA3fPjOR5im2b1BBTVyanbi+Q\n",
              "ZUmubSkwRtkg1I6OXrV3eyfdvhMZuEvJti0FgVFv1i/b5VM01K6WgUfJT00llHRt5cJ8SAlDo7hr\n",
              "qyOdLWt/teuCMrlgVPpbrwbuygJQ3xhpwagb7oKYjLuamkooF4RqSjjK5MKTGpo/2SH+/m071pdT\n",
              "xg8Vs61SbRWjUJYkx7aVC0L5oT3qUweZXKD7f9Gm1w92aXpzUq6TXzTrOvmdP8VdPsVdStLwU14D\n",
              "12hMTSV0JJ1Vb86X69ia0ZzQBwecfVQvRyQAwEgQWjDqTnRBbIw78kNb629cpoTrlA3Nj2QXy8kM\n",
              "8Rfb5jqW2nt82VZ5MTjLsiQjndEYU3PS1fobl2lK0/D/Eq+2zcXpoJ9sP6Adh9MyRnLsbKnoW2tD\n",
              "TEfSWVnK14WZ1pyQbVknnPKqFODOmtSgK/5ouj50YeVTptn6CyCK+ETCqBt4QSyeQGzbVqnIWirp\n",
              "loWBU9nFMpLKqsW2dfXlynbaFBXXgCRdW5lcqIQ79HOPpM1l62ic/C4fI6mjMLU1e3KjJjXF1JPJ\n",
              "KZPL13jpyfjyQ1O2q2WogDTSAFfNuqD/8cdnlaajGG0BUA8ILRh1xQvi9zbtKi1yzZe3l5oT+TN6\n",
              "rls6qyywDLeL5Z8/dv6gEZlTbduG53cN2mljTL4Mf2tjrLStOWZbFc81GunOm/5rfGzb0pF0VqEx\n",
              "cixLfblAuzrSCkyhPYWqurkgVHNDrHDI30x9b9OJA9JIAtxQW3/7coEa47Z+sv2AnvjN/tNiGzSA\n",
              "aKiL0HLllVfqwIEDsm1bzc3N+vrXv64LL7yw1s3CKbh68Zla/+xOdWcKUzC2JRPky8k3J11dff6Z\n",
              "pccOtYslk/X1mz1H9aF7nlVTYYRkNC6exYv1b/YcVS4wkvKLXo3Jr+VobXDVkc5p1qSkPnbf8xVD\n",
              "wkh23lRa41OcCjLKB6XeXCjXsUor4xOuozPPaNDXP75EcdcZk63JlaaVGgpnKfV6vmSs02YbNIBo\n",
              "qIvdQ//xH/+hbdu26eWXX9att96qG264odZNwil66rf75Tp2ab2GJZV9/9S2/ZKGXrSbC0Lt68zI\n",
              "80N19uXk2BqVs4Wk4xfrT66Yo7hryw/y01ephKuWhpg60jn5QajXD/ZUPNforWO9I9p5U2mNz5RU\n",
              "XAnXVjYwMsUbjRQaqSHmaNakpHZ1pPXIi3uH3Ik1LZUoBaRT+b344hUL9fjnL9EP/2yV3n/eDHl+\n",
              "oBktyVF/LQA4VXURWs4444zSrzs7O8sWRvbneZ66urrKvoJgYm/JjKJMLtBPth+Qa+v4BbmgeNpx\n",
              "8aI+1KLdjh5PGT+UU1gHk4w5VV08M7lAh3u8E27VNUZqiDs664wGpZKunMIOnsa4owXTm+Ta1qAL\n",
              "95SmuF470KV//eWbIzp0r7iOJusf38bs2rZmTW6QXSivn9+xZGlyU1yzpzQqGXOVcB09tX2/nvrt\n",
              "gTHfmpyM5affnvl9+2m/DRpA/aqL6SFJ+tSnPqWf/exnkqSnnnqq4mPWrl2rL3/5y2W3rVixYszb\n",
              "huq1d3v6X0+/prZDPQr7JRbbkmTlz75xC0GkuGB04C6W0Bh1FaaVpPxaGLsQZIcqtHayi2KTrqNp\n",
              "qYQyfqBMLtTkxrgO92TVGHdLF+5cEKqjx1NXYWHshs17lEo4SjhOVZV9h1r0asuSbUnGkiY3xTWj\n",
              "JVnqp6RCBeGg9OtKRnNrMtugAdS7uhhpkaQHH3xQe/bs0Ve+8hXddtttFR9z++23q7Ozs+xr+fLl\n",
              "49xSDKW929PnNrykH7y4uyywSPlpj8DkTyHOBqEyuaC0uLV/cTRJCkNT2NmTHxFpbYgNupj3H8kY\n",
              "WKht4HTOwKmkStMtU5oSmtGc0BuH02rv9koX7lwQas+RXh3pzRUW7Rr5fqhez1d7j6dMtrzYW3Hn\n",
              "zerzZpZd2CsVw+vsyz+na1ul7c39eX6+lk1jvHyUZuBjGuLOoK3J1Y449VdpRKia1wKA8VI3oaXo\n",
              "05/+tH72s5+po6Nj0H2JREItLS1lX47Dv/jqxYbnd+r3+7oGBZai0GhQpVdp8AW9LxcoNEZ+aJRw\n",
              "bU1JxcseP/DiOZI1HyeqBJuM2cr4obzCxb44TeVa+TAVhPllu2Fhp8+eo71VVeQtrqNZ8845SiVd\n",
              "+aFRc0NMF8+epFQyNmgerRh+rl50pq5ePLMs1A18TP+A1N7t6e6nX9U19z6rj3zzOV1z77P6X0+/\n",
              "VtUaoEoBcrjXAoDxVvN/Mh07dky9vb0666yzJEmPPfaYpkyZosmTJ9e4ZRiJ4jqWbJBfhxIGlZNL\n",
              "YKSkaysZc0rTDJV2sbQ0uMpkQ511RlKuPfTZQsXXjTl2aX1IUaWppBNNgSRdR0nXVl8uUNYP1JXx\n",
              "ZckoF6oUxhzreMbwQykes+QPcfJzf5VqqfR4vr7w/a0nPHG4mlOJR+MARE5ABlDPah5aOjs7dd11\n",
              "16mvr0+2bWvatGn68Y9/PORiXNSnHs8vrb+wLEuWzKBFuFJ+aK854SoZsxXrFzKmphL63Hvm6bqL\n",
              "ZxXmhaS/fGRb4eIZVrx4tnd7uv8XbaXqskfSWbU2xDQlFS8FnYHrMKqpBDu9OaHJTflRGj80CsPj\n",
              "IcW2pJhrF4rShQpCo/cunK4/e+/8quvI9K+lkow5VR1HUM1jRuMARE5ABlDPLGPMEIP50XDrrbdq\n",
              "3bp1tW7GaS+TC/She3+lN9vTKhwqLD80xfxRYktSocjczNYGrV40U6sXn6mnfrtv0CLaq88/U09t\n",
              "23+8hkjc0erz8otrjZH+/OGtev1glzr7fBnlA0Wx1srsKY1ybVtH0lmlkq4e//wlpaBw99Ov6qHN\n",
              "u8su7lL+4t7e42nNO+dozco5euBXO3TfL98s1HLJH6joOlapiq4fhjJGevu0Jj3xhUtPedqkmuMA\n",
              "hnpMJhfomnufVdrzNakpPujnKv0+jEZ7AGA81XykBRNDshA0/uUXO+T5QekQwEELciXFbUtnNMWV\n",
              "9nw9+PwufffZHXJtS41xt+KURqXS9Hc//araDnVrenNStuXpSG9OjmVJVn60pKMnf6ZPpTN7qpkC\n",
              "mZpK6K+u+iOls77+bdMuObZVNk1VrJ6bSrjK5MJR2VFTTTXboR4zFjt/RlJdFwDGQ90txEV0fXLl\n",
              "XP3xWS2ybUu5IFSlCb6ka2vOlEa1JGOa1BSXLRWq5loVF9E+8KsdgwLLwMW0U1MJJV1budAoMEZG\n",
              "RkfSWR0awaLYVNLVmnfO0T0D1n185t1vV8J1FIRGfhgqMPn/FxcJN8SduthRw84fAKcDPsEwaqam\n",
              "Errvk0t1/8/f0CMv7dWx3pwklcKLZUm50GjfsYxmT26UbVvq9vL1WLo9XzMKhxVK+SmlTC7Q/b/a\n",
              "ocd/s0+NcbdUd0VS2aiC69iaPblRHemsOosHIVrStReerZsum1f1othKowpnn9GoNStm66Hnd8sv\n",
              "LG6xLUutjTG1Nrg62purix011RyAONQp0QAQFYQWjKqpqYT+nw+8QzHH0ve37NHkpphcx9GO9rRk\n",
              "5Yf2Mn6ojnRWU1LxfMCwLRmT31JsO1apNkq+xoglu1/dled3HNE/X3f+oFOkJWlac0LTmhPq6Mmq\n",
              "ucHVrVeee9LTLf199rJ5+u1bXXr9ULditq2YaykIjY725upqRw07fwBMdEwPYdRlcoGe+X27muKu\n",
              "GuMxubZVWJxrZFn5KrCdfYVRGEsyoclXvS3sJirWRrEsyXUspQZMGT3y4l5dtWiGerO+9h3rVduh\n",
              "Hr3RnlbboR4d6OxTJufr8oXT1JH29NbR3lMuOz81ldCXP3Se5k9r0pHerPYfy+hwT1bzpqX05WvO\n",
              "q5sdNSOZ9gKAKGKkBaNu4KJQ27KOn2psjCzlR1Zk8ruIOtJZNSdc2ZZVKuFfPJGnfzXc/nVXvnrd\n",
              "+eWnSFuWgsCoo7Cm475f7tD9v9pReu1rLxp6quhE2rs93fnEK3qjPa1phQMf/SDUG+09+n8ff6Wu\n",
              "Tj6udtoLAKKIkRZUrdrS8JUWhRZPNfZDoyAMZWTyZewlNSddhSa/eLancL6PMZWr4RZ3wTzx8r6y\n",
              "U6ODsLwujFGhAm9odKQ3q/XP7dRnv/fSSZ0O3b/+yeRUQi0NMU1OJer65ONi0T4CC4CJhNCCExpp\n",
              "afjiotC+XKBMzi+cr5OvnXJGQ0ySpYaYo+aGmD61Yo7+982r9KmVc5UqhBfHttSYcEu1Vvrz/FCJ\n",
              "mK2fv9auxpijM89oUEsyJtu25AyoiFv8zrEshaHR7/d3jThgnKjsPycfA8D4YXoIwzqZ0vDt3Z56\n",
              "s756s4GO9mZlW/l1KQ1xR7Kki+dO0t9/eJFmT24sjQQsvKK5NKWx/lc79IMX9wx5Hs8HFs/UT185\n",
              "qLhrF6aTcrItlYrA9WdJCkIj17GU9UM9tX1/2enQJ8LJxwBQPxhpwbBGchihdDzk/GjrPp3REFNL\n",
              "MiZJ6srkdKw3p49ceLa+8T8v0sIZzYMu8sUpjRsvfdugE5H7H0b46UvmlqafQlM8EXr4Yx+K96e9\n",
              "46dDVzPdRf0TAKgffNJiSNVOjfQfuegfcmzbKm1H9v1QR3qzaoy7J1y0Ws35N8WaJE2hI8s6vu15\n",
              "IKPiUUb5+5sS+UMW73761UHHBlQ6W2cs6p9QHh8ATg6hBUMa6dRIMeS4lqX2bk9dmZyk/Hbn1oaY\n",
              "4hVCzkD9L+jFXTAdaU8y0pR+C0v71ySJu7Z6C0Xq+h8bYPr9PxcYNcRsXbZwmv6qcBBjtdNdo1X/\n",
              "pL3b04bnd1YVlgAAgxFaMKRqTkROJd3S1MiujrTeOtartBf0OxXZyLbyB/a5tiXbsiqu/6h0QX/3\n",
              "gqmSJf3itcMVL/LF0Zgfb9unPX4oP6g8hVPk2Lb6sv6IT0IejZOPT2ZtECMyAFCO0IIhjWRqpL3b\n",
              "05cef6UssEjHRz5itpQNQmVywaD1H5Uu6F19Oa1/bqcsKx8aiuFp4EX+c++Zp+uWzdLRnqx+uv2A\n",
              "Htq8S0f7/LLnd2xLrUlXRtJPth9UQ6z66S5JpTUvn3vPvJOuf9J/2uxEYYkRGQCojNCCYZ1oauS6\n",
              "i2fpcI+nB57dobaD3aWfswr/MeZ4vZShVLqgd2fyZwgZYxSERk0Jt+wif9/P31Bj3Cm7sF/xx9M1\n",
              "KZVQMu5qUmNMgTGSyQcS27J0uMfT4R5PzcnKf+0HTncNFx5Guoal2rVB3Rn/hCMyqYTLCAyA0xKh\n",
              "BcMaamrk6gUz5QehPvXdLer1fB3sztds6b+ORKa4CFYKjJRwLCVcW7uP9Ja2Oxcv6InCxby4oLYr\n",
              "4ytfosVSZ19O05oTsi1LrmMrZtva8PxuNcZtNcTc0oX9+1t2K50NNLM1Kce2NfByniyszfFyoZqT\n",
              "g/vaf7rrZKZzhjKStUHDjci8drBbn3/oJR3r9RmBAXBaIrTghAaWht93tE83P/SSDnRlSiMpQzm+\n",
              "tiU/TXM4ndWfPvBC6dTmlfOmaH9nn/pygdp7srKsfGn/sFDu//hozfEToPtygTw/0KwzkkrG83+F\n",
              "mxL5nUGd7T06ks6Wtlr3lw2MWpIxZYPghNNd39rYNuK1L0Opdm1QzLaGHJGRpJ5MTi/uOqqZzUkl\n",
              "hpguA4CJjDotqFoy5sgY6ebvv6R9xzL5UDFMYOkvNFJvLlTcsRRz8qMWD27aqc88+KLSnq8wzB9G\n",
              "FJp82X0/MIUaLIXDFAuBJTRGPZ4v27IUHzA1EncdNcQc9XqBsn6g0Bj5Yb6WSzGUXHvR2Vowo2XI\n",
              "GjBrVs4Z9Sq4xbVBGT8YtFi42K7V581ULjRDjsh0pLMKwnxwa2mInbBeDgBMRIy0YES+88s3dOBY\n",
              "Ro4tubYlb7hhlgpCIyVitpoSrtJeTt2Z44tmwyBfwj9mW/ICU7hIS5NS8VJoKYaRluTxgxT7m9KU\n",
              "0P4go91Hessq5MZdW398ZotuumyeJA27E+hwjzfqVXCr2TY91IhMaEzpVGzbskqnYUvDLyAGgImG\n",
              "0IKqtHd7euDZN/XdX+1QUDih2Zjhtxj3ZykfHLJ+qI6erM5ojOlYv10+xbUvfmgU9PvetvJnCqU9\n",
              "X54fKuMHShRGVCrJ+mHF4UPTr/jciU5CHulW72pUu2260m6t0JjCSJTKTr0u4igBAKcLQgtOqL3b\n",
              "02e/95J+t++Ycv1ySoWjfgax88tS5Nj5HTyhlR818IOwNLNUDDRBaEqnNduWlIo7+vCFZ2vLzqNl\n",
              "F/l0Nqcfbd1XcV1KZyYny5LmTmnKV+QNTen/uzrSZWtRkjGn4kV+LKrgSicOS1LlEZmMHyg0klM4\n",
              "1XqgkwlRABBFfMrhhO77eZu27T1WNlpRraRrKzDFXUGWrMKJy8Xzf4osS4o5tlynEFyMdOYZDfrb\n",
              "D7xDksou8od7PP32re5BUy0ZP5Ax0hkN8VLQsB2r9P+RTKOMVhXcir8nQ4QlqfKITHMypnMmNej1\n",
              "gz2DHn8qIQoAoobQgiFlcoE6ejw9+tJehcYo7tiyQjNszZWB/NCoJenqaJ8v029hrVF+FXio4mhM\n",
              "PlxYhYmh0Bi9Z+G00oW4/wV5qKmWDyyYqSd/e0CJUViLMhpVcE9WpRGZHs/XF76/dUxCFABEBaEF\n",
              "g/Qvqtbt5XS0zy+doewWDkEcKre4tlWa4pHy24xDkw8MXi6UkVFzwlU6G5SmgWRZ8sNQliwZ5Uda\n",
              "EjFHn141d8g2VrqwS9LPXzs8amtRqpnOGUv9R2SSMadmIQoA6gWhBWUGFlVz8xXeZJQvwx8rbFnu\n",
              "v/5Eyq9LcW2rNIVUXEgrScd6c3JsKebasmQrlYzJcSxlsqFmtCaU9gJ19uUr4NqWJde19Ml3ztbZ\n",
              "kxpP2N6BUy3/1x9P08Nb9qgp4SjuHr/9VKZRhpvOGU+1DlEAUGuEFpQZWJE1NPltyEGYHzHxfCOr\n",
              "EEf6D7a4thQURmDswve5wq/twujMRbPO0LrrL1DCdeTlAv1l4bTlhOtoZktCfblQfhjq3BnHtyZX\n",
              "I5MLtKujV0+8vFf/55WDSmcDdbb3qDHmanJTXH5oJtQ0Sr2EKAAYb4QWlFQqqmZbllobXB1J50qP\n",
              "Gzgz5NqWQh0vwR9KyoVSY9zRrEkNsq18Kf5jfTlNaUqUyvf/3TXn6d+37NbjL+9TVyb//C3JmBaf\n",
              "3VJVe4vTWD/etl97j/bJD0M1xlxNa06osy+XLzIXZDRrUoOuW8o0CgBEHaEFyuTyi1O9XKDerC+n\n",
              "MDJSrAdSqYhbfy1JV7ZtqaMne7xsv21p1qSG0hRNMuaoL5sfEXnqt/v00+0H1VOoRitjNKkxrsa4\n",
              "Iz8w+uHWt7Ttra5hS9P3n8bK5ALl/FCWJfXmAoVpo9mTGxUao/aerFYvmll1yX0AQP0itExAxRBy\n",
              "ojUPxZGKn2w/oK4+X57vq6vPlyxLrm2ptSGmSY0xdWd8xWxLgTGFdSf5Gi22lf9KZwPNm9ak7ky+\n",
              "HL9VOOLZtqxSYbRMLlBj3NGXHtuuNw/3KOk6Sns5eX4gS1La8zUlFZdr21Wd7/PAszv0hwNdsmSU\n",
              "9vKLei0j2cqXwu9IZzWjJamGmKOnf39IX3jfAqZUACDiCC0TSP9dPyc6Bbi929PnNryk3+/rkucH\n",
              "5YXijJGl/Hk33cVzgQrbkqc0xTS5Ka4dh9P5oGBZMiY/ZdTaENORdFbGSI4ttXdn1O0Fhd1GRjNb\n",
              "kmo71K0ZLUnZtqX2Hk+ObcmxLHmFSrkzWpLDlqYvVua9/xdvlhW6k46fJm1JOtab1bTmhBKurV7P\n",
              "LztZGgAQTYSWCWLgrp+4aw97CvB9P39Dv9lzVGFY+czDYi2Wvmz+UEDbkhpijqYWFui2NsR0pDcn\n",
              "hfmKsbZlaUoqrp5MTn25/CGFR3uPpwrHtnSgMyPHsTVDUlgoIGcVCs5ZhUq505oTsi2rYk2VYh//\n",
              "cKBrUGDpr3gcQDYXqL3Hk+eHZSdLV7u2pdoRq7H6eQBAOULLBDFw148kNSVUcapl79FebXh+l/wB\n",
              "F/7+25QHfh8aaXpz/rlzQagwzE/7GElhEOqto31qiDtKxl05Tqh0xpdt5w/3a22IqbUhpp2H0wqC\n",
              "UB3p/CiIZZVXyjWFyrl2YeSlWFOlePF/4NkdajvULbuKyryhkd5oz48GpRKuYo6tnkxOD27aqefe\n",
              "6NA311w07HqZakesxuLnAQCVEVomgEq7fooGTrV0Z3z9+cNblRmYWDR4xCXu2jKlQnJGB7oyas2F\n",
              "OtabVTbI/7xj5aeIujI5eX6o/3v5Ofr5a+3qS7hqSriKOZYcO7912rYtBb7Rsd6spqTiakm6OtKb\n",
              "K1XKta38OphiTZWr58/Utza26afbD6o36+tgt6eEY8vzg6p+X4rVdqc2x9Wdyakr4ys0Ri/tPqLP\n",
              "P/RrfeN/Dg4uIx2xGuhUfx4AMLTK9c4RKT2er75coHgV5es3PL9TOw+nq35uo/zUzpSmhBpijjzf\n",
              "VzYI5dqWpjUntHBms86d2ax5U5vUGM+f4tze7am9x9Oujl690Z7Wwa6Msn4gx8oHiWxg9GZ7WsZI\n",
              "CcdSLsgXqmuIOTrWm1N7j6c5k5v06z3H9NDm3Up7vmwrXysmnfWVreakxn4d2Hu0T0d6cwqNyR8T\n",
              "YKQXdx7Vnz30ax3u8coe3n/EalJTXE0JV5Oa4pqWSpRGrIZzqj8PABgaoWUCSCVcNcQcZSuMnkj5\n",
              "8vUNcUcx29JPtx9UQ9yRYxfP+hmOURjmQ8uR3qw6+3Lq8fK7gN42LZVfNFs4vTkZdxV3HD3667fU\n",
              "02/xbmiMOno8vdGeltevfX4Q6mhvVn4oxRwp4TpqSrhKJV2teeccXTTnDO3qSJcu/qmkK9e2Trj9\n",
              "usiSFHdsGUm5wMi1Jde28wt/HVu2JbUd6ikLEdWOWGVylUd6TvXnAQDDI7RMAMmYo6sWzVDGD+QH\n",
              "5cGlONWy+ryZyoX57cBJ19GkxpikyotwizzfKDBGmWxQ2socmvzi3L1HeuWH5a/Vlwvk+YFaG1zJ\n",
              "sgqVcfN/xYpnFTm2paa4U1q8G4RGF5wzSc/85bv1+Bcu0eOfv0Sfe888/eK1w4OK3LUk3fyOpcLr\n",
              "DRVfYralmGMpNOHxYwb6hR1TmKpKxuyyEDGSEatKTvXnAQDDI7RMEJ9cOVfzpzervcfTkXRW6ULh\n",
              "tvYer1S+vv+IzJRUXA2x6v74Q+W3Ek9qjMu184tmi1uUi4IwVE9hGmd6c1JJ11YuNMoFx7dTB0ZK\n",
              "urZmT2nU/OkpzZ+R0ozWRKlS7tRUvlruUBf/qamEkq6t/oMtA4NLzLY0d0qjWhtiFQ91NIVaM60N\n",
              "MSVdpyxEVDtiNdSBi6f68wCA4RFaJoipqYTu/cSFWvPOOUolXfmhKU213FNY/JmMOXrXginqSHva\n",
              "ebhXucCcYHqoXC4I1RS3SycPdfbllA1CHezKqO1Qj/zQFLY653RWa1JTmuJl0zm2JZ11RkNpSsm1\n",
              "7UHBQRr64u86tmZPblRT3FXcsdScdBVzbcXsfHiZ0hjT/OkpJeOupqbyNVqk/H2hkfwwlB8aJVxb\n",
              "U1LxQSGi2hGrobYvn+rPAwCGxz/5JpATnQLc3u1p655O+aGRX6iTMhLH+nxZyk/xhKFkTKidh9PK\n",
              "FS7QliSZfFG6tOdr9uRGTUnF9WZ7Wn6Qr+cycPSk/9bmouLF/6HNu0s/118iZuvTK+fohkvfppht\n",
              "6WC3pzt+lK+025XxlXDtfCCJOXJtS73ZQCbMTwm1NsY0JRWXjAad+pzJBfrA+Wdp0xtH9ObhHiVc\n",
              "RwnXViYXKJOr7sDFT66cq807jpYOgiy2ZSId2AgAtUJomYCGOgV4w/M7tasjrblTGrXvWEbpbDCo\n",
              "NsuJGElBaGRbkjH50ZdYodhcGBod68vJsaSMH5ZK6acSjo6kQzUn3LKRl+LoQ//gUHSii/8Nl76t\n",
              "tHW4tTGub665SBs27dJPXjmgvmygVNLVdUtn6erzz9Qdj21X26EeJWP5kZ38kQXHQ8TAuipxx9K8\n",
              "aSkd6MrocI+njB+qwbXVkfa0YdOuYeutFEe8BrXlPA5sBIBTZRkz0n9vj65MJqOPf/zj+t3vfqeG\n",
              "hgZNnz5d3/rWtzR//vyqfv7WW2/VunXrxriV0ZfJBbrm3meV9ny1NsbUdqhHoTFyLEuypMxwJWYr\n",
              "sJRfWDqpMa7Jqfw0kB+G2t3RK88PS4tdp6USyuQC+aGR69hqiA0OIPcMUbvkcI9XdvFviDtafd7w\n",
              "RdoqVaEd7nmM0aC6Klk/VG8uUC4I5diWGuOOkm5+uirjB5o/vbmqeitUxAWA0VUXIy033XSTVq9e\n",
              "LcuydO+99+ozn/mMNm7cWOtmTSj9F7eGhcWo+fL5+ZEPp3AIYrVcx8qvD4nZpdET184vsu3oyepo\n",
              "b/4Mooa4o49dfI6uPv9MPbVt/4hGH0403VVJpVGm4Z7n7qdfrVhJOHOsTz0ZX1Oa4prSlCjdXs1h\n",
              "jsO1BQBw8moeWpLJpK6++urS9ytWrNBXv/rVio/1PE+eV14MLAioeVGN4uLWtOerIe4cL6FfCByW\n",
              "VZjvqYJjW5rZktSBroy8XKjm5PH7XNsuHHpoqTHm6NGbV6m1MS5JWnhF84gCSNFoXfwHPs9QdVVC\n",
              "Y9Tt+bItqdvzNaNQrVcaXGGYUAIA46fudg997Wtf0zXXXFPxvrVr16q1tbXsa8uWLePcwmjqv7Ml\n",
              "DI1aG2L505kLJfSNpMmNMbl25f1EtpUv65+vjhtXaKSWZEzZoPJOmawf6oPnn1UKLP3bUdzJVGtD\n",
              "ba0ujUTZhfOQBuydpt4KANRGXYWWu+66S21tbVq7dm3F+2+//XZ1dnaWfS1fvnycWxld/Wu5OLYl\n",
              "17aUDUJlg1Ax21LcddSSdDWzJaGk22+rsvLF3cLQKOnaam1w5fmBrr3obC2Y0TJsbZh6NtTWatuy\n",
              "ZFmSKRTUswcEOeqtAEBt1M2n7le/+lX98Ic/1DPPPKPGxsaKj0kkEkokytc/OE7t/8UeFQN3ttiW\n",
              "VaoGm4w5SiVdrT7vHK1ZOUeeH+jbP3tD//vXe0vl91MJVw1xR0d7c1owvVk3XTZPkiK7U2aordW2\n",
              "Zak54aojnR3RjicAwNiq+e4hSVq3bp0eeughPfPMM5o0adKIfpbdQyen/84WSUOuM3nraK/+7bmd\n",
              "2vhauzK5cMgdPFHdKXO4x9MXvr910Nbqvlx+2su1LTXE3ap3PAEAxk7NQ8vevXt1zjnn6O1vf7ua\n",
              "m5sl5UdUNm/eXNXPE1rGR1RDSTWG2hI9cMdTNVuuAQBjp+ah5VQRWjBahgpmEzmwAUCU1M2aFqDW\n",
              "htpaTb0VAKgPdbV7CAAAYCiEFgAAEAmEFgAAEAmEFgAAEAmEFgAAEAmEFgAAEAmEFgAAEAmEFgAA\n",
              "EAmEFgAAEAmEFgAAEAmEFgAAEAmEFgAAEAmEFgAAEAmEFgAAEAmEFgAAEAmEFgAAEAmEFgAAEAmE\n",
              "FgAAEAmEFgAAEAmEFgAAEAmEFgAAEAmEFgAAEAknFVo8zxvtdgAAAAxrRKFl27ZtWrRokebNmydJ\n",
              "eumll/TXf/3XY9IwAACA/kYUWm655RZ9+9vf1rRp0yRJF110kZ588skxaRgAAEB/IwotPT09uvTS\n",
              "S0vfW5aleDw+6o0CAAAYaEShxXVd5XI5WZYlSdqzZ48cxxmThgEAAPQ3otDyhS98QR/+8IfV3t6u\n",
              "O+64Q+9617tY0wIAAMaFO5IHr1mzRm9/+9v1+OOPK5vNasOGDWXTRQAAAGOl6tASBIEWL16s3/3u\n",
              "d1q1atVYtgkAAGCQqqeHHMfRtGnT1NvbO5btAQAAqGhE00Pz58/XJZdcouuuu06pVKp0+y233DLq\n",
              "DQMAAOhvRKElDEMtWbJEr7/+eum24k4iAACAsTSi0LJ+/fqxagcAAMCwRhRafN/X3XffraefflqS\n",
              "9P73v19/8Rd/Idcd0dMAAACM2IjSxq233qo33nhDf/ZnfybLsvSd73xHu3bt0te//vWxah8AAICk\n",
              "EYaWjRs36uWXX5Zt5zcdfeADH9BFF100Jg0DAADob0QVcY0xCsOw7HtjzKg3CgAAYKARjbRcddVV\n",
              "uvLKK3XDDTdIkh588EGtXr16LNoFAABQZkSh5R//8R9133336YknnpAkffSjH9VNN900Jg0DAADo\n",
              "b0ShxbZt3Xzzzbr55ptHrQG33HKLnnjiCe3atUtbt27VkiVLRu25AQDAxDGiNS1XX321Ojo6St8f\n",
              "PnxYH/zgB0+pAR/96Ef1q1/9SnPmzDml5wEAABPbiEZa9u/frylTppS+nzp1qvbt23dKDXj3u99d\n",
              "9WM9z5PneWW3BUFwSq8PAACiYUQjLb7vy/f90vfZbFbZbHbUGzWUtWvXqrW1texry5Yt4/b6AACg\n",
              "dkYUWlavXq3rrrtOGzdu1MaNG3X99dfr6quvHqu2DXL77bers7Oz7Gv58uXj9voAAKB2RjQ99A//\n",
              "8A+666679Nd//deSpA996EO67bbbxqRhlSQSCSUSibLbHMcZt9cHAAC1M6LQEovFdOedd+rOO+8c\n",
              "q/YAAABUVNX00MaNG7V3797S9//8z/+sJUuW6Nprr9X+/ftPqQGf/exnNWvWLO3du1fvf//7NX/+\n",
              "/FN6PgAAMDFVFVpuvfVWNTY2SpJ++ctf6q677tLtt9+uBQsW6JZbbjmlBtx3333au3evfN/XwYMH\n",
              "1dbWdkrPBwAAJqaqpod839fkyZMlSY8//rhuvPFGXX/99frYxz6mCy64YEwbCAAAIFU50mJZVunX\n",
              "mzdv1qWXXlq6vf99AAAAY6WqkZa5c+fqa1/7ms4++2z95je/0Xvf+15JUl9fn3K53Jg2EAAAQKoy\n",
              "tHzjG9/QzTffrL179+r+++9Xa2urJOm///u/T7mMPwAAQDUsY4ypdSNOxa233qp169bVuhkAAGCM\n",
              "jagibn/XXnvtaLYDAABgWCcdWnbs2DGa7QAAABjWSYeW4qzSgQMHRq0xAAAAQ6kqtDQ2NuqBBx4o\n",
              "u23jxo2SNK4HJgIAgNNXVaFl8uTJuuuuu/T5z39evu9LUmkHUcTX8QIAgIioKrRMnz5dL7zwgnbu\n",
              "3KnLLrtMBw8eLN1HcTkAADAeql7T0traqh//+Md63/vep6VLl2rTpk2SGGkBAADjo6rickWWZenv\n",
              "//7vdfHFF+uaa67Rl7/8ZUZaAADAuKgqtAwcTbnmmmv0R3/0R/rIRz6i1157bUwaBgAA0F9VoeXv\n",
              "/u7vBt127rnnavPmzfrGN74x6o0CAAAYqKo1LX/yJ39S8fZUKqXbbrttVBsEAABQyUkXlwMAABhP\n",
              "hBYAABAJhBYAABAJhBYAABAJhBYAABAJhBYAABAJhBYAABAJhBYAABAJhBYAABAJhBYAABAJhBYA\n",
              "ABAJhBYAABAJhBYAABAJhBYAABAJhBYAABAJhBYAABAJhBYAABAJhBYAABAJhBYAABAJhBYAABAJ\n",
              "hBYAABAJhBYAABAJhBYAABAJhBYAABAJdRFaXn/9da1atUoLFy7UsmXL9Morr9S6SQAAoM7URWj5\n",
              "7Gc/q5tuukmvvfaabrvtNt1www21bhIAAKgzNQ8thw4d0osvvqg1a9ZIkq699lrt2bNHbW1tNW4Z\n",
              "AACoJ26tG7Bnzx6deeaZct18UyzL0uzZs7V7927Nnz+/7LGe58nzvLLbgiAYt7YCAIDaqflIy0is\n",
              "XbtWra2tZV9btmypdbMAAMA4qHloOeecc7R//375vi9JMsZo9+7dmj179qDH3n777ers7Cz7Wr58\n",
              "+Xg3GQAA1EDNQ8v06dN10UUXacOGDZKkRx99VLNmzRo0NSRJiURCLS0tZV+O44x3kwEAQA3UfE2L\n",
              "JN1333264YYbdNddd6mlpUXr16+vdZMAAECdqYvQcu6552rTpk21bgYAAKhjNZ8eAgAAqAahBQAA\n",
              "RAKhBQAARAKhBQAARAKhBQAARAKhBQAARAKhBQAARAKhBQAARAKhBQAARAKhBQAARAKhBQAARAKh\n",
              "BQAARAKhBQAARAKhBQAARAKhBQAARAKhBQAARAKhBQAARAKhBQAARAKhBQAARAKhBQAARAKhBQAA\n",
              "RAKhBQAARAKhBQAARAKhBQAARAKhBQAARAKhBQAARAKhBQAARAKhBQAARAKhBQAARAKhBQAARAKh\n",
              "BQAARAKhBQAARAKhBQAARAKhBQAARAKhBQAARAKhBQAARAKhBQAARAKhBQAARAKhBQAARAKhBQAA\n",
              "RAKhBQAAREJNQ8uTTz6ppUuXKpFI6Itf/GItmwIAAOqcW8sXX7Bggb773e/qkUceUU9PTy2bAgAA\n",
              "6lxNQ8vChQslST/60Y+qerznefI8r+y2IAhGvV0AAKD+RGpNy9q1a9Xa2lr2tWXLllo3CwAAjIMx\n",
              "DS0rV67U1KlTK37t2bNnxM93++23q7Ozs+xr+fLlY9ByAABQb8Z0emjTpk2j+nyJREKJRKLsNsdx\n",
              "RvU1AABAfYrU9BAAADh91TS0/Nd//ZdmzZqldevW6V//9V81a9YsPfHEE7VsEgAAqFM13T10+eWX\n",
              "a+/evbVsAgAAiAimhwAAQCQQWgAAQCQQWgAAQCQQWgAAQCQQWgAAQCQQWgAAQCQQWgAAQCQQWgAA\n",
              "QCQQWgAAQCQQWgAAQCQQWgAAQCQQWgAAQCQQWgAAQCQQWgAAQCQQWgAAQCQQWgAAQCQQWgAAQCQQ\n",
              "WgAAQCQQWgAAQCQQWgAAQCQQWgAAQCQQWgAAQCQQWgAAQCQQWgAAQCQQWgAAQCQQWgAAQCQQWgAA\n",
              "QCQQWgAAQCQQWgAAQCQQWgAAQCQQWgAAQCQQWgAAQCQQWgAAQCQQWgAAQCQQWgAAQCQQWgAAQCQQ\n",
              "WgAAQCQQWgAAQCQQWgAAQCQQWgAAQCQQWgAAQCTUNLR8/etf16JFi7R48WKdf/752rBhQy2bAwAA\n",
              "6phbyxc/77zz9Oyzz6q1tVV79uzRhRdeqJUrV2revHm1bBYAAKhDNQ0tl19+eenX55xzjmbOnKk9\n",
              "e/YMGVo8z5PneWW3BUEwpm0EAAD1oW7WtDzzzDM6evSoli1bNuRj1q5dq9bW1rKvLVu2jGMrAQBA\n",
              "rYxpaFm5cqWmTp1a8WvPnj2lx/32t7/VjTfeqB/84Adqamoa8vluv/12dXZ2ln0tX758LLsAAADq\n",
              "xJhOD23atOmEj/nd736nD37wg/rud7+rSy+9dNjHJhIJJRKJstscxzmlNgIAgGio6fTQ73//e119\n",
              "9dW6//77dcUVV9SyKackkwt0uMdTJsf6GgAAxkpNF+Lecsst6uzs1G233abbbrtNkvSP//iPev/7\n",
              "31/LZlWtvdvThud36qfbD6ovF6gh5mj1oplas3KOpqYSJ34CAABQtZqGlqeffrqWL39K2rs9/fnD\n",
              "W9V2qFtJ11HctZX2fG3YvEvP7ziiez9xIcEFAIBRVDe7h6Jmw/M71XaoW9NSCU1qiqsp4WpSU1zT\n",
              "Ugm1HerWhk27at1EAAAmFELLScjkAv10+0ElXUeuU/5b6Dq2Eq6jn7xygDUuAACMIkLLSejxfPXl\n",
              "AsXdyr99CddWXzZQj+ePc8sAAJi4CC0nIZVw1RBzlPXDivd7fqiGuKNUoqZLhgAAmFAILSchGXN0\n",
              "1aIZyviB/KA8uPhBKM8PtPq8mUrGqCEDAMBoYSjgJH1y5Vxt3nFUbYe6lXAdJVxbnp8PLAumN2vN\n",
              "yjm1biIAABMKIy0VVFMsbmoqoXs/caHWvHOOUklXfmiUSrpa8845uoftzgAAjDpGWvoZabG4qamE\n",
              "vnjFQn3uPfPU4/lKJVymhAAAGCOEloJTKRaXjDmEFQAAxhjTQwUUiwMAoL4RWkSxOAAAooDQIorF\n",
              "AQAQBYQWUSwOAIAoILSIYnEAAEQBQwcFFIsDAKC+MdJSQLE4AADqGyMt/VAsDgCA+kVoqYBicQAA\n",
              "1B+mhwAAQCQQWgAAQCQQWgAAQCQQWgAAQCQQWgAAQCQQWgAAQCQQWgAAQCQQWgAAQCQQWgAAQCQQ\n",
              "WgAAQCRYxhhT60acio985COaO3duxfuCINCWLVu0fPlyOc7EL8tPfyc2+jux0d+J73Tr84n6O2fO\n",
              "HP3FX/zFiJ4z8qFlOF1dXWptbVVnZ6daWlpq3ZwxR38nNvo7sdHfie906/NY9JfpIQAAEAmEFgAA\n",
              "EAmEFgAAEAkTOrQkEgndeeedSiQStW7KuKC/Exv9ndjo78R3uvV5LPo7oRfiAgCAiWNCj7QAAICJ\n",
              "g9ACAAAigdACAAAiYcKGltdff12rVq3SwoULtWzZMr3yyiu1btKomzt3rs4991wtWbJES5Ys0Q9+\n",
              "8ANJE6fvt9xyi+bOnSvLsvTyyy+Xbh+uf1Hu+1D9HerPWYp2fzOZjD784Q9r4cKFuuCCC3TFFVeo\n",
              "ra1NknTo0CFdddVVWrBggRYtWqRf/OIXpZ8b7r56Nlx/3/Oe9+htb3tb6c/47rvvLv1cVPsrSVde\n",
              "eaXOP/98LVmyRO9617u0detWSRP3PTxUfyfqe7ho/fr1sixLjz32mKQxfv+aCeq9732vWb9+vTHG\n",
              "mEceecRcfPHFtW3QGJgzZ47ZunXroNsnSt9//vOfmz179gzq53D9i3Lfh+rvUH/OxkS7v319febJ\n",
              "J580YRgaY4y55557zGWXXWaMMebGG280d955pzHGmC1btpizzz7bZLPZE95Xz4br72WXXWZ+9KMf\n",
              "Vfy5qPbXGGOOHj1a+vUPf/hDc/755xtjJu57eKj+TtT3sDHG7Nixw6xcudKsWLGi9Hd4LN+/EzK0\n",
              "HDx40DQ3N5tcLmeMMSYMQzNjxgzz+uuv17hlo6vSG2Ei9r1/P4fr30Tpe7WhZaL0t+iFF14wc+bM\n",
              "McYY09TUZPbv31+6b9myZebpp58+4X1R0r+/w4WWidLf9evXmwsuuOC0eA8bc7y/xkzc93AQBOby\n",
              "yy83L774Ytnf4bF8/07I6aE9e/bozDPPlOu6kiTLsjR79mzt3r27xi0bfZ/61Ke0ePFi/emf/qna\n",
              "29snfN+H699E7vvAP2dp4v09/9rXvqZrrrlGHR0dyuVymjlzZum+uXPnavfu3cPeFzXF/hb9zd/8\n",
              "jRYvXqzrr79eb775piRNiP5+6lOf0jnnnKMvfelL+t73vjfh38MD+9v/9on2Hl63bp0uueQSLV26\n",
              "tHTbWL9/J2RoOV384he/0LZt2/TrX/9aU6dO1ac//elaNwlj4HT4c77rrrvU1tamtWvX1rop42Jg\n",
              "f7/3ve/pD3/4g7Zt26Z3vetd+uAHP1jjFo6eBx98UHv27NFXvvIV3XbbbbVuzpir1N+J+B7evn27\n",
              "Hn30Ud1xxx3j+8KjM0hUX6I+5HYy9u3bZ1Kp1ITs++k+PdRf8c/ZmInz9/yf/umfzNKlS8vWAzQ2\n",
              "Ng45hDzcfVFQqb8DJRIJc/jwYWNM9PvbXzKZNAcOHJjw7+GiZDJZ+nMsmijv4W9+85tm5syZZs6c\n",
              "OWbOnDkmkUiYadOmmW9+85tj+v6dkCMt06dP10UXXaQNGzZIkh599FHNmjVL8+fPr3HLRk86ndax\n",
              "Y8dK3z/88MO68MILJ3zfh+vfROz7UH/O0sT4e75u3To9/PDDevrpp3XGGWeUbr/uuuv07W9/W5L0\n",
              "wgsv6K233tJll112wvvqXaX++r6vgwcPlh7z6KOPasaMGZoyZYqk6Pb32LFj2rdvX+n7xx57TFOm\n",
              "TJmw7+Gh+ptMJifke/jmm2/W/v37tXPnTu3cuVMrVqzQ/fffr5tvvnls37+jl7vqyx/+8AezYsUK\n",
              "s2DBArN06VKzbdu2WjdpVL3xxhtmyZIlZvHixWbRokXmQx/6kNmxY4cxZuL0/aabbjJnn322cRzH\n",
              "TJ8+3cybN88YM3z/otz3Sv0d7s/ZmGj3d8+ePUaSefvb324uuOACc8EFF5jly5cbY4w5cOCAueKK\n",
              "K8z8+fPNO97xDvPf//3fpZ8b7r56NlR/e3p6zNKlS82iRYvM+eefb973vveZl19+ufRzUe3vzp07\n",
              "zbJly0r9uvzyy0sjiBPxPTxUfyfye7i//gtxx/L9y9lDAAAgEibk9BAAAJh4CC0AACASCC0AACAS\n",
              "3Fo3AMDEMXfuXCUSCTU0NEiSLr74Yn3nO9+pcasATBSEFgCj6gc/+IGWLFlS8b4gCOQ4zvg2CMCE\n",
              "wfQQgDHzwAMP6L3vfa+uvfZaLV68WFu2bNG6deu0bNkyLVmyRMuWLdOmTZtKj587d67uuOMOrVq1\n",
              "Suecc46+/e1va/369Vq5cqXmzp2rf//3fy899oUXXtD73vc+XXzxxbrwwgv1yCOPSJLa29t15ZVX\n",
              "avHixTr//PN14403jnu/AYwNRloAjKrrr7++ND306U9/Wps3b9bWrVt17rnnSpLmz5+vW2+9VZL0\n",
              "/PPP64YbbtAf/vCH0s+n02k999xzamtr0+LFi/W3f/u32rRpk1544QVdffXV+vjHP65jx47ppptu\n",
              "0lNPPaUzzzxThw8f1kUXXaRVq1bpP/7jP/S2t71N//mf/ylJOnLkyDj/DgAYK4QWAKOq//TQAw88\n",
              "oFWrVpUCiyRt3bpV//AP/6COjg65rqtXX31VfX19paBz/fXXS8qHm2QyqY9+9KOS8utjjhw5omPH\n",
              "jum5557Tm2++qdWrV5e99quvvqoVK1bo7rvv1l/+5V/q3e9+t6666qpx6DWA8UBoATCmUqlU6dfZ\n",
              "bFYf+chH9LOf/UzLli1TV1eXWltb5XleKbQkk8nS4x3HKX1vWZYsy5Lv+zLG6LzzztNzzz1X8TVf\n",
              "fvllPfPMM/rhD3+oL33pS9q6dStraYAJgDUtAMZNJpNRNpvV7NmzJUn33HPPST3PqlWrtGPHDj3z\n",
              "zDOl215++WVls1nt2LFDqVRKH/vYx3TPPffotddeU09Pz6i0H0BtEVoAjJuWlhZ95Stf0fLly7V0\n",
              "6VLF4/GTep5JkybpySef1F133aULLrhA73jHO/Q3f/M3CsNQGzdu1NKlS7VkyRKtWrVK//RP/6TW\n",
              "1tZR7gmAWuDsIQAAEAmMtAAAgEggtAAAgEggtAAAgEggtAAAgEggtAAAgEggtAAAgEggtAAAgEgg\n",
              "tAAAgEggtAAAgEggtAAAgEj4/wHOMvp0O91l6AAAAABJRU5ErkJggg==\n",
              "\">\n",
              "      </div>\n",
              "      <script type=\"text/javascript\">\n",
              "        (() => {\n",
              "          const chartElement = document.getElementById(\"chart-0a7b75f9-b2de-4f42-85e3-2ab4fff3a66b\");\n",
              "          async function getCodeForChartHandler(event) {\n",
              "            const chartCodeResponse =  await google.colab.kernel.invokeFunction(\n",
              "                'getCodeForChart', [\"chart-0a7b75f9-b2de-4f42-85e3-2ab4fff3a66b\"], {});\n",
              "            const responseJson = chartCodeResponse.data['application/json'];\n",
              "            await google.colab.notebook.addCell(responseJson.code, 'code');\n",
              "          }\n",
              "          chartElement.onclick = getCodeForChartHandler;\n",
              "        })();\n",
              "      </script>\n",
              "      <style>\n",
              "        .colab-quickchart-chart-with-code  {\n",
              "            display: block;\n",
              "            float: left;\n",
              "            border: 1px solid transparent;\n",
              "        }\n",
              "\n",
              "        .colab-quickchart-chart-with-code:hover {\n",
              "            cursor: pointer;\n",
              "            border: 1px solid #aaa;\n",
              "        }\n",
              "      </style>"
            ]
          },
          "metadata": {}
        },
        {
          "output_type": "display_data",
          "data": {
            "text/plain": [
              "<google.colab._quickchart_helpers.SectionTitle at 0x7aa5e48be690>"
            ],
            "text/html": [
              "<h4 class=\"colab-quickchart-section-title\">Values</h4>\n",
              "<style>\n",
              "  .colab-quickchart-section-title {\n",
              "      clear: both;\n",
              "  }\n",
              "</style>"
            ]
          },
          "metadata": {}
        },
        {
          "output_type": "display_data",
          "data": {
            "text/plain": [
              "from matplotlib import pyplot as plt\n",
              "_df_4['Frames'].plot(kind='line', figsize=(8, 4), title='Frames')\n",
              "plt.gca().spines[['top', 'right']].set_visible(False)"
            ],
            "text/html": [
              "      <div class=\"colab-quickchart-chart-with-code\" id=\"chart-f2cdad0e-7aa6-4dd5-86c0-4bc36d7ca047\">\n",
              "        <img style=\"width: 180px;\" src=\"data:image/png;base64,iVBORw0KGgoAAAANSUhEUgAAAqAAAAFuCAYAAABeNqqcAAAAOnRFWHRTb2Z0d2FyZQBNYXRwbG90\n",
              "bGliIHZlcnNpb24zLjEwLjAsIGh0dHBzOi8vbWF0cGxvdGxpYi5vcmcvlHJYcgAAAAlwSFlzAAAP\n",
              "YQAAD2EBqD+naQAAe4tJREFUeJzt3Xd82/WdP/DXV9N72/GO49hJgOwQExKSMApltexry0xbmpQe\n",
              "19JxB7m7tr/+riVwx48e13GEFtKGtDTQAB10sDMgwQlkQKadxLHjeMR7an9/f3z1+eorWZIlW5Jl\n",
              "+fV8PPx4JLYlK5ElvfVeH0mWZRlERERERDGim+gbQERERERTCwNQIiIiIoopBqBEREREFFMMQImI\n",
              "iIgophiAEhEREVFMMQAlIiIiophiAEpEREREMcUAlIiIiIhiigEoEREREcUUA1AiIiIiiikGoERE\n",
              "AVx++eUwmUxIS0tTP1atWjXRN4uIaNJjAEpEFMS//Mu/YGBgQP3YsWOH19dlWYbD4ZigW0dENDkx\n",
              "ACUiCkNDQwMkScKzzz6LBQsWICUlBfv27cO7776L5cuXIzc3F9nZ2bjyyitx4MAB9XLvvvsuJEnC\n",
              "1q1bMWvWLKSkpOAzn/kMenp68N3vfhdFRUXIy8vD97//fa+fd+zYMdx4442YNm0aSkpK8LWvfQ2D\n",
              "g4MAlOD3e9/7HkpLS5Geno7S0lL867/+ayz/O4iIxoQBKBHRGDz33HP485//jIGBASxatAhGoxFP\n",
              "PPEEWlpa0NjYiKqqKtx0002w2Wxel3vttdfw4YcfoqGhAcePH8cll1yCadOmoampCX/+85/xox/9\n",
              "CLt37wYAdHR0YOXKlbjqqqvQ2NiIgwcP4sSJE3jooYcAAG+++Saee+45vP/+++jv78ehQ4fwmc98\n",
              "Jtb/FUREYWMASkQUxBNPPIGsrCz14/nnnwcAfO9730NZWRn0ej3MZjNWrFiB5cuXw2QyIT09HY8/\n",
              "/jgaGxtx/Phxr+v70Y9+hPT0dBQUFOCGG24AADz44IMwGAxYtmwZLrjgAtTW1gIANm/ejKqqKnzz\n",
              "m9+E2WxGXl4efvCDH2Dz5s1wOp0wmUywWCw4fPgwhoeHkZOTg0svvTS2/0FERGPAAJSIKIjvfOc7\n",
              "6OnpUT/uueceAMCMGTO8vk9kH0tKSpCRkaF+vb293ev7ioqK1D+npqZ6/V18rr+/HwBQV1eHDz/8\n",
              "0CsAvv766yFJElpbW7F69Wr853/+Jx577DFMmzYNq1atwhtvvBHx/wMiokhjAEpENAY6nffT5x13\n",
              "3IGZM2fik08+QV9fH06fPg1A6dMcq8LCQlx22WVeAXBvby8sFgtKSkoAAF/60pewfft2nD9/Hjff\n",
              "fDM+85nPqAEsEVG8YgBKRBQBvb29yMjIQGZmJrq6uvDtb3973Nf5xS9+Efv378fPf/5zDA0NQZZl\n",
              "NDU14dVXXwUA1NbWYseOHRgeHlZL/5IkQa/Xj/tnExFFEwNQIqIIeO655/DSSy8hPT0dy5Ytw3XX\n",
              "XTfu6ywvL8fu3bvxxhtvYObMmcjKysKnP/1pfPzxxwCAgYEBfOtb30JBQQGysrLwzDPP4JVXXkFK\n",
              "Ssq4fzYRUTRJ8njqQ0REREREYWIGlIiIiIhiigEoEREREcUUA1AiIiIiiikGoEREREQUUwxAiYiI\n",
              "iCimGIASERERUUwxACUiIiKimJoUAehTTz010TeBiIiIiCJkzAHopk2bIEmSeiRce3s7rr32WlRX\n",
              "V2Pu3LnYsWOH+r3BvhaKM2fOjPVmEhEREVGcGVMA2tDQgF/84hdYtmyZ+rlHHnkEy5YtQ11dHTZt\n",
              "2oQ777wTdrt91K8RERER0dQSdgDqcrlw//334yc/+QnMZrP6+RdffBFf/epXAQBLly5FcXExtm/f\n",
              "PurXiIiIiGhqMYR7gSeffBIrVqzAkiVL1M91dnbCbrejsLBQ/VxFRQUaGxuDfs0fq9UKq9Xq9Tmn\n",
              "0xnuzSQiIiKiOBVWBvSTTz7Btm3b8O///u/Ruj3YsGEDMjMzvT5qa2uj9vOIiIiIKLbCCkB37tyJ\n",
              "hoYGVFdXo6KiAnv27MHatWvx4osvwmAwoLW1Vf3ehoYGlJeXIzc3N+DX/Fm/fj16e3u9Pmpqasb4\n",
              "zyMiIiKieBNWAPrAAw+gpaUFDQ0NaGhowLJly/DMM8/ggQcewB133IGnn34aALB37140Nzdj9erV\n",
              "ABD0a77MZjMyMjK8PvR6/Xj+jUREREQUR8LuAQ3k8ccfxz333IPq6mqYTCZs2bIFRqNx1K8RERER\n",
              "0dQiybIsT/SNGM23vvUtPPnkkxN9M4iIiIgoAibFSUhERERElDgYgBIRERFRTDEAJSIiIqKYYgBK\n",
              "QT29/SQ2/OXoRN8MIiIiSiAMQCkgl0vGf/39ODbuOIXz/dbRL0BEREQUAgagFJDV4YLTpSxJsNh5\n",
              "HCoRERFFBgNQCmhYE3RaHQxAiYiIKDIYgFJA2gDUYndN4C0hIiKiRMIAlAIatmkzoAxAiYiIKDIY\n",
              "gFJAFpbgiYiIKAoYgFJA2hK8jRlQIiIiihAGoBQQS/BEREQUDQxAKSDvKXgGoERERBQZDEApIK8e\n",
              "UO4BJSIioghhAEoBDWlK8DYnM6BEREQUGQxAKSCvHlDuASUiIqIIYQBKAbEHlIiIiKKBASgFxD2g\n",
              "REREFA0MQCkgrmEiIiKiaGAASgFxET0RERFFAwNQCmiYJXgiIiKKAgagFJD3HlBmQImIiCgyGIBS\n",
              "QOwBJSIiomhgADoFtPZa8NSbdegetIV1OZbgiYiIKBoYgE4Bv97dgB+/eQLf/cMnYV1uWFN25xAS\n",
              "ERERRQoD0CmgZ8gOAPjLxy040zkY8uUsLMETERFRFDAAnQJE+dwlA7/YeSrky/EkJCIiIooGBqBT\n",
              "gDZ4fGnfWXQMWEO6HHtAiYiIKBrCDkCvueYazJ8/HwsXLsTKlSuxf/9+AEBFRQVmz56NhQsXYuHC\n",
              "hdi6dat6mbq6OixfvhyzZs3C0qVLcfjw4cj9C2hU2v5Nq8OFX73XENLltCV49oASERFRpBjCvcCL\n",
              "L76IrKwsAMArr7yCNWvW4ODBgwCArVu3YuHChSMus27dOqxduxZr1qzB73//e6xZswZ79+4d1w2n\n",
              "0IkM6DUXTsPrR9qweXcDvnr5TKSZg9/9LMETERFRNISdARXBJwD09vZCkqSg39/e3o59+/bh7rvv\n",
              "BgDcdtttaGpqQn19fbg/msbI6g4kb5hfhMq8VPRZHPhdbWPQy9idLjhcsuY6GIASERFRZIypB/Te\n",
              "e+9FWVkZvvvd7+L555/3+vy8efPw5S9/GefPnwcANDU1oaioCAaDkm2TJAnl5eVobPQfAFmtVvT1\n",
              "9Xl9OJ3sPxwPkb1MMRnwlVWVAIBf7jwdtKyuzX4q18H7gIiIiCJjTAHo5s2b0dTUhB/+8Id4+OGH\n",
              "AQA7duzAoUOH8NFHHyEvLw/33XffmG7Qhg0bkJmZ6fVRW1s7pusihQhAzQYdbllUgvx0M1r7LPjD\n",
              "geaAl9H2f2qvg4iIiGi8xjUFf9999+Gdd95BZ2cnysvLAQBGoxEPPfQQdu7cCQAoKytDS0sLHA4H\n",
              "AECWZTQ2Nqrf72v9+vXo7e31+qipqRnPzZzybO7spcmgQ5JRjy+tmAEA2LjjFFyaMruWbwaUQ0hE\n",
              "REQUKWEFoD09PTh37pz691dffRW5ublISkpCT0+P+vkXXngBixYtAgAUFBRg8eLF2LJlCwBg27Zt\n",
              "KC0tRVVVld+fYTabkZGR4fWh1+vD/XeRhjYDCgB3LStHutmA+vYBvHeyw+9lRABq0Ck9vg6XDIeT\n",
              "QSgRERGNX1hT8L29vbjjjjswPDwMnU6H/Px8/PnPf0ZbWxtuu+02OJ1OyLKMyspKbN68Wb3cxo0b\n",
              "sWbNGjz66KPIyMjApk2bIv4PocA8AagSyGckGXHpzFy8fqQNDZ1DWFk98jLD7hJ8ZrIRne4z5G1O\n",
              "Fwx6ro4lIiKi8QkrAJ0+fXrAfkyxD9Sf2bNnY/fu3eHdMooYMQVvNnqCx7Qk5a4ftDr8XkZkQLUB\n",
              "qNXuQoopmreUiIiIpgKms6YA3xI8AKSbgwegFncAmpZkUMvwNpbgiYiIKAIYgCY4WZbVwNGkCUBT\n",
              "3QFovyVABtSmXCbJqFcDV+4CJSIiokhgAJrg7E4ZsnvQXfSAAp4AdLQSfLJRrwau3AVKREREkcAA\n",
              "NMFpg0avErzoAbWNHoCKwJW7QImIiCgSGIAmOG3QqA1AU03BS/BiEX2KSa8OLzEDSkRERJHAADTB\n",
              "iQDUZNBBkiT186OV4IfcAWiSSdMDygwoERERRQAD0AQnTjAy++zvVEvwVv9ZTZbgiYiIKFoYgCY4\n",
              "UTbX7gAFPBnQgVHWMHkNIXEKnoiIiCKAAWiCE0GjdgIeANLMyt8DBaDiJKRkrxI8e0CJiIho/BiA\n",
              "Jjh/S+gBIM1sBKD0gMpiT5OGKMF77QFlCZ6IiIgigAFogrM5Ri6hB4BUdwbU4ZL9Bpb+ekBtDECJ\n",
              "iIgoAhiAJji1B9Q3AHWvYQL8l+HVHlCTTrOGiQEoERERjR8D0ATnKcF794DqdBJSTcrn/K1iUntA\n",
              "jXqY9OwBJSIioshhAJrgAk3BA8HPg/fqATVyCp6IiIgihwFogvNMwY+8q9OCLKP32wPqZABKRERE\n",
              "48cANMGJoNF3CAkA0oKcB2/xt4aJGVAiIiKKAAagCS7QHlAg+Hnww/4W0bMHlIiIiCKAAWiCCzQF\n",
              "D2jPgx8ZWHrvAeVRnERERBQ5DEATXKBF9ID2PHjvDKjLJcPizpx6n4TEAJSIiIjGjwFoglMDUKOf\n",
              "Erx7GX2/TwCqDTSTNVPwNpbgiYiIKAIYgCY49SQkfbASvHcAKsrvAEvwREREFHkMQBNcsB7Q9FEC\n",
              "UJNBB71O8gwhcQqeiIiIIoABaIJTp+CDLaL3DUA1pyAB0PSAsgRPRERE48cANMEFOooTCFyCt9gD\n",
              "BaDMgBIREdH4MQBNcCJo9LeIfrQSfLJJBKDuk5AYgBIREVEEMABNcKHsAfVdRC9K8EkiA2pkBpSI\n",
              "iIgihwFoggupBG8LkAF1B55igp49oERERBQJDEATXGiL6L0DS4tPCT6JGVAiIiKKoLAD0GuuuQbz\n",
              "58/HwoULsXLlSuzfvx8AUFdXh+XLl2PWrFlYunQpDh8+rF4m2NcouqzuYDLYFPzAqFPw7AElIiKi\n",
              "yAk7AH3xxRdx6NAhHDhwAN/61rewZs0aAMC6deuwdu1anDhxAg8//LD6+dG+RtFlcwZeRJ9mUgJQ\n",
              "m8PlFVxqz4EHOAVPREREkRV2AJqVlaX+ube3F5Ikob29Hfv27cPdd98NALjtttvQ1NSE+vr6oF+j\n",
              "6PPsAQ18FCfgPQkvAtAUdwleTNA7XTIcTgahREREND6GsVzo3nvvxTvvvAMA+Mtf/oKmpiYUFRXB\n",
              "YFCuTpIklJeXo7GxEZmZmQG/VlVVNeK6rVYrrFar1+ecTg6/jFWwHlCDXockow4WuwsDVgeyU00A\n",
              "AEuAEry4PoOfbCoRERFRqMYUSWzevBlNTU344Q9/iIcffjiiN2jDhg3IzMz0+qitrY3oz5hKgq1h\n",
              "AoA0P32gQ2INk08GVLk+ZkCJiIhofMaVyrrvvvvwzjvvoLS0FC0tLXA4lCBGlmU0NjaivLwcZWVl\n",
              "Ab/mz/r169Hb2+v1UVNTM56bOaWpGVA/JXjAE4D6K8GLDKheJ8GolwBwEImIiIjGL6wAtKenB+fO\n",
              "nVP//uqrryI3NxcFBQVYvHgxtmzZAgDYtm0bSktLUVVVFfRr/pjNZmRkZHh96PX+gycKTpZlNWD0\n",
              "N4QE+J+E9w1AAU8ZnrtAiYiIaLzC6gHt7e3FHXfcgeHhYeh0OuTn5+PPf/4zJEnCxo0bsWbNGjz6\n",
              "6KPIyMjApk2b1MsF+xpFj00zMORvDRPgPwD13QMKuMvwVpbgiYiIaPzCCkCnT58esB9z9uzZ2L17\n",
              "d9hfo+jRBouBekD9nQfvexSn9vJiqp6IiIhorDjOnMC0weLoJXhPad1/CZ7HcRIREVFkMABNYCJY\n",
              "NBl0kCTJ7/eoAahF2wOqBK7+ekA5hERERETjxQA0gdmC7AAV1PPgbZoeUFuAHlCwB5SIiIjGjwFo\n",
              "AvMsoQ+8RSDVFHgK3m8PKEvwRERENE4MQBNYsFOQBHEcp3cJ3k8PqJEZUCIiIooMBqAJzOoOJAOt\n",
              "YAI0JXhr8BK8Zw8oA1AiIiIaHwagCUzsAQ00AQ+Es4ieGVAiIiKKDAagCUysYQp0DCcwMgC1O11w\n",
              "uGQA3gGoOoRkZw8oERERjQ8D0AQWSg+o7yL6YU2AmWTyXI4ZUCIiIooUBqAJTEysBx9C8l5EL/o/\n",
              "dZJ36Z49oERERBQpDEATWCgZ0DQ1ALUD8O7/1C6vF9fBRfREREQ0XgxAE5gthD2gIgC12F1wOF2e\n",
              "ANTkfRnPGib2gBIREdH4MABNYOGU4AFg0ObEsG3kEnoAMOlZgiciIqLIYACawDxT8IHvZpNBp/Z6\n",
              "Dlgdflcwaa9DXCcRERHRWDEATWChHMUJAGmaZfSWQCV4HsVJREREEcIANIGJYNEUpAQPaI7jtDow\n",
              "bFOCVt8SvAhiOYRERERE48UANIHZQpiCB4BUk3sS3hK4BG/iHlAiIiKKEAagCSyUNUyA93nwAXtA\n",
              "WYInIiKiCGEAmsBC7QHVHscpFtEH7gFlBpSIiIjGhwFoAlPXMAWZgge8A9DAe0DZA0pERESRwQA0\n",
              "gYlgUXukpj/a8+BHL8EzACUiIqLxMYz+LTRZqSX4kDOgTs8apoBDSOwBJSIiovFhAJrA1EX0IfeA\n",
              "2uFwygCC9IByET0RERGNEwPQBBbKUZyAtgTvhNOlBKCB9oCyBE9ERETjxQA0gYlgcfRF9J4hJCFQ\n",
              "DyiHkIiIiGi8GIAmMFvIa5jcJyFZHDDoJQBAssk7aFXPgnc4IcsyJEmK9M0lIiKiKYJT8Aks7EX0\n",
              "NgeGbQGm4PXK310y4HCX6YmIiIjGggFoAgt5D6hp5B7QET2gmutgHygRERGNBwPQBBb2FHyws+A1\n",
              "u0Stdq5iIiIiorELKwC1WCy4+eabMWvWLCxYsABXX3016uvrAQCXX345ZsyYgYULF2LhwoX48Y9/\n",
              "rF6uvb0d1157LaqrqzF37lzs2LEjsv8K8ivUISTtWfCBjuLU6SQ1CLU5mQElIiKisQt7CGnt2rW4\n",
              "7rrrIEkSfvrTn+L+++/Hu+++CwD48Y9/jJtvvnnEZR555BEsW7YMf/vb37B3717ccsstOH36NIxG\n",
              "43hvPwUgy7IaKI7WAyoyoIM2JwzuINM3AwoogazN6eIuUCIiIhqXsDKgSUlJuP7669UJ6GXLlqGh\n",
              "oWHUy7344ov46le/CgBYunQpiouLsX379vBvLYVM26c5WgCaZva8D+kdtgMY2QOqvR72gBIREdF4\n",
              "jKsH9KmnnsJNN92k/v2RRx7BvHnz8LnPfQ6nTp0CAHR2dsJut6OwsFD9voqKCjQ2Nvq9TqvVir6+\n",
              "Pq8Pp5M9h+HyDkCD94CaDToYdN5rlXxL8OL7lOvm/UFERERjN+YA9NFHH0V9fT02bNgAAHj++edx\n",
              "7NgxHDp0CCtXrsSNN944puvdsGEDMjMzvT5qa2vHejOnLBEkShJg1Aff2SlJklqGF/yV4M3uz3EZ\n",
              "PREREY3HmALQJ554Ai+//DL++te/IiUlBQBQVlYGQAlmHnzwQZw6dQqdnZ3Izc2FwWBAa2urevmG\n",
              "hgaUl5f7ve7169ejt7fX66OmpmYsN3NKE0GiSa8LaWl8mk8AyhI8ERERRUvYAeiTTz6JF154AW+8\n",
              "8QaysrIAAA6HA21tber3bNu2DdOmTUNubi4A4I477sDTTz8NANi7dy+am5uxevVqv9dvNpuRkZHh\n",
              "9aHXBy8h00ihLqEXtAGoyaCDXjcyaDWxBE9EREQRENYU/NmzZ/Htb38blZWVuOKKKwAoAePbb7+N\n",
              "G264AVarFTqdDnl5efjjH/+oXu7xxx/HPffcg+rqaphMJmzZsoUT8FGm7gD1k8n0RxzHCfgvvwOa\n",
              "DCin4ImIiGgcwgpAS0tLIcv+j2Hct29fwMtNmzYNr7/+eni3jMZFPQUpxAyotgc0cACqd183A1Ai\n",
              "IiIaO56ElKBCXUIviGX0gP8JeMATzHIIiYiIiMaDAWiCsjlCO4ZTEOfBA/4HkADPefDsASUiIqLx\n",
              "YACaoMIdQvIuwfu/jDiKkyV4IiIiGg8GoAkq3B7Q0Erw7AElIiKi8WMAmqDCn4IPYQhJlODtLMET\n",
              "ERHR2DEATVBWzSL6UGgD0IA9oGINk5MZUCIiIho7BqAJyiZK8AH6OX2lh5ABNXEPKBEREUUAA9AE\n",
              "Na4hJPaAEhERURQxAE1Q1nDXMGlPQhplDyjXMBEREdF4MABNUGFPwZs9R6OOdhQnF9ETERHReDAA\n",
              "TVDqFHzIJfgQzoI3sgRPRERE48cANEHZnOEFoGkh9IByET0RERFFAgPQBBXuHtC0pDCO4uQeUCIi\n",
              "IhoHBqAJKtwe0GSjHjrJ82d/OAVPREREkcAANEGpi+hDDEAlSUKqScmCcgiJiIiIookBaIKyhbkH\n",
              "FPCU4bmGiYiIiKKJAWiCCncPKABUFaRBkoDynBS/X1dPQmIGlIiIiMbBMPq30GQUbg8oADx99xJ0\n",
              "DthQFiAAZQ8oERERRQID0ASlZkBDPAseUI7j1B7J6YtT8ERERBQJLMEnKLGGyaQPvQQ/GnUIyckM\n",
              "KIXn47O9ON9vneibQUREcYIBaIJSF9GHkQEdjbYHVJbliF0vJbbTHYP47M924atbPpzom0JERHGC\n",
              "AWiCEmXycHpARyN6QGUZsDsZgFJojrb0QZaBpq6hib4pREQUJxiAJqixTMGPRhvMchUThaq5exgA\n",
              "MGzj7wwRESkYgCYo6xj2gI5Ge11cRk+hOtutZD6H7E62bhAREQAGoAlLZChDPQkpFJIkcRcoha25\n",
              "R8mAOl0yB9iIiAgAA9CE5HLJao9mJDOgAGDWMwCl8Jx1l+ABluGJiEjBADQBabNM5gDnuo+VuguU\n",
              "PaAUomZNADrEAJSIiMAANCGJHaBAFDKg4jQkOzOgNLreYTv6rQ7178M8xICIiBBmAGqxWHDzzTdj\n",
              "1qxZWLBgAa6++mrU19cDANrb23Httdeiuroac+fOxY4dO9TLBfsaRZ7ITkoSYNBJEb1uLqOncIgB\n",
              "JIEleCIiAsaQAV27di2OHz+OgwcP4qabbsL9998PAHjkkUewbNky1NXVYdOmTbjzzjtht9tH/RpF\n",
              "nnYCXpIiG4CqQ0jMgFIItOV3gCV4IiJShBWAJiUl4frrr1eDmmXLlqGhoQEA8OKLL+KrX/0qAGDp\n",
              "0qUoLi7G9u3bR/0aRV40doAKZgN7QCl0Z0cEoI4A30lERFOJYTwXfuqpp3DTTTehs7MTdrsdhYWF\n",
              "6tcqKirQ2NgY9Gv+WK1WWK3eZ0Y7nQx2wiGCw0j3fyrX6e4B5RQ8hUCsYBJYgiciImAcQ0iPPvoo\n",
              "6uvrsWHDhkjeHmzYsAGZmZleH7W1tRH9GYlOzYBG8Bx4QVwnF9FTKHx7QFmCJyIiYIwB6BNPPIGX\n",
              "X34Zf/3rX5GSkoLc3FwYDAa0traq39PQ0IDy8vKgX/Nn/fr16O3t9fqoqakZy82cskR/pkkfjQwo\n",
              "S/AUOpEBFb3DQ5yCJyIijCEAffLJJ/HCCy/gjTfeQFZWlvr5O+64A08//TQAYO/evWhubsbq1atH\n",
              "/Zovs9mMjIwMrw+9PvK9jIlMTKhHoweUJyFROMQQ0sz8NADAMHtAiYgIYfaAnj17Ft/+9rdRWVmJ\n",
              "K664AoASMH7wwQd4/PHHcc8996C6uhomkwlbtmyB0WgEgKBfo8izurNMUSnBcw8ohWjQ6kD3kLLt\n",
              "oqogDUdb+jBs4+8NERGFGYCWlpZClmW/X5s2bRpef/31sL9GkaddwxRpkS7Bv7q/Gc/sOIX/vXsx\n",
              "puemRuQ6KT6I8ntmshEF6WYAwJCdGVAiIuJJSAlJBKCmKK5hitQQ0gu1jTjS0ocdJ85H5PoofogB\n",
              "pJKsZKSYlN9FTsETERHAADQhRXUNkzGya5jO9SpZsj4LM2OJRvR/lmYnI9kdgHIKnoiIAAagCckW\n",
              "xRK8mKyPRADqdMlo7bUAAPoZgCYcsYS+JDsZKUZmQImIyIMBaAKaLCchdQxYYXcqPcUDVh7NmmjO\n",
              "9ogMaApSTEq7OU9CIiIiYJwnIVF8EhPq0VxEH4kpeO0xjcyAJh5Rgi/JSobdvRqMJXgiIgKYAU1I\n",
              "IjsZnUX07h5Q5/gD0HM9DEAT2VlND6g6hMRF9EREBAagCSmaR3Gqi+gjkAH1DkBZgk8kFrsTHQNW\n",
              "ABxCIiKikRiAJiDbJOkBZQY0cYkdoKkmPTKTjUjmEBIREWkwAE1AUV3DZIjcGqZmBqAJy7OCKQWS\n",
              "JKlDSCzBExERwAA0IcXiJKRILKJv7rGof2YJPrFoVzABUHtAOQVPREQAA9CEpE7BR2URfeT2gGpL\n",
              "8ANWR8BjXmnyae5RTkEqdQegogfUYnfB5eL9TEQ01TEATUA2Z/R6QD2L6MdXSh2wOtA77Ml6umQO\n",
              "qCSSs5oVTIAnAwqwDE9ERAxAE5LaAxqVPaDuHtBxTsGL7Gd6kgEGnQSAfaCJpNmnBJ+keTPENxpE\n",
              "RMQANAFFtQRviEwJXgwglWQlIy1JGVBhH2jiaNacggQAOp3ESXgiIlIxAE1AIjg0RTUAHV8QcU4T\n",
              "gKa7A9A+ZkATgs3hQmufMmAmSvCAZhDJzvuZiGiqYwCagDxrmCLfA5qXboZOUsrlLb3Do18gAG2J\n",
              "Ns1sBKD0hdLk19prgSwrb1by0kzq57mMnoiIBAagCcgWxTVMGUlGzC/NAgDsrOsY8/WIDGixJgPK\n",
              "EnxiONutTMCXZCdDkiT186IEb2EASkQ05TEATUDWKJ6EBAArq/MAjDcAVUq0xVnJyFADUGZAE8FZ\n",
              "n/5PIYUZUCIaxdd+8yFu/fl7sDvHv+qP4hsD0AQUzbPgAWBldT4A4L36jjHvdGz26gF1l+AZgCYE\n",
              "3xVMglqC5xomIvLD5ZLxl49b8VFjD053DE70zaEoYwCagKzuF3ixszPSFpVnIdWkR9egDUda+sK+\n",
              "vMPpPaSSZmYJPpF4juH0DkDV4zh5GhIR+aHdESyeRyhxMQBNQNHOgBr1Olw6MxfA2Mrw7f1WOF0y\n",
              "DDoJ+elmTsEnGN9TkAQOIRFRMNrnBtFLTomLAWiCcbpkONxl8Wj1gALAZVVKH+iu+vNhX1YMIBVl\n",
              "JUGvk9QSPHtAE0OgEnyKkQEoEQWm3RF8tocZ0ETHADTB2DQL4qMxBS9c5u4D3Xu6O+zF4qL/szhT\n",
              "CVDEIvoBK0vwk92wzYnWXqW9ItAQEhfRE5E/g5r2nLMswSc8BqAJRrsgPpoB6Mz8VBRnJsHmdKG2\n",
              "oSusy2oHkABwCj5B9A7bcd9ztXC4ZOSlmZGfbvb6erK7BzSRM6C9Q3Y0drJ0SDQW2ucG9oAmPgag\n",
              "CUb0f+okwBClISQAkCQJl7nXMe2qC68Mr90BCkCzB5QB6GTV3m/B55/Zg9qGLqQnGfC/dy+GXid5\n",
              "fY+aAU3gk5Du/OUefOrH29HuHrIjotBpqyPNk7QE73C68PyeM+rrHAXGADTB2KK8A1RLrGMKdxBJ\n",
              "7AAtyRYBqOgBZQl+MmrqGsIdT+/G0ZY+5KWZsXXtpVhakTPi+xL9LHiH04WjLX2wOVw4dLZ3om8O\n",
              "0aSjLcGf77fCMglXtr28vxnfffUTfP2F/RN9U+IeA9AEox7DGaUJeK0VVXmQJOBYa39YGR9RWhEZ\n",
              "ULGGiUdxTi79Fjver+/Abf/7Ps50DqEsJxnbHrgUFxZn+P3+eJyCP9bah6U/ehM/fbtu3NfV3m+F\n",
              "WItb1z4w7usjmmp835xOxiziwaYeAMC+M904OoY1hVOJYaJvAEWWxR69Yzh95aSaMLc4Ex8392JX\n",
              "fQduXVwa0uXOqT2gSQDANUyTxMdne7F1XyNOtg/i5PkBtPdb1a/NKUzH5i/VoCAjKeDlPSX4+AlA\n",
              "f/p2Pc73W/Hr3Wfwj1dUeR0dGq6WXs+bsHoGoERh831zerZ7GJX5aRN0a8ZGuxv7tx804j9unjuB\n",
              "tya+hRWlfP3rX0dFRQUkScKBAwfUz1dUVGD27NlYuHAhFi5ciK1bt6pfq6urw/LlyzFr1iwsXboU\n",
              "hw8fjtiNp5FED6gpBgEoAE0faGhl+D6LHf3uTKenB1QpwdscLq8hKoofH57pxj9s3I0texqx+1Sn\n",
              "GnzmpZlx4/wibF17adDgE4i/ozhbeofx109aASjlvuNt/eO6vlavAHR810U0FQ35HFIx2fpAnS4Z\n",
              "x1o8j/1X9jdjkJW9gMLKgN5+++34l3/5F1x22WUjvrZ161YsXLhwxOfXrVuHtWvXYs2aNfj973+P\n",
              "NWvWYO/evWO+wRScWoKPQQ8oAKysysP/vnsSO+s7IMuymkFyOF345Fwf5hSmI8nouS2i/J6dYlRP\n",
              "xhEleEAZRDKnxea2U2iOtfbhS7/ai2G7E8sqc3DHkjLMLEjDjLxUZCYbQ76eeJuCf373GTg1R8nu\n",
              "quvAnEL/7QOhaOn1vFjWtw94PR6IaHQjM6CTa6PEmc5BDNudSDLqUJiRhIbOIfzx4Dl8oaZ8om9a\n",
              "XAorTbZq1SqUloZWZgWA9vZ27Nu3D3fffTcA4LbbbkNTUxPq6+vDu5UUMs8QUmwyoEsqspFk1KkZ\n",
              "pCGbA79+vwGXP/Eubv7Ze1j/8sde3+87AQ8Aep2EVHd2jOfBx5fGziHc82wteoftWFyehefWLMVt\n",
              "S0qxsCwrrOAT0O4Bnfj7eNjmxAu1jQCAS2YoA1M7xnCql5a2BD9oc3r9nYhGJwJQsUAjVquYDjb1\n",
              "4NfvN0CW5dG/OQhRfp9dmIG7LpkOANiy58y4rzdRRSxKuffeezFv3jx8+ctfxvnzylqepqYmFBUV\n",
              "wWBQMh+SJKG8vByNjY0Br8dqtaKvr8/rw+mMj4zJZGCNcQBqNuhxyQzlWM7/88fDWPHY2/j+Hw+r\n",
              "S4T/cKAZDR2D6vef6/F/Sg5PQ4o/bX0W3PXsHpzvt2JOYTo2ralRs9ZjkRxHJyG9eqAZ3UN2lOUk\n",
              "4/ufuQgAUHu6c1xTt60+AScHkYjCI0rwFbmpAGJXgn942yF8/4+H8cHp8HZa+xJDRxcWZeD2JaUw\n",
              "GXQ4fK6PWzECiEiUsmPHDhw6dAgfffQR8vLycN999435ujZs2IDMzEyvj9ra2kjczCnBGsM1TMJK\n",
              "dx/onlNd6B6yozwnBf9x81ysmpUPlww8s/OU+r3N7hVMxSMCULELlKuY4kHPkA33PluLpq5hTM9N\n",
              "weYv1yAzJbyMp694OQlJlmVseu80AOC+SytwQVE6CtLNsNhd+PBM95ivV5TgxZs/DiIRhUe8Oa2e\n",
              "pgwexeI0JLvTpT5Wx/um8cg5EYCmIzvVhBvnFQFQsqA0UkQC0PJypb/BaDTioYcews6dOwEAZWVl\n",
              "aGlpgcOhvKuRZRmNjY3q9/uzfv169Pb2en3U1NRE4mZOCVZ3BidWQ0gAcOP8YpTlJGNBWRZ+dudi\n",
              "vPOdy3HPsul48IoqAMDvPzyL9n4l8PQ9BUngJHx8+e8363C8rR/TMszY8uVLUJAefMAoFCJ7OtFT\n",
              "8O+f7MSJtgGkmPS44+Iyr0MVwt1pqyUyoDXukj4HkYjCIzKgs6alA1CqMNrjpYOxO114dtfpsE8i\n",
              "O9M5CIe7F7yxc3CU7w5OlODFKrq7limxzp8OnUPvEJMrvsYdpQwODqKnp0f9+wsvvIBFixYBAAoK\n",
              "CrB48WJs2bIFALBt2zaUlpaiqqoq4PWZzWZkZGR4fej1HEoJVaxL8ABQmJmEnf9yJf7wjytww/wi\n",
              "9QScpRXZWFyeBZvDhV+91wBAU4LP9g5A09wleO4CjQ917uDpO9fMRllOyijfHRqxB9ThkkN+UYkG\n",
              "kf28fUmp2se6Ug1AwzvVS3C6ZLS5NwOsnqUc0FDXxgwoUThEBrQsJwVmgw4ueWRrSyDP7z6D//jz\n",
              "ETz2t6Nh/UxtpaJhHMfodg5Y0dZnhSQpPaAAsLg8G3MK02Gxu/Dy/rNjvu5EFVaUsm7dOpSWluLs\n",
              "2bP49Kc/jaqqKrS1teGKK67A/PnzMW/ePGzfvh2bN29WL7Nx40Zs3LgRs2bNwmOPPYZNmzZF/B9B\n",
              "HqKHUjtZPlEkScJXV88EADy/5wz6LXa/Q0gAS/DxpqPfBkB5cxEpyZptCBNVhj/TOYi3jrUDAO5b\n",
              "XqF+fkWVEoAePteHzgGrv4sGdb7fCqdLhl4nYVml0hNd556EJ6LQiAA01WRQq2Rne0ILCt89obx5\n",
              "PN4aXuXh5HlP1jPc7KnWUff6pek5KerrryRJuOsSJQv6mw8a+XzgI6woZePGjX4/v39/4COnZs+e\n",
              "jd27d4d3q2jMRB9aJAOH8fjUBdNQVZCG+vYBPL/nDNr6RA+o9+3L4HnwceW8OwjLTzdH7DpNBh0M\n",
              "OgkOl4whuwOZGF9P6Vj86v0GyDJw+ex8zNQsuC5IT8KcwnQca+3Heyc78dkFxV6Xa+oawh8ONGPN\n",
              "ihl+39yJx920dDOqCtKgk4DeYTs6BmwR/T8kSmSiBJ9i0qMkOxmnOgZD6gO12J2oPd0JAGjqGlbf\n",
              "DIZCmwE90zU45vVpR33K78LNi0qw4a/HUN8+gNrTXbjE/QaVeBRnwhEZxiKfDONE0ekkrF1VCQD4\n",
              "2dv1cMlKIJKX6v2inM4SfNywO13oHlIyoHlpkQ2eJvI4zgGrAy/tU8pgX1wxY8TX1TL8Ce8yvNXh\n",
              "xBd/tRdPvH4CL3zgf4OHKBMWZiYhyahHubttoY59oEQhE88LKSY9St1tWqGsYvroTLd6CqDN6Qrr\n",
              "CM+T5z0BqMXu8jrhLRyi//MCn13C6UlG3DhfGUZ640jbmK47UTEATTDn3FPmJVnxkQEFgJsXlqAw\n",
              "IwmD7ieX4swk6HzenYqsEkvwE69r0AZZVvazZqeYInrdEzkJf7CpBwNWB0qykrHKHWxqraxWejd3\n",
              "uQ9VEH72dr2aJTkWoLwndn6KN35VBUp29SQn4YlCNqwGoJ4SfCirmHx3+J7uCG2YSJZl9TFq1Cuv\n",
              "SWfGWIZXJ+CLRx5mUV2gDFWdH0N7TyJjAJpgRCmwKDM+MqCAkvH88mWejJNv/yfAKfh4ct6dAchJ\n",
              "NYVcxgpVygSehiRelOYUpvstsdXMyIHJoENLr0XNihw514efv3tS/R5ttkRLfdy5jyOtcr/gcBco\n",
              "UejEsZXJJj1Ks5UqQiinIe2qV6oWYvtLQ4jT7C29FgzanDDoJCyZnh3WZbUsdqf63OAvAM1JVd7I\n",
              "dw3awr7uRMYANIEM25zodq96KI6jABQAvnBJudrn6T8A5SL6eCHepUe6/A5ol9HH/n4WByJU5KX6\n",
              "/XqSUY+aCmWF0s66DjicLjy87RAcLhkXFCkvKqfO+x8satGU4AGg2p0B5SQ8TRYb/nIU337x4IQO\n",
              "yogVbalmvbopZbQMaOeAFZ80K9nHG9x7N0PNgIqgsTw3Re0JH8sgUn37ABwuGVkpRhRmjKw+5qSZ\n",
              "3LeVAagWA9AEcs6dhUkx6ZGRPPFT8FppZgPWuSfiL3a/0/T9OgAMsAQ/4Tr6Iz+AJExkCV5kNgIF\n",
              "oADUfaC76jrwy12n8XFzLzKSDHjmniWQJCVD3+HnRUT0gIrKgyjB1wfImBLFkyGbAxt3nMK2j86O\n",
              "uQQ9XjaHC3anEvymGA1qD2hLjwVOV+Cg+L2TyvDRBUUZuLhCeW0JNQAVrTVV+Wnq6UtjyYAe0ZyA\n",
              "5K+6kssMqF8MQBNIi+aUobFM8UXb1y6fiR3/fAX+4eKyEV/jFHz88GRAI9v/CXiGkCZiGb14UZqR\n",
              "GzgAFYNI753swI/fOAEA+PcbL0RZTgrK3CVBf2V4Tw+okv2Y6Q5Az/db0TPEFx2Kb9pJ86YQSt7R\n",
              "oH1TmmzSoyA9Sd2aIban+COGBldW56mP7YZwA9CCNJTnKo/vxq7w//2eE5BGlt8B7xI8VzF5MABN\n",
              "IOfU/s/4GUDSkiQJ5bkpIwaQAJbg44nYARrNDGise0CdLhlNXcrjoyIv8GL9CwozkJtqgsXugtXh\n",
              "wsrqPNyxpBQAMDNfeXE7dd77xc2peYEUj700swHF7j/zSM745HC6YHdO3IEI8UTbZzmWACwShuzK\n",
              "c79RL8Fk0EGvk9Q3dIFWMcmyjF31ygDSyuo8tbrR1D0c0n0r3kzO1GZAQwxetdQJ+AABaK5764vN\n",
              "6eKmFw0GoAlEzYDGWf9nKLiIPn6oO0Cj2AMa6xL8uZ5h2JwumAy6oI8PnU5Sl9KnmPR49JZ5ajWh\n",
              "0t0j5psB7RywwuGSoZO8/8+q3McJMgCNPy6XjM/89D1c8+MdDEIB9c0ZMIEBqPs5QXtgRWmW8max\n",
              "OcAy+pPnB9DSa4HJoMPSihwUZiTBbNDB6ZJD2h9a364Em1UFaerqtD6LI6yqhSzLAXeACskmvfrv\n",
              "YhnegwFoAvHsAI3PDGgwae4AdNDmDNrvQ9EXzR7Q5Amaghfl9+k5/jPwWvdcOh3FmUn40S1zvY4h\n",
              "nRkgABXl94L0JBj0nqdUdRCJAWjc6Rqy4WhLH053DIZ81GMia9IEnU1BAlCXS8YzO07io8buiN+G\n",
              "IatnBZNQMsou0J3u9Us1FTlIMuqh00khZzJ7h+zocL/ZnlmQ5i77K8954fTBnu0eRr/FAaNe8jrc\n",
              "wpcow3cyAFUxAE0gogTvb8o83okMKMBl9BOtI4pT8GoJ3h7b+ziUASRhaUUO3l9/FW5ZVOr1+UAl\n",
              "eN/+T6GKAWjc0gad7f0MQLXZwmAZ0B115/HoX47hm1sPRPw2qKcgmTUZUHcAGiibuavOU34XRIvN\n",
              "aINIYkCwMCNJHYIdyyCSyH5WF6Sra6D8yXX31HdxEl7FADSBiBfCyViCNxv06oM31DL8obM9OMUp\n",
              "44iLxjGcwkRNwasDSCEEoIGIEnxT9xAsmiGq1gC919VcRh+3tEMt7X1cDq4dPAq2hkics36mcwhn\n",
              "xjAtHsyQ3XMKkhBsGb3N4cLuU8oE/GVeAWhoQeRJzQCSoA4ihZEBPTJK+V3gLtCRGIAmCFmW0TKJ\n",
              "S/BAeJPw5/utuP1/d+Pzz+zhVGEE2Rwu9Lh3yUZlD+gEDSGpO0CDTMCPJi/NhIwkA2TZ+8VN3QGa\n",
              "4f3GT7ywNfcMM6sfZ1o1AWiwCeupQlt277M40DvkPwmgzf77nj40XmoJ3uiphnmW0Y8MQPc3dmPI\n",
              "5kRemsnr+EsxCT9aBtQzgOR5TqhwB6ANYQSgR0cZQBJYgh+JAWiC6LM4NEddTr4MKKDZBRrCi/WB\n",
              "ph7YnMq5vb3DHFyKlM5BJRtk0EnISjZG/PpTJmgISbygBJuAH40kSep6Je0LsVqC98mAZqWY1CCe\n",
              "WdD40qbJeo717O9E0TtsV0+gE0mAQGV4bf/zrrrzEb0dwUrwzT3DcPnMBoj+zxVVeV593aFmQOv9\n",
              "ZkCVyzZ2hZ7d1e4ADUY8F3TyOE4VA9AEIQaQslOMapZpsvGsYho9oPykuVf987keZjAiRaxgyk0z\n",
              "jTqsMxaeozhDywh2DFjx5pG2cU0qO5wuNcMznhI8AFTmjSyrtwboAQU8ZXhOwseXNq8e0MkZEMiy\n",
              "jB0nzo87uy5WMOWmmlDt3twQSgD6fn0nHBHcIDDspwRfmJkEnaRUZjp8Ared7vVLl1XleX2+0v0Y\n",
              "b+4ehs0R+PapGVBNADo9J7wMaJ/Frm4QGC0AZQl+JAagCSIez4APV3oYJXhtACr+7TR+5weUF+Zo\n",
              "lN+B0BfRO10ynt9zBlc+8S7u37wPr+xvHvPPPNs9DIdLRpJRh2np42tPmVmgvLhpX4hb+gLv362e\n",
              "xkGkeKQtwU/WAPQPB87h3udq8aPXjo7rekQAVZqTogZg/gLQrkGbetRzepIB/VYHDp7tHfF9YzVo\n",
              "FWuYPCV4o16nHm15VtMH2j1ow6GzPQCAldX5XteTn25GqkkPlxw4kLbYnerXqjST66JF53y/NaQ3\n",
              "yW8cbgOg9KpmpgSvGLEEPxID0BBYHc6IvtOLhnPqKUiTs/8T8ASgfaEEoOc0GVCuUYmYaC6hB0Ib\n",
              "QvqkuRe3/u/7+O6rn6i/Cyfcww9jcVrT/znerK5Ys3LKfZ0ul6xmQAv9vPlTj+RsH/vtjxaL3Yn7\n",
              "f70PT71ZN9E3Jea8h5Am5/PHh2eUVUg7ToyvFC4yoGXZyeraMX+Bmxj4LMlKxip30Lcrgn2gw+6A\n",
              "L9XsXcHzXcVkc7jwja0HIMvAnMJ0FPq88ZMkCdNHWcXU0DkIl6y85mif6zJTjMh0tx6NtoqpY8CK\n",
              "H752BADwhZqRp/v5iuZxnANWB+54+n386ysfh1xdigcMQEfRO2THysffwX2baif6pgSVCBnQNLPy\n",
              "wB8YJQBt77d49XCd8zMhSWNzPoormADPkml/Q0g2hws/+NNhfPanu3CwqQdpZgNWVOUC8D8FG6rT\n",
              "ERhAEsTAwsn2AciyjM5BG+xOGZIEdYegVlUcl+DfOdaON4+24efv1k+53buJkAGtc7+pae4ZHtcg\n",
              "lRjwKc1OUZex+9sFKrL+lfmp6tT5zgj2gaqL6H1ayLSDSE6XjG++eAA7TpxHslGPR2+d5/e6ZozS\n",
              "B3pSs4De99hqMYg0WgD6gz8dQfeQHXMK07Fu9cyg3wtEtwS/52Qn9jZ047cfNOLmn73n97jgeMQA\n",
              "dBR7Tneivd+K9+o74/qdxTnNOfCTVainIR1u7vP6ewsD0Ig5H8Ul9EDwKfjffnAGm95rgEsGbpxf\n",
              "hLe+vRr3XloBYHwBaDg7QEdTnpMKvU7CoM2Jtj6rmv0sSDfDqB/5dCoC0MauIVgdsR28Gs27x5Xg\n",
              "wepwBVz0nYgsdqe66QFQAoJgvYLxSpziAwAfnRn7YngRbJblJAc9D10M3s3MT1P7Lvc39UTs9Dox\n",
              "RKudggc8q5jOdg/h31/9BK8daoFRL2HjPUuwuDzb73WNtgtUvCH0tzheDCIFWzP1xpE2/OngOeh1\n",
              "Ev7r9gV+H/u+xHGcYtAzkrSB9om2AXz2J7vw2qGWiP+cSGMAOooDTT3qn30XUMcTkQWczCX4UNcw\n",
              "fezu/xTlXJbgIyfaGVAxhOSvB/Roi5LRWbuqEj+9czGmZSSpLz7jyXJ7doCOfQJeMBl0ap+ccgyg\n",
              "crv8ld8B5WhOs0EHlwy09cZPpk2WZWzXlG7r4rBFIFpEttBs0MHgbsnwHXCJd92DNq/bPJ6TiZrU\n",
              "ErwnA9rcMzyi7Uy7tqgsJwUz8lLhdMnYfbJzzD9bK1AJXkzCb/voLF6obYROAp76/CKsmpU/4jqE\n",
              "0RbKi3+LdgLec1l3BjRA/2jvsB3/9srHAICvrKzEvNLMgLdDK8e9iN5id0U8mSWe4z6/tAyXzMjB\n",
              "oM2Jf/ztR/jBnw7H9ZsrBqCj2K95YMdzWtuzCmYyZ0BDm4IXA0ir3U9AHEKKnGgewwloTkLy8wQs\n",
              "TvLSviiIF5+OAZvX8vdwqBnQCJTgAaUECSg9caKUW5Th/42fJElqVSKefk+Pt/V7laGn0pCUaN8p\n",
              "zExSf88nWxm+3ue16KPGnjFdjyzLmhJ8svqGyemS1dcU4aQmAwp4ps931UemDzRQCV70gFrsSiD1\n",
              "6C3zcP28oqDXpZbgO/wHkeoKJn8Z0Jzgy+g3/OUo2vutmJGXioc+VR30dmilmjyHrXRG+DQk8Rx3\n",
              "cUUOfnP/JfiquyVg03sNuPMXe8a1RSSaGIAG4XTJOKSZ8ovXDKh2EMLfJO5kIc6DH22tiAhAr7lo\n",
              "GgBlDY7vjjgaG88xnKaoXL94cbHYXSPus1Y/J3llJhuR6r7MWMrwNk15ebwrmATPmfCDauuL7yCE\n",
              "lpji9X1Bn0jbj3v37sVjj2q0iMB7WkYSCtz3zWRbRi/ur+nubN3HZ3vH1OLRNWjDkM0JSVICPZ1O\n",
              "8juIZHO41L+LE8FWqn2gkQ1AU3wC0Ok5nsft+uvm4PM15aNel2i3Odc7POKNq8sl41THyBVM6s8L\n",
              "kj19r74Dv9vbBAB4/Lb5SDKGvvJQkqSoDSKJQHtGXgoMeh0euW4OfnHvxUhPMmBFVV5ILQITIT5v\n",
              "VZw40dbv1as20RnQIZvDbxaoY9AKm9MFSQr+QhjvQpmC7xywqiX3K2YXQCcBdqc86Upo8Ur0gPob\n",
              "qIkE7YuLbxlePVFI8zssSdKIKdhwNHYNwSUr2YdIZXU9AeiAegxnsNYXsR/0XAwzoE/8/Tju/uUH\n",
              "AasJov/zkhk5AKZYBlQ9uSpJ/T2fbBnQujbl/rpqzjTkpJpgc7pw+FzfKJcaqcn9mJqWngSzQXls\n",
              "lvsJQBu7BuF0yUg16TEtQ/k/WzYzF3qdhNMdg+ok/Xioi+hN3j2g5bkpWH/dHDx267yQhn0AZeI8\n",
              "3aycWubbz9rcMwyL3QWTXoey7JEVQ1GCP9fjvUd0yObAIy8fAgDcs2w6atyPnXBEYxDJYneqzy3a\n",
              "Ks/VF07D3x9aha9fFXqWNtYYgAax313WMLnfPZycwAxo77Adq/7zHXzhFyOPnmzpCT4IMVl4SvCB\n",
              "A9BP3E+yM/JSkZViwrQM8eI+uTIY8cjqcKrBf7R6QJMMngBU++auz2JXM9++wVyw86BHI9awTM9N\n",
              "HTHtOlaeEvygJmgO3PoiMrotMTowQZZl/HLXKeyq78BWd7ZGa8DqwL4zXQCA+1dWAvBM9U8FIgNa\n",
              "mOkJQM9PtgyoOxkya1oaFpdnARjbIJIIHEs1gZi/AFQMPM3UTI1nJBmxqEz52ZFYxxQoAwoA61bP\n",
              "DCnzKUiSpGZBfQeRxP/djLxUGPy8Xuanm5FsVPaIagPrJ/5+Ak1dwyjOTMLD180J+bZoRWMXaGPX\n",
              "EGT3Silx/UJxVjL0UThQJFImb7QSAwealAf01Rcqpd7THQMTVur9qLEbHQM27G/sUXcQComwggnw\n",
              "ZEAHrIF7QEX5fW6J0vgtWg44CT9+He6+JKNeUnfhRZpOJ6mrmLTZfBGcZSYbR2RARA/lWDKgoowW\n",
              "qfI74MmANvcMq4/FYK0vIqMbqxL8+QGr2i/3q/cbRqxYer++A3anjOm5KVg9Kx8GnYQBq8OrJzSR\n",
              "eZXg3QcTTLYMaH2bMjRWVZCGRe5J8LEMIokl9KLsrv2ztgdSlKwrfR5Hl0WwDB8sAB0L9UhOn9dL\n",
              "cYqZOFTCl7JH1HsQ6cMz3dj0/mkAwKO3zlOPjQ6XKMFH8jhOz5Bl5N5kxwoD0CBEBvQzC4pg1Euw\n",
              "2F0xLaNpHdGUV3zfbSbCEnoASDePPgWvBqDFyrFnRWJKmhnQcRMDSHlp5qg+kaX4WcXkeRM18ndY\n",
              "lODHMgmv7gCNwAS8kJ1qQrb71BPRslAYYAgJ8DwuYzWEpN3heLZ7GG8ebfP6uph+Xz0rHyaDTn2h\n",
              "FmXdRKctwYty8mTqAR2wOtTnu6qCNCyZrgSgH57pDjuL3aRZQi/4y4CKvZm+a4tEH+h7JzvGvUtW\n",
              "HUIyji248zUjVxyr6R2AitcQfwNIgvg/ONMxCKvDiYe3HYIsA7cuLsHlswvGfJty3ZWlSJbgGyK4\n",
              "5zjWGIAG0Gexq6n6JdNz1Ds3GmX4ho7BUUsYhzUn//i+21RXME36DKinBB/oiVScgDTPnQEtdgcs\n",
              "XEY/fuc1AWg0JRlHTsK3BBmiU/cAjqUEH+EJeEH7QixJUFtB/BGViVhlQH173ja9d1r9s3b9ktgi\n",
              "IV6Ip0ofqKcEb0ZBxuTrARUZvPx0M7JSTJhfmgm9TkJbnzXsN+LizYpY9g4ECED9nJsOAAtKs5Bu\n",
              "NqBnyO51PPJYBFrDNFb+SvB/+6QVrx44BwComZE76mXPdA3hp2/Xo759AHlpZnzvxgvHdZuiUYKP\n",
              "5J7jWGMAGsChpl7Isns1RbrZa/VKpN2/eR/ufvaDoA9gbYP5nlOdXmsV1BfvSbyEHvCU4J0u2e+e\n",
              "yJ4hm1oyuqjYHYDG4YqbeNZnseP//PGweoyflhjkitYKJsHfcZyihcLf73DpOIaQPNOh0QtA89LM\n",
              "6noVf8Qbw67Bsa+SCkdjp/L/tLI6D3qdhD2nunC0RXn+OHl+EGe7h2HS63DpTOUFWJxXPxUm4WVZ\n",
              "Rrt7DdNkLcHX+awQSjEZcGGRUhEKtw9UPKZKczyPuzL3n3uH7egdskOWZfV1T7wOCgbN79Fo65g+\n",
              "PNOFf33lY/QMjQy+ZFnGkN3/GqaxqvBZxXSstQ/fevEAAGDN8gq1fcAfEYRvP3Ee//vuSQDAf9x0\n",
              "EbJSxrcdJBpT8JHccxxrDEADEP2for9GO/kaSU1dQ+oT//sn/T+A+yx29ViwNLMBA1aH14J80RZQ\n",
              "PIkn4AElMBH90v6O4xRBeHlOCjLdJVCRXToXowGPeGV3urBmUy3+6YX9QctwT797Er96vwEb/nJ0\n",
              "xNc8GdDorGAS/JfgxQomfxlQ5Ym1tc8yYjl2MF7ToREOQLUvxKOtPstINqh9r60xyIKKzNWyylxc\n",
              "e1EhAE8WVGQ/a2bkqL228XxefaR1D9lhc/8OFaR7hpA6B6xh/W5NJHFogHjjAEAdRPL3xjIQl8uz\n",
              "A7RMkwFNMRnUKkhT9xA6BmzoszggSf4rCcvdAehowe9/v1mH337QiL8fbh3xNYvdBfG05dsDPlYz\n",
              "3Le1tc+Ccz3D+MrmfRiyObF8Zi7+7YYLgl5W9ICeOj8Ih0vGtRcV4rpRdo+GIioZUHeAzRJ8AhH9\n",
              "nwvdU35qANruvwTvcLrwhwPNft/dBfPB6S71zx+d6fH7PUfdgVdxZhIun62UzXZqTjERAxyTPQMq\n",
              "SZLa3O1vFdPH6gBShvq5WPfXxau9p7vw7vHz+NPBc3g/wMkkNocLL+5TpqI/bu4dcUJGrDKg6nGc\n",
              "9pEBqL9pcmW7gwSnS0ZbGJkqdTrUbFAzD5GizYAG6/8ElN/rWK5i8hytmIIvXVYBAHj1wDl0Dljx\n",
              "7vF2AFCfRwBPAFoXYBLe5nDh5Y/Oonc4MkcuTiTxBiA31QSTQYfcNDN0EuCSIxsUBHLy/IDXCVRj\n",
              "ug53wqJaUw5f7O4D3R/GIFJ7v7K+T6+TRryJKndnQRu7htSkS1l2it+9l6IsH+jkIEGUijv8LGHX\n",
              "tuMkh7FbM5jsVJM6THnPsx+gqWsYZTnJ+Nmdi0fdFqMN5jKSDPi/N18UkduUmyYyoJHJuA/bnGpL\n",
              "SaSrPLEQVgD69a9/HRUVFZAkCQcOHFA/X1dXh+XLl2PWrFlYunQpDh8+HNLX4pUsy2qGcZH7naVa\n",
              "gu/wnwHdsucMvvG7A/hX9xFdodpzyhMsfNjov4lcZP4uLM7Eqmp3AOoud9idLrT3J8YQEhD8NCTf\n",
              "CXjAkwFt77fG9ZFj0fbWsXb1z8/tOu33e14/0qo++VsdLhxr9d4bGO1jOAX1OE7Ni06wLL5OJ6mT\n",
              "5OGU4T0DSJGfDtX2whWH8MYvlquYRAa0PCcFi8uzMb80EzaHC8+9d1p9w7tac4zhzPw0SBLQM2T3\n",
              "G4Q9u+s0vvXiQfzzSwejftujrU0zAQ8Aep2k/r6L0ny0yLKMr/x6H+57rjasTKWvuvaR/ZjiTPTD\n",
              "5/pCbvMQK4aKMpNGrCPS9oGKA1h8y++CWBTf2DUUcEuM3elSq1Tdfn7HRDUkyaiL6NogUfk4eX4Q\n",
              "KSY9fnHvxcgO4c1oUWYSkozK/8l3b7xQbdUYrxz3efBdEToJSQT1WSnGcbcHTISwAtDbb78du3bt\n",
              "wvTp070+v27dOqxduxYnTpzAww8/jDVr1oT0tXjV1DWMzkEbjHpJ7a0Rpz+09Vn9Bkfvut/VvnGk\n",
              "LawsqDYAPd9vVUsiWiIAvag4Q+1bOdjUg95hO9r6LHDJyuqcvNToBg6xkB7kPHjPBLwnAM1NNcGk\n",
              "10GWJ9ckazj+992TuPEnO9Ee5N/3jiYAfft4+4jVIwDwmz2NXn/XtnEAQEe/8nsbswyo+0VHluVR\n",
              "s/hjORO+oSN6zfll2ckw6pUXylAOfxDfE+1VRxa7JyNSnpMCSZLwxRUVAICnt5+CzeFCSVay13Gn\n",
              "SUa9WoL1NwkvSqavH2mbFGX653c34Jofb/e7N1a7A1TwDCKN/b5RjrQcCtr+0tg1pK7tev3IyDJ0\n",
              "KCx2p/oGo7ogXf18aXYyCtLNcPic3ifLMv7f68dx2eNv40Sb933X5GcHqKANQD1nwPufGi/KSoJe\n",
              "J8HmcAXspT3XM6xOyXf5eX30rGCKTPldEJPwAPDkPyzEnMKMIN/tYdDr8N+fW4QffPYi3L6kNGK3\n",
              "R5TgB21Ov28U/vvNE/jUk9u9tt4EM5kn4IEwA9BVq1ahtNT7zmhvb8e+fftw9913AwBuu+02NDU1\n",
              "ob6+PujX4tl+d//nhcWZaskhM9movjD7Hslpc7hQ684s2J0y/nyoJaSf09Q1hLPdw9DrJLWc4m+X\n",
              "m5iAv6g4A8VZyZiZnwqXDOw+2eF1eowujhfOhio9wHGcfRY7Gtx9sNoMqE7nKW/G01GHkfTSh034\n",
              "pLkPL9SOXCoOKINxpzoGYdRLqJmRA1lW9j9q1bcPYPepTugk4HMXlwHwtJkIHbHKgLofU2LQrG/Y\n",
              "of45UD+l6AMNZxm9ugM0N/LN+Qa9Tj2yL5Tjb2O1rUG8gU0zG9RVUTfMK0Z+ulkNAFbNyh+REa4O\n",
              "0Ad6vt+Kg2d71L9v3H4qWjc9Yp7ZeQon2gbwp4PnRnxNlOC1WwsiMYi0cccpXPb4O/j9h2cDfs97\n",
              "9Z5kw9tH2wN+XzCnzg9ClpXXI22vtiRJahZUm1396dv1+Mnb9TjbPYyfvO39uqvuAM0e+fgQu0Cb\n",
              "QghAjXqd+gbxjJ/jK5XPe8rz/jOg4hSkyJTfhcvdp+X986dn49q5hWFd9tq5hbhveUVEqycZSQb1\n",
              "jau/QaTffNCI+vYB3Ptcrd8kgq/TUdhzHEvj7gFtampCUVERDAYlcJAkCeXl5WhsbAz6tUCsViv6\n",
              "+vq8PpzO6E+OaokXZnHKgyCW8PqW4Q+e7fEaqHh1f3NIP0eUw+aXZqqZTd9GbqvDqQ4pXeQOvFaK\n",
              "Mnxdh/qCNtmX0AuBSvDiHWFJVvKI0x7UZfQJ2gfaO6T8X7x6oNlvhuVtd/bzkhm5+McrqgAAv//w\n",
              "rNf/4Qu1ymPuyjnTcN085YnYNwMqhpBiPQUvyu/ZKcaAZyuLXaD+KgSBnI5iBhQAvrJyBmpm5Kht\n",
              "McEUqdsaovsmSdv/KV44TQYd7r7EU7XSlt+FqgCT8O8eb4cse6Z3Xz3QHNePs5beYTWwOujz+w14\n",
              "qiTavl2xC3SsJXhZlrFlzxkAwLaPggSgmiHTuvYBr0XvoVIHkDQnEgliH6hIYjy/uwH/740T6tf/\n",
              "+nGL1xCcKMFrl9AL4ZTgAYxY3O5L+/nuoZEVxEgvoRduXlSCI//3WvV5caJJkoTsFP+T8N2DNvU5\n",
              "uGPAiruf/WDUocUplQGNhQ0bNiAzM9Pro7a2Nqa3Yb9P/6cgem58B5Hed7+zXVqRDZ0E7DvTHdKT\n",
              "iyi/L6vMVd+9fuSTlTrROgCHS0ZWilHNolxW5Tl9QryglUzyASQhUAlelN8vKh5ZQilO4El4WZbR\n",
              "4x7+ON0xOCJoBDwB6BVzCrCqOg9VBWkYsDrw0j7lxdBid6qZmbuWlauDdac7BtVshMXuRL81usdw\n",
              "CsnuMpt40QnlJK/SMRzHqU6HRikA/dzScry47tKQe8qA6GdAPf2f3v+Xdy0rR6pJj/QkA1ZUjdx/\n",
              "GGgX6DvuoaW7lk1HTUUO7E45YI9xPKjVDHVqS9FCm2YHqJDvzoC2jbEEf6CpR31jtLeh2++wlssl\n",
              "Y497ODDLnZl++1jbiO8bjXiDoJ2AFxZPzwKgJDH+cKAZ3/ujMm/x9auqUTMjBw6XjOf3NKjfLwJ1\n",
              "vyV4d0DZ3D2sluoDZUABT8DaFCAAbfIKQAOX4JMjXIIHEPBN7UQJNAkvWiTy082oyE3B2e5h3PPs\n",
              "B34zxoLnOW7yrWACIhCAlpWVoaWlBQ6H8uIlyzIaGxtRXl4e9GuBrF+/Hr29vV4fNTU1472ZIbM6\n",
              "nOrU+UKfDGigVUzine3Ni0qwwh0cvnpg9CyoNgAV716PtPR5TQRqy+/iHe+ymbkw6CQ0dg2p1xFK\n",
              "GXAyEAGo7xS8CEDnacrvgjphnIDL6PutDq8TRnyz630Wu/qie9WcAkiShDXLKwAAv96tHMP450Mt\n",
              "6B22ozQ7Gauq85GVYlKz+Qfc5VXxztuk1yEjKfIvAlq+a5jUFUxBhuhK1F2goWWN+i12z3RoHGQH\n",
              "RHAd7R5Q7QCSVl6aGX/6p8vwh39coVYZtKqnKf2E2gDU5nBhxwnlue2qOQX46uXKufG//aBRzcrH\n",
              "G20A2twzPKKvs9Wd5SzwKsGPLwP6p4OeliunS8YOP1Pux9v60TloQ4pJj/svmwEAePt4+NPwIgD1\n",
              "FwxeVJwJk16HzkEbvrn1AGQZuO/S6fjmp6rxJXcf8G8/aFR7D5uCZECnpSfBpNfB4ZIhy0rpONh6\n",
              "NvXkoACJF21p3l/pWbzmpUY4AxqPxCS873GcIgCdX5KJ5798CQozklDXPoA1v9o7oiVNmPIl+IKC\n",
              "AixevBhbtmwBAGzbtg2lpaWoqqoK+rVAzGYzMjIyvD70+tj9Uh4+1web04WcVNOIJ3HPMnrPg2nY\n",
              "5lRXXyyfmYebF5YAAF7Z779cKmj7Py+eno3irGQUZiTB6dNE7hlA8gReaWaDmjEVT3aTfQWTkGZW\n",
              "Xhx994B+7GcCXkjkZfQ9g94v9H861OJ1CMGuug44XDIq81PVTN+ti0uQkWTAmc4hvHOsHb/5QCkP\n",
              "fqGmXJ0wFW+uRLuJdgVTtM8TFmtWxBS8OoAUJANaosmAhnLcoAicKnJTQspQRpt4k9QzZPdawB9p\n",
              "gQJQQBmkrAyQxRJDSef7rWpwubehCwNWB/LSzJhXkokrZhdg9rR0DNqc2OL+nYo3IgAVv8KHmryz\n",
              "oP5K8CIAPT+GDKjLJeO1j5Ve09nuIF47ECiI1WhLK3LUXsQ9JzsxGCCwCKROzYCmj/haklGPi9wr\n",
              "6lwycPPCYnz/MxdBkiRcfWEhSrKS0T1kxx8ONMPhdKlv/Pz1gOp0ktdy+sr8kSV/rVFL8JrAtN/i\n",
              "8HoOA6JXgo9H6iS8TyB+3B2AzipMR1lOCp7/cg2yUow42NSDrz7/4YgNAwNWh5o4mIynIAFhBqDr\n",
              "1q1DaWkpzp49i09/+tNqILlx40Zs3LgRs2bNwmOPPYZNmzaplwn2tXh0QLP/0/cBJ8pUpzsG1azU\n",
              "3oYu2J0yijOTUJGbgmvnFiLZqMfpjkEc9FMCErT9n6nu3ZfaM30FbQZUS5zBK34nJ/sSesFTgvcE\n",
              "XvXt/Th5fhCSBMwr9ROAJnAJXpSrCtLNyEszo2vQhu2azMlb7mGGq+Z4zidOMRnwhRqlyvCjvxzF\n",
              "/sYeGHQS/sE9fAR42ktEST9WS+iBkVPwogc02DS5+JrF7grpFJE33FPG11wU3uBBtGQkGdUdt9Hc\n",
              "BartAQ1HmtmgVlHqzysvhGprx+x86HQSJEnCutVKFnTTe6djcqpTOLoGbWqAJh4P2gEqq8Op/u54\n",
              "94COfQhpb0MX2vqsSE8y4N9vVJabv3O8fcS56O+71+atqMrFzPw0lOekwOZ0+T09qHfIjuuf2om1\n",
              "m/d5XY/d6VJ7/qoL/L+REPMBV80pwH/dsUAdTNXrJNy3XOkD3vReA1p6LXC6ZJj0OjUA96V9ExOs\n",
              "/K58r3sVk58hJFmWR5Tme3wy6NEswceb3EAl+Fbld3eWu72ielo6fv3FGiQb9dhV3zFiv7P4XchN\n",
              "NSHDT1VjMggrAN24cSPOnj0Lh8OBtrY2dZp99uzZ2L17N06cOIF9+/Zh3rx56mWCfS0eqf2fPuV3\n",
              "QMm0mQ062JwutYFb/FIsr8qDJElINRtwzUXTAACvBGlI15bfBREUiIyq0yXjaIvyYuAbgPoeIxbK\n",
              "LsLJIMNPD+im9xoAAFdfMM1vf2JRAi+jF/2fuWlmfHZBMQDgFXd7h9Mlq4vFr9AEoABwz6XToZM8\n",
              "gzifnlvoNVy0sEx5s3OgsRsul6zuB432ABKgGUJyBzAiAxqsBJ9k1Ku3bbQ3GnanSw2err5w2rhv\n",
              "b6SIIDpau0BlWQ6aAR2NupDevYpJ/B9edYHnd+szC4pRkpWMjgFb0InvibC3QXlTP2taGlbPFgGo\n",
              "JwkgSuwmg07twwQ8a5jO91sD7rEM5E+HlOzntRcV4tLKXGQkGdA9ZFdP0gOUQ0pEwmH5TOV14kr3\n",
              "49VftvTn2+txpKUPrx9pw+bdDernz3Qqp/KkmvQBW66+dvlM/PYrl+Dpe5aMWLb+uYvLkWzU41hr\n",
              "P15y33cl2ckBt6d4BaAFwTNsome0e8iOPp8B0s5BGwZtTkgS1DdhvqsKh6dSCV4cx6nZBSrLsicD\n",
              "qsluLyjLwq2LPVVVrWgPWcZC3A0hTTTxxLHQZwAJUN5Fil4LUYYXx2eK48gA4JZFyi+Mb7lUy18A\n",
              "uni6ZxBJlmWc7hjEsN2JZKMeM/K834HOL83y6tUrTrQpeKvyJNYzZMPLHykPvC+umOH3MqJ02x3l\n",
              "8uZEEE/U2SlG9YnojSNt6LPYcfBsDzoHbUg3G7C0IsfrcqXZKfi0Jvt31yXefddzitJhNujQZ3Hg\n",
              "dOegJgMauwBUZD1EX+Romxw8ZfjgfaC1p7vQZ3EgN9WktqrEg2hva+gctGHI/UJf4mewZDRir2R9\n",
              "+wBOnR/Aafdqr8s0U/5GvQ5fdvcw/mLnqRGZvokkyu9LK3KwsDQLgDIJL1o2WjXld211Ky/NDEkC\n",
              "HC7Z747KQBxOF/76sZJpv3FBMQx6nRr4vqVZs3SouRcDVgeyUozqXmkRgL59rN0r6D3XM6y+4QaA\n",
              "//zbcTV7KN4YVPmZgBeSjHosn5nn96SfzBQjbluiPIc8s0M539zfAJKgDUAr84JnQNM0p435DuCK\n",
              "8nthhufoU98qxqCaAU38ADQnbWQGtL3fit5hO3TSyGyziCf+9kmL1+vbZJ+ABxiAejnfb0VT1zAk\n",
              "SXnn4Y92EKl3yK72JorhI0CZUhflUn8N6b79n8JFxRkwGXToGrShoXNILb/PKUofcTqEXiepPzPF\n",
              "pEdGcmKULsQ7ZNED+ru9TRi2OzGnMB3LKnP8XiYjyaC+c47FUYexJEpVWSlGXFScgeqCNNgcLvzt\n",
              "41Y1e7Jqdr7fF5z7V1ZCJwFzCtNxaaX35LNRr1MHuvY39sTsGE7AewpelmV1eGy0N1GhrmJ644gy\n",
              "XXzVBQURPVVlvNTTkKK0iklkP4sykmA2hP9Crj2SU7vaSzwmhc/XlCErxYgznUN47ePQdh7HgghA\n",
              "a2bkYHZhOkwGHXqH7WoAJFba+B6datTrkONejRPOINLuU53oHLQhJ9WkJiCu0gSWgii/X1qZq2Yb\n",
              "L6nMQYpJj/Z+q9rnDwBPvnECNocLNRU5WFaZg2G7E+tf/hiyLKsDSFUFI/s/Q7VmufLmwWJXEiOl\n",
              "fvo/BW0bR9UoGVDAkwVt9Cm3N2my8qIf23cSfngK9YCqGVDNcZxiAKkiL3XE1P6S6dkoy0nGoM3p\n",
              "dYCBZwBpck7AAwxAvWQmG7F17TL86OZ5AXsqZuaLo70GsOd0J2RZ+Zx2sbFBr1PLpS/72Qnqr/8T\n",
              "AMwGvRoUfHimW9196W/1EOApwxdnJUd9cCRWtGuYHE4XNrsXqn9pxYyA/0ZJkjyDSAnWByqeqLNS\n",
              "TJAkCTe73w2/vP+s3/5PrSXTs/Hnf1qJLfdf4vf/TtvyMREZUIvdie4hO6zuI1SnZQb/2aGsYpJl\n",
              "Ga+7T+65+sL46P8Uot0qMtb+T6FaswtUBFBX+vndSjEZ8EV3IPPjN04ErPL4Y3U48aeD5/Cen97H\n",
              "8RiwOtQ37DUzcmAy6NRso+gDVY/h9FO+LlD7QEN//hCL7q+bW6i+AVw9Kx86CTjW2q/+nqptWpoq\n",
              "mdmgV/v433KvYzrW2qfuEX3k+jl47Nb5MBt02FXfgZf2nVX7W6sC9H+GoqogzWsPbFnO6BlQvU5S\n",
              "ezyDCTQJL/4+PTdFPRzBdxeoZxF9YiRSgvE3hHS8VQlAZ/sZLpMkCbcsHFmGj+ZJb7HCAFTDZNDh\n",
              "kspc3HlJ4DVRlWoGdFDTWJ434vtE2vxNd7lUy1/5XdAuE/Y3Aa9108IS3DC/CP90ZXws2Y0EUYLv\n",
              "szjw+pE2nOu1ICfVhM8uLA56ObEFIGEzoMnK/4sIQPec6sKRlj5Ikv/F4sKFxRkBg0q1D7QpxhlQ\n",
              "oyjBO9RgLC/NNGrWzrOKKfB9fPhcH871WpBk1Kn7cuOFpwQfpQxo59j7PwHPkGVzz7BntdcF/t/c\n",
              "fHnlDOSlmXC6YxC/qw18sIjQZ7Hj6e0nsfLxd/BPL+zHmk216u9cJHx4phsuWQmoRCuH2PRw0D0J\n",
              "rwagfn7Hw13FZHO48LdP3OX3+Z7npmxN28fbx9phsTuxzz1Uutzn99G3D/Q//3YcsqwEtIvLs1GR\n",
              "l4pvXzMLAPAfrx1Rh1MDDSCFShzNCgTPgM6elo5bF5Xg61dWw2QYPVSYnuM/A3qmSwmUynNSAi5h\n",
              "H5xCGVB/e0BP+On/1LplsXIC5c66DjVZIE4GZAl+ChEl+FPnB/y+sxXmlmSgqiANVocL//GnI15T\n",
              "3cEC0MXurNRHZ7oDTsALaWYDfnbnYtzkfneUCDxHcdqx6T1l4fWdNeWjLhMujvKAx0Tx9IAqT1ol\n",
              "WclerQiLyrKQO8aspciAHmvtV3cCxroHNJQVTIIoYQfLgIry+6rq/LjrJxP/xmj9jo5nAAlQgiex\n",
              "BUGs9poe4MUtzWzA16+qBgA89VZdwD2F5/ut2PCXo1i+4W089tdj6qS53Sl77ewcr9rTynNqTYXn\n",
              "OXVBmfLGXWRAxQ5Qf9sW1AA0xAzozrrz6LM4UJBuRs0M79agK91B+9tH2/DhmW7YHC4UZiSpu3eF\n",
              "KzSDUn86eA5vH2uHXifhnz89W/2eL62YgQWlmei3ONTf+/FkQAHlsXFhUQb0OsnvXmVBp5Pw5OcW\n",
              "4hufqg7pesvdvyuNXd6T8GoJPjdVDb5GDiFNnQBUlOD7LQ7Y3NWf4+7+3tmF/gPQGXmpWFiWBadL\n",
              "xp8OnkPvsF0N4pkBnULELtCOAWXlhyT5DyQlScJXViplqpc+PIur/t92/PnQuYD9n4J493ystR/d\n",
              "Q3bodVLAd0WJSASgFrsLexu6YdBJuOfS6aNcyvPinmjL6MUUfKZmaldk1wHgqgvGPuVdlKkMBThd\n",
              "Mtr6YpcBFWW2YZtTzYAGW8EkiAxosPv4dXcAGk/T74KY8o9Wll4NQHPH3hOmDW4CtXYIX6gpR0Vu\n",
              "CjoGbPjFjpFnxDd1DeHGn+zExh2nMGB1oLogDf91+3y1wiTeiEeCCGYv0QSDC9yDSJ8098LudKHN\n",
              "zznwgpiED3UVkyi/3zC/aESfschsvn+yU22TWT4zd0QbTEFGEua718p956WDAIAv1JR57Wo16HV4\n",
              "/Pb56vnhJoNuzC0Wgk4n4Tf3X4K/fWNlRBeYj1qCz0lBlpoBnbol+Mxko/o70z1kg8slo07NgAZ+\n",
              "cyGe91/Z36yW3/PTzSN6tCcTBqBhSjUbvJrY5xZnqg8qX59bWo7nv1yDitwUtPdb8eBv9+POX+4B\n",
              "MLL/UyjISPKaTKwuSIu7o8SiyffBdP28Ir8vGL6KovziPlFEr1S25nfsunlFSDIqD91AJdJQSJI0\n",
              "4rjZmOwBdf8+O1yetUGh7LEVAWj3kN3rtDChqWsIR1v6oJPGF5hHS6H7TVK/xREwYzge4+0BBbwD\n",
              "0CvnBP8/NOp1+I47W/eLnafU0iCgZBLvfvYDtPVZUZmfimfvuxh/f2gV7ri4DKvcvY+RCkAtdqda\n",
              "ZtdmIytyU5GeZIDV4cKJtn7PFLyf3zV1F2gIJXiL3alm2rXld2H2tHSUZCXD6nCph0D4lt8FEaxa\n",
              "HS6kmPT4xlWzRnzPnMIMfO3yKvefRw6kjkV2qsnvMvvxEMvoz/UMq33BwzanGtRPz01BTqroAfXO\n",
              "gE6lRfQ6naT2wnYO2NDcM4whmxMmvS5gxQEAbpxfBINOwsfNvXjrqPL7Fw+nvI0HA9Ax0O5E81d+\n",
              "11pZnY+/PbQK37iqGia9Tj1/11/WVNCujrkwQPk9URn0Oq8nIW2/UjAl6mlI4Zc3rQ4nTrT1493j\n",
              "7XjH5+OUz7GrsdarDiF5MqAZSUY8d99S/OQLizCncHy/H6IPFADMBl1M3k1rS+Mn3evMQjnJKyPJ\n",
              "qGbI/fWBvul+Ur64Ikct9cWTNLNBvf2tEX6jZHU40eIOsMZaggc8q5jSkwy4uGL0FVY3zCvCgtJM\n",
              "DNmc+J+36gAoi9TvfbYWZzqHUJqdjBe+sgxXXTBNnQCvmaE8951oG4hIH+jBph7YnC7kp5vVIAhQ\n",
              "XuhFFvRAU4/XGiZfogQf7Dz4pq4hPLvrNO7+5QcYtDlRkpWstkxpafd8igG7QK8T2iGvr6ysDFiB\n",
              "ePDKKvzHTRdhw63xu0e7IN2MJKMOLtnz+BStPelJBmQmG9VkTaAANN7aZqLF0wdqVfs/K/NT/W4z\n",
              "EXLTzGq//3PuVV2T9Qx4YfLmbifQzPw0vFfvWUA/miSjHt+8ehZuXlSC7//xMD5s6MIN84oCfv+S\n",
              "6dn4o7vEE2gAKZGlmQ0YsjmxqDwLi0Lc46gOeLiPagy2FaCtz4JN7zXgRFs/Tp4fQFPXEAKtM5Qk\n",
              "4Mf/sFAd/ok1TwbUeytDKL93odBmQGNxDCeglBENOgkOl6wG+IEWa/sqyUrGsdZ+nO0ZHpHBef2w\n",
              "EoBeE4fld6E4MxnHLf0412MZ1zodX83dw5BlJYOUO47g+8o5BfjJ23X4Qk150BdDQZIkPHLdBfjC\n",
              "L/bghdpGfL6mDN/7w2Eca+1HfroZv7n/khEVjJxUE+YUpuNYaz9qT3fh+iDPhaHQrl/y/f1dUJaJ\n",
              "XfUd2H78vNpvJ8rtWvnp/jOgTpeMZ3acwh8ONOOYe1JZWLO8IuDj5co5BXh+j5L9nJGXGvCgkLnF\n",
              "maiZkYPeITu+sqoy4L/RqNfhnksrAn49HkiShPKcFJxoG8CZriFU5KV6TcBLkqQGXt2D/ntAU6dA\n",
              "CR7wBKBdgza1tzdQ/6fWLYtL8NaxdrWCMpn7PwEGoGMimsmNeglLQ8gSCDPyUrH5SzVwuuSgZRRt\n",
              "BjTQAFIiK8xMQnu/NeDieX9ED+igzYm+YYdXz6RWffsA7n32A5zzyZSmmQ0ozU6GQe+5X4ZtTpw8\n",
              "P4iHtx1CZX4q5ruzKbHidMnqBoXM5Ohk9OaVZEInKUe6xmIASUg26dFvcXh2V4Z4kEJpthKA+mZA\n",
              "e4ZsqHWfhBOP/Z9CUVYSjrf1R3wVk3YAaTxvIspyUrDv368O6zKXzszFFbPz8c7x87j15+/D6nAh\n",
              "I8mAzV+qCVhSXFaZi2Ot/dhzqnP8AWjDyP5PQWRAd9Qp+5hzUv1vW/CcB2/1egO7Zc8ZPP63YwCU\n",
              "dURLK7LxqQum4eoLpwUtl146MxdJRh0sdlfQKplOJ+HFdZeO+qZ5shABqHIkZz7OuHdVTnevcQq0\n",
              "hmlQ7QGdGhnQXPcqps4BG060Bp+A1/rUBdOQbjag3x2ATvYSPAPQMVg6IweSBFw+u2BMTdOj9fDM\n",
              "KUpHcWYSLA4X5gaZUkxUj94yD8da+/GZ+aG/MCWb9MhOMaJ7yI5zvcN+A9BDZ3uwZtNedA3aUJmf\n",
              "ii9fNgOVeWmYmZ/qN/vncsn4yuZ9eOtYO9Y9/yH+8OAKFKSHlqmLhL5hO9yHuHiV4CMp1WzA7MIM\n",
              "HG3pi8kAkpDiDkBF5jmcDCgwchL+7WPK+duzp6UHDQwmmvh3jnacaLgi0f85Hg9fNwfvnjgPq8OF\n",
              "ZKMem764FBcUBX7zvKwyF796vwG7T46vD9ThdKnriXxPAwM8B4qIxeuBzj0XWVGb04XeYTuyUkyw\n",
              "2J34+bvKcdNfXT0T61ZVqovUR5Nk1OO6uUV4ZX8zrp07+j7aRAg+Ac2Z8O7fxyafwTjRy947bIfD\n",
              "6YLBnWWfqiX4rkGbZwI+hAA0yajHdfMK8eI+ZV/sZM+Asgd0DC4qzsRb31qNH39uYVSu36jX4dUH\n",
              "V+C1r182qSfcxmpuSSZuX1Ia9pOyuozeT3bp/foOfOGZPegatGF+aSZeWncp7rpkOi6dmYsCn6P5\n",
              "BJ1Owo8/vxAz81PR0mvBA1s+gtURu6M+xQR8mtkQUjl0rEQZPrYBqOf3WpJCm4IHPPex7yS8KL/H\n",
              "c/YT8GR6WyO8C3S8K5jGa05hBu6/bAYykgx4+p4lWDLd/6llgshW1rWPrw/08Lk+DNmcyEgy+H0B\n",
              "n5aR5NXzGej3zGzQq2/yxNDM1r1NaOuzoigzCd+8ujrk4FN49JZ5eOObq7CyOvCe3kQjenBF6f2M\n",
              "z+9lZrIR4qlWPL85nC61PWKqlOBz3cOe5/utOOk+YCDUbTe3LFJ2gkrS5N4BCjAAHbPK/LSoBocF\n",
              "6UkhlyVJ4VnF5P3i/rdPWrBm014M2pxYPjMXv/3KspB3Z2YkGfGLey9GepIBH57pxvdePayeLR1t\n",
              "3X4GkKJhzfIKfOqCAnxhaeADGCItWbPZIT/NHHKA7W8Z/S93nsLf3Kcfffqi+Dr9yJeaAY1iCX6i\n",
              "/NsNF+Lg968JejCCkO3uAwWAD06NfR+otv9TF6CyJPaBAv4HkAR1EKnP4pX9/NoVVWM62jTZpI/4\n",
              "pHm8K/dZRt+oWcEEKEOm4pRBsQt0yO55Uz9VMqCiT/ujxm7YnErVQLv9JphLZuRg3apKPHLtnEn/\n",
              "/8UAlBKGumfRnR07cq4PD/1uP772m49gc7pw7UWFeG7N0rDfOFTmp+Gndy6GTgK27mvC5t1nIn7b\n",
              "/enVnAMfTbOmpeOX9y3FvNLYtXtoe71CLb8D3iV4WZbxX38/hh++dhQA8JWVM2L6bxiL4iDbGg6f\n",
              "6/U6sCIcje7tGhMZgALhlZLFJpCxrmOSZRmvHmj2ui5/tL3bwVa6FWgGkX5X24i2PiuKM5PwDxeX\n",
              "jun2TUXa8+CdLlmdgtfupvWUn5XfdTGApJOUTRxTgTiOs07NfqYFfAPlS6eTsP76C7Bu9cyo3b5Y\n",
              "mRr3Nk0JIgP6weku3PtcLa7/n5149cA5uGTgzkvK8bO7Fo95p+rqWfl45Lo5AIDv//EwvvPSQXRG\n",
              "8ChBf7p9TkFKJMleAWjomX6RAW3rs2D9yx/jZ++cBAD886dn41+vvyCyNzIKRAnYtwT/yv6zuOF/\n",
              "dqkLycMhy/KE94COxXgD0L0NynHFZoMOty0OHCSKIzmB4K0eog+0qXsIP39X+b0aa/ZzqirNToYk\n",
              "KT2dygEAMox6yesxnpXivQt0SDMBnyi9sKPxXRM3lQ6b0ZoaDRc0JYgMqBhK0EnKIvt1q2ZGJDP2\n",
              "lZWVON9vxS92nsbvPzyLN4+24ZFr5+AfLi6DTidBlmWcPD+A14+0YeeJDiwqz8I3r5415v5NcQ58\n",
              "ZnJ0M6ATQVuCF4cIhCIv1QyTQQebw4Xf7W2CJAE/vHku7rpk9NOy4oE4TnTA6kCfxY6MJCP6LHb8\n",
              "yJ3FfftYu/r5UHUP2dW1LKGW8eKBbx9ouFsYxFG9tywqCdqfqX3sBy/BK1/79fsN6B6yozgzCXcw\n",
              "+xkWs0GPoowknOu1YFd9BwDlvHnt4G1OivcqpkH37+5kLyeHI9fnwI9QVjAlIgaglDAudE/dJhl1\n",
              "+IeLy3D/ZZXjOpbQlyRJ+LcbLsR184rwb698gqMtfXjk5Y/x4r4mLCrPxltH29CgOYZu96lO1J7u\n",
              "wk/vXBzykI2W7znwiURbgi8OIwOq00koyUrG6Y5BGPUS/vtzi3BDGNsSJlqySRl26Rmyo6XHgoxC\n",
              "I556sw4dA8p9bXfKePf4eXx2wcgTdgIR/XaFGUmT6tS0bM0+0A9OdXndj7Is40hLH2bkpfrdNHK2\n",
              "ewh/d/f9rhnlsIqMJCMWlWfh0NlezAryQi96QMWKIGY/x6Y8NwXnei3YcUJZfeXbFiLeLHS5n9+G\n",
              "7VPnFCSBGVAFS/CUMKqnpePtb6/G7keuwv+9aW5Eg0+txeXZ+NODK/DvN1yAVJMeHzX24Nldp9HQ\n",
              "OQSTXofVs/LxjauqkW42YN+Zbtz4k514350NEIZsDvztk1b85K06ryMMtcSUaLR7QCdCsiaoCDc4\n",
              "/8z8IkzLMOO5NUsnVfApiCzcud5hnGjrx6/ebwCgHEABQD3mMVTxMIA0VoHK8P/zVj1u+J9duPXn\n",
              "78NiH7l54vndZ+CSlROGQjkN7NdfqsE7375c7SH2R7ugntnPsRM7Pz9qVCpR032eh8UuUFHh8RzD\n",
              "OXXyYdkpJmi7DZgBJUoAlflpo39TBBj0Oty/shI3zC/Cz985iSGbE1ddUIBVs/LVIaebF5XggS0f\n",
              "4lhrP+5+9gM89KlZyE83440jbdhV36GuHhmwOrDeT/9itzqElOAZ0DBK8ADwrWtm45tXz5q0/WLF\n",
              "7tOcWnos+MWOU3C6ZFx94TQ8cPlM3Prz9/HusXbYHC6YAgxkWOxOmA069d8/Gfs/BbEPVBuA/uq9\n",
              "0/jxmycAAMda+/Gj147iP26eq359yObAC7WNAIAvhXhYRUaScdS2Bu2A0j9eyeznWIk3/nansi0k\n",
              "YAbUXYIfsk6tJfSAsgs8K1nZW52RZAi4nzbRMQAlGoeizGSvF0etGXmpePUfV+C7r36Clz48iyff\n",
              "OOH19RSTHkM2J053DPq9vCjBZyVgD2jKGIeQhMkafAKeqf/n95zB0ZY+mAw6fO/GC1GSlYz8dDPO\n",
              "91ux51QnVvlZZ/TLnafww9eOIiPJgMr8NFTmp6LOvch6MmZAfftAd9adx//50xEAyjnzr33cguf3\n",
              "nMHK6jxc416x9fJHzeizODA9N8XrLPXxqspPQ6pJj2mZSbhjSVnErneq8f09HBGAut9Q9/gMIU2l\n",
              "HlBAKcN3D9kxuzB9Uj+fjQdL8ERRlGTU47/uWIDHb5uHzGQjFpRl4TvXzMLfH1qF//n8IgCBd0KK\n",
              "ElV2auIFoOLFRicFPp0mUYlVTEdb+gAop+yU5aRAp5PwqQuUgMpfGX7A6sD/vFUHAOizOHCgqQcv\n",
              "f9SMj5t7AYwsdU4G2n2gj//1GL7z0iEAwBdXVOCndy7CV1YqGc5/2XYIrb0WyLKstizcd2lFyKtr\n",
              "Qr0t7/zz5XjlaysCZp9pdL6/h74nk4kAVM2A2qfWOfCCOI5zqvZ/AsyAEsXE55aW43M+i96d7nMo\n",
              "Ax3L2DOsPEFH6xz4iZTiHpYpSE9Sj+ObKrST2CVZyXhAs8/vmgsL8UJtE9440ob/e9NFXpmR39U2\n",
              "os/iQGVeKn5212Kc7hjEyfYBnOoYhATgmovi+xSoQC6dqZwL/9KHyvGCty4qwXdvuBCSJOGfPz0H\n",
              "u0914pPmPnxz6wGsW12J+vYBpJkNUenRjOVRu4nKN+NZluNd4RADOKLFaCqW4AFlY0VtAzBvCh63\n",
              "LTAAJZogYiCia9AGi905YoK5x72oOTsBh5DEwEE4K5gShfbf/N0bL/AqPV46MxcpJj1a+yz4uLlX\n",
              "XaJuc7jwy53K2qG1qypxQVFG0LPWJ5NllbnY9F4DAOBTF0zD47fPVzObJoMO//P5RbjxJ7uw+1Qn\n",
              "Dp9Tsr23LylFehirqih2slJMyEgyoM/iQH66ecRwUXaAPaBTrQT/z9fOxtIZObhlcclE35QJM7VS\n",
              "D0RxJCPZgFT3k67v2eZ2pwv97sxAIg4h1czIQUlWcljrhhLFwrIsXFScgTuWlI44OjTJqFePshTn\n",
              "2wPAHw40o7XPgoJ0c8K9YF1WlYcLijJwzYXT8NM7F43Ym1uZn4YffPYiAErrgSQpx8dS/BJl9+l+\n",
              "+pLFEFLvsB1Ol6yuYUqN4tHW8agoMxlfqCmf0sNuDECJJogkSSjK8n9+fe+w50jGRFxEX5GXivce\n",
              "uRJfDHGKOZGkmAx47esr8V93LPA7fCBK6aIP1OWSsXHHKQDAly6bkXAvWKlmA/76jZV45t6LA+4x\n",
              "vX1JKT7jfrNy1ZwCVOSl+v0+ig9iEt7fKjwxVCnLyvOcuoh+Eu2wpciYWm85iOJMcVYy6tsHRgwi\n",
              "iQGkjCSD1ykilPiumF0AvU7C8bZ+nOkcxIm2AdS3DyDdbMCdl5SPfgUJSJIk/Nft83FZVS6uumBy\n",
              "9rpOJUvKs/HaoRZ1t62WQa9TS/Rdgzb1LPip1gNKDECJJlSJux/QtwSvnoIU5IhBSkxZKSbUVORg\n",
              "96lOvHGkDX/9RDnx565l08M6ojPRJBn1Iwb5KD59cUUFPnXBtBEDSEJ2qgl9Fge6h2yeRfRTrARP\n",
              "LMETTShxDOXIANS9hD4By+80OlGGf2bHKXx4phsmvQ5fGuXISaJ4IUkSynNTAu63zNacBz9oc0/B\n",
              "swQ/5UQ0AK2oqMDs2bOxcOFCLFy4EFu3bgUA1NXVYfny5Zg1axaWLl2Kw4cPR/LHEk1agXpAxYRo\n",
              "Ig4g0eiuvlAJQNvdx7TetqQEBRlTb2MAJSbPKiaW4KeyiOe8t27dioULF3p9bt26dVi7di3WrFmD\n",
              "3//+91izZg327t0b6R9NNOmIYyh9e0B7E/gceBpdaXYKLijKwNGWPkgS8JWVlRN9k4giJktdxWRn\n",
              "CX4Ki3oJvr29Hfv27cPdd98NALjtttvQ1NSE+vr6aP9oorhXkuUpwcuyrH5eZECzmQGdsm6Yp6xo\n",
              "un5uESrz0yb41hBFTo6mBD9km5qL6CkKGdB7770XsiyjpqYGjz32GJqamlBUVASDQflRkiShvLwc\n",
              "jY2NqKqqGnF5q9UKq9Xq9Tmn0xnpm0kUFwrd54Jb7C50D9nV0pToAU3EFUwUmrWrZqIkOxmf4tQ3\n",
              "JRgxXNk16BlC4hqmqSeiGdAdO3bg0KFD+Oijj5CXl4f77rsv7OvYsGEDMjMzvT5qa2sjeTOJ4obZ\n",
              "oEdemnImsHYQST0HniX4Kctk0OGWRTzxhxKPOoQ0ZFd7QKfaInqKcABaXq6syDAajXjooYewc+dO\n",
              "lJWVoaWlBQ6HkmaXZRmNjY3q9/pav349ent7vT5qamoieTOJ4oq/VUwcQiKiRJWT6jmOc5Al+Ckr\n",
              "YgHo4OAgenp61L+/8MILWLRoEQoKCrB48WJs2bIFALBt2zaUlpb6Lb8DgNlsRkZGhteHXs9fTEpc\n",
              "xVkjVzGpa5iYASWiBCPeWLf2WuByt75PtbPgKYI9oG1tbbjtttvgdDohyzIqKyuxefNmAMDGjRux\n",
              "Zs0aPProo8jIyMCmTZsi9WOJJj01AO31rGLqYQaUiBKU6HVv7fM853EP6NQTsQC0srIS+/fv9/u1\n",
              "2bNnY/fu3ZH6UUQJpcg9iNSszYAOsweUiBKTqOw43elPk0EHg57n4kw1vMeJJphYxdTiDkCtDqc6\n",
              "GZqVzAwoESUW3/Vy7P+cmhiAEk2wYp/TkHrd/Z86CUhP4mQoESUWo16HdM3Ue6qJz3NTEQNQogkm\n",
              "AtC2fgvsTmUfKKDsANXp/J+lTEQ0mYldoAAHkKYqBqBEEyw31QSTXgdZVqZCe3gKEhElOG0AyhL8\n",
              "1MQAlGiC6XQSity7QFt6LZ4MKAeQiChBaQcsGYBOTQxAieJAcaZnF2jvMDOgRJTYclK0GVD2gE5F\n",
              "vNeJ4oDoA23uGYbe3feZxXPgiShBaXccswd0amIAShQHijXHcYqzv7mEnogSlTiOEwBSGYBOSQxA\n",
              "ieKAyIC29FrU5cw8hpOIEpX3EBJDkamI9zpRHNCeB29ynwjCU5CIKFFlswQ/5TEAJYoDJVme4zgz\n",
              "3b2fmSzBE1GC0gagPAd+auIUPFEcKHJPwfdbHDjbrRzJyQwoESWqbE0PaIqZubCpiAEoURxINRvU\n",
              "zGez+0x4ngNPRInKew0TM6BTEQNQojgh+kAFDiERUaLKYgA65TEAJYoTog9UYABKRInKZNAhzV16\n",
              "5xT81MQAlChOiD5QADDoJPXJmYgoEYk+UO4BnZoYgBLFCW0JPivFCEmSJvDWEBFF1/2XVWL1rHws\n",
              "Ks+e6JtCE4ApFqI4UawpwfMUJCJKdPctr8B9yysm+mbQBGEGlChOlGgzoDwHnoiIEhgDUKI4UeRV\n",
              "gmcGlIiIEhcDUKI4MS3dDJ277ZMT8ERElMgYgBLFCYNeh8IMpQ+UpyAREVEiYwBKFEfEJDxL8ERE\n",
              "lMgYgBLFkQuLMwAAM/NTJ/iWEBERRQ/XMBHFkfXXXYBbFpVgQWnWRN8UIiKiqGEAShRHkk16LmUm\n",
              "IqKExxI8EREREcUUA1AiIiIiiqmYBaB1dXVYvnw5Zs2ahaVLl+Lw4cOx+tFEREREFEdiFoCuW7cO\n",
              "a9euxYkTJ/Dwww9jzZo1sfrRRERERBRHYhKAtre3Y9++fbj77rsBALfddhuamppQX18fix9PRERE\n",
              "RHEkJlPwTU1NKCoqgsGg/DhJklBeXo7GxkZUVVV5fa/VaoXVavX6nNPpjMXNJCIiIqIYiLshpA0b\n",
              "NiAzM9Pro7a2dqJvFhERERFFSEwC0LKyMrS0tMDhcAAAZFlGY2MjysvLR3zv+vXr0dvb6/VRU1MT\n",
              "i5tJRERERDEQkwC0oKAAixcvxpYtWwAA27ZtQ2lp6YjyOwCYzWZkZGR4fej1+ljcTCIiIiKKgZid\n",
              "hLRx40asWbMGjz76KDIyMrBp06ZY/WgiIiIiiiMxC0Bnz56N3bt3x+rHEREREVGckmRZlif6Rozm\n",
              "1ltvRUVFRUx+ltPpRG1tLWpqalj6nyC8DyYe74P4wPth4vE+mHi8DyZeqPfB9OnT8Y1vfCOk65wU\n",
              "AWgs9fX1ITMzE729vcjIyJjomzMl8T6YeLwP4gPvh4nH+2Di8T6YeNG4D+JuDRMRERERJTYGoERE\n",
              "REQUUwxAiYiIiCimGID6MJvN+P73vw+z2TzRN2XK4n0w8XgfxAfeDxOP98HE430w8aJxH3AIiYiI\n",
              "iIhiihlQIiIiIoopBqBEREREFFMMQImIiIgophiAatTV1WH58uWYNWsWli5disOHD0/0TUp4FosF\n",
              "N998M2bNmoUFCxbg6quvRn19PQCgvb0d1157LaqrqzF37lzs2LFjgm9t4tu0aRMkScKrr74KgPdB\n",
              "LFmtVjz44IOorq7GvHnzcPfddwPg81Is/eUvf8HixYuxcOFCzJ07F7/+9a8B8HEQbV//+tdRUVEB\n",
              "SZJw4MAB9fPBfvf5uIgsf/dBsNdnIAKPC5lUV1xxhbxp0yZZlmX5pZdeki+++OKJvUFTwPDwsPza\n",
              "a6/JLpdLlmVZ/slPfiKvXr1almVZ/uIXvyh///vfl2VZlmtra+WSkhLZZrNN0C1NfKdPn5YvvfRS\n",
              "edmyZfIrr7wiyzLvg1h66KGH5AcffFB9LLS0tMiyzOelWHG5XHJ2drZ88OBBWZaVx4PZbJb7+vr4\n",
              "OIiy7du3y01NTfL06dPl/fv3q58P9rvPx0Vk+bsPgr0+y/L4Xx8YgLq1tbXJ6enpst1ul2VZeTKa\n",
              "Nm2aXFdXN8G3bGrZu3evPH36dFmWZTk1NVV9EZZlWV66dKn8xhtvTNAtS2xOp1O+6qqr5H379smr\n",
              "V69WA1DeB7ExMDAgp6eny729vV6f5/NS7LhcLjknJ0fevn27LMuyfPDgQbm4uFi2Wq18HMSINvgJ\n",
              "9rvPx0X0+L4J0NK+Psvy+F8fWIJ3a2pqQlFREQwGAwBAkiSUl5ejsbFxgm/Z1PLUU0/hpptuQmdn\n",
              "J+x2OwoLC9WvVVRU8P6IkieffBIrVqzAkiVL1M/xPoidkydPIicnB48++iguvvhirFy5Em+99Raf\n",
              "l2JIkiRs3boVt956K6ZPn47LLrsMv/71r9Hf38/HwQQI9rvPx8XEEK/PQGReHwwRv4VEY/Too4+i\n",
              "vr4eb731FoaHhyf65kwZn3zyCbZt28a+tgnkcDhw5swZXHjhhXjsscewf/9+XH311Xjttdcm+qZN\n",
              "GQ6HAz/84Q/x8ssvY9WqVdi7dy8++9nPevUkEk1V2tfnSGEG1K2srAwtLS1wOBwAAFmW0djYiPLy\n",
              "8gm+ZVPDE088gZdffhl//etfkZKSgtzcXBgMBrS2tqrf09DQwPsjCnbu3ImGhgZUV1ejoqICe/bs\n",
              "wdq1a/Hiiy/yPoiR8vJy6HQ63HXXXQCARYsWYcaMGThz5gyfl2LkwIEDOHfuHFatWgUAWLp0KUpL\n",
              "S3Ho0CE+DiZAsNdkvl7Hlu/rM4CIvEYzAHUrKCjA4sWLsWXLFgDAtm3bUFpaiqqqqgm+ZYnvySef\n",
              "xAsvvIA33ngDWVlZ6ufvuOMOPP300wCAvXv3orm5GatXr56gW5m4HnjgAbS0tKChoQENDQ1YtmwZ\n",
              "nnnmGTzwwAO8D2IkLy8PV111Ff7+978DAE6fPo3Tp09jxYoVfF6KERHUHD16FABQX1+PkydPYvbs\n",
              "2XwcTIBgr8l8vY6dQK/PQAReo8fSpJqojh07Ji9btkyurq6WlyxZIh86dGiib1LCa2pqkgHIlZWV\n",
              "8oIFC+QFCxbINTU1sizLcmtrq3z11VfLVVVV8oUXXii//fbbE3xrpwbtEBLvg9g5efKkfPnll8tz\n",
              "586V58+fL//+97+XZZnPS7H029/+Vv3/nzt3rvyb3/xGlmU+DqJt7dq1cklJiazX6+WCggJ55syZ\n",
              "siwH/93n4yKy/N0HwV6fZXn8jwueBU9EREREMcUSPBERERHFFANQIiIiIoopBqBEREREFFMMQImI\n",
              "iIgophiAEhEREVFMMQAlIiIiophiAEpEREREMcUAlIiIiIhiigEoEREREcUUA1AiIiIiiikGoERE\n",
              "REQUU/8fobUxqJEykfoAAAAASUVORK5CYII=\n",
              "\">\n",
              "      </div>\n",
              "      <script type=\"text/javascript\">\n",
              "        (() => {\n",
              "          const chartElement = document.getElementById(\"chart-f2cdad0e-7aa6-4dd5-86c0-4bc36d7ca047\");\n",
              "          async function getCodeForChartHandler(event) {\n",
              "            const chartCodeResponse =  await google.colab.kernel.invokeFunction(\n",
              "                'getCodeForChart', [\"chart-f2cdad0e-7aa6-4dd5-86c0-4bc36d7ca047\"], {});\n",
              "            const responseJson = chartCodeResponse.data['application/json'];\n",
              "            await google.colab.notebook.addCell(responseJson.code, 'code');\n",
              "          }\n",
              "          chartElement.onclick = getCodeForChartHandler;\n",
              "        })();\n",
              "      </script>\n",
              "      <style>\n",
              "        .colab-quickchart-chart-with-code  {\n",
              "            display: block;\n",
              "            float: left;\n",
              "            border: 1px solid transparent;\n",
              "        }\n",
              "\n",
              "        .colab-quickchart-chart-with-code:hover {\n",
              "            cursor: pointer;\n",
              "            border: 1px solid #aaa;\n",
              "        }\n",
              "      </style>"
            ]
          },
          "metadata": {}
        },
        {
          "output_type": "display_data",
          "data": {
            "text/plain": [
              "from matplotlib import pyplot as plt\n",
              "_df_5['Z-Score'].plot(kind='line', figsize=(8, 4), title='Z-Score')\n",
              "plt.gca().spines[['top', 'right']].set_visible(False)"
            ],
            "text/html": [
              "      <div class=\"colab-quickchart-chart-with-code\" id=\"chart-1af1d7c9-a7e4-4eb2-834c-557c30309287\">\n",
              "        <img style=\"width: 180px;\" src=\"data:image/png;base64,iVBORw0KGgoAAAANSUhEUgAAApwAAAFuCAYAAAAs+cgqAAAAOnRFWHRTb2Z0d2FyZQBNYXRwbG90\n",
              "bGliIHZlcnNpb24zLjEwLjAsIGh0dHBzOi8vbWF0cGxvdGxpYi5vcmcvlHJYcgAAAAlwSFlzAAAP\n",
              "YQAAD2EBqD+naQAAbhRJREFUeJzt3Xd4HOW5NvB7tqp3Sy5q7r3ghgvYgOmhHQihBkwz+IQAB0gI\n",
              "OSGk8OHkhBBKEkoooVfTQrcBg6nuvRcVW7Jky+pl63x/zL6zs6ttkrdIs/fvunyBpdVqrdHOPPM+\n",
              "5ZVkWZZBRERERBQjhkS/ACIiIiLSNwacRERERBRTDDiJiIiIKKYYcBIRERFRTDHgJCIiIqKYYsBJ\n",
              "RERERDHFgJOIiIiIYooBJxERERHFFANOIiIiIoopBpxEREREFFMMOIkoqa1cuRIZGRnd/qSmpkKS\n",
              "JLzwwgsBv27FihU4+eSTkZ+fj8zMTAwfPhzXX399nF89EVH/YEr0CyAiSqQTTzwRbW1tPh9zuVw4\n",
              "55xzcPToUfz4xz/u9jUVFRU466yz8Mgjj+Djjz+GyWTC/v37sXz58pi9TofDAbPZHLPnJyKKJa5w\n",
              "EhH5ufXWW7F9+3a89957SE1N7fb5tWvXwmKx4IYbboDVaoXRaMSIESNw0003+Tzuueeew5QpU5Cd\n",
              "nY2ioiLceuut6ue+++47nHjiicjNzcXQoUPxq1/9CjabTf18eXk57r33Xpx55pnIzMzEX//6VwDA\n",
              "888/j8mTJyM7Oxvjx4/Hq6++GqOfAhFRFMlERKR6+OGH5aysLHnz5s1BH1NRUSGnp6fLF198sfzG\n",
              "G2/I+/bt6/aYf/3rX3JBQYG8bNky2eFwyC0tLfKKFStkWZblyspKOS0tTf7b3/4m22w2edeuXfK4\n",
              "cePkW2+9Vf36srIyuaioSP72229lt9stt7e3y88++6xcUlIir169Wna5XPLKlSvlzMxMeeXKlVH/\n",
              "ORARRZMky7Kc6KCXiKgv+PDDD3HhhRfi3XffxRlnnBHysdu2bcMjjzyCFStWYPfu3SgpKcFvf/tb\n",
              "XHvttQCACRMmYOHChbjzzju7fe2SJUvw+uuvY/369erH3n77bVxxxRVob2+HJEkoLy/HZZddhiVL\n",
              "lqiPmTRpEn72s5/hxhtvVD92ww03QJZlPPXUU8f6zyciihmm1ImIAGzatAmXXnopHnroIZ9g86WX\n",
              "XvJpJqqqqgIAjBs3Do8//jh27NiBhoYGLF68GNdddx1WrFgBANi/fz9Gjx4d8HtVV1dj+PDhPh8b\n",
              "MWIEOjs7cfjwYfVjQ4cO9XnM7t27cccddyAnJ0f988orr6CmpiYaPwIiophhwElESe/QoUM455xz\n",
              "cMMNN3Srw7ziiivQ1tam/iktLe329Tk5ObjrrruQl5eHdevWAVBqMHft2hXw+5WUlGDfvn0+H9u7\n",
              "dy9SU1MxYMAA9WMGg+8peuDAgfjnP/+JpqYm9U9bWxs+/PDDXv27iYjihQEnESW1zs5OnHfeeZg6\n",
              "dSr+8pe/RPQ1K1euxEMPPYSKigq43W50dnbi73//O5qamjB37lwASuPRn//8Z3z++edwuVxobW3F\n",
              "l19+CQC4/PLLsXPnTjz66KOw2+3Yu3cv7rnnHlx//fWQJCno973tttvwxz/+EatXr4bb7YbNZsPq\n",
              "1auxdu3aY/9BEBHFEMciEVFSe/PNN7F69WqkpKQgKyur2+evvPJKPP744z4fy8vLw9dff42//vWv\n",
              "aGxshNVqxdixY7F06VIcf/zxAIBFixbBaDTitttuQ0VFBdLS0nDZZZdh/vz5KCsrw6effoq77roL\n",
              "99xzD7Kzs3HJJZfgD3/4Q8jXeuutt6KgoAA33XQT9u7dC5PJhAkTJoT9OiKiRGPTEBERERHFFFPq\n",
              "RERERBRTDDiJiIiIKKYYcBIRERFRTDHgJCIiIqKYYsBJRERERDHFgJOIiIiIYooBJxERERHFVJ8L\n",
              "OB9++OFEvwQiIiIiiqI+F3BWVlYm+iUQERERURT1uYCTiIiIiPSFAScRERERxRQDTiIiIiKKKQac\n",
              "RERERBRTDDiJiIiIKKYYcBIRERFRTDHgJCIiIqKYYsBJRERERDHFgJOIiIiIYooBJxERERHFFANO\n",
              "IiIiIoopBpw643LL+NXSTXj5h6pEvxQiIiIiAAw4dWfzwWa8uroaf/lkR6JfChEREREABpy6U9/S\n",
              "BQBo7HCg3eZM8KshIiIiYsCpO0fa7Or/H2zqTOArISIiIlIw4NSZw6029f8ZcBIREVFfwIBTZ460\n",
              "aQLORgacRERElHgMOHVGu8JZwxVOIiIi6gMYcOrM4Tam1ImIiKhvYcCpM0ypExERUV/DgFNnmFIn\n",
              "IiKivoYBp46025zosLvUvx9q6YLD5U7gKyIiIiJiwKkrIp2eYjbAYjTALQN1nkHwRERERInCgFNH\n",
              "RDp9QKYVg3NSALCOk4iIiBKPAaeOiBXOARlWDM5JBcBOdSIiIko8U6JfAEWPdoUzK8UMgI1DRERE\n",
              "lHgxXeF89tlnIUkS3nnnnVh+G/I47NlHvYArnERERNSHxGyFs6KiAv/6178wa9asWH0L8uNbwykC\n",
              "TjYNERERUWLFZIXT7Xbj+uuvx6OPPgqr1RqLb0EBiBrOggwrhoiAs7EjkS+JiIiIKDYrnA8++CDm\n",
              "zp2LadOmhXyczWaDzWbz+ZjL5QryaApHu8I5RJNSl2UZkiQl8qURERFREov6CueWLVuwdOlS/OY3\n",
              "vwn72CVLliA7O9vnz6pVq6L9kpKGNuAc5BmL1OVwo7HDkciXRUREREku6gHnypUrUVFRgZEjR6K8\n",
              "vBzff/89Fi1ahMcee6zbY++++240Nzf7/Jk5c2a0X1JSkGXZZyyS1WTEgEylnIGzOImIiCiRoh5w\n",
              "Ll68GLW1taioqEBFRQVmzZqFJ598EosXL+72WKvViqysLJ8/RqMx2i8pKbTanLA5lW0sCzKUQHMI\n",
              "O9WJiIioD+Dgd5044kmnZ1hNSLUoQTsDTiIiIuoLYj74fcWKFbH+FgTf+k1hSK7oVGfASURERInD\n",
              "FU6dOKyORLKoHxMrnNxtiIiIiBKJAadOHAmwwsndhoiIiKgvYMCpE4c1HeoCVziJiIioL2DAqRNH\n",
              "Wr37qAsi4Gxot6PTzoH6RERElBgMOHVCXeHUpNSzUk3IsCp9YUyrExERUaIw4NQJ7T7qgiRJGOzZ\n",
              "cYhpdSIiIkoUBpw6EWgsEsBZnERERJR4DDh1wGdbS/+AM5eNQ0RERJRYDDh1oLnTAYdLBgDka+Zw\n",
              "AprRSBz+TkRERAnCgFMHRDo9O9UMq8l3L3qRUj/AFU4iIiJKEAacOhBolyGBsziJiIgo0Rhw6kCw\n",
              "hiHAW8N5qLkLLrcc19dFREREBDDg1AURcGpHIgmFmSkwGSQ43TLqW7vi/dKIiIiIGHDqwZE2ZZeh\n",
              "QCucRoOEgdnKLE42DhEREVEiMODUgVApdSDyWZyN7Xa8/EMVuhzcBjOZuN0yHluxF2srGxP9UoiI\n",
              "SKcYcOpAoF2GtCINOG95dT1+/fZmPPtNRVRfH/Vt3+w9gj9/vANXPf0D9h9pD/q4zQeacecbG7Gn\n",
              "vjWOr46IiPSAAacOhF3hzA0/i/P7fQ1YufsIAODbvUei/AqpL6s62gEAaLe78PNX1sHm7L7CXdnQ\n",
              "jque+QFvrj2AG19Yy1VwIiLqEQacOqDuMhRkhVMMf99xqBWy3L1TXZZlPPDJTvXv6yob4XS5o/46\n",
              "ZVnGV7sOqwEy9Q11zd5msi0HW/Dnj3b6fL6504HrnluDxg4HAGDv4Xaf3xd/R9ps2FjdFJPXSkRE\n",
              "/RMDzn7O5ZbR0B68aQgAZg3Lh9koYW1lI95Ye6Db51fsOow1lY2wmgzIsJrQbndhW21L0O9Z29yJ\n",
              "bTXBPx/Md/sacNUzq/CrpZt6/LUUO7WegHPm0DwAwDPf7Mdn2+sAAE6XGze/vA576tswMCsFf7pw\n",
              "IgDg6W/2Y9X+o92ea3ttC87421c4/x/fYE99W5z+BURE1Ncx4OznGjvscLllSBKQl9598DsADC1I\n",
              "x+2njQYA/P69rahq6FA/J8sy/vqpslp11ewyzCjPBQCsrgjcQCLLMq546gec/4+vcaCxI+BjghFB\n",
              "6tZeBKsUO4dalIDzJ9NLcM3ccgDAnW9sxKHmLvzh/W1YufsIUs1GPHX1dFw6sxSXTC+BLCuPabc5\n",
              "1efZcrAZl//re/UGiLWeREQkMODs50Q6PTfNArMx+OFcNG8YZpbnod3uwu2vb1CHwH+85RC2HGxB\n",
              "usWIxSeNwAzPKtfqAKtXALCttgX7DrfD4ZKxvbZnAUWlJ9A91NLFGsA+5JBnhXNQdgp+ddYYjB+c\n",
              "hcYOBy785zd4/rtKSBLw0KVTMGFINgDgN+eMxZCcVFQd7cCSj7YDADYdaMLl//peTbsDQH0cSyeq\n",
              "j3bgxe8r4YhSKcjqiqOcW0tEFEUMOPs5tWEoSP2mYDRI+OtPJiPDasKaykY8/uVeuNwy/rpsFwDg\n",
              "uhOGIi/dgpnlnoCz4mjAes/Pt9er/199tGcrnJWax1f18GspdkTAWZSVAqvJiL9fPhXpFiNqPB+/\n",
              "68wxOGP8QPXxmSlm/N+PJwEAXvy+Co+t2IsrnvoBLV1OTC3NwX8dNwQAUN8Sv4Dzzx/vwG/e2YJ/\n",
              "fLHnmJ9re20LLn78O/z85fVReGVE/deRNht21zFTQdHBgLOfU0ciZQZOp2uV5KXh3nPHAQD+tmwX\n",
              "lny4HXvq25Cdasb184YBACYWZ8NiMqCh3Y59AUbkLN+hCTh7mFKvavA+X2UDA86+oM3mRKsnLS42\n",
              "CBhakI4/XTQJKWYDrppdhhs9vxtac0cU4OrZZQCUYK+1y4mZ5Xl4/rrjMawgHQDiukIobn6e+7YC\n",
              "HXZnmEeHtttTe7qbNai6UXGkHQ8v342WLkf4B/dRBxo7elzGdKyufmYVznp4ZdiRekSRYMDZz0W6\n",
              "win8eFoxzhw/EE63jKe+3g8AuHH+MGSlmAEAVpMRU0pyAHRPqx9u9e0+rj4a+UnI6XLjgGYsU2VD\n",
              "8HmPFD9idTPTakKG1aR+/NzJg7Hx3tPxh/MnQJKkgF9711ljUJ6fBgCYNSwP/752BjKsJhRmKb+L\n",
              "8ZxGIHbbauxw4LXV1cf0XPWemtaj7faAI6Ko/3n4s9342/JdeHNN96bJ/qDL4cL5f/8G5z76NVrj\n",
              "FDTbnErzqNMtY/OB5rh8T9I3Bpz9XKhtLQORJAn3XzhRfXxBhhUL55T7PEak1VdV+AacX+xUVjdN\n",
              "BiUA6cnddm1zF5xub4q+ggFnn1DnCa7E6qaW1WQM+bVpFhNeWTQL//fjSXh24UykWZSAtTBTea54\n",
              "1XDKsozDbd7v9dTK/cdUy6l93RzhpQ8iW9Nfb3TrWrrQ0G5HY4cDH285FJfveaCxE6Kqau9hrvbT\n",
              "sWPA2c+JC2KwXYYCyUu34OFLp2BYQTp+d944NVAQ1MYhv4BT1G+ePXEQACWNGajOMxD/FDpT6n2D\n",
              "GIkUKOCMxKDsVPxkeglSLd7gVNzMxCvgbOlywu5UAsy8dAsONnXiPxtrev18IghX/p8Bpx4c9Nwc\n",
              "99fUsPb38J0NB+PyPbXB+V6Wl1AUmMI/hPqycLsMBTNneAE+v/OkgJ+bWpoDg6SkzA81d2Fgdgps\n",
              "ThdW7j4MALh6Thne21iDdrsLjR2OoOOYtCqPKievrBQTWrqcDDj7iEPNygV4YFbvAs5ACj2/iw1t\n",
              "NrjcMoyGwCn5aBF1zJlWE64/cSj+7+OdePzLvbhgyhAYevG9tc1O9S3B61C3HGzGPe9uQVuXEy5Z\n",
              "hiwrc3Fz0sz4x+VTUZKX1vN/DEVdh92pZoIONvXPyQPaeuhv9zagrqULRRG+Z9tsTry6qgrnTh4c\n",
              "8dcAvosCXOGMvq01zfjZS+vwP6eNwvlThiT65cQFVzj7uXD7qPdGZooZYwdlAfCm1X/YdxTtdheK\n",
              "sqyYWpqLIk+dXqSd6mL259wRBQCUlYZojbCh3hMzOAf1coUzkPwMKwwS4JaVoDPWjohV/kwrrji+\n",
              "DBlWE3bVteFzTYMboOyY9Is3NuLWV9fD7Q6+Ml/Xql3hDB6gvL6mGuurmrC7vg37Drdj/5F2VB3t\n",
              "wKYDzfhka3zSnhSedkvfg3FuuokW7QqnLKNHK/jPfL0f932wHdc8u1rNBETCN+BsjzibRZFZtq0O\n",
              "FQ0deH3NsdWc9ycMOPu53q5whjOj3Hcep7h4nzKmEJIkoSRXWb2JtFNdnLyml+chxWyAyy2H3Nud\n",
              "4kMdiRTFgNNokJCfEb+0uli9KsiwIDvVjCtmlQIAHv9yr/qYLQebce6jX+ONtQfw7oYa7A9Ry6dd\n",
              "4TwUIqVe40nPLpo3DK8tmoU3bpqN86cMVp6DtZ99hvYc1dLljFvTTTSJFc7sVKW5sydp9e/3NQBQ\n",
              "Zig//NmuiL9Om1Jvszn5Ox1l4vq381DyjJ1iwNmPOV1uHO0QF9voBpwzh/rO41zu2erwlDFFAKCm\n",
              "CyOdpylmcJbnp6EsL93nY5Q4sVjhBLxp9Xg03fiv8l83dygsRgPWVDZi1f6jePmHKlz42Lc+v6u1\n",
              "QVKr7TYn2jS7J4VKqYv07Oxh+Th+WD5mlOdh/GAlMxBqZZTi64DfjW1/rOMUN0GXziiBySBhy8GW\n",
              "iHbycrjcWF/VpP79sRV7sbYy8KYe/vzLnmKxVe322hbc/toGvLa6Cs2d/e9G4FjUeMqZjrTZk6Y5\n",
              "kQFnP3aopQuyDJiNUkR1lD0hVjh31rViTWUjDjR2wmoy4ARPSrwkNxVAZKORZFlWZ3CW5aeh1DNK\n",
              "p792jOqJduh7NHkbh2IfePkHnIVZKbhoWjEA4Ibn1+DXb2+G3enGqWMLMbU0B4D3ZO/PfxWnLsTr\n",
              "r/U8x+CcVPVj4ucYz6H3XQ4XPtte16v5o79+ezMuffK7HqVa+xv/sp/+mFkR76MxgzIxf9QAAMA7\n",
              "68On1bfWtKDT4UJOmhn/ddwQuGXg9td9t6QNxOWW1ZXhcZ7yqljUcb74fSXeWn8Qdy3djBn3Lcei\n",
              "59fgg021SbETnfb3MFlWORlw9mNixaYkNy3qjRkDMq0YWpAOWQb+8rGy1/qc4flqN3KxZ4UzktFI\n",
              "R9vtaLe7IElAcW6aOruRjUOJZXe61XT0oOzUMI/uGbHCGY/AK9CkhkXzhkGSlLpNo0HCr84agyd/\n",
              "Oh2jB2YC8KbD/fmvaAbrUu+wO9Hk2cZzUI43WBcjoUIFqtH2728rcN1za/DkV/t69HVtNide/qEK\n",
              "3+87qusLnv8KZ7Bj35eJ91FhZgrO9+zk9e7Gg2HrKtd4avCnl+Xid+eNx+DsFFQ2dOD+D7eH/Lqa\n",
              "pk44XDIsRgNOGKksMsSiU73TE1imW4ywu9z4dFsdfvbyOsz50+fYVtMS9e/XV7jdsrqTGwDsOKTf\n",
              "f6tWTALO008/HZMmTcKUKVNw4oknYv16bhEXC+LOPVbdsDPKcwF4G4dOGVukfk6t4YwgLS5S5wOz\n",
              "UpBiNqIs35NS5wpnQom0r8VkQG6aOarPHc9ZnIF22xpakI6fnzISE4dk46Xrj8dN84fDYJDUwDpY\n",
              "Sr1ODV6V5wqWGq9p8g7MF5smAFCb6eK5wrnLEyxur+3ZRUv7+FA1rf2dWKkrFTfJ/TDgFL+HRVlW\n",
              "nDa2COkWI6qPdmJdVWPIrxOj7aaX5yE71Yy/XDwZAPDSD1XqXOVAxGJGcV4qRhZmAFAah6LN4VIC\n",
              "5jtOH42PbzsRi08ajkHZKTjabsddSzfBqdPG0iPtNp+swg4d3/BpxSTgfP3117Fp0yZs2LABt99+\n",
              "OxYuXBiLb3PMXG65X3feiZNCacwCzjyfvy8YU6j+f0mecuE+2NQJV4iOX8DboS5eZxlXOPsEUb85\n",
              "MCsl6G5CvSV2G4pHSv2w2PzAr4759tNG4T8/PwGzhuWrHxO1qkFT6p6fyYQh2QCA1i5nwFS1WCXT\n",
              "rm4CSjofUFYP28KkLaNF1CT2ZOcvANh60Lt7TGWAbWz1QqxwHu+pS+9vKfUuhwstXcrv0oDMFKRa\n",
              "jDhjwkAAwNvrgzcPybKMNRVKQCrO5XNHFOCaueUAgF++uQmN7faAXys25ijPT8dwT8AZixpOhyfo\n",
              "MpsMGDMwC3edOQbv3jwXmSkmbD7YjH9/WxH179kX1Pjd8HKF8xjk5OSo/9/c3Bz1i1m0vLGmGmc9\n",
              "vBJvrj3QL2uYqjwXmHgEnGMHZfnUqg3KToXJIMHhksM2SFT6BZzl+d6moVDjabRauhxYW3m0X98g\n",
              "9DWHjnHoeyhxbRrSjEUKZ4jndzhoSt3zXMMKMpDmKR8JtFoZqH4TADI0W4SGajiKJjG8vycbMQBK\n",
              "17Kg1xXO1i6HWvpwvOfGo781DYnfvxSzAVkpyu/WBZ65jR9sqg06Xm7fkXY0tNthNRkwYUiW+vG7\n",
              "zhyDEYUZONxqwyurqwJ+rXaRYPgAJeA81NIV9Zsop1t57RajN0YozEzBr88eCwD466e7Ih6915+I\n",
              "mx5R6767rk23q7laMavhvOqqq1BSUoJ77rkHL7zwQsDH2Gw2tLS0+PxxueJXLPzKqirsONSKO9/Y\n",
              "iBP+/Dn+8cUeNHUEvuPri6pinFIvy09T3xDa1U1AGX0zRG0cCn1CEEPfxcrmoOwUmAwS7E63usoW\n",
              "zt1vbcZFj32Hr/cc6dG/gYJTA84oNwwB8dttSJZlNaXuv8IZyCBPgFjb3BUwOKvXpC5FA1CgGyrR\n",
              "oe4fcALe1d147FLkdsvqcWy1OXvU6btVUyOn12yDWN3MTTNjdJFSv5vIFc5XV1Vh0u8+wbd7Iz+P\n",
              "iSxBYaY3EzFneD4KMqxo7HDgq12HA36dqN+cXJLjs01titmIS2eUAIBPB7uWd4UzDdmpZvX9vC/K\n",
              "jUN2T0rdZPANRS6ZXoKZQ/PQ6XDhnne3RHWhYWN1E+b+6XPc9/62mDQn2Z1uPPjpTrwXYlaquOGd\n",
              "OTQPaRYjbE43KnT6HtSKWcD5/PPPo7q6Gvfddx/uuuuugI9ZsmQJsrOzff6sWrUqVi+p+2u89njc\n",
              "deYYFGVZUd9qw18+2YnZSz7HH/6zDTZn3++SE53fsVrhlCQJV88uw5CcVFw8vbjb572zOEOfwNW7\n",
              "Zc/KpsloUIPkSC90mw8o6b8f9kU20oPCi9VIJMC3hjOWq9JtNidsnuxEJKPBxL+1w+4KGJyJILEo\n",
              "K0VdpQ10U1TruWAMDvCzK1L/7XHo0G+3wa5ZGYk0rW53urGrzls3VqHTlLq4GS7OTcPgHO/vZCLO\n",
              "7263jEc/34OWLif+/PHOiN8XdWrDkPf322Q04LzJyszXYGn11Wo6Pbfb56aU5ABQgq9AxHlZ1NsP\n",
              "H6D8N9ppdW1KXctgkHD/f02ExWjAip2H8Z9NtVH7np9sPYSDTZ146uv9uOAf32B3XfTqJ91uGXct\n",
              "3YRHPt+Du5duCprBE6vsJblpGOW5EdJz454Q8y71q6++Gl988QUaGhq6fe7uu+9Gc3Ozz5+ZM2fG\n",
              "+iWpstPMWHzScKz85Sl48CeTMXZQFjodLjzzzX58tatvr6S1dDnQ6EkViTFDsXDzKSPxza9OUU88\n",
              "WqKOM/wKp+fkpQmMS/MiH43kcLnVN+hmTd0ZHZtYjUQCvCucdqcbLZ2xq2UUXfbpFqPPfu7BpJiN\n",
              "yPeMEPOvowK0q0lWtdQgUEq9JkhKHfA2DsVjFqd/81Okc3H31LfB4ZLVsoGGdjta+uFA9HDECmdJ\n",
              "Xiry0i1IMSuXvEPN8Sl30FpVcVQ9j22sbsKq/ZHdPIvfSf/36X95utU/3VoX8OZGNAz51+IDwPjB\n",
              "2TAaJNS32rr9LGRZ9vYHeK4tIq0e7dFIgVLqwojCDPzs5BEAgD/8Z2vUso/a+c87DrXinEe/xgvf\n",
              "V6o3ALIsY/+Rdry74SBe/qGqRxsF/PmTHeoNQLvdhdog5wDxezAkJwVjPJMzkqGOM+oBZ1NTE2pq\n",
              "vEvJ77zzDvLz85GX1/2X3mq1Iisry+eP0Rj+ohFtFpMBF04txoe3nIAzxyvF2NFIHTR3OHDzy+vw\n",
              "+Y66Y34ufyLIy0+3qDVj8VYcQad6h92p1vGVaQJjdTRSBBfIGk1j0paDzazjjJJYrnCmmI1qvVks\n",
              "V/oO96B+Uxgcoo5THT+TlRIypS6C1UDjpLxfF/uUeq1f81OkO39trVFu3CYVZ6sd+ZVH9JfSEz+P\n",
              "4tw0SJKk1vAGS6u3djl6daPQ5XDhL5/sCLpiCABL1x4AAFiMymU30jFW4vfIfze5icXZmFqaA7vL\n",
              "jRe+q/T5XH1LFyobOiBJwNSy7iucqRajurK2we81H26zocPugkECij1lU2rAWR/dlfBgKXVh8UnD\n",
              "MbIwA0fa7Fjy4Y6ofE+xyPH//msC5o0aAJvTjXve2YIrnvoBVz71Ayb//lOc/MAK3PrqBvz67c04\n",
              "+YEvsXTtgbD9Bs98vR9PfKkc01SzEscEiyPE79+Q3FQ14NxeyxXOHmtubsYFF1yAiRMnYvLkyfj7\n",
              "3/+O999/v882DmlJkoRRnoMfjXqKDzbX4v1NtXj4sz3H/Fz+Yj0SKRLie4e6yIk75awUE3LSvGNr\n",
              "SnswGkmbdm9ot8flQp4MYrGtpZbo2I5l41BP6jcFEWD7B2sddidaPU0RhVlWNYVZ5/f6ZVlWg9Uh\n",
              "AWs4gweq0ea/ShvpCqeo3xw/OFtt4tNj45C6wukJnIbkhh6NdMkT3+PEP3+BlbsD10UG88aaavzj\n",
              "i71Y/OLagA2oHXYnPtyspIXvu2ACJAn4bEd9ROncYCucAHDDicMAKAPUO+3eMoE1lUo6fczALJ+x\n",
              "XVqTi5VJDJsONPl8XJRADcpOVWs/RxTGZoUzWEpdsJgMWHLhRADAa2uqfcpAekOWZfV6MqM8D/9e\n",
              "OAP3nDMOFqMB3+5twNd7jqClywmLyYApJTkoy0/DkTYb7nhjI378+LfYEiTD9v6mGvzxg20AgF+c\n",
              "MTrs7FJthmT0QKWha2ed/lc4o740VlZWFtc6zGgrU7dsPPaTr1gi31vfBlmWoxp0x3okUiQi2W3I\n",
              "vxZI6Mnwd/9V0M0Hm2PSWZ1M3G7vdIFYrHACShC4p74tpo1D/rsMRUKscB70C9bE6maq2YhMqyno\n",
              "CufRdrtaN1qU3f37xnMWpwh8c9LMaOpwRNzRKzrUxw3KQlOHA2sqG3U5Gkmt4fScJ0OtcB5utak/\n",
              "l5teWItXF83GRE9QFs6KnUqAWtPchTfWVuOK48t8Pv/p1jq0210oyVPq4T/fUY+Ptx7Ck1/tU2dj\n",
              "BlMfoIZTOH38QJTmpaHqaAfeXHcAP52lfF9vOr376qYwuSQHr66uxka/gFMstpQXeK8tYjRSRUM7\n",
              "nC43TMborFWJlLo5QEpdmF6ehwVjCvHZjnp8vOWQujLbG00dDrR6RkyV5qXBYJBw3QlDMWd4Pj7Y\n",
              "VItBOSmYXJyDUUWZsJgMsDldeObrCjz6+W6sq2rCuX//GmdPHITSvDTkppmRk2aBw+XG79/bBlkG\n",
              "rp5dhv8+aTj+9LGyGrsvwHuq3ebdNGJITqpa8119tBNtNmfCMpbxwJ2G/Ig3WUUU0ktimGubzRlx\n",
              "N3ak+kTA6fneda1dQYvwvQ1Dvq9TO4szXIrc/0IY7C6TInek3QanW4ZB6tnqYE/EYxandyRS5Fu7\n",
              "iuYR/xVOERgXZlkhSZJmm0rf1y/GEA3ItPp0/wpqoBqHpiHxWmZ66vQiCTjdbhnbxQrnkCwM9Zzz\n",
              "9LbCKcuyGliqK5yeYx+onEJ7Xmm3u7Dw2VURNVN1OVz4dq+3R+GfX+zttsq5dJ2STr/wuGJIkoQb\n",
              "5ysrk+9sOBi2njTUCqfRIOFaz1zNZ77er5YeharfFCapK5zNPulibzOqd5FgUFYKUs1GOFxyxKvo\n",
              "kRCD381hAtgzPKVun247dEzfTyxeFGVZkWL2vnfHDsrCnWeMxhXHl2HCkGxYPCuuVpMRi08ajs/v\n",
              "OAnnTR4MWVZGUT22Yi/u/3AHfvnmJvzv21tgd7lx9sSB+O254yFJUsiaV/G7l5ViQmaKGbnpFvUm\n",
              "Ve+NQww4/YiVuJrmzmPqZJRl2eeXJ9rdfbGewRmJ/HQLUs1GyHLwmih1JJLf61RqqpRg/GiQ4cPe\n",
              "51BOEsMKlGMj6s/0aE99K8599Gt8tDl6XZmBHNIETdFarfAXj+0txdD33qxw+gcd6m4unhWHIs14\n",
              "I+1NkSj4D9QwBHj/3XUtgUcvRZNIzc0UQ80j2IihurEDrTYlbTh8QIZm56/ggYQsyxHNzO1L9dXN\n",
              "nQ61RELUm4tRboFmcW7yTMI4bVwRJgzJQkO7HVc9syrsDdPqiqPodLgwIFMpwzjY1Ik3PfWagPJe\n",
              "E+PcLpqqTPs4rjQXM8vz4HDJePbb/SGfX3sjFMjF00uQlWLC/iPtWL69Dm02p7ot5PQQK5yjijJh\n",
              "NRnQ2uX0udlQVzg1iwQGg4ThhcrvSTR3HBKBebiAc8HYQhgkYMvBlmOaoypKuMryujfBhjIwOwWP\n",
              "XHYcli6ejf85dRQWzinHBVMGY/6oAZhcnI0rZ5XiwZ9MUbeYFl39+wL8rA4EOH+M8aTV9d44xIDT\n",
              "T366BekWJYjq6c4dWnUtNp+xK9EOOPtCDackSd5O9WABp5pS932dKWYjBnnu2MPVy4pV0h9NGgRA\n",
              "Oeno1Yqdh7H5YDMe+Tz6db9a3qHv0d1DXSse21v2JqUuGn386x/F6xzgubCL19/pcKmBCxB6JJL2\n",
              "67ocbnWHmFgRQfPUslyYjZFtxCCCkdFFmTAbDRjquZELtppX39qF6fctxy2vht6i+KPNtRj5vx/h\n",
              "rXUHQj4uXkT9ZkGGdzVrSI5yHgoUtGw+2AQAmD0sH88unKmmqq95dnXITmWRTj959ADcNH84AOAf\n",
              "X+xRg6m31x+ELCur0NpMj1jlfPn74J3QXQ6Xmn4VN0L+0q0mXOFJpT+1ch/WVzXCLSsNP4Ga2gSz\n",
              "0aDuqKWt41Snivids8WqXTSvZZGk1AEgP8OK6WXKTdWyrb1f5Qx2PYrUtLI83HrqSPzuvPF46NLj\n",
              "8Ny1M/HuzSfgvgsm+qyYDitQfla1zV1o9xuWL96zoiELgNo4xBXOJCNJknrHfyx1nNv97lSi+SZ1\n",
              "uWUcaAycqo43scIaLJVXrab+u99RRvJz1o7oOGP8QEiS0l0djx1sEkHMVNxe2xLTvea921rGJp0O\n",
              "eFdkYnms1C71HgScoo6vrqXLZzWw3m+FM9Xi7bSv06Q9a5qDD333/7rDMUyrO1xuNUguzk1V/13h\n",
              "Up7ehiFlVUVcfIONRlqx4zAa2u14f1Nt0OyC2y3jgU93wumW8Vwf2Y7Qe1PuPU5ihbO2qavbiq0Y\n",
              "uTapOBsDMq14/tqZKMiwYGtNC3728vqgq7crPHuSnzS6EJcfX4oBnlXOpesOQJZlNQC/cOoQn687\n",
              "eXQhRhRmoNXmxCurAu/4I36/LSYDslKD1/YtnFMOs1HC6opGPLVSWTENlU4XRFp9Y7Vmm1OxCuhX\n",
              "dx+L0UiRptQB4PTxRQCAT7b2furLsQackcpNt6jj1/b73ciJbKDPCucgz2gknXeqM+AMIBp1nOJO\n",
              "RdSCRDPgrG3uhMMlw2I0xGSXmJ5QRyMF6FR3utzqKkOgN7j4WKif8+FWGzodyoiOUUWZalp9i07T\n",
              "6k6X96L20ZZjq1cKRaxwhloBOVaiNjSmNZyiS70HNZwDMq0wGSQ43bJPMBwodSma07STEdR91EM0\n",
              "W8VjNJKSsldWhwrSrd6pEWEDTuW9IwLOzBRzyNFIayq98yKf/aYi4HN+tfuwmmrdeKC5W31sImhH\n",
              "IglFmVYYDRLsLjcOt3mPTV1LF+pabDBIwDjPz6W8IB3PLpwJq8mAr3YdDjg3s/poB/YebofRIGHu\n",
              "iAKkmI0+q5zrqpqwu74NVpMBZ3syNILBIGHRPGWV85mvKwJ2t2vnwoZqOi3KSsG5nkHwX3p2Hook\n",
              "4FQHwHtWOJs7vFuB+pdrxSTgjDClDiilDoAyzzTYHvDhiMWN0gBzpaNt2ABRguD78wo04WJ0kTel\n",
              "3pfKUqKNAWcAZT0Y2ROMCDhPGjUAQHTfpFXq7hmpas1IooiL3IEA5Qe1zV1wuoMHxt4VzuAXSJFu\n",
              "H5yTCovJgImeFNBWnTYOafdFjkfAGYuh74K3aSg2QZfvtpaR/zuMBm9DUI0mMKrTbGspBOpUDzUS\n",
              "KdTXRZt2FqjBIEU0FxfQdKgP9u6vLUYjVQQ454kROwDw3oYa9Weu5R+ILtsW/dnDPeU/EglQdugR\n",
              "5yJtWl3sZDaiMANpFu9K4sTibFw0Tam7DBRsr/AEd9NKc5GdqowfuuL4UhRkWHGgsRO3esoQTh8/\n",
              "MOB4ovOnDEZhphWHWroCblFZr9n5KpzrTxjm8/dQHerCpOIcAMqqt93pVmvuB2Rake7XLa2ORvJM\n",
              "XYkGR4QpdUC5XowZmAmXW8bnO+p79f3E9cS/pyAWvAG63wpngBrO4YXpMBkktHQ51UZAPWLAGYD4\n",
              "ZTyWWZyiQ13UHR5ps0dtp4S+UL8pqKORAqxwivRFcZ5yQfSnrnCGCOy96R3lsaLmSK87Dmm3KdxY\n",
              "3RSwmzYaYjn0XRjgSU23djkj2rO4trkT0+9bhjMf+gofba4N26TSbnehy+HZ1rIHK5yAt1Nd+/NV\n",
              "Vzg1tXLi/7Ud5zUh9lFXvy4O+6mLVURxDNXylhBbzR5ps6GuxQZJ8jYqAN6bP/86zqPtdrXxYWRh\n",
              "BuwuN1763jf9u6e+FV/uOgxJAq6cVQpAGQOUaNptLbUCjUba5DmfTByS0+15Fs4pB6B0SB/wO899\n",
              "6Umnzx89QP2YssqpBH8i6L3IL50uWE1GzPMsSgQ6p4kblkAjkfyNG5yFE0Yo8x9z0sxqwBNKeX4a\n",
              "slJM6lanlSECsrL8NBgkoKXL6bM6HIjLLeOF7yvDZvZ6klIHgNM9q5y96VbXbkJSntAVTuWYDtHc\n",
              "CFlNRvXxeq7jZMAZQCQrb6E4XG514OvU0ly1uSBaafW+MBJJKFHnlgYIOIN0qAtlEczirFIL2JVj\n",
              "Mn6wEnDqtXHI4fQNsj4JUiD/waZaXPPsqm71QZGKxwpnVooJVk9JSSSd6su31+NImx07DrVi8Uvr\n",
              "8KNHv8anWw8FXU0RI5HSLEafValIiFIC7daQgVc4fTvtlbpJT7CeE0lKPfYrnCLwFbWKoc5bon5z\n",
              "aEG6zwqWGI3kf5O9zrO6OXxAOm4+Rdlm8IXvK30meIiVv1PHFqmrbN/va0BzR2K3ytRua6kVqFN9\n",
              "i6Z+09+ookzMHZEPt6z82wWb0zsOaf6oAT5fc8XxZWqZQmGmVQ0EAxk3SAn8xcqzlrgJivR9+vNT\n",
              "RsBslHDWhEEBb/L9SZKEyZ60+obqpqD1m4ASSIvzfbgdh5Zvr8M972zBH9/fFvQxLres1lBHHHB6\n",
              "xiN9ueuwz6D7SIj3RXaqGdlpgYfhR5MI+LWd6k6XW73Z98+QiBtA//4PPWHAGYCo4aw+2gGnq3td\n",
              "TTgVR9phd7mRbjFiSE6qOjQ3egFn4kciCeIEpAzU9b3AVAUZ+i6Ijx8NsY+z/x33+CHKm/JgU2ev\n",
              "63j6MpFSz/GcEAOl1Zs67Lj7rU34YudhXPXMDz1uypFlWU3bxHKFU5Ikb+NQW/jAa0NVEwDlop9h\n",
              "NWF7bQsWvbAW5/39m4CBdW861AXv8HflvdRpd6kDoQdoVjj9A8e6li64ZWV7woL04N+3KDP29as1\n",
              "amrOb4UzRMApOtRFkCOUBUmpr61SAs7pZXk4e+IgFGVZcaTNhg82KWO7mjrseGudsnf0tXOHorwg\n",
              "HaOLMuF0y/h8Z+JWOWVZVgPOcCucsiyrI5GCDXpfOGcoAODVVdVqoLOmohEddmUc0vjBvj/PVIsR\n",
              "t506CgDw01llIUePidIGcWy0gm1rGczxw/Kx6ten4o/nj4/o8QAw2ZNW33SgKWxTTaR1nKLrvakz\n",
              "+E2HtnwokpQ6oNQdD85OQZfDrY6aipToFYh1w5AwzPOz2n+kTc3WHPI0KpqNUrf5x6OToFOdAWcA\n",
              "RZkpsJgMcLrlbqNTIiHS6aMGZsJgkNTal2ivcPaFlHqG1YRcT3DkP0ZKnLyCBcYZVpO6ClAVZJXT\n",
              "f0RHVopZnQ8XSeNQp92Fu97chCe/2hv2sX2BGBNy1gTlTn51xdFuAeU/vtijjtupPtqJa/+9utvo\n",
              "jVBaupzo9KS4Y71jk9o4FMEK54ZqJbi57dSR+Pquk/Gzk4cjzWLE5oPN+H8fbO/2eG+Hes/S6UD3\n",
              "4e8iMEwxG9QOc0A7i7PL83gxTiol5ApSPJqGvCl1zwqnJ7Cqb7UFLWHwNgz5BlZiNJJ/3fraCuWY\n",
              "TCvLhdlowFWzywEAT3+9H7Is49XV1eh0uDB2UBZmDVOaVEQ3cSLT6g3tdnQ6XJAk77EW/G82DrV0\n",
              "4UibDUaD1C0QF04ZU4jSvDQ0dzrw9nolwBbd6fNHDQjY0HPlrDJ886tT8LOTR4R8rWMHeW+i/VeF\n",
              "Qw19DyY33dKj2braTvVwAWek1zLRbe0I0AglODUlM5GucEqSpK5yftrD8Uhqw1CcrpsluakwGyV0\n",
              "Odxqrbh/3bWWGI2k5051BpwBGAySuqJW2YvRSOIORfwCqW/SKDUOVfehlDoQfE/1YPPctMS/IVha\n",
              "vTLArhfjh0SWVpdlGb9cugmvranG/R/u6PH+yIlg96TUy/PTMak4G7Ls24BxoLEDz32rpPV+f954\n",
              "5KVbsPlgM/77pXU+KwahiHR6TprZZ3ZcLEQ6i7O506EW108uzkFOmgW/OGMMnl04AwC6bb8HHOMK\n",
              "p98szjp1+8AUn+Ch0C9w9F9VDCYe+6mrtWCeAConzYxMT5rcv9ZQ2OY3EkkQ79EjbXY1U2F3utWf\n",
              "+zRPA8rlM0thNRmwtaYF3+1tUEcgXTu3XP25nT5OCQhW7DwcUe1uLIhzZFFmSrfdoERKXRxLsbo5\n",
              "sjAj6PvBaJBw1Wxl1uW/v1WCbTF/86TRAwJ+DaAcm3Cp7exUszqT0T+delitK47d+DLRqb67vhW7\n",
              "6pVrV7Cs1PAgdYn+xKJLqHOSNhiNNOAEvHWcy7fX9SgDWakOtI99/SagNKiJn6M4tx1sUl5DoIbD\n",
              "MZ4bj72H2wJOLNADBpxBeFNMPa/jFLsFjPbs+TqiFwNz/7OxBj97aV23O97WLoe6M0+iZ3AKJQG6\n",
              "Y2VZVrdICxVwhuqObe70jujQPscEUccZZoXz8S/34T8ba9S//2rp5h6tBCaCOEGbjQZ1O7ePtnh3\n",
              "HXrw012wu9yYMzwfV80uw9NXT0eK2YAvdx3Gr9/aHFH3qHcGZ+xHakW6vaVIwZXkpSJfE0BOLM6G\n",
              "QVIuvP5bTIpdhiJNN2oNCrLCWeQ3l1Td3rJVmduo1k2GGSelrf2M1ZgTsWoi/i2SJKl7hgfatKLd\n",
              "5t1RZpxfwOkzGslzztta0wyb043cNLM6jiw33aLOk7zttQ2obe5CfrpFHckDABOGKGnPTocLX+/u\n",
              "WdozWoLVbwLdU+qiQz1Q/abWxdNLkGYxYlddG95cewC769tgkIATRwQPOCMlVjn90+reuuJYTpNI\n",
              "wcCsFLhlqOfb8jAp9UA76AjNHQ519ThkwOn5nEFCj6atzBiah+xUMxo7HFirmaAQjtr7EMfrpnfH\n",
              "IeXaH6rhcHB2CjJTTHC65ahOtelLGHAGId5w/vt4R0Lc3Y32FAGLFc6DTZ0RFTq3dDnw67c244PN\n",
              "tXjxh0qfz4k3TX66BRnWnjVKxIo6GknT9bmzrhXtdiWl5V9DpaXeAQYIxkWavSDDd0THRHWFM3jA\n",
              "+cWOevzfJzsAAHefNQZDclJxsKkTf/lkZ6T/rIRQA06TQU2rf7dXacDYVtOCtzco6bxfnTUGkiTh\n",
              "uNJc/OPyqTBIwBtrD+Bvy3aF/R6HPIFKrNPpQOTbW4r6zSklvqNc0iwm9SLnf4NxLCucIug40mZH\n",
              "l8Pls8KpJUoCHC4ZjR12zQpn6IBTBMF2l1u9iEdTp927A412lqqYGhGocUiZ8acEw4F+ZuK9KOpl\n",
              "xcV8Wlmuz6rvNXOVekaxan3FrDKflUFt2jNY01usBZrBKYhj32pzornToXaHT/TUMgaTnWpWt6a8\n",
              "972tAJSm0Gg0oARqHLI5XWj0HONYrnACvsF2VooJOWmBy1TEe/FgU2fQ3ZG02zOGWqlzeFLqPd1a\n",
              "12w0YMGYQgDApz0Yv1XRELqJNRaG+dW8imuktkNdkCRJzYr+sK8hTq8wvhhwBuEd2dOzFc42m1P9\n",
              "pRK/PHnpFuSkmSHLkc3jfOG7SnUrPbFbhdCXRiIJ6vaWRzvQ5XDhwWW7cN6j3wBQUneh0rZTy3IA\n",
              "AN/sPdJtJUjtcve7IxXpwMqGDp/tQ4W9h9twyyvrIcvAZTNLsWjeMCy5cCIA4LnvKrCmovsA575C\n",
              "DTgNEoYNyFAbMJZvr8OfPt4BWQbOmTRInZ8HAAvGFuG+C5R/3yOf78G/vtoX8nscalYChVg2DAki\n",
              "gAs3RmVDdRMAb3pPa0KQEgrRpV7Qi4txdqoZqZ7fy0PNXd4B234rnBaTQV35q2uxqSui4QJOq8mI\n",
              "PM9OI3UxaBwSq5sZVpNPzWmoxiHvDkOBV/LK/eYPewNO3wHio4oy1a5rs1FSRyFpiTrOnqY9oyXQ\n",
              "DE4h1WJUd4E52NjpDTiHhF7hBICrPSOSOjwLB/7d6b0VqHFI3WXIaFCbCGNlsuZ9V14QPOWcm25R\n",
              "0//a3Ym0dmiaXuyu4Kv7IqVu6WHACWjqhLcFn2Lh871cbnV1MdS/L9r8V4S9M3wDn3unlio33L/7\n",
              "zzb89OkferSC2x8w4Ayit9tbivrNoiwrcj0nNUmS1LR6uICz0+7CM1/vV/++73A7Nh7wvrH70kgk\n",
              "QaTUNx5oxhkPfYVHPtsNu8uNE0cW4LErpoX82hnleUgxG1DXYsPOOt9i6WAz4XLTLeoqhX8KqrnT\n",
              "gRueW4NWmxPTy3Lx+/PGQ5IkzBs1ABdPK4YsA79cuilhtWXh+M+lO9OzyvnQZ7vw1a7DMBsl/OKM\n",
              "0d2+7vLjS3H7aUpX7P/7cDueWhk86DzUopz0YpmmEwZEsMIpy3LIgFPcYPivaHuHvve8aUiSJO8s\n",
              "zuZO9fX5r3BqP1bX2oWDoug/TA2n8nWxm8Wp3e1Iu/oYakxZsA51QWR19h/pgCzL6sD3aWXdB4jf\n",
              "fMoImAwSrpxVFvBnNrO8d2nPaAk2g1MQNwyr9jfgaLsdJoN3dSmUEYUZ6txMQNnOMhrEMdld36qu\n",
              "CooV5AFhdhmKhsmaG9hw1xYRFK2rCnxct2tWaSNJqUfaoa41b9QApJgNqD7aiXWe7EgoBxs74XLL\n",
              "SDEbYr5arOU/i/OgGnAG/hn/fMFIXDK9BEaDhJW7j+Cix77FVc+swvogP+v+hgFnEN67/Y6wA6i1\n",
              "dvql04VIu/teX1ONhnY7inNT1aHxYi9eoI8GnHmi4cCGyoYOFGVZ8Y/Lp+L5a2eGXYlNMRsxa1g+\n",
              "AHTbaUNtGApQc6PuOKRJsx5ps2Hxi2ux70g7Bmen4LErp6lbiwLAb340DgMyrdh3uB2PfLY77L/L\n",
              "4XJjdcXRHh3/Y6VNqQPegFPU5F1xfFnQgv5bFozELQtGAgDu+yB40BmPkUiCGnCGaBo60NiJhnY7\n",
              "zEapWzML4F3h3Op3c3HEU8PZm5Q64A06apq6gtZwaj9W39IV0S5DQiwbh2rVwNf3dQQb/q4NIAP9\n",
              "jAHvyk9lQzuqj3bicKsNZqMUsLZx1rB8bLj3dNzzo3EBn8tkNGDBWCUYO5a9r3tL1GcWB6jhBLzH\n",
              "72NPyn/0wMyIG+iumVsOQPm9CPaz7Kni3FRkppjgcMnqNULULPuvuseCdhxUuKaaqaU5ABD0RmK7\n",
              "ZoUzdMDZu5Q6oJTa/GiiUjf8apB96LUqNdfNWAfvWsMLlOt+XYsNbTZn2KbDDKsJf/7xJHxxx0lq\n",
              "4PnVrsO46LFvgwb4/QkDziAG56TAZJBgc7p7lBLb6alf8b9bjiTgdLjceNKTDr1x/nD8ZHoJAOC9\n",
              "jTXqXW9fmsEpDMlJRW6aGUaDhOtOGIrP7jgJP5o0KOI39ryRyorBl90CzuBdhRM88zg3H2yGLMt4\n",
              "d8NBnPbgl/h2bwNSzAY8edX0bs0k2Wlm/PH8CQCAJ77aF7IGFADu/3A7Ln78O/zb04kbD+IEbfHc\n",
              "9Y8ZmKmuPGVYTfj5KaFHrPzPqSNxi+cx932w3We1XIjH0HdBXCwb2m1BU6tidXPsoMDlF+KifrCp\n",
              "U22YA7RjkXoZcKrD3zuD1nAC3p/TviPtaglHJMG6OoszBgGnSKn7p+ZEecuBox0+qcZ1VU3YU9+G\n",
              "FLMBc4IMIdc28K2tUspOJgzJDhqIZVhNITuwRdNbpGnPaHG7ZU1KPfB5UtTQif3RwzUMaZ08uhCP\n",
              "XnYcnr56RkTD1SMhSVK3Ok516HuA38loy071NoaFa6oRJRbrqxq73Yy73DJ2RRxw9j6lDgCXzlSu\n",
              "j+9vqg1aTyoEmnYSD9lp3ma8dZWNailGuJKc0vw0NfCcOTQPbhn4aHNtyK/pDxhwBmEyGtRaFTEw\n",
              "NhJqw1CRb8AZyfD39zbU4GBTJwoyrLh4WjHmDs9HYaYVTR0OfOGZ+dYXazgtJgM+uOVErLjzJNxz\n",
              "zrgeNzOJbeFW729Eh93bRR6qq1CMRlpT0Ygbnl+DW1/dgMYOB8YMzMSbN81RV8X8nTlhIH40cRBc\n",
              "bhn3vLsl6IWwsd2OVzx3zu9qOt1jze6XUpckCT+ZoZxYb1kwwqeDOxBJkvA/p43CzZ7Zf394fxse\n",
              "XLYLOw61qAGfd1vL8Kt0xyo/3QqDBMiyMhsxkFDpdEDpoBZzIsVNQrvNO0u0NzWcgDctrqTUg69w\n",
              "ipVK0diUmWJCZoB9sf15O9yjn1KvbQp8DEUKudXm9GlWEr/L50warO757a+swDsa6cud3j3Ce2ve\n",
              "SCXteaCxM+AuOrFyuM0Gu8sNo0EKemMgVjhFvBTsfBHMuZMH9/hrwvGv46yL4wonANx22igsGFOo\n",
              "ZlWCGTMoEylmA1q6nNh3xPd6VtnQrr4vAWUVM9g59lhS6gAwvSwXwweko9Phwn82hg7GvIsX8b9u\n",
              "isYhMZavIMMS8Wp6aX4arjheqZEWN0f9GQPOEHpaxynLslqHONp/hdPzS1fR0B5wpcftlvHYl8pw\n",
              "8utOGIoUsxEmowEXHKeMIHlr3QG43LI6X6+vjEQSBuek9joIHlaQjiE5qbC73Pje053X5XCpgVGg\n",
              "rkIxGulgUyeWb6+H2Sjh9tNG4b2bTwh7Ibj33HGwmgxYX9UUdLeKl1dVqft0b6xuiuk8RS1RSK9N\n",
              "M900bzi+uPMkLJo3PKLnkCQJd5w+Cj87WXn8I5/txpkPrcSE332Cix77Vg1E4jEWyWiQ1BXIYHWc\n",
              "4QJOQFPH6SmhEPWbqWYj0i29myUqVjj3HW5XB+kHXuFUXr9oLgk3Esn/62Lxu1Pjt4+6kGI2qjVq\n",
              "olO7udOB9zcpN02Xzeze4CNkpZjVZhqRap5e3vuAM9ViVJtqnotjlkDclA/KTgmarvXvEp4UYA/1\n",
              "eBOjkUQNpHi/xCMTAQDnTR6MpxfOQFaYmymz0aA2La6rbPL5nFhwGaZpzLEHWeXs6T7q/iRJwqUz\n",
              "lN/n11aHTquHG2gfS2I00krPiLBIynG0ZpQrK8pbalrQ1sfH+oXDgDOE8h52qte12NDU4YBRs7uQ\n",
              "MCQnFalmIxwuWa0n0fp0Wx321LchM8Xk0/UpZt59vqMe22tb4HDJsBgNcQkW4kWSJHWVU6ysHGjs\n",
              "gCwraTvR7as1INOqpg8nl+Tgg1tOxC0LRvrUbAZTmJWiXngf/WxPt8/bnW71Ain2Al/Wg/EbxyLQ\n",
              "Xb/BIKkrfJGSJAl3nj4a910wAbOG5SHDakKXw63WXWWmmJCVGp+xWqK0IdD2lg6XW121DBVwqnWc\n",
              "nk51dSRSpqXXNVkirSUCSavJEPBnIlKa3nRYZO89/6Hx0RSqltS/cejdDQfR5XBjdFGmWn8XjKjj\n",
              "FDdbUwM0DPXEjfOVm5431h7wGZcTS94tLYNf2LU/N4vRgFEDM4I+Nl60KXVZln2ahvqaYI1DOzzB\n",
              "srYm1BGkU12c63pTwyn819QhMBslbDzQHHBrUMHbDxDflDrg7VQXwXi4dLo/ZTEnFS633O+71hlw\n",
              "hlDqNyYkHHFCLc9P67ZkbjBIaseaf1pdlmX8c4US+Fw9u9wnXTdmYBbGDcqCw+V9THFuao8G5fYH\n",
              "YiXkK89doHbf22ABxRNXTscjlx2HtxbPwaii8B2mWjfNHw6L0YBVFUfVVVXh/U01qG+1oSjLqm5L\n",
              "F6+AU2z31tu6Ji1JUrqIX100G5vuPR2f3TEfD10yBYvmDcNDl0yJW/F8qFmcO2pbYXO6kZ1qDhlU\n",
              "+w/7P9x6bA1DgDelLgLJoqyUgD8T/xWmSC8Yako9yiucsix7G78CvJZSzfB3WZbx8g/K6s9lM0vC\n",
              "HnNtvXRpXlrAFd+emFqaix9NHARZBpZ8uOOYnisSLV0OvOwpHwhWvwn4BpxjBmV2240oEUYWZcBk\n",
              "kNDc6UBNc1dchr73VrDGoW2ebRm1I6aCbW/pX6/eGwUZVpzm2Xno9TXVAR/jdsvqzVc8Z3AK4rov\n",
              "9HSFEwBmliuNtav29+/5nAw4Q1BXOCOs4fRuaRm4czFY49A3exqw6UAzUswGtQNSS6xyfrhZSXP1\n",
              "pfrNaJkzPB8mg4T9R9pR1dAR0baY4wZn4bzJg3sVfA/MTsFPZihDnB/93NuxLssynlqpNNpcNbsc\n",
              "Z0/0Dl+PRzpDNIf1Ns0UjMEgYfiADFxw3BD8+uyxWDC2KKrPH0qo7S3F/umTS3JCBkOiSUzMXj2W\n",
              "oe+Cf2o82LiUomzfj0cecHo79KM56aC506EGyYFqFLXD3zdUN2HHoVZYTQb813HFYZ9bW+M2/RhX\n",
              "N4VfnDEaZqOEL3cdjunOQzVNnbj4se+wav9RpFmMuHJWWdDH5qSZkeYpxYh2LWZvWU1G9RqxraYl\n",
              "Ltta9pZY+d5d3+YzC1ksukwYkq2el4M1Dh1rSl24xJNWf2vdgYDj7upbbbA5lZreQAPXY02scAo9\n",
              "XeEEgOOHKmn1/l7HyYAzBG8NZ0dEXZbekUiBV9vUWZyagLO5w4H/fWczAODSGaUBm0LOm+IbVPWl\n",
              "DvVoyUwxqyexL3cfVrfFjGVX4U3zh8NkkPDNngasrVTeyN/vO4pttS1INRtxxfGlGD4gA0ML0mF3\n",
              "udV0fyxpt7bUi1DbW66PoH4TAHLSvAOntRfjYwk4Uy1G5GoGagdbScpPt/q8/yJNqRdkWCFJyqr1\n",
              "0Y7ADVO9IQZY56cHbj7w7vzVoTYL/WjSoIh2xNEOxT7WdLr2Oa84Xgn+7v9w+zEF31/vPoJv9xyB\n",
              "zekbWGw52IwL/vENdta1ojDTitdvnO0zzNyfJEnqStOkPhJwAt7GoY3VTWqTXV9c4SzIsKqLAaIG\n",
              "u6XL4bPpiSgLCl7DKVLqx5ZpOWFEAYbkpKKly4mPt3Tf2UpkKIfkpCbkvFqcm+aTsepN0DvTE3Bu\n",
              "rG7uszOkI6Gfq1oMlOSlQpKU3YOCddhq7VBXOIMEnGKF0zME1u2Wcdtr61HZ0IEhOam41TND0V9h\n",
              "ZgrmjfSOMtFjwAl40+pf7jwc0QrnsSrOTVO3qnvEU8v59NfKWKqLpg1BTppSH3i6J2WzbFvgbfrW\n",
              "Vjbihe8rQ44AiZSaZjLpp2QiVEpdXKyOCxNwAt60+taa5mMa+q6lXW0IVitnNEjqFpdA5N39ZqMB\n",
              "+enRbxyq9dtD3Z8IOHcealW7dy8P0SykpU2pH0vDkL9bFoxEptWEbbUteMezPWtPvba6Clc+/QMu\n",
              "f+oHTPn9Mlz9zCo8tXIflq49gEue+A71rTaMKsrA2z+bG9Gq5dVzyjGtLFfdhrMvEHWcX3k6ms1G\n",
              "yeemqC9R6zg9aXWx4DIoOwU5aRY1uAu2vWW0bq6NBgkXT1fO468GaB5KZMMQoLy+8gLv9+5NSr0s\n",
              "Pw2FmVbYXW71nNkfMeAMwWoyqmm3cHWcTpdbDSTDpdT31rdBlmU8tHwXvth5GFaTAU/8dJq6M1Eg\n",
              "F071psP0mFIHvAHnd3uPqGUHsT5J/PfJw2E0KOm+dzccxGc7lPFT13r2iwag1gh9vqO+W1B5sKkT\n",
              "Vz71A+55ZwsWv7jumO8+1WHIBv28Nb1NQ74BZ3OHQ93yLdRqlKCdvaoGnMeYbtQGj6FWkrTjknpy\n",
              "wfAOjY9e45A6PDpI4CtuSOtbbeh0uDCyMCPgbkGBjCjMQFGWFcMHpGNkYc/qokPJS7fgvz310A98\n",
              "srPH75PNB5pxz7vK/uWZKSZ0Olz4ctdh3PfBdtzxxka0212YOyIfby6eE/HxuXJWGZYunhOwKTFR\n",
              "RMC5ybO73ICM2O8y1FuijlM0DomGIdFtL1b1gjUNOV3Rq1e/eHoJJEnJUO0/4nutFlskJ3KhZliB\n",
              "N63em4BTkiR1lbM/p9X1c1WLkbII6jgdLjceXLYLdqcbaRZj0O7Isvx0GA0S2u0uPP9dJR75XFlV\n",
              "W3LhxLB35KeNK1L3TB5ZlPiOylgYNygL+ekWtNtdamom2K460VKWn47zpyg7Vtzx+kbIMnDq2EJ1\n",
              "dhoAHFeai/x0C1q6nN3e7H/4z1Z17tzy7XW47rnVaD+GWk//nYb0YICo4fQLujYdbAKgXAgiueiP\n",
              "V/dUbz7mXYYE7eD0ULVyouNcknqW4iyKwW5DNZ6GoWC1YEVZKT5TDi6bWRpx0JJqMWLZ7fPxzs/m\n",
              "Rr0x8Zq55RicnYKa5i48+01FxF/X1GHH4pfWwu5049Sxhdjw29Px0a0n4n/PHot5owYgw2rCpTNK\n",
              "8OzCmWFH+vR1Y/22HS3sg+l04TjPCueGqia43bLaMCQyfGY14Ay8wmmPUkodUII4sYGIf/NQqA1E\n",
              "4mV4ofK90yxG5PRyxVoPdZz6uarFiAh4Ao0yApQGoAv/+S3+uUKZoXnN3PKgu09YTAY1gL33PeVu\n",
              "feGccp/Vy2BSzEY8f93xeOyKqd2KkPXCYJB89imO1/inn508Qq21A4BrTxjq83mjQVK36dN2q3++\n",
              "ow6fbK2DySDhjxdMQLrFiG/2NOCqZ1b5FNL3xLEOQ+6LRCB3uNXmUwstBqmHq98UREp935F2teu0\n",
              "t0PfBW2XdyQrnAMyrBGN3vL/unCjkdptTny69VDY3a8AZWckIPhuR0aDtz7RYjKoTYeRykoxRzTY\n",
              "vqdSzEbcecZoAMA/v9iDhrbwq75ut4z/eW0DDjR2ojQvDX+9eAqMBgljB2XhhnnD8Py1M7Hl92fg\n",
              "TxdN6tFx6aty0y0YnB3ZTVCijRmYiTSLEa02J3bXt6kNQ2PECqfneISr4YxWXeWlng0ynv56P15Z\n",
              "VaWea0TAmcjZ1eKaPTgntdcr1jOHKp3qaysbo1K+lQj9/x0aYyJA9E+pu90ynvu2Aj96ZCU2H2xG\n",
              "dqoZj152HH5xxpiQzzdCEyzOLM/D//5obMSvZUpJDs6aOKgHr77/mTfKW6tanBef8U/DB2TgnEnK\n",
              "Kue4QVmY7dnbXeu0cUqd17JtdZBlGZ12F37rSfFdd8JQ/HRWGV68/nhkpZiwtrIRl//r+4guqFou\n",
              "t6zufBKNNFNfIdLedpcbVz79A95cewBtNmdEA9/9n2dgVgpk+di3tRS0q4ShdnQRszh72mEqVncD\n",
              "bY/b1GHHm2sP4Prn1uC4Py7DohfW4sLHvsWmA00hn1M0DYV6LaLs5kcTByEnre+kjC+YMgTjB2eh\n",
              "1ebE/328M+zj//7FHrXs6LErp0bU+NTfjdPsz94XG4YEk9GAyZ4B8Gsqj6o1nOMGiRVOT5d6kBrO\n",
              "aKbUASULeOrYItidbtz91mbc9toGtNmc6rU7UTWcgLId6vSyXFw9p7zXzzGyMAM5aWZ0OlwR3Zj2\n",
              "Rfq5qsWI//B3l1vGZ9vrcOm/vse9722FzenGiSML8Mlt83Du5MFhn090sA/MSsE/rpiqq27kaDhx\n",
              "pHeFM54z037zo7H48bRi/OmiiQHvQE8YUYAUswEHmzqxtaYFf/9iNw40dmJwdgpu8TR7HVeai1cX\n",
              "zUZ+ugVba1pw6ZPfozGCZjNBe9eqp9+LFLNRXWX7Zk8D7nxjI6bftwwrPbs8TQkzjFxL1HEKBcfa\n",
              "NKRZTQq1Z7V43/qnPMPx1nB6A067041fvLER0+9bjjvf2Ijl2+tgd7qRbjHC7nTjphfWhrxZEbsM\n",
              "heqW/+msMkwry8XPTxnRo9cbawaDhN+fNx4A8NqaaqypCJ4e/HLXYfxt+S4AwH0XTMD4wX2nmzyW\n",
              "xml+x/ryCicATC3LAQC8u6EGHXYXLCaDmrpWm4bikFJXnseAJ386Db86awyMBgnvbqjBjx5Zqe4i\n",
              "lsgaztx0C95cPAc/DTGqKxyDQVJ3HeqvaXX9XNViRKTUK46046mV+3DyAytw3XNrsGr/UaSYDfjD\n",
              "+ePx/LUzMTBIesvfT2eX4Zq55Xj+upl9cgeJRCvIsKpBRazrN7WKslLwwMWT1S3b/KVajGqN0JNf\n",
              "7cOTXynd7L89dzzSNXvHjxuchddvmo2BWSnYXd+G655bjU57ZA0S2hNztE7CfcWDP5mClb88GXee\n",
              "PgrDBqSjy+GG3emGxWTwucCGow06rCYDMqzHtltSWX46DJIylzHUzkunji3C0sVzcM85kWckAG8Q\n",
              "K1LqTpcbt766Hm+sPQCnW8aYgZm47dSR+Pi2E/HdrxdgaEE6apq78PNX1gfcAtflltV60FDd8qeP\n",
              "H4ili+f41CL3FdPL83DJdCX9+Zt3tgT8d+6pb8Wtr66HLCs1qBd7Hp8M+ssKJ+DtVBcB0KiiDHXn\n",
              "IJFSDz6HM/oj4AwGCTfNH47XFs3CoOwUNZ1emGlFmiU+O6vFUn+v42TAGYa4K2rudOC+D7aj6mgH\n",
              "slPNWDRvGJbfPh9XzS7vUU1GYWYK7j13fI93xkkmP51VBqNBUrvD+wrxet7bWAOHS8bJowfgjPHd\n",
              "X+PwARl4/rqZyEoxYV1VU9DgwZ9T081p1lGXulCSl4abTxmJz26fj/dunov/Pmk4Hr5kSsBZksFo\n",
              "m+sGZB57B++ATCuevnoGnlk4I+RzGQwSppXl9viipe421NoFl1vG7a9vxEdbDsFiNOCZhdPx8W3z\n",
              "cNupozBmYBayUsx44qfTkGYx4tu9Dfi/T7qnnI+02eBwyTAapD6/+hXKXWeNQU6aGTsOteLffvus\n",
              "1zR14qqnV6Gpw4EpJTm499xxiXmRCaJdRR8QosyjLxCNQ8JYzYQW71ik0F3qscjmTC/Pwwe3nIiT\n",
              "PVsma4P4/kztVK84ClcUN5OIF/1d1aIs3WpSTwBjBmZiyYUT8f3dC/Drs8eiOMTWadR7l8woxZ7/\n",
              "dxbmjigI/+A4WjC2CKKk1Goy4PfnTQgapIwqysRTV8+AxWTA8u11+O17W8NuHqAOQjZIQRvP9ECS\n",
              "JEwqzsEvzxzT45pkbUr9WOs3hZPHFKorNdEmUuqHW234xZsb8d7GGpgMEv55xVScMqb7zcqookw8\n",
              "cPFkAMpK+vubanw+L0YiFWVaj2kP6kTLS7fgV2cq9e5/W7ZLnS3a2G7HVc+sQk1zF4YNSMczC2f0\n",
              "6IZED0py09SJJL0ZoRNPeekWDNNsFjBmkDbgDLfTUGwbJPPSLXj66hl44bqZ+MuPJ8fke8TbuEFZ\n",
              "SLcY0drlVGtm+5P+v8YcB89fOxNH2mwYMzCzz85E05u++HPOS7dg1rB8fLu3ATefPCJs1+PMoXl4\n",
              "5NIpWPzSOrz8QxUGZnnrPQOJ1baWejIwKwX56RY0tNujFnDGUn6GFQYJcMvAW+sOwmiQ8Ohlx+HU\n",
              "EKv3Z08chBvnD8MTX+7DL9/chPoWG+paurD/SDt21nmGa/fxQCQSP5legtfXVGNdVRPue387/nLx\n",
              "JFz73GrsqW/DwKwUvHDd8X1qRma8GAwS/nbJFOw93IaRhX2vJMLfcaW52OeZfTlWs+mJxbM/fbix\n",
              "SLE83xkMkk9fQH9nMhowrTwPX+06jB/2N/S7lduoH+muri5ccMEFGDVqFCZPnozTTjsNe/bsifa3\n",
              "iasBmVaMHZTVJ4Mgiq+//mQyHr3sOHWIdThnThikNkk8uGxXtxlxWnociRRtkiSpafUBmX0/GDEa\n",
              "JLVWW5KAB38yOaJV3V+cPhonjChAh92FP7y/DU98tQ+fbqtTa9JO6GOr/71hMEi474KJMEjAB5tr\n",
              "ceE/v8X6qibkpJnxwnUz+/zqXiwtGFuERfOG94trjmgcAnxXOC1ia8swXeq8we6Z/lzHGZMjvWjR\n",
              "IuzcuRMbN27E+eefj+uvvz4W34Yo7gZlp+LcyYN7NK7pqtnlWHzScABK+jAYB0/AEZk7QhlbNbqf\n",
              "1EFPKs6BQQL+76JJOH9KZDMxTUYDHrnsOJw6tgjzRw3Awjnl+N254/Dva2Zg5S9Pxv+cNirGrzo+\n",
              "xg3OwsI5ytzbHYdakWo24pmFMzCynxxbAmYPy4fJIGH4gHSfFelwg995g9072h2HIukN6EuinlJP\n",
              "SUnB2Wefrf591qxZeOCBB6L9bYj6lctnluKxFXvR1BF8IHwsujb16Nq5Q3HiyAH9JuD8++XHobHd\n",
              "EfEkCyEv3YKnrp4eo1fVd9x++igs234Ih5q78NiVU2NWT0uxMWxABt5cPAf5fuUP3rFIgWvX45FS\n",
              "16NJxdmwmAxoaLdj9D0fY2BWCgbnpGBwTioG56TihhOH9dlSlJjXcD788MM4//zzA37OZrPBZvOd\n",
              "N+dyHdte1ER9UbhdNwDttpa84w/FZDT0eB5mIllNRgzMTq7Gl57IsJrw0a3z0Gl3cVRcPxVo84Zw\n",
              "K5xMqfeO1WTEwjnleObr/XC6ZRxs6sTBpk4Ayp721/vtlNeXxDTgvP/++7Fnzx589tlnAT+/ZMkS\n",
              "/P73v/f52KxZs2L5kogSQuym4XLLcLnlgCl5ptQpWWVYTcc8U5X6FnUOZ5AaTqbUe+/XZ4/FXWeO\n",
              "weFWG2qaO1HTpPypbe7qs6ubQAwDzgceeABvvfUWli9fjrS0wN28d999N26//Xafj91zzz2xeklE\n",
              "CaPd59nhcsNo6L7iJU7AetrWkoiSkyXisUg83/WG0SBhYHYKBman9JsylJgEnA8++CBeeeUVLF++\n",
              "HDk5OUEfZ7VaYbX6plCMRqaeSH+0J1Wb0x1wtmC0t3ojIkoUcc6zBQ04mdFJNlEPOA8cOIA77rgD\n",
              "w4YNw8knnwxACSx/+OGHaH8ron5DmzbimBAi0juzmlIP3DTk4A120ol6wFlcXBx2RxWiZCNJEiwm\n",
              "A+xOd9DGIaaYiEgvIh2LxBKi5MEjTRQnVnVvYZ6AiUjfrKZwASczOsmGR5ooTtTRSEECTu/Wlkwx\n",
              "EVH/Js5j4TI6TKknDwacRHFiifCO38Q7fiLq58zM6JAfHmmiOFG7NnkCJiKdi3jwu4nnu2TBI00U\n",
              "J+FS6hyETER6YVEDztBbW5oCbIJB+sSAkyhOLOrewiyiJyJ9E1v0cvA7CTzSRHES8QonU0xE1M9Z\n",
              "PJu4hJs7bOH5LmnwSBPFSaQBJ2s4iai/C9elzpR68uGVjShOxFw6u8sV8PM8ARORXpjDTuVgSj3Z\n",
              "8EgTxYnatRlkqzd2bRKRXljCnO8cTKknHR5pojgRJ2Ab7/iJSOdCjUVyu2W43J65w8zoJA1e2Yji\n",
              "JPIaTp6Aiah/U893AQJOh9v7MWZ0kgePNFGchN/akmORiEgfRNNQoBVO7WxONkkmDx5pojiJdIWT\n",
              "W1sSUX9nCbG1pVMThDKlnjx4ZSOKE+/g98Bd6k43U+pEpA/mEDsNiTS7JAFGBpxJgwEnUZxYTcFP\n",
              "wABT6kSkH+ZQNZyaXdUkiQFnsuCVjShOzCFSTAC71IlIPyyaLnVZ9r3JdnKTi6TEo00UJ6KG08at\n",
              "LYlI50QwKctQRyAJ3np1rm4mE17ZiOIk4r3UWdNERP2c2eQ9j/mn1Vk+lJx4tInixNs0FCzg5EmY\n",
              "iPRBex7z323I2yDJc10y4dEmihPvCmfgLnWm1IlIL7TjjvxvsplST068shHFScQpdZ6EiaifkyTJ\n",
              "p3FIiyn15MSjTRQnlhBz6bQfZ5qJiPTAYgoccIqUOgPO5MKjTRQn4be25E5DRKQfIlvjf85jNic5\n",
              "8cpGFCdi5dIWtGmIJ2Ei0g9zkEZJptSTE482UZyEW+F0uplSJyL9CLa9pTelzpvrZMIrG1GchO1S\n",
              "d7KuiYj0I1gNJ3dVS0482kRxYgmxt7D24xyLRER6oDZK+tdwMqWelHi0ieLEe/IN1qXONBMR6YfY\n",
              "bajbHE6m1JMSA06iOAm1wulyyxDbDZsNfFsSUf+nNg11W+HkRI5kxKNNFCeWICdfwLfGiSl1ItKD\n",
              "YE1DnDmcnHi0ieIkVJe6T8DJNBMR6UCwnYaYUk9OMQk4b7nlFpSXl0OSJGzYsCEW34Ko39Gm1GU5\n",
              "8B0/wJQ6EelDsDIiUcfOlHpyicnR/vGPf4yvv/4aZWVlsXh6on7JokmVdzsBe/5uMkgwGHjXT0T9\n",
              "n1jBDDYWiSn15GKKxZPOmzcvFk9L1K9pT652pxtWk9Hn7wBgYoqJiHQiaNMQU+pJKSYBZ6RsNhts\n",
              "NpvPx1yuwEOxifo7bcDZfecNzqUjIn0JWsPJlHpSSujRXrJkCbKzs33+rFq1KpEviShmDAYJJk+6\n",
              "vNsdP1NMRKQzwbvUudNQMkro0b777rvR3Nzs82fmzJmJfElEMRWsU93ObS2JSGfUwe9+5zuxl7qF\n",
              "KfWkktCUutVqhdVq9fmY0WgM8mii/s9iMqDD7oLdr3REveM38QRMRPpg8VzP/VPqdqbUk1JMjvaN\n",
              "N96I4uJiHDhwAGeccQZGjBgRi29D1O+IlLmtW0rdU8PJkUhEpBPBVjiZUk9OMVnhfOKJJ2LxtET9\n",
              "XrCUupMnYCLSmWBNQ0ypJyde3YjiKNj2lnam1IlIZ9SxSH5NQ0ypJycebaI4EiucwfYW5gonEemF\n",
              "OdhYJGZ0khKPNlEcebd6C9I0xBMwEemE9wY7cEqdg9+TC69uRHEULKXuDTh5AiYifbAE29rSyYxO\n",
              "MuLRJoojcccftEudJ2Ai0olgW1vamdFJSjzaRHEUrEudKXUi0ptgTUNMqScnXt2I4sh7AubWlkSk\n",
              "b2ZRw+l/g82UelLi0SaKI0uQE7B3a0ve8RORPgSbw8mMTnLi0SaKI2vQFU7OpSMifbGYAjcN2dkk\n",
              "mZR4dSOKI9ZwElGyMAfZytfJJsmkxKNNFEfhtrbkVm9EpBcc/E5aPNpEcSRqmmzdUky84yciffEG\n",
              "nH5bWzKlnpR4dSOKo7ApdRPfkkSkD8GahphST0482kRxFGwQMlNMRKQ3wba25PkuOfFoE8VR2BOw\n",
              "gSkmItIHkTLXNg3JsgynW/b5PCUHBpxEcWQNmlL3nICZUicinQjUNKSt5+T5LrnwaBPFkVrDyRQT\n",
              "EemcN6PjDTK1wafZwPNdMuHRJoojS5gaTo5FIiK9EDfQLrcMlyeN7hNw8nyXVBhwEsWRuOP3H4Rs\n",
              "597CRKQzFk3KXASaYrVTkgAja9aTCq9uRHEUrkudW1sSkV5oVzC9AadokDRAkhhwJhNe3YjiKFiX\n",
              "utPNQchEpC/aGk1xk+3g0PekxYCTKI6CNg15UuoWrnASkU4YDBJMnrS5SKVzIkfy4hEniiNrkJS6\n",
              "nV3qRKRD/qOR1PIhdqgnHR5xojji1pZElEz8szqcyJG8eHUjiqOwASe7NolIR7qvcDKlnqx4xIni\n",
              "SO1S928a4kmYiHRIrGT6Nw2ZeHOddHh1I4qjoHM4WcNJRDpkNgWu4eS5LvnwiBPFkSXA3sLav3NU\n",
              "CBHpiXf2sJLFEdkcC7M5SYdHnCiOrEFrODkWiYj0x7+G086UetLi1Y0ojsRdvVsGnJpVToeTOw0R\n",
              "kf74b3bBlHry4hEniiNtGknbOGRnSp2IdMi/aYgp9eTFI04UR9qUuTat7nQzpU5E+uM/mYMp9eQV\n",
              "k6vb7t27MWfOHIwaNQozZszA1q1bY/FtiPodo0GC5DnPioDT5Zbh8gScTDMRkZ54azjF1pZMqSer\n",
              "mBzxG2+8EYsWLcKuXbtw1113YeHChbH4NkT9jiRJ6iqm/84bAOdwEpG++DcNceZw8or6Ea+vr8ea\n",
              "NWtw5ZVXAgAuuugiVFdXY8+ePdH+VkT9kv9uQz4BJ2s4iUhHrMGahphSTzqmaD9hdXU1Bg0aBJNJ\n",
              "eWpJklBaWoqqqiqMGDHC57E2mw02m83nYy6XK9oviahPsZoMaIV2hVNWP2c28K6fiPTD7Nc0xE0u\n",
              "kldCj/iSJUuQnZ3t82fVqlWJfElEMaem1NWuTeW/RoMEA+/6iUhH/JuGmFJPXlE/4iUlJaitrYXT\n",
              "6QQAyLKMqqoqlJaWdnvs3XffjebmZp8/M2fOjPZLIupT/FPqHIlERHqlbm3p9Gsa4s110ol6wFlY\n",
              "WIipU6fixRdfBAAsXboUxcXF3dLpAGC1WpGVleXzx2g0RvslEfUpZqN/DSc71IlIn/y382VKPXlF\n",
              "vYYTAJ544gksXLgQ999/P7KysvDss8/G4tsQ9UtihdPmV0TPGZxEpDf+Ow0xpZ68YhJwjh49Gt99\n",
              "910snpqo31NPwCKlrm5ryRQTEemL2jTELvWkx1sMojjzn8Pp5NB3ItKp7iVETKknKx5xojgLNoeT\n",
              "KXUi0hv/we8OptSTFo84UZxZ/QNOJ+/4iUifLEG2tuRe6smHVziiOPOfS6d2bZp4AiYifVEzOv5N\n",
              "klzhTDo84kRx1j2lrtz5m7jLEBHpjJpS5xi4pMcjThRn3ZqGWMNJRDoVrEudKfXkwyscUZwF3WmI\n",
              "KXUi0hn/OZxMqScvHnGiOAuWUmeKiYj0xptSF01DPN8lKx5xojgLNhaJJ2Ai0hv/Jkmm1JMXr3BE\n",
              "cWYNcgI2c6chItKZYCl1zuFMPjziRHHmv/OGnXM4iUin1KYhde6wklJnk2Ty4REnijP/lDq3tiQi\n",
              "vbL47zTkZko9WfEKRxRn3QYhc4WTiHTKHGSnIabUkw+POFGcBd9LnXf8RKQv3ZqGmFJPWjziRHHm\n",
              "P/jdLnYa4gmYiHTGv2nI6WZGJ1nxiBPFGcciEVGysPhtbSnOeyZmdJIOr3BEcWbx61J3MqVORDol\n",
              "dlDzjoFjSj1Z8YgTxZl/05CdO28QkU5pm4ZkWWZKPYnxiBPFWdCUOrs2iUhntIGl3eVWVziZUk8+\n",
              "vMIRxZl/0xBrOIlIr6yaG+lOu0v9f57vkg+POFGcBW8a4h0/EemLNrDs0AScrOFMPjziRHHWPeBk\n",
              "DScR6ZPRIEFsKtRuc6ofZ0o9+fAKRxRnTKkTUTIR57Z2zQont7ZMPrzCEcUZU+pElEzETXaH3an+\n",
              "XZJ4vks2DDiJ4qxbwMmt3ohIx8QEjg6bssLJdHpy4hWOKM5EYOl0y3C7ZTW1zq0tiUiPLGpKXVnh\n",
              "ZPlQcuJRJ4ozi8l3Lp13EDLv+olIf8RuQ6JLnQFncuJRJ4oz/4CTKXUi0jO1acgmVjh5c52MeIUj\n",
              "ijNtYGl3urnTEBHpmrdpiCucyYxHnSjOJElS7/DtTrdaw8mTMBHpkblbwMkVzmTEKxxRAqizODUr\n",
              "nJxLR0R6JMqIOtg0lNR41IkSQJyAHS43nJ6dhixMqRORDokVzXYbU+rJjEedKAFEcGljSp2IdM5s\n",
              "9F/hZDYnGUX1CvfBBx9g2rRpsFqtuO2226L51ES6og5/d7m50xAR6ZrFb2tLzhxOTqZoPtnIkSPx\n",
              "zDPP4I033kBbW1s0n5pIV3xrODkWiYj0S13htHm3tqTkE9WjPmrUKEyePBkmU1TjWCLdESfgLocL\n",
              "LrcScPKun4j0yNs0xC71ZJbQyNBms8Fms/l8zOVyJejVEMWP1e8EDPAkTET65F/DyZvr5NSjoz57\n",
              "9mwUFBQE/FNdXd3jb75kyRJkZ2f7/Fm1alWPn4eovxF3/G2eFBPApiEi0ieLZ2tLUcPJlHpy6tEK\n",
              "53fffRfVb3733Xfj9ttv9/nYPffcE9XvQdQXqSkmBpxEpHP+NZzM5iSnhKbUrVYrrFarz8eMRmOC\n",
              "Xg1R/Ph3bRoNEowc/E5EOqQGnA52qSezqB71zz77DMXFxXjwwQfx9NNPo7i4GO+99140vwWRLvin\n",
              "1HnHT0R6JQJOWfb9OyWXqK5wLliwAAcOHIjmUxLpUrcUk4EnYCLSJ/9d1Cy8wU5KvMoRJYB3hdMz\n",
              "JoTbWhKRTvkHmEypJycedaIEEGOR2plSJyKd80+hM6WenHjUiRLA2zQkAk6+FYlIn/zPb0ypJyde\n",
              "5YgSwOK3wsm5dESkV/4lQ0ypJycedaIE8N/qzcQ7fiLSKStT6gQGnEQJYfHMm/WOReJbkYj0yWzy\n",
              "vaFmzXpy4lWOKAHECbidAScR6RybhghgwEmUEGrTkI17CxORvjHgJIABJ1FCiLFIdpcbQPeUExGR\n",
              "XvjfUDOlnpwYcBIlgP/OGybuNEREOuV/vuMKZ3LiUSdKAJ6AiShZMKVOAANOooQQXerq35lSJyKd\n",
              "8k+hM6WenBhwEiVA9xMw34pEpE/dVjhNPN8lIx51ogRgSp2IkkW38x1r1pMSjzpRAnQPOJliIiJ9\n",
              "6l7DyfNdMmLASZQAVq5wElGS6HaDzZR6UuJRJ0oA/6YhBpxEpFfdataZUk9KPOpECcAaTiJKFt0G\n",
              "v3MqR1LiVY4oAfzv+C2saSIineIcTgIYcBIlRLedhngCJiKd6hZwMqWelHjUiRKAKXUiShbdajiZ\n",
              "Uk9KvMoRJYC1W9MQT8BEpE+SJPnUcfIGOznxqBMlgP8Kp//fiYj0RHtTzZR6cuJRJ0oAptSJKJlo\n",
              "Z28ypZ6ceJUjSgCjQYLRoLnjZ8BJRDpmZko96fGoEyWIT4qJNZxEpGPaGk6Tgee7ZMSAkyhBWERP\n",
              "RMlClBGZjRIkiQFnMuJVjihBLCZvpzoDTiLSM5HF4bkuefHIEyWIVVtEz5Q6EemYCDSZTk9eDDiJ\n",
              "EkTbqe6/1zARkZ6IgJMj4JIXjzxRgvgU0TPgJCIdE+c7ptSTF488UYJoZ9ExpU5EeiZWNk081yWt\n",
              "qAacjzzyCCZMmICJEydi0qRJePHFF6P59ES6wi51IkoWbBoiUzSfbPz48fjmm2+QnZ2N6upqHHfc\n",
              "cZg9ezaGDx8ezW9DpAs+NZysayIiHVNrOBlwJq2oHvkFCxYgOzsbAFBSUoKBAweiuro6mt+CSDc4\n",
              "FomIkoWZKfWkF9UVTq3ly5ejsbERM2bMCPoYm80Gm83m8zGXyxWrl0TUp3DnDSJKFmwaoh4d+dmz\n",
              "Z6OgoCDgH+1K5ubNm3HNNdfgtddeQ3p6etDnW7JkCbKzs33+rFq1qvf/GqJ+xMqUOhElCQac1KMV\n",
              "zu+++y7sY7Zt24ZzzjkHzzzzDE444YSQj7377rtx++23+3zsnnvu6clLIuq3fPdS50mYiPRLTOXg\n",
              "RI7kFdWU+vbt23H22WfjySefxGmnnRb28VarFVar1edjRqMxyKOJ9MXCnYaIKEmYucKZ9KJ65G+5\n",
              "5RY0NzfjrrvuwpQpUzBlyhR88skn0fwWRLrhG3DyJExE+sWUOkV1hXPZsmXRfDoiXbMY2aVORMnB\n",
              "u8LJbE6y4lWOKEHECqdBAozsUiciHRPnO95cJy8eeaIE4QmYiJJFhtXk819KPjzyRAkixiJx5w0i\n",
              "0rsLjhuChnYbfjytJNEvhRKEASdRgqh7C3MGJxHpXF66Bb84Y0yiXwYlEK90RAliYRE9ERElCQac\n",
              "RAki9lI3Gfg2JCIifeOVjihBRNMQt7UkIiK945WOKEG8XepMqRMRkb4x4CRKEO68QUREyYJXOqIE\n",
              "Kc5NBQAMyUlN8CshIiKKLY5FIkqQCUOy8f7PT0BpflqiXwoREVFMMeAkSqAJQ7IT/RKIiIhijil1\n",
              "IiIiIoopBpxEREREFFMMOImIiIgophhwEhEREVFMMeAkIiIiophiwElEREREMcWAk4iIiIhiigEn\n",
              "EREREcUUA04iIiIiiikGnEREREQUUww4iYiIiCimJFmW5US/CK0LL7wQ5eXlcfleLpcLq1atwsyZ\n",
              "M2E0GuPyPak7HofE4zFIPB6DxOMxSDweg8SL9BiUlZXh1ltvjfh5+1zAGU8tLS3Izs5Gc3MzsrKy\n",
              "Ev1ykhaPQ+LxGCQej0Hi8RgkHo9B4sXqGDClTkREREQxxYCTiIiIiGKKAScRERERxVRSB5xWqxX3\n",
              "3nsvrFZrol9KUuNxSDweg8TjMUg8HoPE4zFIvFgdg6RuGiIiIiKi2EvqFU4iIiIiij0GnEREREQU\n",
              "Uww4iYiIiCimkjrg3L17N+bMmYNRo0ZhxowZ2Lp1a6Jfkq51dXXhggsuwKhRozB58mScdtpp2LNn\n",
              "DwCgvr4eZ555JkaOHIkJEybgq6++SvCr1b9nn30WkiThnXfeAcBjEG82mw0333wzRo4ciYkTJ+LK\n",
              "K68EwPNSPH344YeYOnUqpkyZggkTJuC5554DwPdCLN1yyy0oLy+HJEnYsGGD+vFQv/d8T0RXoGMQ\n",
              "6voMROk9ISexk08+WX722WdlWZblN954Q54+fXpiX5DOdXZ2yh988IHsdrtlWZblRx99VJ4/f74s\n",
              "y7J8zTXXyPfee68sy7K8atUqeciQIbLdbk/QK9W//fv3y7Nnz5ZnzZolv/3227Is8xjE22233Sbf\n",
              "fPPN6vuhtrZWlmWel+LF7XbLubm58saNG2VZVt4TVqtVbmlp4Xshhr788ku5urpaLisrk9evX69+\n",
              "PNTvPd8T0RXoGIS6PstydK4PSRtw1tXVyZmZmbLD4ZBlWTn5FBUVybt3707wK0seq1evlsvKymRZ\n",
              "luX09HT1givLsjxjxgx52bJlCXpl+uZyueQFCxbIa9askefPn68GnDwG8dPW1iZnZmbKzc3NPh/n\n",
              "eSl+3G63nJeXJ3/55ZeyLMvyxo0b5cGDB8s2m43vhTjQBjuhfu/5nogd/6BfS3t9luXoXB+SNqVe\n",
              "XV2NQYMGwWQyAQAkSUJpaSmqqqoS/MqSx8MPP4zzzz8fDQ0NcDgcGDhwoPq58vJyHosYefDBBzF3\n",
              "7lxMmzZN/RiPQXzt3bsXeXl5uP/++zF9+nSceOKJ+Oyzz3heiiNJkvDaa6/hwgsvRFlZGU444QQ8\n",
              "99xzaG1t5XshzkL93vM9kRji+gxE7/pgiuorJIrQ/fffjz179uCzzz5DZ2dnol9O0tiyZQuWLl3K\n",
              "mrQEczqdqKysxLhx4/CnP/0J69evx2mnnYYPPvgg0S8taTidTtx333146623MG/ePKxevRrnnXee\n",
              "T10hUTLSXp+jKWlXOEtKSlBbWwun0wkAkGUZVVVVKC0tTfAr078HHngAb731Fj766COkpaUhPz8f\n",
              "JpMJhw4dUh9TUVHBYxEDK1euREVFBUaOHIny8nJ8//33WLRoEV5//XUegzgqLS2FwWDAFVdcAQA4\n",
              "7rjjMHToUFRWVvK8FCcbNmxATU0N5s2bBwCYMWMGiouLsWnTJr4X4izU9ZjX6vjyvz4DiNo1OmkD\n",
              "zsLCQkydOhUvvvgiAGDp0qUoLi7GiBEjEvzK9O3BBx/EK6+8gmXLliEnJ0f9+MUXX4zHH38cALB6\n",
              "9WocPHgQ8+fPT9Cr1K/FixejtrYWFRUVqKiowKxZs/Dkk09i8eLFPAZxVFBQgAULFuCTTz4BAOzf\n",
              "vx/79+/H3LlzeV6KExHIbN++HQCwZ88e7N27F6NHj+Z7Ic5CXY95rY6fYNdnIErX6J4WmerJjh07\n",
              "5FmzZskjR46Up02bJm/atCnRL0nXqqurZQDysGHD5MmTJ8uTJ0+WZ86cKcuyLB86dEg+7bTT5BEj\n",
              "Rsjjxo2TP//88wS/2uSgbRriMYivvXv3yieddJI8YcIEedKkSfKbb74pyzLPS/H08ssvqz//CRMm\n",
              "yC+99JIsy3wvxNKiRYvkIUOGyEajUS4sLJSHDx8uy3Lo33u+J6Ir0DEIdX2W5ei8J7iXOhERERHF\n",
              "VNKm1ImIiIgoPhhwEhEREVFMMeAkIiIiophiwElEREREMcWAk4iIiIhiigEnEREREcUUA04iIiIi\n",
              "iikGnEREREQUUww4iYiIiCimGHASERERUUwx4CQiIiKimPr/TLEft1DEeGIAAAAASUVORK5CYII=\n",
              "\">\n",
              "      </div>\n",
              "      <script type=\"text/javascript\">\n",
              "        (() => {\n",
              "          const chartElement = document.getElementById(\"chart-1af1d7c9-a7e4-4eb2-834c-557c30309287\");\n",
              "          async function getCodeForChartHandler(event) {\n",
              "            const chartCodeResponse =  await google.colab.kernel.invokeFunction(\n",
              "                'getCodeForChart', [\"chart-1af1d7c9-a7e4-4eb2-834c-557c30309287\"], {});\n",
              "            const responseJson = chartCodeResponse.data['application/json'];\n",
              "            await google.colab.notebook.addCell(responseJson.code, 'code');\n",
              "          }\n",
              "          chartElement.onclick = getCodeForChartHandler;\n",
              "        })();\n",
              "      </script>\n",
              "      <style>\n",
              "        .colab-quickchart-chart-with-code  {\n",
              "            display: block;\n",
              "            float: left;\n",
              "            border: 1px solid transparent;\n",
              "        }\n",
              "\n",
              "        .colab-quickchart-chart-with-code:hover {\n",
              "            cursor: pointer;\n",
              "            border: 1px solid #aaa;\n",
              "        }\n",
              "      </style>"
            ]
          },
          "metadata": {}
        },
        {
          "output_type": "display_data",
          "data": {
            "text/plain": [
              "<google.colab._quickchart_helpers.SectionTitle at 0x7aa5e48bf150>"
            ],
            "text/html": [
              "<h4 class=\"colab-quickchart-section-title\">Faceted distributions</h4>\n",
              "<style>\n",
              "  .colab-quickchart-section-title {\n",
              "      clear: both;\n",
              "  }\n",
              "</style>"
            ]
          },
          "metadata": {}
        },
        {
          "output_type": "stream",
          "name": "stderr",
          "text": [
            "<string>:5: FutureWarning: \n",
            "\n",
            "Passing `palette` without assigning `hue` is deprecated and will be removed in v0.14.0. Assign the `y` variable to `hue` and set `legend=False` for the same effect.\n",
            "\n"
          ]
        },
        {
          "output_type": "display_data",
          "data": {
            "text/plain": [
              "from matplotlib import pyplot as plt\n",
              "import seaborn as sns\n",
              "figsize = (12, 1.2 * len(_df_6['Split'].unique()))\n",
              "plt.figure(figsize=figsize)\n",
              "sns.violinplot(_df_6, x='Frames', y='Split', inner='stick', palette='Dark2')\n",
              "sns.despine(top=True, right=True, bottom=True, left=True)"
            ],
            "text/html": [
              "      <div class=\"colab-quickchart-chart-with-code\" id=\"chart-d2e3d58e-2cac-4927-81ab-a0077e16655e\">\n",
              "        <img style=\"width: 180px;\" src=\"data:image/png;base64,iVBORw0KGgoAAAANSUhEUgAAA+UAAADrCAYAAAAPITdnAAAAOnRFWHRTb2Z0d2FyZQBNYXRwbG90\n",
              "bGliIHZlcnNpb24zLjEwLjAsIGh0dHBzOi8vbWF0cGxvdGxpYi5vcmcvlHJYcgAAAAlwSFlzAAAP\n",
              "YQAAD2EBqD+naQAAPGpJREFUeJzt3Xl8FPdh///3zOxqtZJWJ0ggISRAEofQgTEOJrYJPuMjjn+p\n",
              "EzuHY7ttnDhJ29Tpo0n6bWLn2zhuv3XdJs4jD6dpajdNmxrXQHwAtoMxYCMBQVzmEIcRCCNAErqP\n",
              "Pef3x0qLBAIkI2m10uv5eIxnds7P4mGY985nPh/Dtm1bAAAAAABg1JnRLgAAAAAAABMVoRwAAAAA\n",
              "gCghlAMAAAAAECWEcgAAAAAAooRQDgAAAABAlBDKAQAAAACIEkI5AAAAAABRQigHAAAAACBKCOUA\n",
              "AAAAAEQJoRwAAAAAgCghlAMAAAAAECWEcgAAAAAAooRQDgAAAABAlBDKAQAAAACIEkI5AAAAAABR\n",
              "QigHAAAAACBKHNEuAABEg23bCgaDCgaDsixLDgeXQwAAAIw+7kIBxCzbttXa2qr6+vrI0NDQoPr6\n",
              "ep05c0b19fVqbGxUe0e7HJZDXq9XoVBIkiLjXqZpatLkyfIkJSk5OVlJSUnyeDxKTk6Wx+NRVlaW\n",
              "cnJylJOTo0mTJsk0qWgEAACAK2fYtm1HuxAAcDmhUEgnTpxQdXW1Dhw4oOrqalVXV6utre3iG5mG\n",
              "QokuGe1ehVITZLZ0hveVkSSzvk3BKSmy6tsUnOSRdbpFdpJLhj8owxeULnFpNE1T06ZNU3Z2tnJy\n",
              "cpSdna3c3FwVFBRo6tSpMgxjuL8+AAAAxilCOYAxqaGhQdu3b9eBAwd04MABvb93r/w+X791Qh63\n",
              "jLYuSZKvdLpsd5xsd5ziN+xTx/93jRLe2KXOu65SwmtVkbEkdd51lRKXV6jjc9dGlvV+lhQO5IGQ\n",
              "EtbuVPf1c+R+Y7e818yS2d4to8MrR22jFOeQ0e2/oNyWZamkpEQFBQUqLCxUYWGhZs6cqfj4+JH9\n",
              "AwMAAEBMovo6gDEhEAho9+7dqqysVEVFhQ4dOnRuoSHZMhTInyxHTb26biyW++296ryjXInLKyRb\n",
              "8s/N6b9Dp/XRC2MY4e0NQ6HUxHD5ZmRGFlsNbeq86yopEJTZ4VX8+n3yz54qs7lT9vEG7dy1Szt3\n",
              "7jy3O9PU9NxczZ07V/Pnz1dxcbEKCwt5jx0AAACEcgDRc/r0aVVUVKiyslJbt21TZ0dHeIFlyrZM\n",
              "+UqmK25XjTo+c40S1u6S92MFctTUKzQ5OboF7+WwFEpJkBxm5EcBR22D2v/oGiX+75bw0/XmTpnN\n",
              "Hao5dkzHjh3T2rVrJUlxcXGaM2eOiouLI0E9KyuLqu8AAAATDKEcwKg6deqU3nzzTb311lv9noaH\n",
              "PG4ZDku2w1TnnQuUsHaX/LOnKm5XjeS4gqfe0WCFG4Hr+3Q98cUKddxRLquxXa7tR9WV6NTu3bu1\n",
              "e/fuyDqTJk1SWVmZysrKVF5erlmzZsmyYuy7AwAAYEgI5QBGXEtLi9avX6+1a9eeq9ZtmQpkpykw\n",
              "NVWuqqPqvKM88s53zIXwQbI9bgU8bsW9X6uuW0uV+GJFuCr+u9UKZKWovqFV69at07p16yRJCYmJ\n",
              "Ki0piYT0uXPn8m46AADAOEMoBzAiuru79d577+mNN97Qpk2b1NumZCArRdbpFnXcvVCKC1+CXFVH\n",
              "o1nUqApNTpbttORdUiSvbcvo9Mr91h4Fc9LV1tCmyspKVVZWSpIcTofmzpmrBQsWqLy8XKWlpUpK\n",
              "SoryNwAAAMCVIJQDGFaHDh3SihUr9Mabb6izI9wFmS3JV54n58E6dX9inhJfrIgEcvRhGLIT4yWH\n",
              "Je+iWeF5Xr+shjbFbzksrydee/bs0Z49e/TrX/9ahmmqsKBA5eXlkSE9PT263wEAAABDwl0xgCvW\n",
              "3d2tdevWaeXKlXr//fclSaE4S4F5OXIcrZfR7ZN/drach05FuaQxyOVUMCdddpxDXbeUKHF5hbqX\n",
              "zpNV3yqzvlUHDx3SwYMHtXz5cknS9OnTI9Xdy8rKlJOTQ+NxAAAAYxihHMBHVlNTo1WrVum1115T\n",
              "e3t7T9dlUvcNc+TaflS+kulyHGuIdjHHnWBWioJZKZKkhNeq1L24UFZ9q6z6Vh2vO6njx4/r1Vdf\n",
              "lSRlZGREqrqXl5eroKCAxuMAAADGEEI5gCEJBAJ65513tGLFClVVhRtms91xktNS5yfLlPBalYJT\n",
              "0yRN3PfER1tokkehSZ5wt2y2LbOlU2Z9m1xVR9XQ1da/8biEBM2fP18lJSWaP3++5s+fL4/HE+Vv\n",
              "AAAAMHERygEMSnNzs373u9/ppf/9XzXU10uSAlNSZDZ1qvOuBUpYvVN2givKpYQMQ6HURIVSE+Xa\n",
              "cVQdn1qohFe3y1cyXa7tR9XmsLV161Zt3bo1ssmMGTM0f/58lZaWav78+crLy5NpmlH8EgAAABMH\n",
              "oRzAJR06dEjLly/XG2+8IZ/PJzkt2ZI67yiX7XGHuzEjwI1thqFA/uRwV2y3lyvh1Sp5r56p+I37\n",
              "FcxK0dETx3X06NFIlfekpCQVFxdr7ty5mjdvnoqLi5WRkRHlLwEAADA+EcoBXCAYDOrdd9/Viy++\n",
              "GKmiHvLEyz8/X/78TCWu2Crb445yKfGRGVJwaqokqfsT86SQLbO1U2Zju6yGNrU2tmvLli3asmVL\n",
              "ZJPMzMxIUC8uLtacOXOUmJgYpS8AAAAwfhDKAUS0tbXp1Vdf1UsvvaS6ujpJPVXUmzvVeXu5RCve\n",
              "45N5rsp7YFaWJIWfpl8zKxzUz7bp9NlmnVm/XuvXr49slpubqzlz5mj27NmRITk5OVrfAgAAICYR\n",
              "ygGopqZGL730kl5//XV1d3dLDlP+WVmyTjape+m8cBV1AvnEYpxr5d3fMyvh1e3yXjVDVmO7zKZ2\n",
              "HT9xQrW1tXrrrbcim03Nztac2bM1Z84cFRYWavbs2VR9BwAAuARCOTBBhUIhVVZWavny5aqsrAzP\n",
              "S3TJX5Yn/8xMKc4RDuNAL8NQMCddwZx0SVLi8gp13HWVzKYOWU3tMps6dPJsverWn+z3RD0tPV2z\n",
              "i4pUWFioop5xbm4uXbMBAACIUA5MOB0dHVq9erWWL1+u2tpaSVIgM1n+wqkKZqdJJk/EMXh2okvB\n",
              "RJeC09J7Ztgyuv0yz7bLbO5U3Pu1avR1qrKyMvLjjyS54uNVMGuWCgsLVVBQEBnznjoAAJhoCOXA\n",
              "BHHkyBGtXLlSq9esVmdHp2SZ8s/IlL9oikKpBCEME8OQ7Y6LPFGP21urzjsXSP6AzOZOWU0dMps7\n",
              "FGzq1N79+7R3795+m2dnZ/cL6oWFhcrOzpbB6xMAAGCcIpQD45jP59Pbb7+tlStXateuXZIkO8El\n",
              "X0mu/LOyJJczyiXEhOF0KDQ5WaHJfRqCC4WU8NoOGV0++edky2zu0Idn63Vyw0lt2LDh3KZOp+bO\n",
              "nRsJ6QUFBSooKFB8fHwUvggAAMDwIpQD41Btba1WrVql1157TS0tLZIk2zLVfW2hglOpoo4xwjTD\n",
              "56Ih+cryIrONbr/M5g7FVxxSYGqq7OON2r1nj3bv3n1uHcNQbm5uJKj3vqs+adIknqoDAICYQigH\n",
              "xgmv16t3331Xr7zySqR/aTveKf/cHPlnZcq9fl+kgS5gLLPjnQpOSZXttORdXCiroU0dt5cr4fUd\n",
              "UiikQN5kmc0dOnb6pI4fP65169ZFtk1JSYkE9N6wnpeXJ4eDf+4AAMDYxF0KEMNCoZB2796t1atX\n",
              "a926dero6JAUbrgtMCtLgZx0yTKjXEpgGFg9T9VNS74F+eF5tq2E16rkXThT8ZWHFJiSqqamDm3b\n",
              "tk3btm2LbGqapoqKivoNBQUFSkhIiM53AQAA6INQDsSg48ePa82aNVq7dq3q6uokhd8V98/NkT9/\n",
              "suxkd5RLCIwCwwh305adJjvOIe+SovB8f1BmS6fiNx1QcFq6HDX1OnDooA4cONBnU0PTcnNV1NOX\n",
              "eu9TdfpUBwAAo41QDsSIM2fOaMOGDVq7du25FqudlvwzJiuQP1nBycnhkAJMdE5LoUkeyWnJu2iW\n",
              "rNMt6rhjgRJeq5KvbLrMpg6ZzZ06/uEJ1Z5X/T09I12zi2ZHnqgXFhZq2rRpMk1qnAAAgJFBKAfG\n",
              "KNu2deTIEW3cuFGbNm3S/v37wwsMQ4GpqQrkT1YgO01yWNEtKBALTEMyDQXyJkt5kyVJCa9VqfPG\n",
              "Yrnf3CN/4RRZTR1qqG/R2YoKVVRURDZ1u939umgrLCzUrFmz5HZTIwUAAFw5QjkwhgQCAe3evVsb\n",
              "N27Uxo0bdfLkyfAC01BgSooC2ekK5qbLjo+LbkGBccJOcEkOU/7iafIrHNTb77xKZnOHrKbOnj7V\n",
              "O7Rn7/vas2dPZLvzW38vKCjQrFmzNGXKFFp/BwAAQ0IoB6LItm3V1taqqqpKVVVVqtxSqdaW1vBC\n",
              "p0P+6RkK5qQrMCVViuOvKzAq4hwKZaYolJlybl4wJLO1S2ZzOKhfrPX3hIQEzZo1S7NmzdLMmTMj\n",
              "06mpqaP/PQAAQEzgLh8YReeH8O3bt6uxsfHc8gSX/AVTFMxJC78jTsvpwNhgmQqlJSqUligpXP1d\n",
              "ti2jyyf3W3vkL5oqs6VTbc2dFzxVl6S09HTNnDFD+fn5ysvLU15envLz85WZmcmTdQAAJjhCOTCC\n",
              "WltbdfDgQVVXV2v//v3asWNH/xDujlMgb5KCk5MVzEyWnRRPY21ArDCMcPV3y5R/bs65+aGQjLZu\n",
              "WS2dMls65ayuU6O3Q03bt2v79u39dhEfH98vqOfk5CgnJ0fTpk1TSkoKgR0AgAmAUA4Mk4aGBlVX\n",
              "V0eGgwcPRror60UIByYA05SdkqBASrgfdMexBnXedVW4Cnxbl4y2bpmtnTJbuxRs7daBw/27a+uV\n",
              "kJioaT0BvTesT506VVlZWcrKyqKhOQAAxglCOTAEra2tOnHihGpra1VbWxuZPl5bq7bW1n7r2u44\n",
              "BaemKpSWqGBPtVc7wUUIByYqy1QoNVFKTVRQffpDt20Znb5wYG/vltneLbPdq7b2bh384IgOHjw4\n",
              "4O48Ho8yMzMjIT0zM1OZmZnKyMhQWlqa0tPTlZaWJoeDf+oBABjL+Jca6NHR0aGGhgbV19dHhoaG\n",
              "BjU0NOj06dOqPVF7rhG2vixTwUSX7GnpkfAdSk2U7aaFdACDYBiyE10KJrouXGbbMrx+Ge1eme3d\n",
              "Mjq9Mjt9Mjq9au70qbX2mI4cOXLJ3SenJCs9LV3p6eEhNTVVHo9HycnJkXHfaY/HI5fLRdV5AABG\n",
              "yYiG8ieeeELf/e53FR8fP6TtTp48qfvuu0+bNm0aoZJhvLJtW11dXero6FBnZ6c6OjrU3t6ulpYW\n",
              "tbS0qLW1Va2trZHPvcPZs2fV2dl58R1bpkKJLoWy0xTyxCuU5JbtiVcoKV52QhxPvwGMDMOQHR8n\n",
              "Oz5OoUmegdfxB2V0+WR2emV0+sIhvrtn8PrV1O1TS92HqqmpGfRhTdNUQkKCEhITleB2h6cTEpSY\n",
              "mKiEhATFx8crPj5eLpcrMj5/Oi4uTnFxcXI6nQNOx8XFyeFwyLIsfgAAAExoIxrKf/jDH+pb3/rW\n",
              "BaE8EAhcsjpddnY2gXwcCQaD8vv98vl88vv9/aZ9Pp+8Xq98Pl9k8Hq9kXler1fd3d2RoaurKzKv\n",
              "q6tL3d3d6uzsVENDg0K2ra7OTtm2PfjCWaZCcQ7Z8U7ZqWmyzrTKNydbttsp2x0n2x2nkDsu3B0Z\n",
              "N40AxiKnJdvpVjD5Mu+Yh8JP3d1v7VH3tYUyfIGeISjDH5C8ARn+nnmBoFr8QbV2NMtoOSsjEJQC\n",
              "oREpvmEYcjgccjidcjodcjqc8vl8Sk1NldPpDC9zOOR0Ovt9Hmhe7/RA497Bsqx+n8/fz0DTfbez\n",
              "LGtE/hyAsSQYDEaGQCAw4HTvEAqFIst6p/uO+w5959m2HRkPNC0pck/XO7/vvIGc/wOfYRiRofez\n",
              "aZqRz73Tpmn2mz5/fP70QINlWRdMG4Yhy7Iin/uOz1+fHygnthEL5V/72tckSddff70sy1J2dram\n",
              "TJmiw4cP68yZMzpw4IC++MUvqrq6Wj6fT7m5ufrVr36lKVOmqKamRuXl5WpubpYU/gv05JNPatWq\n",
              "Vaqvr9cPfvADPfzwwwMetzfQ9dX7q/1Y19XVpePHj0cuRudfsPqO+y4PBoMXjPte9Aa6SJ4/DHTB\n",
              "DQQCgxp6g3ZkOhBQwO+Xz++X3+eLXFhHhMOU7bAkb0Ch1ATZiR7JYcl2WpGx7bRkxzlluxxSnEN2\n",
              "nEO2KzyWo//NVcJrVfIXTxu58gJAtJhG+LUa01BocvLQtw/ZUiAYCehGMCQFe8aBYOSzgiEZgVC4\n",
              "FfqQHZ4XssPLQyEpaMsIheepZxyIrBeQ4fPLaO9Sa8Abrr4fsvutG22maZ77EeESPwZYltVvXt+h\n",
              "d1nf6b7jSw0D3fyf//n88NAbDPoGjUtN9w0xE01v+OsbAi8VHC91f3apQHqx6d57sL7z+84bKBSf\n",
              "fw/X9z7ucuNA3+377GdIDzgwbM4P9ZZlybRMWZZDjp55Doej39/9ga4PA83r3e78dXrnDbR8oPL0\n",
              "vZb0nX/+vItdey72A0jf73/+tWigISkpSVlZWVH+PzZ8RiyUP/fcc/rFL36hTZs2KTU1VQ899JC2\n",
              "b9+ud999Vx5PuArev/zLv2jy5HB/r3//93+vJ554Qs8999yA+3O5XNq6dasOHDigRYsW6YEHHhjw\n",
              "aftTTz2lH/7wh/3mPf7443riiSeG9wuOgL/8y7/Uzp07o12MYWMbCgfj+LhwcO4NyM5wGLYdZrgf\n",
              "bsuUbfaMLeO8eUZ4W8vsMz63Xe/T64TXqtR1a2l0vzAAjGemEflhU5JG8pY94bWqcIv157Pt8NAT\n",
              "1I2QLfdbu9W1rLjncyiyLPK57/rBc8sNu2c6aEt26Fz4j/zQEOr5ASIY/pGhZ2wHgwoGwjW9gPHE\n",
              "NsL3YHacQ+q5H7N778ksU+p7r9Y7bRrhezFD4WuEYch56JR8s7PD84w+y3vGtmFI6p2nPtM9PwT1\n",
              "nde3bH0ZkusPR+W9ekbPCgN/J6Pvjwt2z3/si322z41tyehdFlmv9/O5sRFZv2de6Ny0Ebn2hC64\n",
              "PkV+pAzZMlu6wq9ChmzZoZCCQVt+vy98TcIl/fKXv1RJSUm0izEsRrWht89+9rORQC5J//3f/63/\n",
              "/M//jFRNnjRp0kW3/eIXvyhJmjNnjhwOh06dOqVp0y58ovm9731Pjz32WL95sfCUXJKWLl06rkK5\n",
              "YSv8rqM/ePGV+lzsbdOIXPxlngvoF4RxhxVer2dsO61wV0MNbf2ejsthhf+BAABEX+/NaTDU7+l3\n",
              "3zAcuXENhmSdOHthyLYvDN2GPyjnoVP999X3Btju8znY57iR+eetHwqN7C8OwBhl2H1qwwxpQyMS\n",
              "yGUYskO24g6digRtu08gj6zTL3gPENDPC+X9phXe3vAHwn/31XPPGXF+ENe5YN13esBw3huo+8zr\n",
              "E9aNi32OjPsE9CEwOryXXwn9zJs3T9nZ2dEuxrAZ1VCelJQUmX733Xf105/+VBUVFcrMzNQrr7yi\n",
              "H/zgBxfdtu976ZZlKRAIDLherFRVH8jnP/95ff7znx/RYwym+vpgq673vit+fvX13uV93xvvu17f\n",
              "+X3fI/f5fPL6vPJ2e+Xzdcvv9w/puyWse//CmQ5TttOhkNOSeqqs91Zlt/tWZY+Pk+12DtOfMgDE\n",
              "INsO/5DqC4R/TO1bVd3fM9077lNdPfJUue/nnrERCeL2uRvZQXK/Vz3odeMO1l12nf7voscP+p3y\n",
              "gd5Nv9Q77n3Hve+hX6r6+vnzzq9a2rdKKca3ge7R+s4bqOr6QK8eXqoa+8VeV+y7/Pxq8oN9p3yg\n",
              "eb3V+PtV1w8FFQr2VvEPXxtCoZBCti07FAw/cA6GfxgIZ+ML3ysP/3nZimtov+SfaeRVDMPo+U3A\n",
              "kGGa56Z7q1CblszItCHT6Pk7ZxiyBqiKPdBrIgNV9z5/+eXeKR+oCvqlqqRfbl7v/N5rzPlV1Qcq\n",
              "z8Wqrvdud/57+RgeIxrKPR6PWlpalJqaesGypqYmeTweZWRkyOfz6Re/+MVIFgU9ev9SOZ1jP4CG\n",
              "QqFIYO9t1O38Rt96G3rrbWm9b6vrveO2trZwq+uNrYN6vz1x1R8U6tPQW29jb3YSra0DiBG2LfkC\n",
              "Mrx+md19WmPv9svwBuTafLBPQ28Bmf6g5Bv4x+7BsixLrvh4uVxuxSf2b33d5XJFQmzf+YNpcO38\n",
              "xtnOD7O9rbhfLCj3LucGEmNdLN2jARheIxrKv/3tb+uWW25RQkLCBdULPvnJT+o3v/mNZs+erYyM\n",
              "DN1888368MMPR7I4iDGmaUa63UlJSbni/dm2rY6Ojgu6Q+vtEq23X/LePsrb65oH3lFvv+Q9XaKF\n",
              "PO5wYE920zc5gJEXDMno8sno7OkGrct3rv/yLl84hHv9l2wUzVnbKElyJyQo2ZOqlJSUSD/lSUlJ\n",
              "ka7PLja43e4LukG7VK8qAADg4kb0X9DHH39cjz/++IDLnE6nXnzxxX7znnzySUlSfn5+pOV16cKu\n",
              "DxoaGoa3oJgQeltqTEpKUk5OzmXX7+rqUkNDgxoaGnT69GmdOHFCtbW1OnHihI7X1qrtw6YLtrHj\n",
              "nQqmJSqUmhgepyXKTnTxZB3A4Nl2OGi3e2W2d8vs6JbR3i2z3RsO4d0Xf7UnISFBGZOylJaWpvT0\n",
              "9AGH1NRUeTweeTwegjQAAGMA/xoDF+F2u5Wbm6vc3NwBl7e0tESCem1trT744AMdqK5W3cmTUp+n\n",
              "7LbTioT04GSPgpOTJRdV04AJz+uX2dols62rZxwO31aHN9zo2Xni4uI0ZcpUZWVlRYbJkyf3+5yY\n",
              "mBiFLwIAAK4EoRz4iFJSUpSSkqLi4uJ+81tbW3Xo0CFVV1erurpaBw8eVM2xY7LqW6WexoiCKQkK\n",
              "ZiaHB0I6MH71tMRr1TWFg3ckhHeHq5ifJzklWdNmz9C0adOUk5OjnJycyHRGRgaNfQEAMA4RyoFh\n",
              "lpycrIULF2rhwoWRed3d3aqurtbOnTtVVVWlnbt2yXvolNTTlUckpGelKJiVEu7ODUBs8QVkNnfK\n",
              "bOmU1dI77pL8Abk3HoisZpqmpk2bphkzZigvL095eXnKz8/X9OnT+3UbCgAAJgZCOTAK4uPjVVZW\n",
              "prKyMj344IMKBALav3+/qqqqLgzplqlAVooCOekKZqfJjucpOjCmhGwZ7V2ymjplNnfI6PYr8ZXt\n",
              "Mrp8/VazLEt5eXmaNWuWZs6cqRkzZig/P185OTm0rgwAACII5UAUOBwOlZSUqKSkJBLS9+3bp8rK\n",
              "Sm3YsEFHjhyR42S4IbngJI8COWkK5KTL9rijXHJggvGHn35bTR3hp+DNHbJauy5453tqaoZmLZyl\n",
              "WbNmRUJ4Xl4e4RsAAFwWoRwYAxwOh0pLS1VaWqpHHnlEJ0+e1MaNG7Vx40bt3LlTVkObXLuOK5Ts\n",
              "lj83Q4H8ybKT4qNdbGD86GnxXMGQnHtPyGrukNnUIbPD22+1uLg4Fcyeo4KCAhUWFqqwsFAFBQVK\n",
              "SkqKUsEBAECsI5QDY1B2drbuv/9+3X///WppadHmzZu1ceNGVVRUqHvvCbn2nlBwkkf+vMkKTM+Q\n",
              "4virDAxayJbR3i0FgorbdUxGt0+Jv9seaXjN9X6tJCktLU2zSxaosLBQRUVFKigoUG5uLt2IAQCA\n",
              "YcWdBTDGpaSk6Pbbb9ftt9+urq4ubdy4UWvWrNGWrVtlNbRJO44qkJ0mf/5kBaekShatMwMRgaAU\n",
              "Cslx5LQMb0Du3++R1dIpBcLVz+MOnJQkTZuapdmzZ0cCeFFRkSZNmhTNkgMAgAmCUA7EELfbrdtu\n",
              "u0233XabGhoa9Oabb2rNmjU6dOiQHCfOynY55M+dpMCsLIVSE6JdXGBUGd0+mT2Nr5nNHVIgpKQV\n",
              "WyVbiv/DB5IkV6tXs2adC969VdDp3xsAAEQLoRyIUZMmTdIXvvAFfeELX9ChQ4e0du1arV27Vo2H\n",
              "Tynu8Klw9fZZWQrkZvD0HONLyJbR1iWruVOGL6D4DftkeP1K/N32fqt5PB4VFpdEAnhRUZHy8/Op\n",
              "fg4AAMYU7kyAcaD3ad/Xv/51VVRUaMWKFaqoqJDV0CZ7Z438MzKlkB3tYgJD5wuEG187WBd+5ztk\n",
              "h59+92n93HGqRdnZ2Rc8/c7KypJhGFEsPAAAwOURyoFxxLIsXXfddbruuut08uRJ/e53v9Mrr7yi\n",
              "pp73ZuPf2Sd/QZaC2emSSVjBGGKHG18zmzvDLZ83d8ro9Cpp5TZJkmtHjaTwOT579ux+rZ9T/RwA\n",
              "AMQyQjkwTmVnZ+vRRx/Vn/7pn2rDhg1auXKltm/fLsfpFtkJLvkKsuSfmSm56EcZo8wflNnSKbOp\n",
              "Q4Y3INlS0opt4UbZ+khMTFRZWVmk27HCwkLl5ubKsqwoFRwAAGD4EcqBcc7pdOrmm2/WzTffrJqa\n",
              "Gq1YsUKvvvaajN3H5dp7Qv68SfIXTqVhOAw/O/zKhFXXFGmAzWrqkNne3W81wzBUOHNWvyffBQUF\n",
              "SklJiUapAQAARhWhHJhA8vPz9dhjj+mrX/2qXn/9dS1fvlwnPjgh5wdnFMhMlr9oqoJT06jajqGz\n",
              "bRkdXplNHbKa2sPj5k4ZtuTeeCCyWnJKimYvKun37ndeXh6NrwEAgAmLuyBgAkpMTNTnPvc53Xvv\n",
              "vaqoqNDy5cu1ZcsWOc60KpQUL39BVrhxOGAgPe9/y5bidtacC+C+QL/VcnJy+vX9XVhYqMmTJ9P4\n",
              "GgAAQB+EcmACM01TH//4x/Xxj39cR48e1fLly7V6zWqZO4/J9f4J2ZKMtq5oFxNRZnR6ZZ5tD3c/\n",
              "9s4+Oc62S/7w+99x1XUyDEN5eXmaM2eOZs+eHRlofA0AAODyCOUAJEkzZszQd77zHT366KN69dVX\n",
              "9dJLL+nUqVNKXL1TtmXKqmtWcEqKxFPO8c0XkNUbwN89IOtsh4wuX2Sx80yr8mfka+6cuZEQXlhY\n",
              "qIQE2iQAAAD4KAjlAPpJTk7WF7/4Rd13333atGmTli9frh07dsi9cb9CyW75CqZEu4gYRkZrl6zG\n",
              "NlkNbTIb22S1nKsZ4fiwSVlZWSq+tljz5s3TvHnzeAIOAAAwzAjlAAbkcDi0bNkyLVu2TAcPHtTy\n",
              "5cv1xhtvyKw6KkmK21Ej/6ysKJcSQ2JL1umW8FPwjfslSYlrdkYWu91uFV99tUpKSlRcXKy5c+cq\n",
              "IyMjSoUFAACYGAjlAC6rqKhIf/u3f6tvfOMbWrVqlV5++WU1HKxT3ME62aYhx/GGaBcRF2GdOCvD\n",
              "F5D7rT0yO71yv7NPkuSoa5bD4dCtt96q+fPnq6SkRDNnzqQPcAAAgFFGKAcwaGlpaXr44Yf1wAMP\n",
              "aNOmTVq5cqW2bt2q+IpDsg0pbvfxaBdx4urpksyqb5XV0Carvi3cHdl71ZIkV2u35paUqLy8XCUl\n",
              "JSopKVFaWlqUCw0AAABCOYAh61u1vba2VqtWrdL/vvy/MvZ/KEnhqtGBkBQKRbmk45hty2ztkvxB\n",
              "uSoOylHf1q9BtoTERJVde63KyspUXl6uOXPmKD4+PooFBgAAwEAI5QCuSG5urv7sz/5MjzzyiN55\n",
              "5x2tWLFCu3btkiQlvlIlBXuCuW1HsZTjg3m2XbIVbhW9oU2GN9wvuHm8URkZGSpfUq7y8vBAVXQA\n",
              "AIDYQCgHMCxcLpduu+023Xbbbfrggw/06quv6s0331RjY6MkKeH1HTJ8ARktnVEuaYwIBGU1tsvs\n",
              "qY5udvmU8NYeSeFW0bOzs7VgwQItWLBAZWVlmjZtmgy6qwMAAIg5hHIAw27mzJn6i7/4C33zm99U\n",
              "VVWV3njjDb29fr06/V4lrt0lW5LzwEkFctNlJ1KlWpKMLl+4S7KeauhJK7ZFahcYhqFZs2ZFqqKX\n",
              "lZUpMzMzyiUGAADAcCCUAxgxlmVp0aJFWrRokf7qr/5Kmzdv1htvvKENGzbIteuYXLuOKeRxh7vq\n",
              "OtUc7eKOKrOhTZLk2nxQ8geU+Mr2c8tMUyWlJZEQPn/+fCUnJ0erqAAAABhBhHIAoyI+Pl433nij\n",
              "brzxRrW2tmr9+vXavHmztm7dqi5J7g37JcOQbRpyHqqTQuPkHfSQLbOtS5IUV3U0XCW906uEde9L\n",
              "kpy1jUpLT9f84mLNnz9fZWVlmjt3rlwuVzRLDQAAgFFCKAcw6pKTk/XpT39an/70p+X3+7V7925V\n",
              "VFSooqJCR44ckauqRpKU8FqVZIeruisYknyB6Bb8crx+SZKzuk6S5H5zt6zWrkhjd3GHTsnhdGpO\n",
              "8XzNnz9fxcXFKi4u1tSpU3kfHAAAYIIilAOIKqfTqYULF2rhwoX65je/qTNnzqiyslKVlZXa9oc/\n",
              "qE1euXYdkyQlrdymkGGEq3wrSlXefQEpFJJV2yizvVtmh1dGt0+Jr26X0Rnuksy1s0aSlNAVVMGc\n",
              "uSooKFBhYaHmzp2rwsJCxcXFjX65AQAAMCYRygGMKZmZmbr77rt19913y7Zt1dXV6cCBA6qurlZ1\n",
              "dbX279+vltpwi+7uDfsj2yW+sl0ht1O2Oy78dH3fh+EWzE81S8FQ+B3unn7TzeYOSZLR1iWFbBmt\n",
              "4erlVl2TDF9Q8gVk+AMyfAG5th0JH+vN3bI6vJGn9e6eHwYi5fakqnBBoQoLzw05OTl0SwYAAIBL\n",
              "Mmx7aJ0H//u//7v++I//+LLzAGAk2LatM2fOqLq6WgcOHNCJEydUX18fGbxe74gc1+12KycnRzk5\n",
              "OcrOzlZ2dnZkeurUqbwDDgAAgI9kyKH8qquuUlVVVb95Cxcu1Pbt2y+yBQCMDtu21dbWpoaGhkhI\n",
              "b2xslN/vVzAY7DcEAoHItGVZSk5OlsfjUVJSkpKTkyNjj8cTGXjvGwAAAMNt0NXXt27dqoqKCtXX\n",
              "1+unP/1pZH5LS8uIPZkCgKEwDEPJyclKTk7WzJkzo10cAAAA4LIGHcrr6uq0c+dOdXZ2aseOHZH5\n",
              "ycnJeuGFF0aibAAAAAAAjGtDrr6+Zs0a3X777SNVHgAAAAAAJoxBh/INGzZo6dKleuWVVwZcfvfd\n",
              "dw9rwQAAAAAAGO8GHcq/8pWv6Je//KWWLVt24U4MQ2+//fawFw4AAAAAgPFsyNXXAQAAAADA8Bh0\n",
              "Q2+7d+++5PLS0tIrLgwAAAAAABPJoJ+Uz5gx4+I7MQx98MEHw1YoAAAAAAAmAqqvAwAAAAAQJYOu\n",
              "vt5XZWWlfv/738swDN1888362Mc+NtzlAgAAAABg3DOHusHTTz+t++67T42NjWpoaNB9992nZ555\n",
              "ZiTKBgAAAADAuDbk6utFRUWqqKhQRkaGJOns2bNavHixDh48OCIFBAAAAABgvBryk/Lk5ORIIJek\n",
              "9PR0JScnD2uhAAAAAACYCIb8pPyv//qvdebMGf3Jn/yJJOmFF17Q5MmT9YUvfEESXaMBAAAAADBY\n",
              "Qw7lfbtGMwxDfTenazQAAAAAAAbvI3eJduTIEb3yyisqKCjQpz71qeEuFwAAAAAA496gQ/nNN9+s\n",
              "p59+WuXl5Tp58qTmz5+vj33sY6qpqdFDDz2k73znOyNdVgDAZXi9Xq1Zs0Z79uxRcnKy7rjjDhUW\n",
              "Fka7WAAAALiIQYfyuXPnav/+/ZLC3aK99957WrlypZqamrR06VLt3r17RAsKALi0uro6PfbYYzp6\n",
              "9GhknmEYevTRR/XlL385iiUDAADAxTgGu6Lb7Y5Mb968WXfccYckKS0tTQ7HoHcDABgB7e3t+os/\n",
              "/3Mdr63VtentWpLRoUafQ7+rS9XPf/5zJSQk6N577412MQEAAHCeQXeJZpqmTpw4ofb2dm3YsEFL\n",
              "ly6NLOvs7ByRwgEABueZZ57R8dpaLZ3UpruzWzXJFdRsj1dfnVEvjyOkf/mXf6YhTgAAgDFo0KH8\n",
              "b/7mb7RgwQIVFhZq2bJlKioqkhR+ap6fnz9S5QMAXMauXbu0evVqTXP7dGtWW79lKc6Q/iinSYFA\n",
              "UP/0T/+kj9i2JwAAAEbIkFpfP3XqlE6fPq3S0lIZhiFJOnnypAKBgKZPnz5ihQQAXNyjjz6qHTt2\n",
              "6Osz65Wb4B9wnf84lq4DbfF69tlntWjRolEuIQAAAC5m0E/KJWnKlCkqKyuLBHJJys7OJpADQJS8\n",
              "//772rFjh5xG6KKBXJJuyWyVJP36178eraIBAABgEIYUygEAY8vy5cslSfHWpSs9ZbsDchi2tm3b\n",
              "1q91dgAAAEQXoRwAYlRzc7PWv/22psT75TAu/yZSvBmSJK1atWqESwYAAIDBIpQDQIx644035A8E\n",
              "dHXa4HrAcJq2PI6Q1q5ZI7//4lXdAQAAMHoI5QAQo9auXSvTkMpTuga9TXlqp1paW1VRUTGCJQMA\n",
              "AMBgEcoBIAbV1tZq//79KkrqVqIjNOjtylPCT9XfeuutkSoaAAAAhoBQDgAxaN26dZKk0iE8JZek\n",
              "qfEBTYoL6N1Nm9Td3T0SRQMAAMAQEMoBIAa9/fbbsgxbcz1DC9aGIZWkdKmru1tbtmwZodIBAABg\n",
              "sAjlABBjTp48qYMHD6owyXvZrtAGMj85/HR9/fr1w100AAAADBGhHABizIYNGyRJxclDq7rea2p8\n",
              "QOlxQb377rsKBALDWTQAAAAMEaEcAGLMxo0bZUia6/F+pO0NQ5rr6VJ7e7uqqqqGt3AAAAAYEkI5\n",
              "AMSQpqYm7dq1U/kJ3iG1un6+ecnhd9E3btw4XEUDAADAR0AoB4AY8t577ykUsjU3+cpaTs9L8CnB\n",
              "Cmnjxg2y7aG/lw4AAIDhQSgHgBjS+2R73hBbXT+fZUhzPd06c6Ze1dXVw1E0AAAAfASEcgCIEd3d\n",
              "3dqypVJZLr8yXMEr3l/v0/behuMAAAAw+gjlABAjKisr5fX6VHyFVdd7FSZ55TRtbXjnnWHZHwAA\n",
              "AIaOUA4AMaK3X/GP2hXa+eJMW0VJ3frg6FEdP358WPYJAACAoSGUA0AM8Pl8enfTJqXHBTQ1fvj6\n",
              "Fp/f89R93bp1w7ZPAAAADB6hHABiwJYtW9TR2an5yV0yjOHb7xxPtxyGTSgHAACIEkI5AMSAN998\n",
              "U5JUljI8Vdd7xVvhKuyHDx/W0aNHh3XfAAAAuDxCOQCMcR0dHdq4cYMmu4a36nqv8tRw0F+7du2w\n",
              "7xsAAACXRigHgDFu3bp18np9uiq1c1irrvea4+mW27K1ZvVqBYNX3tUaAAAABo9QDgBj3KpVq2RI\n",
              "WpDaOSL7d5pSWUqnztTXq7KyckSOAQAAgIERygFgDNu3b5/27dunuZ4upThDI3acj6V3SJJeeuml\n",
              "ETsGAAAALkQoB4Ax7L/+678kSUsyOkb0OFPiA5qZ6FVlZaUOHz48oscCAADAOYRyABijjhw5orff\n",
              "flvT3D7NTPSN+PGWTmqXJP3qV78a8WMBAAAgjFAOAGOQbdv66U9/Ktu2dUtm24g08Ha+wiSv8hK8\n",
              "Wr9+vXbu3DnyBwQAAAChHADGorVr12rLli0qSupWYZJ3VI5pGNKdU1plSHrqqafU3d09KscFAACY\n",
              "yAjlADDGhEIhPfPMP8lp2ronu2VUnpL3yk3w69qMdh07dkwrVqwYvQMDAABMUKMayp944okrevJy\n",
              "pdsDQCwIhUJqa2vXdLdPaXGj3294aUqXJKm5uXnUjw0AADDRjGoo/+EPf3hFofpKtweAWGIadnSO\n",
              "G5WjAgAATEyjdu/1ta99TZJ0/fXXq7y8XMeOHdNXvvIVXXPNNSotLdUjjzwiny/cuvCPfvQjzZ07\n",
              "V+Xl5ZF1z9/+zJkzAx7H6/WqtbW13+D1js77mAAAAAAADMWohfLnnntOkrRp0ybt3LlTTz75pK6/\n",
              "/npt3bpVu3btUigU0k9+8hM1NTXp6aefVlVVlXbu3KnNmzcrKyvrgu0zMzMHPM5TTz2llJSUfsNT\n",
              "Tz01Wl8TAAAAAIBBc0TrwKtWrVJFRYWeeeYZSVJXV5csy1JycrIKCwv1pS99SbfeeqvuvPNOTZs2\n",
              "bdD7/d73vqfHHnus3zyXyzWsZQcAAAAAYDhELZTbtq2XX35ZRUVFFyyrrKzU5s2b9c4772jx4sX6\n",
              "7W9/q+uvv35Q+3W5XIRwAAAAAEBMGNX2fDwej1paWiRJ99xzj/7hH/5BgUBAktTU1KTDhw+rra1N\n",
              "p0+f1vXXX6/vf//7uu6667Rjx44LtgeA8cowDBmGoUavQ8EotPVW7w3/XmuaNPkGAAAw0kb1juvb\n",
              "3/62brnlFpWXl+v73/++3G63ysvLVVpaqptuukk1NTVqaWnRZz7zGZWUlKi0tFR+v18PPvjgBdtf\n",
              "rKE3AIh1lmXp9ttv11m/Qxvrk0b12F1BQ2tPp8jpdOqWW24Z1WMDAABMRIZt29HpcwcAcFEdHR26\n",
              "777Pqflsg75dcFqpcaFLrv//qjP117Mv/WPlYNZ5rS5Z7zUm6Rvf+IYeeOCBIZcbAAAAQ0PdRAAY\n",
              "gxITE/WNb3xTgZCht+s9o3LMZp+lyrNJmjYtR/fff/+oHBMAAGCiI5QDwBh16623Kj8/X1XNiWrx\n",
              "j/zlemNDooK29Kd/+hU5nc4RPx4AAAAI5QAwZlmWpS996UsK2lJlY+KIHqsraGh7c6KmTp2im2++\n",
              "eUSPBQAAgHMI5QAwht16661KTU3VtuZEBS79WvkVqWpOkC9k6N57PyuHI2q9ZQIAAEw4hHIAGMPi\n",
              "4uJ01113qSNgan9b/Igcw7alPzQlyOlw6K677hqRYwAAAGBghHIAGOM+9alPSZK2NyeMyP7ruh06\n",
              "1e3UDUuXKiUlZUSOAQAAgIERygFgjMvLy9O8efN0qD1e7YHhv2zv6An7t99++7DvGwAAAJdGKAeA\n",
              "GHDbbbcpZEt7W4e3CnvIlna3upWc7NHixYuHdd8AAAC4PEI5AMSAG2+8UYZhaHeLe1j3W9vlVKvf\n",
              "0ic+sYwG3gAAAKKAUA4AMWDy5MkqLS3V0Q7XsFZh39MT8m+66aZh2ycAAAAGj1AOADFi2bJlsiXt\n",
              "H6Yq7LYt7W11y+NJ0sKFC4dlnwAAABgaQjkAxIilS5dKkvYOU9dodd0ONfstXX/9DVRdBwAAiBJC\n",
              "OQDEiKlTp6qoqEhH2l3yBo0r3t/e1nDV9RtuuOGK9wUAAICPhlAOADHkhhtuUMA2dLDddcX72tcW\n",
              "r7i4OH3sYx8bhpIBAADgoyCUA0AM6a3Cvu8K3ys/67N0qtupa665Rm738LboDgAAgMEjlANADCko\n",
              "KNDUqVNU3e5W0P7o++kN9b0hHwAAANFBKAeAGGIYhm64Yam6goaOdsR95P3sa42XaRq67rrrhrF0\n",
              "AAAAGCpCOQDEmEgr7K0frdp5e8BUTadLpaVlSktLG86iAQAAYIgI5QAQY8rKypSamqp9bW6FPkIV\n",
              "9v2t8bIlfeITnxjuogEAAGCICOUAEGMsy9LSpUvV6jd1vHPoVdj39LxPTigHAACIPkI5AMSgm266\n",
              "SZK0u2VorbB3BEwd6YhXcXGxpkyZMhJFAwAAwBAQygEgBl111VVKTU3VntaEIbXC/n5rvEK2dMst\n",
              "t4xc4QAAADBohHIAiEEOh0O33HKL2gOmDre7Br1dVVOCTNMklAMAAIwRhHIAiFF33nmnJOkPTQmD\n",
              "Wj9oGzreFafFixcrIyNjJIsGAACAQSKUA0CMmj17toqKirSvza3B1GD3hgxJ0t133z2yBQMAAMCg\n",
              "EcoBIEYZhqF7771XIVvqDl76ct4VNOQNGcrKzNR11103SiUEAADA5RDKASCG3XbbbcpIT1fANtQZ\n",
              "MC663nsNSZIM3f/5z8vhcIxeAQEAAHBJhHIAiGEul0tffvBBBWxD6+o9A67T6jf1bmOSMtLTdc89\n",
              "94xuAQEAAHBJhHIAiHGf+cxnNH36dFU0JuloR1y/ZSFbWvFhqrwhQ49+/etyu91RKiUAAAAGQigH\n",
              "gBjndDr1gx/8QKZl6Te1GartdEqSAiHpdydTVN0eryVLlkRaawcAAMDYYdi2PZhGewEAY9yaNWv0\n",
              "d//3/8q2bU1P8KrZ71CL39Ls2bP1s5/9TB7PwNXbAQAAED2EcgAYR6qqqvTzn/9ce/fulceTpDvv\n",
              "vEtf+cpXlJAwuL7MAQAAMLoI5QAwDgWDQZmmKcO4eIvsAAAAiD5COQAAAAAAUUJDbwAAAAAARAmh\n",
              "HAAAAACAKCGUAwAAAAAQJYRyAAAAAACihFAOAAAAAECUEMoBAAAAAIgSQjlGjdfr1RNPPCGv1xvt\n",
              "ogDDinMb4xnnN8Yzzm+MZ5zfsYN+yjFqWltblZKSopaWFiUnJ0e7OMCw4dzGeMb5jfGM8xvjGed3\n",
              "7OBJOQAAAAAAUUIoBwAAAAAgSgjlAAAAAABECaEco8blcunxxx+Xy+WKdlGAYcW5jfGM8xvjGec3\n",
              "xjPO79hBQ28AAAAAAEQJT8oBAAAAAIgSQjkAAAAAAFFCKAcAAAAAIEoI5QAAAAAARAmhHKPi0KFD\n",
              "WrJkiYqKirRo0SLt3bs32kUCBu3P//zPlZ+fL8MwtHPnzsj8S53XnPOIBd3d3brnnntUVFSksrIy\n",
              "3XLLLTp8+LAk6cyZM/rkJz+pwsJCzZ8/Xxs3boxsd6llwFhy6623qrS0VOXl5br++uu1Y8cOSVy/\n",
              "Mb48//zzMgxDq1atksT1OybZwChYtmyZ/fzzz9u2bdsvvfSSffXVV0e3QMAQbNiwwa6trbXz8vLs\n",
              "HTt2ROZf6rzmnEcs6Orqsl9//XU7FArZtm3bzz77rL106VLbtm374Ycfth9//HHbtm1769atdk5O\n",
              "ju3z+S67DBhLmpqaItMrVqywS0tLbdvm+o3x4+jRo/a1115rL1682F65cqVt21y/YxGhHCPu9OnT\n",
              "tsfjsf1+v23bth0KheysrCz70KFDUS4ZMDR9Q/mlzmvOecSqbdu22Xl5ebZt23ZiYqJdV1cXWbZo\n",
              "0SL7rbfeuuwyYKx6/vnn7bKyMq7fGDeCwaB900032X/4wx/spUuXRkI51+/Y44j2k3qMf7W1tZo6\n",
              "daocjvDpZhiGpk+fruPHj6ugoCDKpQM+mkud1ykpKZzziEk/+clP9OlPf1qNjY3y+/2aMmVKZFl+\n",
              "fr6OHz9+yWXAWPTlL39Z69evlyStXr2a6zfGjWeeeUYf//jHtXDhwsg8rt+xiVAOAAD04x//WIcP\n",
              "H9a6devU1dUV7eIAw+bXv/61JOk//uM/9J3vfEd/93d/F+USAVfu/fff18svv8w74eMEDb1hxOXm\n",
              "5qqurk6BQECSZNu2jh8/runTp0e5ZMBHd6nzmnMesebpp5/WihUrtGbNGiUkJCgjI0MOh0OnTp2K\n",
              "rFNTU6Pp06dfchkwlj344INav369pk2bxvUbMW/Tpk2qqalRYWGh8vPzVVlZqUceeUTLly/n+h2D\n",
              "COUYcZmZmbrqqqv0m9/8RpL08ssva9q0aVQDQ0y71HnNOY9Y8swzz+i3v/2t3nrrLaWmpkbmf/az\n",
              "n9Vzzz0nSdq2bZs+/PBDLV269LLLgLGiublZJ0+ejHxetWqVMjIyuH5jXHj00UdVV1enmpoa1dTU\n",
              "aPHixfrXf/1XPfroo1y/Y5Bh27Yd7UJg/KuurtZDDz2kxsZGJScn6/nnn1dJSUm0iwUMyle/+lW9\n",
              "/vrrOnXqlDIyMuTxeHT48OFLntec84gFJ06cUG5urmbOnCmPxyNJcrlc2rJli06fPq0HHnhAR48e\n",
              "VVxcnH72s59p2bJlknTJZcBYcezYMX32s59VV1eXTNPU5MmT9fTTT6u8vJzrN8adT3ziE/rWt76l\n",
              "e+65h+t3DCKUAwAAAAAQJVRfBwAAAAAgSgjlAAAAAABECV2iAQAwzuTn58vlcsntdkuSrr76av3b\n",
              "v/1blEsFAAAGQigHAGAcevHFF1VeXj7gsmAwKMuyRrdAAABgQFRfBwBgnHvhhRe0bNky/dEf/ZFK\n",
              "Skq0detWPfPMM1q0aJHKy8u1aNEiVVRURNbPz8/X3/7t32rJkiXKzc3Vc889p+eff17XXnut8vPz\n",
              "9T//8z+Rdbdt26Ybb7xRV199tRYsWKCXXnpJklRfX69bb71VJSUlKi0t1cMPPzzq3xsAgFjAk3IA\n",
              "AMah++67L1J9/cEHH9SWLVu0Y8cOzZ49W5JUUFCgxx57TJJUWVmphx56SAcOHIhs39HRoc2bN+vw\n",
              "4cMqKSnR//k//0cVFRXatm2b7rjjDt1///1qbm7WI488otWrV2vq1KlqaGjQVVddpSVLlmj58uWa\n",
              "MWOG3nzzTUnS2bNnR/lPAACA2EAoBwBgHOpbff2FF17QkiVLIoFcknbs2KEnn3xSjY2Ncjgcqq6u\n",
              "VldXVyTI33fffZLC4T0+Pl733nuvpPD76WfPnlVzc7M2b96sDz74QLfffnu/Y1dXV2vx4sX653/+\n",
              "Z33729/WDTfcoE9+8pOj8K0BAIg9hHIAACaApKSkyLTP59NnPvMZrV+/XosWLVJra6tSUlLk9Xoj\n",
              "oTw+Pj6yvmVZkc+GYcgwDAUCAdm2reLiYm3evHnAY+7cuVO///3vtWLFCn3/+9/Xjh07eJcdAIDz\n",
              "8E45AAATTHd3t3w+n6ZPny5JevbZZz/SfpYsWaKjR4/q97//fWTezp075fP5dPToUSUlJelzn/uc\n",
              "nn32WR08eFDt7e3DUn4AAMYTQjkAABNMcnKyfvSjH+maa67RwoULFRcX95H2k5aWptdff10//vGP\n",
              "VVZWpnnz5um73/2uQqGQ3nnnHS1cuFDl5eVasmSJ/vEf/1EpKSnD/E0AAIh9hm3bdrQLAQAAAADA\n",
              "RMSTcgAAAAAAooRQDgAAAABAlBDKAQAAAACIEkI5AAAAAABRQigHAAAAACBKCOUAAAAAAEQJoRwA\n",
              "AAAAgCghlAMAAAAAECWEcgAAAAAAooRQDgAAAABAlPz/WQZoWeq1YkYAAAAASUVORK5CYII=\n",
              "\">\n",
              "      </div>\n",
              "      <script type=\"text/javascript\">\n",
              "        (() => {\n",
              "          const chartElement = document.getElementById(\"chart-d2e3d58e-2cac-4927-81ab-a0077e16655e\");\n",
              "          async function getCodeForChartHandler(event) {\n",
              "            const chartCodeResponse =  await google.colab.kernel.invokeFunction(\n",
              "                'getCodeForChart', [\"chart-d2e3d58e-2cac-4927-81ab-a0077e16655e\"], {});\n",
              "            const responseJson = chartCodeResponse.data['application/json'];\n",
              "            await google.colab.notebook.addCell(responseJson.code, 'code');\n",
              "          }\n",
              "          chartElement.onclick = getCodeForChartHandler;\n",
              "        })();\n",
              "      </script>\n",
              "      <style>\n",
              "        .colab-quickchart-chart-with-code  {\n",
              "            display: block;\n",
              "            float: left;\n",
              "            border: 1px solid transparent;\n",
              "        }\n",
              "\n",
              "        .colab-quickchart-chart-with-code:hover {\n",
              "            cursor: pointer;\n",
              "            border: 1px solid #aaa;\n",
              "        }\n",
              "      </style>"
            ]
          },
          "metadata": {}
        },
        {
          "output_type": "stream",
          "name": "stderr",
          "text": [
            "<string>:5: FutureWarning: \n",
            "\n",
            "Passing `palette` without assigning `hue` is deprecated and will be removed in v0.14.0. Assign the `y` variable to `hue` and set `legend=False` for the same effect.\n",
            "\n"
          ]
        },
        {
          "output_type": "display_data",
          "data": {
            "text/plain": [
              "from matplotlib import pyplot as plt\n",
              "import seaborn as sns\n",
              "figsize = (12, 1.2 * len(_df_7['Split'].unique()))\n",
              "plt.figure(figsize=figsize)\n",
              "sns.violinplot(_df_7, x='Z-Score', y='Split', inner='stick', palette='Dark2')\n",
              "sns.despine(top=True, right=True, bottom=True, left=True)"
            ],
            "text/html": [
              "      <div class=\"colab-quickchart-chart-with-code\" id=\"chart-f9a479da-a0a3-49ad-aa94-5fa651158177\">\n",
              "        <img style=\"width: 180px;\" src=\"data:image/png;base64,iVBORw0KGgoAAAANSUhEUgAAA+UAAADrCAYAAAAPITdnAAAAOnRFWHRTb2Z0d2FyZQBNYXRwbG90\n",
              "bGliIHZlcnNpb24zLjEwLjAsIGh0dHBzOi8vbWF0cGxvdGxpYi5vcmcvlHJYcgAAAAlwSFlzAAAP\n",
              "YQAAD2EBqD+naQAANOxJREFUeJzt3Xl4VfWdx/HPuXv2hEA2EggBgggkAUTZXQAVpHaxjqNQsXW0\n",
              "y7QdW6e1nZlWnaeOtbVOdepSqdbHXQFBXPoMLiOCikgg4ooiBIIEskC2m+SuZ/645JKEoFASTk54\n",
              "v57nPPfcc7fvzYHkfu5vM0zTNAUAAAAAAE46h9UFAAAAAABwqiKUAwAAAABgEUI5AAAAAAAWIZQD\n",
              "AAAAAGARQjkAAAAAABYhlAMAAAAAYBFCOQAAAAAAFiGUAwAAAABgEUI5AAAAAAAWIZQDAAAAAGAR\n",
              "QjkAAAAAABYhlAMAAAAAYBFCOQAAAAAAFiGUAwAAAABgEUI5AAAAAAAWIZQDAAAAAGARQjkAAABO\n",
              "mkgkokAgINM0rS4FAPoFl9UFAAAAwL5M09T+/fu1a9cuVVZWavfu3Wpubpbf71dra2t8a/H71dDQ\n",
              "IDMajT/WMAwlJiYqGAzK4XAoOztbHo9HHo9HqampGjRokNLT05WRkaGMjIwjrvt8PgvfOQD0DsPk\n",
              "a0oAAAAcg/379+vDDz9UZWWlKisrtWvXLm3fvl3hcLjnBxixi6jPI7mdMpraFMlOk7OuWTJNKWoq\n",
              "mpEkx0F/7I5up+QwZISjUiTa83N2kpqWppzsbGVlZSk7O1vZh/Y7rmdlZcntdvfSuweAvkEoBwAA\n",
              "QI/a29tVUVGhDRs2aM2aNTpw4EDXO7gcMqOmZBgKjh2qaGqCzBSffOs+Vuv8MsnpUNKyDfL/wzRJ\n",
              "UtLTb8n/D9OU+PxmSZLRGpD/H6Yp6em3JElmoletCyfF72smeGS0BdU+6zT5Xv9Y8rgUKsqS0R6S\n",
              "0R6U0RqUs6Vdih7942xSUpJGjhypnJwc5ebmxrecnBzl5OTI6/X2/g8OAI4D3dcBAAAgKdYVvbKy\n",
              "Uhs2bNCGDRu0ZcsWBYPB+O3hvAw59x5U++zT5N20Q60LJynxhS2SpNC4/MNPZBiSy3niBRmxpvZI\n",
              "boZkSKbbqWDp8C53SXx+s1ovKFHi395VYEqRjNagvJt2KDxiiFy76tTi92vr++9p69atPb7EoMxB\n",
              "Gpo3VLm5ucrLy1NeXl58Pzs7Wy4XH5cB9C1+ywAAAJzi9u7dq+eee07Lly9Xc3Nz/HgkPUkOMyLT\n",
              "6ZCcDrXPOk1JT791KCQb8dBsObdLchixuiR5y3cocOYoOWuaZLQG1HLJWbGWdX9Avje2KVScK4c/\n",
              "INeuWtUFWnXgg/f13nvvHfG0HePchw4dqvz8fA0dOrTLflJS0sl+pwAGIEI5AADAKSgYDGrt2rVa\n",
              "vXq13nnnnfhxU1LgrFHybtyutgtK4l3Nbc1hyEz0ykz0Si6nQqfHWvWd+xvVetFEyTRj7zNqKlgy\n",
              "XN4tOxUeOkgOf0B762pUXV2tTZs2HfG06enpKigo0PDhw+NbYWGh8vLyaGEHcMz4bQEAAHAK2blz\n",
              "p5599lmtXLVSgfaAJMl0GDLdThmBsGRI4cIh8m7cbnGlJ1FHq7/TUHjEEHk+qFLgrFGSYt3jTY9L\n",
              "bbNPk6MlIEdLuzxbKiVJByLtanj/vSNa2V0uVzysFxYWqqioSMXFxSooKJDT2Qvd+gEMKIRyAACA\n",
              "AS4cDuull17SM888Ew+Q8anRDMlM8MT2A0eZRR0yUxMVSU1URJKnolIypdYFE5X4/Ga1nT1WjuZ2\n",
              "+dZ9rPCIIYo0tWvH7l3auXNnl+dwulw6fexYFRcXq7i4WGPGjFFRUZE8Ho8l7wlA/0AoBwAAGKCC\n",
              "waBefPFF3XPPPWpqaoq1guemy1ndEF+uDCfOTElQJCVBMqTAmYdb2OUPyPS5ZURNhYdmyNxVp/e6\n",
              "jV93Op0qKirS+PHjVVZWptLSUuXk5Fj1VgBYgFAOAAAwwLS3t2vVqlVaunSp/P7YGuCmy6nWC0tl\n",
              "JnnjS5DhJHA6ZDoVn3jOP79MjqY2OQ765Tjol7PBr0+3f6pPP/1UK1eulCRlZ2ertLQ0HtJHjBgh\n",
              "h8Nh8RsB0FcI5QAAAAOE3+/X8uXL9cQTT6ihoUGSFDwtT67ddZJhyExiTW7LOR2KZiQpmnF45vbY\n",
              "muxuGRFTkaxU7dtXq/1r1mjNmjWSpJSUFE2aNEnTpk3TtGnTlJ2dbVX1APoAoRwAAMDmmpqa9OST\n",
              "T+rpp59WS0uL5HHJdDvj63q7quqtLhFfxuGQ6ZDaZ4yJTS7nNhUcXyBnXZMaa5u1du1arV27VlJs\n",
              "bfX5F87X9OnTVVJSIrfbbXHxAE4EoRwAAMCm2tvb9fTTT+vhhx9WS0uLTIcheZzyL5ykxP991+ry\n",
              "cCIchsJFWQoXZUmSDH+7Eta8p+jgFB3Ye0CPPfaYHnvsMSUmJmrKlCmaPn26Zs6cqczMTIsLB3C8\n",
              "COUAAAA2Ew6H9dxzz+kvf/mL6uvrJa87Npu6acp0uyQ3y24NNGaST3I71T7rNCU99ZZMn1vhYYMV\n",
              "rW443IpuGJo0caLOO+88nXvuuQR0wCYI5QAAADYRjUb1yiuv6M9//rP27NkjuWJd1P0XlSlp5TtW\n",
              "l4eTyelQcGKhghMlo6Vdrr0H5Xl3lzZv3qzNmzfr9ttv16RJkwjogA0QygEAAPo50zT19ttv6557\n",
              "7tEnn3wiOQwFR+codHq+El5+T3Lzke5UZib7FCrOlfuTarXOGS/Xnnp5KroG9IkTJ2ru3LmaO3eu\n",
              "0tLSrC4ZQCf8BgcAAOjH3n//fd17770qLy+XJIUKhyg4Pj/WnRnoxkzwKDQ6V+5t1VJrQMGJI+Sp\n",
              "qNSWLVu0ZcsW/eEPf9CsWbM0f/58zZgxg0nigH6AUA4AANAPVVZW6t57743PuB3Oy1BwwjBF0xMt\n",
              "rgx2EhqdI/e2vTJNU0Y4qkg4Eh+DnpKaqvPnzdP8+fM1btw4GYZhdbnAKYlQDgAA0I/U1NRo6dKl\n",
              "ev6FF2RGo4oMSVGgZLiig1OsLg12Zhgy3U7J7VTbzNPk2lWrpl11WrFihVasWKGCYQWaf+F8LViw\n",
              "QDk5OVZXC5xSCOUAAAD9QGNjox5++GE9/fTTCoVCiqYlKlAyTJHcdIkWTPSiaHqigunDFZwwTM6a\n",
              "Rvne2KaqvZ/r/vvv19KlSzVlyhQtXLhQs2fPls/HMAmgrxHKAQAALNTW1hZfa9zv98tM8iowaZTC\n",
              "wwZLDsI4+pDDUCQnXabXLf8FpUp6ZqMig1O0ceNGbdy4UUlJSbrgggu0cOFCjR07lu7tQB8hlAMA\n",
              "AFjA7/drxYoVeuyxx9TY2CjT61ZwYqFCI7Mlp8Pq8nCqcTslQ2o7b5wSV5crPGKIzMo6PfPMM3rm\n",
              "mWc0YsQIfeUrX9GFF16oQYMGWV0tMKAQygEAAE4iv9+vZcuW6bHHH1dzU5PkcSkwvkCh4txYMAKs\n",
              "5jAUnDBMwXEFse7t67dp5+5duuuuu3T33Xdr2rRpWrBggWbOnCmPx2N1tYDtEcoBAABOgubmZj39\n",
              "9NN64okn1NLSInndCpQMU2hUDmEc/VNH93afW/7zS5S08h0F03xav3691q9fr5TUVF1w/vlasGAB\n",
              "3duBE0AoBwAA6ENNTU166qmn9OSTT8bGjHvdCpYOU2gkYRw24nHFurfPK5HR2Cp3ZWz29uXLl2v5\n",
              "8uUqLCzUggULdOGFFyorK8vqagFbIZQDAAD0gR07dmj58uV68cUX1d7eLtPnVrBseGzMuIswDvsy\n",
              "0xIVLD00e/v+Rrkqa1RZtVv33HOP7r3vPk2eNElz587Vueeeq7S0NKvLBfo9QjkAAEAvCYfDWrdu\n",
              "nZYvX67y8nJJUjTJq9DEQoWKsgjjGFgchiK56YrkpisQDMtVVS/3rlpt2rRJmzZt0u9//3tNmTJF\n",
              "c+fO1dlnn62UlBSrKwb6JUI5AADACTpw4IBWr16tFc+sUG1NrSQpnJOm0OhcRXLSWdoMA5/HpfDI\n",
              "bIVHZstoDchVVS/X7npt2LBBGzZs0G9v+62mTZ2muXPnaubMmUpKSrK6YqDfIJQDAAD8HcLhsCoq\n",
              "KvTCCy/opZdfUjgUltxOBUfnKDQ6R2ZKgtUlApYwE70KjclTaEyejJZ2uarqFdldr3Xr1mndunVy\n",
              "u92aPHmypk+frhkzZmjo0KFWlwxYilAOAABwjDqC+CuvvKL/+7//U0NDgyQpmpqgYEmBwsOHMHkb\n",
              "0ImZ7FNo7FCFxg6V0dwm1+56RfYciLeg33HHHRo+fLhmzJihGTNmqLS0VC4XEQWnFv7FAwAAfIGj\n",
              "BXEzwaPQqByFh2UqOjhFYjko4AuZKQkKjctXaFy+jLagnNUH5drboF2f79Guxx/X448/rsSkJE09\n",
              "6yydeeaZKikpUWFhoRwOh9WlA32KUA4AANBNTU2NKioqVF5errVr1xLEgV5mJngULspWuChbikTl\n",
              "rG2Ss7pB0eqDevXVV/Xqq69KklJSUlRSUqLS0lKVlpZq7Nix8ng8FlcP9C5COQAAOOXt3btXFRUV\n",
              "2rJlizZv3qzPP/88fls8iBccCuJM2gb0LqdDkZx0RXLSFZxYKKO5Tc7aZjnrmtRY16w33nhDb7zx\n",
              "hiTJ7XZr7NixmjBhgkaPHq2RI0dq+PDhBHXYGqEcAACcMkzTVH19vXbs2KGdO3fq448/1ubNm7V/\n",
              "//7D9/G4FBmaociQVEWGpCqankQQB04iMyVB4ZQEhYuyJElGe1COumY5a5sVqWvW1vfe09atW+P3\n",
              "dzqdGjZsmEaOHKmioiKNGjVKI0eOVG5uLl3fYQt9Gspvuukm/eIXv5DP5zuux+3du1eXXXaZ1q1b\n",
              "10eVAQCAgSwajerAgQOqrKyMB/AdO3Zox44dam5u7nJf0+eOtYIPSYmF8LREuqUD/Yjp8yiSn6lI\n",
              "fmbsQDgix0G/HI2tcja0KtLUqh2fV2nnzp1dHudyuZSVlaWcnJz4lp2d3WX/eHMK0Bf6NJTffPPN\n",
              "uu666474xx4Oh79wVsW8vDwCuY2ZpqlIJKJwOKxIJPKF+5FIRNFoVNFotMt+5800zS7P3XHZ+bjD\n",
              "4ZBhGDIMo8d9p9Mpp9Mph8MR3+9+3eVyyeVyHbEPAOgfTNNUIBBQS0uLmpub1dDQoNraWtXU1Ki2\n",
              "tja+7a+pUX1dnSKRSNcnMAxFUnyKFmQqmpqgaFqiommJMlN8hHDATlxORYekKjokVeGOY6Ypoy0o\n",
              "R2NrbGtoVcQf0OcNddpbvVcye34qr8+ntLQ0paelKTU1VWlpaV225ORk+Xw++Xw+JSQkyOv1KiEh\n",
              "Ib7v8/nkdrvlcrlolcffrc9C+fe+9z1J0qxZs+R0OpWXl6ecnBxt375dNTU1+vjjj7Vo0SJt27ZN\n",
              "wWBQBQUFeuCBB5STk6PKykqVlZXFJ1UxDEO33HKLVq1apdraWv3617/Wt7/97R5fNxAIKBAIdDnm\n",
              "9Xrl9Xr76q32mra2Nu3atUumacbDaOdg2jmodg6w4XD4iOPdg29Pwfh4tlAodNTrXW6LRBQOhaz+\n",
              "UfYawzDkdLnkcjrjv3BdLleX/S861v32zoG/py8AOi67f3nQ/YuEjs3pdMa/dOj8BUT3LyV6+qKi\n",
              "Q8eXG4ZNP5DatW6gu85fNNpNJBLp8rer+9+a7n93IpGIQqFQ/G/20Ta/36/m5ubDW0vLl/+NcRiK\n",
              "JnhkDkqMXaYkHA7gyT7JyYdmYEAyDJmJXkUSvYrkZnS9LRqV0RaS4Q/I0RqQ0RqQwx+Q0RZUJBBS\n",
              "W0uDag7US6Fwz899jDo+m3X/DNj981vH57HO+7G3YPR4veOzTufPcx23d77vF33u6+m1v2zrXHfH\n",
              "lw6dP392v0/nz7CdP5d+0Wt0/ux6tFo7/xw6jiUnJys7O/uEzld/0meh/L777tOf//xnrVu3Tunp\n",
              "6brqqqtUXl6u9evXKyUlRZL0xz/+UUOGDJEk/fa3v9VNN92k++67r8fn83q92rhxoz7++GNNmTJF\n",
              "3/rWt3psbb/11lt18803dzl244036qabburdN9gHfvKTn6iiosLqMk6I6XTI9Lokp1NyOWQ6HZLD\n",
              "IdPlkJwd143D+4YhGTp0Gdt3f7pPwTG5h1otDt3endF5xzz87aepTtdNebZVKzQ6J3bdNA9tkqKm\n",
              "jGhUippSJCojEj18GY7KiETi16ORiMLtIbW3t/fpzw4A8MVMpxEL2clemYlemV6XoolemQkemQke\n",
              "RRM9ksdFqzeArhwOmUlemUleRb/oflFTRjAsBUMyAmEZwbCMUOTwZ8POl8GwjMCh+4VjnxvNcFSR\n",
              "Qw1W6HtLly7VhAkTrC6jV5zUid4uvfTSeCCXpMcff1yPPPKI2tvb1d7ersGDBx/1sYsWLZIknXba\n",
              "aXK5XNq3b5/y8/OPuN8vf/lL/fSnP+1yzA6t5JJ09tln2z6UGx3BVsf4TWMPoVxRU55P9x8+3uX+\n",
              "sVzdPagb0uHg3bEvM/Zc2/fHwrdpdg3mAABbMSKmjOY2OZrbJMUmZIsmuOOh3Ez0xlrHCekAvkwk\n",
              "KqMteDhYB8OHLmPXFewI5eFDYfzQFo5K4ciXPz/61Omnn668vDyry+g1JzWUJycnx/fXr1+vu+66\n",
              "S2+99ZaysrK0evVq/frXvz7qYzuPS3c6nQqHew59dumq3pPLL79cl19+ea8+Z0d3ws7d13vqSth9\n",
              "67i9o2v6F3Vf/6Ku7l80prxzt/vO3e87uj52HOv8XjqPKe+47N7Vp6PLS8f+l40p7+iS01OX8qN1\n",
              "P+/elf3Ljve09dSVvWMDgFOBaZpdurEHg8H4fnt7+xHd1zvGknceU15TW6OmfY1Hfw2P63D39U6X\n",
              "ps9NWAcGsmA41kW9o6t658vWoIz2Y2vN7hhL7ks6dNlpfLnP55PX6z3qEMbOQxOP1kW7p+7Znbun\n",
              "H23ruL3zsMSeusR3f43uwx+P1p29e7f0L+uaznDCE9OnoTwlJUWNjY1KT08/4raDBw8qJSVFmZmZ\n",
              "CgaD+vOf/9yXpZyyOgdS1m8EAPQnhmHI4/HI4/F06Ul3vNrb21VXV3fEpG/79+/Xrl27tHv3bkXq\n",
              "us247nEpmpagSFqiooeWPjMT+DsJ2E4kKkdT2+EJ3hpb5WxsldEa7PHuHo9HOTm58dnX09PTu0zs\n",
              "1nmyt9TU1C+cnBroLX36r+z666/XvHnzlJiYeET3ggsvvFCPPvqoxowZo8zMTM2dO1eff/55X5YD\n",
              "AAAGIJ/Pp/z8/B6HtUlSKBRSVVXVEUujVVVVyVnbLG2PrVEeTfHF1yaPZKXKTLRnzztgwIpE5Wjw\n",
              "y1nXLEd9i5yNrXI0tx8evnhIVnaWRpWNUkFBQZfl0HJycpSenk6rLvqdPg3lN954o2688cYeb3O7\n",
              "3Xrqqae6HLvlllskSYWFhfGZ16UjZ6Stq6vr3UIBAMCA5Xa7VVRUpKKioi7Hg8Ggtm/fri1btmjz\n",
              "5s2qeLdC/h01cu+okSRFk7yKDElVOC9Dkdx0ycXwIuCkCoXlrGuRs65JjrpmuepbpMjhoY0pqaka\n",
              "VXaaRo4cqZEjR6qoqEgjR47sMmQWsAP6YwAAgFOSx+PR6aefrtNPP12LFi1SJBLRZ599Fg/pWyoq\n",
              "1FRZK3dlreRyKJSboXBBJgEd6CuRqJw1TXJWH5SztknOxtb45LyGw6HRo0aptLRUpaWlKikp0ZAh\n",
              "Q2j1xoBAKAcAAFBsItni4mIVFxfrsssuUzQa1WeffabXXntNr7z6qip37pS7qp6ADvQiozUg594G\n",
              "uaoPylXTKIVjLeFen08TJp8RD+Djx49XUlKSxdUCfYNQDgAA0AOHw6HRo0dr9OjRuuaaa7Rjxw69\n",
              "8soreuWVV1RZWdk1oI/MViQrlRndgS8TNeWob5arukHOvQdjreGHFBUVacaMGZo+fbomTJjAJGs4\n",
              "ZfAvHQAA4Bh0jEs/WkCPpiYoODpH4eFDJDet50CcacbGhFfVy111QEZ7bGZ0j9erKYdC+PTp05Wb\n",
              "m2txoYA1COUAAADHqXNA/+CDD7RixQqteWmNHOU7pa27FSwcotCoHJmpCVaXCljDNOU40CLX7nq5\n",
              "99THlyjLyMjQOfMv0qxZszRp0iT5fD6LCwWsRygHAAA4AePGjdO4ceP0wx/+UM8995xWrFihmk/3\n",
              "yfPpPoVz0hQalaNIbobkoGs7Bj7HQb9cVXVy7a6Xwx+QFJsl/dyLL9S8efM0ceJEuqUD3fA/AgAA\n",
              "oBcMGjRIS5Ys0aJFi7R+/XotW7ZM5eXlcu1rVDTFp+DYfIWHDyacY8Ax2oNy7aqTa2dtfIx4YlKS\n",
              "zlkwR3PnztWZZ55JEAe+AP87AAAAepHL5dI555yjc845Rzt27NCyZcv03PPPybFxu6If7lFw7FCF\n",
              "CwdLDofVpQJ/v0hUzr0H5d5ZI9e+Rsk05XK7NPu883TBBRdo6tSp8nq9VlcJ2AKhHAAAoI8UFRXp\n",
              "hhtu0Le//W098sgjWrVqlRzvfNYpnA+RnIRz2IejvlnunbWx1QeCYUmxIRwLFizQ3LlzlZaWZnGF\n",
              "gP0QygEAAPpYVlaWrr/+el155ZV67LHH9Mwzz8ixaYfMjz5X4LShCo8gnKMfM025P/pcMqXEl9+X\n",
              "JA0eMkQXLVig+fPnq7Cw0Nr6AJsjlAMAAJwkQ4YM0XXXXadvfetbeuyxx7R8xQoZ5YfC+bihChdm\n",
              "MeYc/UMkKmf1Qbl31srRGpR36245nU7NmTNHF110kc444ww5nSz9B/QGQjkAAMBJlpmZqR//+Mda\n",
              "vHixHn/8cS1bvkzGOzsU3VatwIQCRYYOkgzCOU4+R4NfRjCspOc2ywiEJMW6py9cuFDz5s1TcnKy\n",
              "xRUCAw+hHAAAwCKDBg3SD3/4Q11++eV68MEHY2PO3/hEkUHJCpYMUySb8bk4CUxT7k+qY93T/3er\n",
              "JCljUJoWfHO+Fi5cqBEjRlhcIDCwEcoBAAAslpmZqZ/97Gf6x3/8Ry1dulRr1qxRwmsfKpyTpmDJ\n",
              "cEUzkqwuEQNNx+zplYe6p2+plCSdffbZWrhwoaZNm8YyZsBJwv80AACAfqKgoED/+Z//qUWLFune\n",
              "e+/Vhg0b5Nq3VaFhmQpOGCYz2Wd1ibC7SFTeTTu6zJ6enZ2txYsXa+7cucrIyLC4QODUQygHAADo\n",
              "Z8aMGaM//vGPKi8v1913360PP/xQ7j0HFBqRpeC4fJkJHqtLhF2YphQ1ZYQjMg1DjmBYjs/2Kysr\n",
              "S/Pnz2f2dKAfIJQDAAD0U5MnT9YDDzyg1157Tffdd592fbZL7spaBYtzFTwtT/LwUQ49OBTEZUqJ\n",
              "f3tXjragJCkxIUFzFl6o+fPna+LEiXI4WIYP6A/4TQ4AANCPGYahc889V7NmzdLf/vY33b/0ftV+\n",
              "9Lk8n+1X4LQ8ybS6QvQLh4K4573dclXVx4N4QsjUzLlzNWfOHE2bNk0+H0MggP6GUA4AAGADLpdL\n",
              "X/nKV3T++edrxYoVeuihh9S0dbdMQ3J9tt/q8mCFSFTO2iY5qxvkqj4oR1tQng8/l8/n06x583Te\n",
              "eecRxAEbIJQDAADYiNfr1RVXXKGLL75Yjz/+uB5++GEZm3bQYH6KMPztscv2kJJXbZLCEUlSQkKC\n",
              "Zs6bpzlz5mjq1KkEccBGCOUAAAA2lJycrGuvvVaXXHKJHnroIS1bvlwyTZmhsFzbaTkfMEJhOeta\n",
              "5NzfIKM1qKTnt8SOR6IaMWKEpk+frunTp6ukpERut9vaWgH8XQjlAAAANpaZmanrr79e3/rWt/TY\n",
              "Y49p5apVcpTvkOl2SoYRb0mFPRhtQSkclRGJKuF/t8rZ6I/PG+ByueIhfOrUqcrJybG2WAC9glAO\n",
              "AAAwAGRlZeknP/mJlixZoieffFLLli9XW2trrGU1GpXp5mNfvxOJytHUJpmSEQjJdDiUtLo8fnNi\n",
              "W1jjJk5SWVmZJk6cqNLSUnk8LIcHDDT8dgYAABhABg0apB/84AdavHixli1bpiefekrNTU0yQhF5\n",
              "tu5SqCjb6hJPTaGIFInK/Um1HA1+OQ765Wxqiy1dJknhqFJTk1V2VqnKyspUWlqqMWPG0CUdOAUQ\n",
              "ygEAAAag1NRUXX311br88su1cuVKPfDAA9JHe+X5aO/hSeEMKyscoMKRWOv3oWEDRntIippKfmaj\n",
              "JMm7pTJ26fOpeNx4FRcXq7i4WCUlJRo+fDhrhwOnIEI5AADAAJaYmKhFixbp0ksv1dq1a/Xss89q\n",
              "06ZNkmJLW0uKtdY6SOjHy7mvQQpF5Nm8U47mNskwlLxiY9c7RaLy+nwqmTBBxcXFGjNmjIqLi1VQ\n",
              "UCCn02lJ3QD6F0I5AADAKcDj8WjevHmaN2+ePv/8c61evVrLli1Ta2urjLagTEJ5V6GIHP722KRr\n",
              "pinvph0y/O1ytARkHPoyI2HtR5Ikz6f7JEnZ2dkaMWKEhg8fHt8KCws1aNAgGQY/XwA9I5QDAACc\n",
              "YoYOHarvf//7uuaaa/Tmm29q9erVWv/GG7EbTSnhpa2SKTlqm6wttC9FolLUlLO6QYa/XUYwLEVN\n",
              "JazZKsMfiHc37+D+LLbMXGZmpvJHjtHQoUOVn5+v/Px8DR8+XMOGDVNCQoIV7wSAzRHKAQAATlEu\n",
              "l0uzZ8/W7NmzVVNTozVr1mjDhg2qeLdCYUmJr34gORwyDcl0OmT4A1aXfOzCkfgkaq7t++TwB2T4\n",
              "AzLagkp6dlNsrLekhNc/6vKwxNawkgYN0mmnnaa8vDzl5eUpPz9fQ4cO1dChQ+Xz+U76WwEwsBHK\n",
              "AQAAoKysLC1evFiLFy9Wa2urNm/erA0bNmjD229rT1WVjEhUSc9vlinJ9/pHMoJhuXbsj7U4n8yu\n",
              "76YZ61LeHpSjNSiFI3J/uEdGIByrqzUoqevYbl/5zvi+w+FQflaucnJylJOTEw/eeXl5ys3Npas5\n",
              "gJPOMM34FB8AAADAEfbu3RsL6Bs2qLy8XH6//4j7mD63oik+RVMS5KqqV3DsUMnllGfzTrXPGCO5\n",
              "nfKt/VCtF5Yq4bVY67TRHlTbeeOV8Or7sefwuBWcWBibHO2dzyS3UwpFFMlNl7O6QTIkw+GIfRFw\n",
              "FCkpKcrOzlZWVlY8eOfm5sa3jIwMZjgH0K8cdyh/8MEH9Z3vfOdLjwEAAGBgamlpUWVlpXbt2qXK\n",
              "ysr4/p49exSNHj0wnwiHw6HklGQV5BcoIyNDGRkZys7OjgfwjsvExMQ+eX0A6CvHHconTZqkzZs3\n",
              "dzk2efJklZeX92phAAAAsJdgMKi9e/equblZra2t8vv9am1tPWI/FArJ4/HI6/XK4/H0uKWlpSkj\n",
              "I0Pp6enKyMhgLDeAAeuYx5Rv3LhRb731lmpra3XXXXfFjzc2NioQsNGkHwAAAOgTHo9HhYWFVpcB\n",
              "ALZyzKG8urpaFRUVam1t1ZYtW+LHU1NT9dBDD/VFbQAAAAAADGjH3X39b3/7m+bPn99X9QAAAAAA\n",
              "cMo45lC+du1anX322Vq9enWPt1988cW9WhgAAAAAAAPdMYfya665RkuXLtW555575JMYhl599dVe\n",
              "Lw4AAAAAgIGMdcoBAAAAALDIMU/0tnXr1i+8vaSk5ISLAQAAAADgVHLMLeUjRow4+pMYhnbs2NFr\n",
              "RQEAAAAAcCqg+zoAAAAAABY55u7rnW3YsEEvv/yyDMPQ3LlzddZZZ/V2XQAAAAAADHiO433A7bff\n",
              "rssuu0z19fWqq6vTZZddpjvuuKMvagMAAAAAYEA77u7rxcXFeuutt5SZmSlJOnDggKZOnapPPvmk\n",
              "TwoEAAAAAGCgOu6W8tTU1Hggl6RBgwYpNTW1V4sCAAAAAOBUcNwt5T//+c9VU1Ojq6++WpL00EMP\n",
              "aciQIbriiisksTQaAAAAAADH6rhDeeel0QzDUOeHszQaAAAAAADH7u9eEu2zzz7T6tWrNWrUKH3l\n",
              "K1/p7boAAAAAABjwjnlM+dy5c1VRUSFJ2rt3r6ZMmaI1a9bo5z//uW677ba+qg8AAADdvPbaa3rw\n",
              "wQf1d7atAAD6kWNuKR87dqw++ugjSbFl0d544w2tXLlSBw8e1Nlnn62tW7f2aaEAAACQIpGIzjvv\n",
              "PAUCAf3lL3/R+PHjrS4JAHACjrmlPCEhIb7/5ptvasGCBZKkjIwMuVyu3q8MAAAAR6iurlYgEJAk\n",
              "ffzxxxZXAwA4Ucccyh0Oh/bs2aOWlhatXbtWZ599dvy21tbWPikOAAAAXVVXV/e4DwCwp2Nu4v63\n",
              "f/s3TZw4US6XS+eee66Ki4slxVrNCwsL+6o+AAAAdFJXV9fjPgDAno45lH/jG9/Q9OnTtX///i5r\n",
              "kRcWFur+++/vk+IAAADQ1YEDB3rcBwDY03ENBs/JyVFOTk6XY3l5eb1aEAAAAI6uqakpvt/Y2Ghh\n",
              "JQCA3nDMY8oBAABgvc5BvHNABwDYE6EcAADARpqbmyVJhky1HNoHANgXoRwAAMBGWlpaJElOQ/K3\n",
              "tioajVpcEQDgRBDKAQAAbCQWyk0ZMmWaptra2qwuCQBwAgjlAAAANuL3+2VIMozY9Y6WcwCAPRHK\n",
              "AQAAbCQeyg9db21ttbIcAMAJIpQDAADYSKvfL8M4HMr9fr+l9QAATgyhHAAAwCZM01Rbe1uXlnJC\n",
              "OQDYG6EcAADAJtrb2xWNxiZ56xhTzkRvAGBvhHIAAACb6Bg/HmspN7scAwDYE6EcAADAJuKh3GCi\n",
              "NwAYKAjlAAAANtElgBs9HAMA2A6hHAAAwCa6dl/vegwAYE+EcgAAAJvomNSN7usAMHAQygEAAGyi\n",
              "Y/mz2OzrsYnemH0dAOyNUA4AAGATdF8HgIGHUA4AAGATPYXyjtZzAIA9EcoBAABsIt59/VAidxom\n",
              "oRwAbI5QDgAAYBOdW8olyec06b4OADZHKAcAALCJlpYWSbGJ3iTJa0TjxwAA9kQoBwAAsInu3dd9\n",
              "zqhampstrAgAcKII5QAAADbRfCiAd+6+7m9tVSQSsa4oAMAJIZQDAADYREtLizwOM349wRmVxAzs\n",
              "AGBnhHIAAACbaGxsjAdx6XAob2xstKokAMAJIpQDAADYRGNDgxI7hfIkQjkA2B6hHAAAwAZCoZBa\n",
              "/H4lOQ+PH09yxUJ5Q0ODRVUBAE4UoRwAAMAG6uvrJUkp7sMt5cmHQnldXZ0lNQEAThyhHAAAwAY6\n",
              "gneq63BLedqh/draWktqAgCcuJMaym+66Sa1t7db9ngAAAC7CoVCkiR3p9nXXYf2w+GwJTUBAE7c\n",
              "SQ3lN9988wmF6hN9PAAAAAAA/clJC+Xf+973JEmzZs1SWVmZdu3apWuuuUZnnnmmSkpKdO211yoY\n",
              "DEqSfvOb32js2LEqKyuL37f742tqanp8nUAgoKampi5bIBA4OW8SAAAAAIDjcNJC+X333SdJWrdu\n",
              "nSoqKnTLLbdo1qxZ2rhxo959911Fo1HdeeedOnjwoG6//XZt3rxZFRUVevPNN5WdnX3E47Oysnp8\n",
              "nVtvvVVpaWldtltvvfVkvU0AAAAAAI6Zy6oXXrVqld566y3dcccdkqS2tjY5nU6lpqZq9OjRWrx4\n",
              "sc4//3xddNFFys/PP+bn/eUvf6mf/vSnXY55vd5erR0AAAAAgN5gWSg3TVMrVqxQcXHxEbdt2LBB\n",
              "b775pl577TVNnTpVTzzxhGbNmnVMz+v1egnhAAAAAABbOKkTvaWkpKixsVGS9LWvfU233XZbfLbQ\n",
              "gwcPavv27Wpubtb+/fs1a9Ys/epXv9LMmTO1ZcuWIx4PAABwKjEMQ5Jkmkb8mHm0OwMAbOOktpRf\n",
              "f/31mjdvnhITE7V69Wr97ne/U1lZmRwOh1wul373u9/J5/Ppm9/8pvx+vwzD0OjRo7VkyZIjHr9m\n",
              "zZqjjisHAAAYaNLT0yVJzeHDbSotYackKSMjw4qSAAC9wDBNky9ZAQAA+jm/3685c+ZobEqb9rW7\n",
              "JUmzBrdodXW6brnlFs2ZM8fiCgEAf4+T2n0dAAAAf5/ExER5PJ5467gk+WkpBwDbI5QDAADYgGEY\n",
              "Sk9PV2vk8Mc3/6H9jq7tAAD7IZQDAADYRFpamlojh1vKWyNG/DgAwJ4I5QAAADaRnJys9sjh2dfb\n",
              "DrWUp6SkWFUSAOAEEcoBAABsIiUlRaYOL4XWHnHI4/HI4/FYWRYA4AQQygEAAGwiOTlZUqdQHjWU\n",
              "cugYAMCeCOUAAAA2kZSUJEkyzVgX9vaIQ0mEcgCwNUI5AACATcRD+aHrgagjfgwAYE+EcgAAAJvo\n",
              "HsqDUYNQDgA2RygHAACwicTEREmSaR4O5oRyALA3QjkAAIBNxEO5DofyjmMAAHtyWV0AAAAAjs3h\n",
              "VnFD5qFUTigHAHujpRwAAMAmOndf75CQkGBRNQCA3kAoBwAAsImOAE73dQAYOAjlAAAANtFlTDnd\n",
              "1wFgQCCUAwAA2AQTvQHAwEMoBwAAsImelkQjlAOAvTH7OgAAgE0cHlNuEMoBYICgpRwAAMAmXC6X\n",
              "vF4PY8oBYAAhlAMAANhIYmJSl+7rh9cuBwDYEaEcAADARpKSkpjoDQAGEEI5AACAjXS0jHd0X6el\n",
              "HADsjVAOAABgI7GWcoPu6wAwQBDKAQAAbCQ5OVmSFDUNeb0eud1uiysCAJwIQjkAAICNxEO5pJTk\n",
              "FGuLAQCcMEI5AACAjaSlpR3aM5SSmmppLQCAE0coBwAAsJHDobzrPgDAngjlAAAANpKent7jPgDA\n",
              "ngjlAAAANjJo0KD4fmZmpoWVAAB6A6EcAADARnJycuL72dnZFlYCAOgNhHIAAAAbKSgoiO8XFhZa\n",
              "VwgAoFcQygEAAGwkISFBF1xwgfLy8jR58mSrywEAnCDDNE3T6iIAAABwfEzTlGEYVpcBADhBtJQD\n",
              "AADYEIEcAAYGQjkAAAAAABYhlAMAAAAAYBFCOQAAAAAAFiGUAwAAAABgEUI5AAAAAAAWIZQDAAAA\n",
              "AGARQrlFAoGAbrrpJgUCAatLwRfgPNkD56n/4xzZA+fJHjhP/R/nyB44T/ZwKpwnwzRN0+oiTkVN\n",
              "TU1KS0tTY2OjUlNTrS4HR8F5sgfOU//HObIHzpM9cJ76P86RPXCe7OFUOE+0lAMAAAAAYBFCOQAA\n",
              "AAAAFiGUAwAAAABgEUK5Rbxer2688UZ5vV6rS8EX4DzZA+ep/+Mc2QPnyR44T/0f58geOE/2cCqc\n",
              "JyZ6AwAAAADAIrSUAwAAAABgEUI5AAAAAAAWIZQDAAAAAGARQjkAAAAAABYhlFvs7rvv1oQJE1RW\n",
              "Vqbx48frrrvusrok9OCuu+7S+PHjNWHCBJWUlOjRRx+1uiT04IUXXtDkyZPl9Xp13XXXWV0OOvn0\n",
              "0081ffp0FRcXa8qUKfrggw+sLgnd/PjHP1ZhYaEMw1BFRYXV5aAH7e3t+trXvqbi4mKVlpZq3rx5\n",
              "2r59u9VloQfnn3++SkpKVFZWplmzZmnLli1Wl4Sj+Otf/yrDMLRq1SqrS0EPCgsLNWbMGJWVlams\n",
              "rExPPfWU1SX1CWZft1hjY6PS0tIkSU1NTRo/fryeffZZTZw40eLK0Nkrr7yiM844Q2lpaaqqqtLE\n",
              "iRP19ttva+TIkVaXhk4++eQTtbW1admyZWppadEf//hHq0vCIeedd56uvPJKXXXVVVq+fLluu+02\n",
              "vfPOO1aXhU5ef/11FRUVaebMmVq1apXKysqsLgndtLe369VXX9X8+fNlGIb+9Kc/afny5Xrttdes\n",
              "Lg3dNDQ0KD09XZK0cuVK3XTTTXr33XetLQpHqKys1BVXXCHTNHXDDTfoa1/7mtUloZvCwsJT4m8S\n",
              "LeUW6wjkkuT3+xUKhSysBkczZ86c+LkqKChQTk6OqqqqLK4K3XW0HrlcLqtLQSc1NTXatGmTFi9e\n",
              "LEm65JJLVFVVRQtfPzN79mzl5+dbXQa+gM/n04IFC2QYhiRp6tSpqqystLYo9KgjkEuxBpiOc4b+\n",
              "IxqN6p/+6Z/0P//zPwN6/WvYA6G8H1i+fLnGjRunwsJC/eu//iut5P3cyy+/rIMHD2rKlClWlwLY\n",
              "QlVVlXJzc+NflhiGoWHDhmn37t0WVwbY25133qmvfvWrVpeBo7jyyitVUFCgX/3qV3rkkUesLgfd\n",
              "3HHHHZoxY4YmT55sdSn4EldeeaUmTJigq6++WrW1tVaX0ycI5X1s2rRpGjx4cI9bR0vrN7/5TX3w\n",
              "wQfatm2bHn30UW3bts3iqk89x3KeJOm9997Tt7/9bT311FNKSkqysOJT07GeJwAY6P7rv/5L27dv\n",
              "16233mp1KTiKhx9+WFVVVfrNb36jG264wepy0Mn777+vFStW6D/+4z+sLgVf4vXXX9fWrVu1efNm\n",
              "DR48WEuWLLG6pD5BH88+9tZbbx3zfQsLC3XWWWfp+eef15gxY/qwKnR3LOfpww8/1MKFC/Xggw9q\n",
              "5syZJ6EqdHc8/5/QfxQUFKi6ulrhcFgul0umaWr37t0aNmyY1aUBtnT77bfrmWee0csvv6zExESr\n",
              "y8GXWLJkib73ve+pvr5emZmZVpcDSevWrVNlZaVGjx4tSdq3b5+uvfZaVVdX6/vf/77F1aGzjs8K\n",
              "brdb1113nYqLiy2uqG/QUm6xDz/8ML5fW1urV199VSUlJRZWhJ589NFHWrBgge6//37NmzfP6nIA\n",
              "W8nKytKkSZPiqxasWLFC+fn5GjVqlMWVAfZzxx136IknntBLL73UZdwy+o+Ghgbt3bs3fn3VqlXK\n",
              "zMzUoEGDLKwKnX3/+99XdXW1KisrVVlZqalTp+r+++8nkPczfr9fDQ0N8etPPPHEgB3my+zrFvvu\n",
              "d7+rdevWyePxyDRNffe739UPfvADq8tCN/PmzdOmTZs0fPjw+LHbbrtNF1xwgYVVobtXXnlFS5Ys\n",
              "UVNTk0zTVFpamu655x5dfPHFVpd2ytu2bZuuuuoq1dfXKzU1VX/96181YcIEq8tCJ9/97nf1wgsv\n",
              "aN++fcrMzFRKSgqT8fUze/bsUUFBgYqKipSSkiJJ8nq9evvtty2uDJ3t2rVLl156qdra2uRwODRk\n",
              "yBDdfvvtA372aDs755xzdN111zH7ej+zY8cOXXLJJYpEIjJNU0VFRbrzzjtVWFhodWm9jlAOAAAA\n",
              "AIBF6L4OAAAAAIBFCOUAAAAAAFiE2dcBABggVq9erV//+tddjtXW1qq+vl7t7e1djldVVemf//mf\n",
              "tXPnTkmS0+nUHXfcofPOO++k1QsAABhTDgDAgNXQ0KApU6boF7/4ha6++uouty1cuFBz5szRT37y\n",
              "E0lSXV2dWltbe2Wpuo7l7wAAwJej+zoAAANQNBrVokWLNGfOnCMCuRSbyXvo0KHx64MHD44H8mAw\n",
              "qJ/97GcaP368SktLdeGFF0qSIpFI/Pj48eP1ox/9SMFgUJJ01VVX6Tvf+Y5mz56t8ePHS5IeeeQR\n",
              "nXXWWZo0aZJmz56td999t6/fNgAAtsPX2AAADEA33nijDhw4oJUrV/Z4+w033KCrr75ad955p6ZO\n",
              "naqvfvWrmj17tiTp1ltv1SeffKLy8nJ5vV7V1tZKku6//3698847Ki8vl9Pp1MUXX6z//u//1g03\n",
              "3CBJKi8v1/r165WSkqI33nhDTzzxhF5//XV5vV6tW7dOV1xxhT744IOT8wMAAMAmaCkHAGCAefbZ\n",
              "Z/XAAw9oxYoV8ng8Pd7n8ssv1+7du3X99ddLkr761a/q97//vSTp+eef17/8y7/I6/VKkoYMGSJJ\n",
              "evnll3XVVVfJ6/XK5XLpmmuu0UsvvRR/zksvvTS+fvazzz6rd999V2eddZbKysr0ox/9SAcOHFBb\n",
              "W1ufvW8AAOyIUA4AwACybds2XX311Xr66aeVl5cnKTa2vKysTGVlZfr6178ev29GRoa+8Y1v6A9/\n",
              "+IPuvfdePfLII8f1WoZhdLmenJwc3zdNU0uWLFFFRUV8q66uVkJCwgm8OwAABh5COQAAA0Rzc7O+\n",
              "/vWv6+abb9bMmTPjx9PT0+PBuKM7+/PPP6/W1lZJsQC9ZcsWjRw5UpJ08cUX684771QgEJCkePf1\n",
              "uXPn6uGHH1YwGFQ4HNZf/vIXnX/++T3WcvHFF+vRRx/V7t27JcXGuG/atKlv3jgAADbGmHIAAAaI\n",
              "u+++W9u2bdPSpUu1dOnSLre9+OKL8ZZzSVq7dq1+9rOfyeVyyTRNjRkzRn/6058kxcab//u//7sm\n",
              "TZokt9utvLw8vfjii7r22mv12WefadKkSZKkc845R9ddd12PtcyaNUu/+93v9PWvf13hcFjBYFAX\n",
              "XXSRzjjjjL558wAA2BRLogEAAAAAYBG6rwMAAAAAYBFCOQAAAAAAFiGUAwAAAABgEUI5AAAAAAAW\n",
              "IZQDAAAAAGARQjkAAAAAABYhlAMAAAAAYBFCOQAAAAAAFiGUAwAAAABgEUI5AAAAAAAW+X9tH3Qs\n",
              "pg1wSwAAAABJRU5ErkJggg==\n",
              "\">\n",
              "      </div>\n",
              "      <script type=\"text/javascript\">\n",
              "        (() => {\n",
              "          const chartElement = document.getElementById(\"chart-f9a479da-a0a3-49ad-aa94-5fa651158177\");\n",
              "          async function getCodeForChartHandler(event) {\n",
              "            const chartCodeResponse =  await google.colab.kernel.invokeFunction(\n",
              "                'getCodeForChart', [\"chart-f9a479da-a0a3-49ad-aa94-5fa651158177\"], {});\n",
              "            const responseJson = chartCodeResponse.data['application/json'];\n",
              "            await google.colab.notebook.addCell(responseJson.code, 'code');\n",
              "          }\n",
              "          chartElement.onclick = getCodeForChartHandler;\n",
              "        })();\n",
              "      </script>\n",
              "      <style>\n",
              "        .colab-quickchart-chart-with-code  {\n",
              "            display: block;\n",
              "            float: left;\n",
              "            border: 1px solid transparent;\n",
              "        }\n",
              "\n",
              "        .colab-quickchart-chart-with-code:hover {\n",
              "            cursor: pointer;\n",
              "            border: 1px solid #aaa;\n",
              "        }\n",
              "      </style>"
            ]
          },
          "metadata": {}
        }
      ]
    },
    {
      "cell_type": "code",
      "source": [
        "display(outlier_df[['Split', 'Gloss', 'Video file', 'Frames', 'Z-Score']])\n"
      ],
      "metadata": {
        "colab": {
          "base_uri": "https://localhost:8080/",
          "height": 424
        },
        "id": "JJ3YY564H-FV",
        "outputId": "5f2107bc-21be-4abf-90eb-ab0fc031e680"
      },
      "execution_count": null,
      "outputs": [
        {
          "output_type": "display_data",
          "data": {
            "text/plain": [
              "     Split   Gloss                      Video file  Frames   Z-Score\n",
              "0    train   APPLE       654679171689897-APPLE.mp4      91  3.022628\n",
              "1    train      WE         5346957049353451-WE.mp4     121  2.969900\n",
              "2    train  FRIEND     3845231217942484-FRIEND.mp4      79  2.128195\n",
              "3    train     CAR       27759670594914465-CAR.mp4     104  2.178233\n",
              "4    train     BUT        8335625687320589-BUT.mp4      86  2.259766\n",
              "..     ...     ...                             ...     ...       ...\n",
              "112  train    BACK  07598746238490839-seedBACK.mp4     102  3.220616\n",
              "113  train      AT     6279791767383083-seedAT.mp4      95  2.559841\n",
              "114  train    TAKE   8143899247512181-seedTAKE.mp4      77  2.500858\n",
              "115   test     AND        3956799216747606-AND.mp4     122  2.016416\n",
              "116   test     BUY        3257547670297929-BUY.mp4     117  2.002675\n",
              "\n",
              "[117 rows x 5 columns]"
            ],
            "text/html": [
              "\n",
              "  <div id=\"df-448d4523-8883-4031-a0a0-30bac95abe93\" class=\"colab-df-container\">\n",
              "    <div>\n",
              "<style scoped>\n",
              "    .dataframe tbody tr th:only-of-type {\n",
              "        vertical-align: middle;\n",
              "    }\n",
              "\n",
              "    .dataframe tbody tr th {\n",
              "        vertical-align: top;\n",
              "    }\n",
              "\n",
              "    .dataframe thead th {\n",
              "        text-align: right;\n",
              "    }\n",
              "</style>\n",
              "<table border=\"1\" class=\"dataframe\">\n",
              "  <thead>\n",
              "    <tr style=\"text-align: right;\">\n",
              "      <th></th>\n",
              "      <th>Split</th>\n",
              "      <th>Gloss</th>\n",
              "      <th>Video file</th>\n",
              "      <th>Frames</th>\n",
              "      <th>Z-Score</th>\n",
              "    </tr>\n",
              "  </thead>\n",
              "  <tbody>\n",
              "    <tr>\n",
              "      <th>0</th>\n",
              "      <td>train</td>\n",
              "      <td>APPLE</td>\n",
              "      <td>654679171689897-APPLE.mp4</td>\n",
              "      <td>91</td>\n",
              "      <td>3.022628</td>\n",
              "    </tr>\n",
              "    <tr>\n",
              "      <th>1</th>\n",
              "      <td>train</td>\n",
              "      <td>WE</td>\n",
              "      <td>5346957049353451-WE.mp4</td>\n",
              "      <td>121</td>\n",
              "      <td>2.969900</td>\n",
              "    </tr>\n",
              "    <tr>\n",
              "      <th>2</th>\n",
              "      <td>train</td>\n",
              "      <td>FRIEND</td>\n",
              "      <td>3845231217942484-FRIEND.mp4</td>\n",
              "      <td>79</td>\n",
              "      <td>2.128195</td>\n",
              "    </tr>\n",
              "    <tr>\n",
              "      <th>3</th>\n",
              "      <td>train</td>\n",
              "      <td>CAR</td>\n",
              "      <td>27759670594914465-CAR.mp4</td>\n",
              "      <td>104</td>\n",
              "      <td>2.178233</td>\n",
              "    </tr>\n",
              "    <tr>\n",
              "      <th>4</th>\n",
              "      <td>train</td>\n",
              "      <td>BUT</td>\n",
              "      <td>8335625687320589-BUT.mp4</td>\n",
              "      <td>86</td>\n",
              "      <td>2.259766</td>\n",
              "    </tr>\n",
              "    <tr>\n",
              "      <th>...</th>\n",
              "      <td>...</td>\n",
              "      <td>...</td>\n",
              "      <td>...</td>\n",
              "      <td>...</td>\n",
              "      <td>...</td>\n",
              "    </tr>\n",
              "    <tr>\n",
              "      <th>112</th>\n",
              "      <td>train</td>\n",
              "      <td>BACK</td>\n",
              "      <td>07598746238490839-seedBACK.mp4</td>\n",
              "      <td>102</td>\n",
              "      <td>3.220616</td>\n",
              "    </tr>\n",
              "    <tr>\n",
              "      <th>113</th>\n",
              "      <td>train</td>\n",
              "      <td>AT</td>\n",
              "      <td>6279791767383083-seedAT.mp4</td>\n",
              "      <td>95</td>\n",
              "      <td>2.559841</td>\n",
              "    </tr>\n",
              "    <tr>\n",
              "      <th>114</th>\n",
              "      <td>train</td>\n",
              "      <td>TAKE</td>\n",
              "      <td>8143899247512181-seedTAKE.mp4</td>\n",
              "      <td>77</td>\n",
              "      <td>2.500858</td>\n",
              "    </tr>\n",
              "    <tr>\n",
              "      <th>115</th>\n",
              "      <td>test</td>\n",
              "      <td>AND</td>\n",
              "      <td>3956799216747606-AND.mp4</td>\n",
              "      <td>122</td>\n",
              "      <td>2.016416</td>\n",
              "    </tr>\n",
              "    <tr>\n",
              "      <th>116</th>\n",
              "      <td>test</td>\n",
              "      <td>BUY</td>\n",
              "      <td>3257547670297929-BUY.mp4</td>\n",
              "      <td>117</td>\n",
              "      <td>2.002675</td>\n",
              "    </tr>\n",
              "  </tbody>\n",
              "</table>\n",
              "<p>117 rows × 5 columns</p>\n",
              "</div>\n",
              "    <div class=\"colab-df-buttons\">\n",
              "\n",
              "  <div class=\"colab-df-container\">\n",
              "    <button class=\"colab-df-convert\" onclick=\"convertToInteractive('df-448d4523-8883-4031-a0a0-30bac95abe93')\"\n",
              "            title=\"Convert this dataframe to an interactive table.\"\n",
              "            style=\"display:none;\">\n",
              "\n",
              "  <svg xmlns=\"http://www.w3.org/2000/svg\" height=\"24px\" viewBox=\"0 -960 960 960\">\n",
              "    <path d=\"M120-120v-720h720v720H120Zm60-500h600v-160H180v160Zm220 220h160v-160H400v160Zm0 220h160v-160H400v160ZM180-400h160v-160H180v160Zm440 0h160v-160H620v160ZM180-180h160v-160H180v160Zm440 0h160v-160H620v160Z\"/>\n",
              "  </svg>\n",
              "    </button>\n",
              "\n",
              "  <style>\n",
              "    .colab-df-container {\n",
              "      display:flex;\n",
              "      gap: 12px;\n",
              "    }\n",
              "\n",
              "    .colab-df-convert {\n",
              "      background-color: #E8F0FE;\n",
              "      border: none;\n",
              "      border-radius: 50%;\n",
              "      cursor: pointer;\n",
              "      display: none;\n",
              "      fill: #1967D2;\n",
              "      height: 32px;\n",
              "      padding: 0 0 0 0;\n",
              "      width: 32px;\n",
              "    }\n",
              "\n",
              "    .colab-df-convert:hover {\n",
              "      background-color: #E2EBFA;\n",
              "      box-shadow: 0px 1px 2px rgba(60, 64, 67, 0.3), 0px 1px 3px 1px rgba(60, 64, 67, 0.15);\n",
              "      fill: #174EA6;\n",
              "    }\n",
              "\n",
              "    .colab-df-buttons div {\n",
              "      margin-bottom: 4px;\n",
              "    }\n",
              "\n",
              "    [theme=dark] .colab-df-convert {\n",
              "      background-color: #3B4455;\n",
              "      fill: #D2E3FC;\n",
              "    }\n",
              "\n",
              "    [theme=dark] .colab-df-convert:hover {\n",
              "      background-color: #434B5C;\n",
              "      box-shadow: 0px 1px 3px 1px rgba(0, 0, 0, 0.15);\n",
              "      filter: drop-shadow(0px 1px 2px rgba(0, 0, 0, 0.3));\n",
              "      fill: #FFFFFF;\n",
              "    }\n",
              "  </style>\n",
              "\n",
              "    <script>\n",
              "      const buttonEl =\n",
              "        document.querySelector('#df-448d4523-8883-4031-a0a0-30bac95abe93 button.colab-df-convert');\n",
              "      buttonEl.style.display =\n",
              "        google.colab.kernel.accessAllowed ? 'block' : 'none';\n",
              "\n",
              "      async function convertToInteractive(key) {\n",
              "        const element = document.querySelector('#df-448d4523-8883-4031-a0a0-30bac95abe93');\n",
              "        const dataTable =\n",
              "          await google.colab.kernel.invokeFunction('convertToInteractive',\n",
              "                                                    [key], {});\n",
              "        if (!dataTable) return;\n",
              "\n",
              "        const docLinkHtml = 'Like what you see? Visit the ' +\n",
              "          '<a target=\"_blank\" href=https://colab.research.google.com/notebooks/data_table.ipynb>data table notebook</a>'\n",
              "          + ' to learn more about interactive tables.';\n",
              "        element.innerHTML = '';\n",
              "        dataTable['output_type'] = 'display_data';\n",
              "        await google.colab.output.renderOutput(dataTable, element);\n",
              "        const docLink = document.createElement('div');\n",
              "        docLink.innerHTML = docLinkHtml;\n",
              "        element.appendChild(docLink);\n",
              "      }\n",
              "    </script>\n",
              "  </div>\n",
              "\n",
              "\n",
              "    <div id=\"df-b8e0a7a3-9569-4bb1-b724-57f7420779e4\">\n",
              "      <button class=\"colab-df-quickchart\" onclick=\"quickchart('df-b8e0a7a3-9569-4bb1-b724-57f7420779e4')\"\n",
              "                title=\"Suggest charts\"\n",
              "                style=\"display:none;\">\n",
              "\n",
              "<svg xmlns=\"http://www.w3.org/2000/svg\" height=\"24px\"viewBox=\"0 0 24 24\"\n",
              "     width=\"24px\">\n",
              "    <g>\n",
              "        <path d=\"M19 3H5c-1.1 0-2 .9-2 2v14c0 1.1.9 2 2 2h14c1.1 0 2-.9 2-2V5c0-1.1-.9-2-2-2zM9 17H7v-7h2v7zm4 0h-2V7h2v10zm4 0h-2v-4h2v4z\"/>\n",
              "    </g>\n",
              "</svg>\n",
              "      </button>\n",
              "\n",
              "<style>\n",
              "  .colab-df-quickchart {\n",
              "      --bg-color: #E8F0FE;\n",
              "      --fill-color: #1967D2;\n",
              "      --hover-bg-color: #E2EBFA;\n",
              "      --hover-fill-color: #174EA6;\n",
              "      --disabled-fill-color: #AAA;\n",
              "      --disabled-bg-color: #DDD;\n",
              "  }\n",
              "\n",
              "  [theme=dark] .colab-df-quickchart {\n",
              "      --bg-color: #3B4455;\n",
              "      --fill-color: #D2E3FC;\n",
              "      --hover-bg-color: #434B5C;\n",
              "      --hover-fill-color: #FFFFFF;\n",
              "      --disabled-bg-color: #3B4455;\n",
              "      --disabled-fill-color: #666;\n",
              "  }\n",
              "\n",
              "  .colab-df-quickchart {\n",
              "    background-color: var(--bg-color);\n",
              "    border: none;\n",
              "    border-radius: 50%;\n",
              "    cursor: pointer;\n",
              "    display: none;\n",
              "    fill: var(--fill-color);\n",
              "    height: 32px;\n",
              "    padding: 0;\n",
              "    width: 32px;\n",
              "  }\n",
              "\n",
              "  .colab-df-quickchart:hover {\n",
              "    background-color: var(--hover-bg-color);\n",
              "    box-shadow: 0 1px 2px rgba(60, 64, 67, 0.3), 0 1px 3px 1px rgba(60, 64, 67, 0.15);\n",
              "    fill: var(--button-hover-fill-color);\n",
              "  }\n",
              "\n",
              "  .colab-df-quickchart-complete:disabled,\n",
              "  .colab-df-quickchart-complete:disabled:hover {\n",
              "    background-color: var(--disabled-bg-color);\n",
              "    fill: var(--disabled-fill-color);\n",
              "    box-shadow: none;\n",
              "  }\n",
              "\n",
              "  .colab-df-spinner {\n",
              "    border: 2px solid var(--fill-color);\n",
              "    border-color: transparent;\n",
              "    border-bottom-color: var(--fill-color);\n",
              "    animation:\n",
              "      spin 1s steps(1) infinite;\n",
              "  }\n",
              "\n",
              "  @keyframes spin {\n",
              "    0% {\n",
              "      border-color: transparent;\n",
              "      border-bottom-color: var(--fill-color);\n",
              "      border-left-color: var(--fill-color);\n",
              "    }\n",
              "    20% {\n",
              "      border-color: transparent;\n",
              "      border-left-color: var(--fill-color);\n",
              "      border-top-color: var(--fill-color);\n",
              "    }\n",
              "    30% {\n",
              "      border-color: transparent;\n",
              "      border-left-color: var(--fill-color);\n",
              "      border-top-color: var(--fill-color);\n",
              "      border-right-color: var(--fill-color);\n",
              "    }\n",
              "    40% {\n",
              "      border-color: transparent;\n",
              "      border-right-color: var(--fill-color);\n",
              "      border-top-color: var(--fill-color);\n",
              "    }\n",
              "    60% {\n",
              "      border-color: transparent;\n",
              "      border-right-color: var(--fill-color);\n",
              "    }\n",
              "    80% {\n",
              "      border-color: transparent;\n",
              "      border-right-color: var(--fill-color);\n",
              "      border-bottom-color: var(--fill-color);\n",
              "    }\n",
              "    90% {\n",
              "      border-color: transparent;\n",
              "      border-bottom-color: var(--fill-color);\n",
              "    }\n",
              "  }\n",
              "</style>\n",
              "\n",
              "      <script>\n",
              "        async function quickchart(key) {\n",
              "          const quickchartButtonEl =\n",
              "            document.querySelector('#' + key + ' button');\n",
              "          quickchartButtonEl.disabled = true;  // To prevent multiple clicks.\n",
              "          quickchartButtonEl.classList.add('colab-df-spinner');\n",
              "          try {\n",
              "            const charts = await google.colab.kernel.invokeFunction(\n",
              "                'suggestCharts', [key], {});\n",
              "          } catch (error) {\n",
              "            console.error('Error during call to suggestCharts:', error);\n",
              "          }\n",
              "          quickchartButtonEl.classList.remove('colab-df-spinner');\n",
              "          quickchartButtonEl.classList.add('colab-df-quickchart-complete');\n",
              "        }\n",
              "        (() => {\n",
              "          let quickchartButtonEl =\n",
              "            document.querySelector('#df-b8e0a7a3-9569-4bb1-b724-57f7420779e4 button');\n",
              "          quickchartButtonEl.style.display =\n",
              "            google.colab.kernel.accessAllowed ? 'block' : 'none';\n",
              "        })();\n",
              "      </script>\n",
              "    </div>\n",
              "\n",
              "    </div>\n",
              "  </div>\n"
            ],
            "application/vnd.google.colaboratory.intrinsic+json": {
              "type": "dataframe",
              "summary": "{\n  \"name\": \"display(outlier_df[['Split', 'Gloss', 'Video file', 'Frames', 'Z-Score']])\",\n  \"rows\": 117,\n  \"fields\": [\n    {\n      \"column\": \"Split\",\n      \"properties\": {\n        \"dtype\": \"category\",\n        \"num_unique_values\": 2,\n        \"samples\": [\n          \"test\",\n          \"train\"\n        ],\n        \"semantic_type\": \"\",\n        \"description\": \"\"\n      }\n    },\n    {\n      \"column\": \"Gloss\",\n      \"properties\": {\n        \"dtype\": \"string\",\n        \"num_unique_values\": 112,\n        \"samples\": [\n          \"CRY4\",\n          \"US\"\n        ],\n        \"semantic_type\": \"\",\n        \"description\": \"\"\n      }\n    },\n    {\n      \"column\": \"Video file\",\n      \"properties\": {\n        \"dtype\": \"string\",\n        \"num_unique_values\": 117,\n        \"samples\": [\n          \"055732368427704904-COME.mp4\",\n          \"8335625687320589-BUT.mp4\"\n        ],\n        \"semantic_type\": \"\",\n        \"description\": \"\"\n      }\n    },\n    {\n      \"column\": \"Frames\",\n      \"properties\": {\n        \"dtype\": \"number\",\n        \"std\": 54,\n        \"min\": 12,\n        \"max\": 387,\n        \"num_unique_values\": 78,\n        \"samples\": [\n          107,\n          91\n        ],\n        \"semantic_type\": \"\",\n        \"description\": \"\"\n      }\n    },\n    {\n      \"column\": \"Z-Score\",\n      \"properties\": {\n        \"dtype\": \"number\",\n        \"std\": 0.7932917121683296,\n        \"min\": -2.3442662126174416,\n        \"max\": 4.424850207979624,\n        \"num_unique_values\": 117,\n        \"samples\": [\n          3.4234325873321074,\n          2.2597658217023424\n        ],\n        \"semantic_type\": \"\",\n        \"description\": \"\"\n      }\n    }\n  ]\n}"
            }
          },
          "metadata": {}
        }
      ]
    },
    {
      "cell_type": "code",
      "source": [
        "import os\n",
        "import dropbox\n",
        "from pathlib import Path\n",
        "\n",
        "# === CONFIG ===\n",
        "DROPBOX_ACCESS_TOKEN = \"sl.u.AFvPOA9BsaxGz8na17DzNOq-BOmm6cJjus70Ktx5Mph2CDZMJY_ehy0pzRapWt8UHdofn3Dg1SIhfRNbHcggKGYOPIBWWAB2b_8c-yRGCUEIVKJTJoQyy_NdKTJ_PXCgg7ruGaYC2YpzGmUWZ27RB_sny5YYHwTR1i2o4RIIlP3xNU2c0P3H8Z3bDl5xlDuTZJ5O6Q8ZT3dtJFNPlkUZxlO8p-fR5euXGyaA_iNwJfS8eD6K1tFu9yEZzDzti6XukTnHQLu9iV_MztYicbGr9r1GiAYuL7nAGi9FTb02I_V6IV8GrPC4f85QJ_u87ltKOITprGUheztqPP-leIv3ZHaunVQYz5tcCrFD08RJ9-Gtu7e8xgcTBDw6bbH3d27XyDqPgjrcdG96iOFGLCx7rLkrT5NQsQQDfbCal-QAcRQdccuAQ3Wk3ALnaEHVJP0Mb3R0DcemXWDyvp4NhtoGvh-IyBHgWkHJAN3gaMWfPyUtn29rARYkbVXHpXl8xAHVnO2zfCIjlA0Uyv4NrpJ_40VPHErR24hlN1VK9d6eVELOXDTU-usEqpF1YTJPi_iSUuXfnRPal3DTx9FfsoTvKfo69s0LlDOWcTvD7JZzY60pKLcvmmZkCmwYrAHl_mwMbLGKt-xM5rnGUQTsfEfdpWgeKoIvMbUz797QBR2RZVhyqFNCGdq-dz2c4ahkkrSvDR46yfky6yYDX6-zQCcAdwa0Owv7G8s2Aj2sgfuuYF5POilXvVZah7645aGyN65mLir1rJSgY2ChDaD9O8uBRFsqIHFHO189O8X6xWrgMLklcQxYY7yS36mVpwmHQ4wLCFANHdVexgkJC3OC4okMn2kq3QYnNBOrieDQaK88vc2zY0LPoNsPJPxuqKA0IYtq9wCbBwNDYf8xj0uRm-EHdIK4LZlracE7ObTMvF67fL4eruLKykO8u3NINEgoAHUpfxQXyHiOczFKDjyrCdBfCjqymzbymuSASae04XqiDlfs-xbgnd_sKCT3SXRblP8jcRRqqtJxcfYRz-jpau0S570TpSbhlDL-y6DA6nOsuMzcNHdOxkCr6emjoDYbXULDXd2xIb9TR2FPzlPzmv9oHEwltOL9BQv5R9BZdLEacDYn0EJ_jVOLF_hp9fRfhGWZKt9wxvZm5tXEWTo4GAsduiLShAtG1AriqEAl_CFswR34YjDWuALlqA1ZELXIXJT0CKkgtZk6ZP2uIzsoC-RrISDfHVj3n8UsKLZJ5CIQ8MXpoDHN-KzWSIOcXRzoIgyx0jVYoI4pY1yEUvFx08k-F9U8QepkyD9uXpeKZL452SChxCPRUP3VfZghT0RMSzBbT9M3QzhCJE2oixWrM1FzNSqw_NL7v_ub6Q5pIMcRhPTx3wyvzYRLMVjderir5CsIgqea0SFVWuO1jcHJ6FcooeyUEnhABWWRrv0YvqcPXieXxQ\"  # Replace with your valid token\n",
        "DROPBOX_ROOT = \"/ASL_trimmed\"  # Your Dropbox root folder structure\n",
        "SAVE_BASE_DIR = \"/content/drive/MyDrive/ASL Project/outlier_videos\"\n",
        "\n",
        "# === SETUP ===\n",
        "dbx = dropbox.Dropbox(DROPBOX_ACCESS_TOKEN)\n",
        "dbx.users_get_current_account()\n",
        "Path(SAVE_BASE_DIR).mkdir(parents=True, exist_ok=True)\n",
        "\n",
        "# === HELPER ===\n",
        "def save_from_dropbox(dropbox_path, save_path):\n",
        "    try:\n",
        "        metadata, res = dbx.files_download(dropbox_path)\n",
        "        with open(save_path, \"wb\") as f:\n",
        "            f.write(res.content)\n",
        "        print(f\"✅ Saved: {save_path}\")\n",
        "    except Exception as e:\n",
        "        print(f\"❌ Failed to save {dropbox_path}: {e}\")\n",
        "\n",
        "# === SAVE VIDEOS FROM outlier_df ===\n",
        "for _, row in outlier_df.iterrows():\n",
        "    split = row['Split']\n",
        "    video_file = row['Video file']\n",
        "\n",
        "    dropbox_path = f\"{DROPBOX_ROOT}/{split}/{video_file}\"\n",
        "    save_dir = os.path.join(SAVE_BASE_DIR, split)\n",
        "    os.makedirs(save_dir, exist_ok=True)\n",
        "    save_path = os.path.join(save_dir, video_file)\n",
        "\n",
        "    save_from_dropbox(dropbox_path, save_path)\n"
      ],
      "metadata": {
        "colab": {
          "base_uri": "https://localhost:8080/"
        },
        "id": "CwEdOufIIONn",
        "outputId": "b3051161-7604-4c2d-ce1d-a90b070a9712"
      },
      "execution_count": null,
      "outputs": [
        {
          "output_type": "stream",
          "name": "stdout",
          "text": [
            "✅ Saved: /content/drive/MyDrive/ASL Project/outlier_videos/train/654679171689897-APPLE.mp4\n",
            "✅ Saved: /content/drive/MyDrive/ASL Project/outlier_videos/train/5346957049353451-WE.mp4\n",
            "✅ Saved: /content/drive/MyDrive/ASL Project/outlier_videos/train/3845231217942484-FRIEND.mp4\n",
            "✅ Saved: /content/drive/MyDrive/ASL Project/outlier_videos/train/27759670594914465-CAR.mp4\n",
            "✅ Saved: /content/drive/MyDrive/ASL Project/outlier_videos/train/8335625687320589-BUT.mp4\n",
            "✅ Saved: /content/drive/MyDrive/ASL Project/outlier_videos/train/6776054154751192-CUT 1.mp4\n",
            "✅ Saved: /content/drive/MyDrive/ASL Project/outlier_videos/train/014399429252126783-OVER.mp4\n",
            "✅ Saved: /content/drive/MyDrive/ASL Project/outlier_videos/train/4665161320096789-THERE.mp4\n",
            "✅ Saved: /content/drive/MyDrive/ASL Project/outlier_videos/train/8533448692981274-CAN 2.mp4\n",
            "✅ Saved: /content/drive/MyDrive/ASL Project/outlier_videos/train/5395009645630173-BECAUSE.mp4\n",
            "✅ Saved: /content/drive/MyDrive/ASL Project/outlier_videos/train/3162310724287807-HIS.mp4\n",
            "✅ Saved: /content/drive/MyDrive/ASL Project/outlier_videos/train/3250233036968666-DOG.mp4\n",
            "✅ Saved: /content/drive/MyDrive/ASL Project/outlier_videos/train/8095655324161697-BED.mp4\n",
            "✅ Saved: /content/drive/MyDrive/ASL Project/outlier_videos/train/2550058561972437-CHAIR.mp4\n",
            "✅ Saved: /content/drive/MyDrive/ASL Project/outlier_videos/train/9116897977316643-IF.mp4\n",
            "✅ Saved: /content/drive/MyDrive/ASL Project/outlier_videos/train/5648363198357482-ARM 2.mp4\n",
            "✅ Saved: /content/drive/MyDrive/ASL Project/outlier_videos/train/3732020617815419-WITH.mp4\n",
            "✅ Saved: /content/drive/MyDrive/ASL Project/outlier_videos/train/7560299004122213-DOG 3.mp4\n",
            "✅ Saved: /content/drive/MyDrive/ASL Project/outlier_videos/train/5010987691531066-ARRIVE.mp4\n",
            "✅ Saved: /content/drive/MyDrive/ASL Project/outlier_videos/train/4912279937692121-WANT.mp4\n",
            "✅ Saved: /content/drive/MyDrive/ASL Project/outlier_videos/train/3528769917926853-AFTER.mp4\n",
            "✅ Saved: /content/drive/MyDrive/ASL Project/outlier_videos/train/3950389219300785-PEOPLE.mp4\n",
            "✅ Saved: /content/drive/MyDrive/ASL Project/outlier_videos/train/9434616943387211-DANCE.mp4\n",
            "✅ Saved: /content/drive/MyDrive/ASL Project/outlier_videos/train/21788059703071405-FOR.mp4\n",
            "✅ Saved: /content/drive/MyDrive/ASL Project/outlier_videos/train/5309657970849855-NO.mp4\n",
            "✅ Saved: /content/drive/MyDrive/ASL Project/outlier_videos/train/46716183443978054-DECIDE.mp4\n",
            "✅ Saved: /content/drive/MyDrive/ASL Project/outlier_videos/train/19958109281644143-WANT 2.mp4\n",
            "✅ Saved: /content/drive/MyDrive/ASL Project/outlier_videos/train/815211667786385-DREAM.mp4\n",
            "✅ Saved: /content/drive/MyDrive/ASL Project/outlier_videos/train/35685665490030827-MAKE.mp4\n",
            "✅ Saved: /content/drive/MyDrive/ASL Project/outlier_videos/train/41092589478033603-GET.mp4\n",
            "✅ Saved: /content/drive/MyDrive/ASL Project/outlier_videos/train/9328642600089894-FIRST.mp4\n",
            "✅ Saved: /content/drive/MyDrive/ASL Project/outlier_videos/train/7924736335453846-YOU.mp4\n",
            "✅ Saved: /content/drive/MyDrive/ASL Project/outlier_videos/train/6366246076484883-ME.mp4\n",
            "✅ Saved: /content/drive/MyDrive/ASL Project/outlier_videos/train/8779458776112159-COOK.mp4\n",
            "✅ Saved: /content/drive/MyDrive/ASL Project/outlier_videos/train/5216403614173517-BASKET 2.mp4\n",
            "✅ Saved: /content/drive/MyDrive/ASL Project/outlier_videos/train/7188630671751595-ALL.mp4\n",
            "✅ Saved: /content/drive/MyDrive/ASL Project/outlier_videos/train/5398924866279164-PEOPLE.mp4\n",
            "✅ Saved: /content/drive/MyDrive/ASL Project/outlier_videos/train/6417802100169052-CANCEL.mp4\n",
            "✅ Saved: /content/drive/MyDrive/ASL Project/outlier_videos/train/5537984819397639-BELIEVE 2.mp4\n",
            "✅ Saved: /content/drive/MyDrive/ASL Project/outlier_videos/train/11077818738004175-TO.mp4\n",
            "✅ Saved: /content/drive/MyDrive/ASL Project/outlier_videos/train/7699503992300363-BED 2.mp4\n",
            "✅ Saved: /content/drive/MyDrive/ASL Project/outlier_videos/train/6517130075174709-CRY 3.mp4\n",
            "✅ Saved: /content/drive/MyDrive/ASL Project/outlier_videos/train/16629744901108845-THINK.mp4\n",
            "✅ Saved: /content/drive/MyDrive/ASL Project/outlier_videos/train/600407709572452-WHAT 2.mp4\n",
            "✅ Saved: /content/drive/MyDrive/ASL Project/outlier_videos/train/055732368427704904-COME.mp4\n",
            "✅ Saved: /content/drive/MyDrive/ASL Project/outlier_videos/train/13686968360481266-ADOPT.mp4\n",
            "✅ Saved: /content/drive/MyDrive/ASL Project/outlier_videos/train/7018929145658066-BANANA 4.mp4\n",
            "✅ Saved: /content/drive/MyDrive/ASL Project/outlier_videos/train/4874922733327143-BELIEVE.mp4\n",
            "✅ Saved: /content/drive/MyDrive/ASL Project/outlier_videos/train/45496556401826393-MY.mp4\n",
            "✅ Saved: /content/drive/MyDrive/ASL Project/outlier_videos/train/11906487084985518-ABOUT 2.mp4\n",
            "✅ Saved: /content/drive/MyDrive/ASL Project/outlier_videos/train/7290227249431431-YOUR.mp4\n",
            "✅ Saved: /content/drive/MyDrive/ASL Project/outlier_videos/train/9050952764256053-IN.mp4\n",
            "✅ Saved: /content/drive/MyDrive/ASL Project/outlier_videos/train/15613180861648712-ACCEPT.mp4\n",
            "✅ Saved: /content/drive/MyDrive/ASL Project/outlier_videos/train/5739046320667345-ONE.mp4\n",
            "✅ Saved: /content/drive/MyDrive/ASL Project/outlier_videos/train/5176992731592229-NOT.mp4\n",
            "✅ Saved: /content/drive/MyDrive/ASL Project/outlier_videos/train/71363394216049-HE.mp4\n",
            "✅ Saved: /content/drive/MyDrive/ASL Project/outlier_videos/train/9182841358114713-CLEAN.mp4\n",
            "✅ Saved: /content/drive/MyDrive/ASL Project/outlier_videos/train/5018086720482857-ADD.mp4\n",
            "✅ Saved: /content/drive/MyDrive/ASL Project/outlier_videos/train/30382614404841557-ARM.mp4\n",
            "✅ Saved: /content/drive/MyDrive/ASL Project/outlier_videos/train/5845121089874201-WHEN.mp4\n",
            "✅ Saved: /content/drive/MyDrive/ASL Project/outlier_videos/train/867052190431427-ANY.mp4\n",
            "✅ Saved: /content/drive/MyDrive/ASL Project/outlier_videos/train/7590933213177857-THEN.mp4\n",
            "✅ Saved: /content/drive/MyDrive/ASL Project/outlier_videos/train/8190388557778636-OUR.mp4\n",
            "✅ Saved: /content/drive/MyDrive/ASL Project/outlier_videos/train/035028284758514605-THAN.mp4\n",
            "✅ Saved: /content/drive/MyDrive/ASL Project/outlier_videos/train/44214595315415406-BACKPACK.mp4\n",
            "✅ Saved: /content/drive/MyDrive/ASL Project/outlier_videos/train/683015360712729-BANANA 2.mp4\n",
            "✅ Saved: /content/drive/MyDrive/ASL Project/outlier_videos/train/8604707601521446-US.mp4\n",
            "✅ Saved: /content/drive/MyDrive/ASL Project/outlier_videos/train/800208464786724-CRY 2.mp4\n",
            "✅ Saved: /content/drive/MyDrive/ASL Project/outlier_videos/train/21073681714343873-CITY 2.mp4\n",
            "✅ Saved: /content/drive/MyDrive/ASL Project/outlier_videos/train/7545351964314084-BANANA 3.mp4\n",
            "✅ Saved: /content/drive/MyDrive/ASL Project/outlier_videos/train/252084110246515-ARM 3.mp4\n",
            "✅ Saved: /content/drive/MyDrive/ASL Project/outlier_videos/train/896296654107809-CAT 3.mp4\n",
            "✅ Saved: /content/drive/MyDrive/ASL Project/outlier_videos/train/6445699135022072-HOW.mp4\n",
            "✅ Saved: /content/drive/MyDrive/ASL Project/outlier_videos/train/5576697775514508-DECIDE 2.mp4\n",
            "✅ Saved: /content/drive/MyDrive/ASL Project/outlier_videos/train/8691068748116906-GIVE.mp4\n",
            "✅ Saved: /content/drive/MyDrive/ASL Project/outlier_videos/train/19632033474430832-BIRD.mp4\n",
            "✅ Saved: /content/drive/MyDrive/ASL Project/outlier_videos/train/12547377142602878-DOOR.mp4\n",
            "✅ Saved: /content/drive/MyDrive/ASL Project/outlier_videos/train/38496706091783506-DAY.mp4\n",
            "✅ Saved: /content/drive/MyDrive/ASL Project/outlier_videos/train/41458666491716034-HAVE.mp4\n",
            "✅ Saved: /content/drive/MyDrive/ASL Project/outlier_videos/train/9468049272199688-ASK.mp4\n",
            "✅ Saved: /content/drive/MyDrive/ASL Project/outlier_videos/train/043686703964957996-TIME.mp4\n",
            "✅ Saved: /content/drive/MyDrive/ASL Project/outlier_videos/train/47287560600523637-BAKE 2.mp4\n",
            "✅ Saved: /content/drive/MyDrive/ASL Project/outlier_videos/train/0867127865649342-YEAR.mp4\n",
            "✅ Saved: /content/drive/MyDrive/ASL Project/outlier_videos/train/05073186101305538-WHO.mp4\n",
            "✅ Saved: /content/drive/MyDrive/ASL Project/outlier_videos/train/4178617202433328-TWO.mp4\n",
            "✅ Saved: /content/drive/MyDrive/ASL Project/outlier_videos/train/2809519243803431-THAT.mp4\n",
            "✅ Saved: /content/drive/MyDrive/ASL Project/outlier_videos/train/3097588171602712-DOG 2.mp4\n",
            "✅ Saved: /content/drive/MyDrive/ASL Project/outlier_videos/train/08400889901640274-DRAW.mp4\n",
            "✅ Saved: /content/drive/MyDrive/ASL Project/outlier_videos/train/6918820606559586-BASKET 1.mp4\n",
            "✅ Saved: /content/drive/MyDrive/ASL Project/outlier_videos/train/5252329983237267-CARRY.mp4\n",
            "✅ Saved: /content/drive/MyDrive/ASL Project/outlier_videos/train/18023097987167058-CRY 4.mp4\n",
            "✅ Saved: /content/drive/MyDrive/ASL Project/outlier_videos/train/6496045691880019-HOW 2.mp4\n",
            "✅ Saved: /content/drive/MyDrive/ASL Project/outlier_videos/train/6413246082157755-BRING.mp4\n",
            "✅ Saved: /content/drive/MyDrive/ASL Project/outlier_videos/train/42464010618997516-SEE.mp4\n",
            "✅ Saved: /content/drive/MyDrive/ASL Project/outlier_videos/train/3011563935397368-COMPUTER.mp4\n",
            "✅ Saved: /content/drive/MyDrive/ASL Project/outlier_videos/train/7790822021891515-BAKE 1.mp4\n",
            "✅ Saved: /content/drive/MyDrive/ASL Project/outlier_videos/train/18644768075152318-OTHER.mp4\n",
            "✅ Saved: /content/drive/MyDrive/ASL Project/outlier_videos/train/34632549970095217-CAT 2.mp4\n",
            "✅ Saved: /content/drive/MyDrive/ASL Project/outlier_videos/train/23804692231957736-ANY.mp4\n",
            "✅ Saved: /content/drive/MyDrive/ASL Project/outlier_videos/train/19919906882131388-seedCLASS.mp4\n",
            "✅ Saved: /content/drive/MyDrive/ASL Project/outlier_videos/train/10255956777193664-seedFROM.mp4\n",
            "✅ Saved: /content/drive/MyDrive/ASL Project/outlier_videos/train/6866209503293914-seedUP.mp4\n",
            "✅ Saved: /content/drive/MyDrive/ASL Project/outlier_videos/train/3545135145644047-seedONE.mp4\n",
            "✅ Saved: /content/drive/MyDrive/ASL Project/outlier_videos/train/9892417590385312-seedHE.mp4\n",
            "✅ Saved: /content/drive/MyDrive/ASL Project/outlier_videos/train/8770278064818091-seedSOME.mp4\n",
            "✅ Saved: /content/drive/MyDrive/ASL Project/outlier_videos/train/40443988565760036-seedWORK.mp4\n",
            "✅ Saved: /content/drive/MyDrive/ASL Project/outlier_videos/train/4864182740964922-seedBASEMENT.mp4\n",
            "✅ Saved: /content/drive/MyDrive/ASL Project/outlier_videos/train/42487226551335255-seedAND.mp4\n",
            "✅ Saved: /content/drive/MyDrive/ASL Project/outlier_videos/train/6589842343221302-seedKNOW.mp4\n",
            "✅ Saved: /content/drive/MyDrive/ASL Project/outlier_videos/train/9390713749411694-seedTHEY.mp4\n",
            "✅ Saved: /content/drive/MyDrive/ASL Project/outlier_videos/train/24588321216834763-seedUSE.mp4\n",
            "✅ Saved: /content/drive/MyDrive/ASL Project/outlier_videos/train/7642911134092343-seedGO.mp4\n",
            "✅ Saved: /content/drive/MyDrive/ASL Project/outlier_videos/train/07598746238490839-seedBACK.mp4\n",
            "✅ Saved: /content/drive/MyDrive/ASL Project/outlier_videos/train/6279791767383083-seedAT.mp4\n",
            "✅ Saved: /content/drive/MyDrive/ASL Project/outlier_videos/train/8143899247512181-seedTAKE.mp4\n",
            "✅ Saved: /content/drive/MyDrive/ASL Project/outlier_videos/test/3956799216747606-AND.mp4\n",
            "✅ Saved: /content/drive/MyDrive/ASL Project/outlier_videos/test/3257547670297929-BUY.mp4\n"
          ]
        }
      ]
    }
  ]
}