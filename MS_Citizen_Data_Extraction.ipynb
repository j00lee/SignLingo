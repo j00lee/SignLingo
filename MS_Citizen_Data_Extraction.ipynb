{
  "nbformat": 4,
  "nbformat_minor": 0,
  "metadata": {
    "colab": {
      "provenance": [],
      "include_colab_link": true
    },
    "kernelspec": {
      "name": "python3",
      "display_name": "Python 3"
    },
    "language_info": {
      "name": "python"
    }
  },
  "cells": [
    {
      "cell_type": "markdown",
      "metadata": {
        "id": "view-in-github",
        "colab_type": "text"
      },
      "source": [
        "<a href=\"https://colab.research.google.com/github/j00lee/SignLingo/blob/main/MS_Citizen_Data_Extraction.ipynb\" target=\"_parent\"><img src=\"https://colab.research.google.com/assets/colab-badge.svg\" alt=\"Open In Colab\"/></a>"
      ]
    },
    {
      "cell_type": "markdown",
      "source": [
        "# Setting up Google Drive Access"
      ],
      "metadata": {
        "id": "yWGlx6pWBPCt"
      }
    },
    {
      "cell_type": "code",
      "execution_count": null,
      "metadata": {
        "colab": {
          "base_uri": "https://localhost:8080/"
        },
        "id": "RdXP8P5lBFMD",
        "outputId": "87f47fbe-4f01-48c3-95f4-f72cb49ac38e"
      },
      "outputs": [
        {
          "output_type": "stream",
          "name": "stdout",
          "text": [
            "Mounted at /content/drive\n"
          ]
        }
      ],
      "source": [
        "# Set up Google Drive access\n",
        "from google.colab import drive\n",
        "drive.mount('/content/drive')"
      ]
    },
    {
      "cell_type": "markdown",
      "source": [
        "# Processing the Videos"
      ],
      "metadata": {
        "id": "fyn58gO5vqsA"
      }
    },
    {
      "cell_type": "code",
      "source": [
        "import cv2\n",
        "import os\n",
        "from multiprocessing import Pool\n",
        "from tqdm import tqdm"
      ],
      "metadata": {
        "id": "2HvD63zsDyEe"
      },
      "execution_count": null,
      "outputs": []
    },
    {
      "cell_type": "code",
      "source": [
        "# These are the paths\n",
        "videos_path = '/content/drive/MyDrive/videos'\n",
        "frames_output_path = '/content/drive/MyDrive/frames'\n",
        "\n",
        "# Create the frames output folder if it doesn't exist\n",
        "os.makedirs(frames_output_path, exist_ok=True)\n",
        "\n",
        "# How often to take a frame\n",
        "frame_skip = 20\n",
        "\n",
        "# List all the video files\n",
        "video_files = [f for f in os.listdir(videos_path) if f.endswith('.mp4')]\n",
        "\n",
        "# Process each video\n",
        "def process_video(video_file):\n",
        "    try:\n",
        "        video_path = os.path.join(videos_path, video_file)\n",
        "\n",
        "        # Create a folder for this video's frames\n",
        "        video_name = os.path.splitext(video_file)[0]\n",
        "        video_frames_folder = os.path.join(frames_output_path, video_name)\n",
        "        os.makedirs(video_frames_folder, exist_ok=True)\n",
        "\n",
        "        cap = cv2.VideoCapture(video_path)\n",
        "        frame_idx = 0\n",
        "        saved_idx = 0\n",
        "\n",
        "        while cap.isOpened():\n",
        "            ret, frame = cap.read()\n",
        "            if not ret:\n",
        "                break\n",
        "\n",
        "            if frame_idx % frame_skip == 0:\n",
        "                # Optional resize\n",
        "                # frame = cv2.resize(frame, resize_shape)\n",
        "\n",
        "                frame_filename = os.path.join(video_frames_folder, f'frame_{saved_idx:04d}.jpg')\n",
        "                cv2.imwrite(frame_filename, frame)\n",
        "                saved_idx += 1\n",
        "\n",
        "            frame_idx += 1\n",
        "\n",
        "        cap.release()\n",
        "\n",
        "    except Exception as e:\n",
        "        print(f\"Failed processing {video_file}: {e}\")\n",
        "\n",
        "# Number of processes (workers)\n",
        "num_workers = 4\n",
        "\n",
        "# Start multiprocessing pool\n",
        "with Pool(num_workers) as p:\n",
        "    list(tqdm(p.imap_unordered(process_video, video_files), total=len(video_files)))\n"
      ],
      "metadata": {
        "id": "xAAqri4ev0GW",
        "colab": {
          "base_uri": "https://localhost:8080/"
        },
        "outputId": "d3574326-ab46-46ee-ba6b-1cae5fbd06bd"
      },
      "execution_count": null,
      "outputs": [
        {
          "output_type": "stream",
          "name": "stderr",
          "text": [
            "100%|██████████| 83399/83399 [6:42:55<00:00,  3.45it/s]\n"
          ]
        }
      ]
    },
    {
      "cell_type": "markdown",
      "source": [
        "# Making the train, val, test splits"
      ],
      "metadata": {
        "id": "a5sUulPKWmy5"
      }
    },
    {
      "cell_type": "code",
      "source": [
        "import os\n",
        "import shutil\n",
        "import pandas as pd\n",
        "from tqdm import tqdm\n",
        "from multiprocessing import Pool\n",
        "\n",
        "# Paths\n",
        "frames_root = '/content/drive/MyDrive/frames'\n",
        "dataset_root = '/content/drive/MyDrive/dataset'\n",
        "os.makedirs(dataset_root, exist_ok=True)\n",
        "\n",
        "# Create subfolders\n",
        "splits = ['train', 'val', 'test']\n",
        "for split in splits:\n",
        "    os.makedirs(os.path.join(dataset_root, split), exist_ok=True)\n",
        "\n",
        "# Load CSVs\n",
        "train_videos = pd.read_csv('/content/drive/MyDrive/splits/train.csv')\n",
        "val_videos = pd.read_csv('/content/drive/MyDrive/splits/val.csv')\n",
        "test_videos = pd.read_csv('/content/drive/MyDrive/splits/test.csv')\n",
        "\n",
        "# Get clean video lists (remove .mp4)\n",
        "train_list = [os.path.splitext(x)[0] for x in train_videos['Video file'].tolist()]\n",
        "val_list = [os.path.splitext(x)[0] for x in val_videos['Video file'].tolist()]\n",
        "test_list = [os.path.splitext(x)[0] for x in test_videos['Video file'].tolist()]\n",
        "\n",
        "# Prepare (video_name, split_name) pairs\n",
        "all_videos = [(v, 'train') for v in train_list] + \\\n",
        "             [(v, 'val') for v in val_list] + \\\n",
        "             [(v, 'test') for v in test_list]\n",
        "\n",
        "# Function to move/copy a single video folder\n",
        "def move_single_video(args):\n",
        "    video_name, split_name = args\n",
        "    src = os.path.join(frames_root, video_name)\n",
        "    dst = os.path.join(dataset_root, split_name, video_name)\n",
        "\n",
        "    if os.path.exists(src):\n",
        "        try:\n",
        "            shutil.copytree(src, dst)  # or shutil.move(src, dst) if you want to move\n",
        "        except Exception as e:\n",
        "            print(f\"❗ Error moving {video_name}: {e}\")\n",
        "    else:\n",
        "        print(f\"⚠️ Warning: {src} does not exist!\")\n",
        "\n",
        "# Parallel moving using multiprocessing\n",
        "num_workers = 1  # You can tune this (4, 6, 8 depending on colab/mac resources)\n",
        "\n",
        "with Pool(num_workers) as p:\n",
        "    list(tqdm(p.imap_unordered(move_single_video, all_videos), total=len(all_videos)))\n",
        "\n",
        "print(\"✅ Done splitting the dataset with multiprocessing!\")\n"
      ],
      "metadata": {
        "id": "7RaNDGgkWs4d"
      },
      "execution_count": null,
      "outputs": []
    },
    {
      "cell_type": "code",
      "source": [
        "import os\n",
        "import shutil\n",
        "import pandas as pd\n",
        "from tqdm import tqdm\n",
        "from multiprocessing import Pool\n",
        "\n",
        "# === STEP 1: Mount Google Drive\n",
        "from google.colab import drive\n",
        "drive.mount('/content/drive')\n",
        "\n",
        "# === STEP 2: Copy frames from Drive to Colab local disk (/content/frames_local)\n",
        "print(\"📂 Copying frames from Drive to local disk...\")\n",
        "!mkdir -p /content/frames_local\n",
        "\n",
        "source_root = '/content/drive/MyDrive/frames'\n",
        "dest_root = '/content/frames_local'\n",
        "\n",
        "# Create destination folder if not exists\n",
        "os.makedirs(dest_root, exist_ok=True)\n",
        "\n",
        "# List all folders in frames/\n",
        "frame_folders = os.listdir(source_root)\n",
        "\n",
        "# Copy each folder one by one (with progress bar)\n",
        "for folder in tqdm(frame_folders, desc=\"Copying folders to local disk\"):\n",
        "    src_folder = os.path.join(source_root, folder)\n",
        "    dst_folder = os.path.join(dest_root, folder)\n",
        "\n",
        "    if os.path.isdir(src_folder):\n",
        "        try:\n",
        "            shutil.copytree(src_folder, dst_folder)\n",
        "        except Exception as e:\n",
        "            print(f\"Error copying {folder}: {e}\")\n"
      ],
      "metadata": {
        "colab": {
          "base_uri": "https://localhost:8080/"
        },
        "id": "8CfbAoUSuTP9",
        "outputId": "c711deb8-3824-4932-ef37-210eeadd1dc3"
      },
      "execution_count": null,
      "outputs": [
        {
          "output_type": "stream",
          "name": "stdout",
          "text": [
            "Drive already mounted at /content/drive; to attempt to forcibly remount, call drive.mount(\"/content/drive\", force_remount=True).\n",
            "📂 Copying frames from Drive to local disk...\n"
          ]
        },
        {
          "output_type": "stream",
          "name": "stderr",
          "text": [
            "Copying folders to local disk:  29%|██▉       | 23989/83399 [01:44<00:46, 1268.48it/s]"
          ]
        },
        {
          "output_type": "stream",
          "name": "stdout",
          "text": [
            "Error copying 8035548352616286-SODA: [('/content/drive/MyDrive/frames/8035548352616286-SODA/frame_0003.jpg', '/content/frames_local/8035548352616286-SODA/frame_0003.jpg', '[Errno 107] Transport endpoint is not connected'), ('/content/drive/MyDrive/frames/8035548352616286-SODA/frame_0004.jpg', '/content/frames_local/8035548352616286-SODA/frame_0004.jpg', \"[Errno 107] Transport endpoint is not connected: '/content/drive/MyDrive/frames/8035548352616286-SODA/frame_0004.jpg'\"), ('/content/drive/MyDrive/frames/8035548352616286-SODA', '/content/frames_local/8035548352616286-SODA', \"[Errno 107] Transport endpoint is not connected: '/content/drive/MyDrive/frames/8035548352616286-SODA'\")]\n"
          ]
        },
        {
          "output_type": "stream",
          "name": "stderr",
          "text": [
            "Copying folders to local disk: 100%|██████████| 83399/83399 [01:45<00:00, 792.01it/s] \n"
          ]
        }
      ]
    },
    {
      "cell_type": "code",
      "source": [
        "drive.flush_and_unmount()\n",
        "drive.mount('/content/drive')"
      ],
      "metadata": {
        "colab": {
          "base_uri": "https://localhost:8080/"
        },
        "id": "x8amhe3dwlVi",
        "outputId": "3af11594-78f2-4060-ee31-4dceb7a860a6"
      },
      "execution_count": null,
      "outputs": [
        {
          "output_type": "stream",
          "name": "stdout",
          "text": [
            "Mounted at /content/drive\n"
          ]
        }
      ]
    },
    {
      "cell_type": "code",
      "source": [
        "# === STEP 3: Setup local working paths\n",
        "frames_root = '/content/frames_local'\n",
        "dataset_root = '/content/dataset'  # Local directory for processing\n",
        "\n",
        "# Create train/val/test folders\n",
        "for split in ['train', 'val', 'test']:\n",
        "    os.makedirs(os.path.join(dataset_root, split), exist_ok=True)\n",
        "\n",
        "# === STEP 4: Load CSVs\n",
        "train_videos = pd.read_csv('/content/drive/MyDrive/splits/train.csv')\n",
        "val_videos = pd.read_csv('/content/drive/MyDrive/splits/val.csv')\n",
        "test_videos = pd.read_csv('/content/drive/MyDrive/splits/test.csv')\n",
        "\n",
        "# Get video lists (remove \".mp4\" extension)\n",
        "train_list = [os.path.splitext(x)[0] for x in train_videos['Video file'].tolist()]\n",
        "val_list = [os.path.splitext(x)[0] for x in val_videos['Video file'].tolist()]\n",
        "test_list = [os.path.splitext(x)[0] for x in test_videos['Video file'].tolist()]\n",
        "\n",
        "# All videos to process\n",
        "all_videos = [(v, 'train') for v in train_list] + \\\n",
        "             [(v, 'val') for v in val_list] + \\\n",
        "             [(v, 'test') for v in test_list]\n",
        "\n",
        "# === STEP 5: Move each video folder locally\n",
        "# Add missing counter\n",
        "from multiprocessing import Value, Lock\n",
        "\n",
        "missing_counter = Value('i', 0)  # Shared counter across processes\n",
        "counter_lock = Lock()\n",
        "\n",
        "def move_single_video(args):\n",
        "    video_name, split_name = args\n",
        "    src = os.path.join(frames_root, video_name)\n",
        "    dst = os.path.join(dataset_root, split_name, video_name)\n",
        "\n",
        "    if os.path.exists(src):\n",
        "        try:\n",
        "            shutil.copytree(src, dst)\n",
        "        except Exception as e:\n",
        "            print(f\"❗ Error moving {video_name}: {e}\")\n",
        "    else:\n",
        "        print(f\"⚠️ Warning: {src} does not exist!\")\n",
        "        with counter_lock:\n",
        "            missing_counter.value += 1\n",
        "\n",
        "# Multiprocessing copy with few workers (safe for local disk)\n",
        "print(\"🚀 Splitting dataset into train/val/test on local disk...\")\n",
        "num_workers = 2\n",
        "\n",
        "with Pool(num_workers) as p:\n",
        "    list(tqdm(p.imap_unordered(move_single_video, all_videos), total=len(all_videos)))\n",
        "\n",
        "# === NEW: After moving, report how many missing\n",
        "print(f\"⚡ Total missing videos: {missing_counter.value}\")\n",
        "\n",
        "print(\"✅ Done splitting dataset locally!\")\n",
        "\n",
        "# === STEP 6: Zip each split folder\n",
        "print(\"📦 Zipping train/val/test folders...\")\n",
        "for split in ['train', 'val', 'test']:\n",
        "    split_path = os.path.join(dataset_root, split)\n",
        "    zip_path = f'/content/{split}.zip'\n",
        "    shutil.make_archive(base_name=zip_path.replace('.zip', ''), format='zip', root_dir=split_path)\n",
        "    print(f\"✅ Zipped {split}\")\n",
        "\n",
        "# === STEP 7: Create destination folder on Drive if needed\n",
        "!mkdir -p /content/drive/MyDrive/dataset_zips\n",
        "\n",
        "# === STEP 8: Move zipped files back to Google Drive\n",
        "print(\"⬆️ Uploading zipped splits back to Google Drive...\")\n",
        "!mv /content/train.zip /content/drive/MyDrive/dataset_zips/train.zip\n",
        "!mv /content/val.zip /content/drive/MyDrive/dataset_zips/val.zip\n",
        "!mv /content/test.zip /content/drive/MyDrive/dataset_zips/test.zip\n",
        "\n",
        "print(\"🎉 All done! Train/Val/Test splits are zipped and saved in Drive!\")"
      ],
      "metadata": {
        "colab": {
          "base_uri": "https://localhost:8080/",
          "height": 1000
        },
        "id": "xR2JM5-qvmM9",
        "outputId": "8250c324-09e4-40e1-d931-c1d2020307ef"
      },
      "execution_count": null,
      "outputs": [
        {
          "output_type": "stream",
          "name": "stdout",
          "text": [
            "🚀 Splitting dataset into train/val/test on local disk...\n"
          ]
        },
        {
          "output_type": "stream",
          "name": "stderr",
          "text": [
            "\r  0%|          | 0/83399 [00:00<?, ?it/s]"
          ]
        },
        {
          "output_type": "stream",
          "name": "stdout",
          "text": [
            "⚠️ Warning: /content/frames_local/15890366051589533-APPLE does not exist!⚠️ Warning: /content/frames_local/35618482303951104-IMPOSSIBLE does not exist!\n",
            "\n",
            "⚠️ Warning: /content/frames_local/8006032738002744-SOCCER 2 does not exist!⚠️ Warning: /content/frames_local/6958143575951994-PARK does not exist!\n",
            "\n",
            "⚠️ Warning: /content/frames_local/37542279833186454-STINK does not exist!⚠️ Warning: /content/frames_local/9498964909837952-ROSE does not exist!\n",
            "⚠️ Warning: /content/frames_local/9618808117704574-HUG does not exist!\n",
            "\n",
            "⚠️ Warning: /content/frames_local/15543213389651633-TUBE does not exist!⚠️ Warning: /content/frames_local/9162908944303221-COUNT does not exist!\n",
            "\n",
            "⚠️ Warning: /content/frames_local/14154575310664197-NICE does not exist!\n",
            "⚠️ Warning: /content/frames_local/996512226187074-EASY TO_DO does not exist!⚠️ Warning: /content/frames_local/0033742275375785447-INFLUENCE does not exist!\n",
            "\n"
          ]
        },
        {
          "output_type": "stream",
          "name": "stderr",
          "text": [
            "\r  0%|          | 11/83399 [00:00<12:39, 109.76it/s]"
          ]
        },
        {
          "output_type": "stream",
          "name": "stdout",
          "text": [
            "⚠️ Warning: /content/frames_local/02808154918358552-PEACOCK does not exist!⚠️ Warning: /content/frames_local/8068093518563271-CIRCUSWHEEL does not exist!\n",
            "\n",
            "⚠️ Warning: /content/frames_local/23247991626849585-GYM does not exist!\n",
            "⚠️ Warning: /content/frames_local/6652814499755777-NOSE does not exist!⚠️ Warning: /content/frames_local/20880000068819649-WEAVE does not exist!\n",
            "⚠️ Warning: /content/frames_local/13621431540213602-SMOOTH does not exist!\n",
            "\n",
            "⚠️ Warning: /content/frames_local/4520498201410337-BACKPACK does not exist!⚠️ Warning: /content/frames_local/16994877911771145-WE does not exist!\n",
            "\n",
            "⚠️ Warning: /content/frames_local/7090729284366466-DOWNHILL does not exist!⚠️ Warning: /content/frames_local/19003684436528423-JUICE 2 does not exist!\n",
            "⚠️ Warning: /content/frames_local/8221969382671432-SCOLD does not exist!\n",
            "⚠️ Warning: /content/frames_local/12338257144617781-POWDER does not exist!\n",
            "⚠️ Warning: /content/frames_local/7480838717347633-SOCIAL does not exist!\n",
            "\n",
            "⚠️ Warning: /content/frames_local/7448818785190525-CAPTURE does not exist!⚠️ Warning: /content/frames_local/6523179384259175-PULL CONVINCE does not exist!\n",
            "\n",
            "⚠️ Warning: /content/frames_local/02551571232229133-PONDER does not exist!⚠️ Warning: /content/frames_local/8643853796183107-JOKE does not exist!\n",
            "\n",
            "⚠️ Warning: /content/frames_local/8782764153522997-SOCIETY does not exist!⚠️ Warning: /content/frames_local/7316392299762329-WATERDROP does not exist!\n",
            "\n",
            "⚠️ Warning: /content/frames_local/21344274764159632-ANYONE does not exist!\n",
            "⚠️ Warning: /content/frames_local/2381384470099226-MAPLE does not exist!"
          ]
        },
        {
          "output_type": "stream",
          "name": "stderr",
          "text": [
            "\r  0%|          | 32/83399 [00:00<08:25, 164.82it/s]"
          ]
        },
        {
          "output_type": "stream",
          "name": "stdout",
          "text": [
            "⚠️ Warning: /content/frames_local/44939873429204336-CEMETERY does not exist!\n",
            "⚠️ Warning: /content/frames_local/48967843716521897-FAIL does not exist!\n",
            "\n",
            "⚠️ Warning: /content/frames_local/5670505226343947-KNIGHT does not exist!⚠️ Warning: /content/frames_local/6235541652821013-ALL OF_SUDDEN does not exist!\n",
            "⚠️ Warning: /content/frames_local/9037793072145501-TOTAL does not exist!\n",
            "\n",
            "⚠️ Warning: /content/frames_local/03909340585346133-FASHION does not exist!⚠️ Warning: /content/frames_local/9060451576078816-COOL 3 does not exist!\n",
            "⚠️ Warning: /content/frames_local/6831527585028447-LONG AGO does not exist!\n",
            "⚠️ Warning: /content/frames_local/34318091362618364-BECOME does not exist!\n",
            "\n",
            "⚠️ Warning: /content/frames_local/5266228840785678-UNCERTAIN does not exist!⚠️ Warning: /content/frames_local/001428415918161674-IMPROVE does not exist!\n",
            "\n",
            "⚠️ Warning: /content/frames_local/1676037390807208-GREET does not exist!\n",
            "⚠️ Warning: /content/frames_local/03369501517929252-PROPOSE does not exist!\n",
            "⚠️ Warning: /content/frames_local/36286598060839914-TOSS OUT does not exist!\n",
            "⚠️ Warning: /content/frames_local/42981546208191546-SQUARE does not exist!⚠️ Warning: /content/frames_local/8517954107198269-EMPTY 2 does not exist!\n",
            "\n",
            "⚠️ Warning: /content/frames_local/6508465822424006-THANK YOU does not exist!"
          ]
        },
        {
          "output_type": "stream",
          "name": "stderr",
          "text": [
            "\r  0%|          | 49/83399 [00:00<09:20, 148.73it/s]"
          ]
        },
        {
          "output_type": "stream",
          "name": "stdout",
          "text": [
            "\n",
            "⚠️ Warning: /content/frames_local/9228494689014171-PACK does not exist!\n",
            "⚠️ Warning: /content/frames_local/721478559560571-EACH OTHER does not exist!⚠️ Warning: /content/frames_local/23746553103054158-PRECIOUS does not exist!\n",
            "⚠️ Warning: /content/frames_local/7054741400093962-WILL GO does not exist!\n",
            "\n",
            "⚠️ Warning: /content/frames_local/6490408879992484-LAY DOWN does not exist!⚠️ Warning: /content/frames_local/5880724478842327-PARANOID does not exist!\n",
            "\n",
            "⚠️ Warning: /content/frames_local/7552681133614059-ALASKA does not exist!⚠️ Warning: /content/frames_local/6585783944135442-EXPERIMENT does not exist!\n",
            "\n",
            "⚠️ Warning: /content/frames_local/7721480534101262-EVERY NIGHT does not exist!⚠️ Warning: /content/frames_local/2911495969703426-GET TOGETHER does not exist!\n",
            "⚠️ Warning: /content/frames_local/7054386695414354-STORY 3 does not exist!\n",
            "\n",
            "⚠️ Warning: /content/frames_local/07792809391288658-SQUEEZE does not exist!⚠️ Warning: /content/frames_local/7958435331951532-REMOVE does not exist!\n",
            "\n",
            "⚠️ Warning: /content/frames_local/0020443210100780096-KNOCK OFF does not exist!⚠️ Warning: /content/frames_local/44178831586926837-MOSQUITO does not exist!\n",
            "⚠️ Warning: /content/frames_local/9533248897839621-BETWEEN does not exist!\n"
          ]
        },
        {
          "output_type": "stream",
          "name": "stderr",
          "text": [
            "\r  0%|          | 65/83399 [00:00<09:18, 149.18it/s]"
          ]
        },
        {
          "output_type": "stream",
          "name": "stdout",
          "text": [
            "\n",
            "⚠️ Warning: /content/frames_local/81146496428304-TOY 3 does not exist!\n",
            "⚠️ Warning: /content/frames_local/8058014641528197-SPICY does not exist!\n",
            "⚠️ Warning: /content/frames_local/008279096911288919-JEWELRY does not exist!⚠️ Warning: /content/frames_local/6743634201232205-BULLSHIT does not exist!\n",
            "\n",
            "⚠️ Warning: /content/frames_local/31263202270120893-ADVANTAGE does not exist!⚠️ Warning: /content/frames_local/4923163326429678-WHISPER does not exist!\n",
            "\n",
            "⚠️ Warning: /content/frames_local/8212971647934255-SIGN PAPER does not exist!\n",
            "⚠️ Warning: /content/frames_local/4066959996902433-THERAPY does not exist!⚠️ Warning: /content/frames_local/3628340866937836-DONT FEEL_LIKE does not exist!\n",
            "\n",
            "⚠️ Warning: /content/frames_local/6742655874522336-COMMUNITY does not exist!⚠️ Warning: /content/frames_local/19749527870729988-CLIENT does not exist!\n",
            "⚠️ Warning: /content/frames_local/7809503445047001-BREAKFAST does not exist!\n",
            "\n",
            "⚠️ Warning: /content/frames_local/2002285518954443-TURN does not exist!\n",
            "⚠️ Warning: /content/frames_local/5290373884784241-HATBRIM does not exist!⚠️ Warning: /content/frames_local/6796499805319471-CORNER does not exist!\n",
            "\n",
            "⚠️ Warning: /content/frames_local/5064877659011977-GOODY GOODY_SHOE_OPPOSITE does not exist!\n"
          ]
        },
        {
          "output_type": "stream",
          "name": "stderr",
          "text": [
            "\r  0%|          | 81/83399 [00:00<09:16, 149.78it/s]"
          ]
        },
        {
          "output_type": "stream",
          "name": "stdout",
          "text": [
            "⚠️ Warning: /content/frames_local/7069069415498499-CASTLE 2 does not exist!\n",
            "⚠️ Warning: /content/frames_local/5837296033724944-LEND does not exist!⚠️ Warning: /content/frames_local/8684706324228275-SOPHOMORE does not exist!\n",
            "\n",
            "⚠️ Warning: /content/frames_local/19379537971333316-SUPERVISOR does not exist!\n",
            "⚠️ Warning: /content/frames_local/24683104585018412-SWEAR IN does not exist!⚠️ Warning: /content/frames_local/35976901957453444-INSTITUTE does not exist!\n",
            "\n",
            "⚠️ Warning: /content/frames_local/4409418046134761-PERCEIVE does not exist!⚠️ Warning: /content/frames_local/031670126370264784-LICK ENVELOPE does not exist!\n",
            "\n",
            "⚠️ Warning: /content/frames_local/6069671516966564-STUMBLE does not exist!⚠️ Warning: /content/frames_local/010850214999561736-CELEBRATE does not exist!\n",
            "⚠️ Warning: /content/frames_local/13244724399416663-TOSS does not exist!\n",
            "⚠️ Warning: /content/frames_local/038446216989295845-WIDE does not exist!\n",
            "\n",
            "⚠️ Warning: /content/frames_local/49288220098651747-DOG does not exist!⚠️ Warning: /content/frames_local/9076828716002219-PEEL 2 does not exist!\n",
            "\n",
            "⚠️ Warning: /content/frames_local/6750594223002664-FLOAT 3 does not exist!⚠️ Warning: /content/frames_local/31649691891683207-THEORY does not exist!\n",
            "\n"
          ]
        },
        {
          "output_type": "stream",
          "name": "stderr",
          "text": [
            "\r  0%|          | 98/83399 [00:00<08:56, 155.34it/s]"
          ]
        },
        {
          "output_type": "stream",
          "name": "stdout",
          "text": [
            "⚠️ Warning: /content/frames_local/6343693205934693-SHORT WORD does not exist!⚠️ Warning: /content/frames_local/27469263568791-LABEL does not exist!\n",
            "\n",
            "⚠️ Warning: /content/frames_local/8450645349294537-ADVERTISE does not exist!⚠️ Warning: /content/frames_local/13187210101793911-FIRED does not exist!\n",
            "⚠️ Warning: /content/frames_local/45613794376693106-DEMOTE does not exist!\n",
            "\n",
            "⚠️ Warning: /content/frames_local/7568259630004095-INHALE does not exist!⚠️ Warning: /content/frames_local/654679171689897-APPLE does not exist!\n",
            "\n",
            "⚠️ Warning: /content/frames_local/5868753228914183-IMPOSSIBLE does not exist!⚠️ Warning: /content/frames_local/5662880671112962-PARK does not exist!\n",
            "\n",
            "⚠️ Warning: /content/frames_local/15747884716509963-ROSE does not exist!⚠️ Warning: /content/frames_local/23750861250634614-STINK does not exist!\n",
            "⚠️ Warning: /content/frames_local/5460269220331138-HUG does not exist!\n",
            "\n",
            "⚠️ Warning: /content/frames_local/10215603974987486-TUBE does not exist!⚠️ Warning: /content/frames_local/8675914629662917-COUNT does not exist!\n",
            "⚠️ Warning: /content/frames_local/18199086230023087-NICE does not exist!\n",
            "⚠️ Warning: /content/frames_local/6022620990262424-EASY TO_DO does not exist!\n",
            "\n"
          ]
        },
        {
          "output_type": "stream",
          "name": "stderr",
          "text": [
            "\r  0%|          | 114/83399 [00:00<09:22, 148.11it/s]"
          ]
        },
        {
          "output_type": "stream",
          "name": "stdout",
          "text": [
            "⚠️ Warning: /content/frames_local/4713001664096925-INFLUENCE does not exist!⚠️ Warning: /content/frames_local/4499250795706189-CIRCUSWHEEL does not exist!\n",
            "\n",
            "⚠️ Warning: /content/frames_local/27103930782829466-NOSE does not exist!⚠️ Warning: /content/frames_local/9121237989915896-GYM does not exist!\n",
            "\n",
            "⚠️ Warning: /content/frames_local/6416278179941874-WEAVE does not exist!⚠️ Warning: /content/frames_local/8801673159859185-SMOOTH does not exist!\n",
            "\n",
            "⚠️ Warning: /content/frames_local/8875256912597131-BACKPACK does not exist!⚠️ Warning: /content/frames_local/5346957049353451-WE does not exist!\n",
            "\n",
            "⚠️ Warning: /content/frames_local/3237841089626472-DOWNHILL does not exist!⚠️ Warning: /content/frames_local/8673853297757075-JUICE 2 does not exist!\n",
            "⚠️ Warning: /content/frames_local/7275461608600278-SCOLD does not exist!\n",
            "\n",
            "⚠️ Warning: /content/frames_local/8342259238668124-POWDER does not exist!\n",
            "⚠️ Warning: /content/frames_local/2746482938137922-CAPTURE does not exist!⚠️ Warning: /content/frames_local/2501721560408141-SOCIAL does not exist!\n",
            "⚠️ Warning: /content/frames_local/7476109931780017-PONDER does not exist!\n",
            "\n",
            "⚠️ Warning: /content/frames_local/33372376790577385-JOKE does not exist!⚠️ Warning: /content/frames_local/8763478538813974-SOCIETY does not exist!\n",
            "⚠️ Warning: /content/frames_local/6019042581182006-WATERDROP does not exist!"
          ]
        },
        {
          "output_type": "stream",
          "name": "stderr",
          "text": [
            "\r  0%|          | 130/83399 [00:00<09:22, 148.02it/s]"
          ]
        },
        {
          "output_type": "stream",
          "name": "stdout",
          "text": [
            "\n",
            "⚠️ Warning: /content/frames_local/931782741467386-ANYONE does not exist!\n",
            "⚠️ Warning: /content/frames_local/5418273984027029-CEMETERY does not exist!\n",
            "\n",
            "⚠️ Warning: /content/frames_local/3810108088744719-FAIL does not exist!⚠️ Warning: /content/frames_local/62432102043786-KNIGHT does not exist!\n",
            "\n",
            "⚠️ Warning: /content/frames_local/26442801372084057-TOTAL does not exist!⚠️ Warning: /content/frames_local/3140572918045199-ALL OF_SUDDEN does not exist!\n",
            "\n",
            "⚠️ Warning: /content/frames_local/19185527558933835-LONG AGO does not exist!⚠️ Warning: /content/frames_local/613903843341741-COOL 3 does not exist!\n",
            "\n",
            "⚠️ Warning: /content/frames_local/6459252267958286-BECOME does not exist!⚠️ Warning: /content/frames_local/047964805851413495-IMPROVE does not exist!\n",
            "\n",
            "⚠️ Warning: /content/frames_local/5908448341148838-UNCERTAIN does not exist!⚠️ Warning: /content/frames_local/9778046529233306-GREET does not exist!\n",
            "\n",
            "⚠️ Warning: /content/frames_local/3909940550052129-PROPOSE does not exist!⚠️ Warning: /content/frames_local/19744460835584432-TOSS OUT does not exist!\n",
            "⚠️ Warning: /content/frames_local/5406966366518051-SQUARE does not exist!\n",
            "\n",
            "⚠️ Warning: /content/frames_local/7535449770372906-THANK YOU does not exist!⚠️ Warning: /content/frames_local/8884945458417148-PACK does not exist!\n",
            "\n"
          ]
        },
        {
          "output_type": "stream",
          "name": "stderr",
          "text": [
            "\r  0%|          | 148/83399 [00:00<09:09, 151.52it/s]"
          ]
        },
        {
          "output_type": "stream",
          "name": "stdout",
          "text": [
            "⚠️ Warning: /content/frames_local/6169165591640462-EACH OTHER does not exist!\n",
            "⚠️ Warning: /content/frames_local/8331521549475343-PRECIOUS does not exist!⚠️ Warning: /content/frames_local/4685262003433257-WILL GO does not exist!\n",
            "⚠️ Warning: /content/frames_local/26779769878453363-LAY DOWN does not exist!\n",
            "⚠️ Warning: /content/frames_local/9119750137106359-PARANOID does not exist!\n",
            "\n",
            "⚠️ Warning: /content/frames_local/2063128811266226-ALASKA does not exist!⚠️ Warning: /content/frames_local/39878139372685606-EXPERIMENT does not exist!\n",
            "\n",
            "⚠️ Warning: /content/frames_local/5819018923811163-ARTICLE does not exist!⚠️ Warning: /content/frames_local/030163845009707257-EVERY NIGHT does not exist!\n",
            "\n",
            "⚠️ Warning: /content/frames_local/8019317290688388-GET TOGETHER does not exist!⚠️ Warning: /content/frames_local/4883233656549113-STORY 3 does not exist!\n",
            "\n",
            "⚠️ Warning: /content/frames_local/09913910553280747-REMOVE does not exist!⚠️ Warning: /content/frames_local/7735436577579549-MOSQUITO does not exist!\n",
            "\n",
            "⚠️ Warning: /content/frames_local/23935932871880738-BETWEEN does not exist!\n",
            "⚠️ Warning: /content/frames_local/7742371822103638-SPICY does not exist!\n"
          ]
        },
        {
          "output_type": "stream",
          "name": "stderr",
          "text": [
            "\r  0%|          | 164/83399 [00:01<09:11, 150.87it/s]"
          ]
        },
        {
          "output_type": "stream",
          "name": "stdout",
          "text": [
            "⚠️ Warning: /content/frames_local/6555062872975101-JEWELRY does not exist!⚠️ Warning: /content/frames_local/30802284724627316-TOY 3 does not exist!\n",
            "\n",
            "⚠️ Warning: /content/frames_local/02362800594599035-BULLSHIT does not exist!⚠️ Warning: /content/frames_local/4158330922555107-ADVANTAGE does not exist!\n",
            "⚠️ Warning: /content/frames_local/9326067198560057-WHISPER does not exist!\n",
            "\n",
            "⚠️ Warning: /content/frames_local/6468451269888666-SIGN PAPER does not exist!⚠️ Warning: /content/frames_local/26831740738029275-THERAPY does not exist!\n",
            "\n",
            "⚠️ Warning: /content/frames_local/4709219515950245-COMMUNITY does not exist!\n",
            "⚠️ Warning: /content/frames_local/3794908792089089-CLIENT does not exist!⚠️ Warning: /content/frames_local/6738805591563901-LEAVE ALONE does not exist!\n",
            "⚠️ Warning: /content/frames_local/13959766874483237-BREAKFAST does not exist!\n",
            "⚠️ Warning: /content/frames_local/5666202221838486-TURN does not exist!\n",
            "⚠️ Warning: /content/frames_local/45348925603024304-CORNER does not exist!\n",
            "⚠️ Warning: /content/frames_local/23509015263340394-CASTLE 2 does not exist!\n",
            "\n",
            "⚠️ Warning: /content/frames_local/026708400894418727-SOPHOMORE does not exist!⚠️ Warning: /content/frames_local/5224289762112848-LEND does not exist!\n",
            "\n",
            "⚠️ Warning: /content/frames_local/28041608305216026-SUPERVISOR does not exist!\n",
            "⚠️ Warning: /content/frames_local/6928326961533751-INSTITUTE does not exist!⚠️ Warning: /content/frames_local/6619748121410192-PERCEIVE does not exist!\n",
            "\n",
            "⚠️ Warning: /content/frames_local/5395352613912254-CELEBRATE does not exist!"
          ]
        },
        {
          "output_type": "stream",
          "name": "stderr",
          "text": [
            "\r  0%|          | 183/83399 [00:01<08:44, 158.61it/s]"
          ]
        },
        {
          "output_type": "stream",
          "name": "stdout",
          "text": [
            "\n",
            "⚠️ Warning: /content/frames_local/11167211155706291-WIDE does not exist!\n",
            "⚠️ Warning: /content/frames_local/30070654019768583-PEEL 2 does not exist!\n",
            "⚠️ Warning: /content/frames_local/9184146468779903-BOWLING 2 does not exist!⚠️ Warning: /content/frames_local/11432147423106453-DOG does not exist!\n",
            "\n",
            "⚠️ Warning: /content/frames_local/7381855460513327-RIDE 2 does not exist!\n",
            "⚠️ Warning: /content/frames_local/6336093498495587-THEORY does not exist!⚠️ Warning: /content/frames_local/6956016227207786-SHORT WORD does not exist!\n",
            "\n",
            "⚠️ Warning: /content/frames_local/04939380671476301-FIRED does not exist!⚠️ Warning: /content/frames_local/4168307048484854-LABEL does not exist!\n",
            "⚠️ Warning: /content/frames_local/0525121513125173-DARK does not exist!\n",
            "\n",
            "⚠️ Warning: /content/frames_local/41738678001523555-DEVOUR does not exist!⚠️ Warning: /content/frames_local/8143823054520445-HATCH 2 does not exist!\n",
            "\n",
            "⚠️ Warning: /content/frames_local/784442858510149-PILLOW 2 does not exist!⚠️ Warning: /content/frames_local/3665083076635902-CELLPHONE does not exist!\n",
            "⚠️ Warning: /content/frames_local/08028498244023075-FLASHLIGHT 3 does not exist!\n",
            "\n",
            "⚠️ Warning: /content/frames_local/569252532013591-LIGHT 2 does not exist!\n",
            "⚠️ Warning: /content/frames_local/8674978531375388-SHIRT 2 does not exist!⚠️ Warning: /content/frames_local/9984110117309302-BUMPY does not exist!\n",
            "\n",
            "⚠️ Warning: /content/frames_local/3611339319587963-SLIP 2 does not exist!\n"
          ]
        },
        {
          "output_type": "stream",
          "name": "stderr",
          "text": [
            "\r  0%|          | 202/83399 [00:01<08:22, 165.58it/s]"
          ]
        },
        {
          "output_type": "stream",
          "name": "stdout",
          "text": [
            "⚠️ Warning: /content/frames_local/7913552139341871-SNEEZE 2 does not exist!⚠️ Warning: /content/frames_local/5390411629840837-CLOCK 2 does not exist!\n",
            "⚠️ Warning: /content/frames_local/3635703251583551-GLASS 3 does not exist!\n",
            "⚠️ Warning: /content/frames_local/02417596973931868-FRISK does not exist!\n",
            "\n",
            "⚠️ Warning: /content/frames_local/7800294564666657-SUMMON does not exist!\n",
            "⚠️ Warning: /content/frames_local/1455478001735404-CHERRY 2 does not exist!\n",
            "⚠️ Warning: /content/frames_local/22066071141437238-BANANA 2 does not exist!⚠️ Warning: /content/frames_local/4458090401198842-ELEVATOR 3 does not exist!\n",
            "\n",
            "⚠️ Warning: /content/frames_local/461256999845691-ENVELOPE 5 does not exist!⚠️ Warning: /content/frames_local/21072859884997563-STACK 2 does not exist!\n",
            "\n",
            "⚠️ Warning: /content/frames_local/36182318013198267-BURY 2 does not exist!⚠️ Warning: /content/frames_local/9072202582847813-ARREST 3 does not exist!\n",
            "\n",
            "⚠️ Warning: /content/frames_local/3965534717514636-KNITTING 3 does not exist!⚠️ Warning: /content/frames_local/11938517772299284-SMILE 2 does not exist!\n",
            "\n",
            "⚠️ Warning: /content/frames_local/28165779316856177-STACK 3 does not exist!⚠️ Warning: /content/frames_local/3414971948885017-SCREWDRIVER 2 does not exist!\n",
            "\n",
            "⚠️ Warning: /content/frames_local/3719623393652336-CARROT 3 does not exist!⚠️ Warning: /content/frames_local/7866479770462362-CLOUD 4 does not exist!\n",
            "\n",
            "⚠️ Warning: /content/frames_local/736053532553147-CRACKER 2 does not exist!"
          ]
        },
        {
          "output_type": "stream",
          "name": "stderr",
          "text": [
            "\r  0%|          | 221/83399 [00:01<08:04, 171.62it/s]"
          ]
        },
        {
          "output_type": "stream",
          "name": "stdout",
          "text": [
            "⚠️ Warning: /content/frames_local/940072121680658-VAMPIRE does not exist!\n",
            "\n",
            "⚠️ Warning: /content/frames_local/6440471350161254-POP 4 does not exist!⚠️ Warning: /content/frames_local/07995519195035183-CROSS does not exist!\n",
            "\n",
            "⚠️ Warning: /content/frames_local/161397688937315-RAZOR 2 does not exist!⚠️ Warning: /content/frames_local/5685505516650793-CHERRY does not exist!\n",
            "\n",
            "⚠️ Warning: /content/frames_local/638988979683649-RABBIT does not exist!⚠️ Warning: /content/frames_local/46721838510936897-JACKET does not exist!\n",
            "\n",
            "⚠️ Warning: /content/frames_local/4777114214367413-BENEFIT does not exist!⚠️ Warning: /content/frames_local/9665726169641298-SNOW 2 does not exist!\n",
            "\n",
            "⚠️ Warning: /content/frames_local/7364724475858522-EYES does not exist!⚠️ Warning: /content/frames_local/24946258334528815-GUESS does not exist!\n",
            "\n",
            "⚠️ Warning: /content/frames_local/2889534487412355-DEMAND does not exist!⚠️ Warning: /content/frames_local/5149945846466999-CHURCH does not exist!\n",
            "\n",
            "⚠️ Warning: /content/frames_local/3705689605906124-COMPUTER MOUSE does not exist!⚠️ Warning: /content/frames_local/8848744369087989-NEED does not exist!\n",
            "\n",
            "⚠️ Warning: /content/frames_local/6866053008104511-PINEAPPLE does not exist!⚠️ Warning: /content/frames_local/5187624262174839-BONE does not exist!\n",
            "\n"
          ]
        },
        {
          "output_type": "stream",
          "name": "stderr",
          "text": [
            "\r  0%|          | 239/83399 [00:01<08:03, 172.04it/s]"
          ]
        },
        {
          "output_type": "stream",
          "name": "stdout",
          "text": [
            "⚠️ Warning: /content/frames_local/7561528652261482-CHILDREN does not exist!⚠️ Warning: /content/frames_local/9249941273755868-FRUIT does not exist!\n",
            "\n",
            "⚠️ Warning: /content/frames_local/7882860253360209-ORDER 2 does not exist!⚠️ Warning: /content/frames_local/17735124828998106-PROBLEM 1 does not exist!\n",
            "\n",
            "⚠️ Warning: /content/frames_local/24975725380114233-WOOD does not exist!⚠️ Warning: /content/frames_local/9141133089170674-DROP does not exist!\n",
            "\n",
            "⚠️ Warning: /content/frames_local/16759358676302494-GAME does not exist!⚠️ Warning: /content/frames_local/0955181553369353-FOREIGNER does not exist!\n",
            "\n",
            "⚠️ Warning: /content/frames_local/4614534315577101-NOW does not exist!⚠️ Warning: /content/frames_local/6248518251977921-APPOINTMENT does not exist!\n",
            "\n",
            "⚠️ Warning: /content/frames_local/9397014726055648-SCROLL DOWN does not exist!\n",
            "⚠️ Warning: /content/frames_local/6435134382056891-EGO does not exist!\n",
            "⚠️ Warning: /content/frames_local/051465824178710706-TELL does not exist!\n",
            "⚠️ Warning: /content/frames_local/1780082548619053-SOUTH does not exist!⚠️ Warning: /content/frames_local/6904994586261741-GOSSIP does not exist!\n",
            "\n",
            "⚠️ Warning: /content/frames_local/7815897175027569-YESTERDAY does not exist!\n",
            "⚠️ Warning: /content/frames_local/09797934187757074-CALL does not exist!⚠️ Warning: /content/frames_local/6225262610729481-BALANCE does not exist!\n",
            "⚠️ Warning: /content/frames_local/8994479452363924-AGREEMENT does not exist!\n"
          ]
        },
        {
          "output_type": "stream",
          "name": "stderr",
          "text": [
            "\r  0%|          | 257/83399 [00:01<08:05, 171.19it/s]"
          ]
        },
        {
          "output_type": "stream",
          "name": "stdout",
          "text": [
            "⚠️ Warning: /content/frames_local/6871058555020562-DIRTY does not exist!\n",
            "\n",
            "⚠️ Warning: /content/frames_local/5082858473744953-NO does not exist!⚠️ Warning: /content/frames_local/8861231668594451-CANOE does not exist!\n",
            "⚠️ Warning: /content/frames_local/7596782937972923-TEST does not exist!\n",
            "⚠️ Warning: /content/frames_local/8006343369425069-TEETH does not exist!\n",
            "⚠️ Warning: /content/frames_local/5410039699158458-KID does not exist!\n",
            "\n",
            "⚠️ Warning: /content/frames_local/33093247095464684-GIRL does not exist!⚠️ Warning: /content/frames_local/10857326791414024-BOAT does not exist!\n",
            "\n",
            "⚠️ Warning: /content/frames_local/16884356585373195-EASY does not exist!⚠️ Warning: /content/frames_local/3380520143388104-SCHOOL does not exist!\n",
            "\n",
            "⚠️ Warning: /content/frames_local/14947715658058014-THERMOMETER does not exist!⚠️ Warning: /content/frames_local/142382602529187-IDEA does not exist!\n",
            "⚠️ Warning: /content/frames_local/23295455480851857-LET KNOW does not exist!\n",
            "\n",
            "⚠️ Warning: /content/frames_local/11867852244398991-PREACHER does not exist!\n",
            "⚠️ Warning: /content/frames_local/09480001149764816-MEET does not exist!⚠️ Warning: /content/frames_local/5882028078956663-ZIPPER does not exist!\n",
            "\n",
            "⚠️ Warning: /content/frames_local/5739657937248839-MATCH does not exist!\n",
            "⚠️ Warning: /content/frames_local/7886729880176198-FAUCET does not exist!\n"
          ]
        },
        {
          "output_type": "stream",
          "name": "stderr",
          "text": [
            "\r  0%|          | 275/83399 [00:01<07:59, 173.33it/s]"
          ]
        },
        {
          "output_type": "stream",
          "name": "stdout",
          "text": [
            "⚠️ Warning: /content/frames_local/36626645710568106-NEWSPAPER does not exist!⚠️ Warning: /content/frames_local/727797349899711-FORFEIT does not exist!\n",
            "\n",
            "⚠️ Warning: /content/frames_local/3844148444722406-FULL does not exist!⚠️ Warning: /content/frames_local/6989402826625473-GOD does not exist!\n",
            "\n",
            "⚠️ Warning: /content/frames_local/3845231217942484-FRIEND does not exist!\n",
            "⚠️ Warning: /content/frames_local/5307030948600251-WIFE does not exist!\n",
            "⚠️ Warning: /content/frames_local/24974615015650947-CRAZY does not exist!⚠️ Warning: /content/frames_local/5677482375653258-DRAW does not exist!\n",
            "\n",
            "⚠️ Warning: /content/frames_local/27759670594914465-CAR does not exist!⚠️ Warning: /content/frames_local/45594209879187875-FRANCE does not exist!\n",
            "\n",
            "⚠️ Warning: /content/frames_local/182409169478295-AMAZING does not exist!⚠️ Warning: /content/frames_local/061936510841636094-BEAT does not exist!\n",
            "\n",
            "⚠️ Warning: /content/frames_local/3534400142419516-TOOTHBRUSH does not exist!⚠️ Warning: /content/frames_local/8306237547328505-EXCUSE does not exist!\n",
            "⚠️ Warning: /content/frames_local/16968758786823446-REVENGE does not exist!\n",
            "⚠️ Warning: /content/frames_local/6833661881907038-DOWNSIZE does not exist!\n",
            "\n",
            "⚠️ Warning: /content/frames_local/4465135859623439-LESSON does not exist!⚠️ Warning: /content/frames_local/18037166509849722-SARCASTIC does not exist!\n",
            "\n"
          ]
        },
        {
          "output_type": "stream",
          "name": "stderr",
          "text": [
            "\r  0%|          | 293/83399 [00:01<08:59, 153.90it/s]"
          ]
        },
        {
          "output_type": "stream",
          "name": "stdout",
          "text": [
            "⚠️ Warning: /content/frames_local/45107006465931687-PLUG does not exist!⚠️ Warning: /content/frames_local/5342879318630827-YUCKY does not exist!\n",
            "\n",
            "⚠️ Warning: /content/frames_local/45360553116056135-NUT does not exist!⚠️ Warning: /content/frames_local/20127670054735236-AVOID does not exist!\n",
            "\n",
            "⚠️ Warning: /content/frames_local/14857041755268563-FED UP does not exist!⚠️ Warning: /content/frames_local/9404479880375034-BYE does not exist!\n",
            "\n",
            "⚠️ Warning: /content/frames_local/008334911275535983-END does not exist!⚠️ Warning: /content/frames_local/599008798019109-GERMANY does not exist!\n",
            "\n",
            "⚠️ Warning: /content/frames_local/25349602618374245-NIECE does not exist!\n",
            "⚠️ Warning: /content/frames_local/835941664310544-LET ME_SEE does not exist!⚠️ Warning: /content/frames_local/8335625687320589-BUT does not exist!\n",
            "⚠️ Warning: /content/frames_local/17556925442961546-BUDGET does not exist!\n",
            "⚠️ Warning: /content/frames_local/0019458289228719838-SEQUENCE does not exist!\n",
            "\n",
            "⚠️ Warning: /content/frames_local/42899833130683573-ROCKET 1 does not exist!⚠️ Warning: /content/frames_local/45974359533467624-WASH 1 does not exist!\n",
            "⚠️ Warning: /content/frames_local/7360418673995492-SPONTANEOUS does not exist!\n",
            "\n",
            "⚠️ Warning: /content/frames_local/9246436366130377-FACE does not exist!\n"
          ]
        },
        {
          "output_type": "stream",
          "name": "stderr",
          "text": [
            "\r  0%|          | 310/83399 [00:01<08:49, 156.97it/s]"
          ]
        },
        {
          "output_type": "stream",
          "name": "stdout",
          "text": [
            "⚠️ Warning: /content/frames_local/2863257536366659-TICKET does not exist!\n",
            "⚠️ Warning: /content/frames_local/6207041749303615-FREEDOM does not exist!⚠️ Warning: /content/frames_local/5208380221303042-MOST does not exist!\n",
            "\n",
            "⚠️ Warning: /content/frames_local/6776054154751192-CUT 1 does not exist!\n",
            "⚠️ Warning: /content/frames_local/2111386793579384-BUSY does not exist!⚠️ Warning: /content/frames_local/531241969487003-LOLLIPOP does not exist!\n",
            "\n",
            "⚠️ Warning: /content/frames_local/6371396620489889-FLOAT does not exist!⚠️ Warning: /content/frames_local/7094121960088806-DEPRESS does not exist!\n",
            "\n",
            "⚠️ Warning: /content/frames_local/26689261591142355-PROOF does not exist!\n",
            "⚠️ Warning: /content/frames_local/22148353752737537-CAMERAMAN does not exist!\n",
            "⚠️ Warning: /content/frames_local/48605335562768315-DRIVE does not exist!⚠️ Warning: /content/frames_local/7581793606805043-DISRUPT does not exist!\n",
            "⚠️ Warning: /content/frames_local/4599940680744705-BEANS does not exist!\n",
            "\n",
            "⚠️ Warning: /content/frames_local/1434349775005772-PIZZA 2 does not exist!⚠️ Warning: /content/frames_local/4716209539695517-SHARE does not exist!\n",
            "⚠️ Warning: /content/frames_local/8750056311438137-SLAVE does not exist!\n",
            "⚠️ Warning: /content/frames_local/9539744052316363-INTUITIVE does not exist!\n",
            "\n",
            "⚠️ Warning: /content/frames_local/15583842324081232-ON does not exist!⚠️ Warning: /content/frames_local/01575906812099359-TRUTH does not exist!\n",
            "⚠️ Warning: /content/frames_local/22151283011808554-VANILLA does not exist!\n",
            "⚠️ Warning: /content/frames_local/9151460001087668-COST does not exist!\n",
            "\n",
            "⚠️ Warning: /content/frames_local/5700407311251623-ROOF does not exist!"
          ]
        },
        {
          "output_type": "stream",
          "name": "stderr",
          "text": [
            "\r  0%|          | 332/83399 [00:02<08:03, 171.75it/s]"
          ]
        },
        {
          "output_type": "stream",
          "name": "stdout",
          "text": [
            "⚠️ Warning: /content/frames_local/05089872608413626-SNEAK ADVENTURE does not exist!\n",
            "\n",
            "⚠️ Warning: /content/frames_local/8441043604725313-FUNNY does not exist!\n",
            "⚠️ Warning: /content/frames_local/3570222124406002-LOUSY does not exist!⚠️ Warning: /content/frames_local/752385671850688-SKIN does not exist!\n",
            "\n",
            "⚠️ Warning: /content/frames_local/4001283150525985-SWIM does not exist!⚠️ Warning: /content/frames_local/8642316172083411-LOOK FORWARD does not exist!\n",
            "\n",
            "⚠️ Warning: /content/frames_local/3180685106985577-GOAL does not exist!\n",
            "⚠️ Warning: /content/frames_local/8911976032426165-OUTSIDE does not exist!\n",
            "⚠️ Warning: /content/frames_local/7599782059880507-ORANGE THROAT does not exist!\n",
            "⚠️ Warning: /content/frames_local/29515855219404497-ORANGE EYES does not exist!⚠️ Warning: /content/frames_local/08105598822367299-ANSWER does not exist!\n",
            "\n",
            "⚠️ Warning: /content/frames_local/20852329611395937-DISCUSS does not exist!⚠️ Warning: /content/frames_local/17128261239352982-ROBOT does not exist!\n",
            "⚠️ Warning: /content/frames_local/9337064031272435-MELT does not exist!\n",
            "\n",
            "⚠️ Warning: /content/frames_local/6911483999978041-SUCK does not exist!⚠️ Warning: /content/frames_local/8115249297063862-ROUGH does not exist!\n",
            "\n",
            "⚠️ Warning: /content/frames_local/3950711714142374-PET does not exist!⚠️ Warning: /content/frames_local/23321177794879588-SIGNATURE does not exist!\n",
            "\n",
            "⚠️ Warning: /content/frames_local/6735558330423335-GRAY does not exist!\n",
            "⚠️ Warning: /content/frames_local/9058683859887124-HEAVY does not exist!⚠️ Warning: /content/frames_local/05804557658914389-HURDLE-TRIP does not exist!\n"
          ]
        },
        {
          "output_type": "stream",
          "name": "stderr",
          "text": [
            "\r  0%|          | 353/83399 [00:02<07:41, 179.86it/s]"
          ]
        },
        {
          "output_type": "stream",
          "name": "stdout",
          "text": [
            "\n",
            "⚠️ Warning: /content/frames_local/3655968983833715-CLIMB LADDER does not exist!⚠️ Warning: /content/frames_local/46079903240496867-SNAP does not exist!\n",
            "\n",
            "⚠️ Warning: /content/frames_local/30769191586183053-ISOLATED does not exist!⚠️ Warning: /content/frames_local/3034247461648141-MAILMAN does not exist!\n",
            "⚠️ Warning: /content/frames_local/9815871847220503-BET does not exist!\n",
            "\n",
            "⚠️ Warning: /content/frames_local/542387932769369-DISTRACTED does not exist!⚠️ Warning: /content/frames_local/883239213455199-FREEZE does not exist!\n",
            "\n",
            "⚠️ Warning: /content/frames_local/119693515616218-WILL does not exist!⚠️ Warning: /content/frames_local/22816862341146416-MEMBER does not exist!\n",
            "\n",
            "⚠️ Warning: /content/frames_local/15987152242950264-BEST does not exist!⚠️ Warning: /content/frames_local/9105274408150312-BAT 1 does not exist!\n",
            "\n",
            "⚠️ Warning: /content/frames_local/48852938778695965-LIKE does not exist!⚠️ Warning: /content/frames_local/7886073087627623-MURDER does not exist!\n",
            "⚠️ Warning: /content/frames_local/014399429252126783-OVER does not exist!\n",
            "\n",
            "⚠️ Warning: /content/frames_local/11714827881944534-DYE does not exist!⚠️ Warning: /content/frames_local/2157720030733732-DRY does not exist!\n",
            "\n",
            "⚠️ Warning: /content/frames_local/746884857630183-DICTIONARY does not exist!⚠️ Warning: /content/frames_local/07434472987201102-TAN does not exist!\n",
            "\n",
            "⚠️ Warning: /content/frames_local/11734442383790955-THUNDER does not exist!⚠️ Warning: /content/frames_local/2595760307657029-THEY does not exist!\n"
          ]
        },
        {
          "output_type": "stream",
          "name": "stderr",
          "text": [
            "\r  0%|          | 373/83399 [00:02<07:42, 179.33it/s]"
          ]
        },
        {
          "output_type": "stream",
          "name": "stdout",
          "text": [
            "⚠️ Warning: /content/frames_local/9079150432920042-RED FACED does not exist!\n",
            "\n",
            "⚠️ Warning: /content/frames_local/3874900668022614-FAN does not exist!⚠️ Warning: /content/frames_local/9057593060657476-Q TIP does not exist!\n",
            "\n",
            "⚠️ Warning: /content/frames_local/754174081917842-SCAR MEMORY does not exist!\n",
            "⚠️ Warning: /content/frames_local/1847737055607681-LIMITED does not exist!\n",
            "⚠️ Warning: /content/frames_local/8853802136949456-SIGNING FLUENTLY does not exist!\n",
            "⚠️ Warning: /content/frames_local/37474758827881094-STARE does not exist!\n",
            "⚠️ Warning: /content/frames_local/582323650762931-THOUGHT DISAPPEAR does not exist!\n",
            "\n",
            "⚠️ Warning: /content/frames_local/574135060517232-EVERYTHING does not exist!\n",
            "⚠️ Warning: /content/frames_local/999123603635413-SO does not exist!⚠️ Warning: /content/frames_local/4501768861955957-STADIUM does not exist!⚠️ Warning: /content/frames_local/2801327557552975-THINK PENETRATE does not exist!\n",
            "\n",
            "⚠️ Warning: /content/frames_local/14052296225070893-BACKPACK does not exist!\n",
            "⚠️ Warning: /content/frames_local/9067099373014491-CHOKE does not exist!\n",
            "⚠️ Warning: /content/frames_local/7838187946810775-TOGETHER does not exist!⚠️ Warning: /content/frames_local/8911814027727771-GREEN BEANS does not exist!\n",
            "\n",
            "⚠️ Warning: /content/frames_local/27059643717991366-VAIN does not exist!\n",
            "⚠️ Warning: /content/frames_local/8110284429664787-COMPASS does not exist!⚠️ Warning: /content/frames_local/9784190419934637-NERVE does not exist!\n",
            "\n",
            "⚠️ Warning: /content/frames_local/09223742662600642-BOW 2 does not exist!\n",
            "⚠️ Warning: /content/frames_local/5890286627161592-FRAME does not exist!\n",
            "⚠️ Warning: /content/frames_local/7170327719525225-INSPIRE does not exist!⚠️ Warning: /content/frames_local/9658452924914089-FOLLOW 1 does not exist!\n",
            "\n",
            "⚠️ Warning: /content/frames_local/7372492030486306-CLAW does not exist!\n"
          ]
        },
        {
          "output_type": "stream",
          "name": "stderr",
          "text": [
            "\r  0%|          | 396/83399 [00:02<07:17, 189.56it/s]"
          ]
        },
        {
          "output_type": "stream",
          "name": "stdout",
          "text": [
            "⚠️ Warning: /content/frames_local/03115270349603283-HAHA does not exist!⚠️ Warning: /content/frames_local/8388789916018351-GOATEE does not exist!\n",
            "\n",
            "⚠️ Warning: /content/frames_local/07267045149513152-IF does not exist!⚠️ Warning: /content/frames_local/5459254713530837-STAMP 1 does not exist!\n",
            "\n",
            "⚠️ Warning: /content/frames_local/3227427763344013-SPREAD 1 does not exist!\n",
            "⚠️ Warning: /content/frames_local/6710147339257997-STRAW does not exist!\n",
            "⚠️ Warning: /content/frames_local/16831173387324583-STRONG does not exist!⚠️ Warning: /content/frames_local/7431245791553516-PUT ASIDE does not exist!\n",
            "\n",
            "⚠️ Warning: /content/frames_local/16187292252747598-WISE does not exist!\n",
            "⚠️ Warning: /content/frames_local/8255311360124704-TEMPORARY does not exist!⚠️ Warning: /content/frames_local/6904871228501732-FAINT does not exist!\n",
            "\n",
            "⚠️ Warning: /content/frames_local/902671562034884-EVIDENCE does not exist!⚠️ Warning: /content/frames_local/25932604034382734-EDIT does not exist!\n",
            "⚠️ Warning: /content/frames_local/4155326382090698-DISCONNECT does not exist!\n",
            "⚠️ Warning: /content/frames_local/7757020413685858-INVISIBLE does not exist!\n",
            "\n",
            "⚠️ Warning: /content/frames_local/826620411833638-THESE does not exist!⚠️ Warning: /content/frames_local/10538812985245771-CHEW 1 does not exist!\n",
            "\n",
            "⚠️ Warning: /content/frames_local/591310425519902-POSTPONE does not exist!⚠️ Warning: /content/frames_local/8677145503168626-JUICE 1 does not exist!\n"
          ]
        },
        {
          "output_type": "stream",
          "name": "stderr",
          "text": [
            "\r  0%|          | 416/83399 [00:02<07:42, 179.49it/s]"
          ]
        },
        {
          "output_type": "stream",
          "name": "stdout",
          "text": [
            "\n",
            "⚠️ Warning: /content/frames_local/21837077397712124-PRINCIPAL does not exist!⚠️ Warning: /content/frames_local/7735756960913593-JOIN does not exist!\n",
            "\n",
            "⚠️ Warning: /content/frames_local/7281814460614704-SMOKE does not exist!\n",
            "⚠️ Warning: /content/frames_local/2732063198914938-REFUSE does not exist!⚠️ Warning: /content/frames_local/4179271864834424-STRUCTURE does not exist!\n",
            "⚠️ Warning: /content/frames_local/06452525128477671-SNOWMAN does not exist!\n",
            "\n",
            "⚠️ Warning: /content/frames_local/06974828943772104-VOCABULARY does not exist!⚠️ Warning: /content/frames_local/9330343031579775-FILL OUT does not exist!\n",
            "⚠️ Warning: /content/frames_local/8489493921828779-TENDENCY does not exist!\n",
            "⚠️ Warning: /content/frames_local/718637403722669-SPECIAL does not exist!\n",
            "\n",
            "⚠️ Warning: /content/frames_local/07211014356088508-WEIRD does not exist!⚠️ Warning: /content/frames_local/4360403919891973-BAND AID does not exist!\n",
            "\n",
            "⚠️ Warning: /content/frames_local/3797471874449132-PERSPECTIVE does not exist!⚠️ Warning: /content/frames_local/23604303109133196-PUBLIC does not exist!\n",
            "\n",
            "⚠️ Warning: /content/frames_local/6671606841326574-DONT NEED does not exist!⚠️ Warning: /content/frames_local/7313686535099957-CHEERLEADER does not exist!\n",
            "⚠️ Warning: /content/frames_local/2997568112610245-REALLY INTO does not exist!\n",
            "⚠️ Warning: /content/frames_local/8855400607580735-STIMULATE does not exist!\n",
            "\n",
            "⚠️ Warning: /content/frames_local/25373132950476185-BOTHER does not exist!"
          ]
        },
        {
          "output_type": "stream",
          "name": "stderr",
          "text": [
            "\r  1%|          | 435/83399 [00:02<07:44, 178.51it/s]"
          ]
        },
        {
          "output_type": "stream",
          "name": "stdout",
          "text": [
            "⚠️ Warning: /content/frames_local/1831854761854499-SCOUT does not exist!\n",
            "\n",
            "⚠️ Warning: /content/frames_local/8356137438331652-LESBIAN does not exist!\n",
            "⚠️ Warning: /content/frames_local/9950651574521725-GET OFF does not exist!⚠️ Warning: /content/frames_local/1929313766049765-SWEAT does not exist!\n",
            "\n",
            "⚠️ Warning: /content/frames_local/06056672201359059-CAUGHT does not exist!⚠️ Warning: /content/frames_local/27663282260088806-SURGERY does not exist!\n",
            "\n",
            "⚠️ Warning: /content/frames_local/7567609756042657-BLANK does not exist!\n",
            "⚠️ Warning: /content/frames_local/06920041797662702-BRICK does not exist!⚠️ Warning: /content/frames_local/3542834164345221-KINDERGARTEN does not exist!\n",
            "\n",
            "⚠️ Warning: /content/frames_local/8268688092359788-PHILADELPHIA does not exist!⚠️ Warning: /content/frames_local/49328631707690995-FROM THEN_ON does not exist!\n",
            "\n",
            "⚠️ Warning: /content/frames_local/3419074485484206-INFECTION does not exist!⚠️ Warning: /content/frames_local/4249380660287352-TWO OF_US does not exist!\n",
            "\n",
            "⚠️ Warning: /content/frames_local/805276306980562-SENIOR CITIZEN does not exist!⚠️ Warning: /content/frames_local/2281974716477626-KEEP does not exist!\n",
            "\n",
            "⚠️ Warning: /content/frames_local/15034764060563655-NEGATIVE does not exist!⚠️ Warning: /content/frames_local/16198513665292458-SHOOT does not exist!\n",
            "\n",
            "⚠️ Warning: /content/frames_local/4678396828635065-AFTERNOON does not exist!⚠️ Warning: /content/frames_local/8836801171098743-CRANKY does not exist!\n",
            "\n",
            "⚠️ Warning: /content/frames_local/42432643422310723-ERUPT 1 does not exist!"
          ]
        },
        {
          "output_type": "stream",
          "name": "stderr",
          "text": [
            "\r  1%|          | 454/83399 [00:02<07:51, 175.84it/s]"
          ]
        },
        {
          "output_type": "stream",
          "name": "stdout",
          "text": [
            "\n",
            "⚠️ Warning: /content/frames_local/0893246126915177-PASS does not exist!⚠️ Warning: /content/frames_local/591353346139188-VALIDATE does not exist!\n",
            "\n",
            "⚠️ Warning: /content/frames_local/021155387754881794-REMEMBER 2 does not exist!⚠️ Warning: /content/frames_local/3971071828139323-CONFUSED does not exist!\n",
            "\n",
            "⚠️ Warning: /content/frames_local/6687174832084644-WORKSHOP does not exist!\n",
            "⚠️ Warning: /content/frames_local/21072933501017266-ROOMMATE does not exist!\n",
            "⚠️ Warning: /content/frames_local/9705552332221867-PARALLEL does not exist!⚠️ Warning: /content/frames_local/5470791638833759-STRUGGLE does not exist!\n",
            "⚠️ Warning: /content/frames_local/24735826562994712-BOSTON does not exist!\n",
            "⚠️ Warning: /content/frames_local/8812886793988801-SUPERVISE does not exist!\n",
            "⚠️ Warning: /content/frames_local/6720902667573534-PRODUCE SIGN does not exist!\n",
            "⚠️ Warning: /content/frames_local/8200321136224236-SLICE does not exist!\n",
            "\n",
            "⚠️ Warning: /content/frames_local/9652919101615633-MARCH does not exist!⚠️ Warning: /content/frames_local/10960939607578468-ATHLETE does not exist!\n",
            "\n",
            "⚠️ Warning: /content/frames_local/12359454207001441-DESIGN does not exist!\n",
            "⚠️ Warning: /content/frames_local/023886474321670015-MEDITATE 3 does not exist!⚠️ Warning: /content/frames_local/3820328035975771-PUNCH FACE does not exist!\n",
            "\n",
            "⚠️ Warning: /content/frames_local/8007270485753197-ITCH does not exist!"
          ]
        },
        {
          "output_type": "stream",
          "name": "stderr",
          "text": [
            "\r  1%|          | 472/83399 [00:02<08:00, 172.61it/s]"
          ]
        },
        {
          "output_type": "stream",
          "name": "stdout",
          "text": [
            "⚠️ Warning: /content/frames_local/32331871750181684-FISHING 2 does not exist!\n",
            "\n",
            "⚠️ Warning: /content/frames_local/18369555983347952-RESPECT does not exist!\n",
            "⚠️ Warning: /content/frames_local/07048552150986476-POLISH does not exist!\n",
            "⚠️ Warning: /content/frames_local/05292162060090688-SNAP STICK does not exist!\n",
            "⚠️ Warning: /content/frames_local/5586971735005972-AGAIN does not exist!⚠️ Warning: /content/frames_local/026471432961753694-TASTE does not exist!\n",
            "\n",
            "\n",
            "⚠️ Warning: /content/frames_local/4525255015212539-CHERISH does not exist!⚠️ Warning: /content/frames_local/29408609509345696-SEVERAL does not exist!\n",
            "⚠️ Warning: /content/frames_local/893612061993688-ARM 2 does not exist!\n",
            "⚠️ Warning: /content/frames_local/624479942184976-POSITIVE does not exist!\n",
            "⚠️ Warning: /content/frames_local/06436839257903171-FORMER does not exist!⚠️ Warning: /content/frames_local/5354738258448046-OVERTAKE does not exist!\n",
            "\n",
            "⚠️ Warning: /content/frames_local/8142321187623465-CAT 2 does not exist!⚠️ Warning: /content/frames_local/43532957675359496-CONFLICT does not exist!\n",
            "\n",
            "⚠️ Warning: /content/frames_local/4876840654416541-REMIND does not exist!⚠️ Warning: /content/frames_local/8921389920363676-WRAP UP_2 does not exist!\n",
            "\n",
            "⚠️ Warning: /content/frames_local/9249994486572739-HALF HOUR does not exist!\n",
            "⚠️ Warning: /content/frames_local/7672610386410896-LONG TIME does not exist!⚠️ Warning: /content/frames_local/10252345260075368-DROWN 3 does not exist!\n"
          ]
        },
        {
          "output_type": "stream",
          "name": "stderr",
          "text": [
            "\r  1%|          | 492/83399 [00:02<07:42, 179.43it/s]"
          ]
        },
        {
          "output_type": "stream",
          "name": "stdout",
          "text": [
            "\n",
            "⚠️ Warning: /content/frames_local/8244542797587671-FACULTY does not exist!⚠️ Warning: /content/frames_local/35882678095860654-TABLET does not exist!\n",
            "⚠️ Warning: /content/frames_local/678153186669626-FOLLOW 4 does not exist!\n",
            "⚠️ Warning: /content/frames_local/3492309525792563-TRIPLE does not exist!\n",
            "\n",
            "⚠️ Warning: /content/frames_local/60085579467325-APPLE does not exist!⚠️ Warning: /content/frames_local/9546582682838636-SWEET does not exist!\n",
            "\n",
            "⚠️ Warning: /content/frames_local/9456034138796046-IMPOSSIBLE does not exist!⚠️ Warning: /content/frames_local/758835724170823-PARK does not exist!\n",
            "\n",
            "⚠️ Warning: /content/frames_local/4296628437490111-SOCCER 2 does not exist!⚠️ Warning: /content/frames_local/8974586496745574-STINK does not exist!\n",
            "\n",
            "⚠️ Warning: /content/frames_local/7887674832651268-ROSE does not exist!⚠️ Warning: /content/frames_local/2533700608131162-HUG does not exist!\n",
            "⚠️ Warning: /content/frames_local/39724298100683586-TUBE does not exist!\n",
            "⚠️ Warning: /content/frames_local/6447224024551217-COUNT does not exist!\n",
            "⚠️ Warning: /content/frames_local/3597949009905055-NICE does not exist!\n",
            "\n",
            "⚠️ Warning: /content/frames_local/6760439916067384-EASY TO_DO does not exist!\n",
            "⚠️ Warning: /content/frames_local/011333819686008217-PEACOCK does not exist!⚠️ Warning: /content/frames_local/7188185690882314-INFLUENCE does not exist!\n",
            "⚠️ Warning: /content/frames_local/7303477097205586-CIRCUSWHEEL does not exist!\n"
          ]
        },
        {
          "output_type": "stream",
          "name": "stderr",
          "text": [
            "\r  1%|          | 511/83399 [00:03<08:18, 166.43it/s]"
          ]
        },
        {
          "output_type": "stream",
          "name": "stdout",
          "text": [
            "⚠️ Warning: /content/frames_local/024011464372713398-NOSE does not exist!\n",
            "\n",
            "⚠️ Warning: /content/frames_local/9759517528565997-GYM does not exist!⚠️ Warning: /content/frames_local/6869661482649054-WEAVE does not exist!\n",
            "\n",
            "⚠️ Warning: /content/frames_local/402799943476833-BACKPACK does not exist!⚠️ Warning: /content/frames_local/9576162261212695-SMOOTH does not exist!\n",
            "\n",
            "⚠️ Warning: /content/frames_local/193766215011427-WE does not exist!\n",
            "⚠️ Warning: /content/frames_local/21062694853324015-DOWNHILL does not exist!\n",
            "⚠️ Warning: /content/frames_local/2033811194245334-JUICE 2 does not exist!\n",
            "⚠️ Warning: /content/frames_local/10519132337113168-SCOLD does not exist!\n",
            "⚠️ Warning: /content/frames_local/8567560062300015-SOCIAL does not exist!\n",
            "⚠️ Warning: /content/frames_local/0009701491968876486-PULL CONVINCE does not exist!\n",
            "⚠️ Warning: /content/frames_local/941566774478487-CAPTURE does not exist!⚠️ Warning: /content/frames_local/9375257849788068-POWDER does not exist!\n",
            "⚠️ Warning: /content/frames_local/79908701976413-PONDER does not exist!\n",
            "\n",
            "⚠️ Warning: /content/frames_local/12346770580162225-JOKE does not exist!\n",
            "⚠️ Warning: /content/frames_local/39620919491442197-SOCIETY does not exist!⚠️ Warning: /content/frames_local/7646621786777874-WATERDROP does not exist!\n",
            "\n",
            "⚠️ Warning: /content/frames_local/2590930129006048-ANYONE does not exist!⚠️ Warning: /content/frames_local/9467535744773914-MAPLE does not exist!\n",
            "\n",
            "⚠️ Warning: /content/frames_local/4700164980726875-CEMETERY does not exist!\n",
            "⚠️ Warning: /content/frames_local/6566958242484378-FAIL does not exist!\n",
            "⚠️ Warning: /content/frames_local/04374941905926821-KNIGHT does not exist!\n",
            "⚠️ Warning: /content/frames_local/7494826589826964-ALL OF_SUDDEN does not exist!"
          ]
        },
        {
          "output_type": "stream",
          "name": "stderr",
          "text": [
            "\r  1%|          | 529/83399 [00:03<08:07, 169.95it/s]"
          ]
        },
        {
          "output_type": "stream",
          "name": "stdout",
          "text": [
            "\n",
            "⚠️ Warning: /content/frames_local/038096166121724284-TOTAL does not exist!⚠️ Warning: /content/frames_local/05399800038436342-COOL 3 does not exist!\n",
            "⚠️ Warning: /content/frames_local/7562077282774307-FASHION does not exist!\n",
            "\n",
            "⚠️ Warning: /content/frames_local/3239316431732939-LONG AGO does not exist!⚠️ Warning: /content/frames_local/9937921981224223-BECOME does not exist!\n",
            "\n",
            "⚠️ Warning: /content/frames_local/30139252759341084-IMPROVE does not exist!⚠️ Warning: /content/frames_local/8583121038136252-UNCERTAIN does not exist!\n",
            "\n",
            "⚠️ Warning: /content/frames_local/7108325310454742-GREET does not exist!\n",
            "⚠️ Warning: /content/frames_local/45598940201514604-PROPOSE does not exist!\n",
            "⚠️ Warning: /content/frames_local/36439437341311876-TOSS OUT does not exist!⚠️ Warning: /content/frames_local/42205716128135684-SQUARE does not exist!\n",
            "\n",
            "⚠️ Warning: /content/frames_local/8507496487441046-EMPTY 2 does not exist!\n",
            "⚠️ Warning: /content/frames_local/5471756985478564-PACK does not exist!\n",
            "⚠️ Warning: /content/frames_local/014439537236845323-THANK YOU does not exist!⚠️ Warning: /content/frames_local/9660332860584313-EACH OTHER does not exist!\n",
            "\n",
            "⚠️ Warning: /content/frames_local/20674469249057004-WILL GO does not exist!⚠️ Warning: /content/frames_local/2960846729876947-PRECIOUS does not exist!\n",
            "\n"
          ]
        },
        {
          "output_type": "stream",
          "name": "stderr",
          "text": [
            "\r  1%|          | 551/83399 [00:03<07:35, 181.79it/s]"
          ]
        },
        {
          "output_type": "stream",
          "name": "stdout",
          "text": [
            "⚠️ Warning: /content/frames_local/17442789980546958-PARANOID does not exist!⚠️ Warning: /content/frames_local/755249976547044-LAY DOWN does not exist!\n",
            "\n",
            "⚠️ Warning: /content/frames_local/9616610768591958-ALASKA does not exist!\n",
            "⚠️ Warning: /content/frames_local/521252855673408-ARTICLE does not exist!⚠️ Warning: /content/frames_local/0463437829118285-EXPERIMENT does not exist!\n",
            "\n",
            "⚠️ Warning: /content/frames_local/2606706487253887-EVERY NIGHT does not exist!\n",
            "⚠️ Warning: /content/frames_local/20592677719120855-STORY 3 does not exist!⚠️ Warning: /content/frames_local/5566226287714806-GET TOGETHER does not exist!\n",
            "\n",
            "⚠️ Warning: /content/frames_local/4720341414338516-SQUEEZE does not exist!⚠️ Warning: /content/frames_local/6730670843247284-REMOVE does not exist!\n",
            "\n",
            "⚠️ Warning: /content/frames_local/5281046535919289-KNOCK OFF does not exist!⚠️ Warning: /content/frames_local/898137236917232-MOSQUITO does not exist!\n",
            "\n",
            "⚠️ Warning: /content/frames_local/7566090091231854-BETWEEN does not exist!⚠️ Warning: /content/frames_local/381603803230792-TOY 3 does not exist!\n",
            "\n",
            "⚠️ Warning: /content/frames_local/83501206885551-SPICY does not exist!⚠️ Warning: /content/frames_local/894975060052229-JEWELRY does not exist!\n",
            "⚠️ Warning: /content/frames_local/18793028836248604-BULLSHIT does not exist!\n",
            "\n",
            "⚠️ Warning: /content/frames_local/569210588467929-ADVANTAGE does not exist!⚠️ Warning: /content/frames_local/09947880888502714-WHISPER does not exist!\n"
          ]
        },
        {
          "output_type": "stream",
          "name": "stderr",
          "text": [
            "\r  1%|          | 570/83399 [00:03<07:40, 179.68it/s]"
          ]
        },
        {
          "output_type": "stream",
          "name": "stdout",
          "text": [
            "⚠️ Warning: /content/frames_local/49865855082032207-SIGN PAPER does not exist!\n",
            "\n",
            "⚠️ Warning: /content/frames_local/29409424485968594-THERAPY does not exist!\n",
            "⚠️ Warning: /content/frames_local/2575534049318191-DONT FEEL_LIKE does not exist!\n",
            "⚠️ Warning: /content/frames_local/45557909255564133-LEAVE ALONE does not exist!⚠️ Warning: /content/frames_local/674029804447982-COMMUNITY does not exist!\n",
            "⚠️ Warning: /content/frames_local/45522547932041335-CLIENT does not exist!\n",
            "⚠️ Warning: /content/frames_local/12841038226728507-BREAKFAST does not exist!\n",
            "\n",
            "⚠️ Warning: /content/frames_local/9017819727277792-MAKE BELIEVE does not exist!⚠️ Warning: /content/frames_local/8311677579369254-TURN does not exist!\n",
            "⚠️ Warning: /content/frames_local/07925142118956563-ROAR does not exist!\n",
            "\n",
            "⚠️ Warning: /content/frames_local/7465920316461632-CORNER does not exist!\n",
            "⚠️ Warning: /content/frames_local/43276646791952444-HATBRIM does not exist!\n",
            "⚠️ Warning: /content/frames_local/11256279965151816-GOODY GOODY_SHOE_OPPOSITE does not exist!⚠️ Warning: /content/frames_local/9961559221980916-CASTLE 2 does not exist!\n",
            "\n",
            "⚠️ Warning: /content/frames_local/07723427108584646-LEND does not exist!⚠️ Warning: /content/frames_local/8178271536533821-SOPHOMORE does not exist!\n",
            "\n",
            "⚠️ Warning: /content/frames_local/7664259084466163-SUPERVISOR does not exist!⚠️ Warning: /content/frames_local/9288473092874621-SWEAR IN does not exist!\n",
            "⚠️ Warning: /content/frames_local/9061603512813023-CHEW 2 does not exist!\n",
            "\n"
          ]
        },
        {
          "output_type": "stream",
          "name": "stderr",
          "text": [
            "\r  1%|          | 589/83399 [00:03<08:39, 159.56it/s]"
          ]
        },
        {
          "output_type": "stream",
          "name": "stdout",
          "text": [
            "⚠️ Warning: /content/frames_local/4943011241002053-INSTITUTE does not exist!⚠️ Warning: /content/frames_local/019857324285245337-REPLACE does not exist!\n",
            "\n",
            "⚠️ Warning: /content/frames_local/017681579754439847-SELL does not exist!⚠️ Warning: /content/frames_local/0029775581086972647-LICK ENVELOPE does not exist!\n",
            "\n",
            "⚠️ Warning: /content/frames_local/701606421745-PERCEIVE does not exist!\n",
            "⚠️ Warning: /content/frames_local/7187051011859877-FOCUS does not exist!⚠️ Warning: /content/frames_local/01536327929851189-STUMBLE does not exist!\n",
            "\n",
            "⚠️ Warning: /content/frames_local/7474307151425281-CELEBRATE does not exist!⚠️ Warning: /content/frames_local/28849242857630597-EXPERT does not exist!\n",
            "\n",
            "⚠️ Warning: /content/frames_local/7048840334372948-GRAPES 2 does not exist!⚠️ Warning: /content/frames_local/2798436297536455-TOSS does not exist!\n",
            "\n",
            "⚠️ Warning: /content/frames_local/3361252621280326-WIDE does not exist!⚠️ Warning: /content/frames_local/6105643191163064-RHINO 2 does not exist!\n",
            "⚠️ Warning: /content/frames_local/7921459983875652-BLEED does not exist!\n",
            "⚠️ Warning: /content/frames_local/503159105594591-PEEL 2 does not exist!\n",
            "⚠️ Warning: /content/frames_local/20141323399383038-POOR does not exist!\n",
            "\n",
            "⚠️ Warning: /content/frames_local/17777316675017052-DOG does not exist!⚠️ Warning: /content/frames_local/5503868341096074-DEVELOP does not exist!"
          ]
        },
        {
          "output_type": "stream",
          "name": "stderr",
          "text": [
            "\r  1%|          | 606/83399 [00:03<08:35, 160.48it/s]"
          ]
        },
        {
          "output_type": "stream",
          "name": "stdout",
          "text": [
            "\n",
            "⚠️ Warning: /content/frames_local/6937971182098084-BOWLING 2 does not exist!\n",
            "\n",
            "⚠️ Warning: /content/frames_local/5175941281598448-RIDE 2 does not exist!\n",
            "⚠️ Warning: /content/frames_local/7093937539123578-IPHONE does not exist!⚠️ Warning: /content/frames_local/24840096622109953-KISS 3 does not exist!\n",
            "\n",
            "⚠️ Warning: /content/frames_local/8081668677951284-FLOAT 3 does not exist!\n",
            "⚠️ Warning: /content/frames_local/33180929301495143-GRANDMOTHER does not exist!\n",
            "⚠️ Warning: /content/frames_local/1286434199130273-THEORY does not exist!\n",
            "⚠️ Warning: /content/frames_local/6248629879037961-BRA 2 does not exist!⚠️ Warning: /content/frames_local/1108717638938157-SHORT WORD does not exist!\n",
            "\n",
            "⚠️ Warning: /content/frames_local/8305535105258888-CARROT 2 does not exist!⚠️ Warning: /content/frames_local/13132445002758897-LABEL does not exist!\n",
            "\n",
            "⚠️ Warning: /content/frames_local/24715605354350778-BALL does not exist!\n",
            "⚠️ Warning: /content/frames_local/8317676984337925-VILLAGE does not exist!⚠️ Warning: /content/frames_local/2886495359866825-FIRED does not exist!\n",
            "\n",
            "⚠️ Warning: /content/frames_local/7543438536817044-FURNITURE does not exist!\n",
            "⚠️ Warning: /content/frames_local/10967239838402598-WITH does not exist!⚠️ Warning: /content/frames_local/703831493724637-EARTH does not exist!\n",
            "\n",
            "⚠️ Warning: /content/frames_local/6764651962786699-ADVERTISE does not exist!\n",
            "⚠️ Warning: /content/frames_local/8448676184696655-TOW 3 does not exist!⚠️ Warning: /content/frames_local/9971994773105604-DEMOTE does not exist!\n",
            "⚠️ Warning: /content/frames_local/21345201266496527-BOOTS does not exist!\n",
            "⚠️ Warning: /content/frames_local/9891392028667418-INHALE does not exist!"
          ]
        },
        {
          "output_type": "stream",
          "name": "stderr",
          "text": [
            "\r  1%|          | 627/83399 [00:03<08:10, 168.90it/s]"
          ]
        },
        {
          "output_type": "stream",
          "name": "stdout",
          "text": [
            "\n",
            "\n",
            "⚠️ Warning: /content/frames_local/5991120483661896-CARVE does not exist!⚠️ Warning: /content/frames_local/8038077599749618-CARDS does not exist!\n",
            "\n",
            "⚠️ Warning: /content/frames_local/30735006544794397-CANADA does not exist!⚠️ Warning: /content/frames_local/46918670233616866-MINIMUM does not exist!\n",
            "⚠️ Warning: /content/frames_local/008460209456316203-JUNIOR does not exist!\n",
            "⚠️ Warning: /content/frames_local/5496799801208176-BLOW CANDLE_1 does not exist!\n",
            "\n",
            "⚠️ Warning: /content/frames_local/44417424079446066-CORKSCREW 2 does not exist!⚠️ Warning: /content/frames_local/08082414477089328-GLOVES 3 does not exist!\n",
            "\n",
            "⚠️ Warning: /content/frames_local/7371610876431656-LEAF 2 does not exist!⚠️ Warning: /content/frames_local/6036711238812922-SLICE 2 does not exist!\n",
            "\n",
            "⚠️ Warning: /content/frames_local/26439420589592477-DARK does not exist!⚠️ Warning: /content/frames_local/34182074647150995-NURSE does not exist!\n",
            "⚠️ Warning: /content/frames_local/5885833949985597-THROW does not exist!\n",
            "\n",
            "⚠️ Warning: /content/frames_local/7860677296517535-CHEW 2_MOUTH does not exist!\n",
            "⚠️ Warning: /content/frames_local/11863534499498907-HATCH 2 does not exist!\n"
          ]
        },
        {
          "output_type": "stream",
          "name": "stderr",
          "text": [
            "\r  1%|          | 645/83399 [00:03<08:48, 156.49it/s]"
          ]
        },
        {
          "output_type": "stream",
          "name": "stdout",
          "text": [
            "⚠️ Warning: /content/frames_local/1813899812026507-ARREST 2 does not exist!⚠️ Warning: /content/frames_local/19471040860723443-SWEATER 3 does not exist!\n",
            "⚠️ Warning: /content/frames_local/4973148207095919-ENVELOPE 4 does not exist!\n",
            "\n",
            "⚠️ Warning: /content/frames_local/22478513842793557-JACKET 2 does not exist!⚠️ Warning: /content/frames_local/7756128092275554-FINALLY does not exist!\n",
            "\n",
            "⚠️ Warning: /content/frames_local/9887316456020367-TRIM 2 does not exist!⚠️ Warning: /content/frames_local/2580419662072009-GLOVES 4 does not exist!\n",
            "⚠️ Warning: /content/frames_local/4345786149184214-PILLOW 2 does not exist!\n",
            "⚠️ Warning: /content/frames_local/6246549914691799-CHEAT 2 does not exist!\n",
            "⚠️ Warning: /content/frames_local/7932503137750462-FOLLOW 3 does not exist!\n",
            "⚠️ Warning: /content/frames_local/8163313061181219-CELLPHONE does not exist!\n",
            "\n",
            "⚠️ Warning: /content/frames_local/004272649075903079-FLASHLIGHT 3 does not exist!\n",
            "⚠️ Warning: /content/frames_local/09127306227946264-NOSE BLEED does not exist!⚠️ Warning: /content/frames_local/48395854073459854-RACECAR TRACK does not exist!\n",
            "\n",
            "\n",
            "⚠️ Warning: /content/frames_local/10236598982146194-HELICOPTER 2 does not exist!⚠️ Warning: /content/frames_local/8086424106219279-LIGHT 2 does not exist!⚠️ Warning: /content/frames_local/3010294738843122-SHIRT 2 does not exist!\n",
            "⚠️ Warning: /content/frames_local/5992978330851055-PECK does not exist!\n",
            "\n",
            "⚠️ Warning: /content/frames_local/6798197881140879-SAW 2 does not exist!\n",
            "⚠️ Warning: /content/frames_local/7168856798550707-DOLPHIN 2 does not exist!⚠️ Warning: /content/frames_local/12669726740621057-BUMPY does not exist!\n",
            "⚠️ Warning: /content/frames_local/9435041622962683-SLIP 2 does not exist!⚠️ Warning: /content/frames_local/24526895590037223-CROSS 3 does not exist!"
          ]
        },
        {
          "output_type": "stream",
          "name": "stderr",
          "text": [
            "\r  1%|          | 666/83399 [00:04<08:06, 170.08it/s]"
          ]
        },
        {
          "output_type": "stream",
          "name": "stdout",
          "text": [
            "\n",
            "\n",
            "⚠️ Warning: /content/frames_local/10285706432797781-KANGAROO 3 does not exist!\n",
            "⚠️ Warning: /content/frames_local/8450105323978336-STRAIN 1 does not exist!\n",
            "\n",
            "⚠️ Warning: /content/frames_local/5234647407327859-PILLOW 3 does not exist!⚠️ Warning: /content/frames_local/9383448191733077-YEAH does not exist!\n",
            "\n",
            "⚠️ Warning: /content/frames_local/9271319540419956-SNEEZE 2 does not exist!\n",
            "⚠️ Warning: /content/frames_local/4455297020301163-MOP 2 does not exist!⚠️ Warning: /content/frames_local/2634483829913492-ARRIVE does not exist!\n",
            "\n",
            "⚠️ Warning: /content/frames_local/5239206783300603-STRETCH-CA does not exist!⚠️ Warning: /content/frames_local/02131581178431574-CLOCK 2 does not exist!\n",
            "\n",
            "⚠️ Warning: /content/frames_local/8352438155685169-STAND 2 does not exist!⚠️ Warning: /content/frames_local/9317987198300575-MEASURE 2 does not exist!\n",
            "\n",
            "⚠️ Warning: /content/frames_local/7903041870096725-SHAVE 4 does not exist!⚠️ Warning: /content/frames_local/5572084870775083-GLASS 3 does not exist!\n",
            "\n",
            "⚠️ Warning: /content/frames_local/15841835443910002-CAUSE does not exist!\n",
            "⚠️ Warning: /content/frames_local/6438128381168797-SUMMON does not exist!⚠️ Warning: /content/frames_local/8058121510363265-RUN FAUCET does not exist!\n",
            "⚠️ Warning: /content/frames_local/9903444079337274-BANANA 2 does not exist!\n",
            "\n"
          ]
        },
        {
          "output_type": "stream",
          "name": "stderr",
          "text": [
            "\r  1%|          | 684/83399 [00:04<08:38, 159.54it/s]"
          ]
        },
        {
          "output_type": "stream",
          "name": "stdout",
          "text": [
            "⚠️ Warning: /content/frames_local/08060394554053163-STRETCH 2 does not exist!⚠️ Warning: /content/frames_local/5773744878291307-PEACH 2 does not exist!\n",
            "⚠️ Warning: /content/frames_local/9553318754297411-DIP 3 does not exist!\n",
            "\n",
            "⚠️ Warning: /content/frames_local/7473493115593715-CHERRY 2 does not exist!\n",
            "⚠️ Warning: /content/frames_local/4986672602945341-ELEVATOR 3 does not exist!⚠️ Warning: /content/frames_local/805251149993387-DUCK 2 does not exist!\n",
            "\n",
            "⚠️ Warning: /content/frames_local/4328981841838875-PET 2 does not exist!\n",
            "⚠️ Warning: /content/frames_local/36977652499182057-STACK 2 does not exist!⚠️ Warning: /content/frames_local/25359838903865217-SIGN LANGUAGE does not exist!\n",
            "\n",
            "⚠️ Warning: /content/frames_local/10829421777530057-ENVELOPE 2 does not exist!⚠️ Warning: /content/frames_local/5666884241110774-BURY 2 does not exist!\n",
            "\n",
            "⚠️ Warning: /content/frames_local/3401881404458804-GUN does not exist!⚠️ Warning: /content/frames_local/5684604344761137-ARREST 3 does not exist!\n",
            "⚠️ Warning: /content/frames_local/8057787598667017-BOIL 2 does not exist!\n",
            "⚠️ Warning: /content/frames_local/8185699315614803-LIGHT CANDLE does not exist!\n",
            "\n",
            "⚠️ Warning: /content/frames_local/6407005642106143-FLOAT 2 does not exist!⚠️ Warning: /content/frames_local/5127815661704609-KNITTING 3 does not exist!\n",
            "\n"
          ]
        },
        {
          "output_type": "stream",
          "name": "stderr",
          "text": [
            "\r  1%|          | 701/83399 [00:04<08:43, 158.05it/s]"
          ]
        },
        {
          "output_type": "stream",
          "name": "stdout",
          "text": [
            "⚠️ Warning: /content/frames_local/41455262875959953-SMILE 2 does not exist!⚠️ Warning: /content/frames_local/3038765263837697-CLOUD 4 does not exist!\n",
            "\n",
            "⚠️ Warning: /content/frames_local/6340849968493041-CRACKER 2 does not exist!⚠️ Warning: /content/frames_local/6929634567614391-CARROT 3 does not exist!\n",
            "\n",
            "⚠️ Warning: /content/frames_local/9881965480772794-FRENCH does not exist!⚠️ Warning: /content/frames_local/06486740728713336-MOUNTAIN 2 does not exist!\n",
            "\n",
            "⚠️ Warning: /content/frames_local/5572997071187749-VAMPIRE does not exist!⚠️ Warning: /content/frames_local/6921494806658774-PARACHUTE 2 does not exist!\n",
            "\n",
            "⚠️ Warning: /content/frames_local/1383203105819133-CALENDAR does not exist!⚠️ Warning: /content/frames_local/5868603660193392-CLOCK does not exist!\n",
            "⚠️ Warning: /content/frames_local/8733109006343269-CROSS does not exist!\n",
            "\n",
            "⚠️ Warning: /content/frames_local/011857496480111474-RUSSIA does not exist!⚠️ Warning: /content/frames_local/6340622091575041-TV does not exist!\n",
            "\n",
            "⚠️ Warning: /content/frames_local/9328514720747945-RAZOR 2 does not exist!⚠️ Warning: /content/frames_local/5067326372178802-MAGIC does not exist!\n",
            "\n",
            "⚠️ Warning: /content/frames_local/02450557358015293-JACKET does not exist!⚠️ Warning: /content/frames_local/6445331634562388-WHAT FOR does not exist!\n"
          ]
        },
        {
          "output_type": "stream",
          "name": "stderr",
          "text": [
            "\r  1%|          | 718/83399 [00:04<08:38, 159.54it/s]"
          ]
        },
        {
          "output_type": "stream",
          "name": "stdout",
          "text": [
            "\n",
            "⚠️ Warning: /content/frames_local/7459003227179599-RABBIT does not exist!⚠️ Warning: /content/frames_local/10447776831007882-LINE does not exist!\n",
            "\n",
            "⚠️ Warning: /content/frames_local/07141966342871009-MIX 3 does not exist!⚠️ Warning: /content/frames_local/9714883348452366-CAPTION does not exist!\n",
            "\n",
            "⚠️ Warning: /content/frames_local/33505533584075575-JELLY does not exist!⚠️ Warning: /content/frames_local/04580286068089667-ENJOY does not exist!\n",
            "\n",
            "⚠️ Warning: /content/frames_local/15365556773972355-SNOW 2 does not exist!⚠️ Warning: /content/frames_local/8515089770258144-ERASE 2 does not exist!\n",
            "\n",
            "⚠️ Warning: /content/frames_local/823110623400116-WANT does not exist!⚠️ Warning: /content/frames_local/13678451685096915-PIPE 3 does not exist!\n",
            "\n",
            "⚠️ Warning: /content/frames_local/7293731316229108-BENEFIT does not exist!⚠️ Warning: /content/frames_local/5142134278555357-KNITTING does not exist!\n",
            "\n",
            "⚠️ Warning: /content/frames_local/004175172748227984-DART does not exist!⚠️ Warning: /content/frames_local/015907943367508448-EYES does not exist!\n",
            "⚠️ Warning: /content/frames_local/8565231572205234-SURE does not exist!\n",
            "\n",
            "⚠️ Warning: /content/frames_local/7383284467475846-GUESS does not exist!⚠️ Warning: /content/frames_local/5588499945170378-LOBSTER 2 does not exist!\n"
          ]
        },
        {
          "output_type": "stream",
          "name": "stderr",
          "text": [
            "\r  1%|          | 735/83399 [00:04<08:37, 159.78it/s]"
          ]
        },
        {
          "output_type": "stream",
          "name": "stdout",
          "text": [
            "⚠️ Warning: /content/frames_local/21726284787567063-DEMAND does not exist!\n",
            "\n",
            "⚠️ Warning: /content/frames_local/34194595854850096-CHURCH does not exist!⚠️ Warning: /content/frames_local/3416901692651766-CANDLE does not exist!\n",
            "\n",
            "⚠️ Warning: /content/frames_local/3120967580566334-COMPUTER MOUSE does not exist!⚠️ Warning: /content/frames_local/9271579911868026-SANDWICH 3 does not exist!\n",
            "\n",
            "⚠️ Warning: /content/frames_local/8181460730057075-NECKLACE 4 does not exist!⚠️ Warning: /content/frames_local/2957896307414234-NEED does not exist!\n",
            "⚠️ Warning: /content/frames_local/23595475577416636-PINEAPPLE does not exist!\n",
            "\n",
            "⚠️ Warning: /content/frames_local/8811710885283992-SWIM 2 does not exist!\n",
            "⚠️ Warning: /content/frames_local/8918308028270203-BONE does not exist!⚠️ Warning: /content/frames_local/9696686155718444-BUN does not exist!\n",
            "\n",
            "⚠️ Warning: /content/frames_local/8427150876658211-CHILDREN does not exist!⚠️ Warning: /content/frames_local/41826815713017607-TEAR does not exist!\n",
            "\n",
            "⚠️ Warning: /content/frames_local/8335502012159159-FRUIT does not exist!⚠️ Warning: /content/frames_local/48244638878087853-SECRET does not exist!\n",
            "⚠️ Warning: /content/frames_local/19069990980190799-ORDER 2 does not exist!\n",
            "⚠️ Warning: /content/frames_local/8357855864449022-PROBLEM 1 does not exist!\n"
          ]
        },
        {
          "output_type": "stream",
          "name": "stderr",
          "text": [
            "\r  1%|          | 752/83399 [00:04<09:19, 147.62it/s]"
          ]
        },
        {
          "output_type": "stream",
          "name": "stdout",
          "text": [
            "\n",
            "⚠️ Warning: /content/frames_local/6481009555935966-HOUSE does not exist!\n",
            "⚠️ Warning: /content/frames_local/6059622084284462-WOOD does not exist!⚠️ Warning: /content/frames_local/7934875679337032-DOLL does not exist!\n",
            "⚠️ Warning: /content/frames_local/6974238936465946-DROP does not exist!\n",
            "\n",
            "⚠️ Warning: /content/frames_local/17554792295984845-TANKTOP does not exist!\n",
            "⚠️ Warning: /content/frames_local/5789130966288654-GAME does not exist!\n",
            "⚠️ Warning: /content/frames_local/4818293388696262-HAIRCUT does not exist!⚠️ Warning: /content/frames_local/5632090317291663-FOREIGNER does not exist!\n",
            "\n",
            "⚠️ Warning: /content/frames_local/6555552878816469-ADULT does not exist!\n",
            "⚠️ Warning: /content/frames_local/34025840457070067-APPOINTMENT does not exist!⚠️ Warning: /content/frames_local/09571663395072427-JUGGLE does not exist!\n",
            "\n",
            "⚠️ Warning: /content/frames_local/945060415448846-NOW does not exist!\n",
            "⚠️ Warning: /content/frames_local/3519446452419639-ORAL does not exist!⚠️ Warning: /content/frames_local/2200241167783541-SCAN does not exist!\n",
            "\n",
            "⚠️ Warning: /content/frames_local/7777825196820936-HOT COMPETITION does not exist!\n",
            "⚠️ Warning: /content/frames_local/6016017574074628-CORKSCREW does not exist!⚠️ Warning: /content/frames_local/7717057217254395-THEY does not exist!\n",
            "\n",
            "⚠️ Warning: /content/frames_local/38950739320714645-TAIL does not exist!⚠️ Warning: /content/frames_local/8036675892366985-SCROLL DOWN does not exist!\n",
            "\n"
          ]
        },
        {
          "output_type": "stream",
          "name": "stderr",
          "text": [
            "\r  1%|          | 771/83399 [00:04<08:51, 155.58it/s]"
          ]
        },
        {
          "output_type": "stream",
          "name": "stdout",
          "text": [
            "⚠️ Warning: /content/frames_local/9588604018454037-WELL does not exist!\n",
            "⚠️ Warning: /content/frames_local/47788320315336663-BICYCLE does not exist!\n",
            "⚠️ Warning: /content/frames_local/38007899810915124-EARN does not exist!⚠️ Warning: /content/frames_local/08783991298704752-EGO does not exist!\n",
            "\n",
            "⚠️ Warning: /content/frames_local/682290148919185-TELL does not exist!⚠️ Warning: /content/frames_local/5834024675891472-STEAK does not exist!\n",
            "\n",
            "⚠️ Warning: /content/frames_local/3273366342294657-THIRSTY does not exist!⚠️ Warning: /content/frames_local/25788263512754495-SMOKING does not exist!\n",
            "\n",
            "⚠️ Warning: /content/frames_local/16956951272283427-GOSSIP does not exist!\n",
            "⚠️ Warning: /content/frames_local/11140060715285816-SOUTH does not exist!\n",
            "⚠️ Warning: /content/frames_local/24193734646812537-YESTERDAY does not exist!\n",
            "⚠️ Warning: /content/frames_local/9406031669184307-DROWN does not exist!\n",
            "⚠️ Warning: /content/frames_local/21338949344886227-PATIENT 2 does not exist!⚠️ Warning: /content/frames_local/36798218729571786-BALANCE does not exist!\n",
            "\n",
            "⚠️ Warning: /content/frames_local/726223421501971-PAINT does not exist!\n",
            "⚠️ Warning: /content/frames_local/3223083200780035-STOCKINGS does not exist!⚠️ Warning: /content/frames_local/39040662175778196-CALL does not exist!\n",
            "⚠️ Warning: /content/frames_local/8089330458355601-LOCK does not exist!\n",
            "⚠️ Warning: /content/frames_local/393295857925948-EAR does not exist!\n",
            "⚠️ Warning: /content/frames_local/367841674457434-PERSISTENT does not exist!\n",
            "\n",
            "⚠️ Warning: /content/frames_local/8981376760589752-FEBRUARY does not exist!\n"
          ]
        },
        {
          "output_type": "stream",
          "name": "stderr",
          "text": [
            "\r  1%|          | 793/83399 [00:04<08:00, 171.85it/s]"
          ]
        },
        {
          "output_type": "stream",
          "name": "stdout",
          "text": [
            "⚠️ Warning: /content/frames_local/8980531534841563-HEAR 1 does not exist!⚠️ Warning: /content/frames_local/08747665130314042-TROPHY does not exist!\n",
            "⚠️ Warning: /content/frames_local/6642648183118116-STAND does not exist!\n",
            "\n",
            "⚠️ Warning: /content/frames_local/775934637445302-LESS does not exist!⚠️ Warning: /content/frames_local/5336635865778496-DICE does not exist!\n",
            "⚠️ Warning: /content/frames_local/6246635581253737-YOUNG does not exist!\n",
            "\n",
            "⚠️ Warning: /content/frames_local/2133365171829278-IMPACT does not exist!⚠️ Warning: /content/frames_local/6692546186048767-INTERPRETER does not exist!\n",
            "\n",
            "⚠️ Warning: /content/frames_local/9345880091901102-EAGLE does not exist!\n",
            "⚠️ Warning: /content/frames_local/573735386536506-STUCK does not exist!\n",
            "⚠️ Warning: /content/frames_local/9166396293559669-OH I_SEE does not exist!⚠️ Warning: /content/frames_local/41029280941888735-RELAX does not exist!\n",
            "\n",
            "⚠️ Warning: /content/frames_local/48667330658915553-SHAME does not exist!⚠️ Warning: /content/frames_local/6333885986734502-RAT does not exist!\n",
            "\n",
            "⚠️ Warning: /content/frames_local/25378784918098174-OFFHAND does not exist!⚠️ Warning: /content/frames_local/5279895044627418-AGREEMENT does not exist!\n",
            "\n",
            "⚠️ Warning: /content/frames_local/24754455638054895-POP does not exist!\n",
            "⚠️ Warning: /content/frames_local/9248256944866455-DIRTY does not exist!\n"
          ]
        },
        {
          "output_type": "stream",
          "name": "stderr",
          "text": [
            "\r  1%|          | 811/83399 [00:04<08:15, 166.52it/s]"
          ]
        },
        {
          "output_type": "stream",
          "name": "stdout",
          "text": [
            "⚠️ Warning: /content/frames_local/4085537867360489-CIRCLE does not exist!⚠️ Warning: /content/frames_local/5372668319999747-NO does not exist!\n",
            "⚠️ Warning: /content/frames_local/6787901273668946-GLASS 1 does not exist!\n",
            "\n",
            "⚠️ Warning: /content/frames_local/49492855034781624-PEANUT BUTTER does not exist!⚠️ Warning: /content/frames_local/08513342968170257-CANOE does not exist!\n",
            "⚠️ Warning: /content/frames_local/9097522719762483-TEST does not exist!\n",
            "\n",
            "⚠️ Warning: /content/frames_local/48435002857753817-TEETH does not exist!⚠️ Warning: /content/frames_local/7102622774546783-BELT does not exist!\n",
            "\n",
            "⚠️ Warning: /content/frames_local/5628156573374106-TODAY does not exist!⚠️ Warning: /content/frames_local/5082492576840383-KID does not exist!\n",
            "⚠️ Warning: /content/frames_local/7064746790954382-GIRL does not exist!\n",
            "\n",
            "⚠️ Warning: /content/frames_local/916287850917487-BOAT does not exist!\n",
            "⚠️ Warning: /content/frames_local/9538072760940814-OPEN BOOK does not exist!\n",
            "⚠️ Warning: /content/frames_local/20814778930087607-USE does not exist!⚠️ Warning: /content/frames_local/2873737968249803-EASY does not exist!\n",
            "⚠️ Warning: /content/frames_local/9474561958347409-WEIGHT does not exist!\n",
            "\n",
            "⚠️ Warning: /content/frames_local/09891286692753609-SCHOOL does not exist!\n",
            "⚠️ Warning: /content/frames_local/6023140007240295-CHARGE CARD does not exist!⚠️ Warning: /content/frames_local/03746395070097952-IDEA does not exist!\n",
            "\n",
            "⚠️ Warning: /content/frames_local/07598140885303795-THERMOMETER does not exist!\n",
            "⚠️ Warning: /content/frames_local/6673206481467684-SHARK 1 does not exist!\n"
          ]
        },
        {
          "output_type": "stream",
          "name": "stderr",
          "text": [
            "\r  1%|          | 831/83399 [00:05<08:01, 171.36it/s]"
          ]
        },
        {
          "output_type": "stream",
          "name": "stdout",
          "text": [
            "⚠️ Warning: /content/frames_local/6548359118926097-ROCKET 2 does not exist!\n",
            "⚠️ Warning: /content/frames_local/08998259763121008-LET KNOW does not exist!\n",
            "⚠️ Warning: /content/frames_local/9642576614192337-PREACHER does not exist!⚠️ Warning: /content/frames_local/41405801734964043-MEET does not exist!\n",
            "\n",
            "⚠️ Warning: /content/frames_local/35527877685921094-OPEN WALLET does not exist!⚠️ Warning: /content/frames_local/0580578186613665-ZIPPER does not exist!\n",
            "⚠️ Warning: /content/frames_local/9940257783889723-CREATE does not exist!\n",
            "⚠️ Warning: /content/frames_local/012100790577244558-MATCH does not exist!\n",
            "⚠️ Warning: /content/frames_local/6864699565160692-SILVER does not exist!\n",
            "\n",
            "⚠️ Warning: /content/frames_local/8482080291969265-PLENTY does not exist!⚠️ Warning: /content/frames_local/03710350592325584-CHANGE does not exist!\n",
            "\n",
            "⚠️ Warning: /content/frames_local/7245024022987878-OBVIOUS does not exist!\n",
            "⚠️ Warning: /content/frames_local/6942834524009942-BEE does not exist!⚠️ Warning: /content/frames_local/36305299512235356-PHARMACIST does not exist!\n",
            "\n",
            "⚠️ Warning: /content/frames_local/16505519650098455-SPRING does not exist!\n",
            "⚠️ Warning: /content/frames_local/5673346080112269-REFLECT does not exist!\n",
            "\n",
            "⚠️ Warning: /content/frames_local/8808744309072858-BIND does not exist!⚠️ Warning: /content/frames_local/7750625465116667-MISSING does not exist!⚠️ Warning: /content/frames_local/12548966764914815-BULLDOZER does not exist!\n"
          ]
        },
        {
          "output_type": "stream",
          "name": "stderr",
          "text": [
            "\r  1%|          | 850/83399 [00:05<07:51, 175.08it/s]"
          ]
        },
        {
          "output_type": "stream",
          "name": "stdout",
          "text": [
            "\n",
            "⚠️ Warning: /content/frames_local/42204088436419274-IMMERSE does not exist!\n",
            "⚠️ Warning: /content/frames_local/4049995708628238-TAKE OFF does not exist!⚠️ Warning: /content/frames_local/7313470209748698-TRUE BUSINESS does not exist!\n",
            "⚠️ Warning: /content/frames_local/5212285317617278-AUDIENCE does not exist!\n",
            "\n",
            "⚠️ Warning: /content/frames_local/061316921130843305-WRAP does not exist!⚠️ Warning: /content/frames_local/1398866670459633-PENGUIN does not exist!\n",
            "\n",
            "⚠️ Warning: /content/frames_local/9361449475083383-DELINQUENT does not exist!\n",
            "⚠️ Warning: /content/frames_local/21609133086632148-PJS does not exist!⚠️ Warning: /content/frames_local/8773863329740939-DANGER does not exist!\n",
            "\n",
            "⚠️ Warning: /content/frames_local/2675784755145161-BEG does not exist!⚠️ Warning: /content/frames_local/1678834499710664-SPEND LOTS_OF_MONEY does not exist!\n",
            "\n",
            "⚠️ Warning: /content/frames_local/9567063358433201-BOMB does not exist!⚠️ Warning: /content/frames_local/09176723865512693-CHIN 2 does not exist!\n",
            "⚠️ Warning: /content/frames_local/5877477403766205-SWING 2 does not exist!\n",
            "\n",
            "⚠️ Warning: /content/frames_local/6928241454944861-SOFT does not exist!\n",
            "⚠️ Warning: /content/frames_local/6859041728055406-CAR ACCIDENT does not exist!⚠️ Warning: /content/frames_local/7981821144757577-FIRETRUCK does not exist!\n",
            "\n",
            "⚠️ Warning: /content/frames_local/16027634949398117-WHITE does not exist!⚠️ Warning: /content/frames_local/17221166088036055-CLAUSE does not exist!"
          ]
        },
        {
          "output_type": "stream",
          "name": "stderr",
          "text": [
            "\r  1%|          | 868/83399 [00:05<08:01, 171.49it/s]"
          ]
        },
        {
          "output_type": "stream",
          "name": "stdout",
          "text": [
            "\n",
            "\n",
            "⚠️ Warning: /content/frames_local/8606910917968831-PUT does not exist!\n",
            "⚠️ Warning: /content/frames_local/3346796780303052-SUPPORT 2 does not exist!⚠️ Warning: /content/frames_local/26572867786563803-CLUELESS does not exist!\n",
            "\n",
            "⚠️ Warning: /content/frames_local/4612467897905175-TWINS does not exist!⚠️ Warning: /content/frames_local/4951508680992962-WASH FACE_1 does not exist!\n",
            "\n",
            "⚠️ Warning: /content/frames_local/7914969176922233-PLAIN does not exist!⚠️ Warning: /content/frames_local/8979799283882304-HEART TOUCH does not exist!\n",
            "\n",
            "⚠️ Warning: /content/frames_local/5910716606571675-FREE does not exist!⚠️ Warning: /content/frames_local/9502926253049975-CANCER does not exist!\n",
            "⚠️ Warning: /content/frames_local/9081816589308054-SLED 1 does not exist!\n",
            "⚠️ Warning: /content/frames_local/7551709617578584-CAMEL does not exist!\n",
            "⚠️ Warning: /content/frames_local/26744417567554857-TO A_GOAL does not exist!\n",
            "\n",
            "⚠️ Warning: /content/frames_local/845583367464454-BOW 3 does not exist!⚠️ Warning: /content/frames_local/6411119940820968-KNOCK does not exist!\n",
            "\n",
            "⚠️ Warning: /content/frames_local/8840472524339504-RUN OUT_OF does not exist!⚠️ Warning: /content/frames_local/5271676044512075-BRAILLE does not exist!\n",
            "\n",
            "⚠️ Warning: /content/frames_local/8220503082889505-FENCING does not exist!⚠️ Warning: /content/frames_local/21176465620377893-DESSERT does not exist!\n"
          ]
        },
        {
          "output_type": "stream",
          "name": "stderr",
          "text": [
            "\r  1%|          | 886/83399 [00:05<07:55, 173.37it/s]"
          ]
        },
        {
          "output_type": "stream",
          "name": "stdout",
          "text": [
            "\n",
            "⚠️ Warning: /content/frames_local/33105289912907976-MUSCLE does not exist!\n",
            "⚠️ Warning: /content/frames_local/3958753309494858-SLIDE does not exist!⚠️ Warning: /content/frames_local/26574475047261026-ECLIPSE does not exist!\n",
            "\n",
            "⚠️ Warning: /content/frames_local/29906579062983885-BUTTONS does not exist!⚠️ Warning: /content/frames_local/6458203226414239-GUM does not exist!\n",
            "\n",
            "⚠️ Warning: /content/frames_local/1428817670957705-RACE does not exist!⚠️ Warning: /content/frames_local/1986007166975341-LICK 2 does not exist!\n",
            "⚠️ Warning: /content/frames_local/6355143976749551-OPERATE MACHINE does not exist!\n",
            "\n",
            "⚠️ Warning: /content/frames_local/9081722124665514-RUIN does not exist!\n",
            "⚠️ Warning: /content/frames_local/27500193690965324-UNICORN does not exist!\n",
            "⚠️ Warning: /content/frames_local/6876756955718417-BACKYARD does not exist!⚠️ Warning: /content/frames_local/6679882700429056-LIPS does not exist!\n",
            "⚠️ Warning: /content/frames_local/9785840698521964-KISS ON_CHEEK does not exist!\n",
            "\n",
            "⚠️ Warning: /content/frames_local/10899776819659879-BUFFALO does not exist!\n",
            "⚠️ Warning: /content/frames_local/7447838033895864-SHOULD does not exist!⚠️ Warning: /content/frames_local/4902245623825132-PIN ON does not exist!\n",
            "\n",
            "⚠️ Warning: /content/frames_local/9033951183755784-CURIOUS does not exist!⚠️ Warning: /content/frames_local/34858554485687865-NAIL does not exist!\n",
            "\n",
            "⚠️ Warning: /content/frames_local/2239115848074491-MELON does not exist!⚠️ Warning: /content/frames_local/009915111997864212-FIX does not exist!\n",
            "\n",
            "⚠️ Warning: /content/frames_local/3714054656515293-ARGUE does not exist!\n",
            "⚠️ Warning: /content/frames_local/6751966585966453-SEVEN does not exist!"
          ]
        },
        {
          "output_type": "stream",
          "name": "stderr",
          "text": [
            "\r  1%|          | 910/83399 [00:05<07:08, 192.41it/s]"
          ]
        },
        {
          "output_type": "stream",
          "name": "stdout",
          "text": [
            "\n",
            "⚠️ Warning: /content/frames_local/26070041519112674-DINING ROOM does not exist!⚠️ Warning: /content/frames_local/3918678808994427-HOLD does not exist!\n",
            "\n",
            "⚠️ Warning: /content/frames_local/08341495990911096-REFRIGERATOR does not exist!⚠️ Warning: /content/frames_local/14509795374465262-TAPE does not exist!\n",
            "\n",
            "⚠️ Warning: /content/frames_local/4891142429929183-MICROPHONE does not exist!⚠️ Warning: /content/frames_local/09348851811257752-NEXT TO does not exist!\n",
            "\n",
            "⚠️ Warning: /content/frames_local/20665150449756453-ARCHEOLOGY does not exist!⚠️ Warning: /content/frames_local/7389574114292055-OCEAN does not exist!\n",
            "\n",
            "⚠️ Warning: /content/frames_local/9495419363863675-PERMISSION does not exist!\n",
            "⚠️ Warning: /content/frames_local/2053925903776488-RIDE 1 does not exist!⚠️ Warning: /content/frames_local/9398703841083913-SKUNK does not exist!\n",
            "\n",
            "⚠️ Warning: /content/frames_local/9321172620631089-CONVINCE does not exist!\n",
            "⚠️ Warning: /content/frames_local/1422693040623011-SOUR does not exist!⚠️ Warning: /content/frames_local/44036150930141615-HALF does not exist!\n",
            "⚠️ Warning: /content/frames_local/9362257667539511-WEEKEND does not exist!\n",
            "⚠️ Warning: /content/frames_local/25587365627870473-VISUALIZE does not exist!\n",
            "⚠️ Warning: /content/frames_local/16038467425151426-SCORE does not exist!\n",
            "⚠️ Warning: /content/frames_local/4945066725857523-STAMP 2 does not exist!\n",
            "⚠️ Warning: /content/frames_local/6073433623305806-NEWS TO_ME does not exist!\n",
            "\n",
            "⚠️ Warning: /content/frames_local/02464248991346185-IMMATURE does not exist!⚠️ Warning: /content/frames_local/4623939078299175-FENCE does not exist!\n",
            "\n",
            "⚠️ Warning: /content/frames_local/9187970219553703-BACK UP does not exist!\n",
            "⚠️ Warning: /content/frames_local/7586792938011859-THINK EXPAND does not exist!\n",
            "⚠️ Warning: /content/frames_local/8121714014014498-CELERY does not exist!"
          ]
        },
        {
          "output_type": "stream",
          "name": "stderr",
          "text": [
            "\r  1%|          | 933/83399 [00:05<06:46, 202.67it/s]"
          ]
        },
        {
          "output_type": "stream",
          "name": "stdout",
          "text": [
            "⚠️ Warning: /content/frames_local/060510514939626336-DOCUMENT does not exist!\n",
            "\n",
            "⚠️ Warning: /content/frames_local/3167272995281376-DREADLOCKS does not exist!⚠️ Warning: /content/frames_local/6261250434431211-PROGRAM does not exist!\n",
            "⚠️ Warning: /content/frames_local/5668693834062983-VERY does not exist!\n",
            "\n",
            "⚠️ Warning: /content/frames_local/3060487300523651-SAXOPHONE does not exist!\n",
            "⚠️ Warning: /content/frames_local/7154387520066623-BUSTED does not exist!\n",
            "⚠️ Warning: /content/frames_local/7412036674746227-HANDS OFF does not exist!⚠️ Warning: /content/frames_local/9234048858116006-TIME PROGRESS does not exist!\n",
            "\n",
            "⚠️ Warning: /content/frames_local/12376055835765443-RESIST does not exist!⚠️ Warning: /content/frames_local/5564288825822907-NEEDLE does not exist!\n",
            "\n",
            "⚠️ Warning: /content/frames_local/13626176053453953-SOUND does not exist!⚠️ Warning: /content/frames_local/18820142261023975-SIREN does not exist!\n",
            "⚠️ Warning: /content/frames_local/9358728475408691-DUTY does not exist!\n",
            "\n",
            "⚠️ Warning: /content/frames_local/6077345158270049-PROTEST does not exist!\n",
            "⚠️ Warning: /content/frames_local/11044012470847586-BOIL does not exist!\n",
            "⚠️ Warning: /content/frames_local/7581675088571544-MEMORIZE does not exist!⚠️ Warning: /content/frames_local/16773855585263187-ONE MORE_1 does not exist!\n",
            "\n",
            "⚠️ Warning: /content/frames_local/07049522163394939-SELF does not exist!⚠️ Warning: /content/frames_local/12727868514342755-SPILL 1 does not exist!\n",
            "⚠️ Warning: /content/frames_local/5010906491885074-DEVELOP does not exist!\n",
            "\n",
            "⚠️ Warning: /content/frames_local/044700512259179925-TOP does not exist!\n"
          ]
        },
        {
          "output_type": "stream",
          "name": "stderr",
          "text": [
            "\r  1%|          | 954/83399 [00:05<07:23, 186.02it/s]"
          ]
        },
        {
          "output_type": "stream",
          "name": "stdout",
          "text": [
            "⚠️ Warning: /content/frames_local/13698404104270012-SHARPEN 1 does not exist!⚠️ Warning: /content/frames_local/635262261966874-TOW 1 does not exist!\n",
            "\n",
            "⚠️ Warning: /content/frames_local/8643136674769543-AREA does not exist!⚠️ Warning: /content/frames_local/16745069113802313-PHILOSOPHY does not exist!\n",
            "⚠️ Warning: /content/frames_local/8661531195489742-SHARP 1 does not exist!\n",
            "⚠️ Warning: /content/frames_local/34720267604028443-HOLY does not exist!\n",
            "⚠️ Warning: /content/frames_local/0987109376030939-WHILE does not exist!\n",
            "\n",
            "⚠️ Warning: /content/frames_local/05383387018361496-FINGERS CROSSED does not exist!⚠️ Warning: /content/frames_local/5457666403794905-QUARTER does not exist!\n",
            "\n",
            "⚠️ Warning: /content/frames_local/304541461633119-HONGKONG does not exist!⚠️ Warning: /content/frames_local/8582421156380451-STUDY does not exist!\n",
            "⚠️ Warning: /content/frames_local/23368170114064513-COACH does not exist!\n",
            "⚠️ Warning: /content/frames_local/4848268002518783-DIZZY does not exist!\n",
            "\n",
            "⚠️ Warning: /content/frames_local/5175503311738741-ENVIRONMENT does not exist!⚠️ Warning: /content/frames_local/3074374786031364-CONVINCE 2 does not exist!\n",
            "\n",
            "⚠️ Warning: /content/frames_local/5143610214907899-CANNON does not exist!⚠️ Warning: /content/frames_local/7904649473435432-PAIR does not exist!\n",
            "\n",
            "⚠️ Warning: /content/frames_local/1547033752966065-BLINK does not exist!⚠️ Warning: /content/frames_local/0828326162590376-NAVY does not exist!\n",
            "\n"
          ]
        },
        {
          "output_type": "stream",
          "name": "stderr",
          "text": [
            "\r  1%|          | 973/83399 [00:05<07:36, 180.49it/s]"
          ]
        },
        {
          "output_type": "stream",
          "name": "stdout",
          "text": [
            "⚠️ Warning: /content/frames_local/7996329072408532-PHOTOGRAPHY does not exist!\n",
            "⚠️ Warning: /content/frames_local/5931559715589938-REACT does not exist!⚠️ Warning: /content/frames_local/5030969222993125-UNAWARE does not exist!\n",
            "\n",
            "⚠️ Warning: /content/frames_local/1253448695587931-SAVE MONEY does not exist!⚠️ Warning: /content/frames_local/329145434693467-HEAD BACK does not exist!\n",
            "\n",
            "⚠️ Warning: /content/frames_local/3464253731961544-CATCH 2 does not exist!\n",
            "⚠️ Warning: /content/frames_local/773316113480492-W.H.A.T does not exist!⚠️ Warning: /content/frames_local/18721819748063595-CALM does not exist!\n",
            "\n",
            "⚠️ Warning: /content/frames_local/8157226262677291-ICE does not exist!⚠️ Warning: /content/frames_local/26195343019974393-DOWN does not exist!\n",
            "\n",
            "⚠️ Warning: /content/frames_local/6239969381843566-BASKET 1 does not exist!⚠️ Warning: /content/frames_local/2731564653537184-OPINION 1 does not exist!\n",
            "\n",
            "⚠️ Warning: /content/frames_local/483050922422563-LINGUISTICS does not exist!⚠️ Warning: /content/frames_local/3966063130039079-KICK does not exist!\n",
            "\n",
            "⚠️ Warning: /content/frames_local/7588239813770072-CRASH does not exist!⚠️ Warning: /content/frames_local/07940899233931042-STEAM does not exist!\n",
            "\n",
            "⚠️ Warning: /content/frames_local/41245312386920996-BURN 1 does not exist!\n",
            "⚠️ Warning: /content/frames_local/7585890658021501-LOAD does not exist!⚠️ Warning: /content/frames_local/5498627467106327-SPECIALIST does not exist!\n",
            "⚠️ Warning: /content/frames_local/9506284345504894-SINGLE OUT does not exist!"
          ]
        },
        {
          "output_type": "stream",
          "name": "stderr",
          "text": [
            "\r  1%|          | 992/83399 [00:05<08:12, 167.47it/s]"
          ]
        },
        {
          "output_type": "stream",
          "name": "stdout",
          "text": [
            "\n",
            "\n",
            "⚠️ Warning: /content/frames_local/21946164612760133-WASH FACE_2 does not exist!⚠️ Warning: /content/frames_local/606691531762477-TICKLE does not exist!\n",
            "\n",
            "⚠️ Warning: /content/frames_local/1622474789338748-VIDEOGAME does not exist!⚠️ Warning: /content/frames_local/6113806047132992-STACK does not exist!\n",
            "\n",
            "⚠️ Warning: /content/frames_local/10520608434310907-MODEL 2 does not exist!\n",
            "⚠️ Warning: /content/frames_local/005276933272324369-SAME TIME does not exist!⚠️ Warning: /content/frames_local/631572863481012-NOT A_THING does not exist!\n",
            "⚠️ Warning: /content/frames_local/6674652529490979-OFTEN does not exist!\n",
            "⚠️ Warning: /content/frames_local/7900722949705501-HOSPITAL does not exist!\n",
            "⚠️ Warning: /content/frames_local/277174461951617-GREAT does not exist!\n",
            "\n",
            "⚠️ Warning: /content/frames_local/7052862340943338-CALIFORNIA does not exist!⚠️ Warning: /content/frames_local/44653243349820126-NOTHING AT_ALL does not exist!\n",
            "\n",
            "⚠️ Warning: /content/frames_local/6168617236410376-ADMIRE does not exist!\n",
            "⚠️ Warning: /content/frames_local/18045536953991848-CARRY does not exist!\n",
            "⚠️ Warning: /content/frames_local/6789489813519145-TWO WEEKS does not exist!\n",
            "⚠️ Warning: /content/frames_local/19068030948202863-NEXT YEAR does not exist!⚠️ Warning: /content/frames_local/14528860379505093-ONCE does not exist!\n",
            "⚠️ Warning: /content/frames_local/7547243118675264-FLIP does not exist!\n",
            "\n",
            "⚠️ Warning: /content/frames_local/7895938121852559-AGAINST does not exist!\n",
            "⚠️ Warning: /content/frames_local/7954429488485928-WITHOUT does not exist!\n",
            "⚠️ Warning: /content/frames_local/18896572104586795-ROLE does not exist!\n",
            "⚠️ Warning: /content/frames_local/416619274823923-GRIND does not exist!⚠️ Warning: /content/frames_local/2884470246266293-FILE 2 does not exist!\n"
          ]
        },
        {
          "output_type": "stream",
          "name": "stderr",
          "text": [
            "\r  1%|          | 1016/83399 [00:06<07:25, 184.86it/s]"
          ]
        },
        {
          "output_type": "stream",
          "name": "stdout",
          "text": [
            "⚠️ Warning: /content/frames_local/3656745387901563-US does not exist!\n",
            "\n",
            "⚠️ Warning: /content/frames_local/5431785653590169-SEE SEE does not exist!⚠️ Warning: /content/frames_local/16099487151956193-BASKETBALL does not exist!\n",
            "\n",
            "⚠️ Warning: /content/frames_local/701008210571411-ARIZONA does not exist!\n",
            "⚠️ Warning: /content/frames_local/08545961723232676-MINE does not exist!⚠️ Warning: /content/frames_local/34821054245619365-MAINSTREAM does not exist!\n",
            "⚠️ Warning: /content/frames_local/577224478912544-SAIL 2 does not exist!\n",
            "\n",
            "⚠️ Warning: /content/frames_local/03651954119674139-HAWAII does not exist!⚠️ Warning: /content/frames_local/24151088993402237-PLUG 2 does not exist!\n",
            "\n",
            "⚠️ Warning: /content/frames_local/39513854488946754-COMMITTEE does not exist!\n",
            "⚠️ Warning: /content/frames_local/8379125363499109-SHOULDER 3 does not exist!⚠️ Warning: /content/frames_local/6721625343431474-BLUR does not exist!\n",
            "\n",
            "⚠️ Warning: /content/frames_local/4115154995802779-DROWN 2 does not exist!⚠️ Warning: /content/frames_local/6352800098810387-CRY 2 does not exist!\n",
            "\n",
            "⚠️ Warning: /content/frames_local/149064638228112-SHARPEN 3 does not exist!\n",
            "⚠️ Warning: /content/frames_local/37721145989759153-BRIDGE 2 does not exist!\n",
            "⚠️ Warning: /content/frames_local/06042984020614495-CRUMPLE does not exist!\n",
            "\n",
            "⚠️ Warning: /content/frames_local/08245454526312512-TIE 2 does not exist!⚠️ Warning: /content/frames_local/2163963292709643-BURY 1 does not exist!⚠️ Warning: /content/frames_local/3770224791819434-HOODIE 1 does not exist!\n",
            "\n",
            "⚠️ Warning: /content/frames_local/6876316227187425-HIPPO 2 does not exist!"
          ]
        },
        {
          "output_type": "stream",
          "name": "stderr",
          "text": [
            "\r  1%|          | 1036/83399 [00:06<07:23, 185.67it/s]"
          ]
        },
        {
          "output_type": "stream",
          "name": "stdout",
          "text": [
            "\n",
            "⚠️ Warning: /content/frames_local/8484966819574966-TURKEY 2 does not exist!⚠️ Warning: /content/frames_local/24627319624614907-CITY 2 does not exist!\n",
            "\n",
            "⚠️ Warning: /content/frames_local/10342934732974984-THROW 2 does not exist!⚠️ Warning: /content/frames_local/8945781876864851-SPREAD 3 does not exist!\n",
            "\n",
            "⚠️ Warning: /content/frames_local/3046650949537899-BURY 3 does not exist!⚠️ Warning: /content/frames_local/12203102297388835-TOW 2 does not exist!\n",
            "\n",
            "⚠️ Warning: /content/frames_local/41707043415358935-STRETCH 1 does not exist!⚠️ Warning: /content/frames_local/49568821327570567-AWARD does not exist!\n",
            "⚠️ Warning: /content/frames_local/7539973691746786-HOLD 2 does not exist!\n",
            "⚠️ Warning: /content/frames_local/8787725454028246-BANANA 3 does not exist!\n",
            "⚠️ Warning: /content/frames_local/29022182248733586-IDENTITY does not exist!\n",
            "⚠️ Warning: /content/frames_local/9010210856271526-DOLPHIN 3 does not exist!\n",
            "\n",
            "⚠️ Warning: /content/frames_local/21032328892684538-SUNRISE does not exist!⚠️ Warning: /content/frames_local/870437262796762-GLOVES 2 does not exist!\n",
            "\n",
            "⚠️ Warning: /content/frames_local/10331285598762752-COMB 2 does not exist!⚠️ Warning: /content/frames_local/13014078898215797-ARM 3 does not exist!\n",
            "\n",
            "⚠️ Warning: /content/frames_local/34922366591487997-BITE ON_ARM does not exist!\n",
            "⚠️ Warning: /content/frames_local/05721776576863369-GROUP does not exist!\n",
            "\n",
            "⚠️ Warning: /content/frames_local/34400265408023745-CASTLE 3 does not exist!\n",
            "⚠️ Warning: /content/frames_local/7179739647752834-HAT 2 does not exist!⚠️ Warning: /content/frames_local/9292705103012149-POPULAR does not exist!\n",
            "⚠️ Warning: /content/frames_local/3493444782845567-DEPARTMENT does not exist!"
          ]
        },
        {
          "output_type": "stream",
          "name": "stderr",
          "text": [
            "\r  1%|▏         | 1058/83399 [00:06<07:10, 191.41it/s]"
          ]
        },
        {
          "output_type": "stream",
          "name": "stdout",
          "text": [
            "⚠️ Warning: /content/frames_local/790125395179754-FORK 2 does not exist!\n",
            "⚠️ Warning: /content/frames_local/4490072994809038-WRESTLE does not exist!\n",
            "\n",
            "⚠️ Warning: /content/frames_local/24428111803321562-WEAK does not exist!⚠️ Warning: /content/frames_local/2560389728802408-FOUL does not exist!\n",
            "\n",
            "⚠️ Warning: /content/frames_local/6512980723993222-ONE MORE_2 does not exist!\n",
            "⚠️ Warning: /content/frames_local/540482559592623-INDIAN does not exist!\n",
            "⚠️ Warning: /content/frames_local/3828339008962236-QM does not exist!⚠️ Warning: /content/frames_local/9401197154532881-TWIRL does not exist!\n",
            "\n",
            "⚠️ Warning: /content/frames_local/04308913133276726-SLIP does not exist!⚠️ Warning: /content/frames_local/9834390334290202-POINT INDEX does not exist!\n",
            "⚠️ Warning: /content/frames_local/10352468443085039-CALL 2 does not exist!\n",
            "⚠️ Warning: /content/frames_local/8944983639696189-MEDICINE does not exist!\n",
            "\n",
            "⚠️ Warning: /content/frames_local/7546520362950315-MIX 2 does not exist!⚠️ Warning: /content/frames_local/5363852654946244-GO does not exist!\n",
            "⚠️ Warning: /content/frames_local/2682801550619127-SHOOT 2 does not exist!\n",
            "\n",
            "⚠️ Warning: /content/frames_local/496888220083215-FORK 3 does not exist!⚠️ Warning: /content/frames_local/2435464495201871-TINY does not exist!\n",
            "\n",
            "⚠️ Warning: /content/frames_local/031383645862392395-FENCE 2 does not exist!\n",
            "⚠️ Warning: /content/frames_local/966206093879105-ALL OVER does not exist!⚠️ Warning: /content/frames_local/1977023637643942-ALL does not exist!"
          ]
        },
        {
          "output_type": "stream",
          "name": "stderr",
          "text": [
            "\r  1%|▏         | 1078/83399 [00:06<07:05, 193.52it/s]"
          ]
        },
        {
          "output_type": "stream",
          "name": "stdout",
          "text": [
            "\n",
            "\n",
            "⚠️ Warning: /content/frames_local/45773358003114484-WHISTLE 3 does not exist!\n",
            "⚠️ Warning: /content/frames_local/3603901159488463-TRIANGLE does not exist!⚠️ Warning: /content/frames_local/7454602188191188-MILK 2 does not exist!\n",
            "\n",
            "⚠️ Warning: /content/frames_local/9977383547886205-CAT 3 does not exist!\n",
            "⚠️ Warning: /content/frames_local/23565613485196502-GET IN_BED does not exist!\n",
            "⚠️ Warning: /content/frames_local/9955493139137939-POLICEMAN 2 does not exist!\n",
            "⚠️ Warning: /content/frames_local/6632642480266981-RABBIT 2 does not exist!⚠️ Warning: /content/frames_local/4538853923605084-CAKE does not exist!\n",
            "\n",
            "⚠️ Warning: /content/frames_local/5408740371517065-COPY does not exist!⚠️ Warning: /content/frames_local/580287500821131-PENNY does not exist!\n",
            "⚠️ Warning: /content/frames_local/1798970502321311-8 HOUR does not exist!\n",
            "⚠️ Warning: /content/frames_local/04113037338765091-COMB does not exist!\n",
            "⚠️ Warning: /content/frames_local/8506489885184552-DUCK does not exist!\n",
            "\n",
            "⚠️ Warning: /content/frames_local/09083281118556008-PEG does not exist!\n",
            "⚠️ Warning: /content/frames_local/530548537895809-MEAT does not exist!\n",
            "⚠️ Warning: /content/frames_local/43438530362822236-MOUTH does not exist!\n",
            "⚠️ Warning: /content/frames_local/417315353580358-VLOG does not exist!\n"
          ]
        },
        {
          "output_type": "stream",
          "name": "stderr",
          "text": [
            "\r  1%|▏         | 1098/83399 [00:06<07:09, 191.45it/s]"
          ]
        },
        {
          "output_type": "stream",
          "name": "stdout",
          "text": [
            "⚠️ Warning: /content/frames_local/63359399610825-METAL does not exist!\n",
            "⚠️ Warning: /content/frames_local/05053234906948312-CHEER does not exist!\n",
            "⚠️ Warning: /content/frames_local/7449697775713291-GRAMMAR does not exist!\n",
            "⚠️ Warning: /content/frames_local/6862784179839421-BLINDS 2 does not exist!⚠️ Warning: /content/frames_local/8078640148398311-RIGHT 3 does not exist!\n",
            "\n",
            "⚠️ Warning: /content/frames_local/513989687565418-DOWNLOAD does not exist!\n",
            "⚠️ Warning: /content/frames_local/4603118376630684-TEACH does not exist!\n",
            "⚠️ Warning: /content/frames_local/23481071177880364-FINE does not exist!⚠️ Warning: /content/frames_local/3019564457918349-VOICE does not exist!\n",
            "\n",
            "⚠️ Warning: /content/frames_local/7666802297995068-HOW does not exist!\n",
            "⚠️ Warning: /content/frames_local/9491878971484133-WALK-TIGHTROPE-CL does not exist!⚠️ Warning: /content/frames_local/08595529379080036-SWEATER 2 does not exist!\n",
            "\n",
            "⚠️ Warning: /content/frames_local/01440664777989098-BABY 2 does not exist!⚠️ Warning: /content/frames_local/5126429605687421-MYSELF does not exist!\n",
            "\n",
            "⚠️ Warning: /content/frames_local/834315969072547-SLIDE 2 does not exist!\n",
            "⚠️ Warning: /content/frames_local/5567165581381783-OFFEND does not exist!\n",
            "⚠️ Warning: /content/frames_local/3454882501543648-SHOCKED does not exist!⚠️ Warning: /content/frames_local/6819483120388479-DECORATE 1 does not exist!\n",
            "\n",
            "⚠️ Warning: /content/frames_local/4281758463945209-LONG LINE does not exist!\n",
            "⚠️ Warning: /content/frames_local/5579989565654786-ENOUGH does not exist!⚠️ Warning: /content/frames_local/6025356315847881-UNCLE does not exist!\n",
            "\n",
            "⚠️ Warning: /content/frames_local/05055894490917323-SKI does not exist!"
          ]
        },
        {
          "output_type": "stream",
          "name": "stderr",
          "text": [
            "\r  1%|▏         | 1118/83399 [00:06<07:28, 183.45it/s]"
          ]
        },
        {
          "output_type": "stream",
          "name": "stdout",
          "text": [
            "⚠️ Warning: /content/frames_local/28149012901936943-RHINO 3 does not exist!\n",
            "\n",
            "⚠️ Warning: /content/frames_local/27483563733520766-HELICOPTER does not exist!\n",
            "⚠️ Warning: /content/frames_local/08003931001097664-DECIDE does not exist!\n",
            "⚠️ Warning: /content/frames_local/02345903390318238-PEG 3 does not exist!⚠️ Warning: /content/frames_local/37905327619239415-ERUPT 2 does not exist!\n",
            "\n",
            "⚠️ Warning: /content/frames_local/6310162607184366-VOMIT does not exist!\n",
            "⚠️ Warning: /content/frames_local/12677649959337267-TOMATO does not exist!\n",
            "⚠️ Warning: /content/frames_local/9207229748672727-SINCE does not exist!⚠️ Warning: /content/frames_local/6892329699112969-MICROSCOPE 3 does not exist!\n",
            "\n",
            "⚠️ Warning: /content/frames_local/539088949241769-BACK does not exist!⚠️ Warning: /content/frames_local/5857891780921844-PRETEND does not exist!\n",
            "\n",
            "⚠️ Warning: /content/frames_local/2215843074540289-FOREVER does not exist!⚠️ Warning: /content/frames_local/0876423323633222-WASH 3 does not exist!\n",
            "\n",
            "⚠️ Warning: /content/frames_local/9394150480302694-SELECT does not exist!⚠️ Warning: /content/frames_local/8839454790793697-WEIGH does not exist!\n",
            "\n",
            "⚠️ Warning: /content/frames_local/28075589807799695-COOPERATE does not exist!⚠️ Warning: /content/frames_local/3242143583057946-SUSHI does not exist!\n",
            "\n",
            "⚠️ Warning: /content/frames_local/3987795613042464-OFF does not exist!⚠️ Warning: /content/frames_local/030116806146377684-STORY 1 does not exist!\n"
          ]
        },
        {
          "output_type": "stream",
          "name": "stderr",
          "text": [
            "\r  1%|▏         | 1137/83399 [00:06<07:39, 179.20it/s]"
          ]
        },
        {
          "output_type": "stream",
          "name": "stdout",
          "text": [
            "⚠️ Warning: /content/frames_local/4437365663916535-GHOST does not exist!\n",
            "⚠️ Warning: /content/frames_local/6516460654825258-ELEVEN does not exist!\n",
            "⚠️ Warning: /content/frames_local/8243054179646172-SLIPPER does not exist!\n",
            "⚠️ Warning: /content/frames_local/49625873278295485-BRA 3 does not exist!\n",
            "⚠️ Warning: /content/frames_local/8976250668024572-TEACH 2 does not exist!\n",
            "⚠️ Warning: /content/frames_local/28101867995395424-DEFLATE does not exist!\n",
            "\n",
            "⚠️ Warning: /content/frames_local/9867394559792788-CLOUD 3 does not exist!⚠️ Warning: /content/frames_local/8936181887892376-CLOSE EYES does not exist!\n",
            "⚠️ Warning: /content/frames_local/3705545197543303-CRAWL 2 does not exist!\n",
            "\n",
            "⚠️ Warning: /content/frames_local/5944769704683099-TENT does not exist!⚠️ Warning: /content/frames_local/19201440219886234-BULL does not exist!\n",
            "\n",
            "⚠️ Warning: /content/frames_local/7095529017898845-DIG does not exist!⚠️ Warning: /content/frames_local/0693608320640191-PASSPORT does not exist!\n",
            "⚠️ Warning: /content/frames_local/3696881199998543-DIVIDE does not exist!\n",
            "\n",
            "⚠️ Warning: /content/frames_local/3709908001465627-SHOVEL 2 does not exist!⚠️ Warning: /content/frames_local/13428038477393467-VASE does not exist!\n",
            "\n",
            "⚠️ Warning: /content/frames_local/5809554227327571-APART does not exist!⚠️ Warning: /content/frames_local/07210967916744249-HANG does not exist!\n",
            "\n",
            "⚠️ Warning: /content/frames_local/9554284912263078-KNIFE 2 does not exist!"
          ]
        },
        {
          "output_type": "stream",
          "name": "stderr",
          "text": [
            "\r  1%|▏         | 1156/83399 [00:06<08:09, 168.00it/s]"
          ]
        },
        {
          "output_type": "stream",
          "name": "stdout",
          "text": [
            "⚠️ Warning: /content/frames_local/07718382695219561-WADE 2 does not exist!\n",
            "\n",
            "⚠️ Warning: /content/frames_local/3033483137060973-PINEAPPLE 4 does not exist!⚠️ Warning: /content/frames_local/130762991164749-CRY 4 does not exist!\n",
            "\n",
            "⚠️ Warning: /content/frames_local/8092288333175803-CHEW 4 does not exist!⚠️ Warning: /content/frames_local/8261495725724408-WALRUS does not exist!\n",
            "\n",
            "⚠️ Warning: /content/frames_local/6470119085386192-BUBBLES does not exist!⚠️ Warning: /content/frames_local/4841829261363437-CATCH 3 does not exist!\n",
            "⚠️ Warning: /content/frames_local/8723870102558002-BISON does not exist!\n",
            "\n",
            "⚠️ Warning: /content/frames_local/7311244120447451-CANNOT does not exist!⚠️ Warning: /content/frames_local/7107562415664654-PIZZA CUTTER does not exist!\n",
            "\n",
            "⚠️ Warning: /content/frames_local/08417004523761462-NINE does not exist!\n",
            "⚠️ Warning: /content/frames_local/23294168535481097-SALT SHAKER does not exist!\n",
            "⚠️ Warning: /content/frames_local/07117299394799081-PHYSICS does not exist!⚠️ Warning: /content/frames_local/1420171385528981-ROCKING CHAIR does not exist!\n",
            "⚠️ Warning: /content/frames_local/719663891242261-ZOO does not exist!\n",
            "\n",
            "⚠️ Warning: /content/frames_local/4525893657733351-WORD does not exist!⚠️ Warning: /content/frames_local/4212883330952435-GUIDE does not exist!\n",
            "\n"
          ]
        },
        {
          "output_type": "stream",
          "name": "stderr",
          "text": [
            "\r  1%|▏         | 1173/83399 [00:06<08:18, 165.09it/s]"
          ]
        },
        {
          "output_type": "stream",
          "name": "stdout",
          "text": [
            "⚠️ Warning: /content/frames_local/09918666018899347-EASTER does not exist!⚠️ Warning: /content/frames_local/6331525637033375-LIPREAD does not exist!\n",
            "⚠️ Warning: /content/frames_local/745970406034826-HOLD ACCOUNTABLE does not exist!\n",
            "⚠️ Warning: /content/frames_local/48117450972472886-SHAPE does not exist!\n",
            "\n",
            "⚠️ Warning: /content/frames_local/5485982089040253-REGISTER does not exist!⚠️ Warning: /content/frames_local/29027161884381236-GATE does not exist!\n",
            "\n",
            "⚠️ Warning: /content/frames_local/6861685750017725-PROPELLER 1 does not exist!⚠️ Warning: /content/frames_local/9329756282301038-NEXT does not exist!\n",
            "⚠️ Warning: /content/frames_local/9636912643721647-BREAKFAST does not exist!\n",
            "\n",
            "⚠️ Warning: /content/frames_local/48969019837387506-BOLT does not exist!⚠️ Warning: /content/frames_local/7822434515793355-DEAF does not exist!\n",
            "⚠️ Warning: /content/frames_local/12686606985182647-DRAGON does not exist!\n",
            "⚠️ Warning: /content/frames_local/6977339317789817-MAGNET does not exist!\n",
            "⚠️ Warning: /content/frames_local/2419966877927866-MUST does not exist!\n",
            "\n",
            "⚠️ Warning: /content/frames_local/5139815310454416-SPORTS does not exist!⚠️ Warning: /content/frames_local/6181706109470089-JEALOUS does not exist!\n",
            "⚠️ Warning: /content/frames_local/8482955251039546-SNEEZE does not exist!\n",
            "\n",
            "⚠️ Warning: /content/frames_local/05427524094274294-MEETING does not exist!\n"
          ]
        },
        {
          "output_type": "stream",
          "name": "stderr",
          "text": [
            "\r  1%|▏         | 1190/83399 [00:07<08:16, 165.72it/s]"
          ]
        },
        {
          "output_type": "stream",
          "name": "stdout",
          "text": [
            "⚠️ Warning: /content/frames_local/8211776021761659-KILL does not exist!⚠️ Warning: /content/frames_local/9358549554586091-AWAY does not exist!\n",
            "\n",
            "⚠️ Warning: /content/frames_local/16441136634945952-NOT YET does not exist!⚠️ Warning: /content/frames_local/6618742352834965-HOW 2 does not exist!\n",
            "\n",
            "⚠️ Warning: /content/frames_local/16219125394470524-DRIP does not exist!\n",
            "⚠️ Warning: /content/frames_local/3995077592955605-ANTLERS does not exist!⚠️ Warning: /content/frames_local/4984757919146279-MONSTER does not exist!\n",
            "⚠️ Warning: /content/frames_local/9222877904777216-HERE does not exist!\n",
            "⚠️ Warning: /content/frames_local/818385684177322-FORGETFUL does not exist!\n",
            "\n",
            "⚠️ Warning: /content/frames_local/8916302563045928-SEEM does not exist!⚠️ Warning: /content/frames_local/39156258358370355-CHRISTMAS does not exist!\n",
            "\n",
            "⚠️ Warning: /content/frames_local/3491037035007909-BETTER does not exist!⚠️ Warning: /content/frames_local/5485865510027221-QUIT does not exist!\n",
            "⚠️ Warning: /content/frames_local/9068843570496055-BANK does not exist!\n",
            "\n",
            "⚠️ Warning: /content/frames_local/9399385947741181-INSPIRING does not exist!⚠️ Warning: /content/frames_local/6338854859031247-GET THROUGH does not exist!\n"
          ]
        },
        {
          "output_type": "stream",
          "name": "stderr",
          "text": [
            "\r  1%|▏         | 1207/83399 [00:07<08:38, 158.47it/s]"
          ]
        },
        {
          "output_type": "stream",
          "name": "stdout",
          "text": [
            "\n",
            "⚠️ Warning: /content/frames_local/7187148068265468-CRACK does not exist!⚠️ Warning: /content/frames_local/1984552210623678-CREAM does not exist!\n",
            "⚠️ Warning: /content/frames_local/09459364825922179-NIGHT does not exist!\n",
            "⚠️ Warning: /content/frames_local/2953236973919846-BLOW MIND does not exist!\n",
            "⚠️ Warning: /content/frames_local/10420903219156519-CANCEL does not exist!\n",
            "\n",
            "⚠️ Warning: /content/frames_local/44696870937229094-PUSH does not exist!⚠️ Warning: /content/frames_local/23110542168299464-SWEATER does not exist!\n",
            "\n",
            "⚠️ Warning: /content/frames_local/1542615782401544-GRADE does not exist!⚠️ Warning: /content/frames_local/2655557656122378-RULE does not exist!\n",
            "\n",
            "⚠️ Warning: /content/frames_local/40039024981232463-BRING does not exist!\n",
            "⚠️ Warning: /content/frames_local/9293874788852543-SANTA does not exist!\n",
            "⚠️ Warning: /content/frames_local/0982982862564119-STRING does not exist!⚠️ Warning: /content/frames_local/39662085614502196-FIANCE does not exist!\n",
            "\n",
            "⚠️ Warning: /content/frames_local/27617384398906664-SIT does not exist!⚠️ Warning: /content/frames_local/48757339638818675-MARIONETTE does not exist!\n",
            "⚠️ Warning: /content/frames_local/08049155832863364-GO TO_JAIL does not exist!\n",
            "\n",
            "⚠️ Warning: /content/frames_local/6678239485343471-ESCAPE does not exist!"
          ]
        },
        {
          "output_type": "stream",
          "name": "stderr",
          "text": [
            "\r  1%|▏         | 1224/83399 [00:07<08:30, 161.06it/s]"
          ]
        },
        {
          "output_type": "stream",
          "name": "stdout",
          "text": [
            "\n",
            "⚠️ Warning: /content/frames_local/024560003590674118-EAST does not exist!\n",
            "⚠️ Warning: /content/frames_local/4328391040060535-PITCHER does not exist!\n",
            "⚠️ Warning: /content/frames_local/46900711981987286-TIRED OF does not exist!⚠️ Warning: /content/frames_local/2568204524814477-BUS does not exist!\n",
            "\n",
            "⚠️ Warning: /content/frames_local/8286875635745825-CHOPSTICKS does not exist!⚠️ Warning: /content/frames_local/8513616280140606-AWAKE does not exist!\n",
            "⚠️ Warning: /content/frames_local/24491788579800655-CLAP does not exist!\n",
            "⚠️ Warning: /content/frames_local/3821341924627337-BAT 2 does not exist!\n",
            "\n",
            "⚠️ Warning: /content/frames_local/7314043303510542-CAR BATTERY does not exist!⚠️ Warning: /content/frames_local/45424668391147294-SPOT SOMETHING does not exist!\n",
            "\n",
            "⚠️ Warning: /content/frames_local/24331648706129982-EARLY does not exist!⚠️ Warning: /content/frames_local/9724596719903091-BELIEVE does not exist!\n",
            "⚠️ Warning: /content/frames_local/880191771263412-SLED 2 does not exist!\n",
            "⚠️ Warning: /content/frames_local/6754295739478433-CLOSET 2 does not exist!\n",
            "\n",
            "⚠️ Warning: /content/frames_local/20614075169099078-EFFECT does not exist!⚠️ Warning: /content/frames_local/8697894981936034-PORCUPINE does not exist!\n",
            "\n"
          ]
        },
        {
          "output_type": "stream",
          "name": "stderr",
          "text": [
            "\r  1%|▏         | 1241/83399 [00:07<08:27, 161.74it/s]"
          ]
        },
        {
          "output_type": "stream",
          "name": "stdout",
          "text": [
            "⚠️ Warning: /content/frames_local/04984259953909054-NOT UNDERSTAND does not exist!⚠️ Warning: /content/frames_local/4194471454302029-LOVE does not exist!\n",
            "\n",
            "⚠️ Warning: /content/frames_local/901926531891079-FIT does not exist!\n",
            "⚠️ Warning: /content/frames_local/3167722048964172-INNOCENT does not exist!⚠️ Warning: /content/frames_local/017322997871319412-DAUGHTER does not exist!\n",
            "⚠️ Warning: /content/frames_local/35728857036118145-SAFE does not exist!\n",
            "\n",
            "⚠️ Warning: /content/frames_local/1673309637381799-SOMETIMES does not exist!\n",
            "⚠️ Warning: /content/frames_local/18107337312493454-SUIT does not exist!\n",
            "⚠️ Warning: /content/frames_local/39124572663152324-BLESS does not exist!⚠️ Warning: /content/frames_local/7449389779397084-WINDY does not exist!\n",
            "⚠️ Warning: /content/frames_local/3017633228385066-FINGER does not exist!\n",
            "⚠️ Warning: /content/frames_local/6880889640468302-CATCH does not exist!\n",
            "\n",
            "⚠️ Warning: /content/frames_local/5980482243687912-MISS does not exist!\n",
            "⚠️ Warning: /content/frames_local/014810295263860018-GATE CLOSE does not exist!⚠️ Warning: /content/frames_local/9891841840530151-FUN does not exist!\n",
            "⚠️ Warning: /content/frames_local/6929838002903266-HALLOWEEN does not exist!\n",
            "⚠️ Warning: /content/frames_local/6138770897256487-THRILLED does not exist!\n",
            "⚠️ Warning: /content/frames_local/34084262650837327-STILL does not exist!\n",
            "⚠️ Warning: /content/frames_local/5388838491886547-SHUT OUT does not exist!\n",
            "⚠️ Warning: /content/frames_local/48046366607913615-DINNER does not exist!\n",
            "\n"
          ]
        },
        {
          "output_type": "stream",
          "name": "stderr",
          "text": [
            "\r  2%|▏         | 1260/83399 [00:07<08:05, 169.29it/s]"
          ]
        },
        {
          "output_type": "stream",
          "name": "stdout",
          "text": [
            "⚠️ Warning: /content/frames_local/5406774368123304-RESTLESS does not exist!⚠️ Warning: /content/frames_local/5211102650304165-SAVE does not exist!\n",
            "⚠️ Warning: /content/frames_local/7226308848933403-MUMMY does not exist!\n",
            "\n",
            "⚠️ Warning: /content/frames_local/7882668493607337-DISPATCH does not exist!⚠️ Warning: /content/frames_local/7885949689494169-JOURNEY does not exist!\n",
            "\n",
            "⚠️ Warning: /content/frames_local/5373909207118546-DEDICATE 2 does not exist!\n",
            "⚠️ Warning: /content/frames_local/9826967731188163-PLATFORM does not exist!\n",
            "⚠️ Warning: /content/frames_local/6057977195540294-TO does not exist!⚠️ Warning: /content/frames_local/6417812195223931-CALCULATOR does not exist!\n",
            "\n",
            "⚠️ Warning: /content/frames_local/8064885617819932-CROWN does not exist!⚠️ Warning: /content/frames_local/39431890603234-SYSTEM does not exist!\n",
            "\n",
            "⚠️ Warning: /content/frames_local/5233256195966556-SHOOTING does not exist!⚠️ Warning: /content/frames_local/6143860831202708-INSTEAD does not exist!\n",
            "\n",
            "⚠️ Warning: /content/frames_local/787280411475551-EDIT does not exist!⚠️ Warning: /content/frames_local/4107704844328455-LAST WEEK does not exist!\n",
            "⚠️ Warning: /content/frames_local/4555919319187687-RETRIEVE does not exist!\n",
            "\n",
            "⚠️ Warning: /content/frames_local/8683230740908745-COMMUTE does not exist!⚠️ Warning: /content/frames_local/9006888665538193-HAIRDRESSER does not exist!\n",
            "⚠️ Warning: /content/frames_local/0288077178660322-MAD does not exist!\n"
          ]
        },
        {
          "output_type": "stream",
          "name": "stderr",
          "text": [
            "\r  2%|▏         | 1279/83399 [00:07<07:52, 173.80it/s]"
          ]
        },
        {
          "output_type": "stream",
          "name": "stdout",
          "text": [
            "\n",
            "⚠️ Warning: /content/frames_local/9383473995447502-I LOVE_YOU does not exist!⚠️ Warning: /content/frames_local/2917201101884195-BEND does not exist!\n",
            "\n",
            "⚠️ Warning: /content/frames_local/5298197680079035-AVERAGE does not exist!⚠️ Warning: /content/frames_local/1597311997598556-IMPRESS does not exist!\n",
            "\n",
            "\n",
            "⚠️ Warning: /content/frames_local/5889055617244161-VOLUNTEER does not exist!⚠️ Warning: /content/frames_local/623356755387551-VANISH does not exist!\n",
            "⚠️ Warning: /content/frames_local/3476425948425619-RIVER does not exist!⚠️ Warning: /content/frames_local/578024287625378-STAY does not exist!\n",
            "\n",
            "⚠️ Warning: /content/frames_local/49987165080022566-HUNDRED does not exist!⚠️ Warning: /content/frames_local/6504578796252551-NO BIG_DEAL does not exist!\n",
            "⚠️ Warning: /content/frames_local/10197900855285669-NECK does not exist!\n",
            "⚠️ Warning: /content/frames_local/30082043109463497-CLOSE DOOR does not exist!\n",
            "\n",
            "⚠️ Warning: /content/frames_local/23099527328070546-AXE does not exist!⚠️ Warning: /content/frames_local/43438528173222446-ALL OVER_BODY does not exist!\n",
            "\n",
            "⚠️ Warning: /content/frames_local/4201783484230448-HEAP does not exist!\n",
            "⚠️ Warning: /content/frames_local/9162471614827756-DONT CARE does not exist!⚠️ Warning: /content/frames_local/3747380897408126-ACQUIRE does not exist!\n",
            "\n"
          ]
        },
        {
          "output_type": "stream",
          "name": "stderr",
          "text": [
            "\r  2%|▏         | 1297/83399 [00:07<07:54, 173.14it/s]"
          ]
        },
        {
          "output_type": "stream",
          "name": "stdout",
          "text": [
            "⚠️ Warning: /content/frames_local/012560085352634864-CULTURE does not exist!⚠️ Warning: /content/frames_local/6692737378889628-SHAME ON_YOU does not exist!\n",
            "⚠️ Warning: /content/frames_local/0784604324884397-NAKED does not exist!\n",
            "\n",
            "⚠️ Warning: /content/frames_local/24529693875740155-BURP does not exist!⚠️ Warning: /content/frames_local/07619443262568226-TOPIC does not exist!\n",
            "⚠️ Warning: /content/frames_local/23868212045314907-STORY 2 does not exist!\n",
            "⚠️ Warning: /content/frames_local/8997914492776486-MANAGE does not exist!\n",
            "\n",
            "\n",
            "⚠️ Warning: /content/frames_local/7392604812272379-WHY NOT does not exist!⚠️ Warning: /content/frames_local/543590084890166-PROFOUNDLY DEAF does not exist!⚠️ Warning: /content/frames_local/32425004743799657-READY does not exist!\n",
            "\n",
            "⚠️ Warning: /content/frames_local/4790337405655838-CASUAL does not exist!⚠️ Warning: /content/frames_local/825209674190482-AT does not exist!\n",
            "⚠️ Warning: /content/frames_local/9475316615561911-BABYSITTER does not exist!\n",
            "⚠️ Warning: /content/frames_local/5535008721724826-WIND does not exist!\n",
            "⚠️ Warning: /content/frames_local/14636217320467848-LAW does not exist!\n",
            "\n",
            "⚠️ Warning: /content/frames_local/6474599123436813-PRIORITY does not exist!⚠️ Warning: /content/frames_local/5064412009565256-SCRATCH does not exist!\n",
            "⚠️ Warning: /content/frames_local/007653653917239822-KITTEN does not exist!\n",
            "\n",
            "⚠️ Warning: /content/frames_local/502255646634705-INTERVENE does not exist!\n",
            "⚠️ Warning: /content/frames_local/49801930250928317-DOG does not exist!⚠️ Warning: /content/frames_local/28011366753963496-TAKE NOTES does not exist!\n",
            "\n",
            "⚠️ Warning: /content/frames_local/6824832610673568-HOE does not exist!"
          ]
        },
        {
          "output_type": "stream",
          "name": "stderr",
          "text": [
            "\r  2%|▏         | 1318/83399 [00:07<07:29, 182.79it/s]"
          ]
        },
        {
          "output_type": "stream",
          "name": "stdout",
          "text": [
            "⚠️ Warning: /content/frames_local/21844213757422248-YOYO does not exist!\n",
            "\n",
            "⚠️ Warning: /content/frames_local/8168678210408071-COMPLAIN does not exist!⚠️ Warning: /content/frames_local/6185028332209872-WELCOME does not exist!\n",
            "⚠️ Warning: /content/frames_local/3632697955504758-TRUCK 2 does not exist!\n",
            "⚠️ Warning: /content/frames_local/6356650419987919-TWINS does not exist!\n",
            "\n",
            "⚠️ Warning: /content/frames_local/43346441282332826-GO THROUGH does not exist!⚠️ Warning: /content/frames_local/9614860317362715-PERIOD does not exist!\n",
            "⚠️ Warning: /content/frames_local/3915425524978069-SEAL does not exist!\n",
            "⚠️ Warning: /content/frames_local/3840260278791876-SITUATION does not exist!\n",
            "\n",
            "⚠️ Warning: /content/frames_local/40408234907185214-INSTAGRAM does not exist!⚠️ Warning: /content/frames_local/31202129074900253-ORGANIZATION does not exist!\n",
            "\n",
            "⚠️ Warning: /content/frames_local/021291283798207994-MAGNIFY 1 does not exist!⚠️ Warning: /content/frames_local/2998170572702914-VEST does not exist!\n",
            "\n",
            "⚠️ Warning: /content/frames_local/7779024385716864-WALK 2 does not exist!⚠️ Warning: /content/frames_local/22640644315828307-OPINION 2 does not exist!\n",
            "\n",
            "⚠️ Warning: /content/frames_local/768074718134518-CONFIDENTIAL does not exist!⚠️ Warning: /content/frames_local/5705532163108582-DONKEY does not exist!\n",
            "\n",
            "⚠️ Warning: /content/frames_local/1816927252093774-RETIRE does not exist!\n",
            "⚠️ Warning: /content/frames_local/9368917292650443-SKILL does not exist!⚠️ Warning: /content/frames_local/6565013703220883-LEFT does not exist!"
          ]
        },
        {
          "output_type": "stream",
          "name": "stderr",
          "text": [
            "\r  2%|▏         | 1337/83399 [00:07<08:10, 167.38it/s]"
          ]
        },
        {
          "output_type": "stream",
          "name": "stdout",
          "text": [
            "\n",
            "⚠️ Warning: /content/frames_local/4282432587031548-SCREWDRIVER 3 does not exist!\n",
            "\n",
            "⚠️ Warning: /content/frames_local/9706298266518718-SCULPT does not exist!⚠️ Warning: /content/frames_local/5042423551228388-FANTASY does not exist!\n",
            "\n",
            "⚠️ Warning: /content/frames_local/691310356287899-CLASH does not exist!⚠️ Warning: /content/frames_local/007031095440075852-ENERGY does not exist!\n",
            "⚠️ Warning: /content/frames_local/42178623946265303-ANALYZE does not exist!\n",
            "\n",
            "⚠️ Warning: /content/frames_local/9649471325313639-POP 2 does not exist!⚠️ Warning: /content/frames_local/9093816710503129-VALLEY does not exist!\n",
            "\n",
            "⚠️ Warning: /content/frames_local/022595407361428066-SQUARE IDIOT does not exist!⚠️ Warning: /content/frames_local/30078187931345624-FOND does not exist!\n",
            "\n",
            "⚠️ Warning: /content/frames_local/7164824288405782-VISITOR does not exist!\n",
            "⚠️ Warning: /content/frames_local/4239646146204692-SPILL 2 does not exist!⚠️ Warning: /content/frames_local/9251099638881126-SOFA does not exist!\n",
            "\n",
            "⚠️ Warning: /content/frames_local/33973508233400795-HEAR 2 does not exist!⚠️ Warning: /content/frames_local/3672920924039518-SKATEBOARDING 2 does not exist!\n",
            "⚠️ Warning: /content/frames_local/4977745434579599-GOING THROUGH_A_HARD_TIME does not exist!\n",
            "⚠️ Warning: /content/frames_local/8053447797575675-POUR 2 does not exist!\n"
          ]
        },
        {
          "output_type": "stream",
          "name": "stderr",
          "text": [
            "\r  2%|▏         | 1355/83399 [00:08<08:33, 159.75it/s]"
          ]
        },
        {
          "output_type": "stream",
          "name": "stdout",
          "text": [
            "\n",
            "⚠️ Warning: /content/frames_local/8844544797843785-YAWN 4 does not exist!\n",
            "⚠️ Warning: /content/frames_local/9434171694753406-DINNER does not exist!⚠️ Warning: /content/frames_local/6774117724322335-CANCER does not exist!\n",
            "\n",
            "⚠️ Warning: /content/frames_local/859815708954363-STAY AWAKE_24HRS does not exist!⚠️ Warning: /content/frames_local/8757265337424254-WHITE PERSON does not exist!\n",
            "\n",
            "⚠️ Warning: /content/frames_local/3696170953354059-NONSENSE does not exist!⚠️ Warning: /content/frames_local/9047770938243467-BAG 2 does not exist!\n",
            "\n",
            "⚠️ Warning: /content/frames_local/8023661989113013-NETWORK does not exist!\n",
            "⚠️ Warning: /content/frames_local/8593448202136678-DECORATE 2 does not exist!⚠️ Warning: /content/frames_local/971053005591326-BITE does not exist!\n",
            "⚠️ Warning: /content/frames_local/8133754181761901-QUALITY does not exist!\n",
            "⚠️ Warning: /content/frames_local/7116289403026272-SHOUT does not exist!\n",
            "\n",
            "⚠️ Warning: /content/frames_local/05080377785718082-OPEN does not exist!⚠️ Warning: /content/frames_local/7310256364494663-TRADITION does not exist!\n",
            "⚠️ Warning: /content/frames_local/4765760862318018-COMMENT does not exist!\n",
            "\n",
            "⚠️ Warning: /content/frames_local/1371700757887102-CORN 3 does not exist!⚠️ Warning: /content/frames_local/7655890187723344-DEAF SCHOOL does not exist!\n",
            "⚠️ Warning: /content/frames_local/8389194770329271-ROAR 2 does not exist!\n",
            "⚠️ Warning: /content/frames_local/44420472832751545-MIDDLE does not exist!"
          ]
        },
        {
          "output_type": "stream",
          "name": "stderr",
          "text": [
            "\r  2%|▏         | 1373/83399 [00:08<08:23, 162.90it/s]"
          ]
        },
        {
          "output_type": "stream",
          "name": "stdout",
          "text": [
            "\n",
            "⚠️ Warning: /content/frames_local/46412176381971193-KISS FIST does not exist!\n",
            "\n",
            "⚠️ Warning: /content/frames_local/8479540404221042-SKATEBOARDING 3 does not exist!⚠️ Warning: /content/frames_local/23140469319162804-SIDE does not exist!\n",
            "\n",
            "⚠️ Warning: /content/frames_local/4798967271193828-LICENSE does not exist!⚠️ Warning: /content/frames_local/8184024801192715-LEAGUE does not exist!\n",
            "⚠️ Warning: /content/frames_local/9348982750659371-DOCTOR 2 does not exist!\n",
            "⚠️ Warning: /content/frames_local/8168459788136493-SKI-CA does not exist!\n",
            "\n",
            "⚠️ Warning: /content/frames_local/22320028821783255-SWEETHEART does not exist!\n",
            "⚠️ Warning: /content/frames_local/35463426124847697-ALIGN does not exist!\n",
            "⚠️ Warning: /content/frames_local/30965607123388605-TEAR RIP_2 does not exist!⚠️ Warning: /content/frames_local/22772619216793366-MAGNET 2 does not exist!\n",
            "\n",
            "⚠️ Warning: /content/frames_local/7445100732730527-PEG 2 does not exist!⚠️ Warning: /content/frames_local/04741019736154661-TEENAGER does not exist!\n",
            "\n",
            "⚠️ Warning: /content/frames_local/34962576551980584-PUMPKIN does not exist!⚠️ Warning: /content/frames_local/6117186594355783-ATTITUDE does not exist!\n",
            "⚠️ Warning: /content/frames_local/7536820844768373-LAMP 2 does not exist!\n"
          ]
        },
        {
          "output_type": "stream",
          "name": "stderr",
          "text": [
            "\r  2%|▏         | 1390/83399 [00:08<08:21, 163.57it/s]"
          ]
        },
        {
          "output_type": "stream",
          "name": "stdout",
          "text": [
            "\n",
            "⚠️ Warning: /content/frames_local/16825040011770764-STACK 4 does not exist!⚠️ Warning: /content/frames_local/26131503858422134-ADDICT does not exist!\n",
            "⚠️ Warning: /content/frames_local/9902072514033509-MODEL 1 does not exist!\n",
            "\n",
            "⚠️ Warning: /content/frames_local/8465950529846231-FOURTH does not exist!⚠️ Warning: /content/frames_local/6552074898126194-STING does not exist!\n",
            "\n",
            "⚠️ Warning: /content/frames_local/1858164378351237-KANGAROO 2 does not exist!⚠️ Warning: /content/frames_local/9266844742601039-FROWN 2 does not exist!\n",
            "⚠️ Warning: /content/frames_local/689519349993541-PISSED OFF does not exist!\n",
            "\n",
            "⚠️ Warning: /content/frames_local/19921363674562498-WRISTWATCH 3 does not exist!⚠️ Warning: /content/frames_local/5100891627186381-POOP does not exist!\n",
            "\n",
            "⚠️ Warning: /content/frames_local/17521439259494387-GUN 3 does not exist!\n",
            "⚠️ Warning: /content/frames_local/8499404153465504-RECENT does not exist!\n",
            "⚠️ Warning: /content/frames_local/3176182919404742-FEEDBACK does not exist!\n",
            "⚠️ Warning: /content/frames_local/5875552719271184-LOSE GAME does not exist!⚠️ Warning: /content/frames_local/9544071485709771-LOST does not exist!\n",
            "\n",
            "⚠️ Warning: /content/frames_local/988214791187408-1 DOLLAR does not exist!\n"
          ]
        },
        {
          "output_type": "stream",
          "name": "stderr",
          "text": [
            "\r  2%|▏         | 1407/83399 [00:08<08:25, 162.06it/s]"
          ]
        },
        {
          "output_type": "stream",
          "name": "stdout",
          "text": [
            "⚠️ Warning: /content/frames_local/8383761820982527-PUNISH does not exist!\n",
            "⚠️ Warning: /content/frames_local/8786069674024148-ERASE 3 does not exist!⚠️ Warning: /content/frames_local/29263781804198263-MIND TURNED does not exist!⚠️ Warning: /content/frames_local/20632359188623028-GLASS 2 does not exist!\n",
            "\n",
            "\n",
            "⚠️ Warning: /content/frames_local/8191017646822547-HARD OF_HEARING does not exist!⚠️ Warning: /content/frames_local/8794710651258906-LOAD 2 does not exist!\n",
            "\n",
            "⚠️ Warning: /content/frames_local/03933124729593951-TRIP 1 does not exist!\n",
            "⚠️ Warning: /content/frames_local/4122064854223173-REGULAR does not exist!⚠️ Warning: /content/frames_local/6365752251096612-WASH MACHINE does not exist!\n",
            "⚠️ Warning: /content/frames_local/6726420353954896-FEED 2 does not exist!\n",
            "⚠️ Warning: /content/frames_local/4798797143991642-WINDMILL 3 does not exist!\n",
            "\n",
            "⚠️ Warning: /content/frames_local/11114352363030733-BRAINSTORM does not exist!\n",
            "⚠️ Warning: /content/frames_local/8569590486054872-LOCK 3 does not exist!\n",
            "⚠️ Warning: /content/frames_local/24132216778431936-SOMERSAULT does not exist!\n",
            "⚠️ Warning: /content/frames_local/09816252162407824-EITHER does not exist!⚠️ Warning: /content/frames_local/2257021348964794-SHOUT 2 does not exist!\n",
            "\n",
            "⚠️ Warning: /content/frames_local/4489114405672465-INEPT does not exist!⚠️ Warning: /content/frames_local/951918738644546-WHOLE does not exist!\n",
            "⚠️ Warning: /content/frames_local/3384750662009215-SUPERIOR does not exist!\n"
          ]
        },
        {
          "output_type": "stream",
          "name": "stderr",
          "text": [
            "\r  2%|▏         | 1425/83399 [00:08<08:20, 163.72it/s]"
          ]
        },
        {
          "output_type": "stream",
          "name": "stdout",
          "text": [
            "\n",
            "⚠️ Warning: /content/frames_local/3818743725721092-SAME SAME does not exist!\n",
            "⚠️ Warning: /content/frames_local/9529924051649412-JUMP does not exist!⚠️ Warning: /content/frames_local/3857979238530185-FOOL does not exist!\n",
            "\n",
            "⚠️ Warning: /content/frames_local/5026304107709321-FLASHLIGHT 1 does not exist!\n",
            "⚠️ Warning: /content/frames_local/7872419386411356-POP 3 does not exist!⚠️ Warning: /content/frames_local/23678765057172724-FAST does not exist!\n",
            "⚠️ Warning: /content/frames_local/17887646260763734-BED 2 does not exist!\n",
            "\n",
            "⚠️ Warning: /content/frames_local/8959490903542535-JEWISH does not exist!\n",
            "⚠️ Warning: /content/frames_local/4905139376922867-CURTSEY 2 does not exist!⚠️ Warning: /content/frames_local/3627722053707323-IMAGINE 2 does not exist!\n",
            "⚠️ Warning: /content/frames_local/33073593983095795-HAIRDRYER 2 does not exist!\n",
            "\n",
            "⚠️ Warning: /content/frames_local/43800818168237976-MAGNIFY 2 does not exist!⚠️ Warning: /content/frames_local/44470214475130465-PICK 2 does not exist!\n",
            "\n",
            "⚠️ Warning: /content/frames_local/1379098833496153-SCOOP does not exist!⚠️ Warning: /content/frames_local/053106826215107095-CHRISTMAS does not exist!\n",
            "⚠️ Warning: /content/frames_local/2926125689086716-UNDERGRADUATE does not exist!\n",
            "⚠️ Warning: /content/frames_local/649570359849913-STAMP does not exist!\n"
          ]
        },
        {
          "output_type": "stream",
          "name": "stderr",
          "text": [
            "\r  2%|▏         | 1442/83399 [00:08<08:47, 155.27it/s]"
          ]
        },
        {
          "output_type": "stream",
          "name": "stdout",
          "text": [
            "⚠️ Warning: /content/frames_local/8734083544907938-HONOR does not exist!\n",
            "\n",
            "⚠️ Warning: /content/frames_local/16617331553945736-STOP does not exist!⚠️ Warning: /content/frames_local/7829300643467956-ASSEMBLY does not exist!\n",
            "\n",
            "⚠️ Warning: /content/frames_local/5217340694211476-SNOWBOARD does not exist!⚠️ Warning: /content/frames_local/7350851427611491-TIE UP_2 does not exist!\n",
            "⚠️ Warning: /content/frames_local/7141182143454301-PARACHUTE 3 does not exist!\n",
            "\n",
            "⚠️ Warning: /content/frames_local/4709678297999169-GUN 2 does not exist!⚠️ Warning: /content/frames_local/6095053667180883-BARK 2 does not exist!\n",
            "⚠️ Warning: /content/frames_local/7003731847370067-TAIL 2 does not exist!\n",
            "⚠️ Warning: /content/frames_local/40924397412371216-THINK CHIN does not exist!\n",
            "\n",
            "⚠️ Warning: /content/frames_local/37048216582837923-MONEY 2 does not exist!⚠️ Warning: /content/frames_local/22807949601628086-REMEMBER does not exist!\n",
            "\n",
            "⚠️ Warning: /content/frames_local/427530694463526-SEE does not exist!⚠️ Warning: /content/frames_local/758285081882315-OFF THE_POINT does not exist!\n",
            "\n",
            "⚠️ Warning: /content/frames_local/7736396460728319-STUPID 2 does not exist!⚠️ Warning: /content/frames_local/39137230928570244-THINK PONDER does not exist!\n",
            "⚠️ Warning: /content/frames_local/21814137100564568-BLUE does not exist!"
          ]
        },
        {
          "output_type": "stream",
          "name": "stderr",
          "text": [
            "\r  2%|▏         | 1458/83399 [00:08<09:30, 143.59it/s]"
          ]
        },
        {
          "output_type": "stream",
          "name": "stdout",
          "text": [
            "\n",
            "\n",
            "⚠️ Warning: /content/frames_local/9316196763907698-LIST does not exist!\n",
            "⚠️ Warning: /content/frames_local/6468783140951411-SWEEP does not exist!⚠️ Warning: /content/frames_local/8521015603777375-MASCARA does not exist!\n",
            "\n",
            "⚠️ Warning: /content/frames_local/9283252416206405-NEVER does not exist!⚠️ Warning: /content/frames_local/4040714224068509-PITY does not exist!\n",
            "⚠️ Warning: /content/frames_local/04988088601177365-MAGNET 4 does not exist!\n",
            "\n",
            "⚠️ Warning: /content/frames_local/5009639921373323-KNITTING 2 does not exist!⚠️ Warning: /content/frames_local/18138054103393442-PROTECTION does not exist!\n",
            "\n",
            "⚠️ Warning: /content/frames_local/2794215231286712-CRY 3 does not exist!\n",
            "⚠️ Warning: /content/frames_local/08058400215162931-DRILL does not exist!\n",
            "⚠️ Warning: /content/frames_local/47997124460553686-BUCKLE 1 does not exist!\n",
            "⚠️ Warning: /content/frames_local/004907739164212055-METAPHOR does not exist!⚠️ Warning: /content/frames_local/04126471301872936-ITALY does not exist!\n",
            "\n",
            "⚠️ Warning: /content/frames_local/5459563886941645-FOLD 2 does not exist!⚠️ Warning: /content/frames_local/4317686482082297-BATTERY does not exist!\n",
            "\n",
            "⚠️ Warning: /content/frames_local/5942910381149817-THINK does not exist!⚠️ Warning: /content/frames_local/17565244564864857-RHINO does not exist!\n",
            "\n",
            "⚠️ Warning: /content/frames_local/340824813602699-PANTS 2 does not exist!"
          ]
        },
        {
          "output_type": "stream",
          "name": "stderr",
          "text": [
            "\r  2%|▏         | 1476/83399 [00:08<09:11, 148.60it/s]"
          ]
        },
        {
          "output_type": "stream",
          "name": "stdout",
          "text": [
            "\n",
            "⚠️ Warning: /content/frames_local/5749368066425267-BEARD does not exist!⚠️ Warning: /content/frames_local/09492504642166444-YAWN 3 does not exist!\n",
            "⚠️ Warning: /content/frames_local/5679638692163196-DENTIST 2 does not exist!\n",
            "\n",
            "⚠️ Warning: /content/frames_local/20001149895988202-WINE does not exist!\n",
            "⚠️ Warning: /content/frames_local/6704779837162851-OWN does not exist!\n",
            "⚠️ Warning: /content/frames_local/5278443932118966-SMALL does not exist!\n",
            "⚠️ Warning: /content/frames_local/00845178359808485-JAPAN does not exist!⚠️ Warning: /content/frames_local/2000394233621794-LOSE does not exist!\n",
            "⚠️ Warning: /content/frames_local/07859915644838456-WRISTWATCH 2 does not exist!\n",
            "\n",
            "⚠️ Warning: /content/frames_local/3115949584527451-INTRODUCE does not exist!\n",
            "⚠️ Warning: /content/frames_local/9317542533030221-MEDITATE 2 does not exist!\n",
            "⚠️ Warning: /content/frames_local/9593815632519116-MAIL does not exist!⚠️ Warning: /content/frames_local/11475495879015218-SHINY does not exist!\n",
            "⚠️ Warning: /content/frames_local/7842269153037531-HELMET does not exist!\n",
            "\n",
            "⚠️ Warning: /content/frames_local/6353330647721784-DROWN 4 does not exist!"
          ]
        },
        {
          "output_type": "stream",
          "name": "stderr",
          "text": [
            "\r  2%|▏         | 1492/83399 [00:08<09:10, 148.74it/s]"
          ]
        },
        {
          "output_type": "stream",
          "name": "stdout",
          "text": [
            "⚠️ Warning: /content/frames_local/11654955478904716-BOTTLE does not exist!\n",
            "⚠️ Warning: /content/frames_local/7871704521863789-KANGAROO does not exist!\n",
            "\n",
            "⚠️ Warning: /content/frames_local/08287833815598877-CANDY 2 does not exist!\n",
            "⚠️ Warning: /content/frames_local/7535852137852375-WINK does not exist!⚠️ Warning: /content/frames_local/09362242423036249-STEAL does not exist!\n",
            "\n",
            "⚠️ Warning: /content/frames_local/874252872363438-BEHAVIOR does not exist!⚠️ Warning: /content/frames_local/011439809438488657-WHAT 2 does not exist!\n",
            "\n",
            "⚠️ Warning: /content/frames_local/48930015457823384-FEW does not exist!⚠️ Warning: /content/frames_local/9366699230120215-CATEGORY does not exist!\n",
            "⚠️ Warning: /content/frames_local/1665500984553001-RAKE does not exist!\n",
            "\n",
            "⚠️ Warning: /content/frames_local/15284006590131338-ZERO does not exist!\n",
            "⚠️ Warning: /content/frames_local/16961490968820692-STEP does not exist!⚠️ Warning: /content/frames_local/7973975546982608-IGNORE does not exist!\n",
            "⚠️ Warning: /content/frames_local/5610143093454605-EARRING does not exist!\n",
            "\n",
            "⚠️ Warning: /content/frames_local/806657477307209-MISUNDERSTAND does not exist!⚠️ Warning: /content/frames_local/6033673836978302-FASCINATED does not exist!\n",
            "\n",
            "⚠️ Warning: /content/frames_local/2615166729436702-HOLD TOGETHER does not exist!\n",
            "⚠️ Warning: /content/frames_local/40634432788433883-COME OUT does not exist!\n",
            "⚠️ Warning: /content/frames_local/8412785542843266-VACUUM does not exist!"
          ]
        },
        {
          "output_type": "stream",
          "name": "stderr",
          "text": [
            "\r  2%|▏         | 1510/83399 [00:09<08:45, 155.74it/s]"
          ]
        },
        {
          "output_type": "stream",
          "name": "stdout",
          "text": [
            "⚠️ Warning: /content/frames_local/7688141622266944-MISCHIEVOUS does not exist!\n",
            "\n",
            "⚠️ Warning: /content/frames_local/9968445071273833-COUNTRY does not exist!\n",
            "⚠️ Warning: /content/frames_local/8263706021437072-HOSE does not exist!⚠️ Warning: /content/frames_local/5803787049388487-GRASP does not exist!\n",
            "\n",
            "⚠️ Warning: /content/frames_local/8592422734044822-THROW AWAY does not exist!\n",
            "⚠️ Warning: /content/frames_local/296614769558297-PRAYER does not exist!⚠️ Warning: /content/frames_local/8761272343943907-COME does not exist!\n",
            "⚠️ Warning: /content/frames_local/8474387397013008-YELLOW does not exist!\n",
            "\n",
            "⚠️ Warning: /content/frames_local/19978233231036002-WRITE does not exist!\n",
            "⚠️ Warning: /content/frames_local/8579888448893451-BLOND does not exist!⚠️ Warning: /content/frames_local/21081091517225947-SCRUB does not exist!\n",
            "\n",
            "⚠️ Warning: /content/frames_local/7464623527246252-WAND does not exist!\n",
            "⚠️ Warning: /content/frames_local/23218469120708551-LIGHTS ON does not exist!\n",
            "⚠️ Warning: /content/frames_local/6830572365887506-DONT KNOW does not exist!⚠️ Warning: /content/frames_local/5953206950175787-MECHANIC does not exist!\n",
            "\n",
            "⚠️ Warning: /content/frames_local/3605222807582922-REQUEST does not exist!⚠️ Warning: /content/frames_local/8000953631546845-BACHELOR does not exist!\n",
            "\n"
          ]
        },
        {
          "output_type": "stream",
          "name": "stderr",
          "text": [
            "\r  2%|▏         | 1528/83399 [00:09<08:25, 161.91it/s]"
          ]
        },
        {
          "output_type": "stream",
          "name": "stdout",
          "text": [
            "⚠️ Warning: /content/frames_local/40742409105706634-GRIEVE does not exist!⚠️ Warning: /content/frames_local/2163922040569788-PUT IN_BACK_MIND does not exist!\n",
            "⚠️ Warning: /content/frames_local/2306052872301334-BERRY does not exist!\n",
            "\n",
            "⚠️ Warning: /content/frames_local/4861699002832689-SEND does not exist!⚠️ Warning: /content/frames_local/12872731674795235-CROCODILE does not exist!\n",
            "\n",
            "⚠️ Warning: /content/frames_local/1749152362483115-LUCKY does not exist!⚠️ Warning: /content/frames_local/9803671792384228-ALONE does not exist!\n",
            "\n",
            "⚠️ Warning: /content/frames_local/20745578635310036-DENY does not exist!⚠️ Warning: /content/frames_local/9291247618487346-THINK OVER does not exist!\n",
            "⚠️ Warning: /content/frames_local/30277348821826844-LIGHTNING does not exist!\n",
            "⚠️ Warning: /content/frames_local/929570016067665-AXE does not exist!\n",
            "\n",
            "⚠️ Warning: /content/frames_local/47341060542443847-LEARN LESSON does not exist!⚠️ Warning: /content/frames_local/7999187729824375-FOREVER 2 does not exist!\n",
            "\n",
            "⚠️ Warning: /content/frames_local/576125539435921-WHAT 1 does not exist!⚠️ Warning: /content/frames_local/6542582264506003-GAY does not exist!\n",
            "\n",
            "⚠️ Warning: /content/frames_local/5276502078805012-SUMMARIZE does not exist!⚠️ Warning: /content/frames_local/5320641767472383-PRIEST does not exist!\n",
            "\n",
            "⚠️ Warning: /content/frames_local/26288210329973616-FROG does not exist!"
          ]
        },
        {
          "output_type": "stream",
          "name": "stderr",
          "text": [
            "\r  2%|▏         | 1545/83399 [00:09<08:24, 162.29it/s]"
          ]
        },
        {
          "output_type": "stream",
          "name": "stdout",
          "text": [
            "⚠️ Warning: /content/frames_local/15792505821894043-WINDOW OPEN does not exist!\n",
            "\n",
            "⚠️ Warning: /content/frames_local/8129961640450218-SPECIFIC does not exist!⚠️ Warning: /content/frames_local/9286125849572098-TAKE PILL does not exist!\n",
            "\n",
            "⚠️ Warning: /content/frames_local/34223799622569073-FORBID does not exist!⚠️ Warning: /content/frames_local/03614528075010082-BUY does not exist!\n",
            "⚠️ Warning: /content/frames_local/5142300236527306-DARK does not exist!\n",
            "⚠️ Warning: /content/frames_local/2198617591689651-CAMCORDER does not exist!\n",
            "\n",
            "⚠️ Warning: /content/frames_local/6847340518804104-HALL does not exist!⚠️ Warning: /content/frames_local/7122966251172318-GRAB does not exist!\n",
            "\n",
            "⚠️ Warning: /content/frames_local/6558808228450035-RUSH does not exist!⚠️ Warning: /content/frames_local/6861925734789072-FORK does not exist!\n",
            "\n",
            "⚠️ Warning: /content/frames_local/8425714239152939-KISS 2 does not exist!\n",
            "⚠️ Warning: /content/frames_local/7028343731944666-TOY 1 does not exist!⚠️ Warning: /content/frames_local/08792009294748904-FINANCE does not exist!\n",
            "\n",
            "⚠️ Warning: /content/frames_local/1707550229411383-HATE does not exist!⚠️ Warning: /content/frames_local/1341912766983211-POUR does not exist!\n",
            "\n",
            "⚠️ Warning: /content/frames_local/241335509121118-HOT does not exist!⚠️ Warning: /content/frames_local/8687567356150776-DISLIKE does not exist!\n",
            "\n",
            "⚠️ Warning: /content/frames_local/7837523421318475-MEAT 2 does not exist!"
          ]
        },
        {
          "output_type": "stream",
          "name": "stderr",
          "text": [
            "\r  2%|▏         | 1565/83399 [00:09<08:00, 170.32it/s]"
          ]
        },
        {
          "output_type": "stream",
          "name": "stdout",
          "text": [
            "⚠️ Warning: /content/frames_local/8438106543315984-WOW does not exist!\n",
            "\n",
            "⚠️ Warning: /content/frames_local/6256196908385767-THIS-IT does not exist!\n",
            "⚠️ Warning: /content/frames_local/0052910722283410205-GAMBLE does not exist!⚠️ Warning: /content/frames_local/1871833700869605-PAY OFF_BILLS does not exist!\n",
            "\n",
            "⚠️ Warning: /content/frames_local/7960384941790268-WASH DISHES does not exist!⚠️ Warning: /content/frames_local/6991080055951642-STRAIGHT does not exist!\n",
            "\n",
            "⚠️ Warning: /content/frames_local/9429370203576863-PARTY does not exist!⚠️ Warning: /content/frames_local/766941506639073-STATE does not exist!\n",
            "⚠️ Warning: /content/frames_local/05345244622878087-EVEN does not exist!\n",
            "\n",
            "⚠️ Warning: /content/frames_local/5910739936394613-DEPTH does not exist!⚠️ Warning: /content/frames_local/9855054562362275-DRESSER does not exist!\n",
            "⚠️ Warning: /content/frames_local/1140680720205105-TURBAN does not exist!\n",
            "⚠️ Warning: /content/frames_local/6731476080178482-TOO MUCH does not exist!\n",
            "\n",
            "⚠️ Warning: /content/frames_local/913452716187293-HIGHLIGHTER does not exist!⚠️ Warning: /content/frames_local/5835271345882731-LET GO does not exist!\n",
            "⚠️ Warning: /content/frames_local/013765774764668226-MOTIVATION 1 does not exist!\n",
            "\n",
            "⚠️ Warning: /content/frames_local/6130243273742142-MICROSCOPE does not exist!⚠️ Warning: /content/frames_local/47716596498279173-TTY does not exist!\n"
          ]
        },
        {
          "output_type": "stream",
          "name": "stderr",
          "text": [
            "\r  2%|▏         | 1583/83399 [00:09<07:57, 171.20it/s]"
          ]
        },
        {
          "output_type": "stream",
          "name": "stdout",
          "text": [
            "⚠️ Warning: /content/frames_local/1985959137453659-EXPECT does not exist!\n",
            "\n",
            "⚠️ Warning: /content/frames_local/4242341615991856-SUPPORT 1 does not exist!⚠️ Warning: /content/frames_local/823734998515528-ROAD does not exist!\n",
            "⚠️ Warning: /content/frames_local/5277057088799799-NOTHING 2 does not exist!\n",
            "\n",
            "⚠️ Warning: /content/frames_local/537857051610624-CHOP does not exist!⚠️ Warning: /content/frames_local/732633399046634-AUTISM does not exist!\n",
            "\n",
            "⚠️ Warning: /content/frames_local/47202683388339217-PAGE does not exist!⚠️ Warning: /content/frames_local/33942342490372823-YOURSELF does not exist!\n",
            "⚠️ Warning: /content/frames_local/012805007551332181-PASS OUT does not exist!\n",
            "\n",
            "⚠️ Warning: /content/frames_local/06646627731795318-BELL does not exist!\n",
            "⚠️ Warning: /content/frames_local/6164627077904272-SMELL MONEY does not exist!⚠️ Warning: /content/frames_local/6070646482256394-HALLOWEEN does not exist!\n",
            "\n",
            "⚠️ Warning: /content/frames_local/04285571045954972-BASEBALL CAP does not exist!⚠️ Warning: /content/frames_local/8444466395156511-OK does not exist!\n",
            "⚠️ Warning: /content/frames_local/8593068817717209-WRITE ON_WALL does not exist!\n",
            "\n",
            "⚠️ Warning: /content/frames_local/1967732217001641-DISAPPOINT does not exist!\n",
            "⚠️ Warning: /content/frames_local/8667743378159272-NOON does not exist!\n"
          ]
        },
        {
          "output_type": "stream",
          "name": "stderr",
          "text": [
            "\r  2%|▏         | 1601/83399 [00:09<07:54, 172.24it/s]"
          ]
        },
        {
          "output_type": "stream",
          "name": "stdout",
          "text": [
            "⚠️ Warning: /content/frames_local/9452601168252932-SIX does not exist!⚠️ Warning: /content/frames_local/848761832452517-ROLL does not exist!\n",
            "\n",
            "⚠️ Warning: /content/frames_local/8084663024717549-CHEEK does not exist!⚠️ Warning: /content/frames_local/8456796541544003-SCREAM does not exist!\n",
            "\n",
            "⚠️ Warning: /content/frames_local/24680684027267863-HEAD does not exist!⚠️ Warning: /content/frames_local/6196318962483198-CLOSE does not exist!\n",
            "⚠️ Warning: /content/frames_local/5801416071763943-TOWEL does not exist!\n",
            "⚠️ Warning: /content/frames_local/7097255491412262-SINGLE does not exist!\n",
            "\n",
            "⚠️ Warning: /content/frames_local/16074300084252946-FRY does not exist!⚠️ Warning: /content/frames_local/6761534511903275-GIVE does not exist!\n",
            "\n",
            "⚠️ Warning: /content/frames_local/1046237189515804-GRANDPARENTS does not exist!\n",
            "⚠️ Warning: /content/frames_local/6268417099068351-SHARP 2 does not exist!⚠️ Warning: /content/frames_local/3406922953756002-DRUG does not exist!\n",
            "\n",
            "⚠️ Warning: /content/frames_local/5534337223881411-UNTIL does not exist!⚠️ Warning: /content/frames_local/42793726172800794-PREDICT does not exist!\n",
            "\n",
            "⚠️ Warning: /content/frames_local/22531053454639438-ASSIGN does not exist!\n",
            "⚠️ Warning: /content/frames_local/6611787052556037-UPSET 1 does not exist!⚠️ Warning: /content/frames_local/29176412446942224-GRADUATE SCHOOL does not exist!\n",
            "\n"
          ]
        },
        {
          "output_type": "stream",
          "name": "stderr",
          "text": [
            "\r  2%|▏         | 1619/83399 [00:09<08:06, 167.95it/s]"
          ]
        },
        {
          "output_type": "stream",
          "name": "stdout",
          "text": [
            "⚠️ Warning: /content/frames_local/13093867395611825-APRIL does not exist!⚠️ Warning: /content/frames_local/1313443207240761-CATEPILLAR does not exist!\n",
            "⚠️ Warning: /content/frames_local/7585287992131364-DELEGATE does not exist!\n",
            "\n",
            "⚠️ Warning: /content/frames_local/6798084661845234-SHAVE 3 does not exist!⚠️ Warning: /content/frames_local/3657614347351763-LONG does not exist!\n",
            "\n",
            "⚠️ Warning: /content/frames_local/21567902872149936-HURRY does not exist!⚠️ Warning: /content/frames_local/515981894493013-TAKE does not exist!\n",
            "\n",
            "⚠️ Warning: /content/frames_local/913789861130955-OPTION does not exist!⚠️ Warning: /content/frames_local/06930695781394047-ROLL UP_SLEEVES does not exist!\n",
            "\n",
            "⚠️ Warning: /content/frames_local/40355900812127743-PEAR does not exist!\n",
            "⚠️ Warning: /content/frames_local/2172629317144117-EXPERIENCED does not exist!\n",
            "⚠️ Warning: /content/frames_local/8151053391073282-INTENTIONAL does not exist!\n",
            "⚠️ Warning: /content/frames_local/22231383812312244-TOMORROW does not exist!⚠️ Warning: /content/frames_local/4440746367181474-HIS does not exist!\n",
            "\n",
            "⚠️ Warning: /content/frames_local/853352993050198-HARP does not exist!\n",
            "⚠️ Warning: /content/frames_local/6639265388456241-THIRD does not exist!\n",
            "⚠️ Warning: /content/frames_local/351961734945307-WHEEL does not exist!⚠️ Warning: /content/frames_local/015325104351957997-RAINBOW does not exist!\n",
            "⚠️ Warning: /content/frames_local/28013143598976953-VALUE does not exist!"
          ]
        },
        {
          "output_type": "stream",
          "name": "stderr",
          "text": [
            "\r  2%|▏         | 1636/83399 [00:09<08:09, 167.18it/s]"
          ]
        },
        {
          "output_type": "stream",
          "name": "stdout",
          "text": [
            "\n",
            "\n",
            "⚠️ Warning: /content/frames_local/8643221225300715-EARMUFFS does not exist!\n",
            "⚠️ Warning: /content/frames_local/8406377993939775-DOESNT MATTER does not exist!⚠️ Warning: /content/frames_local/19188553080332693-BOYFRIEND does not exist!\n",
            "⚠️ Warning: /content/frames_local/0977317810637004-POPE does not exist!\n",
            "\n",
            "⚠️ Warning: /content/frames_local/7087236100672545-EVENT does not exist!⚠️ Warning: /content/frames_local/7834421790258124-FLAG 2 does not exist!\n",
            "\n",
            "⚠️ Warning: /content/frames_local/39933284661553214-HELL does not exist!\n",
            "⚠️ Warning: /content/frames_local/7409554676145444-FORM does not exist!\n",
            "⚠️ Warning: /content/frames_local/6568431325176065-HOOD does not exist!⚠️ Warning: /content/frames_local/9173379355632962-ARTICULATE SIGN does not exist!\n",
            "\n",
            "⚠️ Warning: /content/frames_local/9511604174232287-YAY does not exist!⚠️ Warning: /content/frames_local/4302818879835335-BREAKTIME does not exist!\n",
            "\n",
            "⚠️ Warning: /content/frames_local/9087551206515581-CROSS HEART does not exist!⚠️ Warning: /content/frames_local/2637052024281432-DEDICATE 1 does not exist!\n",
            "⚠️ Warning: /content/frames_local/6906756799462466-TRANSGENDER does not exist!\n",
            "\n",
            "\n",
            "⚠️ Warning: /content/frames_local/7310198714610268-CHILD does not exist!\n",
            "⚠️ Warning: /content/frames_local/7006894910724286-RUN 2 does not exist!⚠️ Warning: /content/frames_local/1205292678383636-FEED does not exist!\n"
          ]
        },
        {
          "output_type": "stream",
          "name": "stderr",
          "text": [
            "\r  2%|▏         | 1655/83399 [00:09<07:54, 172.35it/s]"
          ]
        },
        {
          "output_type": "stream",
          "name": "stdout",
          "text": [
            "⚠️ Warning: /content/frames_local/1555998439795525-YES does not exist!\n",
            "⚠️ Warning: /content/frames_local/906079223645682-DEFEAT does not exist!\n",
            "⚠️ Warning: /content/frames_local/8457630102315705-INTERPRET does not exist!⚠️ Warning: /content/frames_local/013289580817574143-SOFTBALL does not exist!\n",
            "\n",
            "⚠️ Warning: /content/frames_local/7730770179356483-CROSS 2 does not exist!⚠️ Warning: /content/frames_local/553351873797685-HEADCOLD does not exist!\n",
            "⚠️ Warning: /content/frames_local/2615160978569968-SENTENCE 2 does not exist!\n",
            "\n",
            "⚠️ Warning: /content/frames_local/5683193414800154-TRACTOR does not exist!\n",
            "⚠️ Warning: /content/frames_local/08113544210654955-WHEELCHAIR does not exist!⚠️ Warning: /content/frames_local/5315418020402818-HANDS does not exist!\n",
            "\n",
            "⚠️ Warning: /content/frames_local/7350167806810506-COUCH 1 does not exist!⚠️ Warning: /content/frames_local/18943755283387786-BEACH does not exist!\n",
            "\n",
            "⚠️ Warning: /content/frames_local/868350207189073-LAND does not exist!⚠️ Warning: /content/frames_local/5434886624360713-FRINGE does not exist!\n",
            "\n",
            "⚠️ Warning: /content/frames_local/941432107073392-BOTH does not exist!⚠️ Warning: /content/frames_local/3990844019626265-PINCH does not exist!\n",
            "\n",
            "⚠️ Warning: /content/frames_local/11141220317211475-LIFT does not exist!\n"
          ]
        },
        {
          "output_type": "stream",
          "name": "stderr",
          "text": [
            "\r  2%|▏         | 1673/83399 [00:09<07:50, 173.61it/s]"
          ]
        },
        {
          "output_type": "stream",
          "name": "stdout",
          "text": [
            "⚠️ Warning: /content/frames_local/05444980452890147-RECITE does not exist!⚠️ Warning: /content/frames_local/18721973015995563-EIGHT does not exist!\n",
            "⚠️ Warning: /content/frames_local/44818013490597974-BITE does not exist!\n",
            "\n",
            "⚠️ Warning: /content/frames_local/03500294440805596-CURLY HAIR does not exist!⚠️ Warning: /content/frames_local/4187378423776935-BOILING MAD does not exist!\n",
            "\n",
            "⚠️ Warning: /content/frames_local/9340538190167809-EVERY YEAR does not exist!⚠️ Warning: /content/frames_local/6952528548420245-MESS does not exist!\n",
            "\n",
            "⚠️ Warning: /content/frames_local/6203266273628236-WHALE does not exist!⚠️ Warning: /content/frames_local/8419054809855409-HOLD HANDS does not exist!\n",
            "⚠️ Warning: /content/frames_local/021590630870691907-ALRIGHT does not exist!\n",
            "⚠️ Warning: /content/frames_local/6220506738710718-PLUMMET does not exist!\n",
            "⚠️ Warning: /content/frames_local/6657683065332798-SHORT PERSON does not exist!\n",
            "\n",
            "⚠️ Warning: /content/frames_local/5745316820686199-PRESS does not exist!⚠️ Warning: /content/frames_local/535811568025865-INDEPENDENT does not exist!\n",
            "\n",
            "⚠️ Warning: /content/frames_local/9985415747245623-ALWAYS does not exist!\n",
            "⚠️ Warning: /content/frames_local/8109943984651253-OLDEST does not exist!⚠️ Warning: /content/frames_local/0028691651656309602-ROW does not exist!\n",
            "⚠️ Warning: /content/frames_local/07681342997376661-EYE TURN does not exist!\n",
            "\n",
            "⚠️ Warning: /content/frames_local/11136982364096881-ASSIST does not exist!\n",
            "⚠️ Warning: /content/frames_local/541968612173908-AUTISM 2 does not exist!\n"
          ]
        },
        {
          "output_type": "stream",
          "name": "stderr",
          "text": [
            "\r  2%|▏         | 1693/83399 [00:10<07:32, 180.39it/s]"
          ]
        },
        {
          "output_type": "stream",
          "name": "stdout",
          "text": [
            "⚠️ Warning: /content/frames_local/3672302132590213-COMFORTABLE does not exist!\n",
            "⚠️ Warning: /content/frames_local/955313458972125-DRAG does not exist!\n",
            "⚠️ Warning: /content/frames_local/47987933959546236-PINEAPPLE 2 does not exist!\n",
            "⚠️ Warning: /content/frames_local/312522087961862-TOUCH does not exist!\n",
            "⚠️ Warning: /content/frames_local/49262835233798796-COOL 5 does not exist!\n",
            "⚠️ Warning: /content/frames_local/8973457788688262-NECKLACE 2 does not exist!⚠️ Warning: /content/frames_local/4318825339280645-SPACE does not exist!\n",
            "\n",
            "⚠️ Warning: /content/frames_local/9835506075352016-TIME TO_TIME does not exist!⚠️ Warning: /content/frames_local/20852886984045216-GROW UP does not exist!\n",
            "\n",
            "⚠️ Warning: /content/frames_local/42324994474596367-ELEMENTARY SCHOOL does not exist!⚠️ Warning: /content/frames_local/10695662414056262-THINK OBSESS does not exist!\n",
            "\n",
            "⚠️ Warning: /content/frames_local/6836481169809947-OOH does not exist!\n",
            "⚠️ Warning: /content/frames_local/16338025322142236-SCARF 3 does not exist!⚠️ Warning: /content/frames_local/43289662013082486-DOMINANT does not exist!\n",
            "\n",
            "⚠️ Warning: /content/frames_local/7278194454734639-WOMAN 2 does not exist!⚠️ Warning: /content/frames_local/020564727262488258-PREGNANT does not exist!\n",
            "\n",
            "⚠️ Warning: /content/frames_local/5635568244147169-JAW DROP does not exist!\n",
            "⚠️ Warning: /content/frames_local/042692844819531395-LISTEN does not exist!\n",
            "⚠️ Warning: /content/frames_local/8541775080100544-INSIDE does not exist!⚠️ Warning: /content/frames_local/2955065153034675-RELIEF does not exist!\n",
            "\n"
          ]
        },
        {
          "output_type": "stream",
          "name": "stderr",
          "text": [
            "\r  2%|▏         | 1712/83399 [00:10<07:35, 179.41it/s]"
          ]
        },
        {
          "output_type": "stream",
          "name": "stdout",
          "text": [
            "⚠️ Warning: /content/frames_local/8418287442766414-BARK does not exist!⚠️ Warning: /content/frames_local/24658723330864185-SPLASH-CA does not exist!\n",
            "⚠️ Warning: /content/frames_local/7797166334875791-HAIR 2 does not exist!\n",
            "⚠️ Warning: /content/frames_local/0048559284485312215-CONFUSED does not exist!\n",
            "⚠️ Warning: /content/frames_local/5563890605236692-HANG CLOTHES does not exist!\n",
            "⚠️ Warning: /content/frames_local/9025291097704664-TURN AROUND does not exist!\n",
            "\n",
            "⚠️ Warning: /content/frames_local/16069526301232417-ADOPT does not exist!⚠️ Warning: /content/frames_local/597290974264659-BLOUSE does not exist!\n",
            "⚠️ Warning: /content/frames_local/9767053327219708-ALL WAY does not exist!\n",
            "\n",
            "⚠️ Warning: /content/frames_local/25857172347882673-BATHTUB does not exist!⚠️ Warning: /content/frames_local/7461152655285437-MASSAGE does not exist!\n",
            "⚠️ Warning: /content/frames_local/35014270919077806-SUNBATHE does not exist!\n",
            "\n",
            "⚠️ Warning: /content/frames_local/8255278473314576-KITE 2 does not exist!\n",
            "⚠️ Warning: /content/frames_local/6423098965843868-SHOULDER 2 does not exist!\n",
            "⚠️ Warning: /content/frames_local/29035750768088087-WITCH 2 does not exist!\n",
            "⚠️ Warning: /content/frames_local/4799148442759036-FIFTH does not exist!\n",
            "⚠️ Warning: /content/frames_local/27594581702377163-IRON 3 does not exist!⚠️ Warning: /content/frames_local/26650518950704805-TOOTHBRUSH-CA does not exist!\n",
            "⚠️ Warning: /content/frames_local/6949259885012804-BUCKLE 2 does not exist!\n"
          ]
        },
        {
          "output_type": "stream",
          "name": "stderr",
          "text": [
            "\r  2%|▏         | 1731/83399 [00:10<07:27, 182.39it/s]"
          ]
        },
        {
          "output_type": "stream",
          "name": "stdout",
          "text": [
            "\n",
            "⚠️ Warning: /content/frames_local/17063504743468516-DRINK 2 does not exist!\n",
            "⚠️ Warning: /content/frames_local/1627842687853167-DISSOLVE does not exist!⚠️ Warning: /content/frames_local/6837822002598615-ATLANTA does not exist!\n",
            "\n",
            "⚠️ Warning: /content/frames_local/9774442174411515-BLUSH does not exist!\n",
            "⚠️ Warning: /content/frames_local/618168568303932-PIPE 4 does not exist!\n",
            "⚠️ Warning: /content/frames_local/06644084556478802-BORED 2 does not exist!\n",
            "\n",
            "⚠️ Warning: /content/frames_local/5212430214510893-FORK 4 does not exist!⚠️ Warning: /content/frames_local/1892157079301191-CREAM 2 does not exist!⚠️ Warning: /content/frames_local/9639456473035215-BANANA 4 does not exist!\n",
            "\n",
            "⚠️ Warning: /content/frames_local/06507026595333376-STRAIN 2 does not exist!⚠️ Warning: /content/frames_local/47713083000573864-KNOW NOTHING does not exist!\n",
            "\n",
            "⚠️ Warning: /content/frames_local/40687029575259626-HAIRDRYER 3 does not exist!\n",
            "⚠️ Warning: /content/frames_local/1846481131189086-PAGEANT does not exist!⚠️ Warning: /content/frames_local/1472609919282657-INTELLIGENT does not exist!\n",
            "⚠️ Warning: /content/frames_local/794854621803671-DUE does not exist!\n",
            "\n",
            "⚠️ Warning: /content/frames_local/5864349077819804-REACH does not exist!\n",
            "\n",
            "⚠️ Warning: /content/frames_local/2639925169877346-RIBBON AWARD does not exist!⚠️ Warning: /content/frames_local/5096297592289312-PINEAPPLE 3 does not exist!⚠️ Warning: /content/frames_local/6549855977754031-CAN 2 does not exist!\n",
            "⚠️ Warning: /content/frames_local/6040653537740648-FOLLOW 2 does not exist!\n",
            "\n"
          ]
        },
        {
          "output_type": "stream",
          "name": "stderr",
          "text": [
            "\r  2%|▏         | 1751/83399 [00:10<07:16, 186.94it/s]"
          ]
        },
        {
          "output_type": "stream",
          "name": "stdout",
          "text": [
            "⚠️ Warning: /content/frames_local/5502223782744571-HUMOR does not exist!⚠️ Warning: /content/frames_local/4563594442837253-ERASE 4 does not exist!\n",
            "\n",
            "⚠️ Warning: /content/frames_local/5275557971786116-CATCH BASEBALL does not exist!⚠️ Warning: /content/frames_local/41103625500241736-VISIT does not exist!\n",
            "\n",
            "⚠️ Warning: /content/frames_local/2855049088747217-IRON 2 does not exist!⚠️ Warning: /content/frames_local/9145456064786184-DRIBBLE does not exist!\n",
            "\n",
            "⚠️ Warning: /content/frames_local/16443138235074217-VIDEOCAMERA 2 does not exist!⚠️ Warning: /content/frames_local/40813112450367406-HOODIE 2 does not exist!\n",
            "⚠️ Warning: /content/frames_local/48495560708623064-PICKLE does not exist!\n",
            "⚠️ Warning: /content/frames_local/05728257556423988-LIFT 2 does not exist!\n",
            "\n",
            "⚠️ Warning: /content/frames_local/7332875147232834-DINOSAUR 2 does not exist!⚠️ Warning: /content/frames_local/24338873033711073-EXPRESS does not exist!\n",
            "\n",
            "⚠️ Warning: /content/frames_local/9510773000894646-HELICOPTER 3 does not exist!⚠️ Warning: /content/frames_local/770236365268514-SPREAD 2 does not exist!\n",
            "\n",
            "⚠️ Warning: /content/frames_local/6132763465115065-VISION does not exist!⚠️ Warning: /content/frames_local/17134311848061023-SHARPEN 2 does not exist!\n",
            "\n",
            "⚠️ Warning: /content/frames_local/12397487344668878-GO AHEAD does not exist!⚠️ Warning: /content/frames_local/5779700116735773-MAJOR does not exist!\n",
            "\n",
            "⚠️ Warning: /content/frames_local/24483662236402015-OVERNIGHT does not exist!\n"
          ]
        },
        {
          "output_type": "stream",
          "name": "stderr",
          "text": [
            "\r  2%|▏         | 1770/83399 [00:10<07:22, 184.30it/s]"
          ]
        },
        {
          "output_type": "stream",
          "name": "stdout",
          "text": [
            "⚠️ Warning: /content/frames_local/8405976360991811-SUNDAY does not exist!\n",
            "⚠️ Warning: /content/frames_local/43303296921173007-LOOK BACK does not exist!⚠️ Warning: /content/frames_local/8668715201826895-PINCH 2 does not exist!\n",
            "\n",
            "⚠️ Warning: /content/frames_local/6740428396238196-FAUCET does not exist!⚠️ Warning: /content/frames_local/20207116324298657-ROLLERBLADING does not exist!\n",
            "⚠️ Warning: /content/frames_local/7788395516304671-FORFEIT does not exist!\n",
            "\n",
            "⚠️ Warning: /content/frames_local/7411497721736073-NEWSPAPER does not exist!\n",
            "⚠️ Warning: /content/frames_local/08421478630487278-GOD does not exist!\n",
            "⚠️ Warning: /content/frames_local/7318817595642215-LEAF does not exist!⚠️ Warning: /content/frames_local/3115705696578963-FRIEND does not exist!\n",
            "⚠️ Warning: /content/frames_local/8714753756036604-FULL does not exist!\n",
            "⚠️ Warning: /content/frames_local/7518664832358806-WIFE does not exist!\n",
            "\n",
            "⚠️ Warning: /content/frames_local/0584701229879534-CRAZY does not exist!\n",
            "⚠️ Warning: /content/frames_local/24946577876230513-DRAW does not exist!⚠️ Warning: /content/frames_local/3058482916099612-CAR does not exist!\n",
            "⚠️ Warning: /content/frames_local/33152070827900104-FRANCE does not exist!\n",
            "⚠️ Warning: /content/frames_local/18801704626565363-AMAZING does not exist!\n",
            "⚠️ Warning: /content/frames_local/5986670898399953-BEAT does not exist!\n",
            "\n",
            "⚠️ Warning: /content/frames_local/5287368470790934-TOOTHBRUSH does not exist!\n",
            "⚠️ Warning: /content/frames_local/61116634428597-EXCUSE does not exist!⚠️ Warning: /content/frames_local/8361349151075064-REVENGE does not exist!\n"
          ]
        },
        {
          "output_type": "stream",
          "name": "stderr",
          "text": [
            "\r  2%|▏         | 1791/83399 [00:10<07:07, 191.05it/s]"
          ]
        },
        {
          "output_type": "stream",
          "name": "stdout",
          "text": [
            "⚠️ Warning: /content/frames_local/8461684479303309-DOWNSIZE does not exist!\n",
            "\n",
            "⚠️ Warning: /content/frames_local/36297474512025985-SARCASTIC does not exist!\n",
            "⚠️ Warning: /content/frames_local/6960789222599069-LESSON does not exist!⚠️ Warning: /content/frames_local/84662869646167-YUCKY does not exist!\n",
            "\n",
            "⚠️ Warning: /content/frames_local/6936932448003421-PLUG does not exist!⚠️ Warning: /content/frames_local/568847914752173-NUT does not exist!\n",
            "⚠️ Warning: /content/frames_local/25281660395347094-AVOID does not exist!\n",
            "\n",
            "⚠️ Warning: /content/frames_local/15043865087852604-FED UP does not exist!⚠️ Warning: /content/frames_local/8852825102646966-BYE does not exist!\n",
            "\n",
            "⚠️ Warning: /content/frames_local/1800202158684998-END does not exist!⚠️ Warning: /content/frames_local/22081039820004245-GERMANY does not exist!\n",
            "\n",
            "⚠️ Warning: /content/frames_local/046849428530317816-LET ME_SEE does not exist!⚠️ Warning: /content/frames_local/19052294725300767-NIECE does not exist!\n",
            "⚠️ Warning: /content/frames_local/39508968739402306-BUT does not exist!\n",
            "⚠️ Warning: /content/frames_local/21846127916773184-BUDGET does not exist!\n",
            "\n",
            "⚠️ Warning: /content/frames_local/7887726193462175-COOK does not exist!⚠️ Warning: /content/frames_local/5778675595326455-GLOW does not exist!\n",
            "\n",
            "⚠️ Warning: /content/frames_local/655450602108824-ROCKET 1 does not exist!⚠️ Warning: /content/frames_local/8700791587434977-WASH 1 does not exist!\n",
            "\n"
          ]
        },
        {
          "output_type": "stream",
          "name": "stderr",
          "text": [
            "\r  2%|▏         | 1811/83399 [00:10<07:39, 177.45it/s]"
          ]
        },
        {
          "output_type": "stream",
          "name": "stdout",
          "text": [
            "⚠️ Warning: /content/frames_local/7532215729692444-FACE does not exist!⚠️ Warning: /content/frames_local/2503926979988098-SPONTANEOUS does not exist!\n",
            "⚠️ Warning: /content/frames_local/7779185868411755-TICKET does not exist!\n",
            "\n",
            "⚠️ Warning: /content/frames_local/20373051087883076-MOST does not exist!⚠️ Warning: /content/frames_local/7304597783143143-FREEDOM does not exist!⚠️ Warning: /content/frames_local/9605752241811483-CUT 1 does not exist!\n",
            "\n",
            "\n",
            "⚠️ Warning: /content/frames_local/8099384194622918-BUSY does not exist!\n",
            "⚠️ Warning: /content/frames_local/9836840198810413-LOLLIPOP does not exist!⚠️ Warning: /content/frames_local/33617061623926037-DEPRESS does not exist!\n",
            "\n",
            "⚠️ Warning: /content/frames_local/31982224475386545-HOP does not exist!⚠️ Warning: /content/frames_local/1635037375734647-FLOAT does not exist!\n",
            "\n",
            "⚠️ Warning: /content/frames_local/008071203011439598-CAMERAMAN does not exist!⚠️ Warning: /content/frames_local/7402156122662114-PROOF does not exist!\n",
            "⚠️ Warning: /content/frames_local/2809172422913746-DRIVE does not exist!\n",
            "\n",
            "⚠️ Warning: /content/frames_local/1258235915316186-PIZZA 2 does not exist!\n",
            "⚠️ Warning: /content/frames_local/058205760453888145-BEANS does not exist!⚠️ Warning: /content/frames_local/12680342252342736-SHARE does not exist!\n",
            "\n",
            "⚠️ Warning: /content/frames_local/18198145867006987-SLAVE does not exist!⚠️ Warning: /content/frames_local/31744389017970853-ON does not exist!\n",
            "⚠️ Warning: /content/frames_local/5470387176479365-TRUTH does not exist!"
          ]
        },
        {
          "output_type": "stream",
          "name": "stderr",
          "text": [
            "\r  2%|▏         | 1829/83399 [00:10<08:06, 167.62it/s]"
          ]
        },
        {
          "output_type": "stream",
          "name": "stdout",
          "text": [
            "\n",
            "⚠️ Warning: /content/frames_local/8994224454371011-VANILLA does not exist!\n",
            "⚠️ Warning: /content/frames_local/831540178734564-COST does not exist!\n",
            "\n",
            "⚠️ Warning: /content/frames_local/3456343745666963-SNEAK ADVENTURE does not exist!⚠️ Warning: /content/frames_local/19555035156668144-ROOF does not exist!\n",
            "\n",
            "⚠️ Warning: /content/frames_local/6958117137193471-LOUSY does not exist!⚠️ Warning: /content/frames_local/41315746117523533-FUNNY does not exist!\n",
            "⚠️ Warning: /content/frames_local/7314181225625556-SKIN does not exist!\n",
            "\n",
            "⚠️ Warning: /content/frames_local/07627557784888239-LOOK FORWARD does not exist!⚠️ Warning: /content/frames_local/2480753656937107-HIT 1 does not exist!\n",
            "\n",
            "⚠️ Warning: /content/frames_local/35459291699874007-SWIM does not exist!⚠️ Warning: /content/frames_local/16291292828173853-HEAD GRIND does not exist!\n",
            "\n",
            "⚠️ Warning: /content/frames_local/3467835180711951-GOAL does not exist!⚠️ Warning: /content/frames_local/15921525116787727-OUTSIDE does not exist!\n",
            "\n",
            "⚠️ Warning: /content/frames_local/1824894441179945-ORANGE THROAT does not exist!⚠️ Warning: /content/frames_local/01936795196284824-ORANGE EYES does not exist!\n",
            "\n"
          ]
        },
        {
          "output_type": "stream",
          "name": "stderr",
          "text": [
            "\r  2%|▏         | 1846/83399 [00:10<08:15, 164.51it/s]"
          ]
        },
        {
          "output_type": "stream",
          "name": "stdout",
          "text": [
            "⚠️ Warning: /content/frames_local/15275202612948302-DECLINE does not exist!⚠️ Warning: /content/frames_local/3854742008436718-ANSWER does not exist!\n",
            "⚠️ Warning: /content/frames_local/1602989401938104-DISCUSS does not exist!\n",
            "\n",
            "⚠️ Warning: /content/frames_local/29402849921746066-PEAS 1 does not exist!\n",
            "⚠️ Warning: /content/frames_local/8666764439544807-ROBOT does not exist!⚠️ Warning: /content/frames_local/29138541973817444-MELT does not exist!\n",
            "⚠️ Warning: /content/frames_local/4506599151107882-SUCK does not exist!\n",
            "\n",
            "⚠️ Warning: /content/frames_local/818323103281482-PET does not exist!⚠️ Warning: /content/frames_local/24136971325265044-ROUGH does not exist!\n",
            "\n",
            "⚠️ Warning: /content/frames_local/286064814648636-SIGNATURE does not exist!\n",
            "⚠️ Warning: /content/frames_local/9598866179221828-GRAY does not exist!\n",
            "⚠️ Warning: /content/frames_local/8807960914901241-GLUE 2 does not exist!⚠️ Warning: /content/frames_local/7904620172401979-HEAVY does not exist!\n",
            "\n",
            "⚠️ Warning: /content/frames_local/5302538849206411-HURDLE-TRIP does not exist!⚠️ Warning: /content/frames_local/5272670203238428-CLIMB LADDER does not exist!\n",
            "⚠️ Warning: /content/frames_local/0011945749317052723-SNAP does not exist!\n",
            "\n",
            "⚠️ Warning: /content/frames_local/2325627739373317-ISOLATED does not exist!⚠️ Warning: /content/frames_local/6951311355803622-BEAVER does not exist!\n",
            "\n",
            "⚠️ Warning: /content/frames_local/8117908707486141-MAILMAN does not exist!⚠️ Warning: /content/frames_local/40102023429516676-BET does not exist!\n",
            "⚠️ Warning: /content/frames_local/4898130055368006-DISTRACTED does not exist!\n",
            "\n"
          ]
        },
        {
          "output_type": "stream",
          "name": "stderr",
          "text": [
            "\r  2%|▏         | 1866/83399 [00:11<07:48, 174.07it/s]"
          ]
        },
        {
          "output_type": "stream",
          "name": "stdout",
          "text": [
            "⚠️ Warning: /content/frames_local/07742870605518104-FREEZE does not exist!⚠️ Warning: /content/frames_local/8513976071498299-WILL does not exist!\n",
            "\n",
            "⚠️ Warning: /content/frames_local/37488218343841906-MEMBER does not exist!⚠️ Warning: /content/frames_local/42345923346995673-BEST does not exist!\n",
            "\n",
            "⚠️ Warning: /content/frames_local/12476155910267717-BAT 1 does not exist!⚠️ Warning: /content/frames_local/7363417271888646-MURDER does not exist!\n",
            "\n",
            "⚠️ Warning: /content/frames_local/2935343968735329-LIKE does not exist!⚠️ Warning: /content/frames_local/9948289944989086-OVER does not exist!\n",
            "\n",
            "⚠️ Warning: /content/frames_local/25428064244435156-PENIS does not exist!⚠️ Warning: /content/frames_local/6539915389329918-DYE does not exist!\n",
            "\n",
            "⚠️ Warning: /content/frames_local/07210736968514153-DRY does not exist!⚠️ Warning: /content/frames_local/9531655834263066-DICTIONARY does not exist!\n",
            "\n",
            "⚠️ Warning: /content/frames_local/7603546720758896-THINK CONNECT does not exist!⚠️ Warning: /content/frames_local/057004006345766634-TAN does not exist!\n",
            "\n",
            "⚠️ Warning: /content/frames_local/39141577391001214-THUNDER does not exist!⚠️ Warning: /content/frames_local/26657946023294365-THEY does not exist!\n",
            "\n",
            "⚠️ Warning: /content/frames_local/412186434360754-RED FACED does not exist!⚠️ Warning: /content/frames_local/9384588105031386-FAN does not exist!\n",
            "\n",
            "⚠️ Warning: /content/frames_local/9040576509137275-Q TIP does not exist!⚠️ Warning: /content/frames_local/11284266203450843-SCAR MEMORY does not exist!\n",
            "⚠️ Warning: /content/frames_local/43545965278562404-LIMITED does not exist!\n"
          ]
        },
        {
          "output_type": "stream",
          "name": "stderr",
          "text": [
            "\r  2%|▏         | 1886/83399 [00:11<07:42, 176.40it/s]"
          ]
        },
        {
          "output_type": "stream",
          "name": "stdout",
          "text": [
            "⚠️ Warning: /content/frames_local/6474976487136974-SHAKE 2 does not exist!\n",
            "⚠️ Warning: /content/frames_local/6159486026989482-SIGNING FLUENTLY does not exist!\n",
            "⚠️ Warning: /content/frames_local/7794063212126028-STARE does not exist!\n",
            "\n",
            "⚠️ Warning: /content/frames_local/39959817249053553-THOUGHT DISAPPEAR does not exist!⚠️ Warning: /content/frames_local/36282334892178203-RECORD does not exist!\n",
            "⚠️ Warning: /content/frames_local/9556009320612708-EVERYTHING does not exist!\n",
            "\n",
            "⚠️ Warning: /content/frames_local/47434208992451543-NOT USED_TO does not exist!\n",
            "⚠️ Warning: /content/frames_local/07130611876229942-SO does not exist!⚠️ Warning: /content/frames_local/729556091242392-STADIUM does not exist!\n",
            "\n",
            "⚠️ Warning: /content/frames_local/7609448450618801-THINK PENETRATE does not exist!\n",
            "⚠️ Warning: /content/frames_local/6923527874489321-MAID does not exist!⚠️ Warning: /content/frames_local/815549920734588-BACKPACK does not exist!\n",
            "\n",
            "⚠️ Warning: /content/frames_local/9518788543070462-CHOKE does not exist!⚠️ Warning: /content/frames_local/7531301278207052-GREEN BEANS does not exist!\n",
            "\n",
            "⚠️ Warning: /content/frames_local/563153197682775-TOGETHER does not exist!⚠️ Warning: /content/frames_local/8472556366339898-COMPASS does not exist!\n",
            "\n",
            "⚠️ Warning: /content/frames_local/02839631955508959-BOW 2 does not exist!⚠️ Warning: /content/frames_local/1607066093870424-NERVE does not exist!"
          ]
        },
        {
          "output_type": "stream",
          "name": "stderr",
          "text": [
            "\r  2%|▏         | 1904/83399 [00:11<08:31, 159.43it/s]"
          ]
        },
        {
          "output_type": "stream",
          "name": "stdout",
          "text": [
            "\n",
            "⚠️ Warning: /content/frames_local/19903626480947834-FRAME does not exist!\n",
            "⚠️ Warning: /content/frames_local/22152901371336564-INSPIRE does not exist!\n",
            "\n",
            "⚠️ Warning: /content/frames_local/01086478212731512-FOLLOW 1 does not exist!\n",
            "⚠️ Warning: /content/frames_local/01728719261828071-CLAW does not exist!⚠️ Warning: /content/frames_local/4034293946540164-RULER does not exist!\n",
            "\n",
            "⚠️ Warning: /content/frames_local/41607587785182987-HAHA does not exist!\n",
            "⚠️ Warning: /content/frames_local/22302058336074015-GOATEE does not exist!⚠️ Warning: /content/frames_local/2624544937222155-IF does not exist!\n",
            "⚠️ Warning: /content/frames_local/04381289981918335-STAMP 1 does not exist!\n",
            "⚠️ Warning: /content/frames_local/9548967455827291-SPREAD 1 does not exist!\n",
            "\n",
            "⚠️ Warning: /content/frames_local/6774415144877364-STRAW does not exist!\n",
            "⚠️ Warning: /content/frames_local/7131824864598484-STRONG does not exist!\n",
            "⚠️ Warning: /content/frames_local/5593220654317448-PUT ASIDE does not exist!⚠️ Warning: /content/frames_local/7414236047407246-WISE does not exist!\n",
            "\n",
            "⚠️ Warning: /content/frames_local/2876526253282232-TEMPORARY does not exist!⚠️ Warning: /content/frames_local/6683277314434448-GOODY GOODY does not exist!\n",
            "\n",
            "⚠️ Warning: /content/frames_local/9416373657243235-FAINT does not exist!⚠️ Warning: /content/frames_local/623456473473458-EVIDENCE does not exist!\n",
            "⚠️ Warning: /content/frames_local/8876005905732414-VERY INTERESTED does not exist!"
          ]
        },
        {
          "output_type": "stream",
          "name": "stderr",
          "text": [
            "\r  2%|▏         | 1923/83399 [00:11<08:18, 163.56it/s]"
          ]
        },
        {
          "output_type": "stream",
          "name": "stdout",
          "text": [
            "\n",
            "⚠️ Warning: /content/frames_local/01966300513612751-EDIT does not exist!\n",
            "\n",
            "⚠️ Warning: /content/frames_local/17209925425589212-DISCONNECT does not exist!\n",
            "⚠️ Warning: /content/frames_local/8755844702997893-INVISIBLE does not exist!\n",
            "⚠️ Warning: /content/frames_local/9386868787875642-THESE does not exist!\n",
            "⚠️ Warning: /content/frames_local/8249577521769174-CHEW 1 does not exist!⚠️ Warning: /content/frames_local/6039981156837309-POSTPONE does not exist!\n",
            "\n",
            "⚠️ Warning: /content/frames_local/9528519313904655-TRUCK 1 does not exist!⚠️ Warning: /content/frames_local/04272614054629775-JUICE 1 does not exist!\n",
            "\n",
            "⚠️ Warning: /content/frames_local/046105602130830814-PRINCIPAL does not exist!⚠️ Warning: /content/frames_local/6067088765196627-JOIN does not exist!\n",
            "\n",
            "⚠️ Warning: /content/frames_local/8362382766907357-SMOKE does not exist!⚠️ Warning: /content/frames_local/6903425311789706-REFUSE does not exist!\n",
            "⚠️ Warning: /content/frames_local/8419529454887558-STRUCTURE does not exist!\n",
            "\n",
            "⚠️ Warning: /content/frames_local/20582726055048428-SNOWMAN does not exist!⚠️ Warning: /content/frames_local/3242364689346928-VOCABULARY does not exist!\n",
            "\n",
            "⚠️ Warning: /content/frames_local/6621665698280823-FILL OUT does not exist!⚠️ Warning: /content/frames_local/14343395356201616-GO BACK_AND_FORTH does not exist!\n"
          ]
        },
        {
          "output_type": "stream",
          "name": "stderr",
          "text": [
            "\r  2%|▏         | 1941/83399 [00:11<08:07, 167.01it/s]"
          ]
        },
        {
          "output_type": "stream",
          "name": "stdout",
          "text": [
            "⚠️ Warning: /content/frames_local/4311341186723825-TENDENCY does not exist!\n",
            "\n",
            "⚠️ Warning: /content/frames_local/6829022140674217-SPECIAL does not exist!⚠️ Warning: /content/frames_local/3886917634517708-BAND AID does not exist!\n",
            "\n",
            "⚠️ Warning: /content/frames_local/9037254474178316-WEIRD does not exist!⚠️ Warning: /content/frames_local/5356471420902285-PUBLIC does not exist!\n",
            "\n",
            "⚠️ Warning: /content/frames_local/35912170823373835-DONT NEED does not exist!⚠️ Warning: /content/frames_local/0287684556381389-PERSPECTIVE does not exist!\n",
            "\n",
            "⚠️ Warning: /content/frames_local/9643341131812604-CHEERLEADER does not exist!⚠️ Warning: /content/frames_local/044341173994706606-REALLY INTO does not exist!\n",
            "⚠️ Warning: /content/frames_local/8578306237321116-STIMULATE does not exist!\n",
            "⚠️ Warning: /content/frames_local/08591405055935786-SCOUT does not exist!\n",
            "⚠️ Warning: /content/frames_local/3931430132703928-TALK 2 does not exist!\n",
            "\n",
            "\n",
            "⚠️ Warning: /content/frames_local/5566607398367873-BOTHER does not exist!⚠️ Warning: /content/frames_local/9772237907421626-LESBIAN does not exist!⚠️ Warning: /content/frames_local/8766748443830488-SWEAT does not exist!\n",
            "⚠️ Warning: /content/frames_local/17194897379143037-GET OFF does not exist!\n",
            "\n",
            "⚠️ Warning: /content/frames_local/7381682074248326-CAUGHT does not exist!\n",
            "⚠️ Warning: /content/frames_local/8619772666245202-SURGERY does not exist!⚠️ Warning: /content/frames_local/9540204217678343-BLANK does not exist!"
          ]
        },
        {
          "output_type": "stream",
          "name": "stderr",
          "text": [
            "\r  2%|▏         | 1958/83399 [00:11<08:11, 165.81it/s]"
          ]
        },
        {
          "output_type": "stream",
          "name": "stdout",
          "text": [
            "\n",
            "\n",
            "⚠️ Warning: /content/frames_local/6465031600143576-BRICK does not exist!⚠️ Warning: /content/frames_local/6299411273817412-KINDERGARTEN does not exist!\n",
            "\n",
            "⚠️ Warning: /content/frames_local/653636541848009-PHILADELPHIA does not exist!⚠️ Warning: /content/frames_local/3076258283629718-FROM THEN_ON does not exist!\n",
            "⚠️ Warning: /content/frames_local/7450304446849416-INFECTION does not exist!\n",
            "⚠️ Warning: /content/frames_local/975925940498656-COME HERE does not exist!\n",
            "\n",
            "⚠️ Warning: /content/frames_local/6306259523214208-POSSUM does not exist!⚠️ Warning: /content/frames_local/2538090255412251-TWO OF_US does not exist!\n",
            "\n",
            "⚠️ Warning: /content/frames_local/005840156863064161-SENIOR CITIZEN does not exist!⚠️ Warning: /content/frames_local/3082580413397369-KEEP does not exist!\n",
            "\n",
            "⚠️ Warning: /content/frames_local/12118934277416904-NEGATIVE does not exist!⚠️ Warning: /content/frames_local/14057165479000888-SHOOT does not exist!\n",
            "⚠️ Warning: /content/frames_local/17267589398895922-CRANKY does not exist!\n",
            "⚠️ Warning: /content/frames_local/3871157243496619-AFTERNOON does not exist!\n",
            "\n",
            "⚠️ Warning: /content/frames_local/844833036689902-ERUPT 1 does not exist!"
          ]
        },
        {
          "output_type": "stream",
          "name": "stderr",
          "text": [
            "\r  2%|▏         | 1975/83399 [00:11<08:28, 160.10it/s]"
          ]
        },
        {
          "output_type": "stream",
          "name": "stdout",
          "text": [
            "⚠️ Warning: /content/frames_local/11089375050930084-PASS does not exist!\n",
            "\n",
            "⚠️ Warning: /content/frames_local/5131209406331096-STRANGLE does not exist!⚠️ Warning: /content/frames_local/5166091672570783-VALIDATE does not exist!\n",
            "\n",
            "⚠️ Warning: /content/frames_local/564570692754153-SOON 3 does not exist!⚠️ Warning: /content/frames_local/11496556828615034-CONFUSED does not exist!\n",
            "⚠️ Warning: /content/frames_local/4670515955886436-HOWL does not exist!\n",
            "⚠️ Warning: /content/frames_local/5359975946329862-DRAG does not exist!\n",
            "\n",
            "⚠️ Warning: /content/frames_local/6795430287085444-REMEMBER 2 does not exist!\n",
            "⚠️ Warning: /content/frames_local/8317414677032928-WORKSHOP does not exist!⚠️ Warning: /content/frames_local/013844393976203406-BOUNCE does not exist!\n",
            "\n",
            "⚠️ Warning: /content/frames_local/6000957230883681-PARALLEL does not exist!⚠️ Warning: /content/frames_local/6613858252551286-ROOMMATE does not exist!\n",
            "\n",
            "⚠️ Warning: /content/frames_local/13522768877246283-MEXICAN 2 does not exist!⚠️ Warning: /content/frames_local/5305855485861992-STRUGGLE does not exist!\n",
            "\n",
            "⚠️ Warning: /content/frames_local/9752030835719785-BOSTON does not exist!⚠️ Warning: /content/frames_local/5315843442514836-HANDSOME 4 does not exist!\n",
            "⚠️ Warning: /content/frames_local/3827328296478383-FRIENDS NO_MORE_1 does not exist!\n"
          ]
        },
        {
          "output_type": "stream",
          "name": "stderr",
          "text": [
            "\r  2%|▏         | 1992/83399 [00:11<09:00, 150.69it/s]"
          ]
        },
        {
          "output_type": "stream",
          "name": "stdout",
          "text": [
            "\n",
            "⚠️ Warning: /content/frames_local/09975897706725734-SLICE does not exist!⚠️ Warning: /content/frames_local/2624572189258909-SUPERVISE does not exist!\n",
            "\n",
            "⚠️ Warning: /content/frames_local/47310463421052207-ATHLETE does not exist!⚠️ Warning: /content/frames_local/4758969817179144-MARCH does not exist!\n",
            "\n",
            "⚠️ Warning: /content/frames_local/035983795990041756-DESIGN does not exist!⚠️ Warning: /content/frames_local/15063523617554853-PUNCH FACE does not exist!\n",
            "\n",
            "⚠️ Warning: /content/frames_local/1242068209239604-SANDWICH 4 does not exist!\n",
            "⚠️ Warning: /content/frames_local/08116416847912489-MEDITATE 3 does not exist!⚠️ Warning: /content/frames_local/6008676750919044-ITCH does not exist!\n",
            "\n",
            "⚠️ Warning: /content/frames_local/741422728364364-FISHING 2 does not exist!\n",
            "⚠️ Warning: /content/frames_local/6224750329263047-RESPECT does not exist!⚠️ Warning: /content/frames_local/8151107052582531-POLISH does not exist!\n",
            "\n",
            "⚠️ Warning: /content/frames_local/8028371591767076-DIP 2 does not exist!\n",
            "⚠️ Warning: /content/frames_local/3470962244651812-BOARD does not exist!⚠️ Warning: /content/frames_local/3428061938829572-AGAIN does not exist!\n",
            "\n",
            "⚠️ Warning: /content/frames_local/9101888410090289-TASTE does not exist!⚠️ Warning: /content/frames_local/4482144549812024-SEVERAL does not exist!\n",
            "⚠️ Warning: /content/frames_local/25554916334432143-CHERISH does not exist!\n",
            "\n"
          ]
        },
        {
          "output_type": "stream",
          "name": "stderr",
          "text": [
            "\r  2%|▏         | 2010/83399 [00:11<08:44, 155.22it/s]"
          ]
        },
        {
          "output_type": "stream",
          "name": "stdout",
          "text": [
            "⚠️ Warning: /content/frames_local/46140431722247066-ARM 2 does not exist!⚠️ Warning: /content/frames_local/7619860666583145-HIT 2 does not exist!\n",
            "\n",
            "⚠️ Warning: /content/frames_local/991249196158916-LOCKER does not exist!⚠️ Warning: /content/frames_local/24960784563182847-POSITIVE does not exist!\n",
            "⚠️ Warning: /content/frames_local/7667966610876491-FORMER does not exist!\n",
            "⚠️ Warning: /content/frames_local/47097300684741494-OVERTAKE does not exist!\n",
            "\n",
            "⚠️ Warning: /content/frames_local/02457662800242466-CONFLICT does not exist!⚠️ Warning: /content/frames_local/5656253193900134-BOW 4 does not exist!\n",
            "\n",
            "⚠️ Warning: /content/frames_local/7987363511725065-CAT 2 does not exist!\n",
            "⚠️ Warning: /content/frames_local/9904859382208331-WRAP UP_2 does not exist!⚠️ Warning: /content/frames_local/15802863191487249-REMIND does not exist!\n",
            "⚠️ Warning: /content/frames_local/739296426513705-JACKET 3 does not exist!\n",
            "\n",
            "⚠️ Warning: /content/frames_local/8138240629408238-HALF HOUR does not exist!\n",
            "⚠️ Warning: /content/frames_local/5967637853786445-LONG TIME does not exist!⚠️ Warning: /content/frames_local/9607220619532151-GREET 2 does not exist!\n",
            "⚠️ Warning: /content/frames_local/9537586791217934-FACULTY does not exist!\n",
            "\n",
            "⚠️ Warning: /content/frames_local/2757890267576115-DROWN 3 does not exist!⚠️ Warning: /content/frames_local/05135848174171964-TABLET does not exist!\n",
            "\n",
            "⚠️ Warning: /content/frames_local/3621976265470319-FOLLOW 4 does not exist!\n",
            "⚠️ Warning: /content/frames_local/6662724583010449-TRIPLE does not exist!⚠️ Warning: /content/frames_local/3263360614709341-SWEET does not exist!\n",
            "⚠️ Warning: /content/frames_local/44782851849308103-MAKE BELIEVE does not exist!"
          ]
        },
        {
          "output_type": "stream",
          "name": "stderr",
          "text": [
            "\r  2%|▏         | 2031/83399 [00:12<08:06, 167.15it/s]"
          ]
        },
        {
          "output_type": "stream",
          "name": "stdout",
          "text": [
            "\n",
            "\n",
            "⚠️ Warning: /content/frames_local/3282251278405415-SUNBATHE 2 does not exist!⚠️ Warning: /content/frames_local/3655477914518519-ROAR does not exist!\n",
            "\n",
            "⚠️ Warning: /content/frames_local/575413115970683-INCREDIBLE does not exist!⚠️ Warning: /content/frames_local/47167940685583587-FIREMAN 2 does not exist!\n",
            "⚠️ Warning: /content/frames_local/040765772197555394-REPLACE does not exist!\n",
            "\n",
            "⚠️ Warning: /content/frames_local/11940739803855838-SLICE 4 does not exist!⚠️ Warning: /content/frames_local/06971898325676928-KICK 2 does not exist!\n",
            "\n",
            "⚠️ Warning: /content/frames_local/11585195469312803-SELL does not exist!\n",
            "⚠️ Warning: /content/frames_local/5286053738109553-BOOTS 2 does not exist!\n",
            "⚠️ Warning: /content/frames_local/33208490319456274-FOCUS does not exist!\n",
            "⚠️ Warning: /content/frames_local/9585433749801295-EXPERT does not exist!⚠️ Warning: /content/frames_local/4986488436352132-GRAPES 2 does not exist!\n",
            "\n",
            "⚠️ Warning: /content/frames_local/7454763918649938-RHINO 2 does not exist!⚠️ Warning: /content/frames_local/24900411902042952-MAGNET 3 does not exist!\n",
            "⚠️ Warning: /content/frames_local/9837411964496992-DROWN 5 does not exist!\n",
            "\n",
            "⚠️ Warning: /content/frames_local/03986124311275385-BLEED does not exist!⚠️ Warning: /content/frames_local/8378236591125945-POOR does not exist!\n",
            "\n",
            "⚠️ Warning: /content/frames_local/6682248216038862-DEVELOP does not exist!\n",
            "⚠️ Warning: /content/frames_local/7238152000136098-KISS 3 does not exist!\n"
          ]
        },
        {
          "output_type": "stream",
          "name": "stderr",
          "text": [
            "\r  2%|▏         | 2050/83399 [00:12<08:01, 169.04it/s]"
          ]
        },
        {
          "output_type": "stream",
          "name": "stdout",
          "text": [
            "⚠️ Warning: /content/frames_local/35715231351706644-IPHONE does not exist!\n",
            "⚠️ Warning: /content/frames_local/5477672048709272-GRANDMOTHER does not exist!⚠️ Warning: /content/frames_local/03894838990919958-FILE 3 does not exist!\n",
            "\n",
            "⚠️ Warning: /content/frames_local/6738252900935611-BRA 2 does not exist!⚠️ Warning: /content/frames_local/11687158444955759-CARROT 2 does not exist!\n",
            "\n",
            "⚠️ Warning: /content/frames_local/22231040906855504-BALL does not exist!\n",
            "⚠️ Warning: /content/frames_local/19720117510657942-VILLAGE does not exist!⚠️ Warning: /content/frames_local/9081054201663847-FURNITURE does not exist!\n",
            "\n",
            "⚠️ Warning: /content/frames_local/4265884930339092-WITH does not exist!\n",
            "⚠️ Warning: /content/frames_local/9958308369073903-EARTH does not exist!⚠️ Warning: /content/frames_local/5185527730606576-TOW 3 does not exist!\n",
            "\n",
            "⚠️ Warning: /content/frames_local/18976716346521338-BOOTS does not exist!\n",
            "⚠️ Warning: /content/frames_local/6161489734847145-DOG 2 does not exist!\n",
            "⚠️ Warning: /content/frames_local/03287429664583574-CANADA does not exist!⚠️ Warning: /content/frames_local/9832833080634806-CHEW 3 does not exist!\n",
            "\n",
            "⚠️ Warning: /content/frames_local/03378885332039361-BLOW CANDLE_1 does not exist!⚠️ Warning: /content/frames_local/327384685515433-LEAF 2 does not exist!\n",
            "\n",
            "⚠️ Warning: /content/frames_local/30952014019337204-NURSE does not exist!⚠️ Warning: /content/frames_local/938394504043218-THROW does not exist!\n"
          ]
        },
        {
          "output_type": "stream",
          "name": "stderr",
          "text": [
            "\r  2%|▏         | 2070/83399 [00:12<07:42, 175.84it/s]"
          ]
        },
        {
          "output_type": "stream",
          "name": "stdout",
          "text": [
            "⚠️ Warning: /content/frames_local/13728560145161328-SWEATER 3 does not exist!\n",
            "\n",
            "⚠️ Warning: /content/frames_local/4306205261448952-FINALLY does not exist!\n",
            "⚠️ Warning: /content/frames_local/19746689020474295-GLOVES 4 does not exist!⚠️ Warning: /content/frames_local/1670671903890668-CHEAT 2 does not exist!\n",
            "\n",
            "⚠️ Warning: /content/frames_local/22519956633157512-RACECAR TRACK does not exist!⚠️ Warning: /content/frames_local/2527271345151798-HELICOPTER 2 does not exist!\n",
            "\n",
            "⚠️ Warning: /content/frames_local/8768387791099019-DOLPHIN 2 does not exist!⚠️ Warning: /content/frames_local/9087018071577144-STRAIN 1 does not exist!\n",
            "⚠️ Warning: /content/frames_local/11752767163895972-YEAH does not exist!\n",
            "\n",
            "⚠️ Warning: /content/frames_local/3323689000637222-STRETCH-CA does not exist!⚠️ Warning: /content/frames_local/7382460351716511-ARRIVE does not exist!\n",
            "\n",
            "⚠️ Warning: /content/frames_local/7465275445178858-CAUSE does not exist!\n",
            "⚠️ Warning: /content/frames_local/7512978095393652-TRIM 1 does not exist!⚠️ Warning: /content/frames_local/8465526502453598-RUN FAUCET does not exist!\n",
            "\n",
            "⚠️ Warning: /content/frames_local/4360343314688082-STRETCH 2 does not exist!⚠️ Warning: /content/frames_local/9002136451771159-FILE 4 does not exist!\n",
            "\n",
            "⚠️ Warning: /content/frames_local/4032300415407615-DIP 3 does not exist!⚠️ Warning: /content/frames_local/827699572567729-DUCK 2 does not exist!\n"
          ]
        },
        {
          "output_type": "stream",
          "name": "stderr",
          "text": [
            "\r  3%|▎         | 2088/83399 [00:12<08:07, 166.73it/s]"
          ]
        },
        {
          "output_type": "stream",
          "name": "stdout",
          "text": [
            "⚠️ Warning: /content/frames_local/901432696887819-PET 2 does not exist!\n",
            "\n",
            "⚠️ Warning: /content/frames_local/4483980719473504-SIGN LANGUAGE does not exist!⚠️ Warning: /content/frames_local/5981772007367667-GUN does not exist!\n",
            "\n",
            "⚠️ Warning: /content/frames_local/6331289595944327-LIGHT CANDLE does not exist!\n",
            "⚠️ Warning: /content/frames_local/10723606225405313-FRENCH does not exist!\n",
            "⚠️ Warning: /content/frames_local/41596771111813013-CALENDAR does not exist!⚠️ Warning: /content/frames_local/89328430127506-CLOCK does not exist!\n",
            "⚠️ Warning: /content/frames_local/17325221331790464-RUSSIA does not exist!\n",
            "\n",
            "⚠️ Warning: /content/frames_local/15073167910436913-TV does not exist!\n",
            "⚠️ Warning: /content/frames_local/1735438576098305-MAGIC does not exist!⚠️ Warning: /content/frames_local/0154551425577234-WHAT FOR does not exist!\n",
            "⚠️ Warning: /content/frames_local/8662356899587791-LINE does not exist!\n",
            "\n",
            "⚠️ Warning: /content/frames_local/19721596375541495-ENJOY does not exist!\n",
            "⚠️ Warning: /content/frames_local/2918480840582631-CAPTION does not exist!\n",
            "⚠️ Warning: /content/frames_local/7340640373745668-WANT does not exist!⚠️ Warning: /content/frames_local/18301851044092055-DART does not exist!\n",
            "\n",
            "⚠️ Warning: /content/frames_local/1860612395462249-SURE does not exist!\n",
            "⚠️ Warning: /content/frames_local/43767405471151455-EAGLE 2 does not exist!\n"
          ]
        },
        {
          "output_type": "stream",
          "name": "stderr",
          "text": [
            "\r  3%|▎         | 2106/83399 [00:12<08:02, 168.37it/s]"
          ]
        },
        {
          "output_type": "stream",
          "name": "stdout",
          "text": [
            "⚠️ Warning: /content/frames_local/7515537092527524-LOBSTER 2 does not exist!\n",
            "⚠️ Warning: /content/frames_local/225826968653978-CANDLE does not exist!\n",
            "⚠️ Warning: /content/frames_local/014486764981652689-NECKLACE 4 does not exist!⚠️ Warning: /content/frames_local/6774764508582642-SANDWICH 3 does not exist!\n",
            "\n",
            "⚠️ Warning: /content/frames_local/28260748323010154-BUN does not exist!⚠️ Warning: /content/frames_local/7956279955805414-SWIM 2 does not exist!\n",
            "\n",
            "⚠️ Warning: /content/frames_local/9636016859317185-TEAR does not exist!⚠️ Warning: /content/frames_local/5186376848745045-SECRET does not exist!\n",
            "⚠️ Warning: /content/frames_local/58211339994932-HOUSE does not exist!\n",
            "\n",
            "⚠️ Warning: /content/frames_local/020704092548849307-DOLL does not exist!\n",
            "⚠️ Warning: /content/frames_local/488572033077433-HAIRCUT does not exist!\n",
            "⚠️ Warning: /content/frames_local/8315078288033126-TANKTOP does not exist!\n",
            "⚠️ Warning: /content/frames_local/04997487169446191-ADULT does not exist!⚠️ Warning: /content/frames_local/6311007143341782-JUGGLE does not exist!\n",
            "\n",
            "⚠️ Warning: /content/frames_local/7676352671170241-ORAL does not exist!⚠️ Warning: /content/frames_local/6602291619988045-SCAN does not exist!\n",
            "\n",
            "⚠️ Warning: /content/frames_local/9566049112694803-THEY does not exist!⚠️ Warning: /content/frames_local/9054777817276658-HOT COMPETITION does not exist!\n",
            "\n",
            "⚠️ Warning: /content/frames_local/4677758782420609-TAIL does not exist!"
          ]
        },
        {
          "output_type": "stream",
          "name": "stderr",
          "text": [
            "\r  3%|▎         | 2125/83399 [00:12<07:48, 173.54it/s]"
          ]
        },
        {
          "output_type": "stream",
          "name": "stdout",
          "text": [
            "⚠️ Warning: /content/frames_local/8131084295001514-EARN does not exist!\n",
            "\n",
            "⚠️ Warning: /content/frames_local/17396044320629378-BICYCLE does not exist!⚠️ Warning: /content/frames_local/8227868379853136-STEAK does not exist!\n",
            "\n",
            "⚠️ Warning: /content/frames_local/9178425279059637-THIRSTY does not exist!\n",
            "⚠️ Warning: /content/frames_local/3145482273983431-SMOKING does not exist!\n",
            "⚠️ Warning: /content/frames_local/8229344087589305-PATIENT 2 does not exist!⚠️ Warning: /content/frames_local/16612479365259758-DROWN does not exist!\n",
            "\n",
            "⚠️ Warning: /content/frames_local/7674649154704813-PAINT does not exist!\n",
            "⚠️ Warning: /content/frames_local/7256939070327812-LOCK does not exist!\n",
            "⚠️ Warning: /content/frames_local/8332413026628822-EAR does not exist!⚠️ Warning: /content/frames_local/4272254527792845-PERSISTENT does not exist!\n",
            "\n",
            "⚠️ Warning: /content/frames_local/5262773561731671-FEBRUARY does not exist!⚠️ Warning: /content/frames_local/8973455187539361-TROPHY does not exist!\n",
            "\n",
            "⚠️ Warning: /content/frames_local/3455739621543119-HEAR 1 does not exist!⚠️ Warning: /content/frames_local/2682725216920179-STAND does not exist!\n",
            "\n",
            "⚠️ Warning: /content/frames_local/8308388879493478-LESS does not exist!\n",
            "⚠️ Warning: /content/frames_local/2504923318200407-DICE does not exist!⚠️ Warning: /content/frames_local/473629325334326-YOUNG does not exist!\n",
            "\n"
          ]
        },
        {
          "output_type": "stream",
          "name": "stderr",
          "text": [
            "\r  3%|▎         | 2143/83399 [00:12<08:02, 168.24it/s]"
          ]
        },
        {
          "output_type": "stream",
          "name": "stdout",
          "text": [
            "⚠️ Warning: /content/frames_local/044182180087088074-IMPACT does not exist!⚠️ Warning: /content/frames_local/3318731808241877-INTERPRETER does not exist!\n",
            "\n",
            "⚠️ Warning: /content/frames_local/3350930800728815-EAGLE does not exist!⚠️ Warning: /content/frames_local/782136081785582-RELAX does not exist!\n",
            "\n",
            "⚠️ Warning: /content/frames_local/37939584506765534-PRINCE does not exist!⚠️ Warning: /content/frames_local/545724038356348-STUCK does not exist!\n",
            "\n",
            "⚠️ Warning: /content/frames_local/7584572044661264-OH I_SEE does not exist!⚠️ Warning: /content/frames_local/5494650376914665-RAT does not exist!\n",
            "\n",
            "⚠️ Warning: /content/frames_local/7386951957352275-SHAME does not exist!⚠️ Warning: /content/frames_local/3016536591601602-POP does not exist!\n",
            "\n",
            "⚠️ Warning: /content/frames_local/7049486497272253-CIRCLE does not exist!⚠️ Warning: /content/frames_local/7811910280006396-PEANUT BUTTER does not exist!\n",
            "\n",
            "⚠️ Warning: /content/frames_local/7844446995930539-BELT does not exist!⚠️ Warning: /content/frames_local/36292695471721115-OPEN BOOK does not exist!\n",
            "⚠️ Warning: /content/frames_local/04763398685641884-TODAY does not exist!\n",
            "⚠️ Warning: /content/frames_local/5105678600345553-USE does not exist!\n",
            "\n",
            "⚠️ Warning: /content/frames_local/2686439783511487-WEIGHT does not exist!"
          ]
        },
        {
          "output_type": "stream",
          "name": "stderr",
          "text": [
            "\r  3%|▎         | 2160/83399 [00:12<08:14, 164.26it/s]"
          ]
        },
        {
          "output_type": "stream",
          "name": "stdout",
          "text": [
            "⚠️ Warning: /content/frames_local/5207999837747637-SHARK 1 does not exist!\n",
            "⚠️ Warning: /content/frames_local/33393139072661704-HANDSOME 3 does not exist!\n",
            "⚠️ Warning: /content/frames_local/8426882361284811-ROCKET 2 does not exist!\n",
            "⚠️ Warning: /content/frames_local/367024091121527-OPEN WALLET does not exist!\n",
            "\n",
            "⚠️ Warning: /content/frames_local/5577903292454827-RECENT does not exist!⚠️ Warning: /content/frames_local/6983039041415455-CANCEL does not exist!\n",
            "\n",
            "⚠️ Warning: /content/frames_local/7339086150775165-THIRD does not exist!⚠️ Warning: /content/frames_local/20340919155695247-SENSITIVE does not exist!\n",
            "\n",
            "⚠️ Warning: /content/frames_local/4396779586281383-DISSECT does not exist!⚠️ Warning: /content/frames_local/8304511052555588-OBSESS does not exist!\n",
            "\n",
            "⚠️ Warning: /content/frames_local/006668622704927074-AUSTRALIA does not exist!\n",
            "⚠️ Warning: /content/frames_local/018605296652590697-HONEY 2 does not exist!⚠️ Warning: /content/frames_local/1254457862187024-GESTURE does not exist!\n",
            "\n",
            "⚠️ Warning: /content/frames_local/39953189927234-SHAKESPEARE does not exist!⚠️ Warning: /content/frames_local/39842482746414376-CHEERLEADER 2 does not exist!\n",
            "\n",
            "⚠️ Warning: /content/frames_local/7725159623093949-CRASH PLANE does not exist!⚠️ Warning: /content/frames_local/9947714211170791-LOBSTER 3 does not exist!\n",
            "\n"
          ]
        },
        {
          "output_type": "stream",
          "name": "stderr",
          "text": [
            "\r  3%|▎         | 2177/83399 [00:12<08:16, 163.61it/s]"
          ]
        },
        {
          "output_type": "stream",
          "name": "stdout",
          "text": [
            "⚠️ Warning: /content/frames_local/7754040964870901-HELMET 2 does not exist!\n",
            "⚠️ Warning: /content/frames_local/9814619154886826-BURY does not exist!\n",
            "⚠️ Warning: /content/frames_local/5031709408231533-ELECTROCUTE does not exist!\n",
            "⚠️ Warning: /content/frames_local/09065057930843134-MAIL 2 does not exist!\n",
            "⚠️ Warning: /content/frames_local/9764807568204996-UNIVERSE does not exist!⚠️ Warning: /content/frames_local/000361134873257285-STRAWBERRY 2 does not exist!\n",
            "\n",
            "⚠️ Warning: /content/frames_local/8314167135502288-RELAX 2 does not exist!⚠️ Warning: /content/frames_local/20978203217279967-YAWN 2 does not exist!\n",
            "\n",
            "⚠️ Warning: /content/frames_local/4319728785553598-NECKLACE 3 does not exist!⚠️ Warning: /content/frames_local/4506879511743287-TIMEOUT does not exist!\n",
            "⚠️ Warning: /content/frames_local/7129067151648851-BARK 3 does not exist!\n",
            "⚠️ Warning: /content/frames_local/9167116092731047-UNDERWEAR 2 does not exist!\n",
            "\n",
            "⚠️ Warning: /content/frames_local/999691339514567-CREWCUT does not exist!⚠️ Warning: /content/frames_local/4526783541506807-LEMON 2 does not exist!\n",
            "⚠️ Warning: /content/frames_local/5893437479260462-TIE UP_1 does not exist!\n",
            "\n",
            "⚠️ Warning: /content/frames_local/8300296493288641-JACKET 4 does not exist!⚠️ Warning: /content/frames_local/8237205713839779-OIL 2 does not exist!\n",
            "⚠️ Warning: /content/frames_local/4389211283561867-SCARF 2 does not exist!\n",
            "\n",
            "⚠️ Warning: /content/frames_local/9988489988539158-TRIP 2 does not exist!\n"
          ]
        },
        {
          "output_type": "stream",
          "name": "stderr",
          "text": [
            "\r  3%|▎         | 2196/83399 [00:13<07:58, 169.63it/s]"
          ]
        },
        {
          "output_type": "stream",
          "name": "stdout",
          "text": [
            "⚠️ Warning: /content/frames_local/5206719985921116-GLUE 1 does not exist!\n",
            "⚠️ Warning: /content/frames_local/28633807295062375-BADGE does not exist!⚠️ Warning: /content/frames_local/44313289301830094-FROWN 1 does not exist!\n",
            "\n",
            "⚠️ Warning: /content/frames_local/6733982740236468-RESEARCH does not exist!⚠️ Warning: /content/frames_local/9773862153328925-SAIL does not exist!\n",
            "⚠️ Warning: /content/frames_local/9127941733819438-EQUAL does not exist!\n",
            "⚠️ Warning: /content/frames_local/40367762728589285-PLIERS does not exist!\n",
            "⚠️ Warning: /content/frames_local/4468580584598507-DIVE does not exist!\n",
            "\n",
            "⚠️ Warning: /content/frames_local/8702772153129534-ART does not exist!\n",
            "⚠️ Warning: /content/frames_local/8284718936260353-BROWN does not exist!⚠️ Warning: /content/frames_local/5176020146750746-HAIRDRYER does not exist!\n",
            "\n",
            "⚠️ Warning: /content/frames_local/20947937149831364-DRUNK does not exist!⚠️ Warning: /content/frames_local/3879414336508915-TALL 2 does not exist!\n",
            "\n",
            "⚠️ Warning: /content/frames_local/08917504408873222-LETTER does not exist!\n",
            "⚠️ Warning: /content/frames_local/5299221730600594-WRONG does not exist!\n",
            "⚠️ Warning: /content/frames_local/49565046909375376-STETHOSCOPE does not exist!⚠️ Warning: /content/frames_local/25204780191133236-LIVE does not exist!\n",
            "\n",
            "⚠️ Warning: /content/frames_local/4974107952060165-COW does not exist!"
          ]
        },
        {
          "output_type": "stream",
          "name": "stderr",
          "text": [
            "\r  3%|▎         | 2214/83399 [00:13<08:01, 168.59it/s]"
          ]
        },
        {
          "output_type": "stream",
          "name": "stdout",
          "text": [
            "⚠️ Warning: /content/frames_local/08916906344820319-THURSDAY does not exist!\n",
            "\n",
            "⚠️ Warning: /content/frames_local/31541023494010045-BELIEVE does not exist!⚠️ Warning: /content/frames_local/1304335186345793-ROOSTER does not exist!\n",
            "\n",
            "⚠️ Warning: /content/frames_local/7240523490260773-POOL GAME does not exist!⚠️ Warning: /content/frames_local/7432259374219661-DEATH does not exist!\n",
            "⚠️ Warning: /content/frames_local/7845451950163314-CRACKER does not exist!\n",
            "\n",
            "⚠️ Warning: /content/frames_local/5814806084205502-SNOW does not exist!⚠️ Warning: /content/frames_local/28239352016665675-PAST does not exist!\n",
            "\n",
            "⚠️ Warning: /content/frames_local/2837896493404577-IRON does not exist!⚠️ Warning: /content/frames_local/6579576992074261-HIGH does not exist!\n",
            "\n",
            "⚠️ Warning: /content/frames_local/8621265471402233-BREATHE does not exist!⚠️ Warning: /content/frames_local/41641712428835986-NEW YORK does not exist!\n",
            "\n",
            "⚠️ Warning: /content/frames_local/7637810146396686-LAWYER does not exist!\n",
            "⚠️ Warning: /content/frames_local/6442771397007945-ACCOMPLISH does not exist!⚠️ Warning: /content/frames_local/5268072837528903-WHAT FOR does not exist!\n",
            "\n",
            "⚠️ Warning: /content/frames_local/9311366986777097-WEST does not exist!⚠️ Warning: /content/frames_local/534123273386057-HOUR does not exist!\n",
            "⚠️ Warning: /content/frames_local/6720299779826167-GOLD does not exist!"
          ]
        },
        {
          "output_type": "stream",
          "name": "stderr",
          "text": [
            "\r  3%|▎         | 2231/83399 [00:13<08:03, 168.04it/s]"
          ]
        },
        {
          "output_type": "stream",
          "name": "stdout",
          "text": [
            "\n",
            "⚠️ Warning: /content/frames_local/557887497371699-SCARF does not exist!\n",
            "⚠️ Warning: /content/frames_local/5886530842290676-SATURDAY does not exist!\n",
            "⚠️ Warning: /content/frames_local/9795109068539656-THIN does not exist!\n",
            "⚠️ Warning: /content/frames_local/8076883250822422-BUG does not exist!\n",
            "\n",
            "⚠️ Warning: /content/frames_local/29278271057037-HAPPEN does not exist!⚠️ Warning: /content/frames_local/3811163298629603-OFFICE does not exist!\n",
            "\n",
            "⚠️ Warning: /content/frames_local/9582148349861712-INTERNET does not exist!\n",
            "⚠️ Warning: /content/frames_local/11955845466062698-BEER does not exist!⚠️ Warning: /content/frames_local/6342715207343876-WET does not exist!\n",
            "⚠️ Warning: /content/frames_local/6770231047986157-LOBSTER does not exist!\n",
            "\n",
            "⚠️ Warning: /content/frames_local/0077151888593323115-SAME does not exist!⚠️ Warning: /content/frames_local/8500068040222597-BAD does not exist!\n",
            "\n",
            "⚠️ Warning: /content/frames_local/5294180981594536-SHAMPOO does not exist!⚠️ Warning: /content/frames_local/9634964027973103-NOT CARE does not exist!\n",
            "\n",
            "⚠️ Warning: /content/frames_local/6261997119637623-FRUSTRATE does not exist!\n",
            "⚠️ Warning: /content/frames_local/10670978211606608-SNAKE does not exist!\n",
            "⚠️ Warning: /content/frames_local/2977445528211726-DOCTOR does not exist!⚠️ Warning: /content/frames_local/5545391532310016-PROMOTE does not exist!\n",
            "⚠️ Warning: /content/frames_local/09622145966515006-WEDNESDAY does not exist!\n",
            "⚠️ Warning: /content/frames_local/7413221590067469-WALK does not exist!\n",
            "⚠️ Warning: /content/frames_local/7039238952072253-DIAMOND does not exist!\n"
          ]
        },
        {
          "output_type": "stream",
          "name": "stderr",
          "text": [
            "\r  3%|▎         | 2252/83399 [00:13<07:36, 177.94it/s]"
          ]
        },
        {
          "output_type": "stream",
          "name": "stdout",
          "text": [
            "⚠️ Warning: /content/frames_local/3973381149037627-DIE does not exist!\n",
            "⚠️ Warning: /content/frames_local/5994404016413879-FIGURE does not exist!\n",
            "⚠️ Warning: /content/frames_local/31978066605899014-DELICIOUS does not exist!\n",
            "\n",
            "⚠️ Warning: /content/frames_local/4840403294173512-SQUIRREL does not exist!⚠️ Warning: /content/frames_local/759928576575527-GOLF does not exist!\n",
            "⚠️ Warning: /content/frames_local/48758585419159983-RESPONSIBILITY does not exist!\n",
            "\n",
            "⚠️ Warning: /content/frames_local/39868492652743104-CRY does not exist!⚠️ Warning: /content/frames_local/3005508496689526-AIRPLANE does not exist!\n",
            "\n",
            "⚠️ Warning: /content/frames_local/9033775093699132-PRESIDENT does not exist!⚠️ Warning: /content/frames_local/5795304703814874-WEATHER does not exist!\n",
            "\n",
            "⚠️ Warning: /content/frames_local/5467978985998931-CHINA does not exist!⚠️ Warning: /content/frames_local/33808616112931444-SNOB does not exist!\n",
            "⚠️ Warning: /content/frames_local/533023040341484-REST does not exist!\n",
            "\n",
            "⚠️ Warning: /content/frames_local/9865146157462623-MEAN does not exist!⚠️ Warning: /content/frames_local/7445093410602142-SWALLOW does not exist!\n",
            "\n",
            "⚠️ Warning: /content/frames_local/40765082365874594-LECTURE does not exist!⚠️ Warning: /content/frames_local/6807296820091187-NUMBERS does not exist!\n",
            "⚠️ Warning: /content/frames_local/7768579128219018-SUN does not exist!\n",
            "\n"
          ]
        },
        {
          "output_type": "stream",
          "name": "stderr",
          "text": [
            "\r  3%|▎         | 2271/83399 [00:13<07:31, 179.62it/s]"
          ]
        },
        {
          "output_type": "stream",
          "name": "stdout",
          "text": [
            "⚠️ Warning: /content/frames_local/8884929834951751-LOYAL does not exist!⚠️ Warning: /content/frames_local/7872563280120004-POINT does not exist!\n",
            "\n",
            "⚠️ Warning: /content/frames_local/4980758080077503-MICROSCOPE does not exist!⚠️ Warning: /content/frames_local/5844816745369699-TIRED does not exist!\n",
            "\n",
            "⚠️ Warning: /content/frames_local/6807479789190645-WAIT does not exist!⚠️ Warning: /content/frames_local/4402985572375251-OLD does not exist!\n",
            "\n",
            "⚠️ Warning: /content/frames_local/760852467495833-CLASS does not exist!⚠️ Warning: /content/frames_local/8715823702566576-FINGERSPELLING does not exist!\n",
            "\n",
            "⚠️ Warning: /content/frames_local/40162327394431085-TREE does not exist!⚠️ Warning: /content/frames_local/08242630440577337-BRACELET does not exist!\n",
            "⚠️ Warning: /content/frames_local/020041755164972974-CHICAGO does not exist!\n",
            "\n",
            "⚠️ Warning: /content/frames_local/2586874421609653-WAY does not exist!⚠️ Warning: /content/frames_local/7545365207037444-COLOR does not exist!\n",
            "\n",
            "⚠️ Warning: /content/frames_local/7899782244337141-BOX does not exist!⚠️ Warning: /content/frames_local/030191740294547742-PERFECT does not exist!\n",
            "\n",
            "⚠️ Warning: /content/frames_local/10032313363697454-ABOUT does not exist!⚠️ Warning: /content/frames_local/5722862418488095-DEEP does not exist!\n",
            "\n"
          ]
        },
        {
          "output_type": "stream",
          "name": "stderr",
          "text": [
            "\r  3%|▎         | 2289/83399 [00:13<08:02, 168.16it/s]"
          ]
        },
        {
          "output_type": "stream",
          "name": "stdout",
          "text": [
            "⚠️ Warning: /content/frames_local/48868933535127335-MATH does not exist!⚠️ Warning: /content/frames_local/00849154736774671-OOPS does not exist!\n",
            "⚠️ Warning: /content/frames_local/49426957702619356-MANY does not exist!\n",
            "\n",
            "⚠️ Warning: /content/frames_local/7947158548693705-WEDDING does not exist!⚠️ Warning: /content/frames_local/4701606875522637-BOY does not exist!\n",
            "\n",
            "⚠️ Warning: /content/frames_local/25543784769620737-COUGH does not exist!⚠️ Warning: /content/frames_local/20765499771937668-TOILET does not exist!\n",
            "\n",
            "⚠️ Warning: /content/frames_local/8470355643318659-CONGRATULATIONS does not exist!\n",
            "⚠️ Warning: /content/frames_local/8543060643832148-BAR does not exist!\n",
            "⚠️ Warning: /content/frames_local/33676822616482216-SHOP does not exist!⚠️ Warning: /content/frames_local/41955330002116153-DENTIST does not exist!\n",
            "⚠️ Warning: /content/frames_local/8359429569194194-GLOVES does not exist!\n",
            "⚠️ Warning: /content/frames_local/6215118282753682-FROM does not exist!\n",
            "\n",
            "⚠️ Warning: /content/frames_local/5797477308280874-ABOUT 2 does not exist!⚠️ Warning: /content/frames_local/48309871889282396-TIGER does not exist!\n",
            "\n",
            "⚠️ Warning: /content/frames_local/5230904219364878-SISTER does not exist!\n",
            "⚠️ Warning: /content/frames_local/9408809973549381-LAPTOP does not exist!⚠️ Warning: /content/frames_local/1228899835934687-START does not exist!\n",
            "⚠️ Warning: /content/frames_local/31302543974834873-SODA does not exist!"
          ]
        },
        {
          "output_type": "stream",
          "name": "stderr",
          "text": [
            "\r  3%|▎         | 2306/83399 [00:13<08:26, 160.05it/s]"
          ]
        },
        {
          "output_type": "stream",
          "name": "stdout",
          "text": [
            "\n",
            "\n",
            "⚠️ Warning: /content/frames_local/7022919571241915-LOOK FOR does not exist!\n",
            "⚠️ Warning: /content/frames_local/51291985441643-MUSIC does not exist!⚠️ Warning: /content/frames_local/0014294717734566476-OWL does not exist!\n",
            "⚠️ Warning: /content/frames_local/9825690623317844-GUESS does not exist!\n",
            "\n",
            "⚠️ Warning: /content/frames_local/6299704092632314-PERCENT does not exist!⚠️ Warning: /content/frames_local/6161976053402185-WORRY does not exist!\n",
            "⚠️ Warning: /content/frames_local/26154372036264695-PHONE does not exist!\n",
            "⚠️ Warning: /content/frames_local/6540194373795933-INJECT does not exist!\n",
            "⚠️ Warning: /content/frames_local/7898922199956833-BEAR does not exist!\n",
            "\n",
            "⚠️ Warning: /content/frames_local/5977951646216033-ACCIDENT does not exist!\n",
            "⚠️ Warning: /content/frames_local/652002687685024-SUNSET does not exist!⚠️ Warning: /content/frames_local/5017386597288112-CHEESE does not exist!\n",
            "\n",
            "⚠️ Warning: /content/frames_local/9881647602786192-QUEEN does not exist!\n",
            "⚠️ Warning: /content/frames_local/6217757553099765-SILLY does not exist!⚠️ Warning: /content/frames_local/9033780007169909-ATTENTION does not exist!\n",
            "\n"
          ]
        },
        {
          "output_type": "stream",
          "name": "stderr",
          "text": [
            "\r  3%|▎         | 2323/83399 [00:13<08:31, 158.42it/s]"
          ]
        },
        {
          "output_type": "stream",
          "name": "stdout",
          "text": [
            "⚠️ Warning: /content/frames_local/28984686648103297-CHECK does not exist!⚠️ Warning: /content/frames_local/3361696159516576-BEDROOM does not exist!\n",
            "\n",
            "⚠️ Warning: /content/frames_local/8003023496512565-HOLIDAY does not exist!⚠️ Warning: /content/frames_local/09876006524202241-ELEPHANT does not exist!\n",
            "\n",
            "⚠️ Warning: /content/frames_local/6460684791485047-PRISON does not exist!⚠️ Warning: /content/frames_local/1969416938645112-SENTENCE does not exist!\n",
            "\n",
            "⚠️ Warning: /content/frames_local/5701974032799892-HIGH SCHOOL does not exist!⚠️ Warning: /content/frames_local/19521031384072152-CUTE does not exist!\n",
            "⚠️ Warning: /content/frames_local/22710014944481416-SCREWDRIVER does not exist!\n",
            "⚠️ Warning: /content/frames_local/12979829347320937-HELP does not exist!\n",
            "⚠️ Warning: /content/frames_local/3546973099482491-REASON does not exist!\n",
            "\n",
            "⚠️ Warning: /content/frames_local/26459700583423307-SYMPATHY does not exist!⚠️ Warning: /content/frames_local/4311917411154673-HAPPY does not exist!\n",
            "\n",
            "⚠️ Warning: /content/frames_local/5237431195885818-EAT does not exist!\n",
            "⚠️ Warning: /content/frames_local/07036034661509549-DISNEY does not exist!\n",
            "⚠️ Warning: /content/frames_local/9098358393183212-HEADPHONES does not exist!⚠️ Warning: /content/frames_local/36006256153216487-BIRTHDAY does not exist!\n",
            "\n"
          ]
        },
        {
          "output_type": "stream",
          "name": "stderr",
          "text": [
            "\r  3%|▎         | 2339/83399 [00:13<08:40, 155.84it/s]"
          ]
        },
        {
          "output_type": "stream",
          "name": "stdout",
          "text": [
            "⚠️ Warning: /content/frames_local/8566463345061712-DOG does not exist!⚠️ Warning: /content/frames_local/3687776724656089-STIR does not exist!\n",
            "\n",
            "⚠️ Warning: /content/frames_local/435096946938927-REMOTE CONTROL does not exist!⚠️ Warning: /content/frames_local/9267759696961941-WARM does not exist!\n",
            "\n",
            "⚠️ Warning: /content/frames_local/8701465924878977-COLD does not exist!⚠️ Warning: /content/frames_local/281609393133206-TRANSLATE does not exist!\n",
            "⚠️ Warning: /content/frames_local/37451796663040104-ORDER does not exist!\n",
            "\n",
            "⚠️ Warning: /content/frames_local/9191537054483498-ONION does not exist!\n",
            "⚠️ Warning: /content/frames_local/2712604625967814-SCRIPT does not exist!\n",
            "⚠️ Warning: /content/frames_local/16705962098003613-VIBRATE does not exist!⚠️ Warning: /content/frames_local/9260597898713478-PROVIDE does not exist!\n",
            "⚠️ Warning: /content/frames_local/24496495609378788-MEDITATE does not exist!\n",
            "\n",
            "⚠️ Warning: /content/frames_local/34305753119429183-SOMETHING does not exist!⚠️ Warning: /content/frames_local/35323844280846073-CHEAP does not exist!\n",
            "\n",
            "⚠️ Warning: /content/frames_local/7899228255493587-SHAKE does not exist!⚠️ Warning: /content/frames_local/6665150452695918-AUTOMATIC does not exist!\n",
            "⚠️ Warning: /content/frames_local/28976321467162025-BOW does not exist!\n",
            "⚠️ Warning: /content/frames_local/2866841302141683-MEMORIZE MEMORIZE does not exist!⚠️ Warning: /content/frames_local/8250599360601654-HURRICANE does not exist!\n",
            "\n",
            "⚠️ Warning: /content/frames_local/11144006413207697-PLAN does not exist!\n"
          ]
        },
        {
          "output_type": "stream",
          "name": "stderr",
          "text": [
            "\r  3%|▎         | 2359/83399 [00:14<08:12, 164.43it/s]"
          ]
        },
        {
          "output_type": "stream",
          "name": "stdout",
          "text": [
            "⚠️ Warning: /content/frames_local/519060387585524-CEILING does not exist!\n",
            "⚠️ Warning: /content/frames_local/1563473861487994-DONT WANT does not exist!\n",
            "⚠️ Warning: /content/frames_local/5412786910406682-NONE does not exist!\n",
            "\n",
            "⚠️ Warning: /content/frames_local/31793421716527726-EXPLODE does not exist!⚠️ Warning: /content/frames_local/7297080813224865-PANCAKE does not exist!\n",
            "⚠️ Warning: /content/frames_local/47048774016055717-MIX does not exist!\n",
            "⚠️ Warning: /content/frames_local/8810262181489603-UDDER does not exist!\n",
            "⚠️ Warning: /content/frames_local/18871228326050082-PLATE does not exist!\n",
            "\n",
            "⚠️ Warning: /content/frames_local/9367577583277302-SPIDER does not exist!⚠️ Warning: /content/frames_local/15037964032988627-FLIPFLOPS does not exist!\n",
            "⚠️ Warning: /content/frames_local/5264296135604365-PLANT does not exist!\n",
            "\n",
            "⚠️ Warning: /content/frames_local/833173972266462-BANDAGE does not exist!\n",
            "⚠️ Warning: /content/frames_local/4559460710363339-OSTRICH does not exist!⚠️ Warning: /content/frames_local/4953060380876644-IN does not exist!\n",
            "\n",
            "⚠️ Warning: /content/frames_local/14607350798110286-STAPLER does not exist!⚠️ Warning: /content/frames_local/3402447092320744-REAL SICK does not exist!\n",
            "⚠️ Warning: /content/frames_local/36163659851911945-TUBE TOP does not exist!\n",
            "\n",
            "⚠️ Warning: /content/frames_local/19302777748696132-DIP does not exist!⚠️ Warning: /content/frames_local/4343102505477865-HAD ENOUGH does not exist!\n",
            "⚠️ Warning: /content/frames_local/256851443137736-JUGGLER does not exist!\n",
            "\n",
            "⚠️ Warning: /content/frames_local/03429333632673637-JELLYFISH does not exist!⚠️ Warning: /content/frames_local/8601391713136628-ACCENT does not exist!\n"
          ]
        },
        {
          "output_type": "stream",
          "name": "stderr",
          "text": [
            "\r  3%|▎         | 2381/83399 [00:14<07:31, 179.41it/s]"
          ]
        },
        {
          "output_type": "stream",
          "name": "stdout",
          "text": [
            "\n",
            "⚠️ Warning: /content/frames_local/3213538291246252-SUSPENDERS does not exist!\n",
            "⚠️ Warning: /content/frames_local/19768631695836425-UP does not exist!⚠️ Warning: /content/frames_local/38648445722197544-BEE does not exist!\n",
            "\n",
            "⚠️ Warning: /content/frames_local/4106941256062371-HATCH does not exist!\n",
            "⚠️ Warning: /content/frames_local/43192757103079793-LEAD does not exist!⚠️ Warning: /content/frames_local/9077336941907945-PLOW does not exist!\n",
            "\n",
            "⚠️ Warning: /content/frames_local/6140070252210881-DENT does not exist!⚠️ Warning: /content/frames_local/6745966805211685-LEAK does not exist!\n",
            "⚠️ Warning: /content/frames_local/7698583145088012-TURN KEY does not exist!\n",
            "⚠️ Warning: /content/frames_local/9137575399806512-TOUGH does not exist!\n",
            "\n",
            "⚠️ Warning: /content/frames_local/4736662703887722-LOCK does not exist!⚠️ Warning: /content/frames_local/05395764025422789-ACCEPT does not exist!\n",
            "\n",
            "⚠️ Warning: /content/frames_local/380118937302075-NET does not exist!\n",
            "⚠️ Warning: /content/frames_local/07459242480614381-RESCUE does not exist!\n",
            "⚠️ Warning: /content/frames_local/12219971006687413-BITE ON NECK does not exist!⚠️ Warning: /content/frames_local/37133917405214634-FOREST does not exist!\n",
            "⚠️ Warning: /content/frames_local/7414465154323313-DELIBERATE does not exist!\n",
            "\n",
            "⚠️ Warning: /content/frames_local/23266566282826773-MINIMUM 2 does not exist!\n",
            "⚠️ Warning: /content/frames_local/8878662426542132-LOOK LIKE does not exist!⚠️ Warning: /content/frames_local/9414615413125997-WORSE does not exist!\n",
            "\n"
          ]
        },
        {
          "output_type": "stream",
          "name": "stderr",
          "text": [
            "\r  3%|▎         | 2401/83399 [00:14<07:29, 180.04it/s]"
          ]
        },
        {
          "output_type": "stream",
          "name": "stdout",
          "text": [
            "⚠️ Warning: /content/frames_local/512282168006243-TYPE does not exist!⚠️ Warning: /content/frames_local/5544244053704075-LUNCH does not exist!\n",
            "⚠️ Warning: /content/frames_local/03311997257343724-EXCITED does not exist!\n",
            "⚠️ Warning: /content/frames_local/43875970920690976-ONE YEAR AGO does not exist!\n",
            "\n",
            "⚠️ Warning: /content/frames_local/2337318059992708-BREAK DOWN does not exist!⚠️ Warning: /content/frames_local/7661132154616539-EMPTY does not exist!\n",
            "\n",
            "⚠️ Warning: /content/frames_local/52432973330175-JUMP ROPE does not exist!\n",
            "⚠️ Warning: /content/frames_local/7573961154427675-MUSHROOM does not exist!⚠️ Warning: /content/frames_local/15878846983423922-AGENCY does not exist!\n",
            "\n",
            "⚠️ Warning: /content/frames_local/2351706519465988-FUNCTION does not exist!⚠️ Warning: /content/frames_local/644167470464027-CHAOS does not exist!\n",
            "\n",
            "⚠️ Warning: /content/frames_local/23412635443995766-BANDAID does not exist!⚠️ Warning: /content/frames_local/7908059867347523-INSTINCT does not exist!\n",
            "⚠️ Warning: /content/frames_local/4197770326170689-BEFORE does not exist!\n",
            "⚠️ Warning: /content/frames_local/9734582683810236-PROCESS does not exist!\n",
            "\n",
            "⚠️ Warning: /content/frames_local/6209747084237167-CLIP does not exist!\n",
            "⚠️ Warning: /content/frames_local/5648218322812564-HONK does not exist!⚠️ Warning: /content/frames_local/32002957425595-BAT does not exist!\n",
            "⚠️ Warning: /content/frames_local/5371216496577838-EVERYDAY does not exist!\n",
            "\n",
            "⚠️ Warning: /content/frames_local/20450667929598443-EXAMPLE does not exist!"
          ]
        },
        {
          "output_type": "stream",
          "name": "stderr",
          "text": [
            "\r  3%|▎         | 2420/83399 [00:14<07:28, 180.73it/s]"
          ]
        },
        {
          "output_type": "stream",
          "name": "stdout",
          "text": [
            "⚠️ Warning: /content/frames_local/5170670569600777-MEXICAN does not exist!\n",
            "\n",
            "⚠️ Warning: /content/frames_local/11388872998746447-TONGUE does not exist!⚠️ Warning: /content/frames_local/42978088648003454-DEGREE does not exist!\n",
            "\n",
            "⚠️ Warning: /content/frames_local/19430430345342353-RELEASE does not exist!⚠️ Warning: /content/frames_local/48313464915789317-BRAG does not exist!\n",
            "⚠️ Warning: /content/frames_local/2685232896872951-MEGAPHONE does not exist!\n",
            "⚠️ Warning: /content/frames_local/06254613801507869-PRACTICE does not exist!\n",
            "\n",
            "⚠️ Warning: /content/frames_local/9780298680685509-ARREST does not exist!⚠️ Warning: /content/frames_local/875215649561313-SOON does not exist!\n",
            "\n",
            "⚠️ Warning: /content/frames_local/2075373618324825-ONLY ONE does not exist!⚠️ Warning: /content/frames_local/3979542273376353-DIFFERENT does not exist!\n",
            "⚠️ Warning: /content/frames_local/5161597712284207-SNORKEL does not exist!\n",
            "\n",
            "⚠️ Warning: /content/frames_local/124263598709349-SENATE does not exist!⚠️ Warning: /content/frames_local/9904426776388293-SPAIN does not exist!\n",
            "\n",
            "⚠️ Warning: /content/frames_local/7368316235534647-PLAYERS does not exist!⚠️ Warning: /content/frames_local/07055642168322596-SOCIALIZE does not exist!\n",
            "\n",
            "⚠️ Warning: /content/frames_local/6734379993215762-ACCESS does not exist!⚠️ Warning: /content/frames_local/7925221797991369-A LITTLE BIT does not exist!\n"
          ]
        },
        {
          "output_type": "stream",
          "name": "stderr",
          "text": [
            "\r  3%|▎         | 2439/83399 [00:14<07:50, 172.18it/s]"
          ]
        },
        {
          "output_type": "stream",
          "name": "stdout",
          "text": [
            "⚠️ Warning: /content/frames_local/4070043398663541-GONE does not exist!\n",
            "\n",
            "⚠️ Warning: /content/frames_local/8023267651086026-ADMIT does not exist!⚠️ Warning: /content/frames_local/7010686769661714-BRAINWASH does not exist!\n",
            "\n",
            "⚠️ Warning: /content/frames_local/5617653734783741-TUESDAY does not exist!⚠️ Warning: /content/frames_local/6176870997280488-BLOW does not exist!\n",
            "\n",
            "⚠️ Warning: /content/frames_local/8948727969464061-NEAR does not exist!⚠️ Warning: /content/frames_local/39990633159902056-DOUBLE does not exist!\n",
            "\n",
            "⚠️ Warning: /content/frames_local/6840746660462287-UPSET does not exist!⚠️ Warning: /content/frames_local/6341804857599533-ASTRONAUT does not exist!\n",
            "\n",
            "⚠️ Warning: /content/frames_local/9432217730296786-PARAGRAPH does not exist!\n",
            "⚠️ Warning: /content/frames_local/9533220991101534-OPPORTUNITY does not exist!\n",
            "⚠️ Warning: /content/frames_local/6279747337076276-EARS UP does not exist!\n",
            "⚠️ Warning: /content/frames_local/7960854103330277-MOTIVATION does not exist!\n",
            "⚠️ Warning: /content/frames_local/5481678038970468-NOT does not exist!⚠️ Warning: /content/frames_local/03255585711044118-ERASE does not exist!\n",
            "\n",
            "⚠️ Warning: /content/frames_local/9238313199646468-REDUCE does not exist!⚠️ Warning: /content/frames_local/5401262541863572-SWEATPANTS does not exist!\n",
            "\n"
          ]
        },
        {
          "output_type": "stream",
          "name": "stderr",
          "text": [
            "\r  3%|▎         | 2457/83399 [00:14<08:08, 165.61it/s]"
          ]
        },
        {
          "output_type": "stream",
          "name": "stdout",
          "text": [
            "⚠️ Warning: /content/frames_local/12606031724124622-POLICEMAN does not exist!⚠️ Warning: /content/frames_local/9615771339457309-SHOWER does not exist!\n",
            "⚠️ Warning: /content/frames_local/10932650590805237-CLOWN does not exist!\n",
            "\n",
            "⚠️ Warning: /content/frames_local/18348917836401624-WITCH does not exist!⚠️ Warning: /content/frames_local/5701936378006789-MECHANIC does not exist!\n",
            "\n",
            "⚠️ Warning: /content/frames_local/34055255438410903-MOUNTAIN does not exist!⚠️ Warning: /content/frames_local/6616272465199342-BIOLOGY does not exist!\n",
            "⚠️ Warning: /content/frames_local/6475641707514501-BASEBALL does not exist!\n",
            "⚠️ Warning: /content/frames_local/986057394785949-TENNIS does not exist!\n",
            "\n",
            "⚠️ Warning: /content/frames_local/16092506068740264-ASIA does not exist!⚠️ Warning: /content/frames_local/7865136182397368-LIBRARY does not exist!\n",
            "\n",
            "⚠️ Warning: /content/frames_local/2693717897967871-LAZY does not exist!⚠️ Warning: /content/frames_local/8285722836345848-ICECREAM does not exist!\n",
            "\n",
            "⚠️ Warning: /content/frames_local/246568896782273-GUITAR does not exist!⚠️ Warning: /content/frames_local/8857306212885183-FIREMAN does not exist!\n",
            "\n",
            "⚠️ Warning: /content/frames_local/1509106006822425-GLOVE does not exist!⚠️ Warning: /content/frames_local/4532800934345502-GARAGE does not exist!\n",
            "\n",
            "⚠️ Warning: /content/frames_local/2580102163494964-HAT does not exist!"
          ]
        },
        {
          "output_type": "stream",
          "name": "stderr",
          "text": [
            "\r  3%|▎         | 2474/83399 [00:14<08:05, 166.52it/s]"
          ]
        },
        {
          "output_type": "stream",
          "name": "stdout",
          "text": [
            "⚠️ Warning: /content/frames_local/874780309037607-AFRICA does not exist!\n",
            "\n",
            "⚠️ Warning: /content/frames_local/009014836902160983-FLOWER does not exist!⚠️ Warning: /content/frames_local/0845123522019795-ACTOR does not exist!\n",
            "⚠️ Warning: /content/frames_local/2528818347998947-HEAVEN does not exist!\n",
            "\n",
            "⚠️ Warning: /content/frames_local/41919622591869343-EGG does not exist!⚠️ Warning: /content/frames_local/46422340278995167-WINDOW does not exist!\n",
            "\n",
            "⚠️ Warning: /content/frames_local/980377668337292-SOUP does not exist!\n",
            "⚠️ Warning: /content/frames_local/2426416387143202-PAPERCUTTER does not exist!⚠️ Warning: /content/frames_local/8969521151968989-WHIP does not exist!\n",
            "⚠️ Warning: /content/frames_local/32665271167114707-HUNT does not exist!\n",
            "⚠️ Warning: /content/frames_local/44214150872744207-SHRIMP does not exist!\n",
            "\n",
            "⚠️ Warning: /content/frames_local/8777128111171211-PRINT does not exist!⚠️ Warning: /content/frames_local/4794931939462106-SOME does not exist!\n",
            "\n",
            "⚠️ Warning: /content/frames_local/8819170852454765-BATHROOM does not exist!⚠️ Warning: /content/frames_local/2738396373363212-COCONUT does not exist!\n",
            "\n",
            "⚠️ Warning: /content/frames_local/23739629817016872-UNDERWEAR does not exist!\n",
            "⚠️ Warning: /content/frames_local/8021303506194604-STAIRS does not exist!"
          ]
        },
        {
          "output_type": "stream",
          "name": "stderr",
          "text": [
            "\r  3%|▎         | 2491/83399 [00:14<08:21, 161.33it/s]"
          ]
        },
        {
          "output_type": "stream",
          "name": "stdout",
          "text": [
            "⚠️ Warning: /content/frames_local/7815623606455033-PILL does not exist!\n",
            "⚠️ Warning: /content/frames_local/5366284286897927-SHOULDER does not exist!\n",
            "\n",
            "⚠️ Warning: /content/frames_local/15754416849640696-DOOR does not exist!⚠️ Warning: /content/frames_local/3714209640987758-BANANA does not exist!\n",
            "\n",
            "⚠️ Warning: /content/frames_local/009143141127953447-STAR does not exist!\n",
            "⚠️ Warning: /content/frames_local/7258152184772868-BATH does not exist!\n",
            "⚠️ Warning: /content/frames_local/49454758653816433-FOX does not exist!⚠️ Warning: /content/frames_local/22252371009392813-THREE does not exist!\n",
            "\n",
            "⚠️ Warning: /content/frames_local/3709997507310303-ANGRY does not exist!⚠️ Warning: /content/frames_local/3624106996012926-MOTHER does not exist!\n",
            "\n",
            "⚠️ Warning: /content/frames_local/48106534088601016-DRESS does not exist!\n",
            "⚠️ Warning: /content/frames_local/335046616135632-BRIDGE does not exist!⚠️ Warning: /content/frames_local/058010436619391426-GRANDFATHER does not exist!\n",
            "\n",
            "⚠️ Warning: /content/frames_local/1704145426296173-CONCEPT does not exist!\n",
            "⚠️ Warning: /content/frames_local/27872017556072803-FAVORITE does not exist!⚠️ Warning: /content/frames_local/46935830624022845-LOOK APPEARANCE does not exist!\n",
            "\n",
            "⚠️ Warning: /content/frames_local/24261120852125817-CITY does not exist!"
          ]
        },
        {
          "output_type": "stream",
          "name": "stderr",
          "text": [
            "\r  3%|▎         | 2508/83399 [00:14<08:17, 162.48it/s]"
          ]
        },
        {
          "output_type": "stream",
          "name": "stdout",
          "text": [
            "\n",
            "⚠️ Warning: /content/frames_local/8971591341871883-BECAUSE does not exist!⚠️ Warning: /content/frames_local/8999699876786247-BUTTERFLY does not exist!\n",
            "\n",
            "\n",
            "⚠️ Warning: /content/frames_local/7985767709549725-CHOCOLATE does not exist!⚠️ Warning: /content/frames_local/2354666425697587-TRAIN does not exist!⚠️ Warning: /content/frames_local/48236686990960176-BELT does not exist!\n",
            "⚠️ Warning: /content/frames_local/07535673207141125-SPEAKERS does not exist!\n",
            "\n",
            "⚠️ Warning: /content/frames_local/8197430169000788-CABINET does not exist!⚠️ Warning: /content/frames_local/6967212276629662-IMPORTANT does not exist!\n",
            "\n",
            "⚠️ Warning: /content/frames_local/7965200255372531-SAME 2 does not exist!\n",
            "⚠️ Warning: /content/frames_local/5872467669891628-RAIN does not exist!⚠️ Warning: /content/frames_local/06423831579431782-WORK does not exist!\n",
            "\n",
            "⚠️ Warning: /content/frames_local/9095783398911279-SURPRISE does not exist!\n",
            "⚠️ Warning: /content/frames_local/7462011405656663-RECORDING does not exist!⚠️ Warning: /content/frames_local/6781008345337096-SLOW does not exist!\n",
            "\n",
            "\n",
            "⚠️ Warning: /content/frames_local/4940560558214957-FARM does not exist!⚠️ Warning: /content/frames_local/8959585031554478-LIPSTICK does not exist!\n",
            "⚠️ Warning: /content/frames_local/9339134223788419-VIDEOPHONE does not exist!\n",
            "⚠️ Warning: /content/frames_local/6071561607737181-SEW does not exist!\n"
          ]
        },
        {
          "output_type": "stream",
          "name": "stderr",
          "text": [
            "\r  3%|▎         | 2525/83399 [00:15<08:13, 163.87it/s]"
          ]
        },
        {
          "output_type": "stream",
          "name": "stdout",
          "text": [
            "⚠️ Warning: /content/frames_local/8083395285550947-FOUR does not exist!⚠️ Warning: /content/frames_local/2078757046722417-ALPHABET does not exist!\n",
            "\n",
            "⚠️ Warning: /content/frames_local/13498585088047066-BROTHER does not exist!\n",
            "⚠️ Warning: /content/frames_local/8983474940538625-COOKIE does not exist!⚠️ Warning: /content/frames_local/8102808098420498-CIGAR does not exist!\n",
            "\n",
            "⚠️ Warning: /content/frames_local/5706350755284944-WORM does not exist!\n",
            "⚠️ Warning: /content/frames_local/14032048715472367-PERSON does not exist!⚠️ Warning: /content/frames_local/1306552740733573-THINGS does not exist!\n",
            "\n",
            "⚠️ Warning: /content/frames_local/65817097408931-THIEF 1 does not exist!⚠️ Warning: /content/frames_local/1678956671409919-HEALTH does not exist!\n",
            "⚠️ Warning: /content/frames_local/30578562762661066-TROUBLE does not exist!\n",
            "\n",
            "⚠️ Warning: /content/frames_local/6276595334823785-AFTER does not exist!\n",
            "⚠️ Warning: /content/frames_local/021113914252494537-PEOPLE does not exist!⚠️ Warning: /content/frames_local/36631381381472083-WEAR does not exist!\n",
            "\n",
            "⚠️ Warning: /content/frames_local/9803892380239438-EXPERIENCE does not exist!⚠️ Warning: /content/frames_local/92599720003393-DANCE does not exist!\n",
            "\n",
            "⚠️ Warning: /content/frames_local/9249679413613336-TRAVEL does not exist!⚠️ Warning: /content/frames_local/7999799158207466-BASEMENT does not exist!\n",
            "⚠️ Warning: /content/frames_local/4933951543518236-MOVIE does not exist!\n",
            "\n",
            "⚠️ Warning: /content/frames_local/12727994381994168-CALL TTY does not exist!⚠️ Warning: /content/frames_local/9334098234896766-CIGARETTE does not exist!\n",
            "\n"
          ]
        },
        {
          "output_type": "stream",
          "name": "stderr",
          "text": [
            "\r  3%|▎         | 2547/83399 [00:15<07:36, 177.21it/s]"
          ]
        },
        {
          "output_type": "stream",
          "name": "stdout",
          "text": [
            "⚠️ Warning: /content/frames_local/6813940791368158-EMBARRASS does not exist!\n",
            "⚠️ Warning: /content/frames_local/06047495375143819-AND does not exist!⚠️ Warning: /content/frames_local/7639386079513788-CHARACTER does not exist!\n",
            "\n",
            "\n",
            "⚠️ Warning: /content/frames_local/7750449851245076-SERIOUS does not exist!⚠️ Warning: /content/frames_local/46662349758692256-BORROW does not exist!\n",
            "\n",
            "⚠️ Warning: /content/frames_local/05452686760821068-TEXT does not exist!⚠️ Warning: /content/frames_local/1994115335737141-FINISH does not exist!⚠️ Warning: /content/frames_local/33555147348315106-EAT does not exist!\n",
            "\n",
            "⚠️ Warning: /content/frames_local/48475995475739264-MUSEUM does not exist!⚠️ Warning: /content/frames_local/281169319347379-FRONT does not exist!\n",
            "\n",
            "⚠️ Warning: /content/frames_local/9565524927291444-MUCH does not exist!⚠️ Warning: /content/frames_local/7246712774133186-THIEF 2 does not exist!\n",
            "\n",
            "⚠️ Warning: /content/frames_local/4652446186258914-WHATEVER does not exist!⚠️ Warning: /content/frames_local/47949314566125456-EXPENSIVE does not exist!\n",
            "⚠️ Warning: /content/frames_local/24016230077437273-ZOOM IN does not exist!\n",
            "\n",
            "⚠️ Warning: /content/frames_local/6578953083406793-LEAVE does not exist!\n",
            "⚠️ Warning: /content/frames_local/9265869776877644-FATHER does not exist!⚠️ Warning: /content/frames_local/5993871743257306-FOR does not exist!\n"
          ]
        },
        {
          "output_type": "stream",
          "name": "stderr",
          "text": [
            "\r  3%|▎         | 2565/83399 [00:15<07:39, 176.04it/s]"
          ]
        },
        {
          "output_type": "stream",
          "name": "stdout",
          "text": [
            "⚠️ Warning: /content/frames_local/3318251481296477-LONELY does not exist!\n",
            "\n",
            "⚠️ Warning: /content/frames_local/23627306204455656-FAMILY does not exist!\n",
            "⚠️ Warning: /content/frames_local/7256673521593155-SORRY does not exist!⚠️ Warning: /content/frames_local/9001241496594585-UGLY does not exist!\n",
            "\n",
            "⚠️ Warning: /content/frames_local/22682052489427296-DAY does not exist!\n",
            "⚠️ Warning: /content/frames_local/855256718711149-STAFF does not exist!⚠️ Warning: /content/frames_local/035551883233159165-SCARCELY does not exist!\n",
            "\n",
            "⚠️ Warning: /content/frames_local/7172369637604381-SHOW does not exist!⚠️ Warning: /content/frames_local/5986822767973872-GROW does not exist!\n",
            "⚠️ Warning: /content/frames_local/21328542181607957-AMERICA does not exist!\n",
            "\n",
            "⚠️ Warning: /content/frames_local/09065730752763623-FOOTBALL does not exist!⚠️ Warning: /content/frames_local/7471568849742254-TYPE does not exist!\n",
            "⚠️ Warning: /content/frames_local/5201167247227318-DECIDE does not exist!\n",
            "\n",
            "⚠️ Warning: /content/frames_local/7968365529762198-VOLLEYBALL does not exist!⚠️ Warning: /content/frames_local/20046055822228492-SUMMER does not exist!\n",
            "⚠️ Warning: /content/frames_local/6214416485603274-TEA does not exist!\n",
            "\n",
            "⚠️ Warning: /content/frames_local/3613119351809637-PIG does not exist!⚠️ Warning: /content/frames_local/5522385993505894-SHOES does not exist!\n",
            "\n"
          ]
        },
        {
          "output_type": "stream",
          "name": "stderr",
          "text": [
            "\r  3%|▎         | 2583/83399 [00:15<08:15, 163.17it/s]"
          ]
        },
        {
          "output_type": "stream",
          "name": "stdout",
          "text": [
            "⚠️ Warning: /content/frames_local/34590449046155713-FRIDAY does not exist!⚠️ Warning: /content/frames_local/9187079826301301-SOCCER does not exist!\n",
            "\n",
            "⚠️ Warning: /content/frames_local/14863507446292834-STARBUCKS does not exist!⚠️ Warning: /content/frames_local/19165951577418205-MEAN 1 does not exist!\n",
            "⚠️ Warning: /content/frames_local/427338279437252-TOURNAMENT does not exist!\n",
            "\n",
            "⚠️ Warning: /content/frames_local/6102473517691671-FIRE does not exist!\n",
            "⚠️ Warning: /content/frames_local/7422688359762499-INTEREST does not exist!\n",
            "⚠️ Warning: /content/frames_local/23212278094034589-HEART does not exist!\n",
            "⚠️ Warning: /content/frames_local/023508418030212752-MOUSE does not exist!⚠️ Warning: /content/frames_local/6537424499300482-MIRROR does not exist!\n",
            "⚠️ Warning: /content/frames_local/08524949524247205-HUNGRY does not exist!\n",
            "\n",
            "⚠️ Warning: /content/frames_local/9235528655514464-SECRETARY does not exist!⚠️ Warning: /content/frames_local/3306131593809112-GIRAFFE does not exist!\n",
            "\n",
            "⚠️ Warning: /content/frames_local/29717771444438834-RUN does not exist!\n",
            "⚠️ Warning: /content/frames_local/8428616618147342-ANNOUNCE does not exist!⚠️ Warning: /content/frames_local/8080340368677357-MCDONALDS does not exist!\n",
            "⚠️ Warning: /content/frames_local/38627343025440863-FLASHLIGHT does not exist!\n",
            "⚠️ Warning: /content/frames_local/6268976464724472-FILM does not exist!\n",
            "\n",
            "⚠️ Warning: /content/frames_local/4046997218028494-WRISTWATCH does not exist!⚠️ Warning: /content/frames_local/31460593212350196-KITCHEN does not exist!\n"
          ]
        },
        {
          "output_type": "stream",
          "name": "stderr",
          "text": [
            "\r  3%|▎         | 2603/83399 [00:15<07:52, 171.13it/s]"
          ]
        },
        {
          "output_type": "stream",
          "name": "stdout",
          "text": [
            "⚠️ Warning: /content/frames_local/4010950296792033-HEADACHE does not exist!\n",
            "⚠️ Warning: /content/frames_local/8861934564089675-PEACE does not exist!\n",
            "⚠️ Warning: /content/frames_local/7533833810345814-PARENTS does not exist!\n",
            "\n",
            "⚠️ Warning: /content/frames_local/9573622632976893-PICTURE does not exist!\n",
            "⚠️ Warning: /content/frames_local/3223186524672168-ENGINEER does not exist!\n",
            "⚠️ Warning: /content/frames_local/9712997173595808-SUBTRACT does not exist!\n",
            "⚠️ Warning: /content/frames_local/42690322625575305-EARTHQUAKE does not exist!\n",
            "⚠️ Warning: /content/frames_local/8661105188814588-BINOCULARS does not exist!⚠️ Warning: /content/frames_local/8413854167861541-BORED does not exist!\n",
            "\n",
            "⚠️ Warning: /content/frames_local/5199177562877719-GOOD does not exist!\n",
            "⚠️ Warning: /content/frames_local/6463814942851078-NOTHING does not exist!⚠️ Warning: /content/frames_local/7263822686404953-CAMERA does not exist!\n",
            "\n",
            "⚠️ Warning: /content/frames_local/6433677117622094-LEARN does not exist!⚠️ Warning: /content/frames_local/9221410860674428-MOCK does not exist!\n",
            "\n",
            "⚠️ Warning: /content/frames_local/11654433596113445-DREAM does not exist!\n",
            "⚠️ Warning: /content/frames_local/39194575358578554-JUDGE does not exist!⚠️ Warning: /content/frames_local/46577961099474163-MAN does not exist!\n",
            "⚠️ Warning: /content/frames_local/4868980458120187-RIGHT 1 does not exist!\n",
            "\n",
            "⚠️ Warning: /content/frames_local/42227184169259147-WONDER does not exist!"
          ]
        },
        {
          "output_type": "stream",
          "name": "stderr",
          "text": [
            "\r  3%|▎         | 2621/83399 [00:15<07:59, 168.46it/s]"
          ]
        },
        {
          "output_type": "stream",
          "name": "stdout",
          "text": [
            "⚠️ Warning: /content/frames_local/16441722629236466-FEEL does not exist!\n",
            "\n",
            "⚠️ Warning: /content/frames_local/8240824735948478-SON does not exist!\n",
            "⚠️ Warning: /content/frames_local/6138498428040544-LIE does not exist!\n",
            "⚠️ Warning: /content/frames_local/9594176060816713-TORNADO does not exist!⚠️ Warning: /content/frames_local/9854016879981524-BLACK does not exist!\n",
            "\n",
            "⚠️ Warning: /content/frames_local/29628058873945684-ENGAGEMENT does not exist!⚠️ Warning: /content/frames_local/163640063596886-CORN 1 does not exist!\n",
            "\n",
            "⚠️ Warning: /content/frames_local/9369570449056734-WORLD does not exist!⚠️ Warning: /content/frames_local/046487035068492055-CHALLENGE does not exist!\n",
            "⚠️ Warning: /content/frames_local/5608822386094556-NAPKIN does not exist!\n",
            "\n",
            "⚠️ Warning: /content/frames_local/7367832433425989-ACCOUNTANT does not exist!⚠️ Warning: /content/frames_local/864477397576624-WAVE does not exist!\n",
            "⚠️ Warning: /content/frames_local/06925579035096474-BOSS does not exist!\n",
            "\n",
            "⚠️ Warning: /content/frames_local/904644295445703-AWKWARD does not exist!⚠️ Warning: /content/frames_local/5142255335819941-PRETTY does not exist!\n",
            "⚠️ Warning: /content/frames_local/30906851369541566-TRY does not exist!\n",
            "\n",
            "⚠️ Warning: /content/frames_local/7039657569980686-FREEWAY does not exist!"
          ]
        },
        {
          "output_type": "stream",
          "name": "stderr",
          "text": [
            "\r  3%|▎         | 2638/83399 [00:15<08:31, 157.85it/s]"
          ]
        },
        {
          "output_type": "stream",
          "name": "stdout",
          "text": [
            "⚠️ Warning: /content/frames_local/7709169656969477-BLINDS 1 does not exist!\n",
            "⚠️ Warning: /content/frames_local/31812874442193184-BODY does not exist!\n",
            "\n",
            "⚠️ Warning: /content/frames_local/7237300316615194-STRICT does not exist!⚠️ Warning: /content/frames_local/9062920276829001-RELATIONSHIP does not exist!\n",
            "\n",
            "⚠️ Warning: /content/frames_local/7792912634727402-FINGERSPELL does not exist!⚠️ Warning: /content/frames_local/1174900956063969-CERTIFICATE does not exist!\n",
            "⚠️ Warning: /content/frames_local/2978383554033186-LETTUCE does not exist!\n",
            "\n",
            "⚠️ Warning: /content/frames_local/7513104867958282-HAVE does not exist!⚠️ Warning: /content/frames_local/39648042077468615-SHAVE does not exist!\n",
            "\n",
            "⚠️ Warning: /content/frames_local/7907511966792045-LIVE 2 does not exist!⚠️ Warning: /content/frames_local/07603870439502747-KNIFE does not exist!\n",
            "⚠️ Warning: /content/frames_local/16749035224005637-WAR does not exist!\n",
            "\n",
            "⚠️ Warning: /content/frames_local/7958904995366458-PARADE does not exist!⚠️ Warning: /content/frames_local/14687718783872805-MONEY does not exist!\n",
            "\n",
            "⚠️ Warning: /content/frames_local/46894995663409134-LIGHT WEIGHT does not exist!⚠️ Warning: /content/frames_local/7466334132142232-AGE does not exist!\n",
            "\n",
            "⚠️ Warning: /content/frames_local/427682998934545-PUZZLED does not exist!"
          ]
        },
        {
          "output_type": "stream",
          "name": "stderr",
          "text": [
            "\r  3%|▎         | 2655/83399 [00:15<08:31, 157.81it/s]"
          ]
        },
        {
          "output_type": "stream",
          "name": "stdout",
          "text": [
            "⚠️ Warning: /content/frames_local/8467108921329545-QUIET does not exist!\n",
            "⚠️ Warning: /content/frames_local/964363750074076-TRAFFIC does not exist!\n",
            "\n",
            "⚠️ Warning: /content/frames_local/06488013597466091-VIDEOCAMERA does not exist!⚠️ Warning: /content/frames_local/47934969341016154-STUBBORN does not exist!\n",
            "⚠️ Warning: /content/frames_local/1277970207311918-MINUTE does not exist!\n",
            "\n",
            "⚠️ Warning: /content/frames_local/8960939135590296-CENTER does not exist!⚠️ Warning: /content/frames_local/027274596063247003-HONEST does not exist!\n",
            "⚠️ Warning: /content/frames_local/14422787217417543-LAST does not exist!\n",
            "\n",
            "⚠️ Warning: /content/frames_local/24544291077436786-ISRAEL does not exist!\n",
            "⚠️ Warning: /content/frames_local/22440630738185718-SALT does not exist!⚠️ Warning: /content/frames_local/8116693731731643-PILE does not exist!\n",
            "⚠️ Warning: /content/frames_local/7285988949935818-COMMUNICATION does not exist!\n",
            "\n",
            "⚠️ Warning: /content/frames_local/9574229853297838-WHERE does not exist!⚠️ Warning: /content/frames_local/4782730717831809-PLEASE does not exist!\n",
            "\n",
            "⚠️ Warning: /content/frames_local/7663168959105193-PURPLE does not exist!"
          ]
        },
        {
          "output_type": "stream",
          "name": "stderr",
          "text": [
            "\r  3%|▎         | 2671/83399 [00:15<09:15, 145.32it/s]"
          ]
        },
        {
          "output_type": "stream",
          "name": "stdout",
          "text": [
            "⚠️ Warning: /content/frames_local/07772784102510166-ANIMAL does not exist!\n",
            "\n",
            "⚠️ Warning: /content/frames_local/9242785250883383-ARMY does not exist!⚠️ Warning: /content/frames_local/9841052916244253-DRINK does not exist!\n",
            "\n",
            "⚠️ Warning: /content/frames_local/3860648253393948-VOTE does not exist!⚠️ Warning: /content/frames_local/3751848542924716-PATIENT 2 does not exist!\n",
            "\n",
            "⚠️ Warning: /content/frames_local/07426159684377254-SAD does not exist!⚠️ Warning: /content/frames_local/6706457733210773-ASK does not exist!\n",
            "\n",
            "⚠️ Warning: /content/frames_local/791658067471944-RELIGION does not exist!⚠️ Warning: /content/frames_local/44134505287710146-FIGHT does not exist!\n",
            "⚠️ Warning: /content/frames_local/8818117432848664-DONT MIND does not exist!\n",
            "\n",
            "⚠️ Warning: /content/frames_local/526734738182145-CUTE 1 does not exist!\n",
            "⚠️ Warning: /content/frames_local/3758646722492833-HOME does not exist!\n",
            "⚠️ Warning: /content/frames_local/8226920108711726-DRYER does not exist!⚠️ Warning: /content/frames_local/9583259576552383-MAKE does not exist!\n",
            "\n",
            "⚠️ Warning: /content/frames_local/7205553250987093-GAS does not exist!⚠️ Warning: /content/frames_local/14088904131065538-WARN does not exist!\n",
            "\n"
          ]
        },
        {
          "output_type": "stream",
          "name": "stderr",
          "text": [
            "\r  3%|▎         | 2687/83399 [00:16<09:12, 145.99it/s]"
          ]
        },
        {
          "output_type": "stream",
          "name": "stdout",
          "text": [
            "⚠️ Warning: /content/frames_local/5139672798999384-GET does not exist!⚠️ Warning: /content/frames_local/7300592624894193-WIN does not exist!\n",
            "⚠️ Warning: /content/frames_local/810752466806989-GOVERNMENT does not exist!\n",
            "\n",
            "⚠️ Warning: /content/frames_local/9985672897358866-LAWNMOWER does not exist!⚠️ Warning: /content/frames_local/6590280606597132-GLASSES does not exist!\n",
            "⚠️ Warning: /content/frames_local/9830485175329975-TALK does not exist!\n",
            "\n",
            "⚠️ Warning: /content/frames_local/2527802993381363-FIRST does not exist!⚠️ Warning: /content/frames_local/69051527860327-STUPID 1 does not exist!\n",
            "\n",
            "⚠️ Warning: /content/frames_local/14101308092553433-EXERCISE does not exist!\n",
            "⚠️ Warning: /content/frames_local/541095824015591-IMAGINE does not exist!⚠️ Warning: /content/frames_local/4948586013250813-KEYBOARD does not exist!\n",
            "\n",
            "⚠️ Warning: /content/frames_local/20793646354549122-LATE does not exist!⚠️ Warning: /content/frames_local/32088378531435424-WISH does not exist!\n",
            "\n",
            "⚠️ Warning: /content/frames_local/1637401180221807-CALL ATTENTION does not exist!⚠️ Warning: /content/frames_local/43409115263906783-CHAT does not exist!\n",
            "\n",
            "⚠️ Warning: /content/frames_local/17571121108030874-DIVORCE does not exist!\n",
            "⚠️ Warning: /content/frames_local/31306609697024634-TALL does not exist!⚠️ Warning: /content/frames_local/24496842757825177-CATHOLIC does not exist!\n",
            "\n",
            "⚠️ Warning: /content/frames_local/1260503564787787-OWE does not exist!"
          ]
        },
        {
          "output_type": "stream",
          "name": "stderr",
          "text": [
            "\r  3%|▎         | 2705/83399 [00:16<08:50, 152.00it/s]"
          ]
        },
        {
          "output_type": "stream",
          "name": "stdout",
          "text": [
            "⚠️ Warning: /content/frames_local/9145278504414345-COUSIN does not exist!\n",
            "\n",
            "⚠️ Warning: /content/frames_local/37628169261180067-MUSTACHE does not exist!⚠️ Warning: /content/frames_local/3988300926930439-MACHINE does not exist!\n",
            "\n",
            "⚠️ Warning: /content/frames_local/9005893183984361-SICK does not exist!⚠️ Warning: /content/frames_local/16041937205871948-MIND does not exist!\n",
            "⚠️ Warning: /content/frames_local/22189660303983771-GALLAUDET does not exist!\n",
            "\n",
            "⚠️ Warning: /content/frames_local/03573698951729942-PINK does not exist!⚠️ Warning: /content/frames_local/11994695058883398-KNOW does not exist!\n",
            "\n",
            "⚠️ Warning: /content/frames_local/07916829935948999-FIND does not exist!\n",
            "⚠️ Warning: /content/frames_local/3741083405335548-PROBLEM 2 does not exist!⚠️ Warning: /content/frames_local/5806773753992189-ACT does not exist!\n",
            "\n",
            "⚠️ Warning: /content/frames_local/568768876609163-RING does not exist!⚠️ Warning: /content/frames_local/7384996502333443-NEW does not exist!\n",
            "⚠️ Warning: /content/frames_local/5420050117895672-VEGETABLE does not exist!⚠️ Warning: /content/frames_local/46636240446107124-EMOTION does not exist!\n",
            "\n",
            "\n",
            "⚠️ Warning: /content/frames_local/052394891859023796-BLIND does not exist!\n",
            "⚠️ Warning: /content/frames_local/6741912564576187-FINE does not exist!⚠️ Warning: /content/frames_local/14801304853456854-LOOK AT does not exist!\n",
            "\n",
            "⚠️ Warning: /content/frames_local/37868905596823166-BUILDING does not exist!\n",
            "⚠️ Warning: /content/frames_local/1863450558852966-COLLEGE does not exist!⚠️ Warning: /content/frames_local/37246110639102614-HIPPO does not exist!\n",
            "\n",
            "⚠️ Warning: /content/frames_local/7041318550961677-POSSIBLE does not exist!"
          ]
        },
        {
          "output_type": "stream",
          "name": "stderr",
          "text": [
            "\r  3%|▎         | 2727/83399 [00:16<08:04, 166.39it/s]"
          ]
        },
        {
          "output_type": "stream",
          "name": "stdout",
          "text": [
            "⚠️ Warning: /content/frames_local/12019196201091908-DOUBT does not exist!\n",
            "\n",
            "⚠️ Warning: /content/frames_local/7959550210241997-FLAG does not exist!\n",
            "⚠️ Warning: /content/frames_local/18869204542196139-PRICE does not exist!\n",
            "⚠️ Warning: /content/frames_local/2906781367624487-FRECKLES does not exist!\n",
            "⚠️ Warning: /content/frames_local/015593718880384078-REALLY does not exist!⚠️ Warning: /content/frames_local/6256952145864005-VIOLIN does not exist!\n",
            "\n",
            "⚠️ Warning: /content/frames_local/8385294089384643-MORE does not exist!\n",
            "⚠️ Warning: /content/frames_local/220586834815649-5 DOLLARS does not exist!⚠️ Warning: /content/frames_local/5077021847929053-RUDE does not exist!\n",
            "\n",
            "⚠️ Warning: /content/frames_local/16765700106170667-FAT does not exist!\n",
            "⚠️ Warning: /content/frames_local/33588311612630184-HARD does not exist!⚠️ Warning: /content/frames_local/4478675778610488-KEY does not exist!\n",
            "\n",
            "\n",
            "⚠️ Warning: /content/frames_local/9859412032023418-BEHIND does not exist!⚠️ Warning: /content/frames_local/603452666892295-TIME does not exist!⚠️ Warning: /content/frames_local/12662418757411542-BAKE 2 does not exist!\n",
            "\n",
            "⚠️ Warning: /content/frames_local/2528350750653998-VACATION does not exist!\n",
            "⚠️ Warning: /content/frames_local/9770599529725736-YEAR does not exist!\n",
            "⚠️ Warning: /content/frames_local/5424380767760226-OTHER does not exist!⚠️ Warning: /content/frames_local/6856093285776592-PREFER does not exist!\n",
            "\n",
            "⚠️ Warning: /content/frames_local/910606839942103-FALL 1 does not exist!"
          ]
        },
        {
          "output_type": "stream",
          "name": "stderr",
          "text": [
            "\r  3%|▎         | 2747/83399 [00:16<07:47, 172.46it/s]"
          ]
        },
        {
          "output_type": "stream",
          "name": "stdout",
          "text": [
            "⚠️ Warning: /content/frames_local/48334618779078675-CAREFUL does not exist!\n",
            "⚠️ Warning: /content/frames_local/7141581679915994-HOTDOG does not exist!\n",
            "\n",
            "⚠️ Warning: /content/frames_local/10912966695485293-WHICH does not exist!⚠️ Warning: /content/frames_local/9887175237187003-PEPSI does not exist!\n",
            "\n",
            "⚠️ Warning: /content/frames_local/17383536861491344-WHO does not exist!⚠️ Warning: /content/frames_local/846989601934133-INVITE does not exist!\n",
            "⚠️ Warning: /content/frames_local/9571221473356939-HOSPITAL does not exist!\n",
            "\n",
            "\n",
            "⚠️ Warning: /content/frames_local/337523983129415-PLAY does not exist!⚠️ Warning: /content/frames_local/4461487552265522-WOMAN does not exist!⚠️ Warning: /content/frames_local/3197871201271467-CREDIT CARD does not exist!\n",
            "\n",
            "⚠️ Warning: /content/frames_local/9361567009663303-COMPLEX does not exist!⚠️ Warning: /content/frames_local/3249742604027148-BLOOD does not exist!\n",
            "\n",
            "⚠️ Warning: /content/frames_local/708344422708781-GREEN does not exist!⚠️ Warning: /content/frames_local/213145928118734-HEARING does not exist!\n",
            "\n",
            "⚠️ Warning: /content/frames_local/41374941112749775-MAYBE does not exist!⚠️ Warning: /content/frames_local/32411872039979217-PIPE does not exist!\n",
            "⚠️ Warning: /content/frames_local/40983358048023955-BRAVE does not exist!\n",
            "\n",
            "\n",
            "⚠️ Warning: /content/frames_local/842528907363683-SCARED does not exist!"
          ]
        },
        {
          "output_type": "stream",
          "name": "stderr",
          "text": [
            "\r  3%|▎         | 2765/83399 [00:16<07:43, 173.83it/s]"
          ]
        },
        {
          "output_type": "stream",
          "name": "stdout",
          "text": [
            "⚠️ Warning: /content/frames_local/8384344275744424-ACTION does not exist!\n",
            "⚠️ Warning: /content/frames_local/009252570300134266-FOREIGNER does not exist!\n",
            "⚠️ Warning: /content/frames_local/8248369681321219-FAULT does not exist!\n",
            "⚠️ Warning: /content/frames_local/5674449625615106-MORNING does not exist!⚠️ Warning: /content/frames_local/4687993210650012-UNDERSTAND does not exist!\n",
            "\n",
            "⚠️ Warning: /content/frames_local/7076312257672654-KING does not exist!⚠️ Warning: /content/frames_local/7220090161425696-TEMPTATION does not exist!\n",
            "⚠️ Warning: /content/frames_local/4619614203621971-CANCELLATION does not exist!\n",
            "⚠️ Warning: /content/frames_local/07004853907534003-NORTH does not exist!\n",
            "\n",
            "⚠️ Warning: /content/frames_local/9616445451619902-TWO does not exist!⚠️ Warning: /content/frames_local/06226976727026323-HAMMER does not exist!\n",
            "\n",
            "⚠️ Warning: /content/frames_local/291022348898865-MEASURE does not exist!\n",
            "⚠️ Warning: /content/frames_local/6269068783212604-EXPLANATION does not exist!\n",
            "⚠️ Warning: /content/frames_local/7459449006062382-RIGHT 2 does not exist!⚠️ Warning: /content/frames_local/8265670100603426-SUSPECT does not exist!\n",
            "\n",
            "⚠️ Warning: /content/frames_local/5094255125387595-ALARM does not exist!\n",
            "⚠️ Warning: /content/frames_local/6570083930407538-LAUGH does not exist!⚠️ Warning: /content/frames_local/44059528746353527-EUROPE does not exist!\n"
          ]
        },
        {
          "output_type": "stream",
          "name": "stderr",
          "text": [
            "\r  3%|▎         | 2784/83399 [00:16<07:38, 175.72it/s]"
          ]
        },
        {
          "output_type": "stream",
          "name": "stdout",
          "text": [
            "\n",
            "⚠️ Warning: /content/frames_local/6112741761524769-CORN 2 does not exist!⚠️ Warning: /content/frames_local/8193681188551101-ARM does not exist!\n",
            "\n",
            "⚠️ Warning: /content/frames_local/9164887764166283-THAT does not exist!⚠️ Warning: /content/frames_local/46690704744535805-EGYPT does not exist!\n",
            "\n",
            "⚠️ Warning: /content/frames_local/7453541034941298-SHOP 1 does not exist!\n",
            "⚠️ Warning: /content/frames_local/4401689152296102-GULLIBLE does not exist!⚠️ Warning: /content/frames_local/9296901136578175-CLEAR does not exist!\n",
            "\n",
            "⚠️ Warning: /content/frames_local/45850991964011034-NAME does not exist!⚠️ Warning: /content/frames_local/5020486474574419-SKATE does not exist!\n",
            "\n",
            "⚠️ Warning: /content/frames_local/7988969530569827-DISAPPEAR does not exist!\n",
            "⚠️ Warning: /content/frames_local/6437492429835092-RED does not exist!⚠️ Warning: /content/frames_local/5518944222449504-STRANGE does not exist!\n",
            "\n",
            "⚠️ Warning: /content/frames_local/915931960739268-FRIENDLY does not exist!⚠️ Warning: /content/frames_local/41903857571087433-PAIN does not exist!\n",
            "\n",
            "⚠️ Warning: /content/frames_local/626160760141556-GREECE does not exist!\n",
            "⚠️ Warning: /content/frames_local/7885296477376487-WHY does not exist!\n",
            "⚠️ Warning: /content/frames_local/3237863435369266-HUSBAND does not exist!"
          ]
        },
        {
          "output_type": "stream",
          "name": "stderr",
          "text": [
            "\r  3%|▎         | 2802/83399 [00:16<08:12, 163.78it/s]"
          ]
        },
        {
          "output_type": "stream",
          "name": "stdout",
          "text": [
            "\n",
            "⚠️ Warning: /content/frames_local/37361427217812326-UNIVERSITY does not exist!⚠️ Warning: /content/frames_local/7082964935958087-BOWL does not exist!\n",
            "⚠️ Warning: /content/frames_local/7185184387987891-APPEAR does not exist!\n",
            "⚠️ Warning: /content/frames_local/5716557271797269-9 OCLOCK does not exist!\n",
            "⚠️ Warning: /content/frames_local/6099971149505314-FUTURE does not exist!\n",
            "⚠️ Warning: /content/frames_local/221736934812097-LIGHTER does not exist!\n",
            "\n",
            "⚠️ Warning: /content/frames_local/09955883884574801-FALL 2 does not exist!⚠️ Warning: /content/frames_local/9556187570467325-MOTORCYCLE does not exist!\n",
            "\n",
            "⚠️ Warning: /content/frames_local/7416766344210868-CHANNEL does not exist!⚠️ Warning: /content/frames_local/6363811295884907-COCACOLA does not exist!\n",
            "\n",
            "⚠️ Warning: /content/frames_local/8789207848539706-MOVIE does not exist!\n",
            "⚠️ Warning: /content/frames_local/2540931239043327-COVER UP does not exist!⚠️ Warning: /content/frames_local/0022932153577568393-HELLO does not exist!\n",
            "\n",
            "⚠️ Warning: /content/frames_local/586879574068875-STOMACH does not exist!⚠️ Warning: /content/frames_local/7386589105806138-FRAUD does not exist!\n",
            "\n",
            "⚠️ Warning: /content/frames_local/29614325657927165-ZOOM OFF does not exist!⚠️ Warning: /content/frames_local/8761343898640903-MONDAY does not exist!\n",
            "\n",
            "⚠️ Warning: /content/frames_local/5795834263184414-WHEN does not exist!⚠️ Warning: /content/frames_local/8477086608678521-ADDRESS does not exist!\n",
            "\n",
            "⚠️ Warning: /content/frames_local/7161689717377309-SMILE does not exist!\n"
          ]
        },
        {
          "output_type": "stream",
          "name": "stderr",
          "text": [
            "\r  3%|▎         | 2822/83399 [00:16<07:45, 172.97it/s]"
          ]
        },
        {
          "output_type": "stream",
          "name": "stdout",
          "text": [
            "⚠️ Warning: /content/frames_local/6135836269970514-THANKSGIVING does not exist!⚠️ Warning: /content/frames_local/7485267547770535-FLOOR does not exist!\n",
            "\n",
            "⚠️ Warning: /content/frames_local/271904632763319-HOPE does not exist!⚠️ Warning: /content/frames_local/8861180879289117-LATER does not exist!\n",
            "⚠️ Warning: /content/frames_local/7250030238915603-KISS does not exist!\n",
            "\n",
            "⚠️ Warning: /content/frames_local/405804141117764-CAN does not exist!⚠️ Warning: /content/frames_local/7188580406886791-ROPE does not exist!\n",
            "⚠️ Warning: /content/frames_local/5941139621427864-ENVELOPE does not exist!\n",
            "\n",
            "⚠️ Warning: /content/frames_local/11184799736720041-INSURANCE does not exist!⚠️ Warning: /content/frames_local/8075048004916923-RESTAURANT does not exist!\n",
            "\n",
            "\n",
            "⚠️ Warning: /content/frames_local/14592612025657892-SAW does not exist!⚠️ Warning: /content/frames_local/8201419379634209-THERE does not exist!⚠️ Warning: /content/frames_local/877677172669741-SMART does not exist!\n",
            "\n",
            "⚠️ Warning: /content/frames_local/38086920497003773-CONFIDENT does not exist!⚠️ Warning: /content/frames_local/7590157290604365-YOU does not exist!\n",
            "\n",
            "⚠️ Warning: /content/frames_local/27581478162959505-TOAST does not exist!\n",
            "⚠️ Warning: /content/frames_local/962766676912868-MOVE does not exist!\n",
            "⚠️ Warning: /content/frames_local/7700648481792605-SING does not exist!⚠️ Warning: /content/frames_local/5404639392726989-TEASE does not exist!\n"
          ]
        },
        {
          "output_type": "stream",
          "name": "stderr",
          "text": [
            "\r  3%|▎         | 2840/83399 [00:16<08:02, 166.99it/s]"
          ]
        },
        {
          "output_type": "stream",
          "name": "stdout",
          "text": [
            "\n",
            "⚠️ Warning: /content/frames_local/5787705193647452-FLIP SWITCH does not exist!\n",
            "⚠️ Warning: /content/frames_local/00019179295562565812-NOT INTERESTED does not exist!⚠️ Warning: /content/frames_local/8618273844338247-SHIELD does not exist!\n",
            "⚠️ Warning: /content/frames_local/07785675032422357-BASIC does not exist!\n",
            "\n",
            "⚠️ Warning: /content/frames_local/830180403822737-SSHH does not exist!⚠️ Warning: /content/frames_local/30609638356943014-NOISE does not exist!\n",
            "\n",
            "⚠️ Warning: /content/frames_local/5708598578821673-CONTINUE does not exist!⚠️ Warning: /content/frames_local/42581437337855044-SMELL does not exist!\n",
            "\n",
            "⚠️ Warning: /content/frames_local/892266528760145-FAR does not exist!\n",
            "⚠️ Warning: /content/frames_local/7881498764636801-HORRIBLE does not exist!⚠️ Warning: /content/frames_local/4445119407271021-OUT does not exist!\n",
            "\n",
            "⚠️ Warning: /content/frames_local/3750537486978818-PRESS IN_MIND does not exist!⚠️ Warning: /content/frames_local/2659454950769071-DEMAND does not exist!\n",
            "⚠️ Warning: /content/frames_local/4795370440612652-CONTACT does not exist!\n",
            "\n",
            "⚠️ Warning: /content/frames_local/16631130373956604-HURT does not exist!⚠️ Warning: /content/frames_local/29650243826819156-PEN does not exist!\n",
            "⚠️ Warning: /content/frames_local/0033715683266148933-ALCOHOL does not exist!\n",
            "\n",
            "⚠️ Warning: /content/frames_local/35633904976868225-SCULPTURE does not exist!\n",
            "⚠️ Warning: /content/frames_local/6075199055859777-LAMP does not exist!"
          ]
        },
        {
          "output_type": "stream",
          "name": "stderr",
          "text": [
            "\r  3%|▎         | 2858/83399 [00:17<08:05, 165.85it/s]"
          ]
        },
        {
          "output_type": "stream",
          "name": "stdout",
          "text": [
            "⚠️ Warning: /content/frames_local/940871536621233-FLY does not exist!\n",
            "\n",
            "⚠️ Warning: /content/frames_local/5278965522541392-SWEATSHIRT does not exist!\n",
            "⚠️ Warning: /content/frames_local/42007885936844214-GUILTY does not exist!\n",
            "⚠️ Warning: /content/frames_local/4283138229421919-ENGINE START does not exist!⚠️ Warning: /content/frames_local/1578077458232523-CONNECTION does not exist!\n",
            "\n",
            "⚠️ Warning: /content/frames_local/13027863575451293-EGG BEATER does not exist!⚠️ Warning: /content/frames_local/44342376932315064-SOAP 2 does not exist!\n",
            "\n",
            "⚠️ Warning: /content/frames_local/44401981635282417-GIFT does not exist!⚠️ Warning: /content/frames_local/313949678337065-CLOTHES does not exist!\n",
            "⚠️ Warning: /content/frames_local/36609123890390216-SWITZERLAND does not exist!\n",
            "\n",
            "⚠️ Warning: /content/frames_local/7395446436310684-TEAM does not exist!⚠️ Warning: /content/frames_local/3076721990283171-WANT 2 does not exist!\n",
            "⚠️ Warning: /content/frames_local/9958118883816933-WALL does not exist!\n",
            "\n",
            "⚠️ Warning: /content/frames_local/17203797764894047-VITAMINS does not exist!\n",
            "⚠️ Warning: /content/frames_local/5587895567339765-BACK OUT does not exist!\n",
            "⚠️ Warning: /content/frames_local/8903716457023132-FILTER does not exist!\n",
            "⚠️ Warning: /content/frames_local/22740176371103216-BASKET 2 does not exist!⚠️ Warning: /content/frames_local/24377436311992695-NAIL CLIPPER does not exist!\n",
            "\n",
            "⚠️ Warning: /content/frames_local/2502515794205833-GRENADE does not exist!"
          ]
        },
        {
          "output_type": "stream",
          "name": "stderr",
          "text": [
            "\r  3%|▎         | 2877/83399 [00:17<07:55, 169.20it/s]"
          ]
        },
        {
          "output_type": "stream",
          "name": "stdout",
          "text": [
            "\n",
            "⚠️ Warning: /content/frames_local/6035110428922583-DO DO does not exist!⚠️ Warning: /content/frames_local/8275587829148456-LUNCH does not exist!\n",
            "⚠️ Warning: /content/frames_local/3951684229159129-MARRY does not exist!\n",
            "⚠️ Warning: /content/frames_local/6790095253409745-FRACTION does not exist!\n",
            "\n",
            "⚠️ Warning: /content/frames_local/8509964825501426-SERVE 1 does not exist!⚠️ Warning: /content/frames_local/9790856128081271-PEEKABOO does not exist!\n",
            "\n",
            "⚠️ Warning: /content/frames_local/17810030879122074-EACH does not exist!⚠️ Warning: /content/frames_local/26118850844508756-SINK does not exist!\n",
            "\n",
            "⚠️ Warning: /content/frames_local/7806247716648778-LICK 1 does not exist!⚠️ Warning: /content/frames_local/559978870470573-VIEW does not exist!\n",
            "\n",
            "⚠️ Warning: /content/frames_local/33939693140180216-ENTER does not exist!⚠️ Warning: /content/frames_local/9016235539691082-PSYCHOLOGY does not exist!\n",
            "\n",
            "⚠️ Warning: /content/frames_local/9615228922585775-FLUTE does not exist!\n",
            "⚠️ Warning: /content/frames_local/3030867348033459-WORK OUT does not exist!\n",
            "⚠️ Warning: /content/frames_local/08890193086804521-CHAIN does not exist!⚠️ Warning: /content/frames_local/38477553402464526-STICKY does not exist!\n",
            "\n",
            "⚠️ Warning: /content/frames_local/3450849710122672-SHARK 2 does not exist!\n"
          ]
        },
        {
          "output_type": "stream",
          "name": "stderr",
          "text": [
            "\r  3%|▎         | 2895/83399 [00:17<08:19, 161.17it/s]"
          ]
        },
        {
          "output_type": "stream",
          "name": "stdout",
          "text": [
            "⚠️ Warning: /content/frames_local/8679784931591357-FALLING ASLEEP does not exist!⚠️ Warning: /content/frames_local/5209944053816196-CHASE does not exist!\n",
            "\n",
            "⚠️ Warning: /content/frames_local/752318181570734-BOXING does not exist!\n",
            "⚠️ Warning: /content/frames_local/3948402874132104-TAKE CARE does not exist!⚠️ Warning: /content/frames_local/1419927515653201-UNDER does not exist!\n",
            "⚠️ Warning: /content/frames_local/4756491102518132-PICNIC does not exist!\n",
            "\n",
            "⚠️ Warning: /content/frames_local/5756415055220008-BIB does not exist!\n",
            "⚠️ Warning: /content/frames_local/9039030666503207-SIGN does not exist!⚠️ Warning: /content/frames_local/8487208490077796-HABIT does not exist!\n",
            "\n",
            "⚠️ Warning: /content/frames_local/5948281006385765-CATAPULT does not exist!⚠️ Warning: /content/frames_local/6116690500681001-EMPHASIS does not exist!\n",
            "\n",
            "⚠️ Warning: /content/frames_local/05864516958272592-RICH does not exist!⚠️ Warning: /content/frames_local/5399012895247202-SWORD does not exist!\n",
            "⚠️ Warning: /content/frames_local/4104646758345072-HAMSTER does not exist!\n",
            "\n",
            "⚠️ Warning: /content/frames_local/29714823468144114-COOL 1 does not exist!\n",
            "⚠️ Warning: /content/frames_local/4068269108946929-ANY does not exist!⚠️ Warning: /content/frames_local/5101047835600916-DATE does not exist!\n",
            "\n",
            "⚠️ Warning: /content/frames_local/8416420200036012-THEN does not exist!\n"
          ]
        },
        {
          "output_type": "stream",
          "name": "stderr",
          "text": [
            "\r  3%|▎         | 2913/83399 [00:17<08:11, 163.88it/s]"
          ]
        },
        {
          "output_type": "stream",
          "name": "stdout",
          "text": [
            "⚠️ Warning: /content/frames_local/9711313229588312-OVERLOOK does not exist!⚠️ Warning: /content/frames_local/602373507291474-CLICK does not exist!\n",
            "⚠️ Warning: /content/frames_local/16484906163349744-CHAMPION does not exist!\n",
            "⚠️ Warning: /content/frames_local/27675826927312386-BARRETTE does not exist!\n",
            "\n",
            "⚠️ Warning: /content/frames_local/14605604848047693-BEANIE does not exist!⚠️ Warning: /content/frames_local/36877525932245203-NOON does not exist!\n",
            "\n",
            "⚠️ Warning: /content/frames_local/4778803441314172-HANUKKAH does not exist!⚠️ Warning: /content/frames_local/2237117957846546-HANDSOME 1 does not exist!\n",
            "\n",
            "⚠️ Warning: /content/frames_local/8998469861707621-CONCERNED does not exist!\n",
            "⚠️ Warning: /content/frames_local/6231557345447165-PLANET does not exist!⚠️ Warning: /content/frames_local/8722565902421502-OUR does not exist!\n",
            "\n",
            "⚠️ Warning: /content/frames_local/9828449539659592-PERFUME 2 does not exist!⚠️ Warning: /content/frames_local/3475213324150921-SOPHISTICATED does not exist!\n",
            "\n",
            "⚠️ Warning: /content/frames_local/5495286984125858-BOTTOM does not exist!⚠️ Warning: /content/frames_local/016763892277617876-ESCALATOR does not exist!\n",
            "⚠️ Warning: /content/frames_local/0860528389518167-PAY does not exist!\n",
            "\n",
            "⚠️ Warning: /content/frames_local/4871732014361596-DAMN does not exist!"
          ]
        },
        {
          "output_type": "stream",
          "name": "stderr",
          "text": [
            "\r  4%|▎         | 2930/83399 [00:17<08:19, 160.96it/s]"
          ]
        },
        {
          "output_type": "stream",
          "name": "stdout",
          "text": [
            "\n",
            "⚠️ Warning: /content/frames_local/8002818498054054-INTERESTED does not exist!⚠️ Warning: /content/frames_local/3531578946874214-MOOSE does not exist!\n",
            "⚠️ Warning: /content/frames_local/623716961899204-BLOOM does not exist!\n",
            "\n",
            "⚠️ Warning: /content/frames_local/18111245519260621-SPIT OUT does not exist!\n",
            "⚠️ Warning: /content/frames_local/38723834437248383-DONUT does not exist!\n",
            "⚠️ Warning: /content/frames_local/17409652494851113-SIDEBURNS does not exist!⚠️ Warning: /content/frames_local/4133841182637359-ACCORDION does not exist!\n",
            "\n",
            "⚠️ Warning: /content/frames_local/4690614924990628-THAN does not exist!⚠️ Warning: /content/frames_local/1414422948195937-FOLD does not exist!\n",
            "\n",
            "⚠️ Warning: /content/frames_local/2480446904817204-NORMAL does not exist!\n",
            "⚠️ Warning: /content/frames_local/8760737951059201-HONEY 1 does not exist!⚠️ Warning: /content/frames_local/7854287181824922-YAWN 1 does not exist!\n",
            "\n",
            "⚠️ Warning: /content/frames_local/0010547472856581308-BIG does not exist!⚠️ Warning: /content/frames_local/2777659330539366-SAILBOAT does not exist!\n",
            "\n",
            "⚠️ Warning: /content/frames_local/1348268541854869-OCTOPUS does not exist!⚠️ Warning: /content/frames_local/5480005710955564-SLINGSHOT does not exist!\n",
            "\n",
            "⚠️ Warning: /content/frames_local/48273733326643997-WATER SKI does not exist!"
          ]
        },
        {
          "output_type": "stream",
          "name": "stderr",
          "text": [
            "\r  4%|▎         | 2947/83399 [00:17<08:35, 156.03it/s]"
          ]
        },
        {
          "output_type": "stream",
          "name": "stdout",
          "text": [
            "\n",
            "⚠️ Warning: /content/frames_local/8003732238675179-DEAF does not exist!⚠️ Warning: /content/frames_local/3948043968065691-BALD does not exist!\n",
            "⚠️ Warning: /content/frames_local/8412281188033437-WE WILL_SEE does not exist!\n",
            "⚠️ Warning: /content/frames_local/3339016452474801-ASSISTANT does not exist!\n",
            "\n",
            "⚠️ Warning: /content/frames_local/21360197971171213-WRAP UP does not exist!⚠️ Warning: /content/frames_local/3085345327768565-INVEST does not exist!\n",
            "\n",
            "⚠️ Warning: /content/frames_local/8658133830896382-BEAK does not exist!⚠️ Warning: /content/frames_local/887360846902183-OVERWHELMED does not exist!\n",
            "⚠️ Warning: /content/frames_local/649103546408023-CLOSET 1 does not exist!\n",
            "\n",
            "⚠️ Warning: /content/frames_local/563738251166128-BLAME does not exist!⚠️ Warning: /content/frames_local/8868059708540206-FAKE does not exist!\n",
            "⚠️ Warning: /content/frames_local/8434418760595921-ROCKING CHAIR does not exist!\n",
            "\n",
            "⚠️ Warning: /content/frames_local/830787768730888-DIRECTOR does not exist!⚠️ Warning: /content/frames_local/1361388675596844-LUNGS does not exist!\n",
            "\n",
            "⚠️ Warning: /content/frames_local/2546514080805622-EYES AWAKE does not exist!⚠️ Warning: /content/frames_local/15991694404436085-GENERATION does not exist!\n",
            "\n",
            "⚠️ Warning: /content/frames_local/16953611487918496-SHORT DISTANCE does not exist!⚠️ Warning: /content/frames_local/5753184059911545-TWO MORE does not exist!\n",
            "\n",
            "⚠️ Warning: /content/frames_local/6219112771870119-HURDLE-TRIP does not exist!⚠️ Warning: /content/frames_local/4604997860647464-MOVE DOWN does not exist!\n",
            "\n"
          ]
        },
        {
          "output_type": "stream",
          "name": "stderr",
          "text": [
            "\r  4%|▎         | 2967/83399 [00:17<08:08, 164.54it/s]"
          ]
        },
        {
          "output_type": "stream",
          "name": "stdout",
          "text": [
            "⚠️ Warning: /content/frames_local/2616488930871754-FREAK OUT does not exist!⚠️ Warning: /content/frames_local/05187469784288856-JAR does not exist!\n",
            "\n",
            "⚠️ Warning: /content/frames_local/7436297653711432-HIDE does not exist!⚠️ Warning: /content/frames_local/8169448623949176-HEN does not exist!\n",
            "⚠️ Warning: /content/frames_local/21636232201101957-STRIPE does not exist!\n",
            "⚠️ Warning: /content/frames_local/5351261267172509-HAND SOAP does not exist!\n",
            "\n",
            "⚠️ Warning: /content/frames_local/21091028893466346-RANGE does not exist!\n",
            "⚠️ Warning: /content/frames_local/0815874392421927-ZEBRA does not exist!\n",
            "⚠️ Warning: /content/frames_local/2219395244374549-PARTY does not exist!⚠️ Warning: /content/frames_local/2712519271311322-POLE does not exist!\n",
            "⚠️ Warning: /content/frames_local/08783847414069834-WATCH does not exist!\n",
            "⚠️ Warning: /content/frames_local/44854166317391075-ROB does not exist!\n",
            "⚠️ Warning: /content/frames_local/11398713949281802-TEAR RIP_1 does not exist!\n",
            "\n",
            "⚠️ Warning: /content/frames_local/6955700122753168-DIG UP does not exist!⚠️ Warning: /content/frames_local/08837594822406936-CHAMP does not exist!\n",
            "\n",
            "⚠️ Warning: /content/frames_local/2651915507169065-NOT MIND does not exist!⚠️ Warning: /content/frames_local/6746531225181476-SPECIAL does not exist!\n",
            "⚠️ Warning: /content/frames_local/335915499727792-HE does not exist!\n"
          ]
        },
        {
          "output_type": "stream",
          "name": "stderr",
          "text": [
            "\r  4%|▎         | 2985/83399 [00:17<07:57, 168.44it/s]"
          ]
        },
        {
          "output_type": "stream",
          "name": "stdout",
          "text": [
            "⚠️ Warning: /content/frames_local/7240783477387309-ABSOLUTELY NOTHING does not exist!\n",
            "\n",
            "⚠️ Warning: /content/frames_local/5064844800004402-DRESS UP does not exist!⚠️ Warning: /content/frames_local/038809883980502446-CUT REMOVE VID does not exist!\n",
            "\n",
            "⚠️ Warning: /content/frames_local/7134575872528162-CONTACT LENS does not exist!⚠️ Warning: /content/frames_local/6369787418235786-OR does not exist!\n",
            "\n",
            "⚠️ Warning: /content/frames_local/355641287689366-ELEVATOR does not exist!⚠️ Warning: /content/frames_local/16840195718556772-ROAST does not exist!\n",
            "\n",
            "⚠️ Warning: /content/frames_local/8637237430391314-CONSUME does not exist!⚠️ Warning: /content/frames_local/9909136501519169-ABBREVIATE does not exist!\n",
            "\n",
            "⚠️ Warning: /content/frames_local/5409664005175514-DONT LIKE does not exist!⚠️ Warning: /content/frames_local/038452238067189004-ADD does not exist!\n",
            "\n",
            "⚠️ Warning: /content/frames_local/39581850983034395-GIVE UP does not exist!⚠️ Warning: /content/frames_local/9268706008690153-DESTROY does not exist!\n",
            "\n",
            "⚠️ Warning: /content/frames_local/7482452688654286-WASH HANDS does not exist!⚠️ Warning: /content/frames_local/9314901846452728-TEND YOUR does not exist!⚠️ Warning: /content/frames_local/18935406582134995-BRIGHT does not exist!\n",
            "\n",
            "⚠️ Warning: /content/frames_local/5757141670056527-GOOSEBUMPS does not exist!\n",
            "⚠️ Warning: /content/frames_local/7730062057239813-ABOVE does not exist!\n"
          ]
        },
        {
          "output_type": "stream",
          "name": "stderr",
          "text": [
            "\r  4%|▎         | 3002/83399 [00:17<08:08, 164.50it/s]"
          ]
        },
        {
          "output_type": "stream",
          "name": "stdout",
          "text": [
            "⚠️ Warning: /content/frames_local/6523002506550373-SPEND does not exist!\n",
            "\n",
            "⚠️ Warning: /content/frames_local/08827701403301891-BARELY does not exist!⚠️ Warning: /content/frames_local/42407996881402665-TEMPER BLOW UP does not exist!\n",
            "\n",
            "⚠️ Warning: /content/frames_local/6065440086291123-PLUS does not exist!⚠️ Warning: /content/frames_local/6068142707527302-ALL DAY does not exist!\n",
            "\n",
            "⚠️ Warning: /content/frames_local/6363286086951516-WHAT FOR does not exist!⚠️ Warning: /content/frames_local/028776110961403978-DIFFERENT SITUATION does not exist!\n",
            "\n",
            "⚠️ Warning: /content/frames_local/5576858967390039-LIVING ROOM does not exist!⚠️ Warning: /content/frames_local/3348968396653791-FAIR does not exist!\n",
            "⚠️ Warning: /content/frames_local/861826435160828-SAUSAGE does not exist!\n",
            "⚠️ Warning: /content/frames_local/5697796770209944-STAND-UP does not exist!\n",
            "\n",
            "⚠️ Warning: /content/frames_local/9840855750990811-ALL GONE does not exist!\n",
            "⚠️ Warning: /content/frames_local/4037453472715733-HANDSOME does not exist!⚠️ Warning: /content/frames_local/5810384674891582-GUILLOTINE does not exist!\n",
            "\n",
            "⚠️ Warning: /content/frames_local/8872952733261619-PIZZA does not exist!⚠️ Warning: /content/frames_local/4334982896949342-CHARGE does not exist!\n",
            "\n",
            "⚠️ Warning: /content/frames_local/7333074902175456-TECHNOLOGY does not exist!\n",
            "⚠️ Warning: /content/frames_local/6813035797502778-ELEVATOR does not exist!\n",
            "⚠️ Warning: /content/frames_local/06823095187885575-HEARTBODY does not exist!\n",
            "⚠️ Warning: /content/frames_local/335074469104397-CHURN does not exist!\n",
            "⚠️ Warning: /content/frames_local/08945215242764859-COOL does not exist!"
          ]
        },
        {
          "output_type": "stream",
          "name": "stderr",
          "text": [
            "\r  4%|▎         | 3024/83399 [00:18<07:32, 177.48it/s]"
          ]
        },
        {
          "output_type": "stream",
          "name": "stdout",
          "text": [
            "⚠️ Warning: /content/frames_local/0708342074851247-WINTER does not exist!\n",
            "\n",
            "⚠️ Warning: /content/frames_local/032389207395686404-WRING does not exist!⚠️ Warning: /content/frames_local/9656887886050163-SHAVE does not exist!\n",
            "⚠️ Warning: /content/frames_local/2155470939319135-SHOT does not exist!\n",
            "⚠️ Warning: /content/frames_local/7323457561534847-LEATHER does not exist!\n",
            "\n",
            "⚠️ Warning: /content/frames_local/6825074922954069-DEPEND ON does not exist!\n",
            "⚠️ Warning: /content/frames_local/8511172699525456-HOCKEY does not exist!⚠️ Warning: /content/frames_local/7357037971446334-HOTEL does not exist!\n",
            "\n",
            "⚠️ Warning: /content/frames_local/418891203486327-RESEARCH does not exist!⚠️ Warning: /content/frames_local/8319639960351619-LETTER 2 does not exist!\n",
            "\n",
            "\n",
            "⚠️ Warning: /content/frames_local/7180386122718683-UPLOAD does not exist!⚠️ Warning: /content/frames_local/8284350392984203-KNEEL does not exist!\n",
            "⚠️ Warning: /content/frames_local/5952376665942909-JIGSAW PUZZLE does not exist!\n",
            "⚠️ Warning: /content/frames_local/4309137562757537-EYEGLASSES does not exist!⚠️ Warning: /content/frames_local/9252272523571192-SHIRT does not exist!\n",
            "\n",
            "⚠️ Warning: /content/frames_local/6206828663549155-WOLF does not exist!⚠️ Warning: /content/frames_local/47778208952035284-PAPER does not exist!\n",
            "\n",
            "⚠️ Warning: /content/frames_local/1326837712424862-PIE does not exist!⚠️ Warning: /content/frames_local/0760000444900526-TURTLE does not exist!\n"
          ]
        },
        {
          "output_type": "stream",
          "name": "stderr",
          "text": [
            "\r  4%|▎         | 3042/83399 [00:18<08:08, 164.50it/s]"
          ]
        },
        {
          "output_type": "stream",
          "name": "stdout",
          "text": [
            "⚠️ Warning: /content/frames_local/44175204654391864-STREET does not exist!\n",
            "\n",
            "⚠️ Warning: /content/frames_local/7951371537506704-WANDER does not exist!\n",
            "⚠️ Warning: /content/frames_local/05214904253811725-READ does not exist!⚠️ Warning: /content/frames_local/3600505302208077-SURF does not exist!\n",
            "\n",
            "⚠️ Warning: /content/frames_local/07390110032238817-BIRD does not exist!⚠️ Warning: /content/frames_local/4606365927850007-MICROWAVE does not exist!\n",
            "⚠️ Warning: /content/frames_local/5708505994027302-PAINTBRUSH does not exist!\n",
            "⚠️ Warning: /content/frames_local/46855954926090804-EVALUATE does not exist!\n",
            "⚠️ Warning: /content/frames_local/9841992235729498-FISH does not exist!\n",
            "\n",
            "⚠️ Warning: /content/frames_local/4483595500534805-DRUM does not exist!⚠️ Warning: /content/frames_local/39106499789305493-SHOVEL does not exist!\n",
            "\n",
            "⚠️ Warning: /content/frames_local/11302783636595803-GOAT does not exist!\n",
            "⚠️ Warning: /content/frames_local/17230651368029348-BALLOON does not exist!⚠️ Warning: /content/frames_local/2814421313132618-TOBACCO does not exist!\n",
            "⚠️ Warning: /content/frames_local/6290507615053753-NEUTRAL does not exist!\n"
          ]
        },
        {
          "output_type": "stream",
          "name": "stderr",
          "text": [
            "\r  4%|▎         | 3059/83399 [00:18<08:14, 162.36it/s]"
          ]
        },
        {
          "output_type": "stream",
          "name": "stdout",
          "text": [
            "⚠️ Warning: /content/frames_local/5564949705093372-RADIO does not exist!\n",
            "⚠️ Warning: /content/frames_local/3736689984489061-SHEEP does not exist!\n",
            "\n",
            "⚠️ Warning: /content/frames_local/6113523545063659-HISTORY does not exist!⚠️ Warning: /content/frames_local/17537877354439124-NECKLACE does not exist!\n",
            "\n",
            "⚠️ Warning: /content/frames_local/24783898702478635-DESERT does not exist!⚠️ Warning: /content/frames_local/9716465247115522-SOCKS does not exist!\n",
            "\n",
            "⚠️ Warning: /content/frames_local/9753294832975878-MAGAZINE does not exist!⚠️ Warning: /content/frames_local/8021655596524078-LION does not exist!\n",
            "⚠️ Warning: /content/frames_local/384934252853842-BED does not exist!\n",
            "\n",
            "⚠️ Warning: /content/frames_local/2338378428072303-HEARING AID does not exist!⚠️ Warning: /content/frames_local/4825895889830001-SHY does not exist!\n",
            "⚠️ Warning: /content/frames_local/864908228939657-NIGHT does not exist!\n",
            "⚠️ Warning: /content/frames_local/28491649751472403-CASTLE does not exist!\n",
            "\n",
            "⚠️ Warning: /content/frames_local/4258485205078806-PARACHUTE does not exist!\n",
            "⚠️ Warning: /content/frames_local/4436109806298911-STARS does not exist!⚠️ Warning: /content/frames_local/645107600505916-MONKEY does not exist!\n",
            "⚠️ Warning: /content/frames_local/9578769322207399-BOWTIE does not exist!\n",
            "\n",
            "⚠️ Warning: /content/frames_local/8169837081225495-LEMON does not exist!\n"
          ]
        },
        {
          "output_type": "stream",
          "name": "stderr",
          "text": [
            "\r  4%|▎         | 3076/83399 [00:18<08:23, 159.54it/s]"
          ]
        },
        {
          "output_type": "stream",
          "name": "stdout",
          "text": [
            "⚠️ Warning: /content/frames_local/7293342540397525-KITE does not exist!⚠️ Warning: /content/frames_local/9138395448550181-SANDALS does not exist!\n",
            "⚠️ Warning: /content/frames_local/1550374651873463-DRAWER does not exist!\n",
            "\n",
            "⚠️ Warning: /content/frames_local/4163191601306442-CHAIR does not exist!⚠️ Warning: /content/frames_local/6520328678795042-TRASH does not exist!\n",
            "⚠️ Warning: /content/frames_local/2917781127184833-WAITER does not exist!\n",
            "\n",
            "⚠️ Warning: /content/frames_local/8731862363250202-DEODORANT does not exist!⚠️ Warning: /content/frames_local/5416242059836718-STUDENT does not exist!\n",
            "\n",
            "⚠️ Warning: /content/frames_local/5500979769952292-ROLLERSKATING does not exist!\n",
            "⚠️ Warning: /content/frames_local/9231646377112459-PSYCHOLOGIST does not exist!\n",
            "⚠️ Warning: /content/frames_local/9229935002626548-DEER does not exist!⚠️ Warning: /content/frames_local/9291122935305882-RIVER does not exist!\n",
            "\n",
            "⚠️ Warning: /content/frames_local/9095948066963289-PANTS does not exist!⚠️ Warning: /content/frames_local/644949628882094-LETTUCE does not exist!\n",
            "\n",
            "⚠️ Warning: /content/frames_local/9273409920756583-SWING does not exist!⚠️ Warning: /content/frames_local/04495931121815211-GORILLA does not exist!\n",
            "⚠️ Warning: /content/frames_local/164410421995691-POPCORN does not exist!\n",
            "\n"
          ]
        },
        {
          "output_type": "stream",
          "name": "stderr",
          "text": [
            "\r  4%|▎         | 3093/83399 [00:18<08:33, 156.27it/s]"
          ]
        },
        {
          "output_type": "stream",
          "name": "stdout",
          "text": [
            "⚠️ Warning: /content/frames_local/51054588557696-BRIDESMAID does not exist!⚠️ Warning: /content/frames_local/4944105449921634-CAMPING does not exist!\n",
            "⚠️ Warning: /content/frames_local/6513652887067045-PEACH does not exist!\n",
            "⚠️ Warning: /content/frames_local/25759430435290187-ELECTRICIAN does not exist!\n",
            "\n",
            "⚠️ Warning: /content/frames_local/664429081242518-HAIR does not exist!⚠️ Warning: /content/frames_local/32711213821103513-HOMEWORK does not exist!\n",
            "\n",
            "⚠️ Warning: /content/frames_local/062431923956741686-BRA does not exist!⚠️ Warning: /content/frames_local/8576824311882121-FISHING does not exist!\n",
            "⚠️ Warning: /content/frames_local/3922480796631205-SALAD does not exist!\n",
            "⚠️ Warning: /content/frames_local/44246095223403237-BLANKET does not exist!\n",
            "\n",
            "⚠️ Warning: /content/frames_local/6630415663219213-CANDY 1 does not exist!⚠️ Warning: /content/frames_local/44160178173356357-CUP does not exist!\n",
            "\n",
            "⚠️ Warning: /content/frames_local/5400168521777102-DOLPHIN does not exist!\n",
            "⚠️ Warning: /content/frames_local/5091541121729559-MOON does not exist!⚠️ Warning: /content/frames_local/41033457645426785-COUNSELOR does not exist!\n",
            "⚠️ Warning: /content/frames_local/6093145927697001-DORMITORY does not exist!\n",
            "\n",
            "⚠️ Warning: /content/frames_local/9770636218360691-PILLOW does not exist!⚠️ Warning: /content/frames_local/0674445874954106-SOAP does not exist!\n",
            "\n",
            "⚠️ Warning: /content/frames_local/6215870928266889-BRUSH does not exist!⚠️ Warning: /content/frames_local/8233128110707886-HORSE does not exist!\n"
          ]
        },
        {
          "output_type": "stream",
          "name": "stderr",
          "text": [
            "\r  4%|▎         | 3113/83399 [00:18<08:00, 166.94it/s]"
          ]
        },
        {
          "output_type": "stream",
          "name": "stdout",
          "text": [
            "⚠️ Warning: /content/frames_local/2012617590870387-COFFEE does not exist!\n",
            "\n",
            "⚠️ Warning: /content/frames_local/8343484562564789-ISLAND does not exist!\n",
            "⚠️ Warning: /content/frames_local/8502061204129927-MILK does not exist!⚠️ Warning: /content/frames_local/7123331236927979-DIAPER does not exist!\n",
            "\n",
            "\n",
            "⚠️ Warning: /content/frames_local/8131944585973905-DUMB does not exist!⚠️ Warning: /content/frames_local/02461051860429153-MOP does not exist!⚠️ Warning: /content/frames_local/699323075564517-HUMBLE does not exist!\n",
            "\n",
            "⚠️ Warning: /content/frames_local/32642060492986413-ENGLISH does not exist!\n",
            "⚠️ Warning: /content/frames_local/3624681821820934-TIE does not exist!\n",
            "⚠️ Warning: /content/frames_local/25517597911244616-TABLE does not exist!\n",
            "⚠️ Warning: /content/frames_local/6451505576365526-POTATO does not exist!⚠️ Warning: /content/frames_local/5348764023688453-DINOSAUR does not exist!\n",
            "\n",
            "⚠️ Warning: /content/frames_local/30963812063860874-MONTH does not exist!⚠️ Warning: /content/frames_local/8151284642387526-ANGEL does not exist!\n",
            "⚠️ Warning: /content/frames_local/06509153784135058-CHEAT 1 does not exist!\n",
            "⚠️ Warning: /content/frames_local/2529267475456003-COMPUTER does not exist!\n",
            "⚠️ Warning: /content/frames_local/9964081105279532-DEVIL does not exist!\n",
            "\n"
          ]
        },
        {
          "output_type": "stream",
          "name": "stderr",
          "text": [
            "\r  4%|▍         | 3130/83399 [00:18<08:27, 158.05it/s]"
          ]
        },
        {
          "output_type": "stream",
          "name": "stdout",
          "text": [
            "⚠️ Warning: /content/frames_local/29469979164237836-DANCER does not exist!⚠️ Warning: /content/frames_local/2108510610621066-CEREAL does not exist!\n",
            "\n",
            "⚠️ Warning: /content/frames_local/7540291860771398-LANGUAGE does not exist!\n",
            "⚠️ Warning: /content/frames_local/6985976249674386-INSULT does not exist!⚠️ Warning: /content/frames_local/7677938458801052-NEPHEW does not exist!\n",
            "\n",
            "⚠️ Warning: /content/frames_local/07692234618172944-CAT does not exist!\n",
            "⚠️ Warning: /content/frames_local/21478891939875577-SANDWICH does not exist!⚠️ Warning: /content/frames_local/24685088322510929-ROOM does not exist!\n",
            "\n",
            "⚠️ Warning: /content/frames_local/26739488577485493-BOOK does not exist!⚠️ Warning: /content/frames_local/3207845872046018-SCIENTIST does not exist!\n",
            "\n",
            "⚠️ Warning: /content/frames_local/9641757994089148-SKIRT does not exist!\n",
            "⚠️ Warning: /content/frames_local/6089788620647272-PROMISE does not exist!⚠️ Warning: /content/frames_local/41894756879028083-DEVOUR does not exist!\n",
            "\n",
            "⚠️ Warning: /content/frames_local/775134112809382-CURL 2 does not exist!⚠️ Warning: /content/frames_local/599232352446047-OIL 3 does not exist!\n",
            "⚠️ Warning: /content/frames_local/1480758502670565-PIPE 2 does not exist!\n",
            "⚠️ Warning: /content/frames_local/19791383366219817-KNIGHT 5 does not exist!\n",
            "\n"
          ]
        },
        {
          "output_type": "stream",
          "name": "stderr",
          "text": [
            "\r  4%|▍         | 3147/83399 [00:18<08:19, 160.73it/s]"
          ]
        },
        {
          "output_type": "stream",
          "name": "stdout",
          "text": [
            "⚠️ Warning: /content/frames_local/9973971648291664-WINDMILL 2 does not exist!⚠️ Warning: /content/frames_local/06768937018953247-LICK ENVELOPE_2 does not exist!\n",
            "\n",
            "⚠️ Warning: /content/frames_local/7090011137927188-FRISK does not exist!⚠️ Warning: /content/frames_local/4701041363309837-FLASHLIGHT 4 does not exist!\n",
            "\n",
            "⚠️ Warning: /content/frames_local/8813318672778268-FUZZY does not exist!⚠️ Warning: /content/frames_local/16532702017333922-ENVELOPE 5 does not exist!\n",
            "\n",
            "⚠️ Warning: /content/frames_local/72638845462489-STACK 3 does not exist!\n",
            "⚠️ Warning: /content/frames_local/20898629916396083-SOMERSAULT 2 does not exist!⚠️ Warning: /content/frames_local/35766455779768913-SCREWDRIVER 2 does not exist!\n",
            "\n",
            "⚠️ Warning: /content/frames_local/5694076991885544-STETHOSCOPE 2 does not exist!⚠️ Warning: /content/frames_local/6893385776691854-POP 4 does not exist!\n",
            "⚠️ Warning: /content/frames_local/27020916327428-CHERRY does not exist!\n",
            "⚠️ Warning: /content/frames_local/1994535646379354-MEA CULPA does not exist!\n",
            "⚠️ Warning: /content/frames_local/05038377575631836-SOMERSAULT 3 does not exist!\n",
            "\n",
            "⚠️ Warning: /content/frames_local/9261918717481659-CAROUSEL does not exist!\n",
            "⚠️ Warning: /content/frames_local/917780190148501-SUSPENDERS 2 does not exist!⚠️ Warning: /content/frames_local/6432546928789962-SEQUENCE does not exist!\n",
            "\n",
            "⚠️ Warning: /content/frames_local/8035403192334949-HAIR CLIPPER does not exist!⚠️ Warning: /content/frames_local/8674044778324363-CHIMNEY does not exist!\n"
          ]
        },
        {
          "output_type": "stream",
          "name": "stderr",
          "text": [
            "\r  4%|▍         | 3166/83399 [00:18<07:56, 168.35it/s]"
          ]
        },
        {
          "output_type": "stream",
          "name": "stdout",
          "text": [
            "\n",
            "⚠️ Warning: /content/frames_local/6376584675501806-FINS does not exist!⚠️ Warning: /content/frames_local/4600210929125008-DISRUPT does not exist!\n",
            "\n",
            "⚠️ Warning: /content/frames_local/03561891956333918-INTUITIVE does not exist!\n",
            "⚠️ Warning: /content/frames_local/7699893736425727-EDGE does not exist!⚠️ Warning: /content/frames_local/3230776563740474-EASEL does not exist!\n",
            "\n",
            "⚠️ Warning: /content/frames_local/8691448593476871-PEAS 2 does not exist!⚠️ Warning: /content/frames_local/775326265846253-GUILLOTINE 1 does not exist!\n",
            "⚠️ Warning: /content/frames_local/2543795136959863-VAIN does not exist!\n",
            "\n",
            "⚠️ Warning: /content/frames_local/7021716779590423-GARLIC does not exist!⚠️ Warning: /content/frames_local/6017570313405511-NOOSE does not exist!\n",
            "\n",
            "⚠️ Warning: /content/frames_local/9034052099965333-SOW does not exist!⚠️ Warning: /content/frames_local/21639918402737957-TOY 2 does not exist!\n",
            "\n",
            "⚠️ Warning: /content/frames_local/3857841543812093-PRODUCE SIGN does not exist!\n",
            "⚠️ Warning: /content/frames_local/20693796064708003-DILEMMA does not exist!⚠️ Warning: /content/frames_local/2926796582036142-SNAP STICK does not exist!\n",
            "\n",
            "⚠️ Warning: /content/frames_local/8520321379260807-STETHOSCOPE 4 does not exist!⚠️ Warning: /content/frames_local/5789243522768412-RESENT does not exist!\n"
          ]
        },
        {
          "output_type": "stream",
          "name": "stderr",
          "text": [
            "\r  4%|▍         | 3183/83399 [00:19<08:00, 167.02it/s]"
          ]
        },
        {
          "output_type": "stream",
          "name": "stdout",
          "text": [
            "⚠️ Warning: /content/frames_local/8225488923406521-CONDUCT 1 does not exist!\n",
            "⚠️ Warning: /content/frames_local/3886130238675536-STETHOSCOPE 3 does not exist!\n",
            "\n",
            "⚠️ Warning: /content/frames_local/9952895408748434-CARVE does not exist!⚠️ Warning: /content/frames_local/6813036683984368-SLICE 3 does not exist!\n",
            "\n",
            "⚠️ Warning: /content/frames_local/15524253080393335-CHEW 2_MOUTH does not exist!⚠️ Warning: /content/frames_local/1896789044387548-CORKSCREW 2 does not exist!\n",
            "\n",
            "⚠️ Warning: /content/frames_local/6727717259835828-JACKET 2 does not exist!\n",
            "⚠️ Warning: /content/frames_local/6900300139833695-CROSS 3 does not exist!⚠️ Warning: /content/frames_local/5596323322741479-PECK does not exist!\n",
            "\n",
            "⚠️ Warning: /content/frames_local/3519771309995008-ENVELOPE 3 does not exist!⚠️ Warning: /content/frames_local/45393205093913647-ENVELOPE 2 does not exist!\n",
            "⚠️ Warning: /content/frames_local/5070939017818334-PARACHUTE 2 does not exist!\n",
            "\n",
            "⚠️ Warning: /content/frames_local/43634229422797577-KNITTING does not exist!\n",
            "⚠️ Warning: /content/frames_local/3862865611012125-CONDUCT 3 does not exist!⚠️ Warning: /content/frames_local/44410603160338313-CORKSCREW does not exist!\n",
            "\n",
            "⚠️ Warning: /content/frames_local/6980734224743956-STOCKINGS does not exist!\n",
            "⚠️ Warning: /content/frames_local/6415258619209538-OFFHAND does not exist!"
          ]
        },
        {
          "output_type": "stream",
          "name": "stderr",
          "text": [
            "\r  4%|▍         | 3200/83399 [00:19<09:07, 146.57it/s]"
          ]
        },
        {
          "output_type": "stream",
          "name": "stdout",
          "text": [
            "⚠️ Warning: /content/frames_local/07380950152499621-GLASS 1 does not exist!\n",
            "⚠️ Warning: /content/frames_local/35206441362889995-CHARGE CARD does not exist!\n",
            "⚠️ Warning: /content/frames_local/7917110935244926-NAVEL does not exist!\n",
            "⚠️ Warning: /content/frames_local/21796435261992886-CREATE does not exist!\n",
            "\n",
            "⚠️ Warning: /content/frames_local/8179280078677273-SILVER does not exist!\n",
            "⚠️ Warning: /content/frames_local/18066055217551225-PLENTY does not exist!⚠️ Warning: /content/frames_local/5755064107778649-CHANGE does not exist!\n",
            "\n",
            "⚠️ Warning: /content/frames_local/40135932279301967-OBVIOUS does not exist!⚠️ Warning: /content/frames_local/49391471387921815-PHARMACIST does not exist!\n",
            "⚠️ Warning: /content/frames_local/5099815025891361-BEE does not exist!\n",
            "\n",
            "⚠️ Warning: /content/frames_local/2805628092335277-SPRING does not exist!⚠️ Warning: /content/frames_local/8115669351699721-REFLECT does not exist!\n",
            "\n",
            "⚠️ Warning: /content/frames_local/9763122886582376-BIND does not exist!⚠️ Warning: /content/frames_local/26607806027948366-CAPE does not exist!\n",
            "\n",
            "⚠️ Warning: /content/frames_local/48729626916163826-BULLDOZER does not exist!⚠️ Warning: /content/frames_local/8899651685842758-MISSING does not exist!\n"
          ]
        },
        {
          "output_type": "stream",
          "name": "stderr",
          "text": [
            "\r  4%|▍         | 3216/83399 [00:19<09:03, 147.54it/s]"
          ]
        },
        {
          "output_type": "stream",
          "name": "stdout",
          "text": [
            "⚠️ Warning: /content/frames_local/6902109206605478-IMMERSE does not exist!\n",
            "\n",
            "⚠️ Warning: /content/frames_local/36678181778247376-TAKE OFF does not exist!⚠️ Warning: /content/frames_local/46965068642756846-TRUE BUSINESS does not exist!\n",
            "\n",
            "⚠️ Warning: /content/frames_local/047855553987675714-WRAP does not exist!⚠️ Warning: /content/frames_local/2737238131791908-AUDIENCE does not exist!\n",
            "⚠️ Warning: /content/frames_local/35293005912835507-PENGUIN does not exist!\n",
            "⚠️ Warning: /content/frames_local/5491281967670094-DELINQUENT does not exist!\n",
            "\n",
            "⚠️ Warning: /content/frames_local/36756607109704476-DANGER does not exist!⚠️ Warning: /content/frames_local/8513626292087533-PJS does not exist!\n",
            "⚠️ Warning: /content/frames_local/9478563289117621-SPEND LOTS_OF_MONEY does not exist!\n",
            "\n",
            "⚠️ Warning: /content/frames_local/11134461761704917-UNIQUE does not exist!\n",
            "⚠️ Warning: /content/frames_local/36330995878356886-BEG does not exist!\n",
            "⚠️ Warning: /content/frames_local/421084321064648-BOMB does not exist!⚠️ Warning: /content/frames_local/11642380273775732-CHIN 2 does not exist!\n",
            "\n",
            "⚠️ Warning: /content/frames_local/572333088620244-SWING 2 does not exist!⚠️ Warning: /content/frames_local/45588529279262957-SOFT does not exist!\n",
            "\n"
          ]
        },
        {
          "output_type": "stream",
          "name": "stderr",
          "text": [
            "\r  4%|▍         | 3232/83399 [00:19<08:59, 148.55it/s]"
          ]
        },
        {
          "output_type": "stream",
          "name": "stdout",
          "text": [
            "⚠️ Warning: /content/frames_local/037484834739207384-CAR ACCIDENT does not exist!\n",
            "⚠️ Warning: /content/frames_local/4398065451629942-FIRETRUCK does not exist!\n",
            "⚠️ Warning: /content/frames_local/6448236951011861-WHITE does not exist!⚠️ Warning: /content/frames_local/4199870974724855-CLAUSE does not exist!\n",
            "\n",
            "⚠️ Warning: /content/frames_local/3608326370498314-PUT does not exist!⚠️ Warning: /content/frames_local/5182105776927413-SUPPORT 2 does not exist!\n",
            "⚠️ Warning: /content/frames_local/5276062051398678-CLUELESS does not exist!\n",
            "\n",
            "⚠️ Warning: /content/frames_local/5792471419482148-TWINS does not exist!⚠️ Warning: /content/frames_local/8694296523560676-WASH FACE_1 does not exist!\n",
            "⚠️ Warning: /content/frames_local/7435834099949483-PLAIN does not exist!\n",
            "⚠️ Warning: /content/frames_local/4928157725435729-HEART TOUCH does not exist!\n",
            "⚠️ Warning: /content/frames_local/46582437028312995-FREE does not exist!\n",
            "⚠️ Warning: /content/frames_local/6945672015907272-CANCER does not exist!\n",
            "\n",
            "⚠️ Warning: /content/frames_local/3881727183517969-SLED 1 does not exist!⚠️ Warning: /content/frames_local/6426468270055419-CAMEL does not exist!\n",
            "⚠️ Warning: /content/frames_local/8392069160397129-TO A_GOAL does not exist!\n",
            "\n",
            "⚠️ Warning: /content/frames_local/3609049435917495-KNOCK does not exist!⚠️ Warning: /content/frames_local/1603496703605971-BOW 3 does not exist!\n",
            "\n",
            "⚠️ Warning: /content/frames_local/5829874949062237-BRAILLE does not exist!\n"
          ]
        },
        {
          "output_type": "stream",
          "name": "stderr",
          "text": [
            "\r  4%|▍         | 3250/83399 [00:19<08:48, 151.56it/s]"
          ]
        },
        {
          "output_type": "stream",
          "name": "stdout",
          "text": [
            "⚠️ Warning: /content/frames_local/41495419280360735-RUN OUT_OF does not exist!⚠️ Warning: /content/frames_local/20551056400939838-FENCING does not exist!\n",
            "⚠️ Warning: /content/frames_local/2849775584391827-DESSERT does not exist!\n",
            "⚠️ Warning: /content/frames_local/7924916128119925-MUSCLE does not exist!\n",
            "⚠️ Warning: /content/frames_local/10158535104329225-SLIDE does not exist!\n",
            "\n",
            "⚠️ Warning: /content/frames_local/3820415684569103-HIGH HEELS does not exist!⚠️ Warning: /content/frames_local/5375489284263992-ECLIPSE does not exist!\n",
            "⚠️ Warning: /content/frames_local/9009873535941453-BUTTONS does not exist!\n",
            "⚠️ Warning: /content/frames_local/9038745375939039-GUM does not exist!\n",
            "⚠️ Warning: /content/frames_local/6538201011065929-RACE does not exist!\n",
            "⚠️ Warning: /content/frames_local/18937284447472913-LICK 2 does not exist!\n",
            "\n",
            "⚠️ Warning: /content/frames_local/3104343331944137-OPERATE MACHINE does not exist!⚠️ Warning: /content/frames_local/3183574553719646-LIPS does not exist!\n",
            "\n",
            "⚠️ Warning: /content/frames_local/040565118100155395-UNICORN does not exist!⚠️ Warning: /content/frames_local/3148744665958674-RUIN does not exist!\n",
            "\n",
            "⚠️ Warning: /content/frames_local/8509915722155679-KISS ON_CHEEK does not exist!"
          ]
        },
        {
          "output_type": "stream",
          "name": "stderr",
          "text": [
            "\r  4%|▍         | 3267/83399 [00:19<08:32, 156.22it/s]"
          ]
        },
        {
          "output_type": "stream",
          "name": "stdout",
          "text": [
            "⚠️ Warning: /content/frames_local/35467281399424655-BACKYARD does not exist!\n",
            "⚠️ Warning: /content/frames_local/8835249307418074-BUFFALO does not exist!\n",
            "\n",
            "⚠️ Warning: /content/frames_local/2977306505599471-SHOULD does not exist!\n",
            "⚠️ Warning: /content/frames_local/21687725854506068-PIN ON does not exist!⚠️ Warning: /content/frames_local/9581329870633735-CURIOUS does not exist!\n",
            "\n",
            "⚠️ Warning: /content/frames_local/34409027312055174-NAIL does not exist!⚠️ Warning: /content/frames_local/37722530664002885-MELON does not exist!\n",
            "⚠️ Warning: /content/frames_local/7546443100889249-FIX does not exist!\n",
            "⚠️ Warning: /content/frames_local/3307947673086036-ARGUE does not exist!\n",
            "\n",
            "⚠️ Warning: /content/frames_local/5664542155167094-SEVEN does not exist!\n",
            "⚠️ Warning: /content/frames_local/748383999888639-DINING ROOM does not exist!⚠️ Warning: /content/frames_local/2409711677783568-VAGINA does not exist!\n",
            "\n",
            "⚠️ Warning: /content/frames_local/8762599439627337-HOLD does not exist!⚠️ Warning: /content/frames_local/6843361137512787-REFRIGERATOR does not exist!\n",
            "\n",
            "⚠️ Warning: /content/frames_local/41950690221162823-MICROPHONE does not exist!⚠️ Warning: /content/frames_local/7677609550953024-TAPE does not exist!\n",
            "\n",
            "⚠️ Warning: /content/frames_local/513455087337477-NEXT TO does not exist!\n"
          ]
        },
        {
          "output_type": "stream",
          "name": "stderr",
          "text": [
            "\r  4%|▍         | 3284/83399 [00:19<08:20, 160.09it/s]"
          ]
        },
        {
          "output_type": "stream",
          "name": "stdout",
          "text": [
            "⚠️ Warning: /content/frames_local/47582859948664025-ARCHEOLOGY does not exist!⚠️ Warning: /content/frames_local/19270990836237445-OCEAN does not exist!\n",
            "\n",
            "⚠️ Warning: /content/frames_local/16682097669438334-RIDE 1 does not exist!\n",
            "⚠️ Warning: /content/frames_local/3966453095979565-PERMISSION does not exist!⚠️ Warning: /content/frames_local/07423709015900903-SKUNK does not exist!\n",
            "\n",
            "⚠️ Warning: /content/frames_local/9063724108797739-CONVINCE does not exist!⚠️ Warning: /content/frames_local/9898983564596415-SOUR does not exist!\n",
            "⚠️ Warning: /content/frames_local/03310016305096353-HALF does not exist!\n",
            "⚠️ Warning: /content/frames_local/846974927051729-SNAIL does not exist!\n",
            "\n",
            "⚠️ Warning: /content/frames_local/3413181679929236-WEEKEND does not exist!⚠️ Warning: /content/frames_local/5977071614665055-VISUALIZE does not exist!\n",
            "\n",
            "⚠️ Warning: /content/frames_local/05301092555063769-STAMP 2 does not exist!⚠️ Warning: /content/frames_local/152698307787285-CREATE does not exist!\n",
            "\n",
            "⚠️ Warning: /content/frames_local/6018402226403461-PLENTY does not exist!⚠️ Warning: /content/frames_local/7924333101458874-SILVER does not exist!\n",
            "⚠️ Warning: /content/frames_local/028731225043620023-CHANGE does not exist!\n",
            "⚠️ Warning: /content/frames_local/8725444985894288-OBVIOUS does not exist!\n",
            "⚠️ Warning: /content/frames_local/7069692984694573-PHARMACIST does not exist!\n"
          ]
        },
        {
          "output_type": "stream",
          "name": "stderr",
          "text": [
            "\r  4%|▍         | 3302/83399 [00:19<08:04, 165.28it/s]"
          ]
        },
        {
          "output_type": "stream",
          "name": "stdout",
          "text": [
            "⚠️ Warning: /content/frames_local/2751615738895319-BEE does not exist!\n",
            "⚠️ Warning: /content/frames_local/9835018663036494-SPRING does not exist!\n",
            "⚠️ Warning: /content/frames_local/11603438203292527-REFLECT does not exist!\n",
            "\n",
            "⚠️ Warning: /content/frames_local/2356495842310553-MISSING does not exist!⚠️ Warning: /content/frames_local/05662732050044128-TRUE BUSINESS does not exist!\n",
            "\n",
            "⚠️ Warning: /content/frames_local/8307346093262897-AUDIENCE does not exist!⚠️ Warning: /content/frames_local/007269166417085637-WRAP does not exist!\n",
            "\n",
            "⚠️ Warning: /content/frames_local/4294406624758065-PJS does not exist!⚠️ Warning: /content/frames_local/8125453512509591-PENGUIN does not exist!\n",
            "\n",
            "⚠️ Warning: /content/frames_local/03883848686096014-DANGER does not exist!⚠️ Warning: /content/frames_local/4763285656140046-SPEND LOTS_OF_MONEY does not exist!\n",
            "⚠️ Warning: /content/frames_local/21374557810584993-UNIQUE does not exist!\n",
            "⚠️ Warning: /content/frames_local/3058087615132905-BEG does not exist!\n",
            "\n",
            "⚠️ Warning: /content/frames_local/9843074646479586-BOMB does not exist!⚠️ Warning: /content/frames_local/167715325082177-CHIN 2 does not exist!\n",
            "⚠️ Warning: /content/frames_local/4797408807238732-SWING 2 does not exist!\n",
            "⚠️ Warning: /content/frames_local/14617818695516216-SOFT does not exist!\n"
          ]
        },
        {
          "output_type": "stream",
          "name": "stderr",
          "text": [
            "\r  4%|▍         | 3319/83399 [00:19<08:19, 160.20it/s]"
          ]
        },
        {
          "output_type": "stream",
          "name": "stdout",
          "text": [
            "\n",
            "⚠️ Warning: /content/frames_local/06611081931317031-CAR ACCIDENT does not exist!\n",
            "\n",
            "⚠️ Warning: /content/frames_local/002226792858912807-FIRETRUCK does not exist!⚠️ Warning: /content/frames_local/8787854231298282-WHITE does not exist!⚠️ Warning: /content/frames_local/5868502838396288-PUT does not exist!\n",
            "\n",
            "⚠️ Warning: /content/frames_local/4270091626428185-SUPPORT 2 does not exist!⚠️ Warning: /content/frames_local/40787792317728133-CLUELESS does not exist!\n",
            "\n",
            "⚠️ Warning: /content/frames_local/35442176301095274-WASH FACE_1 does not exist!⚠️ Warning: /content/frames_local/9855459225573504-TWINS does not exist!\n",
            "⚠️ Warning: /content/frames_local/4361005654668315-PLAIN does not exist!\n",
            "⚠️ Warning: /content/frames_local/48850525965919545-HEART TOUCH does not exist!\n",
            "\n",
            "⚠️ Warning: /content/frames_local/02304277013464029-FREE does not exist!\n",
            "⚠️ Warning: /content/frames_local/08979220108286445-CANCER does not exist!\n",
            "⚠️ Warning: /content/frames_local/39570797765124244-CAMEL does not exist!⚠️ Warning: /content/frames_local/5213487740928264-TO A_GOAL does not exist!\n",
            "\n",
            "⚠️ Warning: /content/frames_local/5078677527708715-BRAILLE does not exist!⚠️ Warning: /content/frames_local/3322286478594765-KNOCK does not exist!\n",
            "⚠️ Warning: /content/frames_local/9100164730860121-RUN OUT_OF does not exist!\n",
            "\n"
          ]
        },
        {
          "output_type": "stream",
          "name": "stderr",
          "text": [
            "\r  4%|▍         | 3336/83399 [00:20<08:20, 159.96it/s]"
          ]
        },
        {
          "output_type": "stream",
          "name": "stdout",
          "text": [
            "⚠️ Warning: /content/frames_local/9538632572564119-DESSERT does not exist!\n",
            "⚠️ Warning: /content/frames_local/5661772472047213-MUSCLE does not exist!⚠️ Warning: /content/frames_local/9785221175176391-SLIDE does not exist!\n",
            "\n",
            "⚠️ Warning: /content/frames_local/43557371067959627-HIGH HEELS does not exist!⚠️ Warning: /content/frames_local/6808738977318844-ECLIPSE does not exist!\n",
            "\n",
            "⚠️ Warning: /content/frames_local/35091287068622834-BUTTONS does not exist!\n",
            "⚠️ Warning: /content/frames_local/17151697988510128-GUM does not exist!\n",
            "⚠️ Warning: /content/frames_local/1762649889596446-RACE does not exist!\n",
            "⚠️ Warning: /content/frames_local/28639387742108324-OPERATE MACHINE does not exist!⚠️ Warning: /content/frames_local/34084164801534356-LICK 2 does not exist!\n",
            "⚠️ Warning: /content/frames_local/9116236182879967-NEWS TO_ME does not exist!\n",
            "\n",
            "⚠️ Warning: /content/frames_local/826375235273737-FENCE does not exist!⚠️ Warning: /content/frames_local/21866759503345778-IMMATURE does not exist!\n",
            "\n",
            "⚠️ Warning: /content/frames_local/4225574178689464-THINK EXPAND does not exist!\n",
            "⚠️ Warning: /content/frames_local/3909565500295562-BACK UP does not exist!⚠️ Warning: /content/frames_local/9738698242389254-CELERY does not exist!\n",
            "\n",
            "⚠️ Warning: /content/frames_local/5581093761166667-DOCUMENT does not exist!⚠️ Warning: /content/frames_local/33051059919264913-DREADLOCKS does not exist!\n"
          ]
        },
        {
          "output_type": "stream",
          "name": "stderr",
          "text": [
            "\r  4%|▍         | 3354/83399 [00:20<08:07, 164.10it/s]"
          ]
        },
        {
          "output_type": "stream",
          "name": "stdout",
          "text": [
            "\n",
            "⚠️ Warning: /content/frames_local/5710862789308453-VERY does not exist!\n",
            "⚠️ Warning: /content/frames_local/8056125942357393-PROGRAM does not exist!\n",
            "⚠️ Warning: /content/frames_local/5026212911124182-SAXOPHONE does not exist!\n",
            "⚠️ Warning: /content/frames_local/44740390604059876-BUSTED does not exist!⚠️ Warning: /content/frames_local/869786017086116-HANDS OFF does not exist!\n",
            "\n",
            "⚠️ Warning: /content/frames_local/9165811437169631-TIME PROGRESS does not exist!⚠️ Warning: /content/frames_local/4658894536092335-RESIST does not exist!\n",
            "\n",
            "⚠️ Warning: /content/frames_local/8245310253358844-NEEDLE does not exist!⚠️ Warning: /content/frames_local/5417058025459376-SOUND does not exist!\n",
            "⚠️ Warning: /content/frames_local/7088963601948011-SIREN does not exist!\n",
            "\n",
            "⚠️ Warning: /content/frames_local/02840880195941864-DUTY does not exist!⚠️ Warning: /content/frames_local/41629226851882484-MEMORIZE does not exist!\n",
            "\n",
            "⚠️ Warning: /content/frames_local/44073418602168446-PROTEST does not exist!\n",
            "⚠️ Warning: /content/frames_local/0162975215312251-ONE MORE_1 does not exist!⚠️ Warning: /content/frames_local/38205030723026123-BOIL does not exist!\n",
            "⚠️ Warning: /content/frames_local/023998622950285098-SPILL 1 does not exist!\n",
            "⚠️ Warning: /content/frames_local/6290027278283783-SELF does not exist!\n"
          ]
        },
        {
          "output_type": "stream",
          "name": "stderr",
          "text": [
            "\r  4%|▍         | 3371/83399 [00:20<08:15, 161.44it/s]"
          ]
        },
        {
          "output_type": "stream",
          "name": "stdout",
          "text": [
            "⚠️ Warning: /content/frames_local/6887173395697015-ESCALATE does not exist!\n",
            "⚠️ Warning: /content/frames_local/8291987028561796-DEVELOP does not exist!\n",
            "\n",
            "⚠️ Warning: /content/frames_local/46724122368460397-TOP does not exist!⚠️ Warning: /content/frames_local/926736670685214-SHARPEN 1 does not exist!\n",
            "⚠️ Warning: /content/frames_local/03849385798662208-TOW 1 does not exist!\n",
            "\n",
            "⚠️ Warning: /content/frames_local/620875963096988-PHILOSOPHY does not exist!⚠️ Warning: /content/frames_local/27633901625803925-AREA does not exist!\n",
            "\n",
            "⚠️ Warning: /content/frames_local/16240832782184-SHARP 1 does not exist!\n",
            "⚠️ Warning: /content/frames_local/5937042130861179-WHILE does not exist!\n",
            "⚠️ Warning: /content/frames_local/8689426835167808-HOLY does not exist!⚠️ Warning: /content/frames_local/06834948336885116-FINGERS CROSSED does not exist!\n",
            "\n",
            "⚠️ Warning: /content/frames_local/7597615610989574-QUARTER does not exist!⚠️ Warning: /content/frames_local/7872066695539279-STUDY does not exist!\n",
            "⚠️ Warning: /content/frames_local/6807526636644521-HONGKONG does not exist!\n",
            "\n",
            "⚠️ Warning: /content/frames_local/012017942693749673-COACH does not exist!⚠️ Warning: /content/frames_local/9527831088892542-DIZZY does not exist!\n",
            "\n",
            "⚠️ Warning: /content/frames_local/6223802303863406-ENVIRONMENT does not exist!\n",
            "⚠️ Warning: /content/frames_local/08011582107654291-CONVINCE 2 does not exist!"
          ]
        },
        {
          "output_type": "stream",
          "name": "stderr",
          "text": [
            "\r  4%|▍         | 3389/83399 [00:20<08:01, 166.18it/s]"
          ]
        },
        {
          "output_type": "stream",
          "name": "stdout",
          "text": [
            "⚠️ Warning: /content/frames_local/40914962611769323-CANNON does not exist!\n",
            "\n",
            "⚠️ Warning: /content/frames_local/44245787081441934-PAIR does not exist!⚠️ Warning: /content/frames_local/4660926674541592-BLINK does not exist!\n",
            "\n",
            "⚠️ Warning: /content/frames_local/8274278871150325-NAVY does not exist!⚠️ Warning: /content/frames_local/04284214436921907-REACT does not exist!\n",
            "⚠️ Warning: /content/frames_local/43858299388672517-PHOTOGRAPHY does not exist!\n",
            "\n",
            "⚠️ Warning: /content/frames_local/024633946355131497-UNAWARE does not exist!⚠️ Warning: /content/frames_local/6580048778355094-SAVE MONEY does not exist!\n",
            "\n",
            "⚠️ Warning: /content/frames_local/9127978986884864-HEAD BACK does not exist!⚠️ Warning: /content/frames_local/23828014000488018-CATCH 2 does not exist!\n",
            "\n",
            "⚠️ Warning: /content/frames_local/3783295396295592-W.H.A.T does not exist!\n",
            "⚠️ Warning: /content/frames_local/3946410565061349-DOWN does not exist!⚠️ Warning: /content/frames_local/42645894769363957-CALM does not exist!\n",
            "⚠️ Warning: /content/frames_local/7559153420998372-ICE does not exist!\n",
            "⚠️ Warning: /content/frames_local/5919137034775912-OPINION 1 does not exist!\n",
            "\n",
            "⚠️ Warning: /content/frames_local/9046939743069791-BASKET 1 does not exist!⚠️ Warning: /content/frames_local/41819734465464453-KICK does not exist!\n"
          ]
        },
        {
          "output_type": "stream",
          "name": "stderr",
          "text": [
            "\r  4%|▍         | 3406/83399 [00:20<07:58, 167.16it/s]"
          ]
        },
        {
          "output_type": "stream",
          "name": "stdout",
          "text": [
            "⚠️ Warning: /content/frames_local/042492641526901576-LINGUISTICS does not exist!\n",
            "\n",
            "⚠️ Warning: /content/frames_local/3205709839068651-STEAM does not exist!\n",
            "⚠️ Warning: /content/frames_local/47020020480760794-CRASH does not exist!⚠️ Warning: /content/frames_local/5275697133465234-ALL TOGETHER does not exist!\n",
            "\n",
            "⚠️ Warning: /content/frames_local/8802496466703069-BURN 1 does not exist!⚠️ Warning: /content/frames_local/9209102396218609-SPECIALIST does not exist!\n",
            "\n",
            "⚠️ Warning: /content/frames_local/6463409037796384-LOAD does not exist!⚠️ Warning: /content/frames_local/5527891304744788-SINGLE OUT does not exist!\n",
            "\n",
            "⚠️ Warning: /content/frames_local/5065688095777059-TICKLE does not exist!\n",
            "⚠️ Warning: /content/frames_local/447006939417427-WASH FACE_2 does not exist!⚠️ Warning: /content/frames_local/9741023286087263-VIDEOGAME does not exist!\n",
            "⚠️ Warning: /content/frames_local/17602642652418488-STACK does not exist!\n",
            "\n",
            "⚠️ Warning: /content/frames_local/6004944388944689-BASKETBALL does not exist!⚠️ Warning: /content/frames_local/523028581472508-MODEL 2 does not exist!\n",
            "\n",
            "⚠️ Warning: /content/frames_local/9367751623432383-SAME TIME does not exist!\n",
            "⚠️ Warning: /content/frames_local/6816712038028219-NOT A_THING does not exist!⚠️ Warning: /content/frames_local/1374599737006239-OFTEN does not exist!\n",
            "⚠️ Warning: /content/frames_local/6865453372883275-HOSPITAL does not exist!"
          ]
        },
        {
          "output_type": "stream",
          "name": "stderr",
          "text": [
            "\r  4%|▍         | 3423/83399 [00:20<08:06, 164.51it/s]"
          ]
        },
        {
          "output_type": "stream",
          "name": "stdout",
          "text": [
            "\n",
            "\n",
            "⚠️ Warning: /content/frames_local/6750889896487684-NOTHING AT_ALL does not exist!⚠️ Warning: /content/frames_local/33144722450537545-GREAT does not exist!\n",
            "\n",
            "⚠️ Warning: /content/frames_local/7212435771441805-ADMIRE does not exist!⚠️ Warning: /content/frames_local/6166845476938303-CALIFORNIA does not exist!\n",
            "\n",
            "⚠️ Warning: /content/frames_local/7542980546894893-CARRY does not exist!⚠️ Warning: /content/frames_local/05000362015724513-TWO WEEKS does not exist!\n",
            "\n",
            "⚠️ Warning: /content/frames_local/7570538825422268-NEXT YEAR does not exist!⚠️ Warning: /content/frames_local/2345167415094147-GOTCHA does not exist!\n",
            "\n",
            "⚠️ Warning: /content/frames_local/7244642408200301-ONCE does not exist!⚠️ Warning: /content/frames_local/17130109253237658-FLIP does not exist!\n",
            "\n",
            "⚠️ Warning: /content/frames_local/7065734956406511-AGAINST does not exist!⚠️ Warning: /content/frames_local/9867195414324719-WITHOUT does not exist!\n",
            "\n",
            "⚠️ Warning: /content/frames_local/23821100622567637-DEAL CARDS does not exist!⚠️ Warning: /content/frames_local/7188528324618912-ROLE does not exist!\n",
            "⚠️ Warning: /content/frames_local/8382121235488851-GRIND does not exist!\n",
            "\n"
          ]
        },
        {
          "output_type": "stream",
          "name": "stderr",
          "text": [
            "\r  4%|▍         | 3440/83399 [00:20<08:36, 154.76it/s]"
          ]
        },
        {
          "output_type": "stream",
          "name": "stdout",
          "text": [
            "⚠️ Warning: /content/frames_local/4323389175058596-FILE 2 does not exist!⚠️ Warning: /content/frames_local/20953071321960803-US does not exist!\n",
            "\n",
            "⚠️ Warning: /content/frames_local/5343394629701335-BASKETBALL does not exist!⚠️ Warning: /content/frames_local/42237815936091416-SEE SEE does not exist!\n",
            "⚠️ Warning: /content/frames_local/21336338073643946-ARIZONA does not exist!\n",
            "⚠️ Warning: /content/frames_local/3661573127978752-MINE does not exist!\n",
            "\n",
            "⚠️ Warning: /content/frames_local/19158377715411268-SAIL 2 does not exist!\n",
            "⚠️ Warning: /content/frames_local/17831111445055448-MAINSTREAM does not exist!\n",
            "⚠️ Warning: /content/frames_local/6133915309354443-PLUG 2 does not exist!\n",
            "⚠️ Warning: /content/frames_local/4398617513170757-COMMITTEE does not exist!⚠️ Warning: /content/frames_local/4622101015990636-HAWAII does not exist!\n",
            "⚠️ Warning: /content/frames_local/36707463727176215-SHOULDER 3 does not exist!\n",
            "⚠️ Warning: /content/frames_local/4260640719269866-BLUR does not exist!\n",
            "\n",
            "⚠️ Warning: /content/frames_local/6712196414875353-CRY 2 does not exist!\n",
            "⚠️ Warning: /content/frames_local/32286179172784046-DROWN 2 does not exist!⚠️ Warning: /content/frames_local/6931089712184411-SHARPEN 3 does not exist!\n",
            "\n",
            "⚠️ Warning: /content/frames_local/27842447556844774-BRIDGE 2 does not exist!\n",
            "⚠️ Warning: /content/frames_local/7644964438096424-CRUMPLE does not exist!⚠️ Warning: /content/frames_local/7725119677099421-BURY 1 does not exist!\n",
            "\n",
            "⚠️ Warning: /content/frames_local/6512070631928093-TIE 2 does not exist!\n",
            "⚠️ Warning: /content/frames_local/919051867854962-HOODIE 1 does not exist!⚠️ Warning: /content/frames_local/3372120454557339-HIPPO 2 does not exist!\n",
            "\n"
          ]
        },
        {
          "output_type": "stream",
          "name": "stderr",
          "text": [
            "\r  4%|▍         | 3461/83399 [00:20<07:55, 168.00it/s]"
          ]
        },
        {
          "output_type": "stream",
          "name": "stdout",
          "text": [
            "⚠️ Warning: /content/frames_local/05992092359888468-TURKEY 2 does not exist!⚠️ Warning: /content/frames_local/019573978156297578-CITY 2 does not exist!\n",
            "\n",
            "⚠️ Warning: /content/frames_local/823658899665648-THROW 2 does not exist!⚠️ Warning: /content/frames_local/6121601122847908-KNIGHT 2 does not exist!\n",
            "\n",
            "⚠️ Warning: /content/frames_local/2477834519112725-SPREAD 3 does not exist!⚠️ Warning: /content/frames_local/3781801845147641-TOW 2 does not exist!\n",
            "⚠️ Warning: /content/frames_local/5600575389548967-BURY 3 does not exist!\n",
            "⚠️ Warning: /content/frames_local/10225736897610838-AWARD does not exist!\n",
            "\n",
            "⚠️ Warning: /content/frames_local/7592851454045775-STRETCH 1 does not exist!\n",
            "⚠️ Warning: /content/frames_local/04899275307347506-HOLD 2 does not exist!\n",
            "⚠️ Warning: /content/frames_local/9500101639120362-BANANA 3 does not exist!⚠️ Warning: /content/frames_local/20815450292832338-IDENTITY does not exist!\n",
            "⚠️ Warning: /content/frames_local/8879360880306122-DOLPHIN 3 does not exist!\n",
            "\n",
            "⚠️ Warning: /content/frames_local/43297344436134866-GLOVES 2 does not exist!⚠️ Warning: /content/frames_local/7722439818925824-SUNRISE does not exist!\n",
            "\n",
            "⚠️ Warning: /content/frames_local/1319855671807273-COMB 2 does not exist!⚠️ Warning: /content/frames_local/1766551266387144-ARM 3 does not exist!\n",
            "\n",
            "⚠️ Warning: /content/frames_local/5408008907125379-GROUP does not exist!"
          ]
        },
        {
          "output_type": "stream",
          "name": "stderr",
          "text": [
            "\r  4%|▍         | 3479/83399 [00:20<07:49, 170.23it/s]"
          ]
        },
        {
          "output_type": "stream",
          "name": "stdout",
          "text": [
            "⚠️ Warning: /content/frames_local/12421965939408386-BITE ON_ARM does not exist!\n",
            "\n",
            "⚠️ Warning: /content/frames_local/9768502400221968-CASTLE 3 does not exist!⚠️ Warning: /content/frames_local/4933948534472077-HAT 2 does not exist!\n",
            "⚠️ Warning: /content/frames_local/8804442896427127-SHAVE 5 does not exist!\n",
            "\n",
            "⚠️ Warning: /content/frames_local/3638671509555982-KNIGHT 3 does not exist!⚠️ Warning: /content/frames_local/9846905180258816-POPULAR does not exist!\n",
            "\n",
            "⚠️ Warning: /content/frames_local/9042296326176025-DEPARTMENT does not exist!\n",
            "⚠️ Warning: /content/frames_local/16733794723743567-FORK 2 does not exist!⚠️ Warning: /content/frames_local/26211319186108906-NUT 2 does not exist!\n",
            "\n",
            "⚠️ Warning: /content/frames_local/612972147522407-WRESTLE does not exist!⚠️ Warning: /content/frames_local/3727122616989347-WEAK does not exist!\n",
            "\n",
            "⚠️ Warning: /content/frames_local/33196777588950654-FOUL does not exist!\n",
            "⚠️ Warning: /content/frames_local/18757227645215013-ONE MORE_2 does not exist!⚠️ Warning: /content/frames_local/46405112793368786-INDIAN does not exist!\n",
            "⚠️ Warning: /content/frames_local/6830603731978764-TWIRL does not exist!\n",
            "\n",
            "⚠️ Warning: /content/frames_local/3249757443890995-QM does not exist!\n",
            "⚠️ Warning: /content/frames_local/3094574541693922-POINT INDEX does not exist!⚠️ Warning: /content/frames_local/9109575286515792-SLIP does not exist!\n",
            "\n"
          ]
        },
        {
          "output_type": "stream",
          "name": "stderr",
          "text": [
            "\r  4%|▍         | 3497/83399 [00:21<08:47, 151.50it/s]"
          ]
        },
        {
          "output_type": "stream",
          "name": "stdout",
          "text": [
            "⚠️ Warning: /content/frames_local/13969487970733563-MEDICINE does not exist!⚠️ Warning: /content/frames_local/6033048125449101-CALL 2 does not exist!\n",
            "\n",
            "⚠️ Warning: /content/frames_local/05349749055968234-MIX 2 does not exist!⚠️ Warning: /content/frames_local/2290456408074184-GO does not exist!\n",
            "\n",
            "⚠️ Warning: /content/frames_local/04448768065548192-FORK 3 does not exist!⚠️ Warning: /content/frames_local/3264277177159398-SHOOT 2 does not exist!\n",
            "\n",
            "⚠️ Warning: /content/frames_local/661542316008862-FENCE 2 does not exist!⚠️ Warning: /content/frames_local/4179885145928237-TINY does not exist!\n",
            "\n",
            "⚠️ Warning: /content/frames_local/849935117206813-COINS does not exist!\n",
            "⚠️ Warning: /content/frames_local/06327853237943692-ALL does not exist!⚠️ Warning: /content/frames_local/8978054098882855-ALL OVER does not exist!\n",
            "⚠️ Warning: /content/frames_local/8207151623067233-WHISTLE 3 does not exist!\n",
            "\n",
            "⚠️ Warning: /content/frames_local/04742560646032534-MILK 2 does not exist!⚠️ Warning: /content/frames_local/42669144916997426-TRIANGLE does not exist!\n",
            "\n",
            "⚠️ Warning: /content/frames_local/007512272559422772-CAT 3 does not exist!⚠️ Warning: /content/frames_local/10673600991450427-GET IN_BED does not exist!\n",
            "\n",
            "⚠️ Warning: /content/frames_local/004186469584698038-POLICEMAN 2 does not exist!⚠️ Warning: /content/frames_local/807497670016361-CAKE does not exist!\n",
            "\n",
            "⚠️ Warning: /content/frames_local/8679915802043259-RABBIT 2 does not exist!⚠️ Warning: /content/frames_local/6474690742718054-PENNY does not exist!\n",
            "\n",
            "⚠️ Warning: /content/frames_local/729259077623091-8 HOUR does not exist!\n",
            "⚠️ Warning: /content/frames_local/05091378198643115-COPY does not exist!⚠️ Warning: /content/frames_local/06519515788077812-COMB does not exist!\n"
          ]
        },
        {
          "output_type": "stream",
          "name": "stderr",
          "text": [
            "\r  4%|▍         | 3519/83399 [00:21<07:55, 167.92it/s]"
          ]
        },
        {
          "output_type": "stream",
          "name": "stdout",
          "text": [
            "⚠️ Warning: /content/frames_local/6438618612308233-DUCK does not exist!\n",
            "⚠️ Warning: /content/frames_local/07770960749445921-MOUTH does not exist!\n",
            "\n",
            "⚠️ Warning: /content/frames_local/9930621674733857-PEG does not exist!⚠️ Warning: /content/frames_local/37322170902046103-MEAT does not exist!\n",
            "⚠️ Warning: /content/frames_local/9317883412793835-VLOG does not exist!\n",
            "\n",
            "⚠️ Warning: /content/frames_local/4770679536965312-REST ALL_DAY does not exist!⚠️ Warning: /content/frames_local/2682177051031396-BLINDS 2 does not exist!\n",
            "⚠️ Warning: /content/frames_local/588098469073461-METAL does not exist!\n",
            "⚠️ Warning: /content/frames_local/7625901289218462-CHEER does not exist!\n",
            "⚠️ Warning: /content/frames_local/336764959818153-GRAMMAR does not exist!\n",
            "⚠️ Warning: /content/frames_local/18007007901388916-RIGHT 3 does not exist!\n",
            "\n",
            "⚠️ Warning: /content/frames_local/1204408187589463-TEACH does not exist!⚠️ Warning: /content/frames_local/8827374809594617-DOWNLOAD does not exist!\n",
            "⚠️ Warning: /content/frames_local/7081997886148117-FINE does not exist!\n",
            "\n",
            "⚠️ Warning: /content/frames_local/3706983591559625-VOICE does not exist!\n",
            "⚠️ Warning: /content/frames_local/9117355925466168-HOW does not exist!⚠️ Warning: /content/frames_local/5558816402524853-SWEATER 2 does not exist!⚠️ Warning: /content/frames_local/9321530458098706-WALK-TIGHTROPE-CL does not exist!"
          ]
        },
        {
          "output_type": "stream",
          "name": "stderr",
          "text": [
            "\r  4%|▍         | 3537/83399 [00:21<08:23, 158.60it/s]"
          ]
        },
        {
          "output_type": "stream",
          "name": "stdout",
          "text": [
            "\n",
            "\n",
            "\n",
            "⚠️ Warning: /content/frames_local/9126495279932256-BABY 2 does not exist!⚠️ Warning: /content/frames_local/06911655011383755-SLIDE 2 does not exist!⚠️ Warning: /content/frames_local/9324927354661099-MYSELF does not exist!\n",
            "\n",
            "\n",
            "⚠️ Warning: /content/frames_local/5877524797592313-SHOCKED does not exist!⚠️ Warning: /content/frames_local/41997472901428834-OFFEND does not exist!\n",
            "⚠️ Warning: /content/frames_local/6270471309127157-DECORATE 1 does not exist!\n",
            "⚠️ Warning: /content/frames_local/03990387832754827-LONG LINE does not exist!\n",
            "⚠️ Warning: /content/frames_local/890581894235897-ENOUGH does not exist!\n",
            "⚠️ Warning: /content/frames_local/7614559865195942-UNCLE does not exist!\n",
            "\n",
            "⚠️ Warning: /content/frames_local/139181891007224-RHINO 3 does not exist!\n",
            "⚠️ Warning: /content/frames_local/34851922893251897-SKI does not exist!⚠️ Warning: /content/frames_local/7939514099629328-HELICOPTER does not exist!\n",
            "\n",
            "⚠️ Warning: /content/frames_local/5633034447592398-PEG 3 does not exist!⚠️ Warning: /content/frames_local/8118012997438901-DECIDE does not exist!\n",
            "\n",
            "⚠️ Warning: /content/frames_local/46489471471663557-ERUPT 2 does not exist!⚠️ Warning: /content/frames_local/9743801190366586-VOMIT does not exist!\n",
            "\n",
            "⚠️ Warning: /content/frames_local/21037721583063407-TOMATO does not exist!\n"
          ]
        },
        {
          "output_type": "stream",
          "name": "stderr",
          "text": [
            "\r  4%|▍         | 3555/83399 [00:21<08:11, 162.53it/s]"
          ]
        },
        {
          "output_type": "stream",
          "name": "stdout",
          "text": [
            "⚠️ Warning: /content/frames_local/34604076452778254-MICROSCOPE 3 does not exist!⚠️ Warning: /content/frames_local/03506137990077707-SINCE does not exist!\n",
            "⚠️ Warning: /content/frames_local/36922218250666106-BACK does not exist!\n",
            "\n",
            "⚠️ Warning: /content/frames_local/8551975236351863-PRETEND does not exist!⚠️ Warning: /content/frames_local/42966465414747-WASH 3 does not exist!\n",
            "\n",
            "⚠️ Warning: /content/frames_local/7393320986549736-FOREVER does not exist!\n",
            "⚠️ Warning: /content/frames_local/4442816677075816-SELECT does not exist!⚠️ Warning: /content/frames_local/719344299605839-WEIGH does not exist!\n",
            "\n",
            "⚠️ Warning: /content/frames_local/9199655806799358-COOPERATE does not exist!⚠️ Warning: /content/frames_local/18671953791084972-SUSHI does not exist!\n",
            "⚠️ Warning: /content/frames_local/8676867126730325-OFF does not exist!\n",
            "\n",
            "⚠️ Warning: /content/frames_local/679513243797484-STORY 1 does not exist!⚠️ Warning: /content/frames_local/25769140337954544-GHOST does not exist!\n",
            "\n",
            "⚠️ Warning: /content/frames_local/7302916828147414-SLIPPER does not exist!⚠️ Warning: /content/frames_local/0020382808137153763-ELEVEN does not exist!\n",
            "⚠️ Warning: /content/frames_local/9281661534444015-BRA 3 does not exist!\n",
            "⚠️ Warning: /content/frames_local/867932343918542-TEACH 2 does not exist!\n",
            "\n",
            "⚠️ Warning: /content/frames_local/8833913272396907-DEFLATE does not exist!⚠️ Warning: /content/frames_local/5785099037486217-CLOSE EYES does not exist!\n",
            "⚠️ Warning: /content/frames_local/9758972401486246-CLOUD 3 does not exist!"
          ]
        },
        {
          "output_type": "stream",
          "name": "stderr",
          "text": [
            "\r  4%|▍         | 3574/83399 [00:21<07:57, 167.22it/s]"
          ]
        },
        {
          "output_type": "stream",
          "name": "stdout",
          "text": [
            "\n",
            "\n",
            "⚠️ Warning: /content/frames_local/17954988915558756-BULL does not exist!⚠️ Warning: /content/frames_local/23491606058230863-CRAWL 2 does not exist!\n",
            "⚠️ Warning: /content/frames_local/46737223048953713-TENT does not exist!\n",
            "\n",
            "⚠️ Warning: /content/frames_local/0579303199896668-PEEL 3 does not exist!⚠️ Warning: /content/frames_local/9919542171847189-DIG does not exist!\n",
            "\n",
            "⚠️ Warning: /content/frames_local/7761558417613197-DIVIDE does not exist!⚠️ Warning: /content/frames_local/3399589812180257-PASSPORT does not exist!\n",
            "⚠️ Warning: /content/frames_local/46079150122385193-SHOVEL 2 does not exist!\n",
            "\n",
            "⚠️ Warning: /content/frames_local/005823214614921524-VASE does not exist!⚠️ Warning: /content/frames_local/7024594914520859-APART does not exist!\n",
            "⚠️ Warning: /content/frames_local/6885832426336675-HANG does not exist!\n",
            "⚠️ Warning: /content/frames_local/5734771039141753-WADE 2 does not exist!\n",
            "⚠️ Warning: /content/frames_local/711524762192554-KNIFE 2 does not exist!\n",
            "\n",
            "⚠️ Warning: /content/frames_local/2525320457909692-PINEAPPLE 4 does not exist!⚠️ Warning: /content/frames_local/5412945803721374-CRY 4 does not exist!\n",
            "\n",
            "⚠️ Warning: /content/frames_local/9578165423916076-CHEW 4 does not exist!"
          ]
        },
        {
          "output_type": "stream",
          "name": "stderr",
          "text": [
            "\r  4%|▍         | 3591/83399 [00:21<08:35, 154.84it/s]"
          ]
        },
        {
          "output_type": "stream",
          "name": "stdout",
          "text": [
            "\n",
            "⚠️ Warning: /content/frames_local/43808206853861686-WALRUS does not exist!⚠️ Warning: /content/frames_local/8931615450503703-CANNOT does not exist!\n",
            "⚠️ Warning: /content/frames_local/08031965341439107-CATCH 3 does not exist!\n",
            "⚠️ Warning: /content/frames_local/2820430184141105-BUBBLES does not exist!\n",
            "⚠️ Warning: /content/frames_local/3266860714987705-BISON does not exist!\n",
            "⚠️ Warning: /content/frames_local/5871066954722817-BLACKBIRD does not exist!\n",
            "\n",
            "⚠️ Warning: /content/frames_local/45271353642946033-PIZZA CUTTER does not exist!⚠️ Warning: /content/frames_local/41699711447604804-NINE does not exist!\n",
            "⚠️ Warning: /content/frames_local/7533173666977677-SALT SHAKER does not exist!\n",
            "\n",
            "⚠️ Warning: /content/frames_local/03616283033219392-PHYSICS does not exist!⚠️ Warning: /content/frames_local/8471757241063476-ROCKING CHAIR does not exist!\n",
            "\n",
            "⚠️ Warning: /content/frames_local/5948047953091902-GUIDE does not exist!⚠️ Warning: /content/frames_local/5122392240249911-ZOO does not exist!\n",
            "\n",
            "⚠️ Warning: /content/frames_local/6035730061583695-EASTER does not exist!⚠️ Warning: /content/frames_local/1780791390237062-WORD does not exist!\n",
            "\n",
            "⚠️ Warning: /content/frames_local/6544841610063592-HOLD ACCOUNTABLE does not exist!⚠️ Warning: /content/frames_local/6759519257237718-LIPREAD does not exist!\n"
          ]
        },
        {
          "output_type": "stream",
          "name": "stderr",
          "text": [
            "\r  4%|▍         | 3608/83399 [00:21<08:22, 158.68it/s]"
          ]
        },
        {
          "output_type": "stream",
          "name": "stdout",
          "text": [
            "\n",
            "⚠️ Warning: /content/frames_local/6105416559845231-SHAPE does not exist!⚠️ Warning: /content/frames_local/5006769541544143-REGISTER does not exist!\n",
            "\n",
            "⚠️ Warning: /content/frames_local/9916465679479949-GATE does not exist!⚠️ Warning: /content/frames_local/37821757589632177-PROPELLER 1 does not exist!\n",
            "\n",
            "⚠️ Warning: /content/frames_local/6171665948068537-NEXT does not exist!\n",
            "⚠️ Warning: /content/frames_local/3253364009512456-BREAKFAST does not exist!⚠️ Warning: /content/frames_local/16714309635039815-BOLT does not exist!\n",
            "\n",
            "⚠️ Warning: /content/frames_local/07807851209534378-DEAF does not exist!\n",
            "⚠️ Warning: /content/frames_local/17574522171759677-MAGNET does not exist!⚠️ Warning: /content/frames_local/33311392231058656-DRAGON does not exist!\n",
            "\n",
            "⚠️ Warning: /content/frames_local/3369226205882019-MUST does not exist!\n",
            "⚠️ Warning: /content/frames_local/191301938241349-SPORTS does not exist!⚠️ Warning: /content/frames_local/4889485962747655-JEALOUS does not exist!\n",
            "\n",
            "⚠️ Warning: /content/frames_local/9624269431661077-MEETING does not exist!⚠️ Warning: /content/frames_local/6081082733547987-SNEEZE does not exist!\n",
            "⚠️ Warning: /content/frames_local/22300404257000261-AWAY does not exist!\n",
            "\n",
            "⚠️ Warning: /content/frames_local/28773000239603386-KILL does not exist!\n"
          ]
        },
        {
          "output_type": "stream",
          "name": "stderr",
          "text": [
            "\r  4%|▍         | 3625/83399 [00:21<09:01, 147.31it/s]"
          ]
        },
        {
          "output_type": "stream",
          "name": "stdout",
          "text": [
            "⚠️ Warning: /content/frames_local/8686922353055204-NOT YET does not exist!⚠️ Warning: /content/frames_local/4605549971284748-HOW 2 does not exist!\n",
            "⚠️ Warning: /content/frames_local/6990298620670066-DRIP does not exist!\n",
            "\n",
            "⚠️ Warning: /content/frames_local/9720055483517562-ANTLERS does not exist!⚠️ Warning: /content/frames_local/4633311293922342-MONSTER does not exist!\n",
            "\n",
            "⚠️ Warning: /content/frames_local/03248616809009186-HERE does not exist!\n",
            "⚠️ Warning: /content/frames_local/25490705670736213-FORGETFUL does not exist!⚠️ Warning: /content/frames_local/19022708495593288-SEEM does not exist!\n",
            "\n",
            "⚠️ Warning: /content/frames_local/039484492892392975-CHRISTMAS does not exist!⚠️ Warning: /content/frames_local/14141815259340995-BETTER does not exist!\n",
            "\n",
            "⚠️ Warning: /content/frames_local/44791439571223357-QUIT does not exist!⚠️ Warning: /content/frames_local/9847375257863866-BANK does not exist!\n",
            "⚠️ Warning: /content/frames_local/008544076705374382-INSPIRING does not exist!\n",
            "⚠️ Warning: /content/frames_local/19530083172115087-GET THROUGH does not exist!\n",
            "\n",
            "⚠️ Warning: /content/frames_local/09511195099640579-SPAGHETTI does not exist!⚠️ Warning: /content/frames_local/5679085308115792-PLUNGER does not exist!\n",
            "⚠️ Warning: /content/frames_local/14232224230547974-SCORE does not exist!\n"
          ]
        },
        {
          "output_type": "stream",
          "name": "stderr",
          "text": [
            "\r  4%|▍         | 3641/83399 [00:21<09:38, 137.83it/s]"
          ]
        },
        {
          "output_type": "stream",
          "name": "stdout",
          "text": [
            "⚠️ Warning: /content/frames_local/623826601390506-CHEER does not exist!\n",
            "\n",
            "⚠️ Warning: /content/frames_local/877625191531151-GRAMMAR does not exist!⚠️ Warning: /content/frames_local/8581926682250871-RIGHT 3 does not exist!\n",
            "\n",
            "⚠️ Warning: /content/frames_local/31862387577768203-DOWNLOAD does not exist!⚠️ Warning: /content/frames_local/1491266813779153-TEACH does not exist!\n",
            "\n",
            "⚠️ Warning: /content/frames_local/9606737155753842-FINE does not exist!⚠️ Warning: /content/frames_local/802678548973063-VOICE does not exist!\n",
            "⚠️ Warning: /content/frames_local/9811460119529283-HOW does not exist!\n",
            "\n",
            "⚠️ Warning: /content/frames_local/06287357546170225-WALK-TIGHTROPE-CL does not exist!⚠️ Warning: /content/frames_local/6285622733225547-SWEATER 2 does not exist!\n",
            "\n",
            "⚠️ Warning: /content/frames_local/1642084105825128-BABY 2 does not exist!⚠️ Warning: /content/frames_local/6454633037530437-MYSELF does not exist!\n",
            "\n",
            "⚠️ Warning: /content/frames_local/4059116183897391-SLIDE 2 does not exist!⚠️ Warning: /content/frames_local/2383052705866906-OFFEND does not exist!\n",
            "\n",
            "⚠️ Warning: /content/frames_local/8129765866137466-SHOCKED does not exist!"
          ]
        },
        {
          "output_type": "stream",
          "name": "stderr",
          "text": [
            "\r  4%|▍         | 3656/83399 [00:22<09:48, 135.59it/s]"
          ]
        },
        {
          "output_type": "stream",
          "name": "stdout",
          "text": [
            "⚠️ Warning: /content/frames_local/49747407913363406-DECORATE 1 does not exist!\n",
            "⚠️ Warning: /content/frames_local/7852779859731991-LONG LINE does not exist!\n",
            "\n",
            "⚠️ Warning: /content/frames_local/03232052490769921-ENOUGH does not exist!⚠️ Warning: /content/frames_local/7613148444087081-UNCLE does not exist!\n",
            "\n",
            "⚠️ Warning: /content/frames_local/378964509484611-RHINO 3 does not exist!⚠️ Warning: /content/frames_local/355889026628051-SKI does not exist!\n",
            "\n",
            "⚠️ Warning: /content/frames_local/6815794915504234-HELICOPTER does not exist!⚠️ Warning: /content/frames_local/2464053408649325-DECIDE does not exist!\n",
            "⚠️ Warning: /content/frames_local/7951743307098991-PEG 3 does not exist!\n",
            "\n",
            "⚠️ Warning: /content/frames_local/4785316189832196-ERUPT 2 does not exist!⚠️ Warning: /content/frames_local/0324183392705486-VOMIT does not exist!\n",
            "\n",
            "⚠️ Warning: /content/frames_local/08404432500211634-TOMATO does not exist!⚠️ Warning: /content/frames_local/49931904838459795-SINCE does not exist!\n",
            "\n"
          ]
        },
        {
          "output_type": "stream",
          "name": "stderr",
          "text": [
            "\r  4%|▍         | 3670/83399 [00:22<09:53, 134.44it/s]"
          ]
        },
        {
          "output_type": "stream",
          "name": "stdout",
          "text": [
            "⚠️ Warning: /content/frames_local/4222177568610901-MICROSCOPE 3 does not exist!\n",
            "⚠️ Warning: /content/frames_local/5144823676835151-PRETEND does not exist!⚠️ Warning: /content/frames_local/6962599280659476-BACK does not exist!\n",
            "⚠️ Warning: /content/frames_local/02143150455074827-WASH 3 does not exist!\n",
            "⚠️ Warning: /content/frames_local/26316522698346856-FOREVER does not exist!\n",
            "\n",
            "⚠️ Warning: /content/frames_local/5015337346581263-SELECT does not exist!⚠️ Warning: /content/frames_local/03345906031164114-WEIGH does not exist!\n",
            "\n",
            "⚠️ Warning: /content/frames_local/8420096751810884-SUSHI does not exist!⚠️ Warning: /content/frames_local/8084019804332387-COOPERATE does not exist!\n",
            "⚠️ Warning: /content/frames_local/582914008466876-OFF does not exist!\n",
            "\n",
            "⚠️ Warning: /content/frames_local/7961220292181428-STORY 1 does not exist!\n",
            "⚠️ Warning: /content/frames_local/6138935397280385-GHOST does not exist!\n",
            "⚠️ Warning: /content/frames_local/14144156611834124-ELEVEN does not exist!⚠️ Warning: /content/frames_local/0021476777432911653-SLIPPER does not exist!\n",
            "\n"
          ]
        },
        {
          "output_type": "stream",
          "name": "stderr",
          "text": [
            "\r  4%|▍         | 3685/83399 [00:22<09:39, 137.50it/s]"
          ]
        },
        {
          "output_type": "stream",
          "name": "stdout",
          "text": [
            "⚠️ Warning: /content/frames_local/25958127403139497-BRA 3 does not exist!⚠️ Warning: /content/frames_local/9512087645828464-TEACH 2 does not exist!\n",
            "\n",
            "⚠️ Warning: /content/frames_local/9370332241731203-DEFLATE does not exist!⚠️ Warning: /content/frames_local/4195422371999784-CLOSE EYES does not exist!\n",
            "\n",
            "⚠️ Warning: /content/frames_local/3145641515947841-CRAWL 2 does not exist!⚠️ Warning: /content/frames_local/1526516818421384-CLOUD 3 does not exist!\n",
            "\n",
            "⚠️ Warning: /content/frames_local/02647254071796712-TENT does not exist!⚠️ Warning: /content/frames_local/7511624467849303-DIG does not exist!\n",
            "\n",
            "⚠️ Warning: /content/frames_local/36024269314699975-PASSPORT does not exist!\n",
            "⚠️ Warning: /content/frames_local/025877811534279704-DIVIDE does not exist!⚠️ Warning: /content/frames_local/5812608074262371-SHOVEL 2 does not exist!\n",
            "⚠️ Warning: /content/frames_local/9369021575995071-VASE does not exist!\n",
            "\n",
            "⚠️ Warning: /content/frames_local/3754612753260482-APART does not exist!⚠️ Warning: /content/frames_local/4919386087612896-HANG does not exist!\n",
            "\n",
            "⚠️ Warning: /content/frames_local/2559184054452599-WADE 2 does not exist!⚠️ Warning: /content/frames_local/6450475636912238-KNIFE 2 does not exist!\n"
          ]
        },
        {
          "output_type": "stream",
          "name": "stderr",
          "text": [
            "\r  4%|▍         | 3700/83399 [00:22<09:34, 138.75it/s]"
          ]
        },
        {
          "output_type": "stream",
          "name": "stdout",
          "text": [
            "\n",
            "⚠️ Warning: /content/frames_local/818662918422669-CRY 4 does not exist!⚠️ Warning: /content/frames_local/41679928565159896-PINEAPPLE 4 does not exist!\n",
            "⚠️ Warning: /content/frames_local/8978006198317003-CHEW 4 does not exist!\n",
            "\n",
            "⚠️ Warning: /content/frames_local/35670388621091154-BUBBLES does not exist!⚠️ Warning: /content/frames_local/09036392082384292-WALRUS does not exist!\n",
            "\n",
            "⚠️ Warning: /content/frames_local/6927229253429681-BISON does not exist!⚠️ Warning: /content/frames_local/9088246754473053-CATCH 3 does not exist!\n",
            "⚠️ Warning: /content/frames_local/8566050240550269-CANNOT does not exist!\n",
            "\n",
            "⚠️ Warning: /content/frames_local/6505109562483891-PIZZA CUTTER does not exist!⚠️ Warning: /content/frames_local/801845652462567-BLACKBIRD does not exist!\n",
            "\n",
            "⚠️ Warning: /content/frames_local/5867928082511735-SALT SHAKER does not exist!⚠️ Warning: /content/frames_local/8989506712887576-NINE does not exist!\n",
            "\n",
            "⚠️ Warning: /content/frames_local/4536921245711232-PHYSICS does not exist!⚠️ Warning: /content/frames_local/29979456948110217-ROCKING CHAIR does not exist!\n",
            "\n",
            "⚠️ Warning: /content/frames_local/6263501878156112-ZOO does not exist!⚠️ Warning: /content/frames_local/14205247816461464-GUIDE does not exist!\n"
          ]
        },
        {
          "output_type": "stream",
          "name": "stderr",
          "text": [
            "\r  4%|▍         | 3716/83399 [00:22<09:12, 144.15it/s]"
          ]
        },
        {
          "output_type": "stream",
          "name": "stdout",
          "text": [
            "\n",
            "⚠️ Warning: /content/frames_local/44859350812392873-WORD does not exist!\n",
            "⚠️ Warning: /content/frames_local/9827887009147387-EASTER does not exist!⚠️ Warning: /content/frames_local/4553208156056434-LIPREAD does not exist!\n",
            "⚠️ Warning: /content/frames_local/5159826960504508-HOLD ACCOUNTABLE does not exist!\n",
            "⚠️ Warning: /content/frames_local/3279372992424825-SHAPE does not exist!\n",
            "⚠️ Warning: /content/frames_local/45570209958510843-REGISTER does not exist!\n",
            "⚠️ Warning: /content/frames_local/598846366298684-GATE does not exist!\n",
            "\n",
            "⚠️ Warning: /content/frames_local/7689272619693217-PROPELLER 1 does not exist!⚠️ Warning: /content/frames_local/563564134170357-NEXT does not exist!\n",
            "⚠️ Warning: /content/frames_local/23598266126803202-BREAKFAST does not exist!\n",
            "\n",
            "⚠️ Warning: /content/frames_local/15231062869024448-BOLT does not exist!\n",
            "⚠️ Warning: /content/frames_local/14662097708148014-DEAF does not exist!\n",
            "⚠️ Warning: /content/frames_local/13449951700194984-DRAGON does not exist!\n",
            "⚠️ Warning: /content/frames_local/2741090571691924-MAGNET does not exist!⚠️ Warning: /content/frames_local/6096795736324836-MUST does not exist!\n",
            "\n"
          ]
        },
        {
          "output_type": "stream",
          "name": "stderr",
          "text": [
            "\r  4%|▍         | 3731/83399 [00:22<09:33, 138.95it/s]"
          ]
        },
        {
          "output_type": "stream",
          "name": "stdout",
          "text": [
            "⚠️ Warning: /content/frames_local/8799167739159115-JEALOUS does not exist!⚠️ Warning: /content/frames_local/6169763517104312-SPORTS does not exist!\n",
            "⚠️ Warning: /content/frames_local/24235708168245607-SNEEZE does not exist!\n",
            "\n",
            "⚠️ Warning: /content/frames_local/9725754838022094-MEETING does not exist!⚠️ Warning: /content/frames_local/5378856428781442-AWAY does not exist!\n",
            "⚠️ Warning: /content/frames_local/7030068305359201-KILL does not exist!\n",
            "⚠️ Warning: /content/frames_local/909909857930171-NOT YET does not exist!\n",
            "\n",
            "⚠️ Warning: /content/frames_local/01736975825947895-DRIP does not exist!\n",
            "⚠️ Warning: /content/frames_local/34202486889563555-HOW 2 does not exist!\n",
            "⚠️ Warning: /content/frames_local/27806615564736403-ANTLERS does not exist!⚠️ Warning: /content/frames_local/1727831691812316-MONSTER does not exist!\n",
            "\n",
            "⚠️ Warning: /content/frames_local/7553779633092266-HERE does not exist!\n",
            "⚠️ Warning: /content/frames_local/38762875330402813-FORGETFUL does not exist!\n",
            "⚠️ Warning: /content/frames_local/13096068310120068-SEEM does not exist!⚠️ Warning: /content/frames_local/4258868809320071-CHRISTMAS does not exist!\n",
            "\n",
            "⚠️ Warning: /content/frames_local/5363052158801971-BETTER does not exist!"
          ]
        },
        {
          "output_type": "stream",
          "name": "stderr",
          "text": [
            "\r  4%|▍         | 3746/83399 [00:22<09:37, 137.88it/s]"
          ]
        },
        {
          "output_type": "stream",
          "name": "stdout",
          "text": [
            "\n",
            "⚠️ Warning: /content/frames_local/6377601001239444-QUIT does not exist!⚠️ Warning: /content/frames_local/1328802717381572-BANK does not exist!\n",
            "\n",
            "⚠️ Warning: /content/frames_local/1682539090573716-GET THROUGH does not exist!⚠️ Warning: /content/frames_local/9900249014984663-INSPIRING does not exist!\n",
            "\n",
            "⚠️ Warning: /content/frames_local/011368989166634424-CRACK does not exist!⚠️ Warning: /content/frames_local/031974093078753096-CREAM does not exist!\n",
            "\n",
            "⚠️ Warning: /content/frames_local/7096921998347272-RISK does not exist!⚠️ Warning: /content/frames_local/31514063915992985-NIGHT does not exist!\n",
            "⚠️ Warning: /content/frames_local/9701608041895233-BLOW MIND does not exist!\n",
            "\n",
            "⚠️ Warning: /content/frames_local/6418132021812264-CANCEL does not exist!⚠️ Warning: /content/frames_local/15567044917891737-PUSH does not exist!\n",
            "⚠️ Warning: /content/frames_local/49441741630556546-SWEATER does not exist!\n",
            "\n",
            "\n",
            "⚠️ Warning: /content/frames_local/5975961755159149-GRADE does not exist!⚠️ Warning: /content/frames_local/6250916908401603-RULE does not exist!⚠️ Warning: /content/frames_local/5848406199883687-BRING does not exist!\n",
            "\n",
            "⚠️ Warning: /content/frames_local/7102069680600573-MIME does not exist!⚠️ Warning: /content/frames_local/5200359290115273-SANTA does not exist!\n",
            "\n"
          ]
        },
        {
          "output_type": "stream",
          "name": "stderr",
          "text": [
            "\r  5%|▍         | 3764/83399 [00:22<08:59, 147.57it/s]"
          ]
        },
        {
          "output_type": "stream",
          "name": "stdout",
          "text": [
            "⚠️ Warning: /content/frames_local/9010430715549747-FIANCE does not exist!⚠️ Warning: /content/frames_local/8352280701159565-STRING does not exist!\n",
            "⚠️ Warning: /content/frames_local/734424277546865-SIT does not exist!\n",
            "\n",
            "⚠️ Warning: /content/frames_local/2881209408310246-MARIONETTE does not exist!⚠️ Warning: /content/frames_local/2179855775757018-GO TO_JAIL does not exist!\n",
            "\n",
            "⚠️ Warning: /content/frames_local/014884345039386293-EAST does not exist!⚠️ Warning: /content/frames_local/8264338115666985-ESCAPE does not exist!\n",
            "\n",
            "⚠️ Warning: /content/frames_local/9377457094858119-BUS does not exist!⚠️ Warning: /content/frames_local/7554577748065125-PITCHER does not exist!\n",
            "\n",
            "⚠️ Warning: /content/frames_local/16797101002419068-TIRED OF does not exist!⚠️ Warning: /content/frames_local/26547279543346725-CHOPSTICKS does not exist!\n",
            "\n",
            "⚠️ Warning: /content/frames_local/8537511966384885-AWAKE does not exist!\n",
            "⚠️ Warning: /content/frames_local/5634931715919169-CLAP does not exist!⚠️ Warning: /content/frames_local/21431556144394115-BAT 2 does not exist!\n",
            "\n",
            "⚠️ Warning: /content/frames_local/8178793638428774-CAR BATTERY does not exist!"
          ]
        },
        {
          "output_type": "stream",
          "name": "stderr",
          "text": [
            "\r  5%|▍         | 3779/83399 [00:22<09:25, 140.86it/s]"
          ]
        },
        {
          "output_type": "stream",
          "name": "stdout",
          "text": [
            "⚠️ Warning: /content/frames_local/008712234252125528-SPOT SOMETHING does not exist!\n",
            "⚠️ Warning: /content/frames_local/718061734131717-GET INFORMATION_OUT_OF does not exist!\n",
            "\n",
            "⚠️ Warning: /content/frames_local/9580808401067789-BELIEVE does not exist!⚠️ Warning: /content/frames_local/635117000210083-EARLY does not exist!\n",
            "\n",
            "⚠️ Warning: /content/frames_local/5661337937471032-SLED 2 does not exist!\n",
            "⚠️ Warning: /content/frames_local/5575860201748282-CLOSET 2 does not exist!\n",
            "⚠️ Warning: /content/frames_local/38434113923205127-PORCUPINE does not exist!\n",
            "\n",
            "⚠️ Warning: /content/frames_local/3051172032160969-EFFECT does not exist!⚠️ Warning: /content/frames_local/8291491506273367-LOVE does not exist!\n",
            "⚠️ Warning: /content/frames_local/31288857429203554-NOT UNDERSTAND does not exist!\n",
            "⚠️ Warning: /content/frames_local/7977194036976256-FIT does not exist!\n",
            "⚠️ Warning: /content/frames_local/6353254859648017-INNOCENT does not exist!\n",
            "\n",
            "⚠️ Warning: /content/frames_local/6842100606252437-SAFE does not exist!⚠️ Warning: /content/frames_local/5370966083354538-DAUGHTER does not exist!⚠️ Warning: /content/frames_local/34447942196321857-SOMETIMES does not exist!\n",
            "\n",
            "⚠️ Warning: /content/frames_local/12423412914574494-SUIT does not exist!⚠️ Warning: /content/frames_local/5410548698642397-BLESS does not exist!\n",
            "⚠️ Warning: /content/frames_local/6703566785114554-WINDY does not exist!\n",
            "\n",
            "⚠️ Warning: /content/frames_local/6325675928394079-FINGER does not exist!"
          ]
        },
        {
          "output_type": "stream",
          "name": "stderr",
          "text": [
            "\r  5%|▍         | 3797/83399 [00:23<08:55, 148.58it/s]"
          ]
        },
        {
          "output_type": "stream",
          "name": "stdout",
          "text": [
            "\n",
            "⚠️ Warning: /content/frames_local/3895009471330897-FUN does not exist!⚠️ Warning: /content/frames_local/36715412075796094-CATCH does not exist!\n",
            "\n",
            "⚠️ Warning: /content/frames_local/38500349237522036-GATE CLOSE does not exist!\n",
            "⚠️ Warning: /content/frames_local/908062996019108-HALLOWEEN does not exist!⚠️ Warning: /content/frames_local/631218929417694-MISS does not exist!\n",
            "\n",
            "⚠️ Warning: /content/frames_local/8415676938010572-THRILLED does not exist!⚠️ Warning: /content/frames_local/973907622928849-STILL does not exist!\n",
            "\n",
            "⚠️ Warning: /content/frames_local/8652553634416884-SHUT OUT does not exist!\n",
            "⚠️ Warning: /content/frames_local/8630868746378109-RESTLESS does not exist!\n",
            "⚠️ Warning: /content/frames_local/6584846911041882-DINNER does not exist!\n",
            "⚠️ Warning: /content/frames_local/5592407172516034-RAISIN does not exist!\n",
            "⚠️ Warning: /content/frames_local/6208678466899815-SAVE does not exist!\n",
            "⚠️ Warning: /content/frames_local/43381999738419585-MUMMY does not exist!\n",
            "⚠️ Warning: /content/frames_local/40497498295245005-JOURNEY does not exist!⚠️ Warning: /content/frames_local/049822539324773096-DISPATCH does not exist!\n",
            "\n",
            "⚠️ Warning: /content/frames_local/1702727795360115-DEDICATE 2 does not exist!⚠️ Warning: /content/frames_local/0840016695687047-PLATFORM does not exist!\n",
            "\n"
          ]
        },
        {
          "output_type": "stream",
          "name": "stderr",
          "text": [
            "\r  5%|▍         | 3815/83399 [00:23<08:44, 151.71it/s]"
          ]
        },
        {
          "output_type": "stream",
          "name": "stdout",
          "text": [
            "⚠️ Warning: /content/frames_local/793970673925166-TO does not exist!\n",
            "⚠️ Warning: /content/frames_local/328552386499954-CALCULATOR does not exist!⚠️ Warning: /content/frames_local/34507259398099377-CROWN does not exist!\n",
            "⚠️ Warning: /content/frames_local/15359065293235918-SYSTEM does not exist!\n",
            "⚠️ Warning: /content/frames_local/2632445034521882-INSTEAD does not exist!\n",
            "⚠️ Warning: /content/frames_local/6073715820017473-SHOOTING does not exist!\n",
            "\n",
            "⚠️ Warning: /content/frames_local/9312541036592548-LAST WEEK does not exist!⚠️ Warning: /content/frames_local/492472111545067-EDIT does not exist!\n",
            "\n",
            "⚠️ Warning: /content/frames_local/027987851649929674-RETRIEVE does not exist!\n",
            "⚠️ Warning: /content/frames_local/16568090282929204-MAD does not exist!\n",
            "⚠️ Warning: /content/frames_local/8393829902606444-HAIRDRESSER does not exist!⚠️ Warning: /content/frames_local/37215419388114945-COMMUTE does not exist!\n",
            "\n",
            "⚠️ Warning: /content/frames_local/6784751149414607-I LOVE_YOU does not exist!\n",
            "⚠️ Warning: /content/frames_local/20513351538008995-BEND does not exist!\n",
            "⚠️ Warning: /content/frames_local/6790057320745049-AVERAGE does not exist!⚠️ Warning: /content/frames_local/7706083206836332-IMPRESS does not exist!\n",
            "\n",
            "⚠️ Warning: /content/frames_local/49503009256056774-VOLUNTEER does not exist!"
          ]
        },
        {
          "output_type": "stream",
          "name": "stderr",
          "text": [
            "\r  5%|▍         | 3831/83399 [00:23<09:35, 138.27it/s]"
          ]
        },
        {
          "output_type": "stream",
          "name": "stdout",
          "text": [
            "⚠️ Warning: /content/frames_local/13293206235306632-OIL does not exist!\n",
            "\n",
            "⚠️ Warning: /content/frames_local/6140750842658877-STAY does not exist!⚠️ Warning: /content/frames_local/6645944228152163-VANISH does not exist!\n",
            "\n",
            "⚠️ Warning: /content/frames_local/8589784706899264-RIVER does not exist!\n",
            "⚠️ Warning: /content/frames_local/30474782513037013-LUCK does not exist!⚠️ Warning: /content/frames_local/9800927897100189-HUNDRED does not exist!\n",
            "\n",
            "⚠️ Warning: /content/frames_local/535097710333182-NO BIG_DEAL does not exist!\n",
            "⚠️ Warning: /content/frames_local/40458831457330513-CLOSE DOOR does not exist!⚠️ Warning: /content/frames_local/7432560177781751-NECK does not exist!\n",
            "\n",
            "⚠️ Warning: /content/frames_local/10598328043940142-AXE does not exist!\n",
            "⚠️ Warning: /content/frames_local/9383212308575664-HEAP does not exist!⚠️ Warning: /content/frames_local/7419159984271644-ALL OVER_BODY does not exist!\n",
            "⚠️ Warning: /content/frames_local/09267903800180943-DONT CARE does not exist!\n",
            "\n",
            "⚠️ Warning: /content/frames_local/4069869676230091-ACQUIRE does not exist!\n",
            "⚠️ Warning: /content/frames_local/46173419785906544-CULTURE does not exist!⚠️ Warning: /content/frames_local/6424745926257642-SHAME ON_YOU does not exist!\n",
            "⚠️ Warning: /content/frames_local/8332260785649579-NAKED does not exist!\n",
            "\n",
            "⚠️ Warning: /content/frames_local/9473488432582595-BURP does not exist!"
          ]
        },
        {
          "output_type": "stream",
          "name": "stderr",
          "text": [
            "\r  5%|▍         | 3850/83399 [00:23<08:45, 151.38it/s]"
          ]
        },
        {
          "output_type": "stream",
          "name": "stdout",
          "text": [
            "⚠️ Warning: /content/frames_local/5918249842078915-TOPIC does not exist!\n",
            "\n",
            "⚠️ Warning: /content/frames_local/2613835132198623-STORY 2 does not exist!⚠️ Warning: /content/frames_local/08689387531142545-MANAGE does not exist!\n",
            "⚠️ Warning: /content/frames_local/4848890775914778-PROFOUNDLY DEAF does not exist!\n",
            "\n",
            "⚠️ Warning: /content/frames_local/0854900448461906-WHY NOT does not exist!⚠️ Warning: /content/frames_local/006797297377982181-READY does not exist!\n",
            "⚠️ Warning: /content/frames_local/5894769458824805-CASUAL does not exist!\n",
            "\n",
            "⚠️ Warning: /content/frames_local/23587809676199378-AT does not exist!⚠️ Warning: /content/frames_local/26196362623087843-BABYSITTER does not exist!\n",
            "⚠️ Warning: /content/frames_local/45637715353476027-WIND does not exist!\n",
            "⚠️ Warning: /content/frames_local/8341869735179095-LAW does not exist!\n",
            "\n",
            "⚠️ Warning: /content/frames_local/2914543558337941-SCRATCH does not exist!⚠️ Warning: /content/frames_local/06906474380961747-PRIORITY does not exist!\n",
            "\n",
            "⚠️ Warning: /content/frames_local/22642763016312428-KITTEN does not exist!⚠️ Warning: /content/frames_local/5329719287415142-INTERVENE does not exist!\n",
            "⚠️ Warning: /content/frames_local/5073347254541987-TAKE NOTES does not exist!\n",
            "⚠️ Warning: /content/frames_local/5592729674908328-DOG does not exist!"
          ]
        },
        {
          "output_type": "stream",
          "name": "stderr",
          "text": [
            "\r  5%|▍         | 3866/83399 [00:23<09:07, 145.33it/s]"
          ]
        },
        {
          "output_type": "stream",
          "name": "stdout",
          "text": [
            "\n",
            "\n",
            "⚠️ Warning: /content/frames_local/48148294294940164-HOE does not exist!⚠️ Warning: /content/frames_local/5262833334404893-YOYO does not exist!\n",
            "\n",
            "⚠️ Warning: /content/frames_local/8602440349875171-COMPLAIN does not exist!\n",
            "⚠️ Warning: /content/frames_local/28197463748970386-WELCOME does not exist!⚠️ Warning: /content/frames_local/10600972734543368-TRUCK 2 does not exist!\n",
            "\n",
            "⚠️ Warning: /content/frames_local/725056754340963-TWINS does not exist!\n",
            "⚠️ Warning: /content/frames_local/08061365284475452-PERIOD does not exist!⚠️ Warning: /content/frames_local/4362515209350797-GO THROUGH does not exist!\n",
            "\n",
            "⚠️ Warning: /content/frames_local/3523191235503629-TAKE OFF does not exist!⚠️ Warning: /content/frames_local/04501318655895803-SEAL does not exist!\n",
            "⚠️ Warning: /content/frames_local/5214460163413042-SITUATION does not exist!\n",
            "\n",
            "⚠️ Warning: /content/frames_local/7302821807044069-INSTAGRAM does not exist!⚠️ Warning: /content/frames_local/806035070100342-ORGANIZATION does not exist!\n",
            "\n",
            "⚠️ Warning: /content/frames_local/04226221526527296-MAGNIFY 1 does not exist!⚠️ Warning: /content/frames_local/4077647707700227-VEST does not exist!\n",
            "\n",
            "⚠️ Warning: /content/frames_local/7301223061032776-OPINION 2 does not exist!⚠️ Warning: /content/frames_local/1921492808180485-WALK 2 does not exist!"
          ]
        },
        {
          "output_type": "stream",
          "name": "stderr",
          "text": [
            "\r  5%|▍         | 3883/83399 [00:23<08:44, 151.71it/s]"
          ]
        },
        {
          "output_type": "stream",
          "name": "stdout",
          "text": [
            "\n",
            "⚠️ Warning: /content/frames_local/9873047411394491-PERSUADE does not exist!\n",
            "\n",
            "⚠️ Warning: /content/frames_local/46334943811386897-CONFIDENTIAL does not exist!⚠️ Warning: /content/frames_local/7334998764661087-DONKEY does not exist!\n",
            "\n",
            "⚠️ Warning: /content/frames_local/023719810548580744-RETIRE does not exist!⚠️ Warning: /content/frames_local/6272898217693557-SKILL does not exist!\n",
            "⚠️ Warning: /content/frames_local/9790559850277447-LEFT does not exist!\n",
            "⚠️ Warning: /content/frames_local/1078983645595677-SCREWDRIVER 3 does not exist!\n",
            "\n",
            "⚠️ Warning: /content/frames_local/5173096835460578-FANTASY does not exist!⚠️ Warning: /content/frames_local/638644129541738-SCULPT does not exist!\n",
            "⚠️ Warning: /content/frames_local/1834778016616545-CLASH does not exist!\n",
            "\n",
            "⚠️ Warning: /content/frames_local/13037030284147288-ENERGY does not exist!⚠️ Warning: /content/frames_local/4321960731992922-ANALYZE does not exist!\n",
            "\n",
            "⚠️ Warning: /content/frames_local/9123315944616084-POP 2 does not exist!⚠️ Warning: /content/frames_local/7144851621415824-VALLEY does not exist!\n",
            "\n",
            "⚠️ Warning: /content/frames_local/3947204677720608-FOND does not exist!⚠️ Warning: /content/frames_local/4575508638685921-SQUARE IDIOT does not exist!"
          ]
        },
        {
          "output_type": "stream",
          "name": "stderr",
          "text": [
            "\r  5%|▍         | 3899/83399 [00:23<08:50, 149.77it/s]"
          ]
        },
        {
          "output_type": "stream",
          "name": "stdout",
          "text": [
            "\n",
            "\n",
            "⚠️ Warning: /content/frames_local/7488364792450493-VISITOR does not exist!\n",
            "⚠️ Warning: /content/frames_local/20894682881922577-SPILL 2 does not exist!⚠️ Warning: /content/frames_local/16494222438305361-SOFA does not exist!\n",
            "\n",
            "⚠️ Warning: /content/frames_local/6200599912746265-HEAR 2 does not exist!⚠️ Warning: /content/frames_local/28421039353810906-SKATEBOARDING 2 does not exist!\n",
            "⚠️ Warning: /content/frames_local/4885294701538685-GOING THROUGH_A_HARD_TIME does not exist!\n",
            "\n",
            "⚠️ Warning: /content/frames_local/7932662933238608-POUR 2 does not exist!⚠️ Warning: /content/frames_local/8480572475838701-YAWN 4 does not exist!\n",
            "\n",
            "⚠️ Warning: /content/frames_local/18123549863499044-DINNER does not exist!\n",
            "⚠️ Warning: /content/frames_local/9884166730434687-HUMMINGBIRD does not exist!⚠️ Warning: /content/frames_local/09886203907430358-CANCER does not exist!\n",
            "⚠️ Warning: /content/frames_local/5985361886447882-WHITE PERSON does not exist!\n",
            "\n",
            "⚠️ Warning: /content/frames_local/12994381709944003-STAY AWAKE_24HRS does not exist!⚠️ Warning: /content/frames_local/6878832910535491-BAG 2 does not exist!\n",
            "⚠️ Warning: /content/frames_local/3119968364230643-NONSENSE does not exist!\n",
            "\n",
            "⚠️ Warning: /content/frames_local/6013095040093945-NETWORK does not exist!"
          ]
        },
        {
          "output_type": "stream",
          "name": "stderr",
          "text": [
            "\r  5%|▍         | 3915/83399 [00:23<09:22, 141.40it/s]"
          ]
        },
        {
          "output_type": "stream",
          "name": "stdout",
          "text": [
            "\n",
            "⚠️ Warning: /content/frames_local/9595255203933857-BITE does not exist!\n",
            "⚠️ Warning: /content/frames_local/0033913796536975127-QUALITY does not exist!⚠️ Warning: /content/frames_local/7788832561454975-SERVE 2 does not exist!\n",
            "⚠️ Warning: /content/frames_local/04124150651957481-SHOUT does not exist!\n",
            "\n",
            "⚠️ Warning: /content/frames_local/41497415274061766-OPEN does not exist!\n",
            "⚠️ Warning: /content/frames_local/35413285192076294-COMMENT does not exist!⚠️ Warning: /content/frames_local/2899130352852637-TRADITION does not exist!\n",
            "⚠️ Warning: /content/frames_local/6433486363606418-CORN 3 does not exist!\n",
            "\n",
            "⚠️ Warning: /content/frames_local/1384207128308954-ROAR 2 does not exist!⚠️ Warning: /content/frames_local/798376356424817-DEAF SCHOOL does not exist!\n",
            "\n",
            "⚠️ Warning: /content/frames_local/9725295528089819-MIDDLE does not exist!⚠️ Warning: /content/frames_local/9728164768205718-INCH does not exist!\n",
            "⚠️ Warning: /content/frames_local/07180071714474723-KISS FIST does not exist!\n",
            "⚠️ Warning: /content/frames_local/9883094655013422-SKATEBOARDING 3 does not exist!\n",
            "\n"
          ]
        },
        {
          "output_type": "stream",
          "name": "stderr",
          "text": [
            "\r  5%|▍         | 3930/83399 [00:23<09:50, 134.50it/s]"
          ]
        },
        {
          "output_type": "stream",
          "name": "stdout",
          "text": [
            "⚠️ Warning: /content/frames_local/27421595573335455-LICENSE does not exist!⚠️ Warning: /content/frames_local/7215920554003923-SIDE does not exist!\n",
            "\n",
            "⚠️ Warning: /content/frames_local/05057488244972719-LEAGUE does not exist!\n",
            "⚠️ Warning: /content/frames_local/01763316669214965-DOCTOR 2 does not exist!⚠️ Warning: /content/frames_local/38163602709154576-SKI-CA does not exist!\n",
            "⚠️ Warning: /content/frames_local/6528603518178866-SWEETHEART does not exist!\n",
            "\n",
            "⚠️ Warning: /content/frames_local/3274515703834051-TEAR RIP_2 does not exist!⚠️ Warning: /content/frames_local/02296398426660473-ALIGN does not exist!\n",
            "⚠️ Warning: /content/frames_local/6092925139675291-SPACESHIP does not exist!\n",
            "⚠️ Warning: /content/frames_local/39132734202379904-MAGNET 2 does not exist!\n",
            "\n",
            "⚠️ Warning: /content/frames_local/9446810437070399-TEENAGER does not exist!⚠️ Warning: /content/frames_local/5685785058297523-PEG 2 does not exist!\n",
            "\n",
            "⚠️ Warning: /content/frames_local/9405279263400166-PUMPKIN does not exist!⚠️ Warning: /content/frames_local/30534868065395737-ATTITUDE does not exist!\n",
            "\n",
            "⚠️ Warning: /content/frames_local/37619300538711764-STACK 4 does not exist!\n",
            "⚠️ Warning: /content/frames_local/3748592602020022-STRAWBERRY 3 does not exist!⚠️ Warning: /content/frames_local/9766016853008701-LAMP 2 does not exist!\n",
            "\n",
            "⚠️ Warning: /content/frames_local/47398785204350746-MODEL 1 does not exist!⚠️ Warning: /content/frames_local/04549753138930668-ADDICT does not exist!\n"
          ]
        },
        {
          "output_type": "stream",
          "name": "stderr",
          "text": [
            "\r  5%|▍         | 3949/83399 [00:24<08:59, 147.27it/s]"
          ]
        },
        {
          "output_type": "stream",
          "name": "stdout",
          "text": [
            "\n",
            "⚠️ Warning: /content/frames_local/006563704798399517-FOURTH does not exist!\n",
            "⚠️ Warning: /content/frames_local/2405345563160981-STING does not exist!⚠️ Warning: /content/frames_local/10973181496513762-KANGAROO 2 does not exist!\n",
            "\n",
            "⚠️ Warning: /content/frames_local/5968197309234848-FROWN 2 does not exist!\n",
            "⚠️ Warning: /content/frames_local/04883193187913193-POOP does not exist!⚠️ Warning: /content/frames_local/290357672883057-PISSED OFF does not exist!\n",
            "\n",
            "⚠️ Warning: /content/frames_local/12113286592251526-GUN 3 does not exist!\n",
            "⚠️ Warning: /content/frames_local/9582575627933281-RECENT does not exist!\n",
            "⚠️ Warning: /content/frames_local/5500259346963341-WRISTWATCH 3 does not exist!⚠️ Warning: /content/frames_local/3285170663728809-FEEDBACK does not exist!\n",
            "\n",
            "⚠️ Warning: /content/frames_local/7604090985504184-LOSE GAME does not exist!\n",
            "⚠️ Warning: /content/frames_local/769912465362145-LOST does not exist!⚠️ Warning: /content/frames_local/46219887716632324-1 DOLLAR does not exist!\n",
            "\n",
            "⚠️ Warning: /content/frames_local/6561790522946447-PINEAPPLE 5 does not exist!\n",
            "⚠️ Warning: /content/frames_local/1076563390002705-PUNISH does not exist!⚠️ Warning: /content/frames_local/7265074877585485-MIND TURNED does not exist!\n",
            "\n",
            "⚠️ Warning: /content/frames_local/14860336486007109-ERASE 3 does not exist!\n",
            "⚠️ Warning: /content/frames_local/13433368212153085-LOAD 2 does not exist!⚠️ Warning: /content/frames_local/4962096514344341-GLASS 2 does not exist!\n",
            "\n",
            "⚠️ Warning: /content/frames_local/7332155826078837-HARD OF_HEARING does not exist!\n"
          ]
        },
        {
          "output_type": "stream",
          "name": "stderr",
          "text": [
            "\r  5%|▍         | 3968/83399 [00:24<08:30, 155.52it/s]"
          ]
        },
        {
          "output_type": "stream",
          "name": "stdout",
          "text": [
            "⚠️ Warning: /content/frames_local/10714338102059529-TRIP 1 does not exist!⚠️ Warning: /content/frames_local/2870553947965102-REGULAR does not exist!\n",
            "⚠️ Warning: /content/frames_local/8105119250658037-WASH MACHINE does not exist!\n",
            "⚠️ Warning: /content/frames_local/6613388106940807-FEED 2 does not exist!\n",
            "\n",
            "⚠️ Warning: /content/frames_local/13506367353045134-WINDMILL 3 does not exist!\n",
            "⚠️ Warning: /content/frames_local/21166861712980412-EITHER does not exist!⚠️ Warning: /content/frames_local/4006558181570621-BRAINSTORM does not exist!\n",
            "⚠️ Warning: /content/frames_local/9143992286200735-LOCK 3 does not exist!\n",
            "\n",
            "⚠️ Warning: /content/frames_local/5477693386206335-SOMERSAULT does not exist!⚠️ Warning: /content/frames_local/8283162021537642-SHOUT 2 does not exist!\n",
            "⚠️ Warning: /content/frames_local/3791297593799776-INEPT does not exist!\n",
            "\n",
            "⚠️ Warning: /content/frames_local/21166144639460516-WHOLE does not exist!\n",
            "⚠️ Warning: /content/frames_local/5784303303146459-SUPERIOR does not exist!\n",
            "⚠️ Warning: /content/frames_local/4852960396832293-SAME SAME does not exist!\n",
            "⚠️ Warning: /content/frames_local/18346556667366354-JUMP does not exist!⚠️ Warning: /content/frames_local/135954469620567-FOOL does not exist!\n",
            "\n",
            "⚠️ Warning: /content/frames_local/5301201827063724-POP 3 does not exist!\n",
            "⚠️ Warning: /content/frames_local/7467132500000673-FLASHLIGHT 1 does not exist!\n",
            "⚠️ Warning: /content/frames_local/6897280672292563-BED 2 does not exist!⚠️ Warning: /content/frames_local/2603033322019441-FAST does not exist!\n",
            "⚠️ Warning: /content/frames_local/7812925284263643-JEWISH does not exist!\n"
          ]
        },
        {
          "output_type": "stream",
          "name": "stderr",
          "text": [
            "\r  5%|▍         | 3990/83399 [00:24<07:47, 169.74it/s]"
          ]
        },
        {
          "output_type": "stream",
          "name": "stdout",
          "text": [
            "⚠️ Warning: /content/frames_local/42181711204099215-IMAGINE 2 does not exist!\n",
            "\n",
            "⚠️ Warning: /content/frames_local/8271056147520219-CURTSEY 2 does not exist!⚠️ Warning: /content/frames_local/835367629012606-HAIRDRYER 2 does not exist!\n",
            "⚠️ Warning: /content/frames_local/9940240968539604-PICK 2 does not exist!\n",
            "\n",
            "⚠️ Warning: /content/frames_local/9919647830425613-SCOOP does not exist!⚠️ Warning: /content/frames_local/9267839058823386-MAGNIFY 2 does not exist!\n",
            "⚠️ Warning: /content/frames_local/34643685207865804-CHRISTMAS does not exist!\n",
            "\n",
            "⚠️ Warning: /content/frames_local/6352739647878565-UNDERGRADUATE does not exist!⚠️ Warning: /content/frames_local/4980420966011403-STAMP does not exist!\n",
            "\n",
            "⚠️ Warning: /content/frames_local/07092598875145306-HONOR does not exist!⚠️ Warning: /content/frames_local/903284831104648-ASSEMBLY does not exist!\n",
            "⚠️ Warning: /content/frames_local/07893366237759558-STOP does not exist!\n",
            "\n",
            "⚠️ Warning: /content/frames_local/5710207985713247-STRAWBERRY 4 does not exist!⚠️ Warning: /content/frames_local/7078177016906584-SNOWBOARD does not exist!\n",
            "\n",
            "⚠️ Warning: /content/frames_local/10064912264926962-PARACHUTE 3 does not exist!⚠️ Warning: /content/frames_local/9404252639426169-TIE UP_2 does not exist!\n",
            "\n",
            "⚠️ Warning: /content/frames_local/7726660274520121-BARK 2 does not exist!⚠️ Warning: /content/frames_local/16862137110253483-GUN 2 does not exist!\n"
          ]
        },
        {
          "output_type": "stream",
          "name": "stderr",
          "text": [
            "\r  5%|▍         | 4008/83399 [00:24<07:46, 170.35it/s]"
          ]
        },
        {
          "output_type": "stream",
          "name": "stdout",
          "text": [
            "\n",
            "⚠️ Warning: /content/frames_local/7009582107349075-TAIL 2 does not exist!⚠️ Warning: /content/frames_local/8532019002516755-THINK CHIN does not exist!\n",
            "\n",
            "⚠️ Warning: /content/frames_local/6773066510486812-MONEY 2 does not exist!\n",
            "⚠️ Warning: /content/frames_local/22557588909046955-REMEMBER does not exist!\n",
            "⚠️ Warning: /content/frames_local/4342737241901915-SEE does not exist!⚠️ Warning: /content/frames_local/4045988227655797-OFF THE_POINT does not exist!\n",
            "\n",
            "⚠️ Warning: /content/frames_local/5934517520309206-STUPID 2 does not exist!\n",
            "⚠️ Warning: /content/frames_local/4516361781758005-THINK PONDER does not exist!⚠️ Warning: /content/frames_local/8390642529013135-BLUE does not exist!\n",
            "⚠️ Warning: /content/frames_local/005075778906362904-LIST does not exist!\n",
            "\n",
            "⚠️ Warning: /content/frames_local/4867159144726114-MASCARA does not exist!⚠️ Warning: /content/frames_local/049642531632886344-SWEEP does not exist!\n",
            "⚠️ Warning: /content/frames_local/22120236172200158-NEVER does not exist!\n",
            "\n",
            "⚠️ Warning: /content/frames_local/3376704467810132-PITY does not exist!⚠️ Warning: /content/frames_local/09753822691433944-MAGNET 4 does not exist!\n",
            "⚠️ Warning: /content/frames_local/10779481587650452-KNITTING 2 does not exist!\n",
            "\n",
            "⚠️ Warning: /content/frames_local/9431675725138196-PROTECTION does not exist!⚠️ Warning: /content/frames_local/6988815394554504-CRY 3 does not exist!\n"
          ]
        },
        {
          "output_type": "stream",
          "name": "stderr",
          "text": [
            "\r  5%|▍         | 4026/83399 [00:24<08:15, 160.17it/s]"
          ]
        },
        {
          "output_type": "stream",
          "name": "stdout",
          "text": [
            "\n",
            "⚠️ Warning: /content/frames_local/19254126644148561-DRILL does not exist!⚠️ Warning: /content/frames_local/171911497468618-BUCKLE 1 does not exist!\n",
            "\n",
            "⚠️ Warning: /content/frames_local/5468018363902838-METAPHOR does not exist!⚠️ Warning: /content/frames_local/0417862802865443-ITALY does not exist!\n",
            "\n",
            "⚠️ Warning: /content/frames_local/2398143084376987-FOLD 2 does not exist!⚠️ Warning: /content/frames_local/7954007812281452-BATTERY does not exist!\n",
            "⚠️ Warning: /content/frames_local/5977762842020984-THINK does not exist!\n",
            "\n",
            "⚠️ Warning: /content/frames_local/1982759539122445-RHINO does not exist!⚠️ Warning: /content/frames_local/010395668496685273-PLOW 2 does not exist!\n",
            "⚠️ Warning: /content/frames_local/8071266663340491-BEARD does not exist!\n",
            "\n",
            "⚠️ Warning: /content/frames_local/066255816355131-PANTS 2 does not exist!⚠️ Warning: /content/frames_local/19853991105471303-SCARF 4 does not exist!\n",
            "\n",
            "⚠️ Warning: /content/frames_local/9532770927245917-YAWN 3 does not exist!⚠️ Warning: /content/frames_local/8162159334854617-DENTIST 2 does not exist!\n",
            "⚠️ Warning: /content/frames_local/038565783766003614-WINE does not exist!\n",
            "⚠️ Warning: /content/frames_local/20298611374209274-OWN does not exist!\n",
            "\n",
            "⚠️ Warning: /content/frames_local/5446958870984302-SMALL does not exist!⚠️ Warning: /content/frames_local/6023892383779621-JAPAN does not exist!\n"
          ]
        },
        {
          "output_type": "stream",
          "name": "stderr",
          "text": [
            "\r  5%|▍         | 4043/83399 [00:24<08:52, 149.03it/s]"
          ]
        },
        {
          "output_type": "stream",
          "name": "stdout",
          "text": [
            "⚠️ Warning: /content/frames_local/11148747063106001-LOSE does not exist!\n",
            "\n",
            "⚠️ Warning: /content/frames_local/9980089339695539-WRISTWATCH 2 does not exist!⚠️ Warning: /content/frames_local/32157771532515733-INTRODUCE does not exist!\n",
            "⚠️ Warning: /content/frames_local/04508877996452987-MEDITATE 2 does not exist!\n",
            "⚠️ Warning: /content/frames_local/356600808938212-SHINY does not exist!\n",
            "\n",
            "⚠️ Warning: /content/frames_local/029055830058072774-MAIL does not exist!⚠️ Warning: /content/frames_local/8401209594869978-HELMET does not exist!\n",
            "\n",
            "⚠️ Warning: /content/frames_local/7001602028900342-BOTTLE does not exist!⚠️ Warning: /content/frames_local/8183157897434707-DROWN 4 does not exist!\n",
            "\n",
            "⚠️ Warning: /content/frames_local/5271558776548799-KANGAROO does not exist!⚠️ Warning: /content/frames_local/8870572951279878-ERASE 5 does not exist!\n",
            "\n",
            "⚠️ Warning: /content/frames_local/06562237237467672-CANDY 2 does not exist!⚠️ Warning: /content/frames_local/26543758514272575-WINK does not exist!\n",
            "⚠️ Warning: /content/frames_local/8155229305795542-CASTLE 4 does not exist!\n",
            "⚠️ Warning: /content/frames_local/17114094265758406-BRAIDS does not exist!\n",
            "\n"
          ]
        },
        {
          "output_type": "stream",
          "name": "stderr",
          "text": [
            "\r  5%|▍         | 4059/83399 [00:24<09:02, 146.16it/s]"
          ]
        },
        {
          "output_type": "stream",
          "name": "stdout",
          "text": [
            "⚠️ Warning: /content/frames_local/48769483516316026-STEAL does not exist!⚠️ Warning: /content/frames_local/2580996150082284-BEHAVIOR does not exist!\n",
            "\n",
            "⚠️ Warning: /content/frames_local/027816838285841916-WHAT 2 does not exist!\n",
            "⚠️ Warning: /content/frames_local/02490137063434572-CATEGORY does not exist!\n",
            "⚠️ Warning: /content/frames_local/8176681437393638-RAKE does not exist!⚠️ Warning: /content/frames_local/006384257747789057-FEW does not exist!\n",
            "\n",
            "⚠️ Warning: /content/frames_local/2183014506301153-ZERO does not exist!⚠️ Warning: /content/frames_local/557055714340531-CLEFTCHIN does not exist!\n",
            "⚠️ Warning: /content/frames_local/05154230822785655-STEP does not exist!\n",
            "⚠️ Warning: /content/frames_local/4048867714868354-IGNORE does not exist!\n",
            "\n",
            "⚠️ Warning: /content/frames_local/10653100491617806-EARRING does not exist!\n",
            "⚠️ Warning: /content/frames_local/19769118607204295-FASCINATED does not exist!⚠️ Warning: /content/frames_local/10458437135448317-MISUNDERSTAND does not exist!\n",
            "⚠️ Warning: /content/frames_local/5266443091328081-HOLD TOGETHER does not exist!\n",
            "\n",
            "⚠️ Warning: /content/frames_local/5542935741710973-COME OUT does not exist!⚠️ Warning: /content/frames_local/8876638287648129-VACUUM does not exist!\n",
            "\n",
            "⚠️ Warning: /content/frames_local/6849051691440626-COUNTRY does not exist!⚠️ Warning: /content/frames_local/5023449532986888-MISCHIEVOUS does not exist!\n"
          ]
        },
        {
          "output_type": "stream",
          "name": "stderr",
          "text": [
            "\r  5%|▍         | 4077/83399 [00:24<08:38, 153.10it/s]"
          ]
        },
        {
          "output_type": "stream",
          "name": "stdout",
          "text": [
            "⚠️ Warning: /content/frames_local/3473047085081138-HOSE does not exist!\n",
            "⚠️ Warning: /content/frames_local/7882574228742845-GRASP does not exist!\n",
            "\n",
            "⚠️ Warning: /content/frames_local/9733473831041732-COME does not exist!⚠️ Warning: /content/frames_local/8685824309197461-THROW AWAY does not exist!\n",
            "\n",
            "⚠️ Warning: /content/frames_local/7730414411841118-PRAYER does not exist!⚠️ Warning: /content/frames_local/1327334508655844-YELLOW does not exist!\n",
            "\n",
            "⚠️ Warning: /content/frames_local/9535487758035257-SCRUB does not exist!⚠️ Warning: /content/frames_local/2570647676865354-WRITE does not exist!\n",
            "⚠️ Warning: /content/frames_local/8926223490261513-BLOND does not exist!\n",
            "\n",
            "⚠️ Warning: /content/frames_local/7229611882779872-WAND does not exist!⚠️ Warning: /content/frames_local/2102101765959472-DONT KNOW does not exist!\n",
            "⚠️ Warning: /content/frames_local/3545126347672727-LIGHTS ON does not exist!\n",
            "\n",
            "⚠️ Warning: /content/frames_local/36590818365449396-REQUEST does not exist!⚠️ Warning: /content/frames_local/6748150903389767-MECHANIC does not exist!\n",
            "⚠️ Warning: /content/frames_local/3472688051006143-BACHELOR does not exist!\n",
            "\n",
            "⚠️ Warning: /content/frames_local/32923216310085124-GRIEVE does not exist!\n",
            "⚠️ Warning: /content/frames_local/36515721159992753-BERRY does not exist!⚠️ Warning: /content/frames_local/700046965513158-PUT IN_BACK_MIND does not exist!\n"
          ]
        },
        {
          "output_type": "stream",
          "name": "stderr",
          "text": [
            "\r  5%|▍         | 4095/83399 [00:24<08:14, 160.34it/s]"
          ]
        },
        {
          "output_type": "stream",
          "name": "stdout",
          "text": [
            "⚠️ Warning: /content/frames_local/9710533280846911-SEND does not exist!\n",
            "⚠️ Warning: /content/frames_local/14896237147199942-CROCODILE does not exist!\n",
            "⚠️ Warning: /content/frames_local/702527534770339-LUCKY does not exist!\n",
            "⚠️ Warning: /content/frames_local/053793340144622226-ALONE does not exist!\n",
            "⚠️ Warning: /content/frames_local/28692981184082744-DENY does not exist!\n",
            "⚠️ Warning: /content/frames_local/9835718721459028-THINK OVER does not exist!\n",
            "\n",
            "⚠️ Warning: /content/frames_local/2942057559669313-LIGHTNING does not exist!⚠️ Warning: /content/frames_local/5947453960317015-AXE does not exist!\n",
            "\n",
            "⚠️ Warning: /content/frames_local/8994889989122439-FOREVER 2 does not exist!⚠️ Warning: /content/frames_local/8882867223039437-LEARN LESSON does not exist!\n",
            "⚠️ Warning: /content/frames_local/3893021840905462-WHAT 1 does not exist!\n",
            "⚠️ Warning: /content/frames_local/439815833877236-GAY does not exist!\n",
            "⚠️ Warning: /content/frames_local/046944928678690934-PRIEST does not exist!\n",
            "\n",
            "\n",
            "⚠️ Warning: /content/frames_local/7081300806393873-SUMMARIZE does not exist!⚠️ Warning: /content/frames_local/039599857205202094-WINDOW OPEN does not exist!⚠️ Warning: /content/frames_local/9329518127051972-FROG does not exist!\n",
            "\n",
            "⚠️ Warning: /content/frames_local/5414651051103574-SPECIFIC does not exist!\n",
            "⚠️ Warning: /content/frames_local/25729930987639915-TAKE PILL does not exist!\n",
            "⚠️ Warning: /content/frames_local/7422484878347357-SNOWSUIT does not exist!\n"
          ]
        },
        {
          "output_type": "stream",
          "name": "stderr",
          "text": [
            "\r  5%|▍         | 4114/83399 [00:25<08:06, 163.07it/s]"
          ]
        },
        {
          "output_type": "stream",
          "name": "stdout",
          "text": [
            "⚠️ Warning: /content/frames_local/1394181455579162-BUY does not exist!\n",
            "⚠️ Warning: /content/frames_local/22294187921229391-FORBID does not exist!⚠️ Warning: /content/frames_local/12613067091418184-DARK does not exist!\n",
            "\n",
            "⚠️ Warning: /content/frames_local/0474413901944033-CAMCORDER does not exist!⚠️ Warning: /content/frames_local/2773772636445515-HALL does not exist!\n",
            "⚠️ Warning: /content/frames_local/29820086219649866-GRAB does not exist!\n",
            "⚠️ Warning: /content/frames_local/9429290314391598-FORK does not exist!\n",
            "\n",
            "⚠️ Warning: /content/frames_local/2009940245048003-KISS 2 does not exist!\n",
            "⚠️ Warning: /content/frames_local/7651660691924158-RUSH does not exist!⚠️ Warning: /content/frames_local/8771840768522989-TOY 1 does not exist!\n",
            "\n",
            "⚠️ Warning: /content/frames_local/561245430823361-POUR does not exist!⚠️ Warning: /content/frames_local/18105721142721598-FINANCE does not exist!\n",
            "\n",
            "⚠️ Warning: /content/frames_local/4913688086330612-HATE does not exist!⚠️ Warning: /content/frames_local/13316006185127205-HOT does not exist!\n",
            "⚠️ Warning: /content/frames_local/6934288592225919-DISLIKE does not exist!\n",
            "\n",
            "⚠️ Warning: /content/frames_local/27424963011125203-MEAT 2 does not exist!⚠️ Warning: /content/frames_local/4548610980272385-WOW does not exist!\n"
          ]
        },
        {
          "output_type": "stream",
          "name": "stderr",
          "text": [
            "\r  5%|▍         | 4131/83399 [00:25<08:41, 151.97it/s]"
          ]
        },
        {
          "output_type": "stream",
          "name": "stdout",
          "text": [
            "⚠️ Warning: /content/frames_local/2567721200508304-COWBOY does not exist!\n",
            "\n",
            "⚠️ Warning: /content/frames_local/15026470666998004-THIS-IT does not exist!⚠️ Warning: /content/frames_local/8023342988225846-GAMBLE does not exist!\n",
            "\n",
            "⚠️ Warning: /content/frames_local/5904321160876576-PAY OFF_BILLS does not exist!\n",
            "⚠️ Warning: /content/frames_local/7983724147020392-WASH DISHES does not exist!⚠️ Warning: /content/frames_local/4052932294209959-STRAIGHT does not exist!\n",
            "\n",
            "⚠️ Warning: /content/frames_local/880350293979757-PARTY does not exist!⚠️ Warning: /content/frames_local/39238395357637557-STATE does not exist!\n",
            "\n",
            "⚠️ Warning: /content/frames_local/24964719988269746-EVEN does not exist!⚠️ Warning: /content/frames_local/15464026077351978-SCORE does not exist!\n",
            "\n",
            "⚠️ Warning: /content/frames_local/7112889524448784-CRACK does not exist!⚠️ Warning: /content/frames_local/35901646800479714-CREAM does not exist!\n",
            "\n",
            "⚠️ Warning: /content/frames_local/2881015175838837-RISK does not exist!\n",
            "⚠️ Warning: /content/frames_local/6280906175309462-NIGHT does not exist!\n",
            "⚠️ Warning: /content/frames_local/28007998428632974-BLOW MIND does not exist!⚠️ Warning: /content/frames_local/633243741206347-CANCEL does not exist!\n"
          ]
        },
        {
          "output_type": "stream",
          "name": "stderr",
          "text": [
            "\r  5%|▍         | 4147/83399 [00:25<09:26, 139.94it/s]"
          ]
        },
        {
          "output_type": "stream",
          "name": "stdout",
          "text": [
            "\n",
            "⚠️ Warning: /content/frames_local/2978262551527655-SWEATER does not exist!\n",
            "⚠️ Warning: /content/frames_local/6884169499758941-GRADE does not exist!\n",
            "⚠️ Warning: /content/frames_local/905813578651556-PUSH does not exist!⚠️ Warning: /content/frames_local/3612775677619242-RULE does not exist!\n",
            "\n",
            "⚠️ Warning: /content/frames_local/7499297668445324-BRING does not exist!\n",
            "⚠️ Warning: /content/frames_local/13216550334574362-MIME does not exist!⚠️ Warning: /content/frames_local/4787944954314345-SANTA does not exist!\n",
            "\n",
            "⚠️ Warning: /content/frames_local/720120683663763-STRING does not exist!⚠️ Warning: /content/frames_local/9604791440462488-FIANCE does not exist!\n",
            "\n",
            "⚠️ Warning: /content/frames_local/6797750331673786-SIT does not exist!⚠️ Warning: /content/frames_local/44575351736700064-MARIONETTE does not exist!\n",
            "\n",
            "⚠️ Warning: /content/frames_local/7702099096605461-GO TO_JAIL does not exist!⚠️ Warning: /content/frames_local/5452240161577155-ESCAPE does not exist!\n",
            "\n",
            "⚠️ Warning: /content/frames_local/13611337572383508-EAST does not exist!⚠️ Warning: /content/frames_local/9186925388849532-BUS does not exist!\n",
            "⚠️ Warning: /content/frames_local/175838126064916-PITCHER does not exist!"
          ]
        },
        {
          "output_type": "stream",
          "name": "stderr",
          "text": [
            "\r  5%|▍         | 4162/83399 [00:25<09:45, 135.24it/s]"
          ]
        },
        {
          "output_type": "stream",
          "name": "stdout",
          "text": [
            "\n",
            "\n",
            "⚠️ Warning: /content/frames_local/30690091885433524-TIRED OF does not exist!⚠️ Warning: /content/frames_local/3712458061726571-CHOPSTICKS does not exist!\n",
            "\n",
            "⚠️ Warning: /content/frames_local/04952328884471102-AWAKE does not exist!⚠️ Warning: /content/frames_local/47478572534855745-CLAP does not exist!\n",
            "⚠️ Warning: /content/frames_local/3243235403610245-BAT 2 does not exist!\n",
            "\n",
            "⚠️ Warning: /content/frames_local/29570173536428945-CAR BATTERY does not exist!⚠️ Warning: /content/frames_local/1291295102647534-SPOT SOMETHING does not exist!\n",
            "⚠️ Warning: /content/frames_local/12056078002365433-GET INFORMATION_OUT_OF does not exist!\n",
            "\n",
            "⚠️ Warning: /content/frames_local/1694493902858618-EARLY does not exist!⚠️ Warning: /content/frames_local/050827589503813275-BELIEVE does not exist!\n",
            "\n",
            "⚠️ Warning: /content/frames_local/03776626166532382-SLED 2 does not exist!⚠️ Warning: /content/frames_local/003241760577470165-CLOSET 2 does not exist!\n",
            "\n"
          ]
        },
        {
          "output_type": "stream",
          "name": "stderr",
          "text": [
            "\r  5%|▌         | 4176/83399 [00:25<10:03, 131.34it/s]"
          ]
        },
        {
          "output_type": "stream",
          "name": "stdout",
          "text": [
            "⚠️ Warning: /content/frames_local/8786587149587048-PORCUPINE does not exist!⚠️ Warning: /content/frames_local/3914542417243707-EFFECT does not exist!\n",
            "\n",
            "⚠️ Warning: /content/frames_local/91143422155193-NOT UNDERSTAND does not exist!⚠️ Warning: /content/frames_local/544773713165329-LOVE does not exist!\n",
            "\n",
            "⚠️ Warning: /content/frames_local/08509410881335855-FIT does not exist!\n",
            "⚠️ Warning: /content/frames_local/08455401405597884-INNOCENT does not exist!⚠️ Warning: /content/frames_local/36264097335513856-DAUGHTER does not exist!\n",
            "⚠️ Warning: /content/frames_local/3962702126479418-SAFE does not exist!\n",
            "⚠️ Warning: /content/frames_local/5437960797906258-SOMETIMES does not exist!\n",
            "\n",
            "⚠️ Warning: /content/frames_local/14390292560324536-BLESS does not exist!⚠️ Warning: /content/frames_local/8686832123486647-SUIT does not exist!\n",
            "\n",
            "⚠️ Warning: /content/frames_local/9328368891488181-FINGER does not exist!⚠️ Warning: /content/frames_local/6021840254689375-WINDY does not exist!\n",
            "\n",
            "⚠️ Warning: /content/frames_local/6061494215567165-CATCH does not exist!⚠️ Warning: /content/frames_local/8469357034703355-FUN does not exist!\n",
            "\n"
          ]
        },
        {
          "output_type": "stream",
          "name": "stderr",
          "text": [
            "\r  5%|▌         | 4190/83399 [00:25<10:43, 123.07it/s]"
          ]
        },
        {
          "output_type": "stream",
          "name": "stdout",
          "text": [
            "⚠️ Warning: /content/frames_local/11000169412799554-GATE CLOSE does not exist!⚠️ Warning: /content/frames_local/5251212448232874-MISS does not exist!\n",
            "⚠️ Warning: /content/frames_local/11373297457714404-HALLOWEEN does not exist!\n",
            "⚠️ Warning: /content/frames_local/3535817721664345-THRILLED does not exist!\n",
            "⚠️ Warning: /content/frames_local/958342911125537-STILL does not exist!\n",
            "\n",
            "⚠️ Warning: /content/frames_local/43286134611740024-SHUT OUT does not exist!⚠️ Warning: /content/frames_local/7262160429010622-DINNER does not exist!\n",
            "⚠️ Warning: /content/frames_local/4126377121581837-RESTLESS does not exist!\n",
            "⚠️ Warning: /content/frames_local/6103641842022662-SAVE does not exist!\n",
            "⚠️ Warning: /content/frames_local/9705109723320577-RAISIN does not exist!\n",
            "\n",
            "⚠️ Warning: /content/frames_local/2938944223757969-MUMMY does not exist!⚠️ Warning: /content/frames_local/268152033830682-JOURNEY does not exist!\n",
            "⚠️ Warning: /content/frames_local/08202407532462441-DISPATCH does not exist!\n",
            "⚠️ Warning: /content/frames_local/37353150802687796-DEDICATE 2 does not exist!\n",
            "\n",
            "⚠️ Warning: /content/frames_local/3779897071084246-PLATFORM does not exist!⚠️ Warning: /content/frames_local/5869972126630754-TO does not exist!\n"
          ]
        },
        {
          "output_type": "stream",
          "name": "stderr",
          "text": [
            "\r  5%|▌         | 4205/83399 [00:25<10:20, 127.58it/s]"
          ]
        },
        {
          "output_type": "stream",
          "name": "stdout",
          "text": [
            "\n",
            "⚠️ Warning: /content/frames_local/7812346834002959-CALCULATOR does not exist!⚠️ Warning: /content/frames_local/5434211325071596-CROWN does not exist!\n",
            "\n",
            "⚠️ Warning: /content/frames_local/9293947320267397-SYSTEM does not exist!⚠️ Warning: /content/frames_local/5240379613942865-INSTEAD does not exist!\n",
            "\n",
            "⚠️ Warning: /content/frames_local/4044354621293942-SHOOTING does not exist!⚠️ Warning: /content/frames_local/38512187120274-LAST WEEK does not exist!\n",
            "⚠️ Warning: /content/frames_local/001816412710498927-EDIT does not exist!\n",
            "\n",
            "⚠️ Warning: /content/frames_local/1561513374242678-MAD does not exist!⚠️ Warning: /content/frames_local/40727367546794757-RETRIEVE does not exist!\n",
            "\n",
            "⚠️ Warning: /content/frames_local/7598348323601423-HAIRDRESSER does not exist!\n",
            "⚠️ Warning: /content/frames_local/12813794047556026-I LOVE_YOU does not exist!⚠️ Warning: /content/frames_local/4925254718049492-COMMUTE does not exist!\n",
            "⚠️ Warning: /content/frames_local/7132586414323079-BEND does not exist!\n",
            "\n",
            "⚠️ Warning: /content/frames_local/83838528698988-AVERAGE does not exist!⚠️ Warning: /content/frames_local/4886402589120049-IMPRESS does not exist!\n",
            "\n",
            "⚠️ Warning: /content/frames_local/6113197797200425-VOLUNTEER does not exist!⚠️ Warning: /content/frames_local/033066597092974215-OIL does not exist!\n"
          ]
        },
        {
          "output_type": "stream",
          "name": "stderr",
          "text": [
            "\r  5%|▌         | 4222/83399 [00:25<09:31, 138.44it/s]"
          ]
        },
        {
          "output_type": "stream",
          "name": "stdout",
          "text": [
            "\n",
            "⚠️ Warning: /content/frames_local/04562546544928736-STAY does not exist!⚠️ Warning: /content/frames_local/09369661845020749-LUCK does not exist!\n",
            "⚠️ Warning: /content/frames_local/09998699368043962-VANISH does not exist!⚠️ Warning: /content/frames_local/14452835191017854-RIVER does not exist!\n",
            "\n",
            "⚠️ Warning: /content/frames_local/4281321980650281-HUNDRED does not exist!⚠️ Warning: /content/frames_local/403123535827159-NO BIG_DEAL does not exist!\n",
            "\n",
            "\n",
            "⚠️ Warning: /content/frames_local/810265626942593-NECK does not exist!\n",
            "⚠️ Warning: /content/frames_local/8507462896210125-ALL OVER_BODY does not exist!\n",
            "⚠️ Warning: /content/frames_local/29360158406046777-AXE does not exist!⚠️ Warning: /content/frames_local/33940128183627616-CLOSE DOOR does not exist!\n",
            "\n",
            "⚠️ Warning: /content/frames_local/7048753709936411-HEAP does not exist!⚠️ Warning: /content/frames_local/05635967760820981-DONT CARE does not exist!\n",
            "\n",
            "⚠️ Warning: /content/frames_local/6384554939923557-ACQUIRE does not exist!\n",
            "⚠️ Warning: /content/frames_local/9740402865521542-SHAME ON_YOU does not exist!\n",
            "⚠️ Warning: /content/frames_local/7693489304131336-CULTURE does not exist!\n",
            "⚠️ Warning: /content/frames_local/6842755558416298-BURP does not exist!\n",
            "⚠️ Warning: /content/frames_local/06233360736856697-NAKED does not exist!\n",
            "⚠️ Warning: /content/frames_local/44720922535063035-TOPIC does not exist!\n",
            "⚠️ Warning: /content/frames_local/9850926328691552-STORY 2 does not exist!⚠️ Warning: /content/frames_local/6767524631568342-MANAGE does not exist!\n",
            "\n",
            "⚠️ Warning: /content/frames_local/9379316215130191-PROFOUNDLY DEAF does not exist!\n"
          ]
        },
        {
          "output_type": "stream",
          "name": "stderr",
          "text": [
            "\r  5%|▌         | 4243/83399 [00:26<08:30, 155.05it/s]"
          ]
        },
        {
          "output_type": "stream",
          "name": "stdout",
          "text": [
            "⚠️ Warning: /content/frames_local/2794515565971676-WHY NOT does not exist!\n",
            "⚠️ Warning: /content/frames_local/2275539256993242-CASUAL does not exist!⚠️ Warning: /content/frames_local/1218437158397816-READY does not exist!\n",
            "\n",
            "⚠️ Warning: /content/frames_local/9498172385458348-AT does not exist!⚠️ Warning: /content/frames_local/9661756483561403-BABYSITTER does not exist!\n",
            "⚠️ Warning: /content/frames_local/5660182629037-WIND does not exist!\n",
            "\n",
            "⚠️ Warning: /content/frames_local/5921231456303184-LAW does not exist!⚠️ Warning: /content/frames_local/1814485993893662-SCRATCH does not exist!\n",
            "⚠️ Warning: /content/frames_local/6285510871667204-PRIORITY does not exist!\n",
            "\n",
            "⚠️ Warning: /content/frames_local/576378603352915-KITTEN does not exist!⚠️ Warning: /content/frames_local/6291437419080772-INTERVENE does not exist!\n",
            "\n",
            "⚠️ Warning: /content/frames_local/06960268077531429-DOG does not exist!\n",
            "⚠️ Warning: /content/frames_local/7967761440144361-HOE does not exist!⚠️ Warning: /content/frames_local/31567269364356654-TAKE NOTES does not exist!\n",
            "⚠️ Warning: /content/frames_local/06863106115468454-YOYO does not exist!\n",
            "\n",
            "⚠️ Warning: /content/frames_local/8024758902823543-COMPLAIN does not exist!\n",
            "⚠️ Warning: /content/frames_local/9694060778293967-WELCOME does not exist!\n",
            "⚠️ Warning: /content/frames_local/5502013237057284-TRUCK 2 does not exist!\n",
            "⚠️ Warning: /content/frames_local/37682735850288696-TWINS does not exist!⚠️ Warning: /content/frames_local/6920420995512817-PERIOD does not exist!\n",
            "⚠️ Warning: /content/frames_local/16971177571772045-TAKE OFF does not exist!\n"
          ]
        },
        {
          "output_type": "stream",
          "name": "stderr",
          "text": [
            "\r  5%|▌         | 4265/83399 [00:26<07:40, 171.83it/s]"
          ]
        },
        {
          "output_type": "stream",
          "name": "stdout",
          "text": [
            "\n",
            "⚠️ Warning: /content/frames_local/7403941999903039-GO THROUGH does not exist!\n",
            "⚠️ Warning: /content/frames_local/20115086693042405-SEAL does not exist!⚠️ Warning: /content/frames_local/3060007243391598-SITUATION does not exist!\n",
            "⚠️ Warning: /content/frames_local/3841725868282777-INSTAGRAM does not exist!\n",
            "\n",
            "⚠️ Warning: /content/frames_local/0782429583564459-MAGNIFY 1 does not exist!⚠️ Warning: /content/frames_local/3827863142418859-ORGANIZATION does not exist!\n",
            "⚠️ Warning: /content/frames_local/5313677957389924-VEST does not exist!\n",
            "\n",
            "⚠️ Warning: /content/frames_local/29154086300252824-OPINION 2 does not exist!\n",
            "⚠️ Warning: /content/frames_local/930779192002132-WALK 2 does not exist!⚠️ Warning: /content/frames_local/16728272991436044-PERSUADE does not exist!\n",
            "\n",
            "⚠️ Warning: /content/frames_local/2723220177826382-CONFIDENTIAL does not exist!⚠️ Warning: /content/frames_local/8574943592282769-DONKEY does not exist!\n",
            "\n",
            "⚠️ Warning: /content/frames_local/43161883868343676-SKILL does not exist!⚠️ Warning: /content/frames_local/5728727640649638-RETIRE does not exist!\n",
            "\n",
            "⚠️ Warning: /content/frames_local/8047526204785291-LEFT does not exist!⚠️ Warning: /content/frames_local/8977008137942344-SCREWDRIVER 3 does not exist!\n",
            "\n",
            "⚠️ Warning: /content/frames_local/7431397568277758-SCULPT does not exist!⚠️ Warning: /content/frames_local/25026155846386766-FANTASY does not exist!\n",
            "⚠️ Warning: /content/frames_local/781492296502055-CLASH does not exist!\n",
            "\n",
            "⚠️ Warning: /content/frames_local/6496383119724853-ENERGY does not exist!"
          ]
        },
        {
          "output_type": "stream",
          "name": "stderr",
          "text": [
            "\r  5%|▌         | 4285/83399 [00:26<07:23, 178.34it/s]"
          ]
        },
        {
          "output_type": "stream",
          "name": "stdout",
          "text": [
            "⚠️ Warning: /content/frames_local/9871348073839943-ANALYZE does not exist!\n",
            "\n",
            "⚠️ Warning: /content/frames_local/3731585041586185-POP 2 does not exist!⚠️ Warning: /content/frames_local/16318257969511052-VALLEY does not exist!\n",
            "⚠️ Warning: /content/frames_local/395106634694546-SQUARE IDIOT does not exist!\n",
            "\n",
            "⚠️ Warning: /content/frames_local/043016679537065894-FOND does not exist!\n",
            "⚠️ Warning: /content/frames_local/29980316453457645-SPILL 2 does not exist!⚠️ Warning: /content/frames_local/3644067437686196-VISITOR does not exist!\n",
            "\n",
            "⚠️ Warning: /content/frames_local/362867220193158-SOFA does not exist!⚠️ Warning: /content/frames_local/20910643157904762-HEAR 2 does not exist!\n",
            "\n",
            "⚠️ Warning: /content/frames_local/8395921064054035-SKATEBOARDING 2 does not exist!\n",
            "⚠️ Warning: /content/frames_local/4556076315439359-GOING THROUGH_A_HARD_TIME does not exist!⚠️ Warning: /content/frames_local/787205601551205-POUR 2 does not exist!\n",
            "⚠️ Warning: /content/frames_local/6653527837087923-YAWN 4 does not exist!\n",
            "\n",
            "⚠️ Warning: /content/frames_local/5128050702012583-DINNER does not exist!\n",
            "⚠️ Warning: /content/frames_local/6798088944949527-CANCER does not exist!\n",
            "⚠️ Warning: /content/frames_local/4877036925912006-HUMMINGBIRD does not exist!\n",
            "⚠️ Warning: /content/frames_local/9943978085894283-WHITE PERSON does not exist!⚠️ Warning: /content/frames_local/5417303259016737-STAY AWAKE_24HRS does not exist!\n",
            "⚠️ Warning: /content/frames_local/7627776051473416-BAG 2 does not exist!\n"
          ]
        },
        {
          "output_type": "stream",
          "name": "stderr",
          "text": [
            "\r  5%|▌         | 4304/83399 [00:26<07:22, 178.81it/s]"
          ]
        },
        {
          "output_type": "stream",
          "name": "stdout",
          "text": [
            "⚠️ Warning: /content/frames_local/05023480422935589-NONSENSE does not exist!\n",
            "\n",
            "⚠️ Warning: /content/frames_local/0965147354265834-NETWORK does not exist!\n",
            "⚠️ Warning: /content/frames_local/665146404453939-BITE does not exist!⚠️ Warning: /content/frames_local/3679132011641968-DECORATE 2 does not exist!\n",
            "\n",
            "⚠️ Warning: /content/frames_local/20695179630427551-QUALITY does not exist!⚠️ Warning: /content/frames_local/5486538768612201-SERVE 2 does not exist!\n",
            "⚠️ Warning: /content/frames_local/7352732973668146-SHOUT does not exist!\n",
            "\n",
            "⚠️ Warning: /content/frames_local/08812332298901948-TRADITION does not exist!⚠️ Warning: /content/frames_local/0926073862935266-OPEN does not exist!\n",
            "⚠️ Warning: /content/frames_local/08805568202255909-COMMENT does not exist!\n",
            "⚠️ Warning: /content/frames_local/537388101786417-CORN 3 does not exist!\n",
            "\n",
            "⚠️ Warning: /content/frames_local/5850040395758886-DEAF SCHOOL does not exist!⚠️ Warning: /content/frames_local/04719940965161529-ROAR 2 does not exist!\n",
            "\n",
            "⚠️ Warning: /content/frames_local/3488839481406505-MIDDLE does not exist!⚠️ Warning: /content/frames_local/7367582635402619-INCH does not exist!\n",
            "⚠️ Warning: /content/frames_local/35889611754654704-KISS FIST does not exist!\n",
            "\n",
            "⚠️ Warning: /content/frames_local/9835829741094266-SKATEBOARDING 3 does not exist!⚠️ Warning: /content/frames_local/3609240069771811-SIDE does not exist!\n",
            "⚠️ Warning: /content/frames_local/3760483120462641-LICENSE does not exist!\n",
            "\n"
          ]
        },
        {
          "output_type": "stream",
          "name": "stderr",
          "text": [
            "\r  5%|▌         | 4323/83399 [00:26<07:44, 170.27it/s]"
          ]
        },
        {
          "output_type": "stream",
          "name": "stdout",
          "text": [
            "⚠️ Warning: /content/frames_local/3539621267410826-LEAGUE does not exist!⚠️ Warning: /content/frames_local/7608168199749585-DOCTOR 2 does not exist!\n",
            "\n",
            "⚠️ Warning: /content/frames_local/6882817599933408-SKI-CA does not exist!⚠️ Warning: /content/frames_local/7423737138620008-SWEETHEART does not exist!\n",
            "⚠️ Warning: /content/frames_local/7415504538971707-TEAR RIP_2 does not exist!\n",
            "⚠️ Warning: /content/frames_local/41376585389955145-ALIGN does not exist!\n",
            "⚠️ Warning: /content/frames_local/8770373721606901-SPACESHIP does not exist!\n",
            "\n",
            "⚠️ Warning: /content/frames_local/5317025368108264-MAGNET 2 does not exist!\n",
            "⚠️ Warning: /content/frames_local/9592871296404402-TEENAGER does not exist!⚠️ Warning: /content/frames_local/013169105245767643-PEG 2 does not exist!\n",
            "⚠️ Warning: /content/frames_local/9964830540897636-PUMPKIN does not exist!\n",
            "\n",
            "⚠️ Warning: /content/frames_local/8520325536156284-ATTITUDE does not exist!\n",
            "⚠️ Warning: /content/frames_local/22231286166307096-LAMP 2 does not exist!\n",
            "⚠️ Warning: /content/frames_local/8908532978876842-STACK 4 does not exist!⚠️ Warning: /content/frames_local/9709934746300493-STRAWBERRY 3 does not exist!\n",
            "⚠️ Warning: /content/frames_local/3634696991017001-ADDICT does not exist!\n",
            "\n",
            "⚠️ Warning: /content/frames_local/36944500432534877-MODEL 1 does not exist!\n"
          ]
        },
        {
          "output_type": "stream",
          "name": "stderr",
          "text": [
            "\r  5%|▌         | 4341/83399 [00:26<07:40, 171.69it/s]"
          ]
        },
        {
          "output_type": "stream",
          "name": "stdout",
          "text": [
            "⚠️ Warning: /content/frames_local/510330756134201-STING does not exist!⚠️ Warning: /content/frames_local/9019830699393518-FOURTH does not exist!\n",
            "\n",
            "⚠️ Warning: /content/frames_local/5518635673625878-KANGAROO 2 does not exist!⚠️ Warning: /content/frames_local/5347913510653453-FROWN 2 does not exist!\n",
            "\n",
            "⚠️ Warning: /content/frames_local/37219010595939195-PISSED OFF does not exist!⚠️ Warning: /content/frames_local/6507620381979016-POOP does not exist!\n",
            "\n",
            "⚠️ Warning: /content/frames_local/07637779357431485-WRISTWATCH 3 does not exist!⚠️ Warning: /content/frames_local/13723463964897653-GUN 3 does not exist!\n",
            "\n",
            "⚠️ Warning: /content/frames_local/6707392608577663-FEEDBACK does not exist!\n",
            "⚠️ Warning: /content/frames_local/9992150959204005-RECENT does not exist!\n",
            "⚠️ Warning: /content/frames_local/23460648489511748-LOSE GAME does not exist!⚠️ Warning: /content/frames_local/16792698524451422-1 DOLLAR does not exist!\n",
            "\n",
            "⚠️ Warning: /content/frames_local/6975110156307895-LOST does not exist!⚠️ Warning: /content/frames_local/945520330541755-PINEAPPLE 5 does not exist!\n",
            "⚠️ Warning: /content/frames_local/2855246157585998-MIND TURNED does not exist!\n",
            "⚠️ Warning: /content/frames_local/0698815482084647-PUNISH does not exist!\n",
            "⚠️ Warning: /content/frames_local/4443276352543104-ERASE 3 does not exist!\n",
            "\n",
            "⚠️ Warning: /content/frames_local/165101863778635-GLASS 2 does not exist!⚠️ Warning: /content/frames_local/39887644936978117-LOAD 2 does not exist!\n",
            "⚠️ Warning: /content/frames_local/6994626907938717-HARD OF_HEARING does not exist!"
          ]
        },
        {
          "output_type": "stream",
          "name": "stderr",
          "text": [
            "\r  5%|▌         | 4359/83399 [00:26<08:06, 162.37it/s]"
          ]
        },
        {
          "output_type": "stream",
          "name": "stdout",
          "text": [
            "\n",
            "\n",
            "⚠️ Warning: /content/frames_local/7964009704693165-TRIP 1 does not exist!⚠️ Warning: /content/frames_local/5216209300464074-REGULAR does not exist!\n",
            "\n",
            "⚠️ Warning: /content/frames_local/7096661594273665-FEED 2 does not exist!⚠️ Warning: /content/frames_local/9930262519706274-WASH MACHINE does not exist!\n",
            "\n",
            "⚠️ Warning: /content/frames_local/25369724288942597-WINDMILL 3 does not exist!\n",
            "⚠️ Warning: /content/frames_local/9348621760351139-EITHER does not exist!⚠️ Warning: /content/frames_local/49804345461981137-BRAINSTORM does not exist!\n",
            "⚠️ Warning: /content/frames_local/5781669456181406-LOCK 3 does not exist!\n",
            "\n",
            "⚠️ Warning: /content/frames_local/6056797276799641-SOMERSAULT does not exist!\n",
            "⚠️ Warning: /content/frames_local/5103802592703206-SHOUT 2 does not exist!⚠️ Warning: /content/frames_local/30079167009378427-INEPT does not exist!\n",
            "\n",
            "⚠️ Warning: /content/frames_local/6291381855879468-WHOLE does not exist!⚠️ Warning: /content/frames_local/4249946719242943-SUPERIOR does not exist!\n",
            "\n",
            "⚠️ Warning: /content/frames_local/8609762865008881-SAME SAME does not exist!\n",
            "⚠️ Warning: /content/frames_local/464219777064776-FOOL does not exist!\n",
            "⚠️ Warning: /content/frames_local/9669372133781184-JUMP does not exist!\n"
          ]
        },
        {
          "output_type": "stream",
          "name": "stderr",
          "text": [
            "\r  5%|▌         | 4376/83399 [00:26<09:43, 135.54it/s]"
          ]
        },
        {
          "output_type": "stream",
          "name": "stdout",
          "text": [
            "⚠️ Warning: /content/frames_local/8791902946242414-FLASHLIGHT 1 does not exist!⚠️ Warning: /content/frames_local/560634765103567-POP 3 does not exist!\n",
            "⚠️ Warning: /content/frames_local/4355232918135832-FAST does not exist!\n",
            "\n",
            "⚠️ Warning: /content/frames_local/4708512735143906-BED 2 does not exist!⚠️ Warning: /content/frames_local/3501296545826389-JEWISH does not exist!\n",
            "⚠️ Warning: /content/frames_local/26904268469359405-IMAGINE 2 does not exist!\n",
            "⚠️ Warning: /content/frames_local/012785887966666687-CURTSEY 2 does not exist!\n",
            "⚠️ Warning: /content/frames_local/3051667721952456-HAIRDRYER 2 does not exist!\n",
            "\n",
            "⚠️ Warning: /content/frames_local/9759837890638088-PICK 2 does not exist!⚠️ Warning: /content/frames_local/11772334828499287-MAGNIFY 2 does not exist!\n",
            "⚠️ Warning: /content/frames_local/9690415519727706-SCOOP does not exist!\n",
            "\n",
            "⚠️ Warning: /content/frames_local/07089556753815351-CHRISTMAS does not exist!⚠️ Warning: /content/frames_local/4529985938452228-UNDERGRADUATE does not exist!\n",
            "⚠️ Warning: /content/frames_local/10559358632520599-STAMP does not exist!\n",
            "\n",
            "⚠️ Warning: /content/frames_local/588337443559745-HONOR does not exist!"
          ]
        },
        {
          "output_type": "stream",
          "name": "stderr",
          "text": [
            "\r  5%|▌         | 4391/83399 [00:27<09:36, 137.13it/s]"
          ]
        },
        {
          "output_type": "stream",
          "name": "stdout",
          "text": [
            "⚠️ Warning: /content/frames_local/09991719396540666-ASSEMBLY does not exist!\n",
            "\n",
            "⚠️ Warning: /content/frames_local/8893256597213444-STOP does not exist!⚠️ Warning: /content/frames_local/5421406377364817-STRAWBERRY 4 does not exist!\n",
            "\n",
            "⚠️ Warning: /content/frames_local/19849579015010832-SNOWBOARD does not exist!\n",
            "⚠️ Warning: /content/frames_local/2926083376664774-TIE UP_2 does not exist!⚠️ Warning: /content/frames_local/1499127026337388-PARACHUTE 3 does not exist!\n",
            "⚠️ Warning: /content/frames_local/5751580885621759-BARK 2 does not exist!\n",
            "⚠️ Warning: /content/frames_local/9892764924798227-GUN 2 does not exist!\n",
            "\n",
            "⚠️ Warning: /content/frames_local/8185692131022972-TAIL 2 does not exist!⚠️ Warning: /content/frames_local/47282049968581474-THINK CHIN does not exist!\n",
            "\n",
            "⚠️ Warning: /content/frames_local/4158152912428734-MONEY 2 does not exist!⚠️ Warning: /content/frames_local/3463923454219011-REMEMBER does not exist!\n",
            "\n",
            "⚠️ Warning: /content/frames_local/01973467612046309-SEE does not exist!⚠️ Warning: /content/frames_local/4930431310424226-OFF THE_POINT does not exist!\n",
            "\n",
            "⚠️ Warning: /content/frames_local/6512152819131927-STUPID 2 does not exist!\n",
            "⚠️ Warning: /content/frames_local/5813887746500852-BLUE does not exist!"
          ]
        },
        {
          "output_type": "stream",
          "name": "stderr",
          "text": [
            "\r  5%|▌         | 4407/83399 [00:27<09:12, 142.87it/s]"
          ]
        },
        {
          "output_type": "stream",
          "name": "stdout",
          "text": [
            "\n",
            "⚠️ Warning: /content/frames_local/2400892967630841-THINK PONDER does not exist!⚠️ Warning: /content/frames_local/9466091115778699-LIST does not exist!\n",
            "\n",
            "⚠️ Warning: /content/frames_local/8401456508153706-MASCARA does not exist!\n",
            "⚠️ Warning: /content/frames_local/6660706347271657-SWEEP does not exist!⚠️ Warning: /content/frames_local/8916270993084592-NEVER does not exist!\n",
            "\n",
            "⚠️ Warning: /content/frames_local/23076821904394396-PITY does not exist!⚠️ Warning: /content/frames_local/8062581688832116-MAGNET 4 does not exist!\n",
            "⚠️ Warning: /content/frames_local/6138594762155865-KNITTING 2 does not exist!\n",
            "\n",
            "⚠️ Warning: /content/frames_local/9346226403907103-PROTECTION does not exist!\n",
            "⚠️ Warning: /content/frames_local/9739703045270574-CRY 3 does not exist!⚠️ Warning: /content/frames_local/5202596813868754-DRILL does not exist!\n",
            "\n",
            "⚠️ Warning: /content/frames_local/7347030166142687-BUCKLE 1 does not exist!\n",
            "⚠️ Warning: /content/frames_local/045105054267942535-METAPHOR does not exist!\n",
            "⚠️ Warning: /content/frames_local/8324069830432397-FOLD 2 does not exist!\n",
            "⚠️ Warning: /content/frames_local/8449642141666973-ITALY does not exist!⚠️ Warning: /content/frames_local/23526275140613473-BATTERY does not exist!\n",
            "\n",
            "⚠️ Warning: /content/frames_local/472571857546767-RHINO does not exist!⚠️ Warning: /content/frames_local/32286789380855874-THINK does not exist!"
          ]
        },
        {
          "output_type": "stream",
          "name": "stderr",
          "text": [
            "\r  5%|▌         | 4423/83399 [00:27<08:56, 147.08it/s]"
          ]
        },
        {
          "output_type": "stream",
          "name": "stdout",
          "text": [
            "\n",
            "\n",
            "⚠️ Warning: /content/frames_local/7861626885486954-PLOW 2 does not exist!\n",
            "⚠️ Warning: /content/frames_local/5127519250015722-PANTS 2 does not exist!⚠️ Warning: /content/frames_local/6004130928163542-BEARD does not exist!\n",
            "⚠️ Warning: /content/frames_local/713883993822642-SCARF 4 does not exist!\n",
            "\n",
            "⚠️ Warning: /content/frames_local/7433178160216891-YAWN 3 does not exist!⚠️ Warning: /content/frames_local/3731859935641946-DENTIST 2 does not exist!\n",
            "\n",
            "⚠️ Warning: /content/frames_local/9125188049222988-OWN does not exist!⚠️ Warning: /content/frames_local/04946360550429585-WINE does not exist!\n",
            "⚠️ Warning: /content/frames_local/43505759423144474-SMALL does not exist!\n",
            "\n",
            "⚠️ Warning: /content/frames_local/9510812408365261-JAPAN does not exist!⚠️ Warning: /content/frames_local/6502772711148159-LOSE does not exist!\n",
            "\n",
            "⚠️ Warning: /content/frames_local/33507140017910686-WRISTWATCH 2 does not exist!⚠️ Warning: /content/frames_local/7039264546760391-INTRODUCE does not exist!\n",
            "⚠️ Warning: /content/frames_local/8047216475841732-MEDITATE 2 does not exist!\n",
            "\n",
            "⚠️ Warning: /content/frames_local/9908646132814751-SHINY does not exist!\n",
            "⚠️ Warning: /content/frames_local/9287434399659529-MAIL does not exist!⚠️ Warning: /content/frames_local/9424951610419072-HELMET does not exist!\n",
            "\n"
          ]
        },
        {
          "output_type": "stream",
          "name": "stderr",
          "text": [
            "\r  5%|▌         | 4442/83399 [00:27<08:30, 154.61it/s]"
          ]
        },
        {
          "output_type": "stream",
          "name": "stdout",
          "text": [
            "⚠️ Warning: /content/frames_local/9905277093135028-BOTTLE does not exist!⚠️ Warning: /content/frames_local/39358062014160744-DROWN 4 does not exist!\n",
            "\n",
            "⚠️ Warning: /content/frames_local/960001692051349-KANGAROO does not exist!⚠️ Warning: /content/frames_local/03332033916425159-ERASE 5 does not exist!\n",
            "⚠️ Warning: /content/frames_local/8484732185649799-WINK does not exist!\n",
            "\n",
            "⚠️ Warning: /content/frames_local/6496011203194725-CASTLE 4 does not exist!⚠️ Warning: /content/frames_local/9331308031305054-CANDY 2 does not exist!\n",
            "⚠️ Warning: /content/frames_local/07627642156047654-BRAIDS does not exist!\n",
            "⚠️ Warning: /content/frames_local/2415815074414267-STEAL does not exist!\n",
            "\n",
            "⚠️ Warning: /content/frames_local/010970253307673206-BEHAVIOR does not exist!⚠️ Warning: /content/frames_local/8405493387581946-WHAT 2 does not exist!\n",
            "⚠️ Warning: /content/frames_local/4218684862336075-CATEGORY does not exist!\n",
            "⚠️ Warning: /content/frames_local/8718307226796662-FEW does not exist!\n",
            "\n",
            "⚠️ Warning: /content/frames_local/04466822170107898-ZERO does not exist!⚠️ Warning: /content/frames_local/4431893106944844-RAKE does not exist!\n",
            "\n",
            "⚠️ Warning: /content/frames_local/3393090669116592-CLEFTCHIN does not exist!\n",
            "⚠️ Warning: /content/frames_local/35391409393825923-STEP does not exist!\n",
            "⚠️ Warning: /content/frames_local/028707376567673304-EARRING does not exist!"
          ]
        },
        {
          "output_type": "stream",
          "name": "stderr",
          "text": [
            "\r  5%|▌         | 4460/83399 [00:27<08:14, 159.53it/s]"
          ]
        },
        {
          "output_type": "stream",
          "name": "stdout",
          "text": [
            "⚠️ Warning: /content/frames_local/8458791639009513-IGNORE does not exist!\n",
            "\n",
            "⚠️ Warning: /content/frames_local/6258217996300457-FASCINATED does not exist!⚠️ Warning: /content/frames_local/862252251286068-MISUNDERSTAND does not exist!\n",
            "\n",
            "⚠️ Warning: /content/frames_local/16417041018515532-HOLD TOGETHER does not exist!⚠️ Warning: /content/frames_local/37276206216745744-COME OUT does not exist!\n",
            "⚠️ Warning: /content/frames_local/018691397759924344-VACUUM does not exist!\n",
            "\n",
            "⚠️ Warning: /content/frames_local/9863253036270616-MISCHIEVOUS does not exist!⚠️ Warning: /content/frames_local/753471008749121-COUNTRY does not exist!\n",
            "⚠️ Warning: /content/frames_local/14717669052371352-HOSE does not exist!\n",
            "⚠️ Warning: /content/frames_local/7442823282997049-GRASP does not exist!\n",
            "⚠️ Warning: /content/frames_local/30343894495376067-THROW AWAY does not exist!\n",
            "\n",
            "⚠️ Warning: /content/frames_local/3537345851274545-COME does not exist!⚠️ Warning: /content/frames_local/48529303593751827-PRAYER does not exist!\n",
            "\n",
            "⚠️ Warning: /content/frames_local/16891526354177877-YELLOW does not exist!⚠️ Warning: /content/frames_local/7241712002802467-WRITE does not exist!\n",
            "⚠️ Warning: /content/frames_local/6904599969524989-SCRUB does not exist!\n",
            "\n",
            "⚠️ Warning: /content/frames_local/17896699590362863-BLOND does not exist!⚠️ Warning: /content/frames_local/10301751003016513-WAND does not exist!"
          ]
        },
        {
          "output_type": "stream",
          "name": "stderr",
          "text": [
            "\r  5%|▌         | 4477/83399 [00:27<09:30, 138.37it/s]"
          ]
        },
        {
          "output_type": "stream",
          "name": "stdout",
          "text": [
            "\n",
            "\n",
            "⚠️ Warning: /content/frames_local/010587434215758362-LIGHTS ON does not exist!⚠️ Warning: /content/frames_local/8166775639657509-DONT KNOW does not exist!\n",
            "⚠️ Warning: /content/frames_local/8559840912696828-MECHANIC does not exist!\n",
            "\n",
            "⚠️ Warning: /content/frames_local/3544275475963694-REQUEST does not exist!\n",
            "⚠️ Warning: /content/frames_local/6488547387984585-GRIEVE does not exist!⚠️ Warning: /content/frames_local/18500968985019117-BACHELOR does not exist!\n",
            "\n",
            "⚠️ Warning: /content/frames_local/5094019882231371-PUT IN_BACK_MIND does not exist!\n",
            "⚠️ Warning: /content/frames_local/47840846334507114-SEND does not exist!⚠️ Warning: /content/frames_local/6203073310837295-BERRY does not exist!\n",
            "⚠️ Warning: /content/frames_local/5313642250744843-CROCODILE does not exist!\n",
            "\n",
            "⚠️ Warning: /content/frames_local/9946830406807634-LUCKY does not exist!⚠️ Warning: /content/frames_local/7942660201909315-ALONE does not exist!\n",
            "\n",
            "⚠️ Warning: /content/frames_local/35246665883330563-DENY does not exist!\n",
            "⚠️ Warning: /content/frames_local/7745574677848077-LIGHTNING does not exist!⚠️ Warning: /content/frames_local/4204920943444439-THINK OVER does not exist!\n",
            "\n",
            "⚠️ Warning: /content/frames_local/024643809167221642-FOREVER 2 does not exist!⚠️ Warning: /content/frames_local/21310388087265242-AXE does not exist!\n",
            "⚠️ Warning: /content/frames_local/18579192091423447-LEARN LESSON does not exist!"
          ]
        },
        {
          "output_type": "stream",
          "name": "stderr",
          "text": [
            "\r  5%|▌         | 4495/83399 [00:27<08:51, 148.36it/s]"
          ]
        },
        {
          "output_type": "stream",
          "name": "stdout",
          "text": [
            "\n",
            "⚠️ Warning: /content/frames_local/6481029082097123-WHAT 1 does not exist!\n",
            "\n",
            "⚠️ Warning: /content/frames_local/8561176854571788-GAY does not exist!⚠️ Warning: /content/frames_local/9347528876792359-PRIEST does not exist!\n",
            "⚠️ Warning: /content/frames_local/9714007958729791-SUMMARIZE does not exist!\n",
            "⚠️ Warning: /content/frames_local/7716052307630736-FROG does not exist!\n",
            "⚠️ Warning: /content/frames_local/867957066150935-WINDOW OPEN does not exist!\n",
            "\n",
            "⚠️ Warning: /content/frames_local/968560924839281-SPECIFIC does not exist!⚠️ Warning: /content/frames_local/5082090494759806-TAKE PILL does not exist!\n",
            "\n",
            "⚠️ Warning: /content/frames_local/7007410728612511-SNOWSUIT does not exist!\n",
            "⚠️ Warning: /content/frames_local/2174130301482664-BUY does not exist!⚠️ Warning: /content/frames_local/9381383089558804-FORBID does not exist!\n",
            "⚠️ Warning: /content/frames_local/10722954174527533-DARK does not exist!\n",
            "\n",
            "⚠️ Warning: /content/frames_local/8196730110010608-CAMCORDER does not exist!\n",
            "⚠️ Warning: /content/frames_local/9343833113558291-HALL does not exist!⚠️ Warning: /content/frames_local/05886452077983284-GRAB does not exist!\n"
          ]
        },
        {
          "output_type": "stream",
          "name": "stderr",
          "text": [
            "\r  5%|▌         | 4511/83399 [00:27<10:01, 131.15it/s]"
          ]
        },
        {
          "output_type": "stream",
          "name": "stdout",
          "text": [
            "⚠️ Warning: /content/frames_local/2965036859506507-FORK does not exist!\n",
            "⚠️ Warning: /content/frames_local/7035814225657173-RUSH does not exist!\n",
            "⚠️ Warning: /content/frames_local/14357465649049805-KISS 2 does not exist!\n",
            "\n",
            "⚠️ Warning: /content/frames_local/034633814485574455-TOY 1 does not exist!\n",
            "⚠️ Warning: /content/frames_local/26265814323690506-POUR does not exist!\n",
            "⚠️ Warning: /content/frames_local/6367477042289449-FINANCE does not exist!\n",
            "⚠️ Warning: /content/frames_local/7416561706981699-HOT does not exist!\n",
            "⚠️ Warning: /content/frames_local/5481035187640684-HATE does not exist!⚠️ Warning: /content/frames_local/961275810313579-DISLIKE does not exist!\n",
            "⚠️ Warning: /content/frames_local/24518709412065043-MEAT 2 does not exist!\n",
            "\n",
            "⚠️ Warning: /content/frames_local/02448110989633312-WOW does not exist!⚠️ Warning: /content/frames_local/0633772625005562-COWBOY does not exist!\n",
            "\n",
            "⚠️ Warning: /content/frames_local/679651608590921-THIS-IT does not exist!⚠️ Warning: /content/frames_local/003283070162121371-GAMBLE does not exist!\n",
            "\n",
            "⚠️ Warning: /content/frames_local/9172169953478548-WASH DISHES does not exist!⚠️ Warning: /content/frames_local/6197984235368819-PAY OFF_BILLS does not exist!\n",
            "⚠️ Warning: /content/frames_local/23621389224191303-STRAIGHT does not exist!\n",
            "⚠️ Warning: /content/frames_local/5118653046361057-STATE does not exist!\n",
            "\n"
          ]
        },
        {
          "output_type": "stream",
          "name": "stderr",
          "text": [
            "\r  5%|▌         | 4528/83399 [00:27<09:30, 138.27it/s]"
          ]
        },
        {
          "output_type": "stream",
          "name": "stdout",
          "text": [
            "⚠️ Warning: /content/frames_local/9047865551380374-PARTY does not exist!⚠️ Warning: /content/frames_local/03003966574155581-EVEN does not exist!\n",
            "\n",
            "⚠️ Warning: /content/frames_local/20571506424103725-DEPTH does not exist!⚠️ Warning: /content/frames_local/8119923159341473-DRESSER does not exist!\n",
            "⚠️ Warning: /content/frames_local/06655840980024252-TURBAN does not exist!\n",
            "⚠️ Warning: /content/frames_local/36856488765515616-TOO MUCH does not exist!\n",
            "⚠️ Warning: /content/frames_local/5834246106284988-HIGHLIGHTER does not exist!\n",
            "\n",
            "⚠️ Warning: /content/frames_local/8832749360602237-LET GO does not exist!⚠️ Warning: /content/frames_local/5577814941563413-MOTIVATION 1 does not exist!\n",
            "\n",
            "⚠️ Warning: /content/frames_local/6818463315417742-MICROSCOPE does not exist!\n",
            "⚠️ Warning: /content/frames_local/8583456468956183-TTY does not exist!⚠️ Warning: /content/frames_local/648735344332581-EXPECT does not exist!\n",
            "⚠️ Warning: /content/frames_local/13359500893283172-SUPPORT 1 does not exist!\n",
            "⚠️ Warning: /content/frames_local/34694563123516087-ROAD does not exist!\n",
            "⚠️ Warning: /content/frames_local/04724118178494452-NOTHING 2 does not exist!\n",
            "\n",
            "⚠️ Warning: /content/frames_local/9392963403011174-CHOP does not exist!\n",
            "⚠️ Warning: /content/frames_local/19071857221615507-YOURSELF does not exist!⚠️ Warning: /content/frames_local/41563433864841737-AUTISM does not exist!\n"
          ]
        },
        {
          "output_type": "stream",
          "name": "stderr",
          "text": [
            "\r  5%|▌         | 4547/83399 [00:28<08:49, 149.04it/s]"
          ]
        },
        {
          "output_type": "stream",
          "name": "stdout",
          "text": [
            "⚠️ Warning: /content/frames_local/7933721740511925-PAGE does not exist!\n",
            "\n",
            "⚠️ Warning: /content/frames_local/24204309620015718-PASS OUT does not exist!⚠️ Warning: /content/frames_local/08585237460156403-BELL does not exist!\n",
            "\n",
            "⚠️ Warning: /content/frames_local/778726103802567-SMELL MONEY does not exist!\n",
            "⚠️ Warning: /content/frames_local/6032955938801456-HALLOWEEN does not exist!⚠️ Warning: /content/frames_local/5412431404810503-COCAINE does not exist!\n",
            "⚠️ Warning: /content/frames_local/9100329743699611-CHEESE GRATER does not exist!\n",
            "\n",
            "⚠️ Warning: /content/frames_local/8699676621201298-OK does not exist!⚠️ Warning: /content/frames_local/6081830150824254-BASEBALL CAP does not exist!\n",
            "\n",
            "⚠️ Warning: /content/frames_local/1401023186721142-WRITE ON_WALL does not exist!⚠️ Warning: /content/frames_local/1012683026825647-NOON does not exist!\n",
            "\n",
            "⚠️ Warning: /content/frames_local/30387105972416184-SIX does not exist!⚠️ Warning: /content/frames_local/7296810802460376-DISAPPOINT does not exist!\n",
            "⚠️ Warning: /content/frames_local/41274691397939733-ROLL does not exist!\n",
            "\n",
            "⚠️ Warning: /content/frames_local/647874113318895-SCREAM does not exist!⚠️ Warning: /content/frames_local/6920716309074284-CHEEK does not exist!\n"
          ]
        },
        {
          "output_type": "stream",
          "name": "stderr",
          "text": [
            "\r  5%|▌         | 4563/83399 [00:28<08:39, 151.81it/s]"
          ]
        },
        {
          "output_type": "stream",
          "name": "stdout",
          "text": [
            "⚠️ Warning: /content/frames_local/6435251723193283-HEAD does not exist!\n",
            "\n",
            "⚠️ Warning: /content/frames_local/3649911597009825-CLOSE does not exist!\n",
            "⚠️ Warning: /content/frames_local/21827997553353207-TOWEL does not exist!\n",
            "⚠️ Warning: /content/frames_local/05863296496995751-SINGLE does not exist!\n",
            "⚠️ Warning: /content/frames_local/08205294932559659-WADE does not exist!⚠️ Warning: /content/frames_local/8799499585540838-GIVE does not exist!\n",
            "\n",
            "⚠️ Warning: /content/frames_local/5282197057448352-FRY does not exist!⚠️ Warning: /content/frames_local/2605148176558607-GRANDPARENTS does not exist!\n",
            "⚠️ Warning: /content/frames_local/12624637413680317-SHARP 2 does not exist!\n",
            "\n",
            "⚠️ Warning: /content/frames_local/229070483247223-PREDICT does not exist!⚠️ Warning: /content/frames_local/12228127495959296-DRUG does not exist!\n",
            "\n",
            "⚠️ Warning: /content/frames_local/27331256458569575-ASSIGN does not exist!⚠️ Warning: /content/frames_local/057942389994608545-UNTIL does not exist!\n",
            "⚠️ Warning: /content/frames_local/8757559601166403-UPSET 1 does not exist!\n",
            "\n",
            "⚠️ Warning: /content/frames_local/737768375427176-GRADUATE SCHOOL does not exist!⚠️ Warning: /content/frames_local/9085605318417929-CATEPILLAR does not exist!\n",
            "\n",
            "⚠️ Warning: /content/frames_local/6071607320442007-APRIL does not exist!"
          ]
        },
        {
          "output_type": "stream",
          "name": "stderr",
          "text": [
            "\r  5%|▌         | 4579/83399 [00:28<08:54, 147.60it/s]"
          ]
        },
        {
          "output_type": "stream",
          "name": "stdout",
          "text": [
            "⚠️ Warning: /content/frames_local/3156356305193284-DELEGATE does not exist!\n",
            "\n",
            "⚠️ Warning: /content/frames_local/7725094701847932-SHAVE 3 does not exist!⚠️ Warning: /content/frames_local/35999920844531164-LONG does not exist!\n",
            "\n",
            "⚠️ Warning: /content/frames_local/11558719433867903-HURRY does not exist!\n",
            "⚠️ Warning: /content/frames_local/28132629187050173-OPTION does not exist!\n",
            "⚠️ Warning: /content/frames_local/1072225635555093-TAKE does not exist!\n",
            "⚠️ Warning: /content/frames_local/3021062789414626-ROLL UP_SLEEVES does not exist!\n",
            "⚠️ Warning: /content/frames_local/12068323412459758-PEAR does not exist!\n",
            "⚠️ Warning: /content/frames_local/7538915963668644-EXPERIENCED does not exist!⚠️ Warning: /content/frames_local/8632648970628833-INTENTIONAL does not exist!\n",
            "⚠️ Warning: /content/frames_local/4362793797127771-TOMORROW does not exist!\n",
            "\n",
            "⚠️ Warning: /content/frames_local/06629488544364115-PEEL 1 does not exist!⚠️ Warning: /content/frames_local/15864000938153322-HIS does not exist!\n",
            "\n",
            "⚠️ Warning: /content/frames_local/9753827198284442-HARP does not exist!\n",
            "⚠️ Warning: /content/frames_local/42908196601535886-WHEEL does not exist!\n",
            "⚠️ Warning: /content/frames_local/650504063052805-RAINBOW does not exist!\n",
            "⚠️ Warning: /content/frames_local/8279063443395258-VALUE does not exist!⚠️ Warning: /content/frames_local/9015399008682803-THIRD does not exist!\n",
            "\n",
            "⚠️ Warning: /content/frames_local/28848205153127116-EARMUFFS does not exist!"
          ]
        },
        {
          "output_type": "stream",
          "name": "stderr",
          "text": [
            "\r  6%|▌         | 4598/83399 [00:28<08:18, 158.04it/s]"
          ]
        },
        {
          "output_type": "stream",
          "name": "stdout",
          "text": [
            "⚠️ Warning: /content/frames_local/4332477701736639-DOESNT MATTER does not exist!\n",
            "⚠️ Warning: /content/frames_local/32704819889467207-BOYFRIEND does not exist!\n",
            "\n",
            "⚠️ Warning: /content/frames_local/7285829599567224-POPE does not exist!⚠️ Warning: /content/frames_local/05409325936768061-EVENT does not exist!\n",
            "⚠️ Warning: /content/frames_local/5144216381775291-FLAG 2 does not exist!\n",
            "\n",
            "⚠️ Warning: /content/frames_local/6326180924145526-FORM does not exist!⚠️ Warning: /content/frames_local/6497313094556707-HELL does not exist!\n",
            "\n",
            "⚠️ Warning: /content/frames_local/6565070986859174-HOOD does not exist!⚠️ Warning: /content/frames_local/0942947114821131-ARTICULATE SIGN does not exist!\n",
            "\n",
            "⚠️ Warning: /content/frames_local/4221428899416284-BREAKTIME does not exist!⚠️ Warning: /content/frames_local/13523175650025743-YAY does not exist!\n",
            "⚠️ Warning: /content/frames_local/46741096704682805-WHEELBARROW does not exist!\n",
            "\n",
            "⚠️ Warning: /content/frames_local/0841187474683116-CROSS HEART does not exist!⚠️ Warning: /content/frames_local/01111754322372116-DEDICATE 1 does not exist!\n",
            "\n",
            "⚠️ Warning: /content/frames_local/9059362116989631-TRANSGENDER does not exist!⚠️ Warning: /content/frames_local/8750457609054456-CHILD does not exist!\n",
            "\n",
            "⚠️ Warning: /content/frames_local/4600454329949373-RUN 2 does not exist!"
          ]
        },
        {
          "output_type": "stream",
          "name": "stderr",
          "text": [
            "\r  6%|▌         | 4615/83399 [00:28<08:08, 161.36it/s]"
          ]
        },
        {
          "output_type": "stream",
          "name": "stdout",
          "text": [
            "⚠️ Warning: /content/frames_local/3589971780900416-FEED does not exist!\n",
            "\n",
            "⚠️ Warning: /content/frames_local/44146024789241256-YES does not exist!⚠️ Warning: /content/frames_local/3259912256727635-DEFEAT does not exist!\n",
            "\n",
            "⚠️ Warning: /content/frames_local/4007494165755452-INTERPRET does not exist!⚠️ Warning: /content/frames_local/007161712182828683-SOFTBALL does not exist!\n",
            "⚠️ Warning: /content/frames_local/7846641594989043-HEADCOLD does not exist!\n",
            "\n",
            "⚠️ Warning: /content/frames_local/2879834639294936-CROSS 2 does not exist!⚠️ Warning: /content/frames_local/8359395645943379-SENTENCE 2 does not exist!\n",
            "\n",
            "⚠️ Warning: /content/frames_local/3573631202697214-TRACTOR does not exist!⚠️ Warning: /content/frames_local/5985377714082996-WHEELCHAIR does not exist!\n",
            "⚠️ Warning: /content/frames_local/31487135960578416-HANDS does not exist!\n",
            "\n",
            "⚠️ Warning: /content/frames_local/7180265435169697-COUCH 1 does not exist!⚠️ Warning: /content/frames_local/08532905301737803-BEACH does not exist!\n",
            "⚠️ Warning: /content/frames_local/032821516238024095-FRINGE does not exist!\n",
            "⚠️ Warning: /content/frames_local/8446889783685227-LAND does not exist!\n",
            "\n",
            "⚠️ Warning: /content/frames_local/7006603779204794-BITCH does not exist!⚠️ Warning: /content/frames_local/8867689637497291-BOTH does not exist!"
          ]
        },
        {
          "output_type": "stream",
          "name": "stderr",
          "text": [
            "\r  6%|▌         | 4632/83399 [00:28<08:03, 163.01it/s]"
          ]
        },
        {
          "output_type": "stream",
          "name": "stdout",
          "text": [
            "\n",
            "\n",
            "⚠️ Warning: /content/frames_local/13449906235828935-PINCH does not exist!\n",
            "⚠️ Warning: /content/frames_local/8869398773394026-LIFT does not exist!⚠️ Warning: /content/frames_local/15877643132513075-RECITE does not exist!\n",
            "\n",
            "⚠️ Warning: /content/frames_local/12564800044567526-EIGHT does not exist!⚠️ Warning: /content/frames_local/6392685968074112-BITE does not exist!\n",
            "\n",
            "⚠️ Warning: /content/frames_local/5102555871583432-CURLY HAIR does not exist!\n",
            "⚠️ Warning: /content/frames_local/7238923936966688-EVERY YEAR does not exist!⚠️ Warning: /content/frames_local/1987386132943385-BOILING MAD does not exist!\n",
            "\n",
            "⚠️ Warning: /content/frames_local/27616758279061715-MESS does not exist!\n",
            "⚠️ Warning: /content/frames_local/28458975574145207-WHALE does not exist!⚠️ Warning: /content/frames_local/83091210898356-HOLD HANDS does not exist!\n",
            "⚠️ Warning: /content/frames_local/14465775427516592-ALRIGHT does not exist!\n",
            "⚠️ Warning: /content/frames_local/4091733780137192-PLUMMET does not exist!\n",
            "⚠️ Warning: /content/frames_local/841829675837015-SHORT PERSON does not exist!\n",
            "\n",
            "⚠️ Warning: /content/frames_local/9598387180783521-PRESS does not exist!⚠️ Warning: /content/frames_local/5274820721640965-INDEPENDENT does not exist!\n",
            "\n"
          ]
        },
        {
          "output_type": "stream",
          "name": "stderr",
          "text": [
            "\r  6%|▌         | 4649/83399 [00:28<08:04, 162.50it/s]"
          ]
        },
        {
          "output_type": "stream",
          "name": "stdout",
          "text": [
            "⚠️ Warning: /content/frames_local/5011392662541652-OLDEST does not exist!⚠️ Warning: /content/frames_local/15607306560819167-ALWAYS does not exist!\n",
            "\n",
            "⚠️ Warning: /content/frames_local/8265628303950376-ROW does not exist!⚠️ Warning: /content/frames_local/7718382696545953-EYE TURN does not exist!\n",
            "\n",
            "⚠️ Warning: /content/frames_local/4853438670961474-ASSIST does not exist!⚠️ Warning: /content/frames_local/32519532203487866-SUCK THUMB does not exist!\n",
            "\n",
            "⚠️ Warning: /content/frames_local/8724686458103836-DRAG does not exist!\n",
            "⚠️ Warning: /content/frames_local/37181472472425714-AUTISM 2 does not exist!⚠️ Warning: /content/frames_local/6082465211725654-COMFORTABLE does not exist!\n",
            "\n",
            "⚠️ Warning: /content/frames_local/17775778025156774-PINEAPPLE 2 does not exist!\n",
            "⚠️ Warning: /content/frames_local/5737533664277479-SPACE does not exist!\n",
            "⚠️ Warning: /content/frames_local/43505739748088224-TOUCH does not exist!⚠️ Warning: /content/frames_local/06861025272100951-COOL 5 does not exist!\n",
            "⚠️ Warning: /content/frames_local/04487877168190679-NECKLACE 2 does not exist!\n",
            "\n",
            "⚠️ Warning: /content/frames_local/8734334870480969-TIME TO_TIME does not exist!⚠️ Warning: /content/frames_local/9572938504173512-GROW UP does not exist!\n",
            "⚠️ Warning: /content/frames_local/10472410904704543-THINK OBSESS does not exist!\n",
            "\n",
            "⚠️ Warning: /content/frames_local/15075837244294998-CURL does not exist!\n",
            "⚠️ Warning: /content/frames_local/41601275517359126-ELEMENTARY SCHOOL does not exist!⚠️ Warning: /content/frames_local/3565632064547628-OOH does not exist!\n",
            "\n",
            "⚠️ Warning: /content/frames_local/4322754909909694-DOMINANT does not exist!\n",
            "⚠️ Warning: /content/frames_local/22468733006236175-PREGNANT does not exist!"
          ]
        },
        {
          "output_type": "stream",
          "name": "stderr",
          "text": [
            "\r  6%|▌         | 4669/83399 [00:28<07:54, 165.99it/s]"
          ]
        },
        {
          "output_type": "stream",
          "name": "stdout",
          "text": [
            "\n",
            "⚠️ Warning: /content/frames_local/36803371518328487-WOMAN 2 does not exist!⚠️ Warning: /content/frames_local/3853579712024784-SCARF 3 does not exist!\n",
            "\n",
            "⚠️ Warning: /content/frames_local/1082324233091585-PROXIMALIZATION does not exist!⚠️ Warning: /content/frames_local/7795091136580734-JAW DROP does not exist!\n",
            "\n",
            "⚠️ Warning: /content/frames_local/1419309529134689-HITCHHIKE does not exist!\n",
            "⚠️ Warning: /content/frames_local/5977284961728762-INSIDE does not exist!⚠️ Warning: /content/frames_local/2449836832645862-RELIEF does not exist!\n",
            "\n",
            "⚠️ Warning: /content/frames_local/5575600895088579-BARK does not exist!⚠️ Warning: /content/frames_local/9627103025140404-CURTSEY 1 does not exist!\n",
            "\n",
            "⚠️ Warning: /content/frames_local/2773447232088475-BLOW CANDLE_2 does not exist!\n",
            "⚠️ Warning: /content/frames_local/8683155600072712-SPLASH-CA does not exist!\n",
            "⚠️ Warning: /content/frames_local/7246944741037324-CONFUSED does not exist!⚠️ Warning: /content/frames_local/39578907254070317-HAIR 2 does not exist!\n",
            "⚠️ Warning: /content/frames_local/4838858792835403-HANG CLOTHES does not exist!\n",
            "⚠️ Warning: /content/frames_local/4352328399744607-TURN AROUND does not exist!\n",
            "\n",
            "⚠️ Warning: /content/frames_local/854824144853894-BLOUSE does not exist!⚠️ Warning: /content/frames_local/0902806219621961-SANDWICH 2 does not exist!\n",
            "\n",
            "⚠️ Warning: /content/frames_local/2969901780508615-ADOPT does not exist!"
          ]
        },
        {
          "output_type": "stream",
          "name": "stderr",
          "text": [
            "\r  6%|▌         | 4689/83399 [00:28<07:30, 174.82it/s]"
          ]
        },
        {
          "output_type": "stream",
          "name": "stdout",
          "text": [
            "⚠️ Warning: /content/frames_local/02711411387156848-ALL WAY does not exist!\n",
            "\n",
            "⚠️ Warning: /content/frames_local/8339600699816903-BATHTUB does not exist!⚠️ Warning: /content/frames_local/8461913976355366-MASSAGE does not exist!\n",
            "⚠️ Warning: /content/frames_local/4777334744901851-SUNBATHE does not exist!\n",
            "\n",
            "⚠️ Warning: /content/frames_local/8100807822297282-TALK DIRTY does not exist!\n",
            "⚠️ Warning: /content/frames_local/2932714246417105-KITE 2 does not exist!⚠️ Warning: /content/frames_local/9328768068526334-SHOULDER 2 does not exist!\n",
            "\n",
            "⚠️ Warning: /content/frames_local/07410373743157228-WITCH 2 does not exist!⚠️ Warning: /content/frames_local/7791016388244625-IRON 3 does not exist!\n",
            "⚠️ Warning: /content/frames_local/11048122636393543-FIFTH does not exist!\n",
            "\n",
            "⚠️ Warning: /content/frames_local/0725571113985024-TOOTHBRUSH-CA does not exist!⚠️ Warning: /content/frames_local/3232598366509445-BUCKLE 2 does not exist!\n",
            "\n",
            "⚠️ Warning: /content/frames_local/2789046705437668-DRINK 2 does not exist!\n",
            "⚠️ Warning: /content/frames_local/10302050133367846-DISSOLVE does not exist!\n",
            "⚠️ Warning: /content/frames_local/3637876820889907-ATLANTA does not exist!\n",
            "⚠️ Warning: /content/frames_local/5105845308603327-PIPE 4 does not exist!⚠️ Warning: /content/frames_local/21864295028207037-BLUSH does not exist!\n",
            "\n",
            "\n",
            "⚠️ Warning: /content/frames_local/09434787332908146-BORED 2 does not exist!"
          ]
        },
        {
          "output_type": "stream",
          "name": "stderr",
          "text": [
            "\r  6%|▌         | 4707/83399 [00:29<07:34, 172.96it/s]"
          ]
        },
        {
          "output_type": "stream",
          "name": "stdout",
          "text": [
            "⚠️ Warning: /content/frames_local/40614997175381085-FORK 4 does not exist!\n",
            "⚠️ Warning: /content/frames_local/9167540932755296-CREAM 2 does not exist!\n",
            "⚠️ Warning: /content/frames_local/5629548703826677-BANANA 4 does not exist!⚠️ Warning: /content/frames_local/2960036608016987-STRAIN 2 does not exist!\n",
            "⚠️ Warning: /content/frames_local/7564107290197843-KNOW NOTHING does not exist!\n",
            "\n",
            "⚠️ Warning: /content/frames_local/38769872343992384-INTELLIGENT does not exist!⚠️ Warning: /content/frames_local/4516307505095758-HAIRDRYER 3 does not exist!\n",
            "⚠️ Warning: /content/frames_local/3787932935151641-PAGEANT does not exist!\n",
            "⚠️ Warning: /content/frames_local/6339944111493827-DUE does not exist!\n",
            "\n",
            "⚠️ Warning: /content/frames_local/3040762395629295-REACH does not exist!\n",
            "⚠️ Warning: /content/frames_local/7195707760375119-RIBBON AWARD does not exist!⚠️ Warning: /content/frames_local/9131869808539794-PINEAPPLE 3 does not exist!\n",
            "\n",
            "⚠️ Warning: /content/frames_local/2022704980697445-FOLLOW 2 does not exist!⚠️ Warning: /content/frames_local/6659646818374227-CAN 2 does not exist!\n",
            "\n",
            "⚠️ Warning: /content/frames_local/44308878271131813-HUMOR does not exist!⚠️ Warning: /content/frames_local/8832840425001915-ERASE 4 does not exist!\n",
            "\n",
            "⚠️ Warning: /content/frames_local/16230060414608127-VISIT does not exist!⚠️ Warning: /content/frames_local/8190324717453645-CATCH BASEBALL does not exist!\n",
            "⚠️ Warning: /content/frames_local/1848141625503592-DRIBBLE does not exist!"
          ]
        },
        {
          "output_type": "stream",
          "name": "stderr",
          "text": [
            "\r  6%|▌         | 4725/83399 [00:29<07:52, 166.35it/s]"
          ]
        },
        {
          "output_type": "stream",
          "name": "stdout",
          "text": [
            "\n",
            "⚠️ Warning: /content/frames_local/14166226637407608-CONDUCT 2 does not exist!\n",
            "\n",
            "⚠️ Warning: /content/frames_local/4314439756838544-IRON 2 does not exist!⚠️ Warning: /content/frames_local/43556364293034777-HOODIE 2 does not exist!\n",
            "⚠️ Warning: /content/frames_local/4389805981219588-VIDEOCAMERA 2 does not exist!\n",
            "⚠️ Warning: /content/frames_local/7691165725129967-PICKLE does not exist!\n",
            "\n",
            "⚠️ Warning: /content/frames_local/37448291156292246-LIFT 2 does not exist!⚠️ Warning: /content/frames_local/4224211722833797-DINOSAUR 2 does not exist!\n",
            "⚠️ Warning: /content/frames_local/18511788293726528-EXPRESS does not exist!\n",
            "\n",
            "⚠️ Warning: /content/frames_local/5333896063319707-HELICOPTER 3 does not exist!⚠️ Warning: /content/frames_local/08651738049796465-SPREAD 2 does not exist!\n",
            "\n",
            "⚠️ Warning: /content/frames_local/5202440538403339-SHARPEN 2 does not exist!⚠️ Warning: /content/frames_local/17361408265621603-VISION does not exist!\n",
            "\n",
            "⚠️ Warning: /content/frames_local/6507307962087343-SUNDAY does not exist!⚠️ Warning: /content/frames_local/6309157014119988-GO AHEAD does not exist!\n",
            "\n",
            "⚠️ Warning: /content/frames_local/873842462831999-CHEERLEADER 2 does not exist!\n",
            "⚠️ Warning: /content/frames_local/6121337904130542-MAIL 2 does not exist!\n",
            "⚠️ Warning: /content/frames_local/6018370217349998-UNIVERSE does not exist!\n",
            "⚠️ Warning: /content/frames_local/5573809467983877-STRAWBERRY 2 does not exist!"
          ]
        },
        {
          "output_type": "stream",
          "name": "stderr",
          "text": [
            "\r  6%|▌         | 4744/83399 [00:29<07:39, 171.05it/s]"
          ]
        },
        {
          "output_type": "stream",
          "name": "stdout",
          "text": [
            "⚠️ Warning: /content/frames_local/9914319734007941-RELAX 2 does not exist!\n",
            "⚠️ Warning: /content/frames_local/5899974455491288-YAWN 2 does not exist!\n",
            "\n",
            "⚠️ Warning: /content/frames_local/5529868587835582-TIMEOUT does not exist!⚠️ Warning: /content/frames_local/20646198156217554-NECKLACE 3 does not exist!\n",
            "\n",
            "⚠️ Warning: /content/frames_local/1022895967077273-BARK 3 does not exist!\n",
            "⚠️ Warning: /content/frames_local/6609818091450428-UNDERWEAR 2 does not exist!\n",
            "⚠️ Warning: /content/frames_local/2505185287987963-CREWCUT does not exist!⚠️ Warning: /content/frames_local/2639755241132089-LEMON 2 does not exist!\n",
            "⚠️ Warning: /content/frames_local/8370357721585713-TIE UP_1 does not exist!\n",
            "\n",
            "⚠️ Warning: /content/frames_local/8634776134587918-JACKET 4 does not exist!⚠️ Warning: /content/frames_local/16562336947111778-OIL 2 does not exist!\n",
            "⚠️ Warning: /content/frames_local/933867274897354-SCARF 2 does not exist!\n",
            "\n",
            "⚠️ Warning: /content/frames_local/9599420405066388-GLUE 1 does not exist!⚠️ Warning: /content/frames_local/37443716017199624-TRIP 2 does not exist!\n",
            "⚠️ Warning: /content/frames_local/4830930606046242-BADGE does not exist!\n",
            "\n",
            "⚠️ Warning: /content/frames_local/0730521222838143-FROWN 1 does not exist!⚠️ Warning: /content/frames_local/05439811641925085-RESEARCH does not exist!\n",
            "\n",
            "⚠️ Warning: /content/frames_local/6155710623923552-SAIL does not exist!⚠️ Warning: /content/frames_local/5290990810742195-EQUAL does not exist!\n",
            "\n"
          ]
        },
        {
          "output_type": "stream",
          "name": "stderr",
          "text": [
            "\r  6%|▌         | 4763/83399 [00:29<07:34, 172.97it/s]"
          ]
        },
        {
          "output_type": "stream",
          "name": "stdout",
          "text": [
            "⚠️ Warning: /content/frames_local/9063210997662985-PLIERS does not exist!⚠️ Warning: /content/frames_local/9495415660076945-DIVE does not exist!\n",
            "⚠️ Warning: /content/frames_local/5509056680946502-BROWN does not exist!\n",
            "\n",
            "⚠️ Warning: /content/frames_local/3755421371246839-ART does not exist!⚠️ Warning: /content/frames_local/24598884035891366-HAIRDRYER does not exist!\n",
            "\n",
            "⚠️ Warning: /content/frames_local/6031700589698743-DRUNK does not exist!⚠️ Warning: /content/frames_local/5200282443391575-TALL 2 does not exist!\n",
            "⚠️ Warning: /content/frames_local/3372559060455389-LETTER does not exist!\n",
            "\n",
            "⚠️ Warning: /content/frames_local/4817688414510197-WRONG does not exist!\n",
            "⚠️ Warning: /content/frames_local/6812407258819488-LIVE does not exist!⚠️ Warning: /content/frames_local/11068197548845538-STETHOSCOPE does not exist!\n",
            "\n",
            "⚠️ Warning: /content/frames_local/8241541237524144-COW does not exist!\n",
            "⚠️ Warning: /content/frames_local/4485258696144441-THURSDAY does not exist!\n",
            "⚠️ Warning: /content/frames_local/8912582440228616-BELIEVE does not exist!\n",
            "⚠️ Warning: /content/frames_local/6146273113374252-DEATH does not exist!⚠️ Warning: /content/frames_local/40131537208054624-ROOSTER does not exist!\n",
            "\n",
            "⚠️ Warning: /content/frames_local/9983144588579456-POOL GAME does not exist!\n",
            "⚠️ Warning: /content/frames_local/3066683574855842-PAST does not exist!"
          ]
        },
        {
          "output_type": "stream",
          "name": "stderr",
          "text": [
            "\r  6%|▌         | 4781/83399 [00:29<07:37, 171.76it/s]"
          ]
        },
        {
          "output_type": "stream",
          "name": "stdout",
          "text": [
            "⚠️ Warning: /content/frames_local/5341531217845072-CRACKER does not exist!\n",
            "⚠️ Warning: /content/frames_local/2497474123889838-SNOW does not exist!\n",
            "⚠️ Warning: /content/frames_local/85763717482082-IRON does not exist!\n",
            "\n",
            "⚠️ Warning: /content/frames_local/5488361463752331-HIGH does not exist!⚠️ Warning: /content/frames_local/8564479717410012-BREATHE does not exist!\n",
            "\n",
            "⚠️ Warning: /content/frames_local/34063044410755494-NEW YORK does not exist!\n",
            "⚠️ Warning: /content/frames_local/6543203338079855-ACCOMPLISH does not exist!\n",
            "⚠️ Warning: /content/frames_local/7303821349711297-CLOUD does not exist!\n",
            "⚠️ Warning: /content/frames_local/42637381073330327-LAWYER does not exist!⚠️ Warning: /content/frames_local/43660769524074494-TURKEY does not exist!\n",
            "\n",
            "⚠️ Warning: /content/frames_local/8639087490010726-WHAT FOR does not exist!\n",
            "⚠️ Warning: /content/frames_local/032497780510020835-HOUR does not exist!⚠️ Warning: /content/frames_local/1260416323599738-WEST does not exist!\n",
            "⚠️ Warning: /content/frames_local/7720684196915695-THEATRE does not exist!\n",
            "⚠️ Warning: /content/frames_local/9619419268791114-GOLD does not exist!\n",
            "⚠️ Warning: /content/frames_local/6291005918291401-SCARF does not exist!\n",
            "\n",
            "⚠️ Warning: /content/frames_local/6086450098923455-SATURDAY does not exist!⚠️ Warning: /content/frames_local/9550490760773185-THIN does not exist!\n",
            "\n",
            "⚠️ Warning: /content/frames_local/39120498996078346-BUG does not exist!⚠️ Warning: /content/frames_local/862907923576554-EMPEROR does not exist!"
          ]
        },
        {
          "output_type": "stream",
          "name": "stderr",
          "text": [
            "\r  6%|▌         | 4799/83399 [00:29<08:01, 163.07it/s]"
          ]
        },
        {
          "output_type": "stream",
          "name": "stdout",
          "text": [
            "\n",
            "\n",
            "⚠️ Warning: /content/frames_local/14727556165068467-HAPPEN does not exist!⚠️ Warning: /content/frames_local/07848616735844827-BIRTH does not exist!\n",
            "\n",
            "⚠️ Warning: /content/frames_local/5109458472335267-OFFICE does not exist!\n",
            "⚠️ Warning: /content/frames_local/34273370908515544-INTERNET does not exist!⚠️ Warning: /content/frames_local/9694185270487357-BEER does not exist!\n",
            "\n",
            "⚠️ Warning: /content/frames_local/21512219966077395-WET does not exist!\n",
            "⚠️ Warning: /content/frames_local/5588287843007933-LOBSTER does not exist!\n",
            "⚠️ Warning: /content/frames_local/471236123701132-SAME does not exist!⚠️ Warning: /content/frames_local/14463371526064384-BREAK does not exist!\n",
            "⚠️ Warning: /content/frames_local/16659435197682293-BAD does not exist!\n",
            "⚠️ Warning: /content/frames_local/8839344399497824-SHAMPOO does not exist!\n",
            "\n",
            "⚠️ Warning: /content/frames_local/15876391998161066-MY does not exist!⚠️ Warning: /content/frames_local/9916743393596088-NOT CARE does not exist!\n",
            "⚠️ Warning: /content/frames_local/4458794912357702-DOCTOR does not exist!\n",
            "\n",
            "⚠️ Warning: /content/frames_local/7505991073552167-HAMBURGER does not exist!"
          ]
        },
        {
          "output_type": "stream",
          "name": "stderr",
          "text": [
            "\r  6%|▌         | 4816/83399 [00:29<07:59, 163.83it/s]"
          ]
        },
        {
          "output_type": "stream",
          "name": "stdout",
          "text": [
            "\n",
            "⚠️ Warning: /content/frames_local/9092948559174665-CRAWL does not exist!\n",
            "⚠️ Warning: /content/frames_local/4958198339388886-BUSINESS does not exist!⚠️ Warning: /content/frames_local/26540643811273745-BASKETBALL does not exist!\n",
            "\n",
            "⚠️ Warning: /content/frames_local/38590523090899187-FRUSTRATE does not exist!\n",
            "⚠️ Warning: /content/frames_local/5463228355695655-PROMOTE does not exist!⚠️ Warning: /content/frames_local/6063958927387452-SNAKE does not exist!\n",
            "\n",
            "⚠️ Warning: /content/frames_local/4264277466427575-WEDNESDAY does not exist!⚠️ Warning: /content/frames_local/7276402302250944-WALK does not exist!\n",
            "\n",
            "⚠️ Warning: /content/frames_local/028446972121487946-DIAMOND does not exist!⚠️ Warning: /content/frames_local/3357938396018887-DIE does not exist!\n",
            "\n",
            "⚠️ Warning: /content/frames_local/6411588958209695-ME does not exist!⚠️ Warning: /content/frames_local/7430618623907139-LOUD does not exist!\n",
            "\n",
            "⚠️ Warning: /content/frames_local/10487217228870982-FIGURE does not exist!⚠️ Warning: /content/frames_local/8680209433538568-SET UP does not exist!\n",
            "\n",
            "⚠️ Warning: /content/frames_local/26904361193599025-GOLF does not exist!⚠️ Warning: /content/frames_local/5361185894939755-DELICIOUS does not exist!\n",
            "\n"
          ]
        },
        {
          "output_type": "stream",
          "name": "stderr",
          "text": [
            "\r  6%|▌         | 4833/83399 [00:29<08:23, 156.12it/s]"
          ]
        },
        {
          "output_type": "stream",
          "name": "stdout",
          "text": [
            "⚠️ Warning: /content/frames_local/8361728044743653-SQUIRREL does not exist!⚠️ Warning: /content/frames_local/75519654389437-RESPONSIBILITY does not exist!\n",
            "⚠️ Warning: /content/frames_local/9939280468560463-STRESS does not exist!\n",
            "\n",
            "⚠️ Warning: /content/frames_local/9324273838353927-ERASER does not exist!⚠️ Warning: /content/frames_local/8716180217095404-ELEGANCE does not exist!\n",
            "⚠️ Warning: /content/frames_local/18968990662795027-AIRPLANE does not exist!\n",
            "⚠️ Warning: /content/frames_local/3229705071919742-PATIENT does not exist!\n",
            "⚠️ Warning: /content/frames_local/8253806873281493-CRY does not exist!\n",
            "\n",
            "⚠️ Warning: /content/frames_local/21329501909097437-WEATHER does not exist!\n",
            "⚠️ Warning: /content/frames_local/19990732757569418-PRESIDENT does not exist!⚠️ Warning: /content/frames_local/08867647791826094-CHINA does not exist!\n",
            "⚠️ Warning: /content/frames_local/200173896438107-SNOB does not exist!\n",
            "\n",
            "⚠️ Warning: /content/frames_local/837263866248287-REST does not exist!⚠️ Warning: /content/frames_local/35351574162238864-MEAN does not exist!\n",
            "\n",
            "⚠️ Warning: /content/frames_local/48726938722294433-SWALLOW does not exist!\n",
            "⚠️ Warning: /content/frames_local/12290740911252196-LECTURE does not exist!⚠️ Warning: /content/frames_local/3890798109771796-NUMBERS does not exist!\n"
          ]
        },
        {
          "output_type": "stream",
          "name": "stderr",
          "text": [
            "\r  6%|▌         | 4849/83399 [00:29<08:40, 150.92it/s]"
          ]
        },
        {
          "output_type": "stream",
          "name": "stdout",
          "text": [
            "\n",
            "⚠️ Warning: /content/frames_local/6656614549551545-SUN does not exist!⚠️ Warning: /content/frames_local/8501375978472006-LOYAL does not exist!\n",
            "⚠️ Warning: /content/frames_local/8790296433636582-POINT does not exist!\n",
            "⚠️ Warning: /content/frames_local/7004505898659963-MICROSCOPE does not exist!\n",
            "\n",
            "⚠️ Warning: /content/frames_local/30872695257963656-TIRED does not exist!\n",
            "⚠️ Warning: /content/frames_local/0863524332460317-WAIT does not exist!⚠️ Warning: /content/frames_local/5486544112333125-OLD does not exist!\n",
            "⚠️ Warning: /content/frames_local/9912290086976439-CLASS does not exist!\n",
            "\n",
            "⚠️ Warning: /content/frames_local/9320292385729829-FINGERSPELLING does not exist!\n",
            "⚠️ Warning: /content/frames_local/36675204162669384-SKATEBOARDING does not exist!⚠️ Warning: /content/frames_local/5981534890525302-TREE does not exist!\n",
            "⚠️ Warning: /content/frames_local/34193275137454227-BRACELET does not exist!\n",
            "\n",
            "⚠️ Warning: /content/frames_local/5662876589804848-WAY does not exist!\n",
            "⚠️ Warning: /content/frames_local/43096592018678903-CHICAGO does not exist!\n",
            "⚠️ Warning: /content/frames_local/1612184972353583-BOX does not exist!⚠️ Warning: /content/frames_local/37442282455945275-COLOR does not exist!\n",
            "⚠️ Warning: /content/frames_local/6380185940873424-PERFECT does not exist!\n",
            "\n",
            "⚠️ Warning: /content/frames_local/05289771376597718-ABOUT does not exist!\n",
            "⚠️ Warning: /content/frames_local/49457526310695954-TRUE does not exist!⚠️ Warning: /content/frames_local/803744227919108-DEEP does not exist!\n",
            "\n",
            "⚠️ Warning: /content/frames_local/031700542066197324-BACON does not exist!⚠️ Warning: /content/frames_local/40395383317993594-MATH does not exist!"
          ]
        },
        {
          "output_type": "stream",
          "name": "stderr",
          "text": [
            "\r  6%|▌         | 4870/83399 [00:30<07:50, 166.89it/s]"
          ]
        },
        {
          "output_type": "stream",
          "name": "stdout",
          "text": [
            "\n",
            "\n",
            "⚠️ Warning: /content/frames_local/2961607283419716-OOPS does not exist!⚠️ Warning: /content/frames_local/889040271472131-MANY does not exist!\n",
            "\n",
            "⚠️ Warning: /content/frames_local/6236759434208634-WEDDING does not exist!\n",
            "⚠️ Warning: /content/frames_local/402432676555748-EMAIL does not exist!⚠️ Warning: /content/frames_local/1845988193133219-BOY does not exist!\n",
            "⚠️ Warning: /content/frames_local/8050409130285174-COUGH does not exist!\n",
            "⚠️ Warning: /content/frames_local/6823095307027713-TOILET does not exist!\n",
            "\n",
            "⚠️ Warning: /content/frames_local/9269595985966672-CONGRATULATIONS does not exist!⚠️ Warning: /content/frames_local/2804309818886517-BAR does not exist!\n",
            "\n",
            "⚠️ Warning: /content/frames_local/9772609870957438-DENTIST does not exist!⚠️ Warning: /content/frames_local/821577765331265-SHOP does not exist!\n",
            "\n",
            "⚠️ Warning: /content/frames_local/9365858017277664-GLOVES does not exist!⚠️ Warning: /content/frames_local/19617522278784905-POWER does not exist!\n",
            "\n",
            "⚠️ Warning: /content/frames_local/8966553845539804-FROM does not exist!⚠️ Warning: /content/frames_local/45804974752229444-ABOUT 2 does not exist!\n",
            "\n",
            "⚠️ Warning: /content/frames_local/5389584157138236-TIGER does not exist!⚠️ Warning: /content/frames_local/24289224539723375-SLEEP does not exist!\n",
            "\n",
            "⚠️ Warning: /content/frames_local/697764467890001-SISTER does not exist!"
          ]
        },
        {
          "output_type": "stream",
          "name": "stderr",
          "text": [
            "\r  6%|▌         | 4889/83399 [00:30<07:33, 173.04it/s]"
          ]
        },
        {
          "output_type": "stream",
          "name": "stdout",
          "text": [
            "⚠️ Warning: /content/frames_local/3520918489488334-LAPTOP does not exist!\n",
            "⚠️ Warning: /content/frames_local/09899721690579599-START does not exist!\n",
            "\n",
            "⚠️ Warning: /content/frames_local/8337026523524713-LOOK FOR does not exist!⚠️ Warning: /content/frames_local/723848087862726-SODA does not exist!\n",
            "\n",
            "⚠️ Warning: /content/frames_local/2994206695491113-MUSIC does not exist!⚠️ Warning: /content/frames_local/2092455901732615-OWL does not exist!\n",
            "⚠️ Warning: /content/frames_local/4920186526279182-GUESS does not exist!\n",
            "\n",
            "⚠️ Warning: /content/frames_local/3185966200088828-PERCENT does not exist!⚠️ Warning: /content/frames_local/5227765690124102-WORRY does not exist!\n",
            "\n",
            "⚠️ Warning: /content/frames_local/6711235939417988-PHONE does not exist!⚠️ Warning: /content/frames_local/8256956632691865-PULL does not exist!\n",
            "\n",
            "⚠️ Warning: /content/frames_local/18297405774767883-INJECT does not exist!\n",
            "⚠️ Warning: /content/frames_local/6131959245163774-BEAR does not exist!⚠️ Warning: /content/frames_local/09523025276163222-PENCIL does not exist!\n",
            "⚠️ Warning: /content/frames_local/09218836326656632-ACCIDENT does not exist!\n",
            "\n",
            "⚠️ Warning: /content/frames_local/10923787738394686-CHEESE does not exist!\n",
            "⚠️ Warning: /content/frames_local/7840378784731512-SUNSET does not exist!⚠️ Warning: /content/frames_local/12480382855352667-QUEEN does not exist!\n"
          ]
        },
        {
          "output_type": "stream",
          "name": "stderr",
          "text": [
            "\r  6%|▌         | 4907/83399 [00:30<07:53, 165.76it/s]"
          ]
        },
        {
          "output_type": "stream",
          "name": "stdout",
          "text": [
            "\n",
            "⚠️ Warning: /content/frames_local/8470372161835373-ATTENTION does not exist!⚠️ Warning: /content/frames_local/1338457656717602-SILLY does not exist!\n",
            "\n",
            "⚠️ Warning: /content/frames_local/5285250146241007-BABY does not exist!⚠️ Warning: /content/frames_local/37584053238743054-BEDROOM does not exist!\n",
            "\n",
            "⚠️ Warning: /content/frames_local/2410488016646437-DISAGREEMENT does not exist!⚠️ Warning: /content/frames_local/4257504060807218-CHECK does not exist!\n",
            "\n",
            "⚠️ Warning: /content/frames_local/9372146425165919-HOLIDAY does not exist!\n",
            "⚠️ Warning: /content/frames_local/6216809763132565-WATER does not exist!⚠️ Warning: /content/frames_local/3894366900090911-ELEPHANT does not exist!\n",
            "⚠️ Warning: /content/frames_local/9492741516473875-PRISON does not exist!\n",
            "\n",
            "⚠️ Warning: /content/frames_local/12214085111878381-SENTENCE does not exist!\n",
            "⚠️ Warning: /content/frames_local/8988100187454251-HIGH SCHOOL does not exist!⚠️ Warning: /content/frames_local/3181801115117937-CUTE does not exist!\n",
            "⚠️ Warning: /content/frames_local/16764061268382524-SCREWDRIVER does not exist!\n",
            "⚠️ Warning: /content/frames_local/9437772948180145-HELP does not exist!\n",
            "\n",
            "⚠️ Warning: /content/frames_local/9858325161708861-HAPPY does not exist!⚠️ Warning: /content/frames_local/14976997047874496-REASON does not exist!\n",
            "\n"
          ]
        },
        {
          "output_type": "stream",
          "name": "stderr",
          "text": [
            "\r  6%|▌         | 4924/83399 [00:30<08:06, 161.32it/s]"
          ]
        },
        {
          "output_type": "stream",
          "name": "stdout",
          "text": [
            "⚠️ Warning: /content/frames_local/8238843754656595-SYMPATHY does not exist!⚠️ Warning: /content/frames_local/3878260902223658-EAT does not exist!\n",
            "⚠️ Warning: /content/frames_local/9849349552559319-DISNEY does not exist!\n",
            "\n",
            "⚠️ Warning: /content/frames_local/05514004752578461-BREAKDOWN does not exist!\n",
            "⚠️ Warning: /content/frames_local/41775128552545326-BIRTHDAY does not exist!⚠️ Warning: /content/frames_local/08555642496420934-HEADPHONES does not exist!\n",
            "⚠️ Warning: /content/frames_local/22959470158691264-STIR does not exist!\n",
            "\n",
            "⚠️ Warning: /content/frames_local/8742773141210243-DOG does not exist!⚠️ Warning: /content/frames_local/8366079828801334-REMOTE CONTROL does not exist!\n",
            "⚠️ Warning: /content/frames_local/37321049482212953-PIRATE does not exist!\n",
            "\n",
            "⚠️ Warning: /content/frames_local/8404502586565061-WARM does not exist!⚠️ Warning: /content/frames_local/27259190630226193-COLD does not exist!\n",
            "⚠️ Warning: /content/frames_local/627120591953954-TRANSLATE does not exist!\n",
            "⚠️ Warning: /content/frames_local/9793375010555614-GRADUATE does not exist!\n",
            "\n",
            "⚠️ Warning: /content/frames_local/8749393726050247-ORDER does not exist!\n",
            "⚠️ Warning: /content/frames_local/0592912328585562-SCRIPT does not exist!⚠️ Warning: /content/frames_local/6749759738413912-ONION does not exist!\n",
            "⚠️ Warning: /content/frames_local/21898801470169205-VIBRATE does not exist!\n",
            "\n",
            "⚠️ Warning: /content/frames_local/027270909198915616-PROVIDE does not exist!⚠️ Warning: /content/frames_local/4898281672465843-HANDCUFFS does not exist!\n",
            "⚠️ Warning: /content/frames_local/6070835446902103-MEDITATE does not exist!\n"
          ]
        },
        {
          "output_type": "stream",
          "name": "stderr",
          "text": [
            "\r  6%|▌         | 4945/83399 [00:30<07:38, 170.93it/s]"
          ]
        },
        {
          "output_type": "stream",
          "name": "stdout",
          "text": [
            "\n",
            "⚠️ Warning: /content/frames_local/6464093120412355-ENEMY does not exist!⚠️ Warning: /content/frames_local/3899081554876245-CHEAP does not exist!\n",
            "\n",
            "⚠️ Warning: /content/frames_local/6093460428159307-SOMETHING does not exist!\n",
            "⚠️ Warning: /content/frames_local/867379505711998-AUTOMATIC does not exist!\n",
            "⚠️ Warning: /content/frames_local/9484684824521701-BOW does not exist!⚠️ Warning: /content/frames_local/5199998944940349-SHAKE does not exist!\n",
            "⚠️ Warning: /content/frames_local/11540229561399129-HURRICANE does not exist!\n",
            "\n",
            "⚠️ Warning: /content/frames_local/08005906550843589-MEMORIZE MEMORIZE does not exist!\n",
            "⚠️ Warning: /content/frames_local/35006004908904176-PLAN does not exist!\n",
            "⚠️ Warning: /content/frames_local/6318621846010368-DONT WANT does not exist!\n",
            "⚠️ Warning: /content/frames_local/8335671063540051-INTERVIEW does not exist!⚠️ Warning: /content/frames_local/10039847163897653-CEILING does not exist!\n",
            "\n",
            "⚠️ Warning: /content/frames_local/06836070131091998-NONE does not exist!\n",
            "⚠️ Warning: /content/frames_local/5904350853211902-EXPLODE does not exist!⚠️ Warning: /content/frames_local/355404065239981-PANCAKE does not exist!\n",
            "⚠️ Warning: /content/frames_local/7662078477538357-MIX does not exist!\n",
            "\n",
            "⚠️ Warning: /content/frames_local/46684232986746776-PLACE does not exist!⚠️ Warning: /content/frames_local/11515947422052664-UDDER does not exist!\n",
            "\n"
          ]
        },
        {
          "output_type": "stream",
          "name": "stderr",
          "text": [
            "\r  6%|▌         | 4963/83399 [00:30<07:34, 172.52it/s]"
          ]
        },
        {
          "output_type": "stream",
          "name": "stdout",
          "text": [
            "⚠️ Warning: /content/frames_local/365050874496073-PLATE does not exist!⚠️ Warning: /content/frames_local/21088229115934753-SPIDER does not exist!\n",
            "\n",
            "⚠️ Warning: /content/frames_local/9001663609516171-FLIPFLOPS does not exist!⚠️ Warning: /content/frames_local/5145477528943099-PLANT does not exist!\n",
            "\n",
            "⚠️ Warning: /content/frames_local/9151466310951184-YOUR does not exist!⚠️ Warning: /content/frames_local/8388965953662597-BANDAGE does not exist!\n",
            "\n",
            "⚠️ Warning: /content/frames_local/650049686475985-OSTRICH does not exist!⚠️ Warning: /content/frames_local/09232325846273137-HYPOCRITE does not exist!\n",
            "\n",
            "⚠️ Warning: /content/frames_local/7886376577929948-IN does not exist!\n",
            "⚠️ Warning: /content/frames_local/43202638913227465-PROJECT does not exist!⚠️ Warning: /content/frames_local/3103628223264496-STAPLER does not exist!\n",
            "⚠️ Warning: /content/frames_local/8314513525910783-REAL SICK does not exist!\n",
            "\n",
            "⚠️ Warning: /content/frames_local/6438377529646517-DIP does not exist!⚠️ Warning: /content/frames_local/8841950621088708-TUBE TOP does not exist!\n",
            "⚠️ Warning: /content/frames_local/6690972086833131-HAD ENOUGH does not exist!\n",
            "⚠️ Warning: /content/frames_local/941952397519477-JUGGLER does not exist!\n",
            "\n",
            "⚠️ Warning: /content/frames_local/8919913634223298-JELLYFISH does not exist!⚠️ Warning: /content/frames_local/7722574423756927-ACCENT does not exist!\n",
            "\n",
            "⚠️ Warning: /content/frames_local/966157574877937-UP does not exist!"
          ]
        },
        {
          "output_type": "stream",
          "name": "stderr",
          "text": [
            "\r  6%|▌         | 4981/83399 [00:30<08:08, 160.55it/s]"
          ]
        },
        {
          "output_type": "stream",
          "name": "stdout",
          "text": [
            "⚠️ Warning: /content/frames_local/7557946635554047-SUSPENDERS does not exist!\n",
            "\n",
            "⚠️ Warning: /content/frames_local/5793822075348691-BEE does not exist!\n",
            "⚠️ Warning: /content/frames_local/4668241430174449-HATCH does not exist!\n",
            "⚠️ Warning: /content/frames_local/1967996612041063-LEAD does not exist!\n",
            "⚠️ Warning: /content/frames_local/06800586878244852-TISSUE does not exist!⚠️ Warning: /content/frames_local/15456158285059085-PLOW does not exist!\n",
            "\n",
            "⚠️ Warning: /content/frames_local/12921835680715898-LEAK does not exist!⚠️ Warning: /content/frames_local/46415678860809706-DENT does not exist!\n",
            "\n",
            "⚠️ Warning: /content/frames_local/22913852774927168-TURN KEY does not exist!\n",
            "⚠️ Warning: /content/frames_local/7609192682423198-TOUGH does not exist!⚠️ Warning: /content/frames_local/27486118477949417-LOCK does not exist!\n",
            "⚠️ Warning: /content/frames_local/2150615622591261-ACCEPT does not exist!\n",
            "⚠️ Warning: /content/frames_local/029939897814391214-NET does not exist!\n",
            "\n",
            "⚠️ Warning: /content/frames_local/7280733097353684-RESCUE does not exist!⚠️ Warning: /content/frames_local/6465201046664308-BITE ON NECK does not exist!\n",
            "⚠️ Warning: /content/frames_local/6389096337952789-WALLET does not exist!\n",
            "\n",
            "⚠️ Warning: /content/frames_local/5448593913233613-MENTION does not exist!⚠️ Warning: /content/frames_local/17829071704874955-FOREST does not exist!\n",
            "\n",
            "⚠️ Warning: /content/frames_local/8951600018237054-DELIBERATE does not exist!⚠️ Warning: /content/frames_local/7038912940696482-MINIMUM 2 does not exist!"
          ]
        },
        {
          "output_type": "stream",
          "name": "stderr",
          "text": [
            "\r  6%|▌         | 5000/83399 [00:30<07:58, 163.93it/s]"
          ]
        },
        {
          "output_type": "stream",
          "name": "stdout",
          "text": [
            "\n",
            "⚠️ Warning: /content/frames_local/5956797143215982-LOOK LIKE does not exist!\n",
            "⚠️ Warning: /content/frames_local/826673303418344-WORSE does not exist!\n",
            "\n",
            "⚠️ Warning: /content/frames_local/26457211156373295-FADE does not exist!⚠️ Warning: /content/frames_local/32676509597778347-LUNCH does not exist!\n",
            "\n",
            "⚠️ Warning: /content/frames_local/15322175525553972-TYPE does not exist!⚠️ Warning: /content/frames_local/8917119128688213-EXCITED does not exist!\n",
            "\n",
            "⚠️ Warning: /content/frames_local/7994185871007549-ONE YEAR AGO does not exist!⚠️ Warning: /content/frames_local/8186159453888351-FAMOUS does not exist!\n",
            "\n",
            "⚠️ Warning: /content/frames_local/887597753120196-BREAK DOWN does not exist!⚠️ Warning: /content/frames_local/046901176082307705-EMPTY does not exist!\n",
            "⚠️ Warning: /content/frames_local/867187895221676-JUMP ROPE does not exist!\n",
            "⚠️ Warning: /content/frames_local/7237872207549283-MUSHROOM does not exist!\n",
            "⚠️ Warning: /content/frames_local/22254578298343852-AGENCY does not exist!\n",
            "\n",
            "⚠️ Warning: /content/frames_local/9399921590545732-CHAOS does not exist!\n",
            "⚠️ Warning: /content/frames_local/3871018134394899-FUNCTION does not exist!"
          ]
        },
        {
          "output_type": "stream",
          "name": "stderr",
          "text": [
            "\r  6%|▌         | 5017/83399 [00:30<07:58, 163.71it/s]"
          ]
        },
        {
          "output_type": "stream",
          "name": "stdout",
          "text": [
            "⚠️ Warning: /content/frames_local/22955120874798673-BANDAID does not exist!\n",
            "\n",
            "⚠️ Warning: /content/frames_local/8871402726040725-BEFORE does not exist!⚠️ Warning: /content/frames_local/949243039276715-INSTINCT does not exist!\n",
            "⚠️ Warning: /content/frames_local/9972202554909493-PROCESS does not exist!\n",
            "⚠️ Warning: /content/frames_local/6210479346117261-CLIP does not exist!\n",
            "\n",
            "⚠️ Warning: /content/frames_local/6241007972396422-BAT does not exist!\n",
            "⚠️ Warning: /content/frames_local/4369162008796992-EVERYDAY does not exist!⚠️ Warning: /content/frames_local/10477981454702934-HONK does not exist!\n",
            "⚠️ Warning: /content/frames_local/28537953632287816-EXAMPLE does not exist!\n",
            "⚠️ Warning: /content/frames_local/06563256757315261-ONE does not exist!\n",
            "\n",
            "⚠️ Warning: /content/frames_local/048035094833951186-MEXICAN does not exist!\n",
            "⚠️ Warning: /content/frames_local/2995978175034413-TONGUE does not exist!⚠️ Warning: /content/frames_local/33433083389447704-DEGREE does not exist!\n",
            "\n",
            "⚠️ Warning: /content/frames_local/5889618776207857-BRAG does not exist!⚠️ Warning: /content/frames_local/07901670636309577-RELEASE does not exist!\n",
            "\n",
            "⚠️ Warning: /content/frames_local/4967345016325151-MEGAPHONE does not exist!\n",
            "⚠️ Warning: /content/frames_local/3018646725769243-RESULT does not exist!"
          ]
        },
        {
          "output_type": "stream",
          "name": "stderr",
          "text": [
            "\r  6%|▌         | 5034/83399 [00:30<07:54, 165.21it/s]"
          ]
        },
        {
          "output_type": "stream",
          "name": "stdout",
          "text": [
            "⚠️ Warning: /content/frames_local/968768795755405-PRACTICE does not exist!\n",
            "\n",
            "⚠️ Warning: /content/frames_local/9167641148996328-SOON does not exist!⚠️ Warning: /content/frames_local/9174487289187576-AUDITORIUM does not exist!\n",
            "⚠️ Warning: /content/frames_local/0011794871760522074-ARREST does not exist!\n",
            "\n",
            "⚠️ Warning: /content/frames_local/04270417802674231-ONLY ONE does not exist!⚠️ Warning: /content/frames_local/40476184301049223-DIFFERENT does not exist!\n",
            "⚠️ Warning: /content/frames_local/16226944051867953-SNORKEL does not exist!\n",
            "\n",
            "⚠️ Warning: /content/frames_local/25792505727875326-SENATE does not exist!⚠️ Warning: /content/frames_local/442322505844821-SPAIN does not exist!\n",
            "\n",
            "⚠️ Warning: /content/frames_local/5186203212241176-HARMONICA does not exist!\n",
            "⚠️ Warning: /content/frames_local/8039794446519324-ACCESS does not exist!⚠️ Warning: /content/frames_local/5872349093209039-SOCIALIZE does not exist!\n",
            "\n",
            "⚠️ Warning: /content/frames_local/6986070633388071-A LITTLE BIT does not exist!\n",
            "⚠️ Warning: /content/frames_local/9459864504023865-WELCOME 2 does not exist!⚠️ Warning: /content/frames_local/08894875224126397-HINGE does not exist!\n",
            "\n",
            "⚠️ Warning: /content/frames_local/45019796319259586-GONE does not exist!\n"
          ]
        },
        {
          "output_type": "stream",
          "name": "stderr",
          "text": [
            "\r  6%|▌         | 5051/83399 [00:31<07:55, 164.88it/s]"
          ]
        },
        {
          "output_type": "stream",
          "name": "stdout",
          "text": [
            "⚠️ Warning: /content/frames_local/10747590806206708-ADMIT does not exist!⚠️ Warning: /content/frames_local/40186731925562014-BRAINWASH does not exist!\n",
            "\n",
            "⚠️ Warning: /content/frames_local/9229230966888857-POLICY does not exist!⚠️ Warning: /content/frames_local/07920867242275098-TUESDAY does not exist!\n",
            "\n",
            "⚠️ Warning: /content/frames_local/26469968699231505-BLOW does not exist!⚠️ Warning: /content/frames_local/44297246914857435-NEAR does not exist!\n",
            "⚠️ Warning: /content/frames_local/601033202066996-DOUBLE does not exist!\n",
            "\n",
            "⚠️ Warning: /content/frames_local/14585459102347098-RESIGN does not exist!⚠️ Warning: /content/frames_local/35704782814285396-UPSET does not exist!\n",
            "\n",
            "⚠️ Warning: /content/frames_local/48647962680719337-PARAGRAPH does not exist!⚠️ Warning: /content/frames_local/8864818374210477-ASTRONAUT does not exist!\n",
            "\n",
            "⚠️ Warning: /content/frames_local/6587940779936001-OPPORTUNITY does not exist!\n",
            "⚠️ Warning: /content/frames_local/6651892133846053-ERASE does not exist!⚠️ Warning: /content/frames_local/9587568006680056-EARS UP does not exist!\n",
            "⚠️ Warning: /content/frames_local/7839090389055114-STOPWATCH does not exist!\n",
            "⚠️ Warning: /content/frames_local/09348469961310468-MOTIVATION does not exist!\n",
            "\n",
            "⚠️ Warning: /content/frames_local/11312379324718091-NOT does not exist!⚠️ Warning: /content/frames_local/740729960848147-REDUCE does not exist!\n",
            "⚠️ Warning: /content/frames_local/4853399238120548-SWEATPANTS does not exist!\n",
            "\n"
          ]
        },
        {
          "output_type": "stream",
          "name": "stderr",
          "text": [
            "\r  6%|▌         | 5069/83399 [00:31<07:51, 166.07it/s]"
          ]
        },
        {
          "output_type": "stream",
          "name": "stdout",
          "text": [
            "⚠️ Warning: /content/frames_local/25216626927530617-POLICEMAN does not exist!⚠️ Warning: /content/frames_local/11130688855310233-SHOWER does not exist!\n",
            "⚠️ Warning: /content/frames_local/864946977308809-CLOWN does not exist!\n",
            "\n",
            "⚠️ Warning: /content/frames_local/812810176172859-WITCH does not exist!⚠️ Warning: /content/frames_local/4451754011272593-MECHANIC does not exist!\n",
            "⚠️ Warning: /content/frames_local/9874703412916241-MOUNTAIN does not exist!\n",
            "⚠️ Warning: /content/frames_local/8869024857354701-BIOLOGY does not exist!\n",
            "\n",
            "⚠️ Warning: /content/frames_local/8744320712286433-BASEBALL does not exist!⚠️ Warning: /content/frames_local/215939686394647-TENNIS does not exist!\n",
            "\n",
            "\n",
            "⚠️ Warning: /content/frames_local/6745308294249501-LIBRARY does not exist!⚠️ Warning: /content/frames_local/5560852599310773-ASIA does not exist!⚠️ Warning: /content/frames_local/25677903921203793-LAZY does not exist!\n",
            "\n",
            "⚠️ Warning: /content/frames_local/10277245860849527-ICECREAM does not exist!⚠️ Warning: /content/frames_local/3650927140835114-GUITAR does not exist!\n",
            "\n",
            "⚠️ Warning: /content/frames_local/7261874644944328-FIREMAN does not exist!⚠️ Warning: /content/frames_local/2016607229412537-GLOVE does not exist!\n",
            "\n"
          ]
        },
        {
          "output_type": "stream",
          "name": "stderr",
          "text": [
            "\r  6%|▌         | 5086/83399 [00:31<07:50, 166.50it/s]"
          ]
        },
        {
          "output_type": "stream",
          "name": "stdout",
          "text": [
            "⚠️ Warning: /content/frames_local/19201328411035767-GARAGE does not exist!⚠️ Warning: /content/frames_local/15495797849407733-HAT does not exist!\n",
            "\n",
            "⚠️ Warning: /content/frames_local/5764251733476722-ACTOR does not exist!⚠️ Warning: /content/frames_local/06692352920060629-AFRICA does not exist!\n",
            "\n",
            "⚠️ Warning: /content/frames_local/9388276927778041-FLOWER does not exist!⚠️ Warning: /content/frames_local/4327984754941605-HEAVEN does not exist!\n",
            "\n",
            "⚠️ Warning: /content/frames_local/34255818070307353-EGG does not exist!\n",
            "⚠️ Warning: /content/frames_local/04046225617330412-WINDOW does not exist!⚠️ Warning: /content/frames_local/6050098631464043-SOUP does not exist!\n",
            "⚠️ Warning: /content/frames_local/9366350422249945-WHIP does not exist!\n",
            "⚠️ Warning: /content/frames_local/14635410033347585-PAPERCUTTER does not exist!\n",
            "\n",
            "⚠️ Warning: /content/frames_local/9788547864951009-HUNT does not exist!\n",
            "⚠️ Warning: /content/frames_local/20753098638601952-SOME does not exist!\n",
            "⚠️ Warning: /content/frames_local/35593610763039196-SHRIMP does not exist!\n",
            "⚠️ Warning: /content/frames_local/9835564660486968-PRINT does not exist!⚠️ Warning: /content/frames_local/8131544680721032-BATHROOM does not exist!\n",
            "⚠️ Warning: /content/frames_local/9294921040852486-COCONUT does not exist!\n",
            "\n",
            "⚠️ Warning: /content/frames_local/5617542411329992-PILL does not exist!⚠️ Warning: /content/frames_local/9274444391825492-UNDERWEAR does not exist!\n"
          ]
        },
        {
          "output_type": "stream",
          "name": "stderr",
          "text": [
            "\r  6%|▌         | 5104/83399 [00:31<07:44, 168.47it/s]"
          ]
        },
        {
          "output_type": "stream",
          "name": "stdout",
          "text": [
            "⚠️ Warning: /content/frames_local/7068962713140909-STAIRS does not exist!\n",
            "\n",
            "⚠️ Warning: /content/frames_local/39618990187306236-BANANA does not exist!⚠️ Warning: /content/frames_local/5688080856457567-SHOULDER does not exist!\n",
            "\n",
            "⚠️ Warning: /content/frames_local/6460975038095058-DOOR does not exist!\n",
            "⚠️ Warning: /content/frames_local/035169723238424266-STAR does not exist!⚠️ Warning: /content/frames_local/94231402088536-FOX does not exist!\n",
            "\n",
            "⚠️ Warning: /content/frames_local/8462213144332857-BATH does not exist!⚠️ Warning: /content/frames_local/39076926116400745-THREE does not exist!\n",
            "\n",
            "⚠️ Warning: /content/frames_local/15471453286217618-ANGRY does not exist!⚠️ Warning: /content/frames_local/9303557889829679-MOTHER does not exist!\n",
            "⚠️ Warning: /content/frames_local/8457224502736105-DRESS does not exist!\n",
            "\n",
            "⚠️ Warning: /content/frames_local/40445292724522974-BRIDGE does not exist!⚠️ Warning: /content/frames_local/777529517934934-GRANDFATHER does not exist!\n",
            "\n",
            "⚠️ Warning: /content/frames_local/2822053357779504-FAVORITE does not exist!⚠️ Warning: /content/frames_local/670373595404113-CONCEPT does not exist!\n",
            "\n",
            "⚠️ Warning: /content/frames_local/6106108824666003-LOOK APPEARANCE does not exist!\n",
            "⚠️ Warning: /content/frames_local/04327869307483789-CITY does not exist!"
          ]
        },
        {
          "output_type": "stream",
          "name": "stderr",
          "text": [
            "\r  6%|▌         | 5121/83399 [00:31<08:01, 162.41it/s]"
          ]
        },
        {
          "output_type": "stream",
          "name": "stdout",
          "text": [
            "⚠️ Warning: /content/frames_local/4802355932387863-BUTTERFLY does not exist!\n",
            "\n",
            "⚠️ Warning: /content/frames_local/9103537770737806-BECAUSE does not exist!\n",
            "⚠️ Warning: /content/frames_local/8816248479971636-TRAIN does not exist!⚠️ Warning: /content/frames_local/6519955403496065-CHOCOLATE does not exist!\n",
            "\n",
            "⚠️ Warning: /content/frames_local/18948870294209286-SPEAKERS does not exist!⚠️ Warning: /content/frames_local/1672237389327702-BELT does not exist!\n",
            "⚠️ Warning: /content/frames_local/7712414501847134-CABINET does not exist!\n",
            "⚠️ Warning: /content/frames_local/4118375680000119-IMPORTANT does not exist!\n",
            "\n",
            "⚠️ Warning: /content/frames_local/40657449952402236-RAIN does not exist!\n",
            "⚠️ Warning: /content/frames_local/4444176110924285-WORK does not exist!\n",
            "⚠️ Warning: /content/frames_local/5784540598927743-SAME 2 does not exist!⚠️ Warning: /content/frames_local/21222964689743162-SURPRISE does not exist!\n",
            "\n",
            "⚠️ Warning: /content/frames_local/4821487626510894-SLOW does not exist!\n",
            "⚠️ Warning: /content/frames_local/6038570341411003-RECORDING does not exist!⚠️ Warning: /content/frames_local/6882471058649533-FARM does not exist!\n",
            "⚠️ Warning: /content/frames_local/34613174889864706-LIPSTICK does not exist!\n",
            "\n",
            "⚠️ Warning: /content/frames_local/32043721368056954-VIDEOPHONE does not exist!\n"
          ]
        },
        {
          "output_type": "stream",
          "name": "stderr",
          "text": [
            "\r  6%|▌         | 5138/83399 [00:31<08:45, 148.92it/s]"
          ]
        },
        {
          "output_type": "stream",
          "name": "stdout",
          "text": [
            "⚠️ Warning: /content/frames_local/43379976436209144-FOUR does not exist!⚠️ Warning: /content/frames_local/8945649881920716-SEW does not exist!\n",
            "\n",
            "⚠️ Warning: /content/frames_local/04209875382002948-ALPHABET does not exist!\n",
            "⚠️ Warning: /content/frames_local/4649907997271234-BROTHER does not exist!\n",
            "⚠️ Warning: /content/frames_local/30294479035915356-COOKIE does not exist!⚠️ Warning: /content/frames_local/28323736213143813-CIGAR does not exist!\n",
            "⚠️ Warning: /content/frames_local/926088497524737-WORM does not exist!\n",
            "\n",
            "⚠️ Warning: /content/frames_local/610863620137152-PERSON does not exist!⚠️ Warning: /content/frames_local/2494896745027353-THINGS does not exist!\n",
            "⚠️ Warning: /content/frames_local/9212269461672835-HEALTH does not exist!\n",
            "\n",
            "⚠️ Warning: /content/frames_local/34012252930267195-TROUBLE does not exist!⚠️ Warning: /content/frames_local/03369338322057569-THIEF 1 does not exist!\n",
            "\n",
            "⚠️ Warning: /content/frames_local/004887847449436045-AFTER does not exist!⚠️ Warning: /content/frames_local/4508341798030795-WEAR does not exist!\n",
            "⚠️ Warning: /content/frames_local/2624678001511518-PEOPLE does not exist!\n",
            "\n",
            "⚠️ Warning: /content/frames_local/21401511719546606-EXPERIENCE does not exist!\n",
            "⚠️ Warning: /content/frames_local/21089939742723418-DANCE does not exist!\n",
            "⚠️ Warning: /content/frames_local/3977310141245931-TRAVEL does not exist!⚠️ Warning: /content/frames_local/9055889816858886-BASEMENT does not exist!\n",
            "\n",
            "⚠️ Warning: /content/frames_local/7938459259825865-CALL TTY does not exist!⚠️ Warning: /content/frames_local/5994112703321048-MOVIE does not exist!\n"
          ]
        },
        {
          "output_type": "stream",
          "name": "stderr",
          "text": [
            "\r  6%|▌         | 5159/83399 [00:31<08:01, 162.43it/s]"
          ]
        },
        {
          "output_type": "stream",
          "name": "stdout",
          "text": [
            "\n",
            "⚠️ Warning: /content/frames_local/9877728376803387-CIGARETTE does not exist!\n",
            "⚠️ Warning: /content/frames_local/6425491441035218-AND does not exist!⚠️ Warning: /content/frames_local/4735608299622436-EMBARRASS does not exist!\n",
            "\n",
            "⚠️ Warning: /content/frames_local/3049515280092421-CHARACTER does not exist!⚠️ Warning: /content/frames_local/5742605484803873-BORROW does not exist!\n",
            "\n",
            "⚠️ Warning: /content/frames_local/5726531690314898-FINISH does not exist!\n",
            "⚠️ Warning: /content/frames_local/8369484731264638-SERIOUS does not exist!⚠️ Warning: /content/frames_local/7522334196783116-TEXT does not exist!\n",
            "⚠️ Warning: /content/frames_local/4589443576656864-EAT does not exist!\n",
            "\n",
            "⚠️ Warning: /content/frames_local/636251084458257-MUSEUM does not exist!⚠️ Warning: /content/frames_local/9479988066440874-FRONT does not exist!\n",
            "\n",
            "⚠️ Warning: /content/frames_local/45113267057151996-MUCH does not exist!⚠️ Warning: /content/frames_local/8136402654629118-THIEF 2 does not exist!\n",
            "⚠️ Warning: /content/frames_local/6777461042327673-EXPENSIVE does not exist!\n",
            "\n",
            "⚠️ Warning: /content/frames_local/04333098949461278-WHATEVER does not exist!⚠️ Warning: /content/frames_local/549789676053059-ZOOM IN does not exist!\n",
            "\n",
            "⚠️ Warning: /content/frames_local/3512784023936262-FATHER does not exist!⚠️ Warning: /content/frames_local/39754483460578527-LEAVE does not exist!\n",
            "\n",
            "⚠️ Warning: /content/frames_local/6333838161696508-FAMILY does not exist!⚠️ Warning: /content/frames_local/03546136992347759-LONELY does not exist!⚠️ Warning: /content/frames_local/004159753232056307-FOR does not exist!\n",
            "\n"
          ]
        },
        {
          "output_type": "stream",
          "name": "stderr",
          "text": [
            "\r  6%|▌         | 5177/83399 [00:31<08:04, 161.46it/s]"
          ]
        },
        {
          "output_type": "stream",
          "name": "stdout",
          "text": [
            "\n",
            "⚠️ Warning: /content/frames_local/8989337086309281-SORRY does not exist!\n",
            "⚠️ Warning: /content/frames_local/5240267173967887-DAY does not exist!\n",
            "⚠️ Warning: /content/frames_local/9333161236060592-STAFF does not exist!\n",
            "⚠️ Warning: /content/frames_local/030496184920495217-UGLY does not exist!⚠️ Warning: /content/frames_local/6486963257752727-SCARCELY does not exist!\n",
            "\n",
            "⚠️ Warning: /content/frames_local/5857463641824454-GROW does not exist!⚠️ Warning: /content/frames_local/20298892697180704-SHOW does not exist!\n",
            "⚠️ Warning: /content/frames_local/3850604313268331-AMERICA does not exist!\n",
            "\n",
            "⚠️ Warning: /content/frames_local/7910994357480832-FOOTBALL does not exist!⚠️ Warning: /content/frames_local/9429443550831056-TYPE does not exist!\n",
            "⚠️ Warning: /content/frames_local/3134439061460399-DECIDE does not exist!\n",
            "\n",
            "⚠️ Warning: /content/frames_local/7804768733728886-VOLLEYBALL does not exist!⚠️ Warning: /content/frames_local/17591650763959366-SUMMER does not exist!\n",
            "\n",
            "⚠️ Warning: /content/frames_local/16193634162832948-TEA does not exist!\n",
            "⚠️ Warning: /content/frames_local/7648979751136196-SHOES does not exist!⚠️ Warning: /content/frames_local/6784818906114318-PIG does not exist!\n",
            "\n",
            "⚠️ Warning: /content/frames_local/4844254694408183-SOCCER does not exist!⚠️ Warning: /content/frames_local/19957861557037648-FRIDAY does not exist!\n",
            "⚠️ Warning: /content/frames_local/5741304207753364-STARBUCKS does not exist!\n",
            "\n"
          ]
        },
        {
          "output_type": "stream",
          "name": "stderr",
          "text": [
            "\r  6%|▌         | 5198/83399 [00:31<07:41, 169.48it/s]"
          ]
        },
        {
          "output_type": "stream",
          "name": "stdout",
          "text": [
            "⚠️ Warning: /content/frames_local/9944902740277608-MEAN 1 does not exist!⚠️ Warning: /content/frames_local/5061652099724334-TOURNAMENT does not exist!\n",
            "⚠️ Warning: /content/frames_local/9670746241323227-FIRE does not exist!\n",
            "⚠️ Warning: /content/frames_local/14401372594348194-INTEREST does not exist!\n",
            "\n",
            "⚠️ Warning: /content/frames_local/7603496274244275-HEART does not exist!⚠️ Warning: /content/frames_local/9202276549000159-MOUSE does not exist!\n",
            "\n",
            "⚠️ Warning: /content/frames_local/7586609316296369-MIRROR does not exist!⚠️ Warning: /content/frames_local/7518611049674775-HUNGRY does not exist!\n",
            "⚠️ Warning: /content/frames_local/9872721105443023-SECRETARY does not exist!\n",
            "⚠️ Warning: /content/frames_local/7235756014443071-GIRAFFE does not exist!\n",
            "⚠️ Warning: /content/frames_local/18026721597087825-MCDONALDS does not exist!\n",
            "⚠️ Warning: /content/frames_local/2745734447375703-RUN does not exist!\n",
            "\n",
            "⚠️ Warning: /content/frames_local/5843421076828164-ANNOUNCE does not exist!\n",
            "⚠️ Warning: /content/frames_local/6150429897297969-FILM does not exist!\n",
            "⚠️ Warning: /content/frames_local/853465064744289-FLASHLIGHT does not exist!⚠️ Warning: /content/frames_local/8254001990194102-KITCHEN does not exist!\n",
            "\n",
            "⚠️ Warning: /content/frames_local/6938632225747956-WRISTWATCH does not exist!⚠️ Warning: /content/frames_local/2815153688644392-HEADACHE does not exist!\n",
            "⚠️ Warning: /content/frames_local/5669112421207392-PEACE does not exist!\n"
          ]
        },
        {
          "output_type": "stream",
          "name": "stderr",
          "text": [
            "\r  6%|▋         | 5217/83399 [00:32<07:39, 170.23it/s]"
          ]
        },
        {
          "output_type": "stream",
          "name": "stdout",
          "text": [
            "\n",
            "⚠️ Warning: /content/frames_local/2021611440533866-PARENTS does not exist!⚠️ Warning: /content/frames_local/7859226941090447-PICTURE does not exist!\n",
            "⚠️ Warning: /content/frames_local/08911277553972563-SUBTRACT does not exist!\n",
            "\n",
            "⚠️ Warning: /content/frames_local/9130579498640656-ENGINEER does not exist!⚠️ Warning: /content/frames_local/8213529388861069-EARTHQUAKE does not exist!\n",
            "⚠️ Warning: /content/frames_local/9051893697989994-BINOCULARS does not exist!\n",
            "⚠️ Warning: /content/frames_local/6012238095404652-BORED does not exist!\n",
            "\n",
            "⚠️ Warning: /content/frames_local/7085041042230886-GOOD does not exist!\n",
            "⚠️ Warning: /content/frames_local/08156873771804096-CAMERA does not exist!⚠️ Warning: /content/frames_local/7491844327944932-NOTHING does not exist!\n",
            "\n",
            "⚠️ Warning: /content/frames_local/47944524431366164-MOCK does not exist!⚠️ Warning: /content/frames_local/003104967374903289-LEARN does not exist!\n",
            "⚠️ Warning: /content/frames_local/9887798353281838-IMPOSSIBLE does not exist!\n",
            "\n",
            "⚠️ Warning: /content/frames_local/1300301228681695-MAN does not exist!⚠️ Warning: /content/frames_local/7084775726781616-DREAM does not exist!\n",
            "\n",
            "⚠️ Warning: /content/frames_local/5202693346604848-JUDGE does not exist!⚠️ Warning: /content/frames_local/1763039399316828-RIGHT 1 does not exist!\n",
            "⚠️ Warning: /content/frames_local/858187854712952-WONDER does not exist!"
          ]
        },
        {
          "output_type": "stream",
          "name": "stderr",
          "text": [
            "\r  6%|▋         | 5235/83399 [00:32<08:20, 156.29it/s]"
          ]
        },
        {
          "output_type": "stream",
          "name": "stdout",
          "text": [
            "\n",
            "\n",
            "⚠️ Warning: /content/frames_local/4560608489469089-FEEL does not exist!⚠️ Warning: /content/frames_local/8429819693693406-SON does not exist!\n",
            "\n",
            "⚠️ Warning: /content/frames_local/3708559151632207-TORNADO does not exist!⚠️ Warning: /content/frames_local/550785856321236-LIE does not exist!\n",
            "\n",
            "⚠️ Warning: /content/frames_local/3027864137490006-BLACK does not exist!\n",
            "⚠️ Warning: /content/frames_local/7973064120937594-ENGAGEMENT does not exist!⚠️ Warning: /content/frames_local/2798102684709274-CORN 1 does not exist!\n",
            "\n",
            "\n",
            "⚠️ Warning: /content/frames_local/4812800371383896-WORLD does not exist!⚠️ Warning: /content/frames_local/9324727251317597-CHALLENGE does not exist!⚠️ Warning: /content/frames_local/34997864237859133-NAPKIN does not exist!\n",
            "\n",
            "\n",
            "⚠️ Warning: /content/frames_local/7274202492977038-ACCOUNTANT does not exist!⚠️ Warning: /content/frames_local/3164082807347086-WAVE does not exist!⚠️ Warning: /content/frames_local/6572086904508581-BOSS does not exist!\n",
            "\n",
            "⚠️ Warning: /content/frames_local/826193150519942-AWKWARD does not exist!⚠️ Warning: /content/frames_local/8571935601460308-PRETTY does not exist!\n",
            "\n",
            "⚠️ Warning: /content/frames_local/305530143416596-TRY does not exist!\n"
          ]
        },
        {
          "output_type": "stream",
          "name": "stderr",
          "text": [
            "\r  6%|▋         | 5251/83399 [00:32<08:39, 150.32it/s]"
          ]
        },
        {
          "output_type": "stream",
          "name": "stdout",
          "text": [
            "⚠️ Warning: /content/frames_local/1610436179793051-FREEWAY does not exist!\n",
            "⚠️ Warning: /content/frames_local/463619394741162-BLINDS 1 does not exist!\n",
            "⚠️ Warning: /content/frames_local/5857440141605472-BODY does not exist!⚠️ Warning: /content/frames_local/4762940579750601-STRICT does not exist!\n",
            "⚠️ Warning: /content/frames_local/10918321198152792-RELATIONSHIP does not exist!\n",
            "⚠️ Warning: /content/frames_local/12409358618988597-FINGERSPELL does not exist!\n",
            "\n",
            "⚠️ Warning: /content/frames_local/7000874243015813-LETTUCE does not exist!⚠️ Warning: /content/frames_local/7033465900867839-CERTIFICATE does not exist!\n",
            "⚠️ Warning: /content/frames_local/9470368146172135-HAVE does not exist!\n",
            "\n",
            "⚠️ Warning: /content/frames_local/3035499350705533-SHAVE does not exist!⚠️ Warning: /content/frames_local/42445589883013324-KNIFE does not exist!\n",
            "\n",
            "⚠️ Warning: /content/frames_local/5304019170155241-LIVE 2 does not exist!⚠️ Warning: /content/frames_local/5084757713023533-WAR does not exist!\n",
            "\n",
            "⚠️ Warning: /content/frames_local/4899102132633415-PARADE does not exist!⚠️ Warning: /content/frames_local/5065954664960581-MONEY does not exist!\n",
            "\n",
            "⚠️ Warning: /content/frames_local/6819100660791151-LIGHT WEIGHT does not exist!\n",
            "⚠️ Warning: /content/frames_local/5046453969904139-AGE does not exist!⚠️ Warning: /content/frames_local/544610417328091-QUIET does not exist!\n",
            "\n",
            "⚠️ Warning: /content/frames_local/9671814018423202-TRAFFIC does not exist!⚠️ Warning: /content/frames_local/7429272464630379-PUZZLED does not exist!"
          ]
        },
        {
          "output_type": "stream",
          "name": "stderr",
          "text": [
            "\r  6%|▋         | 5270/83399 [00:32<08:14, 158.07it/s]"
          ]
        },
        {
          "output_type": "stream",
          "name": "stdout",
          "text": [
            "\n",
            "\n",
            "⚠️ Warning: /content/frames_local/9503476668943818-VIDEOCAMERA does not exist!⚠️ Warning: /content/frames_local/5005439341056899-STUBBORN does not exist!\n",
            "\n",
            "⚠️ Warning: /content/frames_local/22159974966617169-MINUTE does not exist!\n",
            "⚠️ Warning: /content/frames_local/610864291469946-CENTER does not exist!⚠️ Warning: /content/frames_local/6453006603430429-HONEST does not exist!\n",
            "⚠️ Warning: /content/frames_local/7956291862235558-LAST does not exist!\n",
            "\n",
            "⚠️ Warning: /content/frames_local/818141924942795-ISRAEL does not exist!⚠️ Warning: /content/frames_local/3292142826922635-SALT does not exist!\n",
            "\n",
            "⚠️ Warning: /content/frames_local/8455907271298346-PILE does not exist!⚠️ Warning: /content/frames_local/9025539797038711-COMMUNICATION does not exist!\n",
            "\n",
            "⚠️ Warning: /content/frames_local/04515307711600891-PLEASE does not exist!⚠️ Warning: /content/frames_local/9824526442836845-WHERE does not exist!\n",
            "\n",
            "⚠️ Warning: /content/frames_local/7465540695741637-ANIMAL does not exist!⚠️ Warning: /content/frames_local/9034585761421232-PURPLE does not exist!\n"
          ]
        },
        {
          "output_type": "stream",
          "name": "stderr",
          "text": [
            "\r  6%|▋         | 5286/83399 [00:32<08:19, 156.29it/s]"
          ]
        },
        {
          "output_type": "stream",
          "name": "stdout",
          "text": [
            "⚠️ Warning: /content/frames_local/8114625026876388-DRINK does not exist!\n",
            "\n",
            "⚠️ Warning: /content/frames_local/15263487501407003-VOTE does not exist!⚠️ Warning: /content/frames_local/6660247899308427-ARMY does not exist!\n",
            "⚠️ Warning: /content/frames_local/5781025522650556-PATIENT 2 does not exist!\n",
            "⚠️ Warning: /content/frames_local/6763157955886321-ASK does not exist!\n",
            "⚠️ Warning: /content/frames_local/2734240294538983-SAD does not exist!\n",
            "\n",
            "⚠️ Warning: /content/frames_local/7430906774707657-RELIGION does not exist!⚠️ Warning: /content/frames_local/9400623795619096-FIGHT does not exist!\n",
            "\n",
            "⚠️ Warning: /content/frames_local/7964065544716596-DONT MIND does not exist!⚠️ Warning: /content/frames_local/4088567245200463-CUTE 1 does not exist!\n",
            "⚠️ Warning: /content/frames_local/9565332233790493-HOME does not exist!\n",
            "\n",
            "⚠️ Warning: /content/frames_local/8420041257756872-DRYER does not exist!\n",
            "⚠️ Warning: /content/frames_local/21765240452364454-MAKE does not exist!\n",
            "⚠️ Warning: /content/frames_local/740450814270571-WARN does not exist!⚠️ Warning: /content/frames_local/5583049531354625-GAS does not exist!\n",
            "⚠️ Warning: /content/frames_local/09745490193894946-GET does not exist!\n",
            "⚠️ Warning: /content/frames_local/8334129636138299-WIN does not exist!\n",
            "⚠️ Warning: /content/frames_local/6309736897287943-GOVERNMENT does not exist!"
          ]
        },
        {
          "output_type": "stream",
          "name": "stderr",
          "text": [
            "\r  6%|▋         | 5303/83399 [00:32<08:22, 155.40it/s]"
          ]
        },
        {
          "output_type": "stream",
          "name": "stdout",
          "text": [
            "\n",
            "\n",
            "⚠️ Warning: /content/frames_local/24970523713591608-LAWNMOWER does not exist!⚠️ Warning: /content/frames_local/6501671307708881-GLASSES does not exist!\n",
            "⚠️ Warning: /content/frames_local/9364838497176455-TALK does not exist!\n",
            "⚠️ Warning: /content/frames_local/5228167151560652-FIRST does not exist!\n",
            "\n",
            "⚠️ Warning: /content/frames_local/09397980893878821-STUPID 1 does not exist!\n",
            "⚠️ Warning: /content/frames_local/26878876808901797-EXERCISE does not exist!⚠️ Warning: /content/frames_local/38007370261250095-IMAGINE does not exist!\n",
            "\n",
            "⚠️ Warning: /content/frames_local/9583700542294094-KEYBOARD does not exist!⚠️ Warning: /content/frames_local/2068510003978008-LATE does not exist!\n",
            "\n",
            "⚠️ Warning: /content/frames_local/0630591575543733-WISH does not exist!⚠️ Warning: /content/frames_local/8520281370343674-CALL ATTENTION does not exist!\n",
            "⚠️ Warning: /content/frames_local/9911464787639062-CHAT does not exist!\n",
            "\n",
            "⚠️ Warning: /content/frames_local/2752750580714487-TALL does not exist!\n",
            "⚠️ Warning: /content/frames_local/4191234565728781-CATHOLIC does not exist!\n",
            "⚠️ Warning: /content/frames_local/31096951207678036-DIVORCE does not exist!\n"
          ]
        },
        {
          "output_type": "stream",
          "name": "stderr",
          "text": [
            "\r  6%|▋         | 5319/83399 [00:32<08:22, 155.33it/s]"
          ]
        },
        {
          "output_type": "stream",
          "name": "stdout",
          "text": [
            "⚠️ Warning: /content/frames_local/6387741172238277-COUSIN does not exist!⚠️ Warning: /content/frames_local/19718312960319584-OWE does not exist!\n",
            "⚠️ Warning: /content/frames_local/6693403971688761-MACHINE does not exist!\n",
            "\n",
            "⚠️ Warning: /content/frames_local/25272468275938964-MUSTACHE does not exist!⚠️ Warning: /content/frames_local/4147425075800877-MIND does not exist!\n",
            "⚠️ Warning: /content/frames_local/689651243355925-SICK does not exist!\n",
            "\n",
            "⚠️ Warning: /content/frames_local/7592666596709279-GALLAUDET does not exist!\n",
            "⚠️ Warning: /content/frames_local/8723506669377621-KNOW does not exist!⚠️ Warning: /content/frames_local/09734878070308994-PINK does not exist!\n",
            "\n",
            "⚠️ Warning: /content/frames_local/8618961603650133-FIND does not exist!⚠️ Warning: /content/frames_local/8292720583827178-PROBLEM 2 does not exist!\n",
            "⚠️ Warning: /content/frames_local/7922312227425068-ACT does not exist!\n",
            "⚠️ Warning: /content/frames_local/0212880416270389-RING does not exist!\n",
            "\n",
            "⚠️ Warning: /content/frames_local/6341798068245716-NEW does not exist!⚠️ Warning: /content/frames_local/6492860175981747-VEGETABLE does not exist!\n",
            "⚠️ Warning: /content/frames_local/8277926564788656-EMOTION does not exist!\n"
          ]
        },
        {
          "output_type": "stream",
          "name": "stderr",
          "text": [
            "\r  6%|▋         | 5335/83399 [00:32<08:43, 149.12it/s]"
          ]
        },
        {
          "output_type": "stream",
          "name": "stdout",
          "text": [
            "⚠️ Warning: /content/frames_local/2512771957086346-BLIND does not exist!\n",
            "⚠️ Warning: /content/frames_local/4326169993763198-FINE does not exist!\n",
            "⚠️ Warning: /content/frames_local/03458515864070444-LOOK AT does not exist!\n",
            "⚠️ Warning: /content/frames_local/35664034264638844-BUILDING does not exist!\n",
            "\n",
            "⚠️ Warning: /content/frames_local/2873088052195172-COLLEGE does not exist!⚠️ Warning: /content/frames_local/19474873595302356-HIPPO does not exist!\n",
            "⚠️ Warning: /content/frames_local/0882890142916648-POSSIBLE does not exist!\n",
            "\n",
            "⚠️ Warning: /content/frames_local/565500451248597-DOUBT does not exist!⚠️ Warning: /content/frames_local/877479709655794-FLAG does not exist!\n",
            "\n",
            "⚠️ Warning: /content/frames_local/6823652673598293-PRICE does not exist!⚠️ Warning: /content/frames_local/19086306742473158-FRECKLES does not exist!\n",
            "⚠️ Warning: /content/frames_local/9070431385092066-VIOLIN does not exist!\n",
            "⚠️ Warning: /content/frames_local/29262412490880063-REALLY does not exist!\n",
            "\n",
            "⚠️ Warning: /content/frames_local/8003382091872024-5 DOLLARS does not exist!⚠️ Warning: /content/frames_local/7168321371853796-MORE does not exist!\n",
            "⚠️ Warning: /content/frames_local/18350855416331324-RUDE does not exist!\n",
            "\n"
          ]
        },
        {
          "output_type": "stream",
          "name": "stderr",
          "text": [
            "\r  6%|▋         | 5351/83399 [00:33<08:50, 147.23it/s]"
          ]
        },
        {
          "output_type": "stream",
          "name": "stdout",
          "text": [
            "⚠️ Warning: /content/frames_local/5975068622167394-HARD does not exist!⚠️ Warning: /content/frames_local/8569141386917738-FAT does not exist!\n",
            "⚠️ Warning: /content/frames_local/02799114422370419-KEY does not exist!\n",
            "⚠️ Warning: /content/frames_local/41921394077793783-BEHIND does not exist!\n",
            "\n",
            "⚠️ Warning: /content/frames_local/8056235018969913-TIME does not exist!⚠️ Warning: /content/frames_local/8258627425272631-BAKE 2 does not exist!\n",
            "\n",
            "⚠️ Warning: /content/frames_local/8448285770886244-VACATION does not exist!⚠️ Warning: /content/frames_local/977843503491413-PREFER does not exist!\n",
            "\n",
            "⚠️ Warning: /content/frames_local/6542147977884243-YEAR does not exist!\n",
            "⚠️ Warning: /content/frames_local/9651280508902436-CAREFUL does not exist!\n",
            "⚠️ Warning: /content/frames_local/3616509285711058-FALL 1 does not exist!⚠️ Warning: /content/frames_local/2752380702397059-OTHER does not exist!\n",
            "\n",
            "⚠️ Warning: /content/frames_local/5370506967910422-HOTDOG does not exist!\n",
            "⚠️ Warning: /content/frames_local/9125117637454339-PEPSI does not exist!⚠️ Warning: /content/frames_local/591140682226134-WHICH does not exist!\n",
            "⚠️ Warning: /content/frames_local/22349971035391758-WHO does not exist!\n",
            "\n",
            "⚠️ Warning: /content/frames_local/0063248103095783215-INVITE does not exist!"
          ]
        },
        {
          "output_type": "stream",
          "name": "stderr",
          "text": [
            "\r  6%|▋         | 5366/83399 [00:33<09:51, 131.94it/s]"
          ]
        },
        {
          "output_type": "stream",
          "name": "stdout",
          "text": [
            "\n",
            "⚠️ Warning: /content/frames_local/8512749353267319-HOSPITAL does not exist!\n",
            "⚠️ Warning: /content/frames_local/26945880222591767-PLAY does not exist!\n",
            "⚠️ Warning: /content/frames_local/6213417419229363-CREDIT CARD does not exist!⚠️ Warning: /content/frames_local/5103197530403352-WOMAN does not exist!\n",
            "\n",
            "⚠️ Warning: /content/frames_local/04104127400292379-BLOOD does not exist!⚠️ Warning: /content/frames_local/454669282327236-COMPLEX does not exist!\n",
            "⚠️ Warning: /content/frames_local/5086571279720689-GREEN does not exist!\n",
            "⚠️ Warning: /content/frames_local/6711457475275806-HEARING does not exist!\n",
            "⚠️ Warning: /content/frames_local/5362769992680791-MAYBE does not exist!\n",
            "\n",
            "⚠️ Warning: /content/frames_local/08302997220755581-BRAVE does not exist!\n",
            "⚠️ Warning: /content/frames_local/6696729548384996-SCARED does not exist!⚠️ Warning: /content/frames_local/844832567181113-PIPE does not exist!\n",
            "⚠️ Warning: /content/frames_local/07811938540831354-ACTION does not exist!⚠️ Warning: /content/frames_local/8913082367352165-FAULT does not exist!\n",
            "\n",
            "\n",
            "⚠️ Warning: /content/frames_local/8659755342997295-FOREIGNER does not exist!⚠️ Warning: /content/frames_local/7444758043561372-MORNING does not exist!\n",
            "\n"
          ]
        },
        {
          "output_type": "stream",
          "name": "stderr",
          "text": [
            "\r  6%|▋         | 5384/83399 [00:33<09:10, 141.79it/s]"
          ]
        },
        {
          "output_type": "stream",
          "name": "stdout",
          "text": [
            "⚠️ Warning: /content/frames_local/2999107393441156-UNDERSTAND does not exist!⚠️ Warning: /content/frames_local/6286683703284077-KING does not exist!\n",
            "⚠️ Warning: /content/frames_local/9398786262414585-TEMPTATION does not exist!\n",
            "⚠️ Warning: /content/frames_local/37501628654666685-CANCELLATION does not exist!\n",
            "\n",
            "⚠️ Warning: /content/frames_local/6293053024749944-NORTH does not exist!⚠️ Warning: /content/frames_local/8764129814637727-TWO does not exist!\n",
            "⚠️ Warning: /content/frames_local/011300307917835317-HAMMER does not exist!\n",
            "⚠️ Warning: /content/frames_local/6125149019504885-MEASURE does not exist!\n",
            "\n",
            "⚠️ Warning: /content/frames_local/6771871871632293-EXPLANATION does not exist!⚠️ Warning: /content/frames_local/8020060049631272-RIGHT 2 does not exist!\n",
            "⚠️ Warning: /content/frames_local/29315130219695895-SUSPECT does not exist!\n",
            "\n",
            "⚠️ Warning: /content/frames_local/1664158622534473-LAUGH does not exist!⚠️ Warning: /content/frames_local/9360594608322135-ALARM does not exist!\n",
            "\n",
            "⚠️ Warning: /content/frames_local/3718407754728854-EUROPE does not exist!⚠️ Warning: /content/frames_local/0536903996885747-ARM does not exist!\n",
            "⚠️ Warning: /content/frames_local/06797934033483455-CORN 2 does not exist!\n",
            "\n",
            "⚠️ Warning: /content/frames_local/6667799822024012-THAT does not exist!⚠️ Warning: /content/frames_local/8938312623284101-EGYPT does not exist!\n"
          ]
        },
        {
          "output_type": "stream",
          "name": "stderr",
          "text": [
            "\r  6%|▋         | 5402/83399 [00:33<08:40, 149.99it/s]"
          ]
        },
        {
          "output_type": "stream",
          "name": "stdout",
          "text": [
            "⚠️ Warning: /content/frames_local/927489845571307-SHOP 1 does not exist!\n",
            "\n",
            "⚠️ Warning: /content/frames_local/5277186652199011-GULLIBLE does not exist!⚠️ Warning: /content/frames_local/8484933768471203-CLEAR does not exist!\n",
            "\n",
            "⚠️ Warning: /content/frames_local/9125300798453833-NAME does not exist!⚠️ Warning: /content/frames_local/034395358559274-SKATE does not exist!\n",
            "\n",
            "⚠️ Warning: /content/frames_local/5050629133586628-RED does not exist!\n",
            "⚠️ Warning: /content/frames_local/9748158617376905-DISAPPEAR does not exist!⚠️ Warning: /content/frames_local/7113898894018067-STRANGE does not exist!\n",
            "\n",
            "⚠️ Warning: /content/frames_local/8164431015135714-FRIENDLY does not exist!⚠️ Warning: /content/frames_local/42535053648961685-PAIN does not exist!\n",
            "\n",
            "⚠️ Warning: /content/frames_local/8351529407222296-WHY does not exist!⚠️ Warning: /content/frames_local/6010486088739655-GREECE does not exist!\n",
            "\n",
            "⚠️ Warning: /content/frames_local/23421934614428053-BOWL does not exist!⚠️ Warning: /content/frames_local/7404533250864993-HUSBAND does not exist!\n",
            "\n",
            "⚠️ Warning: /content/frames_local/005158212043525179-UNIVERSITY does not exist!\n",
            "⚠️ Warning: /content/frames_local/046640480427470266-APPEAR does not exist!"
          ]
        },
        {
          "output_type": "stream",
          "name": "stderr",
          "text": [
            "\r  6%|▋         | 5418/83399 [00:33<08:47, 147.93it/s]"
          ]
        },
        {
          "output_type": "stream",
          "name": "stdout",
          "text": [
            "⚠️ Warning: /content/frames_local/9556351339722142-9 OCLOCK does not exist!\n",
            "\n",
            "⚠️ Warning: /content/frames_local/31791424786943345-FUTURE does not exist!⚠️ Warning: /content/frames_local/33226505202024437-LIGHTER does not exist!\n",
            "⚠️ Warning: /content/frames_local/9483343406371267-FALL 2 does not exist!\n",
            "⚠️ Warning: /content/frames_local/6460454526308552-MOTORCYCLE does not exist!\n",
            "\n",
            "⚠️ Warning: /content/frames_local/22878192813095-CHANNEL does not exist!\n",
            "⚠️ Warning: /content/frames_local/8843566864261965-MOVIE does not exist!⚠️ Warning: /content/frames_local/13575733201828144-COCACOLA does not exist!\n",
            "\n",
            "⚠️ Warning: /content/frames_local/38836319428880084-COVER UP does not exist!\n",
            "⚠️ Warning: /content/frames_local/8816357165622493-STOMACH does not exist!⚠️ Warning: /content/frames_local/8486809407942575-HELLO does not exist!\n",
            "\n",
            "⚠️ Warning: /content/frames_local/19811761553011809-FRAUD does not exist!⚠️ Warning: /content/frames_local/9716493262876276-ZOOM OFF does not exist!\n",
            "⚠️ Warning: /content/frames_local/846608437488356-MONDAY does not exist!\n",
            "\n",
            "⚠️ Warning: /content/frames_local/01798723214383169-WHEN does not exist!"
          ]
        },
        {
          "output_type": "stream",
          "name": "stderr",
          "text": [
            "\r  7%|▋         | 5433/83399 [00:33<08:58, 144.86it/s]"
          ]
        },
        {
          "output_type": "stream",
          "name": "stdout",
          "text": [
            "⚠️ Warning: /content/frames_local/6419668018466509-ADDRESS does not exist!\n",
            "\n",
            "\n",
            "⚠️ Warning: /content/frames_local/16058496472808903-SMILE does not exist!⚠️ Warning: /content/frames_local/2292672094149819-THANKSGIVING does not exist!⚠️ Warning: /content/frames_local/7572633297941147-FLOOR does not exist!\n",
            "\n",
            "⚠️ Warning: /content/frames_local/34469228401042806-HOPE does not exist!\n",
            "⚠️ Warning: /content/frames_local/8320934408924416-LATER does not exist!⚠️ Warning: /content/frames_local/3805398313971109-KISS does not exist!\n",
            "\n",
            "⚠️ Warning: /content/frames_local/3991863940471043-CAN does not exist!\n",
            "⚠️ Warning: /content/frames_local/1689589656661845-ROPE does not exist!⚠️ Warning: /content/frames_local/7989028566648158-ENVELOPE does not exist!\n",
            "\n",
            "⚠️ Warning: /content/frames_local/8758117372992305-INSURANCE does not exist!⚠️ Warning: /content/frames_local/6574917137950937-RESTAURANT does not exist!\n",
            "\n",
            "⚠️ Warning: /content/frames_local/3162392553828359-SAW does not exist!⚠️ Warning: /content/frames_local/38015177391211163-THERE does not exist!\n",
            "⚠️ Warning: /content/frames_local/5050846192311411-SMART does not exist!\n",
            "\n",
            "⚠️ Warning: /content/frames_local/28665443027662785-CONFIDENT does not exist!"
          ]
        },
        {
          "output_type": "stream",
          "name": "stderr",
          "text": [
            "\r  7%|▋         | 5448/83399 [00:33<09:13, 140.91it/s]"
          ]
        },
        {
          "output_type": "stream",
          "name": "stdout",
          "text": [
            "⚠️ Warning: /content/frames_local/08882787638193945-YOU does not exist!\n",
            "\n",
            "⚠️ Warning: /content/frames_local/35107278642600726-TOAST does not exist!⚠️ Warning: /content/frames_local/756456776601617-SING does not exist!\n",
            "\n",
            "⚠️ Warning: /content/frames_local/7348760878720193-MOVE does not exist!\n",
            "⚠️ Warning: /content/frames_local/004574749870814188-TEASE does not exist!⚠️ Warning: /content/frames_local/8284389811054094-SHIELD does not exist!\n",
            "\n",
            "⚠️ Warning: /content/frames_local/7276935438702148-FLIP SWITCH does not exist!⚠️ Warning: /content/frames_local/9514441695498146-NOT INTERESTED does not exist!\n",
            "\n",
            "⚠️ Warning: /content/frames_local/6282523279345376-BASIC does not exist!\n",
            "⚠️ Warning: /content/frames_local/5781960600941254-SSHH does not exist!⚠️ Warning: /content/frames_local/14341995590392775-NOISE does not exist!\n",
            "\n",
            "⚠️ Warning: /content/frames_local/8798935759644009-CONTINUE does not exist!⚠️ Warning: /content/frames_local/10831350581839994-SMELL does not exist!\n",
            "\n",
            "⚠️ Warning: /content/frames_local/6038568178399586-FAR does not exist!⚠️ Warning: /content/frames_local/18344890603199104-HORRIBLE does not exist!\n"
          ]
        },
        {
          "output_type": "stream",
          "name": "stderr",
          "text": [
            "\r  7%|▋         | 5464/83399 [00:33<08:58, 144.59it/s]"
          ]
        },
        {
          "output_type": "stream",
          "name": "stdout",
          "text": [
            "\n",
            "⚠️ Warning: /content/frames_local/12543635438423562-OUT does not exist!\n",
            "⚠️ Warning: /content/frames_local/87242531989345-PRESS IN_MIND does not exist!⚠️ Warning: /content/frames_local/9409105345475277-DEMAND does not exist!\n",
            "⚠️ Warning: /content/frames_local/7708500411978381-CONTACT does not exist!\n",
            "⚠️ Warning: /content/frames_local/9086920406108443-HURT does not exist!\n",
            "\n",
            "⚠️ Warning: /content/frames_local/3277929830395394-PEN does not exist!⚠️ Warning: /content/frames_local/6226423609043785-ALCOHOL does not exist!\n",
            "\n",
            "⚠️ Warning: /content/frames_local/8680703864042612-SCULPTURE does not exist!\n",
            "⚠️ Warning: /content/frames_local/7702732317612604-LAMP does not exist!⚠️ Warning: /content/frames_local/4756276002771511-PARK does not exist!\n",
            "\n",
            "⚠️ Warning: /content/frames_local/8329929725927463-FLY does not exist!\n",
            "⚠️ Warning: /content/frames_local/15827181452127737-SWEATSHIRT does not exist!⚠️ Warning: /content/frames_local/7644548493804291-GUILTY does not exist!\n",
            "\n",
            "⚠️ Warning: /content/frames_local/9576199944185619-ENGINE START does not exist!⚠️ Warning: /content/frames_local/5251421334072011-CONNECTION does not exist!\n",
            "\n"
          ]
        },
        {
          "output_type": "stream",
          "name": "stderr",
          "text": [
            "\r  7%|▋         | 5480/83399 [00:33<08:44, 148.68it/s]"
          ]
        },
        {
          "output_type": "stream",
          "name": "stdout",
          "text": [
            "⚠️ Warning: /content/frames_local/7506013332250281-EGG BEATER does not exist!⚠️ Warning: /content/frames_local/5089411486182629-SOAP 2 does not exist!\n",
            "⚠️ Warning: /content/frames_local/9496087152374615-CLOTHES does not exist!\n",
            "\n",
            "⚠️ Warning: /content/frames_local/3946460313155329-GIFT does not exist!⚠️ Warning: /content/frames_local/9111255823448849-SWITZERLAND does not exist!\n",
            "\n",
            "⚠️ Warning: /content/frames_local/6179728562227225-TEAM does not exist!\n",
            "⚠️ Warning: /content/frames_local/8635216593391397-WANT 2 does not exist!⚠️ Warning: /content/frames_local/09718501239506039-WALL does not exist!\n",
            "\n",
            "⚠️ Warning: /content/frames_local/907695515584602-BACK OUT does not exist!\n",
            "⚠️ Warning: /content/frames_local/580747422714518-PLAYERS does not exist!⚠️ Warning: /content/frames_local/403011023278246-VITAMINS does not exist!\n",
            "⚠️ Warning: /content/frames_local/8719426445294365-FILTER does not exist!\n",
            "⚠️ Warning: /content/frames_local/49250043474245286-NAIL CLIPPER does not exist!\n",
            "⚠️ Warning: /content/frames_local/6135303867305204-DO DO does not exist!\n",
            "\n",
            "⚠️ Warning: /content/frames_local/9369777220709194-LUNCH does not exist!⚠️ Warning: /content/frames_local/4476774321089436-GRENADE does not exist!\n",
            "\n"
          ]
        },
        {
          "output_type": "stream",
          "name": "stderr",
          "text": [
            "\r  7%|▋         | 5495/83399 [00:34<08:53, 146.02it/s]"
          ]
        },
        {
          "output_type": "stream",
          "name": "stdout",
          "text": [
            "\n",
            "⚠️ Warning: /content/frames_local/5672114136082571-FRACTION does not exist!⚠️ Warning: /content/frames_local/9114270627387133-MARRY does not exist!⚠️ Warning: /content/frames_local/41641754435813083-SERVE 1 does not exist!\n",
            "\n",
            "⚠️ Warning: /content/frames_local/33533579641984756-SINK does not exist!\n",
            "⚠️ Warning: /content/frames_local/9741344739326079-EACH does not exist!⚠️ Warning: /content/frames_local/27671356083499443-PEEKABOO does not exist!\n",
            "⚠️ Warning: /content/frames_local/01503483814871287-VIEW does not exist!\n",
            "\n",
            "⚠️ Warning: /content/frames_local/27840070944339557-ENTER does not exist!⚠️ Warning: /content/frames_local/5585504516868569-LICK 1 does not exist!\n",
            "\n",
            "⚠️ Warning: /content/frames_local/19101518478741797-PSYCHOLOGY does not exist!\n",
            "⚠️ Warning: /content/frames_local/5559713915729214-FLUTE does not exist!⚠️ Warning: /content/frames_local/6613956799362823-WORK OUT does not exist!\n",
            "⚠️ Warning: /content/frames_local/5158589650081722-STICKY does not exist!\n",
            "\n",
            "⚠️ Warning: /content/frames_local/7684766808275134-CHAIN does not exist!\n"
          ]
        },
        {
          "output_type": "stream",
          "name": "stderr",
          "text": [
            "\r  7%|▋         | 5510/83399 [00:34<08:55, 145.43it/s]"
          ]
        },
        {
          "output_type": "stream",
          "name": "stdout",
          "text": [
            "⚠️ Warning: /content/frames_local/1251149563957994-SHARK 2 does not exist!\n",
            "⚠️ Warning: /content/frames_local/7361740532823176-CHASE does not exist!\n",
            "⚠️ Warning: /content/frames_local/4352596043247927-SOCCER 2 does not exist!⚠️ Warning: /content/frames_local/2839124157595838-FALLING ASLEEP does not exist!\n",
            "\n",
            "⚠️ Warning: /content/frames_local/6566112740628165-BOXING does not exist!⚠️ Warning: /content/frames_local/2595479885629639-TAKE CARE does not exist!\n",
            "\n",
            "⚠️ Warning: /content/frames_local/16614537368890558-UNDER does not exist!\n",
            "⚠️ Warning: /content/frames_local/18426382863395863-BIB does not exist!⚠️ Warning: /content/frames_local/7724997614512248-PICNIC does not exist!\n",
            "⚠️ Warning: /content/frames_local/05227033977936646-SIGN does not exist!\n",
            "\n",
            "⚠️ Warning: /content/frames_local/9199970968008939-CATAPULT does not exist!⚠️ Warning: /content/frames_local/6097833834996984-HABIT does not exist!\n",
            "\n",
            "⚠️ Warning: /content/frames_local/19497901738379864-EMPHASIS does not exist!⚠️ Warning: /content/frames_local/5251854075988314-RICH does not exist!\n",
            "⚠️ Warning: /content/frames_local/40561271952008937-SWORD does not exist!\n",
            "\n",
            "⚠️ Warning: /content/frames_local/9287958169738808-HAMSTER does not exist!\n",
            "⚠️ Warning: /content/frames_local/21571872078682897-COOL 1 does not exist!⚠️ Warning: /content/frames_local/9497763695588415-ANY does not exist!\n",
            "\n",
            "⚠️ Warning: /content/frames_local/6202929717516972-DATE does not exist!"
          ]
        },
        {
          "output_type": "stream",
          "name": "stderr",
          "text": [
            "\r  7%|▋         | 5527/83399 [00:34<08:41, 149.42it/s]"
          ]
        },
        {
          "output_type": "stream",
          "name": "stdout",
          "text": [
            "\n",
            "⚠️ Warning: /content/frames_local/8730784587398288-THEN does not exist!\n",
            "⚠️ Warning: /content/frames_local/4550552264974046-CLICK does not exist!\n",
            "⚠️ Warning: /content/frames_local/6886449317279615-OVERLOOK does not exist!\n",
            "\n",
            "⚠️ Warning: /content/frames_local/01629043211279435-NOON does not exist!⚠️ Warning: /content/frames_local/6717438630074788-CHAMPION does not exist!\n",
            "⚠️ Warning: /content/frames_local/5555793849483415-HANUKKAH does not exist!⚠️ Warning: /content/frames_local/5766310933203924-HANDSOME 1 does not exist!\n",
            "⚠️ Warning: /content/frames_local/09093786350571431-CONCERNED does not exist!\n",
            "\n",
            "⚠️ Warning: /content/frames_local/17676404632160048-OUR does not exist!⚠️ Warning: /content/frames_local/4345282105699879-PLANET does not exist!\n",
            "⚠️ Warning: /content/frames_local/4076372305099043-PERFUME 2 does not exist!\n",
            "⚠️ Warning: /content/frames_local/8294648215878593-SOPHISTICATED does not exist!\n",
            "\n",
            "⚠️ Warning: /content/frames_local/8998002003908063-BOTTOM does not exist!⚠️ Warning: /content/frames_local/922463574196277-PAY does not exist!\n",
            "⚠️ Warning: /content/frames_local/2976065747793808-DAMN does not exist!\n",
            "\n",
            "⚠️ Warning: /content/frames_local/6696069281811927-INTERESTED does not exist!⚠️ Warning: /content/frames_local/4586246585397544-MOOSE does not exist!\n",
            "\n",
            "⚠️ Warning: /content/frames_local/9293608096453359-BLOOM does not exist!⚠️ Warning: /content/frames_local/39192617729039725-SPIT OUT does not exist!\n",
            "\n",
            "⚠️ Warning: /content/frames_local/8701233692078907-DONUT does not exist!"
          ]
        },
        {
          "output_type": "stream",
          "name": "stderr",
          "text": [
            "\r  7%|▋         | 5547/83399 [00:34<08:03, 160.91it/s]"
          ]
        },
        {
          "output_type": "stream",
          "name": "stdout",
          "text": [
            "⚠️ Warning: /content/frames_local/5899994875912065-FILTER does not exist!\n",
            "\n",
            "⚠️ Warning: /content/frames_local/9283181484122276-BASKET 2 does not exist!\n",
            "⚠️ Warning: /content/frames_local/185032905362712-NAIL CLIPPER does not exist!⚠️ Warning: /content/frames_local/25750282496831844-DO DO does not exist!\n",
            "\n",
            "⚠️ Warning: /content/frames_local/39425185396252194-GRENADE does not exist!⚠️ Warning: /content/frames_local/8636304237339409-LUNCH does not exist!\n",
            "\n",
            "⚠️ Warning: /content/frames_local/35405803115905177-FRACTION does not exist!⚠️ Warning: /content/frames_local/8280903955804748-MARRY does not exist!\n",
            "⚠️ Warning: /content/frames_local/5651921976088827-SERVE 1 does not exist!\n",
            "⚠️ Warning: /content/frames_local/6126680613541056-PEEKABOO does not exist!\n",
            "\n",
            "⚠️ Warning: /content/frames_local/43245204383901537-SINK does not exist!⚠️ Warning: /content/frames_local/44433152891227934-EACH does not exist!\n",
            "\n",
            "⚠️ Warning: /content/frames_local/3754039501828892-VIEW does not exist!⚠️ Warning: /content/frames_local/5370856418513936-LICK 1 does not exist!\n",
            "\n",
            "⚠️ Warning: /content/frames_local/09675735634085303-ENTER does not exist!\n",
            "⚠️ Warning: /content/frames_local/010907347756818675-FLUTE does not exist!\n"
          ]
        },
        {
          "output_type": "stream",
          "name": "stderr",
          "text": [
            "\r  7%|▋         | 5564/83399 [00:34<09:03, 143.12it/s]"
          ]
        },
        {
          "output_type": "stream",
          "name": "stdout",
          "text": [
            "⚠️ Warning: /content/frames_local/3282814396212965-WORK OUT does not exist!\n",
            "⚠️ Warning: /content/frames_local/5730224927631586-PSYCHOLOGY does not exist!⚠️ Warning: /content/frames_local/8410170070449154-STICKY does not exist!\n",
            "\n",
            "⚠️ Warning: /content/frames_local/2342707850085992-CHAIN does not exist!\n",
            "⚠️ Warning: /content/frames_local/4965864599765737-CHASE does not exist!\n",
            "⚠️ Warning: /content/frames_local/11079360510552072-SHARK 2 does not exist!\n",
            "⚠️ Warning: /content/frames_local/72398367775821-SOCCER 2 does not exist!⚠️ Warning: /content/frames_local/8377591346272821-FALLING ASLEEP does not exist!\n",
            "⚠️ Warning: /content/frames_local/38238803992261583-BOXING does not exist!\n",
            "⚠️ Warning: /content/frames_local/8361000531856151-TAKE CARE does not exist!\n",
            "\n",
            "⚠️ Warning: /content/frames_local/19025693129608157-UNDER does not exist!⚠️ Warning: /content/frames_local/02380330059460456-PICNIC does not exist!\n",
            "\n",
            "⚠️ Warning: /content/frames_local/236282574980911-BIB does not exist!⚠️ Warning: /content/frames_local/8936148680464566-SIGN does not exist!\n",
            "⚠️ Warning: /content/frames_local/497938198589996-HABIT does not exist!\n"
          ]
        },
        {
          "output_type": "stream",
          "name": "stderr",
          "text": [
            "\r  7%|▋         | 5579/83399 [00:34<09:27, 137.11it/s]"
          ]
        },
        {
          "output_type": "stream",
          "name": "stdout",
          "text": [
            "\n",
            "⚠️ Warning: /content/frames_local/523237874144665-CATAPULT does not exist!⚠️ Warning: /content/frames_local/6723780297191084-EMPHASIS does not exist!\n",
            "\n",
            "⚠️ Warning: /content/frames_local/2511088018378247-RICH does not exist!⚠️ Warning: /content/frames_local/36313079633553214-SWORD does not exist!\n",
            "⚠️ Warning: /content/frames_local/9542095941593864-HAMSTER does not exist!\n",
            "\n",
            "⚠️ Warning: /content/frames_local/9182759255600375-ANY does not exist!⚠️ Warning: /content/frames_local/5167820644296546-COOL 1 does not exist!\n",
            "\n",
            "⚠️ Warning: /content/frames_local/5226376534623975-DATE does not exist!\n",
            "⚠️ Warning: /content/frames_local/3546013316270238-THEN does not exist!\n",
            "⚠️ Warning: /content/frames_local/004531118475225915-CLICK does not exist!⚠️ Warning: /content/frames_local/8453711741111225-OVERLOOK does not exist!\n",
            "⚠️ Warning: /content/frames_local/8340736398605191-CHAMPION does not exist!\n",
            "\n",
            "⚠️ Warning: /content/frames_local/05600760261436233-BARRETTE does not exist!⚠️ Warning: /content/frames_local/20551774602534345-BEANIE does not exist!\n",
            "\n"
          ]
        },
        {
          "output_type": "stream",
          "name": "stderr",
          "text": [
            "\r  7%|▋         | 5593/83399 [00:34<10:18, 125.81it/s]"
          ]
        },
        {
          "output_type": "stream",
          "name": "stdout",
          "text": [
            "⚠️ Warning: /content/frames_local/21705819557923456-NOON does not exist!⚠️ Warning: /content/frames_local/025127876130696336-HANUKKAH does not exist!\n",
            "⚠️ Warning: /content/frames_local/31203579081025645-HANDSOME 1 does not exist!\n",
            "\n",
            "⚠️ Warning: /content/frames_local/20404657977461937-CONCERNED does not exist!⚠️ Warning: /content/frames_local/6822611439211304-PLANET does not exist!\n",
            "\n",
            "⚠️ Warning: /content/frames_local/40789532802368833-OUR does not exist!\n",
            "⚠️ Warning: /content/frames_local/3785029167709588-PERFUME 2 does not exist!⚠️ Warning: /content/frames_local/06850839431603406-SOPHISTICATED does not exist!\n",
            "\n",
            "⚠️ Warning: /content/frames_local/4799243767325354-BOTTOM does not exist!⚠️ Warning: /content/frames_local/2984718895306733-ESCALATOR does not exist!\n",
            "\n",
            "⚠️ Warning: /content/frames_local/9801937299398567-PAY does not exist!⚠️ Warning: /content/frames_local/454408610701297-INTERESTED does not exist!\n",
            "\n",
            "⚠️ Warning: /content/frames_local/14440549516530554-MOOSE does not exist!⚠️ Warning: /content/frames_local/661736899481443-BLOOM does not exist!\n",
            "\n",
            "⚠️ Warning: /content/frames_local/005013195834026929-DONUT does not exist!⚠️ Warning: /content/frames_local/333133781342801-SPIT OUT does not exist!\n",
            "\n",
            "⚠️ Warning: /content/frames_local/878344579180725-ACCORDION does not exist!"
          ]
        },
        {
          "output_type": "stream",
          "name": "stderr",
          "text": [
            "\r  7%|▋         | 5609/83399 [00:34<09:41, 133.75it/s]"
          ]
        },
        {
          "output_type": "stream",
          "name": "stdout",
          "text": [
            "\n",
            "⚠️ Warning: /content/frames_local/596098555876053-SIDEBURNS does not exist!⚠️ Warning: /content/frames_local/38075974598075124-THAN does not exist!\n",
            "\n",
            "⚠️ Warning: /content/frames_local/8424428563345265-FOLD does not exist!⚠️ Warning: /content/frames_local/8216002922108818-NORMAL does not exist!\n",
            "\n",
            "⚠️ Warning: /content/frames_local/7220982304659023-PEACOCK does not exist!⚠️ Warning: /content/frames_local/8586791498874051-PULL CONVINCE does not exist!\n",
            "\n",
            "⚠️ Warning: /content/frames_local/6197638079330103-MAPLE does not exist!\n",
            "⚠️ Warning: /content/frames_local/4683438900059915-SQUEEZE does not exist!⚠️ Warning: /content/frames_local/3492884473364901-FASHION does not exist!\n",
            "⚠️ Warning: /content/frames_local/4397579878966349-KNOCK OFF does not exist!\n",
            "⚠️ Warning: /content/frames_local/44452799622348405-DONT FEEL_LIKE does not exist!\n",
            "\n",
            "⚠️ Warning: /content/frames_local/6279254684315079-HATBRIM does not exist!⚠️ Warning: /content/frames_local/5647971144128416-GOODY GOODY_SHOE_OPPOSITE does not exist!\n",
            "\n"
          ]
        },
        {
          "output_type": "stream",
          "name": "stderr",
          "text": [
            "\r  7%|▋         | 5623/83399 [00:34<10:28, 123.80it/s]"
          ]
        },
        {
          "output_type": "stream",
          "name": "stdout",
          "text": [
            "⚠️ Warning: /content/frames_local/9409335332982465-CHEW 2 does not exist!⚠️ Warning: /content/frames_local/39651042023297367-LICK ENVELOPE does not exist!\n",
            "\n",
            "⚠️ Warning: /content/frames_local/2324755005778545-STUMBLE does not exist!⚠️ Warning: /content/frames_local/11445657472348914-TOSS does not exist!\n",
            "\n",
            "⚠️ Warning: /content/frames_local/8138805456009055-FLOAT 3 does not exist!⚠️ Warning: /content/frames_local/6846372391393167-ADVERTISE does not exist!\n",
            "\n",
            "⚠️ Warning: /content/frames_local/4960610611661067-DEMOTE does not exist!⚠️ Warning: /content/frames_local/6936664118239242-INHALE does not exist!\n",
            "\n",
            "⚠️ Warning: /content/frames_local/7530954434288228-PEACOCK does not exist!⚠️ Warning: /content/frames_local/13661707748407892-PULL CONVINCE does not exist!\n",
            "\n",
            "⚠️ Warning: /content/frames_local/621574532525299-MAPLE does not exist!⚠️ Warning: /content/frames_local/20190810541906523-FASHION does not exist!\n",
            "\n",
            "⚠️ Warning: /content/frames_local/3788498239564302-SQUEEZE does not exist!⚠️ Warning: /content/frames_local/6839157796241302-EMPTY 2 does not exist!\n",
            "⚠️ Warning: /content/frames_local/33617278180287236-KNOCK OFF does not exist!\n",
            "\n",
            "⚠️ Warning: /content/frames_local/9616167313159969-DONT FEEL_LIKE does not exist!\n",
            "⚠️ Warning: /content/frames_local/26382292124424866-HATBRIM does not exist!⚠️ Warning: /content/frames_local/605411481055645-GOODY GOODY_SHOE_OPPOSITE does not exist!\n"
          ]
        },
        {
          "output_type": "stream",
          "name": "stderr",
          "text": [
            "\r  7%|▋         | 5640/83399 [00:35<09:40, 133.95it/s]"
          ]
        },
        {
          "output_type": "stream",
          "name": "stdout",
          "text": [
            "⚠️ Warning: /content/frames_local/6403482820302542-SWEAR IN does not exist!\n",
            "\n",
            "⚠️ Warning: /content/frames_local/5308846577246644-CHEW 2 does not exist!⚠️ Warning: /content/frames_local/33392720672018217-LICK ENVELOPE does not exist!\n",
            "\n",
            "⚠️ Warning: /content/frames_local/008737400694678765-STUMBLE does not exist!\n",
            "⚠️ Warning: /content/frames_local/10972712475012325-TOSS does not exist!⚠️ Warning: /content/frames_local/08182639611196718-FLOAT 3 does not exist!\n",
            "\n",
            "⚠️ Warning: /content/frames_local/6187924508249534-ADVERTISE does not exist!⚠️ Warning: /content/frames_local/8557141167914362-DEMOTE does not exist!\n",
            "\n",
            "⚠️ Warning: /content/frames_local/13880688680907127-INHALE does not exist!⚠️ Warning: /content/frames_local/24455082065861-CARDS does not exist!\n",
            "\n",
            "⚠️ Warning: /content/frames_local/14739727292722882-MINIMUM does not exist!⚠️ Warning: /content/frames_local/23486971910265741-JUNIOR does not exist!\n",
            "\n",
            "⚠️ Warning: /content/frames_local/2678196936071211-NEXT DOWN does not exist!⚠️ Warning: /content/frames_local/7221927626254472-GLOVES 3 does not exist!\n",
            "⚠️ Warning: /content/frames_local/2607433914439652-SLICE 2 does not exist!\n",
            "⚠️ Warning: /content/frames_local/10248878774853143-ARREST 2 does not exist!\n"
          ]
        },
        {
          "output_type": "stream",
          "name": "stderr",
          "text": [
            "\r  7%|▋         | 5656/83399 [00:35<09:14, 140.21it/s]"
          ]
        },
        {
          "output_type": "stream",
          "name": "stdout",
          "text": [
            "\n",
            "⚠️ Warning: /content/frames_local/7797773669606152-ENVELOPE 4 does not exist!⚠️ Warning: /content/frames_local/2628707364718965-TRIM 2 does not exist!\n",
            "⚠️ Warning: /content/frames_local/5423558529244006-FOLLOW 3 does not exist!\n",
            "\n",
            "⚠️ Warning: /content/frames_local/8424935950750772-NOSE BLEED does not exist!\n",
            "⚠️ Warning: /content/frames_local/8259404235256518-SAW 2 does not exist!\n",
            "⚠️ Warning: /content/frames_local/21915782305456744-KANGAROO 3 does not exist!⚠️ Warning: /content/frames_local/6210544475686006-PILLOW 3 does not exist!\n",
            "⚠️ Warning: /content/frames_local/4253780368733031-MOP 2 does not exist!\n",
            "\n",
            "⚠️ Warning: /content/frames_local/2511133708202009-STAND 2 does not exist!\n",
            "⚠️ Warning: /content/frames_local/7226364202240358-MEASURE 2 does not exist!⚠️ Warning: /content/frames_local/5442152736942125-SHAVE 4 does not exist!\n",
            "\n",
            "⚠️ Warning: /content/frames_local/822189397610636-PEACH 2 does not exist!⚠️ Warning: /content/frames_local/5946508818663139-BOIL 2 does not exist!\n",
            "\n",
            "⚠️ Warning: /content/frames_local/9307276820988679-FLOAT 2 does not exist!⚠️ Warning: /content/frames_local/3583023303683064-MOUNTAIN 2 does not exist!\n"
          ]
        },
        {
          "output_type": "stream",
          "name": "stderr",
          "text": [
            "\r  7%|▋         | 5672/83399 [00:35<08:57, 144.73it/s]"
          ]
        },
        {
          "output_type": "stream",
          "name": "stdout",
          "text": [
            "\n",
            "⚠️ Warning: /content/frames_local/5682545695343177-MIX 3 does not exist!⚠️ Warning: /content/frames_local/1504078926000474-JELLY does not exist!\n",
            "\n",
            "⚠️ Warning: /content/frames_local/32763730854943884-ERASE 2 does not exist!\n",
            "⚠️ Warning: /content/frames_local/03928909415856574-PIPE 3 does not exist!⚠️ Warning: /content/frames_local/569190475941395-WELL does not exist!\n",
            "\n",
            "⚠️ Warning: /content/frames_local/5340088771052538-ROLLERBLADING does not exist!⚠️ Warning: /content/frames_local/15661263701173755-LEAF does not exist!\n",
            "⚠️ Warning: /content/frames_local/3273319577053584-COOK does not exist!⚠️ Warning: /content/frames_local/09078161808767748-GLOW does not exist!\n",
            "\n",
            "⚠️ Warning: /content/frames_local/06447197865503007-HOP does not exist!\n",
            "⚠️ Warning: /content/frames_local/2794086141872536-HIT 1 does not exist!\n",
            "\n",
            "⚠️ Warning: /content/frames_local/5569761642404716-HEAD GRIND does not exist!⚠️ Warning: /content/frames_local/17263093632012416-DECLINE does not exist!\n",
            "⚠️ Warning: /content/frames_local/4239479159380417-PEAS 1 does not exist!\n",
            "\n",
            "⚠️ Warning: /content/frames_local/09063612075463823-BEAVER does not exist!⚠️ Warning: /content/frames_local/796978523014725-GLUE 2 does not exist!\n",
            "\n",
            "⚠️ Warning: /content/frames_local/668275478038231-PENIS does not exist!⚠️ Warning: /content/frames_local/3914230501847933-THINK CONNECT does not exist!\n"
          ]
        },
        {
          "output_type": "stream",
          "name": "stderr",
          "text": [
            "\r  7%|▋         | 5690/83399 [00:35<08:26, 153.44it/s]"
          ]
        },
        {
          "output_type": "stream",
          "name": "stdout",
          "text": [
            "⚠️ Warning: /content/frames_local/23933278771390532-SHAKE 2 does not exist!\n",
            "⚠️ Warning: /content/frames_local/45575093364559827-RECORD does not exist!\n",
            "\n",
            "⚠️ Warning: /content/frames_local/9479411595931251-NOT USED_TO does not exist!⚠️ Warning: /content/frames_local/08729644307275741-MAID does not exist!⚠️ Warning: /content/frames_local/9782894584521402-RULER does not exist!\n",
            "\n",
            "\n",
            "⚠️ Warning: /content/frames_local/07416927523932748-VERY INTERESTED does not exist!⚠️ Warning: /content/frames_local/015304758876497848-GOODY GOODY does not exist!\n",
            "\n",
            "⚠️ Warning: /content/frames_local/41935593975699725-TRUCK 1 does not exist!\n",
            "⚠️ Warning: /content/frames_local/47011708947166886-GO BACK_AND_FORTH does not exist!⚠️ Warning: /content/frames_local/6310612447429356-TALK 2 does not exist!\n",
            "⚠️ Warning: /content/frames_local/42422483047055737-COME HERE does not exist!\n",
            "⚠️ Warning: /content/frames_local/5454725465939667-POSSUM does not exist!\n",
            "\n",
            "⚠️ Warning: /content/frames_local/6505272447775527-SOON 3 does not exist!\n",
            "⚠️ Warning: /content/frames_local/014002112038070447-HOWL does not exist!⚠️ Warning: /content/frames_local/7798422774644627-STRANGLE does not exist!\n",
            "⚠️ Warning: /content/frames_local/20831865620547463-DRAG does not exist!\n",
            "\n",
            "⚠️ Warning: /content/frames_local/8933129658634251-BOUNCE does not exist!\n"
          ]
        },
        {
          "output_type": "stream",
          "name": "stderr",
          "text": [
            "\r  7%|▋         | 5707/83399 [00:35<08:22, 154.50it/s]"
          ]
        },
        {
          "output_type": "stream",
          "name": "stdout",
          "text": [
            "⚠️ Warning: /content/frames_local/08723629719960146-MEXICAN 2 does not exist!⚠️ Warning: /content/frames_local/009149560375806498-HANDSOME 4 does not exist!\n",
            "\n",
            "⚠️ Warning: /content/frames_local/8483818345337271-FRIENDS NO_MORE_1 does not exist!\n",
            "⚠️ Warning: /content/frames_local/9448817549646757-SANDWICH 4 does not exist!⚠️ Warning: /content/frames_local/30007765258478414-DIP 2 does not exist!\n",
            "\n",
            "⚠️ Warning: /content/frames_local/21709947697252185-BOARD does not exist!⚠️ Warning: /content/frames_local/9659977020053294-HIT 2 does not exist!\n",
            "⚠️ Warning: /content/frames_local/7293978223737516-BOW 4 does not exist!\n",
            "⚠️ Warning: /content/frames_local/44442500052425893-LOCKER does not exist!\n",
            "\n",
            "⚠️ Warning: /content/frames_local/7926234318938279-JACKET 3 does not exist!⚠️ Warning: /content/frames_local/3901569179507196-GREET 2 does not exist!\n",
            "\n",
            "⚠️ Warning: /content/frames_local/545307779804775-SUNBATHE 2 does not exist!⚠️ Warning: /content/frames_local/8041759612730164-INCREDIBLE does not exist!\n",
            "\n",
            "⚠️ Warning: /content/frames_local/8793580617791075-FIREMAN 2 does not exist!⚠️ Warning: /content/frames_local/880003160635459-SLICE 4 does not exist!\n",
            "\n",
            "⚠️ Warning: /content/frames_local/0005170475926585816-KICK 2 does not exist!\n",
            "⚠️ Warning: /content/frames_local/15296580891741485-BOOTS 2 does not exist!⚠️ Warning: /content/frames_local/5314582827458765-MAGNET 3 does not exist!\n"
          ]
        },
        {
          "output_type": "stream",
          "name": "stderr",
          "text": [
            "\r  7%|▋         | 5723/83399 [00:35<08:59, 143.84it/s]"
          ]
        },
        {
          "output_type": "stream",
          "name": "stdout",
          "text": [
            "\n",
            "⚠️ Warning: /content/frames_local/17662911519092162-DROWN 5 does not exist!\n",
            "⚠️ Warning: /content/frames_local/7441608524056327-FILE 3 does not exist!⚠️ Warning: /content/frames_local/8392079179773695-DOG 2 does not exist!\n",
            "⚠️ Warning: /content/frames_local/24505048175178268-CHEW 3 does not exist!\n",
            "⚠️ Warning: /content/frames_local/3154325363048438-TRIM 1 does not exist!\n",
            "\n",
            "⚠️ Warning: /content/frames_local/8914164379763065-FILE 4 does not exist!⚠️ Warning: /content/frames_local/742551525151036-EAGLE 2 does not exist!\n",
            "\n",
            "⚠️ Warning: /content/frames_local/5775162207444298-PRINCE does not exist!⚠️ Warning: /content/frames_local/9128235269850151-HANDSOME 3 does not exist!\n",
            "\n",
            "⚠️ Warning: /content/frames_local/799446968236039-VAGINA does not exist!⚠️ Warning: /content/frames_local/0841110064889663-SNAIL does not exist!\n",
            "\n",
            "⚠️ Warning: /content/frames_local/19329624594966743-ESCALATE does not exist!⚠️ Warning: /content/frames_local/09347998791636791-ALL TOGETHER does not exist!\n"
          ]
        },
        {
          "output_type": "stream",
          "name": "stderr",
          "text": [
            "\r  7%|▋         | 5738/83399 [00:35<09:48, 131.91it/s]"
          ]
        },
        {
          "output_type": "stream",
          "name": "stdout",
          "text": [
            "⚠️ Warning: /content/frames_local/7201139167303696-BASKETBALL does not exist!\n",
            "\n",
            "⚠️ Warning: /content/frames_local/6704855310182656-GOTCHA does not exist!⚠️ Warning: /content/frames_local/72858843580067-DEAL CARDS does not exist!\n",
            "\n",
            "⚠️ Warning: /content/frames_local/45967934666904164-KNIGHT 2 does not exist!⚠️ Warning: /content/frames_local/23637168299128453-SHAVE 5 does not exist!\n",
            "\n",
            "⚠️ Warning: /content/frames_local/4457951014850543-KNIGHT 3 does not exist!⚠️ Warning: /content/frames_local/5343217765994814-NUT 2 does not exist!\n",
            "\n",
            "⚠️ Warning: /content/frames_local/4058121945417954-REST ALL_DAY does not exist!\n",
            "⚠️ Warning: /content/frames_local/6553933098001412-COINS does not exist!⚠️ Warning: /content/frames_local/031144760245010783-PEEL 3 does not exist!\n",
            "\n",
            "⚠️ Warning: /content/frames_local/23870842265721248-A-LINE BOB does not exist!\n",
            "⚠️ Warning: /content/frames_local/4051810052142839-AUNT does not exist!⚠️ Warning: /content/frames_local/3538260339235473-SAUCE does not exist!\n",
            "\n",
            "⚠️ Warning: /content/frames_local/34344795542779183-CLEAN does not exist!⚠️ Warning: /content/frames_local/603125700719298-SUSPEND does not exist!\n",
            "⚠️ Warning: /content/frames_local/8073302449856867-LONG WORD does not exist!\n",
            "\n"
          ]
        },
        {
          "output_type": "stream",
          "name": "stderr",
          "text": [
            "\r  7%|▋         | 5754/83399 [00:35<09:31, 135.87it/s]"
          ]
        },
        {
          "output_type": "stream",
          "name": "stdout",
          "text": [
            "⚠️ Warning: /content/frames_local/6944553843186718-TRANSFER does not exist!⚠️ Warning: /content/frames_local/2315427487311843-SHELF does not exist!\n",
            "\n",
            "⚠️ Warning: /content/frames_local/4083318913794891-WINDMILL does not exist!⚠️ Warning: /content/frames_local/19080898986839512-UMBRELLA does not exist!\n",
            "\n",
            "⚠️ Warning: /content/frames_local/37153580354074367-PEPPER does not exist!\n",
            "⚠️ Warning: /content/frames_local/369505341760195-BAG does not exist!⚠️ Warning: /content/frames_local/8835464041131997-SCISSORS does not exist!\n",
            "⚠️ Warning: /content/frames_local/8628564080793115-CHANCE does not exist!\n",
            "\n",
            "⚠️ Warning: /content/frames_local/7311536614983887-RAZOR does not exist!⚠️ Warning: /content/frames_local/8125487908323197-CURTAIN does not exist!\n",
            "⚠️ Warning: /content/frames_local/21253872428857212-CLOUD does not exist!\n",
            "\n",
            "⚠️ Warning: /content/frames_local/764702091809278-BUTTER does not exist!⚠️ Warning: /content/frames_local/08204791496815589-SHORTS does not exist!\n",
            "⚠️ Warning: /content/frames_local/902486983171692-GRASS does not exist!\n",
            "\n",
            "⚠️ Warning: /content/frames_local/005408979517623536-BAKE 1 does not exist!"
          ]
        },
        {
          "output_type": "stream",
          "name": "stderr",
          "text": [
            "\r  7%|▋         | 5768/83399 [00:36<10:43, 120.58it/s]"
          ]
        },
        {
          "output_type": "stream",
          "name": "stdout",
          "text": [
            "⚠️ Warning: /content/frames_local/7904310272239314-FRENCHFRIES does not exist!\n",
            "\n",
            "⚠️ Warning: /content/frames_local/14577298777618153-ROCK does not exist!\n",
            "⚠️ Warning: /content/frames_local/3693915285317242-STRAWBERRY does not exist!⚠️ Warning: /content/frames_local/8477333577853237-PRIDE does not exist!\n",
            "\n",
            "⚠️ Warning: /content/frames_local/1573156729800702-ORANGE does not exist!\n",
            "⚠️ Warning: /content/frames_local/8707376193387233-BOWLING does not exist!⚠️ Warning: /content/frames_local/7028028243066304-SURGEON does not exist!\n",
            "⚠️ Warning: /content/frames_local/8852853673281356-TEACHER does not exist!\n",
            "\n",
            "⚠️ Warning: /content/frames_local/7525864393164241-WHISTLE does not exist!⚠️ Warning: /content/frames_local/5545830527868496-BREAD does not exist!\n",
            "\n",
            "⚠️ Warning: /content/frames_local/8358916356218851-VERB does not exist!⚠️ Warning: /content/frames_local/05554023586675627-PLAYGROUND does not exist!\n",
            "⚠️ Warning: /content/frames_local/4082533191196229-CARROT does not exist!\n",
            "\n",
            "⚠️ Warning: /content/frames_local/16364275276727502-CAFETERIA does not exist!\n",
            "⚠️ Warning: /content/frames_local/574320721966243-CALENDAR does not exist!⚠️ Warning: /content/frames_local/7142823641719984-WASTE does not exist!\n",
            "\n",
            "⚠️ Warning: /content/frames_local/6886999711677044-WEEK does not exist!⚠️ Warning: /content/frames_local/4258113263759955-DOWNSIZE does not exist!\n"
          ]
        },
        {
          "output_type": "stream",
          "name": "stderr",
          "text": [
            "\r  7%|▋         | 5786/83399 [00:36<09:35, 134.91it/s]"
          ]
        },
        {
          "output_type": "stream",
          "name": "stdout",
          "text": [
            "⚠️ Warning: /content/frames_local/1270983966893302-GRAPES does not exist!\n",
            "\n",
            "⚠️ Warning: /content/frames_local/44956877989021216-SCIENCE does not exist!\n",
            "⚠️ Warning: /content/frames_local/3618782153648077-PERFUME does not exist!⚠️ Warning: /content/frames_local/40485804341870013-SPOON does not exist!\n",
            "\n",
            "⚠️ Warning: /content/frames_local/39136000490298484-PIANO does not exist!\n",
            "⚠️ Warning: /content/frames_local/788070944871925-HONEY 1 does not exist!⚠️ Warning: /content/frames_local/0439091275633805-YAWN 1 does not exist!\n",
            "\n",
            "⚠️ Warning: /content/frames_local/7349301060722773-SAILBOAT does not exist!\n",
            "⚠️ Warning: /content/frames_local/2844065563122189-OCTOPUS does not exist!⚠️ Warning: /content/frames_local/62983148818386-BIG does not exist!\n",
            "⚠️ Warning: /content/frames_local/3087545899983668-SLINGSHOT does not exist!\n",
            "\n",
            "⚠️ Warning: /content/frames_local/9833342420720304-DEAF does not exist!\n",
            "⚠️ Warning: /content/frames_local/46107796226486486-WATER SKI does not exist!⚠️ Warning: /content/frames_local/09917210320558989-BALD does not exist!\n",
            "\n",
            "⚠️ Warning: /content/frames_local/7028703346596656-WE WILL_SEE does not exist!⚠️ Warning: /content/frames_local/33234467282815117-ASSISTANT does not exist!\n",
            "\n",
            "⚠️ Warning: /content/frames_local/03728567313299047-INVEST does not exist!⚠️ Warning: /content/frames_local/2426540462246376-WRAP UP does not exist!\n",
            "\n"
          ]
        },
        {
          "output_type": "stream",
          "name": "stderr",
          "text": [
            "\r  7%|▋         | 5805/83399 [00:36<08:52, 145.69it/s]"
          ]
        },
        {
          "output_type": "stream",
          "name": "stdout",
          "text": [
            "⚠️ Warning: /content/frames_local/1010201081430897-OVERWHELMED does not exist!\n",
            "⚠️ Warning: /content/frames_local/6265655811392328-BEAK does not exist!⚠️ Warning: /content/frames_local/2183881821072875-CLOSET 1 does not exist!\n",
            "\n",
            "⚠️ Warning: /content/frames_local/9022466165242344-FAKE does not exist!\n",
            "⚠️ Warning: /content/frames_local/38850798548920085-BLAME does not exist!⚠️ Warning: /content/frames_local/8271264164311205-ROCKING CHAIR does not exist!\n",
            "⚠️ Warning: /content/frames_local/4675023379251706-DIRECTOR does not exist!\n",
            "\n",
            "⚠️ Warning: /content/frames_local/5847004858651264-LUNGS does not exist!\n",
            "⚠️ Warning: /content/frames_local/041210994572084214-EYES AWAKE does not exist!⚠️ Warning: /content/frames_local/9159881713245603-GENERATION does not exist!\n",
            "⚠️ Warning: /content/frames_local/18759141177270267-TWO MORE does not exist!\n",
            "⚠️ Warning: /content/frames_local/052260060033033406-SHORT DISTANCE does not exist!\n",
            "\n",
            "⚠️ Warning: /content/frames_local/717226063042893-HURDLE-TRIP does not exist!⚠️ Warning: /content/frames_local/5223569270154316-STINK does not exist!\n",
            "⚠️ Warning: /content/frames_local/3121809223450627-MOVE DOWN does not exist!\n",
            "\n",
            "⚠️ Warning: /content/frames_local/14046700810918833-JAR does not exist!\n"
          ]
        },
        {
          "output_type": "stream",
          "name": "stderr",
          "text": [
            "\r  7%|▋         | 5821/83399 [00:36<09:28, 136.38it/s]"
          ]
        },
        {
          "output_type": "stream",
          "name": "stdout",
          "text": [
            "⚠️ Warning: /content/frames_local/09661923559891217-FREAK OUT does not exist!⚠️ Warning: /content/frames_local/5683774229840626-HIDE does not exist!\n",
            "⚠️ Warning: /content/frames_local/5122375381127064-HEN does not exist!\n",
            "⚠️ Warning: /content/frames_local/6116501323126156-STRIPE does not exist!\n",
            "⚠️ Warning: /content/frames_local/10431723574472684-HAND SOAP does not exist!\n",
            "\n",
            "⚠️ Warning: /content/frames_local/1801995105913976-RANGE does not exist!⚠️ Warning: /content/frames_local/8462220720155933-ZEBRA does not exist!\n",
            "\n",
            "⚠️ Warning: /content/frames_local/747686835227878-POLE does not exist!\n",
            "⚠️ Warning: /content/frames_local/49302512158389566-PARTY does not exist!⚠️ Warning: /content/frames_local/9811074263689341-WATCH does not exist!\n",
            "\n",
            "⚠️ Warning: /content/frames_local/7967519627573529-ROB does not exist!\n",
            "⚠️ Warning: /content/frames_local/6148820461286348-TEAR RIP_1 does not exist!\n",
            "⚠️ Warning: /content/frames_local/1152412202485309-DIG UP does not exist!\n",
            "⚠️ Warning: /content/frames_local/3385212251988077-HUG does not exist!\n"
          ]
        },
        {
          "output_type": "stream",
          "name": "stderr",
          "text": [
            "\r  7%|▋         | 5836/83399 [00:36<09:22, 137.83it/s]"
          ]
        },
        {
          "output_type": "stream",
          "name": "stdout",
          "text": [
            "⚠️ Warning: /content/frames_local/22790135530922973-ROSE does not exist!⚠️ Warning: /content/frames_local/8809577301056204-TUBE does not exist!\n",
            "⚠️ Warning: /content/frames_local/9350741124953528-COUNT does not exist!\n",
            "\n",
            "⚠️ Warning: /content/frames_local/8565239257906878-NICE does not exist!⚠️ Warning: /content/frames_local/4632003290939186-EASY TO_DO does not exist!\n",
            "⚠️ Warning: /content/frames_local/19835755460109628-INFLUENCE does not exist!\n",
            "⚠️ Warning: /content/frames_local/54388655475997-CIRCUSWHEEL does not exist!\n",
            "⚠️ Warning: /content/frames_local/33334259968320534-NOSE does not exist!\n",
            "\n",
            "⚠️ Warning: /content/frames_local/3563320098500957-GYM does not exist!\n",
            "⚠️ Warning: /content/frames_local/12161806838201228-WEAVE does not exist!\n",
            "⚠️ Warning: /content/frames_local/5341868573477482-BACKPACK does not exist!⚠️ Warning: /content/frames_local/19016571840954066-SMOOTH does not exist!\n",
            "\n",
            "⚠️ Warning: /content/frames_local/354738572582326-DOWNHILL does not exist!⚠️ Warning: /content/frames_local/274934874875824-WE does not exist!\n",
            "⚠️ Warning: /content/frames_local/8349278077203259-JUICE 2 does not exist!\n",
            "\n",
            "⚠️ Warning: /content/frames_local/6826793720824598-SCOLD does not exist!\n",
            "⚠️ Warning: /content/frames_local/7152709624417177-POWDER does not exist!\n",
            "⚠️ Warning: /content/frames_local/055045858028741845-SOCIAL does not exist!"
          ]
        },
        {
          "output_type": "stream",
          "name": "stderr",
          "text": [
            "\r  7%|▋         | 5852/83399 [00:36<09:15, 139.63it/s]"
          ]
        },
        {
          "output_type": "stream",
          "name": "stdout",
          "text": [
            "⚠️ Warning: /content/frames_local/20032450550143444-CAPTURE does not exist!\n",
            "⚠️ Warning: /content/frames_local/025410842806858902-PONDER does not exist!\n",
            "⚠️ Warning: /content/frames_local/6927614748009354-JOKE does not exist!\n",
            "⚠️ Warning: /content/frames_local/7652109171602834-SOCIETY does not exist!\n",
            "⚠️ Warning: /content/frames_local/3751654318891431-WATERDROP does not exist!\n",
            "\n",
            "⚠️ Warning: /content/frames_local/2831801404562706-ANYONE does not exist!⚠️ Warning: /content/frames_local/06932549531498955-CEMETERY does not exist!\n",
            "\n",
            "⚠️ Warning: /content/frames_local/6883049879359076-FAIL does not exist!\n",
            "⚠️ Warning: /content/frames_local/774634373475865-KNIGHT does not exist!⚠️ Warning: /content/frames_local/6181166861944667-ALL OF_SUDDEN does not exist!\n",
            "\n",
            "⚠️ Warning: /content/frames_local/013132284306153874-TOTAL does not exist!\n",
            "⚠️ Warning: /content/frames_local/7527802405491184-LONG AGO does not exist!\n",
            "⚠️ Warning: /content/frames_local/09525955724302748-COOL 3 does not exist!\n",
            "⚠️ Warning: /content/frames_local/0799259173630189-BECOME does not exist!"
          ]
        },
        {
          "output_type": "stream",
          "name": "stderr",
          "text": [
            "\r  7%|▋         | 5867/83399 [00:36<09:14, 139.87it/s]"
          ]
        },
        {
          "output_type": "stream",
          "name": "stdout",
          "text": [
            "⚠️ Warning: /content/frames_local/12224428542825305-IMPROVE does not exist!\n",
            "\n",
            "⚠️ Warning: /content/frames_local/5300143077454542-UNCERTAIN does not exist!⚠️ Warning: /content/frames_local/48274457266666815-GREET does not exist!\n",
            "\n",
            "⚠️ Warning: /content/frames_local/09187889383282122-PROPOSE does not exist!⚠️ Warning: /content/frames_local/8104864632034561-TOSS OUT does not exist!\n",
            "⚠️ Warning: /content/frames_local/7132719455775458-SQUARE does not exist!\n",
            "\n",
            "⚠️ Warning: /content/frames_local/15769775934939156-THANK YOU does not exist!⚠️ Warning: /content/frames_local/8822847839316665-PACK does not exist!\n",
            "⚠️ Warning: /content/frames_local/6098231930379832-EACH OTHER does not exist!\n",
            "\n",
            "⚠️ Warning: /content/frames_local/37707598450699864-PRECIOUS does not exist!\n",
            "⚠️ Warning: /content/frames_local/6251111692566835-WILL GO does not exist!⚠️ Warning: /content/frames_local/5691246614576149-LAY DOWN does not exist!\n",
            "⚠️ Warning: /content/frames_local/1698799527745407-PARANOID does not exist!\n",
            "\n",
            "⚠️ Warning: /content/frames_local/47556043726003305-ALASKA does not exist!⚠️ Warning: /content/frames_local/27998188176853867-EXPERIMENT does not exist!\n",
            "\n",
            "⚠️ Warning: /content/frames_local/11404354756397783-ARTICLE does not exist!"
          ]
        },
        {
          "output_type": "stream",
          "name": "stderr",
          "text": [
            "\r  7%|▋         | 5882/83399 [00:36<10:39, 121.28it/s]"
          ]
        },
        {
          "output_type": "stream",
          "name": "stdout",
          "text": [
            "⚠️ Warning: /content/frames_local/9244848809246835-EVERY NIGHT does not exist!\n",
            "\n",
            "⚠️ Warning: /content/frames_local/6031280791037246-GET TOGETHER does not exist!\n",
            "⚠️ Warning: /content/frames_local/04026316590976653-STORY 3 does not exist!\n",
            "⚠️ Warning: /content/frames_local/04228203726354107-REMOVE does not exist!⚠️ Warning: /content/frames_local/24901718488911917-MOSQUITO does not exist!\n",
            "⚠️ Warning: /content/frames_local/5263188483791263-BETWEEN does not exist!\n",
            "\n",
            "⚠️ Warning: /content/frames_local/4242734782581057-TOY 3 does not exist!⚠️ Warning: /content/frames_local/6004469254521185-SPICY does not exist!\n",
            "\n",
            "⚠️ Warning: /content/frames_local/733396038930844-JEWELRY does not exist!⚠️ Warning: /content/frames_local/9909893536813477-BULLSHIT does not exist!\n",
            "\n",
            "⚠️ Warning: /content/frames_local/40997849390975194-WHISPER does not exist!⚠️ Warning: /content/frames_local/9784944882897284-ADVANTAGE does not exist!\n"
          ]
        },
        {
          "output_type": "stream",
          "name": "stderr",
          "text": [
            "\r  7%|▋         | 5895/83399 [00:36<10:35, 121.93it/s]"
          ]
        },
        {
          "output_type": "stream",
          "name": "stdout",
          "text": [
            "⚠️ Warning: /content/frames_local/6124455832472333-SIGN PAPER does not exist!\n",
            "⚠️ Warning: /content/frames_local/06068557602611757-THERAPY does not exist!\n",
            "\n",
            "⚠️ Warning: /content/frames_local/3240164926826339-LEAVE ALONE does not exist!⚠️ Warning: /content/frames_local/37122307744074234-COMMUNITY does not exist!\n",
            "⚠️ Warning: /content/frames_local/6079550481134384-CLIENT does not exist!\n",
            "\n",
            "⚠️ Warning: /content/frames_local/7511137065965892-BREAKFAST does not exist!\n",
            "⚠️ Warning: /content/frames_local/013778353428333778-TURN does not exist!\n",
            "⚠️ Warning: /content/frames_local/21337763092102313-CORNER does not exist!⚠️ Warning: /content/frames_local/8662910981957173-CASTLE 2 does not exist!\n",
            "⚠️ Warning: /content/frames_local/7751220536693411-LEND does not exist!\n",
            "\n",
            "⚠️ Warning: /content/frames_local/25508312922868903-SOPHOMORE does not exist!⚠️ Warning: /content/frames_local/4986132123152194-SUPERVISOR does not exist!\n",
            "\n",
            "⚠️ Warning: /content/frames_local/7062532964516866-INSTITUTE does not exist!\n"
          ]
        },
        {
          "output_type": "stream",
          "name": "stderr",
          "text": [
            "\r  7%|▋         | 5908/83399 [00:37<10:59, 117.50it/s]"
          ]
        },
        {
          "output_type": "stream",
          "name": "stdout",
          "text": [
            "⚠️ Warning: /content/frames_local/9763021221716723-PERCEIVE does not exist!⚠️ Warning: /content/frames_local/09645575875471124-CELEBRATE does not exist!\n",
            "\n",
            "⚠️ Warning: /content/frames_local/19017908759090774-PEEL 2 does not exist!⚠️ Warning: /content/frames_local/6470805094439576-WIDE does not exist!\n",
            "\n",
            "⚠️ Warning: /content/frames_local/8615822021106332-DOG does not exist!\n",
            "⚠️ Warning: /content/frames_local/7520087637675279-RIDE 2 does not exist!⚠️ Warning: /content/frames_local/3195872615304618-BOWLING 2 does not exist!\n",
            "\n",
            "⚠️ Warning: /content/frames_local/5625519990546473-THEORY does not exist!⚠️ Warning: /content/frames_local/7134248106704089-SHORT WORD does not exist!\n",
            "⚠️ Warning: /content/frames_local/6942093350125518-LABEL does not exist!\n",
            "\n",
            "⚠️ Warning: /content/frames_local/21014790146611517-FIRED does not exist!⚠️ Warning: /content/frames_local/5156194365351785-DARK does not exist!\n",
            "\n",
            "⚠️ Warning: /content/frames_local/08734977832473323-HATCH 2 does not exist!⚠️ Warning: /content/frames_local/5215101687459205-PILLOW 2 does not exist!\n",
            "\n",
            "⚠️ Warning: /content/frames_local/9188990999210613-FLASHLIGHT 3 does not exist!⚠️ Warning: /content/frames_local/44878461899189226-CELLPHONE does not exist!\n",
            "\n"
          ]
        },
        {
          "output_type": "stream",
          "name": "stderr",
          "text": [
            "\r  7%|▋         | 5924/83399 [00:37<10:07, 127.52it/s]"
          ]
        },
        {
          "output_type": "stream",
          "name": "stdout",
          "text": [
            "⚠️ Warning: /content/frames_local/7496896916755551-SHIRT 2 does not exist!⚠️ Warning: /content/frames_local/21305454058898365-LIGHT 2 does not exist!\n",
            "⚠️ Warning: /content/frames_local/8304807716047502-BUMPY does not exist!\n",
            "⚠️ Warning: /content/frames_local/34413002525913305-SLIP 2 does not exist!\n",
            "⚠️ Warning: /content/frames_local/6418692991578498-SNEEZE 2 does not exist!\n",
            "⚠️ Warning: /content/frames_local/5428854829192886-CLOCK 2 does not exist!\n",
            "⚠️ Warning: /content/frames_local/30248296439872724-GLASS 3 does not exist!\n",
            "\n",
            "⚠️ Warning: /content/frames_local/6964216949803932-SUMMON does not exist!⚠️ Warning: /content/frames_local/35755892044654347-BANANA 2 does not exist!\n",
            "\n",
            "⚠️ Warning: /content/frames_local/5909574289435784-CHERRY 2 does not exist!⚠️ Warning: /content/frames_local/6691189510975895-ELEVATOR 3 does not exist!\n",
            "\n",
            "⚠️ Warning: /content/frames_local/8866107104765857-STACK 2 does not exist!\n"
          ]
        },
        {
          "output_type": "stream",
          "name": "stderr",
          "text": [
            "\r  7%|▋         | 5938/83399 [00:37<10:20, 124.93it/s]"
          ]
        },
        {
          "output_type": "stream",
          "name": "stdout",
          "text": [
            "⚠️ Warning: /content/frames_local/30364420040576023-ARREST 3 does not exist!\n",
            "⚠️ Warning: /content/frames_local/18726066951341624-KNITTING 3 does not exist!\n",
            "⚠️ Warning: /content/frames_local/7906202332706018-BURY 2 does not exist!⚠️ Warning: /content/frames_local/5564264672199049-SMILE 2 does not exist!\n",
            "\n",
            "⚠️ Warning: /content/frames_local/7654756305935895-CLOUD 4 does not exist!⚠️ Warning: /content/frames_local/296843374785998-CARROT 3 does not exist!\n",
            "\n",
            "⚠️ Warning: /content/frames_local/039468398935802895-CRACKER 2 does not exist!\n",
            "⚠️ Warning: /content/frames_local/945374497671172-VAMPIRE does not exist!⚠️ Warning: /content/frames_local/8381393574630329-CROSS does not exist!\n",
            "⚠️ Warning: /content/frames_local/16686632686982805-RAZOR 2 does not exist!\n",
            "\n",
            "⚠️ Warning: /content/frames_local/18574095989238693-JACKET does not exist!⚠️ Warning: /content/frames_local/8713693538832108-RABBIT does not exist!\n",
            "\n",
            "⚠️ Warning: /content/frames_local/9066154866501179-SNOW 2 does not exist!⚠️ Warning: /content/frames_local/7398604300483018-BENEFIT does not exist!\n",
            "\n",
            "⚠️ Warning: /content/frames_local/32332228660933526-EYES does not exist!⚠️ Warning: /content/frames_local/36149171254574775-GUESS does not exist!\n",
            "\n",
            "⚠️ Warning: /content/frames_local/8013864241285453-DEMAND does not exist!\n",
            "⚠️ Warning: /content/frames_local/2564743607263267-CHURCH does not exist!⚠️ Warning: /content/frames_local/3550140161145019-COMPUTER MOUSE does not exist!"
          ]
        },
        {
          "output_type": "stream",
          "name": "stderr",
          "text": [
            "\r  7%|▋         | 5952/83399 [00:37<10:01, 128.82it/s]"
          ]
        },
        {
          "output_type": "stream",
          "name": "stdout",
          "text": [
            "\n",
            "\n",
            "⚠️ Warning: /content/frames_local/8058863799768623-PINEAPPLE does not exist!\n",
            "⚠️ Warning: /content/frames_local/28071486967073533-NEED does not exist!\n",
            "⚠️ Warning: /content/frames_local/45508620201736116-BONE does not exist!⚠️ Warning: /content/frames_local/05905247659128787-CHILDREN does not exist!\n",
            "\n",
            "⚠️ Warning: /content/frames_local/010182642578412393-FRUIT does not exist!⚠️ Warning: /content/frames_local/7081934706585267-ORDER 2 does not exist!\n",
            "\n",
            "⚠️ Warning: /content/frames_local/12797953754786784-PROBLEM 1 does not exist!⚠️ Warning: /content/frames_local/6460133800741303-WOOD does not exist!\n",
            "\n",
            "⚠️ Warning: /content/frames_local/19056856698194746-GAME does not exist!⚠️ Warning: /content/frames_local/5845207879976593-DROP does not exist!\n",
            "\n",
            "⚠️ Warning: /content/frames_local/4093382044924032-FOREIGNER does not exist!⚠️ Warning: /content/frames_local/6689310401683697-APPOINTMENT does not exist!\n",
            "⚠️ Warning: /content/frames_local/404670456586959-NOW does not exist!\n",
            "\n",
            "⚠️ Warning: /content/frames_local/04976668937620765-SCROLL DOWN does not exist!⚠️ Warning: /content/frames_local/5047898503670569-EGO does not exist!\n",
            "⚠️ Warning: /content/frames_local/9546720188783062-TELL does not exist!\n",
            "⚠️ Warning: /content/frames_local/9072873507973074-SOUTH does not exist!\n",
            "⚠️ Warning: /content/frames_local/5372228805281292-GOSSIP does not exist!\n",
            "\n",
            "⚠️ Warning: /content/frames_local/5250104606145489-YESTERDAY does not exist!⚠️ Warning: /content/frames_local/21662117886107501-BALANCE does not exist!\n",
            "\n"
          ]
        },
        {
          "output_type": "stream",
          "name": "stderr",
          "text": [
            "\r  7%|▋         | 5976/83399 [00:37<08:10, 157.84it/s]"
          ]
        },
        {
          "output_type": "stream",
          "name": "stdout",
          "text": [
            "⚠️ Warning: /content/frames_local/08593956775564093-CALL does not exist!⚠️ Warning: /content/frames_local/5941705843193175-AGREEMENT does not exist!\n",
            "\n",
            "⚠️ Warning: /content/frames_local/39391696552315403-DIRTY does not exist!⚠️ Warning: /content/frames_local/09714329486323847-NO does not exist!\n",
            "\n",
            "⚠️ Warning: /content/frames_local/8477520392110964-CANOE does not exist!\n",
            "⚠️ Warning: /content/frames_local/28746254133912164-TEST does not exist!⚠️ Warning: /content/frames_local/5657465687795697-TEETH does not exist!\n",
            "\n",
            "⚠️ Warning: /content/frames_local/06888060382968919-GIRL does not exist!⚠️ Warning: /content/frames_local/37647318764567794-KID does not exist!\n",
            "⚠️ Warning: /content/frames_local/9922333617687611-BOAT does not exist!\n",
            "\n",
            "⚠️ Warning: /content/frames_local/11371494843142349-EASY does not exist!⚠️ Warning: /content/frames_local/8638262994392436-SCHOOL does not exist!\n",
            "⚠️ Warning: /content/frames_local/3117679692686164-IDEA does not exist!\n",
            "\n",
            "⚠️ Warning: /content/frames_local/582314558920551-THERMOMETER does not exist!\n",
            "⚠️ Warning: /content/frames_local/21838625528308953-LET KNOW does not exist!⚠️ Warning: /content/frames_local/7454492951907914-PREACHER does not exist!\n",
            "\n",
            "⚠️ Warning: /content/frames_local/22889612387878833-MEET does not exist!\n"
          ]
        },
        {
          "output_type": "stream",
          "name": "stderr",
          "text": [
            "\r  7%|▋         | 5993/83399 [00:37<08:02, 160.58it/s]"
          ]
        },
        {
          "output_type": "stream",
          "name": "stdout",
          "text": [
            "⚠️ Warning: /content/frames_local/3525864292162637-ZIPPER does not exist!⚠️ Warning: /content/frames_local/21884225802649082-MATCH does not exist!\n",
            "\n",
            "⚠️ Warning: /content/frames_local/005317918514047726-FAUCET does not exist!⚠️ Warning: /content/frames_local/9192449854787554-FORFEIT does not exist!\n",
            "\n",
            "⚠️ Warning: /content/frames_local/952392104390789-GOD does not exist!⚠️ Warning: /content/frames_local/9981616821143955-NEWSPAPER does not exist!\n",
            "⚠️ Warning: /content/frames_local/06432011024096629-FRIEND does not exist!\n",
            "⚠️ Warning: /content/frames_local/41580102050529777-FULL does not exist!\n",
            "⚠️ Warning: /content/frames_local/11253304596671598-WIFE does not exist!\n",
            "\n",
            "⚠️ Warning: /content/frames_local/9460095198290615-CRAZY does not exist!\n",
            "⚠️ Warning: /content/frames_local/24217310192206098-DRAW does not exist!\n",
            "⚠️ Warning: /content/frames_local/1425935873558426-FRANCE does not exist!\n",
            "⚠️ Warning: /content/frames_local/6377145774354793-CAR does not exist!⚠️ Warning: /content/frames_local/4242118451750636-AMAZING does not exist!\n",
            "\n",
            "⚠️ Warning: /content/frames_local/187972239625108-BEAT does not exist!\n",
            "⚠️ Warning: /content/frames_local/8389657196583393-TOOTHBRUSH does not exist!⚠️ Warning: /content/frames_local/9949825983360445-EXCUSE does not exist!\n",
            "⚠️ Warning: /content/frames_local/050885389871900166-REVENGE does not exist!\n"
          ]
        },
        {
          "output_type": "stream",
          "name": "stderr",
          "text": [
            "\r  7%|▋         | 6010/83399 [00:37<08:22, 154.13it/s]"
          ]
        },
        {
          "output_type": "stream",
          "name": "stdout",
          "text": [
            "⚠️ Warning: /content/frames_local/08234416557961-DOWNSIZE does not exist!\n",
            "\n",
            "⚠️ Warning: /content/frames_local/48437729455414-LESSON does not exist!\n",
            "⚠️ Warning: /content/frames_local/08985732608051511-YUCKY does not exist!⚠️ Warning: /content/frames_local/14371913081112475-SARCASTIC does not exist!\n",
            "\n",
            "⚠️ Warning: /content/frames_local/3064126659827082-PLUG does not exist!⚠️ Warning: /content/frames_local/37886354312700066-MAILMAN does not exist!\n",
            "\n",
            "⚠️ Warning: /content/frames_local/37758424698446347-BET does not exist!⚠️ Warning: /content/frames_local/6441283901571906-DISTRACTED does not exist!\n",
            "\n",
            "⚠️ Warning: /content/frames_local/54630258420387-FREEZE does not exist!⚠️ Warning: /content/frames_local/4381525865125082-WILL does not exist!\n",
            "\n",
            "⚠️ Warning: /content/frames_local/007789717992799483-MEMBER does not exist!\n",
            "⚠️ Warning: /content/frames_local/6739803469655024-BAT 1 does not exist!⚠️ Warning: /content/frames_local/20145727300236027-BEST does not exist!\n",
            "\n",
            "⚠️ Warning: /content/frames_local/7921297303573938-LIKE does not exist!⚠️ Warning: /content/frames_local/8859291960299698-MURDER does not exist!\n",
            "⚠️ Warning: /content/frames_local/36266006490335845-OVER does not exist!\n",
            "\n"
          ]
        },
        {
          "output_type": "stream",
          "name": "stderr",
          "text": [
            "\r  7%|▋         | 6026/83399 [00:37<09:08, 141.14it/s]"
          ]
        },
        {
          "output_type": "stream",
          "name": "stdout",
          "text": [
            "⚠️ Warning: /content/frames_local/475276350175186-DYE does not exist!⚠️ Warning: /content/frames_local/9769961961457541-DRY does not exist!\n",
            "\n",
            "⚠️ Warning: /content/frames_local/4085041648885541-DICTIONARY does not exist!\n",
            "⚠️ Warning: /content/frames_local/9802753357268721-THEY does not exist!\n",
            "⚠️ Warning: /content/frames_local/6665512741672404-THUNDER does not exist!⚠️ Warning: /content/frames_local/7494312762882254-TAN does not exist!\n",
            "\n",
            "⚠️ Warning: /content/frames_local/3882694619137228-FAN does not exist!⚠️ Warning: /content/frames_local/9569603847858985-RED FACED does not exist!\n",
            "\n",
            "⚠️ Warning: /content/frames_local/8123453277176595-SCAR MEMORY does not exist!\n",
            "⚠️ Warning: /content/frames_local/9570843888031639-Q TIP does not exist!⚠️ Warning: /content/frames_local/899372031711893-LIMITED does not exist!\n",
            "\n",
            "⚠️ Warning: /content/frames_local/1917532835224509-SIGNING FLUENTLY does not exist!⚠️ Warning: /content/frames_local/4970204648129277-STARE does not exist!\n",
            "⚠️ Warning: /content/frames_local/3433731609215833-THOUGHT DISAPPEAR does not exist!\n",
            "\n",
            "⚠️ Warning: /content/frames_local/26057875460860425-EVERYTHING does not exist!⚠️ Warning: /content/frames_local/7931661907085596-SO does not exist!\n",
            "\n",
            "⚠️ Warning: /content/frames_local/11993477987050905-STADIUM does not exist!"
          ]
        },
        {
          "output_type": "stream",
          "name": "stderr",
          "text": [
            "\r  7%|▋         | 6043/83399 [00:37<08:41, 148.40it/s]"
          ]
        },
        {
          "output_type": "stream",
          "name": "stdout",
          "text": [
            "⚠️ Warning: /content/frames_local/10576985156244212-CLOCK does not exist!\n",
            "\n",
            "⚠️ Warning: /content/frames_local/2369834632814376-RUSSIA does not exist!\n",
            "⚠️ Warning: /content/frames_local/7345075955640721-CAPTION does not exist!⚠️ Warning: /content/frames_local/6821446439233798-LINE does not exist!\n",
            "⚠️ Warning: /content/frames_local/2396774848402785-SURE does not exist!\n",
            "\n",
            "⚠️ Warning: /content/frames_local/43261274287560036-LOBSTER 2 does not exist!\n",
            "⚠️ Warning: /content/frames_local/8758676060180255-CANDLE does not exist!⚠️ Warning: /content/frames_local/7249202184255621-SANDWICH 3 does not exist!\n",
            "⚠️ Warning: /content/frames_local/9853117447921933-SECRET does not exist!\n",
            "\n",
            "⚠️ Warning: /content/frames_local/7888893439166844-HOUSE does not exist!\n",
            "⚠️ Warning: /content/frames_local/0007927306999340189-TANKTOP does not exist!⚠️ Warning: /content/frames_local/8918873682573079-HAIRCUT does not exist!\n",
            "⚠️ Warning: /content/frames_local/5542440464672651-ORAL does not exist!\n",
            "⚠️ Warning: /content/frames_local/7827167414330105-SCAN does not exist!\n",
            "\n",
            "⚠️ Warning: /content/frames_local/9950258621048396-BICYCLE does not exist!⚠️ Warning: /content/frames_local/999099210781961-PATIENT 2 does not exist!\n",
            "\n",
            "⚠️ Warning: /content/frames_local/22613046801901682-TROPHY does not exist!"
          ]
        },
        {
          "output_type": "stream",
          "name": "stderr",
          "text": [
            "\r  7%|▋         | 6060/83399 [00:38<08:21, 154.07it/s]"
          ]
        },
        {
          "output_type": "stream",
          "name": "stdout",
          "text": [
            "⚠️ Warning: /content/frames_local/9372797629200227-DICE does not exist!\n",
            "\n",
            "⚠️ Warning: /content/frames_local/37106621102000825-YOUNG does not exist!\n",
            "⚠️ Warning: /content/frames_local/7296170224092156-INTERPRETER does not exist!⚠️ Warning: /content/frames_local/32814462571434055-IMPACT does not exist!\n",
            "\n",
            "⚠️ Warning: /content/frames_local/16702164887537685-RELAX does not exist!⚠️ Warning: /content/frames_local/7591468319033796-STUCK does not exist!\n",
            "\n",
            "⚠️ Warning: /content/frames_local/2731557121134416-RAT does not exist!⚠️ Warning: /content/frames_local/5083689876523829-OH I_SEE does not exist!\n",
            "⚠️ Warning: /content/frames_local/7432466518648182-SHAME does not exist!\n",
            "⚠️ Warning: /content/frames_local/40128392355843157-POP does not exist!\n",
            "\n",
            "⚠️ Warning: /content/frames_local/6430897184050106-CIRCLE does not exist!\n",
            "⚠️ Warning: /content/frames_local/576053150285168-PEANUT BUTTER does not exist!\n",
            "⚠️ Warning: /content/frames_local/6988945904320409-BELT does not exist!\n",
            "⚠️ Warning: /content/frames_local/0861708798576879-OPEN BOOK does not exist!⚠️ Warning: /content/frames_local/5654281824131167-TODAY does not exist!\n",
            "\n",
            "⚠️ Warning: /content/frames_local/9420991279307549-USE does not exist!⚠️ Warning: /content/frames_local/493481520360596-WEIGHT does not exist!\n",
            "⚠️ Warning: /content/frames_local/03518473172302783-NAVEL does not exist!\n"
          ]
        },
        {
          "output_type": "stream",
          "name": "stderr",
          "text": [
            "\r  7%|▋         | 6078/83399 [00:38<08:00, 161.04it/s]"
          ]
        },
        {
          "output_type": "stream",
          "name": "stdout",
          "text": [
            "⚠️ Warning: /content/frames_local/5642260169557425-SHARK 1 does not exist!\n",
            "⚠️ Warning: /content/frames_local/14732330555097572-ROCKET 2 does not exist!\n",
            "\n",
            "⚠️ Warning: /content/frames_local/16382587091736456-OPEN WALLET does not exist!\n",
            "⚠️ Warning: /content/frames_local/2967927583161576-CAPE does not exist!⚠️ Warning: /content/frames_local/30452526877974395-LIPS does not exist!\n",
            "⚠️ Warning: /content/frames_local/26813429351557705-RUIN does not exist!\n",
            "\n",
            "⚠️ Warning: /content/frames_local/13383322080021598-UNICORN does not exist!\n",
            "⚠️ Warning: /content/frames_local/6637367837405987-BACKYARD does not exist!⚠️ Warning: /content/frames_local/7099526243233942-KISS ON_CHEEK does not exist!\n",
            "\n",
            "⚠️ Warning: /content/frames_local/1218029185561833-SHOULD does not exist!⚠️ Warning: /content/frames_local/1990932054901533-BUFFALO does not exist!\n",
            "\n",
            "⚠️ Warning: /content/frames_local/5021141718308848-PIN ON does not exist!⚠️ Warning: /content/frames_local/32006049312913154-CURIOUS does not exist!\n",
            "\n",
            "⚠️ Warning: /content/frames_local/049815856304676-NAIL does not exist!\n",
            "⚠️ Warning: /content/frames_local/8005415245219945-MELON does not exist!⚠️ Warning: /content/frames_local/5955048938421055-FIX does not exist!\n",
            "\n"
          ]
        },
        {
          "output_type": "stream",
          "name": "stderr",
          "text": [
            "\r  7%|▋         | 6095/83399 [00:38<07:53, 163.26it/s]"
          ]
        },
        {
          "output_type": "stream",
          "name": "stdout",
          "text": [
            "⚠️ Warning: /content/frames_local/2247328622544631-SEVEN does not exist!\n",
            "⚠️ Warning: /content/frames_local/14342265121322284-ARGUE does not exist!⚠️ Warning: /content/frames_local/6689516415039916-DINING ROOM does not exist!\n",
            "\n",
            "⚠️ Warning: /content/frames_local/1057303534238816-HOLD does not exist!⚠️ Warning: /content/frames_local/8914399445795747-REFRIGERATOR does not exist!\n",
            "\n",
            "⚠️ Warning: /content/frames_local/39086919984877166-TAPE does not exist!⚠️ Warning: /content/frames_local/11437861804601757-MICROPHONE does not exist!\n",
            "\n",
            "⚠️ Warning: /content/frames_local/34766944211365813-NEXT TO does not exist!⚠️ Warning: /content/frames_local/5735332537059052-ARCHEOLOGY does not exist!\n",
            "\n",
            "⚠️ Warning: /content/frames_local/6168537777938607-OCEAN does not exist!⚠️ Warning: /content/frames_local/14780762563706218-RIDE 1 does not exist!\n",
            "⚠️ Warning: /content/frames_local/3137048847728132-PERMISSION does not exist!\n",
            "\n",
            "⚠️ Warning: /content/frames_local/34574411018881257-SKUNK does not exist!⚠️ Warning: /content/frames_local/8995702774332577-CONVINCE does not exist!\n",
            "\n",
            "⚠️ Warning: /content/frames_local/14691289613995173-HALF does not exist!\n",
            "⚠️ Warning: /content/frames_local/9097044841529267-SOUR does not exist!\n",
            "⚠️ Warning: /content/frames_local/48887145498963713-VISUALIZE does not exist!⚠️ Warning: /content/frames_local/4896405510762174-WEEKEND does not exist!\n"
          ]
        },
        {
          "output_type": "stream",
          "name": "stderr",
          "text": [
            "\r  7%|▋         | 6112/83399 [00:38<07:49, 164.76it/s]"
          ]
        },
        {
          "output_type": "stream",
          "name": "stdout",
          "text": [
            "\n",
            "⚠️ Warning: /content/frames_local/362383815782356-STAMP 2 does not exist!⚠️ Warning: /content/frames_local/011104998329384719-NEWS TO_ME does not exist!\n",
            "\n",
            "⚠️ Warning: /content/frames_local/17389625683325938-FENCE does not exist!⚠️ Warning: /content/frames_local/15738820593476044-IMMATURE does not exist!\n",
            "\n",
            "⚠️ Warning: /content/frames_local/3310856178542416-BACK UP does not exist!⚠️ Warning: /content/frames_local/033144058739404514-THINK EXPAND does not exist!\n",
            "\n",
            "⚠️ Warning: /content/frames_local/04407217132864627-CELERY does not exist!⚠️ Warning: /content/frames_local/9498632256129882-DOCUMENT does not exist!\n",
            "\n",
            "⚠️ Warning: /content/frames_local/1118915581338209-DREADLOCKS does not exist!⚠️ Warning: /content/frames_local/49197112990417446-PROGRAM does not exist!\n",
            "\n",
            "⚠️ Warning: /content/frames_local/5803653331268028-SAXOPHONE does not exist!⚠️ Warning: /content/frames_local/57272732500945-VERY does not exist!\n",
            "\n",
            "⚠️ Warning: /content/frames_local/6829188952307657-BUSTED does not exist!⚠️ Warning: /content/frames_local/39694127828384884-HANDS OFF does not exist!\n",
            "\n",
            "⚠️ Warning: /content/frames_local/6671159868343224-TIME PROGRESS does not exist!⚠️ Warning: /content/frames_local/8483433216907288-RESIST does not exist!\n",
            "\n"
          ]
        },
        {
          "output_type": "stream",
          "name": "stderr",
          "text": [
            "\r  7%|▋         | 6129/83399 [00:38<08:32, 150.82it/s]"
          ]
        },
        {
          "output_type": "stream",
          "name": "stdout",
          "text": [
            "⚠️ Warning: /content/frames_local/6173744902083946-NEEDLE does not exist!⚠️ Warning: /content/frames_local/8567662935890343-SOUND does not exist!\n",
            "\n",
            "⚠️ Warning: /content/frames_local/866030843977424-SIREN does not exist!⚠️ Warning: /content/frames_local/9340526233167323-DUTY does not exist!\n",
            "\n",
            "⚠️ Warning: /content/frames_local/9526821496599451-MEMORIZE does not exist!\n",
            "⚠️ Warning: /content/frames_local/18840696909372112-PROTEST does not exist!\n",
            "⚠️ Warning: /content/frames_local/42662432330242517-BOIL does not exist!\n",
            "⚠️ Warning: /content/frames_local/9695965466205225-SPILL 1 does not exist!⚠️ Warning: /content/frames_local/5064819158553606-ONE MORE_1 does not exist!\n",
            "⚠️ Warning: /content/frames_local/2914070427914579-SELF does not exist!\n",
            "⚠️ Warning: /content/frames_local/06589547219444203-DEVELOP does not exist!\n",
            "\n",
            "⚠️ Warning: /content/frames_local/30774511596301957-SHARPEN 1 does not exist!\n",
            "⚠️ Warning: /content/frames_local/8685970324922312-TOP does not exist!⚠️ Warning: /content/frames_local/8182673568795995-TOW 1 does not exist!\n",
            "\n",
            "⚠️ Warning: /content/frames_local/4375093833372754-AREA does not exist!⚠️ Warning: /content/frames_local/7737611101471902-PHILOSOPHY does not exist!\n",
            "⚠️ Warning: /content/frames_local/8773945195516397-SHARP 1 does not exist!\n",
            "\n"
          ]
        },
        {
          "output_type": "stream",
          "name": "stderr",
          "text": [
            "\r  7%|▋         | 6145/83399 [00:38<08:55, 144.37it/s]"
          ]
        },
        {
          "output_type": "stream",
          "name": "stdout",
          "text": [
            "⚠️ Warning: /content/frames_local/10118493719763655-HOLY does not exist!⚠️ Warning: /content/frames_local/9546356705024115-WHILE does not exist!\n",
            "\n",
            "⚠️ Warning: /content/frames_local/2607163973019586-FINGERS CROSSED does not exist!\n",
            "⚠️ Warning: /content/frames_local/47102980808871586-QUARTER does not exist!⚠️ Warning: /content/frames_local/6647686194353417-COACH does not exist!\n",
            "⚠️ Warning: /content/frames_local/31950484792061773-HONGKONG does not exist!\n",
            "\n",
            "⚠️ Warning: /content/frames_local/08824218382387272-DIZZY does not exist!⚠️ Warning: /content/frames_local/21500738701557953-STUDY does not exist!\n",
            "⚠️ Warning: /content/frames_local/570201717129619-ENVIRONMENT does not exist!\n",
            "⚠️ Warning: /content/frames_local/8359383192473027-CONVINCE 2 does not exist!\n",
            "\n",
            "⚠️ Warning: /content/frames_local/7941225755509671-CANNON does not exist!⚠️ Warning: /content/frames_local/4849227001452834-PAIR does not exist!\n",
            "\n",
            "⚠️ Warning: /content/frames_local/7592147757487129-BLINK does not exist!⚠️ Warning: /content/frames_local/5351262879490664-NAVY does not exist!\n",
            "\n",
            "⚠️ Warning: /content/frames_local/6637638296305504-REACT does not exist!"
          ]
        },
        {
          "output_type": "stream",
          "name": "stderr",
          "text": [
            "\r  7%|▋         | 6160/83399 [00:38<09:24, 136.93it/s]"
          ]
        },
        {
          "output_type": "stream",
          "name": "stdout",
          "text": [
            "⚠️ Warning: /content/frames_local/8540350846649831-PHOTOGRAPHY does not exist!\n",
            "\n",
            "⚠️ Warning: /content/frames_local/5329829435580873-UNAWARE does not exist!⚠️ Warning: /content/frames_local/7978504059618996-SAVE MONEY does not exist!\n",
            "\n",
            "⚠️ Warning: /content/frames_local/47468922846701544-HEAD BACK does not exist!⚠️ Warning: /content/frames_local/9384937464530139-CATCH 2 does not exist!\n",
            "⚠️ Warning: /content/frames_local/9490586904543123-W.H.A.T does not exist!\n",
            "⚠️ Warning: /content/frames_local/560166013298945-CALM does not exist!\n",
            "\n",
            "⚠️ Warning: /content/frames_local/9957174056735818-ICE does not exist!⚠️ Warning: /content/frames_local/7537023171746606-DOWN does not exist!\n",
            "\n",
            "⚠️ Warning: /content/frames_local/5959024372908064-OPINION 1 does not exist!⚠️ Warning: /content/frames_local/757541125024382-BASKET 1 does not exist!\n",
            "⚠️ Warning: /content/frames_local/06756947281854742-KICK does not exist!\n",
            "⚠️ Warning: /content/frames_local/35153734643494516-LINGUISTICS does not exist!\n",
            "\n"
          ]
        },
        {
          "output_type": "stream",
          "name": "stderr",
          "text": [
            "\r  7%|▋         | 6174/83399 [00:38<09:32, 134.93it/s]"
          ]
        },
        {
          "output_type": "stream",
          "name": "stdout",
          "text": [
            "⚠️ Warning: /content/frames_local/3802986791903562-STEAM does not exist!⚠️ Warning: /content/frames_local/45947533477095837-CRASH does not exist!\n",
            "\n",
            "⚠️ Warning: /content/frames_local/395425828551939-BURN 1 does not exist!⚠️ Warning: /content/frames_local/9389356855491917-SPECIALIST does not exist!\n",
            "\n",
            "⚠️ Warning: /content/frames_local/4080181896482582-LOAD does not exist!⚠️ Warning: /content/frames_local/5042016494806196-SINGLE OUT does not exist!\n",
            "⚠️ Warning: /content/frames_local/047595395336926805-TICKLE does not exist!\n",
            "\n",
            "⚠️ Warning: /content/frames_local/08921898720730481-WASH FACE_2 does not exist!⚠️ Warning: /content/frames_local/5514727192498903-VIDEOGAME does not exist!\n",
            "\n",
            "⚠️ Warning: /content/frames_local/5514372570426969-STACK does not exist!\n",
            "⚠️ Warning: /content/frames_local/3032066598240126-MODEL 2 does not exist!\n",
            "⚠️ Warning: /content/frames_local/08408018931712546-SAME TIME does not exist!⚠️ Warning: /content/frames_local/954169133890479-NOT A_THING does not exist!⚠️ Warning: /content/frames_local/02402247405472413-OFTEN does not exist!\n",
            "\n",
            "\n",
            "⚠️ Warning: /content/frames_local/9208583735199847-HOSPITAL does not exist!⚠️ Warning: /content/frames_local/8626683836865352-GREAT does not exist!\n",
            "⚠️ Warning: /content/frames_local/7993468158984669-NOTHING AT_ALL does not exist!\n",
            "\n",
            "⚠️ Warning: /content/frames_local/6139945812958048-ADMIRE does not exist!⚠️ Warning: /content/frames_local/4816227564128186-CALIFORNIA does not exist!\n"
          ]
        },
        {
          "output_type": "stream",
          "name": "stderr",
          "text": [
            "\r  7%|▋         | 6192/83399 [00:38<08:49, 145.69it/s]"
          ]
        },
        {
          "output_type": "stream",
          "name": "stdout",
          "text": [
            "\n",
            "⚠️ Warning: /content/frames_local/29794025912810485-CARRY does not exist!\n",
            "⚠️ Warning: /content/frames_local/13695679715789-TWO WEEKS does not exist!\n",
            "⚠️ Warning: /content/frames_local/432895310432754-NEXT YEAR does not exist!⚠️ Warning: /content/frames_local/06366378103559533-ONCE does not exist!\n",
            "⚠️ Warning: /content/frames_local/7654575613714476-FLIP does not exist!\n",
            "\n",
            "⚠️ Warning: /content/frames_local/38270850092529685-AGAINST does not exist!⚠️ Warning: /content/frames_local/6661735521865613-WITHOUT does not exist!\n",
            "\n",
            "⚠️ Warning: /content/frames_local/11401031097045955-ROLE does not exist!⚠️ Warning: /content/frames_local/6605087609687981-GRIND does not exist!\n",
            "\n",
            "⚠️ Warning: /content/frames_local/9950816910129381-FILE 2 does not exist!⚠️ Warning: /content/frames_local/8283977272549146-US does not exist!\n",
            "\n",
            "⚠️ Warning: /content/frames_local/5959402480864215-SEE SEE does not exist!⚠️ Warning: /content/frames_local/6993782178496888-BASKETBALL does not exist!\n",
            "\n",
            "⚠️ Warning: /content/frames_local/2059630750106589-ARIZONA does not exist!⚠️ Warning: /content/frames_local/5050869979436594-MINE does not exist!\n",
            "\n",
            "⚠️ Warning: /content/frames_local/5755775200161575-MAINSTREAM does not exist!\n"
          ]
        },
        {
          "output_type": "stream",
          "name": "stderr",
          "text": [
            "\r  7%|▋         | 6207/83399 [00:39<08:57, 143.58it/s]"
          ]
        },
        {
          "output_type": "stream",
          "name": "stdout",
          "text": [
            "⚠️ Warning: /content/frames_local/271562403427132-SAIL 2 does not exist!\n",
            "⚠️ Warning: /content/frames_local/8690410221445011-HAWAII does not exist!⚠️ Warning: /content/frames_local/6699399373187926-PLUG 2 does not exist!\n",
            "\n",
            "⚠️ Warning: /content/frames_local/06304361321206886-COMMITTEE does not exist!\n",
            "⚠️ Warning: /content/frames_local/4892310082536362-SHOULDER 3 does not exist!⚠️ Warning: /content/frames_local/8067731577445159-BLUR does not exist!\n",
            "\n",
            "⚠️ Warning: /content/frames_local/4554324946596169-DROWN 2 does not exist!⚠️ Warning: /content/frames_local/21741983579450141-CRY 2 does not exist!\n",
            "\n",
            "⚠️ Warning: /content/frames_local/1789528373770244-SHARPEN 3 does not exist!\n",
            "⚠️ Warning: /content/frames_local/8551545435604744-BRIDGE 2 does not exist!\n",
            "⚠️ Warning: /content/frames_local/17737352858506727-CRUMPLE does not exist!⚠️ Warning: /content/frames_local/372047697852099-BURY 1 does not exist!\n",
            "\n",
            "⚠️ Warning: /content/frames_local/5150129874642921-HOODIE 1 does not exist!⚠️ Warning: /content/frames_local/06810090395547652-TIE 2 does not exist!\n",
            "\n",
            "⚠️ Warning: /content/frames_local/6729819750110151-TURKEY 2 does not exist!⚠️ Warning: /content/frames_local/5232948259730421-HIPPO 2 does not exist!\n",
            "⚠️ Warning: /content/frames_local/6529086386636707-CITY 2 does not exist!\n",
            "\n"
          ]
        },
        {
          "output_type": "stream",
          "name": "stderr",
          "text": [
            "\r  7%|▋         | 6224/83399 [00:39<08:36, 149.39it/s]"
          ]
        },
        {
          "output_type": "stream",
          "name": "stdout",
          "text": [
            "⚠️ Warning: /content/frames_local/7336446350489247-THROW 2 does not exist!\n",
            "⚠️ Warning: /content/frames_local/5833068148597353-TOW 2 does not exist!⚠️ Warning: /content/frames_local/17255468443320088-SPREAD 3 does not exist!\n",
            "\n",
            "⚠️ Warning: /content/frames_local/7974359228794909-BURY 3 does not exist!\n",
            "⚠️ Warning: /content/frames_local/7178228159610736-AWARD does not exist!⚠️ Warning: /content/frames_local/9273248726443115-STRETCH 1 does not exist!\n",
            "\n",
            "⚠️ Warning: /content/frames_local/9302049144448172-HOLD 2 does not exist!⚠️ Warning: /content/frames_local/9468594282052134-BANANA 3 does not exist!\n",
            "\n",
            "⚠️ Warning: /content/frames_local/5220568929686493-IDENTITY does not exist!⚠️ Warning: /content/frames_local/2630963248904703-DOLPHIN 3 does not exist!\n",
            "\n",
            "⚠️ Warning: /content/frames_local/9867297065515139-SUNRISE does not exist!⚠️ Warning: /content/frames_local/5079407991351084-GLOVES 2 does not exist!\n",
            "\n",
            "⚠️ Warning: /content/frames_local/8503669604822188-ARM 3 does not exist!⚠️ Warning: /content/frames_local/032814411426106194-COMB 2 does not exist!\n",
            "\n",
            "⚠️ Warning: /content/frames_local/44946801307504325-GROUP does not exist!"
          ]
        },
        {
          "output_type": "stream",
          "name": "stderr",
          "text": [
            "\r  7%|▋         | 6240/83399 [00:39<08:41, 147.93it/s]"
          ]
        },
        {
          "output_type": "stream",
          "name": "stdout",
          "text": [
            "\n",
            "⚠️ Warning: /content/frames_local/41278520743040814-BITE ON_ARM does not exist!⚠️ Warning: /content/frames_local/02385096186400193-HAT 2 does not exist!\n",
            "\n",
            "⚠️ Warning: /content/frames_local/9813416499159735-CASTLE 3 does not exist!⚠️ Warning: /content/frames_local/414755773927167-POPULAR does not exist!\n",
            "⚠️ Warning: /content/frames_local/36682513786030024-DEPARTMENT does not exist!\n",
            "\n",
            "⚠️ Warning: /content/frames_local/37476921957168385-FORK 2 does not exist!\n",
            "⚠️ Warning: /content/frames_local/9297448988581021-WRESTLE does not exist!⚠️ Warning: /content/frames_local/4436334340686603-WEAK does not exist!\n",
            "\n",
            "⚠️ Warning: /content/frames_local/5053337389095753-FOUL does not exist!\n",
            "⚠️ Warning: /content/frames_local/433202364081555-ONE MORE_2 does not exist!⚠️ Warning: /content/frames_local/24241700666800425-INDIAN does not exist!\n",
            "\n",
            "⚠️ Warning: /content/frames_local/38200857340681393-TWIRL does not exist!⚠️ Warning: /content/frames_local/05125668435106201-QM does not exist!\n",
            "\n",
            "⚠️ Warning: /content/frames_local/3325607366488583-POINT INDEX does not exist!⚠️ Warning: /content/frames_local/4845012115872407-SLIP does not exist!\n"
          ]
        },
        {
          "output_type": "stream",
          "name": "stderr",
          "text": [
            "\r  8%|▊         | 6255/83399 [00:39<09:04, 141.73it/s]"
          ]
        },
        {
          "output_type": "stream",
          "name": "stdout",
          "text": [
            "⚠️ Warning: /content/frames_local/6588398055383173-CALL 2 does not exist!\n",
            "⚠️ Warning: /content/frames_local/03611732906204845-MEDICINE does not exist!\n",
            "⚠️ Warning: /content/frames_local/044754032976300095-MIX 2 does not exist!\n",
            "⚠️ Warning: /content/frames_local/47175728440552755-GO does not exist!\n",
            "⚠️ Warning: /content/frames_local/6194569927662175-SHOOT 2 does not exist!\n",
            "\n",
            "⚠️ Warning: /content/frames_local/6152384358343466-FORK 3 does not exist!⚠️ Warning: /content/frames_local/5912616726306081-TINY does not exist!\n",
            "\n",
            "⚠️ Warning: /content/frames_local/2726241714549955-FENCE 2 does not exist!⚠️ Warning: /content/frames_local/08327228555001609-ALL does not exist!\n",
            "\n",
            "⚠️ Warning: /content/frames_local/8487201150804045-ALL OVER does not exist!⚠️ Warning: /content/frames_local/7868432820995177-WHISTLE 3 does not exist!\n",
            "\n",
            "⚠️ Warning: /content/frames_local/6870160463836057-MILK 2 does not exist!⚠️ Warning: /content/frames_local/21744119645287352-TRIANGLE does not exist!\n",
            "\n",
            "⚠️ Warning: /content/frames_local/6483310649306606-CAT 3 does not exist!\n"
          ]
        },
        {
          "output_type": "stream",
          "name": "stderr",
          "text": [
            "\r  8%|▊         | 6270/83399 [00:39<09:18, 137.98it/s]"
          ]
        },
        {
          "output_type": "stream",
          "name": "stdout",
          "text": [
            "⚠️ Warning: /content/frames_local/9948136820638172-GET IN_BED does not exist!⚠️ Warning: /content/frames_local/0858024827441124-POLICEMAN 2 does not exist!\n",
            "\n",
            "⚠️ Warning: /content/frames_local/22333154661087273-CAKE does not exist!⚠️ Warning: /content/frames_local/5876575187651529-RABBIT 2 does not exist!\n",
            "\n",
            "⚠️ Warning: /content/frames_local/058844474384743384-PENNY does not exist!⚠️ Warning: /content/frames_local/8153384297148962-COPY does not exist!\n",
            "⚠️ Warning: /content/frames_local/936018131652089-8 HOUR does not exist!\n",
            "\n",
            "⚠️ Warning: /content/frames_local/8869338147430188-COMB does not exist!\n",
            "⚠️ Warning: /content/frames_local/029225925013676157-DUCK does not exist!⚠️ Warning: /content/frames_local/16288519431904458-MOUTH does not exist!\n",
            "\n",
            "⚠️ Warning: /content/frames_local/8836713624109029-MEAT does not exist!⚠️ Warning: /content/frames_local/9236445183040718-PEG does not exist!\n",
            "⚠️ Warning: /content/frames_local/9987577953873454-VLOG does not exist!\n",
            "⚠️ Warning: /content/frames_local/8812244290346625-BLINDS 2 does not exist!\n",
            "⚠️ Warning: /content/frames_local/32021378767943687-METAL does not exist!\n"
          ]
        },
        {
          "output_type": "stream",
          "name": "stderr",
          "text": [
            "\r  8%|▊         | 6284/83399 [00:39<09:19, 137.78it/s]"
          ]
        },
        {
          "output_type": "stream",
          "name": "stdout",
          "text": [
            "⚠️ Warning: /content/frames_local/9155024099588371-BULL does not exist!\n",
            "\n",
            "⚠️ Warning: /content/frames_local/4812347020688623-RISK does not exist!\n",
            "⚠️ Warning: /content/frames_local/0523137634198203-MIME does not exist!⚠️ Warning: /content/frames_local/32376527291050006-GET INFORMATION_OUT_OF does not exist!\n",
            "⚠️ Warning: /content/frames_local/15036051236623305-RAISIN does not exist!\n",
            "\n",
            "⚠️ Warning: /content/frames_local/052222460434802054-OIL does not exist!⚠️ Warning: /content/frames_local/6910906526294176-LUCK does not exist!\n",
            "⚠️ Warning: /content/frames_local/42151091506894045-TAKE OFF does not exist!\n",
            "\n",
            "⚠️ Warning: /content/frames_local/043083842996145094-PERSUADE does not exist!\n",
            "⚠️ Warning: /content/frames_local/3807392403933183-DECORATE 2 does not exist!⚠️ Warning: /content/frames_local/7026788672528337-HUMMINGBIRD does not exist!\n",
            "\n",
            "⚠️ Warning: /content/frames_local/8207849132247267-INCH does not exist!\n",
            "⚠️ Warning: /content/frames_local/026322804304159453-SERVE 2 does not exist!\n",
            "⚠️ Warning: /content/frames_local/07734675846436012-SPACESHIP does not exist!\n",
            "⚠️ Warning: /content/frames_local/8435270614067378-STRAWBERRY 3 does not exist!⚠️ Warning: /content/frames_local/7194659282263722-PINEAPPLE 5 does not exist!\n"
          ]
        },
        {
          "output_type": "stream",
          "name": "stderr",
          "text": [
            "\r  8%|▊         | 6300/83399 [00:39<09:14, 139.10it/s]"
          ]
        },
        {
          "output_type": "stream",
          "name": "stdout",
          "text": [
            "⚠️ Warning: /content/frames_local/08772168461631091-STRAWBERRY 4 does not exist!\n",
            "⚠️ Warning: /content/frames_local/09255709495802078-PLOW 2 does not exist!\n",
            "\n",
            "⚠️ Warning: /content/frames_local/3090427373610345-SCARF 4 does not exist!⚠️ Warning: /content/frames_local/7675175102193239-ERASE 5 does not exist!\n",
            "\n",
            "⚠️ Warning: /content/frames_local/46262061906755614-CASTLE 4 does not exist!⚠️ Warning: /content/frames_local/19025936926709042-BRAIDS does not exist!\n",
            "⚠️ Warning: /content/frames_local/2655768751429066-CLEFTCHIN does not exist!\n",
            "\n",
            "⚠️ Warning: /content/frames_local/9628710309732946-COWBOY does not exist!\n",
            "⚠️ Warning: /content/frames_local/8320036795386736-SNOWSUIT does not exist!⚠️ Warning: /content/frames_local/39593334652785916-DEPTH does not exist!\n",
            "\n",
            "⚠️ Warning: /content/frames_local/4773382734558065-DRESSER does not exist!⚠️ Warning: /content/frames_local/5567723236068252-TURBAN does not exist!\n",
            "⚠️ Warning: /content/frames_local/4423523287625868-TOO MUCH does not exist!\n",
            "\n"
          ]
        },
        {
          "output_type": "stream",
          "name": "stderr",
          "text": [
            "\r  8%|▊         | 6314/83399 [00:39<10:21, 123.99it/s]"
          ]
        },
        {
          "output_type": "stream",
          "name": "stdout",
          "text": [
            "⚠️ Warning: /content/frames_local/3209324451566753-LET GO does not exist!⚠️ Warning: /content/frames_local/02327127591820921-HIGHLIGHTER does not exist!\n",
            "\n",
            "⚠️ Warning: /content/frames_local/21524875160802726-TTY does not exist!⚠️ Warning: /content/frames_local/14716035693132046-MOTIVATION 1 does not exist!\n",
            "⚠️ Warning: /content/frames_local/09038913129745407-MICROSCOPE does not exist!\n",
            "⚠️ Warning: /content/frames_local/9234779523315049-EXPECT does not exist!\n",
            "⚠️ Warning: /content/frames_local/9775987084136173-SUPPORT 1 does not exist!\n",
            "\n",
            "⚠️ Warning: /content/frames_local/1763664849402471-NOTHING 2 does not exist!⚠️ Warning: /content/frames_local/32025561597469765-ROAD does not exist!\n",
            "⚠️ Warning: /content/frames_local/14624639737641787-CHOP does not exist!\n",
            "⚠️ Warning: /content/frames_local/871345534397411-AUTISM does not exist!\n",
            "⚠️ Warning: /content/frames_local/25989150927091664-YOURSELF does not exist!\n",
            "⚠️ Warning: /content/frames_local/34997583498618257-PAGE does not exist!\n",
            "\n"
          ]
        },
        {
          "output_type": "stream",
          "name": "stderr",
          "text": [
            "\r  8%|▊         | 6327/83399 [00:39<10:16, 124.96it/s]"
          ]
        },
        {
          "output_type": "stream",
          "name": "stdout",
          "text": [
            "⚠️ Warning: /content/frames_local/8525684703841325-PASS OUT does not exist!⚠️ Warning: /content/frames_local/32663807280597323-BELL does not exist!\n",
            "⚠️ Warning: /content/frames_local/7430076587467422-SMELL MONEY does not exist!\n",
            "\n",
            "⚠️ Warning: /content/frames_local/3607187019529545-HALLOWEEN does not exist!⚠️ Warning: /content/frames_local/48163228425300186-COCAINE does not exist!\n",
            "\n",
            "⚠️ Warning: /content/frames_local/6437065966485227-CHEESE GRATER does not exist!⚠️ Warning: /content/frames_local/8668045089043974-OK does not exist!\n",
            "\n",
            "⚠️ Warning: /content/frames_local/775645261530816-BASEBALL CAP does not exist!⚠️ Warning: /content/frames_local/30354887432219746-WRITE ON_WALL does not exist!\n",
            "\n",
            "⚠️ Warning: /content/frames_local/7598640656603028-NOON does not exist!⚠️ Warning: /content/frames_local/551183948894854-DISAPPOINT does not exist!\n",
            "⚠️ Warning: /content/frames_local/41082539286499786-SIX does not exist!\n",
            "⚠️ Warning: /content/frames_local/2891988894901818-ROLL does not exist!\n",
            "\n",
            "⚠️ Warning: /content/frames_local/2610190313064251-CHEEK does not exist!\n"
          ]
        },
        {
          "output_type": "stream",
          "name": "stderr",
          "text": [
            "\r  8%|▊         | 6340/83399 [00:40<10:43, 119.77it/s]"
          ]
        },
        {
          "output_type": "stream",
          "name": "stdout",
          "text": [
            "⚠️ Warning: /content/frames_local/0026042760833016043-SCREAM does not exist!\n",
            "⚠️ Warning: /content/frames_local/4347491674871169-CLOSE does not exist!⚠️ Warning: /content/frames_local/7216744097791985-HEAD does not exist!\n",
            "\n",
            "⚠️ Warning: /content/frames_local/48352716546498264-TOWEL does not exist!⚠️ Warning: /content/frames_local/5822102550913828-SINGLE does not exist!\n",
            "\n",
            "⚠️ Warning: /content/frames_local/5657005340369723-GIVE does not exist!⚠️ Warning: /content/frames_local/7870008268312878-WADE does not exist!\n",
            "\n",
            "⚠️ Warning: /content/frames_local/8558871792177685-FRY does not exist!⚠️ Warning: /content/frames_local/1334795559419104-GRANDPARENTS does not exist!\n",
            "⚠️ Warning: /content/frames_local/20266167502471744-SHARP 2 does not exist!\n",
            "\n",
            "⚠️ Warning: /content/frames_local/4769011083714034-DRUG does not exist!⚠️ Warning: /content/frames_local/16300790632753404-PREDICT does not exist!\n",
            "\n",
            "⚠️ Warning: /content/frames_local/13272711114207536-UNTIL does not exist!⚠️ Warning: /content/frames_local/8215964391296668-ASSIGN does not exist!\n",
            "⚠️ Warning: /content/frames_local/4311375985871566-UPSET 1 does not exist!\n",
            "⚠️ Warning: /content/frames_local/9183489260287057-GRADUATE SCHOOL does not exist!\n",
            "\n",
            "⚠️ Warning: /content/frames_local/8669870837035698-CATEPILLAR does not exist!"
          ]
        },
        {
          "output_type": "stream",
          "name": "stderr",
          "text": [
            "\r  8%|▊         | 6356/83399 [00:40<10:04, 127.48it/s]"
          ]
        },
        {
          "output_type": "stream",
          "name": "stdout",
          "text": [
            "⚠️ Warning: /content/frames_local/7312545259994598-APRIL does not exist!\n",
            "⚠️ Warning: /content/frames_local/31895462491061144-DELEGATE does not exist!\n",
            "\n",
            "⚠️ Warning: /content/frames_local/08056025784836529-SHAVE 3 does not exist!⚠️ Warning: /content/frames_local/16031148929276173-LONG does not exist!\n",
            "⚠️ Warning: /content/frames_local/7368923583762566-HURRY does not exist!\n",
            "\n",
            "⚠️ Warning: /content/frames_local/913588555936625-OPTION does not exist!⚠️ Warning: /content/frames_local/9368256240098554-TAKE does not exist!\n",
            "⚠️ Warning: /content/frames_local/05859375803449307-ROLL UP_SLEEVES does not exist!\n",
            "\n",
            "⚠️ Warning: /content/frames_local/43026159864039615-EXPERIENCED does not exist!\n",
            "⚠️ Warning: /content/frames_local/3159751101423762-PEAR does not exist!\n",
            "⚠️ Warning: /content/frames_local/9928833084239883-INTENTIONAL does not exist!⚠️ Warning: /content/frames_local/8749149490186505-TOMORROW does not exist!⚠️ Warning: /content/frames_local/17372941660764507-PEEL 1 does not exist!"
          ]
        },
        {
          "output_type": "stream",
          "name": "stderr",
          "text": [
            "\r  8%|▊         | 6369/83399 [00:40<10:02, 127.84it/s]"
          ]
        },
        {
          "output_type": "stream",
          "name": "stdout",
          "text": [
            "\n",
            "\n",
            "⚠️ Warning: /content/frames_local/37682711344124065-HIS does not exist!\n",
            "\n",
            "⚠️ Warning: /content/frames_local/1356612471381753-HARP does not exist!⚠️ Warning: /content/frames_local/3760683278090644-THIRD does not exist!\n",
            "⚠️ Warning: /content/frames_local/24767290279241916-WHEEL does not exist!\n",
            "\n",
            "⚠️ Warning: /content/frames_local/06002102686749389-RAINBOW does not exist!⚠️ Warning: /content/frames_local/4722789317809275-VALUE does not exist!\n",
            "\n",
            "⚠️ Warning: /content/frames_local/2818658707073032-EARMUFFS does not exist!\n",
            "⚠️ Warning: /content/frames_local/3688506826746041-DOESNT MATTER does not exist!⚠️ Warning: /content/frames_local/4582544334161056-BOYFRIEND does not exist!\n",
            "\n",
            "⚠️ Warning: /content/frames_local/17085200317864246-POPE does not exist!⚠️ Warning: /content/frames_local/6330199362456541-EVENT does not exist!\n",
            "\n",
            "⚠️ Warning: /content/frames_local/26970358740436273-HELL does not exist!⚠️ Warning: /content/frames_local/8937663862932426-FLAG 2 does not exist!\n",
            "⚠️ Warning: /content/frames_local/9232966419158455-FORM does not exist!\n",
            "⚠️ Warning: /content/frames_local/27585573678791686-HOOD does not exist!\n",
            "⚠️ Warning: /content/frames_local/10009693195015013-ARTICULATE SIGN does not exist!\n",
            "⚠️ Warning: /content/frames_local/550637438999714-YAY does not exist!"
          ]
        },
        {
          "output_type": "stream",
          "name": "stderr",
          "text": [
            "\r  8%|▊         | 6386/83399 [00:40<09:22, 136.96it/s]"
          ]
        },
        {
          "output_type": "stream",
          "name": "stdout",
          "text": [
            "\n",
            "\n",
            "⚠️ Warning: /content/frames_local/015839645482846665-WHEELBARROW does not exist!⚠️ Warning: /content/frames_local/3804316157190706-BREAKTIME does not exist!\n",
            "⚠️ Warning: /content/frames_local/020118267211057583-CROSS HEART does not exist!\n",
            "\n",
            "⚠️ Warning: /content/frames_local/22286672553324038-DEDICATE 1 does not exist!\n",
            "⚠️ Warning: /content/frames_local/21653053898452845-TRANSGENDER does not exist!⚠️ Warning: /content/frames_local/06754700554069304-CHILD does not exist!\n",
            "⚠️ Warning: /content/frames_local/13425460346075102-RUN 2 does not exist!\n",
            "⚠️ Warning: /content/frames_local/5941754996751065-FEED does not exist!\n",
            "\n",
            "⚠️ Warning: /content/frames_local/16728596536749274-YES does not exist!\n",
            "⚠️ Warning: /content/frames_local/04531070862926345-DEFEAT does not exist!⚠️ Warning: /content/frames_local/6091935368903199-INTERPRET does not exist!\n",
            "\n",
            "⚠️ Warning: /content/frames_local/7308996807721311-HEADCOLD does not exist!⚠️ Warning: /content/frames_local/6640658218858551-SOFTBALL does not exist!\n",
            "\n",
            "⚠️ Warning: /content/frames_local/34922514476625244-SENTENCE 2 does not exist!⚠️ Warning: /content/frames_local/5850111654441543-CROSS 2 does not exist!\n",
            "\n"
          ]
        },
        {
          "output_type": "stream",
          "name": "stderr",
          "text": [
            "\r  8%|▊         | 6402/83399 [00:40<08:58, 142.92it/s]"
          ]
        },
        {
          "output_type": "stream",
          "name": "stdout",
          "text": [
            "⚠️ Warning: /content/frames_local/8617247257644634-TRACTOR does not exist!⚠️ Warning: /content/frames_local/2976064669599383-WHEELCHAIR does not exist!\n",
            "\n",
            "⚠️ Warning: /content/frames_local/4141697998179248-HANDS does not exist!⚠️ Warning: /content/frames_local/955311973916819-COUCH 1 does not exist!\n",
            "\n",
            "⚠️ Warning: /content/frames_local/0995420939672691-BEACH does not exist!\n",
            "⚠️ Warning: /content/frames_local/4781659370049829-FRINGE does not exist!⚠️ Warning: /content/frames_local/8127258807602229-LAND does not exist!\n",
            "⚠️ Warning: /content/frames_local/8891293818364707-BITCH does not exist!\n",
            "⚠️ Warning: /content/frames_local/32856875079358927-BOTH does not exist!⚠️ Warning: /content/frames_local/7798076439407129-PINCH does not exist!\n",
            "\n",
            "⚠️ Warning: /content/frames_local/8523167546819257-LIFT does not exist!\n",
            "⚠️ Warning: /content/frames_local/480982833341808-RECITE does not exist!\n",
            "\n",
            "⚠️ Warning: /content/frames_local/21452718054280906-BITE does not exist!⚠️ Warning: /content/frames_local/40702086170853957-EIGHT does not exist!\n",
            "⚠️ Warning: /content/frames_local/3239904522451973-CURLY HAIR does not exist!\n",
            "⚠️ Warning: /content/frames_local/49066285477815996-BOILING MAD does not exist!\n",
            "\n",
            "⚠️ Warning: /content/frames_local/7099432188311046-EVERY YEAR does not exist!⚠️ Warning: /content/frames_local/4049379995069884-MESS does not exist!\n"
          ]
        },
        {
          "output_type": "stream",
          "name": "stderr",
          "text": [
            "\r  8%|▊         | 6420/83399 [00:40<08:37, 148.74it/s]"
          ]
        },
        {
          "output_type": "stream",
          "name": "stdout",
          "text": [
            "⚠️ Warning: /content/frames_local/013615198692583874-WHALE does not exist!\n",
            "\n",
            "⚠️ Warning: /content/frames_local/69445580400083-ALRIGHT does not exist!\n",
            "⚠️ Warning: /content/frames_local/2979110879621394-PLUMMET does not exist!\n",
            "⚠️ Warning: /content/frames_local/354330486852412-HOLD HANDS does not exist!⚠️ Warning: /content/frames_local/35873779457675603-SHORT PERSON does not exist!\n",
            "⚠️ Warning: /content/frames_local/874460631502753-PRESS does not exist!\n",
            "⚠️ Warning: /content/frames_local/49470532203863127-INDEPENDENT does not exist!\n",
            "⚠️ Warning: /content/frames_local/23489149176046498-ALWAYS does not exist!\n",
            "\n",
            "⚠️ Warning: /content/frames_local/16779406527174978-OLDEST does not exist!⚠️ Warning: /content/frames_local/0734256001996294-ROW does not exist!\n",
            "\n",
            "⚠️ Warning: /content/frames_local/6810591944087439-EYE TURN does not exist!⚠️ Warning: /content/frames_local/8520786278694439-ASSIST does not exist!\n",
            "\n",
            "⚠️ Warning: /content/frames_local/9252452785367051-SUCK THUMB does not exist!⚠️ Warning: /content/frames_local/7578829439834385-DRAG does not exist!\n",
            "\n",
            "⚠️ Warning: /content/frames_local/43676839393589284-AUTISM 2 does not exist!"
          ]
        },
        {
          "output_type": "stream",
          "name": "stderr",
          "text": [
            "\r  8%|▊         | 6435/83399 [00:40<08:54, 144.00it/s]"
          ]
        },
        {
          "output_type": "stream",
          "name": "stdout",
          "text": [
            "⚠️ Warning: /content/frames_local/005110659350805458-COMFORTABLE does not exist!\n",
            "\n",
            "⚠️ Warning: /content/frames_local/018407398438414102-SPACE does not exist!⚠️ Warning: /content/frames_local/13122647906852158-PINEAPPLE 2 does not exist!\n",
            "\n",
            "⚠️ Warning: /content/frames_local/6299878549026701-TOUCH does not exist!⚠️ Warning: /content/frames_local/23275412666886686-COOL 5 does not exist!\n",
            "\n",
            "⚠️ Warning: /content/frames_local/12182154918733556-NECKLACE 2 does not exist!⚠️ Warning: /content/frames_local/20769905529452282-TIME TO_TIME does not exist!\n",
            "\n",
            "⚠️ Warning: /content/frames_local/18638607717808386-THINK OBSESS does not exist!⚠️ Warning: /content/frames_local/5642344192671489-GROW UP does not exist!\n",
            "\n",
            "⚠️ Warning: /content/frames_local/30926036392281886-CURL does not exist!\n",
            "⚠️ Warning: /content/frames_local/34282778248678003-ELEMENTARY SCHOOL does not exist!⚠️ Warning: /content/frames_local/10423811713240694-OOH does not exist!\n",
            "⚠️ Warning: /content/frames_local/5189376730167312-SCARF 3 does not exist!\n",
            "\n",
            "⚠️ Warning: /content/frames_local/36384513321376466-DOMINANT does not exist!⚠️ Warning: /content/frames_local/30800045933232467-PREGNANT does not exist!\n"
          ]
        },
        {
          "output_type": "stream",
          "name": "stderr",
          "text": [
            "\r  8%|▊         | 6450/83399 [00:40<09:23, 136.44it/s]"
          ]
        },
        {
          "output_type": "stream",
          "name": "stdout",
          "text": [
            "\n",
            "⚠️ Warning: /content/frames_local/23816999184777976-WOMAN 2 does not exist!⚠️ Warning: /content/frames_local/2833239379700172-PULL does not exist!\n",
            "\n",
            "⚠️ Warning: /content/frames_local/9753573824062456-PENCIL does not exist!⚠️ Warning: /content/frames_local/9276367687372418-BABY does not exist!\n",
            "⚠️ Warning: /content/frames_local/7508863285603271-DISAGREEMENT does not exist!\n",
            "\n",
            "⚠️ Warning: /content/frames_local/7449721965435019-WATER does not exist!\n",
            "⚠️ Warning: /content/frames_local/4266139565423861-BREAKDOWN does not exist!\n",
            "⚠️ Warning: /content/frames_local/8193510583268575-PIRATE does not exist!⚠️ Warning: /content/frames_local/48559253114890266-GRADUATE does not exist!\n",
            "⚠️ Warning: /content/frames_local/3728189928364729-HANDCUFFS does not exist!\n",
            "⚠️ Warning: /content/frames_local/3220497353716374-ENEMY does not exist!\n",
            "⚠️ Warning: /content/frames_local/17010361170601285-INTERVIEW does not exist!\n",
            "\n",
            "⚠️ Warning: /content/frames_local/4963894331213625-PLACE does not exist!⚠️ Warning: /content/frames_local/3909320209952225-YOUR does not exist!\n"
          ]
        },
        {
          "output_type": "stream",
          "name": "stderr",
          "text": [
            "\r  8%|▊         | 6464/83399 [00:40<09:32, 134.35it/s]"
          ]
        },
        {
          "output_type": "stream",
          "name": "stdout",
          "text": [
            "⚠️ Warning: /content/frames_local/7939198354925747-CHAMP does not exist!\n",
            "\n",
            "⚠️ Warning: /content/frames_local/7521132738037328-WALLET does not exist!⚠️ Warning: /content/frames_local/621639851866703-TISSUE does not exist!\n",
            "\n",
            "⚠️ Warning: /content/frames_local/8983745014552249-MENTION does not exist!\n",
            "⚠️ Warning: /content/frames_local/8291554128359133-NOT MIND does not exist!\n",
            "⚠️ Warning: /content/frames_local/963004911578959-FADE does not exist!\n",
            "⚠️ Warning: /content/frames_local/9058335437700193-FAMOUS does not exist!\n",
            "⚠️ Warning: /content/frames_local/19870890573797184-EVERYDAY does not exist!⚠️ Warning: /content/frames_local/7086348966756304-HONK does not exist!\n",
            "\n",
            "⚠️ Warning: /content/frames_local/5564483486614937-EXAMPLE does not exist!\n",
            "⚠️ Warning: /content/frames_local/8159890685869593-ONE does not exist!\n",
            "⚠️ Warning: /content/frames_local/18434586811901332-MEXICAN does not exist!⚠️ Warning: /content/frames_local/2928599376925225-TONGUE does not exist!\n",
            "\n",
            "⚠️ Warning: /content/frames_local/25865219522623684-DEGREE does not exist!"
          ]
        },
        {
          "output_type": "stream",
          "name": "stderr",
          "text": [
            "\r  8%|▊         | 6478/83399 [00:41<09:27, 135.64it/s]"
          ]
        },
        {
          "output_type": "stream",
          "name": "stdout",
          "text": [
            "\n",
            "⚠️ Warning: /content/frames_local/1420878861227104-RELEASE does not exist!\n",
            "⚠️ Warning: /content/frames_local/21035871994914412-RESULT does not exist!⚠️ Warning: /content/frames_local/35586727677609087-PRACTICE does not exist!\n",
            "\n",
            "⚠️ Warning: /content/frames_local/916929144720219-AUDITORIUM does not exist!\n",
            "⚠️ Warning: /content/frames_local/8135310964902975-SOON does not exist!⚠️ Warning: /content/frames_local/6878369247349636-ARREST does not exist!\n",
            "⚠️ Warning: /content/frames_local/6711586875493958-ONLY ONE does not exist!\n",
            "\n",
            "⚠️ Warning: /content/frames_local/3450925010970334-DIFFERENT does not exist!⚠️ Warning: /content/frames_local/30102130442113206-SNORKEL does not exist!\n",
            "\n",
            "⚠️ Warning: /content/frames_local/41796412694485485-SENATE does not exist!⚠️ Warning: /content/frames_local/7690605170282583-SPAIN does not exist!\n",
            "⚠️ Warning: /content/frames_local/33886786133857694-HARMONICA does not exist!\n",
            "⚠️ Warning: /content/frames_local/9024981448146225-SOCIALIZE does not exist!\n",
            "\n",
            "⚠️ Warning: /content/frames_local/18319316534006758-ACCESS does not exist!⚠️ Warning: /content/frames_local/9199250123565428-A LITTLE BIT does not exist!\n",
            "\n",
            "⚠️ Warning: /content/frames_local/8658863179760987-HINGE does not exist!⚠️ Warning: /content/frames_local/22125422555983953-WELCOME 2 does not exist!\n",
            "\n"
          ]
        },
        {
          "output_type": "stream",
          "name": "stderr",
          "text": [
            "\r  8%|▊         | 6495/83399 [00:41<08:52, 144.55it/s]"
          ]
        },
        {
          "output_type": "stream",
          "name": "stdout",
          "text": [
            "⚠️ Warning: /content/frames_local/7966126206277044-GONE does not exist!\n",
            "⚠️ Warning: /content/frames_local/35146539073073435-BRAINWASH does not exist!⚠️ Warning: /content/frames_local/7157166055342723-ADMIT does not exist!\n",
            "\n",
            "⚠️ Warning: /content/frames_local/3223318771623971-POLICY does not exist!⚠️ Warning: /content/frames_local/36404985287549074-TUESDAY does not exist!\n",
            "\n",
            "⚠️ Warning: /content/frames_local/7521065366538306-BLOW does not exist!⚠️ Warning: /content/frames_local/8988617555924683-NEAR does not exist!\n",
            "⚠️ Warning: /content/frames_local/9058354465300389-DOUBLE does not exist!\n",
            "⚠️ Warning: /content/frames_local/11130134370751366-RESIGN does not exist!\n",
            "\n",
            "⚠️ Warning: /content/frames_local/11458806792974352-UPSET does not exist!\n",
            "⚠️ Warning: /content/frames_local/7669237743811756-ASTRONAUT does not exist!⚠️ Warning: /content/frames_local/5602855703261083-PARAGRAPH does not exist!\n",
            "⚠️ Warning: /content/frames_local/1696750370170006-OPPORTUNITY does not exist!\n",
            "⚠️ Warning: /content/frames_local/06467313990217516-EARS UP does not exist!\n",
            "\n",
            "⚠️ Warning: /content/frames_local/09242717124055-ERASE does not exist!\n"
          ]
        },
        {
          "output_type": "stream",
          "name": "stderr",
          "text": [
            "\r  8%|▊         | 6510/83399 [00:41<09:31, 134.51it/s]"
          ]
        },
        {
          "output_type": "stream",
          "name": "stdout",
          "text": [
            "⚠️ Warning: /content/frames_local/9602148846754079-STOPWATCH does not exist!⚠️ Warning: /content/frames_local/758262212070973-MOTIVATION does not exist!\n",
            "\n",
            "⚠️ Warning: /content/frames_local/7785145373127385-NOT does not exist!⚠️ Warning: /content/frames_local/7555692968493783-REDUCE does not exist!\n",
            "\n",
            "⚠️ Warning: /content/frames_local/3232107259587049-SPECIAL does not exist!\n",
            "⚠️ Warning: /content/frames_local/3997168861475149-HE does not exist!⚠️ Warning: /content/frames_local/2172105216235809-ABSOLUTELY NOTHING does not exist!\n",
            "\n",
            "⚠️ Warning: /content/frames_local/07997346723437548-DRESS UP does not exist!⚠️ Warning: /content/frames_local/6153372617784081-CUT REMOVE VID does not exist!\n",
            "⚠️ Warning: /content/frames_local/825509101496642-CONTACT LENS does not exist!\n",
            "⚠️ Warning: /content/frames_local/5069377735800145-AUNT does not exist!\n",
            "\n",
            "⚠️ Warning: /content/frames_local/1405245406307023-OR does not exist!⚠️ Warning: /content/frames_local/25163194051761417-ELEVATOR does not exist!\n",
            "\n",
            "⚠️ Warning: /content/frames_local/5377518041774723-CONSUME does not exist!⚠️ Warning: /content/frames_local/3659552962072221-ROAST does not exist!\n",
            "⚠️ Warning: /content/frames_local/05897827154838331-SWEATPANTS does not exist!"
          ]
        },
        {
          "output_type": "stream",
          "name": "stderr",
          "text": [
            "\r  8%|▊         | 6525/83399 [00:41<09:20, 137.27it/s]"
          ]
        },
        {
          "output_type": "stream",
          "name": "stdout",
          "text": [
            "\n",
            "⚠️ Warning: /content/frames_local/9682859290403725-ABBREVIATE does not exist!\n",
            "⚠️ Warning: /content/frames_local/15842571997980448-SAUCE does not exist!\n",
            "⚠️ Warning: /content/frames_local/9657682308096263-CLEAN does not exist!\n",
            "\n",
            "⚠️ Warning: /content/frames_local/30964549147710785-DONT LIKE does not exist!⚠️ Warning: /content/frames_local/782893538691495-ADD does not exist!\n",
            "⚠️ Warning: /content/frames_local/059239383200503815-GIVE UP does not exist!\n",
            "⚠️ Warning: /content/frames_local/5731440792273435-DESTROY does not exist!\n",
            "\n",
            "⚠️ Warning: /content/frames_local/3167051102585072-WASH HANDS does not exist!⚠️ Warning: /content/frames_local/5815002632226274-TEND YOUR does not exist!\n",
            "\n",
            "⚠️ Warning: /content/frames_local/5848189955870842-SUSPEND does not exist!\n",
            "⚠️ Warning: /content/frames_local/6258986868275938-BRIGHT does not exist!⚠️ Warning: /content/frames_local/49408444251679273-GOOSEBUMPS does not exist!\n",
            "⚠️ Warning: /content/frames_local/18500814503221719-ABOVE does not exist!\n",
            "\n",
            "⚠️ Warning: /content/frames_local/8046363661721849-SPEND does not exist!⚠️ Warning: /content/frames_local/40632235964954844-BARELY does not exist!\n"
          ]
        },
        {
          "output_type": "stream",
          "name": "stderr",
          "text": [
            "\r  8%|▊         | 6541/83399 [00:41<09:02, 141.71it/s]"
          ]
        },
        {
          "output_type": "stream",
          "name": "stdout",
          "text": [
            "⚠️ Warning: /content/frames_local/9779170138427555-TEMPER BLOW UP does not exist!\n",
            "⚠️ Warning: /content/frames_local/13584123952414706-PLUS does not exist!\n",
            "\n",
            "⚠️ Warning: /content/frames_local/01789094394246238-WHAT FOR does not exist!⚠️ Warning: /content/frames_local/8159447559963693-ALL DAY does not exist!\n",
            "\n",
            "⚠️ Warning: /content/frames_local/7454404400311532-LIVING ROOM does not exist!⚠️ Warning: /content/frames_local/21041395802975393-DIFFERENT SITUATION does not exist!\n",
            "⚠️ Warning: /content/frames_local/3488049811579754-FAIR does not exist!\n",
            "\n",
            "⚠️ Warning: /content/frames_local/9810485030680287-SAUSAGE does not exist!\n",
            "⚠️ Warning: /content/frames_local/04928791222083673-STAND-UP does not exist!\n",
            "⚠️ Warning: /content/frames_local/006406596782399188-ALL GONE does not exist!\n",
            "⚠️ Warning: /content/frames_local/7868994070958684-HANDSOME does not exist!\n",
            "⚠️ Warning: /content/frames_local/6898518339895967-PIZZA does not exist!\n",
            "⚠️ Warning: /content/frames_local/8922753677082309-CHARGE does not exist!\n",
            "⚠️ Warning: /content/frames_local/05783793579808072-TECHNOLOGY does not exist!\n"
          ]
        },
        {
          "output_type": "stream",
          "name": "stderr",
          "text": [
            "\r  8%|▊         | 6556/83399 [00:41<08:56, 143.13it/s]"
          ]
        },
        {
          "output_type": "stream",
          "name": "stdout",
          "text": [
            "⚠️ Warning: /content/frames_local/8710927730521709-ELEVATOR does not exist!\n",
            "⚠️ Warning: /content/frames_local/35198219328372926-CHURN does not exist!⚠️ Warning: /content/frames_local/6466497454416145-HEARTBODY does not exist!\n",
            "⚠️ Warning: /content/frames_local/8879593090443645-COOL does not exist!\n",
            "\n",
            "⚠️ Warning: /content/frames_local/6621786022379204-WINTER does not exist!\n",
            "⚠️ Warning: /content/frames_local/757764364713426-LONG WORD does not exist!⚠️ Warning: /content/frames_local/09015851628987148-SHAVE does not exist!\n",
            "\n",
            "⚠️ Warning: /content/frames_local/38038886909627667-WRING does not exist!\n",
            "⚠️ Warning: /content/frames_local/6411282053233076-TRANSFER does not exist!⚠️ Warning: /content/frames_local/19596604862641276-SHOT does not exist!\n",
            "\n",
            "⚠️ Warning: /content/frames_local/44742497877006127-DEPEND ON does not exist!⚠️ Warning: /content/frames_local/16762111665191926-LEATHER does not exist!\n",
            "\n",
            "⚠️ Warning: /content/frames_local/9410979526214822-SHELF does not exist!\n",
            "⚠️ Warning: /content/frames_local/15898630061569463-HOTEL does not exist!⚠️ Warning: /content/frames_local/2944206904081208-HOCKEY does not exist!\n",
            "\n",
            "⚠️ Warning: /content/frames_local/6189827252250637-LETTER 2 does not exist!⚠️ Warning: /content/frames_local/22043608043834606-RESEARCH does not exist!\n",
            "\n",
            "⚠️ Warning: /content/frames_local/17807751860097576-UPLOAD does not exist!"
          ]
        },
        {
          "output_type": "stream",
          "name": "stderr",
          "text": [
            "\r  8%|▊         | 6572/83399 [00:41<08:49, 145.14it/s]"
          ]
        },
        {
          "output_type": "stream",
          "name": "stdout",
          "text": [
            "⚠️ Warning: /content/frames_local/2619980698981046-KNEEL does not exist!\n",
            "\n",
            "⚠️ Warning: /content/frames_local/26786372114992596-JIGSAW PUZZLE does not exist!⚠️ Warning: /content/frames_local/5664709026244799-EYEGLASSES does not exist!\n",
            "\n",
            "⚠️ Warning: /content/frames_local/4580536898510479-SHIRT does not exist!\n",
            "⚠️ Warning: /content/frames_local/3722707446891771-PAPER does not exist!⚠️ Warning: /content/frames_local/3746433618384808-POLICEMAN does not exist!\n",
            "\n",
            "⚠️ Warning: /content/frames_local/16973271441039817-WOLF does not exist!⚠️ Warning: /content/frames_local/6751555237773632-PIE does not exist!\n",
            "\n",
            "⚠️ Warning: /content/frames_local/03774448013118192-TURTLE does not exist!⚠️ Warning: /content/frames_local/24907590388201895-STREET does not exist!\n",
            "\n",
            "⚠️ Warning: /content/frames_local/8752286886125953-WANDER does not exist!⚠️ Warning: /content/frames_local/6013462323405956-READ does not exist!\n",
            "\n",
            "⚠️ Warning: /content/frames_local/772180570303282-BIRD does not exist!⚠️ Warning: /content/frames_local/9246273532004341-SURF does not exist!\n",
            "\n",
            "⚠️ Warning: /content/frames_local/08063091087008778-SHOWER does not exist!⚠️ Warning: /content/frames_local/6588062559231365-MICROWAVE does not exist!\n",
            "⚠️ Warning: /content/frames_local/9985159413547589-PAINTBRUSH does not exist!\n",
            "\n",
            "⚠️ Warning: /content/frames_local/9115918636320579-EVALUATE does not exist!⚠️ Warning: /content/frames_local/6298412168136709-FISH does not exist!\n",
            "\n",
            "⚠️ Warning: /content/frames_local/293193098523737-GOAT does not exist!⚠️ Warning: /content/frames_local/01903537048641679-SHOVEL does not exist!⚠️ Warning: /content/frames_local/7154307925909649-DRUM does not exist!\n"
          ]
        },
        {
          "output_type": "stream",
          "name": "stderr",
          "text": [
            "\r  8%|▊         | 6592/83399 [00:41<08:17, 154.26it/s]"
          ]
        },
        {
          "output_type": "stream",
          "name": "stdout",
          "text": [
            "\n",
            "⚠️ Warning: /content/frames_local/09405519128223006-TOBACCO does not exist!\n",
            "\n",
            "⚠️ Warning: /content/frames_local/9442296660504761-NEUTRAL does not exist!⚠️ Warning: /content/frames_local/15990358086091327-BALLOON does not exist!\n",
            "⚠️ Warning: /content/frames_local/692807563330962-RADIO does not exist!\n",
            "\n",
            "⚠️ Warning: /content/frames_local/08777204417479423-HISTORY does not exist!⚠️ Warning: /content/frames_local/0031820727483584665-SHEEP does not exist!\n",
            "\n",
            "⚠️ Warning: /content/frames_local/22444182245829425-NECKLACE does not exist!⚠️ Warning: /content/frames_local/5437237777656725-DESERT does not exist!\n",
            "\n",
            "⚠️ Warning: /content/frames_local/22976757735306408-SOCKS does not exist!⚠️ Warning: /content/frames_local/36804719114938367-MAGAZINE does not exist!\n",
            "\n",
            "⚠️ Warning: /content/frames_local/25343685176138053-LION does not exist!⚠️ Warning: /content/frames_local/7792037640059655-BED does not exist!\n",
            "⚠️ Warning: /content/frames_local/8676045514669577-HEARING AID does not exist!\n",
            "⚠️ Warning: /content/frames_local/4369260656671474-SHY does not exist!\n",
            "\n",
            "⚠️ Warning: /content/frames_local/09421450639596118-NIGHT does not exist!⚠️ Warning: /content/frames_local/07498318396840631-CASTLE does not exist!\n",
            "\n"
          ]
        },
        {
          "output_type": "stream",
          "name": "stderr",
          "text": [
            "\r  8%|▊         | 6611/83399 [00:41<08:01, 159.37it/s]"
          ]
        },
        {
          "output_type": "stream",
          "name": "stdout",
          "text": [
            "⚠️ Warning: /content/frames_local/9322520837489177-MONKEY does not exist!\n",
            "⚠️ Warning: /content/frames_local/05640231548649988-PARACHUTE does not exist!\n",
            "⚠️ Warning: /content/frames_local/7977032291577155-STARS does not exist!⚠️ Warning: /content/frames_local/49453553395031524-BOWTIE does not exist!\n",
            "⚠️ Warning: /content/frames_local/4119783575229261-LEMON does not exist!\n",
            "⚠️ Warning: /content/frames_local/4838523736904443-SANDALS does not exist!\n",
            "⚠️ Warning: /content/frames_local/16633418651661214-KITE does not exist!\n",
            "\n",
            "⚠️ Warning: /content/frames_local/43727660626873766-DRAWER does not exist!⚠️ Warning: /content/frames_local/17659395377249743-CHAIR does not exist!\n",
            "⚠️ Warning: /content/frames_local/22597137823525548-TRASH does not exist!\n",
            "\n",
            "⚠️ Warning: /content/frames_local/47162100129281925-WAITER does not exist!\n",
            "⚠️ Warning: /content/frames_local/4043923477256379-DEODORANT does not exist!⚠️ Warning: /content/frames_local/7055436665641321-STUDENT does not exist!\n",
            "\n",
            "⚠️ Warning: /content/frames_local/8690889245947255-PSYCHOLOGIST does not exist!⚠️ Warning: /content/frames_local/5597552546992408-ROLLERSKATING does not exist!\n",
            "\n"
          ]
        },
        {
          "output_type": "stream",
          "name": "stderr",
          "text": [
            "\r  8%|▊         | 6627/83399 [00:42<08:10, 156.52it/s]"
          ]
        },
        {
          "output_type": "stream",
          "name": "stdout",
          "text": [
            "⚠️ Warning: /content/frames_local/31833969496212267-RIVER does not exist!⚠️ Warning: /content/frames_local/794897242650892-DEER does not exist!\n",
            "\n",
            "⚠️ Warning: /content/frames_local/14299853534247475-PANTS does not exist!\n",
            "⚠️ Warning: /content/frames_local/5751161286682638-LETTUCE does not exist!\n",
            "⚠️ Warning: /content/frames_local/14578933395660165-SWING does not exist!\n",
            "⚠️ Warning: /content/frames_local/684671519131391-GORILLA does not exist!⚠️ Warning: /content/frames_local/34421281691512906-POPCORN does not exist!\n",
            "\n",
            "⚠️ Warning: /content/frames_local/7785223679117681-BRIDESMAID does not exist!⚠️ Warning: /content/frames_local/2205169002684486-CAMPING does not exist!\n",
            "⚠️ Warning: /content/frames_local/36212083390126737-ELECTRICIAN does not exist!\n",
            "⚠️ Warning: /content/frames_local/5294256519968898-HAIR does not exist!\n",
            "\n",
            "⚠️ Warning: /content/frames_local/16419165797945956-FISHING does not exist!⚠️ Warning: /content/frames_local/14366931031171792-HOMEWORK does not exist!\n",
            "\n",
            "⚠️ Warning: /content/frames_local/9772136003621326-SALAD does not exist!\n",
            "⚠️ Warning: /content/frames_local/9643236923257503-CUP does not exist!⚠️ Warning: /content/frames_local/0957009954906709-BLANKET does not exist!\n",
            "\n",
            "⚠️ Warning: /content/frames_local/7827745387292591-CANDY 1 does not exist!\n"
          ]
        },
        {
          "output_type": "stream",
          "name": "stderr",
          "text": [
            "\r  8%|▊         | 6643/83399 [00:42<09:20, 136.95it/s]"
          ]
        },
        {
          "output_type": "stream",
          "name": "stdout",
          "text": [
            "⚠️ Warning: /content/frames_local/5370794859597501-MOON does not exist!\n",
            "⚠️ Warning: /content/frames_local/5414011242379793-DOLPHIN does not exist!⚠️ Warning: /content/frames_local/01394514962110649-COUNSELOR does not exist!\n",
            "⚠️ Warning: /content/frames_local/22564770052974126-DORMITORY does not exist!\n",
            "\n",
            "⚠️ Warning: /content/frames_local/42134724848106675-PILLOW does not exist!⚠️ Warning: /content/frames_local/5232960624626726-SOAP does not exist!\n",
            "\n",
            "⚠️ Warning: /content/frames_local/1100257039463246-HORSE does not exist!⚠️ Warning: /content/frames_local/1196257800895375-BRUSH does not exist!\n",
            "\n",
            "⚠️ Warning: /content/frames_local/38919235933506346-COFFEE does not exist!\n",
            "⚠️ Warning: /content/frames_local/2741671910904693-MILK does not exist!⚠️ Warning: /content/frames_local/5021647988925799-ISLAND does not exist!\n",
            "⚠️ Warning: /content/frames_local/45693507323841076-DIAPER does not exist!\n",
            "\n",
            "⚠️ Warning: /content/frames_local/8769636457289454-DUMB does not exist!⚠️ Warning: /content/frames_local/6453645787262192-MOP does not exist!\n",
            "\n",
            "⚠️ Warning: /content/frames_local/9814818841051369-HUMBLE does not exist!\n"
          ]
        },
        {
          "output_type": "stream",
          "name": "stderr",
          "text": [
            "\r  8%|▊         | 6658/83399 [00:42<09:19, 137.14it/s]"
          ]
        },
        {
          "output_type": "stream",
          "name": "stdout",
          "text": [
            "⚠️ Warning: /content/frames_local/3103829602611192-ENGLISH does not exist!⚠️ Warning: /content/frames_local/4724423343521411-TIE does not exist!\n",
            "\n",
            "⚠️ Warning: /content/frames_local/7473363153984902-DINOSAUR does not exist!⚠️ Warning: /content/frames_local/14152383029406645-TABLE does not exist!\n",
            "\n",
            "⚠️ Warning: /content/frames_local/23884198325509542-POTATO does not exist!\n",
            "⚠️ Warning: /content/frames_local/05403213032369525-ANGEL does not exist!\n",
            "⚠️ Warning: /content/frames_local/12467588221644088-CHEAT 1 does not exist!⚠️ Warning: /content/frames_local/6826540772440661-MONTH does not exist!\n",
            "\n",
            "⚠️ Warning: /content/frames_local/00717587882424664-COMPUTER does not exist!⚠️ Warning: /content/frames_local/08885649139999807-DEVIL does not exist!\n",
            "\n",
            "⚠️ Warning: /content/frames_local/13076010293242213-DANCER does not exist!\n",
            "⚠️ Warning: /content/frames_local/33651414165584326-CEREAL does not exist!\n",
            "⚠️ Warning: /content/frames_local/43564942059450074-LANGUAGE does not exist!\n",
            "⚠️ Warning: /content/frames_local/7596438957754326-NEPHEW does not exist!"
          ]
        },
        {
          "output_type": "stream",
          "name": "stderr",
          "text": [
            "\r  8%|▊         | 6672/83399 [00:42<09:26, 135.33it/s]"
          ]
        },
        {
          "output_type": "stream",
          "name": "stdout",
          "text": [
            "⚠️ Warning: /content/frames_local/6880776885187223-INSULT does not exist!\n",
            "\n",
            "\n",
            "⚠️ Warning: /content/frames_local/35242224621744045-CAT does not exist!⚠️ Warning: /content/frames_local/7963607896874474-SANDWICH does not exist!\n",
            "⚠️ Warning: /content/frames_local/7659363166298798-ROOM does not exist!⚠️ Warning: /content/frames_local/8093798343741647-BOOK does not exist!\n",
            "⚠️ Warning: /content/frames_local/9243566700373158-SCIENTIST does not exist!\n",
            "\n",
            "⚠️ Warning: /content/frames_local/7871589392560625-PROMISE does not exist!⚠️ Warning: /content/frames_local/04691923848096047-SKIRT does not exist!\n",
            "\n",
            "⚠️ Warning: /content/frames_local/14356329675217094-SPAGHETTI does not exist!\n",
            "⚠️ Warning: /content/frames_local/040206894467550436-PLUNGER does not exist!\n",
            "⚠️ Warning: /content/frames_local/4320271313498234-UMBRELLA does not exist!⚠️ Warning: /content/frames_local/6149481659644742-WINDMILL does not exist!\n",
            "\n",
            "⚠️ Warning: /content/frames_local/9715318084790794-PEPPER does not exist!⚠️ Warning: /content/frames_local/08576941246615899-SCISSORS does not exist!\n",
            "\n",
            "⚠️ Warning: /content/frames_local/7649120383668604-BAG does not exist!⚠️ Warning: /content/frames_local/5242766716397895-CHANCE does not exist!\n",
            "\n",
            "⚠️ Warning: /content/frames_local/4473639823143418-RAZOR does not exist!⚠️ Warning: /content/frames_local/12404276895259048-CURTAIN does not exist!\n",
            "\n",
            "⚠️ Warning: /content/frames_local/7061477572016137-BUTTER does not exist!⚠️ Warning: /content/frames_local/09161156077466215-CLOUD does not exist!"
          ]
        },
        {
          "output_type": "stream",
          "name": "stderr",
          "text": [
            "\r  8%|▊         | 6690/83399 [00:42<08:45, 145.85it/s]"
          ]
        },
        {
          "output_type": "stream",
          "name": "stdout",
          "text": [
            "\n",
            "\n",
            "⚠️ Warning: /content/frames_local/2600127060313222-SHORTS does not exist!\n",
            "⚠️ Warning: /content/frames_local/8129143319593781-GRASS does not exist!\n",
            "⚠️ Warning: /content/frames_local/46853468509504537-BAKE 1 does not exist!⚠️ Warning: /content/frames_local/7312521520598523-FRENCHFRIES does not exist!\n",
            "⚠️ Warning: /content/frames_local/3113901449996803-ROCK does not exist!\n",
            "\n",
            "⚠️ Warning: /content/frames_local/17744223498056821-STRAWBERRY does not exist!⚠️ Warning: /content/frames_local/27245814627489184-PRIDE does not exist!\n",
            "⚠️ Warning: /content/frames_local/8143628970911239-ORANGE does not exist!\n",
            "\n",
            "⚠️ Warning: /content/frames_local/2527160119553158-SURGEON does not exist!\n",
            "⚠️ Warning: /content/frames_local/7590057669628361-BOWLING does not exist!⚠️ Warning: /content/frames_local/05517664563791591-TEACHER does not exist!\n",
            "⚠️ Warning: /content/frames_local/6886793162996039-WHISTLE does not exist!\n",
            "\n",
            "⚠️ Warning: /content/frames_local/17818183637954266-BREAD does not exist!\n",
            "⚠️ Warning: /content/frames_local/3919469347639031-VERB does not exist!⚠️ Warning: /content/frames_local/36493047591178907-PLAYGROUND does not exist!\n",
            "⚠️ Warning: /content/frames_local/9041733892531738-CARROT does not exist!\n",
            "⚠️ Warning: /content/frames_local/5983296303359884-CAFETERIA does not exist!\n"
          ]
        },
        {
          "output_type": "stream",
          "name": "stderr",
          "text": [
            "\r  8%|▊         | 6709/83399 [00:42<08:11, 155.97it/s]"
          ]
        },
        {
          "output_type": "stream",
          "name": "stdout",
          "text": [
            "\n",
            "⚠️ Warning: /content/frames_local/7747006274062858-CALENDAR does not exist!⚠️ Warning: /content/frames_local/3422533451628391-CLOWN does not exist!\n",
            "\n",
            "⚠️ Warning: /content/frames_local/2869328932921058-WITCH does not exist!⚠️ Warning: /content/frames_local/7283627553506011-MECHANIC does not exist!\n",
            "\n",
            "⚠️ Warning: /content/frames_local/6825870848422078-BIOLOGY does not exist!⚠️ Warning: /content/frames_local/43112329708293706-MOUNTAIN does not exist!\n",
            "⚠️ Warning: /content/frames_local/4372851429178468-BASEBALL does not exist!\n",
            "\n",
            "⚠️ Warning: /content/frames_local/9714070577430314-TENNIS does not exist!\n",
            "⚠️ Warning: /content/frames_local/4243100683002228-LIBRARY does not exist!\n",
            "⚠️ Warning: /content/frames_local/8075539999323953-LAZY does not exist!⚠️ Warning: /content/frames_local/2940448031146663-ASIA does not exist!\n",
            "\n",
            "⚠️ Warning: /content/frames_local/8563977146883053-GUITAR does not exist!⚠️ Warning: /content/frames_local/9663946235195782-FIREMAN does not exist!\n",
            "⚠️ Warning: /content/frames_local/4864512725078496-GLOVE does not exist!\n",
            "\n",
            "⚠️ Warning: /content/frames_local/3415186842855098-GARAGE does not exist!⚠️ Warning: /content/frames_local/12248750561535315-HAT does not exist!\n",
            "\n",
            "⚠️ Warning: /content/frames_local/7866292118161713-ACTOR does not exist!⚠️ Warning: /content/frames_local/5529975627878434-AFRICA does not exist!\n",
            "⚠️ Warning: /content/frames_local/04873087003980059-FLOWER does not exist!\n"
          ]
        },
        {
          "output_type": "stream",
          "name": "stderr",
          "text": [
            "\r  8%|▊         | 6727/83399 [00:42<07:56, 160.94it/s]"
          ]
        },
        {
          "output_type": "stream",
          "name": "stdout",
          "text": [
            "\n",
            "⚠️ Warning: /content/frames_local/5799887534791492-HEAVEN does not exist!⚠️ Warning: /content/frames_local/5620971156432202-EGG does not exist!\n",
            "⚠️ Warning: /content/frames_local/3783899896027467-WINDOW does not exist!\n",
            "\n",
            "⚠️ Warning: /content/frames_local/18963507881945052-SOUP does not exist!⚠️ Warning: /content/frames_local/09510492249758262-WHIP does not exist!\n",
            "\n",
            "⚠️ Warning: /content/frames_local/5423341935409187-PAPERCUTTER does not exist!⚠️ Warning: /content/frames_local/4509775323814309-HUNT does not exist!\n",
            "\n",
            "⚠️ Warning: /content/frames_local/41080598075921504-SHRIMP does not exist!⚠️ Warning: /content/frames_local/503573335046378-SOME does not exist!\n",
            "\n",
            "⚠️ Warning: /content/frames_local/4262461376364133-BATHROOM does not exist!⚠️ Warning: /content/frames_local/4109167825001634-PRINT does not exist!\n",
            "\n",
            "⚠️ Warning: /content/frames_local/5895427960552089-COCONUT does not exist!⚠️ Warning: /content/frames_local/3370398042257312-PILL does not exist!\n",
            "⚠️ Warning: /content/frames_local/3324937217604236-UNDERWEAR does not exist!\n",
            "⚠️ Warning: /content/frames_local/1676480557800406-STAIRS does not exist!\n",
            "\n",
            "⚠️ Warning: /content/frames_local/24102098476174771-SHOULDER does not exist!"
          ]
        },
        {
          "output_type": "stream",
          "name": "stderr",
          "text": [
            "\r  8%|▊         | 6744/83399 [00:42<07:51, 162.52it/s]"
          ]
        },
        {
          "output_type": "stream",
          "name": "stdout",
          "text": [
            "⚠️ Warning: /content/frames_local/598759671637928-BANANA does not exist!\n",
            "\n",
            "⚠️ Warning: /content/frames_local/10413503240365829-STAR does not exist!⚠️ Warning: /content/frames_local/5089744321202867-DOOR does not exist!\n",
            "⚠️ Warning: /content/frames_local/4376451116604052-FOX does not exist!\n",
            "\n",
            "⚠️ Warning: /content/frames_local/6913153999030439-BATH does not exist!\n",
            "⚠️ Warning: /content/frames_local/24971364861206635-THREE does not exist!⚠️ Warning: /content/frames_local/10954121875598655-ANGRY does not exist!\n",
            "\n",
            "⚠️ Warning: /content/frames_local/594799660772781-MOTHER does not exist!⚠️ Warning: /content/frames_local/26259754742622876-DRESS does not exist!\n",
            "\n",
            "⚠️ Warning: /content/frames_local/7998522196189484-GRANDFATHER does not exist!⚠️ Warning: /content/frames_local/36897191983576905-BRIDGE does not exist!\n",
            "⚠️ Warning: /content/frames_local/4482292915189636-CONCEPT does not exist!\n",
            "⚠️ Warning: /content/frames_local/9361573026839454-FAVORITE does not exist!\n",
            "\n",
            "⚠️ Warning: /content/frames_local/19074222446237998-LOOK APPEARANCE does not exist!⚠️ Warning: /content/frames_local/8537153509006596-CITY does not exist!\n",
            "\n",
            "⚠️ Warning: /content/frames_local/9605654044153882-BUTTERFLY does not exist!⚠️ Warning: /content/frames_local/07046710854641991-BECAUSE does not exist!\n"
          ]
        },
        {
          "output_type": "stream",
          "name": "stderr",
          "text": [
            "\r  8%|▊         | 6761/83399 [00:42<07:47, 163.86it/s]"
          ]
        },
        {
          "output_type": "stream",
          "name": "stdout",
          "text": [
            "⚠️ Warning: /content/frames_local/2137846585292067-TRAIN does not exist!\n",
            "\n",
            "⚠️ Warning: /content/frames_local/804558198592566-CHOCOLATE does not exist!⚠️ Warning: /content/frames_local/8256868559091335-BELT does not exist!\n",
            "⚠️ Warning: /content/frames_local/1404145201178777-SPEAKERS does not exist!\n",
            "⚠️ Warning: /content/frames_local/9810377484871167-CABINET does not exist!\n",
            "⚠️ Warning: /content/frames_local/937747453721459-IMPORTANT does not exist!\n",
            "⚠️ Warning: /content/frames_local/20256764007408412-RAIN does not exist!\n",
            "\n",
            "⚠️ Warning: /content/frames_local/23561158608869026-SAME 2 does not exist!⚠️ Warning: /content/frames_local/6287775786430216-WORK does not exist!\n",
            "\n",
            "⚠️ Warning: /content/frames_local/6885479153137402-SURPRISE does not exist!\n",
            "⚠️ Warning: /content/frames_local/735841728723114-SLOW does not exist!⚠️ Warning: /content/frames_local/9494930921409899-RECORDING does not exist!\n",
            "\n",
            "⚠️ Warning: /content/frames_local/39141258336279927-FARM does not exist!⚠️ Warning: /content/frames_local/17996767705308603-LIPSTICK does not exist!\n",
            "⚠️ Warning: /content/frames_local/19863156807428628-VIDEOPHONE does not exist!\n",
            "\n",
            "⚠️ Warning: /content/frames_local/3616563835780282-SEW does not exist!⚠️ Warning: /content/frames_local/4031625934922094-FOUR does not exist!\n",
            "\n"
          ]
        },
        {
          "output_type": "stream",
          "name": "stderr",
          "text": [
            "\r  8%|▊         | 6778/83399 [00:43<08:00, 159.60it/s]"
          ]
        },
        {
          "output_type": "stream",
          "name": "stdout",
          "text": [
            "⚠️ Warning: /content/frames_local/32575381691299743-ALPHABET does not exist!⚠️ Warning: /content/frames_local/5300191533671401-BROTHER does not exist!\n",
            "\n",
            "⚠️ Warning: /content/frames_local/7532962202535487-COOKIE does not exist!⚠️ Warning: /content/frames_local/21360078433636898-CIGAR does not exist!\n",
            "⚠️ Warning: /content/frames_local/9481366349345997-WORM does not exist!\n",
            "\n",
            "⚠️ Warning: /content/frames_local/7284910189585654-PERSON does not exist!⚠️ Warning: /content/frames_local/021148380160516345-THINGS does not exist!\n",
            "\n",
            "⚠️ Warning: /content/frames_local/3146848244461433-HEALTH does not exist!⚠️ Warning: /content/frames_local/7295392517974215-THIEF 1 does not exist!\n",
            "⚠️ Warning: /content/frames_local/9616476017194364-TROUBLE does not exist!\n",
            "\n",
            "⚠️ Warning: /content/frames_local/1866812929675714-AFTER does not exist!⚠️ Warning: /content/frames_local/2843624159283906-WEAR does not exist!\n",
            "\n",
            "⚠️ Warning: /content/frames_local/7140768957562555-PEOPLE does not exist!⚠️ Warning: /content/frames_local/8012024089968244-DANCE does not exist!\n",
            "\n",
            "⚠️ Warning: /content/frames_local/8990092513045227-EXPERIENCE does not exist!⚠️ Warning: /content/frames_local/4489720078252095-TRAVEL does not exist!\n",
            "\n",
            "⚠️ Warning: /content/frames_local/362690375710766-BASEMENT does not exist!\n",
            "⚠️ Warning: /content/frames_local/014770041748456197-MOVIE does not exist!"
          ]
        },
        {
          "output_type": "stream",
          "name": "stderr",
          "text": [
            "\r  8%|▊         | 6795/83399 [00:43<08:23, 152.16it/s]"
          ]
        },
        {
          "output_type": "stream",
          "name": "stdout",
          "text": [
            "⚠️ Warning: /content/frames_local/3256030268720562-CALL TTY does not exist!\n",
            "\n",
            "⚠️ Warning: /content/frames_local/9265456675665793-CIGARETTE does not exist!\n",
            "⚠️ Warning: /content/frames_local/23660002991445417-AND does not exist!⚠️ Warning: /content/frames_local/2974623495158497-EMBARRASS does not exist!\n",
            "⚠️ Warning: /content/frames_local/19802861748753053-CHARACTER does not exist!\n",
            "⚠️ Warning: /content/frames_local/1350144432944682-BORROW does not exist!\n",
            "\n",
            "⚠️ Warning: /content/frames_local/9379437076073873-SERIOUS does not exist!\n",
            "⚠️ Warning: /content/frames_local/6209651921836459-FINISH does not exist!⚠️ Warning: /content/frames_local/997549366791117-TEXT does not exist!\n",
            "⚠️ Warning: /content/frames_local/3407129339550383-EAT does not exist!\n",
            "\n",
            "⚠️ Warning: /content/frames_local/3011212299932118-MUSEUM does not exist!⚠️ Warning: /content/frames_local/14881630988254524-FRONT does not exist!\n",
            "\n",
            "⚠️ Warning: /content/frames_local/8560785213062609-MUCH does not exist!⚠️ Warning: /content/frames_local/20359482620668112-THIEF 2 does not exist!\n",
            "\n"
          ]
        },
        {
          "output_type": "stream",
          "name": "stderr",
          "text": [
            "\r  8%|▊         | 6811/83399 [00:43<08:31, 149.78it/s]"
          ]
        },
        {
          "output_type": "stream",
          "name": "stdout",
          "text": [
            "⚠️ Warning: /content/frames_local/4548958461805881-EXPENSIVE does not exist!⚠️ Warning: /content/frames_local/7034347981691784-WHATEVER does not exist!\n",
            "⚠️ Warning: /content/frames_local/9785078257911806-ZOOM IN does not exist!\n",
            "\n",
            "⚠️ Warning: /content/frames_local/7036001720864202-LEAVE does not exist!⚠️ Warning: /content/frames_local/5683249939832291-FATHER does not exist!\n",
            "\n",
            "⚠️ Warning: /content/frames_local/9728821314843308-FOR does not exist!⚠️ Warning: /content/frames_local/7647607566066816-LONELY does not exist!\n",
            "\n",
            "\n",
            "⚠️ Warning: /content/frames_local/5231117289015388-FAMILY does not exist!⚠️ Warning: /content/frames_local/62778761952392-SORRY does not exist!\n",
            "⚠️ Warning: /content/frames_local/5874469581430164-UGLY does not exist!\n",
            "⚠️ Warning: /content/frames_local/2127361825953915-DAY does not exist!⚠️ Warning: /content/frames_local/9487773520546796-STAFF does not exist!\n",
            "\n",
            "⚠️ Warning: /content/frames_local/13917977866296694-SCARCELY does not exist!⚠️ Warning: /content/frames_local/7254792418208131-SHOW does not exist!\n",
            "⚠️ Warning: /content/frames_local/4384029892832082-GROW does not exist!\n",
            "\n",
            "⚠️ Warning: /content/frames_local/8029812686549727-AMERICA does not exist!\n",
            "⚠️ Warning: /content/frames_local/7260097842820659-FOOTBALL does not exist!\n"
          ]
        },
        {
          "output_type": "stream",
          "name": "stderr",
          "text": [
            "\r  8%|▊         | 6827/83399 [00:43<08:40, 147.23it/s]"
          ]
        },
        {
          "output_type": "stream",
          "name": "stdout",
          "text": [
            "⚠️ Warning: /content/frames_local/2079003378362847-TYPE does not exist!⚠️ Warning: /content/frames_local/49337666671535385-DECIDE does not exist!\n",
            "\n",
            "⚠️ Warning: /content/frames_local/9514234441013272-SUMMER does not exist!⚠️ Warning: /content/frames_local/6756886993596938-VOLLEYBALL does not exist!\n",
            "⚠️ Warning: /content/frames_local/7276620809953775-TEA does not exist!\n",
            "\n",
            "⚠️ Warning: /content/frames_local/4315320191313323-PIG does not exist!⚠️ Warning: /content/frames_local/34281520174822866-SHOES does not exist!\n",
            "⚠️ Warning: /content/frames_local/8327172840903176-SOCCER does not exist!\n",
            "⚠️ Warning: /content/frames_local/009022098812239365-FRIDAY does not exist!\n",
            "⚠️ Warning: /content/frames_local/7527029229359257-STARBUCKS does not exist!\n",
            "\n",
            "⚠️ Warning: /content/frames_local/37398782840901745-MEAN 1 does not exist!\n",
            "⚠️ Warning: /content/frames_local/8000009453258641-TOURNAMENT does not exist!⚠️ Warning: /content/frames_local/8731561028385924-FIRE does not exist!\n",
            "\n",
            "⚠️ Warning: /content/frames_local/03449237901247959-WASTE does not exist!\n",
            "⚠️ Warning: /content/frames_local/49562544308444734-WEEK does not exist!⚠️ Warning: /content/frames_local/425667211082861-DOWNSIZE does not exist!\n",
            "\n",
            "⚠️ Warning: /content/frames_local/8125060906450432-GRAPES does not exist!⚠️ Warning: /content/frames_local/8244136494575458-SCIENCE does not exist!\n",
            "⚠️ Warning: /content/frames_local/9013086676182689-SPOON does not exist!\n"
          ]
        },
        {
          "output_type": "stream",
          "name": "stderr",
          "text": [
            "\r  8%|▊         | 6845/83399 [00:43<08:09, 156.24it/s]"
          ]
        },
        {
          "output_type": "stream",
          "name": "stdout",
          "text": [
            "⚠️ Warning: /content/frames_local/3677587524957098-PERFUME does not exist!\n",
            "⚠️ Warning: /content/frames_local/1099150850272832-PIANO does not exist!\n",
            "\n",
            "⚠️ Warning: /content/frames_local/04833586613054153-INTEREST does not exist!\n",
            "⚠️ Warning: /content/frames_local/09138858212892398-HEART does not exist!\n",
            "⚠️ Warning: /content/frames_local/6100485201369457-APPLE does not exist!⚠️ Warning: /content/frames_local/6203374605707361-MOUSE does not exist!\n",
            "⚠️ Warning: /content/frames_local/27060204573109714-MIRROR does not exist!\n",
            "\n",
            "⚠️ Warning: /content/frames_local/3031010038877062-HUNGRY does not exist!\n",
            "⚠️ Warning: /content/frames_local/006465165452186117-SECRETARY does not exist!\n",
            "⚠️ Warning: /content/frames_local/8284658174061821-GIRAFFE does not exist!\n",
            "⚠️ Warning: /content/frames_local/72757382323778-MCDONALDS does not exist!\n",
            "⚠️ Warning: /content/frames_local/19282859630906146-RUN does not exist!⚠️ Warning: /content/frames_local/6660243336658234-ANNOUNCE does not exist!\n",
            "⚠️ Warning: /content/frames_local/5148176956341377-FLASHLIGHT does not exist!\n",
            "⚠️ Warning: /content/frames_local/6590868910859737-FILM does not exist!\n",
            "\n",
            "⚠️ Warning: /content/frames_local/4012355500002722-KITCHEN does not exist!⚠️ Warning: /content/frames_local/25099305821438933-WRISTWATCH does not exist!\n",
            "\n"
          ]
        },
        {
          "output_type": "stream",
          "name": "stderr",
          "text": [
            "\r  8%|▊         | 6863/83399 [00:43<07:52, 161.86it/s]"
          ]
        },
        {
          "output_type": "stream",
          "name": "stdout",
          "text": [
            "⚠️ Warning: /content/frames_local/4514101282825034-HEADACHE does not exist!\n",
            "⚠️ Warning: /content/frames_local/965620931800379-PARENTS does not exist!⚠️ Warning: /content/frames_local/17239639514156746-PEACE does not exist!\n",
            "⚠️ Warning: /content/frames_local/4750726254760125-PICTURE does not exist!\n",
            "⚠️ Warning: /content/frames_local/6267783095309754-SUBTRACT does not exist!\n",
            "⚠️ Warning: /content/frames_local/3863068160833265-ENGINEER does not exist!\n",
            "⚠️ Warning: /content/frames_local/7652485249681467-EARTHQUAKE does not exist!\n",
            "⚠️ Warning: /content/frames_local/7813798378617343-BINOCULARS does not exist!\n",
            "\n",
            "⚠️ Warning: /content/frames_local/1372700336627466-BORED does not exist!\n",
            "⚠️ Warning: /content/frames_local/8714733898380636-NOTHING does not exist!⚠️ Warning: /content/frames_local/5948912677856568-GOOD does not exist!\n",
            "⚠️ Warning: /content/frames_local/8352888036733235-CAMERA does not exist!\n",
            "\n",
            "⚠️ Warning: /content/frames_local/17512772041011715-MOCK does not exist!⚠️ Warning: /content/frames_local/2918614747304418-LEARN does not exist!\n",
            "\n",
            "⚠️ Warning: /content/frames_local/052702787256504235-IMPOSSIBLE does not exist!⚠️ Warning: /content/frames_local/12745055651686688-DREAM does not exist!\n",
            "\n",
            "⚠️ Warning: /content/frames_local/4036426039691503-MAN does not exist!\n",
            "⚠️ Warning: /content/frames_local/8484616214440472-JUDGE does not exist!⚠️ Warning: /content/frames_local/7456166643417328-RIGHT 1 does not exist!"
          ]
        },
        {
          "output_type": "stream",
          "name": "stderr",
          "text": [
            "\r  8%|▊         | 6881/83399 [00:43<07:41, 165.94it/s]"
          ]
        },
        {
          "output_type": "stream",
          "name": "stdout",
          "text": [
            "\n",
            "⚠️ Warning: /content/frames_local/8445319381072136-WONDER does not exist!\n",
            "\n",
            "⚠️ Warning: /content/frames_local/47007106825738343-FEEL does not exist!⚠️ Warning: /content/frames_local/5969267245469476-SON does not exist!\n",
            "\n",
            "⚠️ Warning: /content/frames_local/050250597945278974-LIE does not exist!\n",
            "⚠️ Warning: /content/frames_local/6724428628023225-TORNADO does not exist!⚠️ Warning: /content/frames_local/497435935651124-BLACK does not exist!\n",
            "⚠️ Warning: /content/frames_local/4273049937854818-ENGAGEMENT does not exist!\n",
            "\n",
            "⚠️ Warning: /content/frames_local/7812842279599623-WORLD does not exist!⚠️ Warning: /content/frames_local/41475631997398454-CORN 1 does not exist!\n",
            "\n",
            "⚠️ Warning: /content/frames_local/9588272931167445-CHALLENGE does not exist!⚠️ Warning: /content/frames_local/08273347419627353-NAPKIN does not exist!\n",
            "⚠️ Warning: /content/frames_local/09303363412313526-ACCOUNTANT does not exist!\n",
            "\n",
            "⚠️ Warning: /content/frames_local/7855712634009138-BOSS does not exist!⚠️ Warning: /content/frames_local/8873971513810175-WAVE does not exist!\n",
            "\n",
            "⚠️ Warning: /content/frames_local/07993914977487826-AWKWARD does not exist!\n",
            "⚠️ Warning: /content/frames_local/23525702548638705-PRETTY does not exist!"
          ]
        },
        {
          "output_type": "stream",
          "name": "stderr",
          "text": [
            "\r  8%|▊         | 6898/83399 [00:43<07:38, 166.86it/s]"
          ]
        },
        {
          "output_type": "stream",
          "name": "stdout",
          "text": [
            "⚠️ Warning: /content/frames_local/7643104872516984-TRY does not exist!\n",
            "⚠️ Warning: /content/frames_local/08066669590800668-FREEWAY does not exist!\n",
            "\n",
            "⚠️ Warning: /content/frames_local/23400248199152496-BLINDS 1 does not exist!⚠️ Warning: /content/frames_local/2179874717207788-BODY does not exist!\n",
            "\n",
            "⚠️ Warning: /content/frames_local/004969072542022834-STRICT does not exist!⚠️ Warning: /content/frames_local/054855723888302954-RELATIONSHIP does not exist!\n",
            "\n",
            "⚠️ Warning: /content/frames_local/02284035272379259-FINGERSPELL does not exist!⚠️ Warning: /content/frames_local/6973612387547528-CERTIFICATE does not exist!\n",
            "⚠️ Warning: /content/frames_local/2892171762657494-LETTUCE does not exist!\n",
            "\n",
            "⚠️ Warning: /content/frames_local/6274445274714053-SHAVE does not exist!⚠️ Warning: /content/frames_local/017661498365253214-HAVE does not exist!\n",
            "⚠️ Warning: /content/frames_local/8820058153699626-KNIFE does not exist!\n",
            "\n",
            "⚠️ Warning: /content/frames_local/20051440640259144-WAR does not exist!⚠️ Warning: /content/frames_local/4077598431135028-LIVE 2 does not exist!\n",
            "\n",
            "⚠️ Warning: /content/frames_local/26480971285863686-MONEY does not exist!⚠️ Warning: /content/frames_local/836165228859957-PARADE does not exist!\n",
            "⚠️ Warning: /content/frames_local/30039279012150666-LIGHT WEIGHT does not exist!\n"
          ]
        },
        {
          "output_type": "stream",
          "name": "stderr",
          "text": [
            "\r  8%|▊         | 6915/83399 [00:43<08:02, 158.42it/s]"
          ]
        },
        {
          "output_type": "stream",
          "name": "stdout",
          "text": [
            "⚠️ Warning: /content/frames_local/48495518014447847-AGE does not exist!\n",
            "\n",
            "⚠️ Warning: /content/frames_local/06268304654457024-QUIET does not exist!\n",
            "⚠️ Warning: /content/frames_local/2542540881078321-PUZZLED does not exist!\n",
            "⚠️ Warning: /content/frames_local/5298121142041126-TRAFFIC does not exist!\n",
            "⚠️ Warning: /content/frames_local/955858167600715-VIDEOCAMERA does not exist!\n",
            "⚠️ Warning: /content/frames_local/4846096640921751-STUBBORN does not exist!⚠️ Warning: /content/frames_local/5122844772556403-MINUTE does not exist!\n",
            "⚠️ Warning: /content/frames_local/7128003230641913-CENTER does not exist!\n",
            "⚠️ Warning: /content/frames_local/7373015457059817-HONEST does not exist!\n",
            "\n",
            "⚠️ Warning: /content/frames_local/6117369801375294-LAST does not exist!⚠️ Warning: /content/frames_local/4543195602686174-ISRAEL does not exist!\n",
            "⚠️ Warning: /content/frames_local/7588592415156077-SALT does not exist!\n",
            "\n",
            "⚠️ Warning: /content/frames_local/18630017755199724-PILE does not exist!⚠️ Warning: /content/frames_local/060386571810422396-COMMUNICATION does not exist!\n",
            "\n",
            "⚠️ Warning: /content/frames_local/31545854783740124-PLEASE does not exist!⚠️ Warning: /content/frames_local/7968041209479837-WHERE does not exist!\n",
            "\n",
            "⚠️ Warning: /content/frames_local/18091646894985214-PURPLE does not exist!\n"
          ]
        },
        {
          "output_type": "stream",
          "name": "stderr",
          "text": [
            "\r  8%|▊         | 6932/83399 [00:44<08:00, 159.26it/s]"
          ]
        },
        {
          "output_type": "stream",
          "name": "stdout",
          "text": [
            "⚠️ Warning: /content/frames_local/6287352956801593-ANIMAL does not exist!\n",
            "⚠️ Warning: /content/frames_local/9694895312894787-DRINK does not exist!⚠️ Warning: /content/frames_local/7315288446724042-ARMY does not exist!\n",
            "\n",
            "⚠️ Warning: /content/frames_local/9451382576966438-VOTE does not exist!\n",
            "⚠️ Warning: /content/frames_local/8888684132386102-ASK does not exist!\n",
            "⚠️ Warning: /content/frames_local/6963627116990179-PATIENT 2 does not exist!⚠️ Warning: /content/frames_local/43734074730672057-SAD does not exist!\n",
            "\n",
            "⚠️ Warning: /content/frames_local/06616941668447196-FIGHT does not exist!⚠️ Warning: /content/frames_local/3523332229777283-RELIGION does not exist!\n",
            "⚠️ Warning: /content/frames_local/706793695738887-DONT MIND does not exist!\n",
            "\n",
            "⚠️ Warning: /content/frames_local/6382432692590148-CUTE 1 does not exist!⚠️ Warning: /content/frames_local/4911600925607411-HOME does not exist!\n",
            "⚠️ Warning: /content/frames_local/718787866827413-DRYER does not exist!\n",
            "⚠️ Warning: /content/frames_local/2953819571296197-MAKE does not exist!\n",
            "\n",
            "⚠️ Warning: /content/frames_local/3785433382979939-GAS does not exist!\n",
            "⚠️ Warning: /content/frames_local/1424751925456016-GET does not exist!⚠️ Warning: /content/frames_local/551993612126239-WARN does not exist!\n",
            "\n",
            "⚠️ Warning: /content/frames_local/3346244466060164-WIN does not exist!⚠️ Warning: /content/frames_local/8780306856616529-GOVERNMENT does not exist!\n"
          ]
        },
        {
          "output_type": "stream",
          "name": "stderr",
          "text": [
            "\r  8%|▊         | 6950/83399 [00:44<07:52, 161.81it/s]"
          ]
        },
        {
          "output_type": "stream",
          "name": "stdout",
          "text": [
            "\n",
            "⚠️ Warning: /content/frames_local/3032206596184357-GLASSES does not exist!⚠️ Warning: /content/frames_local/382911800052554-LAWNMOWER does not exist!\n",
            "⚠️ Warning: /content/frames_local/009620660695883743-TALK does not exist!\n",
            "⚠️ Warning: /content/frames_local/5621918528111924-FIRST does not exist!\n",
            "⚠️ Warning: /content/frames_local/8779102313816205-STUPID 1 does not exist!\n",
            "⚠️ Warning: /content/frames_local/8923694902299868-EXERCISE does not exist!\n",
            "⚠️ Warning: /content/frames_local/32624002203420854-IMAGINE does not exist!\n",
            "⚠️ Warning: /content/frames_local/37276555938048883-LATE does not exist!\n",
            "⚠️ Warning: /content/frames_local/9899925230812674-WISH does not exist!\n",
            "⚠️ Warning: /content/frames_local/9848216104764869-CALL ATTENTION does not exist!\n",
            "⚠️ Warning: /content/frames_local/01980446684797932-CHAT does not exist!\n",
            "⚠️ Warning: /content/frames_local/636470005828085-TALL does not exist!\n",
            "\n",
            "⚠️ Warning: /content/frames_local/7026150263351794-DIVORCE does not exist!\n",
            "⚠️ Warning: /content/frames_local/06951583315417387-CATHOLIC does not exist!⚠️ Warning: /content/frames_local/8704459350424476-COUSIN does not exist!\n",
            "\n",
            "⚠️ Warning: /content/frames_local/24846088751556095-MACHINE does not exist!⚠️ Warning: /content/frames_local/5802222558250341-OWE does not exist!"
          ]
        },
        {
          "output_type": "stream",
          "name": "stderr",
          "text": [
            "\r  8%|▊         | 6967/83399 [00:44<08:41, 146.61it/s]"
          ]
        },
        {
          "output_type": "stream",
          "name": "stdout",
          "text": [
            "\n",
            "\n",
            "⚠️ Warning: /content/frames_local/28987251317298357-MIND does not exist!⚠️ Warning: /content/frames_local/11217124962006952-MUSTACHE does not exist!\n",
            "\n",
            "⚠️ Warning: /content/frames_local/7468545549250416-SICK does not exist!⚠️ Warning: /content/frames_local/2339421999164757-GALLAUDET does not exist!\n",
            "\n",
            "⚠️ Warning: /content/frames_local/44287895160245094-KNOW does not exist!\n",
            "⚠️ Warning: /content/frames_local/9824579558010589-PINK does not exist!\n",
            "⚠️ Warning: /content/frames_local/1913608536961735-PROBLEM 2 does not exist!⚠️ Warning: /content/frames_local/6517293791661136-FIND does not exist!\n",
            "\n",
            "⚠️ Warning: /content/frames_local/13284936211810083-ACT does not exist!⚠️ Warning: /content/frames_local/5684634554851722-RING does not exist!\n",
            "\n",
            "⚠️ Warning: /content/frames_local/41662220243914705-NEW does not exist!⚠️ Warning: /content/frames_local/39867542462001726-VEGETABLE does not exist!\n",
            "\n",
            "⚠️ Warning: /content/frames_local/17255548139024768-EMOTION does not exist!⚠️ Warning: /content/frames_local/38622097666902944-BLIND does not exist!\n",
            "\n",
            "⚠️ Warning: /content/frames_local/4373322507640063-FINE does not exist!⚠️ Warning: /content/frames_local/5145220265861541-LOOK AT does not exist!\n",
            "⚠️ Warning: /content/frames_local/4909600726389387-BUILDING does not exist!\n",
            "\n",
            "⚠️ Warning: /content/frames_local/48760542332897927-HIPPO does not exist!\n",
            "⚠️ Warning: /content/frames_local/13385106964612858-POSSIBLE does not exist!⚠️ Warning: /content/frames_local/12537760846669932-COLLEGE does not exist!\n"
          ]
        },
        {
          "output_type": "stream",
          "name": "stderr",
          "text": [
            "\r  8%|▊         | 6987/83399 [00:44<08:02, 158.51it/s]"
          ]
        },
        {
          "output_type": "stream",
          "name": "stdout",
          "text": [
            "⚠️ Warning: /content/frames_local/20563313880228828-DOUBT does not exist!\n",
            "\n",
            "⚠️ Warning: /content/frames_local/0822096341907832-PRICE does not exist!⚠️ Warning: /content/frames_local/8478309833379067-FLAG does not exist!\n",
            "\n",
            "⚠️ Warning: /content/frames_local/8589765006777612-VIOLIN does not exist!⚠️ Warning: /content/frames_local/5601954463132703-FRECKLES does not exist!\n",
            "⚠️ Warning: /content/frames_local/35219838646364776-REALLY does not exist!\n",
            "\n",
            "⚠️ Warning: /content/frames_local/19756865098292908-MORE does not exist!\n",
            "⚠️ Warning: /content/frames_local/9170671032109232-5 DOLLARS does not exist!⚠️ Warning: /content/frames_local/7473823599047096-RUDE does not exist!\n",
            "\n",
            "⚠️ Warning: /content/frames_local/46607620942685934-FAT does not exist!\n",
            "⚠️ Warning: /content/frames_local/8584806827134925-KEY does not exist!⚠️ Warning: /content/frames_local/9467762244571682-HARD does not exist!\n",
            "\n",
            "⚠️ Warning: /content/frames_local/6568502454895795-TIME does not exist!⚠️ Warning: /content/frames_local/6383448960849363-BEHIND does not exist!\n",
            "\n",
            "⚠️ Warning: /content/frames_local/4432938902548933-BAKE 2 does not exist!\n",
            "⚠️ Warning: /content/frames_local/40539054280539744-PREFER does not exist!"
          ]
        },
        {
          "output_type": "stream",
          "name": "stderr",
          "text": [
            "\r  8%|▊         | 7004/83399 [00:44<08:04, 157.78it/s]"
          ]
        },
        {
          "output_type": "stream",
          "name": "stdout",
          "text": [
            "⚠️ Warning: /content/frames_local/32406308548028395-VACATION does not exist!\n",
            "\n",
            "⚠️ Warning: /content/frames_local/6963469295518416-YEAR does not exist!\n",
            "⚠️ Warning: /content/frames_local/2708253309119619-OTHER does not exist!⚠️ Warning: /content/frames_local/7396333958421017-CAREFUL does not exist!\n",
            "⚠️ Warning: /content/frames_local/8733418056669557-FALL 1 does not exist!\n",
            "⚠️ Warning: /content/frames_local/20219377865526744-HOTDOG does not exist!\n",
            "\n",
            "⚠️ Warning: /content/frames_local/6969135607416987-PEPSI does not exist!\n",
            "⚠️ Warning: /content/frames_local/09249006308823682-WHICH does not exist!\n",
            "⚠️ Warning: /content/frames_local/044977332478077336-WHO does not exist!⚠️ Warning: /content/frames_local/8006352223558435-INVITE does not exist!\n",
            "⚠️ Warning: /content/frames_local/5892698339580624-HOSPITAL does not exist!\n",
            "\n",
            "⚠️ Warning: /content/frames_local/8155545076852604-PLAY does not exist!\n",
            "⚠️ Warning: /content/frames_local/5535863536541035-CREDIT CARD does not exist!\n",
            "⚠️ Warning: /content/frames_local/0638032411056142-WOMAN does not exist!\n",
            "⚠️ Warning: /content/frames_local/0056657248489897505-COMPLEX does not exist!⚠️ Warning: /content/frames_local/025713906446628743-BLOOD does not exist!\n",
            "\n"
          ]
        },
        {
          "output_type": "stream",
          "name": "stderr",
          "text": [
            "\r  8%|▊         | 7020/83399 [00:44<08:36, 147.78it/s]"
          ]
        },
        {
          "output_type": "stream",
          "name": "stdout",
          "text": [
            "⚠️ Warning: /content/frames_local/2792895407119611-GREEN does not exist!⚠️ Warning: /content/frames_local/25452629111360814-HEARING does not exist!\n",
            "⚠️ Warning: /content/frames_local/07634524313415914-MAYBE does not exist!\n",
            "\n",
            "⚠️ Warning: /content/frames_local/3973199137022476-PIPE does not exist!\n",
            "⚠️ Warning: /content/frames_local/826287172670046-BRAVE does not exist!⚠️ Warning: /content/frames_local/34962471692183406-SCARED does not exist!\n",
            "\n",
            "⚠️ Warning: /content/frames_local/5236570779366814-ACTION does not exist!⚠️ Warning: /content/frames_local/9023185348768314-FAULT does not exist!\n",
            "⚠️ Warning: /content/frames_local/47654404282838847-FOREIGNER does not exist!\n",
            "\n",
            "⚠️ Warning: /content/frames_local/26793005953024407-MORNING does not exist!\n",
            "⚠️ Warning: /content/frames_local/8182480109183159-KING does not exist!⚠️ Warning: /content/frames_local/6593382490905721-UNDERSTAND does not exist!\n",
            "\n",
            "⚠️ Warning: /content/frames_local/11249646142966907-CANCELLATION does not exist!⚠️ Warning: /content/frames_local/12088484357095042-TEMPTATION does not exist!\n",
            "⚠️ Warning: /content/frames_local/9256777412499904-NORTH does not exist!\n",
            "\n",
            "⚠️ Warning: /content/frames_local/6932057977804538-TWO does not exist!"
          ]
        },
        {
          "output_type": "stream",
          "name": "stderr",
          "text": [
            "\r  8%|▊         | 7036/83399 [00:44<08:41, 146.36it/s]"
          ]
        },
        {
          "output_type": "stream",
          "name": "stdout",
          "text": [
            "⚠️ Warning: /content/frames_local/9718151658667313-HAMMER does not exist!\n",
            "⚠️ Warning: /content/frames_local/3061401618010626-MEASURE does not exist!\n",
            "\n",
            "⚠️ Warning: /content/frames_local/25198733885017877-EXPLANATION does not exist!\n",
            "⚠️ Warning: /content/frames_local/0859634019917137-RIGHT 2 does not exist!\n",
            "⚠️ Warning: /content/frames_local/4342486587707328-SUSPECT does not exist!⚠️ Warning: /content/frames_local/7031727030753636-ALARM does not exist!\n",
            "⚠️ Warning: /content/frames_local/5762479692088036-LAUGH does not exist!\n",
            "\n",
            "⚠️ Warning: /content/frames_local/016338456829109838-EUROPE does not exist!\n",
            "⚠️ Warning: /content/frames_local/38036170844365746-ARM does not exist!⚠️ Warning: /content/frames_local/10307935370153576-CORN 2 does not exist!\n",
            "⚠️ Warning: /content/frames_local/38890179641557254-THAT does not exist!\n",
            "⚠️ Warning: /content/frames_local/8721934006003644-CHAMP does not exist!\n",
            "\n",
            "⚠️ Warning: /content/frames_local/04768242393588973-NOT MIND does not exist!\n",
            "⚠️ Warning: /content/frames_local/5505491491454495-SPECIAL does not exist!⚠️ Warning: /content/frames_local/9540803227058581-HE does not exist!\n"
          ]
        },
        {
          "output_type": "stream",
          "name": "stderr",
          "text": [
            "\r  8%|▊         | 7051/83399 [00:44<08:44, 145.64it/s]"
          ]
        },
        {
          "output_type": "stream",
          "name": "stdout",
          "text": [
            "⚠️ Warning: /content/frames_local/7881936476462508-ABSOLUTELY NOTHING does not exist!\n",
            "⚠️ Warning: /content/frames_local/9583954886917838-DRESS UP does not exist!\n",
            "\n",
            "⚠️ Warning: /content/frames_local/9724098521511602-CUT REMOVE VID does not exist!\n",
            "⚠️ Warning: /content/frames_local/12422236312685242-OR does not exist!\n",
            "⚠️ Warning: /content/frames_local/17661385034531007-ELEVATOR does not exist!⚠️ Warning: /content/frames_local/8244526244811583-CONTACT LENS does not exist!\n",
            "⚠️ Warning: /content/frames_local/041353298725910204-ROAST does not exist!\n",
            "⚠️ Warning: /content/frames_local/5569588230930351-CONSUME does not exist!\n",
            "⚠️ Warning: /content/frames_local/8464233197369155-ABBREVIATE does not exist!\n",
            "\n",
            "⚠️ Warning: /content/frames_local/7557551775478455-DONT LIKE does not exist!\n",
            "⚠️ Warning: /content/frames_local/5553527427187721-ADD does not exist!\n",
            "⚠️ Warning: /content/frames_local/9295007097526995-GIVE UP does not exist!\n",
            "⚠️ Warning: /content/frames_local/41626602891365105-DESTROY does not exist!\n",
            "⚠️ Warning: /content/frames_local/09084541307451044-TEND YOUR does not exist!\n",
            "⚠️ Warning: /content/frames_local/28334485594433434-BRIGHT does not exist!⚠️ Warning: /content/frames_local/8597936924025691-WASH HANDS does not exist!\n",
            "\n",
            "⚠️ Warning: /content/frames_local/6879304569085272-GOOSEBUMPS does not exist!⚠️ Warning: /content/frames_local/06165834443862539-ABOVE does not exist!\n",
            "\n",
            "⚠️ Warning: /content/frames_local/22699497531899926-SPEND does not exist!⚠️ Warning: /content/frames_local/2152027378157133-BARELY does not exist!\n"
          ]
        },
        {
          "output_type": "stream",
          "name": "stderr",
          "text": [
            "\r  8%|▊         | 7071/83399 [00:44<08:02, 158.14it/s]"
          ]
        },
        {
          "output_type": "stream",
          "name": "stdout",
          "text": [
            "\n",
            "⚠️ Warning: /content/frames_local/9242545050699356-TEMPER BLOW UP does not exist!⚠️ Warning: /content/frames_local/2636510077793708-PLUS does not exist!\n",
            "\n",
            "⚠️ Warning: /content/frames_local/16185522171162914-WHAT FOR does not exist!⚠️ Warning: /content/frames_local/9189684266517602-ALL DAY does not exist!\n",
            "⚠️ Warning: /content/frames_local/6594343990922451-DIFFERENT SITUATION does not exist!\n",
            "⚠️ Warning: /content/frames_local/11097828162150503-LIVING ROOM does not exist!\n",
            "\n",
            "⚠️ Warning: /content/frames_local/005017619183308675-FAIR does not exist!⚠️ Warning: /content/frames_local/5864564069221978-SAUSAGE does not exist!\n",
            "\n",
            "⚠️ Warning: /content/frames_local/043191960664042295-STAND-UP does not exist!\n",
            "⚠️ Warning: /content/frames_local/15033058083907358-ALL GONE does not exist!⚠️ Warning: /content/frames_local/327134799322923-GUILLOTINE does not exist!\n",
            "\n",
            "⚠️ Warning: /content/frames_local/09419863275990092-HANDSOME does not exist!⚠️ Warning: /content/frames_local/7101379684268079-PIZZA does not exist!\n",
            "\n",
            "⚠️ Warning: /content/frames_local/23567463898325114-CHARGE does not exist!⚠️ Warning: /content/frames_local/20237790176183346-TECHNOLOGY does not exist!\n",
            "\n",
            "⚠️ Warning: /content/frames_local/36318193518975583-ELEVATOR does not exist!⚠️ Warning: /content/frames_local/5754764115128781-HEARTBODY does not exist!\n",
            "\n",
            "⚠️ Warning: /content/frames_local/16951136401073308-CHURN does not exist!\n",
            "⚠️ Warning: /content/frames_local/12683099180695412-COOL does not exist!⚠️ Warning: /content/frames_local/2955424749912101-WINTER does not exist!\n"
          ]
        },
        {
          "output_type": "stream",
          "name": "stderr",
          "text": [
            "\r  9%|▊         | 7091/83399 [00:45<07:36, 167.00it/s]"
          ]
        },
        {
          "output_type": "stream",
          "name": "stdout",
          "text": [
            "⚠️ Warning: /content/frames_local/11560935788183668-SHAVE does not exist!\n",
            "⚠️ Warning: /content/frames_local/8767194702600831-WRING does not exist!\n",
            "\n",
            "⚠️ Warning: /content/frames_local/72089944986285-LEATHER does not exist!⚠️ Warning: /content/frames_local/2299340554992333-SHOT does not exist!\n",
            "⚠️ Warning: /content/frames_local/6294770806571468-DEPEND ON does not exist!\n",
            "\n",
            "⚠️ Warning: /content/frames_local/578960063129436-HOCKEY does not exist!\n",
            "⚠️ Warning: /content/frames_local/43766706619418483-HOTEL does not exist!⚠️ Warning: /content/frames_local/5661263952837914-RESEARCH does not exist!\n",
            "\n",
            "⚠️ Warning: /content/frames_local/8608129727607381-LETTER 2 does not exist!⚠️ Warning: /content/frames_local/6210049175652061-UPLOAD does not exist!\n",
            "\n",
            "⚠️ Warning: /content/frames_local/9375715168668795-JIGSAW PUZZLE does not exist!⚠️ Warning: /content/frames_local/5097799216534251-KNEEL does not exist!\n",
            "\n",
            "⚠️ Warning: /content/frames_local/6984122152835588-EYEGLASSES does not exist!⚠️ Warning: /content/frames_local/8049670822428394-SHIRT does not exist!\n",
            "⚠️ Warning: /content/frames_local/06360874782428128-PAPER does not exist!\n",
            "⚠️ Warning: /content/frames_local/15760096024545422-WOLF does not exist!\n",
            "\n",
            "⚠️ Warning: /content/frames_local/5252550161907508-PIE does not exist!⚠️ Warning: /content/frames_local/877722469691393-TURTLE does not exist!"
          ]
        },
        {
          "output_type": "stream",
          "name": "stderr",
          "text": [
            "\r  9%|▊         | 7108/83399 [00:45<08:14, 154.42it/s]"
          ]
        },
        {
          "output_type": "stream",
          "name": "stdout",
          "text": [
            "\n",
            "\n",
            "⚠️ Warning: /content/frames_local/22010561965030617-WANDER does not exist!⚠️ Warning: /content/frames_local/9121867485874191-STREET does not exist!\n",
            "\n",
            "⚠️ Warning: /content/frames_local/8793550466331743-SURF does not exist!\n",
            "⚠️ Warning: /content/frames_local/486521679239563-READ does not exist!⚠️ Warning: /content/frames_local/1228693178848621-BIRD does not exist!\n",
            "⚠️ Warning: /content/frames_local/6473053955656229-MICROWAVE does not exist!\n",
            "\n",
            "⚠️ Warning: /content/frames_local/9468945982728585-EVALUATE does not exist!\n",
            "⚠️ Warning: /content/frames_local/033003694982122855-PAINTBRUSH does not exist!\n",
            "⚠️ Warning: /content/frames_local/7143874879159735-FISH does not exist!\n",
            "⚠️ Warning: /content/frames_local/9686113924012953-DRUM does not exist!⚠️ Warning: /content/frames_local/1322867260654348-SHOVEL does not exist!⚠️ Warning: /content/frames_local/2583839054246071-GOAT does not exist!\n",
            "\n",
            "⚠️ Warning: /content/frames_local/16366112564102542-TOBACCO does not exist!\n",
            "\n",
            "⚠️ Warning: /content/frames_local/5013901990788399-NEUTRAL does not exist!⚠️ Warning: /content/frames_local/8988434562787488-BALLOON does not exist!\n"
          ]
        },
        {
          "output_type": "stream",
          "name": "stderr",
          "text": [
            "\r  9%|▊         | 7124/83399 [00:45<08:22, 151.81it/s]"
          ]
        },
        {
          "output_type": "stream",
          "name": "stdout",
          "text": [
            "\n",
            "⚠️ Warning: /content/frames_local/5696285087629824-RADIO does not exist!⚠️ Warning: /content/frames_local/3592610051249501-SHEEP does not exist!\n",
            "\n",
            "⚠️ Warning: /content/frames_local/5278114896372936-HISTORY does not exist!\n",
            "⚠️ Warning: /content/frames_local/10045853937555926-NECKLACE does not exist!\n",
            "⚠️ Warning: /content/frames_local/07227495302819964-DESERT does not exist!⚠️ Warning: /content/frames_local/7757384717963021-SOCKS does not exist!\n",
            "\n",
            "⚠️ Warning: /content/frames_local/6138389697064619-MAGAZINE does not exist!\n",
            "⚠️ Warning: /content/frames_local/013732937506784948-LION does not exist!\n",
            "⚠️ Warning: /content/frames_local/47405159977062383-BED does not exist!⚠️ Warning: /content/frames_local/0677522260019856-HEARING AID does not exist!\n",
            "⚠️ Warning: /content/frames_local/021869628771440608-SHY does not exist!\n",
            "⚠️ Warning: /content/frames_local/9789286217696351-NIGHT does not exist!\n",
            "⚠️ Warning: /content/frames_local/14240682473039556-CASTLE does not exist!\n",
            "\n",
            "⚠️ Warning: /content/frames_local/3970014095269807-PARACHUTE does not exist!⚠️ Warning: /content/frames_local/8972632150565558-MONKEY does not exist!\n",
            "⚠️ Warning: /content/frames_local/10076349489611292-STARS does not exist!\n"
          ]
        },
        {
          "output_type": "stream",
          "name": "stderr",
          "text": [
            "\r  9%|▊         | 7140/83399 [00:45<09:01, 140.95it/s]"
          ]
        },
        {
          "output_type": "stream",
          "name": "stdout",
          "text": [
            "\n",
            "⚠️ Warning: /content/frames_local/23884795698924544-BOWTIE does not exist!\n",
            "⚠️ Warning: /content/frames_local/9178666105925108-LEMON does not exist!\n",
            "⚠️ Warning: /content/frames_local/15680290612141312-SANDALS does not exist!⚠️ Warning: /content/frames_local/9004554816227568-KITE does not exist!\n",
            "⚠️ Warning: /content/frames_local/11762519863364651-DRAWER does not exist!\n",
            "\n",
            "⚠️ Warning: /content/frames_local/06332710786774087-CHAIR does not exist!⚠️ Warning: /content/frames_local/5302215932551897-TRASH does not exist!\n",
            "\n",
            "⚠️ Warning: /content/frames_local/2941342990101714-WAITER does not exist!\n",
            "⚠️ Warning: /content/frames_local/37546749452952244-DEODORANT does not exist!⚠️ Warning: /content/frames_local/33442221489032753-STUDENT does not exist!\n",
            "\n",
            "⚠️ Warning: /content/frames_local/5682386943905562-ROLLERSKATING does not exist!\n",
            "⚠️ Warning: /content/frames_local/37333242024146385-PSYCHOLOGIST does not exist!⚠️ Warning: /content/frames_local/7109612761270236-RIVER does not exist!\n",
            "⚠️ Warning: /content/frames_local/554553944627854-DEER does not exist!\n",
            "\n",
            "⚠️ Warning: /content/frames_local/7043082429571557-LETTUCE does not exist!⚠️ Warning: /content/frames_local/5411457129987463-PANTS does not exist!\n",
            "\n",
            "⚠️ Warning: /content/frames_local/2614557091115881-SWING does not exist!"
          ]
        },
        {
          "output_type": "stream",
          "name": "stderr",
          "text": [
            "\r  9%|▊         | 7156/83399 [00:45<09:01, 140.89it/s]"
          ]
        },
        {
          "output_type": "stream",
          "name": "stdout",
          "text": [
            "⚠️ Warning: /content/frames_local/25525002965388954-GORILLA does not exist!\n",
            "\n",
            "⚠️ Warning: /content/frames_local/3466034757401222-POPCORN does not exist!⚠️ Warning: /content/frames_local/9778855246656657-BRIDESMAID does not exist!\n",
            "\n",
            "⚠️ Warning: /content/frames_local/23102204277666538-CAMPING does not exist!⚠️ Warning: /content/frames_local/25122941989560554-PEACH does not exist!\n",
            "⚠️ Warning: /content/frames_local/6616631498154937-ELECTRICIAN does not exist!\n",
            "⚠️ Warning: /content/frames_local/6628565570138025-HAIR does not exist!\n",
            "⚠️ Warning: /content/frames_local/33992984587019826-BRA does not exist!\n",
            "\n",
            "⚠️ Warning: /content/frames_local/6317262928233505-FISHING does not exist!⚠️ Warning: /content/frames_local/2239637849827807-SALAD does not exist!\n",
            "\n",
            "⚠️ Warning: /content/frames_local/8230794042753584-BLANKET does not exist!⚠️ Warning: /content/frames_local/4516712624083745-CUP does not exist!\n",
            "⚠️ Warning: /content/frames_local/9130987167915381-CANDY 1 does not exist!\n",
            "⚠️ Warning: /content/frames_local/19576687138600146-DOLPHIN does not exist!\n"
          ]
        },
        {
          "output_type": "stream",
          "name": "stderr",
          "text": [
            "\r  9%|▊         | 7171/83399 [00:45<10:20, 122.84it/s]"
          ]
        },
        {
          "output_type": "stream",
          "name": "stdout",
          "text": [
            "\n",
            "⚠️ Warning: /content/frames_local/22271374124120547-MOON does not exist!⚠️ Warning: /content/frames_local/6567246880623778-COUNSELOR does not exist!\n",
            "⚠️ Warning: /content/frames_local/7802064092914456-DORMITORY does not exist!\n",
            "\n",
            "⚠️ Warning: /content/frames_local/7267730948538869-SOAP does not exist!⚠️ Warning: /content/frames_local/11515615445055283-HORSE does not exist!\n",
            "\n",
            "⚠️ Warning: /content/frames_local/36535998610490994-COFFEE does not exist!\n",
            "⚠️ Warning: /content/frames_local/33722796166223934-MILK does not exist!⚠️ Warning: /content/frames_local/8508410123333536-DIAPER does not exist!\n",
            "\n",
            "⚠️ Warning: /content/frames_local/7119164728956249-DUMB does not exist!⚠️ Warning: /content/frames_local/1534972482394188-MOP does not exist!\n",
            "\n",
            "⚠️ Warning: /content/frames_local/4343411634231049-HUMBLE does not exist!\n",
            "⚠️ Warning: /content/frames_local/6055481838777905-ENGLISH does not exist!⚠️ Warning: /content/frames_local/4391072397995004-TIE does not exist!\n",
            "\n",
            "⚠️ Warning: /content/frames_local/11918992112461169-TABLE does not exist!"
          ]
        },
        {
          "output_type": "stream",
          "name": "stderr",
          "text": [
            "\r  9%|▊         | 7184/83399 [00:45<10:21, 122.60it/s]"
          ]
        },
        {
          "output_type": "stream",
          "name": "stdout",
          "text": [
            "⚠️ Warning: /content/frames_local/44534389823545406-DINOSAUR does not exist!\n",
            "⚠️ Warning: /content/frames_local/26476556729630984-POTATO does not exist!\n",
            "\n",
            "⚠️ Warning: /content/frames_local/32784703799711257-ANGEL does not exist!⚠️ Warning: /content/frames_local/7478878982813382-MONTH does not exist!\n",
            "\n",
            "⚠️ Warning: /content/frames_local/26448644446252545-CHEAT 1 does not exist!\n",
            "⚠️ Warning: /content/frames_local/047487125393855356-COMPUTER does not exist!⚠️ Warning: /content/frames_local/481983048936085-DEVIL does not exist!\n",
            "⚠️ Warning: /content/frames_local/3632704535632898-DANCER does not exist!\n",
            "\n",
            "⚠️ Warning: /content/frames_local/9100177825284217-CEREAL does not exist!\n",
            "⚠️ Warning: /content/frames_local/32857613945090347-LANGUAGE does not exist!\n",
            "⚠️ Warning: /content/frames_local/3902956241581408-INSULT does not exist!⚠️ Warning: /content/frames_local/07637492077683161-NEPHEW does not exist!⚠️ Warning: /content/frames_local/0789792777437528-CAT does not exist!\n",
            "\n",
            "\n",
            "⚠️ Warning: /content/frames_local/46613489976612543-ROOM does not exist!⚠️ Warning: /content/frames_local/7405187721656961-SANDWICH does not exist!\n",
            "\n",
            "⚠️ Warning: /content/frames_local/08591883133542466-SCIENTIST does not exist!\n",
            "⚠️ Warning: /content/frames_local/6451139164163326-SKIRT does not exist!\n",
            "⚠️ Warning: /content/frames_local/2778574875444577-PROMISE does not exist!⚠️ Warning: /content/frames_local/8258920636382685-BOOK does not exist!\n",
            "\n",
            "⚠️ Warning: /content/frames_local/19670367765576757-SPAGHETTI does not exist!"
          ]
        },
        {
          "output_type": "stream",
          "name": "stderr",
          "text": [
            "\r  9%|▊         | 7205/83399 [00:45<08:46, 144.81it/s]"
          ]
        },
        {
          "output_type": "stream",
          "name": "stdout",
          "text": [
            "⚠️ Warning: /content/frames_local/6426786352118643-PLUNGER does not exist!\n",
            "⚠️ Warning: /content/frames_local/7146499232909553-APPLE does not exist!\n",
            "\n",
            "⚠️ Warning: /content/frames_local/6249948185574887-CURL 2 does not exist!⚠️ Warning: /content/frames_local/8757567461929587-OIL 3 does not exist!\n",
            "\n",
            "⚠️ Warning: /content/frames_local/7557077803207304-PIPE 2 does not exist!⚠️ Warning: /content/frames_local/4933448980747015-KNIGHT 5 does not exist!\n",
            "\n",
            "⚠️ Warning: /content/frames_local/7774852037205082-WINDMILL 2 does not exist!⚠️ Warning: /content/frames_local/4593587553811529-LICK ENVELOPE_2 does not exist!\n",
            "\n",
            "⚠️ Warning: /content/frames_local/1896464127084967-FUZZY does not exist!⚠️ Warning: /content/frames_local/019028471600021746-FLASHLIGHT 4 does not exist!\n",
            "\n",
            "⚠️ Warning: /content/frames_local/07775958675977135-SOMERSAULT 2 does not exist!⚠️ Warning: /content/frames_local/019490901862208476-STETHOSCOPE 2 does not exist!\n",
            "\n",
            "⚠️ Warning: /content/frames_local/18766137835027297-MEA CULPA does not exist!⚠️ Warning: /content/frames_local/3685066601727893-SOMERSAULT 3 does not exist!\n",
            "\n",
            "⚠️ Warning: /content/frames_local/7950476637378663-SUSPENDERS 2 does not exist!\n"
          ]
        },
        {
          "output_type": "stream",
          "name": "stderr",
          "text": [
            "\r  9%|▊         | 7221/83399 [00:46<08:48, 144.21it/s]"
          ]
        },
        {
          "output_type": "stream",
          "name": "stdout",
          "text": [
            "⚠️ Warning: /content/frames_local/05949683900630798-NUT does not exist!⚠️ Warning: /content/frames_local/38640871897255047-AVOID does not exist!\n",
            "\n",
            "⚠️ Warning: /content/frames_local/5723102083146778-BYE does not exist!⚠️ Warning: /content/frames_local/7773969068974314-FED UP does not exist!\n",
            "⚠️ Warning: /content/frames_local/00405514581378652-END does not exist!\n",
            "⚠️ Warning: /content/frames_local/395104563048577-CAROUSEL does not exist!\n",
            "⚠️ Warning: /content/frames_local/16974987817602671-GERMANY does not exist!\n",
            "\n",
            "⚠️ Warning: /content/frames_local/8710545038325339-LET ME_SEE does not exist!⚠️ Warning: /content/frames_local/6130971022097176-NIECE does not exist!\n",
            "\n",
            "⚠️ Warning: /content/frames_local/18530989884206206-BUT does not exist!⚠️ Warning: /content/frames_local/5826085707402091-BUDGET does not exist!\n",
            "\n",
            "⚠️ Warning: /content/frames_local/024905656286982047-WASH 1 does not exist!⚠️ Warning: /content/frames_local/08153583773745776-SPONTANEOUS does not exist!\n",
            "⚠️ Warning: /content/frames_local/12299320077235443-FACE does not exist!\n",
            "\n",
            "⚠️ Warning: /content/frames_local/9506269870832214-MOST does not exist!\n"
          ]
        },
        {
          "output_type": "stream",
          "name": "stderr",
          "text": [
            "\r  9%|▊         | 7236/83399 [00:46<09:15, 137.15it/s]"
          ]
        },
        {
          "output_type": "stream",
          "name": "stdout",
          "text": [
            "⚠️ Warning: /content/frames_local/45579259686300855-TICKET does not exist!⚠️ Warning: /content/frames_local/23948941701942683-FREEDOM does not exist!\n",
            "\n",
            "⚠️ Warning: /content/frames_local/04381810508509121-CUT 1 does not exist!⚠️ Warning: /content/frames_local/9905610324350711-BUSY does not exist!\n",
            "⚠️ Warning: /content/frames_local/6541433946438018-CHIMNEY does not exist!\n",
            "\n",
            "⚠️ Warning: /content/frames_local/8998543090447964-HAIR CLIPPER does not exist!⚠️ Warning: /content/frames_local/39960837194852594-LOLLIPOP does not exist!\n",
            "⚠️ Warning: /content/frames_local/763982310935782-DEPRESS does not exist!\n",
            "⚠️ Warning: /content/frames_local/4634067746849302-FLOAT does not exist!\n",
            "\n",
            "⚠️ Warning: /content/frames_local/3751263518675101-PROOF does not exist!\n",
            "⚠️ Warning: /content/frames_local/009335706761792295-CAMERAMAN does not exist!⚠️ Warning: /content/frames_local/04804418144827971-DISRUPT does not exist!\n",
            "\n",
            "⚠️ Warning: /content/frames_local/5795763796718998-BEANS does not exist!⚠️ Warning: /content/frames_local/30135826321278736-DRIVE does not exist!\n",
            "⚠️ Warning: /content/frames_local/6140597203770268-PIZZA 2 does not exist!\n",
            "\n",
            "⚠️ Warning: /content/frames_local/10743892525735044-SHARE does not exist!\n"
          ]
        },
        {
          "output_type": "stream",
          "name": "stderr",
          "text": [
            "\r  9%|▊         | 7251/83399 [00:46<09:34, 132.65it/s]"
          ]
        },
        {
          "output_type": "stream",
          "name": "stdout",
          "text": [
            "⚠️ Warning: /content/frames_local/3254168762120213-SLAVE does not exist!⚠️ Warning: /content/frames_local/8977867502424992-INTUITIVE does not exist!\n",
            "\n",
            "⚠️ Warning: /content/frames_local/9561894675300409-ON does not exist!⚠️ Warning: /content/frames_local/428884936390179-TRUTH does not exist!\n",
            "\n",
            "⚠️ Warning: /content/frames_local/4150403650861141-VANILLA does not exist!\n",
            "\n",
            "⚠️ Warning: /content/frames_local/6406195337826401-COST does not exist!⚠️ Warning: /content/frames_local/27263710848248035-SNEAK ADVENTURE does not exist!⚠️ Warning: /content/frames_local/891386969688462-ROOF does not exist!\n",
            "\n",
            "⚠️ Warning: /content/frames_local/17206490294219856-LOUSY does not exist!⚠️ Warning: /content/frames_local/4359190437570897-FUNNY does not exist!\n",
            "⚠️ Warning: /content/frames_local/1156479737706344-SKIN does not exist!\n",
            "⚠️ Warning: /content/frames_local/4507255838594497-LOOK FORWARD does not exist!\n",
            "⚠️ Warning: /content/frames_local/2792554023004974-SWIM does not exist!\n",
            "\n",
            "⚠️ Warning: /content/frames_local/6006426466830179-GOAL does not exist!\n",
            "⚠️ Warning: /content/frames_local/1871335323156642-ORANGE THROAT does not exist!⚠️ Warning: /content/frames_local/14384519842668952-OUTSIDE does not exist!\n",
            "⚠️ Warning: /content/frames_local/9654108028917403-ORANGE EYES does not exist!\n",
            "\n",
            "⚠️ Warning: /content/frames_local/19241432942777004-ANSWER does not exist!⚠️ Warning: /content/frames_local/935608990033933-DISCUSS does not exist!\n",
            "\n",
            "⚠️ Warning: /content/frames_local/2795985460357966-ROBOT does not exist!⚠️ Warning: /content/frames_local/7582629146907067-MELT does not exist!\n",
            "\n",
            "⚠️ Warning: /content/frames_local/21133620805865916-SUCK does not exist!\n"
          ]
        },
        {
          "output_type": "stream",
          "name": "stderr",
          "text": [
            "\r  9%|▊         | 7273/83399 [00:46<08:09, 155.68it/s]"
          ]
        },
        {
          "output_type": "stream",
          "name": "stdout",
          "text": [
            "⚠️ Warning: /content/frames_local/35347476646355536-EDGE does not exist!\n",
            "⚠️ Warning: /content/frames_local/8899763590369401-ROUGH does not exist!⚠️ Warning: /content/frames_local/9944191700786156-EASEL does not exist!\n",
            "\n",
            "⚠️ Warning: /content/frames_local/5116999901247687-PET does not exist!\n",
            "⚠️ Warning: /content/frames_local/13291031725137348-SIGNATURE does not exist!⚠️ Warning: /content/frames_local/9396293759205854-GRAY does not exist!\n",
            "⚠️ Warning: /content/frames_local/7811414941690129-HEAVY does not exist!\n",
            "\n",
            "⚠️ Warning: /content/frames_local/6494254793022431-HURDLE-TRIP does not exist!⚠️ Warning: /content/frames_local/6119347633243126-CLIMB LADDER does not exist!\n",
            "\n",
            "⚠️ Warning: /content/frames_local/008843450592703306-SNAP does not exist!⚠️ Warning: /content/frames_local/7445170951807052-ISOLATED does not exist!\n",
            "\n",
            "⚠️ Warning: /content/frames_local/4952838549918719-PEAS 2 does not exist!\n",
            "⚠️ Warning: /content/frames_local/4141455337498954-PRODUCE SIGN does not exist!\n",
            "⚠️ Warning: /content/frames_local/8390322267133778-VAIN does not exist!⚠️ Warning: /content/frames_local/14935784139988817-SNAP STICK does not exist!\n",
            "⚠️ Warning: /content/frames_local/17688429431466623-STETHOSCOPE 3 does not exist!\n",
            "⚠️ Warning: /content/frames_local/2989196533037435-BRA 2 does not exist!\n",
            "⚠️ Warning: /content/frames_local/594048392338546-BALL does not exist!"
          ]
        },
        {
          "output_type": "stream",
          "name": "stderr",
          "text": [
            "\r  9%|▊         | 7290/83399 [00:46<08:44, 145.10it/s]"
          ]
        },
        {
          "output_type": "stream",
          "name": "stdout",
          "text": [
            "⚠️ Warning: /content/frames_local/15337227965960865-VILLAGE does not exist!\n",
            "\n",
            "⚠️ Warning: /content/frames_local/9221478158140117-FURNITURE does not exist!\n",
            "⚠️ Warning: /content/frames_local/359061810978724-WITH does not exist!\n",
            "\n",
            "⚠️ Warning: /content/frames_local/2961172866177142-EARTH does not exist!\n",
            "⚠️ Warning: /content/frames_local/4500897143109892-TOW 3 does not exist!⚠️ Warning: /content/frames_local/9950292601735362-BOOTS does not exist!\n",
            "\n",
            "⚠️ Warning: /content/frames_local/14976966809108982-CARVE does not exist!\n",
            "⚠️ Warning: /content/frames_local/10365487977793664-CANADA does not exist!⚠️ Warning: /content/frames_local/8979106244938206-SLICE 3 does not exist!\n",
            "\n",
            "⚠️ Warning: /content/frames_local/6894784577567608-BLOW CANDLE_1 does not exist!⚠️ Warning: /content/frames_local/712408758905182-CORKSCREW 2 does not exist!\n",
            "\n",
            "⚠️ Warning: /content/frames_local/484005199725384-LEAF 2 does not exist!⚠️ Warning: /content/frames_local/7162851181535648-NURSE does not exist!\n",
            "⚠️ Warning: /content/frames_local/34900659316616034-THROW does not exist!\n",
            "⚠️ Warning: /content/frames_local/6075181802150789-CHEW 2_MOUTH does not exist!\n",
            "\n",
            "⚠️ Warning: /content/frames_local/9911364117420112-SWEATER 3 does not exist!⚠️ Warning: /content/frames_local/11173376429977999-JACKET 2 does not exist!\n",
            "\n",
            "⚠️ Warning: /content/frames_local/6438583541601008-FINALLY does not exist!⚠️ Warning: /content/frames_local/4492073812730182-GLOVES 4 does not exist!\n",
            "\n"
          ]
        },
        {
          "output_type": "stream",
          "name": "stderr",
          "text": [
            "\r  9%|▉         | 7310/83399 [00:46<07:59, 158.61it/s]"
          ]
        },
        {
          "output_type": "stream",
          "name": "stdout",
          "text": [
            "⚠️ Warning: /content/frames_local/4154378637293554-CHEAT 2 does not exist!⚠️ Warning: /content/frames_local/5428371622546067-RACECAR TRACK does not exist!\n",
            "\n",
            "⚠️ Warning: /content/frames_local/43444322306020844-HELICOPTER 2 does not exist!⚠️ Warning: /content/frames_local/7161449383704275-PECK does not exist!\n",
            "\n",
            "⚠️ Warning: /content/frames_local/052990192491384924-DOLPHIN 2 does not exist!⚠️ Warning: /content/frames_local/5053548162986152-CROSS 3 does not exist!\n",
            "\n",
            "⚠️ Warning: /content/frames_local/5346091363919252-STRAIN 1 does not exist!⚠️ Warning: /content/frames_local/9380946278151161-YEAH does not exist!\n",
            "\n",
            "⚠️ Warning: /content/frames_local/29401375590597967-ENVELOPE 3 does not exist!\n",
            "⚠️ Warning: /content/frames_local/5331787702558206-ARRIVE does not exist!⚠️ Warning: /content/frames_local/10933110011372182-STRETCH-CA does not exist!\n",
            "\n",
            "⚠️ Warning: /content/frames_local/6742214914298517-CAUSE does not exist!⚠️ Warning: /content/frames_local/5163729549253477-RUN FAUCET does not exist!\n",
            "⚠️ Warning: /content/frames_local/9085999607445308-STRETCH 2 does not exist!\n",
            "\n",
            "⚠️ Warning: /content/frames_local/7199242083295374-DIP 3 does not exist!⚠️ Warning: /content/frames_local/4980301786241028-DUCK 2 does not exist!\n",
            "⚠️ Warning: /content/frames_local/2799322628096286-PET 2 does not exist!\n"
          ]
        },
        {
          "output_type": "stream",
          "name": "stderr",
          "text": [
            "\r  9%|▉         | 7327/83399 [00:46<08:14, 153.96it/s]"
          ]
        },
        {
          "output_type": "stream",
          "name": "stdout",
          "text": [
            "\n",
            "⚠️ Warning: /content/frames_local/0039892377487433794-SIGN LANGUAGE does not exist!⚠️ Warning: /content/frames_local/9604394190348944-ENVELOPE 2 does not exist!\n",
            "\n",
            "⚠️ Warning: /content/frames_local/7901763083488784-GUN does not exist!⚠️ Warning: /content/frames_local/8239180266342181-LIGHT CANDLE does not exist!\n",
            "⚠️ Warning: /content/frames_local/9012602181449512-FRENCH does not exist!\n",
            "\n",
            "⚠️ Warning: /content/frames_local/9131899312902283-PARACHUTE 2 does not exist!\n",
            "⚠️ Warning: /content/frames_local/9636567629487409-CALENDAR does not exist!⚠️ Warning: /content/frames_local/4349503599617275-CLOCK does not exist!\n",
            "⚠️ Warning: /content/frames_local/8918812143138419-RUSSIA does not exist!\n",
            "\n",
            "⚠️ Warning: /content/frames_local/36465790782941054-TV does not exist!\n",
            "⚠️ Warning: /content/frames_local/4479254649619271-MAGIC does not exist!⚠️ Warning: /content/frames_local/6237575353180616-WHAT FOR does not exist!\n",
            "\n",
            "⚠️ Warning: /content/frames_local/9913459030860869-LINE does not exist!\n",
            "⚠️ Warning: /content/frames_local/2613701104263946-CAPTION does not exist!⚠️ Warning: /content/frames_local/8795654845145602-ENJOY does not exist!\n",
            "\n"
          ]
        },
        {
          "output_type": "stream",
          "name": "stderr",
          "text": [
            "\r  9%|▉         | 7343/83399 [00:46<08:49, 143.58it/s]"
          ]
        },
        {
          "output_type": "stream",
          "name": "stdout",
          "text": [
            "⚠️ Warning: /content/frames_local/5676022999784702-WANT does not exist!⚠️ Warning: /content/frames_local/9846027284498076-KNITTING does not exist!\n",
            "\n",
            "⚠️ Warning: /content/frames_local/9349732849381567-DART does not exist!⚠️ Warning: /content/frames_local/42878571759159634-SURE does not exist!\n",
            "⚠️ Warning: /content/frames_local/9114823030980013-LOBSTER 2 does not exist!\n",
            "⚠️ Warning: /content/frames_local/8758073493981038-CANDLE does not exist!\n",
            "⚠️ Warning: /content/frames_local/9114754664125055-CONDUCT 3 does not exist!\n",
            "\n",
            "⚠️ Warning: /content/frames_local/07610661668741536-NECKLACE 4 does not exist!⚠️ Warning: /content/frames_local/971319898093592-SANDWICH 3 does not exist!\n",
            "\n",
            "⚠️ Warning: /content/frames_local/6137402359381907-SWIM 2 does not exist!⚠️ Warning: /content/frames_local/12751198309673728-BUN does not exist!\n",
            "⚠️ Warning: /content/frames_local/01568087161861098-TEAR does not exist!\n",
            "⚠️ Warning: /content/frames_local/4089996263786062-SECRET does not exist!\n",
            "\n",
            "⚠️ Warning: /content/frames_local/01501305935271291-DOLL does not exist!⚠️ Warning: /content/frames_local/5351110117750875-HOUSE does not exist!\n",
            "\n",
            "⚠️ Warning: /content/frames_local/9440626840831849-TANKTOP does not exist!"
          ]
        },
        {
          "output_type": "stream",
          "name": "stderr",
          "text": [
            "\r  9%|▉         | 7358/83399 [00:47<09:52, 128.28it/s]"
          ]
        },
        {
          "output_type": "stream",
          "name": "stdout",
          "text": [
            "⚠️ Warning: /content/frames_local/17391359646357074-HAIRCUT does not exist!\n",
            "\n",
            "⚠️ Warning: /content/frames_local/6968070655900278-JUGGLE does not exist!⚠️ Warning: /content/frames_local/6168113662561914-ADULT does not exist!\n",
            "⚠️ Warning: /content/frames_local/8850214660492233-ORAL does not exist!\n",
            "\n",
            "⚠️ Warning: /content/frames_local/842914541696872-SCAN does not exist!⚠️ Warning: /content/frames_local/3160965651344423-HOT COMPETITION does not exist!\n",
            "⚠️ Warning: /content/frames_local/40032734942824355-CORKSCREW does not exist!\n",
            "\n",
            "⚠️ Warning: /content/frames_local/07437976559779158-TAIL does not exist!\n",
            "⚠️ Warning: /content/frames_local/8999403469318679-THEY does not exist!⚠️ Warning: /content/frames_local/9793035785196453-EARN does not exist!\n",
            "\n",
            "⚠️ Warning: /content/frames_local/054719206688384814-BICYCLE does not exist!⚠️ Warning: /content/frames_local/5864467858333573-STEAK does not exist!\n",
            "\n",
            "⚠️ Warning: /content/frames_local/6305730816691577-THIRSTY does not exist!⚠️ Warning: /content/frames_local/499226842865806-SMOKING does not exist!\n"
          ]
        },
        {
          "output_type": "stream",
          "name": "stderr",
          "text": [
            "\r  9%|▉         | 7372/83399 [00:47<10:21, 122.30it/s]"
          ]
        },
        {
          "output_type": "stream",
          "name": "stdout",
          "text": [
            "\n",
            "⚠️ Warning: /content/frames_local/7753126798089989-PATIENT 2 does not exist!⚠️ Warning: /content/frames_local/8222712345940699-DROWN does not exist!\n",
            "\n",
            "⚠️ Warning: /content/frames_local/035850032441167023-PAINT does not exist!⚠️ Warning: /content/frames_local/019315362957673665-STOCKINGS does not exist!\n",
            "\n",
            "⚠️ Warning: /content/frames_local/5685590569996577-LOCK does not exist!⚠️ Warning: /content/frames_local/10870208542357451-PENCIL does not exist!\n",
            "\n",
            "⚠️ Warning: /content/frames_local/8611009401896237-BABY does not exist!⚠️ Warning: /content/frames_local/7873742048246972-DISAGREEMENT does not exist!\n",
            "⚠️ Warning: /content/frames_local/7276443456531434-WATER does not exist!\n",
            "\n",
            "⚠️ Warning: /content/frames_local/7823324600435388-BREAKDOWN does not exist!⚠️ Warning: /content/frames_local/07600733570601759-PIRATE does not exist!\n",
            "\n",
            "⚠️ Warning: /content/frames_local/3906875137058434-GRADUATE does not exist!\n"
          ]
        },
        {
          "output_type": "stream",
          "name": "stderr",
          "text": [
            "\r  9%|▉         | 7385/83399 [00:47<11:05, 114.30it/s]"
          ]
        },
        {
          "output_type": "stream",
          "name": "stdout",
          "text": [
            "⚠️ Warning: /content/frames_local/7050160055899046-HANDCUFFS does not exist!⚠️ Warning: /content/frames_local/3149985082859763-ENEMY does not exist!\n",
            "\n",
            "⚠️ Warning: /content/frames_local/6573440565284636-INTERVIEW does not exist!\n",
            "⚠️ Warning: /content/frames_local/12938282527772293-PLACE does not exist!⚠️ Warning: /content/frames_local/7652691083354926-YOUR does not exist!\n",
            "⚠️ Warning: /content/frames_local/5068833415853786-CHAMP does not exist!\n",
            "\n",
            "⚠️ Warning: /content/frames_local/8984443164345195-TISSUE does not exist!\n",
            "⚠️ Warning: /content/frames_local/4429914694828516-MENTION does not exist!⚠️ Warning: /content/frames_local/20906115400025982-WALLET does not exist!\n",
            "⚠️ Warning: /content/frames_local/8095972778864453-NOT MIND does not exist!\n",
            "⚠️ Warning: /content/frames_local/7107732064820513-FADE does not exist!\n",
            "⚠️ Warning: /content/frames_local/6773301797173259-FAMOUS does not exist!\n",
            "\n"
          ]
        },
        {
          "output_type": "stream",
          "name": "stderr",
          "text": [
            "\r  9%|▉         | 7397/83399 [00:47<11:47, 107.35it/s]"
          ]
        },
        {
          "output_type": "stream",
          "name": "stdout",
          "text": [
            "⚠️ Warning: /content/frames_local/11168738431556657-EVERYDAY does not exist!⚠️ Warning: /content/frames_local/6409265911274644-HONK does not exist!\n",
            "⚠️ Warning: /content/frames_local/6579820856716605-EXAMPLE does not exist!\n",
            "\n",
            "⚠️ Warning: /content/frames_local/10818908631731938-ONE does not exist!\n",
            "⚠️ Warning: /content/frames_local/39692640903285725-MEXICAN does not exist!⚠️ Warning: /content/frames_local/4716794408227516-TONGUE does not exist!\n",
            "⚠️ Warning: /content/frames_local/8495504856802827-DEGREE does not exist!\n",
            "\n",
            "⚠️ Warning: /content/frames_local/5088810771657037-RELEASE does not exist!⚠️ Warning: /content/frames_local/05989743279622606-BRAG does not exist!\n",
            "\n",
            "⚠️ Warning: /content/frames_local/6305949147206118-RESULT does not exist!\n",
            "⚠️ Warning: /content/frames_local/9379473305138752-PRACTICE does not exist!⚠️ Warning: /content/frames_local/3386508771148522-AUDITORIUM does not exist!\n",
            "\n",
            "⚠️ Warning: /content/frames_local/6001013634768533-SOON does not exist!\n",
            "⚠️ Warning: /content/frames_local/7011538933841202-ARREST does not exist!\n",
            "⚠️ Warning: /content/frames_local/6265779039000099-ONLY ONE does not exist!\n",
            "⚠️ Warning: /content/frames_local/24087375991749105-SNORKEL does not exist!⚠️ Warning: /content/frames_local/04776303954468353-SENATE does not exist!"
          ]
        },
        {
          "output_type": "stream",
          "name": "stderr",
          "text": [
            "\r  9%|▉         | 7410/83399 [00:47<11:15, 112.56it/s]"
          ]
        },
        {
          "output_type": "stream",
          "name": "stdout",
          "text": [
            "\n",
            "⚠️ Warning: /content/frames_local/7719630393586281-SPAIN does not exist!\n",
            "⚠️ Warning: /content/frames_local/34464379133186385-HARMONICA does not exist!\n",
            "⚠️ Warning: /content/frames_local/8016957954194635-SOCIALIZE does not exist!\n",
            "\n",
            "⚠️ Warning: /content/frames_local/6552158886314714-ACCESS does not exist!⚠️ Warning: /content/frames_local/024324990661805268-A LITTLE BIT does not exist!\n",
            "⚠️ Warning: /content/frames_local/1672984747329458-WELCOME 2 does not exist!\n",
            "\n",
            "⚠️ Warning: /content/frames_local/02904060375228812-ADMIT does not exist!\n",
            "⚠️ Warning: /content/frames_local/40711099193703437-GONE does not exist!⚠️ Warning: /content/frames_local/8041222634060368-BRAINWASH does not exist!\n",
            "⚠️ Warning: /content/frames_local/4646899322760236-POLICY does not exist!\n",
            "⚠️ Warning: /content/frames_local/982659604503249-TUESDAY does not exist!\n",
            "\n",
            "⚠️ Warning: /content/frames_local/4930439829655715-BLOW does not exist!⚠️ Warning: /content/frames_local/7701852395627957-NEAR does not exist!\n",
            "\n",
            "⚠️ Warning: /content/frames_local/6358919885002341-DOUBLE does not exist!⚠️ Warning: /content/frames_local/13586129614067355-RESIGN does not exist!\n",
            "\n"
          ]
        },
        {
          "output_type": "stream",
          "name": "stderr",
          "text": [
            "\r  9%|▉         | 7429/83399 [00:47<09:33, 132.35it/s]"
          ]
        },
        {
          "output_type": "stream",
          "name": "stdout",
          "text": [
            "⚠️ Warning: /content/frames_local/3169825479062436-UPSET does not exist!⚠️ Warning: /content/frames_local/06785649077538736-ASTRONAUT does not exist!\n",
            "\n",
            "⚠️ Warning: /content/frames_local/09913453419638785-PARAGRAPH does not exist!\n",
            "⚠️ Warning: /content/frames_local/014857058235491438-OPPORTUNITY does not exist!⚠️ Warning: /content/frames_local/9571454437144997-EARS UP does not exist!\n",
            "\n",
            "⚠️ Warning: /content/frames_local/2984988419943009-ERASE does not exist!⚠️ Warning: /content/frames_local/2479139168288551-STOPWATCH does not exist!\n",
            "\n",
            "⚠️ Warning: /content/frames_local/48128400392933024-MOTIVATION does not exist!⚠️ Warning: /content/frames_local/4409622909952027-NOT does not exist!\n",
            "⚠️ Warning: /content/frames_local/7422282992999518-REDUCE does not exist!\n",
            "\n",
            "⚠️ Warning: /content/frames_local/037721634877925014-SPECIAL does not exist!⚠️ Warning: /content/frames_local/33789633569338906-HE does not exist!\n",
            "⚠️ Warning: /content/frames_local/13589839587002306-ABSOLUTELY NOTHING does not exist!\n",
            "\n",
            "⚠️ Warning: /content/frames_local/6430839472381713-CUT REMOVE VID does not exist!⚠️ Warning: /content/frames_local/5048811727297111-DRESS UP does not exist!\n",
            "\n",
            "⚠️ Warning: /content/frames_local/33895321754132657-CONTACT LENS does not exist!⚠️ Warning: /content/frames_local/31275741122986744-AUNT does not exist!\n",
            "\n",
            "⚠️ Warning: /content/frames_local/9532061175494178-OR does not exist!⚠️ Warning: /content/frames_local/37990690968507157-ELEVATOR does not exist!\n"
          ]
        },
        {
          "output_type": "stream",
          "name": "stderr",
          "text": [
            "\r  9%|▉         | 7447/83399 [00:47<08:54, 142.17it/s]"
          ]
        },
        {
          "output_type": "stream",
          "name": "stdout",
          "text": [
            "\n",
            "⚠️ Warning: /content/frames_local/7087143226635837-ROAST does not exist!⚠️ Warning: /content/frames_local/77250752420299-CONSUME does not exist!\n",
            "\n",
            "⚠️ Warning: /content/frames_local/49857069324749426-SWEATPANTS does not exist!\n",
            "⚠️ Warning: /content/frames_local/4976399396285516-SAUCE does not exist!⚠️ Warning: /content/frames_local/6633126337086506-ABBREVIATE does not exist!\n",
            "\n",
            "⚠️ Warning: /content/frames_local/34302840022451897-CLEAN does not exist!⚠️ Warning: /content/frames_local/8241008958658391-DONT LIKE does not exist!\n",
            "\n",
            "⚠️ Warning: /content/frames_local/3104191676992716-ADD does not exist!⚠️ Warning: /content/frames_local/18844710989464053-GIVE UP does not exist!\n",
            "\n",
            "⚠️ Warning: /content/frames_local/7100091298694071-TEND YOUR does not exist!⚠️ Warning: /content/frames_local/2682841563949141-DESTROY does not exist!\n",
            "⚠️ Warning: /content/frames_local/8722811996707351-WASH HANDS does not exist!\n",
            "\n",
            "⚠️ Warning: /content/frames_local/1548829640257101-BRIGHT does not exist!\n",
            "⚠️ Warning: /content/frames_local/26701101932456806-SUSPEND does not exist!⚠️ Warning: /content/frames_local/10278180157731676-GOOSEBUMPS does not exist!\n",
            "\n",
            "⚠️ Warning: /content/frames_local/03778531631727455-ABOVE does not exist!⚠️ Warning: /content/frames_local/3223291889872615-SPEND does not exist!\n",
            "\n"
          ]
        },
        {
          "output_type": "stream",
          "name": "stderr",
          "text": [
            "\r  9%|▉         | 7464/83399 [00:47<08:42, 145.39it/s]"
          ]
        },
        {
          "output_type": "stream",
          "name": "stdout",
          "text": [
            "⚠️ Warning: /content/frames_local/3312243279939264-BARELY does not exist!⚠️ Warning: /content/frames_local/29555762073861835-TEMPER BLOW UP does not exist!\n",
            "\n",
            "⚠️ Warning: /content/frames_local/5020350227301826-PLUS does not exist!⚠️ Warning: /content/frames_local/07497172661740725-ALL DAY does not exist!\n",
            "⚠️ Warning: /content/frames_local/4642599331163948-WHAT FOR does not exist!\n",
            "\n",
            "⚠️ Warning: /content/frames_local/8581065635531102-LIVING ROOM does not exist!⚠️ Warning: /content/frames_local/304669290404888-DIFFERENT SITUATION does not exist!\n",
            "\n",
            "⚠️ Warning: /content/frames_local/40319875357391544-SAUSAGE does not exist!\n",
            "⚠️ Warning: /content/frames_local/26789889309049464-STAND-UP does not exist!⚠️ Warning: /content/frames_local/41800169443627677-FAIR does not exist!\n",
            "\n",
            "⚠️ Warning: /content/frames_local/3007460595082674-GUILLOTINE does not exist!\n",
            "⚠️ Warning: /content/frames_local/7891795552952088-ALL GONE does not exist!⚠️ Warning: /content/frames_local/49057612193538436-HANDSOME does not exist!\n",
            "⚠️ Warning: /content/frames_local/08296012412640685-PIZZA does not exist!\n",
            "⚠️ Warning: /content/frames_local/19151164097307016-CHARGE does not exist!\n",
            "⚠️ Warning: /content/frames_local/17784184622601784-TECHNOLOGY does not exist!\n"
          ]
        },
        {
          "output_type": "stream",
          "name": "stderr",
          "text": [
            "\r  9%|▉         | 7479/83399 [00:47<09:00, 140.53it/s]"
          ]
        },
        {
          "output_type": "stream",
          "name": "stdout",
          "text": [
            "⚠️ Warning: /content/frames_local/2045252510515796-ELEVATOR does not exist!\n",
            "\n",
            "⚠️ Warning: /content/frames_local/47938919974598626-HEARTBODY does not exist!\n",
            "⚠️ Warning: /content/frames_local/644567247658274-CHURN does not exist!⚠️ Warning: /content/frames_local/7041749238587562-COOL does not exist!\n",
            "\n",
            "⚠️ Warning: /content/frames_local/3983604819185971-WINTER does not exist!⚠️ Warning: /content/frames_local/15756748728620074-LONG WORD does not exist!\n",
            "\n",
            "⚠️ Warning: /content/frames_local/9503414410661455-SHAVE does not exist!⚠️ Warning: /content/frames_local/16340009074257966-WRING does not exist!\n",
            "⚠️ Warning: /content/frames_local/15099720470938216-SHOT does not exist!\n",
            "⚠️ Warning: /content/frames_local/2959459428914988-TRANSFER does not exist!\n",
            "\n",
            "⚠️ Warning: /content/frames_local/7901223049097243-DEPEND ON does not exist!⚠️ Warning: /content/frames_local/7262989198494958-LEATHER does not exist!\n",
            "\n",
            "⚠️ Warning: /content/frames_local/5252721491625478-SHELF does not exist!"
          ]
        },
        {
          "output_type": "stream",
          "name": "stderr",
          "text": [
            "\r  9%|▉         | 7494/83399 [00:48<09:44, 129.83it/s]"
          ]
        },
        {
          "output_type": "stream",
          "name": "stdout",
          "text": [
            "⚠️ Warning: /content/frames_local/2728397688746058-HOCKEY does not exist!\n",
            "⚠️ Warning: /content/frames_local/5996093063040984-HOTEL does not exist!\n",
            "⚠️ Warning: /content/frames_local/928567068902588-RESEARCH does not exist!\n",
            "⚠️ Warning: /content/frames_local/24021850952764545-LETTER 2 does not exist!\n",
            "\n",
            "⚠️ Warning: /content/frames_local/461439691273148-UPLOAD does not exist!⚠️ Warning: /content/frames_local/29443166750674754-KNEEL does not exist!\n",
            "\n",
            "⚠️ Warning: /content/frames_local/4437331114029728-JIGSAW PUZZLE does not exist!⚠️ Warning: /content/frames_local/39619576376688026-EYEGLASSES does not exist!\n",
            "\n",
            "⚠️ Warning: /content/frames_local/5899601062417543-SHIRT does not exist!⚠️ Warning: /content/frames_local/8284121541934637-PAPER does not exist!\n",
            "\n",
            "⚠️ Warning: /content/frames_local/6269312729761589-POLICEMAN does not exist!⚠️ Warning: /content/frames_local/17941818167798207-WOLF does not exist!\n",
            "⚠️ Warning: /content/frames_local/9877342104820683-PIE does not exist!\n",
            "⚠️ Warning: /content/frames_local/026451217948799677-TURTLE does not exist!\n",
            "\n",
            "⚠️ Warning: /content/frames_local/5888312804656828-WANDER does not exist!"
          ]
        },
        {
          "output_type": "stream",
          "name": "stderr",
          "text": [
            "\r  9%|▉         | 7508/83399 [00:48<10:35, 119.47it/s]"
          ]
        },
        {
          "output_type": "stream",
          "name": "stdout",
          "text": [
            "⚠️ Warning: /content/frames_local/823573890192592-STREET does not exist!\n",
            "⚠️ Warning: /content/frames_local/25413373086933655-READ does not exist!\n",
            "⚠️ Warning: /content/frames_local/6875155666898425-SURF does not exist!\n",
            "\n",
            "⚠️ Warning: /content/frames_local/5773845152272352-SHOWER does not exist!⚠️ Warning: /content/frames_local/47495313948748796-BIRD does not exist!\n",
            "⚠️ Warning: /content/frames_local/7923881015137861-MICROWAVE does not exist!\n",
            "\n",
            "⚠️ Warning: /content/frames_local/4881484984183111-PAINTBRUSH does not exist!\n",
            "⚠️ Warning: /content/frames_local/3234226820205719-EVALUATE does not exist!⚠️ Warning: /content/frames_local/22158687515690545-FISH does not exist!\n",
            "\n",
            "⚠️ Warning: /content/frames_local/49848661798514593-DRUM does not exist!⚠️ Warning: /content/frames_local/40211152148711093-SHOVEL does not exist!\n",
            "\n",
            "⚠️ Warning: /content/frames_local/4534989419314739-TOBACCO does not exist!\n",
            "⚠️ Warning: /content/frames_local/20107254818243003-GOAT does not exist!"
          ]
        },
        {
          "output_type": "stream",
          "name": "stderr",
          "text": [
            "\r  9%|▉         | 7521/83399 [00:48<10:33, 119.82it/s]"
          ]
        },
        {
          "output_type": "stream",
          "name": "stdout",
          "text": [
            "⚠️ Warning: /content/frames_local/739657249315989-BALLOON does not exist!\n",
            "\n",
            "⚠️ Warning: /content/frames_local/3296697712903005-NEUTRAL does not exist!⚠️ Warning: /content/frames_local/07356579695614074-RADIO does not exist!\n",
            "⚠️ Warning: /content/frames_local/8158900669037119-SHEEP does not exist!\n",
            "\n",
            "⚠️ Warning: /content/frames_local/42379838922256363-HISTORY does not exist!\n",
            "⚠️ Warning: /content/frames_local/20252855385277813-NECKLACE does not exist!⚠️ Warning: /content/frames_local/4301457450178825-DESERT does not exist!\n",
            "\n",
            "⚠️ Warning: /content/frames_local/6048978282251427-SOCKS does not exist!⚠️ Warning: /content/frames_local/45123388701503875-MAGAZINE does not exist!\n",
            "⚠️ Warning: /content/frames_local/6921933428234273-LION does not exist!\n",
            "\n",
            "⚠️ Warning: /content/frames_local/9054193437872764-BED does not exist!\n",
            "⚠️ Warning: /content/frames_local/2684182466497944-SHY does not exist!\n",
            "⚠️ Warning: /content/frames_local/06071790828062662-NIGHT does not exist!⚠️ Warning: /content/frames_local/07401593174590948-HEARING AID does not exist!\n",
            "\n",
            "⚠️ Warning: /content/frames_local/9058233579535975-CASTLE does not exist!⚠️ Warning: /content/frames_local/9956978444120923-MONKEY does not exist!\n",
            "⚠️ Warning: /content/frames_local/5794274407543545-PARACHUTE does not exist!\n",
            "\n",
            "⚠️ Warning: /content/frames_local/6166979968247137-STARS does not exist!\n",
            "⚠️ Warning: /content/frames_local/7431258748220873-BOWTIE does not exist!"
          ]
        },
        {
          "output_type": "stream",
          "name": "stderr",
          "text": [
            "\r  9%|▉         | 7539/83399 [00:48<09:24, 134.34it/s]"
          ]
        },
        {
          "output_type": "stream",
          "name": "stdout",
          "text": [
            "⚠️ Warning: /content/frames_local/5104829452326141-LEMON does not exist!\n",
            "⚠️ Warning: /content/frames_local/5456879145832718-SANDALS does not exist!\n",
            "⚠️ Warning: /content/frames_local/6236404891356016-KITE does not exist!\n",
            "\n",
            "⚠️ Warning: /content/frames_local/08365151717733399-DRAWER does not exist!⚠️ Warning: /content/frames_local/8018668876575192-CHAIR does not exist!\n",
            "\n",
            "⚠️ Warning: /content/frames_local/5726562392694212-TRASH does not exist!⚠️ Warning: /content/frames_local/453457252326652-WAITER does not exist!\n",
            "⚠️ Warning: /content/frames_local/18728365956046744-DEODORANT does not exist!\n",
            "⚠️ Warning: /content/frames_local/5360537085437711-STUDENT does not exist!\n",
            "\n",
            "⚠️ Warning: /content/frames_local/9669677469737437-ROLLERSKATING does not exist!⚠️ Warning: /content/frames_local/9703582186472639-PSYCHOLOGIST does not exist!\n",
            "\n",
            "⚠️ Warning: /content/frames_local/5064743227381254-RIVER does not exist!⚠️ Warning: /content/frames_local/26284109951140766-DEER does not exist!\n",
            "⚠️ Warning: /content/frames_local/29750273438307584-PANTS does not exist!\n",
            "⚠️ Warning: /content/frames_local/4348168367160372-LETTUCE does not exist!\n",
            "\n",
            "⚠️ Warning: /content/frames_local/5447794795807925-SWING does not exist!⚠️ Warning: /content/frames_local/033295161052134814-GORILLA does not exist!\n",
            "\n",
            "⚠️ Warning: /content/frames_local/45605816328347637-BRIDESMAID does not exist!\n",
            "⚠️ Warning: /content/frames_local/1670760746032347-POPCORN does not exist!⚠️ Warning: /content/frames_local/09262852546712663-CAMPING does not exist!"
          ]
        },
        {
          "output_type": "stream",
          "name": "stderr",
          "text": [
            "\r  9%|▉         | 7557/83399 [00:48<08:44, 144.59it/s]"
          ]
        },
        {
          "output_type": "stream",
          "name": "stdout",
          "text": [
            "\n",
            "\n",
            "⚠️ Warning: /content/frames_local/8652435202754121-PEACH does not exist!\n",
            "⚠️ Warning: /content/frames_local/9076368123838889-ELECTRICIAN does not exist!⚠️ Warning: /content/frames_local/7798731655047741-HAIR does not exist!\n",
            "\n",
            "⚠️ Warning: /content/frames_local/252845584646364-HOMEWORK does not exist!⚠️ Warning: /content/frames_local/3422484648437647-BRA does not exist!\n",
            "\n",
            "⚠️ Warning: /content/frames_local/5261480212755754-FISHING does not exist!\n",
            "⚠️ Warning: /content/frames_local/09615395295110063-SALAD does not exist!\n",
            "⚠️ Warning: /content/frames_local/44733542269552484-BLANKET does not exist!⚠️ Warning: /content/frames_local/6055503280403152-CUP does not exist!\n",
            "\n",
            "⚠️ Warning: /content/frames_local/8471556985210233-CANDY 1 does not exist!\n",
            "⚠️ Warning: /content/frames_local/5333736545136509-MOON does not exist!⚠️ Warning: /content/frames_local/1509754497401412-DOLPHIN does not exist!\n",
            "\n",
            "⚠️ Warning: /content/frames_local/7450468332790019-COUNSELOR does not exist!\n",
            "⚠️ Warning: /content/frames_local/9153895021494909-DORMITORY does not exist!⚠️ Warning: /content/frames_local/12111881657808277-SOAP does not exist!\n",
            "\n",
            "⚠️ Warning: /content/frames_local/18455742264480235-PILLOW does not exist!⚠️ Warning: /content/frames_local/8106294932578488-BRUSH does not exist!\n",
            "\n",
            "⚠️ Warning: /content/frames_local/5660033217923386-HORSE does not exist!\n"
          ]
        },
        {
          "output_type": "stream",
          "name": "stderr",
          "text": [
            "\r  9%|▉         | 7576/83399 [00:48<08:21, 151.05it/s]"
          ]
        },
        {
          "output_type": "stream",
          "name": "stdout",
          "text": [
            "⚠️ Warning: /content/frames_local/3101430290665197-COFFEE does not exist!⚠️ Warning: /content/frames_local/056400355701486715-ISLAND does not exist!\n",
            "\n",
            "⚠️ Warning: /content/frames_local/6948600777347704-MILK does not exist!⚠️ Warning: /content/frames_local/5539250198042152-DIAPER does not exist!\n",
            "\n",
            "⚠️ Warning: /content/frames_local/36730431023114196-DUMB does not exist!⚠️ Warning: /content/frames_local/27491735966108966-MOP does not exist!\n",
            "⚠️ Warning: /content/frames_local/9326064938968592-HUMBLE does not exist!\n",
            "\n",
            "⚠️ Warning: /content/frames_local/6700240514518068-ENGLISH does not exist!⚠️ Warning: /content/frames_local/4027189483502138-TIE does not exist!\n",
            "⚠️ Warning: /content/frames_local/5873513635993615-DINOSAUR does not exist!\n",
            "⚠️ Warning: /content/frames_local/4738849414471884-TABLE does not exist!\n",
            "\n",
            "⚠️ Warning: /content/frames_local/4524960204996631-POTATO does not exist!⚠️ Warning: /content/frames_local/9272041695850761-ANGEL does not exist!\n",
            "\n",
            "⚠️ Warning: /content/frames_local/6192611032317992-CHEAT 1 does not exist!⚠️ Warning: /content/frames_local/49212530571549884-MONTH does not exist!\n",
            "\n",
            "⚠️ Warning: /content/frames_local/7830052444646307-COMPUTER does not exist!\n",
            "⚠️ Warning: /content/frames_local/9511457426269809-DEVIL does not exist!\n",
            "⚠️ Warning: /content/frames_local/12747594243977467-CEREAL does not exist!"
          ]
        },
        {
          "output_type": "stream",
          "name": "stderr",
          "text": [
            "\r  9%|▉         | 7595/83399 [00:48<07:49, 161.52it/s]"
          ]
        },
        {
          "output_type": "stream",
          "name": "stdout",
          "text": [
            "⚠️ Warning: /content/frames_local/7853463914697276-DANCER does not exist!\n",
            "\n",
            "⚠️ Warning: /content/frames_local/4759027370536806-INSULT does not exist!⚠️ Warning: /content/frames_local/9558797383398827-LANGUAGE does not exist!\n",
            "\n",
            "⚠️ Warning: /content/frames_local/7519384486519904-NEPHEW does not exist!⚠️ Warning: /content/frames_local/9537471985667643-CAT does not exist!\n",
            "\n",
            "⚠️ Warning: /content/frames_local/8688524428430258-SANDWICH does not exist!⚠️ Warning: /content/frames_local/6631889208510438-ROOM does not exist!\n",
            "⚠️ Warning: /content/frames_local/9654484282818483-BOOK does not exist!\n",
            "⚠️ Warning: /content/frames_local/8796253936851424-SCIENTIST does not exist!\n",
            "\n",
            "⚠️ Warning: /content/frames_local/3392177140014594-SKIRT does not exist!⚠️ Warning: /content/frames_local/615401939411238-PROMISE does not exist!\n",
            "⚠️ Warning: /content/frames_local/7026288002195178-SPAGHETTI does not exist!\n",
            "⚠️ Warning: /content/frames_local/35452458247451935-PLUNGER does not exist!\n",
            "⚠️ Warning: /content/frames_local/5396130961810668-UMBRELLA does not exist!\n",
            "\n",
            "⚠️ Warning: /content/frames_local/3661719733633755-PEPPER does not exist!\n",
            "⚠️ Warning: /content/frames_local/9413650761160417-BAG does not exist!⚠️ Warning: /content/frames_local/35419950223647345-SCISSORS does not exist!\n",
            "\n",
            "⚠️ Warning: /content/frames_local/020833680749536176-CHANCE does not exist!⚠️ Warning: /content/frames_local/5465547474078216-RAZOR does not exist!\n",
            "\n",
            "⚠️ Warning: /content/frames_local/5865922934408465-CURTAIN does not exist!⚠️ Warning: /content/frames_local/2573567212961194-CLOUD does not exist!"
          ]
        },
        {
          "output_type": "stream",
          "name": "stderr",
          "text": [
            "\r  9%|▉         | 7615/83399 [00:48<07:36, 165.98it/s]"
          ]
        },
        {
          "output_type": "stream",
          "name": "stdout",
          "text": [
            "\n",
            "\n",
            "⚠️ Warning: /content/frames_local/6458249128463132-BUTTER does not exist!⚠️ Warning: /content/frames_local/12761454008737183-SHORTS does not exist!\n",
            "⚠️ Warning: /content/frames_local/5775598497820351-GRASS does not exist!\n",
            "\n",
            "⚠️ Warning: /content/frames_local/9915832304492436-BAKE 1 does not exist!\n",
            "⚠️ Warning: /content/frames_local/7062420275233134-FRENCHFRIES does not exist!⚠️ Warning: /content/frames_local/23270881944634803-ROCK does not exist!\n",
            "\n",
            "⚠️ Warning: /content/frames_local/7810757991546167-STRAWBERRY does not exist!⚠️ Warning: /content/frames_local/6422775984764562-PRIDE does not exist!\n",
            "⚠️ Warning: /content/frames_local/10351956164621146-ORANGE does not exist!\n",
            "\n",
            "⚠️ Warning: /content/frames_local/7823281141644003-BOWLING does not exist!⚠️ Warning: /content/frames_local/12289557940301776-SURGEON does not exist!\n",
            "\n",
            "⚠️ Warning: /content/frames_local/47124841081350866-TEACHER does not exist!⚠️ Warning: /content/frames_local/9900652983865832-WHISTLE does not exist!\n",
            "⚠️ Warning: /content/frames_local/04211245054867563-BREAD does not exist!\n",
            "\n"
          ]
        },
        {
          "output_type": "stream",
          "name": "stderr",
          "text": [
            "\r  9%|▉         | 7632/83399 [00:48<07:36, 165.95it/s]"
          ]
        },
        {
          "output_type": "stream",
          "name": "stdout",
          "text": [
            "⚠️ Warning: /content/frames_local/017793774420705954-PLAYGROUND does not exist!⚠️ Warning: /content/frames_local/20520709846041219-VERB does not exist!\n",
            "\n",
            "⚠️ Warning: /content/frames_local/3003855053500777-CARROT does not exist!\n",
            "⚠️ Warning: /content/frames_local/06241285368718952-CAFETERIA does not exist!⚠️ Warning: /content/frames_local/1600415559854731-CALENDAR does not exist!\n",
            "\n",
            "⚠️ Warning: /content/frames_local/6013827702613608-CLOWN does not exist!⚠️ Warning: /content/frames_local/5202537009308488-WITCH does not exist!\n",
            "\n",
            "⚠️ Warning: /content/frames_local/5209376155397227-MECHANIC does not exist!⚠️ Warning: /content/frames_local/017401765490364873-MOUNTAIN does not exist!\n",
            "⚠️ Warning: /content/frames_local/7203088293847169-BIOLOGY does not exist!\n",
            "\n",
            "⚠️ Warning: /content/frames_local/6012754258047444-BASEBALL does not exist!⚠️ Warning: /content/frames_local/27997499599534215-TENNIS does not exist!\n",
            "\n",
            "⚠️ Warning: /content/frames_local/6661236029318554-LIBRARY does not exist!⚠️ Warning: /content/frames_local/37495985182884195-ASIA does not exist!\n",
            "\n",
            "⚠️ Warning: /content/frames_local/7686049878087857-ICECREAM does not exist!⚠️ Warning: /content/frames_local/6785441343453371-LAZY does not exist!\n",
            "\n",
            "⚠️ Warning: /content/frames_local/17455031765890983-FIREMAN does not exist!⚠️ Warning: /content/frames_local/9041235595870643-GUITAR does not exist!\n",
            "\n"
          ]
        },
        {
          "output_type": "stream",
          "name": "stderr",
          "text": [
            "\r  9%|▉         | 7649/83399 [00:49<07:40, 164.54it/s]"
          ]
        },
        {
          "output_type": "stream",
          "name": "stdout",
          "text": [
            "⚠️ Warning: /content/frames_local/25619594638323506-GLOVE does not exist!⚠️ Warning: /content/frames_local/9364657945199197-GARAGE does not exist!\n",
            "\n",
            "⚠️ Warning: /content/frames_local/7788052439740552-HAT does not exist!⚠️ Warning: /content/frames_local/003572310576983817-AFRICA does not exist!\n",
            "\n",
            "⚠️ Warning: /content/frames_local/11205794150742787-ACTOR does not exist!⚠️ Warning: /content/frames_local/08746223650474994-FLOWER does not exist!\n",
            "\n",
            "⚠️ Warning: /content/frames_local/3859461439503118-HEAVEN does not exist!⚠️ Warning: /content/frames_local/8520623297826346-EGG does not exist!\n",
            "\n",
            "⚠️ Warning: /content/frames_local/1437266736563394-SOUP does not exist!⚠️ Warning: /content/frames_local/6866550839956747-WINDOW does not exist!\n",
            "\n",
            "⚠️ Warning: /content/frames_local/37449596908342864-WHIP does not exist!⚠️ Warning: /content/frames_local/3795844110844775-PAPERCUTTER does not exist!\n",
            "⚠️ Warning: /content/frames_local/839519243436097-HUNT does not exist!\n",
            "\n",
            "⚠️ Warning: /content/frames_local/6472313633496187-SOME does not exist!⚠️ Warning: /content/frames_local/0982555979617683-SHRIMP does not exist!\n",
            "\n",
            "⚠️ Warning: /content/frames_local/4088215378946698-PRINT does not exist!⚠️ Warning: /content/frames_local/03197771323074128-BATHROOM does not exist!\n",
            "\n"
          ]
        },
        {
          "output_type": "stream",
          "name": "stderr",
          "text": [
            "\r  9%|▉         | 7666/83399 [00:49<07:43, 163.23it/s]"
          ]
        },
        {
          "output_type": "stream",
          "name": "stdout",
          "text": [
            "⚠️ Warning: /content/frames_local/23506680210136688-COCONUT does not exist!\n",
            "⚠️ Warning: /content/frames_local/07732491134988506-UNDERWEAR does not exist!\n",
            "⚠️ Warning: /content/frames_local/2179745014793646-PILL does not exist!\n",
            "⚠️ Warning: /content/frames_local/623613771693494-SHOULDER does not exist!⚠️ Warning: /content/frames_local/11354289366877546-STAIRS does not exist!\n",
            "\n",
            "⚠️ Warning: /content/frames_local/8921756406981591-BANANA does not exist!⚠️ Warning: /content/frames_local/43053145519165836-DOOR does not exist!\n",
            "⚠️ Warning: /content/frames_local/4024984727651224-STAR does not exist!\n",
            "\n",
            "⚠️ Warning: /content/frames_local/0964061580410076-FOX does not exist!⚠️ Warning: /content/frames_local/1011195427541709-EGYPT does not exist!\n",
            "\n",
            "⚠️ Warning: /content/frames_local/05329370474081552-SHOP 1 does not exist!⚠️ Warning: /content/frames_local/164371234085251-GULLIBLE does not exist!\n",
            "⚠️ Warning: /content/frames_local/08235618612753082-CLEAR does not exist!\n",
            "⚠️ Warning: /content/frames_local/20739960328931106-NAME does not exist!\n",
            "\n",
            "⚠️ Warning: /content/frames_local/5652953258425217-SKATE does not exist!⚠️ Warning: /content/frames_local/8963793717239534-RED does not exist!\n",
            "⚠️ Warning: /content/frames_local/709117542237844-DISAPPEAR does not exist!\n",
            "⚠️ Warning: /content/frames_local/8158158194148912-STRANGE does not exist!\n",
            "\n"
          ]
        },
        {
          "output_type": "stream",
          "name": "stderr",
          "text": [
            "\r  9%|▉         | 7684/83399 [00:49<07:39, 164.62it/s]"
          ]
        },
        {
          "output_type": "stream",
          "name": "stdout",
          "text": [
            "⚠️ Warning: /content/frames_local/6659679903660016-FRIENDLY does not exist!⚠️ Warning: /content/frames_local/653467965832647-PAIN does not exist!\n",
            "\n",
            "⚠️ Warning: /content/frames_local/41986547104124017-WHY does not exist!⚠️ Warning: /content/frames_local/2875689535546917-GREECE does not exist!\n",
            "⚠️ Warning: /content/frames_local/903443285947815-BOWL does not exist!\n",
            "⚠️ Warning: /content/frames_local/5540096886150743-HUSBAND does not exist!\n",
            "\n",
            "⚠️ Warning: /content/frames_local/9596726805305154-UNIVERSITY does not exist!\n",
            "⚠️ Warning: /content/frames_local/18354484312293273-9 OCLOCK does not exist!⚠️ Warning: /content/frames_local/27162927104644186-APPEAR does not exist!\n",
            "\n",
            "⚠️ Warning: /content/frames_local/8298571998667756-FUTURE does not exist!\n",
            "⚠️ Warning: /content/frames_local/22124405715879414-LIGHTER does not exist!\n",
            "⚠️ Warning: /content/frames_local/2756005247541924-MOTORCYCLE does not exist!⚠️ Warning: /content/frames_local/9208874778336229-FALL 2 does not exist!\n",
            "⚠️ Warning: /content/frames_local/04692550550323449-CHANNEL does not exist!\n",
            "⚠️ Warning: /content/frames_local/6893650826247844-COCACOLA does not exist!\n",
            "\n",
            "⚠️ Warning: /content/frames_local/7605610948198469-COVER UP does not exist!⚠️ Warning: /content/frames_local/9321058672622045-MOVIE does not exist!\n",
            "\n",
            "⚠️ Warning: /content/frames_local/7613696736100914-HELLO does not exist!\n"
          ]
        },
        {
          "output_type": "stream",
          "name": "stderr",
          "text": [
            "\r  9%|▉         | 7701/83399 [00:49<07:38, 165.11it/s]"
          ]
        },
        {
          "output_type": "stream",
          "name": "stdout",
          "text": [
            "\n",
            "⚠️ Warning: /content/frames_local/007182838837573646-STOMACH does not exist!⚠️ Warning: /content/frames_local/06202014640677733-FRAUD does not exist!\n",
            "⚠️ Warning: /content/frames_local/46631447508701784-ZOOM OFF does not exist!\n",
            "⚠️ Warning: /content/frames_local/7634950601910355-MONDAY does not exist!⚠️ Warning: /content/frames_local/7524645430552388-WHEN does not exist!\n",
            "⚠️ Warning: /content/frames_local/27958892475002783-ADDRESS does not exist!\n",
            "\n",
            "⚠️ Warning: /content/frames_local/12938969158513292-SMILE does not exist!⚠️ Warning: /content/frames_local/6660647975874749-THANKSGIVING does not exist!\n",
            "⚠️ Warning: /content/frames_local/9761698714288887-FLOOR does not exist!\n",
            "⚠️ Warning: /content/frames_local/7587175918928932-HOPE does not exist!\n",
            "\n",
            "⚠️ Warning: /content/frames_local/07873167158396233-LATER does not exist!⚠️ Warning: /content/frames_local/2337406249767373-KISS does not exist!\n",
            "\n",
            "⚠️ Warning: /content/frames_local/5759077788033364-ROPE does not exist!⚠️ Warning: /content/frames_local/46872059376636366-CAN does not exist!\n",
            "\n",
            "⚠️ Warning: /content/frames_local/5788711636103818-ENVELOPE does not exist!\n",
            "⚠️ Warning: /content/frames_local/061096473686770514-RESTAURANT does not exist!\n"
          ]
        },
        {
          "output_type": "stream",
          "name": "stderr",
          "text": [
            "\r  9%|▉         | 7719/83399 [00:49<07:30, 168.05it/s]"
          ]
        },
        {
          "output_type": "stream",
          "name": "stdout",
          "text": [
            "⚠️ Warning: /content/frames_local/1823637635134372-INSURANCE does not exist!⚠️ Warning: /content/frames_local/9518319343604182-SAW does not exist!\n",
            "⚠️ Warning: /content/frames_local/4665161320096789-THERE does not exist!\n",
            "\n",
            "⚠️ Warning: /content/frames_local/338594009176699-SMART does not exist!⚠️ Warning: /content/frames_local/8402278087828263-CONFIDENT does not exist!\n",
            "\n",
            "⚠️ Warning: /content/frames_local/5547769757240029-YOU does not exist!⚠️ Warning: /content/frames_local/6827072101730485-TOAST does not exist!\n",
            "⚠️ Warning: /content/frames_local/5460491618203533-SING does not exist!\n",
            "\n",
            "⚠️ Warning: /content/frames_local/17128004592062318-MOVE does not exist!\n",
            "⚠️ Warning: /content/frames_local/7906301818103507-TEASE does not exist!⚠️ Warning: /content/frames_local/9834129965887779-SHIELD does not exist!\n",
            "⚠️ Warning: /content/frames_local/5904051759635895-FLIP SWITCH does not exist!\n",
            "\n",
            "⚠️ Warning: /content/frames_local/20462663645123613-NOT INTERESTED does not exist!\n",
            "⚠️ Warning: /content/frames_local/4985681009166336-BASIC does not exist!⚠️ Warning: /content/frames_local/9061460903708245-SSHH does not exist!\n",
            "\n",
            "⚠️ Warning: /content/frames_local/1671369604182955-NOISE does not exist!⚠️ Warning: /content/frames_local/6237316658462655-CONTINUE does not exist!\n",
            "⚠️ Warning: /content/frames_local/7981399281502242-SMELL does not exist!\n"
          ]
        },
        {
          "output_type": "stream",
          "name": "stderr",
          "text": [
            "\r  9%|▉         | 7736/83399 [00:49<07:54, 159.51it/s]"
          ]
        },
        {
          "output_type": "stream",
          "name": "stdout",
          "text": [
            "\n",
            "⚠️ Warning: /content/frames_local/1567605325168595-FAR does not exist!⚠️ Warning: /content/frames_local/633464020430156-HORRIBLE does not exist!\n",
            "\n",
            "⚠️ Warning: /content/frames_local/08758415349864745-OUT does not exist!\n",
            "⚠️ Warning: /content/frames_local/7896700330944251-DEMAND does not exist!⚠️ Warning: /content/frames_local/29173298416034354-PRESS IN_MIND does not exist!\n",
            "⚠️ Warning: /content/frames_local/47363744282826903-CONTACT does not exist!\n"
          ]
        },
        {
          "output_type": "stream",
          "name": "stderr",
          "text": [
            "\r  9%|▉         | 7742/83399 [00:49<08:05, 155.89it/s]"
          ]
        },
        {
          "output_type": "stream",
          "name": "stdout",
          "text": [
            "⚠️ Warning: /content/frames_local/7487799802593937-HURT does not exist!"
          ]
        },
        {
          "output_type": "stream",
          "name": "stderr",
          "text": [
            "Process ForkPoolWorker-2:\n",
            "Process ForkPoolWorker-1:\n",
            "\n"
          ]
        },
        {
          "output_type": "error",
          "ename": "KeyboardInterrupt",
          "evalue": "",
          "traceback": [
            "\u001b[0;31m---------------------------------------------------------------------------\u001b[0m",
            "\u001b[0;31mIndexError\u001b[0m                                Traceback (most recent call last)",
            "\u001b[0;32m/usr/lib/python3.11/multiprocessing/pool.py\u001b[0m in \u001b[0;36mnext\u001b[0;34m(self, timeout)\u001b[0m\n\u001b[1;32m    855\u001b[0m             \u001b[0;32mtry\u001b[0m\u001b[0;34m:\u001b[0m\u001b[0;34m\u001b[0m\u001b[0;34m\u001b[0m\u001b[0m\n\u001b[0;32m--> 856\u001b[0;31m                 \u001b[0mitem\u001b[0m \u001b[0;34m=\u001b[0m \u001b[0mself\u001b[0m\u001b[0;34m.\u001b[0m\u001b[0m_items\u001b[0m\u001b[0;34m.\u001b[0m\u001b[0mpopleft\u001b[0m\u001b[0;34m(\u001b[0m\u001b[0;34m)\u001b[0m\u001b[0;34m\u001b[0m\u001b[0;34m\u001b[0m\u001b[0m\n\u001b[0m\u001b[1;32m    857\u001b[0m             \u001b[0;32mexcept\u001b[0m \u001b[0mIndexError\u001b[0m\u001b[0;34m:\u001b[0m\u001b[0;34m\u001b[0m\u001b[0;34m\u001b[0m\u001b[0m\n",
            "\u001b[0;31mIndexError\u001b[0m: pop from an empty deque",
            "\nDuring handling of the above exception, another exception occurred:\n",
            "\u001b[0;31mKeyboardInterrupt\u001b[0m                         Traceback (most recent call last)",
            "\u001b[0;32m<ipython-input-5-26ff9984dcc7>\u001b[0m in \u001b[0;36m<cell line: 0>\u001b[0;34m()\u001b[0m\n\u001b[1;32m     49\u001b[0m \u001b[0;34m\u001b[0m\u001b[0m\n\u001b[1;32m     50\u001b[0m \u001b[0;32mwith\u001b[0m \u001b[0mPool\u001b[0m\u001b[0;34m(\u001b[0m\u001b[0mnum_workers\u001b[0m\u001b[0;34m)\u001b[0m \u001b[0;32mas\u001b[0m \u001b[0mp\u001b[0m\u001b[0;34m:\u001b[0m\u001b[0;34m\u001b[0m\u001b[0;34m\u001b[0m\u001b[0m\n\u001b[0;32m---> 51\u001b[0;31m     \u001b[0mlist\u001b[0m\u001b[0;34m(\u001b[0m\u001b[0mtqdm\u001b[0m\u001b[0;34m(\u001b[0m\u001b[0mp\u001b[0m\u001b[0;34m.\u001b[0m\u001b[0mimap_unordered\u001b[0m\u001b[0;34m(\u001b[0m\u001b[0mmove_single_video\u001b[0m\u001b[0;34m,\u001b[0m \u001b[0mall_videos\u001b[0m\u001b[0;34m)\u001b[0m\u001b[0;34m,\u001b[0m \u001b[0mtotal\u001b[0m\u001b[0;34m=\u001b[0m\u001b[0mlen\u001b[0m\u001b[0;34m(\u001b[0m\u001b[0mall_videos\u001b[0m\u001b[0;34m)\u001b[0m\u001b[0;34m)\u001b[0m\u001b[0;34m)\u001b[0m\u001b[0;34m\u001b[0m\u001b[0;34m\u001b[0m\u001b[0m\n\u001b[0m\u001b[1;32m     52\u001b[0m \u001b[0;34m\u001b[0m\u001b[0m\n\u001b[1;32m     53\u001b[0m \u001b[0;31m# === NEW: After moving, report how many missing\u001b[0m\u001b[0;34m\u001b[0m\u001b[0;34m\u001b[0m\u001b[0m\n",
            "\u001b[0;32m/usr/local/lib/python3.11/dist-packages/tqdm/std.py\u001b[0m in \u001b[0;36m__iter__\u001b[0;34m(self)\u001b[0m\n\u001b[1;32m   1179\u001b[0m \u001b[0;34m\u001b[0m\u001b[0m\n\u001b[1;32m   1180\u001b[0m         \u001b[0;32mtry\u001b[0m\u001b[0;34m:\u001b[0m\u001b[0;34m\u001b[0m\u001b[0;34m\u001b[0m\u001b[0m\n\u001b[0;32m-> 1181\u001b[0;31m             \u001b[0;32mfor\u001b[0m \u001b[0mobj\u001b[0m \u001b[0;32min\u001b[0m \u001b[0miterable\u001b[0m\u001b[0;34m:\u001b[0m\u001b[0;34m\u001b[0m\u001b[0;34m\u001b[0m\u001b[0m\n\u001b[0m\u001b[1;32m   1182\u001b[0m                 \u001b[0;32myield\u001b[0m \u001b[0mobj\u001b[0m\u001b[0;34m\u001b[0m\u001b[0;34m\u001b[0m\u001b[0m\n\u001b[1;32m   1183\u001b[0m                 \u001b[0;31m# Update and possibly print the progressbar.\u001b[0m\u001b[0;34m\u001b[0m\u001b[0;34m\u001b[0m\u001b[0m\n",
            "\u001b[0;32m/usr/lib/python3.11/multiprocessing/pool.py\u001b[0m in \u001b[0;36mnext\u001b[0;34m(self, timeout)\u001b[0m\n\u001b[1;32m    859\u001b[0m                     \u001b[0mself\u001b[0m\u001b[0;34m.\u001b[0m\u001b[0m_pool\u001b[0m \u001b[0;34m=\u001b[0m \u001b[0;32mNone\u001b[0m\u001b[0;34m\u001b[0m\u001b[0;34m\u001b[0m\u001b[0m\n\u001b[1;32m    860\u001b[0m                     \u001b[0;32mraise\u001b[0m \u001b[0mStopIteration\u001b[0m \u001b[0;32mfrom\u001b[0m \u001b[0;32mNone\u001b[0m\u001b[0;34m\u001b[0m\u001b[0;34m\u001b[0m\u001b[0m\n\u001b[0;32m--> 861\u001b[0;31m                 \u001b[0mself\u001b[0m\u001b[0;34m.\u001b[0m\u001b[0m_cond\u001b[0m\u001b[0;34m.\u001b[0m\u001b[0mwait\u001b[0m\u001b[0;34m(\u001b[0m\u001b[0mtimeout\u001b[0m\u001b[0;34m)\u001b[0m\u001b[0;34m\u001b[0m\u001b[0;34m\u001b[0m\u001b[0m\n\u001b[0m\u001b[1;32m    862\u001b[0m                 \u001b[0;32mtry\u001b[0m\u001b[0;34m:\u001b[0m\u001b[0;34m\u001b[0m\u001b[0;34m\u001b[0m\u001b[0m\n\u001b[1;32m    863\u001b[0m                     \u001b[0mitem\u001b[0m \u001b[0;34m=\u001b[0m \u001b[0mself\u001b[0m\u001b[0;34m.\u001b[0m\u001b[0m_items\u001b[0m\u001b[0;34m.\u001b[0m\u001b[0mpopleft\u001b[0m\u001b[0;34m(\u001b[0m\u001b[0;34m)\u001b[0m\u001b[0;34m\u001b[0m\u001b[0;34m\u001b[0m\u001b[0m\n",
            "\u001b[0;32m/usr/lib/python3.11/threading.py\u001b[0m in \u001b[0;36mwait\u001b[0;34m(self, timeout)\u001b[0m\n\u001b[1;32m    325\u001b[0m         \u001b[0;32mtry\u001b[0m\u001b[0;34m:\u001b[0m    \u001b[0;31m# restore state no matter what (e.g., KeyboardInterrupt)\u001b[0m\u001b[0;34m\u001b[0m\u001b[0;34m\u001b[0m\u001b[0m\n\u001b[1;32m    326\u001b[0m             \u001b[0;32mif\u001b[0m \u001b[0mtimeout\u001b[0m \u001b[0;32mis\u001b[0m \u001b[0;32mNone\u001b[0m\u001b[0;34m:\u001b[0m\u001b[0;34m\u001b[0m\u001b[0;34m\u001b[0m\u001b[0m\n\u001b[0;32m--> 327\u001b[0;31m                 \u001b[0mwaiter\u001b[0m\u001b[0;34m.\u001b[0m\u001b[0macquire\u001b[0m\u001b[0;34m(\u001b[0m\u001b[0;34m)\u001b[0m\u001b[0;34m\u001b[0m\u001b[0;34m\u001b[0m\u001b[0m\n\u001b[0m\u001b[1;32m    328\u001b[0m                 \u001b[0mgotit\u001b[0m \u001b[0;34m=\u001b[0m \u001b[0;32mTrue\u001b[0m\u001b[0;34m\u001b[0m\u001b[0;34m\u001b[0m\u001b[0m\n\u001b[1;32m    329\u001b[0m             \u001b[0;32melse\u001b[0m\u001b[0;34m:\u001b[0m\u001b[0;34m\u001b[0m\u001b[0;34m\u001b[0m\u001b[0m\n",
            "\u001b[0;31mKeyboardInterrupt\u001b[0m: "
          ]
        }
      ]
    },
    {
      "cell_type": "code",
      "source": [
        "drive.flush_and_unmount()\n",
        "drive.mount('/content/drive')"
      ],
      "metadata": {
        "colab": {
          "base_uri": "https://localhost:8080/"
        },
        "id": "AKbYR2sb07D5",
        "outputId": "e8d9d6b2-d53d-4ba2-c1f8-a5ce11d6d078"
      },
      "execution_count": null,
      "outputs": [
        {
          "output_type": "stream",
          "name": "stdout",
          "text": [
            "Mounted at /content/drive\n"
          ]
        }
      ]
    },
    {
      "cell_type": "code",
      "source": [
        "import os\n",
        "import shutil\n",
        "import pandas as pd\n",
        "from tqdm import tqdm\n",
        "from multiprocessing import Pool\n",
        "\n",
        "# === Paths\n",
        "frames_root = '/content/drive/MyDrive/frames'  # <-- work directly from Drive\n",
        "dataset_root = '/content/drive/MyDrive/dataset'  # <-- split inside Drive\n",
        "\n",
        "# Create train/val/test folders\n",
        "for split in ['train', 'val', 'test']:\n",
        "    os.makedirs(os.path.join(dataset_root, split), exist_ok=True)\n",
        "\n",
        "# === Load CSVs\n",
        "train_videos = pd.read_csv('/content/drive/MyDrive/splits/train.csv')\n",
        "val_videos = pd.read_csv('/content/drive/MyDrive/splits/val.csv')\n",
        "test_videos = pd.read_csv('/content/drive/MyDrive/splits/test.csv')\n",
        "\n",
        "# === Get video lists (remove \".mp4\" extension)\n",
        "train_list = [os.path.splitext(x)[0] for x in train_videos['Video file'].tolist()]\n",
        "val_list = [os.path.splitext(x)[0] for x in val_videos['Video file'].tolist()]\n",
        "test_list = [os.path.splitext(x)[0] for x in test_videos['Video file'].tolist()]\n",
        "\n",
        "# Combine all needed moves\n",
        "all_videos = [(v, 'train') for v in train_list] + \\\n",
        "             [(v, 'val') for v in val_list] + \\\n",
        "             [(v, 'test') for v in test_list]\n",
        "\n",
        "# === Move each video folder directly on Drive\n",
        "# Add missing counter\n",
        "from multiprocessing import Value, Lock\n",
        "\n",
        "missing_counter = Value('i', 0)\n",
        "counter_lock = Lock()\n",
        "\n",
        "def move_single_video(args):\n",
        "    video_name, split_name = args\n",
        "    src = os.path.join(frames_root, video_name)\n",
        "    dst = os.path.join(dataset_root, split_name, video_name)\n",
        "\n",
        "    if os.path.exists(src):\n",
        "        try:\n",
        "            shutil.copytree(src, dst)\n",
        "        except Exception as e:\n",
        "            print(f\"❗ Error moving {video_name}: {e}\")\n",
        "    else:\n",
        "        print(f\"⚠️ Warning: {src} does not exist!\")\n",
        "        with counter_lock:\n",
        "            missing_counter.value += 1\n",
        "\n",
        "# Multiprocessing with careful number of workers (small to avoid Drive throttling)\n",
        "print(\"🚀 Splitting dataset into train/val/test directly on Drive...\")\n",
        "num_workers = 2  # Safe for Drive access\n",
        "\n",
        "with Pool(num_workers) as p:\n",
        "    list(tqdm(p.imap_unordered(move_single_video, all_videos), total=len(all_videos)))\n",
        "\n",
        "print(f\"⚡ Total missing videos: {missing_counter.value}\")\n",
        "print(\"✅ Done splitting dataset directly on Drive!\")\n"
      ],
      "metadata": {
        "colab": {
          "base_uri": "https://localhost:8080/"
        },
        "id": "mqlGShtuxotA",
        "outputId": "76cd9cec-a810-4fdb-9985-0b8b44b31b7f"
      },
      "execution_count": null,
      "outputs": [
        {
          "output_type": "stream",
          "name": "stdout",
          "text": [
            "🚀 Splitting dataset into train/val/test directly on Drive...\n"
          ]
        },
        {
          "output_type": "stream",
          "name": "stderr",
          "text": [
            " 91%|█████████ | 76088/83399 [11:53:27<1:51:07,  1.10it/s]"
          ]
        }
      ]
    }
  ]
}